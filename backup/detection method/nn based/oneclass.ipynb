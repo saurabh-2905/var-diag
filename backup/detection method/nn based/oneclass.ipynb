{
 "cells": [
  {
   "cell_type": "code",
   "execution_count": null,
   "metadata": {},
   "outputs": [],
   "source": []
  },
  {
   "cell_type": "markdown",
   "metadata": {},
   "source": [
    "### One Class SVM"
   ]
  },
  {
   "cell_type": "code",
   "execution_count": null,
   "metadata": {},
   "outputs": [],
   "source": [
    "from sklearn.svm import OneClassSVM\n",
    "from sklearn.preprocessing import StandardScaler\n",
    "\n",
    "# Assuming 'normal_subtraces' is a NumPy array containing the normal subtraces\n",
    "\n",
    "# Standardize the data\n",
    "scaler = StandardScaler()\n",
    "normal_subtraces_standardized = scaler.fit_transform(normal_subtraces)\n",
    "\n",
    "# Train the One-Class SVM model\n",
    "model = OneClassSVM(nu=0.05, kernel='rbf', gamma='scale')  # Adjust 'nu' based on your data\n",
    "model.fit(normal_subtraces_standardized)"
   ]
  },
  {
   "cell_type": "code",
   "execution_count": null,
   "metadata": {},
   "outputs": [],
   "source": [
    "# Assuming 'anomalies_subtraces' is a NumPy array containing the anomalies subtraces\n",
    "# Standardize the anomalies subtraces\n",
    "anomalies_subtraces_standardized = scaler.transform(anomalies_subtraces)\n",
    "\n",
    "# Predict the labels (1 for normal, -1 for anomalies) on anomalies subtraces\n",
    "predictions = model.predict(anomalies_subtraces_standardized)\n",
    "\n",
    "# Anomalies are instances where the predicted label is -1\n",
    "anomalies_indices = np.where(predictions == -1)[0]\n",
    "print(\"Anomalies Detected Indices:\", anomalies_indices)"
   ]
  },
  {
   "cell_type": "code",
   "execution_count": null,
   "metadata": {},
   "outputs": [],
   "source": [
    "################ Evaluation ################\n",
    "\n",
    "from sklearn.metrics import precision_score, recall_score, f1_score\n",
    "from sklearn.metrics import roc_auc_score\n",
    "\n",
    "# Assuming 'true_labels' are the true labels for anomalies (1 for normal, -1 for anomalies)\n",
    "true_labels = np.ones(len(anomalies_subtraces))  # Assuming all are normal initially\n",
    "true_labels[anomalies_indices] = -1  # Mark anomalies as -1\n",
    "\n",
    "# Calculate precision, recall, and F1-score\n",
    "precision = precision_score(true_labels, predictions)\n",
    "recall = recall_score(true_labels, predictions)\n",
    "f1 = f1_score(true_labels, predictions)\n",
    "\n",
    "print(\"Precision:\", precision)\n",
    "print(\"Recall:\", recall)\n",
    "print(\"F1-Score:\", f1)\n",
    "\n",
    "\n",
    "################ ROC AUC ################\n",
    "\n",
    "# Calculate ROC AUC score\n",
    "roc_auc = roc_auc_score(true_labels, predictions)\n",
    "print(\"ROC AUC Score:\", roc_auc)\n"
   ]
  }
 ],
 "metadata": {
  "language_info": {
   "name": "python"
  }
 },
 "nbformat": 4,
 "nbformat_minor": 2
}
