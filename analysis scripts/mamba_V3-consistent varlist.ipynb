{
 "cells": [
  {
   "cell_type": "code",
   "execution_count": null,
   "metadata": {},
   "outputs": [],
   "source": [
    "import os\n",
    "from libv3.utils import *\n",
    "import pandas as pd\n",
    "import json"
   ]
  },
  {
   "cell_type": "code",
   "execution_count": null,
   "metadata": {},
   "outputs": [],
   "source": [
    "#### paths to all files\n",
    "normal_vpath = '/Users/saurabh/Documents/Nextcloud/work/Phd tasks/diagnosis tool/trace_data/mamba2/single_thread/version_3/normal/varlist_trial3.json'\n",
    "\n",
    "faulty1_tpath = '/Users/saurabh/Documents/Nextcloud/work/Phd tasks/diagnosis tool/trace_data/mamba2/single_thread/version_3/faulty_data/trace_trial1'\n",
    "faulty2_tpath = '/Users/saurabh/Documents/Nextcloud/work/Phd tasks/diagnosis tool/trace_data/mamba2/single_thread/version_3/faulty_data/trace_trial2'\n",
    "faulty3_tpath = '/Users/saurabh/Documents/Nextcloud/work/Phd tasks/diagnosis tool/trace_data/mamba2/single_thread/version_3/faulty_data/trace_trial3'\n",
    "faulty4_tpath = '/Users/saurabh/Documents/Nextcloud/work/Phd tasks/diagnosis tool/trace_data/mamba2/single_thread/version_3/faulty_data/trace_trial4'\n",
    "\n",
    "faulty1_vpath = '../trace_data/mamba2/single_thread/version_3/faulty_data/varlist_trial1.json'\n",
    "faulty2_vpath = '../trace_data/mamba2/single_thread/version_3/faulty_data/varlist_trial2.json'\n",
    "faulty3_vpath = '../trace_data/mamba2/single_thread/version_3/faulty_data/varlist_trial3.json'\n",
    "faulty4_vpath = '../trace_data/mamba2/single_thread/version_3/faulty_data/varlist_trial4.json'\n",
    "\n",
    "normal1_tpath = '/Users/saurabh/Documents/Nextcloud/work/Phd tasks/diagnosis tool/trace_data/mamba2/single_thread/version_3/normal/trace_trial1'\n",
    "normal2_tpath = '/Users/saurabh/Documents/Nextcloud/work/Phd tasks/diagnosis tool/trace_data/mamba2/single_thread/version_3/normal/trace_trial2'\n",
    "normal3_tpath = '/Users/saurabh/Documents/Nextcloud/work/Phd tasks/diagnosis tool/trace_data/mamba2/single_thread/version_3/normal/trace_trial3'\n",
    "\n",
    "normal1_vpath = '../trace_data/mamba2/single_thread/version_3/normal/varlist_trial1.json'\n",
    "normal2_vpath = '../trace_data/mamba2/single_thread/version_3/normal/varlist_trial2.json'\n",
    "normal3_vpath = '../trace_data/mamba2/single_thread/version_3/normal/varlist_trial3.json'\n"
   ]
  },
  {
   "cell_type": "code",
   "execution_count": null,
   "metadata": {},
   "outputs": [],
   "source": [
    "#### load varlist for normal trace\n",
    "normal_to_number = read_json(normal_vpath)\n",
    "\n",
    "if normal_to_number != False:\n",
    "    normal_from_number = mapint2var(normal_to_number)"
   ]
  },
  {
   "cell_type": "code",
   "execution_count": null,
   "metadata": {},
   "outputs": [],
   "source": [
    "len(normal_from_number)"
   ]
  },
  {
   "cell_type": "code",
   "execution_count": null,
   "metadata": {},
   "outputs": [],
   "source": [
    "#### load faulty1 trace and varlist\n",
    "paths_to_varlist = [\n",
    "                    # faulty1_vpath,\n",
    "                    faulty2_vpath,\n",
    "                    faulty3_vpath, \n",
    "                    faulty4_vpath,\n",
    "                    normal1_vpath,\n",
    "                    normal2_vpath,\n",
    "                    normal3_vpath\n",
    "                    ]\n",
    "paths_to_trace = [\n",
    "                    # faulty1_tpath, \n",
    "                  faulty2_tpath, \n",
    "                  faulty3_tpath, \n",
    "                  faulty4_tpath,\n",
    "                    normal1_tpath,\n",
    "                    normal2_tpath,\n",
    "                    normal3_tpath\n",
    "                  ]\n",
    "\n",
    "\n",
    "\n",
    "for path_to_varlist, path_to_trace in zip(paths_to_varlist, paths_to_trace):\n",
    "    ### check if pair of trace and varlist correct\n",
    "    assert( os.path.basename(path_to_trace).split('_')[1] in path_to_varlist )\n",
    "    #### check if varlist consistent with normal trace\n",
    "    check_consistence, _ = is_consistent([normal_vpath, path_to_varlist])\n",
    "\n",
    "    if check_consistence != False:\n",
    "        print(f\"{os.path.basename(path_to_trace).split('_')[1]} varlist is same as normal\")\n",
    "    else:\n",
    "        print(f\"correcting the trace {os.path.basename(path_to_trace).split('_')[1]} to work with normal varlist:\", path_to_trace)\n",
    "        faulty_trace = read_traces(path_to_trace)\n",
    "\n",
    "        faulty_to_number = read_json(path_to_varlist)\n",
    "        faulty_from_number = mapint2var(faulty_to_number)\n",
    "\n",
    "        ### get trace with varibale names\n",
    "        faulty_vartrace = []\n",
    "        for stateint, ts in faulty_trace:\n",
    "            # print(stateint, ts)\n",
    "            state_var = faulty_from_number[stateint]\n",
    "            faulty_vartrace += [[state_var, ts]]\n",
    "\n",
    "        ### check if the length of the trace is same. We compare trace with the variable names and trace with the numbers\n",
    "        assert (len(faulty_vartrace) == len(faulty_trace))\n",
    "\n",
    "        ### use the varlist same as the normal trace for consistency. If the variable is not in the normal varlist, add it to the normal varlist\n",
    "        faulty_trace_new = []\n",
    "        state_var = ''\n",
    "        state_int = 0\n",
    "        max_int = max(normal_to_number.values()) ### to increment the normal varlist\n",
    "        for state_var, ts in faulty_vartrace:\n",
    "            if state_var in normal_to_number:\n",
    "                state_int = normal_to_number[state_var]\n",
    "                faulty_trace_new += [[state_int, ts]]\n",
    "            else:\n",
    "                normal_to_number[state_var] = max_int + 1\n",
    "                max_int += 1\n",
    "                faulty_trace_new += [[max_int, ts]]\n",
    "\n",
    "        #### check if the adapted trace is same as the original trace\n",
    "        assert (len(faulty_trace_new) == len(faulty_trace))\n",
    "\n",
    "        print('updated varlist with new events:',len(normal_to_number))\n",
    "        # print(os.path.basename(path_to_trace).split('_')[1])\n",
    "        # print(os.path.basename(path_to_trace).split('_')[1] in path_to_varlist)\n",
    "        print('writing varlist to:', path_to_varlist)\n",
    "        print('writing trace to:', path_to_trace)\n",
    "        ### save the corrected trace and varlist\n",
    "        with open(path_to_trace, 'w') as f:\n",
    "            json.dump(faulty_trace_new, f)\n",
    "\n",
    "        with open(path_to_varlist, 'w') as f:\n",
    "            json.dump(normal_to_number, f)\n",
    "\n",
    "        print('\\n')\n"
   ]
  },
  {
   "cell_type": "code",
   "execution_count": null,
   "metadata": {},
   "outputs": [],
   "source": [
    "len(faulty_trace_new)"
   ]
  },
  {
   "cell_type": "code",
   "execution_count": null,
   "metadata": {},
   "outputs": [],
   "source": []
  },
  {
   "cell_type": "code",
   "execution_count": null,
   "metadata": {},
   "outputs": [],
   "source": [
    "len(normal_from_number.keys())"
   ]
  },
  {
   "cell_type": "code",
   "execution_count": null,
   "metadata": {},
   "outputs": [],
   "source": [
    "max(normal_to_number.values())"
   ]
  },
  {
   "cell_type": "code",
   "execution_count": null,
   "metadata": {},
   "outputs": [],
   "source": []
  }
 ],
 "metadata": {
  "kernelspec": {
   "display_name": "venv",
   "language": "python",
   "name": "python3"
  },
  "language_info": {
   "codemirror_mode": {
    "name": "ipython",
    "version": 3
   },
   "file_extension": ".py",
   "mimetype": "text/x-python",
   "name": "python",
   "nbconvert_exporter": "python",
   "pygments_lexer": "ipython3",
   "version": "3.10.14"
  }
 },
 "nbformat": 4,
 "nbformat_minor": 2
}
