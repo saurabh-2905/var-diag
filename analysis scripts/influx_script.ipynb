{
 "cells": [
  {
   "cell_type": "code",
   "execution_count": 7,
   "metadata": {},
   "outputs": [
    {
     "name": "stderr",
     "output_type": "stream",
     "text": [
      "/var/folders/nw/443sknns78l256x46fjj6r0c0000gn/T/ipykernel_31192/1128378996.py:17: MovedIn20Warning: The ``declarative_base()`` function is now available as sqlalchemy.orm.declarative_base(). (deprecated since: 2.0) (Background on SQLAlchemy 2.0 at: https://sqlalche.me/e/b8d9)\n",
      "  Base = declarative_base()\n"
     ]
    }
   ],
   "source": [
    "import sqlalchemy\n",
    "from sqlalchemy import create_engine, Column, Integer, String, BigInteger, Sequence, ForeignKey\n",
    "from sqlalchemy.ext.declarative import declarative_base\n",
    "from sqlalchemy.orm import sessionmaker\n",
    "from typing import List\n",
    "from typing import Optional\n",
    "from sqlalchemy.orm import Mapped\n",
    "from sqlalchemy.orm import mapped_column\n",
    "from sqlalchemy.orm import relationship\n",
    "import os\n",
    "from libv3.utils import *\n",
    "import pandas as pd\n",
    "import json\n",
    "import shutil\n",
    "\n",
    "# Define the base for the declarative model\n",
    "Base = declarative_base()\n",
    "\n",
    "# Define the Event class which will be mapped to the events table in the database\n",
    "class Event(Base):\n",
    "    __tablename__ = 'events'\n",
    "    \n",
    "    id: Mapped[int] = mapped_column(primary_key=True)\n",
    "    \n",
    "    name: Mapped[str] = mapped_column(String(50), nullable=False)\n",
    "    timestamp: Mapped[int] = mapped_column(BigInteger, nullable=False)\n",
    "    file_number: Mapped[int] = mapped_column(ForeignKey(\"file_config.id\")) \n",
    "\n",
    "    config: Mapped[\"File_config\"] = relationship(back_populates=\"events\")\n",
    "    \n",
    "\n",
    "\n",
    "class File_config(Base):\n",
    "    __tablename__ = 'file_config'\n",
    "\n",
    "    id: Mapped[int] = mapped_column(primary_key=True)\n",
    "    code_base: Mapped[str] = mapped_column(String(50), nullable=False)\n",
    "    version: Mapped[int] = mapped_column(Integer, nullable=False)\n",
    "    behaviour: Mapped[str] = mapped_column(String(50), nullable=False)\n",
    "    trial_num: Mapped[int] = mapped_column(Integer, nullable=False)\n",
    "\n",
    "    events: Mapped[List[\"Event\"]] = relationship(back_populates=\"config\")\n",
    "\n",
    "# # Function to add events to the database\n",
    "# def add_events(event_list):\n",
    "#     for event_name, event_timestamp in event_list:\n",
    "#         event = Event(name=event_name, timestamp=event_timestamp)\n",
    "#         session.add(event)\n",
    "#     session.commit()\n",
    "\n",
    "\n",
    "\n"
   ]
  },
  {
   "cell_type": "code",
   "execution_count": 8,
   "metadata": {},
   "outputs": [
    {
     "name": "stdout",
     "output_type": "stream",
     "text": [
      "CODE: wolfnet\n",
      "BEHAVIOUR: normal\n",
      "THREAD: single\n",
      "VER: 3\n",
      "../trace_data/wolfnet/single_thread/version_3/normal/trial1\n",
      "file number: 14\n"
     ]
    }
   ],
   "source": [
    "############ configuration ################\n",
    "############################################\n",
    "\n",
    "CODE, BEHAVIOUR, THREAD, VER = get_config('wolfnet_config')   ### config stored in libv3/exp_config.txt\n",
    "TRIAL = 1\n",
    "\n",
    "base_dir = '../trace_data' ### can be replaced with 'csv', 'exe_plot', 'histogram'\n",
    "log_path = base_dir+f'/{CODE}/{THREAD}_thread/version_{VER}/{BEHAVIOUR}/trial{TRIAL}'\n",
    "\n",
    "print(log_path)\n",
    "\n",
    "#### file to display\n",
    "trace_file = 14\n",
    "\n",
    "print('file number:', trace_file)"
   ]
  },
  {
   "cell_type": "code",
   "execution_count": 9,
   "metadata": {},
   "outputs": [
    {
     "name": "stdout",
     "output_type": "stream",
     "text": [
      "[]\n",
      "['../trace_data/wolfnet/single_thread/version_3/normal/trial1/trace10', '../trace_data/wolfnet/single_thread/version_3/normal/trial1/trace11', '../trace_data/wolfnet/single_thread/version_3/normal/trial1/trace12', '../trace_data/wolfnet/single_thread/version_3/normal/trial1/trace13', '../trace_data/wolfnet/single_thread/version_3/normal/trial1/trace14', '../trace_data/wolfnet/single_thread/version_3/normal/trial1/trace15', '../trace_data/wolfnet/single_thread/version_3/normal/trial1/trace16', '../trace_data/wolfnet/single_thread/version_3/normal/trial1/trace17', '../trace_data/wolfnet/single_thread/version_3/normal/trial1/trace18', '../trace_data/wolfnet/single_thread/version_3/normal/trial1/trace19', '../trace_data/wolfnet/single_thread/version_3/normal/trial1/trace20', '../trace_data/wolfnet/single_thread/version_3/normal/trial1/trace21', '../trace_data/wolfnet/single_thread/version_3/normal/trial1/trace22', '../trace_data/wolfnet/single_thread/version_3/normal/trial1/trace23', '../trace_data/wolfnet/single_thread/version_3/normal/trial1/trace8', '../trace_data/wolfnet/single_thread/version_3/normal/trial1/trace9']\n",
      "['../trace_data/wolfnet/single_thread/version_3/normal/trial1/varlist10', '../trace_data/wolfnet/single_thread/version_3/normal/trial1/varlist11', '../trace_data/wolfnet/single_thread/version_3/normal/trial1/varlist12', '../trace_data/wolfnet/single_thread/version_3/normal/trial1/varlist13', '../trace_data/wolfnet/single_thread/version_3/normal/trial1/varlist14', '../trace_data/wolfnet/single_thread/version_3/normal/trial1/varlist15', '../trace_data/wolfnet/single_thread/version_3/normal/trial1/varlist16', '../trace_data/wolfnet/single_thread/version_3/normal/trial1/varlist17', '../trace_data/wolfnet/single_thread/version_3/normal/trial1/varlist18', '../trace_data/wolfnet/single_thread/version_3/normal/trial1/varlist19', '../trace_data/wolfnet/single_thread/version_3/normal/trial1/varlist20', '../trace_data/wolfnet/single_thread/version_3/normal/trial1/varlist21', '../trace_data/wolfnet/single_thread/version_3/normal/trial1/varlist22', '../trace_data/wolfnet/single_thread/version_3/normal/trial1/varlist23', '../trace_data/wolfnet/single_thread/version_3/normal/trial1/varlist8', '../trace_data/wolfnet/single_thread/version_3/normal/trial1/varlist9']\n",
      "[]\n"
     ]
    }
   ],
   "source": [
    "######### get paths #######################\n",
    "paths_log, paths_traces, varlist_path, paths_label = get_paths(log_path)\n",
    "\n",
    "### remove.Ds_store from all lists\n",
    "paths_log = [x for x in paths_log if '.DS_Store' not in x]\n",
    "paths_traces = [x for x in paths_traces if '.DS_Store' not in x]\n",
    "varlist_path = [x for x in varlist_path if '.DS_Store' not in x]\n",
    "paths_label = [x for x in paths_label if '.DS_Store' not in x]\n",
    "\n",
    "paths_log.sort()\n",
    "paths_traces.sort()\n",
    "varlist_path.sort()\n",
    "\n",
    "print(paths_log)\n",
    "print(paths_traces)\n",
    "print(varlist_path)\n",
    "print(paths_label)"
   ]
  },
  {
   "cell_type": "markdown",
   "metadata": {},
   "source": [
    "### Combine files from trials"
   ]
  },
  {
   "cell_type": "code",
   "execution_count": 10,
   "metadata": {},
   "outputs": [],
   "source": [
    "##### combine files\n",
    "paths_traces.sort(key=lambda x: int(x.split('/')[-1][5:]))\n",
    "last_file_num = int(paths_traces[-1].split('/')[-1][5:])\n",
    "all_content = []\n",
    "for trace_path in paths_traces:\n",
    "    content = read_traces(trace_path)   \n",
    "    all_content.extend(content)\n",
    "    # print(content)\n",
    "\n",
    "# path_to_save = os.path.dirname(os.path.dirname(trace_path))\n",
    "# with open(path_to_save+f'/trace_trial{TRIAL}', 'w') as f:\n",
    "#     json.dump(all_content, f)\n",
    "#     # print('Saved trace:', path_to_save+f'/trace_trial{TRIAL})\n",
    "\n",
    "# varlist = read_json(os.path.join(os.path.dirname(trace_path),f'varlist{last_file_num}'))\n",
    "# # print(varlist)\n",
    "# with open(path_to_save+f'/varlist_trial{TRIAL}.json', 'w') as f:\n",
    "#     json.dump(varlist, f)\n",
    "\n"
   ]
  },
  {
   "cell_type": "code",
   "execution_count": 48,
   "metadata": {},
   "outputs": [
    {
     "data": {
      "text/plain": [
       "'../trace_data/wolfnet/single_thread/version_3/normal'"
      ]
     },
     "execution_count": 48,
     "metadata": {},
     "output_type": "execute_result"
    }
   ],
   "source": []
  },
  {
   "cell_type": "code",
   "execution_count": 25,
   "metadata": {},
   "outputs": [
    {
     "name": "stdout",
     "output_type": "stream",
     "text": [
      "2024-07-08 13:57:51,689 INFO sqlalchemy.engine.Engine BEGIN (implicit)\n",
      "2024-07-08 13:57:51,690 INFO sqlalchemy.engine.Engine PRAGMA main.table_info(\"events\")\n",
      "2024-07-08 13:57:51,690 INFO sqlalchemy.engine.Engine [raw sql] ()\n",
      "2024-07-08 13:57:51,690 INFO sqlalchemy.engine.Engine PRAGMA main.table_info(\"file_config\")\n",
      "2024-07-08 13:57:51,691 INFO sqlalchemy.engine.Engine [raw sql] ()\n",
      "2024-07-08 13:57:51,691 INFO sqlalchemy.engine.Engine COMMIT\n",
      "None\n",
      "2024-07-08 13:57:51,692 INFO sqlalchemy.engine.Engine BEGIN (implicit)\n",
      "2024-07-08 13:57:51,696 INFO sqlalchemy.engine.Engine INSERT INTO file_config (code_base, version, behaviour, trial_num) VALUES (?, ?, ?, ?)\n",
      "2024-07-08 13:57:51,698 INFO sqlalchemy.engine.Engine [generated in 0.00246s] ('wolfnet', 3, 'normal', 1)\n",
      "2024-07-08 13:57:51,701 INFO sqlalchemy.engine.Engine COMMIT\n",
      "2024-07-08 13:57:53,427 INFO sqlalchemy.engine.Engine BEGIN (implicit)\n",
      "2024-07-08 13:57:53,429 INFO sqlalchemy.engine.Engine SELECT file_config.id AS file_config_id, file_config.code_base AS file_config_code_base, file_config.version AS file_config_version, file_config.behaviour AS file_config_behaviour, file_config.trial_num AS file_config_trial_num \n",
      "FROM file_config \n",
      "WHERE file_config.id = ?\n",
      "2024-07-08 13:57:53,429 INFO sqlalchemy.engine.Engine [generated in 0.00032s] (4,)\n"
     ]
    }
   ],
   "source": [
    "path_to_content = os.path.dirname(log_path)+f'/trace_trial{TRIAL}'\n",
    "content_towrite = read_traces(path_to_content)\n",
    "# print(content_towrite)\n",
    "# Create an SQLite database (or connect to it if it already exists)\n",
    "database_url = 'sqlite:///events.db'\n",
    "engine = create_engine(database_url, echo=True)\n",
    "\n",
    "# Create all tables in the database\n",
    "Base.metadata.create_all(engine)\n",
    "\n",
    "# # Create a configured \"Session\" class\n",
    "Session = sessionmaker(bind=engine)\n",
    "\n",
    "new_log_instance = File_config(code_base=CODE, version=VER, behaviour=BEHAVIOUR, trial_num=TRIAL)\n",
    "print(new_log_instance.id)\n",
    "# # #### since we use session.begin(), it will commit and close the session automatically as the with block ends\n",
    "with Session.begin() as session:\n",
    "    session.add(new_log_instance)\n",
    "    session.commit()\n",
    "\n",
    "with Session.begin() as session:\n",
    "    for event_name, event_timestamp in all_content:\n",
    "        event = Event(name=event_name, timestamp=event_timestamp, config=new_log_instance)\n",
    "        session.add(event)\n",
    "        # break\n",
    "\n"
   ]
  },
  {
   "cell_type": "code",
   "execution_count": 23,
   "metadata": {},
   "outputs": [
    {
     "name": "stdout",
     "output_type": "stream",
     "text": [
      "2024-07-08 13:54:08,699 INFO sqlalchemy.engine.Engine BEGIN (implicit)\n",
      "2024-07-08 13:54:08,700 INFO sqlalchemy.engine.Engine SELECT file_config.id AS file_config_id, file_config.code_base AS file_config_code_base, file_config.version AS file_config_version, file_config.behaviour AS file_config_behaviour, file_config.trial_num AS file_config_trial_num \n",
      "FROM file_config \n",
      "WHERE file_config.id = ?\n",
      "2024-07-08 13:54:08,700 INFO sqlalchemy.engine.Engine [cached since 115.4s ago] (1,)\n",
      "1\n",
      "wolfnet\n",
      "3\n",
      "normal\n",
      "1\n",
      "2024-07-08 13:54:08,703 INFO sqlalchemy.engine.Engine SELECT events.id AS events_id, events.name AS events_name, events.timestamp AS events_timestamp, events.file_number AS events_file_number \n",
      "FROM events \n",
      "WHERE ? = events.file_number\n",
      "2024-07-08 13:54:08,704 INFO sqlalchemy.engine.Engine [generated in 0.00084s] (1,)\n",
      "[]\n",
      "2024-07-08 13:54:08,705 INFO sqlalchemy.engine.Engine ROLLBACK\n"
     ]
    }
   ],
   "source": [
    "#### query the database\n",
    "\n",
    "with Session() as session:\n",
    "    results = session.query(File_config).where(File_config.id == 1).all()\n",
    "    print(results[0].id)\n",
    "    print(results[0].code_base)\n",
    "    print(results[0].version)\n",
    "    print(results[0].behaviour)\n",
    "    print(results[0].trial_num)\n",
    "    print(results[0].events)"
   ]
  },
  {
   "cell_type": "code",
   "execution_count": null,
   "metadata": {},
   "outputs": [],
   "source": []
  }
 ],
 "metadata": {
  "kernelspec": {
   "display_name": "venv",
   "language": "python",
   "name": "python3"
  },
  "language_info": {
   "codemirror_mode": {
    "name": "ipython",
    "version": 3
   },
   "file_extension": ".py",
   "mimetype": "text/x-python",
   "name": "python",
   "nbconvert_exporter": "python",
   "pygments_lexer": "ipython3",
   "version": "3.10.14"
  }
 },
 "nbformat": 4,
 "nbformat_minor": 2
}
