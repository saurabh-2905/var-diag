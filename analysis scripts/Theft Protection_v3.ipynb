{
 "cells": [
  {
   "cell_type": "code",
   "execution_count": 1,
   "metadata": {},
   "outputs": [],
   "source": [
    "import os\n",
    "from libv3.utils import *\n",
    "import pandas as pd\n",
    "import json"
   ]
  },
  {
   "cell_type": "code",
   "execution_count": 2,
   "metadata": {},
   "outputs": [
    {
     "name": "stdout",
     "output_type": "stream",
     "text": [
      "CODE: theft_protection\n",
      "BEHAVIOUR: faulty_data\n",
      "THREAD: single\n",
      "VER: 3\n",
      "../trace_data/theft_protection/single_thread/version_3/faulty_data\n",
      "file number: 0\n"
     ]
    }
   ],
   "source": [
    "############ configuration ################\n",
    "############################################\n",
    "\n",
    "CODE, BEHAVIOUR, THREAD, VER = get_config()   ### config stored in libv3/exp_config.txt\n",
    "\n",
    "base_dir = '../trace_data' ### can be replaced with 'csv', 'exe_plot', 'histogram'\n",
    "log_path = base_dir+f'/{CODE}/{THREAD}_thread/version_{VER}/{BEHAVIOUR}'\n",
    "\n",
    "print(log_path)\n",
    "\n",
    "#### file to display\n",
    "trace_file = 0\n",
    "\n",
    "print('file number:', trace_file)"
   ]
  },
  {
   "cell_type": "code",
   "execution_count": 3,
   "metadata": {},
   "outputs": [
    {
     "name": "stdout",
     "output_type": "stream",
     "text": [
      "['../trace_data/theft_protection/single_thread/version_3/faulty_data/log1-com', '../trace_data/theft_protection/single_thread/version_3/faulty_data/log2-sensor']\n",
      "['../trace_data/theft_protection/single_thread/version_3/faulty_data/trace1-com', '../trace_data/theft_protection/single_thread/version_3/faulty_data/trace2-sensor']\n",
      "['../trace_data/theft_protection/single_thread/version_3/faulty_data/varlist1-com', '../trace_data/theft_protection/single_thread/version_3/faulty_data/varlist2-sensor']\n",
      "['../trace_data/theft_protection/single_thread/version_3/faulty_data/labels/trace1-com_label.json', '../trace_data/theft_protection/single_thread/version_3/faulty_data/labels/trace2-sensor_label.json']\n"
     ]
    }
   ],
   "source": [
    "######### get paths #######################\n",
    "paths_log, paths_traces, varlist_path, paths_label = get_paths(log_path)\n",
    "\n",
    "paths_log.sort()\n",
    "paths_traces.sort()\n",
    "varlist_path.sort()\n",
    "\n",
    "print(paths_log)\n",
    "print(paths_traces)\n",
    "print(varlist_path)\n",
    "print(paths_label)"
   ]
  },
  {
   "cell_type": "code",
   "execution_count": null,
   "metadata": {},
   "outputs": [],
   "source": []
  },
  {
   "cell_type": "code",
   "execution_count": 4,
   "metadata": {},
   "outputs": [
    {
     "name": "stdout",
     "output_type": "stream",
     "text": [
      "varlist 1 is consistent with varlist 0\n",
      "{'1_0_main_g_ack': 13, '1_control_update_txmsg_0': 12, '1_0_main_lora': 2, '1_0_main_temperature': 8, '1_0_main_ow': 0, '1_0_main_events': 14, '1_0_main_com_timer': 4, '1_control_update_rxmsg_drop': 15, '1_0_loracom_data': 11, '1_control_readdata_0': 10, '1_0_main_temp': 1, '1_0_main_s': 3, '1_control_updatedata_cls.sensor_data': 9, '1_0_sense_temperature': 7, '1_0_main_i': 6, '1_control_init_timer0_0': 5} {'1_0_main_g_ack': 13, '1_control_update_txmsg_0': 12, '1_0_main_lora': 2, '1_0_main_temperature': 8, '1_0_main_ow': 0, '1_0_main_events': 14, '1_0_main_com_timer': 4, '1_control_update_rxmsg_drop': 15, '1_0_loracom_data': 11, '1_control_readdata_0': 10, '1_0_main_temp': 1, '1_0_main_s': 3, '1_control_updatedata_cls.sensor_data': 9, '1_0_sense_temperature': 7, '1_0_main_i': 6, '1_control_init_timer0_0': 5}\n"
     ]
    }
   ],
   "source": [
    "############# check varlist is consistent ############\n",
    "############# only for version 3 ######################\n",
    "\n",
    "if VER == 3:\n",
    "    to_number = is_consistent(varlist_path)\n",
    "\n",
    "    if to_number != False:\n",
    "        from_number = mapint2var(to_number)\n"
   ]
  },
  {
   "cell_type": "code",
   "execution_count": 5,
   "metadata": {},
   "outputs": [],
   "source": [
    "############ Get variable list ######################\n",
    "sorted_keys = list(from_number.keys())\n",
    "sorted_keys.sort()\n",
    "var_list = [from_number[key] for key in sorted_keys]   ### get the variable list\n",
    "# print(var_list)"
   ]
  },
  {
   "cell_type": "markdown",
   "metadata": {},
   "source": [
    "## Trace Plots"
   ]
  },
  {
   "cell_type": "markdown",
   "metadata": {},
   "source": [
    "### Process Traces"
   ]
  },
  {
   "cell_type": "code",
   "execution_count": 6,
   "metadata": {},
   "outputs": [
    {
     "name": "stdout",
     "output_type": "stream",
     "text": [
      "../trace_data/theft_protection/single_thread/version_3/faulty_data/trace1-com trace1-com\n",
      "../trace_data/theft_protection/single_thread/version_3/faulty_data/trace2-sensor trace2-sensor\n"
     ]
    }
   ],
   "source": [
    "########## process the traces ###########\n",
    "col_data = preprocess_traces(paths_traces, var_list)   ### in the format (trace_name, x_data, y_data, y_labels, trace_path) "
   ]
  },
  {
   "cell_type": "markdown",
   "metadata": {},
   "source": [
    "### Generate plot trace data"
   ]
  },
  {
   "cell_type": "code",
   "execution_count": 7,
   "metadata": {},
   "outputs": [],
   "source": [
    "############### preprocessing data to plot using plotly ##############\n",
    "'''\n",
    "Restructure the data in dictionary with (keys,value) pair :-  (time, timestamps) , (trace_name, trace)\n",
    "'''\n",
    "all_df = get_dataframe(col_data)   "
   ]
  },
  {
   "cell_type": "code",
   "execution_count": 8,
   "metadata": {},
   "outputs": [
    {
     "data": {
      "text/html": [
       "<div>\n",
       "<style scoped>\n",
       "    .dataframe tbody tr th:only-of-type {\n",
       "        vertical-align: middle;\n",
       "    }\n",
       "\n",
       "    .dataframe tbody tr th {\n",
       "        vertical-align: top;\n",
       "    }\n",
       "\n",
       "    .dataframe thead th {\n",
       "        text-align: right;\n",
       "    }\n",
       "</style>\n",
       "<table border=\"1\" class=\"dataframe\">\n",
       "  <thead>\n",
       "    <tr style=\"text-align: right;\">\n",
       "      <th></th>\n",
       "      <th>time</th>\n",
       "      <th>trace1-com</th>\n",
       "    </tr>\n",
       "  </thead>\n",
       "  <tbody>\n",
       "    <tr>\n",
       "      <th>0</th>\n",
       "      <td>1307</td>\n",
       "      <td>0</td>\n",
       "    </tr>\n",
       "    <tr>\n",
       "      <th>1</th>\n",
       "      <td>1335</td>\n",
       "      <td>1</td>\n",
       "    </tr>\n",
       "    <tr>\n",
       "      <th>2</th>\n",
       "      <td>1356</td>\n",
       "      <td>2</td>\n",
       "    </tr>\n",
       "    <tr>\n",
       "      <th>3</th>\n",
       "      <td>1361</td>\n",
       "      <td>3</td>\n",
       "    </tr>\n",
       "    <tr>\n",
       "      <th>4</th>\n",
       "      <td>1869</td>\n",
       "      <td>4</td>\n",
       "    </tr>\n",
       "    <tr>\n",
       "      <th>...</th>\n",
       "      <td>...</td>\n",
       "      <td>...</td>\n",
       "    </tr>\n",
       "    <tr>\n",
       "      <th>2566</th>\n",
       "      <td>532119</td>\n",
       "      <td>8</td>\n",
       "    </tr>\n",
       "    <tr>\n",
       "      <th>2567</th>\n",
       "      <td>532124</td>\n",
       "      <td>9</td>\n",
       "    </tr>\n",
       "    <tr>\n",
       "      <th>2568</th>\n",
       "      <td>532127</td>\n",
       "      <td>10</td>\n",
       "    </tr>\n",
       "    <tr>\n",
       "      <th>2569</th>\n",
       "      <td>532133</td>\n",
       "      <td>11</td>\n",
       "    </tr>\n",
       "    <tr>\n",
       "      <th>2570</th>\n",
       "      <td>532137</td>\n",
       "      <td>12</td>\n",
       "    </tr>\n",
       "  </tbody>\n",
       "</table>\n",
       "<p>2571 rows × 2 columns</p>\n",
       "</div>"
      ],
      "text/plain": [
       "        time  trace1-com\n",
       "0       1307           0\n",
       "1       1335           1\n",
       "2       1356           2\n",
       "3       1361           3\n",
       "4       1869           4\n",
       "...      ...         ...\n",
       "2566  532119           8\n",
       "2567  532124           9\n",
       "2568  532127          10\n",
       "2569  532133          11\n",
       "2570  532137          12\n",
       "\n",
       "[2571 rows x 2 columns]"
      ]
     },
     "execution_count": 8,
     "metadata": {},
     "output_type": "execute_result"
    }
   ],
   "source": [
    "all_df[0]"
   ]
  },
  {
   "cell_type": "code",
   "execution_count": null,
   "metadata": {},
   "outputs": [],
   "source": [
    "\n",
    "### plot single trace\n",
    "for i, df in enumerate(all_df):\n",
    "    if i == trace_file:\n",
    "        plot_single_trace(df, var_list, with_time=False, is_xticks=True)"
   ]
  },
  {
   "cell_type": "code",
   "execution_count": null,
   "metadata": {},
   "outputs": [],
   "source": [
    "### get timestamp\n",
    "\n",
    "timestamp = index2timestamp(all_df[0], 227)\n",
    "print(timestamp)"
   ]
  },
  {
   "cell_type": "markdown",
   "metadata": {},
   "source": [
    "## Execution Interval Plots"
   ]
  },
  {
   "cell_type": "markdown",
   "metadata": {},
   "source": [
    "### Preprocess data"
   ]
  },
  {
   "cell_type": "code",
   "execution_count": null,
   "metadata": {},
   "outputs": [],
   "source": [
    "####### preprocessing data ########\n",
    "\n",
    "#### extract timestamps for each variable and store them in a dictionary along with index values for each variable in event trace\n",
    "\n",
    "var_timestamps = get_var_timestamps(paths_traces)    #### in format (filename, dict of timestamps and index values)\n",
    "\n",
    "to_plot = preprocess_variable_plotting(var_timestamps, var_list, from_number, trace_number=trace_file)   ### restructure the data for plotting\n"
   ]
  },
  {
   "cell_type": "markdown",
   "metadata": {},
   "source": [
    "### Generate execution interval plots"
   ]
  },
  {
   "cell_type": "code",
   "execution_count": null,
   "metadata": {},
   "outputs": [],
   "source": [
    "'''\n",
    "TODO:\n",
    "- Add option to plot anomalies in trace plotting\n",
    "- Add option to plot variable exe interval for single trace (added)\n",
    "- Define format of detected anomalies for plotting (done)\n",
    "'''"
   ]
  },
  {
   "cell_type": "code",
   "execution_count": null,
   "metadata": {},
   "outputs": [],
   "source": [
    "### plot the data\n",
    "plot_execution_interval_single(to_plot, is_xticks=False)"
   ]
  },
  {
   "cell_type": "code",
   "execution_count": null,
   "metadata": {},
   "outputs": [],
   "source": []
  },
  {
   "cell_type": "markdown",
   "metadata": {},
   "source": [
    "## Plot Labels"
   ]
  },
  {
   "cell_type": "code",
   "execution_count": 9,
   "metadata": {},
   "outputs": [
    {
     "name": "stdout",
     "output_type": "stream",
     "text": [
      "../trace_data/theft_protection/single_thread/version_3/faulty_data/labels/trace1-com_label.json\n"
     ]
    }
   ],
   "source": [
    "### read labels\n",
    "'''\n",
    "labels are of format [index1, index2, timestamp1, timestamp2, class]\n",
    "'''\n",
    "for i, path in enumerate(paths_label):\n",
    "    if i == trace_file:\n",
    "        print(path)\n",
    "        label_content = prepare_gt(path)"
   ]
  },
  {
   "cell_type": "code",
   "execution_count": 11,
   "metadata": {},
   "outputs": [
    {
     "data": {
      "text/plain": [
       "['1_0_main_g_ack',\n",
       " '1_control_update_txmsg_0',\n",
       " '1_0_main_lora',\n",
       " '1_0_main_temperature',\n",
       " '1_0_main_ow',\n",
       " '1_0_main_events',\n",
       " '1_0_main_com_timer',\n",
       " '1_control_update_rxmsg_drop',\n",
       " '1_0_loracom_data',\n",
       " '1_control_readdata_0',\n",
       " '1_0_main_temp',\n",
       " '1_0_main_s',\n",
       " '1_control_updatedata_cls.sensor_data',\n",
       " '1_0_sense_temperature',\n",
       " '1_0_main_i',\n",
       " '1_control_init_timer0_0']"
      ]
     },
     "execution_count": 11,
     "metadata": {},
     "output_type": "execute_result"
    }
   ],
   "source": [
    "var_list"
   ]
  },
  {
   "cell_type": "code",
   "execution_count": 10,
   "metadata": {},
   "outputs": [
    {
     "data": {
      "application/vnd.plotly.v1+json": {
       "config": {
        "plotlyServerURL": "https://plot.ly"
       },
       "data": [
        {
         "line": {
          "width": 0.5
         },
         "marker": {
          "color": "midnightblue",
          "size": 8
         },
         "mode": "lines+markers",
         "name": "trace1-com",
         "showlegend": true,
         "type": "scatter",
         "y": [
          0,
          1,
          2,
          3,
          4,
          5,
          6,
          7,
          8,
          9,
          6,
          7,
          8,
          9,
          6,
          7,
          8,
          9,
          6,
          7,
          8,
          9,
          6,
          7,
          8,
          9,
          10,
          11,
          12,
          6,
          7,
          8,
          9,
          13,
          14,
          15,
          6,
          7,
          8,
          9,
          6,
          7,
          8,
          9,
          6,
          7,
          8,
          9,
          6,
          7,
          8,
          9,
          10,
          11,
          12,
          6,
          7,
          8,
          9,
          13,
          14,
          15,
          6,
          7,
          8,
          9,
          6,
          7,
          8,
          9,
          6,
          7,
          8,
          9,
          6,
          7,
          8,
          9,
          10,
          11,
          12,
          6,
          7,
          8,
          9,
          13,
          14,
          15,
          6,
          7,
          8,
          9,
          6,
          7,
          8,
          9,
          6,
          7,
          8,
          9,
          10,
          11,
          12,
          6,
          7,
          8,
          9,
          13,
          14,
          15,
          6,
          7,
          8,
          9,
          6,
          7,
          8,
          9,
          6,
          7,
          8,
          9,
          6,
          7,
          8,
          9,
          10,
          11,
          12,
          6,
          7,
          8,
          9,
          13,
          14,
          15,
          6,
          7,
          8,
          9,
          6,
          7,
          8,
          9,
          6,
          7,
          8,
          9,
          6,
          7,
          8,
          9,
          10,
          11,
          12,
          6,
          7,
          8,
          9,
          13,
          14,
          15,
          6,
          7,
          8,
          9,
          6,
          7,
          8,
          9,
          6,
          7,
          8,
          9,
          6,
          7,
          8,
          9,
          10,
          11,
          12,
          6,
          7,
          8,
          9,
          6,
          7,
          8,
          9,
          6,
          7,
          8,
          9,
          6,
          7,
          8,
          9,
          10,
          11,
          12,
          6,
          7,
          8,
          9,
          6,
          7,
          8,
          9,
          6,
          7,
          8,
          9,
          6,
          7,
          8,
          9,
          6,
          7,
          8,
          9,
          10,
          11,
          12,
          6,
          7,
          8,
          9,
          13,
          14,
          15,
          6,
          7,
          8,
          9,
          6,
          7,
          8,
          9,
          6,
          7,
          8,
          9,
          6,
          7,
          8,
          9,
          10,
          11,
          12,
          6,
          7,
          8,
          9,
          13,
          14,
          15,
          6,
          7,
          8,
          9,
          6,
          7,
          8,
          9,
          6,
          7,
          8,
          9,
          6,
          7,
          8,
          9,
          10,
          11,
          12,
          6,
          7,
          8,
          9,
          13,
          14,
          15,
          6,
          7,
          8,
          9,
          6,
          7,
          8,
          9,
          6,
          7,
          8,
          9,
          10,
          11,
          12,
          6,
          7,
          8,
          9,
          13,
          14,
          15,
          6,
          7,
          8,
          9,
          6,
          7,
          8,
          9,
          6,
          7,
          8,
          9,
          6,
          7,
          8,
          9,
          10,
          11,
          12,
          6,
          7,
          8,
          9,
          6,
          7,
          8,
          9,
          6,
          7,
          8,
          9,
          6,
          7,
          8,
          9,
          6,
          7,
          8,
          9,
          10,
          11,
          12,
          6,
          7,
          8,
          9,
          13,
          14,
          15,
          6,
          7,
          8,
          9,
          6,
          7,
          8,
          9,
          6,
          7,
          8,
          9,
          6,
          7,
          8,
          9,
          10,
          11,
          12,
          6,
          7,
          8,
          9,
          13,
          14,
          15,
          6,
          7,
          8,
          9,
          6,
          7,
          8,
          9,
          6,
          7,
          8,
          9,
          10,
          11,
          12,
          6,
          7,
          8,
          9,
          13,
          14,
          15,
          6,
          7,
          8,
          9,
          6,
          7,
          8,
          9,
          6,
          7,
          8,
          9,
          6,
          7,
          8,
          9,
          10,
          11,
          12,
          6,
          7,
          8,
          9,
          6,
          7,
          8,
          9,
          6,
          7,
          8,
          9,
          6,
          7,
          8,
          9,
          6,
          7,
          8,
          9,
          10,
          11,
          12,
          6,
          7,
          8,
          9,
          13,
          14,
          15,
          6,
          7,
          8,
          9,
          6,
          7,
          8,
          9,
          6,
          7,
          8,
          9,
          10,
          11,
          12,
          6,
          7,
          8,
          9,
          13,
          14,
          15,
          6,
          7,
          8,
          9,
          6,
          7,
          8,
          9,
          6,
          7,
          8,
          9,
          6,
          7,
          8,
          9,
          10,
          11,
          12,
          6,
          7,
          8,
          9,
          13,
          14,
          15,
          6,
          7,
          8,
          9,
          6,
          7,
          8,
          9,
          6,
          7,
          8,
          9,
          6,
          7,
          8,
          9,
          10,
          11,
          12,
          6,
          7,
          8,
          9,
          6,
          7,
          8,
          9,
          6,
          7,
          8,
          9,
          6,
          7,
          8,
          9,
          6,
          7,
          8,
          9,
          10,
          11,
          12,
          6,
          7,
          8,
          9,
          6,
          7,
          8,
          9,
          6,
          7,
          8,
          9,
          6,
          7,
          8,
          9,
          10,
          11,
          12,
          6,
          7,
          8,
          9,
          13,
          14,
          15,
          6,
          7,
          8,
          9,
          6,
          7,
          8,
          9,
          6,
          7,
          8,
          9,
          6,
          7,
          8,
          9,
          10,
          11,
          12,
          6,
          7,
          8,
          9,
          13,
          14,
          15,
          6,
          7,
          8,
          9,
          6,
          7,
          8,
          9,
          6,
          7,
          8,
          9,
          6,
          7,
          8,
          9,
          10,
          11,
          12,
          6,
          7,
          8,
          9,
          13,
          14,
          15,
          6,
          7,
          8,
          9,
          6,
          7,
          8,
          9,
          6,
          7,
          8,
          9,
          6,
          7,
          8,
          9,
          10,
          11,
          12,
          6,
          7,
          8,
          9,
          6,
          7,
          8,
          9,
          6,
          7,
          8,
          9,
          6,
          7,
          8,
          9,
          10,
          11,
          12,
          6,
          7,
          8,
          9,
          13,
          14,
          15,
          6,
          7,
          8,
          9,
          6,
          7,
          8,
          9,
          6,
          7,
          8,
          9,
          6,
          7,
          8,
          9,
          10,
          11,
          12,
          6,
          7,
          8,
          9,
          13,
          14,
          15,
          6,
          7,
          8,
          9,
          6,
          7,
          8,
          9,
          6,
          7,
          8,
          9,
          6,
          7,
          8,
          9,
          10,
          11,
          12,
          6,
          7,
          8,
          9,
          13,
          14,
          15,
          6,
          7,
          8,
          9,
          6,
          7,
          8,
          9,
          6,
          7,
          8,
          9,
          6,
          7,
          8,
          9,
          10,
          11,
          12,
          6,
          7,
          8,
          9,
          6,
          7,
          8,
          9,
          6,
          7,
          8,
          9,
          6,
          7,
          8,
          9,
          10,
          11,
          12,
          6,
          7,
          8,
          9,
          13,
          14,
          15,
          6,
          7,
          8,
          9,
          6,
          7,
          8,
          9,
          6,
          7,
          8,
          9,
          6,
          7,
          8,
          9,
          10,
          11,
          12,
          6,
          7,
          8,
          9,
          13,
          14,
          15,
          6,
          7,
          8,
          9,
          6,
          7,
          8,
          9,
          6,
          7,
          8,
          9,
          6,
          7,
          8,
          9,
          10,
          11,
          12,
          6,
          7,
          8,
          9,
          13,
          14,
          15,
          6,
          7,
          8,
          9,
          6,
          7,
          8,
          9,
          6,
          7,
          8,
          9,
          10,
          11,
          12,
          6,
          7,
          8,
          9,
          13,
          14,
          15,
          6,
          7,
          8,
          9,
          6,
          7,
          8,
          9,
          6,
          7,
          8,
          9,
          6,
          7,
          8,
          9,
          10,
          11,
          12,
          6,
          7,
          8,
          9,
          13,
          14,
          15,
          6,
          7,
          8,
          9,
          6,
          7,
          8,
          9,
          6,
          7,
          8,
          9,
          6,
          7,
          8,
          9,
          10,
          11,
          12,
          6,
          7,
          8,
          9,
          6,
          7,
          8,
          9,
          6,
          7,
          8,
          9,
          6,
          7,
          8,
          9,
          6,
          7,
          8,
          9,
          10,
          11,
          12,
          6,
          7,
          8,
          9,
          6,
          7,
          8,
          9,
          6,
          7,
          8,
          9,
          6,
          7,
          8,
          9,
          10,
          11,
          12,
          6,
          7,
          8,
          6,
          7,
          8,
          9,
          6,
          7,
          8,
          9,
          6,
          7,
          8,
          9,
          6,
          7,
          8,
          9,
          10,
          11,
          12,
          6,
          7,
          8,
          9,
          6,
          7,
          8,
          9,
          6,
          7,
          8,
          9,
          6,
          7,
          8,
          9,
          6,
          7,
          8,
          9,
          10,
          11,
          12,
          6,
          7,
          8,
          9,
          6,
          7,
          8,
          9,
          6,
          7,
          8,
          9,
          6,
          7,
          8,
          9,
          10,
          11,
          12,
          6,
          7,
          8,
          9,
          13,
          14,
          15,
          6,
          7,
          8,
          9,
          6,
          7,
          8,
          9,
          6,
          7,
          8,
          9,
          6,
          7,
          8,
          9,
          10,
          11,
          12,
          6,
          7,
          8,
          9,
          13,
          14,
          15,
          6,
          7,
          8,
          9,
          6,
          7,
          8,
          9,
          6,
          7,
          8,
          9,
          6,
          7,
          8,
          9,
          10,
          11,
          12,
          6,
          7,
          8,
          9,
          13,
          14,
          15,
          6,
          7,
          8,
          9,
          6,
          7,
          8,
          9,
          6,
          7,
          8,
          9,
          6,
          7,
          8,
          9,
          10,
          11,
          12,
          6,
          7,
          8,
          9,
          13,
          14,
          15,
          6,
          7,
          8,
          9,
          6,
          7,
          8,
          9,
          6,
          7,
          8,
          9,
          10,
          11,
          12,
          6,
          7,
          8,
          9,
          13,
          14,
          15,
          6,
          7,
          8,
          9,
          6,
          7,
          8,
          9,
          6,
          7,
          8,
          9,
          6,
          7,
          8,
          9,
          10,
          11,
          12,
          6,
          7,
          8,
          9,
          6,
          7,
          8,
          9,
          6,
          7,
          8,
          9,
          6,
          7,
          8,
          9,
          6,
          7,
          8,
          9,
          10,
          11,
          12,
          6,
          7,
          8,
          9,
          13,
          14,
          15,
          6,
          7,
          8,
          9,
          6,
          7,
          8,
          9,
          6,
          7,
          8,
          9,
          6,
          7,
          8,
          9,
          10,
          11,
          12,
          6,
          7,
          8,
          9,
          13,
          14,
          15,
          6,
          7,
          8,
          9,
          6,
          7,
          8,
          9,
          6,
          7,
          8,
          9,
          10,
          11,
          12,
          6,
          7,
          8,
          9,
          13,
          14,
          15,
          6,
          7,
          8,
          9,
          6,
          7,
          8,
          9,
          6,
          7,
          8,
          9,
          6,
          7,
          8,
          9,
          10,
          11,
          12,
          6,
          7,
          8,
          9,
          13,
          14,
          15,
          6,
          7,
          8,
          9,
          6,
          7,
          8,
          6,
          7,
          8,
          9,
          10,
          11,
          12,
          6,
          7,
          8,
          9,
          13,
          14,
          15,
          6,
          7,
          8,
          9,
          6,
          7,
          8,
          9,
          6,
          7,
          8,
          9,
          6,
          7,
          8,
          9,
          10,
          11,
          12,
          6,
          7,
          8,
          9,
          13,
          14,
          15,
          6,
          7,
          8,
          9,
          6,
          7,
          8,
          9,
          6,
          7,
          8,
          9,
          6,
          7,
          8,
          9,
          10,
          11,
          12,
          6,
          7,
          8,
          9,
          13,
          14,
          15,
          6,
          7,
          8,
          9,
          6,
          7,
          8,
          9,
          6,
          7,
          8,
          9,
          6,
          7,
          8,
          9,
          10,
          11,
          12,
          6,
          7,
          8,
          9,
          13,
          14,
          15,
          6,
          7,
          8,
          9,
          6,
          7,
          8,
          9,
          6,
          7,
          8,
          9,
          10,
          11,
          12,
          6,
          7,
          8,
          9,
          13,
          14,
          15,
          6,
          7,
          8,
          9,
          6,
          7,
          8,
          9,
          6,
          7,
          8,
          9,
          6,
          7,
          8,
          9,
          10,
          11,
          12,
          6,
          7,
          8,
          9,
          13,
          14,
          15,
          6,
          7,
          8,
          9,
          6,
          7,
          8,
          9,
          6,
          7,
          8,
          9,
          6,
          7,
          8,
          9,
          10,
          11,
          12,
          6,
          7,
          8,
          9,
          13,
          14,
          15,
          6,
          7,
          8,
          9,
          6,
          7,
          8,
          9,
          6,
          7,
          8,
          9,
          6,
          7,
          8,
          9,
          10,
          11,
          12,
          6,
          7,
          8,
          9,
          13,
          14,
          15,
          6,
          7,
          8,
          9,
          6,
          7,
          8,
          9,
          6,
          7,
          8,
          9,
          10,
          11,
          12,
          6,
          7,
          8,
          9,
          13,
          14,
          15,
          6,
          7,
          8,
          9,
          6,
          7,
          8,
          9,
          6,
          7,
          8,
          9,
          6,
          7,
          8,
          9,
          10,
          11,
          12,
          6,
          7,
          8,
          9,
          13,
          14,
          15,
          6,
          7,
          8,
          9,
          6,
          7,
          8,
          9,
          6,
          7,
          8,
          9,
          6,
          7,
          8,
          9,
          10,
          11,
          12,
          6,
          7,
          8,
          9,
          13,
          14,
          15,
          6,
          7,
          8,
          9,
          6,
          7,
          8,
          9,
          6,
          7,
          8,
          9,
          10,
          11,
          12,
          6,
          7,
          8,
          9,
          13,
          14,
          15,
          6,
          7,
          8,
          9,
          6,
          7,
          8,
          9,
          6,
          7,
          8,
          9,
          6,
          7,
          8,
          9,
          10,
          11,
          12,
          6,
          7,
          8,
          9,
          13,
          14,
          15,
          6,
          7,
          8,
          9,
          6,
          7,
          8,
          9,
          6,
          7,
          8,
          9,
          6,
          7,
          8,
          9,
          10,
          11,
          12,
          6,
          7,
          8,
          9,
          13,
          14,
          15,
          6,
          7,
          8,
          9,
          6,
          7,
          8,
          9,
          6,
          7,
          8,
          9,
          6,
          7,
          8,
          9,
          10,
          11,
          12,
          6,
          7,
          8,
          9,
          13,
          14,
          15,
          6,
          7,
          8,
          9,
          6,
          7,
          8,
          9,
          6,
          7,
          8,
          9,
          10,
          11,
          12,
          6,
          7,
          8,
          9,
          6,
          7,
          8,
          9,
          6,
          7,
          8,
          9,
          6,
          7,
          8,
          9,
          6,
          7,
          8,
          9,
          10,
          11,
          12,
          6,
          7,
          8,
          9,
          6,
          7,
          8,
          9,
          6,
          7,
          8,
          9,
          6,
          7,
          8,
          9,
          6,
          7,
          8,
          9,
          10,
          11,
          12,
          6,
          7,
          8,
          9,
          13,
          14,
          15,
          6,
          7,
          8,
          9,
          6,
          7,
          8,
          9,
          6,
          7,
          8,
          9,
          6,
          7,
          8,
          9,
          10,
          11,
          12,
          6,
          7,
          8,
          9,
          13,
          14,
          15,
          6,
          7,
          8,
          9,
          6,
          7,
          8,
          9,
          6,
          7,
          8,
          9,
          10,
          11,
          12,
          6,
          7,
          8,
          9,
          13,
          14,
          15,
          6,
          7,
          8,
          9,
          6,
          7,
          8,
          9,
          6,
          7,
          8,
          9,
          6,
          7,
          8,
          9,
          10,
          11,
          12,
          6,
          7,
          8,
          9,
          13,
          14,
          15,
          6,
          7,
          8,
          9,
          6,
          7,
          8,
          9,
          6,
          7,
          8,
          9,
          6,
          7,
          8,
          9,
          10,
          11,
          12,
          6,
          7,
          8,
          9,
          13,
          14,
          15,
          6,
          7,
          8,
          9,
          6,
          7,
          8,
          9,
          6,
          7,
          8,
          9,
          6,
          7,
          8,
          9,
          10,
          11,
          12,
          6,
          7,
          8,
          9,
          13,
          14,
          15,
          6,
          7,
          8,
          9,
          6,
          7,
          8,
          9,
          6,
          7,
          8,
          9,
          10,
          11,
          12,
          6,
          7,
          8,
          9,
          13,
          14,
          15,
          6,
          7,
          8,
          9,
          6,
          7,
          8,
          9,
          6,
          7,
          8,
          9,
          6,
          7,
          8,
          9,
          10,
          11,
          12,
          6,
          7,
          8,
          9,
          6,
          7,
          8,
          9,
          6,
          7,
          8,
          9,
          6,
          7,
          8,
          9,
          6,
          7,
          8,
          9,
          10,
          11,
          12,
          6,
          7,
          8,
          9,
          13,
          14,
          15,
          6,
          7,
          8,
          9,
          6,
          7,
          8,
          9,
          6,
          7,
          8,
          9,
          10,
          11,
          12,
          6,
          7,
          8,
          9,
          13,
          14,
          15,
          6,
          7,
          8,
          9,
          6,
          7,
          8,
          9,
          6,
          7,
          8,
          9,
          6,
          7,
          8,
          9,
          10,
          11,
          12,
          6,
          7,
          8,
          9,
          13,
          14,
          15,
          6,
          7,
          8,
          9,
          6,
          7,
          8,
          9,
          6,
          7,
          8,
          9,
          6,
          7,
          8,
          9,
          10,
          11,
          12,
          6,
          7,
          8,
          9,
          13,
          14,
          15,
          6,
          7,
          8,
          9,
          6,
          7,
          8,
          9,
          6,
          7,
          8,
          9,
          6,
          7,
          8,
          9,
          10,
          11,
          12,
          6,
          7,
          8,
          9,
          13,
          14,
          15,
          6,
          7,
          8,
          9,
          6,
          7,
          8,
          9,
          6,
          7,
          8,
          9,
          10,
          11,
          12,
          6,
          7,
          8,
          9,
          13,
          14,
          15,
          6,
          7,
          8,
          9,
          6,
          7,
          8,
          9,
          6,
          7,
          8,
          9,
          6,
          7,
          8,
          9,
          10,
          11,
          12,
          6,
          7,
          8,
          9,
          13,
          14,
          15,
          6,
          7,
          8,
          9,
          6,
          7,
          8,
          9,
          6,
          7,
          8,
          9,
          6,
          7,
          8,
          9,
          10,
          11,
          12,
          6,
          7,
          8,
          9,
          13,
          14,
          15,
          6,
          7,
          8,
          9,
          6,
          7,
          8,
          9,
          6,
          7,
          8,
          9,
          6,
          7,
          8,
          9,
          10,
          11,
          12,
          6,
          7,
          8,
          9,
          13,
          14,
          15,
          6,
          7,
          8,
          9,
          6,
          7,
          8,
          9,
          6,
          7,
          8,
          9,
          10,
          11,
          12,
          6,
          7,
          8,
          13,
          14,
          15,
          6,
          7,
          8,
          9,
          6,
          7,
          8,
          9,
          6,
          7,
          8,
          9,
          6,
          7,
          8,
          9,
          10,
          11,
          12,
          6,
          7,
          8,
          9,
          6,
          7,
          8,
          9,
          6,
          7,
          8,
          9,
          6,
          7,
          8,
          9,
          10,
          11,
          12,
          6,
          7,
          8,
          9,
          6,
          7,
          8,
          9,
          6,
          7,
          8,
          9,
          6,
          7,
          8,
          9,
          6,
          7,
          8,
          9,
          10,
          11,
          12,
          6,
          7,
          8,
          9,
          13,
          14,
          15,
          6,
          7,
          8,
          9,
          6,
          7,
          8,
          9,
          6,
          7,
          8,
          9,
          6,
          7,
          8,
          9,
          10,
          11,
          12,
          6,
          7,
          8,
          9,
          13,
          14,
          15,
          6,
          7,
          8,
          9,
          6,
          7,
          8,
          9,
          6,
          7,
          8,
          9,
          6,
          7,
          8,
          9,
          10,
          11,
          12,
          6,
          7,
          8,
          9,
          6,
          7,
          8,
          9,
          6,
          7,
          8,
          9,
          6,
          7,
          8,
          9,
          10,
          11,
          12,
          6,
          7,
          8,
          9,
          13,
          14,
          15,
          6,
          7,
          8,
          9,
          6,
          7,
          8,
          9,
          6,
          7,
          8,
          9,
          6,
          7,
          8,
          9,
          10,
          11,
          12,
          6,
          7,
          8,
          9,
          13,
          14,
          15,
          6,
          7,
          8,
          9,
          6,
          7,
          8,
          9,
          6,
          7,
          8,
          9,
          6,
          7,
          8,
          9,
          10,
          11,
          12,
          6,
          7,
          8,
          9,
          13,
          14,
          15,
          6,
          7,
          8,
          9,
          6,
          7,
          8,
          9,
          6,
          7,
          8,
          9,
          6,
          7,
          8,
          9,
          10,
          11,
          12,
          6,
          7,
          8,
          9,
          13,
          14,
          15,
          6,
          7,
          8,
          9,
          6,
          7,
          8,
          9,
          6,
          7,
          8,
          9,
          10,
          11,
          12,
          6,
          7,
          8,
          9,
          6,
          7,
          8,
          9,
          6,
          7,
          8,
          9,
          6,
          7,
          8,
          9,
          6,
          7,
          8,
          9,
          10,
          11,
          12,
          6,
          7,
          8,
          9,
          13,
          14,
          15,
          6,
          7,
          8,
          9,
          6,
          7,
          8,
          9,
          6,
          7,
          8,
          9,
          6,
          7,
          8,
          9,
          10,
          11,
          12,
          6,
          7,
          8,
          9,
          13,
          14,
          15,
          6,
          7,
          8,
          9,
          6,
          7,
          8,
          9,
          6,
          7,
          8,
          9,
          10,
          11,
          12,
          6,
          7,
          8,
          9,
          13,
          14,
          15,
          6,
          7,
          8,
          9,
          6,
          7,
          8,
          9,
          6,
          7,
          8,
          9,
          6,
          7,
          8,
          9,
          10,
          11,
          12,
          6,
          7,
          8,
          9,
          6,
          7,
          8,
          9,
          6,
          7,
          8,
          9,
          6,
          7,
          8,
          9,
          6,
          7,
          8,
          9,
          10,
          11,
          12,
          6,
          7,
          8,
          9,
          6,
          7,
          8,
          9,
          6,
          7,
          8,
          9,
          6,
          7,
          8,
          9,
          6,
          7,
          8,
          9,
          10,
          11,
          12,
          6,
          7,
          8,
          9,
          13,
          14,
          15,
          6,
          7,
          8,
          9,
          6,
          7,
          8,
          9,
          6,
          7,
          8,
          9,
          10,
          11,
          12,
          6,
          7,
          8,
          9,
          13,
          14,
          15,
          6,
          7,
          8,
          9,
          6,
          7,
          8,
          9,
          6,
          7,
          8,
          9,
          6,
          7,
          8,
          9,
          10,
          11,
          12,
          6,
          7,
          8,
          9,
          13,
          14,
          15,
          6,
          7,
          8,
          9,
          6,
          7,
          8,
          9,
          6,
          7,
          8,
          9,
          6,
          7,
          8,
          9,
          10,
          11,
          12,
          6,
          7,
          8,
          9,
          13,
          14,
          15,
          6,
          7,
          8,
          9,
          6,
          7,
          8,
          9,
          6,
          7,
          8,
          9,
          6,
          7,
          8,
          9,
          10,
          11,
          12,
          6,
          7,
          8,
          9,
          13,
          14,
          15,
          6,
          7,
          8,
          9,
          6,
          7,
          8,
          9,
          6,
          7,
          8,
          9,
          10,
          11,
          12
         ]
        },
        {
         "line": {
          "width": 0.5
         },
         "marker": {
          "color": "lawngreen",
          "size": 8
         },
         "mode": "lines+markers",
         "name": "gt_communication",
         "showlegend": true,
         "type": "scatter",
         "x": [
          null
         ],
         "y": [
          null
         ]
        },
        {
         "line": {
          "width": 0.5
         },
         "marker": {
          "color": "blue",
          "size": 8
         },
         "mode": "lines+markers",
         "name": "gt_sensor",
         "showlegend": true,
         "type": "scatter",
         "x": [
          null
         ],
         "y": [
          null
         ]
        },
        {
         "line": {
          "width": 0.5
         },
         "marker": {
          "color": "lightcoral",
          "size": 8
         },
         "mode": "lines+markers",
         "name": "gt_bitflip",
         "showlegend": true,
         "type": "scatter",
         "x": [
          null
         ],
         "y": [
          null
         ]
        }
       ],
       "layout": {
        "autosize": true,
        "height": 800,
        "plot_bgcolor": "rgba(0,0,0,0)",
        "shapes": [
         {
          "fillcolor": "lawngreen",
          "layer": "below",
          "line": {
           "width": 0
          },
          "opacity": 0.5,
          "type": "rect",
          "x0": 170,
          "x1": 190,
          "xref": "x",
          "y0": 0,
          "y1": 1,
          "yref": "paper"
         },
         {
          "line": {
           "color": "lawngreen",
           "dash": "dot",
           "width": 2
          },
          "type": "line",
          "x0": 170,
          "x1": 170,
          "xref": "x",
          "y0": 0,
          "y1": 1,
          "yref": "paper"
         },
         {
          "line": {
           "color": "lawngreen",
           "dash": "dot",
           "width": 2
          },
          "type": "line",
          "x0": 190,
          "x1": 190,
          "xref": "x",
          "y0": 0,
          "y1": 1,
          "yref": "paper"
         },
         {
          "fillcolor": "lawngreen",
          "layer": "below",
          "line": {
           "width": 0
          },
          "opacity": 0.5,
          "type": "rect",
          "x0": 185,
          "x1": 205,
          "xref": "x",
          "y0": 0,
          "y1": 1,
          "yref": "paper"
         },
         {
          "line": {
           "color": "lawngreen",
           "dash": "dot",
           "width": 2
          },
          "type": "line",
          "x0": 185,
          "x1": 185,
          "xref": "x",
          "y0": 0,
          "y1": 1,
          "yref": "paper"
         },
         {
          "line": {
           "color": "lawngreen",
           "dash": "dot",
           "width": 2
          },
          "type": "line",
          "x0": 205,
          "x1": 205,
          "xref": "x",
          "y0": 0,
          "y1": 1,
          "yref": "paper"
         },
         {
          "fillcolor": "lawngreen",
          "layer": "below",
          "line": {
           "width": 0
          },
          "opacity": 0.5,
          "type": "rect",
          "x0": 315,
          "x1": 335,
          "xref": "x",
          "y0": 0,
          "y1": 1,
          "yref": "paper"
         },
         {
          "line": {
           "color": "lawngreen",
           "dash": "dot",
           "width": 2
          },
          "type": "line",
          "x0": 315,
          "x1": 315,
          "xref": "x",
          "y0": 0,
          "y1": 1,
          "yref": "paper"
         },
         {
          "line": {
           "color": "lawngreen",
           "dash": "dot",
           "width": 2
          },
          "type": "line",
          "x0": 335,
          "x1": 335,
          "xref": "x",
          "y0": 0,
          "y1": 1,
          "yref": "paper"
         },
         {
          "fillcolor": "lawngreen",
          "layer": "below",
          "line": {
           "width": 0
          },
          "opacity": 0.5,
          "type": "rect",
          "x0": 410,
          "x1": 430,
          "xref": "x",
          "y0": 0,
          "y1": 1,
          "yref": "paper"
         },
         {
          "line": {
           "color": "lawngreen",
           "dash": "dot",
           "width": 2
          },
          "type": "line",
          "x0": 410,
          "x1": 410,
          "xref": "x",
          "y0": 0,
          "y1": 1,
          "yref": "paper"
         },
         {
          "line": {
           "color": "lawngreen",
           "dash": "dot",
           "width": 2
          },
          "type": "line",
          "x0": 430,
          "x1": 430,
          "xref": "x",
          "y0": 0,
          "y1": 1,
          "yref": "paper"
         },
         {
          "fillcolor": "lawngreen",
          "layer": "below",
          "line": {
           "width": 0
          },
          "opacity": 0.5,
          "type": "rect",
          "x0": 510,
          "x1": 530,
          "xref": "x",
          "y0": 0,
          "y1": 1,
          "yref": "paper"
         },
         {
          "line": {
           "color": "lawngreen",
           "dash": "dot",
           "width": 2
          },
          "type": "line",
          "x0": 510,
          "x1": 510,
          "xref": "x",
          "y0": 0,
          "y1": 1,
          "yref": "paper"
         },
         {
          "line": {
           "color": "lawngreen",
           "dash": "dot",
           "width": 2
          },
          "type": "line",
          "x0": 530,
          "x1": 530,
          "xref": "x",
          "y0": 0,
          "y1": 1,
          "yref": "paper"
         },
         {
          "fillcolor": "lawngreen",
          "layer": "below",
          "line": {
           "width": 0
          },
          "opacity": 0.5,
          "type": "rect",
          "x0": 535,
          "x1": 555,
          "xref": "x",
          "y0": 0,
          "y1": 1,
          "yref": "paper"
         },
         {
          "line": {
           "color": "lawngreen",
           "dash": "dot",
           "width": 2
          },
          "type": "line",
          "x0": 535,
          "x1": 535,
          "xref": "x",
          "y0": 0,
          "y1": 1,
          "yref": "paper"
         },
         {
          "line": {
           "color": "lawngreen",
           "dash": "dot",
           "width": 2
          },
          "type": "line",
          "x0": 555,
          "x1": 555,
          "xref": "x",
          "y0": 0,
          "y1": 1,
          "yref": "paper"
         },
         {
          "fillcolor": "lawngreen",
          "layer": "below",
          "line": {
           "width": 0
          },
          "opacity": 0.5,
          "type": "rect",
          "x0": 870,
          "x1": 890,
          "xref": "x",
          "y0": 0,
          "y1": 1,
          "yref": "paper"
         },
         {
          "line": {
           "color": "lawngreen",
           "dash": "dot",
           "width": 2
          },
          "type": "line",
          "x0": 870,
          "x1": 870,
          "xref": "x",
          "y0": 0,
          "y1": 1,
          "yref": "paper"
         },
         {
          "line": {
           "color": "lawngreen",
           "dash": "dot",
           "width": 2
          },
          "type": "line",
          "x0": 890,
          "x1": 890,
          "xref": "x",
          "y0": 0,
          "y1": 1,
          "yref": "paper"
         },
         {
          "fillcolor": "lawngreen",
          "layer": "below",
          "line": {
           "width": 0
          },
          "opacity": 0.5,
          "type": "rect",
          "x0": 895,
          "x1": 915,
          "xref": "x",
          "y0": 0,
          "y1": 1,
          "yref": "paper"
         },
         {
          "line": {
           "color": "lawngreen",
           "dash": "dot",
           "width": 2
          },
          "type": "line",
          "x0": 895,
          "x1": 895,
          "xref": "x",
          "y0": 0,
          "y1": 1,
          "yref": "paper"
         },
         {
          "line": {
           "color": "lawngreen",
           "dash": "dot",
           "width": 2
          },
          "type": "line",
          "x0": 915,
          "x1": 915,
          "xref": "x",
          "y0": 0,
          "y1": 1,
          "yref": "paper"
         },
         {
          "fillcolor": "lawngreen",
          "layer": "below",
          "line": {
           "width": 0
          },
          "opacity": 0.5,
          "type": "rect",
          "x0": 915,
          "x1": 935,
          "xref": "x",
          "y0": 0,
          "y1": 1,
          "yref": "paper"
         },
         {
          "line": {
           "color": "lawngreen",
           "dash": "dot",
           "width": 2
          },
          "type": "line",
          "x0": 915,
          "x1": 915,
          "xref": "x",
          "y0": 0,
          "y1": 1,
          "yref": "paper"
         },
         {
          "line": {
           "color": "lawngreen",
           "dash": "dot",
           "width": 2
          },
          "type": "line",
          "x0": 935,
          "x1": 935,
          "xref": "x",
          "y0": 0,
          "y1": 1,
          "yref": "paper"
         },
         {
          "fillcolor": "blue",
          "layer": "below",
          "line": {
           "width": 0
          },
          "opacity": 0.5,
          "type": "rect",
          "x0": 915,
          "x1": 935,
          "xref": "x",
          "y0": 0,
          "y1": 1,
          "yref": "paper"
         },
         {
          "line": {
           "color": "blue",
           "dash": "dot",
           "width": 2
          },
          "type": "line",
          "x0": 915,
          "x1": 915,
          "xref": "x",
          "y0": 0,
          "y1": 1,
          "yref": "paper"
         },
         {
          "line": {
           "color": "blue",
           "dash": "dot",
           "width": 2
          },
          "type": "line",
          "x0": 935,
          "x1": 935,
          "xref": "x",
          "y0": 0,
          "y1": 1,
          "yref": "paper"
         },
         {
          "fillcolor": "lawngreen",
          "layer": "below",
          "line": {
           "width": 0
          },
          "opacity": 0.5,
          "type": "rect",
          "x0": 935,
          "x1": 955,
          "xref": "x",
          "y0": 0,
          "y1": 1,
          "yref": "paper"
         },
         {
          "line": {
           "color": "lawngreen",
           "dash": "dot",
           "width": 2
          },
          "type": "line",
          "x0": 935,
          "x1": 935,
          "xref": "x",
          "y0": 0,
          "y1": 1,
          "yref": "paper"
         },
         {
          "line": {
           "color": "lawngreen",
           "dash": "dot",
           "width": 2
          },
          "type": "line",
          "x0": 955,
          "x1": 955,
          "xref": "x",
          "y0": 0,
          "y1": 1,
          "yref": "paper"
         },
         {
          "fillcolor": "lawngreen",
          "layer": "below",
          "line": {
           "width": 0
          },
          "opacity": 0.5,
          "type": "rect",
          "x0": 955,
          "x1": 975,
          "xref": "x",
          "y0": 0,
          "y1": 1,
          "yref": "paper"
         },
         {
          "line": {
           "color": "lawngreen",
           "dash": "dot",
           "width": 2
          },
          "type": "line",
          "x0": 955,
          "x1": 955,
          "xref": "x",
          "y0": 0,
          "y1": 1,
          "yref": "paper"
         },
         {
          "line": {
           "color": "lawngreen",
           "dash": "dot",
           "width": 2
          },
          "type": "line",
          "x0": 975,
          "x1": 975,
          "xref": "x",
          "y0": 0,
          "y1": 1,
          "yref": "paper"
         },
         {
          "fillcolor": "lawngreen",
          "layer": "below",
          "line": {
           "width": 0
          },
          "opacity": 0.5,
          "type": "rect",
          "x0": 1105,
          "x1": 1125,
          "xref": "x",
          "y0": 0,
          "y1": 1,
          "yref": "paper"
         },
         {
          "line": {
           "color": "lawngreen",
           "dash": "dot",
           "width": 2
          },
          "type": "line",
          "x0": 1105,
          "x1": 1105,
          "xref": "x",
          "y0": 0,
          "y1": 1,
          "yref": "paper"
         },
         {
          "line": {
           "color": "lawngreen",
           "dash": "dot",
           "width": 2
          },
          "type": "line",
          "x0": 1125,
          "x1": 1125,
          "xref": "x",
          "y0": 0,
          "y1": 1,
          "yref": "paper"
         },
         {
          "fillcolor": "lawngreen",
          "layer": "below",
          "line": {
           "width": 0
          },
          "opacity": 0.5,
          "type": "rect",
          "x0": 1595,
          "x1": 1615,
          "xref": "x",
          "y0": 0,
          "y1": 1,
          "yref": "paper"
         },
         {
          "line": {
           "color": "lawngreen",
           "dash": "dot",
           "width": 2
          },
          "type": "line",
          "x0": 1595,
          "x1": 1595,
          "xref": "x",
          "y0": 0,
          "y1": 1,
          "yref": "paper"
         },
         {
          "line": {
           "color": "lawngreen",
           "dash": "dot",
           "width": 2
          },
          "type": "line",
          "x0": 1615,
          "x1": 1615,
          "xref": "x",
          "y0": 0,
          "y1": 1,
          "yref": "paper"
         },
         {
          "fillcolor": "lawngreen",
          "layer": "below",
          "line": {
           "width": 0
          },
          "opacity": 0.5,
          "type": "rect",
          "x0": 1615,
          "x1": 1635,
          "xref": "x",
          "y0": 0,
          "y1": 1,
          "yref": "paper"
         },
         {
          "line": {
           "color": "lawngreen",
           "dash": "dot",
           "width": 2
          },
          "type": "line",
          "x0": 1615,
          "x1": 1615,
          "xref": "x",
          "y0": 0,
          "y1": 1,
          "yref": "paper"
         },
         {
          "line": {
           "color": "lawngreen",
           "dash": "dot",
           "width": 2
          },
          "type": "line",
          "x0": 1635,
          "x1": 1635,
          "xref": "x",
          "y0": 0,
          "y1": 1,
          "yref": "paper"
         },
         {
          "fillcolor": "blue",
          "layer": "below",
          "line": {
           "width": 0
          },
          "opacity": 0.5,
          "type": "rect",
          "x0": 1210,
          "x1": 1230,
          "xref": "x",
          "y0": 0,
          "y1": 1,
          "yref": "paper"
         },
         {
          "line": {
           "color": "blue",
           "dash": "dot",
           "width": 2
          },
          "type": "line",
          "x0": 1210,
          "x1": 1210,
          "xref": "x",
          "y0": 0,
          "y1": 1,
          "yref": "paper"
         },
         {
          "line": {
           "color": "blue",
           "dash": "dot",
           "width": 2
          },
          "type": "line",
          "x0": 1230,
          "x1": 1230,
          "xref": "x",
          "y0": 0,
          "y1": 1,
          "yref": "paper"
         },
         {
          "fillcolor": "lawngreen",
          "layer": "below",
          "line": {
           "width": 0
          },
          "opacity": 0.5,
          "type": "rect",
          "x0": 1815,
          "x1": 1835,
          "xref": "x",
          "y0": 0,
          "y1": 1,
          "yref": "paper"
         },
         {
          "line": {
           "color": "lawngreen",
           "dash": "dot",
           "width": 2
          },
          "type": "line",
          "x0": 1815,
          "x1": 1815,
          "xref": "x",
          "y0": 0,
          "y1": 1,
          "yref": "paper"
         },
         {
          "line": {
           "color": "lawngreen",
           "dash": "dot",
           "width": 2
          },
          "type": "line",
          "x0": 1835,
          "x1": 1835,
          "xref": "x",
          "y0": 0,
          "y1": 1,
          "yref": "paper"
         },
         {
          "fillcolor": "blue",
          "layer": "below",
          "line": {
           "width": 0
          },
          "opacity": 0.5,
          "type": "rect",
          "x0": 2060,
          "x1": 2080,
          "xref": "x",
          "y0": 0,
          "y1": 1,
          "yref": "paper"
         },
         {
          "line": {
           "color": "blue",
           "dash": "dot",
           "width": 2
          },
          "type": "line",
          "x0": 2060,
          "x1": 2060,
          "xref": "x",
          "y0": 0,
          "y1": 1,
          "yref": "paper"
         },
         {
          "line": {
           "color": "blue",
           "dash": "dot",
           "width": 2
          },
          "type": "line",
          "x0": 2080,
          "x1": 2080,
          "xref": "x",
          "y0": 0,
          "y1": 1,
          "yref": "paper"
         },
         {
          "fillcolor": "lawngreen",
          "layer": "below",
          "line": {
           "width": 0
          },
          "opacity": 0.5,
          "type": "rect",
          "x0": 2085,
          "x1": 2105,
          "xref": "x",
          "y0": 0,
          "y1": 1,
          "yref": "paper"
         },
         {
          "line": {
           "color": "lawngreen",
           "dash": "dot",
           "width": 2
          },
          "type": "line",
          "x0": 2085,
          "x1": 2085,
          "xref": "x",
          "y0": 0,
          "y1": 1,
          "yref": "paper"
         },
         {
          "line": {
           "color": "lawngreen",
           "dash": "dot",
           "width": 2
          },
          "type": "line",
          "x0": 2105,
          "x1": 2105,
          "xref": "x",
          "y0": 0,
          "y1": 1,
          "yref": "paper"
         },
         {
          "fillcolor": "lawngreen",
          "layer": "below",
          "line": {
           "width": 0
          },
          "opacity": 0.5,
          "type": "rect",
          "x0": 2105,
          "x1": 2125,
          "xref": "x",
          "y0": 0,
          "y1": 1,
          "yref": "paper"
         },
         {
          "line": {
           "color": "lawngreen",
           "dash": "dot",
           "width": 2
          },
          "type": "line",
          "x0": 2105,
          "x1": 2105,
          "xref": "x",
          "y0": 0,
          "y1": 1,
          "yref": "paper"
         },
         {
          "line": {
           "color": "lawngreen",
           "dash": "dot",
           "width": 2
          },
          "type": "line",
          "x0": 2125,
          "x1": 2125,
          "xref": "x",
          "y0": 0,
          "y1": 1,
          "yref": "paper"
         },
         {
          "fillcolor": "lawngreen",
          "layer": "below",
          "line": {
           "width": 0
          },
          "opacity": 0.5,
          "type": "rect",
          "x0": 2180,
          "x1": 2200,
          "xref": "x",
          "y0": 0,
          "y1": 1,
          "yref": "paper"
         },
         {
          "line": {
           "color": "lawngreen",
           "dash": "dot",
           "width": 2
          },
          "type": "line",
          "x0": 2180,
          "x1": 2180,
          "xref": "x",
          "y0": 0,
          "y1": 1,
          "yref": "paper"
         },
         {
          "line": {
           "color": "lawngreen",
           "dash": "dot",
           "width": 2
          },
          "type": "line",
          "x0": 2200,
          "x1": 2200,
          "xref": "x",
          "y0": 0,
          "y1": 1,
          "yref": "paper"
         },
         {
          "fillcolor": "lawngreen",
          "layer": "below",
          "line": {
           "width": 0
          },
          "opacity": 0.5,
          "type": "rect",
          "x0": 2300,
          "x1": 2320,
          "xref": "x",
          "y0": 0,
          "y1": 1,
          "yref": "paper"
         },
         {
          "line": {
           "color": "lawngreen",
           "dash": "dot",
           "width": 2
          },
          "type": "line",
          "x0": 2300,
          "x1": 2300,
          "xref": "x",
          "y0": 0,
          "y1": 1,
          "yref": "paper"
         },
         {
          "line": {
           "color": "lawngreen",
           "dash": "dot",
           "width": 2
          },
          "type": "line",
          "x0": 2320,
          "x1": 2320,
          "xref": "x",
          "y0": 0,
          "y1": 1,
          "yref": "paper"
         },
         {
          "fillcolor": "lawngreen",
          "layer": "below",
          "line": {
           "width": 0
          },
          "opacity": 0.5,
          "type": "rect",
          "x0": 2395,
          "x1": 2415,
          "xref": "x",
          "y0": 0,
          "y1": 1,
          "yref": "paper"
         },
         {
          "line": {
           "color": "lawngreen",
           "dash": "dot",
           "width": 2
          },
          "type": "line",
          "x0": 2395,
          "x1": 2395,
          "xref": "x",
          "y0": 0,
          "y1": 1,
          "yref": "paper"
         },
         {
          "line": {
           "color": "lawngreen",
           "dash": "dot",
           "width": 2
          },
          "type": "line",
          "x0": 2415,
          "x1": 2415,
          "xref": "x",
          "y0": 0,
          "y1": 1,
          "yref": "paper"
         },
         {
          "fillcolor": "lawngreen",
          "layer": "below",
          "line": {
           "width": 0
          },
          "opacity": 0.5,
          "type": "rect",
          "x0": 2415,
          "x1": 2435,
          "xref": "x",
          "y0": 0,
          "y1": 1,
          "yref": "paper"
         },
         {
          "line": {
           "color": "lawngreen",
           "dash": "dot",
           "width": 2
          },
          "type": "line",
          "x0": 2415,
          "x1": 2415,
          "xref": "x",
          "y0": 0,
          "y1": 1,
          "yref": "paper"
         },
         {
          "line": {
           "color": "lawngreen",
           "dash": "dot",
           "width": 2
          },
          "type": "line",
          "x0": 2435,
          "x1": 2435,
          "xref": "x",
          "y0": 0,
          "y1": 1,
          "yref": "paper"
         }
        ],
        "template": {
         "data": {
          "bar": [
           {
            "error_x": {
             "color": "#2a3f5f"
            },
            "error_y": {
             "color": "#2a3f5f"
            },
            "marker": {
             "line": {
              "color": "#E5ECF6",
              "width": 0.5
             },
             "pattern": {
              "fillmode": "overlay",
              "size": 10,
              "solidity": 0.2
             }
            },
            "type": "bar"
           }
          ],
          "barpolar": [
           {
            "marker": {
             "line": {
              "color": "#E5ECF6",
              "width": 0.5
             },
             "pattern": {
              "fillmode": "overlay",
              "size": 10,
              "solidity": 0.2
             }
            },
            "type": "barpolar"
           }
          ],
          "carpet": [
           {
            "aaxis": {
             "endlinecolor": "#2a3f5f",
             "gridcolor": "white",
             "linecolor": "white",
             "minorgridcolor": "white",
             "startlinecolor": "#2a3f5f"
            },
            "baxis": {
             "endlinecolor": "#2a3f5f",
             "gridcolor": "white",
             "linecolor": "white",
             "minorgridcolor": "white",
             "startlinecolor": "#2a3f5f"
            },
            "type": "carpet"
           }
          ],
          "choropleth": [
           {
            "colorbar": {
             "outlinewidth": 0,
             "ticks": ""
            },
            "type": "choropleth"
           }
          ],
          "contour": [
           {
            "colorbar": {
             "outlinewidth": 0,
             "ticks": ""
            },
            "colorscale": [
             [
              0,
              "#0d0887"
             ],
             [
              0.1111111111111111,
              "#46039f"
             ],
             [
              0.2222222222222222,
              "#7201a8"
             ],
             [
              0.3333333333333333,
              "#9c179e"
             ],
             [
              0.4444444444444444,
              "#bd3786"
             ],
             [
              0.5555555555555556,
              "#d8576b"
             ],
             [
              0.6666666666666666,
              "#ed7953"
             ],
             [
              0.7777777777777778,
              "#fb9f3a"
             ],
             [
              0.8888888888888888,
              "#fdca26"
             ],
             [
              1,
              "#f0f921"
             ]
            ],
            "type": "contour"
           }
          ],
          "contourcarpet": [
           {
            "colorbar": {
             "outlinewidth": 0,
             "ticks": ""
            },
            "type": "contourcarpet"
           }
          ],
          "heatmap": [
           {
            "colorbar": {
             "outlinewidth": 0,
             "ticks": ""
            },
            "colorscale": [
             [
              0,
              "#0d0887"
             ],
             [
              0.1111111111111111,
              "#46039f"
             ],
             [
              0.2222222222222222,
              "#7201a8"
             ],
             [
              0.3333333333333333,
              "#9c179e"
             ],
             [
              0.4444444444444444,
              "#bd3786"
             ],
             [
              0.5555555555555556,
              "#d8576b"
             ],
             [
              0.6666666666666666,
              "#ed7953"
             ],
             [
              0.7777777777777778,
              "#fb9f3a"
             ],
             [
              0.8888888888888888,
              "#fdca26"
             ],
             [
              1,
              "#f0f921"
             ]
            ],
            "type": "heatmap"
           }
          ],
          "heatmapgl": [
           {
            "colorbar": {
             "outlinewidth": 0,
             "ticks": ""
            },
            "colorscale": [
             [
              0,
              "#0d0887"
             ],
             [
              0.1111111111111111,
              "#46039f"
             ],
             [
              0.2222222222222222,
              "#7201a8"
             ],
             [
              0.3333333333333333,
              "#9c179e"
             ],
             [
              0.4444444444444444,
              "#bd3786"
             ],
             [
              0.5555555555555556,
              "#d8576b"
             ],
             [
              0.6666666666666666,
              "#ed7953"
             ],
             [
              0.7777777777777778,
              "#fb9f3a"
             ],
             [
              0.8888888888888888,
              "#fdca26"
             ],
             [
              1,
              "#f0f921"
             ]
            ],
            "type": "heatmapgl"
           }
          ],
          "histogram": [
           {
            "marker": {
             "pattern": {
              "fillmode": "overlay",
              "size": 10,
              "solidity": 0.2
             }
            },
            "type": "histogram"
           }
          ],
          "histogram2d": [
           {
            "colorbar": {
             "outlinewidth": 0,
             "ticks": ""
            },
            "colorscale": [
             [
              0,
              "#0d0887"
             ],
             [
              0.1111111111111111,
              "#46039f"
             ],
             [
              0.2222222222222222,
              "#7201a8"
             ],
             [
              0.3333333333333333,
              "#9c179e"
             ],
             [
              0.4444444444444444,
              "#bd3786"
             ],
             [
              0.5555555555555556,
              "#d8576b"
             ],
             [
              0.6666666666666666,
              "#ed7953"
             ],
             [
              0.7777777777777778,
              "#fb9f3a"
             ],
             [
              0.8888888888888888,
              "#fdca26"
             ],
             [
              1,
              "#f0f921"
             ]
            ],
            "type": "histogram2d"
           }
          ],
          "histogram2dcontour": [
           {
            "colorbar": {
             "outlinewidth": 0,
             "ticks": ""
            },
            "colorscale": [
             [
              0,
              "#0d0887"
             ],
             [
              0.1111111111111111,
              "#46039f"
             ],
             [
              0.2222222222222222,
              "#7201a8"
             ],
             [
              0.3333333333333333,
              "#9c179e"
             ],
             [
              0.4444444444444444,
              "#bd3786"
             ],
             [
              0.5555555555555556,
              "#d8576b"
             ],
             [
              0.6666666666666666,
              "#ed7953"
             ],
             [
              0.7777777777777778,
              "#fb9f3a"
             ],
             [
              0.8888888888888888,
              "#fdca26"
             ],
             [
              1,
              "#f0f921"
             ]
            ],
            "type": "histogram2dcontour"
           }
          ],
          "mesh3d": [
           {
            "colorbar": {
             "outlinewidth": 0,
             "ticks": ""
            },
            "type": "mesh3d"
           }
          ],
          "parcoords": [
           {
            "line": {
             "colorbar": {
              "outlinewidth": 0,
              "ticks": ""
             }
            },
            "type": "parcoords"
           }
          ],
          "pie": [
           {
            "automargin": true,
            "type": "pie"
           }
          ],
          "scatter": [
           {
            "fillpattern": {
             "fillmode": "overlay",
             "size": 10,
             "solidity": 0.2
            },
            "type": "scatter"
           }
          ],
          "scatter3d": [
           {
            "line": {
             "colorbar": {
              "outlinewidth": 0,
              "ticks": ""
             }
            },
            "marker": {
             "colorbar": {
              "outlinewidth": 0,
              "ticks": ""
             }
            },
            "type": "scatter3d"
           }
          ],
          "scattercarpet": [
           {
            "marker": {
             "colorbar": {
              "outlinewidth": 0,
              "ticks": ""
             }
            },
            "type": "scattercarpet"
           }
          ],
          "scattergeo": [
           {
            "marker": {
             "colorbar": {
              "outlinewidth": 0,
              "ticks": ""
             }
            },
            "type": "scattergeo"
           }
          ],
          "scattergl": [
           {
            "marker": {
             "colorbar": {
              "outlinewidth": 0,
              "ticks": ""
             }
            },
            "type": "scattergl"
           }
          ],
          "scattermapbox": [
           {
            "marker": {
             "colorbar": {
              "outlinewidth": 0,
              "ticks": ""
             }
            },
            "type": "scattermapbox"
           }
          ],
          "scatterpolar": [
           {
            "marker": {
             "colorbar": {
              "outlinewidth": 0,
              "ticks": ""
             }
            },
            "type": "scatterpolar"
           }
          ],
          "scatterpolargl": [
           {
            "marker": {
             "colorbar": {
              "outlinewidth": 0,
              "ticks": ""
             }
            },
            "type": "scatterpolargl"
           }
          ],
          "scatterternary": [
           {
            "marker": {
             "colorbar": {
              "outlinewidth": 0,
              "ticks": ""
             }
            },
            "type": "scatterternary"
           }
          ],
          "surface": [
           {
            "colorbar": {
             "outlinewidth": 0,
             "ticks": ""
            },
            "colorscale": [
             [
              0,
              "#0d0887"
             ],
             [
              0.1111111111111111,
              "#46039f"
             ],
             [
              0.2222222222222222,
              "#7201a8"
             ],
             [
              0.3333333333333333,
              "#9c179e"
             ],
             [
              0.4444444444444444,
              "#bd3786"
             ],
             [
              0.5555555555555556,
              "#d8576b"
             ],
             [
              0.6666666666666666,
              "#ed7953"
             ],
             [
              0.7777777777777778,
              "#fb9f3a"
             ],
             [
              0.8888888888888888,
              "#fdca26"
             ],
             [
              1,
              "#f0f921"
             ]
            ],
            "type": "surface"
           }
          ],
          "table": [
           {
            "cells": {
             "fill": {
              "color": "#EBF0F8"
             },
             "line": {
              "color": "white"
             }
            },
            "header": {
             "fill": {
              "color": "#C8D4E3"
             },
             "line": {
              "color": "white"
             }
            },
            "type": "table"
           }
          ]
         },
         "layout": {
          "annotationdefaults": {
           "arrowcolor": "#2a3f5f",
           "arrowhead": 0,
           "arrowwidth": 1
          },
          "autotypenumbers": "strict",
          "coloraxis": {
           "colorbar": {
            "outlinewidth": 0,
            "ticks": ""
           }
          },
          "colorscale": {
           "diverging": [
            [
             0,
             "#8e0152"
            ],
            [
             0.1,
             "#c51b7d"
            ],
            [
             0.2,
             "#de77ae"
            ],
            [
             0.3,
             "#f1b6da"
            ],
            [
             0.4,
             "#fde0ef"
            ],
            [
             0.5,
             "#f7f7f7"
            ],
            [
             0.6,
             "#e6f5d0"
            ],
            [
             0.7,
             "#b8e186"
            ],
            [
             0.8,
             "#7fbc41"
            ],
            [
             0.9,
             "#4d9221"
            ],
            [
             1,
             "#276419"
            ]
           ],
           "sequential": [
            [
             0,
             "#0d0887"
            ],
            [
             0.1111111111111111,
             "#46039f"
            ],
            [
             0.2222222222222222,
             "#7201a8"
            ],
            [
             0.3333333333333333,
             "#9c179e"
            ],
            [
             0.4444444444444444,
             "#bd3786"
            ],
            [
             0.5555555555555556,
             "#d8576b"
            ],
            [
             0.6666666666666666,
             "#ed7953"
            ],
            [
             0.7777777777777778,
             "#fb9f3a"
            ],
            [
             0.8888888888888888,
             "#fdca26"
            ],
            [
             1,
             "#f0f921"
            ]
           ],
           "sequentialminus": [
            [
             0,
             "#0d0887"
            ],
            [
             0.1111111111111111,
             "#46039f"
            ],
            [
             0.2222222222222222,
             "#7201a8"
            ],
            [
             0.3333333333333333,
             "#9c179e"
            ],
            [
             0.4444444444444444,
             "#bd3786"
            ],
            [
             0.5555555555555556,
             "#d8576b"
            ],
            [
             0.6666666666666666,
             "#ed7953"
            ],
            [
             0.7777777777777778,
             "#fb9f3a"
            ],
            [
             0.8888888888888888,
             "#fdca26"
            ],
            [
             1,
             "#f0f921"
            ]
           ]
          },
          "colorway": [
           "#636efa",
           "#EF553B",
           "#00cc96",
           "#ab63fa",
           "#FFA15A",
           "#19d3f3",
           "#FF6692",
           "#B6E880",
           "#FF97FF",
           "#FECB52"
          ],
          "font": {
           "color": "#2a3f5f"
          },
          "geo": {
           "bgcolor": "white",
           "lakecolor": "white",
           "landcolor": "#E5ECF6",
           "showlakes": true,
           "showland": true,
           "subunitcolor": "white"
          },
          "hoverlabel": {
           "align": "left"
          },
          "hovermode": "closest",
          "mapbox": {
           "style": "light"
          },
          "paper_bgcolor": "white",
          "plot_bgcolor": "#E5ECF6",
          "polar": {
           "angularaxis": {
            "gridcolor": "white",
            "linecolor": "white",
            "ticks": ""
           },
           "bgcolor": "#E5ECF6",
           "radialaxis": {
            "gridcolor": "white",
            "linecolor": "white",
            "ticks": ""
           }
          },
          "scene": {
           "xaxis": {
            "backgroundcolor": "#E5ECF6",
            "gridcolor": "white",
            "gridwidth": 2,
            "linecolor": "white",
            "showbackground": true,
            "ticks": "",
            "zerolinecolor": "white"
           },
           "yaxis": {
            "backgroundcolor": "#E5ECF6",
            "gridcolor": "white",
            "gridwidth": 2,
            "linecolor": "white",
            "showbackground": true,
            "ticks": "",
            "zerolinecolor": "white"
           },
           "zaxis": {
            "backgroundcolor": "#E5ECF6",
            "gridcolor": "white",
            "gridwidth": 2,
            "linecolor": "white",
            "showbackground": true,
            "ticks": "",
            "zerolinecolor": "white"
           }
          },
          "shapedefaults": {
           "line": {
            "color": "#2a3f5f"
           }
          },
          "ternary": {
           "aaxis": {
            "gridcolor": "white",
            "linecolor": "white",
            "ticks": ""
           },
           "baxis": {
            "gridcolor": "white",
            "linecolor": "white",
            "ticks": ""
           },
           "bgcolor": "#E5ECF6",
           "caxis": {
            "gridcolor": "white",
            "linecolor": "white",
            "ticks": ""
           }
          },
          "title": {
           "x": 0.05
          },
          "xaxis": {
           "automargin": true,
           "gridcolor": "white",
           "linecolor": "white",
           "ticks": "",
           "title": {
            "standoff": 15
           },
           "zerolinecolor": "white",
           "zerolinewidth": 2
          },
          "yaxis": {
           "automargin": true,
           "gridcolor": "white",
           "linecolor": "white",
           "ticks": "",
           "title": {
            "standoff": 15
           },
           "zerolinecolor": "white",
           "zerolinewidth": 2
          }
         }
        },
        "title": {
         "text": "Event Trace without Time"
        },
        "width": 1200,
        "xaxis": {
         "color": "black",
         "gridcolor": "lightgrey",
         "linecolor": "black",
         "mirror": true,
         "rangeslider": {
          "visible": true
         },
         "showline": true,
         "tickfont": {
          "size": 20
         },
         "ticks": "outside",
         "ticktext": [
          [
           0,
           1307
          ],
          [
           10,
           2928
          ],
          [
           20,
           6071
          ],
          [
           30,
           7170
          ],
          [
           40,
           9259
          ],
          [
           50,
           12403
          ],
          [
           60,
           13480
          ],
          [
           70,
           15589
          ],
          [
           80,
           17700
          ],
          [
           90,
           19810
          ],
          [
           100,
           21920
          ],
          [
           110,
           22999
          ],
          [
           120,
           26143
          ],
          [
           130,
           27243
          ],
          [
           140,
           29332
          ],
          [
           150,
           32475
          ],
          [
           160,
           33553
          ],
          [
           170,
           35664
          ],
          [
           180,
           37775
          ],
          [
           190,
           39907
          ],
          [
           200,
           41997
          ],
          [
           210,
           45141
          ],
          [
           220,
           47250
          ],
          [
           230,
           48329
          ],
          [
           240,
           51473
          ],
          [
           250,
           52572
          ],
          [
           260,
           54663
          ],
          [
           270,
           57806
          ],
          [
           280,
           58884
          ],
          [
           290,
           60995
          ],
          [
           300,
           63106
          ],
          [
           310,
           65217
          ],
          [
           320,
           67327
          ],
          [
           330,
           69440
          ],
          [
           340,
           71572
          ],
          [
           350,
           73661
          ],
          [
           360,
           75773
          ],
          [
           370,
           77884
          ],
          [
           380,
           78983
          ],
          [
           390,
           82107
          ],
          [
           400,
           83184
          ],
          [
           410,
           85317
          ],
          [
           420,
           87408
          ],
          [
           430,
           90552
          ],
          [
           440,
           92663
          ],
          [
           450,
           93743
          ],
          [
           460,
           96887
          ],
          [
           470,
           97966
          ],
          [
           480,
           100078
          ],
          [
           490,
           102190
          ],
          [
           500,
           104301
          ],
          [
           510,
           106412
          ],
          [
           520,
           108524
          ],
          [
           530,
           110655
          ],
          [
           540,
           112746
          ],
          [
           550,
           115889
          ],
          [
           560,
           116988
          ],
          [
           570,
           119080
          ],
          [
           580,
           122223
          ],
          [
           590,
           123302
          ],
          [
           600,
           125414
          ],
          [
           610,
           127525
          ],
          [
           620,
           129638
          ],
          [
           630,
           131750
          ],
          [
           640,
           133862
          ],
          [
           650,
           135993
          ],
          [
           660,
           138082
          ],
          [
           670,
           140196
          ],
          [
           680,
           142307
          ],
          [
           690,
           143407
          ],
          [
           700,
           146530
          ],
          [
           710,
           148641
          ],
          [
           720,
           149741
          ],
          [
           730,
           152864
          ],
          [
           740,
           154975
          ],
          [
           750,
           157085
          ],
          [
           760,
           158165
          ],
          [
           770,
           161310
          ],
          [
           780,
           162409
          ],
          [
           790,
           164498
          ],
          [
           800,
           167643
          ],
          [
           810,
           168721
          ],
          [
           820,
           170835
          ],
          [
           830,
           172947
          ],
          [
           840,
           175058
          ],
          [
           850,
           177168
          ],
          [
           860,
           178249
          ],
          [
           870,
           181394
          ],
          [
           880,
           182493
          ],
          [
           890,
           185616
          ],
          [
           900,
           187726
          ],
          [
           910,
           189840
          ],
          [
           920,
           191951
          ],
          [
           930,
           195354
          ],
          [
           940,
           197465
          ],
          [
           950,
           199577
          ],
          [
           960,
           201708
          ],
          [
           970,
           203799
          ],
          [
           980,
           206943
          ],
          [
           990,
           208022
          ],
          [
           1000,
           210136
          ],
          [
           1010,
           212246
          ],
          [
           1020,
           214360
          ],
          [
           1030,
           216471
          ],
          [
           1040,
           218584
          ],
          [
           1050,
           220700
          ],
          [
           1060,
           222809
          ],
          [
           1070,
           223891
          ],
          [
           1080,
           227035
          ],
          [
           1090,
           228115
          ],
          [
           1100,
           230229
          ],
          [
           1110,
           232341
          ],
          [
           1120,
           234474
          ],
          [
           1130,
           237598
          ],
          [
           1140,
           238675
          ],
          [
           1150,
           240810
          ],
          [
           1160,
           242900
          ],
          [
           1170,
           245014
          ],
          [
           1180,
           247124
          ],
          [
           1190,
           248226
          ],
          [
           1200,
           251350
          ],
          [
           1210,
           253461
          ],
          [
           1220,
           254563
          ],
          [
           1230,
           256940
          ],
          [
           1240,
           259032
          ],
          [
           1250,
           262177
          ],
          [
           1260,
           263255
          ],
          [
           1270,
           265369
          ],
          [
           1280,
           267480
          ],
          [
           1290,
           269594
          ],
          [
           1300,
           271705
          ],
          [
           1310,
           273816
          ],
          [
           1320,
           275931
          ],
          [
           1330,
           277031
          ],
          [
           1340,
           279124
          ],
          [
           1350,
           282267
          ],
          [
           1360,
           283345
          ],
          [
           1370,
           285459
          ],
          [
           1380,
           287570
          ],
          [
           1390,
           289684
          ],
          [
           1400,
           291795
          ],
          [
           1410,
           293910
          ],
          [
           1420,
           296022
          ],
          [
           1430,
           297122
          ],
          [
           1440,
           299215
          ],
          [
           1450,
           302360
          ],
          [
           1460,
           303441
          ],
          [
           1470,
           305554
          ],
          [
           1480,
           307665
          ],
          [
           1490,
           309780
          ],
          [
           1500,
           311890
          ],
          [
           1510,
           312971
          ],
          [
           1520,
           316118
          ],
          [
           1530,
           317217
          ],
          [
           1540,
           319308
          ],
          [
           1550,
           322452
          ],
          [
           1560,
           323531
          ],
          [
           1570,
           325646
          ],
          [
           1580,
           327759
          ],
          [
           1590,
           329873
          ],
          [
           1600,
           331983
          ],
          [
           1610,
           334096
          ],
          [
           1620,
           336228
          ],
          [
           1630,
           338321
          ],
          [
           1640,
           341465
          ],
          [
           1650,
           342564
          ],
          [
           1660,
           344659
          ],
          [
           1670,
           347803
          ],
          [
           1680,
           348881
          ],
          [
           1690,
           350998
          ],
          [
           1700,
           353110
          ],
          [
           1710,
           355225
          ],
          [
           1720,
           357337
          ],
          [
           1730,
           358420
          ],
          [
           1740,
           361565
          ],
          [
           1750,
           362664
          ],
          [
           1760,
           364760
          ],
          [
           1770,
           367904
          ],
          [
           1780,
           368982
          ],
          [
           1790,
           371098
          ],
          [
           1800,
           373210
          ],
          [
           1810,
           375325
          ],
          [
           1820,
           377438
          ],
          [
           1830,
           379552
          ],
          [
           1840,
           381684
          ],
          [
           1850,
           383775
          ],
          [
           1860,
           385891
          ],
          [
           1870,
           388003
          ],
          [
           1880,
           389107
          ],
          [
           1890,
           392232
          ],
          [
           1900,
           393311
          ],
          [
           1910,
           395448
          ],
          [
           1920,
           397537
          ],
          [
           1930,
           399655
          ],
          [
           1940,
           401787
          ],
          [
           1950,
           403879
          ],
          [
           1960,
           405996
          ],
          [
           1970,
           408109
          ],
          [
           1980,
           409212
          ],
          [
           1990,
           412335
          ],
          [
           2000,
           413415
          ],
          [
           2010,
           415554
          ],
          [
           2020,
           417644
          ],
          [
           2030,
           419763
          ],
          [
           2040,
           421895
          ],
          [
           2050,
           423984
          ],
          [
           2060,
           426100
          ],
          [
           2070,
           428213
          ],
          [
           2080,
           430581
          ],
          [
           2090,
           432691
          ],
          [
           2100,
           434803
          ],
          [
           2110,
           436917
          ],
          [
           2120,
           439028
          ],
          [
           2130,
           442173
          ],
          [
           2140,
           443254
          ],
          [
           2150,
           445373
          ],
          [
           2160,
           447485
          ],
          [
           2170,
           449603
          ],
          [
           2180,
           451719
          ],
          [
           2190,
           453831
          ],
          [
           2200,
           455962
          ],
          [
           2210,
           458054
          ],
          [
           2220,
           460173
          ],
          [
           2230,
           462287
          ],
          [
           2240,
           463392
          ],
          [
           2250,
           466516
          ],
          [
           2260,
           468627
          ],
          [
           2270,
           469735
          ],
          [
           2280,
           472861
          ],
          [
           2290,
           473938
          ],
          [
           2300,
           476080
          ],
          [
           2310,
           478173
          ],
          [
           2320,
           481316
          ],
          [
           2330,
           482415
          ],
          [
           2340,
           484517
          ],
          [
           2350,
           487662
          ],
          [
           2360,
           488741
          ],
          [
           2370,
           490858
          ],
          [
           2380,
           492969
          ],
          [
           2390,
           495092
          ],
          [
           2400,
           497201
          ],
          [
           2410,
           499315
          ],
          [
           2420,
           501447
          ],
          [
           2430,
           503541
          ],
          [
           2440,
           506688
          ],
          [
           2450,
           507787
          ],
          [
           2460,
           509887
          ],
          [
           2470,
           511998
          ],
          [
           2480,
           514122
          ],
          [
           2490,
           516235
          ],
          [
           2500,
           518346
          ],
          [
           2510,
           520472
          ],
          [
           2520,
           522583
          ],
          [
           2530,
           523673
          ],
          [
           2540,
           526819
          ],
          [
           2550,
           527919
          ],
          [
           2560,
           530020
          ],
          [
           2570,
           532137
          ]
         ],
         "tickvals": [
          0,
          10,
          20,
          30,
          40,
          50,
          60,
          70,
          80,
          90,
          100,
          110,
          120,
          130,
          140,
          150,
          160,
          170,
          180,
          190,
          200,
          210,
          220,
          230,
          240,
          250,
          260,
          270,
          280,
          290,
          300,
          310,
          320,
          330,
          340,
          350,
          360,
          370,
          380,
          390,
          400,
          410,
          420,
          430,
          440,
          450,
          460,
          470,
          480,
          490,
          500,
          510,
          520,
          530,
          540,
          550,
          560,
          570,
          580,
          590,
          600,
          610,
          620,
          630,
          640,
          650,
          660,
          670,
          680,
          690,
          700,
          710,
          720,
          730,
          740,
          750,
          760,
          770,
          780,
          790,
          800,
          810,
          820,
          830,
          840,
          850,
          860,
          870,
          880,
          890,
          900,
          910,
          920,
          930,
          940,
          950,
          960,
          970,
          980,
          990,
          1000,
          1010,
          1020,
          1030,
          1040,
          1050,
          1060,
          1070,
          1080,
          1090,
          1100,
          1110,
          1120,
          1130,
          1140,
          1150,
          1160,
          1170,
          1180,
          1190,
          1200,
          1210,
          1220,
          1230,
          1240,
          1250,
          1260,
          1270,
          1280,
          1290,
          1300,
          1310,
          1320,
          1330,
          1340,
          1350,
          1360,
          1370,
          1380,
          1390,
          1400,
          1410,
          1420,
          1430,
          1440,
          1450,
          1460,
          1470,
          1480,
          1490,
          1500,
          1510,
          1520,
          1530,
          1540,
          1550,
          1560,
          1570,
          1580,
          1590,
          1600,
          1610,
          1620,
          1630,
          1640,
          1650,
          1660,
          1670,
          1680,
          1690,
          1700,
          1710,
          1720,
          1730,
          1740,
          1750,
          1760,
          1770,
          1780,
          1790,
          1800,
          1810,
          1820,
          1830,
          1840,
          1850,
          1860,
          1870,
          1880,
          1890,
          1900,
          1910,
          1920,
          1930,
          1940,
          1950,
          1960,
          1970,
          1980,
          1990,
          2000,
          2010,
          2020,
          2030,
          2040,
          2050,
          2060,
          2070,
          2080,
          2090,
          2100,
          2110,
          2120,
          2130,
          2140,
          2150,
          2160,
          2170,
          2180,
          2190,
          2200,
          2210,
          2220,
          2230,
          2240,
          2250,
          2260,
          2270,
          2280,
          2290,
          2300,
          2310,
          2320,
          2330,
          2340,
          2350,
          2360,
          2370,
          2380,
          2390,
          2400,
          2410,
          2420,
          2430,
          2440,
          2450,
          2460,
          2470,
          2480,
          2490,
          2500,
          2510,
          2520,
          2530,
          2540,
          2550,
          2560,
          2570
         ],
         "title": {
          "font": {
           "size": 20
          },
          "text": "Number of events"
         },
         "type": "linear"
        },
        "yaxis": {
         "color": "black",
         "gridcolor": "lightgrey",
         "linecolor": "black",
         "mirror": true,
         "showline": true,
         "tickfont": {
          "size": 20
         },
         "ticks": "outside",
         "ticktext": [
          "1_0_main_g_ack",
          "1_control_update_txmsg_0",
          "1_0_main_lora",
          "1_0_main_temperature",
          "1_0_main_ow",
          "1_0_main_events",
          "1_0_main_com_timer",
          "1_control_update_rxmsg_drop",
          "1_0_loracom_data",
          "1_control_readdata_0",
          "1_0_main_temp",
          "1_0_main_s",
          "1_control_updatedata_cls.sensor_data",
          "1_0_sense_temperature",
          "1_0_main_i",
          "1_control_init_timer0_0"
         ],
         "tickvals": [
          1,
          2,
          3,
          4,
          5,
          6,
          7,
          8,
          9,
          10,
          11,
          12,
          13,
          14,
          15,
          16
         ],
         "title": {
          "font": {
           "size": 20
          },
          "text": "Variables"
         }
        }
       }
      }
     },
     "metadata": {},
     "output_type": "display_data"
    }
   ],
   "source": [
    "### plot\n",
    "for i, df in enumerate(all_df):\n",
    "    if i == trace_file:\n",
    "        plot_single_trace(df, var_list, with_time=False, is_xticks=True, ground_truths=label_content)"
   ]
  },
  {
   "cell_type": "code",
   "execution_count": null,
   "metadata": {},
   "outputs": [],
   "source": []
  },
  {
   "cell_type": "markdown",
   "metadata": {},
   "source": [
    "## Generate train data"
   ]
  },
  {
   "cell_type": "code",
   "execution_count": null,
   "metadata": {},
   "outputs": [],
   "source": [
    "'''\n",
    "Add the indices for the interval in 'normal_seq_inter' that show correct behvaiour in the traces. \n",
    "The format is as follows:\n",
    "path_traces = [path1, path2, ...]\n",
    "normal_seq_inter = [ ( intervals for trace1, ...), \n",
    "                    ( intervals for trace2 ...),\n",
    "                      ...] \n",
    "'''\n",
    "\n",
    "normal_seq_inter = (  ( (0,110), (150,900), (1250,2000), (2050,2300) ),  ### v3, normal trace0\n",
    "            )\n",
    "\n",
    "for p, n_inter in zip(paths_traces, normal_seq_inter):\n",
    "    trace = read_traces(p)\n",
    "    train_data_path = os.path.join(os.path.dirname(p), 'train_data')\n",
    "\n",
    "    if not os.path.exists(train_data_path):\n",
    "        os.makedirs(train_data_path)\n",
    "\n",
    "    for i, inter in enumerate(n_inter):\n",
    "        start, end = inter\n",
    "        # trace[start:end].to_csv(os.path.join(train_data_path, f'interval_{start}_{end}.csv'), index=False)\n",
    "        json.dump(trace[start:end], open(os.path.join(train_data_path, f'interval_{start}_{end}.json'), 'w'))"
   ]
  },
  {
   "cell_type": "code",
   "execution_count": null,
   "metadata": {},
   "outputs": [],
   "source": [
    "normal_seq_inter[0]"
   ]
  },
  {
   "cell_type": "code",
   "execution_count": null,
   "metadata": {},
   "outputs": [],
   "source": []
  }
 ],
 "metadata": {
  "kernelspec": {
   "display_name": "venv",
   "language": "python",
   "name": "venv"
  },
  "language_info": {
   "codemirror_mode": {
    "name": "ipython",
    "version": 3
   },
   "file_extension": ".py",
   "mimetype": "text/x-python",
   "name": "python",
   "nbconvert_exporter": "python",
   "pygments_lexer": "ipython3",
   "version": "3.10.13"
  }
 },
 "nbformat": 4,
 "nbformat_minor": 2
}
