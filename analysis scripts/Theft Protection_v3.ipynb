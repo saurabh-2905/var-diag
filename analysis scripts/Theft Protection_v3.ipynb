{
 "cells": [
  {
   "cell_type": "code",
   "execution_count": 30,
   "metadata": {},
   "outputs": [],
   "source": [
    "import os\n",
    "from libv3.utils import *\n",
    "import pandas as pd\n",
    "import json"
   ]
  },
  {
   "cell_type": "code",
   "execution_count": 31,
   "metadata": {},
   "outputs": [
    {
     "name": "stdout",
     "output_type": "stream",
     "text": [
      "CODE: theft_protection\n",
      "BEHAVIOUR: faulty_data\n",
      "THREAD: single\n",
      "VER: 3\n",
      "../trace_data/theft_protection/single_thread/version_3/faulty_data\n",
      "file number: 2\n"
     ]
    }
   ],
   "source": [
    "############ configuration ################\n",
    "############################################\n",
    "\n",
    "CODE, BEHAVIOUR, THREAD, VER = get_config()   ### config stored in libv3/exp_config.txt\n",
    "\n",
    "base_dir = '../trace_data' ### can be replaced with 'csv', 'exe_plot', 'histogram'\n",
    "log_path = base_dir+f'/{CODE}/{THREAD}_thread/version_{VER}/{BEHAVIOUR}'\n",
    "\n",
    "print(log_path)\n",
    "\n",
    "#### file to display\n",
    "trace_file = 2\n",
    "\n",
    "print('file number:', trace_file)"
   ]
  },
  {
   "cell_type": "code",
   "execution_count": 32,
   "metadata": {},
   "outputs": [
    {
     "name": "stdout",
     "output_type": "stream",
     "text": [
      "['../trace_data/theft_protection/single_thread/version_3/faulty_data/log1-com', '../trace_data/theft_protection/single_thread/version_3/faulty_data/log2-sensor', '../trace_data/theft_protection/single_thread/version_3/faulty_data/log3-bitflip']\n",
      "['../trace_data/theft_protection/single_thread/version_3/faulty_data/trace1-com', '../trace_data/theft_protection/single_thread/version_3/faulty_data/trace2-sensor', '../trace_data/theft_protection/single_thread/version_3/faulty_data/trace3-bitflip']\n",
      "['../trace_data/theft_protection/single_thread/version_3/faulty_data/varlist1-com', '../trace_data/theft_protection/single_thread/version_3/faulty_data/varlist2-sensor', '../trace_data/theft_protection/single_thread/version_3/faulty_data/varlist3-bitflip']\n",
      "['../trace_data/theft_protection/single_thread/version_3/faulty_data/labels/trace1-com_label.json', '../trace_data/theft_protection/single_thread/version_3/faulty_data/labels/trace2-sensor_label.json', '../trace_data/theft_protection/single_thread/version_3/faulty_data/labels/trace3-bitflip_label.json']\n"
     ]
    }
   ],
   "source": [
    "######### get paths #######################\n",
    "paths_log, paths_traces, varlist_path, paths_label = get_paths(log_path)\n",
    "\n",
    "### remove.Ds_store from all lists\n",
    "paths_log = [x for x in paths_log if '.DS_Store' not in x]\n",
    "paths_traces = [x for x in paths_traces if '.DS_Store' not in x]\n",
    "varlist_path = [x for x in varlist_path if '.DS_Store' not in x]\n",
    "paths_label = [x for x in paths_label if '.DS_Store' not in x]\n",
    "\n",
    "paths_log.sort()\n",
    "paths_traces.sort()\n",
    "varlist_path.sort()\n",
    "\n",
    "print(paths_log)\n",
    "print(paths_traces)\n",
    "print(varlist_path)\n",
    "print(paths_label)"
   ]
  },
  {
   "cell_type": "code",
   "execution_count": null,
   "metadata": {},
   "outputs": [],
   "source": []
  },
  {
   "cell_type": "code",
   "execution_count": 33,
   "metadata": {},
   "outputs": [
    {
     "name": "stdout",
     "output_type": "stream",
     "text": [
      "varlist 1 is consistent with varlist 0\n",
      "{'1-0-main-g_ack': 13, '1-control-update_txmsg-0': 12, '1-0-main-lora': 2, '1-0-main-temperature': 8, '1-0-main-ow': 0, '1-0-main-events': 14, '1-0-main-com_timer': 4, '1-control-update_rxmsg-drop': 15, '1-0-loracom-data': 11, '1-control-readdata-0': 10, '1-0-main-temp': 1, '1-0-main-s': 3, '1-control-updatedata-cls.sensor_data': 9, '1-0-sense-temperature': 7, '1-0-main-i': 6, '1-control-init_timer0-0': 5} {'1-0-main-g_ack': 13, '1-control-update_txmsg-0': 12, '1-0-main-lora': 2, '1-0-main-temperature': 8, '1-0-main-ow': 0, '1-0-main-events': 14, '1-0-main-com_timer': 4, '1-control-update_rxmsg-drop': 15, '1-0-loracom-data': 11, '1-control-readdata-0': 10, '1-0-main-temp': 1, '1-0-main-s': 3, '1-control-updatedata-cls.sensor_data': 9, '1-0-sense-temperature': 7, '1-0-main-i': 6, '1-control-init_timer0-0': 5}\n"
     ]
    }
   ],
   "source": [
    "############# check varlist is consistent ############\n",
    "############# only for version 3 ######################\n",
    "\n",
    "if VER == 3:\n",
    "    to_number = is_consistent(varlist_path)\n",
    "\n",
    "    if to_number != False:\n",
    "        from_number = mapint2var(to_number)\n"
   ]
  },
  {
   "cell_type": "code",
   "execution_count": 34,
   "metadata": {},
   "outputs": [],
   "source": [
    "############ Get variable list ######################\n",
    "sorted_keys = list(from_number.keys())\n",
    "sorted_keys.sort()\n",
    "var_list = [from_number[key] for key in sorted_keys]   ### get the variable list\n",
    "# print(var_list)"
   ]
  },
  {
   "cell_type": "markdown",
   "metadata": {},
   "source": [
    "## Trace Plots"
   ]
  },
  {
   "cell_type": "markdown",
   "metadata": {},
   "source": [
    "### Process Traces"
   ]
  },
  {
   "cell_type": "code",
   "execution_count": 35,
   "metadata": {},
   "outputs": [
    {
     "name": "stdout",
     "output_type": "stream",
     "text": [
      "../trace_data/theft_protection/single_thread/version_3/faulty_data/trace1-com trace1-com\n",
      "../trace_data/theft_protection/single_thread/version_3/faulty_data/trace2-sensor trace2-sensor\n",
      "../trace_data/theft_protection/single_thread/version_3/faulty_data/trace3-bitflip trace3-bitflip\n"
     ]
    }
   ],
   "source": [
    "########## process the traces ###########\n",
    "col_data = preprocess_traces(paths_traces, var_list)   ### in the format (trace_name, x_data, y_data, y_labels, trace_path) "
   ]
  },
  {
   "cell_type": "markdown",
   "metadata": {},
   "source": [
    "### Generate plot trace data"
   ]
  },
  {
   "cell_type": "code",
   "execution_count": 36,
   "metadata": {},
   "outputs": [],
   "source": [
    "############### preprocessing data to plot using plotly ##############\n",
    "'''\n",
    "Restructure the data in dictionary with (keys,value) pair :-  (time, timestamps) , (trace_name, trace)\n",
    "'''\n",
    "all_df = get_dataframe(col_data)   "
   ]
  },
  {
   "cell_type": "code",
   "execution_count": 13,
   "metadata": {},
   "outputs": [
    {
     "data": {
      "text/html": [
       "<div>\n",
       "<style scoped>\n",
       "    .dataframe tbody tr th:only-of-type {\n",
       "        vertical-align: middle;\n",
       "    }\n",
       "\n",
       "    .dataframe tbody tr th {\n",
       "        vertical-align: top;\n",
       "    }\n",
       "\n",
       "    .dataframe thead th {\n",
       "        text-align: right;\n",
       "    }\n",
       "</style>\n",
       "<table border=\"1\" class=\"dataframe\">\n",
       "  <thead>\n",
       "    <tr style=\"text-align: right;\">\n",
       "      <th></th>\n",
       "      <th>time</th>\n",
       "      <th>trace3-bitflip</th>\n",
       "    </tr>\n",
       "  </thead>\n",
       "  <tbody>\n",
       "    <tr>\n",
       "      <th>0</th>\n",
       "      <td>1369</td>\n",
       "      <td>0</td>\n",
       "    </tr>\n",
       "    <tr>\n",
       "      <th>1</th>\n",
       "      <td>1397</td>\n",
       "      <td>1</td>\n",
       "    </tr>\n",
       "    <tr>\n",
       "      <th>2</th>\n",
       "      <td>1418</td>\n",
       "      <td>2</td>\n",
       "    </tr>\n",
       "    <tr>\n",
       "      <th>3</th>\n",
       "      <td>1423</td>\n",
       "      <td>3</td>\n",
       "    </tr>\n",
       "    <tr>\n",
       "      <th>4</th>\n",
       "      <td>1931</td>\n",
       "      <td>4</td>\n",
       "    </tr>\n",
       "    <tr>\n",
       "      <th>...</th>\n",
       "      <td>...</td>\n",
       "      <td>...</td>\n",
       "    </tr>\n",
       "    <tr>\n",
       "      <th>2768</th>\n",
       "      <td>533325</td>\n",
       "      <td>15</td>\n",
       "    </tr>\n",
       "    <tr>\n",
       "      <th>2769</th>\n",
       "      <td>533330</td>\n",
       "      <td>6</td>\n",
       "    </tr>\n",
       "    <tr>\n",
       "      <th>2770</th>\n",
       "      <td>533357</td>\n",
       "      <td>7</td>\n",
       "    </tr>\n",
       "    <tr>\n",
       "      <th>2771</th>\n",
       "      <td>534374</td>\n",
       "      <td>8</td>\n",
       "    </tr>\n",
       "    <tr>\n",
       "      <th>2772</th>\n",
       "      <td>534379</td>\n",
       "      <td>9</td>\n",
       "    </tr>\n",
       "  </tbody>\n",
       "</table>\n",
       "<p>2773 rows × 2 columns</p>\n",
       "</div>"
      ],
      "text/plain": [
       "        time  trace3-bitflip\n",
       "0       1369               0\n",
       "1       1397               1\n",
       "2       1418               2\n",
       "3       1423               3\n",
       "4       1931               4\n",
       "...      ...             ...\n",
       "2768  533325              15\n",
       "2769  533330               6\n",
       "2770  533357               7\n",
       "2771  534374               8\n",
       "2772  534379               9\n",
       "\n",
       "[2773 rows x 2 columns]"
      ]
     },
     "execution_count": 13,
     "metadata": {},
     "output_type": "execute_result"
    }
   ],
   "source": [
    "all_df[2]"
   ]
  },
  {
   "cell_type": "code",
   "execution_count": 12,
   "metadata": {},
   "outputs": [
    {
     "data": {
      "application/vnd.plotly.v1+json": {
       "config": {
        "plotlyServerURL": "https://plot.ly"
       },
       "data": [
        {
         "line": {
          "width": 0.5
         },
         "marker": {
          "color": "midnightblue",
          "size": 8
         },
         "mode": "lines+markers",
         "name": "trace3-bitflip",
         "showlegend": true,
         "type": "scatter",
         "y": [
          0,
          1,
          2,
          3,
          4,
          5,
          6,
          7,
          8,
          9,
          6,
          7,
          8,
          9,
          6,
          7,
          8,
          9,
          6,
          7,
          8,
          9,
          6,
          7,
          8,
          9,
          10,
          11,
          12,
          6,
          7,
          8,
          9,
          13,
          14,
          15,
          6,
          7,
          8,
          9,
          6,
          7,
          8,
          9,
          6,
          7,
          8,
          9,
          6,
          7,
          8,
          9,
          10,
          11,
          12,
          6,
          7,
          8,
          9,
          13,
          14,
          15,
          6,
          7,
          8,
          9,
          6,
          7,
          8,
          9,
          6,
          7,
          8,
          9,
          6,
          7,
          8,
          9,
          10,
          11,
          12,
          6,
          7,
          8,
          9,
          13,
          14,
          15,
          6,
          7,
          8,
          9,
          6,
          7,
          8,
          9,
          6,
          7,
          8,
          9,
          10,
          11,
          12,
          6,
          7,
          8,
          9,
          13,
          14,
          15,
          6,
          7,
          8,
          9,
          6,
          7,
          8,
          9,
          6,
          7,
          8,
          9,
          6,
          7,
          8,
          9,
          10,
          11,
          12,
          6,
          7,
          8,
          9,
          13,
          14,
          15,
          6,
          7,
          8,
          9,
          13,
          14,
          6,
          7,
          8,
          9,
          13,
          14,
          6,
          7,
          8,
          9,
          13,
          14,
          6,
          7,
          8,
          9,
          10,
          11,
          12,
          13,
          14,
          6,
          7,
          8,
          9,
          13,
          14,
          15,
          6,
          7,
          8,
          9,
          13,
          14,
          6,
          7,
          8,
          9,
          13,
          14,
          6,
          7,
          8,
          9,
          13,
          14,
          6,
          7,
          8,
          9,
          10,
          11,
          12,
          13,
          14,
          6,
          7,
          8,
          9,
          13,
          14,
          6,
          7,
          8,
          9,
          13,
          14,
          15,
          6,
          7,
          8,
          9,
          13,
          14,
          6,
          7,
          8,
          9,
          10,
          11,
          12,
          13,
          14,
          6,
          7,
          8,
          9,
          13,
          14,
          15,
          6,
          7,
          8,
          9,
          13,
          14,
          6,
          7,
          8,
          9,
          13,
          14,
          6,
          7,
          8,
          9,
          13,
          14,
          6,
          7,
          8,
          9,
          10,
          11,
          12,
          13,
          14,
          6,
          7,
          8,
          9,
          13,
          14,
          15,
          6,
          7,
          8,
          9,
          13,
          14,
          6,
          7,
          8,
          9,
          13,
          14,
          6,
          7,
          8,
          9,
          13,
          14,
          6,
          7,
          8,
          9,
          10,
          11,
          12,
          13,
          14,
          6,
          7,
          8,
          9,
          13,
          14,
          15,
          6,
          7,
          8,
          9,
          13,
          14,
          6,
          7,
          8,
          9,
          13,
          14,
          6,
          7,
          8,
          9,
          10,
          11,
          12,
          13,
          14,
          6,
          7,
          8,
          9,
          13,
          14,
          15,
          6,
          7,
          8,
          9,
          6,
          7,
          8,
          9,
          6,
          7,
          8,
          9,
          6,
          7,
          8,
          9,
          10,
          11,
          12,
          6,
          7,
          8,
          9,
          13,
          14,
          15,
          6,
          7,
          8,
          9,
          6,
          7,
          8,
          9,
          6,
          7,
          8,
          9,
          6,
          7,
          8,
          9,
          10,
          11,
          12,
          6,
          7,
          8,
          9,
          13,
          14,
          15,
          6,
          7,
          8,
          9,
          6,
          7,
          8,
          9,
          6,
          7,
          8,
          9,
          6,
          7,
          8,
          9,
          10,
          11,
          12,
          6,
          7,
          8,
          9,
          13,
          14,
          15,
          6,
          7,
          8,
          9,
          6,
          7,
          8,
          9,
          6,
          7,
          8,
          9,
          10,
          11,
          12,
          6,
          7,
          8,
          9,
          13,
          14,
          15,
          6,
          7,
          8,
          9,
          6,
          7,
          8,
          9,
          6,
          7,
          8,
          9,
          6,
          7,
          8,
          9,
          10,
          11,
          12,
          6,
          7,
          8,
          9,
          13,
          14,
          15,
          6,
          7,
          8,
          9,
          6,
          7,
          8,
          9,
          6,
          7,
          8,
          9,
          6,
          7,
          8,
          9,
          10,
          11,
          12,
          6,
          7,
          8,
          9,
          13,
          14,
          15,
          6,
          7,
          8,
          9,
          6,
          7,
          8,
          9,
          6,
          7,
          8,
          9,
          10,
          11,
          12,
          6,
          7,
          8,
          9,
          6,
          7,
          8,
          9,
          13,
          14,
          15,
          6,
          7,
          8,
          9,
          6,
          7,
          8,
          9,
          6,
          7,
          8,
          9,
          10,
          11,
          12,
          6,
          7,
          8,
          9,
          13,
          14,
          15,
          6,
          7,
          8,
          9,
          6,
          7,
          8,
          9,
          6,
          7,
          8,
          9,
          6,
          7,
          8,
          9,
          10,
          11,
          12,
          6,
          7,
          8,
          9,
          6,
          7,
          8,
          9,
          6,
          7,
          8,
          9,
          6,
          7,
          8,
          9,
          6,
          7,
          8,
          9,
          10,
          11,
          12,
          6,
          7,
          8,
          9,
          13,
          14,
          15,
          6,
          7,
          8,
          9,
          6,
          7,
          8,
          9,
          6,
          7,
          8,
          9,
          10,
          11,
          12,
          6,
          7,
          8,
          9,
          13,
          14,
          15,
          6,
          7,
          8,
          9,
          6,
          7,
          8,
          9,
          6,
          7,
          8,
          9,
          6,
          7,
          8,
          9,
          10,
          11,
          12,
          6,
          7,
          8,
          9,
          13,
          14,
          15,
          6,
          7,
          8,
          9,
          6,
          7,
          8,
          9,
          6,
          7,
          8,
          9,
          6,
          7,
          8,
          9,
          10,
          11,
          12,
          6,
          7,
          8,
          9,
          13,
          14,
          15,
          6,
          7,
          8,
          9,
          6,
          7,
          8,
          9,
          6,
          7,
          8,
          9,
          6,
          7,
          8,
          9,
          10,
          11,
          12,
          6,
          7,
          8,
          9,
          13,
          14,
          15,
          6,
          7,
          8,
          9,
          6,
          7,
          8,
          9,
          6,
          7,
          8,
          9,
          10,
          11,
          12,
          6,
          7,
          8,
          9,
          13,
          14,
          15,
          6,
          7,
          8,
          9,
          6,
          7,
          8,
          9,
          6,
          7,
          8,
          9,
          6,
          7,
          8,
          9,
          10,
          11,
          12,
          6,
          7,
          8,
          9,
          13,
          14,
          15,
          6,
          7,
          8,
          9,
          6,
          7,
          8,
          9,
          6,
          7,
          8,
          9,
          6,
          7,
          8,
          9,
          10,
          11,
          12,
          6,
          7,
          8,
          9,
          13,
          14,
          15,
          6,
          7,
          8,
          9,
          6,
          7,
          8,
          9,
          6,
          7,
          8,
          9,
          6,
          7,
          8,
          9,
          10,
          11,
          12,
          6,
          7,
          8,
          9,
          13,
          14,
          15,
          6,
          7,
          8,
          9,
          6,
          7,
          8,
          9,
          6,
          7,
          8,
          9,
          10,
          11,
          12,
          6,
          7,
          8,
          9,
          13,
          14,
          15,
          6,
          7,
          8,
          9,
          6,
          7,
          8,
          9,
          6,
          7,
          8,
          9,
          6,
          7,
          8,
          10,
          11,
          12,
          6,
          7,
          8,
          9,
          13,
          14,
          15,
          6,
          7,
          8,
          9,
          6,
          7,
          8,
          9,
          6,
          7,
          8,
          9,
          10,
          11,
          12,
          6,
          7,
          8,
          9,
          13,
          14,
          15,
          6,
          7,
          8,
          9,
          6,
          7,
          8,
          9,
          6,
          7,
          8,
          9,
          6,
          7,
          8,
          9,
          10,
          11,
          12,
          6,
          7,
          8,
          13,
          14,
          15,
          6,
          7,
          8,
          9,
          6,
          7,
          8,
          9,
          6,
          7,
          8,
          9,
          10,
          11,
          12,
          6,
          7,
          8,
          9,
          13,
          14,
          15,
          6,
          7,
          8,
          9,
          6,
          7,
          8,
          9,
          6,
          7,
          8,
          9,
          6,
          7,
          8,
          9,
          10,
          11,
          12,
          6,
          7,
          8,
          9,
          13,
          14,
          15,
          6,
          7,
          8,
          9,
          6,
          7,
          8,
          9,
          6,
          7,
          8,
          9,
          6,
          7,
          8,
          9,
          10,
          11,
          12,
          6,
          7,
          8,
          13,
          14,
          15,
          6,
          7,
          8,
          9,
          6,
          7,
          8,
          9,
          6,
          7,
          8,
          9,
          10,
          11,
          12,
          6,
          7,
          8,
          9,
          13,
          14,
          15,
          6,
          7,
          8,
          9,
          6,
          7,
          8,
          9,
          6,
          7,
          8,
          9,
          6,
          7,
          8,
          9,
          10,
          11,
          12,
          6,
          7,
          8,
          9,
          13,
          14,
          15,
          6,
          7,
          8,
          9,
          6,
          7,
          8,
          9,
          6,
          7,
          8,
          9,
          6,
          7,
          8,
          9,
          10,
          11,
          12,
          6,
          7,
          8,
          9,
          13,
          14,
          15,
          6,
          7,
          8,
          9,
          6,
          7,
          8,
          9,
          6,
          7,
          8,
          10,
          11,
          12,
          6,
          7,
          8,
          9,
          13,
          14,
          15,
          6,
          7,
          8,
          9,
          6,
          7,
          8,
          9,
          6,
          7,
          8,
          9,
          6,
          7,
          8,
          9,
          10,
          11,
          12,
          6,
          7,
          8,
          9,
          13,
          14,
          15,
          6,
          7,
          8,
          9,
          6,
          7,
          8,
          9,
          6,
          7,
          8,
          9,
          10,
          11,
          12,
          6,
          7,
          8,
          9,
          13,
          14,
          15,
          6,
          7,
          8,
          9,
          6,
          7,
          8,
          9,
          6,
          7,
          8,
          9,
          6,
          7,
          8,
          9,
          10,
          11,
          12,
          6,
          7,
          8,
          9,
          13,
          14,
          15,
          6,
          7,
          8,
          9,
          6,
          7,
          8,
          9,
          6,
          7,
          8,
          9,
          6,
          7,
          8,
          9,
          10,
          11,
          12,
          6,
          7,
          8,
          9,
          13,
          14,
          15,
          6,
          7,
          8,
          9,
          6,
          7,
          8,
          9,
          6,
          7,
          8,
          9,
          6,
          7,
          8,
          9,
          10,
          11,
          12,
          6,
          7,
          8,
          9,
          13,
          14,
          15,
          6,
          7,
          8,
          9,
          6,
          7,
          8,
          9,
          6,
          7,
          8,
          9,
          10,
          11,
          12,
          6,
          7,
          8,
          9,
          6,
          7,
          8,
          9,
          13,
          14,
          15,
          6,
          7,
          8,
          9,
          6,
          7,
          8,
          9,
          6,
          7,
          8,
          9,
          10,
          11,
          12,
          6,
          7,
          8,
          9,
          13,
          14,
          15,
          6,
          7,
          8,
          9,
          13,
          14,
          6,
          7,
          8,
          9,
          13,
          14,
          6,
          7,
          8,
          9,
          13,
          14,
          6,
          7,
          8,
          9,
          10,
          11,
          12,
          13,
          14,
          6,
          7,
          8,
          9,
          13,
          14,
          15,
          6,
          7,
          8,
          9,
          13,
          14,
          6,
          7,
          8,
          9,
          13,
          14,
          6,
          7,
          8,
          9,
          13,
          14,
          6,
          7,
          8,
          9,
          10,
          11,
          12,
          13,
          14,
          6,
          7,
          8,
          9,
          13,
          14,
          15,
          6,
          7,
          8,
          9,
          13,
          14,
          6,
          7,
          8,
          9,
          13,
          14,
          6,
          7,
          8,
          9,
          10,
          11,
          12,
          13,
          14,
          6,
          7,
          8,
          9,
          13,
          14,
          15,
          6,
          7,
          8,
          9,
          13,
          14,
          6,
          7,
          8,
          9,
          13,
          14,
          6,
          7,
          8,
          9,
          13,
          14,
          6,
          7,
          8,
          9,
          10,
          11,
          12,
          13,
          14,
          6,
          7,
          8,
          9,
          13,
          14,
          15,
          6,
          7,
          8,
          9,
          13,
          14,
          6,
          7,
          8,
          9,
          13,
          14,
          6,
          7,
          8,
          9,
          13,
          14,
          6,
          7,
          8,
          9,
          10,
          11,
          12,
          13,
          14,
          6,
          7,
          8,
          9,
          13,
          14,
          15,
          6,
          7,
          8,
          9,
          13,
          14,
          6,
          7,
          8,
          9,
          13,
          14,
          6,
          7,
          8,
          9,
          10,
          11,
          12,
          13,
          14,
          6,
          7,
          8,
          9,
          13,
          14,
          15,
          6,
          7,
          8,
          9,
          13,
          14,
          6,
          7,
          8,
          9,
          13,
          14,
          6,
          7,
          8,
          9,
          6,
          7,
          8,
          9,
          10,
          11,
          12,
          6,
          7,
          8,
          9,
          13,
          14,
          15,
          6,
          7,
          8,
          9,
          6,
          7,
          8,
          9,
          6,
          7,
          8,
          9,
          6,
          7,
          8,
          9,
          10,
          11,
          12,
          6,
          7,
          8,
          9,
          13,
          14,
          15,
          6,
          7,
          8,
          9,
          6,
          7,
          8,
          9,
          6,
          7,
          8,
          9,
          10,
          11,
          12,
          6,
          7,
          8,
          9,
          13,
          14,
          15,
          6,
          7,
          8,
          9,
          6,
          7,
          8,
          9,
          6,
          7,
          8,
          9,
          6,
          7,
          8,
          9,
          10,
          11,
          12,
          6,
          7,
          8,
          13,
          14,
          15,
          6,
          7,
          8,
          9,
          6,
          7,
          8,
          9,
          6,
          7,
          8,
          9,
          6,
          7,
          8,
          9,
          10,
          11,
          12,
          6,
          7,
          8,
          9,
          13,
          14,
          15,
          6,
          7,
          8,
          9,
          6,
          7,
          8,
          9,
          6,
          7,
          8,
          9,
          10,
          11,
          12,
          6,
          7,
          8,
          9,
          13,
          14,
          15,
          6,
          7,
          8,
          9,
          6,
          7,
          8,
          9,
          6,
          7,
          8,
          9,
          6,
          7,
          8,
          9,
          10,
          11,
          12,
          6,
          7,
          8,
          9,
          13,
          14,
          15,
          6,
          7,
          8,
          9,
          6,
          7,
          8,
          9,
          6,
          7,
          8,
          9,
          6,
          7,
          8,
          9,
          10,
          11,
          12,
          6,
          7,
          8,
          9,
          13,
          14,
          15,
          6,
          7,
          8,
          9,
          6,
          7,
          8,
          9,
          6,
          7,
          8,
          9,
          6,
          7,
          8,
          9,
          10,
          11,
          12,
          6,
          7,
          8,
          9,
          13,
          14,
          15,
          6,
          7,
          8,
          9,
          6,
          7,
          8,
          9,
          6,
          7,
          8,
          9,
          10,
          11,
          12,
          6,
          7,
          8,
          9,
          6,
          7,
          8,
          9,
          13,
          14,
          15,
          6,
          7,
          8,
          9,
          6,
          7,
          8,
          9,
          6,
          7,
          8,
          9,
          10,
          11,
          12,
          6,
          7,
          8,
          9,
          13,
          14,
          15,
          6,
          7,
          8,
          9,
          6,
          7,
          8,
          9,
          6,
          7,
          8,
          9,
          6,
          7,
          8,
          9,
          10,
          11,
          12,
          6,
          7,
          8,
          9,
          13,
          14,
          15,
          6,
          7,
          8,
          9,
          6,
          7,
          8,
          9,
          6,
          7,
          8,
          9,
          6,
          7,
          8,
          9,
          10,
          11,
          12,
          6,
          7,
          8,
          9,
          13,
          14,
          15,
          6,
          7,
          8,
          9,
          6,
          7,
          8,
          9,
          6,
          7,
          8,
          9,
          10,
          11,
          12,
          6,
          7,
          8,
          9,
          13,
          14,
          15,
          6,
          7,
          8,
          9,
          6,
          7,
          8,
          9,
          6,
          7,
          8,
          9,
          6,
          7,
          8,
          9,
          10,
          11,
          12,
          6,
          7,
          8,
          9,
          13,
          14,
          15,
          6,
          7,
          8,
          9,
          6,
          7,
          8,
          9,
          6,
          7,
          8,
          9,
          6,
          7,
          8,
          9,
          10,
          11,
          12,
          6,
          7,
          8,
          9,
          13,
          14,
          15,
          6,
          7,
          8,
          9,
          6,
          7,
          8,
          9,
          6,
          7,
          8,
          9,
          10,
          11,
          12,
          6,
          7,
          8,
          9,
          13,
          14,
          15,
          6,
          7,
          8,
          9,
          6,
          7,
          8,
          9,
          6,
          7,
          8,
          9,
          6,
          7,
          8,
          9,
          10,
          11,
          12,
          6,
          7,
          8,
          9,
          13,
          14,
          15,
          6,
          7,
          8,
          9,
          6,
          7,
          8,
          9,
          6,
          7,
          8,
          9,
          6,
          7,
          8,
          9,
          10,
          11,
          12,
          6,
          7,
          8,
          9,
          13,
          14,
          15,
          6,
          7,
          8,
          9,
          6,
          7,
          8,
          9,
          6,
          7,
          8,
          9,
          6,
          7,
          8,
          9,
          10,
          11,
          12,
          6,
          7,
          8,
          9,
          13,
          14,
          15,
          6,
          7,
          8,
          9,
          6,
          7,
          8,
          9,
          6,
          7,
          8,
          9,
          10,
          11,
          12,
          6,
          7,
          8,
          9,
          13,
          14,
          15,
          6,
          7,
          8,
          9,
          6,
          7,
          8,
          9,
          6,
          7,
          8,
          9,
          6,
          7,
          8,
          9,
          10,
          11,
          12,
          6,
          7,
          8,
          9,
          13,
          14,
          15,
          6,
          7,
          8,
          9,
          6,
          7,
          8,
          9,
          6,
          7,
          8,
          9,
          6,
          7,
          8,
          9,
          10,
          11,
          12,
          6,
          7,
          8,
          9,
          13,
          14,
          15,
          6,
          7,
          8,
          9,
          6,
          7,
          8,
          9,
          6,
          7,
          8,
          9,
          6,
          7,
          8,
          9,
          10,
          11,
          12,
          6,
          7,
          8,
          9,
          13,
          14,
          15,
          6,
          7,
          8,
          9,
          6,
          7,
          8,
          9,
          6,
          7,
          8,
          9,
          10,
          11,
          12,
          6,
          7,
          8,
          9,
          6,
          7,
          8,
          9,
          13,
          14,
          15,
          6,
          7,
          8,
          9,
          6,
          7,
          8,
          9,
          6,
          7,
          8,
          9,
          10,
          11,
          12,
          6,
          7,
          8,
          9,
          13,
          14,
          15,
          6,
          7,
          8,
          6,
          7,
          8,
          9,
          6,
          7,
          8,
          9,
          10,
          11,
          12,
          6,
          7,
          8,
          9,
          13,
          14,
          15,
          6,
          7,
          8,
          9,
          6,
          7,
          8,
          9,
          6,
          7,
          8,
          9,
          6,
          7,
          8,
          9,
          10,
          11,
          12,
          6,
          7,
          8,
          9,
          13,
          14,
          15,
          6,
          7,
          8,
          9,
          6,
          7,
          8,
          9,
          6,
          7,
          8,
          9,
          6,
          7,
          8,
          9,
          10,
          11,
          12,
          6,
          7,
          8,
          9,
          13,
          14,
          15,
          6,
          7,
          8,
          9,
          6,
          7,
          8,
          9,
          6,
          7,
          8,
          9,
          6,
          7,
          8,
          9,
          10,
          11,
          12,
          6,
          7,
          8,
          9,
          13,
          14,
          15,
          6,
          7,
          8,
          9,
          6,
          7,
          8,
          9,
          6,
          7,
          8,
          9,
          10,
          11,
          12,
          6,
          7,
          8,
          9,
          13,
          14,
          15,
          6,
          7,
          8,
          9,
          6,
          7,
          8,
          9,
          6,
          7,
          8,
          9,
          6,
          7,
          8,
          9,
          10,
          11,
          12,
          6,
          7,
          8,
          9,
          13,
          14,
          15,
          6,
          7,
          8,
          9,
          6,
          7,
          8,
          9,
          6,
          7,
          8,
          9,
          6,
          7,
          8,
          9,
          10,
          11,
          12,
          6,
          7,
          8,
          9,
          13,
          14,
          15,
          6,
          7,
          8,
          9,
          6,
          7,
          8,
          9,
          6,
          7,
          8,
          9,
          6,
          7,
          8,
          9,
          10,
          11,
          12,
          6,
          7,
          8,
          9,
          13,
          14,
          15,
          6,
          7,
          8,
          9,
          6,
          7,
          8,
          9,
          6,
          7,
          8,
          9,
          10,
          11,
          12,
          6,
          7,
          8,
          9,
          13,
          14,
          15,
          6,
          7,
          8,
          9,
          6,
          7,
          8,
          9,
          6,
          7,
          8,
          9,
          6,
          7,
          8,
          9,
          10,
          11,
          12,
          6,
          7,
          8,
          9,
          13,
          14,
          15,
          6,
          7,
          8,
          9,
          6,
          7,
          8,
          9,
          6,
          7,
          8,
          9,
          6,
          7,
          8,
          9,
          10,
          11,
          12,
          6,
          7,
          8,
          9,
          13,
          14,
          15,
          6,
          7,
          8,
          9,
          13,
          14,
          6,
          7,
          8,
          9,
          13,
          14,
          6,
          7,
          8,
          9,
          10,
          11,
          12,
          13,
          14,
          6,
          7,
          8,
          9,
          13,
          14,
          15,
          6,
          7,
          8,
          9,
          13,
          14,
          6,
          7,
          8,
          9,
          13,
          14,
          6,
          7,
          8,
          9,
          13,
          14,
          6,
          7,
          8,
          9,
          10,
          11,
          12,
          13,
          14,
          6,
          7,
          8,
          9,
          13,
          14,
          15,
          6,
          7,
          8,
          9,
          13,
          14,
          6,
          7,
          8,
          9,
          13,
          14,
          6,
          7,
          8,
          9,
          13,
          14,
          6,
          7,
          8,
          9,
          10,
          11,
          12,
          13,
          14,
          6,
          7,
          8,
          9,
          13,
          14,
          15,
          6,
          7,
          8,
          9,
          13,
          14,
          6,
          7,
          8,
          9,
          13,
          14,
          6,
          7,
          8,
          9,
          13,
          14,
          6,
          7,
          8,
          9,
          10,
          11,
          12,
          13,
          14,
          6,
          7,
          8,
          9,
          13,
          14,
          15,
          6,
          7,
          8,
          9,
          13,
          14,
          6,
          7,
          8,
          9,
          13,
          14,
          6,
          7,
          8,
          9,
          10,
          11,
          12,
          13,
          14,
          6,
          7,
          8,
          9,
          13,
          14,
          15,
          6,
          7,
          8,
          9,
          13,
          14,
          6,
          7,
          8,
          9,
          13,
          14,
          6,
          7,
          8,
          9,
          13,
          14,
          6,
          7,
          8,
          9,
          10,
          11,
          12,
          13,
          14,
          6,
          7,
          8,
          9,
          13,
          14,
          15,
          6,
          7,
          8,
          9,
          6,
          7,
          8,
          9,
          6,
          7,
          8,
          9,
          6,
          7,
          8,
          9,
          10,
          11,
          12,
          6,
          7,
          8,
          9,
          13,
          14,
          15,
          6,
          7,
          8,
          9,
          6,
          7,
          8,
          9,
          6,
          7,
          8,
          9,
          10,
          11,
          12,
          6,
          7,
          8,
          9,
          13,
          14,
          15,
          6,
          7,
          8,
          9,
          6,
          7,
          8,
          9,
          6,
          7,
          8,
          9,
          6,
          7,
          8,
          9,
          10,
          11,
          12,
          6,
          7,
          8,
          9,
          13,
          14,
          15,
          6,
          7,
          8,
          9,
          6,
          7,
          8,
          9,
          6,
          7,
          8,
          9,
          6,
          7,
          8,
          9,
          10,
          11,
          12,
          6,
          7,
          8,
          9,
          13,
          14,
          15,
          6,
          7,
          8,
          9,
          6,
          7,
          8,
          9,
          6,
          7,
          8,
          9,
          6,
          7,
          8,
          9,
          10,
          11,
          12,
          6,
          7,
          8,
          9,
          13,
          14,
          15,
          6,
          7,
          8,
          9,
          6,
          7,
          8,
          9,
          6,
          7,
          8,
          9,
          10,
          11,
          12,
          6,
          7,
          8,
          9,
          13,
          14,
          15,
          6,
          7,
          8,
          9,
          6,
          7,
          8,
          9,
          6,
          7,
          8,
          9,
          6,
          7,
          8,
          9,
          10,
          11,
          12,
          6,
          7,
          8,
          9,
          13,
          14,
          15,
          6,
          7,
          8,
          9,
          6,
          7,
          8,
          9,
          6,
          7,
          8,
          9,
          6,
          7,
          8,
          9,
          10,
          11,
          12,
          6,
          7,
          8,
          9,
          13,
          14,
          15,
          6,
          7,
          8,
          9,
          6,
          7,
          8,
          9,
          6,
          7,
          8,
          9,
          10,
          11,
          12,
          6,
          7,
          8,
          9,
          13,
          14,
          15,
          6,
          7,
          8,
          9,
          6,
          7,
          8,
          9,
          6,
          7,
          8,
          9,
          6,
          7,
          8,
          9,
          10,
          11,
          12,
          6,
          7,
          8,
          9,
          13,
          14,
          15,
          6,
          7,
          8,
          9
         ]
        }
       ],
       "layout": {
        "autosize": true,
        "height": 800,
        "plot_bgcolor": "rgba(0,0,0,0)",
        "template": {
         "data": {
          "bar": [
           {
            "error_x": {
             "color": "#2a3f5f"
            },
            "error_y": {
             "color": "#2a3f5f"
            },
            "marker": {
             "line": {
              "color": "#E5ECF6",
              "width": 0.5
             },
             "pattern": {
              "fillmode": "overlay",
              "size": 10,
              "solidity": 0.2
             }
            },
            "type": "bar"
           }
          ],
          "barpolar": [
           {
            "marker": {
             "line": {
              "color": "#E5ECF6",
              "width": 0.5
             },
             "pattern": {
              "fillmode": "overlay",
              "size": 10,
              "solidity": 0.2
             }
            },
            "type": "barpolar"
           }
          ],
          "carpet": [
           {
            "aaxis": {
             "endlinecolor": "#2a3f5f",
             "gridcolor": "white",
             "linecolor": "white",
             "minorgridcolor": "white",
             "startlinecolor": "#2a3f5f"
            },
            "baxis": {
             "endlinecolor": "#2a3f5f",
             "gridcolor": "white",
             "linecolor": "white",
             "minorgridcolor": "white",
             "startlinecolor": "#2a3f5f"
            },
            "type": "carpet"
           }
          ],
          "choropleth": [
           {
            "colorbar": {
             "outlinewidth": 0,
             "ticks": ""
            },
            "type": "choropleth"
           }
          ],
          "contour": [
           {
            "colorbar": {
             "outlinewidth": 0,
             "ticks": ""
            },
            "colorscale": [
             [
              0,
              "#0d0887"
             ],
             [
              0.1111111111111111,
              "#46039f"
             ],
             [
              0.2222222222222222,
              "#7201a8"
             ],
             [
              0.3333333333333333,
              "#9c179e"
             ],
             [
              0.4444444444444444,
              "#bd3786"
             ],
             [
              0.5555555555555556,
              "#d8576b"
             ],
             [
              0.6666666666666666,
              "#ed7953"
             ],
             [
              0.7777777777777778,
              "#fb9f3a"
             ],
             [
              0.8888888888888888,
              "#fdca26"
             ],
             [
              1,
              "#f0f921"
             ]
            ],
            "type": "contour"
           }
          ],
          "contourcarpet": [
           {
            "colorbar": {
             "outlinewidth": 0,
             "ticks": ""
            },
            "type": "contourcarpet"
           }
          ],
          "heatmap": [
           {
            "colorbar": {
             "outlinewidth": 0,
             "ticks": ""
            },
            "colorscale": [
             [
              0,
              "#0d0887"
             ],
             [
              0.1111111111111111,
              "#46039f"
             ],
             [
              0.2222222222222222,
              "#7201a8"
             ],
             [
              0.3333333333333333,
              "#9c179e"
             ],
             [
              0.4444444444444444,
              "#bd3786"
             ],
             [
              0.5555555555555556,
              "#d8576b"
             ],
             [
              0.6666666666666666,
              "#ed7953"
             ],
             [
              0.7777777777777778,
              "#fb9f3a"
             ],
             [
              0.8888888888888888,
              "#fdca26"
             ],
             [
              1,
              "#f0f921"
             ]
            ],
            "type": "heatmap"
           }
          ],
          "heatmapgl": [
           {
            "colorbar": {
             "outlinewidth": 0,
             "ticks": ""
            },
            "colorscale": [
             [
              0,
              "#0d0887"
             ],
             [
              0.1111111111111111,
              "#46039f"
             ],
             [
              0.2222222222222222,
              "#7201a8"
             ],
             [
              0.3333333333333333,
              "#9c179e"
             ],
             [
              0.4444444444444444,
              "#bd3786"
             ],
             [
              0.5555555555555556,
              "#d8576b"
             ],
             [
              0.6666666666666666,
              "#ed7953"
             ],
             [
              0.7777777777777778,
              "#fb9f3a"
             ],
             [
              0.8888888888888888,
              "#fdca26"
             ],
             [
              1,
              "#f0f921"
             ]
            ],
            "type": "heatmapgl"
           }
          ],
          "histogram": [
           {
            "marker": {
             "pattern": {
              "fillmode": "overlay",
              "size": 10,
              "solidity": 0.2
             }
            },
            "type": "histogram"
           }
          ],
          "histogram2d": [
           {
            "colorbar": {
             "outlinewidth": 0,
             "ticks": ""
            },
            "colorscale": [
             [
              0,
              "#0d0887"
             ],
             [
              0.1111111111111111,
              "#46039f"
             ],
             [
              0.2222222222222222,
              "#7201a8"
             ],
             [
              0.3333333333333333,
              "#9c179e"
             ],
             [
              0.4444444444444444,
              "#bd3786"
             ],
             [
              0.5555555555555556,
              "#d8576b"
             ],
             [
              0.6666666666666666,
              "#ed7953"
             ],
             [
              0.7777777777777778,
              "#fb9f3a"
             ],
             [
              0.8888888888888888,
              "#fdca26"
             ],
             [
              1,
              "#f0f921"
             ]
            ],
            "type": "histogram2d"
           }
          ],
          "histogram2dcontour": [
           {
            "colorbar": {
             "outlinewidth": 0,
             "ticks": ""
            },
            "colorscale": [
             [
              0,
              "#0d0887"
             ],
             [
              0.1111111111111111,
              "#46039f"
             ],
             [
              0.2222222222222222,
              "#7201a8"
             ],
             [
              0.3333333333333333,
              "#9c179e"
             ],
             [
              0.4444444444444444,
              "#bd3786"
             ],
             [
              0.5555555555555556,
              "#d8576b"
             ],
             [
              0.6666666666666666,
              "#ed7953"
             ],
             [
              0.7777777777777778,
              "#fb9f3a"
             ],
             [
              0.8888888888888888,
              "#fdca26"
             ],
             [
              1,
              "#f0f921"
             ]
            ],
            "type": "histogram2dcontour"
           }
          ],
          "mesh3d": [
           {
            "colorbar": {
             "outlinewidth": 0,
             "ticks": ""
            },
            "type": "mesh3d"
           }
          ],
          "parcoords": [
           {
            "line": {
             "colorbar": {
              "outlinewidth": 0,
              "ticks": ""
             }
            },
            "type": "parcoords"
           }
          ],
          "pie": [
           {
            "automargin": true,
            "type": "pie"
           }
          ],
          "scatter": [
           {
            "fillpattern": {
             "fillmode": "overlay",
             "size": 10,
             "solidity": 0.2
            },
            "type": "scatter"
           }
          ],
          "scatter3d": [
           {
            "line": {
             "colorbar": {
              "outlinewidth": 0,
              "ticks": ""
             }
            },
            "marker": {
             "colorbar": {
              "outlinewidth": 0,
              "ticks": ""
             }
            },
            "type": "scatter3d"
           }
          ],
          "scattercarpet": [
           {
            "marker": {
             "colorbar": {
              "outlinewidth": 0,
              "ticks": ""
             }
            },
            "type": "scattercarpet"
           }
          ],
          "scattergeo": [
           {
            "marker": {
             "colorbar": {
              "outlinewidth": 0,
              "ticks": ""
             }
            },
            "type": "scattergeo"
           }
          ],
          "scattergl": [
           {
            "marker": {
             "colorbar": {
              "outlinewidth": 0,
              "ticks": ""
             }
            },
            "type": "scattergl"
           }
          ],
          "scattermapbox": [
           {
            "marker": {
             "colorbar": {
              "outlinewidth": 0,
              "ticks": ""
             }
            },
            "type": "scattermapbox"
           }
          ],
          "scatterpolar": [
           {
            "marker": {
             "colorbar": {
              "outlinewidth": 0,
              "ticks": ""
             }
            },
            "type": "scatterpolar"
           }
          ],
          "scatterpolargl": [
           {
            "marker": {
             "colorbar": {
              "outlinewidth": 0,
              "ticks": ""
             }
            },
            "type": "scatterpolargl"
           }
          ],
          "scatterternary": [
           {
            "marker": {
             "colorbar": {
              "outlinewidth": 0,
              "ticks": ""
             }
            },
            "type": "scatterternary"
           }
          ],
          "surface": [
           {
            "colorbar": {
             "outlinewidth": 0,
             "ticks": ""
            },
            "colorscale": [
             [
              0,
              "#0d0887"
             ],
             [
              0.1111111111111111,
              "#46039f"
             ],
             [
              0.2222222222222222,
              "#7201a8"
             ],
             [
              0.3333333333333333,
              "#9c179e"
             ],
             [
              0.4444444444444444,
              "#bd3786"
             ],
             [
              0.5555555555555556,
              "#d8576b"
             ],
             [
              0.6666666666666666,
              "#ed7953"
             ],
             [
              0.7777777777777778,
              "#fb9f3a"
             ],
             [
              0.8888888888888888,
              "#fdca26"
             ],
             [
              1,
              "#f0f921"
             ]
            ],
            "type": "surface"
           }
          ],
          "table": [
           {
            "cells": {
             "fill": {
              "color": "#EBF0F8"
             },
             "line": {
              "color": "white"
             }
            },
            "header": {
             "fill": {
              "color": "#C8D4E3"
             },
             "line": {
              "color": "white"
             }
            },
            "type": "table"
           }
          ]
         },
         "layout": {
          "annotationdefaults": {
           "arrowcolor": "#2a3f5f",
           "arrowhead": 0,
           "arrowwidth": 1
          },
          "autotypenumbers": "strict",
          "coloraxis": {
           "colorbar": {
            "outlinewidth": 0,
            "ticks": ""
           }
          },
          "colorscale": {
           "diverging": [
            [
             0,
             "#8e0152"
            ],
            [
             0.1,
             "#c51b7d"
            ],
            [
             0.2,
             "#de77ae"
            ],
            [
             0.3,
             "#f1b6da"
            ],
            [
             0.4,
             "#fde0ef"
            ],
            [
             0.5,
             "#f7f7f7"
            ],
            [
             0.6,
             "#e6f5d0"
            ],
            [
             0.7,
             "#b8e186"
            ],
            [
             0.8,
             "#7fbc41"
            ],
            [
             0.9,
             "#4d9221"
            ],
            [
             1,
             "#276419"
            ]
           ],
           "sequential": [
            [
             0,
             "#0d0887"
            ],
            [
             0.1111111111111111,
             "#46039f"
            ],
            [
             0.2222222222222222,
             "#7201a8"
            ],
            [
             0.3333333333333333,
             "#9c179e"
            ],
            [
             0.4444444444444444,
             "#bd3786"
            ],
            [
             0.5555555555555556,
             "#d8576b"
            ],
            [
             0.6666666666666666,
             "#ed7953"
            ],
            [
             0.7777777777777778,
             "#fb9f3a"
            ],
            [
             0.8888888888888888,
             "#fdca26"
            ],
            [
             1,
             "#f0f921"
            ]
           ],
           "sequentialminus": [
            [
             0,
             "#0d0887"
            ],
            [
             0.1111111111111111,
             "#46039f"
            ],
            [
             0.2222222222222222,
             "#7201a8"
            ],
            [
             0.3333333333333333,
             "#9c179e"
            ],
            [
             0.4444444444444444,
             "#bd3786"
            ],
            [
             0.5555555555555556,
             "#d8576b"
            ],
            [
             0.6666666666666666,
             "#ed7953"
            ],
            [
             0.7777777777777778,
             "#fb9f3a"
            ],
            [
             0.8888888888888888,
             "#fdca26"
            ],
            [
             1,
             "#f0f921"
            ]
           ]
          },
          "colorway": [
           "#636efa",
           "#EF553B",
           "#00cc96",
           "#ab63fa",
           "#FFA15A",
           "#19d3f3",
           "#FF6692",
           "#B6E880",
           "#FF97FF",
           "#FECB52"
          ],
          "font": {
           "color": "#2a3f5f"
          },
          "geo": {
           "bgcolor": "white",
           "lakecolor": "white",
           "landcolor": "#E5ECF6",
           "showlakes": true,
           "showland": true,
           "subunitcolor": "white"
          },
          "hoverlabel": {
           "align": "left"
          },
          "hovermode": "closest",
          "mapbox": {
           "style": "light"
          },
          "paper_bgcolor": "white",
          "plot_bgcolor": "#E5ECF6",
          "polar": {
           "angularaxis": {
            "gridcolor": "white",
            "linecolor": "white",
            "ticks": ""
           },
           "bgcolor": "#E5ECF6",
           "radialaxis": {
            "gridcolor": "white",
            "linecolor": "white",
            "ticks": ""
           }
          },
          "scene": {
           "xaxis": {
            "backgroundcolor": "#E5ECF6",
            "gridcolor": "white",
            "gridwidth": 2,
            "linecolor": "white",
            "showbackground": true,
            "ticks": "",
            "zerolinecolor": "white"
           },
           "yaxis": {
            "backgroundcolor": "#E5ECF6",
            "gridcolor": "white",
            "gridwidth": 2,
            "linecolor": "white",
            "showbackground": true,
            "ticks": "",
            "zerolinecolor": "white"
           },
           "zaxis": {
            "backgroundcolor": "#E5ECF6",
            "gridcolor": "white",
            "gridwidth": 2,
            "linecolor": "white",
            "showbackground": true,
            "ticks": "",
            "zerolinecolor": "white"
           }
          },
          "shapedefaults": {
           "line": {
            "color": "#2a3f5f"
           }
          },
          "ternary": {
           "aaxis": {
            "gridcolor": "white",
            "linecolor": "white",
            "ticks": ""
           },
           "baxis": {
            "gridcolor": "white",
            "linecolor": "white",
            "ticks": ""
           },
           "bgcolor": "#E5ECF6",
           "caxis": {
            "gridcolor": "white",
            "linecolor": "white",
            "ticks": ""
           }
          },
          "title": {
           "x": 0.05
          },
          "xaxis": {
           "automargin": true,
           "gridcolor": "white",
           "linecolor": "white",
           "ticks": "",
           "title": {
            "standoff": 15
           },
           "zerolinecolor": "white",
           "zerolinewidth": 2
          },
          "yaxis": {
           "automargin": true,
           "gridcolor": "white",
           "linecolor": "white",
           "ticks": "",
           "title": {
            "standoff": 15
           },
           "zerolinecolor": "white",
           "zerolinewidth": 2
          }
         }
        },
        "title": {
         "text": "Event Trace without Time"
        },
        "width": 1200,
        "xaxis": {
         "color": "black",
         "gridcolor": "lightgrey",
         "linecolor": "black",
         "mirror": true,
         "rangeslider": {
          "visible": true
         },
         "showline": true,
         "tickfont": {
          "size": 20
         },
         "ticks": "outside",
         "ticktext": [
          [
           0,
           1369
          ],
          [
           10,
           2990
          ],
          [
           20,
           6132
          ],
          [
           30,
           7231
          ],
          [
           40,
           9320
          ],
          [
           50,
           12464
          ],
          [
           60,
           13542
          ],
          [
           70,
           15652
          ],
          [
           80,
           17762
          ],
          [
           90,
           19874
          ],
          [
           100,
           21983
          ],
          [
           110,
           23063
          ],
          [
           120,
           26207
          ],
          [
           130,
           27306
          ],
          [
           140,
           29396
          ],
          [
           150,
           31508
          ],
          [
           160,
           32585
          ],
          [
           170,
           33664
          ],
          [
           180,
           35774
          ],
          [
           190,
           37886
          ],
          [
           200,
           38965
          ],
          [
           210,
           40042
          ],
          [
           220,
           42154
          ],
          [
           230,
           43233
          ],
          [
           240,
           45345
          ],
          [
           250,
           46422
          ],
          [
           260,
           47521
          ],
          [
           270,
           49612
          ],
          [
           280,
           51724
          ],
          [
           290,
           52802
          ],
          [
           300,
           53881
          ],
          [
           310,
           55993
          ],
          [
           320,
           57071
          ],
          [
           330,
           59182
          ],
          [
           340,
           61294
          ],
          [
           350,
           63405
          ],
          [
           360,
           65517
          ],
          [
           370,
           67626
          ],
          [
           380,
           68705
          ],
          [
           390,
           71850
          ],
          [
           400,
           72948
          ],
          [
           410,
           75038
          ],
          [
           420,
           77150
          ],
          [
           430,
           79261
          ],
          [
           440,
           81372
          ],
          [
           450,
           83483
          ],
          [
           460,
           85594
          ],
          [
           470,
           87705
          ],
          [
           480,
           88784
          ],
          [
           490,
           91929
          ],
          [
           500,
           93028
          ],
          [
           510,
           95118
          ],
          [
           520,
           97230
          ],
          [
           530,
           99341
          ],
          [
           540,
           101452
          ],
          [
           550,
           103565
          ],
          [
           560,
           105697
          ],
          [
           570,
           107787
          ],
          [
           580,
           109899
          ],
          [
           590,
           112010
          ],
          [
           600,
           113111
          ],
          [
           610,
           116234
          ],
          [
           620,
           118346
          ],
          [
           630,
           119444
          ],
          [
           640,
           122569
          ],
          [
           650,
           123647
          ],
          [
           660,
           125779
          ],
          [
           670,
           127871
          ],
          [
           680,
           129982
          ],
          [
           690,
           132092
          ],
          [
           700,
           133192
          ],
          [
           710,
           136316
          ],
          [
           720,
           138429
          ],
          [
           730,
           139528
          ],
          [
           740,
           142651
          ],
          [
           750,
           143729
          ],
          [
           760,
           145861
          ],
          [
           770,
           147952
          ],
          [
           780,
           150066
          ],
          [
           790,
           152177
          ],
          [
           800,
           153278
          ],
          [
           810,
           156401
          ],
          [
           820,
           159396
          ],
          [
           830,
           161508
          ],
          [
           840,
           162607
          ],
          [
           850,
           164697
          ],
          [
           860,
           167841
          ],
          [
           870,
           169180
          ],
          [
           880,
           171314
          ],
          [
           890,
           173404
          ],
          [
           900,
           175517
          ],
          [
           910,
           177630
          ],
          [
           920,
           178730
          ],
          [
           930,
           181854
          ],
          [
           940,
           183967
          ],
          [
           950,
           186337
          ],
          [
           960,
           187436
          ],
          [
           970,
           189527
          ],
          [
           980,
           192671
          ],
          [
           990,
           193750
          ],
          [
           1000,
           195861
          ],
          [
           1010,
           197972
          ],
          [
           1020,
           200085
          ],
          [
           1030,
           202452
          ],
          [
           1040,
           203554
          ],
          [
           1050,
           206678
          ],
          [
           1060,
           208791
          ],
          [
           1070,
           209890
          ],
          [
           1080,
           211981
          ],
          [
           1090,
           214093
          ],
          [
           1100,
           216226
          ],
          [
           1110,
           218315
          ],
          [
           1120,
           220428
          ],
          [
           1130,
           222538
          ],
          [
           1140,
           223639
          ],
          [
           1150,
           226763
          ],
          [
           1160,
           228875
          ],
          [
           1170,
           229974
          ],
          [
           1180,
           232065
          ],
          [
           1190,
           234176
          ],
          [
           1200,
           236311
          ],
          [
           1210,
           238402
          ],
          [
           1220,
           239502
          ],
          [
           1230,
           241593
          ],
          [
           1240,
           242672
          ],
          [
           1250,
           244783
          ],
          [
           1260,
           245883
          ],
          [
           1270,
           247975
          ],
          [
           1280,
           249053
          ],
          [
           1290,
           251165
          ],
          [
           1300,
           252243
          ],
          [
           1310,
           253343
          ],
          [
           1320,
           255434
          ],
          [
           1330,
           257547
          ],
          [
           1340,
           258625
          ],
          [
           1350,
           259724
          ],
          [
           1360,
           261816
          ],
          [
           1370,
           262894
          ],
          [
           1380,
           265005
          ],
          [
           1390,
           266105
          ],
          [
           1400,
           268197
          ],
          [
           1410,
           269277
          ],
          [
           1420,
           271388
          ],
          [
           1430,
           273502
          ],
          [
           1440,
           274602
          ],
          [
           1450,
           277725
          ],
          [
           1460,
           278807
          ],
          [
           1470,
           280939
          ],
          [
           1480,
           283029
          ],
          [
           1490,
           285144
          ],
          [
           1500,
           287254
          ],
          [
           1510,
           289613
          ],
          [
           1520,
           291727
          ],
          [
           1530,
           293838
          ],
          [
           1540,
           295952
          ],
          [
           1550,
           297050
          ],
          [
           1560,
           299139
          ],
          [
           1570,
           302286
          ],
          [
           1580,
           303367
          ],
          [
           1590,
           305481
          ],
          [
           1600,
           307593
          ],
          [
           1610,
           309705
          ],
          [
           1620,
           311818
          ],
          [
           1630,
           313929
          ],
          [
           1640,
           316041
          ],
          [
           1650,
           317141
          ],
          [
           1660,
           319233
          ],
          [
           1670,
           322378
          ],
          [
           1680,
           323457
          ],
          [
           1690,
           325569
          ],
          [
           1700,
           327681
          ],
          [
           1710,
           329795
          ],
          [
           1720,
           331907
          ],
          [
           1730,
           334018
          ],
          [
           1740,
           336132
          ],
          [
           1750,
           337231
          ],
          [
           1760,
           339321
          ],
          [
           1770,
           342467
          ],
          [
           1780,
           343546
          ],
          [
           1790,
           345657
          ],
          [
           1800,
           347770
          ],
          [
           1810,
           349883
          ],
          [
           1820,
           351992
          ],
          [
           1830,
           353074
          ],
          [
           1840,
           356220
          ],
          [
           1850,
           357320
          ],
          [
           1860,
           359411
          ],
          [
           1870,
           362556
          ],
          [
           1880,
           363637
          ],
          [
           1890,
           365747
          ],
          [
           1900,
           367858
          ],
          [
           1910,
           369973
          ],
          [
           1920,
           372083
          ],
          [
           1930,
           373162
          ],
          [
           1940,
           376308
          ],
          [
           1950,
           377409
          ],
          [
           1960,
           379503
          ],
          [
           1970,
           382648
          ],
          [
           1980,
           383726
          ],
          [
           1990,
           385841
          ],
          [
           2000,
           387952
          ],
          [
           2010,
           390064
          ],
          [
           2020,
           392176
          ],
          [
           2030,
           394290
          ],
          [
           2040,
           396405
          ],
          [
           2050,
           397503
          ],
          [
           2060,
           399879
          ],
          [
           2070,
           401970
          ],
          [
           2080,
           404082
          ],
          [
           2090,
           406218
          ],
          [
           2100,
           408309
          ],
          [
           2110,
           410419
          ],
          [
           2120,
           412531
          ],
          [
           2130,
           413630
          ],
          [
           2140,
           416756
          ],
          [
           2150,
           418869
          ],
          [
           2160,
           419966
          ],
          [
           2170,
           422060
          ],
          [
           2180,
           424171
          ],
          [
           2190,
           426303
          ],
          [
           2200,
           428396
          ],
          [
           2210,
           430508
          ],
          [
           2220,
           432622
          ],
          [
           2230,
           433722
          ],
          [
           2240,
           436844
          ],
          [
           2250,
           438960
          ],
          [
           2260,
           440059
          ],
          [
           2270,
           442149
          ],
          [
           2280,
           444262
          ],
          [
           2290,
           446397
          ],
          [
           2300,
           448488
          ],
          [
           2310,
           450599
          ],
          [
           2320,
           452710
          ],
          [
           2330,
           453815
          ],
          [
           2340,
           455906
          ],
          [
           2350,
           456984
          ],
          [
           2360,
           459098
          ],
          [
           2370,
           460198
          ],
          [
           2380,
           462290
          ],
          [
           2390,
           463369
          ],
          [
           2400,
           465482
          ],
          [
           2410,
           466581
          ],
          [
           2420,
           468674
          ],
          [
           2430,
           469752
          ],
          [
           2440,
           471864
          ],
          [
           2450,
           472943
          ],
          [
           2460,
           474044
          ],
          [
           2470,
           476136
          ],
          [
           2480,
           477215
          ],
          [
           2490,
           479326
          ],
          [
           2500,
           480430
          ],
          [
           2510,
           482520
          ],
          [
           2520,
           483599
          ],
          [
           2530,
           485734
          ],
          [
           2540,
           487826
          ],
          [
           2550,
           489936
          ],
          [
           2560,
           492052
          ],
          [
           2570,
           493151
          ],
          [
           2580,
           496277
          ],
          [
           2590,
           498390
          ],
          [
           2600,
           499489
          ],
          [
           2610,
           502618
          ],
          [
           2620,
           503698
          ],
          [
           2630,
           505832
          ],
          [
           2640,
           507924
          ],
          [
           2650,
           510036
          ],
          [
           2660,
           512153
          ],
          [
           2670,
           513254
          ],
          [
           2680,
           516378
          ],
          [
           2690,
           518492
          ],
          [
           2700,
           519593
          ],
          [
           2710,
           522721
          ],
          [
           2720,
           523799
          ],
          [
           2730,
           525933
          ],
          [
           2740,
           528027
          ],
          [
           2750,
           530139
          ],
          [
           2760,
           532251
          ],
          [
           2770,
           533357
          ]
         ],
         "tickvals": [
          0,
          10,
          20,
          30,
          40,
          50,
          60,
          70,
          80,
          90,
          100,
          110,
          120,
          130,
          140,
          150,
          160,
          170,
          180,
          190,
          200,
          210,
          220,
          230,
          240,
          250,
          260,
          270,
          280,
          290,
          300,
          310,
          320,
          330,
          340,
          350,
          360,
          370,
          380,
          390,
          400,
          410,
          420,
          430,
          440,
          450,
          460,
          470,
          480,
          490,
          500,
          510,
          520,
          530,
          540,
          550,
          560,
          570,
          580,
          590,
          600,
          610,
          620,
          630,
          640,
          650,
          660,
          670,
          680,
          690,
          700,
          710,
          720,
          730,
          740,
          750,
          760,
          770,
          780,
          790,
          800,
          810,
          820,
          830,
          840,
          850,
          860,
          870,
          880,
          890,
          900,
          910,
          920,
          930,
          940,
          950,
          960,
          970,
          980,
          990,
          1000,
          1010,
          1020,
          1030,
          1040,
          1050,
          1060,
          1070,
          1080,
          1090,
          1100,
          1110,
          1120,
          1130,
          1140,
          1150,
          1160,
          1170,
          1180,
          1190,
          1200,
          1210,
          1220,
          1230,
          1240,
          1250,
          1260,
          1270,
          1280,
          1290,
          1300,
          1310,
          1320,
          1330,
          1340,
          1350,
          1360,
          1370,
          1380,
          1390,
          1400,
          1410,
          1420,
          1430,
          1440,
          1450,
          1460,
          1470,
          1480,
          1490,
          1500,
          1510,
          1520,
          1530,
          1540,
          1550,
          1560,
          1570,
          1580,
          1590,
          1600,
          1610,
          1620,
          1630,
          1640,
          1650,
          1660,
          1670,
          1680,
          1690,
          1700,
          1710,
          1720,
          1730,
          1740,
          1750,
          1760,
          1770,
          1780,
          1790,
          1800,
          1810,
          1820,
          1830,
          1840,
          1850,
          1860,
          1870,
          1880,
          1890,
          1900,
          1910,
          1920,
          1930,
          1940,
          1950,
          1960,
          1970,
          1980,
          1990,
          2000,
          2010,
          2020,
          2030,
          2040,
          2050,
          2060,
          2070,
          2080,
          2090,
          2100,
          2110,
          2120,
          2130,
          2140,
          2150,
          2160,
          2170,
          2180,
          2190,
          2200,
          2210,
          2220,
          2230,
          2240,
          2250,
          2260,
          2270,
          2280,
          2290,
          2300,
          2310,
          2320,
          2330,
          2340,
          2350,
          2360,
          2370,
          2380,
          2390,
          2400,
          2410,
          2420,
          2430,
          2440,
          2450,
          2460,
          2470,
          2480,
          2490,
          2500,
          2510,
          2520,
          2530,
          2540,
          2550,
          2560,
          2570,
          2580,
          2590,
          2600,
          2610,
          2620,
          2630,
          2640,
          2650,
          2660,
          2670,
          2680,
          2690,
          2700,
          2710,
          2720,
          2730,
          2740,
          2750,
          2760,
          2770
         ],
         "title": {
          "font": {
           "size": 20
          },
          "text": "Number of events"
         },
         "type": "linear"
        },
        "yaxis": {
         "color": "black",
         "gridcolor": "lightgrey",
         "linecolor": "black",
         "mirror": true,
         "showline": true,
         "tickfont": {
          "size": 20
         },
         "ticks": "outside",
         "ticktext": [
          "1-0-main-ow",
          "1-0-main-temp",
          "1-0-main-lora",
          "1-0-main-s",
          "1-0-main-com_timer",
          "1-control-init_timer0-0",
          "1-0-main-i",
          "1-0-sense-temperature",
          "1-0-main-temperature",
          "1-control-updatedata-cls.sensor_data",
          "1-control-readdata-0",
          "1-0-loracom-data",
          "1-control-update_txmsg-0",
          "1-0-main-g_ack",
          "1-0-main-events",
          "1-control-update_rxmsg-drop"
         ],
         "tickvals": [
          0,
          1,
          2,
          3,
          4,
          5,
          6,
          7,
          8,
          9,
          10,
          11,
          12,
          13,
          14,
          15
         ],
         "title": {
          "font": {
           "size": 20
          },
          "text": "Variables"
         }
        }
       }
      }
     },
     "metadata": {},
     "output_type": "display_data"
    }
   ],
   "source": [
    "\n",
    "### plot single trace\n",
    "for i, df in enumerate(all_df):\n",
    "    \n",
    "    if i == trace_file:\n",
    "        plot_single_trace(df, var_list, with_time=False, is_xticks=True)"
   ]
  },
  {
   "cell_type": "code",
   "execution_count": null,
   "metadata": {},
   "outputs": [],
   "source": [
    "### get timestamp\n",
    "\n",
    "timestamp = index2timestamp(all_df[0], 227)\n",
    "print(timestamp)"
   ]
  },
  {
   "cell_type": "markdown",
   "metadata": {},
   "source": [
    "## Execution Interval Plots"
   ]
  },
  {
   "cell_type": "markdown",
   "metadata": {},
   "source": [
    "### Preprocess data"
   ]
  },
  {
   "cell_type": "code",
   "execution_count": null,
   "metadata": {},
   "outputs": [],
   "source": [
    "####### preprocessing data ########\n",
    "\n",
    "#### extract timestamps for each variable and store them in a dictionary along with index values for each variable in event trace\n",
    "\n",
    "var_timestamps = get_var_timestamps(paths_traces)    #### in format (filename, dict of timestamps and index values)\n",
    "\n",
    "to_plot = preprocess_variable_plotting(var_timestamps, var_list, from_number, trace_number=trace_file)   ### restructure the data for plotting\n"
   ]
  },
  {
   "cell_type": "markdown",
   "metadata": {},
   "source": [
    "### Generate execution interval plots"
   ]
  },
  {
   "cell_type": "code",
   "execution_count": null,
   "metadata": {},
   "outputs": [],
   "source": [
    "### plot the data\n",
    "plot_execution_interval_single(to_plot, is_xticks=False)"
   ]
  },
  {
   "cell_type": "code",
   "execution_count": null,
   "metadata": {},
   "outputs": [],
   "source": []
  },
  {
   "cell_type": "markdown",
   "metadata": {},
   "source": [
    "## Plot Labels"
   ]
  },
  {
   "cell_type": "code",
   "execution_count": 37,
   "metadata": {},
   "outputs": [
    {
     "name": "stdout",
     "output_type": "stream",
     "text": [
      "trace1-com_label.json defaultdict(<class 'int'>, {1: 22, 2: 3})\n",
      "trace2-sensor_label.json defaultdict(<class 'int'>, {1: 23, 2: 30})\n",
      "../trace_data/theft_protection/single_thread/version_3/faulty_data/labels/trace3-bitflip_label.json\n",
      "trace3-bitflip_label.json defaultdict(<class 'int'>, {1: 24, 2: 36, 3: 68})\n",
      "1 24\n",
      "2 36\n",
      "3 68\n"
     ]
    }
   ],
   "source": [
    "### count and prepare labels to plot\n",
    "'''\n",
    "labels are of format [index1, index2, timestamp1, timestamp2, class]\n",
    "'''\n",
    "class_count = defaultdict(int)\n",
    "for i, path in enumerate(paths_label):\n",
    "    label_content = prepare_gt(path)\n",
    "    ind, ts, cls = label_content\n",
    "    # print(ind, ts, cls)\n",
    "    for c in cls:\n",
    "        class_count[c]+=1\n",
    "        \n",
    "    if i == trace_file:\n",
    "        print(path)\n",
    "        toplot_gt = label_content\n",
    "\n",
    "    print(os.path.split(path)[-1], class_count)\n",
    "\n",
    "    # break\n",
    "for key, val in class_count.items():\n",
    "    print(key, val)"
   ]
  },
  {
   "cell_type": "code",
   "execution_count": 27,
   "metadata": {},
   "outputs": [
    {
     "name": "stdout",
     "output_type": "stream",
     "text": [
      "defaultdict(<class 'int'>, {1: 22, 2: 3})\n"
     ]
    }
   ],
   "source": []
  },
  {
   "cell_type": "code",
   "execution_count": 10,
   "metadata": {},
   "outputs": [
    {
     "data": {
      "application/vnd.plotly.v1+json": {
       "config": {
        "plotlyServerURL": "https://plot.ly"
       },
       "data": [
        {
         "line": {
          "width": 0.5
         },
         "marker": {
          "color": "midnightblue",
          "size": 8
         },
         "mode": "lines+markers",
         "name": "trace3-bitflip",
         "showlegend": true,
         "type": "scatter",
         "y": [
          0,
          1,
          2,
          3,
          4,
          5,
          6,
          7,
          8,
          9,
          6,
          7,
          8,
          9,
          6,
          7,
          8,
          9,
          6,
          7,
          8,
          9,
          6,
          7,
          8,
          9,
          10,
          11,
          12,
          6,
          7,
          8,
          9,
          13,
          14,
          15,
          6,
          7,
          8,
          9,
          6,
          7,
          8,
          9,
          6,
          7,
          8,
          9,
          6,
          7,
          8,
          9,
          10,
          11,
          12,
          6,
          7,
          8,
          9,
          13,
          14,
          15,
          6,
          7,
          8,
          9,
          6,
          7,
          8,
          9,
          6,
          7,
          8,
          9,
          6,
          7,
          8,
          9,
          10,
          11,
          12,
          6,
          7,
          8,
          9,
          13,
          14,
          15,
          6,
          7,
          8,
          9,
          6,
          7,
          8,
          9,
          6,
          7,
          8,
          9,
          10,
          11,
          12,
          6,
          7,
          8,
          9,
          13,
          14,
          15,
          6,
          7,
          8,
          9,
          6,
          7,
          8,
          9,
          6,
          7,
          8,
          9,
          6,
          7,
          8,
          9,
          10,
          11,
          12,
          6,
          7,
          8,
          9,
          13,
          14,
          15,
          6,
          7,
          8,
          9,
          13,
          14,
          6,
          7,
          8,
          9,
          13,
          14,
          6,
          7,
          8,
          9,
          13,
          14,
          6,
          7,
          8,
          9,
          10,
          11,
          12,
          13,
          14,
          6,
          7,
          8,
          9,
          13,
          14,
          15,
          6,
          7,
          8,
          9,
          13,
          14,
          6,
          7,
          8,
          9,
          13,
          14,
          6,
          7,
          8,
          9,
          13,
          14,
          6,
          7,
          8,
          9,
          10,
          11,
          12,
          13,
          14,
          6,
          7,
          8,
          9,
          13,
          14,
          6,
          7,
          8,
          9,
          13,
          14,
          15,
          6,
          7,
          8,
          9,
          13,
          14,
          6,
          7,
          8,
          9,
          10,
          11,
          12,
          13,
          14,
          6,
          7,
          8,
          9,
          13,
          14,
          15,
          6,
          7,
          8,
          9,
          13,
          14,
          6,
          7,
          8,
          9,
          13,
          14,
          6,
          7,
          8,
          9,
          13,
          14,
          6,
          7,
          8,
          9,
          10,
          11,
          12,
          13,
          14,
          6,
          7,
          8,
          9,
          13,
          14,
          15,
          6,
          7,
          8,
          9,
          13,
          14,
          6,
          7,
          8,
          9,
          13,
          14,
          6,
          7,
          8,
          9,
          13,
          14,
          6,
          7,
          8,
          9,
          10,
          11,
          12,
          13,
          14,
          6,
          7,
          8,
          9,
          13,
          14,
          15,
          6,
          7,
          8,
          9,
          13,
          14,
          6,
          7,
          8,
          9,
          13,
          14,
          6,
          7,
          8,
          9,
          10,
          11,
          12,
          13,
          14,
          6,
          7,
          8,
          9,
          13,
          14,
          15,
          6,
          7,
          8,
          9,
          6,
          7,
          8,
          9,
          6,
          7,
          8,
          9,
          6,
          7,
          8,
          9,
          10,
          11,
          12,
          6,
          7,
          8,
          9,
          13,
          14,
          15,
          6,
          7,
          8,
          9,
          6,
          7,
          8,
          9,
          6,
          7,
          8,
          9,
          6,
          7,
          8,
          9,
          10,
          11,
          12,
          6,
          7,
          8,
          9,
          13,
          14,
          15,
          6,
          7,
          8,
          9,
          6,
          7,
          8,
          9,
          6,
          7,
          8,
          9,
          6,
          7,
          8,
          9,
          10,
          11,
          12,
          6,
          7,
          8,
          9,
          13,
          14,
          15,
          6,
          7,
          8,
          9,
          6,
          7,
          8,
          9,
          6,
          7,
          8,
          9,
          10,
          11,
          12,
          6,
          7,
          8,
          9,
          13,
          14,
          15,
          6,
          7,
          8,
          9,
          6,
          7,
          8,
          9,
          6,
          7,
          8,
          9,
          6,
          7,
          8,
          9,
          10,
          11,
          12,
          6,
          7,
          8,
          9,
          13,
          14,
          15,
          6,
          7,
          8,
          9,
          6,
          7,
          8,
          9,
          6,
          7,
          8,
          9,
          6,
          7,
          8,
          9,
          10,
          11,
          12,
          6,
          7,
          8,
          9,
          13,
          14,
          15,
          6,
          7,
          8,
          9,
          6,
          7,
          8,
          9,
          6,
          7,
          8,
          9,
          10,
          11,
          12,
          6,
          7,
          8,
          9,
          6,
          7,
          8,
          9,
          13,
          14,
          15,
          6,
          7,
          8,
          9,
          6,
          7,
          8,
          9,
          6,
          7,
          8,
          9,
          10,
          11,
          12,
          6,
          7,
          8,
          9,
          13,
          14,
          15,
          6,
          7,
          8,
          9,
          6,
          7,
          8,
          9,
          6,
          7,
          8,
          9,
          6,
          7,
          8,
          9,
          10,
          11,
          12,
          6,
          7,
          8,
          9,
          6,
          7,
          8,
          9,
          6,
          7,
          8,
          9,
          6,
          7,
          8,
          9,
          6,
          7,
          8,
          9,
          10,
          11,
          12,
          6,
          7,
          8,
          9,
          13,
          14,
          15,
          6,
          7,
          8,
          9,
          6,
          7,
          8,
          9,
          6,
          7,
          8,
          9,
          10,
          11,
          12,
          6,
          7,
          8,
          9,
          13,
          14,
          15,
          6,
          7,
          8,
          9,
          6,
          7,
          8,
          9,
          6,
          7,
          8,
          9,
          6,
          7,
          8,
          9,
          10,
          11,
          12,
          6,
          7,
          8,
          9,
          13,
          14,
          15,
          6,
          7,
          8,
          9,
          6,
          7,
          8,
          9,
          6,
          7,
          8,
          9,
          6,
          7,
          8,
          9,
          10,
          11,
          12,
          6,
          7,
          8,
          9,
          13,
          14,
          15,
          6,
          7,
          8,
          9,
          6,
          7,
          8,
          9,
          6,
          7,
          8,
          9,
          6,
          7,
          8,
          9,
          10,
          11,
          12,
          6,
          7,
          8,
          9,
          13,
          14,
          15,
          6,
          7,
          8,
          9,
          6,
          7,
          8,
          9,
          6,
          7,
          8,
          9,
          10,
          11,
          12,
          6,
          7,
          8,
          9,
          13,
          14,
          15,
          6,
          7,
          8,
          9,
          6,
          7,
          8,
          9,
          6,
          7,
          8,
          9,
          6,
          7,
          8,
          9,
          10,
          11,
          12,
          6,
          7,
          8,
          9,
          13,
          14,
          15,
          6,
          7,
          8,
          9,
          6,
          7,
          8,
          9,
          6,
          7,
          8,
          9,
          6,
          7,
          8,
          9,
          10,
          11,
          12,
          6,
          7,
          8,
          9,
          13,
          14,
          15,
          6,
          7,
          8,
          9,
          6,
          7,
          8,
          9,
          6,
          7,
          8,
          9,
          6,
          7,
          8,
          9,
          10,
          11,
          12,
          6,
          7,
          8,
          9,
          13,
          14,
          15,
          6,
          7,
          8,
          9,
          6,
          7,
          8,
          9,
          6,
          7,
          8,
          9,
          10,
          11,
          12,
          6,
          7,
          8,
          9,
          13,
          14,
          15,
          6,
          7,
          8,
          9,
          6,
          7,
          8,
          9,
          6,
          7,
          8,
          9,
          6,
          7,
          8,
          10,
          11,
          12,
          6,
          7,
          8,
          9,
          13,
          14,
          15,
          6,
          7,
          8,
          9,
          6,
          7,
          8,
          9,
          6,
          7,
          8,
          9,
          10,
          11,
          12,
          6,
          7,
          8,
          9,
          13,
          14,
          15,
          6,
          7,
          8,
          9,
          6,
          7,
          8,
          9,
          6,
          7,
          8,
          9,
          6,
          7,
          8,
          9,
          10,
          11,
          12,
          6,
          7,
          8,
          13,
          14,
          15,
          6,
          7,
          8,
          9,
          6,
          7,
          8,
          9,
          6,
          7,
          8,
          9,
          10,
          11,
          12,
          6,
          7,
          8,
          9,
          13,
          14,
          15,
          6,
          7,
          8,
          9,
          6,
          7,
          8,
          9,
          6,
          7,
          8,
          9,
          6,
          7,
          8,
          9,
          10,
          11,
          12,
          6,
          7,
          8,
          9,
          13,
          14,
          15,
          6,
          7,
          8,
          9,
          6,
          7,
          8,
          9,
          6,
          7,
          8,
          9,
          6,
          7,
          8,
          9,
          10,
          11,
          12,
          6,
          7,
          8,
          13,
          14,
          15,
          6,
          7,
          8,
          9,
          6,
          7,
          8,
          9,
          6,
          7,
          8,
          9,
          10,
          11,
          12,
          6,
          7,
          8,
          9,
          13,
          14,
          15,
          6,
          7,
          8,
          9,
          6,
          7,
          8,
          9,
          6,
          7,
          8,
          9,
          6,
          7,
          8,
          9,
          10,
          11,
          12,
          6,
          7,
          8,
          9,
          13,
          14,
          15,
          6,
          7,
          8,
          9,
          6,
          7,
          8,
          9,
          6,
          7,
          8,
          9,
          6,
          7,
          8,
          9,
          10,
          11,
          12,
          6,
          7,
          8,
          9,
          13,
          14,
          15,
          6,
          7,
          8,
          9,
          6,
          7,
          8,
          9,
          6,
          7,
          8,
          10,
          11,
          12,
          6,
          7,
          8,
          9,
          13,
          14,
          15,
          6,
          7,
          8,
          9,
          6,
          7,
          8,
          9,
          6,
          7,
          8,
          9,
          6,
          7,
          8,
          9,
          10,
          11,
          12,
          6,
          7,
          8,
          9,
          13,
          14,
          15,
          6,
          7,
          8,
          9,
          6,
          7,
          8,
          9,
          6,
          7,
          8,
          9,
          10,
          11,
          12,
          6,
          7,
          8,
          9,
          13,
          14,
          15,
          6,
          7,
          8,
          9,
          6,
          7,
          8,
          9,
          6,
          7,
          8,
          9,
          6,
          7,
          8,
          9,
          10,
          11,
          12,
          6,
          7,
          8,
          9,
          13,
          14,
          15,
          6,
          7,
          8,
          9,
          6,
          7,
          8,
          9,
          6,
          7,
          8,
          9,
          6,
          7,
          8,
          9,
          10,
          11,
          12,
          6,
          7,
          8,
          9,
          13,
          14,
          15,
          6,
          7,
          8,
          9,
          6,
          7,
          8,
          9,
          6,
          7,
          8,
          9,
          6,
          7,
          8,
          9,
          10,
          11,
          12,
          6,
          7,
          8,
          9,
          13,
          14,
          15,
          6,
          7,
          8,
          9,
          6,
          7,
          8,
          9,
          6,
          7,
          8,
          9,
          10,
          11,
          12,
          6,
          7,
          8,
          9,
          6,
          7,
          8,
          9,
          13,
          14,
          15,
          6,
          7,
          8,
          9,
          6,
          7,
          8,
          9,
          6,
          7,
          8,
          9,
          10,
          11,
          12,
          6,
          7,
          8,
          9,
          13,
          14,
          15,
          6,
          7,
          8,
          9,
          13,
          14,
          6,
          7,
          8,
          9,
          13,
          14,
          6,
          7,
          8,
          9,
          13,
          14,
          6,
          7,
          8,
          9,
          10,
          11,
          12,
          13,
          14,
          6,
          7,
          8,
          9,
          13,
          14,
          15,
          6,
          7,
          8,
          9,
          13,
          14,
          6,
          7,
          8,
          9,
          13,
          14,
          6,
          7,
          8,
          9,
          13,
          14,
          6,
          7,
          8,
          9,
          10,
          11,
          12,
          13,
          14,
          6,
          7,
          8,
          9,
          13,
          14,
          15,
          6,
          7,
          8,
          9,
          13,
          14,
          6,
          7,
          8,
          9,
          13,
          14,
          6,
          7,
          8,
          9,
          10,
          11,
          12,
          13,
          14,
          6,
          7,
          8,
          9,
          13,
          14,
          15,
          6,
          7,
          8,
          9,
          13,
          14,
          6,
          7,
          8,
          9,
          13,
          14,
          6,
          7,
          8,
          9,
          13,
          14,
          6,
          7,
          8,
          9,
          10,
          11,
          12,
          13,
          14,
          6,
          7,
          8,
          9,
          13,
          14,
          15,
          6,
          7,
          8,
          9,
          13,
          14,
          6,
          7,
          8,
          9,
          13,
          14,
          6,
          7,
          8,
          9,
          13,
          14,
          6,
          7,
          8,
          9,
          10,
          11,
          12,
          13,
          14,
          6,
          7,
          8,
          9,
          13,
          14,
          15,
          6,
          7,
          8,
          9,
          13,
          14,
          6,
          7,
          8,
          9,
          13,
          14,
          6,
          7,
          8,
          9,
          10,
          11,
          12,
          13,
          14,
          6,
          7,
          8,
          9,
          13,
          14,
          15,
          6,
          7,
          8,
          9,
          13,
          14,
          6,
          7,
          8,
          9,
          13,
          14,
          6,
          7,
          8,
          9,
          6,
          7,
          8,
          9,
          10,
          11,
          12,
          6,
          7,
          8,
          9,
          13,
          14,
          15,
          6,
          7,
          8,
          9,
          6,
          7,
          8,
          9,
          6,
          7,
          8,
          9,
          6,
          7,
          8,
          9,
          10,
          11,
          12,
          6,
          7,
          8,
          9,
          13,
          14,
          15,
          6,
          7,
          8,
          9,
          6,
          7,
          8,
          9,
          6,
          7,
          8,
          9,
          10,
          11,
          12,
          6,
          7,
          8,
          9,
          13,
          14,
          15,
          6,
          7,
          8,
          9,
          6,
          7,
          8,
          9,
          6,
          7,
          8,
          9,
          6,
          7,
          8,
          9,
          10,
          11,
          12,
          6,
          7,
          8,
          13,
          14,
          15,
          6,
          7,
          8,
          9,
          6,
          7,
          8,
          9,
          6,
          7,
          8,
          9,
          6,
          7,
          8,
          9,
          10,
          11,
          12,
          6,
          7,
          8,
          9,
          13,
          14,
          15,
          6,
          7,
          8,
          9,
          6,
          7,
          8,
          9,
          6,
          7,
          8,
          9,
          10,
          11,
          12,
          6,
          7,
          8,
          9,
          13,
          14,
          15,
          6,
          7,
          8,
          9,
          6,
          7,
          8,
          9,
          6,
          7,
          8,
          9,
          6,
          7,
          8,
          9,
          10,
          11,
          12,
          6,
          7,
          8,
          9,
          13,
          14,
          15,
          6,
          7,
          8,
          9,
          6,
          7,
          8,
          9,
          6,
          7,
          8,
          9,
          6,
          7,
          8,
          9,
          10,
          11,
          12,
          6,
          7,
          8,
          9,
          13,
          14,
          15,
          6,
          7,
          8,
          9,
          6,
          7,
          8,
          9,
          6,
          7,
          8,
          9,
          6,
          7,
          8,
          9,
          10,
          11,
          12,
          6,
          7,
          8,
          9,
          13,
          14,
          15,
          6,
          7,
          8,
          9,
          6,
          7,
          8,
          9,
          6,
          7,
          8,
          9,
          10,
          11,
          12,
          6,
          7,
          8,
          9,
          6,
          7,
          8,
          9,
          13,
          14,
          15,
          6,
          7,
          8,
          9,
          6,
          7,
          8,
          9,
          6,
          7,
          8,
          9,
          10,
          11,
          12,
          6,
          7,
          8,
          9,
          13,
          14,
          15,
          6,
          7,
          8,
          9,
          6,
          7,
          8,
          9,
          6,
          7,
          8,
          9,
          6,
          7,
          8,
          9,
          10,
          11,
          12,
          6,
          7,
          8,
          9,
          13,
          14,
          15,
          6,
          7,
          8,
          9,
          6,
          7,
          8,
          9,
          6,
          7,
          8,
          9,
          6,
          7,
          8,
          9,
          10,
          11,
          12,
          6,
          7,
          8,
          9,
          13,
          14,
          15,
          6,
          7,
          8,
          9,
          6,
          7,
          8,
          9,
          6,
          7,
          8,
          9,
          10,
          11,
          12,
          6,
          7,
          8,
          9,
          13,
          14,
          15,
          6,
          7,
          8,
          9,
          6,
          7,
          8,
          9,
          6,
          7,
          8,
          9,
          6,
          7,
          8,
          9,
          10,
          11,
          12,
          6,
          7,
          8,
          9,
          13,
          14,
          15,
          6,
          7,
          8,
          9,
          6,
          7,
          8,
          9,
          6,
          7,
          8,
          9,
          6,
          7,
          8,
          9,
          10,
          11,
          12,
          6,
          7,
          8,
          9,
          13,
          14,
          15,
          6,
          7,
          8,
          9,
          6,
          7,
          8,
          9,
          6,
          7,
          8,
          9,
          10,
          11,
          12,
          6,
          7,
          8,
          9,
          13,
          14,
          15,
          6,
          7,
          8,
          9,
          6,
          7,
          8,
          9,
          6,
          7,
          8,
          9,
          6,
          7,
          8,
          9,
          10,
          11,
          12,
          6,
          7,
          8,
          9,
          13,
          14,
          15,
          6,
          7,
          8,
          9,
          6,
          7,
          8,
          9,
          6,
          7,
          8,
          9,
          6,
          7,
          8,
          9,
          10,
          11,
          12,
          6,
          7,
          8,
          9,
          13,
          14,
          15,
          6,
          7,
          8,
          9,
          6,
          7,
          8,
          9,
          6,
          7,
          8,
          9,
          6,
          7,
          8,
          9,
          10,
          11,
          12,
          6,
          7,
          8,
          9,
          13,
          14,
          15,
          6,
          7,
          8,
          9,
          6,
          7,
          8,
          9,
          6,
          7,
          8,
          9,
          10,
          11,
          12,
          6,
          7,
          8,
          9,
          13,
          14,
          15,
          6,
          7,
          8,
          9,
          6,
          7,
          8,
          9,
          6,
          7,
          8,
          9,
          6,
          7,
          8,
          9,
          10,
          11,
          12,
          6,
          7,
          8,
          9,
          13,
          14,
          15,
          6,
          7,
          8,
          9,
          6,
          7,
          8,
          9,
          6,
          7,
          8,
          9,
          6,
          7,
          8,
          9,
          10,
          11,
          12,
          6,
          7,
          8,
          9,
          13,
          14,
          15,
          6,
          7,
          8,
          9,
          6,
          7,
          8,
          9,
          6,
          7,
          8,
          9,
          6,
          7,
          8,
          9,
          10,
          11,
          12,
          6,
          7,
          8,
          9,
          13,
          14,
          15,
          6,
          7,
          8,
          9,
          6,
          7,
          8,
          9,
          6,
          7,
          8,
          9,
          10,
          11,
          12,
          6,
          7,
          8,
          9,
          6,
          7,
          8,
          9,
          13,
          14,
          15,
          6,
          7,
          8,
          9,
          6,
          7,
          8,
          9,
          6,
          7,
          8,
          9,
          10,
          11,
          12,
          6,
          7,
          8,
          9,
          13,
          14,
          15,
          6,
          7,
          8,
          6,
          7,
          8,
          9,
          6,
          7,
          8,
          9,
          10,
          11,
          12,
          6,
          7,
          8,
          9,
          13,
          14,
          15,
          6,
          7,
          8,
          9,
          6,
          7,
          8,
          9,
          6,
          7,
          8,
          9,
          6,
          7,
          8,
          9,
          10,
          11,
          12,
          6,
          7,
          8,
          9,
          13,
          14,
          15,
          6,
          7,
          8,
          9,
          6,
          7,
          8,
          9,
          6,
          7,
          8,
          9,
          6,
          7,
          8,
          9,
          10,
          11,
          12,
          6,
          7,
          8,
          9,
          13,
          14,
          15,
          6,
          7,
          8,
          9,
          6,
          7,
          8,
          9,
          6,
          7,
          8,
          9,
          6,
          7,
          8,
          9,
          10,
          11,
          12,
          6,
          7,
          8,
          9,
          13,
          14,
          15,
          6,
          7,
          8,
          9,
          6,
          7,
          8,
          9,
          6,
          7,
          8,
          9,
          10,
          11,
          12,
          6,
          7,
          8,
          9,
          13,
          14,
          15,
          6,
          7,
          8,
          9,
          6,
          7,
          8,
          9,
          6,
          7,
          8,
          9,
          6,
          7,
          8,
          9,
          10,
          11,
          12,
          6,
          7,
          8,
          9,
          13,
          14,
          15,
          6,
          7,
          8,
          9,
          6,
          7,
          8,
          9,
          6,
          7,
          8,
          9,
          6,
          7,
          8,
          9,
          10,
          11,
          12,
          6,
          7,
          8,
          9,
          13,
          14,
          15,
          6,
          7,
          8,
          9,
          6,
          7,
          8,
          9,
          6,
          7,
          8,
          9,
          6,
          7,
          8,
          9,
          10,
          11,
          12,
          6,
          7,
          8,
          9,
          13,
          14,
          15,
          6,
          7,
          8,
          9,
          6,
          7,
          8,
          9,
          6,
          7,
          8,
          9,
          10,
          11,
          12,
          6,
          7,
          8,
          9,
          13,
          14,
          15,
          6,
          7,
          8,
          9,
          6,
          7,
          8,
          9,
          6,
          7,
          8,
          9,
          6,
          7,
          8,
          9,
          10,
          11,
          12,
          6,
          7,
          8,
          9,
          13,
          14,
          15,
          6,
          7,
          8,
          9,
          6,
          7,
          8,
          9,
          6,
          7,
          8,
          9,
          6,
          7,
          8,
          9,
          10,
          11,
          12,
          6,
          7,
          8,
          9,
          13,
          14,
          15,
          6,
          7,
          8,
          9,
          13,
          14,
          6,
          7,
          8,
          9,
          13,
          14,
          6,
          7,
          8,
          9,
          10,
          11,
          12,
          13,
          14,
          6,
          7,
          8,
          9,
          13,
          14,
          15,
          6,
          7,
          8,
          9,
          13,
          14,
          6,
          7,
          8,
          9,
          13,
          14,
          6,
          7,
          8,
          9,
          13,
          14,
          6,
          7,
          8,
          9,
          10,
          11,
          12,
          13,
          14,
          6,
          7,
          8,
          9,
          13,
          14,
          15,
          6,
          7,
          8,
          9,
          13,
          14,
          6,
          7,
          8,
          9,
          13,
          14,
          6,
          7,
          8,
          9,
          13,
          14,
          6,
          7,
          8,
          9,
          10,
          11,
          12,
          13,
          14,
          6,
          7,
          8,
          9,
          13,
          14,
          15,
          6,
          7,
          8,
          9,
          13,
          14,
          6,
          7,
          8,
          9,
          13,
          14,
          6,
          7,
          8,
          9,
          13,
          14,
          6,
          7,
          8,
          9,
          10,
          11,
          12,
          13,
          14,
          6,
          7,
          8,
          9,
          13,
          14,
          15,
          6,
          7,
          8,
          9,
          13,
          14,
          6,
          7,
          8,
          9,
          13,
          14,
          6,
          7,
          8,
          9,
          10,
          11,
          12,
          13,
          14,
          6,
          7,
          8,
          9,
          13,
          14,
          15,
          6,
          7,
          8,
          9,
          13,
          14,
          6,
          7,
          8,
          9,
          13,
          14,
          6,
          7,
          8,
          9,
          13,
          14,
          6,
          7,
          8,
          9,
          10,
          11,
          12,
          13,
          14,
          6,
          7,
          8,
          9,
          13,
          14,
          15,
          6,
          7,
          8,
          9,
          6,
          7,
          8,
          9,
          6,
          7,
          8,
          9,
          6,
          7,
          8,
          9,
          10,
          11,
          12,
          6,
          7,
          8,
          9,
          13,
          14,
          15,
          6,
          7,
          8,
          9,
          6,
          7,
          8,
          9,
          6,
          7,
          8,
          9,
          10,
          11,
          12,
          6,
          7,
          8,
          9,
          13,
          14,
          15,
          6,
          7,
          8,
          9,
          6,
          7,
          8,
          9,
          6,
          7,
          8,
          9,
          6,
          7,
          8,
          9,
          10,
          11,
          12,
          6,
          7,
          8,
          9,
          13,
          14,
          15,
          6,
          7,
          8,
          9,
          6,
          7,
          8,
          9,
          6,
          7,
          8,
          9,
          6,
          7,
          8,
          9,
          10,
          11,
          12,
          6,
          7,
          8,
          9,
          13,
          14,
          15,
          6,
          7,
          8,
          9,
          6,
          7,
          8,
          9,
          6,
          7,
          8,
          9,
          6,
          7,
          8,
          9,
          10,
          11,
          12,
          6,
          7,
          8,
          9,
          13,
          14,
          15,
          6,
          7,
          8,
          9,
          6,
          7,
          8,
          9,
          6,
          7,
          8,
          9,
          10,
          11,
          12,
          6,
          7,
          8,
          9,
          13,
          14,
          15,
          6,
          7,
          8,
          9,
          6,
          7,
          8,
          9,
          6,
          7,
          8,
          9,
          6,
          7,
          8,
          9,
          10,
          11,
          12,
          6,
          7,
          8,
          9,
          13,
          14,
          15,
          6,
          7,
          8,
          9,
          6,
          7,
          8,
          9,
          6,
          7,
          8,
          9,
          6,
          7,
          8,
          9,
          10,
          11,
          12,
          6,
          7,
          8,
          9,
          13,
          14,
          15,
          6,
          7,
          8,
          9,
          6,
          7,
          8,
          9,
          6,
          7,
          8,
          9,
          10,
          11,
          12,
          6,
          7,
          8,
          9,
          13,
          14,
          15,
          6,
          7,
          8,
          9,
          6,
          7,
          8,
          9,
          6,
          7,
          8,
          9,
          6,
          7,
          8,
          9,
          10,
          11,
          12,
          6,
          7,
          8,
          9,
          13,
          14,
          15,
          6,
          7,
          8,
          9
         ]
        },
        {
         "line": {
          "width": 0.5
         },
         "marker": {
          "color": "lawngreen",
          "size": 8
         },
         "mode": "lines+markers",
         "name": "gt_communication",
         "showlegend": true,
         "type": "scatter",
         "x": [
          null
         ],
         "y": [
          null
         ]
        },
        {
         "line": {
          "width": 0.5
         },
         "marker": {
          "color": "blue",
          "size": 8
         },
         "mode": "lines+markers",
         "name": "gt_sensor",
         "showlegend": true,
         "type": "scatter",
         "x": [
          null
         ],
         "y": [
          null
         ]
        },
        {
         "line": {
          "width": 0.5
         },
         "marker": {
          "color": "goldenrod",
          "size": 8
         },
         "mode": "lines+markers",
         "name": "gt_bitflip",
         "showlegend": true,
         "type": "scatter",
         "x": [
          null
         ],
         "y": [
          null
         ]
        }
       ],
       "layout": {
        "autosize": true,
        "height": 800,
        "plot_bgcolor": "rgba(0,0,0,0)",
        "shapes": [
         {
          "fillcolor": "goldenrod",
          "layer": "below",
          "line": {
           "width": 0
          },
          "opacity": 0.5,
          "type": "rect",
          "x0": 139,
          "x1": 142,
          "xref": "x",
          "y0": 0,
          "y1": 1,
          "yref": "paper"
         },
         {
          "line": {
           "color": "goldenrod",
           "dash": "dot",
           "width": 2
          },
          "type": "line",
          "x0": 139,
          "x1": 139,
          "xref": "x",
          "y0": 0,
          "y1": 1,
          "yref": "paper"
         },
         {
          "line": {
           "color": "goldenrod",
           "dash": "dot",
           "width": 2
          },
          "type": "line",
          "x0": 142,
          "x1": 142,
          "xref": "x",
          "y0": 0,
          "y1": 1,
          "yref": "paper"
         },
         {
          "fillcolor": "goldenrod",
          "layer": "below",
          "line": {
           "width": 0
          },
          "opacity": 0.5,
          "type": "rect",
          "x0": 145,
          "x1": 148,
          "xref": "x",
          "y0": 0,
          "y1": 1,
          "yref": "paper"
         },
         {
          "line": {
           "color": "goldenrod",
           "dash": "dot",
           "width": 2
          },
          "type": "line",
          "x0": 145,
          "x1": 145,
          "xref": "x",
          "y0": 0,
          "y1": 1,
          "yref": "paper"
         },
         {
          "line": {
           "color": "goldenrod",
           "dash": "dot",
           "width": 2
          },
          "type": "line",
          "x0": 148,
          "x1": 148,
          "xref": "x",
          "y0": 0,
          "y1": 1,
          "yref": "paper"
         },
         {
          "fillcolor": "goldenrod",
          "layer": "below",
          "line": {
           "width": 0
          },
          "opacity": 0.5,
          "type": "rect",
          "x0": 151,
          "x1": 154,
          "xref": "x",
          "y0": 0,
          "y1": 1,
          "yref": "paper"
         },
         {
          "line": {
           "color": "goldenrod",
           "dash": "dot",
           "width": 2
          },
          "type": "line",
          "x0": 151,
          "x1": 151,
          "xref": "x",
          "y0": 0,
          "y1": 1,
          "yref": "paper"
         },
         {
          "line": {
           "color": "goldenrod",
           "dash": "dot",
           "width": 2
          },
          "type": "line",
          "x0": 154,
          "x1": 154,
          "xref": "x",
          "y0": 0,
          "y1": 1,
          "yref": "paper"
         },
         {
          "fillcolor": "goldenrod",
          "layer": "below",
          "line": {
           "width": 0
          },
          "opacity": 0.5,
          "type": "rect",
          "x0": 160,
          "x1": 163,
          "xref": "x",
          "y0": 0,
          "y1": 1,
          "yref": "paper"
         },
         {
          "line": {
           "color": "goldenrod",
           "dash": "dot",
           "width": 2
          },
          "type": "line",
          "x0": 160,
          "x1": 160,
          "xref": "x",
          "y0": 0,
          "y1": 1,
          "yref": "paper"
         },
         {
          "line": {
           "color": "goldenrod",
           "dash": "dot",
           "width": 2
          },
          "type": "line",
          "x0": 163,
          "x1": 163,
          "xref": "x",
          "y0": 0,
          "y1": 1,
          "yref": "paper"
         },
         {
          "fillcolor": "goldenrod",
          "layer": "below",
          "line": {
           "width": 0
          },
          "opacity": 0.5,
          "type": "rect",
          "x0": 173,
          "x1": 176,
          "xref": "x",
          "y0": 0,
          "y1": 1,
          "yref": "paper"
         },
         {
          "line": {
           "color": "goldenrod",
           "dash": "dot",
           "width": 2
          },
          "type": "line",
          "x0": 173,
          "x1": 173,
          "xref": "x",
          "y0": 0,
          "y1": 1,
          "yref": "paper"
         },
         {
          "line": {
           "color": "goldenrod",
           "dash": "dot",
           "width": 2
          },
          "type": "line",
          "x0": 176,
          "x1": 176,
          "xref": "x",
          "y0": 0,
          "y1": 1,
          "yref": "paper"
         },
         {
          "fillcolor": "goldenrod",
          "layer": "below",
          "line": {
           "width": 0
          },
          "opacity": 0.5,
          "type": "rect",
          "x0": 179,
          "x1": 182,
          "xref": "x",
          "y0": 0,
          "y1": 1,
          "yref": "paper"
         },
         {
          "line": {
           "color": "goldenrod",
           "dash": "dot",
           "width": 2
          },
          "type": "line",
          "x0": 179,
          "x1": 179,
          "xref": "x",
          "y0": 0,
          "y1": 1,
          "yref": "paper"
         },
         {
          "line": {
           "color": "goldenrod",
           "dash": "dot",
           "width": 2
          },
          "type": "line",
          "x0": 182,
          "x1": 182,
          "xref": "x",
          "y0": 0,
          "y1": 1,
          "yref": "paper"
         },
         {
          "fillcolor": "goldenrod",
          "layer": "below",
          "line": {
           "width": 0
          },
          "opacity": 0.5,
          "type": "rect",
          "x0": 185,
          "x1": 188,
          "xref": "x",
          "y0": 0,
          "y1": 1,
          "yref": "paper"
         },
         {
          "line": {
           "color": "goldenrod",
           "dash": "dot",
           "width": 2
          },
          "type": "line",
          "x0": 185,
          "x1": 185,
          "xref": "x",
          "y0": 0,
          "y1": 1,
          "yref": "paper"
         },
         {
          "line": {
           "color": "goldenrod",
           "dash": "dot",
           "width": 2
          },
          "type": "line",
          "x0": 188,
          "x1": 188,
          "xref": "x",
          "y0": 0,
          "y1": 1,
          "yref": "paper"
         },
         {
          "fillcolor": "goldenrod",
          "layer": "below",
          "line": {
           "width": 0
          },
          "opacity": 0.5,
          "type": "rect",
          "x0": 194,
          "x1": 197,
          "xref": "x",
          "y0": 0,
          "y1": 1,
          "yref": "paper"
         },
         {
          "line": {
           "color": "goldenrod",
           "dash": "dot",
           "width": 2
          },
          "type": "line",
          "x0": 194,
          "x1": 194,
          "xref": "x",
          "y0": 0,
          "y1": 1,
          "yref": "paper"
         },
         {
          "line": {
           "color": "goldenrod",
           "dash": "dot",
           "width": 2
          },
          "type": "line",
          "x0": 197,
          "x1": 197,
          "xref": "x",
          "y0": 0,
          "y1": 1,
          "yref": "paper"
         },
         {
          "fillcolor": "goldenrod",
          "layer": "below",
          "line": {
           "width": 0
          },
          "opacity": 0.5,
          "type": "rect",
          "x0": 200,
          "x1": 203,
          "xref": "x",
          "y0": 0,
          "y1": 1,
          "yref": "paper"
         },
         {
          "line": {
           "color": "goldenrod",
           "dash": "dot",
           "width": 2
          },
          "type": "line",
          "x0": 200,
          "x1": 200,
          "xref": "x",
          "y0": 0,
          "y1": 1,
          "yref": "paper"
         },
         {
          "line": {
           "color": "goldenrod",
           "dash": "dot",
           "width": 2
          },
          "type": "line",
          "x0": 203,
          "x1": 203,
          "xref": "x",
          "y0": 0,
          "y1": 1,
          "yref": "paper"
         },
         {
          "fillcolor": "goldenrod",
          "layer": "below",
          "line": {
           "width": 0
          },
          "opacity": 0.5,
          "type": "rect",
          "x0": 213,
          "x1": 216,
          "xref": "x",
          "y0": 0,
          "y1": 1,
          "yref": "paper"
         },
         {
          "line": {
           "color": "goldenrod",
           "dash": "dot",
           "width": 2
          },
          "type": "line",
          "x0": 213,
          "x1": 213,
          "xref": "x",
          "y0": 0,
          "y1": 1,
          "yref": "paper"
         },
         {
          "line": {
           "color": "goldenrod",
           "dash": "dot",
           "width": 2
          },
          "type": "line",
          "x0": 216,
          "x1": 216,
          "xref": "x",
          "y0": 0,
          "y1": 1,
          "yref": "paper"
         },
         {
          "fillcolor": "goldenrod",
          "layer": "below",
          "line": {
           "width": 0
          },
          "opacity": 0.5,
          "type": "rect",
          "x0": 222,
          "x1": 225,
          "xref": "x",
          "y0": 0,
          "y1": 1,
          "yref": "paper"
         },
         {
          "line": {
           "color": "goldenrod",
           "dash": "dot",
           "width": 2
          },
          "type": "line",
          "x0": 222,
          "x1": 222,
          "xref": "x",
          "y0": 0,
          "y1": 1,
          "yref": "paper"
         },
         {
          "line": {
           "color": "goldenrod",
           "dash": "dot",
           "width": 2
          },
          "type": "line",
          "x0": 225,
          "x1": 225,
          "xref": "x",
          "y0": 0,
          "y1": 1,
          "yref": "paper"
         },
         {
          "fillcolor": "goldenrod",
          "layer": "below",
          "line": {
           "width": 0
          },
          "opacity": 0.5,
          "type": "rect",
          "x0": 235,
          "x1": 238,
          "xref": "x",
          "y0": 0,
          "y1": 1,
          "yref": "paper"
         },
         {
          "line": {
           "color": "goldenrod",
           "dash": "dot",
           "width": 2
          },
          "type": "line",
          "x0": 235,
          "x1": 235,
          "xref": "x",
          "y0": 0,
          "y1": 1,
          "yref": "paper"
         },
         {
          "line": {
           "color": "goldenrod",
           "dash": "dot",
           "width": 2
          },
          "type": "line",
          "x0": 238,
          "x1": 238,
          "xref": "x",
          "y0": 0,
          "y1": 1,
          "yref": "paper"
         },
         {
          "fillcolor": "goldenrod",
          "layer": "below",
          "line": {
           "width": 0
          },
          "opacity": 0.5,
          "type": "rect",
          "x0": 241,
          "x1": 244,
          "xref": "x",
          "y0": 0,
          "y1": 1,
          "yref": "paper"
         },
         {
          "line": {
           "color": "goldenrod",
           "dash": "dot",
           "width": 2
          },
          "type": "line",
          "x0": 241,
          "x1": 241,
          "xref": "x",
          "y0": 0,
          "y1": 1,
          "yref": "paper"
         },
         {
          "line": {
           "color": "goldenrod",
           "dash": "dot",
           "width": 2
          },
          "type": "line",
          "x0": 244,
          "x1": 244,
          "xref": "x",
          "y0": 0,
          "y1": 1,
          "yref": "paper"
         },
         {
          "fillcolor": "goldenrod",
          "layer": "below",
          "line": {
           "width": 0
          },
          "opacity": 0.5,
          "type": "rect",
          "x0": 247,
          "x1": 250,
          "xref": "x",
          "y0": 0,
          "y1": 1,
          "yref": "paper"
         },
         {
          "line": {
           "color": "goldenrod",
           "dash": "dot",
           "width": 2
          },
          "type": "line",
          "x0": 247,
          "x1": 247,
          "xref": "x",
          "y0": 0,
          "y1": 1,
          "yref": "paper"
         },
         {
          "line": {
           "color": "goldenrod",
           "dash": "dot",
           "width": 2
          },
          "type": "line",
          "x0": 250,
          "x1": 250,
          "xref": "x",
          "y0": 0,
          "y1": 1,
          "yref": "paper"
         },
         {
          "fillcolor": "goldenrod",
          "layer": "below",
          "line": {
           "width": 0
          },
          "opacity": 0.5,
          "type": "rect",
          "x0": 256,
          "x1": 259,
          "xref": "x",
          "y0": 0,
          "y1": 1,
          "yref": "paper"
         },
         {
          "line": {
           "color": "goldenrod",
           "dash": "dot",
           "width": 2
          },
          "type": "line",
          "x0": 256,
          "x1": 256,
          "xref": "x",
          "y0": 0,
          "y1": 1,
          "yref": "paper"
         },
         {
          "line": {
           "color": "goldenrod",
           "dash": "dot",
           "width": 2
          },
          "type": "line",
          "x0": 259,
          "x1": 259,
          "xref": "x",
          "y0": 0,
          "y1": 1,
          "yref": "paper"
         },
         {
          "fillcolor": "goldenrod",
          "layer": "below",
          "line": {
           "width": 0
          },
          "opacity": 0.5,
          "type": "rect",
          "x0": 269,
          "x1": 272,
          "xref": "x",
          "y0": 0,
          "y1": 1,
          "yref": "paper"
         },
         {
          "line": {
           "color": "goldenrod",
           "dash": "dot",
           "width": 2
          },
          "type": "line",
          "x0": 269,
          "x1": 269,
          "xref": "x",
          "y0": 0,
          "y1": 1,
          "yref": "paper"
         },
         {
          "line": {
           "color": "goldenrod",
           "dash": "dot",
           "width": 2
          },
          "type": "line",
          "x0": 272,
          "x1": 272,
          "xref": "x",
          "y0": 0,
          "y1": 1,
          "yref": "paper"
         },
         {
          "fillcolor": "goldenrod",
          "layer": "below",
          "line": {
           "width": 0
          },
          "opacity": 0.5,
          "type": "rect",
          "x0": 275,
          "x1": 278,
          "xref": "x",
          "y0": 0,
          "y1": 1,
          "yref": "paper"
         },
         {
          "line": {
           "color": "goldenrod",
           "dash": "dot",
           "width": 2
          },
          "type": "line",
          "x0": 275,
          "x1": 275,
          "xref": "x",
          "y0": 0,
          "y1": 1,
          "yref": "paper"
         },
         {
          "line": {
           "color": "goldenrod",
           "dash": "dot",
           "width": 2
          },
          "type": "line",
          "x0": 278,
          "x1": 278,
          "xref": "x",
          "y0": 0,
          "y1": 1,
          "yref": "paper"
         },
         {
          "fillcolor": "goldenrod",
          "layer": "below",
          "line": {
           "width": 0
          },
          "opacity": 0.5,
          "type": "rect",
          "x0": 281,
          "x1": 284,
          "xref": "x",
          "y0": 0,
          "y1": 1,
          "yref": "paper"
         },
         {
          "line": {
           "color": "goldenrod",
           "dash": "dot",
           "width": 2
          },
          "type": "line",
          "x0": 281,
          "x1": 281,
          "xref": "x",
          "y0": 0,
          "y1": 1,
          "yref": "paper"
         },
         {
          "line": {
           "color": "goldenrod",
           "dash": "dot",
           "width": 2
          },
          "type": "line",
          "x0": 284,
          "x1": 284,
          "xref": "x",
          "y0": 0,
          "y1": 1,
          "yref": "paper"
         },
         {
          "fillcolor": "goldenrod",
          "layer": "below",
          "line": {
           "width": 0
          },
          "opacity": 0.5,
          "type": "rect",
          "x0": 290,
          "x1": 293,
          "xref": "x",
          "y0": 0,
          "y1": 1,
          "yref": "paper"
         },
         {
          "line": {
           "color": "goldenrod",
           "dash": "dot",
           "width": 2
          },
          "type": "line",
          "x0": 290,
          "x1": 290,
          "xref": "x",
          "y0": 0,
          "y1": 1,
          "yref": "paper"
         },
         {
          "line": {
           "color": "goldenrod",
           "dash": "dot",
           "width": 2
          },
          "type": "line",
          "x0": 293,
          "x1": 293,
          "xref": "x",
          "y0": 0,
          "y1": 1,
          "yref": "paper"
         },
         {
          "fillcolor": "goldenrod",
          "layer": "below",
          "line": {
           "width": 0
          },
          "opacity": 0.5,
          "type": "rect",
          "x0": 303,
          "x1": 306,
          "xref": "x",
          "y0": 0,
          "y1": 1,
          "yref": "paper"
         },
         {
          "line": {
           "color": "goldenrod",
           "dash": "dot",
           "width": 2
          },
          "type": "line",
          "x0": 303,
          "x1": 303,
          "xref": "x",
          "y0": 0,
          "y1": 1,
          "yref": "paper"
         },
         {
          "line": {
           "color": "goldenrod",
           "dash": "dot",
           "width": 2
          },
          "type": "line",
          "x0": 306,
          "x1": 306,
          "xref": "x",
          "y0": 0,
          "y1": 1,
          "yref": "paper"
         },
         {
          "fillcolor": "goldenrod",
          "layer": "below",
          "line": {
           "width": 0
          },
          "opacity": 0.5,
          "type": "rect",
          "x0": 309,
          "x1": 312,
          "xref": "x",
          "y0": 0,
          "y1": 1,
          "yref": "paper"
         },
         {
          "line": {
           "color": "goldenrod",
           "dash": "dot",
           "width": 2
          },
          "type": "line",
          "x0": 309,
          "x1": 309,
          "xref": "x",
          "y0": 0,
          "y1": 1,
          "yref": "paper"
         },
         {
          "line": {
           "color": "goldenrod",
           "dash": "dot",
           "width": 2
          },
          "type": "line",
          "x0": 312,
          "x1": 312,
          "xref": "x",
          "y0": 0,
          "y1": 1,
          "yref": "paper"
         },
         {
          "fillcolor": "goldenrod",
          "layer": "below",
          "line": {
           "width": 0
          },
          "opacity": 0.5,
          "type": "rect",
          "x0": 318,
          "x1": 321,
          "xref": "x",
          "y0": 0,
          "y1": 1,
          "yref": "paper"
         },
         {
          "line": {
           "color": "goldenrod",
           "dash": "dot",
           "width": 2
          },
          "type": "line",
          "x0": 318,
          "x1": 318,
          "xref": "x",
          "y0": 0,
          "y1": 1,
          "yref": "paper"
         },
         {
          "line": {
           "color": "goldenrod",
           "dash": "dot",
           "width": 2
          },
          "type": "line",
          "x0": 321,
          "x1": 321,
          "xref": "x",
          "y0": 0,
          "y1": 1,
          "yref": "paper"
         },
         {
          "fillcolor": "lawngreen",
          "layer": "below",
          "line": {
           "width": 0
          },
          "opacity": 0.5,
          "type": "rect",
          "x0": 544,
          "x1": 551,
          "xref": "x",
          "y0": 0,
          "y1": 1,
          "yref": "paper"
         },
         {
          "line": {
           "color": "lawngreen",
           "dash": "dot",
           "width": 2
          },
          "type": "line",
          "x0": 544,
          "x1": 544,
          "xref": "x",
          "y0": 0,
          "y1": 1,
          "yref": "paper"
         },
         {
          "line": {
           "color": "lawngreen",
           "dash": "dot",
           "width": 2
          },
          "type": "line",
          "x0": 551,
          "x1": 551,
          "xref": "x",
          "y0": 0,
          "y1": 1,
          "yref": "paper"
         },
         {
          "fillcolor": "blue",
          "layer": "below",
          "line": {
           "width": 0
          },
          "opacity": 0.5,
          "type": "rect",
          "x0": 810,
          "x1": 820,
          "xref": "x",
          "y0": 0,
          "y1": 1,
          "yref": "paper"
         },
         {
          "line": {
           "color": "blue",
           "dash": "dot",
           "width": 2
          },
          "type": "line",
          "x0": 810,
          "x1": 810,
          "xref": "x",
          "y0": 0,
          "y1": 1,
          "yref": "paper"
         },
         {
          "line": {
           "color": "blue",
           "dash": "dot",
           "width": 2
          },
          "type": "line",
          "x0": 820,
          "x1": 820,
          "xref": "x",
          "y0": 0,
          "y1": 1,
          "yref": "paper"
         },
         {
          "fillcolor": "blue",
          "layer": "below",
          "line": {
           "width": 0
          },
          "opacity": 0.5,
          "type": "rect",
          "x0": 865,
          "x1": 871,
          "xref": "x",
          "y0": 0,
          "y1": 1,
          "yref": "paper"
         },
         {
          "line": {
           "color": "blue",
           "dash": "dot",
           "width": 2
          },
          "type": "line",
          "x0": 865,
          "x1": 865,
          "xref": "x",
          "y0": 0,
          "y1": 1,
          "yref": "paper"
         },
         {
          "line": {
           "color": "blue",
           "dash": "dot",
           "width": 2
          },
          "type": "line",
          "x0": 871,
          "x1": 871,
          "xref": "x",
          "y0": 0,
          "y1": 1,
          "yref": "paper"
         },
         {
          "fillcolor": "blue",
          "layer": "below",
          "line": {
           "width": 0
          },
          "opacity": 0.5,
          "type": "rect",
          "x0": 938,
          "x1": 944,
          "xref": "x",
          "y0": 0,
          "y1": 1,
          "yref": "paper"
         },
         {
          "line": {
           "color": "blue",
           "dash": "dot",
           "width": 2
          },
          "type": "line",
          "x0": 938,
          "x1": 938,
          "xref": "x",
          "y0": 0,
          "y1": 1,
          "yref": "paper"
         },
         {
          "line": {
           "color": "blue",
           "dash": "dot",
           "width": 2
          },
          "type": "line",
          "x0": 944,
          "x1": 944,
          "xref": "x",
          "y0": 0,
          "y1": 1,
          "yref": "paper"
         },
         {
          "fillcolor": "blue",
          "layer": "below",
          "line": {
           "width": 0
          },
          "opacity": 0.5,
          "type": "rect",
          "x0": 1026,
          "x1": 1032,
          "xref": "x",
          "y0": 0,
          "y1": 1,
          "yref": "paper"
         },
         {
          "line": {
           "color": "blue",
           "dash": "dot",
           "width": 2
          },
          "type": "line",
          "x0": 1026,
          "x1": 1026,
          "xref": "x",
          "y0": 0,
          "y1": 1,
          "yref": "paper"
         },
         {
          "line": {
           "color": "blue",
           "dash": "dot",
           "width": 2
          },
          "type": "line",
          "x0": 1032,
          "x1": 1032,
          "xref": "x",
          "y0": 0,
          "y1": 1,
          "yref": "paper"
         },
         {
          "fillcolor": "goldenrod",
          "layer": "below",
          "line": {
           "width": 0
          },
          "opacity": 0.5,
          "type": "rect",
          "x0": 1216,
          "x1": 1219,
          "xref": "x",
          "y0": 0,
          "y1": 1,
          "yref": "paper"
         },
         {
          "line": {
           "color": "goldenrod",
           "dash": "dot",
           "width": 2
          },
          "type": "line",
          "x0": 1216,
          "x1": 1216,
          "xref": "x",
          "y0": 0,
          "y1": 1,
          "yref": "paper"
         },
         {
          "line": {
           "color": "goldenrod",
           "dash": "dot",
           "width": 2
          },
          "type": "line",
          "x0": 1219,
          "x1": 1219,
          "xref": "x",
          "y0": 0,
          "y1": 1,
          "yref": "paper"
         },
         {
          "fillcolor": "goldenrod",
          "layer": "below",
          "line": {
           "width": 0
          },
          "opacity": 0.5,
          "type": "rect",
          "x0": 1222,
          "x1": 1225,
          "xref": "x",
          "y0": 0,
          "y1": 1,
          "yref": "paper"
         },
         {
          "line": {
           "color": "goldenrod",
           "dash": "dot",
           "width": 2
          },
          "type": "line",
          "x0": 1222,
          "x1": 1222,
          "xref": "x",
          "y0": 0,
          "y1": 1,
          "yref": "paper"
         },
         {
          "line": {
           "color": "goldenrod",
           "dash": "dot",
           "width": 2
          },
          "type": "line",
          "x0": 1225,
          "x1": 1225,
          "xref": "x",
          "y0": 0,
          "y1": 1,
          "yref": "paper"
         },
         {
          "fillcolor": "goldenrod",
          "layer": "below",
          "line": {
           "width": 0
          },
          "opacity": 0.5,
          "type": "rect",
          "x0": 1228,
          "x1": 1231,
          "xref": "x",
          "y0": 0,
          "y1": 1,
          "yref": "paper"
         },
         {
          "line": {
           "color": "goldenrod",
           "dash": "dot",
           "width": 2
          },
          "type": "line",
          "x0": 1228,
          "x1": 1228,
          "xref": "x",
          "y0": 0,
          "y1": 1,
          "yref": "paper"
         },
         {
          "line": {
           "color": "goldenrod",
           "dash": "dot",
           "width": 2
          },
          "type": "line",
          "x0": 1231,
          "x1": 1231,
          "xref": "x",
          "y0": 0,
          "y1": 1,
          "yref": "paper"
         },
         {
          "fillcolor": "goldenrod",
          "layer": "below",
          "line": {
           "width": 0
          },
          "opacity": 0.5,
          "type": "rect",
          "x0": 1237,
          "x1": 1240,
          "xref": "x",
          "y0": 0,
          "y1": 1,
          "yref": "paper"
         },
         {
          "line": {
           "color": "goldenrod",
           "dash": "dot",
           "width": 2
          },
          "type": "line",
          "x0": 1237,
          "x1": 1237,
          "xref": "x",
          "y0": 0,
          "y1": 1,
          "yref": "paper"
         },
         {
          "line": {
           "color": "goldenrod",
           "dash": "dot",
           "width": 2
          },
          "type": "line",
          "x0": 1240,
          "x1": 1240,
          "xref": "x",
          "y0": 0,
          "y1": 1,
          "yref": "paper"
         },
         {
          "fillcolor": "goldenrod",
          "layer": "below",
          "line": {
           "width": 0
          },
          "opacity": 0.5,
          "type": "rect",
          "x0": 1250,
          "x1": 1253,
          "xref": "x",
          "y0": 0,
          "y1": 1,
          "yref": "paper"
         },
         {
          "line": {
           "color": "goldenrod",
           "dash": "dot",
           "width": 2
          },
          "type": "line",
          "x0": 1250,
          "x1": 1250,
          "xref": "x",
          "y0": 0,
          "y1": 1,
          "yref": "paper"
         },
         {
          "line": {
           "color": "goldenrod",
           "dash": "dot",
           "width": 2
          },
          "type": "line",
          "x0": 1253,
          "x1": 1253,
          "xref": "x",
          "y0": 0,
          "y1": 1,
          "yref": "paper"
         },
         {
          "fillcolor": "goldenrod",
          "layer": "below",
          "line": {
           "width": 0
          },
          "opacity": 0.5,
          "type": "rect",
          "x0": 1256,
          "x1": 1259,
          "xref": "x",
          "y0": 0,
          "y1": 1,
          "yref": "paper"
         },
         {
          "line": {
           "color": "goldenrod",
           "dash": "dot",
           "width": 2
          },
          "type": "line",
          "x0": 1256,
          "x1": 1256,
          "xref": "x",
          "y0": 0,
          "y1": 1,
          "yref": "paper"
         },
         {
          "line": {
           "color": "goldenrod",
           "dash": "dot",
           "width": 2
          },
          "type": "line",
          "x0": 1259,
          "x1": 1259,
          "xref": "x",
          "y0": 0,
          "y1": 1,
          "yref": "paper"
         },
         {
          "fillcolor": "goldenrod",
          "layer": "below",
          "line": {
           "width": 0
          },
          "opacity": 0.5,
          "type": "rect",
          "x0": 1262,
          "x1": 1265,
          "xref": "x",
          "y0": 0,
          "y1": 1,
          "yref": "paper"
         },
         {
          "line": {
           "color": "goldenrod",
           "dash": "dot",
           "width": 2
          },
          "type": "line",
          "x0": 1262,
          "x1": 1262,
          "xref": "x",
          "y0": 0,
          "y1": 1,
          "yref": "paper"
         },
         {
          "line": {
           "color": "goldenrod",
           "dash": "dot",
           "width": 2
          },
          "type": "line",
          "x0": 1265,
          "x1": 1265,
          "xref": "x",
          "y0": 0,
          "y1": 1,
          "yref": "paper"
         },
         {
          "fillcolor": "goldenrod",
          "layer": "below",
          "line": {
           "width": 0
          },
          "opacity": 0.5,
          "type": "rect",
          "x0": 1271,
          "x1": 1274,
          "xref": "x",
          "y0": 0,
          "y1": 1,
          "yref": "paper"
         },
         {
          "line": {
           "color": "goldenrod",
           "dash": "dot",
           "width": 2
          },
          "type": "line",
          "x0": 1271,
          "x1": 1271,
          "xref": "x",
          "y0": 0,
          "y1": 1,
          "yref": "paper"
         },
         {
          "line": {
           "color": "goldenrod",
           "dash": "dot",
           "width": 2
          },
          "type": "line",
          "x0": 1274,
          "x1": 1274,
          "xref": "x",
          "y0": 0,
          "y1": 1,
          "yref": "paper"
         },
         {
          "fillcolor": "goldenrod",
          "layer": "below",
          "line": {
           "width": 0
          },
          "opacity": 0.5,
          "type": "rect",
          "x0": 1284,
          "x1": 1287,
          "xref": "x",
          "y0": 0,
          "y1": 1,
          "yref": "paper"
         },
         {
          "line": {
           "color": "goldenrod",
           "dash": "dot",
           "width": 2
          },
          "type": "line",
          "x0": 1284,
          "x1": 1284,
          "xref": "x",
          "y0": 0,
          "y1": 1,
          "yref": "paper"
         },
         {
          "line": {
           "color": "goldenrod",
           "dash": "dot",
           "width": 2
          },
          "type": "line",
          "x0": 1287,
          "x1": 1287,
          "xref": "x",
          "y0": 0,
          "y1": 1,
          "yref": "paper"
         },
         {
          "fillcolor": "goldenrod",
          "layer": "below",
          "line": {
           "width": 0
          },
          "opacity": 0.5,
          "type": "rect",
          "x0": 1290,
          "x1": 1293,
          "xref": "x",
          "y0": 0,
          "y1": 1,
          "yref": "paper"
         },
         {
          "line": {
           "color": "goldenrod",
           "dash": "dot",
           "width": 2
          },
          "type": "line",
          "x0": 1290,
          "x1": 1290,
          "xref": "x",
          "y0": 0,
          "y1": 1,
          "yref": "paper"
         },
         {
          "line": {
           "color": "goldenrod",
           "dash": "dot",
           "width": 2
          },
          "type": "line",
          "x0": 1293,
          "x1": 1293,
          "xref": "x",
          "y0": 0,
          "y1": 1,
          "yref": "paper"
         },
         {
          "fillcolor": "goldenrod",
          "layer": "below",
          "line": {
           "width": 0
          },
          "opacity": 0.5,
          "type": "rect",
          "x0": 1299,
          "x1": 1302,
          "xref": "x",
          "y0": 0,
          "y1": 1,
          "yref": "paper"
         },
         {
          "line": {
           "color": "goldenrod",
           "dash": "dot",
           "width": 2
          },
          "type": "line",
          "x0": 1299,
          "x1": 1299,
          "xref": "x",
          "y0": 0,
          "y1": 1,
          "yref": "paper"
         },
         {
          "line": {
           "color": "goldenrod",
           "dash": "dot",
           "width": 2
          },
          "type": "line",
          "x0": 1302,
          "x1": 1302,
          "xref": "x",
          "y0": 0,
          "y1": 1,
          "yref": "paper"
         },
         {
          "fillcolor": "goldenrod",
          "layer": "below",
          "line": {
           "width": 0
          },
          "opacity": 0.5,
          "type": "rect",
          "x0": 1312,
          "x1": 1315,
          "xref": "x",
          "y0": 0,
          "y1": 1,
          "yref": "paper"
         },
         {
          "line": {
           "color": "goldenrod",
           "dash": "dot",
           "width": 2
          },
          "type": "line",
          "x0": 1312,
          "x1": 1312,
          "xref": "x",
          "y0": 0,
          "y1": 1,
          "yref": "paper"
         },
         {
          "line": {
           "color": "goldenrod",
           "dash": "dot",
           "width": 2
          },
          "type": "line",
          "x0": 1315,
          "x1": 1315,
          "xref": "x",
          "y0": 0,
          "y1": 1,
          "yref": "paper"
         },
         {
          "fillcolor": "goldenrod",
          "layer": "below",
          "line": {
           "width": 0
          },
          "opacity": 0.5,
          "type": "rect",
          "x0": 1318,
          "x1": 1321,
          "xref": "x",
          "y0": 0,
          "y1": 1,
          "yref": "paper"
         },
         {
          "line": {
           "color": "goldenrod",
           "dash": "dot",
           "width": 2
          },
          "type": "line",
          "x0": 1318,
          "x1": 1318,
          "xref": "x",
          "y0": 0,
          "y1": 1,
          "yref": "paper"
         },
         {
          "line": {
           "color": "goldenrod",
           "dash": "dot",
           "width": 2
          },
          "type": "line",
          "x0": 1321,
          "x1": 1321,
          "xref": "x",
          "y0": 0,
          "y1": 1,
          "yref": "paper"
         },
         {
          "fillcolor": "goldenrod",
          "layer": "below",
          "line": {
           "width": 0
          },
          "opacity": 0.5,
          "type": "rect",
          "x0": 1324,
          "x1": 1327,
          "xref": "x",
          "y0": 0,
          "y1": 1,
          "yref": "paper"
         },
         {
          "line": {
           "color": "goldenrod",
           "dash": "dot",
           "width": 2
          },
          "type": "line",
          "x0": 1324,
          "x1": 1324,
          "xref": "x",
          "y0": 0,
          "y1": 1,
          "yref": "paper"
         },
         {
          "line": {
           "color": "goldenrod",
           "dash": "dot",
           "width": 2
          },
          "type": "line",
          "x0": 1327,
          "x1": 1327,
          "xref": "x",
          "y0": 0,
          "y1": 1,
          "yref": "paper"
         },
         {
          "fillcolor": "goldenrod",
          "layer": "below",
          "line": {
           "width": 0
          },
          "opacity": 0.5,
          "type": "rect",
          "x0": 1333,
          "x1": 1336,
          "xref": "x",
          "y0": 0,
          "y1": 1,
          "yref": "paper"
         },
         {
          "line": {
           "color": "goldenrod",
           "dash": "dot",
           "width": 2
          },
          "type": "line",
          "x0": 1333,
          "x1": 1333,
          "xref": "x",
          "y0": 0,
          "y1": 1,
          "yref": "paper"
         },
         {
          "line": {
           "color": "goldenrod",
           "dash": "dot",
           "width": 2
          },
          "type": "line",
          "x0": 1336,
          "x1": 1336,
          "xref": "x",
          "y0": 0,
          "y1": 1,
          "yref": "paper"
         },
         {
          "fillcolor": "goldenrod",
          "layer": "below",
          "line": {
           "width": 0
          },
          "opacity": 0.5,
          "type": "rect",
          "x0": 1346,
          "x1": 1349,
          "xref": "x",
          "y0": 0,
          "y1": 1,
          "yref": "paper"
         },
         {
          "line": {
           "color": "goldenrod",
           "dash": "dot",
           "width": 2
          },
          "type": "line",
          "x0": 1346,
          "x1": 1346,
          "xref": "x",
          "y0": 0,
          "y1": 1,
          "yref": "paper"
         },
         {
          "line": {
           "color": "goldenrod",
           "dash": "dot",
           "width": 2
          },
          "type": "line",
          "x0": 1349,
          "x1": 1349,
          "xref": "x",
          "y0": 0,
          "y1": 1,
          "yref": "paper"
         },
         {
          "fillcolor": "goldenrod",
          "layer": "below",
          "line": {
           "width": 0
          },
          "opacity": 0.5,
          "type": "rect",
          "x0": 1352,
          "x1": 1355,
          "xref": "x",
          "y0": 0,
          "y1": 1,
          "yref": "paper"
         },
         {
          "line": {
           "color": "goldenrod",
           "dash": "dot",
           "width": 2
          },
          "type": "line",
          "x0": 1352,
          "x1": 1352,
          "xref": "x",
          "y0": 0,
          "y1": 1,
          "yref": "paper"
         },
         {
          "line": {
           "color": "goldenrod",
           "dash": "dot",
           "width": 2
          },
          "type": "line",
          "x0": 1355,
          "x1": 1355,
          "xref": "x",
          "y0": 0,
          "y1": 1,
          "yref": "paper"
         },
         {
          "fillcolor": "goldenrod",
          "layer": "below",
          "line": {
           "width": 0
          },
          "opacity": 0.5,
          "type": "rect",
          "x0": 1358,
          "x1": 1361,
          "xref": "x",
          "y0": 0,
          "y1": 1,
          "yref": "paper"
         },
         {
          "line": {
           "color": "goldenrod",
           "dash": "dot",
           "width": 2
          },
          "type": "line",
          "x0": 1358,
          "x1": 1358,
          "xref": "x",
          "y0": 0,
          "y1": 1,
          "yref": "paper"
         },
         {
          "line": {
           "color": "goldenrod",
           "dash": "dot",
           "width": 2
          },
          "type": "line",
          "x0": 1361,
          "x1": 1361,
          "xref": "x",
          "y0": 0,
          "y1": 1,
          "yref": "paper"
         },
         {
          "fillcolor": "goldenrod",
          "layer": "below",
          "line": {
           "width": 0
          },
          "opacity": 0.5,
          "type": "rect",
          "x0": 1367,
          "x1": 1370,
          "xref": "x",
          "y0": 0,
          "y1": 1,
          "yref": "paper"
         },
         {
          "line": {
           "color": "goldenrod",
           "dash": "dot",
           "width": 2
          },
          "type": "line",
          "x0": 1367,
          "x1": 1367,
          "xref": "x",
          "y0": 0,
          "y1": 1,
          "yref": "paper"
         },
         {
          "line": {
           "color": "goldenrod",
           "dash": "dot",
           "width": 2
          },
          "type": "line",
          "x0": 1370,
          "x1": 1370,
          "xref": "x",
          "y0": 0,
          "y1": 1,
          "yref": "paper"
         },
         {
          "fillcolor": "goldenrod",
          "layer": "below",
          "line": {
           "width": 0
          },
          "opacity": 0.5,
          "type": "rect",
          "x0": 1380,
          "x1": 1383,
          "xref": "x",
          "y0": 0,
          "y1": 1,
          "yref": "paper"
         },
         {
          "line": {
           "color": "goldenrod",
           "dash": "dot",
           "width": 2
          },
          "type": "line",
          "x0": 1380,
          "x1": 1380,
          "xref": "x",
          "y0": 0,
          "y1": 1,
          "yref": "paper"
         },
         {
          "line": {
           "color": "goldenrod",
           "dash": "dot",
           "width": 2
          },
          "type": "line",
          "x0": 1383,
          "x1": 1383,
          "xref": "x",
          "y0": 0,
          "y1": 1,
          "yref": "paper"
         },
         {
          "fillcolor": "goldenrod",
          "layer": "below",
          "line": {
           "width": 0
          },
          "opacity": 0.5,
          "type": "rect",
          "x0": 1386,
          "x1": 1389,
          "xref": "x",
          "y0": 0,
          "y1": 1,
          "yref": "paper"
         },
         {
          "line": {
           "color": "goldenrod",
           "dash": "dot",
           "width": 2
          },
          "type": "line",
          "x0": 1386,
          "x1": 1386,
          "xref": "x",
          "y0": 0,
          "y1": 1,
          "yref": "paper"
         },
         {
          "line": {
           "color": "goldenrod",
           "dash": "dot",
           "width": 2
          },
          "type": "line",
          "x0": 1389,
          "x1": 1389,
          "xref": "x",
          "y0": 0,
          "y1": 1,
          "yref": "paper"
         },
         {
          "fillcolor": "goldenrod",
          "layer": "below",
          "line": {
           "width": 0
          },
          "opacity": 0.5,
          "type": "rect",
          "x0": 1395,
          "x1": 1398,
          "xref": "x",
          "y0": 0,
          "y1": 1,
          "yref": "paper"
         },
         {
          "line": {
           "color": "goldenrod",
           "dash": "dot",
           "width": 2
          },
          "type": "line",
          "x0": 1395,
          "x1": 1395,
          "xref": "x",
          "y0": 0,
          "y1": 1,
          "yref": "paper"
         },
         {
          "line": {
           "color": "goldenrod",
           "dash": "dot",
           "width": 2
          },
          "type": "line",
          "x0": 1398,
          "x1": 1398,
          "xref": "x",
          "y0": 0,
          "y1": 1,
          "yref": "paper"
         },
         {
          "fillcolor": "goldenrod",
          "layer": "below",
          "line": {
           "width": 0
          },
          "opacity": 0.5,
          "type": "rect",
          "x0": 1408,
          "x1": 1411,
          "xref": "x",
          "y0": 0,
          "y1": 1,
          "yref": "paper"
         },
         {
          "line": {
           "color": "goldenrod",
           "dash": "dot",
           "width": 2
          },
          "type": "line",
          "x0": 1408,
          "x1": 1408,
          "xref": "x",
          "y0": 0,
          "y1": 1,
          "yref": "paper"
         },
         {
          "line": {
           "color": "goldenrod",
           "dash": "dot",
           "width": 2
          },
          "type": "line",
          "x0": 1411,
          "x1": 1411,
          "xref": "x",
          "y0": 0,
          "y1": 1,
          "yref": "paper"
         },
         {
          "fillcolor": "goldenrod",
          "layer": "below",
          "line": {
           "width": 0
          },
          "opacity": 0.5,
          "type": "rect",
          "x0": 1414,
          "x1": 1417,
          "xref": "x",
          "y0": 0,
          "y1": 1,
          "yref": "paper"
         },
         {
          "line": {
           "color": "goldenrod",
           "dash": "dot",
           "width": 2
          },
          "type": "line",
          "x0": 1414,
          "x1": 1414,
          "xref": "x",
          "y0": 0,
          "y1": 1,
          "yref": "paper"
         },
         {
          "line": {
           "color": "goldenrod",
           "dash": "dot",
           "width": 2
          },
          "type": "line",
          "x0": 1417,
          "x1": 1417,
          "xref": "x",
          "y0": 0,
          "y1": 1,
          "yref": "paper"
         },
         {
          "fillcolor": "blue",
          "layer": "below",
          "line": {
           "width": 0
          },
          "opacity": 0.5,
          "type": "rect",
          "x0": 1502,
          "x1": 1508,
          "xref": "x",
          "y0": 0,
          "y1": 1,
          "yref": "paper"
         },
         {
          "line": {
           "color": "blue",
           "dash": "dot",
           "width": 2
          },
          "type": "line",
          "x0": 1502,
          "x1": 1502,
          "xref": "x",
          "y0": 0,
          "y1": 1,
          "yref": "paper"
         },
         {
          "line": {
           "color": "blue",
           "dash": "dot",
           "width": 2
          },
          "type": "line",
          "x0": 1508,
          "x1": 1508,
          "xref": "x",
          "y0": 0,
          "y1": 1,
          "yref": "paper"
         },
         {
          "fillcolor": "blue",
          "layer": "below",
          "line": {
           "width": 0
          },
          "opacity": 0.5,
          "type": "rect",
          "x0": 2056,
          "x1": 2060,
          "xref": "x",
          "y0": 0,
          "y1": 1,
          "yref": "paper"
         },
         {
          "line": {
           "color": "blue",
           "dash": "dot",
           "width": 2
          },
          "type": "line",
          "x0": 2056,
          "x1": 2056,
          "xref": "x",
          "y0": 0,
          "y1": 1,
          "yref": "paper"
         },
         {
          "line": {
           "color": "blue",
           "dash": "dot",
           "width": 2
          },
          "type": "line",
          "x0": 2060,
          "x1": 2060,
          "xref": "x",
          "y0": 0,
          "y1": 1,
          "yref": "paper"
         },
         {
          "fillcolor": "goldenrod",
          "layer": "below",
          "line": {
           "width": 0
          },
          "opacity": 0.5,
          "type": "rect",
          "x0": 2332,
          "x1": 2335,
          "xref": "x",
          "y0": 0,
          "y1": 1,
          "yref": "paper"
         },
         {
          "line": {
           "color": "goldenrod",
           "dash": "dot",
           "width": 2
          },
          "type": "line",
          "x0": 2332,
          "x1": 2332,
          "xref": "x",
          "y0": 0,
          "y1": 1,
          "yref": "paper"
         },
         {
          "line": {
           "color": "goldenrod",
           "dash": "dot",
           "width": 2
          },
          "type": "line",
          "x0": 2335,
          "x1": 2335,
          "xref": "x",
          "y0": 0,
          "y1": 1,
          "yref": "paper"
         },
         {
          "fillcolor": "goldenrod",
          "layer": "below",
          "line": {
           "width": 0
          },
          "opacity": 0.5,
          "type": "rect",
          "x0": 2338,
          "x1": 2341,
          "xref": "x",
          "y0": 0,
          "y1": 1,
          "yref": "paper"
         },
         {
          "line": {
           "color": "goldenrod",
           "dash": "dot",
           "width": 2
          },
          "type": "line",
          "x0": 2338,
          "x1": 2338,
          "xref": "x",
          "y0": 0,
          "y1": 1,
          "yref": "paper"
         },
         {
          "line": {
           "color": "goldenrod",
           "dash": "dot",
           "width": 2
          },
          "type": "line",
          "x0": 2341,
          "x1": 2341,
          "xref": "x",
          "y0": 0,
          "y1": 1,
          "yref": "paper"
         },
         {
          "fillcolor": "goldenrod",
          "layer": "below",
          "line": {
           "width": 0
          },
          "opacity": 0.5,
          "type": "rect",
          "x0": 2347,
          "x1": 2350,
          "xref": "x",
          "y0": 0,
          "y1": 1,
          "yref": "paper"
         },
         {
          "line": {
           "color": "goldenrod",
           "dash": "dot",
           "width": 2
          },
          "type": "line",
          "x0": 2347,
          "x1": 2347,
          "xref": "x",
          "y0": 0,
          "y1": 1,
          "yref": "paper"
         },
         {
          "line": {
           "color": "goldenrod",
           "dash": "dot",
           "width": 2
          },
          "type": "line",
          "x0": 2350,
          "x1": 2350,
          "xref": "x",
          "y0": 0,
          "y1": 1,
          "yref": "paper"
         },
         {
          "fillcolor": "goldenrod",
          "layer": "below",
          "line": {
           "width": 0
          },
          "opacity": 0.5,
          "type": "rect",
          "x0": 2360,
          "x1": 2363,
          "xref": "x",
          "y0": 0,
          "y1": 1,
          "yref": "paper"
         },
         {
          "line": {
           "color": "goldenrod",
           "dash": "dot",
           "width": 2
          },
          "type": "line",
          "x0": 2360,
          "x1": 2360,
          "xref": "x",
          "y0": 0,
          "y1": 1,
          "yref": "paper"
         },
         {
          "line": {
           "color": "goldenrod",
           "dash": "dot",
           "width": 2
          },
          "type": "line",
          "x0": 2363,
          "x1": 2363,
          "xref": "x",
          "y0": 0,
          "y1": 1,
          "yref": "paper"
         },
         {
          "fillcolor": "goldenrod",
          "layer": "below",
          "line": {
           "width": 0
          },
          "opacity": 0.5,
          "type": "rect",
          "x0": 2366,
          "x1": 2369,
          "xref": "x",
          "y0": 0,
          "y1": 1,
          "yref": "paper"
         },
         {
          "line": {
           "color": "goldenrod",
           "dash": "dot",
           "width": 2
          },
          "type": "line",
          "x0": 2366,
          "x1": 2366,
          "xref": "x",
          "y0": 0,
          "y1": 1,
          "yref": "paper"
         },
         {
          "line": {
           "color": "goldenrod",
           "dash": "dot",
           "width": 2
          },
          "type": "line",
          "x0": 2369,
          "x1": 2369,
          "xref": "x",
          "y0": 0,
          "y1": 1,
          "yref": "paper"
         },
         {
          "fillcolor": "goldenrod",
          "layer": "below",
          "line": {
           "width": 0
          },
          "opacity": 0.5,
          "type": "rect",
          "x0": 2372,
          "x1": 2375,
          "xref": "x",
          "y0": 0,
          "y1": 1,
          "yref": "paper"
         },
         {
          "line": {
           "color": "goldenrod",
           "dash": "dot",
           "width": 2
          },
          "type": "line",
          "x0": 2372,
          "x1": 2372,
          "xref": "x",
          "y0": 0,
          "y1": 1,
          "yref": "paper"
         },
         {
          "line": {
           "color": "goldenrod",
           "dash": "dot",
           "width": 2
          },
          "type": "line",
          "x0": 2375,
          "x1": 2375,
          "xref": "x",
          "y0": 0,
          "y1": 1,
          "yref": "paper"
         },
         {
          "fillcolor": "goldenrod",
          "layer": "below",
          "line": {
           "width": 0
          },
          "opacity": 0.5,
          "type": "rect",
          "x0": 2381,
          "x1": 2384,
          "xref": "x",
          "y0": 0,
          "y1": 1,
          "yref": "paper"
         },
         {
          "line": {
           "color": "goldenrod",
           "dash": "dot",
           "width": 2
          },
          "type": "line",
          "x0": 2381,
          "x1": 2381,
          "xref": "x",
          "y0": 0,
          "y1": 1,
          "yref": "paper"
         },
         {
          "line": {
           "color": "goldenrod",
           "dash": "dot",
           "width": 2
          },
          "type": "line",
          "x0": 2384,
          "x1": 2384,
          "xref": "x",
          "y0": 0,
          "y1": 1,
          "yref": "paper"
         },
         {
          "fillcolor": "goldenrod",
          "layer": "below",
          "line": {
           "width": 0
          },
          "opacity": 0.5,
          "type": "rect",
          "x0": 2394,
          "x1": 2397,
          "xref": "x",
          "y0": 0,
          "y1": 1,
          "yref": "paper"
         },
         {
          "line": {
           "color": "goldenrod",
           "dash": "dot",
           "width": 2
          },
          "type": "line",
          "x0": 2394,
          "x1": 2394,
          "xref": "x",
          "y0": 0,
          "y1": 1,
          "yref": "paper"
         },
         {
          "line": {
           "color": "goldenrod",
           "dash": "dot",
           "width": 2
          },
          "type": "line",
          "x0": 2397,
          "x1": 2397,
          "xref": "x",
          "y0": 0,
          "y1": 1,
          "yref": "paper"
         },
         {
          "fillcolor": "goldenrod",
          "layer": "below",
          "line": {
           "width": 0
          },
          "opacity": 0.5,
          "type": "rect",
          "x0": 2400,
          "x1": 2403,
          "xref": "x",
          "y0": 0,
          "y1": 1,
          "yref": "paper"
         },
         {
          "line": {
           "color": "goldenrod",
           "dash": "dot",
           "width": 2
          },
          "type": "line",
          "x0": 2400,
          "x1": 2400,
          "xref": "x",
          "y0": 0,
          "y1": 1,
          "yref": "paper"
         },
         {
          "line": {
           "color": "goldenrod",
           "dash": "dot",
           "width": 2
          },
          "type": "line",
          "x0": 2403,
          "x1": 2403,
          "xref": "x",
          "y0": 0,
          "y1": 1,
          "yref": "paper"
         },
         {
          "fillcolor": "goldenrod",
          "layer": "below",
          "line": {
           "width": 0
          },
          "opacity": 0.5,
          "type": "rect",
          "x0": 2406,
          "x1": 2409,
          "xref": "x",
          "y0": 0,
          "y1": 1,
          "yref": "paper"
         },
         {
          "line": {
           "color": "goldenrod",
           "dash": "dot",
           "width": 2
          },
          "type": "line",
          "x0": 2406,
          "x1": 2406,
          "xref": "x",
          "y0": 0,
          "y1": 1,
          "yref": "paper"
         },
         {
          "line": {
           "color": "goldenrod",
           "dash": "dot",
           "width": 2
          },
          "type": "line",
          "x0": 2409,
          "x1": 2409,
          "xref": "x",
          "y0": 0,
          "y1": 1,
          "yref": "paper"
         },
         {
          "fillcolor": "goldenrod",
          "layer": "below",
          "line": {
           "width": 0
          },
          "opacity": 0.5,
          "type": "rect",
          "x0": 2415,
          "x1": 2418,
          "xref": "x",
          "y0": 0,
          "y1": 1,
          "yref": "paper"
         },
         {
          "line": {
           "color": "goldenrod",
           "dash": "dot",
           "width": 2
          },
          "type": "line",
          "x0": 2415,
          "x1": 2415,
          "xref": "x",
          "y0": 0,
          "y1": 1,
          "yref": "paper"
         },
         {
          "line": {
           "color": "goldenrod",
           "dash": "dot",
           "width": 2
          },
          "type": "line",
          "x0": 2418,
          "x1": 2418,
          "xref": "x",
          "y0": 0,
          "y1": 1,
          "yref": "paper"
         },
         {
          "fillcolor": "goldenrod",
          "layer": "below",
          "line": {
           "width": 0
          },
          "opacity": 0.5,
          "type": "rect",
          "x0": 2428,
          "x1": 2431,
          "xref": "x",
          "y0": 0,
          "y1": 1,
          "yref": "paper"
         },
         {
          "line": {
           "color": "goldenrod",
           "dash": "dot",
           "width": 2
          },
          "type": "line",
          "x0": 2428,
          "x1": 2428,
          "xref": "x",
          "y0": 0,
          "y1": 1,
          "yref": "paper"
         },
         {
          "line": {
           "color": "goldenrod",
           "dash": "dot",
           "width": 2
          },
          "type": "line",
          "x0": 2431,
          "x1": 2431,
          "xref": "x",
          "y0": 0,
          "y1": 1,
          "yref": "paper"
         },
         {
          "fillcolor": "goldenrod",
          "layer": "below",
          "line": {
           "width": 0
          },
          "opacity": 0.5,
          "type": "rect",
          "x0": 2434,
          "x1": 2437,
          "xref": "x",
          "y0": 0,
          "y1": 1,
          "yref": "paper"
         },
         {
          "line": {
           "color": "goldenrod",
           "dash": "dot",
           "width": 2
          },
          "type": "line",
          "x0": 2434,
          "x1": 2434,
          "xref": "x",
          "y0": 0,
          "y1": 1,
          "yref": "paper"
         },
         {
          "line": {
           "color": "goldenrod",
           "dash": "dot",
           "width": 2
          },
          "type": "line",
          "x0": 2437,
          "x1": 2437,
          "xref": "x",
          "y0": 0,
          "y1": 1,
          "yref": "paper"
         },
         {
          "fillcolor": "goldenrod",
          "layer": "below",
          "line": {
           "width": 0
          },
          "opacity": 0.5,
          "type": "rect",
          "x0": 2440,
          "x1": 2443,
          "xref": "x",
          "y0": 0,
          "y1": 1,
          "yref": "paper"
         },
         {
          "line": {
           "color": "goldenrod",
           "dash": "dot",
           "width": 2
          },
          "type": "line",
          "x0": 2440,
          "x1": 2440,
          "xref": "x",
          "y0": 0,
          "y1": 1,
          "yref": "paper"
         },
         {
          "line": {
           "color": "goldenrod",
           "dash": "dot",
           "width": 2
          },
          "type": "line",
          "x0": 2443,
          "x1": 2443,
          "xref": "x",
          "y0": 0,
          "y1": 1,
          "yref": "paper"
         },
         {
          "fillcolor": "goldenrod",
          "layer": "below",
          "line": {
           "width": 0
          },
          "opacity": 0.5,
          "type": "rect",
          "x0": 2449,
          "x1": 2452,
          "xref": "x",
          "y0": 0,
          "y1": 1,
          "yref": "paper"
         },
         {
          "line": {
           "color": "goldenrod",
           "dash": "dot",
           "width": 2
          },
          "type": "line",
          "x0": 2449,
          "x1": 2449,
          "xref": "x",
          "y0": 0,
          "y1": 1,
          "yref": "paper"
         },
         {
          "line": {
           "color": "goldenrod",
           "dash": "dot",
           "width": 2
          },
          "type": "line",
          "x0": 2452,
          "x1": 2452,
          "xref": "x",
          "y0": 0,
          "y1": 1,
          "yref": "paper"
         },
         {
          "fillcolor": "goldenrod",
          "layer": "below",
          "line": {
           "width": 0
          },
          "opacity": 0.5,
          "type": "rect",
          "x0": 2462,
          "x1": 2465,
          "xref": "x",
          "y0": 0,
          "y1": 1,
          "yref": "paper"
         },
         {
          "line": {
           "color": "goldenrod",
           "dash": "dot",
           "width": 2
          },
          "type": "line",
          "x0": 2462,
          "x1": 2462,
          "xref": "x",
          "y0": 0,
          "y1": 1,
          "yref": "paper"
         },
         {
          "line": {
           "color": "goldenrod",
           "dash": "dot",
           "width": 2
          },
          "type": "line",
          "x0": 2465,
          "x1": 2465,
          "xref": "x",
          "y0": 0,
          "y1": 1,
          "yref": "paper"
         },
         {
          "fillcolor": "goldenrod",
          "layer": "below",
          "line": {
           "width": 0
          },
          "opacity": 0.5,
          "type": "rect",
          "x0": 2468,
          "x1": 2471,
          "xref": "x",
          "y0": 0,
          "y1": 1,
          "yref": "paper"
         },
         {
          "line": {
           "color": "goldenrod",
           "dash": "dot",
           "width": 2
          },
          "type": "line",
          "x0": 2468,
          "x1": 2468,
          "xref": "x",
          "y0": 0,
          "y1": 1,
          "yref": "paper"
         },
         {
          "line": {
           "color": "goldenrod",
           "dash": "dot",
           "width": 2
          },
          "type": "line",
          "x0": 2471,
          "x1": 2471,
          "xref": "x",
          "y0": 0,
          "y1": 1,
          "yref": "paper"
         },
         {
          "fillcolor": "goldenrod",
          "layer": "below",
          "line": {
           "width": 0
          },
          "opacity": 0.5,
          "type": "rect",
          "x0": 2477,
          "x1": 2480,
          "xref": "x",
          "y0": 0,
          "y1": 1,
          "yref": "paper"
         },
         {
          "line": {
           "color": "goldenrod",
           "dash": "dot",
           "width": 2
          },
          "type": "line",
          "x0": 2477,
          "x1": 2477,
          "xref": "x",
          "y0": 0,
          "y1": 1,
          "yref": "paper"
         },
         {
          "line": {
           "color": "goldenrod",
           "dash": "dot",
           "width": 2
          },
          "type": "line",
          "x0": 2480,
          "x1": 2480,
          "xref": "x",
          "y0": 0,
          "y1": 1,
          "yref": "paper"
         },
         {
          "fillcolor": "goldenrod",
          "layer": "below",
          "line": {
           "width": 0
          },
          "opacity": 0.5,
          "type": "rect",
          "x0": 2490,
          "x1": 2493,
          "xref": "x",
          "y0": 0,
          "y1": 1,
          "yref": "paper"
         },
         {
          "line": {
           "color": "goldenrod",
           "dash": "dot",
           "width": 2
          },
          "type": "line",
          "x0": 2490,
          "x1": 2490,
          "xref": "x",
          "y0": 0,
          "y1": 1,
          "yref": "paper"
         },
         {
          "line": {
           "color": "goldenrod",
           "dash": "dot",
           "width": 2
          },
          "type": "line",
          "x0": 2493,
          "x1": 2493,
          "xref": "x",
          "y0": 0,
          "y1": 1,
          "yref": "paper"
         },
         {
          "fillcolor": "goldenrod",
          "layer": "below",
          "line": {
           "width": 0
          },
          "opacity": 0.5,
          "type": "rect",
          "x0": 2496,
          "x1": 2499,
          "xref": "x",
          "y0": 0,
          "y1": 1,
          "yref": "paper"
         },
         {
          "line": {
           "color": "goldenrod",
           "dash": "dot",
           "width": 2
          },
          "type": "line",
          "x0": 2496,
          "x1": 2496,
          "xref": "x",
          "y0": 0,
          "y1": 1,
          "yref": "paper"
         },
         {
          "line": {
           "color": "goldenrod",
           "dash": "dot",
           "width": 2
          },
          "type": "line",
          "x0": 2499,
          "x1": 2499,
          "xref": "x",
          "y0": 0,
          "y1": 1,
          "yref": "paper"
         },
         {
          "fillcolor": "goldenrod",
          "layer": "below",
          "line": {
           "width": 0
          },
          "opacity": 0.5,
          "type": "rect",
          "x0": 2502,
          "x1": 2505,
          "xref": "x",
          "y0": 0,
          "y1": 1,
          "yref": "paper"
         },
         {
          "line": {
           "color": "goldenrod",
           "dash": "dot",
           "width": 2
          },
          "type": "line",
          "x0": 2502,
          "x1": 2502,
          "xref": "x",
          "y0": 0,
          "y1": 1,
          "yref": "paper"
         },
         {
          "line": {
           "color": "goldenrod",
           "dash": "dot",
           "width": 2
          },
          "type": "line",
          "x0": 2505,
          "x1": 2505,
          "xref": "x",
          "y0": 0,
          "y1": 1,
          "yref": "paper"
         },
         {
          "fillcolor": "goldenrod",
          "layer": "below",
          "line": {
           "width": 0
          },
          "opacity": 0.5,
          "type": "rect",
          "x0": 2511,
          "x1": 2514,
          "xref": "x",
          "y0": 0,
          "y1": 1,
          "yref": "paper"
         },
         {
          "line": {
           "color": "goldenrod",
           "dash": "dot",
           "width": 2
          },
          "type": "line",
          "x0": 2511,
          "x1": 2511,
          "xref": "x",
          "y0": 0,
          "y1": 1,
          "yref": "paper"
         },
         {
          "line": {
           "color": "goldenrod",
           "dash": "dot",
           "width": 2
          },
          "type": "line",
          "x0": 2514,
          "x1": 2514,
          "xref": "x",
          "y0": 0,
          "y1": 1,
          "yref": "paper"
         }
        ],
        "template": {
         "data": {
          "bar": [
           {
            "error_x": {
             "color": "#2a3f5f"
            },
            "error_y": {
             "color": "#2a3f5f"
            },
            "marker": {
             "line": {
              "color": "#E5ECF6",
              "width": 0.5
             },
             "pattern": {
              "fillmode": "overlay",
              "size": 10,
              "solidity": 0.2
             }
            },
            "type": "bar"
           }
          ],
          "barpolar": [
           {
            "marker": {
             "line": {
              "color": "#E5ECF6",
              "width": 0.5
             },
             "pattern": {
              "fillmode": "overlay",
              "size": 10,
              "solidity": 0.2
             }
            },
            "type": "barpolar"
           }
          ],
          "carpet": [
           {
            "aaxis": {
             "endlinecolor": "#2a3f5f",
             "gridcolor": "white",
             "linecolor": "white",
             "minorgridcolor": "white",
             "startlinecolor": "#2a3f5f"
            },
            "baxis": {
             "endlinecolor": "#2a3f5f",
             "gridcolor": "white",
             "linecolor": "white",
             "minorgridcolor": "white",
             "startlinecolor": "#2a3f5f"
            },
            "type": "carpet"
           }
          ],
          "choropleth": [
           {
            "colorbar": {
             "outlinewidth": 0,
             "ticks": ""
            },
            "type": "choropleth"
           }
          ],
          "contour": [
           {
            "colorbar": {
             "outlinewidth": 0,
             "ticks": ""
            },
            "colorscale": [
             [
              0,
              "#0d0887"
             ],
             [
              0.1111111111111111,
              "#46039f"
             ],
             [
              0.2222222222222222,
              "#7201a8"
             ],
             [
              0.3333333333333333,
              "#9c179e"
             ],
             [
              0.4444444444444444,
              "#bd3786"
             ],
             [
              0.5555555555555556,
              "#d8576b"
             ],
             [
              0.6666666666666666,
              "#ed7953"
             ],
             [
              0.7777777777777778,
              "#fb9f3a"
             ],
             [
              0.8888888888888888,
              "#fdca26"
             ],
             [
              1,
              "#f0f921"
             ]
            ],
            "type": "contour"
           }
          ],
          "contourcarpet": [
           {
            "colorbar": {
             "outlinewidth": 0,
             "ticks": ""
            },
            "type": "contourcarpet"
           }
          ],
          "heatmap": [
           {
            "colorbar": {
             "outlinewidth": 0,
             "ticks": ""
            },
            "colorscale": [
             [
              0,
              "#0d0887"
             ],
             [
              0.1111111111111111,
              "#46039f"
             ],
             [
              0.2222222222222222,
              "#7201a8"
             ],
             [
              0.3333333333333333,
              "#9c179e"
             ],
             [
              0.4444444444444444,
              "#bd3786"
             ],
             [
              0.5555555555555556,
              "#d8576b"
             ],
             [
              0.6666666666666666,
              "#ed7953"
             ],
             [
              0.7777777777777778,
              "#fb9f3a"
             ],
             [
              0.8888888888888888,
              "#fdca26"
             ],
             [
              1,
              "#f0f921"
             ]
            ],
            "type": "heatmap"
           }
          ],
          "heatmapgl": [
           {
            "colorbar": {
             "outlinewidth": 0,
             "ticks": ""
            },
            "colorscale": [
             [
              0,
              "#0d0887"
             ],
             [
              0.1111111111111111,
              "#46039f"
             ],
             [
              0.2222222222222222,
              "#7201a8"
             ],
             [
              0.3333333333333333,
              "#9c179e"
             ],
             [
              0.4444444444444444,
              "#bd3786"
             ],
             [
              0.5555555555555556,
              "#d8576b"
             ],
             [
              0.6666666666666666,
              "#ed7953"
             ],
             [
              0.7777777777777778,
              "#fb9f3a"
             ],
             [
              0.8888888888888888,
              "#fdca26"
             ],
             [
              1,
              "#f0f921"
             ]
            ],
            "type": "heatmapgl"
           }
          ],
          "histogram": [
           {
            "marker": {
             "pattern": {
              "fillmode": "overlay",
              "size": 10,
              "solidity": 0.2
             }
            },
            "type": "histogram"
           }
          ],
          "histogram2d": [
           {
            "colorbar": {
             "outlinewidth": 0,
             "ticks": ""
            },
            "colorscale": [
             [
              0,
              "#0d0887"
             ],
             [
              0.1111111111111111,
              "#46039f"
             ],
             [
              0.2222222222222222,
              "#7201a8"
             ],
             [
              0.3333333333333333,
              "#9c179e"
             ],
             [
              0.4444444444444444,
              "#bd3786"
             ],
             [
              0.5555555555555556,
              "#d8576b"
             ],
             [
              0.6666666666666666,
              "#ed7953"
             ],
             [
              0.7777777777777778,
              "#fb9f3a"
             ],
             [
              0.8888888888888888,
              "#fdca26"
             ],
             [
              1,
              "#f0f921"
             ]
            ],
            "type": "histogram2d"
           }
          ],
          "histogram2dcontour": [
           {
            "colorbar": {
             "outlinewidth": 0,
             "ticks": ""
            },
            "colorscale": [
             [
              0,
              "#0d0887"
             ],
             [
              0.1111111111111111,
              "#46039f"
             ],
             [
              0.2222222222222222,
              "#7201a8"
             ],
             [
              0.3333333333333333,
              "#9c179e"
             ],
             [
              0.4444444444444444,
              "#bd3786"
             ],
             [
              0.5555555555555556,
              "#d8576b"
             ],
             [
              0.6666666666666666,
              "#ed7953"
             ],
             [
              0.7777777777777778,
              "#fb9f3a"
             ],
             [
              0.8888888888888888,
              "#fdca26"
             ],
             [
              1,
              "#f0f921"
             ]
            ],
            "type": "histogram2dcontour"
           }
          ],
          "mesh3d": [
           {
            "colorbar": {
             "outlinewidth": 0,
             "ticks": ""
            },
            "type": "mesh3d"
           }
          ],
          "parcoords": [
           {
            "line": {
             "colorbar": {
              "outlinewidth": 0,
              "ticks": ""
             }
            },
            "type": "parcoords"
           }
          ],
          "pie": [
           {
            "automargin": true,
            "type": "pie"
           }
          ],
          "scatter": [
           {
            "fillpattern": {
             "fillmode": "overlay",
             "size": 10,
             "solidity": 0.2
            },
            "type": "scatter"
           }
          ],
          "scatter3d": [
           {
            "line": {
             "colorbar": {
              "outlinewidth": 0,
              "ticks": ""
             }
            },
            "marker": {
             "colorbar": {
              "outlinewidth": 0,
              "ticks": ""
             }
            },
            "type": "scatter3d"
           }
          ],
          "scattercarpet": [
           {
            "marker": {
             "colorbar": {
              "outlinewidth": 0,
              "ticks": ""
             }
            },
            "type": "scattercarpet"
           }
          ],
          "scattergeo": [
           {
            "marker": {
             "colorbar": {
              "outlinewidth": 0,
              "ticks": ""
             }
            },
            "type": "scattergeo"
           }
          ],
          "scattergl": [
           {
            "marker": {
             "colorbar": {
              "outlinewidth": 0,
              "ticks": ""
             }
            },
            "type": "scattergl"
           }
          ],
          "scattermapbox": [
           {
            "marker": {
             "colorbar": {
              "outlinewidth": 0,
              "ticks": ""
             }
            },
            "type": "scattermapbox"
           }
          ],
          "scatterpolar": [
           {
            "marker": {
             "colorbar": {
              "outlinewidth": 0,
              "ticks": ""
             }
            },
            "type": "scatterpolar"
           }
          ],
          "scatterpolargl": [
           {
            "marker": {
             "colorbar": {
              "outlinewidth": 0,
              "ticks": ""
             }
            },
            "type": "scatterpolargl"
           }
          ],
          "scatterternary": [
           {
            "marker": {
             "colorbar": {
              "outlinewidth": 0,
              "ticks": ""
             }
            },
            "type": "scatterternary"
           }
          ],
          "surface": [
           {
            "colorbar": {
             "outlinewidth": 0,
             "ticks": ""
            },
            "colorscale": [
             [
              0,
              "#0d0887"
             ],
             [
              0.1111111111111111,
              "#46039f"
             ],
             [
              0.2222222222222222,
              "#7201a8"
             ],
             [
              0.3333333333333333,
              "#9c179e"
             ],
             [
              0.4444444444444444,
              "#bd3786"
             ],
             [
              0.5555555555555556,
              "#d8576b"
             ],
             [
              0.6666666666666666,
              "#ed7953"
             ],
             [
              0.7777777777777778,
              "#fb9f3a"
             ],
             [
              0.8888888888888888,
              "#fdca26"
             ],
             [
              1,
              "#f0f921"
             ]
            ],
            "type": "surface"
           }
          ],
          "table": [
           {
            "cells": {
             "fill": {
              "color": "#EBF0F8"
             },
             "line": {
              "color": "white"
             }
            },
            "header": {
             "fill": {
              "color": "#C8D4E3"
             },
             "line": {
              "color": "white"
             }
            },
            "type": "table"
           }
          ]
         },
         "layout": {
          "annotationdefaults": {
           "arrowcolor": "#2a3f5f",
           "arrowhead": 0,
           "arrowwidth": 1
          },
          "autotypenumbers": "strict",
          "coloraxis": {
           "colorbar": {
            "outlinewidth": 0,
            "ticks": ""
           }
          },
          "colorscale": {
           "diverging": [
            [
             0,
             "#8e0152"
            ],
            [
             0.1,
             "#c51b7d"
            ],
            [
             0.2,
             "#de77ae"
            ],
            [
             0.3,
             "#f1b6da"
            ],
            [
             0.4,
             "#fde0ef"
            ],
            [
             0.5,
             "#f7f7f7"
            ],
            [
             0.6,
             "#e6f5d0"
            ],
            [
             0.7,
             "#b8e186"
            ],
            [
             0.8,
             "#7fbc41"
            ],
            [
             0.9,
             "#4d9221"
            ],
            [
             1,
             "#276419"
            ]
           ],
           "sequential": [
            [
             0,
             "#0d0887"
            ],
            [
             0.1111111111111111,
             "#46039f"
            ],
            [
             0.2222222222222222,
             "#7201a8"
            ],
            [
             0.3333333333333333,
             "#9c179e"
            ],
            [
             0.4444444444444444,
             "#bd3786"
            ],
            [
             0.5555555555555556,
             "#d8576b"
            ],
            [
             0.6666666666666666,
             "#ed7953"
            ],
            [
             0.7777777777777778,
             "#fb9f3a"
            ],
            [
             0.8888888888888888,
             "#fdca26"
            ],
            [
             1,
             "#f0f921"
            ]
           ],
           "sequentialminus": [
            [
             0,
             "#0d0887"
            ],
            [
             0.1111111111111111,
             "#46039f"
            ],
            [
             0.2222222222222222,
             "#7201a8"
            ],
            [
             0.3333333333333333,
             "#9c179e"
            ],
            [
             0.4444444444444444,
             "#bd3786"
            ],
            [
             0.5555555555555556,
             "#d8576b"
            ],
            [
             0.6666666666666666,
             "#ed7953"
            ],
            [
             0.7777777777777778,
             "#fb9f3a"
            ],
            [
             0.8888888888888888,
             "#fdca26"
            ],
            [
             1,
             "#f0f921"
            ]
           ]
          },
          "colorway": [
           "#636efa",
           "#EF553B",
           "#00cc96",
           "#ab63fa",
           "#FFA15A",
           "#19d3f3",
           "#FF6692",
           "#B6E880",
           "#FF97FF",
           "#FECB52"
          ],
          "font": {
           "color": "#2a3f5f"
          },
          "geo": {
           "bgcolor": "white",
           "lakecolor": "white",
           "landcolor": "#E5ECF6",
           "showlakes": true,
           "showland": true,
           "subunitcolor": "white"
          },
          "hoverlabel": {
           "align": "left"
          },
          "hovermode": "closest",
          "mapbox": {
           "style": "light"
          },
          "paper_bgcolor": "white",
          "plot_bgcolor": "#E5ECF6",
          "polar": {
           "angularaxis": {
            "gridcolor": "white",
            "linecolor": "white",
            "ticks": ""
           },
           "bgcolor": "#E5ECF6",
           "radialaxis": {
            "gridcolor": "white",
            "linecolor": "white",
            "ticks": ""
           }
          },
          "scene": {
           "xaxis": {
            "backgroundcolor": "#E5ECF6",
            "gridcolor": "white",
            "gridwidth": 2,
            "linecolor": "white",
            "showbackground": true,
            "ticks": "",
            "zerolinecolor": "white"
           },
           "yaxis": {
            "backgroundcolor": "#E5ECF6",
            "gridcolor": "white",
            "gridwidth": 2,
            "linecolor": "white",
            "showbackground": true,
            "ticks": "",
            "zerolinecolor": "white"
           },
           "zaxis": {
            "backgroundcolor": "#E5ECF6",
            "gridcolor": "white",
            "gridwidth": 2,
            "linecolor": "white",
            "showbackground": true,
            "ticks": "",
            "zerolinecolor": "white"
           }
          },
          "shapedefaults": {
           "line": {
            "color": "#2a3f5f"
           }
          },
          "ternary": {
           "aaxis": {
            "gridcolor": "white",
            "linecolor": "white",
            "ticks": ""
           },
           "baxis": {
            "gridcolor": "white",
            "linecolor": "white",
            "ticks": ""
           },
           "bgcolor": "#E5ECF6",
           "caxis": {
            "gridcolor": "white",
            "linecolor": "white",
            "ticks": ""
           }
          },
          "title": {
           "x": 0.05
          },
          "xaxis": {
           "automargin": true,
           "gridcolor": "white",
           "linecolor": "white",
           "ticks": "",
           "title": {
            "standoff": 15
           },
           "zerolinecolor": "white",
           "zerolinewidth": 2
          },
          "yaxis": {
           "automargin": true,
           "gridcolor": "white",
           "linecolor": "white",
           "ticks": "",
           "title": {
            "standoff": 15
           },
           "zerolinecolor": "white",
           "zerolinewidth": 2
          }
         }
        },
        "title": {
         "text": "Event Trace without Time"
        },
        "width": 1200,
        "xaxis": {
         "color": "black",
         "gridcolor": "lightgrey",
         "linecolor": "black",
         "mirror": true,
         "rangeslider": {
          "visible": true
         },
         "showline": true,
         "tickfont": {
          "size": 20
         },
         "ticks": "outside",
         "ticktext": [
          [
           0,
           1369
          ],
          [
           10,
           2990
          ],
          [
           20,
           6132
          ],
          [
           30,
           7231
          ],
          [
           40,
           9320
          ],
          [
           50,
           12464
          ],
          [
           60,
           13542
          ],
          [
           70,
           15652
          ],
          [
           80,
           17762
          ],
          [
           90,
           19874
          ],
          [
           100,
           21983
          ],
          [
           110,
           23063
          ],
          [
           120,
           26207
          ],
          [
           130,
           27306
          ],
          [
           140,
           29396
          ],
          [
           150,
           31508
          ],
          [
           160,
           32585
          ],
          [
           170,
           33664
          ],
          [
           180,
           35774
          ],
          [
           190,
           37886
          ],
          [
           200,
           38965
          ],
          [
           210,
           40042
          ],
          [
           220,
           42154
          ],
          [
           230,
           43233
          ],
          [
           240,
           45345
          ],
          [
           250,
           46422
          ],
          [
           260,
           47521
          ],
          [
           270,
           49612
          ],
          [
           280,
           51724
          ],
          [
           290,
           52802
          ],
          [
           300,
           53881
          ],
          [
           310,
           55993
          ],
          [
           320,
           57071
          ],
          [
           330,
           59182
          ],
          [
           340,
           61294
          ],
          [
           350,
           63405
          ],
          [
           360,
           65517
          ],
          [
           370,
           67626
          ],
          [
           380,
           68705
          ],
          [
           390,
           71850
          ],
          [
           400,
           72948
          ],
          [
           410,
           75038
          ],
          [
           420,
           77150
          ],
          [
           430,
           79261
          ],
          [
           440,
           81372
          ],
          [
           450,
           83483
          ],
          [
           460,
           85594
          ],
          [
           470,
           87705
          ],
          [
           480,
           88784
          ],
          [
           490,
           91929
          ],
          [
           500,
           93028
          ],
          [
           510,
           95118
          ],
          [
           520,
           97230
          ],
          [
           530,
           99341
          ],
          [
           540,
           101452
          ],
          [
           550,
           103565
          ],
          [
           560,
           105697
          ],
          [
           570,
           107787
          ],
          [
           580,
           109899
          ],
          [
           590,
           112010
          ],
          [
           600,
           113111
          ],
          [
           610,
           116234
          ],
          [
           620,
           118346
          ],
          [
           630,
           119444
          ],
          [
           640,
           122569
          ],
          [
           650,
           123647
          ],
          [
           660,
           125779
          ],
          [
           670,
           127871
          ],
          [
           680,
           129982
          ],
          [
           690,
           132092
          ],
          [
           700,
           133192
          ],
          [
           710,
           136316
          ],
          [
           720,
           138429
          ],
          [
           730,
           139528
          ],
          [
           740,
           142651
          ],
          [
           750,
           143729
          ],
          [
           760,
           145861
          ],
          [
           770,
           147952
          ],
          [
           780,
           150066
          ],
          [
           790,
           152177
          ],
          [
           800,
           153278
          ],
          [
           810,
           156401
          ],
          [
           820,
           159396
          ],
          [
           830,
           161508
          ],
          [
           840,
           162607
          ],
          [
           850,
           164697
          ],
          [
           860,
           167841
          ],
          [
           870,
           169180
          ],
          [
           880,
           171314
          ],
          [
           890,
           173404
          ],
          [
           900,
           175517
          ],
          [
           910,
           177630
          ],
          [
           920,
           178730
          ],
          [
           930,
           181854
          ],
          [
           940,
           183967
          ],
          [
           950,
           186337
          ],
          [
           960,
           187436
          ],
          [
           970,
           189527
          ],
          [
           980,
           192671
          ],
          [
           990,
           193750
          ],
          [
           1000,
           195861
          ],
          [
           1010,
           197972
          ],
          [
           1020,
           200085
          ],
          [
           1030,
           202452
          ],
          [
           1040,
           203554
          ],
          [
           1050,
           206678
          ],
          [
           1060,
           208791
          ],
          [
           1070,
           209890
          ],
          [
           1080,
           211981
          ],
          [
           1090,
           214093
          ],
          [
           1100,
           216226
          ],
          [
           1110,
           218315
          ],
          [
           1120,
           220428
          ],
          [
           1130,
           222538
          ],
          [
           1140,
           223639
          ],
          [
           1150,
           226763
          ],
          [
           1160,
           228875
          ],
          [
           1170,
           229974
          ],
          [
           1180,
           232065
          ],
          [
           1190,
           234176
          ],
          [
           1200,
           236311
          ],
          [
           1210,
           238402
          ],
          [
           1220,
           239502
          ],
          [
           1230,
           241593
          ],
          [
           1240,
           242672
          ],
          [
           1250,
           244783
          ],
          [
           1260,
           245883
          ],
          [
           1270,
           247975
          ],
          [
           1280,
           249053
          ],
          [
           1290,
           251165
          ],
          [
           1300,
           252243
          ],
          [
           1310,
           253343
          ],
          [
           1320,
           255434
          ],
          [
           1330,
           257547
          ],
          [
           1340,
           258625
          ],
          [
           1350,
           259724
          ],
          [
           1360,
           261816
          ],
          [
           1370,
           262894
          ],
          [
           1380,
           265005
          ],
          [
           1390,
           266105
          ],
          [
           1400,
           268197
          ],
          [
           1410,
           269277
          ],
          [
           1420,
           271388
          ],
          [
           1430,
           273502
          ],
          [
           1440,
           274602
          ],
          [
           1450,
           277725
          ],
          [
           1460,
           278807
          ],
          [
           1470,
           280939
          ],
          [
           1480,
           283029
          ],
          [
           1490,
           285144
          ],
          [
           1500,
           287254
          ],
          [
           1510,
           289613
          ],
          [
           1520,
           291727
          ],
          [
           1530,
           293838
          ],
          [
           1540,
           295952
          ],
          [
           1550,
           297050
          ],
          [
           1560,
           299139
          ],
          [
           1570,
           302286
          ],
          [
           1580,
           303367
          ],
          [
           1590,
           305481
          ],
          [
           1600,
           307593
          ],
          [
           1610,
           309705
          ],
          [
           1620,
           311818
          ],
          [
           1630,
           313929
          ],
          [
           1640,
           316041
          ],
          [
           1650,
           317141
          ],
          [
           1660,
           319233
          ],
          [
           1670,
           322378
          ],
          [
           1680,
           323457
          ],
          [
           1690,
           325569
          ],
          [
           1700,
           327681
          ],
          [
           1710,
           329795
          ],
          [
           1720,
           331907
          ],
          [
           1730,
           334018
          ],
          [
           1740,
           336132
          ],
          [
           1750,
           337231
          ],
          [
           1760,
           339321
          ],
          [
           1770,
           342467
          ],
          [
           1780,
           343546
          ],
          [
           1790,
           345657
          ],
          [
           1800,
           347770
          ],
          [
           1810,
           349883
          ],
          [
           1820,
           351992
          ],
          [
           1830,
           353074
          ],
          [
           1840,
           356220
          ],
          [
           1850,
           357320
          ],
          [
           1860,
           359411
          ],
          [
           1870,
           362556
          ],
          [
           1880,
           363637
          ],
          [
           1890,
           365747
          ],
          [
           1900,
           367858
          ],
          [
           1910,
           369973
          ],
          [
           1920,
           372083
          ],
          [
           1930,
           373162
          ],
          [
           1940,
           376308
          ],
          [
           1950,
           377409
          ],
          [
           1960,
           379503
          ],
          [
           1970,
           382648
          ],
          [
           1980,
           383726
          ],
          [
           1990,
           385841
          ],
          [
           2000,
           387952
          ],
          [
           2010,
           390064
          ],
          [
           2020,
           392176
          ],
          [
           2030,
           394290
          ],
          [
           2040,
           396405
          ],
          [
           2050,
           397503
          ],
          [
           2060,
           399879
          ],
          [
           2070,
           401970
          ],
          [
           2080,
           404082
          ],
          [
           2090,
           406218
          ],
          [
           2100,
           408309
          ],
          [
           2110,
           410419
          ],
          [
           2120,
           412531
          ],
          [
           2130,
           413630
          ],
          [
           2140,
           416756
          ],
          [
           2150,
           418869
          ],
          [
           2160,
           419966
          ],
          [
           2170,
           422060
          ],
          [
           2180,
           424171
          ],
          [
           2190,
           426303
          ],
          [
           2200,
           428396
          ],
          [
           2210,
           430508
          ],
          [
           2220,
           432622
          ],
          [
           2230,
           433722
          ],
          [
           2240,
           436844
          ],
          [
           2250,
           438960
          ],
          [
           2260,
           440059
          ],
          [
           2270,
           442149
          ],
          [
           2280,
           444262
          ],
          [
           2290,
           446397
          ],
          [
           2300,
           448488
          ],
          [
           2310,
           450599
          ],
          [
           2320,
           452710
          ],
          [
           2330,
           453815
          ],
          [
           2340,
           455906
          ],
          [
           2350,
           456984
          ],
          [
           2360,
           459098
          ],
          [
           2370,
           460198
          ],
          [
           2380,
           462290
          ],
          [
           2390,
           463369
          ],
          [
           2400,
           465482
          ],
          [
           2410,
           466581
          ],
          [
           2420,
           468674
          ],
          [
           2430,
           469752
          ],
          [
           2440,
           471864
          ],
          [
           2450,
           472943
          ],
          [
           2460,
           474044
          ],
          [
           2470,
           476136
          ],
          [
           2480,
           477215
          ],
          [
           2490,
           479326
          ],
          [
           2500,
           480430
          ],
          [
           2510,
           482520
          ],
          [
           2520,
           483599
          ],
          [
           2530,
           485734
          ],
          [
           2540,
           487826
          ],
          [
           2550,
           489936
          ],
          [
           2560,
           492052
          ],
          [
           2570,
           493151
          ],
          [
           2580,
           496277
          ],
          [
           2590,
           498390
          ],
          [
           2600,
           499489
          ],
          [
           2610,
           502618
          ],
          [
           2620,
           503698
          ],
          [
           2630,
           505832
          ],
          [
           2640,
           507924
          ],
          [
           2650,
           510036
          ],
          [
           2660,
           512153
          ],
          [
           2670,
           513254
          ],
          [
           2680,
           516378
          ],
          [
           2690,
           518492
          ],
          [
           2700,
           519593
          ],
          [
           2710,
           522721
          ],
          [
           2720,
           523799
          ],
          [
           2730,
           525933
          ],
          [
           2740,
           528027
          ],
          [
           2750,
           530139
          ],
          [
           2760,
           532251
          ],
          [
           2770,
           533357
          ]
         ],
         "tickvals": [
          0,
          10,
          20,
          30,
          40,
          50,
          60,
          70,
          80,
          90,
          100,
          110,
          120,
          130,
          140,
          150,
          160,
          170,
          180,
          190,
          200,
          210,
          220,
          230,
          240,
          250,
          260,
          270,
          280,
          290,
          300,
          310,
          320,
          330,
          340,
          350,
          360,
          370,
          380,
          390,
          400,
          410,
          420,
          430,
          440,
          450,
          460,
          470,
          480,
          490,
          500,
          510,
          520,
          530,
          540,
          550,
          560,
          570,
          580,
          590,
          600,
          610,
          620,
          630,
          640,
          650,
          660,
          670,
          680,
          690,
          700,
          710,
          720,
          730,
          740,
          750,
          760,
          770,
          780,
          790,
          800,
          810,
          820,
          830,
          840,
          850,
          860,
          870,
          880,
          890,
          900,
          910,
          920,
          930,
          940,
          950,
          960,
          970,
          980,
          990,
          1000,
          1010,
          1020,
          1030,
          1040,
          1050,
          1060,
          1070,
          1080,
          1090,
          1100,
          1110,
          1120,
          1130,
          1140,
          1150,
          1160,
          1170,
          1180,
          1190,
          1200,
          1210,
          1220,
          1230,
          1240,
          1250,
          1260,
          1270,
          1280,
          1290,
          1300,
          1310,
          1320,
          1330,
          1340,
          1350,
          1360,
          1370,
          1380,
          1390,
          1400,
          1410,
          1420,
          1430,
          1440,
          1450,
          1460,
          1470,
          1480,
          1490,
          1500,
          1510,
          1520,
          1530,
          1540,
          1550,
          1560,
          1570,
          1580,
          1590,
          1600,
          1610,
          1620,
          1630,
          1640,
          1650,
          1660,
          1670,
          1680,
          1690,
          1700,
          1710,
          1720,
          1730,
          1740,
          1750,
          1760,
          1770,
          1780,
          1790,
          1800,
          1810,
          1820,
          1830,
          1840,
          1850,
          1860,
          1870,
          1880,
          1890,
          1900,
          1910,
          1920,
          1930,
          1940,
          1950,
          1960,
          1970,
          1980,
          1990,
          2000,
          2010,
          2020,
          2030,
          2040,
          2050,
          2060,
          2070,
          2080,
          2090,
          2100,
          2110,
          2120,
          2130,
          2140,
          2150,
          2160,
          2170,
          2180,
          2190,
          2200,
          2210,
          2220,
          2230,
          2240,
          2250,
          2260,
          2270,
          2280,
          2290,
          2300,
          2310,
          2320,
          2330,
          2340,
          2350,
          2360,
          2370,
          2380,
          2390,
          2400,
          2410,
          2420,
          2430,
          2440,
          2450,
          2460,
          2470,
          2480,
          2490,
          2500,
          2510,
          2520,
          2530,
          2540,
          2550,
          2560,
          2570,
          2580,
          2590,
          2600,
          2610,
          2620,
          2630,
          2640,
          2650,
          2660,
          2670,
          2680,
          2690,
          2700,
          2710,
          2720,
          2730,
          2740,
          2750,
          2760,
          2770
         ],
         "title": {
          "font": {
           "size": 20
          },
          "text": "Number of events"
         },
         "type": "linear"
        },
        "yaxis": {
         "color": "black",
         "gridcolor": "lightgrey",
         "linecolor": "black",
         "mirror": true,
         "showline": true,
         "tickfont": {
          "size": 20
         },
         "ticks": "outside",
         "ticktext": [
          "1-0-main-ow",
          "1-0-main-temp",
          "1-0-main-lora",
          "1-0-main-s",
          "1-0-main-com_timer",
          "1-control-init_timer0-0",
          "1-0-main-i",
          "1-0-sense-temperature",
          "1-0-main-temperature",
          "1-control-updatedata-cls.sensor_data",
          "1-control-readdata-0",
          "1-0-loracom-data",
          "1-control-update_txmsg-0",
          "1-0-main-g_ack",
          "1-0-main-events",
          "1-control-update_rxmsg-drop"
         ],
         "tickvals": [
          0,
          1,
          2,
          3,
          4,
          5,
          6,
          7,
          8,
          9,
          10,
          11,
          12,
          13,
          14,
          15
         ],
         "title": {
          "font": {
           "size": 20
          },
          "text": "Variables"
         }
        }
       }
      }
     },
     "metadata": {},
     "output_type": "display_data"
    }
   ],
   "source": [
    "### plot\n",
    "for i, df in enumerate(all_df):\n",
    "    if i == trace_file:\n",
    "        plot_single_trace(df, var_list, with_time=False, is_xticks=True, ground_truths=toplot_gt)"
   ]
  },
  {
   "cell_type": "code",
   "execution_count": null,
   "metadata": {},
   "outputs": [],
   "source": []
  },
  {
   "cell_type": "markdown",
   "metadata": {},
   "source": [
    "## Generate train data"
   ]
  },
  {
   "cell_type": "code",
   "execution_count": null,
   "metadata": {},
   "outputs": [],
   "source": [
    "'''\n",
    "Add the indices for the interval in 'normal_seq_inter' that show correct behvaiour in the traces. \n",
    "The format is as follows:\n",
    "path_traces = [path1, path2, ...]\n",
    "normal_seq_inter = [ ( intervals for trace1, ...), \n",
    "                    ( intervals for trace2 ...),\n",
    "                      ...] \n",
    "'''\n",
    "\n",
    "normal_seq_inter = (  ( (0,110), (150,900), (1250,2000), (2050,2300) ),  ### v3, normal trace0\n",
    "            )\n",
    "\n",
    "for p, n_inter in zip(paths_traces, normal_seq_inter):\n",
    "    trace = read_traces(p)\n",
    "    train_data_path = os.path.join(os.path.dirname(p), 'train_data')\n",
    "\n",
    "    if not os.path.exists(train_data_path):\n",
    "        os.makedirs(train_data_path)\n",
    "\n",
    "    for i, inter in enumerate(n_inter):\n",
    "        start, end = inter\n",
    "        # trace[start:end].to_csv(os.path.join(train_data_path, f'interval_{start}_{end}.csv'), index=False)\n",
    "        json.dump(trace[start:end], open(os.path.join(train_data_path, f'interval_{start}_{end}.json'), 'w'))"
   ]
  },
  {
   "cell_type": "code",
   "execution_count": null,
   "metadata": {},
   "outputs": [],
   "source": [
    "normal_seq_inter[0]"
   ]
  },
  {
   "cell_type": "code",
   "execution_count": null,
   "metadata": {},
   "outputs": [],
   "source": []
  }
 ],
 "metadata": {
  "kernelspec": {
   "display_name": "venv",
   "language": "python",
   "name": "venv"
  },
  "language_info": {
   "codemirror_mode": {
    "name": "ipython",
    "version": 3
   },
   "file_extension": ".py",
   "mimetype": "text/x-python",
   "name": "python",
   "nbconvert_exporter": "python",
   "pygments_lexer": "ipython3",
   "version": "3.10.13"
  }
 },
 "nbformat": 4,
 "nbformat_minor": 2
}
