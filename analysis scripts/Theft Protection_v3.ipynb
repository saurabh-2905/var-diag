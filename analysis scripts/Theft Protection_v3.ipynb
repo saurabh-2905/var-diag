{
 "cells": [
  {
   "cell_type": "code",
   "execution_count": 1,
   "metadata": {},
   "outputs": [],
   "source": [
    "import os\n",
    "from libv3.utils import *\n",
    "import pandas as pd\n",
    "import json"
   ]
  },
  {
   "cell_type": "code",
   "execution_count": 2,
   "metadata": {},
   "outputs": [
    {
     "name": "stdout",
     "output_type": "stream",
     "text": [
      "CODE: theft_protection\n",
      "BEHAVIOUR: faulty_data\n",
      "THREAD: single\n",
      "VER: 3\n",
      "../trace_data/theft_protection/single_thread/version_3/faulty_data\n",
      "file number: 0\n"
     ]
    }
   ],
   "source": [
    "############ configuration ################\n",
    "############################################\n",
    "\n",
    "CODE, BEHAVIOUR, THREAD, VER = get_config()   ### config stored in libv3/exp_config.txt\n",
    "\n",
    "base_dir = '../trace_data' ### can be replaced with 'csv', 'exe_plot', 'histogram'\n",
    "log_path = base_dir+f'/{CODE}/{THREAD}_thread/version_{VER}/{BEHAVIOUR}'\n",
    "\n",
    "print(log_path)\n",
    "\n",
    "#### file to display\n",
    "trace_file = 0\n",
    "\n",
    "print('file number:', trace_file)"
   ]
  },
  {
   "cell_type": "code",
   "execution_count": 3,
   "metadata": {},
   "outputs": [
    {
     "name": "stdout",
     "output_type": "stream",
     "text": [
      "[]\n",
      "['../trace_data/theft_protection/single_thread/version_3/faulty_data/trace_trial1', '../trace_data/theft_protection/single_thread/version_3/faulty_data/trace_trial2', '../trace_data/theft_protection/single_thread/version_3/faulty_data/trace_trial3']\n",
      "['../trace_data/theft_protection/single_thread/version_3/faulty_data/varlist_trial1.json', '../trace_data/theft_protection/single_thread/version_3/faulty_data/varlist_trial2.json', '../trace_data/theft_protection/single_thread/version_3/faulty_data/varlist_trial3.json']\n",
      "['../trace_data/theft_protection/single_thread/version_3/faulty_data/labels/trace_trial1_labels.json', '../trace_data/theft_protection/single_thread/version_3/faulty_data/labels/trace_trial2_labels.json', '../trace_data/theft_protection/single_thread/version_3/faulty_data/labels/trace_trial3_labels.json']\n"
     ]
    }
   ],
   "source": [
    "######### get paths #######################\n",
    "paths_log, paths_traces, varlist_path, paths_label = get_paths(log_path)\n",
    "\n",
    "### remove.Ds_store from all lists\n",
    "paths_log = [x for x in paths_log if '.DS_Store' not in x]\n",
    "paths_traces = [x for x in paths_traces if '.DS_Store' not in x]\n",
    "varlist_path = [x for x in varlist_path if '.DS_Store' not in x]\n",
    "paths_label = [x for x in paths_label if '.DS_Store' not in x]\n",
    "\n",
    "paths_log.sort()\n",
    "paths_traces.sort()\n",
    "varlist_path.sort()\n",
    "\n",
    "print(paths_log)\n",
    "print(paths_traces)\n",
    "print(varlist_path)\n",
    "print(paths_label)"
   ]
  },
  {
   "cell_type": "code",
   "execution_count": null,
   "metadata": {},
   "outputs": [],
   "source": []
  },
  {
   "cell_type": "code",
   "execution_count": 4,
   "metadata": {},
   "outputs": [
    {
     "name": "stdout",
     "output_type": "stream",
     "text": [
      "varlist 1 is consistent with varlist 0\n",
      "varlist 2 is consistent with varlist 0\n"
     ]
    }
   ],
   "source": [
    "############# check varlist is consistent ############\n",
    "############# only for version 3 ######################\n",
    "\n",
    "if VER == 3:\n",
    "    check_con, _ = is_consistent(varlist_path)\n",
    "\n",
    "    if check_con != False:\n",
    "        to_number = read_json(varlist_path[0])\n",
    "        from_number = mapint2var(to_number)\n",
    "    else:\n",
    "        print('varlist is not consistent')\n"
   ]
  },
  {
   "cell_type": "code",
   "execution_count": null,
   "metadata": {},
   "outputs": [],
   "source": []
  },
  {
   "cell_type": "code",
   "execution_count": 5,
   "metadata": {},
   "outputs": [],
   "source": [
    "############ Get variable list ######################\n",
    "sorted_keys = list(from_number.keys())\n",
    "sorted_keys.sort()\n",
    "var_list = [from_number[key] for key in sorted_keys]   ### get the variable list\n",
    "# print(var_list)"
   ]
  },
  {
   "cell_type": "markdown",
   "metadata": {},
   "source": [
    "## Trace Plots"
   ]
  },
  {
   "cell_type": "markdown",
   "metadata": {},
   "source": [
    "### Process Traces"
   ]
  },
  {
   "cell_type": "code",
   "execution_count": 6,
   "metadata": {},
   "outputs": [
    {
     "name": "stdout",
     "output_type": "stream",
     "text": [
      "../trace_data/theft_protection/single_thread/version_3/faulty_data/trace_trial1 trace_trial1\n",
      "../trace_data/theft_protection/single_thread/version_3/faulty_data/trace_trial2 trace_trial2\n",
      "../trace_data/theft_protection/single_thread/version_3/faulty_data/trace_trial3 trace_trial3\n"
     ]
    }
   ],
   "source": [
    "########## process the traces ###########\n",
    "col_data = preprocess_traces(paths_traces, var_list)   ### in the format (trace_name, x_data, y_data, y_labels, trace_path) "
   ]
  },
  {
   "cell_type": "markdown",
   "metadata": {},
   "source": [
    "### Generate plot trace data"
   ]
  },
  {
   "cell_type": "code",
   "execution_count": 7,
   "metadata": {},
   "outputs": [],
   "source": [
    "############### preprocessing data to plot using plotly ##############\n",
    "'''\n",
    "Restructure the data in dictionary with (keys,value) pair :-  (time, timestamps) , (trace_name, trace)\n",
    "'''\n",
    "all_df = get_dataframe(col_data)   "
   ]
  },
  {
   "cell_type": "code",
   "execution_count": 8,
   "metadata": {},
   "outputs": [
    {
     "data": {
      "text/html": [
       "<div>\n",
       "<style scoped>\n",
       "    .dataframe tbody tr th:only-of-type {\n",
       "        vertical-align: middle;\n",
       "    }\n",
       "\n",
       "    .dataframe tbody tr th {\n",
       "        vertical-align: top;\n",
       "    }\n",
       "\n",
       "    .dataframe thead th {\n",
       "        text-align: right;\n",
       "    }\n",
       "</style>\n",
       "<table border=\"1\" class=\"dataframe\">\n",
       "  <thead>\n",
       "    <tr style=\"text-align: right;\">\n",
       "      <th></th>\n",
       "      <th>time</th>\n",
       "      <th>trace_trial3</th>\n",
       "    </tr>\n",
       "  </thead>\n",
       "  <tbody>\n",
       "    <tr>\n",
       "      <th>0</th>\n",
       "      <td>1369</td>\n",
       "      <td>0</td>\n",
       "    </tr>\n",
       "    <tr>\n",
       "      <th>1</th>\n",
       "      <td>1397</td>\n",
       "      <td>1</td>\n",
       "    </tr>\n",
       "    <tr>\n",
       "      <th>2</th>\n",
       "      <td>1418</td>\n",
       "      <td>2</td>\n",
       "    </tr>\n",
       "    <tr>\n",
       "      <th>3</th>\n",
       "      <td>1423</td>\n",
       "      <td>3</td>\n",
       "    </tr>\n",
       "    <tr>\n",
       "      <th>4</th>\n",
       "      <td>1931</td>\n",
       "      <td>4</td>\n",
       "    </tr>\n",
       "    <tr>\n",
       "      <th>...</th>\n",
       "      <td>...</td>\n",
       "      <td>...</td>\n",
       "    </tr>\n",
       "    <tr>\n",
       "      <th>2768</th>\n",
       "      <td>533325</td>\n",
       "      <td>15</td>\n",
       "    </tr>\n",
       "    <tr>\n",
       "      <th>2769</th>\n",
       "      <td>533330</td>\n",
       "      <td>6</td>\n",
       "    </tr>\n",
       "    <tr>\n",
       "      <th>2770</th>\n",
       "      <td>533357</td>\n",
       "      <td>7</td>\n",
       "    </tr>\n",
       "    <tr>\n",
       "      <th>2771</th>\n",
       "      <td>534374</td>\n",
       "      <td>8</td>\n",
       "    </tr>\n",
       "    <tr>\n",
       "      <th>2772</th>\n",
       "      <td>534379</td>\n",
       "      <td>9</td>\n",
       "    </tr>\n",
       "  </tbody>\n",
       "</table>\n",
       "<p>2773 rows × 2 columns</p>\n",
       "</div>"
      ],
      "text/plain": [
       "        time  trace_trial3\n",
       "0       1369             0\n",
       "1       1397             1\n",
       "2       1418             2\n",
       "3       1423             3\n",
       "4       1931             4\n",
       "...      ...           ...\n",
       "2768  533325            15\n",
       "2769  533330             6\n",
       "2770  533357             7\n",
       "2771  534374             8\n",
       "2772  534379             9\n",
       "\n",
       "[2773 rows x 2 columns]"
      ]
     },
     "execution_count": 8,
     "metadata": {},
     "output_type": "execute_result"
    }
   ],
   "source": [
    "all_df[2]"
   ]
  },
  {
   "cell_type": "code",
   "execution_count": 9,
   "metadata": {},
   "outputs": [
    {
     "data": {
      "application/vnd.plotly.v1+json": {
       "config": {
        "plotlyServerURL": "https://plot.ly"
       },
       "data": [
        {
         "line": {
          "width": 0.5
         },
         "marker": {
          "color": "midnightblue",
          "size": 8
         },
         "mode": "lines+markers",
         "name": "trace_trial1",
         "showlegend": true,
         "type": "scatter",
         "y": [
          0,
          1,
          2,
          3,
          4,
          5,
          6,
          7,
          8,
          9,
          6,
          7,
          8,
          9,
          6,
          7,
          8,
          9,
          6,
          7,
          8,
          9,
          6,
          7,
          8,
          9,
          10,
          11,
          12,
          6,
          7,
          8,
          9,
          13,
          14,
          15,
          6,
          7,
          8,
          9,
          6,
          7,
          8,
          9,
          6,
          7,
          8,
          9,
          6,
          7,
          8,
          9,
          10,
          11,
          12,
          6,
          7,
          8,
          9,
          13,
          14,
          15,
          6,
          7,
          8,
          9,
          6,
          7,
          8,
          9,
          6,
          7,
          8,
          9,
          6,
          7,
          8,
          9,
          10,
          11,
          12,
          6,
          7,
          8,
          9,
          13,
          14,
          15,
          6,
          7,
          8,
          9,
          6,
          7,
          8,
          9,
          6,
          7,
          8,
          9,
          10,
          11,
          12,
          6,
          7,
          8,
          9,
          13,
          14,
          15,
          6,
          7,
          8,
          9,
          6,
          7,
          8,
          9,
          6,
          7,
          8,
          9,
          6,
          7,
          8,
          9,
          10,
          11,
          12,
          6,
          7,
          8,
          9,
          13,
          14,
          15,
          6,
          7,
          8,
          9,
          6,
          7,
          8,
          9,
          6,
          7,
          8,
          9,
          6,
          7,
          8,
          9,
          10,
          11,
          12,
          6,
          7,
          8,
          9,
          13,
          14,
          15,
          6,
          7,
          8,
          9,
          6,
          7,
          8,
          9,
          6,
          7,
          8,
          9,
          6,
          7,
          8,
          9,
          10,
          11,
          12,
          6,
          7,
          8,
          9,
          6,
          7,
          8,
          9,
          6,
          7,
          8,
          9,
          6,
          7,
          8,
          9,
          10,
          11,
          12,
          6,
          7,
          8,
          9,
          6,
          7,
          8,
          9,
          6,
          7,
          8,
          9,
          6,
          7,
          8,
          9,
          6,
          7,
          8,
          9,
          10,
          11,
          12,
          6,
          7,
          8,
          9,
          13,
          14,
          15,
          6,
          7,
          8,
          9,
          6,
          7,
          8,
          9,
          6,
          7,
          8,
          9,
          6,
          7,
          8,
          9,
          10,
          11,
          12,
          6,
          7,
          8,
          9,
          13,
          14,
          15,
          6,
          7,
          8,
          9,
          6,
          7,
          8,
          9,
          6,
          7,
          8,
          9,
          6,
          7,
          8,
          9,
          10,
          11,
          12,
          6,
          7,
          8,
          9,
          13,
          14,
          15,
          6,
          7,
          8,
          9,
          6,
          7,
          8,
          9,
          6,
          7,
          8,
          9,
          10,
          11,
          12,
          6,
          7,
          8,
          9,
          13,
          14,
          15,
          6,
          7,
          8,
          9,
          6,
          7,
          8,
          9,
          6,
          7,
          8,
          9,
          6,
          7,
          8,
          9,
          10,
          11,
          12,
          6,
          7,
          8,
          9,
          6,
          7,
          8,
          9,
          6,
          7,
          8,
          9,
          6,
          7,
          8,
          9,
          6,
          7,
          8,
          9,
          10,
          11,
          12,
          6,
          7,
          8,
          9,
          13,
          14,
          15,
          6,
          7,
          8,
          9,
          6,
          7,
          8,
          9,
          6,
          7,
          8,
          9,
          6,
          7,
          8,
          9,
          10,
          11,
          12,
          6,
          7,
          8,
          9,
          13,
          14,
          15,
          6,
          7,
          8,
          9,
          6,
          7,
          8,
          9,
          6,
          7,
          8,
          9,
          10,
          11,
          12,
          6,
          7,
          8,
          9,
          13,
          14,
          15,
          6,
          7,
          8,
          9,
          6,
          7,
          8,
          9,
          6,
          7,
          8,
          9,
          6,
          7,
          8,
          9,
          10,
          11,
          12,
          6,
          7,
          8,
          9,
          6,
          7,
          8,
          9,
          6,
          7,
          8,
          9,
          6,
          7,
          8,
          9,
          6,
          7,
          8,
          9,
          10,
          11,
          12,
          6,
          7,
          8,
          9,
          13,
          14,
          15,
          6,
          7,
          8,
          9,
          6,
          7,
          8,
          9,
          6,
          7,
          8,
          9,
          10,
          11,
          12,
          6,
          7,
          8,
          9,
          13,
          14,
          15,
          6,
          7,
          8,
          9,
          6,
          7,
          8,
          9,
          6,
          7,
          8,
          9,
          6,
          7,
          8,
          9,
          10,
          11,
          12,
          6,
          7,
          8,
          9,
          13,
          14,
          15,
          6,
          7,
          8,
          9,
          6,
          7,
          8,
          9,
          6,
          7,
          8,
          9,
          6,
          7,
          8,
          9,
          10,
          11,
          12,
          6,
          7,
          8,
          9,
          6,
          7,
          8,
          9,
          6,
          7,
          8,
          9,
          6,
          7,
          8,
          9,
          6,
          7,
          8,
          9,
          10,
          11,
          12,
          6,
          7,
          8,
          9,
          6,
          7,
          8,
          9,
          6,
          7,
          8,
          9,
          6,
          7,
          8,
          9,
          10,
          11,
          12,
          6,
          7,
          8,
          9,
          13,
          14,
          15,
          6,
          7,
          8,
          9,
          6,
          7,
          8,
          9,
          6,
          7,
          8,
          9,
          6,
          7,
          8,
          9,
          10,
          11,
          12,
          6,
          7,
          8,
          9,
          13,
          14,
          15,
          6,
          7,
          8,
          9,
          6,
          7,
          8,
          9,
          6,
          7,
          8,
          9,
          6,
          7,
          8,
          9,
          10,
          11,
          12,
          6,
          7,
          8,
          9,
          13,
          14,
          15,
          6,
          7,
          8,
          9,
          6,
          7,
          8,
          9,
          6,
          7,
          8,
          9,
          6,
          7,
          8,
          9,
          10,
          11,
          12,
          6,
          7,
          8,
          9,
          6,
          7,
          8,
          9,
          6,
          7,
          8,
          9,
          6,
          7,
          8,
          9,
          10,
          11,
          12,
          6,
          7,
          8,
          9,
          13,
          14,
          15,
          6,
          7,
          8,
          9,
          6,
          7,
          8,
          9,
          6,
          7,
          8,
          9,
          6,
          7,
          8,
          9,
          10,
          11,
          12,
          6,
          7,
          8,
          9,
          13,
          14,
          15,
          6,
          7,
          8,
          9,
          6,
          7,
          8,
          9,
          6,
          7,
          8,
          9,
          6,
          7,
          8,
          9,
          10,
          11,
          12,
          6,
          7,
          8,
          9,
          13,
          14,
          15,
          6,
          7,
          8,
          9,
          6,
          7,
          8,
          9,
          6,
          7,
          8,
          9,
          6,
          7,
          8,
          9,
          10,
          11,
          12,
          6,
          7,
          8,
          9,
          6,
          7,
          8,
          9,
          6,
          7,
          8,
          9,
          6,
          7,
          8,
          9,
          10,
          11,
          12,
          6,
          7,
          8,
          9,
          13,
          14,
          15,
          6,
          7,
          8,
          9,
          6,
          7,
          8,
          9,
          6,
          7,
          8,
          9,
          6,
          7,
          8,
          9,
          10,
          11,
          12,
          6,
          7,
          8,
          9,
          13,
          14,
          15,
          6,
          7,
          8,
          9,
          6,
          7,
          8,
          9,
          6,
          7,
          8,
          9,
          6,
          7,
          8,
          9,
          10,
          11,
          12,
          6,
          7,
          8,
          9,
          13,
          14,
          15,
          6,
          7,
          8,
          9,
          6,
          7,
          8,
          9,
          6,
          7,
          8,
          9,
          10,
          11,
          12,
          6,
          7,
          8,
          9,
          13,
          14,
          15,
          6,
          7,
          8,
          9,
          6,
          7,
          8,
          9,
          6,
          7,
          8,
          9,
          6,
          7,
          8,
          9,
          10,
          11,
          12,
          6,
          7,
          8,
          9,
          13,
          14,
          15,
          6,
          7,
          8,
          9,
          6,
          7,
          8,
          9,
          6,
          7,
          8,
          9,
          6,
          7,
          8,
          9,
          10,
          11,
          12,
          6,
          7,
          8,
          9,
          6,
          7,
          8,
          9,
          6,
          7,
          8,
          9,
          6,
          7,
          8,
          9,
          6,
          7,
          8,
          9,
          10,
          11,
          12,
          6,
          7,
          8,
          9,
          6,
          7,
          8,
          9,
          6,
          7,
          8,
          9,
          6,
          7,
          8,
          9,
          10,
          11,
          12,
          6,
          7,
          8,
          6,
          7,
          8,
          9,
          6,
          7,
          8,
          9,
          6,
          7,
          8,
          9,
          6,
          7,
          8,
          9,
          10,
          11,
          12,
          6,
          7,
          8,
          9,
          6,
          7,
          8,
          9,
          6,
          7,
          8,
          9,
          6,
          7,
          8,
          9,
          6,
          7,
          8,
          9,
          10,
          11,
          12,
          6,
          7,
          8,
          9,
          6,
          7,
          8,
          9,
          6,
          7,
          8,
          9,
          6,
          7,
          8,
          9,
          10,
          11,
          12,
          6,
          7,
          8,
          9,
          13,
          14,
          15,
          6,
          7,
          8,
          9,
          6,
          7,
          8,
          9,
          6,
          7,
          8,
          9,
          6,
          7,
          8,
          9,
          10,
          11,
          12,
          6,
          7,
          8,
          9,
          13,
          14,
          15,
          6,
          7,
          8,
          9,
          6,
          7,
          8,
          9,
          6,
          7,
          8,
          9,
          6,
          7,
          8,
          9,
          10,
          11,
          12,
          6,
          7,
          8,
          9,
          13,
          14,
          15,
          6,
          7,
          8,
          9,
          6,
          7,
          8,
          9,
          6,
          7,
          8,
          9,
          6,
          7,
          8,
          9,
          10,
          11,
          12,
          6,
          7,
          8,
          9,
          13,
          14,
          15,
          6,
          7,
          8,
          9,
          6,
          7,
          8,
          9,
          6,
          7,
          8,
          9,
          10,
          11,
          12,
          6,
          7,
          8,
          9,
          13,
          14,
          15,
          6,
          7,
          8,
          9,
          6,
          7,
          8,
          9,
          6,
          7,
          8,
          9,
          6,
          7,
          8,
          9,
          10,
          11,
          12,
          6,
          7,
          8,
          9,
          6,
          7,
          8,
          9,
          6,
          7,
          8,
          9,
          6,
          7,
          8,
          9,
          6,
          7,
          8,
          9,
          10,
          11,
          12,
          6,
          7,
          8,
          9,
          13,
          14,
          15,
          6,
          7,
          8,
          9,
          6,
          7,
          8,
          9,
          6,
          7,
          8,
          9,
          6,
          7,
          8,
          9,
          10,
          11,
          12,
          6,
          7,
          8,
          9,
          13,
          14,
          15,
          6,
          7,
          8,
          9,
          6,
          7,
          8,
          9,
          6,
          7,
          8,
          9,
          10,
          11,
          12,
          6,
          7,
          8,
          9,
          13,
          14,
          15,
          6,
          7,
          8,
          9,
          6,
          7,
          8,
          9,
          6,
          7,
          8,
          9,
          6,
          7,
          8,
          9,
          10,
          11,
          12,
          6,
          7,
          8,
          9,
          13,
          14,
          15,
          6,
          7,
          8,
          9,
          6,
          7,
          8,
          6,
          7,
          8,
          9,
          10,
          11,
          12,
          6,
          7,
          8,
          9,
          13,
          14,
          15,
          6,
          7,
          8,
          9,
          6,
          7,
          8,
          9,
          6,
          7,
          8,
          9,
          6,
          7,
          8,
          9,
          10,
          11,
          12,
          6,
          7,
          8,
          9,
          13,
          14,
          15,
          6,
          7,
          8,
          9,
          6,
          7,
          8,
          9,
          6,
          7,
          8,
          9,
          6,
          7,
          8,
          9,
          10,
          11,
          12,
          6,
          7,
          8,
          9,
          13,
          14,
          15,
          6,
          7,
          8,
          9,
          6,
          7,
          8,
          9,
          6,
          7,
          8,
          9,
          6,
          7,
          8,
          9,
          10,
          11,
          12,
          6,
          7,
          8,
          9,
          13,
          14,
          15,
          6,
          7,
          8,
          9,
          6,
          7,
          8,
          9,
          6,
          7,
          8,
          9,
          10,
          11,
          12,
          6,
          7,
          8,
          9,
          13,
          14,
          15,
          6,
          7,
          8,
          9,
          6,
          7,
          8,
          9,
          6,
          7,
          8,
          9,
          6,
          7,
          8,
          9,
          10,
          11,
          12,
          6,
          7,
          8,
          9,
          13,
          14,
          15,
          6,
          7,
          8,
          9,
          6,
          7,
          8,
          9,
          6,
          7,
          8,
          9,
          6,
          7,
          8,
          9,
          10,
          11,
          12,
          6,
          7,
          8,
          9,
          13,
          14,
          15,
          6,
          7,
          8,
          9,
          6,
          7,
          8,
          9,
          6,
          7,
          8,
          9,
          6,
          7,
          8,
          9,
          10,
          11,
          12,
          6,
          7,
          8,
          9,
          13,
          14,
          15,
          6,
          7,
          8,
          9,
          6,
          7,
          8,
          9,
          6,
          7,
          8,
          9,
          10,
          11,
          12,
          6,
          7,
          8,
          9,
          13,
          14,
          15,
          6,
          7,
          8,
          9,
          6,
          7,
          8,
          9,
          6,
          7,
          8,
          9,
          6,
          7,
          8,
          9,
          10,
          11,
          12,
          6,
          7,
          8,
          9,
          13,
          14,
          15,
          6,
          7,
          8,
          9,
          6,
          7,
          8,
          9,
          6,
          7,
          8,
          9,
          6,
          7,
          8,
          9,
          10,
          11,
          12,
          6,
          7,
          8,
          9,
          13,
          14,
          15,
          6,
          7,
          8,
          9,
          6,
          7,
          8,
          9,
          6,
          7,
          8,
          9,
          10,
          11,
          12,
          6,
          7,
          8,
          9,
          13,
          14,
          15,
          6,
          7,
          8,
          9,
          6,
          7,
          8,
          9,
          6,
          7,
          8,
          9,
          6,
          7,
          8,
          9,
          10,
          11,
          12,
          6,
          7,
          8,
          9,
          13,
          14,
          15,
          6,
          7,
          8,
          9,
          6,
          7,
          8,
          9,
          6,
          7,
          8,
          9,
          6,
          7,
          8,
          9,
          10,
          11,
          12,
          6,
          7,
          8,
          9,
          13,
          14,
          15,
          6,
          7,
          8,
          9,
          6,
          7,
          8,
          9,
          6,
          7,
          8,
          9,
          6,
          7,
          8,
          9,
          10,
          11,
          12,
          6,
          7,
          8,
          9,
          13,
          14,
          15,
          6,
          7,
          8,
          9,
          6,
          7,
          8,
          9,
          6,
          7,
          8,
          9,
          10,
          11,
          12,
          6,
          7,
          8,
          9,
          6,
          7,
          8,
          9,
          6,
          7,
          8,
          9,
          6,
          7,
          8,
          9,
          6,
          7,
          8,
          9,
          10,
          11,
          12,
          6,
          7,
          8,
          9,
          6,
          7,
          8,
          9,
          6,
          7,
          8,
          9,
          6,
          7,
          8,
          9,
          6,
          7,
          8,
          9,
          10,
          11,
          12,
          6,
          7,
          8,
          9,
          13,
          14,
          15,
          6,
          7,
          8,
          9,
          6,
          7,
          8,
          9,
          6,
          7,
          8,
          9,
          6,
          7,
          8,
          9,
          10,
          11,
          12,
          6,
          7,
          8,
          9,
          13,
          14,
          15,
          6,
          7,
          8,
          9,
          6,
          7,
          8,
          9,
          6,
          7,
          8,
          9,
          10,
          11,
          12,
          6,
          7,
          8,
          9,
          13,
          14,
          15,
          6,
          7,
          8,
          9,
          6,
          7,
          8,
          9,
          6,
          7,
          8,
          9,
          6,
          7,
          8,
          9,
          10,
          11,
          12,
          6,
          7,
          8,
          9,
          13,
          14,
          15,
          6,
          7,
          8,
          9,
          6,
          7,
          8,
          9,
          6,
          7,
          8,
          9,
          6,
          7,
          8,
          9,
          10,
          11,
          12,
          6,
          7,
          8,
          9,
          13,
          14,
          15,
          6,
          7,
          8,
          9,
          6,
          7,
          8,
          9,
          6,
          7,
          8,
          9,
          6,
          7,
          8,
          9,
          10,
          11,
          12,
          6,
          7,
          8,
          9,
          13,
          14,
          15,
          6,
          7,
          8,
          9,
          6,
          7,
          8,
          9,
          6,
          7,
          8,
          9,
          10,
          11,
          12,
          6,
          7,
          8,
          9,
          13,
          14,
          15,
          6,
          7,
          8,
          9,
          6,
          7,
          8,
          9,
          6,
          7,
          8,
          9,
          6,
          7,
          8,
          9,
          10,
          11,
          12,
          6,
          7,
          8,
          9,
          6,
          7,
          8,
          9,
          6,
          7,
          8,
          9,
          6,
          7,
          8,
          9,
          6,
          7,
          8,
          9,
          10,
          11,
          12,
          6,
          7,
          8,
          9,
          13,
          14,
          15,
          6,
          7,
          8,
          9,
          6,
          7,
          8,
          9,
          6,
          7,
          8,
          9,
          10,
          11,
          12,
          6,
          7,
          8,
          9,
          13,
          14,
          15,
          6,
          7,
          8,
          9,
          6,
          7,
          8,
          9,
          6,
          7,
          8,
          9,
          6,
          7,
          8,
          9,
          10,
          11,
          12,
          6,
          7,
          8,
          9,
          13,
          14,
          15,
          6,
          7,
          8,
          9,
          6,
          7,
          8,
          9,
          6,
          7,
          8,
          9,
          6,
          7,
          8,
          9,
          10,
          11,
          12,
          6,
          7,
          8,
          9,
          13,
          14,
          15,
          6,
          7,
          8,
          9,
          6,
          7,
          8,
          9,
          6,
          7,
          8,
          9,
          6,
          7,
          8,
          9,
          10,
          11,
          12,
          6,
          7,
          8,
          9,
          13,
          14,
          15,
          6,
          7,
          8,
          9,
          6,
          7,
          8,
          9,
          6,
          7,
          8,
          9,
          10,
          11,
          12,
          6,
          7,
          8,
          9,
          13,
          14,
          15,
          6,
          7,
          8,
          9,
          6,
          7,
          8,
          9,
          6,
          7,
          8,
          9,
          6,
          7,
          8,
          9,
          10,
          11,
          12,
          6,
          7,
          8,
          9,
          13,
          14,
          15,
          6,
          7,
          8,
          9,
          6,
          7,
          8,
          9,
          6,
          7,
          8,
          9,
          6,
          7,
          8,
          9,
          10,
          11,
          12,
          6,
          7,
          8,
          9,
          13,
          14,
          15,
          6,
          7,
          8,
          9,
          6,
          7,
          8,
          9,
          6,
          7,
          8,
          9,
          6,
          7,
          8,
          9,
          10,
          11,
          12,
          6,
          7,
          8,
          9,
          13,
          14,
          15,
          6,
          7,
          8,
          9,
          6,
          7,
          8,
          9,
          6,
          7,
          8,
          9,
          10,
          11,
          12,
          6,
          7,
          8,
          13,
          14,
          15,
          6,
          7,
          8,
          9,
          6,
          7,
          8,
          9,
          6,
          7,
          8,
          9,
          6,
          7,
          8,
          9,
          10,
          11,
          12,
          6,
          7,
          8,
          9,
          6,
          7,
          8,
          9,
          6,
          7,
          8,
          9,
          6,
          7,
          8,
          9,
          10,
          11,
          12,
          6,
          7,
          8,
          9,
          6,
          7,
          8,
          9,
          6,
          7,
          8,
          9,
          6,
          7,
          8,
          9,
          6,
          7,
          8,
          9,
          10,
          11,
          12,
          6,
          7,
          8,
          9,
          13,
          14,
          15,
          6,
          7,
          8,
          9,
          6,
          7,
          8,
          9,
          6,
          7,
          8,
          9,
          6,
          7,
          8,
          9,
          10,
          11,
          12,
          6,
          7,
          8,
          9,
          13,
          14,
          15,
          6,
          7,
          8,
          9,
          6,
          7,
          8,
          9,
          6,
          7,
          8,
          9,
          6,
          7,
          8,
          9,
          10,
          11,
          12,
          6,
          7,
          8,
          9,
          6,
          7,
          8,
          9,
          6,
          7,
          8,
          9,
          6,
          7,
          8,
          9,
          10,
          11,
          12,
          6,
          7,
          8,
          9,
          13,
          14,
          15,
          6,
          7,
          8,
          9,
          6,
          7,
          8,
          9,
          6,
          7,
          8,
          9,
          6,
          7,
          8,
          9,
          10,
          11,
          12,
          6,
          7,
          8,
          9,
          13,
          14,
          15,
          6,
          7,
          8,
          9,
          6,
          7,
          8,
          9,
          6,
          7,
          8,
          9,
          6,
          7,
          8,
          9,
          10,
          11,
          12,
          6,
          7,
          8,
          9,
          13,
          14,
          15,
          6,
          7,
          8,
          9,
          6,
          7,
          8,
          9,
          6,
          7,
          8,
          9,
          6,
          7,
          8,
          9,
          10,
          11,
          12,
          6,
          7,
          8,
          9,
          13,
          14,
          15,
          6,
          7,
          8,
          9,
          6,
          7,
          8,
          9,
          6,
          7,
          8,
          9,
          10,
          11,
          12,
          6,
          7,
          8,
          9,
          6,
          7,
          8,
          9,
          6,
          7,
          8,
          9,
          6,
          7,
          8,
          9,
          6,
          7,
          8,
          9,
          10,
          11,
          12,
          6,
          7,
          8,
          9,
          13,
          14,
          15,
          6,
          7,
          8,
          9,
          6,
          7,
          8,
          9,
          6,
          7,
          8,
          9,
          6,
          7,
          8,
          9,
          10,
          11,
          12,
          6,
          7,
          8,
          9,
          13,
          14,
          15,
          6,
          7,
          8,
          9,
          6,
          7,
          8,
          9,
          6,
          7,
          8,
          9,
          10,
          11,
          12,
          6,
          7,
          8,
          9,
          13,
          14,
          15,
          6,
          7,
          8,
          9,
          6,
          7,
          8,
          9,
          6,
          7,
          8,
          9,
          6,
          7,
          8,
          9,
          10,
          11,
          12,
          6,
          7,
          8,
          9,
          6,
          7,
          8,
          9,
          6,
          7,
          8,
          9,
          6,
          7,
          8,
          9,
          6,
          7,
          8,
          9,
          10,
          11,
          12,
          6,
          7,
          8,
          9,
          6,
          7,
          8,
          9,
          6,
          7,
          8,
          9,
          6,
          7,
          8,
          9,
          6,
          7,
          8,
          9,
          10,
          11,
          12,
          6,
          7,
          8,
          9,
          13,
          14,
          15,
          6,
          7,
          8,
          9,
          6,
          7,
          8,
          9,
          6,
          7,
          8,
          9,
          10,
          11,
          12,
          6,
          7,
          8,
          9,
          13,
          14,
          15,
          6,
          7,
          8,
          9,
          6,
          7,
          8,
          9,
          6,
          7,
          8,
          9,
          6,
          7,
          8,
          9,
          10,
          11,
          12,
          6,
          7,
          8,
          9,
          13,
          14,
          15,
          6,
          7,
          8,
          9,
          6,
          7,
          8,
          9,
          6,
          7,
          8,
          9,
          6,
          7,
          8,
          9,
          10,
          11,
          12,
          6,
          7,
          8,
          9,
          13,
          14,
          15,
          6,
          7,
          8,
          9,
          6,
          7,
          8,
          9,
          6,
          7,
          8,
          9,
          6,
          7,
          8,
          9,
          10,
          11,
          12,
          6,
          7,
          8,
          9,
          13,
          14,
          15,
          6,
          7,
          8,
          9,
          6,
          7,
          8,
          9,
          6,
          7,
          8,
          9,
          10,
          11,
          12
         ]
        }
       ],
       "layout": {
        "autosize": true,
        "height": 1500,
        "plot_bgcolor": "rgba(0,0,0,0)",
        "template": {
         "data": {
          "bar": [
           {
            "error_x": {
             "color": "#2a3f5f"
            },
            "error_y": {
             "color": "#2a3f5f"
            },
            "marker": {
             "line": {
              "color": "#E5ECF6",
              "width": 0.5
             },
             "pattern": {
              "fillmode": "overlay",
              "size": 10,
              "solidity": 0.2
             }
            },
            "type": "bar"
           }
          ],
          "barpolar": [
           {
            "marker": {
             "line": {
              "color": "#E5ECF6",
              "width": 0.5
             },
             "pattern": {
              "fillmode": "overlay",
              "size": 10,
              "solidity": 0.2
             }
            },
            "type": "barpolar"
           }
          ],
          "carpet": [
           {
            "aaxis": {
             "endlinecolor": "#2a3f5f",
             "gridcolor": "white",
             "linecolor": "white",
             "minorgridcolor": "white",
             "startlinecolor": "#2a3f5f"
            },
            "baxis": {
             "endlinecolor": "#2a3f5f",
             "gridcolor": "white",
             "linecolor": "white",
             "minorgridcolor": "white",
             "startlinecolor": "#2a3f5f"
            },
            "type": "carpet"
           }
          ],
          "choropleth": [
           {
            "colorbar": {
             "outlinewidth": 0,
             "ticks": ""
            },
            "type": "choropleth"
           }
          ],
          "contour": [
           {
            "colorbar": {
             "outlinewidth": 0,
             "ticks": ""
            },
            "colorscale": [
             [
              0,
              "#0d0887"
             ],
             [
              0.1111111111111111,
              "#46039f"
             ],
             [
              0.2222222222222222,
              "#7201a8"
             ],
             [
              0.3333333333333333,
              "#9c179e"
             ],
             [
              0.4444444444444444,
              "#bd3786"
             ],
             [
              0.5555555555555556,
              "#d8576b"
             ],
             [
              0.6666666666666666,
              "#ed7953"
             ],
             [
              0.7777777777777778,
              "#fb9f3a"
             ],
             [
              0.8888888888888888,
              "#fdca26"
             ],
             [
              1,
              "#f0f921"
             ]
            ],
            "type": "contour"
           }
          ],
          "contourcarpet": [
           {
            "colorbar": {
             "outlinewidth": 0,
             "ticks": ""
            },
            "type": "contourcarpet"
           }
          ],
          "heatmap": [
           {
            "colorbar": {
             "outlinewidth": 0,
             "ticks": ""
            },
            "colorscale": [
             [
              0,
              "#0d0887"
             ],
             [
              0.1111111111111111,
              "#46039f"
             ],
             [
              0.2222222222222222,
              "#7201a8"
             ],
             [
              0.3333333333333333,
              "#9c179e"
             ],
             [
              0.4444444444444444,
              "#bd3786"
             ],
             [
              0.5555555555555556,
              "#d8576b"
             ],
             [
              0.6666666666666666,
              "#ed7953"
             ],
             [
              0.7777777777777778,
              "#fb9f3a"
             ],
             [
              0.8888888888888888,
              "#fdca26"
             ],
             [
              1,
              "#f0f921"
             ]
            ],
            "type": "heatmap"
           }
          ],
          "heatmapgl": [
           {
            "colorbar": {
             "outlinewidth": 0,
             "ticks": ""
            },
            "colorscale": [
             [
              0,
              "#0d0887"
             ],
             [
              0.1111111111111111,
              "#46039f"
             ],
             [
              0.2222222222222222,
              "#7201a8"
             ],
             [
              0.3333333333333333,
              "#9c179e"
             ],
             [
              0.4444444444444444,
              "#bd3786"
             ],
             [
              0.5555555555555556,
              "#d8576b"
             ],
             [
              0.6666666666666666,
              "#ed7953"
             ],
             [
              0.7777777777777778,
              "#fb9f3a"
             ],
             [
              0.8888888888888888,
              "#fdca26"
             ],
             [
              1,
              "#f0f921"
             ]
            ],
            "type": "heatmapgl"
           }
          ],
          "histogram": [
           {
            "marker": {
             "pattern": {
              "fillmode": "overlay",
              "size": 10,
              "solidity": 0.2
             }
            },
            "type": "histogram"
           }
          ],
          "histogram2d": [
           {
            "colorbar": {
             "outlinewidth": 0,
             "ticks": ""
            },
            "colorscale": [
             [
              0,
              "#0d0887"
             ],
             [
              0.1111111111111111,
              "#46039f"
             ],
             [
              0.2222222222222222,
              "#7201a8"
             ],
             [
              0.3333333333333333,
              "#9c179e"
             ],
             [
              0.4444444444444444,
              "#bd3786"
             ],
             [
              0.5555555555555556,
              "#d8576b"
             ],
             [
              0.6666666666666666,
              "#ed7953"
             ],
             [
              0.7777777777777778,
              "#fb9f3a"
             ],
             [
              0.8888888888888888,
              "#fdca26"
             ],
             [
              1,
              "#f0f921"
             ]
            ],
            "type": "histogram2d"
           }
          ],
          "histogram2dcontour": [
           {
            "colorbar": {
             "outlinewidth": 0,
             "ticks": ""
            },
            "colorscale": [
             [
              0,
              "#0d0887"
             ],
             [
              0.1111111111111111,
              "#46039f"
             ],
             [
              0.2222222222222222,
              "#7201a8"
             ],
             [
              0.3333333333333333,
              "#9c179e"
             ],
             [
              0.4444444444444444,
              "#bd3786"
             ],
             [
              0.5555555555555556,
              "#d8576b"
             ],
             [
              0.6666666666666666,
              "#ed7953"
             ],
             [
              0.7777777777777778,
              "#fb9f3a"
             ],
             [
              0.8888888888888888,
              "#fdca26"
             ],
             [
              1,
              "#f0f921"
             ]
            ],
            "type": "histogram2dcontour"
           }
          ],
          "mesh3d": [
           {
            "colorbar": {
             "outlinewidth": 0,
             "ticks": ""
            },
            "type": "mesh3d"
           }
          ],
          "parcoords": [
           {
            "line": {
             "colorbar": {
              "outlinewidth": 0,
              "ticks": ""
             }
            },
            "type": "parcoords"
           }
          ],
          "pie": [
           {
            "automargin": true,
            "type": "pie"
           }
          ],
          "scatter": [
           {
            "fillpattern": {
             "fillmode": "overlay",
             "size": 10,
             "solidity": 0.2
            },
            "type": "scatter"
           }
          ],
          "scatter3d": [
           {
            "line": {
             "colorbar": {
              "outlinewidth": 0,
              "ticks": ""
             }
            },
            "marker": {
             "colorbar": {
              "outlinewidth": 0,
              "ticks": ""
             }
            },
            "type": "scatter3d"
           }
          ],
          "scattercarpet": [
           {
            "marker": {
             "colorbar": {
              "outlinewidth": 0,
              "ticks": ""
             }
            },
            "type": "scattercarpet"
           }
          ],
          "scattergeo": [
           {
            "marker": {
             "colorbar": {
              "outlinewidth": 0,
              "ticks": ""
             }
            },
            "type": "scattergeo"
           }
          ],
          "scattergl": [
           {
            "marker": {
             "colorbar": {
              "outlinewidth": 0,
              "ticks": ""
             }
            },
            "type": "scattergl"
           }
          ],
          "scattermapbox": [
           {
            "marker": {
             "colorbar": {
              "outlinewidth": 0,
              "ticks": ""
             }
            },
            "type": "scattermapbox"
           }
          ],
          "scatterpolar": [
           {
            "marker": {
             "colorbar": {
              "outlinewidth": 0,
              "ticks": ""
             }
            },
            "type": "scatterpolar"
           }
          ],
          "scatterpolargl": [
           {
            "marker": {
             "colorbar": {
              "outlinewidth": 0,
              "ticks": ""
             }
            },
            "type": "scatterpolargl"
           }
          ],
          "scatterternary": [
           {
            "marker": {
             "colorbar": {
              "outlinewidth": 0,
              "ticks": ""
             }
            },
            "type": "scatterternary"
           }
          ],
          "surface": [
           {
            "colorbar": {
             "outlinewidth": 0,
             "ticks": ""
            },
            "colorscale": [
             [
              0,
              "#0d0887"
             ],
             [
              0.1111111111111111,
              "#46039f"
             ],
             [
              0.2222222222222222,
              "#7201a8"
             ],
             [
              0.3333333333333333,
              "#9c179e"
             ],
             [
              0.4444444444444444,
              "#bd3786"
             ],
             [
              0.5555555555555556,
              "#d8576b"
             ],
             [
              0.6666666666666666,
              "#ed7953"
             ],
             [
              0.7777777777777778,
              "#fb9f3a"
             ],
             [
              0.8888888888888888,
              "#fdca26"
             ],
             [
              1,
              "#f0f921"
             ]
            ],
            "type": "surface"
           }
          ],
          "table": [
           {
            "cells": {
             "fill": {
              "color": "#EBF0F8"
             },
             "line": {
              "color": "white"
             }
            },
            "header": {
             "fill": {
              "color": "#C8D4E3"
             },
             "line": {
              "color": "white"
             }
            },
            "type": "table"
           }
          ]
         },
         "layout": {
          "annotationdefaults": {
           "arrowcolor": "#2a3f5f",
           "arrowhead": 0,
           "arrowwidth": 1
          },
          "autotypenumbers": "strict",
          "coloraxis": {
           "colorbar": {
            "outlinewidth": 0,
            "ticks": ""
           }
          },
          "colorscale": {
           "diverging": [
            [
             0,
             "#8e0152"
            ],
            [
             0.1,
             "#c51b7d"
            ],
            [
             0.2,
             "#de77ae"
            ],
            [
             0.3,
             "#f1b6da"
            ],
            [
             0.4,
             "#fde0ef"
            ],
            [
             0.5,
             "#f7f7f7"
            ],
            [
             0.6,
             "#e6f5d0"
            ],
            [
             0.7,
             "#b8e186"
            ],
            [
             0.8,
             "#7fbc41"
            ],
            [
             0.9,
             "#4d9221"
            ],
            [
             1,
             "#276419"
            ]
           ],
           "sequential": [
            [
             0,
             "#0d0887"
            ],
            [
             0.1111111111111111,
             "#46039f"
            ],
            [
             0.2222222222222222,
             "#7201a8"
            ],
            [
             0.3333333333333333,
             "#9c179e"
            ],
            [
             0.4444444444444444,
             "#bd3786"
            ],
            [
             0.5555555555555556,
             "#d8576b"
            ],
            [
             0.6666666666666666,
             "#ed7953"
            ],
            [
             0.7777777777777778,
             "#fb9f3a"
            ],
            [
             0.8888888888888888,
             "#fdca26"
            ],
            [
             1,
             "#f0f921"
            ]
           ],
           "sequentialminus": [
            [
             0,
             "#0d0887"
            ],
            [
             0.1111111111111111,
             "#46039f"
            ],
            [
             0.2222222222222222,
             "#7201a8"
            ],
            [
             0.3333333333333333,
             "#9c179e"
            ],
            [
             0.4444444444444444,
             "#bd3786"
            ],
            [
             0.5555555555555556,
             "#d8576b"
            ],
            [
             0.6666666666666666,
             "#ed7953"
            ],
            [
             0.7777777777777778,
             "#fb9f3a"
            ],
            [
             0.8888888888888888,
             "#fdca26"
            ],
            [
             1,
             "#f0f921"
            ]
           ]
          },
          "colorway": [
           "#636efa",
           "#EF553B",
           "#00cc96",
           "#ab63fa",
           "#FFA15A",
           "#19d3f3",
           "#FF6692",
           "#B6E880",
           "#FF97FF",
           "#FECB52"
          ],
          "font": {
           "color": "#2a3f5f"
          },
          "geo": {
           "bgcolor": "white",
           "lakecolor": "white",
           "landcolor": "#E5ECF6",
           "showlakes": true,
           "showland": true,
           "subunitcolor": "white"
          },
          "hoverlabel": {
           "align": "left"
          },
          "hovermode": "closest",
          "mapbox": {
           "style": "light"
          },
          "paper_bgcolor": "white",
          "plot_bgcolor": "#E5ECF6",
          "polar": {
           "angularaxis": {
            "gridcolor": "white",
            "linecolor": "white",
            "ticks": ""
           },
           "bgcolor": "#E5ECF6",
           "radialaxis": {
            "gridcolor": "white",
            "linecolor": "white",
            "ticks": ""
           }
          },
          "scene": {
           "xaxis": {
            "backgroundcolor": "#E5ECF6",
            "gridcolor": "white",
            "gridwidth": 2,
            "linecolor": "white",
            "showbackground": true,
            "ticks": "",
            "zerolinecolor": "white"
           },
           "yaxis": {
            "backgroundcolor": "#E5ECF6",
            "gridcolor": "white",
            "gridwidth": 2,
            "linecolor": "white",
            "showbackground": true,
            "ticks": "",
            "zerolinecolor": "white"
           },
           "zaxis": {
            "backgroundcolor": "#E5ECF6",
            "gridcolor": "white",
            "gridwidth": 2,
            "linecolor": "white",
            "showbackground": true,
            "ticks": "",
            "zerolinecolor": "white"
           }
          },
          "shapedefaults": {
           "line": {
            "color": "#2a3f5f"
           }
          },
          "ternary": {
           "aaxis": {
            "gridcolor": "white",
            "linecolor": "white",
            "ticks": ""
           },
           "baxis": {
            "gridcolor": "white",
            "linecolor": "white",
            "ticks": ""
           },
           "bgcolor": "#E5ECF6",
           "caxis": {
            "gridcolor": "white",
            "linecolor": "white",
            "ticks": ""
           }
          },
          "title": {
           "x": 0.05
          },
          "xaxis": {
           "automargin": true,
           "gridcolor": "white",
           "linecolor": "white",
           "ticks": "",
           "title": {
            "standoff": 15
           },
           "zerolinecolor": "white",
           "zerolinewidth": 2
          },
          "yaxis": {
           "automargin": true,
           "gridcolor": "white",
           "linecolor": "white",
           "ticks": "",
           "title": {
            "standoff": 15
           },
           "zerolinecolor": "white",
           "zerolinewidth": 2
          }
         }
        },
        "title": {
         "text": "Event Trace without Time"
        },
        "xaxis": {
         "color": "black",
         "gridcolor": "lightgrey",
         "linecolor": "black",
         "mirror": true,
         "rangeslider": {
          "visible": true
         },
         "showline": true,
         "tickfont": {
          "size": 15
         },
         "ticks": "outside",
         "ticktext": [
          [
           0,
           1307
          ],
          [
           10,
           2928
          ],
          [
           20,
           6071
          ],
          [
           30,
           7170
          ],
          [
           40,
           9259
          ],
          [
           50,
           12403
          ],
          [
           60,
           13480
          ],
          [
           70,
           15589
          ],
          [
           80,
           17700
          ],
          [
           90,
           19810
          ],
          [
           100,
           21920
          ],
          [
           110,
           22999
          ],
          [
           120,
           26143
          ],
          [
           130,
           27243
          ],
          [
           140,
           29332
          ],
          [
           150,
           32475
          ],
          [
           160,
           33553
          ],
          [
           170,
           35664
          ],
          [
           180,
           37775
          ],
          [
           190,
           39907
          ],
          [
           200,
           41997
          ],
          [
           210,
           45141
          ],
          [
           220,
           47250
          ],
          [
           230,
           48329
          ],
          [
           240,
           51473
          ],
          [
           250,
           52572
          ],
          [
           260,
           54663
          ],
          [
           270,
           57806
          ],
          [
           280,
           58884
          ],
          [
           290,
           60995
          ],
          [
           300,
           63106
          ],
          [
           310,
           65217
          ],
          [
           320,
           67327
          ],
          [
           330,
           69440
          ],
          [
           340,
           71572
          ],
          [
           350,
           73661
          ],
          [
           360,
           75773
          ],
          [
           370,
           77884
          ],
          [
           380,
           78983
          ],
          [
           390,
           82107
          ],
          [
           400,
           83184
          ],
          [
           410,
           85317
          ],
          [
           420,
           87408
          ],
          [
           430,
           90552
          ],
          [
           440,
           92663
          ],
          [
           450,
           93743
          ],
          [
           460,
           96887
          ],
          [
           470,
           97966
          ],
          [
           480,
           100078
          ],
          [
           490,
           102190
          ],
          [
           500,
           104301
          ],
          [
           510,
           106412
          ],
          [
           520,
           108524
          ],
          [
           530,
           110655
          ],
          [
           540,
           112746
          ],
          [
           550,
           115889
          ],
          [
           560,
           116988
          ],
          [
           570,
           119080
          ],
          [
           580,
           122223
          ],
          [
           590,
           123302
          ],
          [
           600,
           125414
          ],
          [
           610,
           127525
          ],
          [
           620,
           129638
          ],
          [
           630,
           131750
          ],
          [
           640,
           133862
          ],
          [
           650,
           135993
          ],
          [
           660,
           138082
          ],
          [
           670,
           140196
          ],
          [
           680,
           142307
          ],
          [
           690,
           143407
          ],
          [
           700,
           146530
          ],
          [
           710,
           148641
          ],
          [
           720,
           149741
          ],
          [
           730,
           152864
          ],
          [
           740,
           154975
          ],
          [
           750,
           157085
          ],
          [
           760,
           158165
          ],
          [
           770,
           161310
          ],
          [
           780,
           162409
          ],
          [
           790,
           164498
          ],
          [
           800,
           167643
          ],
          [
           810,
           168721
          ],
          [
           820,
           170835
          ],
          [
           830,
           172947
          ],
          [
           840,
           175058
          ],
          [
           850,
           177168
          ],
          [
           860,
           178249
          ],
          [
           870,
           181394
          ],
          [
           880,
           182493
          ],
          [
           890,
           185616
          ],
          [
           900,
           187726
          ],
          [
           910,
           189840
          ],
          [
           920,
           191951
          ],
          [
           930,
           195354
          ],
          [
           940,
           197465
          ],
          [
           950,
           199577
          ],
          [
           960,
           201708
          ],
          [
           970,
           203799
          ],
          [
           980,
           206943
          ],
          [
           990,
           208022
          ],
          [
           1000,
           210136
          ],
          [
           1010,
           212246
          ],
          [
           1020,
           214360
          ],
          [
           1030,
           216471
          ],
          [
           1040,
           218584
          ],
          [
           1050,
           220700
          ],
          [
           1060,
           222809
          ],
          [
           1070,
           223891
          ],
          [
           1080,
           227035
          ],
          [
           1090,
           228115
          ],
          [
           1100,
           230229
          ],
          [
           1110,
           232341
          ],
          [
           1120,
           234474
          ],
          [
           1130,
           237598
          ],
          [
           1140,
           238675
          ],
          [
           1150,
           240810
          ],
          [
           1160,
           242900
          ],
          [
           1170,
           245014
          ],
          [
           1180,
           247124
          ],
          [
           1190,
           248226
          ],
          [
           1200,
           251350
          ],
          [
           1210,
           253461
          ],
          [
           1220,
           254563
          ],
          [
           1230,
           256940
          ],
          [
           1240,
           259032
          ],
          [
           1250,
           262177
          ],
          [
           1260,
           263255
          ],
          [
           1270,
           265369
          ],
          [
           1280,
           267480
          ],
          [
           1290,
           269594
          ],
          [
           1300,
           271705
          ],
          [
           1310,
           273816
          ],
          [
           1320,
           275931
          ],
          [
           1330,
           277031
          ],
          [
           1340,
           279124
          ],
          [
           1350,
           282267
          ],
          [
           1360,
           283345
          ],
          [
           1370,
           285459
          ],
          [
           1380,
           287570
          ],
          [
           1390,
           289684
          ],
          [
           1400,
           291795
          ],
          [
           1410,
           293910
          ],
          [
           1420,
           296022
          ],
          [
           1430,
           297122
          ],
          [
           1440,
           299215
          ],
          [
           1450,
           302360
          ],
          [
           1460,
           303441
          ],
          [
           1470,
           305554
          ],
          [
           1480,
           307665
          ],
          [
           1490,
           309780
          ],
          [
           1500,
           311890
          ],
          [
           1510,
           312971
          ],
          [
           1520,
           316118
          ],
          [
           1530,
           317217
          ],
          [
           1540,
           319308
          ],
          [
           1550,
           322452
          ],
          [
           1560,
           323531
          ],
          [
           1570,
           325646
          ],
          [
           1580,
           327759
          ],
          [
           1590,
           329873
          ],
          [
           1600,
           331983
          ],
          [
           1610,
           334096
          ],
          [
           1620,
           336228
          ],
          [
           1630,
           338321
          ],
          [
           1640,
           341465
          ],
          [
           1650,
           342564
          ],
          [
           1660,
           344659
          ],
          [
           1670,
           347803
          ],
          [
           1680,
           348881
          ],
          [
           1690,
           350998
          ],
          [
           1700,
           353110
          ],
          [
           1710,
           355225
          ],
          [
           1720,
           357337
          ],
          [
           1730,
           358420
          ],
          [
           1740,
           361565
          ],
          [
           1750,
           362664
          ],
          [
           1760,
           364760
          ],
          [
           1770,
           367904
          ],
          [
           1780,
           368982
          ],
          [
           1790,
           371098
          ],
          [
           1800,
           373210
          ],
          [
           1810,
           375325
          ],
          [
           1820,
           377438
          ],
          [
           1830,
           379552
          ],
          [
           1840,
           381684
          ],
          [
           1850,
           383775
          ],
          [
           1860,
           385891
          ],
          [
           1870,
           388003
          ],
          [
           1880,
           389107
          ],
          [
           1890,
           392232
          ],
          [
           1900,
           393311
          ],
          [
           1910,
           395448
          ],
          [
           1920,
           397537
          ],
          [
           1930,
           399655
          ],
          [
           1940,
           401787
          ],
          [
           1950,
           403879
          ],
          [
           1960,
           405996
          ],
          [
           1970,
           408109
          ],
          [
           1980,
           409212
          ],
          [
           1990,
           412335
          ],
          [
           2000,
           413415
          ],
          [
           2010,
           415554
          ],
          [
           2020,
           417644
          ],
          [
           2030,
           419763
          ],
          [
           2040,
           421895
          ],
          [
           2050,
           423984
          ],
          [
           2060,
           426100
          ],
          [
           2070,
           428213
          ],
          [
           2080,
           430581
          ],
          [
           2090,
           432691
          ],
          [
           2100,
           434803
          ],
          [
           2110,
           436917
          ],
          [
           2120,
           439028
          ],
          [
           2130,
           442173
          ],
          [
           2140,
           443254
          ],
          [
           2150,
           445373
          ],
          [
           2160,
           447485
          ],
          [
           2170,
           449603
          ],
          [
           2180,
           451719
          ],
          [
           2190,
           453831
          ],
          [
           2200,
           455962
          ],
          [
           2210,
           458054
          ],
          [
           2220,
           460173
          ],
          [
           2230,
           462287
          ],
          [
           2240,
           463392
          ],
          [
           2250,
           466516
          ],
          [
           2260,
           468627
          ],
          [
           2270,
           469735
          ],
          [
           2280,
           472861
          ],
          [
           2290,
           473938
          ],
          [
           2300,
           476080
          ],
          [
           2310,
           478173
          ],
          [
           2320,
           481316
          ],
          [
           2330,
           482415
          ],
          [
           2340,
           484517
          ],
          [
           2350,
           487662
          ],
          [
           2360,
           488741
          ],
          [
           2370,
           490858
          ],
          [
           2380,
           492969
          ],
          [
           2390,
           495092
          ],
          [
           2400,
           497201
          ],
          [
           2410,
           499315
          ],
          [
           2420,
           501447
          ],
          [
           2430,
           503541
          ],
          [
           2440,
           506688
          ],
          [
           2450,
           507787
          ],
          [
           2460,
           509887
          ],
          [
           2470,
           511998
          ],
          [
           2480,
           514122
          ],
          [
           2490,
           516235
          ],
          [
           2500,
           518346
          ],
          [
           2510,
           520472
          ],
          [
           2520,
           522583
          ],
          [
           2530,
           523673
          ],
          [
           2540,
           526819
          ],
          [
           2550,
           527919
          ],
          [
           2560,
           530020
          ]
         ],
         "tickvals": [
          0,
          10,
          20,
          30,
          40,
          50,
          60,
          70,
          80,
          90,
          100,
          110,
          120,
          130,
          140,
          150,
          160,
          170,
          180,
          190,
          200,
          210,
          220,
          230,
          240,
          250,
          260,
          270,
          280,
          290,
          300,
          310,
          320,
          330,
          340,
          350,
          360,
          370,
          380,
          390,
          400,
          410,
          420,
          430,
          440,
          450,
          460,
          470,
          480,
          490,
          500,
          510,
          520,
          530,
          540,
          550,
          560,
          570,
          580,
          590,
          600,
          610,
          620,
          630,
          640,
          650,
          660,
          670,
          680,
          690,
          700,
          710,
          720,
          730,
          740,
          750,
          760,
          770,
          780,
          790,
          800,
          810,
          820,
          830,
          840,
          850,
          860,
          870,
          880,
          890,
          900,
          910,
          920,
          930,
          940,
          950,
          960,
          970,
          980,
          990,
          1000,
          1010,
          1020,
          1030,
          1040,
          1050,
          1060,
          1070,
          1080,
          1090,
          1100,
          1110,
          1120,
          1130,
          1140,
          1150,
          1160,
          1170,
          1180,
          1190,
          1200,
          1210,
          1220,
          1230,
          1240,
          1250,
          1260,
          1270,
          1280,
          1290,
          1300,
          1310,
          1320,
          1330,
          1340,
          1350,
          1360,
          1370,
          1380,
          1390,
          1400,
          1410,
          1420,
          1430,
          1440,
          1450,
          1460,
          1470,
          1480,
          1490,
          1500,
          1510,
          1520,
          1530,
          1540,
          1550,
          1560,
          1570,
          1580,
          1590,
          1600,
          1610,
          1620,
          1630,
          1640,
          1650,
          1660,
          1670,
          1680,
          1690,
          1700,
          1710,
          1720,
          1730,
          1740,
          1750,
          1760,
          1770,
          1780,
          1790,
          1800,
          1810,
          1820,
          1830,
          1840,
          1850,
          1860,
          1870,
          1880,
          1890,
          1900,
          1910,
          1920,
          1930,
          1940,
          1950,
          1960,
          1970,
          1980,
          1990,
          2000,
          2010,
          2020,
          2030,
          2040,
          2050,
          2060,
          2070,
          2080,
          2090,
          2100,
          2110,
          2120,
          2130,
          2140,
          2150,
          2160,
          2170,
          2180,
          2190,
          2200,
          2210,
          2220,
          2230,
          2240,
          2250,
          2260,
          2270,
          2280,
          2290,
          2300,
          2310,
          2320,
          2330,
          2340,
          2350,
          2360,
          2370,
          2380,
          2390,
          2400,
          2410,
          2420,
          2430,
          2440,
          2450,
          2460,
          2470,
          2480,
          2490,
          2500,
          2510,
          2520,
          2530,
          2540,
          2550,
          2560,
          2570
         ],
         "title": {
          "font": {
           "size": 15
          },
          "text": "Number of events"
         },
         "type": "linear"
        },
        "yaxis": {
         "autorange": true,
         "color": "black",
         "gridcolor": "lightgrey",
         "linecolor": "black",
         "mirror": true,
         "showline": true,
         "tickfont": {
          "size": 15
         },
         "ticks": "outside",
         "ticktext": [
          "1-0-main-ow",
          "1-0-main-temp",
          "1-0-main-lora",
          "1-0-main-s",
          "1-0-main-com_timer",
          "1-control-init_timer0-0",
          "1-0-main-i",
          "1-0-sense-temperature",
          "1-0-main-temperature",
          "1-control-updatedata-cls.sensor_data",
          "1-control-readdata-0",
          "1-0-loracom-data",
          "1-control-update_txmsg-0",
          "1-0-main-g_ack",
          "1-0-main-events",
          "1-control-update_rxmsg-drop"
         ],
         "tickvals": [
          0,
          1,
          2,
          3,
          4,
          5,
          6,
          7,
          8,
          9,
          10,
          11,
          12,
          13,
          14,
          15
         ],
         "title": {
          "font": {
           "size": 15
          },
          "text": "Variables"
         }
        }
       }
      }
     },
     "metadata": {},
     "output_type": "display_data"
    }
   ],
   "source": [
    "\n",
    "### plot single trace\n",
    "for i, df in enumerate(all_df):\n",
    "    \n",
    "    if i == trace_file:\n",
    "        trace_obj = plot_single_trace(df, var_list, with_time=False, is_xticks=True)\n",
    "        trace_obj.show()"
   ]
  },
  {
   "cell_type": "code",
   "execution_count": 22,
   "metadata": {},
   "outputs": [
    {
     "name": "stdout",
     "output_type": "stream",
     "text": [
      "48316\n"
     ]
    }
   ],
   "source": [
    "### get timestamp\n",
    "\n",
    "timestamp = index2timestamp(all_df[0], 227)\n",
    "print(timestamp)"
   ]
  },
  {
   "cell_type": "markdown",
   "metadata": {},
   "source": [
    "## Execution Interval Plots"
   ]
  },
  {
   "cell_type": "markdown",
   "metadata": {},
   "source": [
    "### Preprocess data"
   ]
  },
  {
   "cell_type": "code",
   "execution_count": 9,
   "metadata": {},
   "outputs": [
    {
     "name": "stdout",
     "output_type": "stream",
     "text": [
      "length of exe_time: 0\n",
      "length of exe_time: 0\n",
      "length of exe_time: 0\n",
      "length of exe_time: 0\n",
      "length of exe_time: 0\n",
      "length of exe_time: 0\n",
      "length of exe_time: 500\n",
      "length of exe_time: 500\n",
      "length of exe_time: 500\n",
      "length of exe_time: 497\n",
      "length of exe_time: 105\n",
      "length of exe_time: 105\n",
      "length of exe_time: 105\n",
      "length of exe_time: 81\n",
      "length of exe_time: 81\n",
      "length of exe_time: 81\n"
     ]
    }
   ],
   "source": [
    "####### preprocessing data ########\n",
    "\n",
    "#### extract timestamps for each variable and store them in a dictionary along with index values for each variable in event trace\n",
    "\n",
    "var_timestamps = get_var_timestamps(paths_traces=paths_traces)    #### in format (filename, dict of timestamps and index values)\n",
    "\n",
    "to_plot = preprocess_variable_plotting(var_timestamps, var_list, from_number, trace_number=trace_file)   ### restructure the data for plotting\n"
   ]
  },
  {
   "cell_type": "markdown",
   "metadata": {},
   "source": [
    "### Generate execution interval plots"
   ]
  },
  {
   "cell_type": "code",
   "execution_count": 10,
   "metadata": {},
   "outputs": [
    {
     "name": "stdout",
     "output_type": "stream",
     "text": [
      "CODE: theft_protection\n",
      "BEHAVIOUR: faulty_data\n",
      "THREAD: single\n",
      "VER: 3\n"
     ]
    },
    {
     "data": {
      "application/vnd.plotly.v1+json": {
       "config": {
        "plotlyServerURL": "https://plot.ly"
       },
       "data": [
        {
         "line": {
          "width": 0.5
         },
         "marker": {
          "color": "midnightblue",
          "size": 8
         },
         "mode": "lines+markers",
         "name": "trace_trial1",
         "showlegend": true,
         "type": "scatter",
         "x": [
          10,
          14,
          18,
          22,
          29,
          36,
          40,
          44,
          48,
          55,
          62,
          66,
          70,
          74,
          81,
          88,
          92,
          96,
          103,
          110,
          114,
          118,
          122,
          129,
          136,
          140,
          144,
          148,
          155,
          162,
          166,
          170,
          174,
          181,
          185,
          189,
          193,
          200,
          204,
          208,
          212,
          216,
          223,
          230,
          234,
          238,
          242,
          249,
          256,
          260,
          264,
          268,
          275,
          282,
          286,
          290,
          297,
          304,
          308,
          312,
          316,
          323,
          327,
          331,
          335,
          339,
          346,
          353,
          357,
          361,
          365,
          372,
          379,
          383,
          387,
          394,
          401,
          405,
          409,
          413,
          420,
          424,
          428,
          432,
          436,
          443,
          450,
          454,
          458,
          465,
          472,
          476,
          480,
          484,
          491,
          498,
          502,
          506,
          510,
          517,
          521,
          525,
          529,
          533,
          540,
          544,
          548,
          552,
          559,
          566,
          570,
          574,
          578,
          585,
          592,
          596,
          600,
          604,
          611,
          618,
          622,
          626,
          630,
          637,
          641,
          645,
          649,
          656,
          663,
          667,
          671,
          675,
          682,
          689,
          693,
          697,
          701,
          708,
          715,
          719,
          723,
          727,
          734,
          738,
          742,
          746,
          753,
          760,
          764,
          768,
          772,
          779,
          786,
          790,
          794,
          798,
          805,
          812,
          816,
          820,
          827,
          834,
          838,
          842,
          846,
          853,
          860,
          864,
          868,
          872,
          879,
          883,
          887,
          891,
          895,
          902,
          906,
          910,
          914,
          921,
          924,
          928,
          932,
          936,
          943,
          947,
          951,
          955,
          959,
          966,
          970,
          974,
          978,
          985,
          992,
          996,
          1000,
          1004,
          1011,
          1018,
          1022,
          1026,
          1030,
          1037,
          1044,
          1048,
          1052,
          1056,
          1063,
          1070,
          1074,
          1078,
          1085,
          1092,
          1096,
          1100,
          1104,
          1111,
          1115,
          1119,
          1123,
          1127,
          1134,
          1141,
          1145,
          1149,
          1153,
          1160,
          1167,
          1171,
          1175,
          1182,
          1189,
          1193,
          1197,
          1201,
          1208,
          1215,
          1219,
          1222,
          1229,
          1236,
          1240,
          1244,
          1248,
          1255,
          1262,
          1266,
          1270,
          1274,
          1281,
          1288,
          1292,
          1296,
          1300,
          1307,
          1314,
          1318,
          1322,
          1329,
          1336,
          1340,
          1344,
          1348,
          1355,
          1362,
          1366,
          1370,
          1374,
          1381,
          1388,
          1392,
          1396,
          1400,
          1407,
          1414,
          1418,
          1422,
          1429,
          1436,
          1440,
          1444,
          1448,
          1455,
          1462,
          1466,
          1470,
          1474,
          1481,
          1488,
          1492,
          1496,
          1503,
          1510,
          1514,
          1518,
          1522,
          1529,
          1536,
          1540,
          1544,
          1548,
          1555,
          1562,
          1566,
          1570,
          1574,
          1581,
          1588,
          1592,
          1596,
          1603,
          1607,
          1611,
          1615,
          1619,
          1626,
          1630,
          1634,
          1638,
          1642,
          1649,
          1656,
          1660,
          1664,
          1668,
          1675,
          1682,
          1686,
          1690,
          1697,
          1704,
          1708,
          1712,
          1716,
          1723,
          1730,
          1734,
          1738,
          1742,
          1749,
          1756,
          1760,
          1764,
          1768,
          1775,
          1782,
          1786,
          1790,
          1797,
          1804,
          1808,
          1812,
          1816,
          1823,
          1827,
          1831,
          1835,
          1839,
          1846,
          1853,
          1857,
          1861,
          1868,
          1875,
          1879,
          1883,
          1887,
          1894,
          1901,
          1905,
          1909,
          1913,
          1920,
          1927,
          1931,
          1935,
          1939,
          1946,
          1953,
          1957,
          1961,
          1968,
          1975,
          1979,
          1983,
          1987,
          1994,
          2001,
          2005,
          2009,
          2013,
          2020,
          2027,
          2031,
          2035,
          2039,
          2046,
          2053,
          2057,
          2061,
          2068,
          2074,
          2078,
          2082,
          2086,
          2093,
          2097,
          2101,
          2105,
          2112,
          2116,
          2120,
          2124,
          2128,
          2135,
          2142,
          2146,
          2150,
          2154,
          2161,
          2168,
          2172,
          2176,
          2180,
          2187,
          2191,
          2195,
          2199,
          2206,
          2213,
          2217,
          2221,
          2225,
          2232,
          2239,
          2243,
          2247,
          2251,
          2258,
          2265,
          2269,
          2273,
          2277,
          2284,
          2291,
          2295,
          2299,
          2306,
          2310,
          2314,
          2318,
          2322,
          2329,
          2336,
          2340,
          2344,
          2348,
          2355,
          2362,
          2366,
          2370,
          2377,
          2384,
          2388,
          2392,
          2396,
          2403,
          2407,
          2411,
          2415,
          2419,
          2426,
          2430,
          2434,
          2438,
          2442,
          2449,
          2456,
          2460,
          2464,
          2471,
          2478,
          2482,
          2486,
          2490,
          2497,
          2504,
          2508,
          2512,
          2516,
          2523,
          2530,
          2534,
          2538,
          2542,
          2549,
          2556,
          2560,
          2564
         ],
         "y": [
          1051,
          1051,
          1051,
          1050,
          1065,
          1064,
          1050,
          1051,
          1051,
          1064,
          1063,
          1051,
          1050,
          1051,
          1065,
          1064,
          1050,
          1051,
          1064,
          1065,
          1051,
          1051,
          1051,
          1065,
          1064,
          1051,
          1050,
          1051,
          1065,
          1064,
          1051,
          1051,
          1051,
          1065,
          1051,
          1051,
          1051,
          1064,
          1051,
          1051,
          1051,
          1050,
          1064,
          1065,
          1051,
          1051,
          1051,
          1065,
          1064,
          1052,
          1050,
          1051,
          1065,
          1064,
          1052,
          1050,
          1065,
          1064,
          1051,
          1051,
          1051,
          1065,
          1051,
          1051,
          1051,
          1051,
          1065,
          1064,
          1051,
          1051,
          1051,
          1065,
          1065,
          1051,
          1051,
          1065,
          1064,
          1051,
          1051,
          1052,
          1065,
          1051,
          1051,
          1051,
          1052,
          1066,
          1064,
          1051,
          1051,
          1065,
          1066,
          1051,
          1051,
          1051,
          1066,
          1064,
          1051,
          1051,
          1051,
          1065,
          1052,
          1050,
          1051,
          1051,
          1065,
          1051,
          1050,
          1051,
          1064,
          1066,
          1052,
          1050,
          1051,
          1065,
          1066,
          1051,
          1051,
          1051,
          1065,
          1066,
          1051,
          1050,
          1053,
          1065,
          1052,
          1050,
          1051,
          1064,
          1066,
          1051,
          1051,
          1051,
          1065,
          1065,
          1051,
          1051,
          1051,
          1065,
          1065,
          1051,
          1052,
          1050,
          1065,
          1051,
          1051,
          1051,
          1064,
          1066,
          1051,
          1051,
          1053,
          1063,
          1065,
          1050,
          1052,
          1051,
          1065,
          1066,
          1051,
          1052,
          1065,
          1065,
          1051,
          1051,
          1051,
          1065,
          1066,
          1051,
          1051,
          1052,
          1065,
          1050,
          1050,
          1052,
          1051,
          1066,
          1052,
          1051,
          1050,
          1066,
          1305,
          1051,
          1051,
          1051,
          1065,
          1051,
          1051,
          1051,
          1050,
          1066,
          1051,
          1051,
          1051,
          1064,
          1068,
          1052,
          1051,
          1051,
          1064,
          1067,
          1051,
          1051,
          1051,
          1065,
          1069,
          1051,
          1052,
          1051,
          1065,
          1067,
          1051,
          1051,
          1065,
          1068,
          1052,
          1051,
          1051,
          1066,
          1051,
          1051,
          1051,
          1052,
          1065,
          1066,
          1052,
          1051,
          1051,
          1064,
          1066,
          1052,
          1051,
          1064,
          1067,
          1051,
          1052,
          1051,
          1065,
          1066,
          1051,
          1314,
          1065,
          1066,
          1051,
          1051,
          1052,
          1064,
          1067,
          1051,
          1052,
          1051,
          1064,
          1068,
          1051,
          1051,
          1051,
          1064,
          1067,
          1053,
          1051,
          1065,
          1066,
          1053,
          1051,
          1050,
          1065,
          1066,
          1052,
          1051,
          1051,
          1064,
          1068,
          1051,
          1051,
          1051,
          1067,
          1067,
          1051,
          1051,
          1064,
          1069,
          1051,
          1051,
          1051,
          1066,
          1069,
          1051,
          1051,
          1051,
          1064,
          1069,
          1051,
          1051,
          1065,
          1066,
          1052,
          1053,
          1051,
          1064,
          1066,
          1051,
          1051,
          1051,
          1066,
          1067,
          1052,
          1051,
          1051,
          1067,
          1067,
          1051,
          1051,
          1064,
          1053,
          1051,
          1051,
          1051,
          1065,
          1053,
          1051,
          1051,
          1051,
          1064,
          1068,
          1053,
          1051,
          1051,
          1065,
          1067,
          1051,
          1054,
          1065,
          1068,
          1052,
          1051,
          1053,
          1065,
          1068,
          1052,
          1051,
          1051,
          1065,
          1070,
          1051,
          1051,
          1051,
          1064,
          1068,
          1051,
          1053,
          1065,
          1068,
          1052,
          1051,
          1051,
          1068,
          1051,
          1052,
          1052,
          1051,
          1065,
          1069,
          1050,
          1053,
          1065,
          1070,
          1051,
          1051,
          1053,
          1064,
          1070,
          1051,
          1051,
          1051,
          1064,
          1072,
          1051,
          1051,
          1051,
          1066,
          1069,
          1052,
          1052,
          1066,
          1068,
          1052,
          1051,
          1050,
          1065,
          1073,
          1052,
          1051,
          1051,
          1064,
          1069,
          1055,
          1050,
          1051,
          1065,
          1068,
          1052,
          1051,
          1065,
          1315,
          1053,
          1053,
          1050,
          1064,
          1052,
          1051,
          1054,
          1065,
          1050,
          1051,
          1051,
          1052,
          1068,
          1070,
          1052,
          1052,
          1052,
          1065,
          1070,
          1053,
          1051,
          1055,
          1065,
          1051,
          1051,
          1051,
          1066,
          1071,
          1052,
          1052,
          1052,
          1066,
          1071,
          1051,
          1051,
          1051,
          1065,
          1071,
          1052,
          1054,
          1051,
          1066,
          1071,
          1051,
          1051,
          1068,
          1053,
          1051,
          1050,
          1051,
          1064,
          1077,
          1051,
          1052,
          1051,
          1064,
          1073,
          1051,
          1050,
          1064,
          1072,
          1055,
          1052,
          1050,
          1065,
          1051,
          1053,
          1051,
          1051,
          1068,
          1051,
          1054,
          1051,
          1051,
          1064,
          1074,
          1052,
          1051,
          1065,
          1077,
          1051,
          1053,
          1051,
          1063,
          1076,
          1051,
          1057,
          1051,
          1065,
          1075,
          1051,
          1053,
          1051,
          1065,
          1075,
          1052,
          1053
         ]
        }
       ],
       "layout": {
        "autosize": true,
        "plot_bgcolor": "rgba(0,0,0,0)",
        "template": {
         "data": {
          "bar": [
           {
            "error_x": {
             "color": "#2a3f5f"
            },
            "error_y": {
             "color": "#2a3f5f"
            },
            "marker": {
             "line": {
              "color": "#E5ECF6",
              "width": 0.5
             },
             "pattern": {
              "fillmode": "overlay",
              "size": 10,
              "solidity": 0.2
             }
            },
            "type": "bar"
           }
          ],
          "barpolar": [
           {
            "marker": {
             "line": {
              "color": "#E5ECF6",
              "width": 0.5
             },
             "pattern": {
              "fillmode": "overlay",
              "size": 10,
              "solidity": 0.2
             }
            },
            "type": "barpolar"
           }
          ],
          "carpet": [
           {
            "aaxis": {
             "endlinecolor": "#2a3f5f",
             "gridcolor": "white",
             "linecolor": "white",
             "minorgridcolor": "white",
             "startlinecolor": "#2a3f5f"
            },
            "baxis": {
             "endlinecolor": "#2a3f5f",
             "gridcolor": "white",
             "linecolor": "white",
             "minorgridcolor": "white",
             "startlinecolor": "#2a3f5f"
            },
            "type": "carpet"
           }
          ],
          "choropleth": [
           {
            "colorbar": {
             "outlinewidth": 0,
             "ticks": ""
            },
            "type": "choropleth"
           }
          ],
          "contour": [
           {
            "colorbar": {
             "outlinewidth": 0,
             "ticks": ""
            },
            "colorscale": [
             [
              0,
              "#0d0887"
             ],
             [
              0.1111111111111111,
              "#46039f"
             ],
             [
              0.2222222222222222,
              "#7201a8"
             ],
             [
              0.3333333333333333,
              "#9c179e"
             ],
             [
              0.4444444444444444,
              "#bd3786"
             ],
             [
              0.5555555555555556,
              "#d8576b"
             ],
             [
              0.6666666666666666,
              "#ed7953"
             ],
             [
              0.7777777777777778,
              "#fb9f3a"
             ],
             [
              0.8888888888888888,
              "#fdca26"
             ],
             [
              1,
              "#f0f921"
             ]
            ],
            "type": "contour"
           }
          ],
          "contourcarpet": [
           {
            "colorbar": {
             "outlinewidth": 0,
             "ticks": ""
            },
            "type": "contourcarpet"
           }
          ],
          "heatmap": [
           {
            "colorbar": {
             "outlinewidth": 0,
             "ticks": ""
            },
            "colorscale": [
             [
              0,
              "#0d0887"
             ],
             [
              0.1111111111111111,
              "#46039f"
             ],
             [
              0.2222222222222222,
              "#7201a8"
             ],
             [
              0.3333333333333333,
              "#9c179e"
             ],
             [
              0.4444444444444444,
              "#bd3786"
             ],
             [
              0.5555555555555556,
              "#d8576b"
             ],
             [
              0.6666666666666666,
              "#ed7953"
             ],
             [
              0.7777777777777778,
              "#fb9f3a"
             ],
             [
              0.8888888888888888,
              "#fdca26"
             ],
             [
              1,
              "#f0f921"
             ]
            ],
            "type": "heatmap"
           }
          ],
          "heatmapgl": [
           {
            "colorbar": {
             "outlinewidth": 0,
             "ticks": ""
            },
            "colorscale": [
             [
              0,
              "#0d0887"
             ],
             [
              0.1111111111111111,
              "#46039f"
             ],
             [
              0.2222222222222222,
              "#7201a8"
             ],
             [
              0.3333333333333333,
              "#9c179e"
             ],
             [
              0.4444444444444444,
              "#bd3786"
             ],
             [
              0.5555555555555556,
              "#d8576b"
             ],
             [
              0.6666666666666666,
              "#ed7953"
             ],
             [
              0.7777777777777778,
              "#fb9f3a"
             ],
             [
              0.8888888888888888,
              "#fdca26"
             ],
             [
              1,
              "#f0f921"
             ]
            ],
            "type": "heatmapgl"
           }
          ],
          "histogram": [
           {
            "marker": {
             "pattern": {
              "fillmode": "overlay",
              "size": 10,
              "solidity": 0.2
             }
            },
            "type": "histogram"
           }
          ],
          "histogram2d": [
           {
            "colorbar": {
             "outlinewidth": 0,
             "ticks": ""
            },
            "colorscale": [
             [
              0,
              "#0d0887"
             ],
             [
              0.1111111111111111,
              "#46039f"
             ],
             [
              0.2222222222222222,
              "#7201a8"
             ],
             [
              0.3333333333333333,
              "#9c179e"
             ],
             [
              0.4444444444444444,
              "#bd3786"
             ],
             [
              0.5555555555555556,
              "#d8576b"
             ],
             [
              0.6666666666666666,
              "#ed7953"
             ],
             [
              0.7777777777777778,
              "#fb9f3a"
             ],
             [
              0.8888888888888888,
              "#fdca26"
             ],
             [
              1,
              "#f0f921"
             ]
            ],
            "type": "histogram2d"
           }
          ],
          "histogram2dcontour": [
           {
            "colorbar": {
             "outlinewidth": 0,
             "ticks": ""
            },
            "colorscale": [
             [
              0,
              "#0d0887"
             ],
             [
              0.1111111111111111,
              "#46039f"
             ],
             [
              0.2222222222222222,
              "#7201a8"
             ],
             [
              0.3333333333333333,
              "#9c179e"
             ],
             [
              0.4444444444444444,
              "#bd3786"
             ],
             [
              0.5555555555555556,
              "#d8576b"
             ],
             [
              0.6666666666666666,
              "#ed7953"
             ],
             [
              0.7777777777777778,
              "#fb9f3a"
             ],
             [
              0.8888888888888888,
              "#fdca26"
             ],
             [
              1,
              "#f0f921"
             ]
            ],
            "type": "histogram2dcontour"
           }
          ],
          "mesh3d": [
           {
            "colorbar": {
             "outlinewidth": 0,
             "ticks": ""
            },
            "type": "mesh3d"
           }
          ],
          "parcoords": [
           {
            "line": {
             "colorbar": {
              "outlinewidth": 0,
              "ticks": ""
             }
            },
            "type": "parcoords"
           }
          ],
          "pie": [
           {
            "automargin": true,
            "type": "pie"
           }
          ],
          "scatter": [
           {
            "fillpattern": {
             "fillmode": "overlay",
             "size": 10,
             "solidity": 0.2
            },
            "type": "scatter"
           }
          ],
          "scatter3d": [
           {
            "line": {
             "colorbar": {
              "outlinewidth": 0,
              "ticks": ""
             }
            },
            "marker": {
             "colorbar": {
              "outlinewidth": 0,
              "ticks": ""
             }
            },
            "type": "scatter3d"
           }
          ],
          "scattercarpet": [
           {
            "marker": {
             "colorbar": {
              "outlinewidth": 0,
              "ticks": ""
             }
            },
            "type": "scattercarpet"
           }
          ],
          "scattergeo": [
           {
            "marker": {
             "colorbar": {
              "outlinewidth": 0,
              "ticks": ""
             }
            },
            "type": "scattergeo"
           }
          ],
          "scattergl": [
           {
            "marker": {
             "colorbar": {
              "outlinewidth": 0,
              "ticks": ""
             }
            },
            "type": "scattergl"
           }
          ],
          "scattermapbox": [
           {
            "marker": {
             "colorbar": {
              "outlinewidth": 0,
              "ticks": ""
             }
            },
            "type": "scattermapbox"
           }
          ],
          "scatterpolar": [
           {
            "marker": {
             "colorbar": {
              "outlinewidth": 0,
              "ticks": ""
             }
            },
            "type": "scatterpolar"
           }
          ],
          "scatterpolargl": [
           {
            "marker": {
             "colorbar": {
              "outlinewidth": 0,
              "ticks": ""
             }
            },
            "type": "scatterpolargl"
           }
          ],
          "scatterternary": [
           {
            "marker": {
             "colorbar": {
              "outlinewidth": 0,
              "ticks": ""
             }
            },
            "type": "scatterternary"
           }
          ],
          "surface": [
           {
            "colorbar": {
             "outlinewidth": 0,
             "ticks": ""
            },
            "colorscale": [
             [
              0,
              "#0d0887"
             ],
             [
              0.1111111111111111,
              "#46039f"
             ],
             [
              0.2222222222222222,
              "#7201a8"
             ],
             [
              0.3333333333333333,
              "#9c179e"
             ],
             [
              0.4444444444444444,
              "#bd3786"
             ],
             [
              0.5555555555555556,
              "#d8576b"
             ],
             [
              0.6666666666666666,
              "#ed7953"
             ],
             [
              0.7777777777777778,
              "#fb9f3a"
             ],
             [
              0.8888888888888888,
              "#fdca26"
             ],
             [
              1,
              "#f0f921"
             ]
            ],
            "type": "surface"
           }
          ],
          "table": [
           {
            "cells": {
             "fill": {
              "color": "#EBF0F8"
             },
             "line": {
              "color": "white"
             }
            },
            "header": {
             "fill": {
              "color": "#C8D4E3"
             },
             "line": {
              "color": "white"
             }
            },
            "type": "table"
           }
          ]
         },
         "layout": {
          "annotationdefaults": {
           "arrowcolor": "#2a3f5f",
           "arrowhead": 0,
           "arrowwidth": 1
          },
          "autotypenumbers": "strict",
          "coloraxis": {
           "colorbar": {
            "outlinewidth": 0,
            "ticks": ""
           }
          },
          "colorscale": {
           "diverging": [
            [
             0,
             "#8e0152"
            ],
            [
             0.1,
             "#c51b7d"
            ],
            [
             0.2,
             "#de77ae"
            ],
            [
             0.3,
             "#f1b6da"
            ],
            [
             0.4,
             "#fde0ef"
            ],
            [
             0.5,
             "#f7f7f7"
            ],
            [
             0.6,
             "#e6f5d0"
            ],
            [
             0.7,
             "#b8e186"
            ],
            [
             0.8,
             "#7fbc41"
            ],
            [
             0.9,
             "#4d9221"
            ],
            [
             1,
             "#276419"
            ]
           ],
           "sequential": [
            [
             0,
             "#0d0887"
            ],
            [
             0.1111111111111111,
             "#46039f"
            ],
            [
             0.2222222222222222,
             "#7201a8"
            ],
            [
             0.3333333333333333,
             "#9c179e"
            ],
            [
             0.4444444444444444,
             "#bd3786"
            ],
            [
             0.5555555555555556,
             "#d8576b"
            ],
            [
             0.6666666666666666,
             "#ed7953"
            ],
            [
             0.7777777777777778,
             "#fb9f3a"
            ],
            [
             0.8888888888888888,
             "#fdca26"
            ],
            [
             1,
             "#f0f921"
            ]
           ],
           "sequentialminus": [
            [
             0,
             "#0d0887"
            ],
            [
             0.1111111111111111,
             "#46039f"
            ],
            [
             0.2222222222222222,
             "#7201a8"
            ],
            [
             0.3333333333333333,
             "#9c179e"
            ],
            [
             0.4444444444444444,
             "#bd3786"
            ],
            [
             0.5555555555555556,
             "#d8576b"
            ],
            [
             0.6666666666666666,
             "#ed7953"
            ],
            [
             0.7777777777777778,
             "#fb9f3a"
            ],
            [
             0.8888888888888888,
             "#fdca26"
            ],
            [
             1,
             "#f0f921"
            ]
           ]
          },
          "colorway": [
           "#636efa",
           "#EF553B",
           "#00cc96",
           "#ab63fa",
           "#FFA15A",
           "#19d3f3",
           "#FF6692",
           "#B6E880",
           "#FF97FF",
           "#FECB52"
          ],
          "font": {
           "color": "#2a3f5f"
          },
          "geo": {
           "bgcolor": "white",
           "lakecolor": "white",
           "landcolor": "#E5ECF6",
           "showlakes": true,
           "showland": true,
           "subunitcolor": "white"
          },
          "hoverlabel": {
           "align": "left"
          },
          "hovermode": "closest",
          "mapbox": {
           "style": "light"
          },
          "paper_bgcolor": "white",
          "plot_bgcolor": "#E5ECF6",
          "polar": {
           "angularaxis": {
            "gridcolor": "white",
            "linecolor": "white",
            "ticks": ""
           },
           "bgcolor": "#E5ECF6",
           "radialaxis": {
            "gridcolor": "white",
            "linecolor": "white",
            "ticks": ""
           }
          },
          "scene": {
           "xaxis": {
            "backgroundcolor": "#E5ECF6",
            "gridcolor": "white",
            "gridwidth": 2,
            "linecolor": "white",
            "showbackground": true,
            "ticks": "",
            "zerolinecolor": "white"
           },
           "yaxis": {
            "backgroundcolor": "#E5ECF6",
            "gridcolor": "white",
            "gridwidth": 2,
            "linecolor": "white",
            "showbackground": true,
            "ticks": "",
            "zerolinecolor": "white"
           },
           "zaxis": {
            "backgroundcolor": "#E5ECF6",
            "gridcolor": "white",
            "gridwidth": 2,
            "linecolor": "white",
            "showbackground": true,
            "ticks": "",
            "zerolinecolor": "white"
           }
          },
          "shapedefaults": {
           "line": {
            "color": "#2a3f5f"
           }
          },
          "ternary": {
           "aaxis": {
            "gridcolor": "white",
            "linecolor": "white",
            "ticks": ""
           },
           "baxis": {
            "gridcolor": "white",
            "linecolor": "white",
            "ticks": ""
           },
           "bgcolor": "#E5ECF6",
           "caxis": {
            "gridcolor": "white",
            "linecolor": "white",
            "ticks": ""
           }
          },
          "title": {
           "x": 0.05
          },
          "xaxis": {
           "automargin": true,
           "gridcolor": "white",
           "linecolor": "white",
           "ticks": "",
           "title": {
            "standoff": 15
           },
           "zerolinecolor": "white",
           "zerolinewidth": 2
          },
          "yaxis": {
           "automargin": true,
           "gridcolor": "white",
           "linecolor": "white",
           "ticks": "",
           "title": {
            "standoff": 15
           },
           "zerolinecolor": "white",
           "zerolinewidth": 2
          }
         }
        },
        "title": {
         "text": "Execution Interval for '1-0-main-i'"
        },
        "xaxis": {
         "color": "black",
         "gridcolor": "lightgrey",
         "linecolor": "black",
         "mirror": true,
         "rangeslider": {
          "visible": true
         },
         "showline": true,
         "tickfont": {
          "size": 20
         },
         "ticks": "outside",
         "title": {
          "font": {
           "size": 20
          },
          "text": "Number of events"
         },
         "type": "linear"
        },
        "yaxis": {
         "color": "black",
         "gridcolor": "lightgrey",
         "linecolor": "black",
         "mirror": true,
         "showline": true,
         "tickfont": {
          "size": 20
         },
         "ticks": "outside",
         "title": {
          "font": {
           "size": 20
          },
          "text": "Execution interval (ms)"
         }
        }
       }
      }
     },
     "metadata": {},
     "output_type": "display_data"
    },
    {
     "data": {
      "application/vnd.plotly.v1+json": {
       "config": {
        "plotlyServerURL": "https://plot.ly"
       },
       "data": [
        {
         "line": {
          "width": 0.5
         },
         "marker": {
          "color": "midnightblue",
          "size": 8
         },
         "mode": "lines+markers",
         "name": "trace_trial1",
         "showlegend": true,
         "type": "scatter",
         "x": [
          11,
          15,
          19,
          23,
          30,
          37,
          41,
          45,
          49,
          56,
          63,
          67,
          71,
          75,
          82,
          89,
          93,
          97,
          104,
          111,
          115,
          119,
          123,
          130,
          137,
          141,
          145,
          149,
          156,
          163,
          167,
          171,
          175,
          182,
          186,
          190,
          194,
          201,
          205,
          209,
          213,
          217,
          224,
          231,
          235,
          239,
          243,
          250,
          257,
          261,
          265,
          269,
          276,
          283,
          287,
          291,
          298,
          305,
          309,
          313,
          317,
          324,
          328,
          332,
          336,
          340,
          347,
          354,
          358,
          362,
          366,
          373,
          380,
          384,
          388,
          395,
          402,
          406,
          410,
          414,
          421,
          425,
          429,
          433,
          437,
          444,
          451,
          455,
          459,
          466,
          473,
          477,
          481,
          485,
          492,
          499,
          503,
          507,
          511,
          518,
          522,
          526,
          530,
          534,
          541,
          545,
          549,
          553,
          560,
          567,
          571,
          575,
          579,
          586,
          593,
          597,
          601,
          605,
          612,
          619,
          623,
          627,
          631,
          638,
          642,
          646,
          650,
          657,
          664,
          668,
          672,
          676,
          683,
          690,
          694,
          698,
          702,
          709,
          716,
          720,
          724,
          728,
          735,
          739,
          743,
          747,
          754,
          761,
          765,
          769,
          773,
          780,
          787,
          791,
          795,
          799,
          806,
          813,
          817,
          821,
          828,
          835,
          839,
          843,
          847,
          854,
          861,
          865,
          869,
          873,
          880,
          884,
          888,
          892,
          896,
          903,
          907,
          911,
          915,
          922,
          925,
          929,
          933,
          937,
          944,
          948,
          952,
          956,
          960,
          967,
          971,
          975,
          979,
          986,
          993,
          997,
          1001,
          1005,
          1012,
          1019,
          1023,
          1027,
          1031,
          1038,
          1045,
          1049,
          1053,
          1057,
          1064,
          1071,
          1075,
          1079,
          1086,
          1093,
          1097,
          1101,
          1105,
          1112,
          1116,
          1120,
          1124,
          1128,
          1135,
          1142,
          1146,
          1150,
          1154,
          1161,
          1168,
          1172,
          1176,
          1183,
          1190,
          1194,
          1198,
          1202,
          1209,
          1216,
          1220,
          1223,
          1230,
          1237,
          1241,
          1245,
          1249,
          1256,
          1263,
          1267,
          1271,
          1275,
          1282,
          1289,
          1293,
          1297,
          1301,
          1308,
          1315,
          1319,
          1323,
          1330,
          1337,
          1341,
          1345,
          1349,
          1356,
          1363,
          1367,
          1371,
          1375,
          1382,
          1389,
          1393,
          1397,
          1401,
          1408,
          1415,
          1419,
          1423,
          1430,
          1437,
          1441,
          1445,
          1449,
          1456,
          1463,
          1467,
          1471,
          1475,
          1482,
          1489,
          1493,
          1497,
          1504,
          1511,
          1515,
          1519,
          1523,
          1530,
          1537,
          1541,
          1545,
          1549,
          1556,
          1563,
          1567,
          1571,
          1575,
          1582,
          1589,
          1593,
          1597,
          1604,
          1608,
          1612,
          1616,
          1620,
          1627,
          1631,
          1635,
          1639,
          1643,
          1650,
          1657,
          1661,
          1665,
          1669,
          1676,
          1683,
          1687,
          1691,
          1698,
          1705,
          1709,
          1713,
          1717,
          1724,
          1731,
          1735,
          1739,
          1743,
          1750,
          1757,
          1761,
          1765,
          1769,
          1776,
          1783,
          1787,
          1791,
          1798,
          1805,
          1809,
          1813,
          1817,
          1824,
          1828,
          1832,
          1836,
          1840,
          1847,
          1854,
          1858,
          1862,
          1869,
          1876,
          1880,
          1884,
          1888,
          1895,
          1902,
          1906,
          1910,
          1914,
          1921,
          1928,
          1932,
          1936,
          1940,
          1947,
          1954,
          1958,
          1962,
          1969,
          1976,
          1980,
          1984,
          1988,
          1995,
          2002,
          2006,
          2010,
          2014,
          2021,
          2028,
          2032,
          2036,
          2040,
          2047,
          2054,
          2058,
          2062,
          2069,
          2075,
          2079,
          2083,
          2087,
          2094,
          2098,
          2102,
          2106,
          2113,
          2117,
          2121,
          2125,
          2129,
          2136,
          2143,
          2147,
          2151,
          2155,
          2162,
          2169,
          2173,
          2177,
          2181,
          2188,
          2192,
          2196,
          2200,
          2207,
          2214,
          2218,
          2222,
          2226,
          2233,
          2240,
          2244,
          2248,
          2252,
          2259,
          2266,
          2270,
          2274,
          2278,
          2285,
          2292,
          2296,
          2300,
          2307,
          2311,
          2315,
          2319,
          2323,
          2330,
          2337,
          2341,
          2345,
          2349,
          2356,
          2363,
          2367,
          2371,
          2378,
          2385,
          2389,
          2393,
          2397,
          2404,
          2408,
          2412,
          2416,
          2420,
          2427,
          2431,
          2435,
          2439,
          2443,
          2450,
          2457,
          2461,
          2465,
          2472,
          2479,
          2483,
          2487,
          2491,
          2498,
          2505,
          2509,
          2513,
          2517,
          2524,
          2531,
          2535,
          2539,
          2543,
          2550,
          2557,
          2561,
          2565
         ],
         "y": [
          1050,
          1051,
          1051,
          1050,
          1065,
          1064,
          1050,
          1051,
          1051,
          1064,
          1064,
          1050,
          1050,
          1051,
          1065,
          1064,
          1050,
          1051,
          1065,
          1065,
          1050,
          1051,
          1052,
          1065,
          1063,
          1051,
          1050,
          1051,
          1065,
          1064,
          1051,
          1051,
          1051,
          1065,
          1051,
          1051,
          1051,
          1064,
          1051,
          1051,
          1051,
          1050,
          1065,
          1064,
          1052,
          1050,
          1051,
          1065,
          1065,
          1051,
          1050,
          1051,
          1065,
          1064,
          1052,
          1051,
          1063,
          1065,
          1051,
          1051,
          1051,
          1065,
          1051,
          1051,
          1052,
          1051,
          1064,
          1064,
          1051,
          1051,
          1051,
          1066,
          1064,
          1051,
          1051,
          1065,
          1065,
          1050,
          1052,
          1051,
          1065,
          1051,
          1051,
          1051,
          1052,
          1066,
          1064,
          1052,
          1050,
          1065,
          1066,
          1051,
          1051,
          1051,
          1066,
          1064,
          1051,
          1051,
          1051,
          1065,
          1052,
          1050,
          1051,
          1051,
          1065,
          1051,
          1050,
          1051,
          1065,
          1066,
          1051,
          1050,
          1051,
          1065,
          1066,
          1051,
          1051,
          1051,
          1065,
          1066,
          1051,
          1051,
          1052,
          1065,
          1052,
          1050,
          1051,
          1064,
          1066,
          1051,
          1051,
          1051,
          1066,
          1065,
          1050,
          1052,
          1050,
          1065,
          1065,
          1052,
          1051,
          1050,
          1065,
          1051,
          1051,
          1051,
          1064,
          1066,
          1052,
          1050,
          1053,
          1064,
          1064,
          1051,
          1051,
          1051,
          1065,
          1067,
          1050,
          1052,
          1065,
          1065,
          1051,
          1052,
          1050,
          1066,
          1065,
          1051,
          1051,
          1052,
          1065,
          1050,
          1050,
          1053,
          1050,
          1066,
          1052,
          1051,
          1050,
          1066,
          1305,
          1051,
          1051,
          1051,
          1065,
          1051,
          1051,
          1051,
          1051,
          1065,
          1051,
          1051,
          1051,
          1065,
          1068,
          1051,
          1051,
          1051,
          1064,
          1067,
          1051,
          1051,
          1051,
          1066,
          1069,
          1050,
          1053,
          1050,
          1065,
          1068,
          1050,
          1051,
          1065,
          1069,
          1051,
          1051,
          1051,
          1066,
          1051,
          1052,
          1050,
          1052,
          1065,
          1067,
          1051,
          1051,
          1051,
          1064,
          1066,
          1053,
          1050,
          1064,
          1068,
          1050,
          1052,
          1052,
          1064,
          1066,
          1053,
          1312,
          1065,
          1066,
          1051,
          1053,
          1050,
          1065,
          1067,
          1050,
          1052,
          1052,
          1063,
          1068,
          1051,
          1051,
          1051,
          1064,
          1069,
          1051,
          1051,
          1066,
          1066,
          1052,
          1051,
          1050,
          1065,
          1066,
          1053,
          1050,
          1051,
          1065,
          1067,
          1051,
          1051,
          1052,
          1067,
          1066,
          1052,
          1050,
          1066,
          1067,
          1051,
          1051,
          1052,
          1066,
          1068,
          1052,
          1050,
          1052,
          1064,
          1068,
          1051,
          1051,
          1065,
          1066,
          1054,
          1051,
          1051,
          1065,
          1066,
          1051,
          1050,
          1051,
          1066,
          1068,
          1051,
          1051,
          1051,
          1068,
          1066,
          1051,
          1051,
          1065,
          1052,
          1051,
          1052,
          1050,
          1065,
          1053,
          1051,
          1052,
          1051,
          1064,
          1067,
          1053,
          1051,
          1051,
          1065,
          1067,
          1052,
          1053,
          1065,
          1069,
          1051,
          1051,
          1053,
          1065,
          1069,
          1051,
          1051,
          1051,
          1065,
          1071,
          1050,
          1051,
          1052,
          1063,
          1068,
          1052,
          1052,
          1065,
          1068,
          1052,
          1051,
          1052,
          1068,
          1051,
          1052,
          1052,
          1050,
          1065,
          1069,
          1050,
          1053,
          1065,
          1071,
          1050,
          1052,
          1053,
          1064,
          1069,
          1051,
          1052,
          1050,
          1065,
          1072,
          1050,
          1052,
          1050,
          1066,
          1070,
          1052,
          1051,
          1066,
          1069,
          1051,
          1051,
          1051,
          1064,
          1074,
          1051,
          1051,
          1051,
          1065,
          1069,
          1054,
          1050,
          1052,
          1064,
          1069,
          1052,
          1050,
          1066,
          1316,
          1052,
          1052,
          1050,
          1065,
          1051,
          1051,
          1054,
          1065,
          1050,
          1051,
          1052,
          1051,
          1068,
          1070,
          1052,
          1053,
          1052,
          1064,
          1071,
          1052,
          1052,
          1054,
          1066,
          1051,
          1050,
          1051,
          1067,
          1071,
          1052,
          1051,
          1053,
          1065,
          1071,
          1051,
          1052,
          1050,
          1065,
          1072,
          1053,
          1052,
          1052,
          1065,
          1072,
          1050,
          1054,
          1066,
          1052,
          1051,
          1050,
          1052,
          1064,
          1077,
          1051,
          1051,
          1052,
          1064,
          1073,
          1050,
          1050,
          1064,
          1075,
          1053,
          1051,
          1050,
          1065,
          1052,
          1052,
          1051,
          1051,
          1068,
          1053,
          1052,
          1051,
          1051,
          1065,
          1074,
          1051,
          1051,
          1065,
          1078,
          1051,
          1052,
          1051,
          1064,
          1075,
          1053,
          1055,
          1051,
          1065,
          1075,
          1052,
          1052,
          1051,
          1066,
          1075,
          1052,
          1056
         ]
        }
       ],
       "layout": {
        "autosize": true,
        "plot_bgcolor": "rgba(0,0,0,0)",
        "template": {
         "data": {
          "bar": [
           {
            "error_x": {
             "color": "#2a3f5f"
            },
            "error_y": {
             "color": "#2a3f5f"
            },
            "marker": {
             "line": {
              "color": "#E5ECF6",
              "width": 0.5
             },
             "pattern": {
              "fillmode": "overlay",
              "size": 10,
              "solidity": 0.2
             }
            },
            "type": "bar"
           }
          ],
          "barpolar": [
           {
            "marker": {
             "line": {
              "color": "#E5ECF6",
              "width": 0.5
             },
             "pattern": {
              "fillmode": "overlay",
              "size": 10,
              "solidity": 0.2
             }
            },
            "type": "barpolar"
           }
          ],
          "carpet": [
           {
            "aaxis": {
             "endlinecolor": "#2a3f5f",
             "gridcolor": "white",
             "linecolor": "white",
             "minorgridcolor": "white",
             "startlinecolor": "#2a3f5f"
            },
            "baxis": {
             "endlinecolor": "#2a3f5f",
             "gridcolor": "white",
             "linecolor": "white",
             "minorgridcolor": "white",
             "startlinecolor": "#2a3f5f"
            },
            "type": "carpet"
           }
          ],
          "choropleth": [
           {
            "colorbar": {
             "outlinewidth": 0,
             "ticks": ""
            },
            "type": "choropleth"
           }
          ],
          "contour": [
           {
            "colorbar": {
             "outlinewidth": 0,
             "ticks": ""
            },
            "colorscale": [
             [
              0,
              "#0d0887"
             ],
             [
              0.1111111111111111,
              "#46039f"
             ],
             [
              0.2222222222222222,
              "#7201a8"
             ],
             [
              0.3333333333333333,
              "#9c179e"
             ],
             [
              0.4444444444444444,
              "#bd3786"
             ],
             [
              0.5555555555555556,
              "#d8576b"
             ],
             [
              0.6666666666666666,
              "#ed7953"
             ],
             [
              0.7777777777777778,
              "#fb9f3a"
             ],
             [
              0.8888888888888888,
              "#fdca26"
             ],
             [
              1,
              "#f0f921"
             ]
            ],
            "type": "contour"
           }
          ],
          "contourcarpet": [
           {
            "colorbar": {
             "outlinewidth": 0,
             "ticks": ""
            },
            "type": "contourcarpet"
           }
          ],
          "heatmap": [
           {
            "colorbar": {
             "outlinewidth": 0,
             "ticks": ""
            },
            "colorscale": [
             [
              0,
              "#0d0887"
             ],
             [
              0.1111111111111111,
              "#46039f"
             ],
             [
              0.2222222222222222,
              "#7201a8"
             ],
             [
              0.3333333333333333,
              "#9c179e"
             ],
             [
              0.4444444444444444,
              "#bd3786"
             ],
             [
              0.5555555555555556,
              "#d8576b"
             ],
             [
              0.6666666666666666,
              "#ed7953"
             ],
             [
              0.7777777777777778,
              "#fb9f3a"
             ],
             [
              0.8888888888888888,
              "#fdca26"
             ],
             [
              1,
              "#f0f921"
             ]
            ],
            "type": "heatmap"
           }
          ],
          "heatmapgl": [
           {
            "colorbar": {
             "outlinewidth": 0,
             "ticks": ""
            },
            "colorscale": [
             [
              0,
              "#0d0887"
             ],
             [
              0.1111111111111111,
              "#46039f"
             ],
             [
              0.2222222222222222,
              "#7201a8"
             ],
             [
              0.3333333333333333,
              "#9c179e"
             ],
             [
              0.4444444444444444,
              "#bd3786"
             ],
             [
              0.5555555555555556,
              "#d8576b"
             ],
             [
              0.6666666666666666,
              "#ed7953"
             ],
             [
              0.7777777777777778,
              "#fb9f3a"
             ],
             [
              0.8888888888888888,
              "#fdca26"
             ],
             [
              1,
              "#f0f921"
             ]
            ],
            "type": "heatmapgl"
           }
          ],
          "histogram": [
           {
            "marker": {
             "pattern": {
              "fillmode": "overlay",
              "size": 10,
              "solidity": 0.2
             }
            },
            "type": "histogram"
           }
          ],
          "histogram2d": [
           {
            "colorbar": {
             "outlinewidth": 0,
             "ticks": ""
            },
            "colorscale": [
             [
              0,
              "#0d0887"
             ],
             [
              0.1111111111111111,
              "#46039f"
             ],
             [
              0.2222222222222222,
              "#7201a8"
             ],
             [
              0.3333333333333333,
              "#9c179e"
             ],
             [
              0.4444444444444444,
              "#bd3786"
             ],
             [
              0.5555555555555556,
              "#d8576b"
             ],
             [
              0.6666666666666666,
              "#ed7953"
             ],
             [
              0.7777777777777778,
              "#fb9f3a"
             ],
             [
              0.8888888888888888,
              "#fdca26"
             ],
             [
              1,
              "#f0f921"
             ]
            ],
            "type": "histogram2d"
           }
          ],
          "histogram2dcontour": [
           {
            "colorbar": {
             "outlinewidth": 0,
             "ticks": ""
            },
            "colorscale": [
             [
              0,
              "#0d0887"
             ],
             [
              0.1111111111111111,
              "#46039f"
             ],
             [
              0.2222222222222222,
              "#7201a8"
             ],
             [
              0.3333333333333333,
              "#9c179e"
             ],
             [
              0.4444444444444444,
              "#bd3786"
             ],
             [
              0.5555555555555556,
              "#d8576b"
             ],
             [
              0.6666666666666666,
              "#ed7953"
             ],
             [
              0.7777777777777778,
              "#fb9f3a"
             ],
             [
              0.8888888888888888,
              "#fdca26"
             ],
             [
              1,
              "#f0f921"
             ]
            ],
            "type": "histogram2dcontour"
           }
          ],
          "mesh3d": [
           {
            "colorbar": {
             "outlinewidth": 0,
             "ticks": ""
            },
            "type": "mesh3d"
           }
          ],
          "parcoords": [
           {
            "line": {
             "colorbar": {
              "outlinewidth": 0,
              "ticks": ""
             }
            },
            "type": "parcoords"
           }
          ],
          "pie": [
           {
            "automargin": true,
            "type": "pie"
           }
          ],
          "scatter": [
           {
            "fillpattern": {
             "fillmode": "overlay",
             "size": 10,
             "solidity": 0.2
            },
            "type": "scatter"
           }
          ],
          "scatter3d": [
           {
            "line": {
             "colorbar": {
              "outlinewidth": 0,
              "ticks": ""
             }
            },
            "marker": {
             "colorbar": {
              "outlinewidth": 0,
              "ticks": ""
             }
            },
            "type": "scatter3d"
           }
          ],
          "scattercarpet": [
           {
            "marker": {
             "colorbar": {
              "outlinewidth": 0,
              "ticks": ""
             }
            },
            "type": "scattercarpet"
           }
          ],
          "scattergeo": [
           {
            "marker": {
             "colorbar": {
              "outlinewidth": 0,
              "ticks": ""
             }
            },
            "type": "scattergeo"
           }
          ],
          "scattergl": [
           {
            "marker": {
             "colorbar": {
              "outlinewidth": 0,
              "ticks": ""
             }
            },
            "type": "scattergl"
           }
          ],
          "scattermapbox": [
           {
            "marker": {
             "colorbar": {
              "outlinewidth": 0,
              "ticks": ""
             }
            },
            "type": "scattermapbox"
           }
          ],
          "scatterpolar": [
           {
            "marker": {
             "colorbar": {
              "outlinewidth": 0,
              "ticks": ""
             }
            },
            "type": "scatterpolar"
           }
          ],
          "scatterpolargl": [
           {
            "marker": {
             "colorbar": {
              "outlinewidth": 0,
              "ticks": ""
             }
            },
            "type": "scatterpolargl"
           }
          ],
          "scatterternary": [
           {
            "marker": {
             "colorbar": {
              "outlinewidth": 0,
              "ticks": ""
             }
            },
            "type": "scatterternary"
           }
          ],
          "surface": [
           {
            "colorbar": {
             "outlinewidth": 0,
             "ticks": ""
            },
            "colorscale": [
             [
              0,
              "#0d0887"
             ],
             [
              0.1111111111111111,
              "#46039f"
             ],
             [
              0.2222222222222222,
              "#7201a8"
             ],
             [
              0.3333333333333333,
              "#9c179e"
             ],
             [
              0.4444444444444444,
              "#bd3786"
             ],
             [
              0.5555555555555556,
              "#d8576b"
             ],
             [
              0.6666666666666666,
              "#ed7953"
             ],
             [
              0.7777777777777778,
              "#fb9f3a"
             ],
             [
              0.8888888888888888,
              "#fdca26"
             ],
             [
              1,
              "#f0f921"
             ]
            ],
            "type": "surface"
           }
          ],
          "table": [
           {
            "cells": {
             "fill": {
              "color": "#EBF0F8"
             },
             "line": {
              "color": "white"
             }
            },
            "header": {
             "fill": {
              "color": "#C8D4E3"
             },
             "line": {
              "color": "white"
             }
            },
            "type": "table"
           }
          ]
         },
         "layout": {
          "annotationdefaults": {
           "arrowcolor": "#2a3f5f",
           "arrowhead": 0,
           "arrowwidth": 1
          },
          "autotypenumbers": "strict",
          "coloraxis": {
           "colorbar": {
            "outlinewidth": 0,
            "ticks": ""
           }
          },
          "colorscale": {
           "diverging": [
            [
             0,
             "#8e0152"
            ],
            [
             0.1,
             "#c51b7d"
            ],
            [
             0.2,
             "#de77ae"
            ],
            [
             0.3,
             "#f1b6da"
            ],
            [
             0.4,
             "#fde0ef"
            ],
            [
             0.5,
             "#f7f7f7"
            ],
            [
             0.6,
             "#e6f5d0"
            ],
            [
             0.7,
             "#b8e186"
            ],
            [
             0.8,
             "#7fbc41"
            ],
            [
             0.9,
             "#4d9221"
            ],
            [
             1,
             "#276419"
            ]
           ],
           "sequential": [
            [
             0,
             "#0d0887"
            ],
            [
             0.1111111111111111,
             "#46039f"
            ],
            [
             0.2222222222222222,
             "#7201a8"
            ],
            [
             0.3333333333333333,
             "#9c179e"
            ],
            [
             0.4444444444444444,
             "#bd3786"
            ],
            [
             0.5555555555555556,
             "#d8576b"
            ],
            [
             0.6666666666666666,
             "#ed7953"
            ],
            [
             0.7777777777777778,
             "#fb9f3a"
            ],
            [
             0.8888888888888888,
             "#fdca26"
            ],
            [
             1,
             "#f0f921"
            ]
           ],
           "sequentialminus": [
            [
             0,
             "#0d0887"
            ],
            [
             0.1111111111111111,
             "#46039f"
            ],
            [
             0.2222222222222222,
             "#7201a8"
            ],
            [
             0.3333333333333333,
             "#9c179e"
            ],
            [
             0.4444444444444444,
             "#bd3786"
            ],
            [
             0.5555555555555556,
             "#d8576b"
            ],
            [
             0.6666666666666666,
             "#ed7953"
            ],
            [
             0.7777777777777778,
             "#fb9f3a"
            ],
            [
             0.8888888888888888,
             "#fdca26"
            ],
            [
             1,
             "#f0f921"
            ]
           ]
          },
          "colorway": [
           "#636efa",
           "#EF553B",
           "#00cc96",
           "#ab63fa",
           "#FFA15A",
           "#19d3f3",
           "#FF6692",
           "#B6E880",
           "#FF97FF",
           "#FECB52"
          ],
          "font": {
           "color": "#2a3f5f"
          },
          "geo": {
           "bgcolor": "white",
           "lakecolor": "white",
           "landcolor": "#E5ECF6",
           "showlakes": true,
           "showland": true,
           "subunitcolor": "white"
          },
          "hoverlabel": {
           "align": "left"
          },
          "hovermode": "closest",
          "mapbox": {
           "style": "light"
          },
          "paper_bgcolor": "white",
          "plot_bgcolor": "#E5ECF6",
          "polar": {
           "angularaxis": {
            "gridcolor": "white",
            "linecolor": "white",
            "ticks": ""
           },
           "bgcolor": "#E5ECF6",
           "radialaxis": {
            "gridcolor": "white",
            "linecolor": "white",
            "ticks": ""
           }
          },
          "scene": {
           "xaxis": {
            "backgroundcolor": "#E5ECF6",
            "gridcolor": "white",
            "gridwidth": 2,
            "linecolor": "white",
            "showbackground": true,
            "ticks": "",
            "zerolinecolor": "white"
           },
           "yaxis": {
            "backgroundcolor": "#E5ECF6",
            "gridcolor": "white",
            "gridwidth": 2,
            "linecolor": "white",
            "showbackground": true,
            "ticks": "",
            "zerolinecolor": "white"
           },
           "zaxis": {
            "backgroundcolor": "#E5ECF6",
            "gridcolor": "white",
            "gridwidth": 2,
            "linecolor": "white",
            "showbackground": true,
            "ticks": "",
            "zerolinecolor": "white"
           }
          },
          "shapedefaults": {
           "line": {
            "color": "#2a3f5f"
           }
          },
          "ternary": {
           "aaxis": {
            "gridcolor": "white",
            "linecolor": "white",
            "ticks": ""
           },
           "baxis": {
            "gridcolor": "white",
            "linecolor": "white",
            "ticks": ""
           },
           "bgcolor": "#E5ECF6",
           "caxis": {
            "gridcolor": "white",
            "linecolor": "white",
            "ticks": ""
           }
          },
          "title": {
           "x": 0.05
          },
          "xaxis": {
           "automargin": true,
           "gridcolor": "white",
           "linecolor": "white",
           "ticks": "",
           "title": {
            "standoff": 15
           },
           "zerolinecolor": "white",
           "zerolinewidth": 2
          },
          "yaxis": {
           "automargin": true,
           "gridcolor": "white",
           "linecolor": "white",
           "ticks": "",
           "title": {
            "standoff": 15
           },
           "zerolinecolor": "white",
           "zerolinewidth": 2
          }
         }
        },
        "title": {
         "text": "Execution Interval for '1-0-sense-temperature'"
        },
        "xaxis": {
         "color": "black",
         "gridcolor": "lightgrey",
         "linecolor": "black",
         "mirror": true,
         "rangeslider": {
          "visible": true
         },
         "showline": true,
         "tickfont": {
          "size": 20
         },
         "ticks": "outside",
         "title": {
          "font": {
           "size": 20
          },
          "text": "Number of events"
         },
         "type": "linear"
        },
        "yaxis": {
         "color": "black",
         "gridcolor": "lightgrey",
         "linecolor": "black",
         "mirror": true,
         "showline": true,
         "tickfont": {
          "size": 20
         },
         "ticks": "outside",
         "title": {
          "font": {
           "size": 20
          },
          "text": "Execution interval (ms)"
         }
        }
       }
      }
     },
     "metadata": {},
     "output_type": "display_data"
    },
    {
     "data": {
      "application/vnd.plotly.v1+json": {
       "config": {
        "plotlyServerURL": "https://plot.ly"
       },
       "data": [
        {
         "line": {
          "width": 0.5
         },
         "marker": {
          "color": "midnightblue",
          "size": 8
         },
         "mode": "lines+markers",
         "name": "trace_trial1",
         "showlegend": true,
         "type": "scatter",
         "x": [
          12,
          16,
          20,
          24,
          31,
          38,
          42,
          46,
          50,
          57,
          64,
          68,
          72,
          76,
          83,
          90,
          94,
          98,
          105,
          112,
          116,
          120,
          124,
          131,
          138,
          142,
          146,
          150,
          157,
          164,
          168,
          172,
          176,
          183,
          187,
          191,
          195,
          202,
          206,
          210,
          214,
          218,
          225,
          232,
          236,
          240,
          244,
          251,
          258,
          262,
          266,
          270,
          277,
          284,
          288,
          292,
          299,
          306,
          310,
          314,
          318,
          325,
          329,
          333,
          337,
          341,
          348,
          355,
          359,
          363,
          367,
          374,
          381,
          385,
          389,
          396,
          403,
          407,
          411,
          415,
          422,
          426,
          430,
          434,
          438,
          445,
          452,
          456,
          460,
          467,
          474,
          478,
          482,
          486,
          493,
          500,
          504,
          508,
          512,
          519,
          523,
          527,
          531,
          535,
          542,
          546,
          550,
          554,
          561,
          568,
          572,
          576,
          580,
          587,
          594,
          598,
          602,
          606,
          613,
          620,
          624,
          628,
          632,
          639,
          643,
          647,
          651,
          658,
          665,
          669,
          673,
          677,
          684,
          691,
          695,
          699,
          703,
          710,
          717,
          721,
          725,
          729,
          736,
          740,
          744,
          748,
          755,
          762,
          766,
          770,
          774,
          781,
          788,
          792,
          796,
          800,
          807,
          814,
          818,
          822,
          829,
          836,
          840,
          844,
          848,
          855,
          862,
          866,
          870,
          874,
          881,
          885,
          889,
          893,
          897,
          904,
          908,
          912,
          916,
          923,
          926,
          930,
          934,
          938,
          945,
          949,
          953,
          957,
          961,
          968,
          972,
          976,
          980,
          987,
          994,
          998,
          1002,
          1006,
          1013,
          1020,
          1024,
          1028,
          1032,
          1039,
          1046,
          1050,
          1054,
          1058,
          1065,
          1072,
          1076,
          1080,
          1087,
          1094,
          1098,
          1102,
          1106,
          1113,
          1117,
          1121,
          1125,
          1129,
          1136,
          1143,
          1147,
          1151,
          1155,
          1162,
          1169,
          1173,
          1177,
          1184,
          1191,
          1195,
          1199,
          1203,
          1210,
          1217,
          1221,
          1224,
          1231,
          1238,
          1242,
          1246,
          1250,
          1257,
          1264,
          1268,
          1272,
          1276,
          1283,
          1290,
          1294,
          1298,
          1302,
          1309,
          1316,
          1320,
          1324,
          1331,
          1338,
          1342,
          1346,
          1350,
          1357,
          1364,
          1368,
          1372,
          1376,
          1383,
          1390,
          1394,
          1398,
          1402,
          1409,
          1416,
          1420,
          1424,
          1431,
          1438,
          1442,
          1446,
          1450,
          1457,
          1464,
          1468,
          1472,
          1476,
          1483,
          1490,
          1494,
          1498,
          1505,
          1512,
          1516,
          1520,
          1524,
          1531,
          1538,
          1542,
          1546,
          1550,
          1557,
          1564,
          1568,
          1572,
          1576,
          1583,
          1590,
          1594,
          1598,
          1605,
          1609,
          1613,
          1617,
          1621,
          1628,
          1632,
          1636,
          1640,
          1644,
          1651,
          1658,
          1662,
          1666,
          1670,
          1677,
          1684,
          1688,
          1692,
          1699,
          1706,
          1710,
          1714,
          1718,
          1725,
          1732,
          1736,
          1740,
          1744,
          1751,
          1758,
          1762,
          1766,
          1770,
          1777,
          1784,
          1788,
          1792,
          1799,
          1806,
          1810,
          1814,
          1818,
          1825,
          1829,
          1833,
          1837,
          1841,
          1848,
          1855,
          1859,
          1863,
          1870,
          1877,
          1881,
          1885,
          1889,
          1896,
          1903,
          1907,
          1911,
          1915,
          1922,
          1929,
          1933,
          1937,
          1941,
          1948,
          1955,
          1959,
          1963,
          1970,
          1977,
          1981,
          1985,
          1989,
          1996,
          2003,
          2007,
          2011,
          2015,
          2022,
          2029,
          2033,
          2037,
          2041,
          2048,
          2055,
          2059,
          2063,
          2070,
          2076,
          2080,
          2084,
          2088,
          2095,
          2099,
          2103,
          2107,
          2114,
          2118,
          2122,
          2126,
          2130,
          2137,
          2144,
          2148,
          2152,
          2156,
          2163,
          2170,
          2174,
          2178,
          2182,
          2189,
          2193,
          2197,
          2201,
          2208,
          2215,
          2219,
          2223,
          2227,
          2234,
          2241,
          2245,
          2249,
          2253,
          2260,
          2267,
          2271,
          2275,
          2279,
          2286,
          2293,
          2297,
          2301,
          2308,
          2312,
          2316,
          2320,
          2324,
          2331,
          2338,
          2342,
          2346,
          2350,
          2357,
          2364,
          2368,
          2372,
          2379,
          2386,
          2390,
          2394,
          2398,
          2405,
          2409,
          2413,
          2417,
          2421,
          2428,
          2432,
          2436,
          2440,
          2444,
          2451,
          2458,
          2462,
          2466,
          2473,
          2480,
          2484,
          2488,
          2492,
          2499,
          2506,
          2510,
          2514,
          2518,
          2525,
          2532,
          2536,
          2540,
          2544,
          2551,
          2558,
          2562,
          2566
         ],
         "y": [
          1051,
          1051,
          1050,
          1051,
          1065,
          1063,
          1051,
          1051,
          1051,
          1064,
          1063,
          1050,
          1051,
          1051,
          1065,
          1063,
          1051,
          1051,
          1064,
          1065,
          1051,
          1051,
          1051,
          1065,
          1064,
          1050,
          1051,
          1051,
          1065,
          1064,
          1051,
          1051,
          1051,
          1065,
          1051,
          1051,
          1051,
          1064,
          1051,
          1051,
          1050,
          1051,
          1065,
          1064,
          1051,
          1051,
          1051,
          1065,
          1064,
          1051,
          1051,
          1051,
          1065,
          1064,
          1051,
          1051,
          1064,
          1065,
          1051,
          1051,
          1051,
          1065,
          1051,
          1051,
          1051,
          1051,
          1065,
          1064,
          1051,
          1051,
          1051,
          1066,
          1064,
          1051,
          1051,
          1065,
          1064,
          1051,
          1052,
          1051,
          1065,
          1051,
          1051,
          1051,
          1052,
          1066,
          1064,
          1051,
          1051,
          1065,
          1066,
          1051,
          1051,
          1051,
          1066,
          1064,
          1051,
          1051,
          1051,
          1065,
          1051,
          1051,
          1051,
          1051,
          1065,
          1050,
          1051,
          1051,
          1065,
          1065,
          1051,
          1051,
          1051,
          1065,
          1066,
          1051,
          1051,
          1051,
          1065,
          1066,
          1050,
          1052,
          1052,
          1065,
          1051,
          1051,
          1050,
          1065,
          1066,
          1051,
          1051,
          1051,
          1065,
          1065,
          1051,
          1051,
          1051,
          1065,
          1065,
          1052,
          1050,
          1051,
          1065,
          1051,
          1051,
          1051,
          1065,
          1065,
          1051,
          1052,
          1051,
          1064,
          1064,
          1052,
          1051,
          1051,
          1065,
          1066,
          1052,
          1051,
          1065,
          1065,
          1051,
          1051,
          1051,
          1066,
          1065,
          1051,
          1052,
          1051,
          1064,
          1050,
          1052,
          1051,
          1051,
          1066,
          1052,
          1050,
          1051,
          1066,
          1305,
          1051,
          1051,
          1051,
          1065,
          1051,
          1051,
          1050,
          1052,
          1065,
          1051,
          1051,
          1051,
          1065,
          1068,
          1051,
          1051,
          1050,
          1065,
          1067,
          1051,
          1051,
          1051,
          1066,
          1068,
          1053,
          1050,
          1052,
          1065,
          1066,
          1051,
          1051,
          1065,
          1069,
          1051,
          1051,
          1051,
          1066,
          1051,
          1051,
          1052,
          1051,
          1065,
          1066,
          1052,
          1051,
          1051,
          1064,
          1066,
          1052,
          1051,
          1064,
          1067,
          1053,
          1050,
          1051,
          1065,
          1066,
          1053,
          1312,
          1065,
          1066,
          1051,
          1052,
          1051,
          1065,
          1066,
          1051,
          1052,
          1051,
          1064,
          1068,
          1051,
          1051,
          1051,
          1064,
          1069,
          1051,
          1051,
          1065,
          1067,
          1052,
          1050,
          1051,
          1065,
          1066,
          1052,
          1051,
          1051,
          1064,
          1068,
          1051,
          1051,
          1052,
          1067,
          1066,
          1051,
          1051,
          1066,
          1067,
          1051,
          1051,
          1052,
          1066,
          1068,
          1051,
          1051,
          1051,
          1065,
          1068,
          1051,
          1051,
          1065,
          1067,
          1054,
          1050,
          1051,
          1064,
          1066,
          1051,
          1051,
          1051,
          1066,
          1068,
          1051,
          1051,
          1051,
          1068,
          1066,
          1051,
          1051,
          1067,
          1050,
          1051,
          1051,
          1051,
          1066,
          1052,
          1052,
          1050,
          1051,
          1064,
          1068,
          1053,
          1051,
          1051,
          1065,
          1067,
          1052,
          1053,
          1065,
          1069,
          1051,
          1051,
          1053,
          1065,
          1069,
          1051,
          1051,
          1051,
          1065,
          1070,
          1051,
          1051,
          1051,
          1064,
          1068,
          1051,
          1053,
          1065,
          1069,
          1051,
          1051,
          1052,
          1067,
          1052,
          1053,
          1050,
          1051,
          1065,
          1068,
          1051,
          1053,
          1065,
          1070,
          1052,
          1053,
          1050,
          1065,
          1069,
          1051,
          1051,
          1051,
          1065,
          1071,
          1051,
          1051,
          1051,
          1066,
          1070,
          1051,
          1051,
          1067,
          1069,
          1051,
          1050,
          1051,
          1065,
          1074,
          1051,
          1051,
          1051,
          1065,
          1070,
          1052,
          1051,
          1052,
          1064,
          1070,
          1050,
          1051,
          1066,
          1316,
          1052,
          1051,
          1051,
          1065,
          1051,
          1051,
          1054,
          1064,
          1051,
          1051,
          1052,
          1051,
          1068,
          1070,
          1051,
          1054,
          1052,
          1064,
          1071,
          1052,
          1052,
          1054,
          1065,
          1051,
          1051,
          1052,
          1065,
          1072,
          1051,
          1051,
          1054,
          1065,
          1071,
          1051,
          1051,
          1051,
          1065,
          1072,
          1053,
          1052,
          1052,
          1065,
          1071,
          1051,
          1054,
          1066,
          1052,
          1050,
          1051,
          1051,
          1065,
          1076,
          1052,
          1051,
          1051,
          1065,
          1072,
          1050,
          1050,
          1065,
          1076,
          1052,
          1050,
          1051,
          1066,
          1051,
          1052,
          1051,
          1051,
          1068,
          1053,
          1052,
          1051,
          1050,
          1065,
          1075,
          1051,
          1052,
          1064,
          1077,
          1052,
          1052,
          1050,
          1065,
          1075,
          1056,
          1052,
          1051,
          1065,
          1075,
          1053,
          1051,
          1051,
          1065,
          1076,
          1052,
          1056
         ]
        }
       ],
       "layout": {
        "autosize": true,
        "plot_bgcolor": "rgba(0,0,0,0)",
        "template": {
         "data": {
          "bar": [
           {
            "error_x": {
             "color": "#2a3f5f"
            },
            "error_y": {
             "color": "#2a3f5f"
            },
            "marker": {
             "line": {
              "color": "#E5ECF6",
              "width": 0.5
             },
             "pattern": {
              "fillmode": "overlay",
              "size": 10,
              "solidity": 0.2
             }
            },
            "type": "bar"
           }
          ],
          "barpolar": [
           {
            "marker": {
             "line": {
              "color": "#E5ECF6",
              "width": 0.5
             },
             "pattern": {
              "fillmode": "overlay",
              "size": 10,
              "solidity": 0.2
             }
            },
            "type": "barpolar"
           }
          ],
          "carpet": [
           {
            "aaxis": {
             "endlinecolor": "#2a3f5f",
             "gridcolor": "white",
             "linecolor": "white",
             "minorgridcolor": "white",
             "startlinecolor": "#2a3f5f"
            },
            "baxis": {
             "endlinecolor": "#2a3f5f",
             "gridcolor": "white",
             "linecolor": "white",
             "minorgridcolor": "white",
             "startlinecolor": "#2a3f5f"
            },
            "type": "carpet"
           }
          ],
          "choropleth": [
           {
            "colorbar": {
             "outlinewidth": 0,
             "ticks": ""
            },
            "type": "choropleth"
           }
          ],
          "contour": [
           {
            "colorbar": {
             "outlinewidth": 0,
             "ticks": ""
            },
            "colorscale": [
             [
              0,
              "#0d0887"
             ],
             [
              0.1111111111111111,
              "#46039f"
             ],
             [
              0.2222222222222222,
              "#7201a8"
             ],
             [
              0.3333333333333333,
              "#9c179e"
             ],
             [
              0.4444444444444444,
              "#bd3786"
             ],
             [
              0.5555555555555556,
              "#d8576b"
             ],
             [
              0.6666666666666666,
              "#ed7953"
             ],
             [
              0.7777777777777778,
              "#fb9f3a"
             ],
             [
              0.8888888888888888,
              "#fdca26"
             ],
             [
              1,
              "#f0f921"
             ]
            ],
            "type": "contour"
           }
          ],
          "contourcarpet": [
           {
            "colorbar": {
             "outlinewidth": 0,
             "ticks": ""
            },
            "type": "contourcarpet"
           }
          ],
          "heatmap": [
           {
            "colorbar": {
             "outlinewidth": 0,
             "ticks": ""
            },
            "colorscale": [
             [
              0,
              "#0d0887"
             ],
             [
              0.1111111111111111,
              "#46039f"
             ],
             [
              0.2222222222222222,
              "#7201a8"
             ],
             [
              0.3333333333333333,
              "#9c179e"
             ],
             [
              0.4444444444444444,
              "#bd3786"
             ],
             [
              0.5555555555555556,
              "#d8576b"
             ],
             [
              0.6666666666666666,
              "#ed7953"
             ],
             [
              0.7777777777777778,
              "#fb9f3a"
             ],
             [
              0.8888888888888888,
              "#fdca26"
             ],
             [
              1,
              "#f0f921"
             ]
            ],
            "type": "heatmap"
           }
          ],
          "heatmapgl": [
           {
            "colorbar": {
             "outlinewidth": 0,
             "ticks": ""
            },
            "colorscale": [
             [
              0,
              "#0d0887"
             ],
             [
              0.1111111111111111,
              "#46039f"
             ],
             [
              0.2222222222222222,
              "#7201a8"
             ],
             [
              0.3333333333333333,
              "#9c179e"
             ],
             [
              0.4444444444444444,
              "#bd3786"
             ],
             [
              0.5555555555555556,
              "#d8576b"
             ],
             [
              0.6666666666666666,
              "#ed7953"
             ],
             [
              0.7777777777777778,
              "#fb9f3a"
             ],
             [
              0.8888888888888888,
              "#fdca26"
             ],
             [
              1,
              "#f0f921"
             ]
            ],
            "type": "heatmapgl"
           }
          ],
          "histogram": [
           {
            "marker": {
             "pattern": {
              "fillmode": "overlay",
              "size": 10,
              "solidity": 0.2
             }
            },
            "type": "histogram"
           }
          ],
          "histogram2d": [
           {
            "colorbar": {
             "outlinewidth": 0,
             "ticks": ""
            },
            "colorscale": [
             [
              0,
              "#0d0887"
             ],
             [
              0.1111111111111111,
              "#46039f"
             ],
             [
              0.2222222222222222,
              "#7201a8"
             ],
             [
              0.3333333333333333,
              "#9c179e"
             ],
             [
              0.4444444444444444,
              "#bd3786"
             ],
             [
              0.5555555555555556,
              "#d8576b"
             ],
             [
              0.6666666666666666,
              "#ed7953"
             ],
             [
              0.7777777777777778,
              "#fb9f3a"
             ],
             [
              0.8888888888888888,
              "#fdca26"
             ],
             [
              1,
              "#f0f921"
             ]
            ],
            "type": "histogram2d"
           }
          ],
          "histogram2dcontour": [
           {
            "colorbar": {
             "outlinewidth": 0,
             "ticks": ""
            },
            "colorscale": [
             [
              0,
              "#0d0887"
             ],
             [
              0.1111111111111111,
              "#46039f"
             ],
             [
              0.2222222222222222,
              "#7201a8"
             ],
             [
              0.3333333333333333,
              "#9c179e"
             ],
             [
              0.4444444444444444,
              "#bd3786"
             ],
             [
              0.5555555555555556,
              "#d8576b"
             ],
             [
              0.6666666666666666,
              "#ed7953"
             ],
             [
              0.7777777777777778,
              "#fb9f3a"
             ],
             [
              0.8888888888888888,
              "#fdca26"
             ],
             [
              1,
              "#f0f921"
             ]
            ],
            "type": "histogram2dcontour"
           }
          ],
          "mesh3d": [
           {
            "colorbar": {
             "outlinewidth": 0,
             "ticks": ""
            },
            "type": "mesh3d"
           }
          ],
          "parcoords": [
           {
            "line": {
             "colorbar": {
              "outlinewidth": 0,
              "ticks": ""
             }
            },
            "type": "parcoords"
           }
          ],
          "pie": [
           {
            "automargin": true,
            "type": "pie"
           }
          ],
          "scatter": [
           {
            "fillpattern": {
             "fillmode": "overlay",
             "size": 10,
             "solidity": 0.2
            },
            "type": "scatter"
           }
          ],
          "scatter3d": [
           {
            "line": {
             "colorbar": {
              "outlinewidth": 0,
              "ticks": ""
             }
            },
            "marker": {
             "colorbar": {
              "outlinewidth": 0,
              "ticks": ""
             }
            },
            "type": "scatter3d"
           }
          ],
          "scattercarpet": [
           {
            "marker": {
             "colorbar": {
              "outlinewidth": 0,
              "ticks": ""
             }
            },
            "type": "scattercarpet"
           }
          ],
          "scattergeo": [
           {
            "marker": {
             "colorbar": {
              "outlinewidth": 0,
              "ticks": ""
             }
            },
            "type": "scattergeo"
           }
          ],
          "scattergl": [
           {
            "marker": {
             "colorbar": {
              "outlinewidth": 0,
              "ticks": ""
             }
            },
            "type": "scattergl"
           }
          ],
          "scattermapbox": [
           {
            "marker": {
             "colorbar": {
              "outlinewidth": 0,
              "ticks": ""
             }
            },
            "type": "scattermapbox"
           }
          ],
          "scatterpolar": [
           {
            "marker": {
             "colorbar": {
              "outlinewidth": 0,
              "ticks": ""
             }
            },
            "type": "scatterpolar"
           }
          ],
          "scatterpolargl": [
           {
            "marker": {
             "colorbar": {
              "outlinewidth": 0,
              "ticks": ""
             }
            },
            "type": "scatterpolargl"
           }
          ],
          "scatterternary": [
           {
            "marker": {
             "colorbar": {
              "outlinewidth": 0,
              "ticks": ""
             }
            },
            "type": "scatterternary"
           }
          ],
          "surface": [
           {
            "colorbar": {
             "outlinewidth": 0,
             "ticks": ""
            },
            "colorscale": [
             [
              0,
              "#0d0887"
             ],
             [
              0.1111111111111111,
              "#46039f"
             ],
             [
              0.2222222222222222,
              "#7201a8"
             ],
             [
              0.3333333333333333,
              "#9c179e"
             ],
             [
              0.4444444444444444,
              "#bd3786"
             ],
             [
              0.5555555555555556,
              "#d8576b"
             ],
             [
              0.6666666666666666,
              "#ed7953"
             ],
             [
              0.7777777777777778,
              "#fb9f3a"
             ],
             [
              0.8888888888888888,
              "#fdca26"
             ],
             [
              1,
              "#f0f921"
             ]
            ],
            "type": "surface"
           }
          ],
          "table": [
           {
            "cells": {
             "fill": {
              "color": "#EBF0F8"
             },
             "line": {
              "color": "white"
             }
            },
            "header": {
             "fill": {
              "color": "#C8D4E3"
             },
             "line": {
              "color": "white"
             }
            },
            "type": "table"
           }
          ]
         },
         "layout": {
          "annotationdefaults": {
           "arrowcolor": "#2a3f5f",
           "arrowhead": 0,
           "arrowwidth": 1
          },
          "autotypenumbers": "strict",
          "coloraxis": {
           "colorbar": {
            "outlinewidth": 0,
            "ticks": ""
           }
          },
          "colorscale": {
           "diverging": [
            [
             0,
             "#8e0152"
            ],
            [
             0.1,
             "#c51b7d"
            ],
            [
             0.2,
             "#de77ae"
            ],
            [
             0.3,
             "#f1b6da"
            ],
            [
             0.4,
             "#fde0ef"
            ],
            [
             0.5,
             "#f7f7f7"
            ],
            [
             0.6,
             "#e6f5d0"
            ],
            [
             0.7,
             "#b8e186"
            ],
            [
             0.8,
             "#7fbc41"
            ],
            [
             0.9,
             "#4d9221"
            ],
            [
             1,
             "#276419"
            ]
           ],
           "sequential": [
            [
             0,
             "#0d0887"
            ],
            [
             0.1111111111111111,
             "#46039f"
            ],
            [
             0.2222222222222222,
             "#7201a8"
            ],
            [
             0.3333333333333333,
             "#9c179e"
            ],
            [
             0.4444444444444444,
             "#bd3786"
            ],
            [
             0.5555555555555556,
             "#d8576b"
            ],
            [
             0.6666666666666666,
             "#ed7953"
            ],
            [
             0.7777777777777778,
             "#fb9f3a"
            ],
            [
             0.8888888888888888,
             "#fdca26"
            ],
            [
             1,
             "#f0f921"
            ]
           ],
           "sequentialminus": [
            [
             0,
             "#0d0887"
            ],
            [
             0.1111111111111111,
             "#46039f"
            ],
            [
             0.2222222222222222,
             "#7201a8"
            ],
            [
             0.3333333333333333,
             "#9c179e"
            ],
            [
             0.4444444444444444,
             "#bd3786"
            ],
            [
             0.5555555555555556,
             "#d8576b"
            ],
            [
             0.6666666666666666,
             "#ed7953"
            ],
            [
             0.7777777777777778,
             "#fb9f3a"
            ],
            [
             0.8888888888888888,
             "#fdca26"
            ],
            [
             1,
             "#f0f921"
            ]
           ]
          },
          "colorway": [
           "#636efa",
           "#EF553B",
           "#00cc96",
           "#ab63fa",
           "#FFA15A",
           "#19d3f3",
           "#FF6692",
           "#B6E880",
           "#FF97FF",
           "#FECB52"
          ],
          "font": {
           "color": "#2a3f5f"
          },
          "geo": {
           "bgcolor": "white",
           "lakecolor": "white",
           "landcolor": "#E5ECF6",
           "showlakes": true,
           "showland": true,
           "subunitcolor": "white"
          },
          "hoverlabel": {
           "align": "left"
          },
          "hovermode": "closest",
          "mapbox": {
           "style": "light"
          },
          "paper_bgcolor": "white",
          "plot_bgcolor": "#E5ECF6",
          "polar": {
           "angularaxis": {
            "gridcolor": "white",
            "linecolor": "white",
            "ticks": ""
           },
           "bgcolor": "#E5ECF6",
           "radialaxis": {
            "gridcolor": "white",
            "linecolor": "white",
            "ticks": ""
           }
          },
          "scene": {
           "xaxis": {
            "backgroundcolor": "#E5ECF6",
            "gridcolor": "white",
            "gridwidth": 2,
            "linecolor": "white",
            "showbackground": true,
            "ticks": "",
            "zerolinecolor": "white"
           },
           "yaxis": {
            "backgroundcolor": "#E5ECF6",
            "gridcolor": "white",
            "gridwidth": 2,
            "linecolor": "white",
            "showbackground": true,
            "ticks": "",
            "zerolinecolor": "white"
           },
           "zaxis": {
            "backgroundcolor": "#E5ECF6",
            "gridcolor": "white",
            "gridwidth": 2,
            "linecolor": "white",
            "showbackground": true,
            "ticks": "",
            "zerolinecolor": "white"
           }
          },
          "shapedefaults": {
           "line": {
            "color": "#2a3f5f"
           }
          },
          "ternary": {
           "aaxis": {
            "gridcolor": "white",
            "linecolor": "white",
            "ticks": ""
           },
           "baxis": {
            "gridcolor": "white",
            "linecolor": "white",
            "ticks": ""
           },
           "bgcolor": "#E5ECF6",
           "caxis": {
            "gridcolor": "white",
            "linecolor": "white",
            "ticks": ""
           }
          },
          "title": {
           "x": 0.05
          },
          "xaxis": {
           "automargin": true,
           "gridcolor": "white",
           "linecolor": "white",
           "ticks": "",
           "title": {
            "standoff": 15
           },
           "zerolinecolor": "white",
           "zerolinewidth": 2
          },
          "yaxis": {
           "automargin": true,
           "gridcolor": "white",
           "linecolor": "white",
           "ticks": "",
           "title": {
            "standoff": 15
           },
           "zerolinecolor": "white",
           "zerolinewidth": 2
          }
         }
        },
        "title": {
         "text": "Execution Interval for '1-0-main-temperature'"
        },
        "xaxis": {
         "color": "black",
         "gridcolor": "lightgrey",
         "linecolor": "black",
         "mirror": true,
         "rangeslider": {
          "visible": true
         },
         "showline": true,
         "tickfont": {
          "size": 20
         },
         "ticks": "outside",
         "title": {
          "font": {
           "size": 20
          },
          "text": "Number of events"
         },
         "type": "linear"
        },
        "yaxis": {
         "color": "black",
         "gridcolor": "lightgrey",
         "linecolor": "black",
         "mirror": true,
         "showline": true,
         "tickfont": {
          "size": 20
         },
         "ticks": "outside",
         "title": {
          "font": {
           "size": 20
          },
          "text": "Execution interval (ms)"
         }
        }
       }
      }
     },
     "metadata": {},
     "output_type": "display_data"
    },
    {
     "data": {
      "application/vnd.plotly.v1+json": {
       "config": {
        "plotlyServerURL": "https://plot.ly"
       },
       "data": [
        {
         "line": {
          "width": 0.5
         },
         "marker": {
          "color": "midnightblue",
          "size": 8
         },
         "mode": "lines+markers",
         "name": "trace_trial1",
         "showlegend": true,
         "type": "scatter",
         "x": [
          13,
          17,
          21,
          25,
          32,
          39,
          43,
          47,
          51,
          58,
          65,
          69,
          73,
          77,
          84,
          91,
          95,
          99,
          106,
          113,
          117,
          121,
          125,
          132,
          139,
          143,
          147,
          151,
          158,
          165,
          169,
          173,
          177,
          184,
          188,
          192,
          196,
          203,
          207,
          211,
          215,
          219,
          226,
          233,
          237,
          241,
          245,
          252,
          259,
          263,
          267,
          271,
          278,
          285,
          289,
          293,
          300,
          307,
          311,
          315,
          319,
          326,
          330,
          334,
          338,
          342,
          349,
          356,
          360,
          364,
          368,
          375,
          382,
          386,
          390,
          397,
          404,
          408,
          412,
          416,
          423,
          427,
          431,
          435,
          439,
          446,
          453,
          457,
          461,
          468,
          475,
          479,
          483,
          487,
          494,
          501,
          505,
          509,
          513,
          520,
          524,
          528,
          532,
          536,
          543,
          547,
          551,
          555,
          562,
          569,
          573,
          577,
          581,
          588,
          595,
          599,
          603,
          607,
          614,
          621,
          625,
          629,
          633,
          640,
          644,
          648,
          652,
          659,
          666,
          670,
          674,
          678,
          685,
          692,
          696,
          700,
          704,
          711,
          718,
          722,
          726,
          730,
          737,
          741,
          745,
          749,
          756,
          763,
          767,
          771,
          775,
          782,
          789,
          793,
          797,
          801,
          808,
          815,
          819,
          823,
          830,
          837,
          841,
          845,
          849,
          856,
          863,
          867,
          871,
          875,
          882,
          886,
          890,
          894,
          898,
          905,
          909,
          913,
          917,
          927,
          931,
          935,
          939,
          946,
          950,
          954,
          958,
          962,
          969,
          973,
          977,
          981,
          988,
          995,
          999,
          1003,
          1007,
          1014,
          1021,
          1025,
          1029,
          1033,
          1040,
          1047,
          1051,
          1055,
          1059,
          1066,
          1073,
          1077,
          1081,
          1088,
          1095,
          1099,
          1103,
          1107,
          1114,
          1118,
          1122,
          1126,
          1130,
          1137,
          1144,
          1148,
          1152,
          1156,
          1163,
          1170,
          1174,
          1178,
          1185,
          1192,
          1196,
          1200,
          1204,
          1211,
          1218,
          1225,
          1232,
          1239,
          1243,
          1247,
          1251,
          1258,
          1265,
          1269,
          1273,
          1277,
          1284,
          1291,
          1295,
          1299,
          1303,
          1310,
          1317,
          1321,
          1325,
          1332,
          1339,
          1343,
          1347,
          1351,
          1358,
          1365,
          1369,
          1373,
          1377,
          1384,
          1391,
          1395,
          1399,
          1403,
          1410,
          1417,
          1421,
          1425,
          1432,
          1439,
          1443,
          1447,
          1451,
          1458,
          1465,
          1469,
          1473,
          1477,
          1484,
          1491,
          1495,
          1499,
          1506,
          1513,
          1517,
          1521,
          1525,
          1532,
          1539,
          1543,
          1547,
          1551,
          1558,
          1565,
          1569,
          1573,
          1577,
          1584,
          1591,
          1595,
          1599,
          1606,
          1610,
          1614,
          1618,
          1622,
          1629,
          1633,
          1637,
          1641,
          1645,
          1652,
          1659,
          1663,
          1667,
          1671,
          1678,
          1685,
          1689,
          1693,
          1700,
          1707,
          1711,
          1715,
          1719,
          1726,
          1733,
          1737,
          1741,
          1745,
          1752,
          1759,
          1763,
          1767,
          1771,
          1778,
          1785,
          1789,
          1793,
          1800,
          1807,
          1811,
          1815,
          1819,
          1826,
          1830,
          1834,
          1838,
          1842,
          1849,
          1856,
          1860,
          1864,
          1871,
          1878,
          1882,
          1886,
          1890,
          1897,
          1904,
          1908,
          1912,
          1916,
          1923,
          1930,
          1934,
          1938,
          1942,
          1949,
          1956,
          1960,
          1964,
          1971,
          1978,
          1982,
          1986,
          1990,
          1997,
          2004,
          2008,
          2012,
          2016,
          2023,
          2030,
          2034,
          2038,
          2042,
          2049,
          2056,
          2060,
          2064,
          2077,
          2081,
          2085,
          2089,
          2096,
          2100,
          2104,
          2108,
          2115,
          2119,
          2123,
          2127,
          2131,
          2138,
          2145,
          2149,
          2153,
          2157,
          2164,
          2171,
          2175,
          2179,
          2183,
          2190,
          2194,
          2198,
          2202,
          2209,
          2216,
          2220,
          2224,
          2228,
          2235,
          2242,
          2246,
          2250,
          2254,
          2261,
          2268,
          2272,
          2276,
          2280,
          2287,
          2294,
          2298,
          2302,
          2309,
          2313,
          2317,
          2321,
          2325,
          2332,
          2339,
          2343,
          2347,
          2351,
          2358,
          2365,
          2369,
          2373,
          2380,
          2387,
          2391,
          2395,
          2399,
          2406,
          2410,
          2414,
          2418,
          2422,
          2429,
          2433,
          2437,
          2441,
          2445,
          2452,
          2459,
          2463,
          2467,
          2474,
          2481,
          2485,
          2489,
          2493,
          2500,
          2507,
          2511,
          2515,
          2519,
          2526,
          2533,
          2537,
          2541,
          2545,
          2552,
          2559,
          2563,
          2567
         ],
         "y": [
          1051,
          1050,
          1051,
          1051,
          1064,
          1064,
          1050,
          1051,
          1052,
          1064,
          1062,
          1051,
          1051,
          1051,
          1064,
          1064,
          1051,
          1051,
          1064,
          1065,
          1050,
          1051,
          1052,
          1065,
          1063,
          1050,
          1051,
          1052,
          1065,
          1064,
          1050,
          1051,
          1052,
          1065,
          1050,
          1051,
          1051,
          1065,
          1050,
          1051,
          1051,
          1050,
          1066,
          1064,
          1050,
          1052,
          1051,
          1064,
          1065,
          1051,
          1051,
          1051,
          1064,
          1065,
          1051,
          1051,
          1064,
          1064,
          1052,
          1051,
          1050,
          1066,
          1051,
          1051,
          1051,
          1051,
          1064,
          1064,
          1052,
          1050,
          1052,
          1065,
          1065,
          1051,
          1051,
          1065,
          1063,
          1051,
          1052,
          1051,
          1066,
          1050,
          1052,
          1051,
          1052,
          1066,
          1064,
          1050,
          1052,
          1065,
          1066,
          1051,
          1050,
          1052,
          1066,
          1064,
          1051,
          1050,
          1052,
          1065,
          1051,
          1051,
          1050,
          1052,
          1064,
          1050,
          1052,
          1051,
          1065,
          1065,
          1050,
          1052,
          1051,
          1065,
          1065,
          1051,
          1051,
          1051,
          1066,
          1065,
          1050,
          1053,
          1052,
          1065,
          1050,
          1051,
          1051,
          1064,
          1067,
          1051,
          1050,
          1051,
          1066,
          1065,
          1051,
          1051,
          1051,
          1065,
          1065,
          1051,
          1050,
          1052,
          1064,
          1052,
          1051,
          1050,
          1065,
          1066,
          1051,
          1052,
          1050,
          1064,
          1064,
          1053,
          1051,
          1050,
          1066,
          1065,
          1052,
          1052,
          1065,
          1064,
          1052,
          1051,
          1051,
          1066,
          1064,
          1051,
          1053,
          1050,
          1064,
          1050,
          1053,
          1051,
          1051,
          1066,
          1051,
          1051,
          1051,
          2370,
          1052,
          1050,
          1052,
          1064,
          1052,
          1050,
          1050,
          1053,
          1064,
          1051,
          1051,
          1052,
          1065,
          1068,
          1050,
          1051,
          1051,
          1065,
          1067,
          1050,
          1052,
          1051,
          1066,
          1068,
          1052,
          1050,
          1052,
          1066,
          1065,
          1051,
          1051,
          1066,
          1069,
          1050,
          1052,
          1051,
          1066,
          1051,
          1050,
          1053,
          1051,
          1064,
          1067,
          1052,
          1050,
          1051,
          1064,
          1068,
          1050,
          1051,
          1064,
          1067,
          1053,
          1051,
          1051,
          1065,
          1066,
          2365,
          1064,
          1067,
          1051,
          1052,
          1050,
          1065,
          1067,
          1050,
          1053,
          1051,
          1064,
          1068,
          1050,
          1052,
          1050,
          1065,
          1068,
          1052,
          1051,
          1064,
          1067,
          1052,
          1050,
          1052,
          1064,
          1068,
          1050,
          1051,
          1052,
          1064,
          1067,
          1052,
          1051,
          1052,
          1067,
          1066,
          1051,
          1050,
          1067,
          1067,
          1050,
          1052,
          1052,
          1066,
          1068,
          1050,
          1051,
          1052,
          1065,
          1068,
          1050,
          1051,
          1066,
          1067,
          1053,
          1050,
          1051,
          1065,
          1066,
          1050,
          1051,
          1052,
          1066,
          1068,
          1051,
          1050,
          1052,
          1067,
          1067,
          1051,
          1050,
          1067,
          1050,
          1052,
          1051,
          1051,
          1065,
          1052,
          1052,
          1051,
          1051,
          1064,
          1068,
          1053,
          1051,
          1050,
          1065,
          1067,
          1053,
          1053,
          1065,
          1068,
          1052,
          1053,
          1051,
          1064,
          1070,
          1050,
          1052,
          1051,
          1065,
          1070,
          1050,
          1052,
          1051,
          1064,
          1068,
          1050,
          1054,
          1065,
          1068,
          1052,
          1051,
          1052,
          1067,
          1052,
          1052,
          1051,
          1051,
          1064,
          1068,
          1053,
          1051,
          1066,
          1069,
          1052,
          1053,
          1050,
          1066,
          1069,
          1050,
          1052,
          1051,
          1065,
          1070,
          1052,
          1050,
          1052,
          1066,
          1069,
          1052,
          1051,
          1067,
          1069,
          1050,
          1050,
          1052,
          1065,
          1073,
          1051,
          1051,
          1051,
          1065,
          1072,
          1050,
          1052,
          1051,
          1064,
          1070,
          1050,
          1051,
          2383,
          1052,
          1051,
          1050,
          1066,
          1050,
          1052,
          1053,
          1065,
          1050,
          1052,
          1052,
          1051,
          1067,
          1071,
          1051,
          1054,
          1051,
          1064,
          1072,
          1052,
          1052,
          1054,
          1065,
          1050,
          1051,
          1053,
          1065,
          1072,
          1051,
          1050,
          1055,
          1065,
          1071,
          1050,
          1052,
          1051,
          1065,
          1072,
          1053,
          1051,
          1053,
          1065,
          1071,
          1051,
          1053,
          1067,
          1051,
          1051,
          1051,
          1050,
          1066,
          1076,
          1051,
          1052,
          1050,
          1066,
          1071,
          1050,
          1051,
          1065,
          1076,
          1051,
          1051,
          1051,
          1065,
          1052,
          1052,
          1050,
          1052,
          1068,
          1053,
          1051,
          1051,
          1051,
          1065,
          1075,
          1050,
          1052,
          1065,
          1077,
          1052,
          1051,
          1050,
          1066,
          1075,
          1056,
          1052,
          1051,
          1065,
          1074,
          1053,
          1052,
          1051,
          1065,
          1076,
          1053,
          1055
         ]
        }
       ],
       "layout": {
        "autosize": true,
        "plot_bgcolor": "rgba(0,0,0,0)",
        "template": {
         "data": {
          "bar": [
           {
            "error_x": {
             "color": "#2a3f5f"
            },
            "error_y": {
             "color": "#2a3f5f"
            },
            "marker": {
             "line": {
              "color": "#E5ECF6",
              "width": 0.5
             },
             "pattern": {
              "fillmode": "overlay",
              "size": 10,
              "solidity": 0.2
             }
            },
            "type": "bar"
           }
          ],
          "barpolar": [
           {
            "marker": {
             "line": {
              "color": "#E5ECF6",
              "width": 0.5
             },
             "pattern": {
              "fillmode": "overlay",
              "size": 10,
              "solidity": 0.2
             }
            },
            "type": "barpolar"
           }
          ],
          "carpet": [
           {
            "aaxis": {
             "endlinecolor": "#2a3f5f",
             "gridcolor": "white",
             "linecolor": "white",
             "minorgridcolor": "white",
             "startlinecolor": "#2a3f5f"
            },
            "baxis": {
             "endlinecolor": "#2a3f5f",
             "gridcolor": "white",
             "linecolor": "white",
             "minorgridcolor": "white",
             "startlinecolor": "#2a3f5f"
            },
            "type": "carpet"
           }
          ],
          "choropleth": [
           {
            "colorbar": {
             "outlinewidth": 0,
             "ticks": ""
            },
            "type": "choropleth"
           }
          ],
          "contour": [
           {
            "colorbar": {
             "outlinewidth": 0,
             "ticks": ""
            },
            "colorscale": [
             [
              0,
              "#0d0887"
             ],
             [
              0.1111111111111111,
              "#46039f"
             ],
             [
              0.2222222222222222,
              "#7201a8"
             ],
             [
              0.3333333333333333,
              "#9c179e"
             ],
             [
              0.4444444444444444,
              "#bd3786"
             ],
             [
              0.5555555555555556,
              "#d8576b"
             ],
             [
              0.6666666666666666,
              "#ed7953"
             ],
             [
              0.7777777777777778,
              "#fb9f3a"
             ],
             [
              0.8888888888888888,
              "#fdca26"
             ],
             [
              1,
              "#f0f921"
             ]
            ],
            "type": "contour"
           }
          ],
          "contourcarpet": [
           {
            "colorbar": {
             "outlinewidth": 0,
             "ticks": ""
            },
            "type": "contourcarpet"
           }
          ],
          "heatmap": [
           {
            "colorbar": {
             "outlinewidth": 0,
             "ticks": ""
            },
            "colorscale": [
             [
              0,
              "#0d0887"
             ],
             [
              0.1111111111111111,
              "#46039f"
             ],
             [
              0.2222222222222222,
              "#7201a8"
             ],
             [
              0.3333333333333333,
              "#9c179e"
             ],
             [
              0.4444444444444444,
              "#bd3786"
             ],
             [
              0.5555555555555556,
              "#d8576b"
             ],
             [
              0.6666666666666666,
              "#ed7953"
             ],
             [
              0.7777777777777778,
              "#fb9f3a"
             ],
             [
              0.8888888888888888,
              "#fdca26"
             ],
             [
              1,
              "#f0f921"
             ]
            ],
            "type": "heatmap"
           }
          ],
          "heatmapgl": [
           {
            "colorbar": {
             "outlinewidth": 0,
             "ticks": ""
            },
            "colorscale": [
             [
              0,
              "#0d0887"
             ],
             [
              0.1111111111111111,
              "#46039f"
             ],
             [
              0.2222222222222222,
              "#7201a8"
             ],
             [
              0.3333333333333333,
              "#9c179e"
             ],
             [
              0.4444444444444444,
              "#bd3786"
             ],
             [
              0.5555555555555556,
              "#d8576b"
             ],
             [
              0.6666666666666666,
              "#ed7953"
             ],
             [
              0.7777777777777778,
              "#fb9f3a"
             ],
             [
              0.8888888888888888,
              "#fdca26"
             ],
             [
              1,
              "#f0f921"
             ]
            ],
            "type": "heatmapgl"
           }
          ],
          "histogram": [
           {
            "marker": {
             "pattern": {
              "fillmode": "overlay",
              "size": 10,
              "solidity": 0.2
             }
            },
            "type": "histogram"
           }
          ],
          "histogram2d": [
           {
            "colorbar": {
             "outlinewidth": 0,
             "ticks": ""
            },
            "colorscale": [
             [
              0,
              "#0d0887"
             ],
             [
              0.1111111111111111,
              "#46039f"
             ],
             [
              0.2222222222222222,
              "#7201a8"
             ],
             [
              0.3333333333333333,
              "#9c179e"
             ],
             [
              0.4444444444444444,
              "#bd3786"
             ],
             [
              0.5555555555555556,
              "#d8576b"
             ],
             [
              0.6666666666666666,
              "#ed7953"
             ],
             [
              0.7777777777777778,
              "#fb9f3a"
             ],
             [
              0.8888888888888888,
              "#fdca26"
             ],
             [
              1,
              "#f0f921"
             ]
            ],
            "type": "histogram2d"
           }
          ],
          "histogram2dcontour": [
           {
            "colorbar": {
             "outlinewidth": 0,
             "ticks": ""
            },
            "colorscale": [
             [
              0,
              "#0d0887"
             ],
             [
              0.1111111111111111,
              "#46039f"
             ],
             [
              0.2222222222222222,
              "#7201a8"
             ],
             [
              0.3333333333333333,
              "#9c179e"
             ],
             [
              0.4444444444444444,
              "#bd3786"
             ],
             [
              0.5555555555555556,
              "#d8576b"
             ],
             [
              0.6666666666666666,
              "#ed7953"
             ],
             [
              0.7777777777777778,
              "#fb9f3a"
             ],
             [
              0.8888888888888888,
              "#fdca26"
             ],
             [
              1,
              "#f0f921"
             ]
            ],
            "type": "histogram2dcontour"
           }
          ],
          "mesh3d": [
           {
            "colorbar": {
             "outlinewidth": 0,
             "ticks": ""
            },
            "type": "mesh3d"
           }
          ],
          "parcoords": [
           {
            "line": {
             "colorbar": {
              "outlinewidth": 0,
              "ticks": ""
             }
            },
            "type": "parcoords"
           }
          ],
          "pie": [
           {
            "automargin": true,
            "type": "pie"
           }
          ],
          "scatter": [
           {
            "fillpattern": {
             "fillmode": "overlay",
             "size": 10,
             "solidity": 0.2
            },
            "type": "scatter"
           }
          ],
          "scatter3d": [
           {
            "line": {
             "colorbar": {
              "outlinewidth": 0,
              "ticks": ""
             }
            },
            "marker": {
             "colorbar": {
              "outlinewidth": 0,
              "ticks": ""
             }
            },
            "type": "scatter3d"
           }
          ],
          "scattercarpet": [
           {
            "marker": {
             "colorbar": {
              "outlinewidth": 0,
              "ticks": ""
             }
            },
            "type": "scattercarpet"
           }
          ],
          "scattergeo": [
           {
            "marker": {
             "colorbar": {
              "outlinewidth": 0,
              "ticks": ""
             }
            },
            "type": "scattergeo"
           }
          ],
          "scattergl": [
           {
            "marker": {
             "colorbar": {
              "outlinewidth": 0,
              "ticks": ""
             }
            },
            "type": "scattergl"
           }
          ],
          "scattermapbox": [
           {
            "marker": {
             "colorbar": {
              "outlinewidth": 0,
              "ticks": ""
             }
            },
            "type": "scattermapbox"
           }
          ],
          "scatterpolar": [
           {
            "marker": {
             "colorbar": {
              "outlinewidth": 0,
              "ticks": ""
             }
            },
            "type": "scatterpolar"
           }
          ],
          "scatterpolargl": [
           {
            "marker": {
             "colorbar": {
              "outlinewidth": 0,
              "ticks": ""
             }
            },
            "type": "scatterpolargl"
           }
          ],
          "scatterternary": [
           {
            "marker": {
             "colorbar": {
              "outlinewidth": 0,
              "ticks": ""
             }
            },
            "type": "scatterternary"
           }
          ],
          "surface": [
           {
            "colorbar": {
             "outlinewidth": 0,
             "ticks": ""
            },
            "colorscale": [
             [
              0,
              "#0d0887"
             ],
             [
              0.1111111111111111,
              "#46039f"
             ],
             [
              0.2222222222222222,
              "#7201a8"
             ],
             [
              0.3333333333333333,
              "#9c179e"
             ],
             [
              0.4444444444444444,
              "#bd3786"
             ],
             [
              0.5555555555555556,
              "#d8576b"
             ],
             [
              0.6666666666666666,
              "#ed7953"
             ],
             [
              0.7777777777777778,
              "#fb9f3a"
             ],
             [
              0.8888888888888888,
              "#fdca26"
             ],
             [
              1,
              "#f0f921"
             ]
            ],
            "type": "surface"
           }
          ],
          "table": [
           {
            "cells": {
             "fill": {
              "color": "#EBF0F8"
             },
             "line": {
              "color": "white"
             }
            },
            "header": {
             "fill": {
              "color": "#C8D4E3"
             },
             "line": {
              "color": "white"
             }
            },
            "type": "table"
           }
          ]
         },
         "layout": {
          "annotationdefaults": {
           "arrowcolor": "#2a3f5f",
           "arrowhead": 0,
           "arrowwidth": 1
          },
          "autotypenumbers": "strict",
          "coloraxis": {
           "colorbar": {
            "outlinewidth": 0,
            "ticks": ""
           }
          },
          "colorscale": {
           "diverging": [
            [
             0,
             "#8e0152"
            ],
            [
             0.1,
             "#c51b7d"
            ],
            [
             0.2,
             "#de77ae"
            ],
            [
             0.3,
             "#f1b6da"
            ],
            [
             0.4,
             "#fde0ef"
            ],
            [
             0.5,
             "#f7f7f7"
            ],
            [
             0.6,
             "#e6f5d0"
            ],
            [
             0.7,
             "#b8e186"
            ],
            [
             0.8,
             "#7fbc41"
            ],
            [
             0.9,
             "#4d9221"
            ],
            [
             1,
             "#276419"
            ]
           ],
           "sequential": [
            [
             0,
             "#0d0887"
            ],
            [
             0.1111111111111111,
             "#46039f"
            ],
            [
             0.2222222222222222,
             "#7201a8"
            ],
            [
             0.3333333333333333,
             "#9c179e"
            ],
            [
             0.4444444444444444,
             "#bd3786"
            ],
            [
             0.5555555555555556,
             "#d8576b"
            ],
            [
             0.6666666666666666,
             "#ed7953"
            ],
            [
             0.7777777777777778,
             "#fb9f3a"
            ],
            [
             0.8888888888888888,
             "#fdca26"
            ],
            [
             1,
             "#f0f921"
            ]
           ],
           "sequentialminus": [
            [
             0,
             "#0d0887"
            ],
            [
             0.1111111111111111,
             "#46039f"
            ],
            [
             0.2222222222222222,
             "#7201a8"
            ],
            [
             0.3333333333333333,
             "#9c179e"
            ],
            [
             0.4444444444444444,
             "#bd3786"
            ],
            [
             0.5555555555555556,
             "#d8576b"
            ],
            [
             0.6666666666666666,
             "#ed7953"
            ],
            [
             0.7777777777777778,
             "#fb9f3a"
            ],
            [
             0.8888888888888888,
             "#fdca26"
            ],
            [
             1,
             "#f0f921"
            ]
           ]
          },
          "colorway": [
           "#636efa",
           "#EF553B",
           "#00cc96",
           "#ab63fa",
           "#FFA15A",
           "#19d3f3",
           "#FF6692",
           "#B6E880",
           "#FF97FF",
           "#FECB52"
          ],
          "font": {
           "color": "#2a3f5f"
          },
          "geo": {
           "bgcolor": "white",
           "lakecolor": "white",
           "landcolor": "#E5ECF6",
           "showlakes": true,
           "showland": true,
           "subunitcolor": "white"
          },
          "hoverlabel": {
           "align": "left"
          },
          "hovermode": "closest",
          "mapbox": {
           "style": "light"
          },
          "paper_bgcolor": "white",
          "plot_bgcolor": "#E5ECF6",
          "polar": {
           "angularaxis": {
            "gridcolor": "white",
            "linecolor": "white",
            "ticks": ""
           },
           "bgcolor": "#E5ECF6",
           "radialaxis": {
            "gridcolor": "white",
            "linecolor": "white",
            "ticks": ""
           }
          },
          "scene": {
           "xaxis": {
            "backgroundcolor": "#E5ECF6",
            "gridcolor": "white",
            "gridwidth": 2,
            "linecolor": "white",
            "showbackground": true,
            "ticks": "",
            "zerolinecolor": "white"
           },
           "yaxis": {
            "backgroundcolor": "#E5ECF6",
            "gridcolor": "white",
            "gridwidth": 2,
            "linecolor": "white",
            "showbackground": true,
            "ticks": "",
            "zerolinecolor": "white"
           },
           "zaxis": {
            "backgroundcolor": "#E5ECF6",
            "gridcolor": "white",
            "gridwidth": 2,
            "linecolor": "white",
            "showbackground": true,
            "ticks": "",
            "zerolinecolor": "white"
           }
          },
          "shapedefaults": {
           "line": {
            "color": "#2a3f5f"
           }
          },
          "ternary": {
           "aaxis": {
            "gridcolor": "white",
            "linecolor": "white",
            "ticks": ""
           },
           "baxis": {
            "gridcolor": "white",
            "linecolor": "white",
            "ticks": ""
           },
           "bgcolor": "#E5ECF6",
           "caxis": {
            "gridcolor": "white",
            "linecolor": "white",
            "ticks": ""
           }
          },
          "title": {
           "x": 0.05
          },
          "xaxis": {
           "automargin": true,
           "gridcolor": "white",
           "linecolor": "white",
           "ticks": "",
           "title": {
            "standoff": 15
           },
           "zerolinecolor": "white",
           "zerolinewidth": 2
          },
          "yaxis": {
           "automargin": true,
           "gridcolor": "white",
           "linecolor": "white",
           "ticks": "",
           "title": {
            "standoff": 15
           },
           "zerolinecolor": "white",
           "zerolinewidth": 2
          }
         }
        },
        "title": {
         "text": "Execution Interval for '1-control-updatedata-cls.sensor_data'"
        },
        "xaxis": {
         "color": "black",
         "gridcolor": "lightgrey",
         "linecolor": "black",
         "mirror": true,
         "rangeslider": {
          "visible": true
         },
         "showline": true,
         "tickfont": {
          "size": 20
         },
         "ticks": "outside",
         "title": {
          "font": {
           "size": 20
          },
          "text": "Number of events"
         },
         "type": "linear"
        },
        "yaxis": {
         "color": "black",
         "gridcolor": "lightgrey",
         "linecolor": "black",
         "mirror": true,
         "showline": true,
         "tickfont": {
          "size": 20
         },
         "ticks": "outside",
         "title": {
          "font": {
           "size": 20
          },
          "text": "Execution interval (ms)"
         }
        }
       }
      }
     },
     "metadata": {},
     "output_type": "display_data"
    },
    {
     "data": {
      "application/vnd.plotly.v1+json": {
       "config": {
        "plotlyServerURL": "https://plot.ly"
       },
       "data": [
        {
         "line": {
          "width": 0.5
         },
         "marker": {
          "color": "midnightblue",
          "size": 8
         },
         "mode": "lines+markers",
         "name": "trace_trial1",
         "showlegend": true,
         "type": "scatter",
         "x": [
          52,
          78,
          100,
          126,
          152,
          178,
          197,
          220,
          246,
          272,
          294,
          320,
          343,
          369,
          391,
          417,
          440,
          462,
          488,
          514,
          537,
          556,
          582,
          608,
          634,
          653,
          679,
          705,
          731,
          750,
          776,
          802,
          824,
          850,
          876,
          899,
          918,
          940,
          963,
          982,
          1008,
          1034,
          1060,
          1082,
          1108,
          1131,
          1157,
          1179,
          1205,
          1226,
          1252,
          1278,
          1304,
          1326,
          1352,
          1378,
          1404,
          1426,
          1452,
          1478,
          1500,
          1526,
          1552,
          1578,
          1600,
          1623,
          1646,
          1672,
          1694,
          1720,
          1746,
          1772,
          1794,
          1820,
          1843,
          1865,
          1891,
          1917,
          1943,
          1965,
          1991,
          2017,
          2043,
          2065,
          2090,
          2109,
          2132,
          2158,
          2184,
          2203,
          2229,
          2255,
          2281,
          2303,
          2326,
          2352,
          2374,
          2400,
          2423,
          2446,
          2468,
          2494,
          2520,
          2546,
          2568
         ],
         "y": [
          5281,
          5279,
          4230,
          5282,
          5281,
          5282,
          4218,
          5267,
          5282,
          5282,
          4231,
          5282,
          5269,
          5282,
          4232,
          5283,
          5270,
          4232,
          5284,
          5283,
          5269,
          4217,
          5283,
          5284,
          5285,
          4217,
          5284,
          5284,
          5282,
          4218,
          5284,
          5282,
          4234,
          5283,
          5285,
          5268,
          4219,
          5525,
          5268,
          4218,
          5285,
          5285,
          5288,
          4234,
          5287,
          5271,
          5285,
          4233,
          5285,
          4496,
          5285,
          5285,
          5285,
          4235,
          5285,
          5285,
          5286,
          4235,
          5287,
          5287,
          4235,
          5287,
          5283,
          5287,
          4236,
          5270,
          5271,
          5287,
          4237,
          5289,
          5287,
          5288,
          4236,
          5290,
          5271,
          4237,
          5290,
          5287,
          5289,
          4240,
          5286,
          5292,
          5290,
          4235,
          5536,
          4221,
          5270,
          5293,
          5294,
          4220,
          5292,
          5289,
          5295,
          4240,
          5270,
          5295,
          4237,
          5294,
          5272,
          5274,
          4241,
          5296,
          5299,
          5295,
          4249
         ]
        }
       ],
       "layout": {
        "autosize": true,
        "plot_bgcolor": "rgba(0,0,0,0)",
        "template": {
         "data": {
          "bar": [
           {
            "error_x": {
             "color": "#2a3f5f"
            },
            "error_y": {
             "color": "#2a3f5f"
            },
            "marker": {
             "line": {
              "color": "#E5ECF6",
              "width": 0.5
             },
             "pattern": {
              "fillmode": "overlay",
              "size": 10,
              "solidity": 0.2
             }
            },
            "type": "bar"
           }
          ],
          "barpolar": [
           {
            "marker": {
             "line": {
              "color": "#E5ECF6",
              "width": 0.5
             },
             "pattern": {
              "fillmode": "overlay",
              "size": 10,
              "solidity": 0.2
             }
            },
            "type": "barpolar"
           }
          ],
          "carpet": [
           {
            "aaxis": {
             "endlinecolor": "#2a3f5f",
             "gridcolor": "white",
             "linecolor": "white",
             "minorgridcolor": "white",
             "startlinecolor": "#2a3f5f"
            },
            "baxis": {
             "endlinecolor": "#2a3f5f",
             "gridcolor": "white",
             "linecolor": "white",
             "minorgridcolor": "white",
             "startlinecolor": "#2a3f5f"
            },
            "type": "carpet"
           }
          ],
          "choropleth": [
           {
            "colorbar": {
             "outlinewidth": 0,
             "ticks": ""
            },
            "type": "choropleth"
           }
          ],
          "contour": [
           {
            "colorbar": {
             "outlinewidth": 0,
             "ticks": ""
            },
            "colorscale": [
             [
              0,
              "#0d0887"
             ],
             [
              0.1111111111111111,
              "#46039f"
             ],
             [
              0.2222222222222222,
              "#7201a8"
             ],
             [
              0.3333333333333333,
              "#9c179e"
             ],
             [
              0.4444444444444444,
              "#bd3786"
             ],
             [
              0.5555555555555556,
              "#d8576b"
             ],
             [
              0.6666666666666666,
              "#ed7953"
             ],
             [
              0.7777777777777778,
              "#fb9f3a"
             ],
             [
              0.8888888888888888,
              "#fdca26"
             ],
             [
              1,
              "#f0f921"
             ]
            ],
            "type": "contour"
           }
          ],
          "contourcarpet": [
           {
            "colorbar": {
             "outlinewidth": 0,
             "ticks": ""
            },
            "type": "contourcarpet"
           }
          ],
          "heatmap": [
           {
            "colorbar": {
             "outlinewidth": 0,
             "ticks": ""
            },
            "colorscale": [
             [
              0,
              "#0d0887"
             ],
             [
              0.1111111111111111,
              "#46039f"
             ],
             [
              0.2222222222222222,
              "#7201a8"
             ],
             [
              0.3333333333333333,
              "#9c179e"
             ],
             [
              0.4444444444444444,
              "#bd3786"
             ],
             [
              0.5555555555555556,
              "#d8576b"
             ],
             [
              0.6666666666666666,
              "#ed7953"
             ],
             [
              0.7777777777777778,
              "#fb9f3a"
             ],
             [
              0.8888888888888888,
              "#fdca26"
             ],
             [
              1,
              "#f0f921"
             ]
            ],
            "type": "heatmap"
           }
          ],
          "heatmapgl": [
           {
            "colorbar": {
             "outlinewidth": 0,
             "ticks": ""
            },
            "colorscale": [
             [
              0,
              "#0d0887"
             ],
             [
              0.1111111111111111,
              "#46039f"
             ],
             [
              0.2222222222222222,
              "#7201a8"
             ],
             [
              0.3333333333333333,
              "#9c179e"
             ],
             [
              0.4444444444444444,
              "#bd3786"
             ],
             [
              0.5555555555555556,
              "#d8576b"
             ],
             [
              0.6666666666666666,
              "#ed7953"
             ],
             [
              0.7777777777777778,
              "#fb9f3a"
             ],
             [
              0.8888888888888888,
              "#fdca26"
             ],
             [
              1,
              "#f0f921"
             ]
            ],
            "type": "heatmapgl"
           }
          ],
          "histogram": [
           {
            "marker": {
             "pattern": {
              "fillmode": "overlay",
              "size": 10,
              "solidity": 0.2
             }
            },
            "type": "histogram"
           }
          ],
          "histogram2d": [
           {
            "colorbar": {
             "outlinewidth": 0,
             "ticks": ""
            },
            "colorscale": [
             [
              0,
              "#0d0887"
             ],
             [
              0.1111111111111111,
              "#46039f"
             ],
             [
              0.2222222222222222,
              "#7201a8"
             ],
             [
              0.3333333333333333,
              "#9c179e"
             ],
             [
              0.4444444444444444,
              "#bd3786"
             ],
             [
              0.5555555555555556,
              "#d8576b"
             ],
             [
              0.6666666666666666,
              "#ed7953"
             ],
             [
              0.7777777777777778,
              "#fb9f3a"
             ],
             [
              0.8888888888888888,
              "#fdca26"
             ],
             [
              1,
              "#f0f921"
             ]
            ],
            "type": "histogram2d"
           }
          ],
          "histogram2dcontour": [
           {
            "colorbar": {
             "outlinewidth": 0,
             "ticks": ""
            },
            "colorscale": [
             [
              0,
              "#0d0887"
             ],
             [
              0.1111111111111111,
              "#46039f"
             ],
             [
              0.2222222222222222,
              "#7201a8"
             ],
             [
              0.3333333333333333,
              "#9c179e"
             ],
             [
              0.4444444444444444,
              "#bd3786"
             ],
             [
              0.5555555555555556,
              "#d8576b"
             ],
             [
              0.6666666666666666,
              "#ed7953"
             ],
             [
              0.7777777777777778,
              "#fb9f3a"
             ],
             [
              0.8888888888888888,
              "#fdca26"
             ],
             [
              1,
              "#f0f921"
             ]
            ],
            "type": "histogram2dcontour"
           }
          ],
          "mesh3d": [
           {
            "colorbar": {
             "outlinewidth": 0,
             "ticks": ""
            },
            "type": "mesh3d"
           }
          ],
          "parcoords": [
           {
            "line": {
             "colorbar": {
              "outlinewidth": 0,
              "ticks": ""
             }
            },
            "type": "parcoords"
           }
          ],
          "pie": [
           {
            "automargin": true,
            "type": "pie"
           }
          ],
          "scatter": [
           {
            "fillpattern": {
             "fillmode": "overlay",
             "size": 10,
             "solidity": 0.2
            },
            "type": "scatter"
           }
          ],
          "scatter3d": [
           {
            "line": {
             "colorbar": {
              "outlinewidth": 0,
              "ticks": ""
             }
            },
            "marker": {
             "colorbar": {
              "outlinewidth": 0,
              "ticks": ""
             }
            },
            "type": "scatter3d"
           }
          ],
          "scattercarpet": [
           {
            "marker": {
             "colorbar": {
              "outlinewidth": 0,
              "ticks": ""
             }
            },
            "type": "scattercarpet"
           }
          ],
          "scattergeo": [
           {
            "marker": {
             "colorbar": {
              "outlinewidth": 0,
              "ticks": ""
             }
            },
            "type": "scattergeo"
           }
          ],
          "scattergl": [
           {
            "marker": {
             "colorbar": {
              "outlinewidth": 0,
              "ticks": ""
             }
            },
            "type": "scattergl"
           }
          ],
          "scattermapbox": [
           {
            "marker": {
             "colorbar": {
              "outlinewidth": 0,
              "ticks": ""
             }
            },
            "type": "scattermapbox"
           }
          ],
          "scatterpolar": [
           {
            "marker": {
             "colorbar": {
              "outlinewidth": 0,
              "ticks": ""
             }
            },
            "type": "scatterpolar"
           }
          ],
          "scatterpolargl": [
           {
            "marker": {
             "colorbar": {
              "outlinewidth": 0,
              "ticks": ""
             }
            },
            "type": "scatterpolargl"
           }
          ],
          "scatterternary": [
           {
            "marker": {
             "colorbar": {
              "outlinewidth": 0,
              "ticks": ""
             }
            },
            "type": "scatterternary"
           }
          ],
          "surface": [
           {
            "colorbar": {
             "outlinewidth": 0,
             "ticks": ""
            },
            "colorscale": [
             [
              0,
              "#0d0887"
             ],
             [
              0.1111111111111111,
              "#46039f"
             ],
             [
              0.2222222222222222,
              "#7201a8"
             ],
             [
              0.3333333333333333,
              "#9c179e"
             ],
             [
              0.4444444444444444,
              "#bd3786"
             ],
             [
              0.5555555555555556,
              "#d8576b"
             ],
             [
              0.6666666666666666,
              "#ed7953"
             ],
             [
              0.7777777777777778,
              "#fb9f3a"
             ],
             [
              0.8888888888888888,
              "#fdca26"
             ],
             [
              1,
              "#f0f921"
             ]
            ],
            "type": "surface"
           }
          ],
          "table": [
           {
            "cells": {
             "fill": {
              "color": "#EBF0F8"
             },
             "line": {
              "color": "white"
             }
            },
            "header": {
             "fill": {
              "color": "#C8D4E3"
             },
             "line": {
              "color": "white"
             }
            },
            "type": "table"
           }
          ]
         },
         "layout": {
          "annotationdefaults": {
           "arrowcolor": "#2a3f5f",
           "arrowhead": 0,
           "arrowwidth": 1
          },
          "autotypenumbers": "strict",
          "coloraxis": {
           "colorbar": {
            "outlinewidth": 0,
            "ticks": ""
           }
          },
          "colorscale": {
           "diverging": [
            [
             0,
             "#8e0152"
            ],
            [
             0.1,
             "#c51b7d"
            ],
            [
             0.2,
             "#de77ae"
            ],
            [
             0.3,
             "#f1b6da"
            ],
            [
             0.4,
             "#fde0ef"
            ],
            [
             0.5,
             "#f7f7f7"
            ],
            [
             0.6,
             "#e6f5d0"
            ],
            [
             0.7,
             "#b8e186"
            ],
            [
             0.8,
             "#7fbc41"
            ],
            [
             0.9,
             "#4d9221"
            ],
            [
             1,
             "#276419"
            ]
           ],
           "sequential": [
            [
             0,
             "#0d0887"
            ],
            [
             0.1111111111111111,
             "#46039f"
            ],
            [
             0.2222222222222222,
             "#7201a8"
            ],
            [
             0.3333333333333333,
             "#9c179e"
            ],
            [
             0.4444444444444444,
             "#bd3786"
            ],
            [
             0.5555555555555556,
             "#d8576b"
            ],
            [
             0.6666666666666666,
             "#ed7953"
            ],
            [
             0.7777777777777778,
             "#fb9f3a"
            ],
            [
             0.8888888888888888,
             "#fdca26"
            ],
            [
             1,
             "#f0f921"
            ]
           ],
           "sequentialminus": [
            [
             0,
             "#0d0887"
            ],
            [
             0.1111111111111111,
             "#46039f"
            ],
            [
             0.2222222222222222,
             "#7201a8"
            ],
            [
             0.3333333333333333,
             "#9c179e"
            ],
            [
             0.4444444444444444,
             "#bd3786"
            ],
            [
             0.5555555555555556,
             "#d8576b"
            ],
            [
             0.6666666666666666,
             "#ed7953"
            ],
            [
             0.7777777777777778,
             "#fb9f3a"
            ],
            [
             0.8888888888888888,
             "#fdca26"
            ],
            [
             1,
             "#f0f921"
            ]
           ]
          },
          "colorway": [
           "#636efa",
           "#EF553B",
           "#00cc96",
           "#ab63fa",
           "#FFA15A",
           "#19d3f3",
           "#FF6692",
           "#B6E880",
           "#FF97FF",
           "#FECB52"
          ],
          "font": {
           "color": "#2a3f5f"
          },
          "geo": {
           "bgcolor": "white",
           "lakecolor": "white",
           "landcolor": "#E5ECF6",
           "showlakes": true,
           "showland": true,
           "subunitcolor": "white"
          },
          "hoverlabel": {
           "align": "left"
          },
          "hovermode": "closest",
          "mapbox": {
           "style": "light"
          },
          "paper_bgcolor": "white",
          "plot_bgcolor": "#E5ECF6",
          "polar": {
           "angularaxis": {
            "gridcolor": "white",
            "linecolor": "white",
            "ticks": ""
           },
           "bgcolor": "#E5ECF6",
           "radialaxis": {
            "gridcolor": "white",
            "linecolor": "white",
            "ticks": ""
           }
          },
          "scene": {
           "xaxis": {
            "backgroundcolor": "#E5ECF6",
            "gridcolor": "white",
            "gridwidth": 2,
            "linecolor": "white",
            "showbackground": true,
            "ticks": "",
            "zerolinecolor": "white"
           },
           "yaxis": {
            "backgroundcolor": "#E5ECF6",
            "gridcolor": "white",
            "gridwidth": 2,
            "linecolor": "white",
            "showbackground": true,
            "ticks": "",
            "zerolinecolor": "white"
           },
           "zaxis": {
            "backgroundcolor": "#E5ECF6",
            "gridcolor": "white",
            "gridwidth": 2,
            "linecolor": "white",
            "showbackground": true,
            "ticks": "",
            "zerolinecolor": "white"
           }
          },
          "shapedefaults": {
           "line": {
            "color": "#2a3f5f"
           }
          },
          "ternary": {
           "aaxis": {
            "gridcolor": "white",
            "linecolor": "white",
            "ticks": ""
           },
           "baxis": {
            "gridcolor": "white",
            "linecolor": "white",
            "ticks": ""
           },
           "bgcolor": "#E5ECF6",
           "caxis": {
            "gridcolor": "white",
            "linecolor": "white",
            "ticks": ""
           }
          },
          "title": {
           "x": 0.05
          },
          "xaxis": {
           "automargin": true,
           "gridcolor": "white",
           "linecolor": "white",
           "ticks": "",
           "title": {
            "standoff": 15
           },
           "zerolinecolor": "white",
           "zerolinewidth": 2
          },
          "yaxis": {
           "automargin": true,
           "gridcolor": "white",
           "linecolor": "white",
           "ticks": "",
           "title": {
            "standoff": 15
           },
           "zerolinecolor": "white",
           "zerolinewidth": 2
          }
         }
        },
        "title": {
         "text": "Execution Interval for '1-control-readdata-0'"
        },
        "xaxis": {
         "color": "black",
         "gridcolor": "lightgrey",
         "linecolor": "black",
         "mirror": true,
         "rangeslider": {
          "visible": true
         },
         "showline": true,
         "tickfont": {
          "size": 20
         },
         "ticks": "outside",
         "title": {
          "font": {
           "size": 20
          },
          "text": "Number of events"
         },
         "type": "linear"
        },
        "yaxis": {
         "color": "black",
         "gridcolor": "lightgrey",
         "linecolor": "black",
         "mirror": true,
         "showline": true,
         "tickfont": {
          "size": 20
         },
         "ticks": "outside",
         "title": {
          "font": {
           "size": 20
          },
          "text": "Execution interval (ms)"
         }
        }
       }
      }
     },
     "metadata": {},
     "output_type": "display_data"
    },
    {
     "data": {
      "application/vnd.plotly.v1+json": {
       "config": {
        "plotlyServerURL": "https://plot.ly"
       },
       "data": [
        {
         "line": {
          "width": 0.5
         },
         "marker": {
          "color": "midnightblue",
          "size": 8
         },
         "mode": "lines+markers",
         "name": "trace_trial1",
         "showlegend": true,
         "type": "scatter",
         "x": [
          53,
          79,
          101,
          127,
          153,
          179,
          198,
          221,
          247,
          273,
          295,
          321,
          344,
          370,
          392,
          418,
          441,
          463,
          489,
          515,
          538,
          557,
          583,
          609,
          635,
          654,
          680,
          706,
          732,
          751,
          777,
          803,
          825,
          851,
          877,
          900,
          919,
          941,
          964,
          983,
          1009,
          1035,
          1061,
          1083,
          1109,
          1132,
          1158,
          1180,
          1206,
          1227,
          1253,
          1279,
          1305,
          1327,
          1353,
          1379,
          1405,
          1427,
          1453,
          1479,
          1501,
          1527,
          1553,
          1579,
          1601,
          1624,
          1647,
          1673,
          1695,
          1721,
          1747,
          1773,
          1795,
          1821,
          1844,
          1866,
          1892,
          1918,
          1944,
          1966,
          1992,
          2018,
          2044,
          2066,
          2091,
          2110,
          2133,
          2159,
          2185,
          2204,
          2230,
          2256,
          2282,
          2304,
          2327,
          2353,
          2375,
          2401,
          2424,
          2447,
          2469,
          2495,
          2521,
          2547,
          2569
         ],
         "y": [
          5281,
          5280,
          4229,
          5282,
          5281,
          5282,
          4218,
          5267,
          5282,
          5282,
          4231,
          5282,
          5269,
          5283,
          4231,
          5283,
          5270,
          4232,
          5285,
          5282,
          5269,
          4217,
          5283,
          5284,
          5285,
          4217,
          5285,
          5283,
          5282,
          4218,
          5284,
          5282,
          4234,
          5283,
          5285,
          5268,
          4219,
          5525,
          5268,
          4218,
          5285,
          5286,
          5287,
          4234,
          5287,
          5271,
          5285,
          4233,
          5285,
          4497,
          5284,
          5285,
          5285,
          4235,
          5285,
          5285,
          5288,
          4233,
          5287,
          5287,
          4235,
          5287,
          5283,
          5287,
          4236,
          5270,
          5271,
          5287,
          4237,
          5290,
          5286,
          5288,
          4236,
          5290,
          5271,
          4237,
          5290,
          5287,
          5289,
          4240,
          5286,
          5292,
          5290,
          4235,
          5536,
          4221,
          5270,
          5293,
          5294,
          4220,
          5293,
          5289,
          5294,
          4240,
          5270,
          5295,
          4238,
          5293,
          5272,
          5274,
          4241,
          5296,
          5299,
          5295,
          4250
         ]
        }
       ],
       "layout": {
        "autosize": true,
        "plot_bgcolor": "rgba(0,0,0,0)",
        "template": {
         "data": {
          "bar": [
           {
            "error_x": {
             "color": "#2a3f5f"
            },
            "error_y": {
             "color": "#2a3f5f"
            },
            "marker": {
             "line": {
              "color": "#E5ECF6",
              "width": 0.5
             },
             "pattern": {
              "fillmode": "overlay",
              "size": 10,
              "solidity": 0.2
             }
            },
            "type": "bar"
           }
          ],
          "barpolar": [
           {
            "marker": {
             "line": {
              "color": "#E5ECF6",
              "width": 0.5
             },
             "pattern": {
              "fillmode": "overlay",
              "size": 10,
              "solidity": 0.2
             }
            },
            "type": "barpolar"
           }
          ],
          "carpet": [
           {
            "aaxis": {
             "endlinecolor": "#2a3f5f",
             "gridcolor": "white",
             "linecolor": "white",
             "minorgridcolor": "white",
             "startlinecolor": "#2a3f5f"
            },
            "baxis": {
             "endlinecolor": "#2a3f5f",
             "gridcolor": "white",
             "linecolor": "white",
             "minorgridcolor": "white",
             "startlinecolor": "#2a3f5f"
            },
            "type": "carpet"
           }
          ],
          "choropleth": [
           {
            "colorbar": {
             "outlinewidth": 0,
             "ticks": ""
            },
            "type": "choropleth"
           }
          ],
          "contour": [
           {
            "colorbar": {
             "outlinewidth": 0,
             "ticks": ""
            },
            "colorscale": [
             [
              0,
              "#0d0887"
             ],
             [
              0.1111111111111111,
              "#46039f"
             ],
             [
              0.2222222222222222,
              "#7201a8"
             ],
             [
              0.3333333333333333,
              "#9c179e"
             ],
             [
              0.4444444444444444,
              "#bd3786"
             ],
             [
              0.5555555555555556,
              "#d8576b"
             ],
             [
              0.6666666666666666,
              "#ed7953"
             ],
             [
              0.7777777777777778,
              "#fb9f3a"
             ],
             [
              0.8888888888888888,
              "#fdca26"
             ],
             [
              1,
              "#f0f921"
             ]
            ],
            "type": "contour"
           }
          ],
          "contourcarpet": [
           {
            "colorbar": {
             "outlinewidth": 0,
             "ticks": ""
            },
            "type": "contourcarpet"
           }
          ],
          "heatmap": [
           {
            "colorbar": {
             "outlinewidth": 0,
             "ticks": ""
            },
            "colorscale": [
             [
              0,
              "#0d0887"
             ],
             [
              0.1111111111111111,
              "#46039f"
             ],
             [
              0.2222222222222222,
              "#7201a8"
             ],
             [
              0.3333333333333333,
              "#9c179e"
             ],
             [
              0.4444444444444444,
              "#bd3786"
             ],
             [
              0.5555555555555556,
              "#d8576b"
             ],
             [
              0.6666666666666666,
              "#ed7953"
             ],
             [
              0.7777777777777778,
              "#fb9f3a"
             ],
             [
              0.8888888888888888,
              "#fdca26"
             ],
             [
              1,
              "#f0f921"
             ]
            ],
            "type": "heatmap"
           }
          ],
          "heatmapgl": [
           {
            "colorbar": {
             "outlinewidth": 0,
             "ticks": ""
            },
            "colorscale": [
             [
              0,
              "#0d0887"
             ],
             [
              0.1111111111111111,
              "#46039f"
             ],
             [
              0.2222222222222222,
              "#7201a8"
             ],
             [
              0.3333333333333333,
              "#9c179e"
             ],
             [
              0.4444444444444444,
              "#bd3786"
             ],
             [
              0.5555555555555556,
              "#d8576b"
             ],
             [
              0.6666666666666666,
              "#ed7953"
             ],
             [
              0.7777777777777778,
              "#fb9f3a"
             ],
             [
              0.8888888888888888,
              "#fdca26"
             ],
             [
              1,
              "#f0f921"
             ]
            ],
            "type": "heatmapgl"
           }
          ],
          "histogram": [
           {
            "marker": {
             "pattern": {
              "fillmode": "overlay",
              "size": 10,
              "solidity": 0.2
             }
            },
            "type": "histogram"
           }
          ],
          "histogram2d": [
           {
            "colorbar": {
             "outlinewidth": 0,
             "ticks": ""
            },
            "colorscale": [
             [
              0,
              "#0d0887"
             ],
             [
              0.1111111111111111,
              "#46039f"
             ],
             [
              0.2222222222222222,
              "#7201a8"
             ],
             [
              0.3333333333333333,
              "#9c179e"
             ],
             [
              0.4444444444444444,
              "#bd3786"
             ],
             [
              0.5555555555555556,
              "#d8576b"
             ],
             [
              0.6666666666666666,
              "#ed7953"
             ],
             [
              0.7777777777777778,
              "#fb9f3a"
             ],
             [
              0.8888888888888888,
              "#fdca26"
             ],
             [
              1,
              "#f0f921"
             ]
            ],
            "type": "histogram2d"
           }
          ],
          "histogram2dcontour": [
           {
            "colorbar": {
             "outlinewidth": 0,
             "ticks": ""
            },
            "colorscale": [
             [
              0,
              "#0d0887"
             ],
             [
              0.1111111111111111,
              "#46039f"
             ],
             [
              0.2222222222222222,
              "#7201a8"
             ],
             [
              0.3333333333333333,
              "#9c179e"
             ],
             [
              0.4444444444444444,
              "#bd3786"
             ],
             [
              0.5555555555555556,
              "#d8576b"
             ],
             [
              0.6666666666666666,
              "#ed7953"
             ],
             [
              0.7777777777777778,
              "#fb9f3a"
             ],
             [
              0.8888888888888888,
              "#fdca26"
             ],
             [
              1,
              "#f0f921"
             ]
            ],
            "type": "histogram2dcontour"
           }
          ],
          "mesh3d": [
           {
            "colorbar": {
             "outlinewidth": 0,
             "ticks": ""
            },
            "type": "mesh3d"
           }
          ],
          "parcoords": [
           {
            "line": {
             "colorbar": {
              "outlinewidth": 0,
              "ticks": ""
             }
            },
            "type": "parcoords"
           }
          ],
          "pie": [
           {
            "automargin": true,
            "type": "pie"
           }
          ],
          "scatter": [
           {
            "fillpattern": {
             "fillmode": "overlay",
             "size": 10,
             "solidity": 0.2
            },
            "type": "scatter"
           }
          ],
          "scatter3d": [
           {
            "line": {
             "colorbar": {
              "outlinewidth": 0,
              "ticks": ""
             }
            },
            "marker": {
             "colorbar": {
              "outlinewidth": 0,
              "ticks": ""
             }
            },
            "type": "scatter3d"
           }
          ],
          "scattercarpet": [
           {
            "marker": {
             "colorbar": {
              "outlinewidth": 0,
              "ticks": ""
             }
            },
            "type": "scattercarpet"
           }
          ],
          "scattergeo": [
           {
            "marker": {
             "colorbar": {
              "outlinewidth": 0,
              "ticks": ""
             }
            },
            "type": "scattergeo"
           }
          ],
          "scattergl": [
           {
            "marker": {
             "colorbar": {
              "outlinewidth": 0,
              "ticks": ""
             }
            },
            "type": "scattergl"
           }
          ],
          "scattermapbox": [
           {
            "marker": {
             "colorbar": {
              "outlinewidth": 0,
              "ticks": ""
             }
            },
            "type": "scattermapbox"
           }
          ],
          "scatterpolar": [
           {
            "marker": {
             "colorbar": {
              "outlinewidth": 0,
              "ticks": ""
             }
            },
            "type": "scatterpolar"
           }
          ],
          "scatterpolargl": [
           {
            "marker": {
             "colorbar": {
              "outlinewidth": 0,
              "ticks": ""
             }
            },
            "type": "scatterpolargl"
           }
          ],
          "scatterternary": [
           {
            "marker": {
             "colorbar": {
              "outlinewidth": 0,
              "ticks": ""
             }
            },
            "type": "scatterternary"
           }
          ],
          "surface": [
           {
            "colorbar": {
             "outlinewidth": 0,
             "ticks": ""
            },
            "colorscale": [
             [
              0,
              "#0d0887"
             ],
             [
              0.1111111111111111,
              "#46039f"
             ],
             [
              0.2222222222222222,
              "#7201a8"
             ],
             [
              0.3333333333333333,
              "#9c179e"
             ],
             [
              0.4444444444444444,
              "#bd3786"
             ],
             [
              0.5555555555555556,
              "#d8576b"
             ],
             [
              0.6666666666666666,
              "#ed7953"
             ],
             [
              0.7777777777777778,
              "#fb9f3a"
             ],
             [
              0.8888888888888888,
              "#fdca26"
             ],
             [
              1,
              "#f0f921"
             ]
            ],
            "type": "surface"
           }
          ],
          "table": [
           {
            "cells": {
             "fill": {
              "color": "#EBF0F8"
             },
             "line": {
              "color": "white"
             }
            },
            "header": {
             "fill": {
              "color": "#C8D4E3"
             },
             "line": {
              "color": "white"
             }
            },
            "type": "table"
           }
          ]
         },
         "layout": {
          "annotationdefaults": {
           "arrowcolor": "#2a3f5f",
           "arrowhead": 0,
           "arrowwidth": 1
          },
          "autotypenumbers": "strict",
          "coloraxis": {
           "colorbar": {
            "outlinewidth": 0,
            "ticks": ""
           }
          },
          "colorscale": {
           "diverging": [
            [
             0,
             "#8e0152"
            ],
            [
             0.1,
             "#c51b7d"
            ],
            [
             0.2,
             "#de77ae"
            ],
            [
             0.3,
             "#f1b6da"
            ],
            [
             0.4,
             "#fde0ef"
            ],
            [
             0.5,
             "#f7f7f7"
            ],
            [
             0.6,
             "#e6f5d0"
            ],
            [
             0.7,
             "#b8e186"
            ],
            [
             0.8,
             "#7fbc41"
            ],
            [
             0.9,
             "#4d9221"
            ],
            [
             1,
             "#276419"
            ]
           ],
           "sequential": [
            [
             0,
             "#0d0887"
            ],
            [
             0.1111111111111111,
             "#46039f"
            ],
            [
             0.2222222222222222,
             "#7201a8"
            ],
            [
             0.3333333333333333,
             "#9c179e"
            ],
            [
             0.4444444444444444,
             "#bd3786"
            ],
            [
             0.5555555555555556,
             "#d8576b"
            ],
            [
             0.6666666666666666,
             "#ed7953"
            ],
            [
             0.7777777777777778,
             "#fb9f3a"
            ],
            [
             0.8888888888888888,
             "#fdca26"
            ],
            [
             1,
             "#f0f921"
            ]
           ],
           "sequentialminus": [
            [
             0,
             "#0d0887"
            ],
            [
             0.1111111111111111,
             "#46039f"
            ],
            [
             0.2222222222222222,
             "#7201a8"
            ],
            [
             0.3333333333333333,
             "#9c179e"
            ],
            [
             0.4444444444444444,
             "#bd3786"
            ],
            [
             0.5555555555555556,
             "#d8576b"
            ],
            [
             0.6666666666666666,
             "#ed7953"
            ],
            [
             0.7777777777777778,
             "#fb9f3a"
            ],
            [
             0.8888888888888888,
             "#fdca26"
            ],
            [
             1,
             "#f0f921"
            ]
           ]
          },
          "colorway": [
           "#636efa",
           "#EF553B",
           "#00cc96",
           "#ab63fa",
           "#FFA15A",
           "#19d3f3",
           "#FF6692",
           "#B6E880",
           "#FF97FF",
           "#FECB52"
          ],
          "font": {
           "color": "#2a3f5f"
          },
          "geo": {
           "bgcolor": "white",
           "lakecolor": "white",
           "landcolor": "#E5ECF6",
           "showlakes": true,
           "showland": true,
           "subunitcolor": "white"
          },
          "hoverlabel": {
           "align": "left"
          },
          "hovermode": "closest",
          "mapbox": {
           "style": "light"
          },
          "paper_bgcolor": "white",
          "plot_bgcolor": "#E5ECF6",
          "polar": {
           "angularaxis": {
            "gridcolor": "white",
            "linecolor": "white",
            "ticks": ""
           },
           "bgcolor": "#E5ECF6",
           "radialaxis": {
            "gridcolor": "white",
            "linecolor": "white",
            "ticks": ""
           }
          },
          "scene": {
           "xaxis": {
            "backgroundcolor": "#E5ECF6",
            "gridcolor": "white",
            "gridwidth": 2,
            "linecolor": "white",
            "showbackground": true,
            "ticks": "",
            "zerolinecolor": "white"
           },
           "yaxis": {
            "backgroundcolor": "#E5ECF6",
            "gridcolor": "white",
            "gridwidth": 2,
            "linecolor": "white",
            "showbackground": true,
            "ticks": "",
            "zerolinecolor": "white"
           },
           "zaxis": {
            "backgroundcolor": "#E5ECF6",
            "gridcolor": "white",
            "gridwidth": 2,
            "linecolor": "white",
            "showbackground": true,
            "ticks": "",
            "zerolinecolor": "white"
           }
          },
          "shapedefaults": {
           "line": {
            "color": "#2a3f5f"
           }
          },
          "ternary": {
           "aaxis": {
            "gridcolor": "white",
            "linecolor": "white",
            "ticks": ""
           },
           "baxis": {
            "gridcolor": "white",
            "linecolor": "white",
            "ticks": ""
           },
           "bgcolor": "#E5ECF6",
           "caxis": {
            "gridcolor": "white",
            "linecolor": "white",
            "ticks": ""
           }
          },
          "title": {
           "x": 0.05
          },
          "xaxis": {
           "automargin": true,
           "gridcolor": "white",
           "linecolor": "white",
           "ticks": "",
           "title": {
            "standoff": 15
           },
           "zerolinecolor": "white",
           "zerolinewidth": 2
          },
          "yaxis": {
           "automargin": true,
           "gridcolor": "white",
           "linecolor": "white",
           "ticks": "",
           "title": {
            "standoff": 15
           },
           "zerolinecolor": "white",
           "zerolinewidth": 2
          }
         }
        },
        "title": {
         "text": "Execution Interval for '1-0-loracom-data'"
        },
        "xaxis": {
         "color": "black",
         "gridcolor": "lightgrey",
         "linecolor": "black",
         "mirror": true,
         "rangeslider": {
          "visible": true
         },
         "showline": true,
         "tickfont": {
          "size": 20
         },
         "ticks": "outside",
         "title": {
          "font": {
           "size": 20
          },
          "text": "Number of events"
         },
         "type": "linear"
        },
        "yaxis": {
         "color": "black",
         "gridcolor": "lightgrey",
         "linecolor": "black",
         "mirror": true,
         "showline": true,
         "tickfont": {
          "size": 20
         },
         "ticks": "outside",
         "title": {
          "font": {
           "size": 20
          },
          "text": "Execution interval (ms)"
         }
        }
       }
      }
     },
     "metadata": {},
     "output_type": "display_data"
    },
    {
     "data": {
      "application/vnd.plotly.v1+json": {
       "config": {
        "plotlyServerURL": "https://plot.ly"
       },
       "data": [
        {
         "line": {
          "width": 0.5
         },
         "marker": {
          "color": "midnightblue",
          "size": 8
         },
         "mode": "lines+markers",
         "name": "trace_trial1",
         "showlegend": true,
         "type": "scatter",
         "x": [
          54,
          80,
          102,
          128,
          154,
          180,
          199,
          222,
          248,
          274,
          296,
          322,
          345,
          371,
          393,
          419,
          442,
          464,
          490,
          516,
          539,
          558,
          584,
          610,
          636,
          655,
          681,
          707,
          733,
          752,
          778,
          804,
          826,
          852,
          878,
          901,
          920,
          942,
          965,
          984,
          1010,
          1036,
          1062,
          1084,
          1110,
          1133,
          1159,
          1181,
          1207,
          1228,
          1254,
          1280,
          1306,
          1328,
          1354,
          1380,
          1406,
          1428,
          1454,
          1480,
          1502,
          1528,
          1554,
          1580,
          1602,
          1625,
          1648,
          1674,
          1696,
          1722,
          1748,
          1774,
          1796,
          1822,
          1845,
          1867,
          1893,
          1919,
          1945,
          1967,
          1993,
          2019,
          2045,
          2067,
          2092,
          2111,
          2134,
          2160,
          2186,
          2205,
          2231,
          2257,
          2283,
          2305,
          2328,
          2354,
          2376,
          2402,
          2425,
          2448,
          2470,
          2496,
          2522,
          2548,
          2570
         ],
         "y": [
          5281,
          5279,
          4230,
          5282,
          5281,
          5282,
          4218,
          5267,
          5282,
          5282,
          4231,
          5282,
          5269,
          5283,
          4231,
          5283,
          5271,
          4231,
          5285,
          5282,
          5269,
          4217,
          5283,
          5284,
          5285,
          4218,
          5283,
          5283,
          5283,
          4218,
          5284,
          5281,
          4235,
          5283,
          5285,
          5269,
          4219,
          5524,
          5268,
          4218,
          5285,
          5286,
          5287,
          4234,
          5288,
          5270,
          5284,
          4234,
          5285,
          4496,
          5285,
          5285,
          5285,
          4235,
          5285,
          5285,
          5288,
          4233,
          5287,
          5287,
          4235,
          5287,
          5283,
          5289,
          4234,
          5270,
          5271,
          5287,
          4237,
          5289,
          5287,
          5288,
          4236,
          5290,
          5271,
          4237,
          5290,
          5287,
          5289,
          4240,
          5286,
          5291,
          5291,
          4235,
          5536,
          4221,
          5272,
          5291,
          5294,
          4220,
          5292,
          5289,
          5294,
          4241,
          5270,
          5294,
          4238,
          5294,
          5274,
          5271,
          4242,
          5296,
          5299,
          5295,
          4249
         ]
        }
       ],
       "layout": {
        "autosize": true,
        "plot_bgcolor": "rgba(0,0,0,0)",
        "template": {
         "data": {
          "bar": [
           {
            "error_x": {
             "color": "#2a3f5f"
            },
            "error_y": {
             "color": "#2a3f5f"
            },
            "marker": {
             "line": {
              "color": "#E5ECF6",
              "width": 0.5
             },
             "pattern": {
              "fillmode": "overlay",
              "size": 10,
              "solidity": 0.2
             }
            },
            "type": "bar"
           }
          ],
          "barpolar": [
           {
            "marker": {
             "line": {
              "color": "#E5ECF6",
              "width": 0.5
             },
             "pattern": {
              "fillmode": "overlay",
              "size": 10,
              "solidity": 0.2
             }
            },
            "type": "barpolar"
           }
          ],
          "carpet": [
           {
            "aaxis": {
             "endlinecolor": "#2a3f5f",
             "gridcolor": "white",
             "linecolor": "white",
             "minorgridcolor": "white",
             "startlinecolor": "#2a3f5f"
            },
            "baxis": {
             "endlinecolor": "#2a3f5f",
             "gridcolor": "white",
             "linecolor": "white",
             "minorgridcolor": "white",
             "startlinecolor": "#2a3f5f"
            },
            "type": "carpet"
           }
          ],
          "choropleth": [
           {
            "colorbar": {
             "outlinewidth": 0,
             "ticks": ""
            },
            "type": "choropleth"
           }
          ],
          "contour": [
           {
            "colorbar": {
             "outlinewidth": 0,
             "ticks": ""
            },
            "colorscale": [
             [
              0,
              "#0d0887"
             ],
             [
              0.1111111111111111,
              "#46039f"
             ],
             [
              0.2222222222222222,
              "#7201a8"
             ],
             [
              0.3333333333333333,
              "#9c179e"
             ],
             [
              0.4444444444444444,
              "#bd3786"
             ],
             [
              0.5555555555555556,
              "#d8576b"
             ],
             [
              0.6666666666666666,
              "#ed7953"
             ],
             [
              0.7777777777777778,
              "#fb9f3a"
             ],
             [
              0.8888888888888888,
              "#fdca26"
             ],
             [
              1,
              "#f0f921"
             ]
            ],
            "type": "contour"
           }
          ],
          "contourcarpet": [
           {
            "colorbar": {
             "outlinewidth": 0,
             "ticks": ""
            },
            "type": "contourcarpet"
           }
          ],
          "heatmap": [
           {
            "colorbar": {
             "outlinewidth": 0,
             "ticks": ""
            },
            "colorscale": [
             [
              0,
              "#0d0887"
             ],
             [
              0.1111111111111111,
              "#46039f"
             ],
             [
              0.2222222222222222,
              "#7201a8"
             ],
             [
              0.3333333333333333,
              "#9c179e"
             ],
             [
              0.4444444444444444,
              "#bd3786"
             ],
             [
              0.5555555555555556,
              "#d8576b"
             ],
             [
              0.6666666666666666,
              "#ed7953"
             ],
             [
              0.7777777777777778,
              "#fb9f3a"
             ],
             [
              0.8888888888888888,
              "#fdca26"
             ],
             [
              1,
              "#f0f921"
             ]
            ],
            "type": "heatmap"
           }
          ],
          "heatmapgl": [
           {
            "colorbar": {
             "outlinewidth": 0,
             "ticks": ""
            },
            "colorscale": [
             [
              0,
              "#0d0887"
             ],
             [
              0.1111111111111111,
              "#46039f"
             ],
             [
              0.2222222222222222,
              "#7201a8"
             ],
             [
              0.3333333333333333,
              "#9c179e"
             ],
             [
              0.4444444444444444,
              "#bd3786"
             ],
             [
              0.5555555555555556,
              "#d8576b"
             ],
             [
              0.6666666666666666,
              "#ed7953"
             ],
             [
              0.7777777777777778,
              "#fb9f3a"
             ],
             [
              0.8888888888888888,
              "#fdca26"
             ],
             [
              1,
              "#f0f921"
             ]
            ],
            "type": "heatmapgl"
           }
          ],
          "histogram": [
           {
            "marker": {
             "pattern": {
              "fillmode": "overlay",
              "size": 10,
              "solidity": 0.2
             }
            },
            "type": "histogram"
           }
          ],
          "histogram2d": [
           {
            "colorbar": {
             "outlinewidth": 0,
             "ticks": ""
            },
            "colorscale": [
             [
              0,
              "#0d0887"
             ],
             [
              0.1111111111111111,
              "#46039f"
             ],
             [
              0.2222222222222222,
              "#7201a8"
             ],
             [
              0.3333333333333333,
              "#9c179e"
             ],
             [
              0.4444444444444444,
              "#bd3786"
             ],
             [
              0.5555555555555556,
              "#d8576b"
             ],
             [
              0.6666666666666666,
              "#ed7953"
             ],
             [
              0.7777777777777778,
              "#fb9f3a"
             ],
             [
              0.8888888888888888,
              "#fdca26"
             ],
             [
              1,
              "#f0f921"
             ]
            ],
            "type": "histogram2d"
           }
          ],
          "histogram2dcontour": [
           {
            "colorbar": {
             "outlinewidth": 0,
             "ticks": ""
            },
            "colorscale": [
             [
              0,
              "#0d0887"
             ],
             [
              0.1111111111111111,
              "#46039f"
             ],
             [
              0.2222222222222222,
              "#7201a8"
             ],
             [
              0.3333333333333333,
              "#9c179e"
             ],
             [
              0.4444444444444444,
              "#bd3786"
             ],
             [
              0.5555555555555556,
              "#d8576b"
             ],
             [
              0.6666666666666666,
              "#ed7953"
             ],
             [
              0.7777777777777778,
              "#fb9f3a"
             ],
             [
              0.8888888888888888,
              "#fdca26"
             ],
             [
              1,
              "#f0f921"
             ]
            ],
            "type": "histogram2dcontour"
           }
          ],
          "mesh3d": [
           {
            "colorbar": {
             "outlinewidth": 0,
             "ticks": ""
            },
            "type": "mesh3d"
           }
          ],
          "parcoords": [
           {
            "line": {
             "colorbar": {
              "outlinewidth": 0,
              "ticks": ""
             }
            },
            "type": "parcoords"
           }
          ],
          "pie": [
           {
            "automargin": true,
            "type": "pie"
           }
          ],
          "scatter": [
           {
            "fillpattern": {
             "fillmode": "overlay",
             "size": 10,
             "solidity": 0.2
            },
            "type": "scatter"
           }
          ],
          "scatter3d": [
           {
            "line": {
             "colorbar": {
              "outlinewidth": 0,
              "ticks": ""
             }
            },
            "marker": {
             "colorbar": {
              "outlinewidth": 0,
              "ticks": ""
             }
            },
            "type": "scatter3d"
           }
          ],
          "scattercarpet": [
           {
            "marker": {
             "colorbar": {
              "outlinewidth": 0,
              "ticks": ""
             }
            },
            "type": "scattercarpet"
           }
          ],
          "scattergeo": [
           {
            "marker": {
             "colorbar": {
              "outlinewidth": 0,
              "ticks": ""
             }
            },
            "type": "scattergeo"
           }
          ],
          "scattergl": [
           {
            "marker": {
             "colorbar": {
              "outlinewidth": 0,
              "ticks": ""
             }
            },
            "type": "scattergl"
           }
          ],
          "scattermapbox": [
           {
            "marker": {
             "colorbar": {
              "outlinewidth": 0,
              "ticks": ""
             }
            },
            "type": "scattermapbox"
           }
          ],
          "scatterpolar": [
           {
            "marker": {
             "colorbar": {
              "outlinewidth": 0,
              "ticks": ""
             }
            },
            "type": "scatterpolar"
           }
          ],
          "scatterpolargl": [
           {
            "marker": {
             "colorbar": {
              "outlinewidth": 0,
              "ticks": ""
             }
            },
            "type": "scatterpolargl"
           }
          ],
          "scatterternary": [
           {
            "marker": {
             "colorbar": {
              "outlinewidth": 0,
              "ticks": ""
             }
            },
            "type": "scatterternary"
           }
          ],
          "surface": [
           {
            "colorbar": {
             "outlinewidth": 0,
             "ticks": ""
            },
            "colorscale": [
             [
              0,
              "#0d0887"
             ],
             [
              0.1111111111111111,
              "#46039f"
             ],
             [
              0.2222222222222222,
              "#7201a8"
             ],
             [
              0.3333333333333333,
              "#9c179e"
             ],
             [
              0.4444444444444444,
              "#bd3786"
             ],
             [
              0.5555555555555556,
              "#d8576b"
             ],
             [
              0.6666666666666666,
              "#ed7953"
             ],
             [
              0.7777777777777778,
              "#fb9f3a"
             ],
             [
              0.8888888888888888,
              "#fdca26"
             ],
             [
              1,
              "#f0f921"
             ]
            ],
            "type": "surface"
           }
          ],
          "table": [
           {
            "cells": {
             "fill": {
              "color": "#EBF0F8"
             },
             "line": {
              "color": "white"
             }
            },
            "header": {
             "fill": {
              "color": "#C8D4E3"
             },
             "line": {
              "color": "white"
             }
            },
            "type": "table"
           }
          ]
         },
         "layout": {
          "annotationdefaults": {
           "arrowcolor": "#2a3f5f",
           "arrowhead": 0,
           "arrowwidth": 1
          },
          "autotypenumbers": "strict",
          "coloraxis": {
           "colorbar": {
            "outlinewidth": 0,
            "ticks": ""
           }
          },
          "colorscale": {
           "diverging": [
            [
             0,
             "#8e0152"
            ],
            [
             0.1,
             "#c51b7d"
            ],
            [
             0.2,
             "#de77ae"
            ],
            [
             0.3,
             "#f1b6da"
            ],
            [
             0.4,
             "#fde0ef"
            ],
            [
             0.5,
             "#f7f7f7"
            ],
            [
             0.6,
             "#e6f5d0"
            ],
            [
             0.7,
             "#b8e186"
            ],
            [
             0.8,
             "#7fbc41"
            ],
            [
             0.9,
             "#4d9221"
            ],
            [
             1,
             "#276419"
            ]
           ],
           "sequential": [
            [
             0,
             "#0d0887"
            ],
            [
             0.1111111111111111,
             "#46039f"
            ],
            [
             0.2222222222222222,
             "#7201a8"
            ],
            [
             0.3333333333333333,
             "#9c179e"
            ],
            [
             0.4444444444444444,
             "#bd3786"
            ],
            [
             0.5555555555555556,
             "#d8576b"
            ],
            [
             0.6666666666666666,
             "#ed7953"
            ],
            [
             0.7777777777777778,
             "#fb9f3a"
            ],
            [
             0.8888888888888888,
             "#fdca26"
            ],
            [
             1,
             "#f0f921"
            ]
           ],
           "sequentialminus": [
            [
             0,
             "#0d0887"
            ],
            [
             0.1111111111111111,
             "#46039f"
            ],
            [
             0.2222222222222222,
             "#7201a8"
            ],
            [
             0.3333333333333333,
             "#9c179e"
            ],
            [
             0.4444444444444444,
             "#bd3786"
            ],
            [
             0.5555555555555556,
             "#d8576b"
            ],
            [
             0.6666666666666666,
             "#ed7953"
            ],
            [
             0.7777777777777778,
             "#fb9f3a"
            ],
            [
             0.8888888888888888,
             "#fdca26"
            ],
            [
             1,
             "#f0f921"
            ]
           ]
          },
          "colorway": [
           "#636efa",
           "#EF553B",
           "#00cc96",
           "#ab63fa",
           "#FFA15A",
           "#19d3f3",
           "#FF6692",
           "#B6E880",
           "#FF97FF",
           "#FECB52"
          ],
          "font": {
           "color": "#2a3f5f"
          },
          "geo": {
           "bgcolor": "white",
           "lakecolor": "white",
           "landcolor": "#E5ECF6",
           "showlakes": true,
           "showland": true,
           "subunitcolor": "white"
          },
          "hoverlabel": {
           "align": "left"
          },
          "hovermode": "closest",
          "mapbox": {
           "style": "light"
          },
          "paper_bgcolor": "white",
          "plot_bgcolor": "#E5ECF6",
          "polar": {
           "angularaxis": {
            "gridcolor": "white",
            "linecolor": "white",
            "ticks": ""
           },
           "bgcolor": "#E5ECF6",
           "radialaxis": {
            "gridcolor": "white",
            "linecolor": "white",
            "ticks": ""
           }
          },
          "scene": {
           "xaxis": {
            "backgroundcolor": "#E5ECF6",
            "gridcolor": "white",
            "gridwidth": 2,
            "linecolor": "white",
            "showbackground": true,
            "ticks": "",
            "zerolinecolor": "white"
           },
           "yaxis": {
            "backgroundcolor": "#E5ECF6",
            "gridcolor": "white",
            "gridwidth": 2,
            "linecolor": "white",
            "showbackground": true,
            "ticks": "",
            "zerolinecolor": "white"
           },
           "zaxis": {
            "backgroundcolor": "#E5ECF6",
            "gridcolor": "white",
            "gridwidth": 2,
            "linecolor": "white",
            "showbackground": true,
            "ticks": "",
            "zerolinecolor": "white"
           }
          },
          "shapedefaults": {
           "line": {
            "color": "#2a3f5f"
           }
          },
          "ternary": {
           "aaxis": {
            "gridcolor": "white",
            "linecolor": "white",
            "ticks": ""
           },
           "baxis": {
            "gridcolor": "white",
            "linecolor": "white",
            "ticks": ""
           },
           "bgcolor": "#E5ECF6",
           "caxis": {
            "gridcolor": "white",
            "linecolor": "white",
            "ticks": ""
           }
          },
          "title": {
           "x": 0.05
          },
          "xaxis": {
           "automargin": true,
           "gridcolor": "white",
           "linecolor": "white",
           "ticks": "",
           "title": {
            "standoff": 15
           },
           "zerolinecolor": "white",
           "zerolinewidth": 2
          },
          "yaxis": {
           "automargin": true,
           "gridcolor": "white",
           "linecolor": "white",
           "ticks": "",
           "title": {
            "standoff": 15
           },
           "zerolinecolor": "white",
           "zerolinewidth": 2
          }
         }
        },
        "title": {
         "text": "Execution Interval for '1-control-update_txmsg-0'"
        },
        "xaxis": {
         "color": "black",
         "gridcolor": "lightgrey",
         "linecolor": "black",
         "mirror": true,
         "rangeslider": {
          "visible": true
         },
         "showline": true,
         "tickfont": {
          "size": 20
         },
         "ticks": "outside",
         "title": {
          "font": {
           "size": 20
          },
          "text": "Number of events"
         },
         "type": "linear"
        },
        "yaxis": {
         "color": "black",
         "gridcolor": "lightgrey",
         "linecolor": "black",
         "mirror": true,
         "showline": true,
         "tickfont": {
          "size": 20
         },
         "ticks": "outside",
         "title": {
          "font": {
           "size": 20
          },
          "text": "Execution interval (ms)"
         }
        }
       }
      }
     },
     "metadata": {},
     "output_type": "display_data"
    },
    {
     "data": {
      "application/vnd.plotly.v1+json": {
       "config": {
        "plotlyServerURL": "https://plot.ly"
       },
       "data": [
        {
         "line": {
          "width": 0.5
         },
         "marker": {
          "color": "midnightblue",
          "size": 8
         },
         "mode": "lines+markers",
         "name": "trace_trial1",
         "showlegend": true,
         "type": "scatter",
         "x": [
          59,
          85,
          107,
          133,
          159,
          227,
          253,
          279,
          301,
          350,
          376,
          398,
          447,
          469,
          495,
          563,
          589,
          615,
          660,
          686,
          712,
          757,
          783,
          809,
          831,
          857,
          989,
          1015,
          1041,
          1067,
          1089,
          1138,
          1164,
          1186,
          1212,
          1233,
          1259,
          1285,
          1311,
          1333,
          1359,
          1385,
          1411,
          1433,
          1459,
          1485,
          1507,
          1533,
          1559,
          1585,
          1653,
          1679,
          1701,
          1727,
          1753,
          1779,
          1801,
          1850,
          1872,
          1898,
          1924,
          1950,
          1972,
          1998,
          2024,
          2050,
          2071,
          2139,
          2165,
          2210,
          2236,
          2262,
          2288,
          2333,
          2359,
          2381,
          2453,
          2475,
          2501,
          2527,
          2553
         ],
         "y": [
          5281,
          5280,
          4229,
          5283,
          5281,
          14767,
          5281,
          5282,
          4230,
          10552,
          5283,
          4232,
          10553,
          4232,
          5284,
          14769,
          5283,
          5284,
          9501,
          5285,
          5283,
          9500,
          5283,
          5283,
          4235,
          5283,
          29783,
          5286,
          5285,
          5288,
          4233,
          10557,
          5284,
          4233,
          5287,
          4496,
          5285,
          5285,
          5284,
          4235,
          5285,
          5286,
          5288,
          4234,
          5287,
          5288,
          4233,
          5286,
          5285,
          5288,
          14774,
          5287,
          4238,
          5289,
          5287,
          5287,
          4237,
          10561,
          4237,
          5290,
          5287,
          5290,
          4238,
          5287,
          5292,
          5288,
          4483,
          14782,
          5291,
          9514,
          5293,
          5289,
          5294,
          9511,
          5295,
          4237,
          15839,
          4245,
          5293,
          5299,
          5296
         ]
        }
       ],
       "layout": {
        "autosize": true,
        "plot_bgcolor": "rgba(0,0,0,0)",
        "template": {
         "data": {
          "bar": [
           {
            "error_x": {
             "color": "#2a3f5f"
            },
            "error_y": {
             "color": "#2a3f5f"
            },
            "marker": {
             "line": {
              "color": "#E5ECF6",
              "width": 0.5
             },
             "pattern": {
              "fillmode": "overlay",
              "size": 10,
              "solidity": 0.2
             }
            },
            "type": "bar"
           }
          ],
          "barpolar": [
           {
            "marker": {
             "line": {
              "color": "#E5ECF6",
              "width": 0.5
             },
             "pattern": {
              "fillmode": "overlay",
              "size": 10,
              "solidity": 0.2
             }
            },
            "type": "barpolar"
           }
          ],
          "carpet": [
           {
            "aaxis": {
             "endlinecolor": "#2a3f5f",
             "gridcolor": "white",
             "linecolor": "white",
             "minorgridcolor": "white",
             "startlinecolor": "#2a3f5f"
            },
            "baxis": {
             "endlinecolor": "#2a3f5f",
             "gridcolor": "white",
             "linecolor": "white",
             "minorgridcolor": "white",
             "startlinecolor": "#2a3f5f"
            },
            "type": "carpet"
           }
          ],
          "choropleth": [
           {
            "colorbar": {
             "outlinewidth": 0,
             "ticks": ""
            },
            "type": "choropleth"
           }
          ],
          "contour": [
           {
            "colorbar": {
             "outlinewidth": 0,
             "ticks": ""
            },
            "colorscale": [
             [
              0,
              "#0d0887"
             ],
             [
              0.1111111111111111,
              "#46039f"
             ],
             [
              0.2222222222222222,
              "#7201a8"
             ],
             [
              0.3333333333333333,
              "#9c179e"
             ],
             [
              0.4444444444444444,
              "#bd3786"
             ],
             [
              0.5555555555555556,
              "#d8576b"
             ],
             [
              0.6666666666666666,
              "#ed7953"
             ],
             [
              0.7777777777777778,
              "#fb9f3a"
             ],
             [
              0.8888888888888888,
              "#fdca26"
             ],
             [
              1,
              "#f0f921"
             ]
            ],
            "type": "contour"
           }
          ],
          "contourcarpet": [
           {
            "colorbar": {
             "outlinewidth": 0,
             "ticks": ""
            },
            "type": "contourcarpet"
           }
          ],
          "heatmap": [
           {
            "colorbar": {
             "outlinewidth": 0,
             "ticks": ""
            },
            "colorscale": [
             [
              0,
              "#0d0887"
             ],
             [
              0.1111111111111111,
              "#46039f"
             ],
             [
              0.2222222222222222,
              "#7201a8"
             ],
             [
              0.3333333333333333,
              "#9c179e"
             ],
             [
              0.4444444444444444,
              "#bd3786"
             ],
             [
              0.5555555555555556,
              "#d8576b"
             ],
             [
              0.6666666666666666,
              "#ed7953"
             ],
             [
              0.7777777777777778,
              "#fb9f3a"
             ],
             [
              0.8888888888888888,
              "#fdca26"
             ],
             [
              1,
              "#f0f921"
             ]
            ],
            "type": "heatmap"
           }
          ],
          "heatmapgl": [
           {
            "colorbar": {
             "outlinewidth": 0,
             "ticks": ""
            },
            "colorscale": [
             [
              0,
              "#0d0887"
             ],
             [
              0.1111111111111111,
              "#46039f"
             ],
             [
              0.2222222222222222,
              "#7201a8"
             ],
             [
              0.3333333333333333,
              "#9c179e"
             ],
             [
              0.4444444444444444,
              "#bd3786"
             ],
             [
              0.5555555555555556,
              "#d8576b"
             ],
             [
              0.6666666666666666,
              "#ed7953"
             ],
             [
              0.7777777777777778,
              "#fb9f3a"
             ],
             [
              0.8888888888888888,
              "#fdca26"
             ],
             [
              1,
              "#f0f921"
             ]
            ],
            "type": "heatmapgl"
           }
          ],
          "histogram": [
           {
            "marker": {
             "pattern": {
              "fillmode": "overlay",
              "size": 10,
              "solidity": 0.2
             }
            },
            "type": "histogram"
           }
          ],
          "histogram2d": [
           {
            "colorbar": {
             "outlinewidth": 0,
             "ticks": ""
            },
            "colorscale": [
             [
              0,
              "#0d0887"
             ],
             [
              0.1111111111111111,
              "#46039f"
             ],
             [
              0.2222222222222222,
              "#7201a8"
             ],
             [
              0.3333333333333333,
              "#9c179e"
             ],
             [
              0.4444444444444444,
              "#bd3786"
             ],
             [
              0.5555555555555556,
              "#d8576b"
             ],
             [
              0.6666666666666666,
              "#ed7953"
             ],
             [
              0.7777777777777778,
              "#fb9f3a"
             ],
             [
              0.8888888888888888,
              "#fdca26"
             ],
             [
              1,
              "#f0f921"
             ]
            ],
            "type": "histogram2d"
           }
          ],
          "histogram2dcontour": [
           {
            "colorbar": {
             "outlinewidth": 0,
             "ticks": ""
            },
            "colorscale": [
             [
              0,
              "#0d0887"
             ],
             [
              0.1111111111111111,
              "#46039f"
             ],
             [
              0.2222222222222222,
              "#7201a8"
             ],
             [
              0.3333333333333333,
              "#9c179e"
             ],
             [
              0.4444444444444444,
              "#bd3786"
             ],
             [
              0.5555555555555556,
              "#d8576b"
             ],
             [
              0.6666666666666666,
              "#ed7953"
             ],
             [
              0.7777777777777778,
              "#fb9f3a"
             ],
             [
              0.8888888888888888,
              "#fdca26"
             ],
             [
              1,
              "#f0f921"
             ]
            ],
            "type": "histogram2dcontour"
           }
          ],
          "mesh3d": [
           {
            "colorbar": {
             "outlinewidth": 0,
             "ticks": ""
            },
            "type": "mesh3d"
           }
          ],
          "parcoords": [
           {
            "line": {
             "colorbar": {
              "outlinewidth": 0,
              "ticks": ""
             }
            },
            "type": "parcoords"
           }
          ],
          "pie": [
           {
            "automargin": true,
            "type": "pie"
           }
          ],
          "scatter": [
           {
            "fillpattern": {
             "fillmode": "overlay",
             "size": 10,
             "solidity": 0.2
            },
            "type": "scatter"
           }
          ],
          "scatter3d": [
           {
            "line": {
             "colorbar": {
              "outlinewidth": 0,
              "ticks": ""
             }
            },
            "marker": {
             "colorbar": {
              "outlinewidth": 0,
              "ticks": ""
             }
            },
            "type": "scatter3d"
           }
          ],
          "scattercarpet": [
           {
            "marker": {
             "colorbar": {
              "outlinewidth": 0,
              "ticks": ""
             }
            },
            "type": "scattercarpet"
           }
          ],
          "scattergeo": [
           {
            "marker": {
             "colorbar": {
              "outlinewidth": 0,
              "ticks": ""
             }
            },
            "type": "scattergeo"
           }
          ],
          "scattergl": [
           {
            "marker": {
             "colorbar": {
              "outlinewidth": 0,
              "ticks": ""
             }
            },
            "type": "scattergl"
           }
          ],
          "scattermapbox": [
           {
            "marker": {
             "colorbar": {
              "outlinewidth": 0,
              "ticks": ""
             }
            },
            "type": "scattermapbox"
           }
          ],
          "scatterpolar": [
           {
            "marker": {
             "colorbar": {
              "outlinewidth": 0,
              "ticks": ""
             }
            },
            "type": "scatterpolar"
           }
          ],
          "scatterpolargl": [
           {
            "marker": {
             "colorbar": {
              "outlinewidth": 0,
              "ticks": ""
             }
            },
            "type": "scatterpolargl"
           }
          ],
          "scatterternary": [
           {
            "marker": {
             "colorbar": {
              "outlinewidth": 0,
              "ticks": ""
             }
            },
            "type": "scatterternary"
           }
          ],
          "surface": [
           {
            "colorbar": {
             "outlinewidth": 0,
             "ticks": ""
            },
            "colorscale": [
             [
              0,
              "#0d0887"
             ],
             [
              0.1111111111111111,
              "#46039f"
             ],
             [
              0.2222222222222222,
              "#7201a8"
             ],
             [
              0.3333333333333333,
              "#9c179e"
             ],
             [
              0.4444444444444444,
              "#bd3786"
             ],
             [
              0.5555555555555556,
              "#d8576b"
             ],
             [
              0.6666666666666666,
              "#ed7953"
             ],
             [
              0.7777777777777778,
              "#fb9f3a"
             ],
             [
              0.8888888888888888,
              "#fdca26"
             ],
             [
              1,
              "#f0f921"
             ]
            ],
            "type": "surface"
           }
          ],
          "table": [
           {
            "cells": {
             "fill": {
              "color": "#EBF0F8"
             },
             "line": {
              "color": "white"
             }
            },
            "header": {
             "fill": {
              "color": "#C8D4E3"
             },
             "line": {
              "color": "white"
             }
            },
            "type": "table"
           }
          ]
         },
         "layout": {
          "annotationdefaults": {
           "arrowcolor": "#2a3f5f",
           "arrowhead": 0,
           "arrowwidth": 1
          },
          "autotypenumbers": "strict",
          "coloraxis": {
           "colorbar": {
            "outlinewidth": 0,
            "ticks": ""
           }
          },
          "colorscale": {
           "diverging": [
            [
             0,
             "#8e0152"
            ],
            [
             0.1,
             "#c51b7d"
            ],
            [
             0.2,
             "#de77ae"
            ],
            [
             0.3,
             "#f1b6da"
            ],
            [
             0.4,
             "#fde0ef"
            ],
            [
             0.5,
             "#f7f7f7"
            ],
            [
             0.6,
             "#e6f5d0"
            ],
            [
             0.7,
             "#b8e186"
            ],
            [
             0.8,
             "#7fbc41"
            ],
            [
             0.9,
             "#4d9221"
            ],
            [
             1,
             "#276419"
            ]
           ],
           "sequential": [
            [
             0,
             "#0d0887"
            ],
            [
             0.1111111111111111,
             "#46039f"
            ],
            [
             0.2222222222222222,
             "#7201a8"
            ],
            [
             0.3333333333333333,
             "#9c179e"
            ],
            [
             0.4444444444444444,
             "#bd3786"
            ],
            [
             0.5555555555555556,
             "#d8576b"
            ],
            [
             0.6666666666666666,
             "#ed7953"
            ],
            [
             0.7777777777777778,
             "#fb9f3a"
            ],
            [
             0.8888888888888888,
             "#fdca26"
            ],
            [
             1,
             "#f0f921"
            ]
           ],
           "sequentialminus": [
            [
             0,
             "#0d0887"
            ],
            [
             0.1111111111111111,
             "#46039f"
            ],
            [
             0.2222222222222222,
             "#7201a8"
            ],
            [
             0.3333333333333333,
             "#9c179e"
            ],
            [
             0.4444444444444444,
             "#bd3786"
            ],
            [
             0.5555555555555556,
             "#d8576b"
            ],
            [
             0.6666666666666666,
             "#ed7953"
            ],
            [
             0.7777777777777778,
             "#fb9f3a"
            ],
            [
             0.8888888888888888,
             "#fdca26"
            ],
            [
             1,
             "#f0f921"
            ]
           ]
          },
          "colorway": [
           "#636efa",
           "#EF553B",
           "#00cc96",
           "#ab63fa",
           "#FFA15A",
           "#19d3f3",
           "#FF6692",
           "#B6E880",
           "#FF97FF",
           "#FECB52"
          ],
          "font": {
           "color": "#2a3f5f"
          },
          "geo": {
           "bgcolor": "white",
           "lakecolor": "white",
           "landcolor": "#E5ECF6",
           "showlakes": true,
           "showland": true,
           "subunitcolor": "white"
          },
          "hoverlabel": {
           "align": "left"
          },
          "hovermode": "closest",
          "mapbox": {
           "style": "light"
          },
          "paper_bgcolor": "white",
          "plot_bgcolor": "#E5ECF6",
          "polar": {
           "angularaxis": {
            "gridcolor": "white",
            "linecolor": "white",
            "ticks": ""
           },
           "bgcolor": "#E5ECF6",
           "radialaxis": {
            "gridcolor": "white",
            "linecolor": "white",
            "ticks": ""
           }
          },
          "scene": {
           "xaxis": {
            "backgroundcolor": "#E5ECF6",
            "gridcolor": "white",
            "gridwidth": 2,
            "linecolor": "white",
            "showbackground": true,
            "ticks": "",
            "zerolinecolor": "white"
           },
           "yaxis": {
            "backgroundcolor": "#E5ECF6",
            "gridcolor": "white",
            "gridwidth": 2,
            "linecolor": "white",
            "showbackground": true,
            "ticks": "",
            "zerolinecolor": "white"
           },
           "zaxis": {
            "backgroundcolor": "#E5ECF6",
            "gridcolor": "white",
            "gridwidth": 2,
            "linecolor": "white",
            "showbackground": true,
            "ticks": "",
            "zerolinecolor": "white"
           }
          },
          "shapedefaults": {
           "line": {
            "color": "#2a3f5f"
           }
          },
          "ternary": {
           "aaxis": {
            "gridcolor": "white",
            "linecolor": "white",
            "ticks": ""
           },
           "baxis": {
            "gridcolor": "white",
            "linecolor": "white",
            "ticks": ""
           },
           "bgcolor": "#E5ECF6",
           "caxis": {
            "gridcolor": "white",
            "linecolor": "white",
            "ticks": ""
           }
          },
          "title": {
           "x": 0.05
          },
          "xaxis": {
           "automargin": true,
           "gridcolor": "white",
           "linecolor": "white",
           "ticks": "",
           "title": {
            "standoff": 15
           },
           "zerolinecolor": "white",
           "zerolinewidth": 2
          },
          "yaxis": {
           "automargin": true,
           "gridcolor": "white",
           "linecolor": "white",
           "ticks": "",
           "title": {
            "standoff": 15
           },
           "zerolinecolor": "white",
           "zerolinewidth": 2
          }
         }
        },
        "title": {
         "text": "Execution Interval for '1-0-main-g_ack'"
        },
        "xaxis": {
         "color": "black",
         "gridcolor": "lightgrey",
         "linecolor": "black",
         "mirror": true,
         "rangeslider": {
          "visible": true
         },
         "showline": true,
         "tickfont": {
          "size": 20
         },
         "ticks": "outside",
         "title": {
          "font": {
           "size": 20
          },
          "text": "Number of events"
         },
         "type": "linear"
        },
        "yaxis": {
         "color": "black",
         "gridcolor": "lightgrey",
         "linecolor": "black",
         "mirror": true,
         "showline": true,
         "tickfont": {
          "size": 20
         },
         "ticks": "outside",
         "title": {
          "font": {
           "size": 20
          },
          "text": "Execution interval (ms)"
         }
        }
       }
      }
     },
     "metadata": {},
     "output_type": "display_data"
    },
    {
     "data": {
      "application/vnd.plotly.v1+json": {
       "config": {
        "plotlyServerURL": "https://plot.ly"
       },
       "data": [
        {
         "line": {
          "width": 0.5
         },
         "marker": {
          "color": "midnightblue",
          "size": 8
         },
         "mode": "lines+markers",
         "name": "trace_trial1",
         "showlegend": true,
         "type": "scatter",
         "x": [
          60,
          86,
          108,
          134,
          160,
          228,
          254,
          280,
          302,
          351,
          377,
          399,
          448,
          470,
          496,
          564,
          590,
          616,
          661,
          687,
          713,
          758,
          784,
          810,
          832,
          858,
          990,
          1016,
          1042,
          1068,
          1090,
          1139,
          1165,
          1187,
          1213,
          1234,
          1260,
          1286,
          1312,
          1334,
          1360,
          1386,
          1412,
          1434,
          1460,
          1486,
          1508,
          1534,
          1560,
          1586,
          1654,
          1680,
          1702,
          1728,
          1754,
          1780,
          1802,
          1851,
          1873,
          1899,
          1925,
          1951,
          1973,
          1999,
          2025,
          2051,
          2072,
          2140,
          2166,
          2211,
          2237,
          2263,
          2289,
          2334,
          2360,
          2382,
          2454,
          2476,
          2502,
          2528,
          2554
         ],
         "y": [
          5280,
          5280,
          4230,
          5282,
          5281,
          14767,
          5282,
          5282,
          4230,
          10552,
          5283,
          4231,
          10554,
          4232,
          5284,
          14769,
          5283,
          5284,
          9501,
          5284,
          5283,
          9501,
          5283,
          5283,
          4234,
          5284,
          29783,
          5285,
          5286,
          5287,
          4235,
          10556,
          5284,
          4233,
          5286,
          4496,
          5285,
          5286,
          5284,
          4235,
          5285,
          5285,
          5288,
          4234,
          5289,
          5286,
          4233,
          5286,
          5285,
          5289,
          14773,
          5288,
          4238,
          5289,
          5287,
          5287,
          4236,
          10561,
          4238,
          5290,
          5288,
          5289,
          4238,
          5287,
          5291,
          5289,
          4482,
          14783,
          5291,
          9513,
          5293,
          5289,
          5294,
          9512,
          5295,
          4236,
          15839,
          4245,
          5294,
          5299,
          5295
         ]
        }
       ],
       "layout": {
        "autosize": true,
        "plot_bgcolor": "rgba(0,0,0,0)",
        "template": {
         "data": {
          "bar": [
           {
            "error_x": {
             "color": "#2a3f5f"
            },
            "error_y": {
             "color": "#2a3f5f"
            },
            "marker": {
             "line": {
              "color": "#E5ECF6",
              "width": 0.5
             },
             "pattern": {
              "fillmode": "overlay",
              "size": 10,
              "solidity": 0.2
             }
            },
            "type": "bar"
           }
          ],
          "barpolar": [
           {
            "marker": {
             "line": {
              "color": "#E5ECF6",
              "width": 0.5
             },
             "pattern": {
              "fillmode": "overlay",
              "size": 10,
              "solidity": 0.2
             }
            },
            "type": "barpolar"
           }
          ],
          "carpet": [
           {
            "aaxis": {
             "endlinecolor": "#2a3f5f",
             "gridcolor": "white",
             "linecolor": "white",
             "minorgridcolor": "white",
             "startlinecolor": "#2a3f5f"
            },
            "baxis": {
             "endlinecolor": "#2a3f5f",
             "gridcolor": "white",
             "linecolor": "white",
             "minorgridcolor": "white",
             "startlinecolor": "#2a3f5f"
            },
            "type": "carpet"
           }
          ],
          "choropleth": [
           {
            "colorbar": {
             "outlinewidth": 0,
             "ticks": ""
            },
            "type": "choropleth"
           }
          ],
          "contour": [
           {
            "colorbar": {
             "outlinewidth": 0,
             "ticks": ""
            },
            "colorscale": [
             [
              0,
              "#0d0887"
             ],
             [
              0.1111111111111111,
              "#46039f"
             ],
             [
              0.2222222222222222,
              "#7201a8"
             ],
             [
              0.3333333333333333,
              "#9c179e"
             ],
             [
              0.4444444444444444,
              "#bd3786"
             ],
             [
              0.5555555555555556,
              "#d8576b"
             ],
             [
              0.6666666666666666,
              "#ed7953"
             ],
             [
              0.7777777777777778,
              "#fb9f3a"
             ],
             [
              0.8888888888888888,
              "#fdca26"
             ],
             [
              1,
              "#f0f921"
             ]
            ],
            "type": "contour"
           }
          ],
          "contourcarpet": [
           {
            "colorbar": {
             "outlinewidth": 0,
             "ticks": ""
            },
            "type": "contourcarpet"
           }
          ],
          "heatmap": [
           {
            "colorbar": {
             "outlinewidth": 0,
             "ticks": ""
            },
            "colorscale": [
             [
              0,
              "#0d0887"
             ],
             [
              0.1111111111111111,
              "#46039f"
             ],
             [
              0.2222222222222222,
              "#7201a8"
             ],
             [
              0.3333333333333333,
              "#9c179e"
             ],
             [
              0.4444444444444444,
              "#bd3786"
             ],
             [
              0.5555555555555556,
              "#d8576b"
             ],
             [
              0.6666666666666666,
              "#ed7953"
             ],
             [
              0.7777777777777778,
              "#fb9f3a"
             ],
             [
              0.8888888888888888,
              "#fdca26"
             ],
             [
              1,
              "#f0f921"
             ]
            ],
            "type": "heatmap"
           }
          ],
          "heatmapgl": [
           {
            "colorbar": {
             "outlinewidth": 0,
             "ticks": ""
            },
            "colorscale": [
             [
              0,
              "#0d0887"
             ],
             [
              0.1111111111111111,
              "#46039f"
             ],
             [
              0.2222222222222222,
              "#7201a8"
             ],
             [
              0.3333333333333333,
              "#9c179e"
             ],
             [
              0.4444444444444444,
              "#bd3786"
             ],
             [
              0.5555555555555556,
              "#d8576b"
             ],
             [
              0.6666666666666666,
              "#ed7953"
             ],
             [
              0.7777777777777778,
              "#fb9f3a"
             ],
             [
              0.8888888888888888,
              "#fdca26"
             ],
             [
              1,
              "#f0f921"
             ]
            ],
            "type": "heatmapgl"
           }
          ],
          "histogram": [
           {
            "marker": {
             "pattern": {
              "fillmode": "overlay",
              "size": 10,
              "solidity": 0.2
             }
            },
            "type": "histogram"
           }
          ],
          "histogram2d": [
           {
            "colorbar": {
             "outlinewidth": 0,
             "ticks": ""
            },
            "colorscale": [
             [
              0,
              "#0d0887"
             ],
             [
              0.1111111111111111,
              "#46039f"
             ],
             [
              0.2222222222222222,
              "#7201a8"
             ],
             [
              0.3333333333333333,
              "#9c179e"
             ],
             [
              0.4444444444444444,
              "#bd3786"
             ],
             [
              0.5555555555555556,
              "#d8576b"
             ],
             [
              0.6666666666666666,
              "#ed7953"
             ],
             [
              0.7777777777777778,
              "#fb9f3a"
             ],
             [
              0.8888888888888888,
              "#fdca26"
             ],
             [
              1,
              "#f0f921"
             ]
            ],
            "type": "histogram2d"
           }
          ],
          "histogram2dcontour": [
           {
            "colorbar": {
             "outlinewidth": 0,
             "ticks": ""
            },
            "colorscale": [
             [
              0,
              "#0d0887"
             ],
             [
              0.1111111111111111,
              "#46039f"
             ],
             [
              0.2222222222222222,
              "#7201a8"
             ],
             [
              0.3333333333333333,
              "#9c179e"
             ],
             [
              0.4444444444444444,
              "#bd3786"
             ],
             [
              0.5555555555555556,
              "#d8576b"
             ],
             [
              0.6666666666666666,
              "#ed7953"
             ],
             [
              0.7777777777777778,
              "#fb9f3a"
             ],
             [
              0.8888888888888888,
              "#fdca26"
             ],
             [
              1,
              "#f0f921"
             ]
            ],
            "type": "histogram2dcontour"
           }
          ],
          "mesh3d": [
           {
            "colorbar": {
             "outlinewidth": 0,
             "ticks": ""
            },
            "type": "mesh3d"
           }
          ],
          "parcoords": [
           {
            "line": {
             "colorbar": {
              "outlinewidth": 0,
              "ticks": ""
             }
            },
            "type": "parcoords"
           }
          ],
          "pie": [
           {
            "automargin": true,
            "type": "pie"
           }
          ],
          "scatter": [
           {
            "fillpattern": {
             "fillmode": "overlay",
             "size": 10,
             "solidity": 0.2
            },
            "type": "scatter"
           }
          ],
          "scatter3d": [
           {
            "line": {
             "colorbar": {
              "outlinewidth": 0,
              "ticks": ""
             }
            },
            "marker": {
             "colorbar": {
              "outlinewidth": 0,
              "ticks": ""
             }
            },
            "type": "scatter3d"
           }
          ],
          "scattercarpet": [
           {
            "marker": {
             "colorbar": {
              "outlinewidth": 0,
              "ticks": ""
             }
            },
            "type": "scattercarpet"
           }
          ],
          "scattergeo": [
           {
            "marker": {
             "colorbar": {
              "outlinewidth": 0,
              "ticks": ""
             }
            },
            "type": "scattergeo"
           }
          ],
          "scattergl": [
           {
            "marker": {
             "colorbar": {
              "outlinewidth": 0,
              "ticks": ""
             }
            },
            "type": "scattergl"
           }
          ],
          "scattermapbox": [
           {
            "marker": {
             "colorbar": {
              "outlinewidth": 0,
              "ticks": ""
             }
            },
            "type": "scattermapbox"
           }
          ],
          "scatterpolar": [
           {
            "marker": {
             "colorbar": {
              "outlinewidth": 0,
              "ticks": ""
             }
            },
            "type": "scatterpolar"
           }
          ],
          "scatterpolargl": [
           {
            "marker": {
             "colorbar": {
              "outlinewidth": 0,
              "ticks": ""
             }
            },
            "type": "scatterpolargl"
           }
          ],
          "scatterternary": [
           {
            "marker": {
             "colorbar": {
              "outlinewidth": 0,
              "ticks": ""
             }
            },
            "type": "scatterternary"
           }
          ],
          "surface": [
           {
            "colorbar": {
             "outlinewidth": 0,
             "ticks": ""
            },
            "colorscale": [
             [
              0,
              "#0d0887"
             ],
             [
              0.1111111111111111,
              "#46039f"
             ],
             [
              0.2222222222222222,
              "#7201a8"
             ],
             [
              0.3333333333333333,
              "#9c179e"
             ],
             [
              0.4444444444444444,
              "#bd3786"
             ],
             [
              0.5555555555555556,
              "#d8576b"
             ],
             [
              0.6666666666666666,
              "#ed7953"
             ],
             [
              0.7777777777777778,
              "#fb9f3a"
             ],
             [
              0.8888888888888888,
              "#fdca26"
             ],
             [
              1,
              "#f0f921"
             ]
            ],
            "type": "surface"
           }
          ],
          "table": [
           {
            "cells": {
             "fill": {
              "color": "#EBF0F8"
             },
             "line": {
              "color": "white"
             }
            },
            "header": {
             "fill": {
              "color": "#C8D4E3"
             },
             "line": {
              "color": "white"
             }
            },
            "type": "table"
           }
          ]
         },
         "layout": {
          "annotationdefaults": {
           "arrowcolor": "#2a3f5f",
           "arrowhead": 0,
           "arrowwidth": 1
          },
          "autotypenumbers": "strict",
          "coloraxis": {
           "colorbar": {
            "outlinewidth": 0,
            "ticks": ""
           }
          },
          "colorscale": {
           "diverging": [
            [
             0,
             "#8e0152"
            ],
            [
             0.1,
             "#c51b7d"
            ],
            [
             0.2,
             "#de77ae"
            ],
            [
             0.3,
             "#f1b6da"
            ],
            [
             0.4,
             "#fde0ef"
            ],
            [
             0.5,
             "#f7f7f7"
            ],
            [
             0.6,
             "#e6f5d0"
            ],
            [
             0.7,
             "#b8e186"
            ],
            [
             0.8,
             "#7fbc41"
            ],
            [
             0.9,
             "#4d9221"
            ],
            [
             1,
             "#276419"
            ]
           ],
           "sequential": [
            [
             0,
             "#0d0887"
            ],
            [
             0.1111111111111111,
             "#46039f"
            ],
            [
             0.2222222222222222,
             "#7201a8"
            ],
            [
             0.3333333333333333,
             "#9c179e"
            ],
            [
             0.4444444444444444,
             "#bd3786"
            ],
            [
             0.5555555555555556,
             "#d8576b"
            ],
            [
             0.6666666666666666,
             "#ed7953"
            ],
            [
             0.7777777777777778,
             "#fb9f3a"
            ],
            [
             0.8888888888888888,
             "#fdca26"
            ],
            [
             1,
             "#f0f921"
            ]
           ],
           "sequentialminus": [
            [
             0,
             "#0d0887"
            ],
            [
             0.1111111111111111,
             "#46039f"
            ],
            [
             0.2222222222222222,
             "#7201a8"
            ],
            [
             0.3333333333333333,
             "#9c179e"
            ],
            [
             0.4444444444444444,
             "#bd3786"
            ],
            [
             0.5555555555555556,
             "#d8576b"
            ],
            [
             0.6666666666666666,
             "#ed7953"
            ],
            [
             0.7777777777777778,
             "#fb9f3a"
            ],
            [
             0.8888888888888888,
             "#fdca26"
            ],
            [
             1,
             "#f0f921"
            ]
           ]
          },
          "colorway": [
           "#636efa",
           "#EF553B",
           "#00cc96",
           "#ab63fa",
           "#FFA15A",
           "#19d3f3",
           "#FF6692",
           "#B6E880",
           "#FF97FF",
           "#FECB52"
          ],
          "font": {
           "color": "#2a3f5f"
          },
          "geo": {
           "bgcolor": "white",
           "lakecolor": "white",
           "landcolor": "#E5ECF6",
           "showlakes": true,
           "showland": true,
           "subunitcolor": "white"
          },
          "hoverlabel": {
           "align": "left"
          },
          "hovermode": "closest",
          "mapbox": {
           "style": "light"
          },
          "paper_bgcolor": "white",
          "plot_bgcolor": "#E5ECF6",
          "polar": {
           "angularaxis": {
            "gridcolor": "white",
            "linecolor": "white",
            "ticks": ""
           },
           "bgcolor": "#E5ECF6",
           "radialaxis": {
            "gridcolor": "white",
            "linecolor": "white",
            "ticks": ""
           }
          },
          "scene": {
           "xaxis": {
            "backgroundcolor": "#E5ECF6",
            "gridcolor": "white",
            "gridwidth": 2,
            "linecolor": "white",
            "showbackground": true,
            "ticks": "",
            "zerolinecolor": "white"
           },
           "yaxis": {
            "backgroundcolor": "#E5ECF6",
            "gridcolor": "white",
            "gridwidth": 2,
            "linecolor": "white",
            "showbackground": true,
            "ticks": "",
            "zerolinecolor": "white"
           },
           "zaxis": {
            "backgroundcolor": "#E5ECF6",
            "gridcolor": "white",
            "gridwidth": 2,
            "linecolor": "white",
            "showbackground": true,
            "ticks": "",
            "zerolinecolor": "white"
           }
          },
          "shapedefaults": {
           "line": {
            "color": "#2a3f5f"
           }
          },
          "ternary": {
           "aaxis": {
            "gridcolor": "white",
            "linecolor": "white",
            "ticks": ""
           },
           "baxis": {
            "gridcolor": "white",
            "linecolor": "white",
            "ticks": ""
           },
           "bgcolor": "#E5ECF6",
           "caxis": {
            "gridcolor": "white",
            "linecolor": "white",
            "ticks": ""
           }
          },
          "title": {
           "x": 0.05
          },
          "xaxis": {
           "automargin": true,
           "gridcolor": "white",
           "linecolor": "white",
           "ticks": "",
           "title": {
            "standoff": 15
           },
           "zerolinecolor": "white",
           "zerolinewidth": 2
          },
          "yaxis": {
           "automargin": true,
           "gridcolor": "white",
           "linecolor": "white",
           "ticks": "",
           "title": {
            "standoff": 15
           },
           "zerolinecolor": "white",
           "zerolinewidth": 2
          }
         }
        },
        "title": {
         "text": "Execution Interval for '1-0-main-events'"
        },
        "xaxis": {
         "color": "black",
         "gridcolor": "lightgrey",
         "linecolor": "black",
         "mirror": true,
         "rangeslider": {
          "visible": true
         },
         "showline": true,
         "tickfont": {
          "size": 20
         },
         "ticks": "outside",
         "title": {
          "font": {
           "size": 20
          },
          "text": "Number of events"
         },
         "type": "linear"
        },
        "yaxis": {
         "color": "black",
         "gridcolor": "lightgrey",
         "linecolor": "black",
         "mirror": true,
         "showline": true,
         "tickfont": {
          "size": 20
         },
         "ticks": "outside",
         "title": {
          "font": {
           "size": 20
          },
          "text": "Execution interval (ms)"
         }
        }
       }
      }
     },
     "metadata": {},
     "output_type": "display_data"
    },
    {
     "data": {
      "application/vnd.plotly.v1+json": {
       "config": {
        "plotlyServerURL": "https://plot.ly"
       },
       "data": [
        {
         "line": {
          "width": 0.5
         },
         "marker": {
          "color": "midnightblue",
          "size": 8
         },
         "mode": "lines+markers",
         "name": "trace_trial1",
         "showlegend": true,
         "type": "scatter",
         "x": [
          61,
          87,
          109,
          135,
          161,
          229,
          255,
          281,
          303,
          352,
          378,
          400,
          449,
          471,
          497,
          565,
          591,
          617,
          662,
          688,
          714,
          759,
          785,
          811,
          833,
          859,
          991,
          1017,
          1043,
          1069,
          1091,
          1140,
          1166,
          1188,
          1214,
          1235,
          1261,
          1287,
          1313,
          1335,
          1361,
          1387,
          1413,
          1435,
          1461,
          1487,
          1509,
          1535,
          1561,
          1587,
          1655,
          1681,
          1703,
          1729,
          1755,
          1781,
          1803,
          1852,
          1874,
          1900,
          1926,
          1952,
          1974,
          2000,
          2026,
          2052,
          2073,
          2141,
          2167,
          2212,
          2238,
          2264,
          2290,
          2335,
          2361,
          2383,
          2455,
          2477,
          2503,
          2529,
          2555
         ],
         "y": [
          5280,
          5280,
          4230,
          5283,
          5280,
          14767,
          5282,
          5282,
          4231,
          10551,
          5283,
          4231,
          10554,
          4232,
          5284,
          14768,
          5284,
          5284,
          9502,
          5283,
          5283,
          9501,
          5283,
          5284,
          4233,
          5284,
          29783,
          5285,
          5286,
          5287,
          4235,
          10556,
          5284,
          4233,
          5286,
          4496,
          5285,
          5286,
          5284,
          4235,
          5285,
          5285,
          5288,
          4234,
          5289,
          5286,
          4233,
          5286,
          5285,
          5289,
          14773,
          5288,
          4238,
          5289,
          5288,
          5285,
          4237,
          10561,
          4238,
          5290,
          5288,
          5289,
          4238,
          5289,
          5289,
          5289,
          4482,
          14783,
          5291,
          9513,
          5293,
          5289,
          5294,
          9514,
          5293,
          4236,
          15839,
          4245,
          5294,
          5299,
          5295
         ]
        }
       ],
       "layout": {
        "autosize": true,
        "plot_bgcolor": "rgba(0,0,0,0)",
        "template": {
         "data": {
          "bar": [
           {
            "error_x": {
             "color": "#2a3f5f"
            },
            "error_y": {
             "color": "#2a3f5f"
            },
            "marker": {
             "line": {
              "color": "#E5ECF6",
              "width": 0.5
             },
             "pattern": {
              "fillmode": "overlay",
              "size": 10,
              "solidity": 0.2
             }
            },
            "type": "bar"
           }
          ],
          "barpolar": [
           {
            "marker": {
             "line": {
              "color": "#E5ECF6",
              "width": 0.5
             },
             "pattern": {
              "fillmode": "overlay",
              "size": 10,
              "solidity": 0.2
             }
            },
            "type": "barpolar"
           }
          ],
          "carpet": [
           {
            "aaxis": {
             "endlinecolor": "#2a3f5f",
             "gridcolor": "white",
             "linecolor": "white",
             "minorgridcolor": "white",
             "startlinecolor": "#2a3f5f"
            },
            "baxis": {
             "endlinecolor": "#2a3f5f",
             "gridcolor": "white",
             "linecolor": "white",
             "minorgridcolor": "white",
             "startlinecolor": "#2a3f5f"
            },
            "type": "carpet"
           }
          ],
          "choropleth": [
           {
            "colorbar": {
             "outlinewidth": 0,
             "ticks": ""
            },
            "type": "choropleth"
           }
          ],
          "contour": [
           {
            "colorbar": {
             "outlinewidth": 0,
             "ticks": ""
            },
            "colorscale": [
             [
              0,
              "#0d0887"
             ],
             [
              0.1111111111111111,
              "#46039f"
             ],
             [
              0.2222222222222222,
              "#7201a8"
             ],
             [
              0.3333333333333333,
              "#9c179e"
             ],
             [
              0.4444444444444444,
              "#bd3786"
             ],
             [
              0.5555555555555556,
              "#d8576b"
             ],
             [
              0.6666666666666666,
              "#ed7953"
             ],
             [
              0.7777777777777778,
              "#fb9f3a"
             ],
             [
              0.8888888888888888,
              "#fdca26"
             ],
             [
              1,
              "#f0f921"
             ]
            ],
            "type": "contour"
           }
          ],
          "contourcarpet": [
           {
            "colorbar": {
             "outlinewidth": 0,
             "ticks": ""
            },
            "type": "contourcarpet"
           }
          ],
          "heatmap": [
           {
            "colorbar": {
             "outlinewidth": 0,
             "ticks": ""
            },
            "colorscale": [
             [
              0,
              "#0d0887"
             ],
             [
              0.1111111111111111,
              "#46039f"
             ],
             [
              0.2222222222222222,
              "#7201a8"
             ],
             [
              0.3333333333333333,
              "#9c179e"
             ],
             [
              0.4444444444444444,
              "#bd3786"
             ],
             [
              0.5555555555555556,
              "#d8576b"
             ],
             [
              0.6666666666666666,
              "#ed7953"
             ],
             [
              0.7777777777777778,
              "#fb9f3a"
             ],
             [
              0.8888888888888888,
              "#fdca26"
             ],
             [
              1,
              "#f0f921"
             ]
            ],
            "type": "heatmap"
           }
          ],
          "heatmapgl": [
           {
            "colorbar": {
             "outlinewidth": 0,
             "ticks": ""
            },
            "colorscale": [
             [
              0,
              "#0d0887"
             ],
             [
              0.1111111111111111,
              "#46039f"
             ],
             [
              0.2222222222222222,
              "#7201a8"
             ],
             [
              0.3333333333333333,
              "#9c179e"
             ],
             [
              0.4444444444444444,
              "#bd3786"
             ],
             [
              0.5555555555555556,
              "#d8576b"
             ],
             [
              0.6666666666666666,
              "#ed7953"
             ],
             [
              0.7777777777777778,
              "#fb9f3a"
             ],
             [
              0.8888888888888888,
              "#fdca26"
             ],
             [
              1,
              "#f0f921"
             ]
            ],
            "type": "heatmapgl"
           }
          ],
          "histogram": [
           {
            "marker": {
             "pattern": {
              "fillmode": "overlay",
              "size": 10,
              "solidity": 0.2
             }
            },
            "type": "histogram"
           }
          ],
          "histogram2d": [
           {
            "colorbar": {
             "outlinewidth": 0,
             "ticks": ""
            },
            "colorscale": [
             [
              0,
              "#0d0887"
             ],
             [
              0.1111111111111111,
              "#46039f"
             ],
             [
              0.2222222222222222,
              "#7201a8"
             ],
             [
              0.3333333333333333,
              "#9c179e"
             ],
             [
              0.4444444444444444,
              "#bd3786"
             ],
             [
              0.5555555555555556,
              "#d8576b"
             ],
             [
              0.6666666666666666,
              "#ed7953"
             ],
             [
              0.7777777777777778,
              "#fb9f3a"
             ],
             [
              0.8888888888888888,
              "#fdca26"
             ],
             [
              1,
              "#f0f921"
             ]
            ],
            "type": "histogram2d"
           }
          ],
          "histogram2dcontour": [
           {
            "colorbar": {
             "outlinewidth": 0,
             "ticks": ""
            },
            "colorscale": [
             [
              0,
              "#0d0887"
             ],
             [
              0.1111111111111111,
              "#46039f"
             ],
             [
              0.2222222222222222,
              "#7201a8"
             ],
             [
              0.3333333333333333,
              "#9c179e"
             ],
             [
              0.4444444444444444,
              "#bd3786"
             ],
             [
              0.5555555555555556,
              "#d8576b"
             ],
             [
              0.6666666666666666,
              "#ed7953"
             ],
             [
              0.7777777777777778,
              "#fb9f3a"
             ],
             [
              0.8888888888888888,
              "#fdca26"
             ],
             [
              1,
              "#f0f921"
             ]
            ],
            "type": "histogram2dcontour"
           }
          ],
          "mesh3d": [
           {
            "colorbar": {
             "outlinewidth": 0,
             "ticks": ""
            },
            "type": "mesh3d"
           }
          ],
          "parcoords": [
           {
            "line": {
             "colorbar": {
              "outlinewidth": 0,
              "ticks": ""
             }
            },
            "type": "parcoords"
           }
          ],
          "pie": [
           {
            "automargin": true,
            "type": "pie"
           }
          ],
          "scatter": [
           {
            "fillpattern": {
             "fillmode": "overlay",
             "size": 10,
             "solidity": 0.2
            },
            "type": "scatter"
           }
          ],
          "scatter3d": [
           {
            "line": {
             "colorbar": {
              "outlinewidth": 0,
              "ticks": ""
             }
            },
            "marker": {
             "colorbar": {
              "outlinewidth": 0,
              "ticks": ""
             }
            },
            "type": "scatter3d"
           }
          ],
          "scattercarpet": [
           {
            "marker": {
             "colorbar": {
              "outlinewidth": 0,
              "ticks": ""
             }
            },
            "type": "scattercarpet"
           }
          ],
          "scattergeo": [
           {
            "marker": {
             "colorbar": {
              "outlinewidth": 0,
              "ticks": ""
             }
            },
            "type": "scattergeo"
           }
          ],
          "scattergl": [
           {
            "marker": {
             "colorbar": {
              "outlinewidth": 0,
              "ticks": ""
             }
            },
            "type": "scattergl"
           }
          ],
          "scattermapbox": [
           {
            "marker": {
             "colorbar": {
              "outlinewidth": 0,
              "ticks": ""
             }
            },
            "type": "scattermapbox"
           }
          ],
          "scatterpolar": [
           {
            "marker": {
             "colorbar": {
              "outlinewidth": 0,
              "ticks": ""
             }
            },
            "type": "scatterpolar"
           }
          ],
          "scatterpolargl": [
           {
            "marker": {
             "colorbar": {
              "outlinewidth": 0,
              "ticks": ""
             }
            },
            "type": "scatterpolargl"
           }
          ],
          "scatterternary": [
           {
            "marker": {
             "colorbar": {
              "outlinewidth": 0,
              "ticks": ""
             }
            },
            "type": "scatterternary"
           }
          ],
          "surface": [
           {
            "colorbar": {
             "outlinewidth": 0,
             "ticks": ""
            },
            "colorscale": [
             [
              0,
              "#0d0887"
             ],
             [
              0.1111111111111111,
              "#46039f"
             ],
             [
              0.2222222222222222,
              "#7201a8"
             ],
             [
              0.3333333333333333,
              "#9c179e"
             ],
             [
              0.4444444444444444,
              "#bd3786"
             ],
             [
              0.5555555555555556,
              "#d8576b"
             ],
             [
              0.6666666666666666,
              "#ed7953"
             ],
             [
              0.7777777777777778,
              "#fb9f3a"
             ],
             [
              0.8888888888888888,
              "#fdca26"
             ],
             [
              1,
              "#f0f921"
             ]
            ],
            "type": "surface"
           }
          ],
          "table": [
           {
            "cells": {
             "fill": {
              "color": "#EBF0F8"
             },
             "line": {
              "color": "white"
             }
            },
            "header": {
             "fill": {
              "color": "#C8D4E3"
             },
             "line": {
              "color": "white"
             }
            },
            "type": "table"
           }
          ]
         },
         "layout": {
          "annotationdefaults": {
           "arrowcolor": "#2a3f5f",
           "arrowhead": 0,
           "arrowwidth": 1
          },
          "autotypenumbers": "strict",
          "coloraxis": {
           "colorbar": {
            "outlinewidth": 0,
            "ticks": ""
           }
          },
          "colorscale": {
           "diverging": [
            [
             0,
             "#8e0152"
            ],
            [
             0.1,
             "#c51b7d"
            ],
            [
             0.2,
             "#de77ae"
            ],
            [
             0.3,
             "#f1b6da"
            ],
            [
             0.4,
             "#fde0ef"
            ],
            [
             0.5,
             "#f7f7f7"
            ],
            [
             0.6,
             "#e6f5d0"
            ],
            [
             0.7,
             "#b8e186"
            ],
            [
             0.8,
             "#7fbc41"
            ],
            [
             0.9,
             "#4d9221"
            ],
            [
             1,
             "#276419"
            ]
           ],
           "sequential": [
            [
             0,
             "#0d0887"
            ],
            [
             0.1111111111111111,
             "#46039f"
            ],
            [
             0.2222222222222222,
             "#7201a8"
            ],
            [
             0.3333333333333333,
             "#9c179e"
            ],
            [
             0.4444444444444444,
             "#bd3786"
            ],
            [
             0.5555555555555556,
             "#d8576b"
            ],
            [
             0.6666666666666666,
             "#ed7953"
            ],
            [
             0.7777777777777778,
             "#fb9f3a"
            ],
            [
             0.8888888888888888,
             "#fdca26"
            ],
            [
             1,
             "#f0f921"
            ]
           ],
           "sequentialminus": [
            [
             0,
             "#0d0887"
            ],
            [
             0.1111111111111111,
             "#46039f"
            ],
            [
             0.2222222222222222,
             "#7201a8"
            ],
            [
             0.3333333333333333,
             "#9c179e"
            ],
            [
             0.4444444444444444,
             "#bd3786"
            ],
            [
             0.5555555555555556,
             "#d8576b"
            ],
            [
             0.6666666666666666,
             "#ed7953"
            ],
            [
             0.7777777777777778,
             "#fb9f3a"
            ],
            [
             0.8888888888888888,
             "#fdca26"
            ],
            [
             1,
             "#f0f921"
            ]
           ]
          },
          "colorway": [
           "#636efa",
           "#EF553B",
           "#00cc96",
           "#ab63fa",
           "#FFA15A",
           "#19d3f3",
           "#FF6692",
           "#B6E880",
           "#FF97FF",
           "#FECB52"
          ],
          "font": {
           "color": "#2a3f5f"
          },
          "geo": {
           "bgcolor": "white",
           "lakecolor": "white",
           "landcolor": "#E5ECF6",
           "showlakes": true,
           "showland": true,
           "subunitcolor": "white"
          },
          "hoverlabel": {
           "align": "left"
          },
          "hovermode": "closest",
          "mapbox": {
           "style": "light"
          },
          "paper_bgcolor": "white",
          "plot_bgcolor": "#E5ECF6",
          "polar": {
           "angularaxis": {
            "gridcolor": "white",
            "linecolor": "white",
            "ticks": ""
           },
           "bgcolor": "#E5ECF6",
           "radialaxis": {
            "gridcolor": "white",
            "linecolor": "white",
            "ticks": ""
           }
          },
          "scene": {
           "xaxis": {
            "backgroundcolor": "#E5ECF6",
            "gridcolor": "white",
            "gridwidth": 2,
            "linecolor": "white",
            "showbackground": true,
            "ticks": "",
            "zerolinecolor": "white"
           },
           "yaxis": {
            "backgroundcolor": "#E5ECF6",
            "gridcolor": "white",
            "gridwidth": 2,
            "linecolor": "white",
            "showbackground": true,
            "ticks": "",
            "zerolinecolor": "white"
           },
           "zaxis": {
            "backgroundcolor": "#E5ECF6",
            "gridcolor": "white",
            "gridwidth": 2,
            "linecolor": "white",
            "showbackground": true,
            "ticks": "",
            "zerolinecolor": "white"
           }
          },
          "shapedefaults": {
           "line": {
            "color": "#2a3f5f"
           }
          },
          "ternary": {
           "aaxis": {
            "gridcolor": "white",
            "linecolor": "white",
            "ticks": ""
           },
           "baxis": {
            "gridcolor": "white",
            "linecolor": "white",
            "ticks": ""
           },
           "bgcolor": "#E5ECF6",
           "caxis": {
            "gridcolor": "white",
            "linecolor": "white",
            "ticks": ""
           }
          },
          "title": {
           "x": 0.05
          },
          "xaxis": {
           "automargin": true,
           "gridcolor": "white",
           "linecolor": "white",
           "ticks": "",
           "title": {
            "standoff": 15
           },
           "zerolinecolor": "white",
           "zerolinewidth": 2
          },
          "yaxis": {
           "automargin": true,
           "gridcolor": "white",
           "linecolor": "white",
           "ticks": "",
           "title": {
            "standoff": 15
           },
           "zerolinecolor": "white",
           "zerolinewidth": 2
          }
         }
        },
        "title": {
         "text": "Execution Interval for '1-control-update_rxmsg-drop'"
        },
        "xaxis": {
         "color": "black",
         "gridcolor": "lightgrey",
         "linecolor": "black",
         "mirror": true,
         "rangeslider": {
          "visible": true
         },
         "showline": true,
         "tickfont": {
          "size": 20
         },
         "ticks": "outside",
         "title": {
          "font": {
           "size": 20
          },
          "text": "Number of events"
         },
         "type": "linear"
        },
        "yaxis": {
         "color": "black",
         "gridcolor": "lightgrey",
         "linecolor": "black",
         "mirror": true,
         "showline": true,
         "tickfont": {
          "size": 20
         },
         "ticks": "outside",
         "title": {
          "font": {
           "size": 20
          },
          "text": "Execution interval (ms)"
         }
        }
       }
      }
     },
     "metadata": {},
     "output_type": "display_data"
    }
   ],
   "source": [
    "### plot the data\n",
    "plot_list = plot_execution_interval_single(to_plot, is_xticks=False)\n",
    "for plot in plot_list:\n",
    "    plot.show()"
   ]
  },
  {
   "cell_type": "code",
   "execution_count": null,
   "metadata": {},
   "outputs": [],
   "source": []
  },
  {
   "cell_type": "markdown",
   "metadata": {},
   "source": [
    "## Plot Labels"
   ]
  },
  {
   "cell_type": "code",
   "execution_count": 12,
   "metadata": {},
   "outputs": [
    {
     "name": "stdout",
     "output_type": "stream",
     "text": [
      "../trace_data/theft_protection/single_thread/version_3/faulty_data/labels/trace1-com_label.json\n",
      "trace1-com_label.json defaultdict(<class 'int'>, {1: 22, 2: 3})\n",
      "trace2-sensor_label.json defaultdict(<class 'int'>, {1: 23, 2: 30})\n",
      "trace3-bitflip_label.json defaultdict(<class 'int'>, {1: 24, 2: 36, 3: 68})\n",
      "1 24\n",
      "2 36\n",
      "3 68\n"
     ]
    }
   ],
   "source": [
    "### count and prepare labels to plot\n",
    "'''\n",
    "labels are of format [index1, index2, timestamp1, timestamp2, class]\n",
    "'''\n",
    "class_count = defaultdict(int)\n",
    "for i, path in enumerate(paths_label):\n",
    "    label_content = prepare_gt(path)\n",
    "    ind, ts, cls = label_content\n",
    "    # print(ind, ts, cls)\n",
    "    for c in cls:\n",
    "        class_count[c]+=1\n",
    "        \n",
    "    if i == trace_file:\n",
    "        print(path)\n",
    "        toplot_gt = label_content\n",
    "\n",
    "    print(os.path.split(path)[-1], class_count)\n",
    "\n",
    "    # break\n",
    "for key, val in class_count.items():\n",
    "    print(key, val)"
   ]
  },
  {
   "cell_type": "code",
   "execution_count": 13,
   "metadata": {},
   "outputs": [
    {
     "data": {
      "text/plain": [
       "([(180, 185),\n",
       "  (199, 204),\n",
       "  (322, 327),\n",
       "  (419, 424),\n",
       "  (516, 521),\n",
       "  (539, 544),\n",
       "  (636, 641),\n",
       "  (733, 738),\n",
       "  (878, 883),\n",
       "  (901, 906),\n",
       "  (920, 924),\n",
       "  (942, 947),\n",
       "  (965, 970),\n",
       "  (1110, 1115),\n",
       "  (1218, 1225),\n",
       "  (1602, 1607),\n",
       "  (1625, 1630),\n",
       "  (1822, 1827),\n",
       "  (2067, 2074),\n",
       "  (2092, 2097),\n",
       "  (2111, 2116),\n",
       "  (2186, 2191),\n",
       "  (2305, 2310),\n",
       "  (2402, 2407),\n",
       "  (2425, 2430)],\n",
       " [(37775, 38831),\n",
       "  (41993, 43048),\n",
       "  (67337, 68393),\n",
       "  (87403, 88459),\n",
       "  (107472, 108529),\n",
       "  (112741, 113797),\n",
       "  (132810, 133867),\n",
       "  (152877, 153933),\n",
       "  (182463, 183518),\n",
       "  (187732, 188789),\n",
       "  (191951, 193261),\n",
       "  (197475, 198530),\n",
       "  (202743, 203799),\n",
       "  (232341, 233397),\n",
       "  (254532, 256897),\n",
       "  (331993, 333050),\n",
       "  (337263, 338321),\n",
       "  (377448, 378504),\n",
       "  (427165, 428485),\n",
       "  (432701, 433757),\n",
       "  (436922, 437977),\n",
       "  (452779, 453835),\n",
       "  (477115, 478173),\n",
       "  (497211, 498267),\n",
       "  (502485, 503541)],\n",
       " [1, 1, 1, 1, 1, 1, 1, 1, 1, 1, 2, 1, 1, 1, 2, 1, 1, 1, 2, 1, 1, 1, 1, 1, 1])"
      ]
     },
     "execution_count": 13,
     "metadata": {},
     "output_type": "execute_result"
    }
   ],
   "source": [
    "toplot_gt"
   ]
  },
  {
   "cell_type": "code",
   "execution_count": 10,
   "metadata": {},
   "outputs": [
    {
     "data": {
      "application/vnd.plotly.v1+json": {
       "config": {
        "plotlyServerURL": "https://plot.ly"
       },
       "data": [
        {
         "line": {
          "width": 0.5
         },
         "marker": {
          "color": "midnightblue",
          "size": 8
         },
         "mode": "lines+markers",
         "name": "trace3-bitflip",
         "showlegend": true,
         "type": "scatter",
         "y": [
          0,
          1,
          2,
          3,
          4,
          5,
          6,
          7,
          8,
          9,
          6,
          7,
          8,
          9,
          6,
          7,
          8,
          9,
          6,
          7,
          8,
          9,
          6,
          7,
          8,
          9,
          10,
          11,
          12,
          6,
          7,
          8,
          9,
          13,
          14,
          15,
          6,
          7,
          8,
          9,
          6,
          7,
          8,
          9,
          6,
          7,
          8,
          9,
          6,
          7,
          8,
          9,
          10,
          11,
          12,
          6,
          7,
          8,
          9,
          13,
          14,
          15,
          6,
          7,
          8,
          9,
          6,
          7,
          8,
          9,
          6,
          7,
          8,
          9,
          6,
          7,
          8,
          9,
          10,
          11,
          12,
          6,
          7,
          8,
          9,
          13,
          14,
          15,
          6,
          7,
          8,
          9,
          6,
          7,
          8,
          9,
          6,
          7,
          8,
          9,
          10,
          11,
          12,
          6,
          7,
          8,
          9,
          13,
          14,
          15,
          6,
          7,
          8,
          9,
          6,
          7,
          8,
          9,
          6,
          7,
          8,
          9,
          6,
          7,
          8,
          9,
          10,
          11,
          12,
          6,
          7,
          8,
          9,
          13,
          14,
          15,
          6,
          7,
          8,
          9,
          13,
          14,
          6,
          7,
          8,
          9,
          13,
          14,
          6,
          7,
          8,
          9,
          13,
          14,
          6,
          7,
          8,
          9,
          10,
          11,
          12,
          13,
          14,
          6,
          7,
          8,
          9,
          13,
          14,
          15,
          6,
          7,
          8,
          9,
          13,
          14,
          6,
          7,
          8,
          9,
          13,
          14,
          6,
          7,
          8,
          9,
          13,
          14,
          6,
          7,
          8,
          9,
          10,
          11,
          12,
          13,
          14,
          6,
          7,
          8,
          9,
          13,
          14,
          6,
          7,
          8,
          9,
          13,
          14,
          15,
          6,
          7,
          8,
          9,
          13,
          14,
          6,
          7,
          8,
          9,
          10,
          11,
          12,
          13,
          14,
          6,
          7,
          8,
          9,
          13,
          14,
          15,
          6,
          7,
          8,
          9,
          13,
          14,
          6,
          7,
          8,
          9,
          13,
          14,
          6,
          7,
          8,
          9,
          13,
          14,
          6,
          7,
          8,
          9,
          10,
          11,
          12,
          13,
          14,
          6,
          7,
          8,
          9,
          13,
          14,
          15,
          6,
          7,
          8,
          9,
          13,
          14,
          6,
          7,
          8,
          9,
          13,
          14,
          6,
          7,
          8,
          9,
          13,
          14,
          6,
          7,
          8,
          9,
          10,
          11,
          12,
          13,
          14,
          6,
          7,
          8,
          9,
          13,
          14,
          15,
          6,
          7,
          8,
          9,
          13,
          14,
          6,
          7,
          8,
          9,
          13,
          14,
          6,
          7,
          8,
          9,
          10,
          11,
          12,
          13,
          14,
          6,
          7,
          8,
          9,
          13,
          14,
          15,
          6,
          7,
          8,
          9,
          6,
          7,
          8,
          9,
          6,
          7,
          8,
          9,
          6,
          7,
          8,
          9,
          10,
          11,
          12,
          6,
          7,
          8,
          9,
          13,
          14,
          15,
          6,
          7,
          8,
          9,
          6,
          7,
          8,
          9,
          6,
          7,
          8,
          9,
          6,
          7,
          8,
          9,
          10,
          11,
          12,
          6,
          7,
          8,
          9,
          13,
          14,
          15,
          6,
          7,
          8,
          9,
          6,
          7,
          8,
          9,
          6,
          7,
          8,
          9,
          6,
          7,
          8,
          9,
          10,
          11,
          12,
          6,
          7,
          8,
          9,
          13,
          14,
          15,
          6,
          7,
          8,
          9,
          6,
          7,
          8,
          9,
          6,
          7,
          8,
          9,
          10,
          11,
          12,
          6,
          7,
          8,
          9,
          13,
          14,
          15,
          6,
          7,
          8,
          9,
          6,
          7,
          8,
          9,
          6,
          7,
          8,
          9,
          6,
          7,
          8,
          9,
          10,
          11,
          12,
          6,
          7,
          8,
          9,
          13,
          14,
          15,
          6,
          7,
          8,
          9,
          6,
          7,
          8,
          9,
          6,
          7,
          8,
          9,
          6,
          7,
          8,
          9,
          10,
          11,
          12,
          6,
          7,
          8,
          9,
          13,
          14,
          15,
          6,
          7,
          8,
          9,
          6,
          7,
          8,
          9,
          6,
          7,
          8,
          9,
          10,
          11,
          12,
          6,
          7,
          8,
          9,
          6,
          7,
          8,
          9,
          13,
          14,
          15,
          6,
          7,
          8,
          9,
          6,
          7,
          8,
          9,
          6,
          7,
          8,
          9,
          10,
          11,
          12,
          6,
          7,
          8,
          9,
          13,
          14,
          15,
          6,
          7,
          8,
          9,
          6,
          7,
          8,
          9,
          6,
          7,
          8,
          9,
          6,
          7,
          8,
          9,
          10,
          11,
          12,
          6,
          7,
          8,
          9,
          6,
          7,
          8,
          9,
          6,
          7,
          8,
          9,
          6,
          7,
          8,
          9,
          6,
          7,
          8,
          9,
          10,
          11,
          12,
          6,
          7,
          8,
          9,
          13,
          14,
          15,
          6,
          7,
          8,
          9,
          6,
          7,
          8,
          9,
          6,
          7,
          8,
          9,
          10,
          11,
          12,
          6,
          7,
          8,
          9,
          13,
          14,
          15,
          6,
          7,
          8,
          9,
          6,
          7,
          8,
          9,
          6,
          7,
          8,
          9,
          6,
          7,
          8,
          9,
          10,
          11,
          12,
          6,
          7,
          8,
          9,
          13,
          14,
          15,
          6,
          7,
          8,
          9,
          6,
          7,
          8,
          9,
          6,
          7,
          8,
          9,
          6,
          7,
          8,
          9,
          10,
          11,
          12,
          6,
          7,
          8,
          9,
          13,
          14,
          15,
          6,
          7,
          8,
          9,
          6,
          7,
          8,
          9,
          6,
          7,
          8,
          9,
          6,
          7,
          8,
          9,
          10,
          11,
          12,
          6,
          7,
          8,
          9,
          13,
          14,
          15,
          6,
          7,
          8,
          9,
          6,
          7,
          8,
          9,
          6,
          7,
          8,
          9,
          10,
          11,
          12,
          6,
          7,
          8,
          9,
          13,
          14,
          15,
          6,
          7,
          8,
          9,
          6,
          7,
          8,
          9,
          6,
          7,
          8,
          9,
          6,
          7,
          8,
          9,
          10,
          11,
          12,
          6,
          7,
          8,
          9,
          13,
          14,
          15,
          6,
          7,
          8,
          9,
          6,
          7,
          8,
          9,
          6,
          7,
          8,
          9,
          6,
          7,
          8,
          9,
          10,
          11,
          12,
          6,
          7,
          8,
          9,
          13,
          14,
          15,
          6,
          7,
          8,
          9,
          6,
          7,
          8,
          9,
          6,
          7,
          8,
          9,
          6,
          7,
          8,
          9,
          10,
          11,
          12,
          6,
          7,
          8,
          9,
          13,
          14,
          15,
          6,
          7,
          8,
          9,
          6,
          7,
          8,
          9,
          6,
          7,
          8,
          9,
          10,
          11,
          12,
          6,
          7,
          8,
          9,
          13,
          14,
          15,
          6,
          7,
          8,
          9,
          6,
          7,
          8,
          9,
          6,
          7,
          8,
          9,
          6,
          7,
          8,
          10,
          11,
          12,
          6,
          7,
          8,
          9,
          13,
          14,
          15,
          6,
          7,
          8,
          9,
          6,
          7,
          8,
          9,
          6,
          7,
          8,
          9,
          10,
          11,
          12,
          6,
          7,
          8,
          9,
          13,
          14,
          15,
          6,
          7,
          8,
          9,
          6,
          7,
          8,
          9,
          6,
          7,
          8,
          9,
          6,
          7,
          8,
          9,
          10,
          11,
          12,
          6,
          7,
          8,
          13,
          14,
          15,
          6,
          7,
          8,
          9,
          6,
          7,
          8,
          9,
          6,
          7,
          8,
          9,
          10,
          11,
          12,
          6,
          7,
          8,
          9,
          13,
          14,
          15,
          6,
          7,
          8,
          9,
          6,
          7,
          8,
          9,
          6,
          7,
          8,
          9,
          6,
          7,
          8,
          9,
          10,
          11,
          12,
          6,
          7,
          8,
          9,
          13,
          14,
          15,
          6,
          7,
          8,
          9,
          6,
          7,
          8,
          9,
          6,
          7,
          8,
          9,
          6,
          7,
          8,
          9,
          10,
          11,
          12,
          6,
          7,
          8,
          13,
          14,
          15,
          6,
          7,
          8,
          9,
          6,
          7,
          8,
          9,
          6,
          7,
          8,
          9,
          10,
          11,
          12,
          6,
          7,
          8,
          9,
          13,
          14,
          15,
          6,
          7,
          8,
          9,
          6,
          7,
          8,
          9,
          6,
          7,
          8,
          9,
          6,
          7,
          8,
          9,
          10,
          11,
          12,
          6,
          7,
          8,
          9,
          13,
          14,
          15,
          6,
          7,
          8,
          9,
          6,
          7,
          8,
          9,
          6,
          7,
          8,
          9,
          6,
          7,
          8,
          9,
          10,
          11,
          12,
          6,
          7,
          8,
          9,
          13,
          14,
          15,
          6,
          7,
          8,
          9,
          6,
          7,
          8,
          9,
          6,
          7,
          8,
          10,
          11,
          12,
          6,
          7,
          8,
          9,
          13,
          14,
          15,
          6,
          7,
          8,
          9,
          6,
          7,
          8,
          9,
          6,
          7,
          8,
          9,
          6,
          7,
          8,
          9,
          10,
          11,
          12,
          6,
          7,
          8,
          9,
          13,
          14,
          15,
          6,
          7,
          8,
          9,
          6,
          7,
          8,
          9,
          6,
          7,
          8,
          9,
          10,
          11,
          12,
          6,
          7,
          8,
          9,
          13,
          14,
          15,
          6,
          7,
          8,
          9,
          6,
          7,
          8,
          9,
          6,
          7,
          8,
          9,
          6,
          7,
          8,
          9,
          10,
          11,
          12,
          6,
          7,
          8,
          9,
          13,
          14,
          15,
          6,
          7,
          8,
          9,
          6,
          7,
          8,
          9,
          6,
          7,
          8,
          9,
          6,
          7,
          8,
          9,
          10,
          11,
          12,
          6,
          7,
          8,
          9,
          13,
          14,
          15,
          6,
          7,
          8,
          9,
          6,
          7,
          8,
          9,
          6,
          7,
          8,
          9,
          6,
          7,
          8,
          9,
          10,
          11,
          12,
          6,
          7,
          8,
          9,
          13,
          14,
          15,
          6,
          7,
          8,
          9,
          6,
          7,
          8,
          9,
          6,
          7,
          8,
          9,
          10,
          11,
          12,
          6,
          7,
          8,
          9,
          6,
          7,
          8,
          9,
          13,
          14,
          15,
          6,
          7,
          8,
          9,
          6,
          7,
          8,
          9,
          6,
          7,
          8,
          9,
          10,
          11,
          12,
          6,
          7,
          8,
          9,
          13,
          14,
          15,
          6,
          7,
          8,
          9,
          13,
          14,
          6,
          7,
          8,
          9,
          13,
          14,
          6,
          7,
          8,
          9,
          13,
          14,
          6,
          7,
          8,
          9,
          10,
          11,
          12,
          13,
          14,
          6,
          7,
          8,
          9,
          13,
          14,
          15,
          6,
          7,
          8,
          9,
          13,
          14,
          6,
          7,
          8,
          9,
          13,
          14,
          6,
          7,
          8,
          9,
          13,
          14,
          6,
          7,
          8,
          9,
          10,
          11,
          12,
          13,
          14,
          6,
          7,
          8,
          9,
          13,
          14,
          15,
          6,
          7,
          8,
          9,
          13,
          14,
          6,
          7,
          8,
          9,
          13,
          14,
          6,
          7,
          8,
          9,
          10,
          11,
          12,
          13,
          14,
          6,
          7,
          8,
          9,
          13,
          14,
          15,
          6,
          7,
          8,
          9,
          13,
          14,
          6,
          7,
          8,
          9,
          13,
          14,
          6,
          7,
          8,
          9,
          13,
          14,
          6,
          7,
          8,
          9,
          10,
          11,
          12,
          13,
          14,
          6,
          7,
          8,
          9,
          13,
          14,
          15,
          6,
          7,
          8,
          9,
          13,
          14,
          6,
          7,
          8,
          9,
          13,
          14,
          6,
          7,
          8,
          9,
          13,
          14,
          6,
          7,
          8,
          9,
          10,
          11,
          12,
          13,
          14,
          6,
          7,
          8,
          9,
          13,
          14,
          15,
          6,
          7,
          8,
          9,
          13,
          14,
          6,
          7,
          8,
          9,
          13,
          14,
          6,
          7,
          8,
          9,
          10,
          11,
          12,
          13,
          14,
          6,
          7,
          8,
          9,
          13,
          14,
          15,
          6,
          7,
          8,
          9,
          13,
          14,
          6,
          7,
          8,
          9,
          13,
          14,
          6,
          7,
          8,
          9,
          6,
          7,
          8,
          9,
          10,
          11,
          12,
          6,
          7,
          8,
          9,
          13,
          14,
          15,
          6,
          7,
          8,
          9,
          6,
          7,
          8,
          9,
          6,
          7,
          8,
          9,
          6,
          7,
          8,
          9,
          10,
          11,
          12,
          6,
          7,
          8,
          9,
          13,
          14,
          15,
          6,
          7,
          8,
          9,
          6,
          7,
          8,
          9,
          6,
          7,
          8,
          9,
          10,
          11,
          12,
          6,
          7,
          8,
          9,
          13,
          14,
          15,
          6,
          7,
          8,
          9,
          6,
          7,
          8,
          9,
          6,
          7,
          8,
          9,
          6,
          7,
          8,
          9,
          10,
          11,
          12,
          6,
          7,
          8,
          13,
          14,
          15,
          6,
          7,
          8,
          9,
          6,
          7,
          8,
          9,
          6,
          7,
          8,
          9,
          6,
          7,
          8,
          9,
          10,
          11,
          12,
          6,
          7,
          8,
          9,
          13,
          14,
          15,
          6,
          7,
          8,
          9,
          6,
          7,
          8,
          9,
          6,
          7,
          8,
          9,
          10,
          11,
          12,
          6,
          7,
          8,
          9,
          13,
          14,
          15,
          6,
          7,
          8,
          9,
          6,
          7,
          8,
          9,
          6,
          7,
          8,
          9,
          6,
          7,
          8,
          9,
          10,
          11,
          12,
          6,
          7,
          8,
          9,
          13,
          14,
          15,
          6,
          7,
          8,
          9,
          6,
          7,
          8,
          9,
          6,
          7,
          8,
          9,
          6,
          7,
          8,
          9,
          10,
          11,
          12,
          6,
          7,
          8,
          9,
          13,
          14,
          15,
          6,
          7,
          8,
          9,
          6,
          7,
          8,
          9,
          6,
          7,
          8,
          9,
          6,
          7,
          8,
          9,
          10,
          11,
          12,
          6,
          7,
          8,
          9,
          13,
          14,
          15,
          6,
          7,
          8,
          9,
          6,
          7,
          8,
          9,
          6,
          7,
          8,
          9,
          10,
          11,
          12,
          6,
          7,
          8,
          9,
          6,
          7,
          8,
          9,
          13,
          14,
          15,
          6,
          7,
          8,
          9,
          6,
          7,
          8,
          9,
          6,
          7,
          8,
          9,
          10,
          11,
          12,
          6,
          7,
          8,
          9,
          13,
          14,
          15,
          6,
          7,
          8,
          9,
          6,
          7,
          8,
          9,
          6,
          7,
          8,
          9,
          6,
          7,
          8,
          9,
          10,
          11,
          12,
          6,
          7,
          8,
          9,
          13,
          14,
          15,
          6,
          7,
          8,
          9,
          6,
          7,
          8,
          9,
          6,
          7,
          8,
          9,
          6,
          7,
          8,
          9,
          10,
          11,
          12,
          6,
          7,
          8,
          9,
          13,
          14,
          15,
          6,
          7,
          8,
          9,
          6,
          7,
          8,
          9,
          6,
          7,
          8,
          9,
          10,
          11,
          12,
          6,
          7,
          8,
          9,
          13,
          14,
          15,
          6,
          7,
          8,
          9,
          6,
          7,
          8,
          9,
          6,
          7,
          8,
          9,
          6,
          7,
          8,
          9,
          10,
          11,
          12,
          6,
          7,
          8,
          9,
          13,
          14,
          15,
          6,
          7,
          8,
          9,
          6,
          7,
          8,
          9,
          6,
          7,
          8,
          9,
          6,
          7,
          8,
          9,
          10,
          11,
          12,
          6,
          7,
          8,
          9,
          13,
          14,
          15,
          6,
          7,
          8,
          9,
          6,
          7,
          8,
          9,
          6,
          7,
          8,
          9,
          10,
          11,
          12,
          6,
          7,
          8,
          9,
          13,
          14,
          15,
          6,
          7,
          8,
          9,
          6,
          7,
          8,
          9,
          6,
          7,
          8,
          9,
          6,
          7,
          8,
          9,
          10,
          11,
          12,
          6,
          7,
          8,
          9,
          13,
          14,
          15,
          6,
          7,
          8,
          9,
          6,
          7,
          8,
          9,
          6,
          7,
          8,
          9,
          6,
          7,
          8,
          9,
          10,
          11,
          12,
          6,
          7,
          8,
          9,
          13,
          14,
          15,
          6,
          7,
          8,
          9,
          6,
          7,
          8,
          9,
          6,
          7,
          8,
          9,
          6,
          7,
          8,
          9,
          10,
          11,
          12,
          6,
          7,
          8,
          9,
          13,
          14,
          15,
          6,
          7,
          8,
          9,
          6,
          7,
          8,
          9,
          6,
          7,
          8,
          9,
          10,
          11,
          12,
          6,
          7,
          8,
          9,
          13,
          14,
          15,
          6,
          7,
          8,
          9,
          6,
          7,
          8,
          9,
          6,
          7,
          8,
          9,
          6,
          7,
          8,
          9,
          10,
          11,
          12,
          6,
          7,
          8,
          9,
          13,
          14,
          15,
          6,
          7,
          8,
          9,
          6,
          7,
          8,
          9,
          6,
          7,
          8,
          9,
          6,
          7,
          8,
          9,
          10,
          11,
          12,
          6,
          7,
          8,
          9,
          13,
          14,
          15,
          6,
          7,
          8,
          9,
          6,
          7,
          8,
          9,
          6,
          7,
          8,
          9,
          6,
          7,
          8,
          9,
          10,
          11,
          12,
          6,
          7,
          8,
          9,
          13,
          14,
          15,
          6,
          7,
          8,
          9,
          6,
          7,
          8,
          9,
          6,
          7,
          8,
          9,
          10,
          11,
          12,
          6,
          7,
          8,
          9,
          6,
          7,
          8,
          9,
          13,
          14,
          15,
          6,
          7,
          8,
          9,
          6,
          7,
          8,
          9,
          6,
          7,
          8,
          9,
          10,
          11,
          12,
          6,
          7,
          8,
          9,
          13,
          14,
          15,
          6,
          7,
          8,
          6,
          7,
          8,
          9,
          6,
          7,
          8,
          9,
          10,
          11,
          12,
          6,
          7,
          8,
          9,
          13,
          14,
          15,
          6,
          7,
          8,
          9,
          6,
          7,
          8,
          9,
          6,
          7,
          8,
          9,
          6,
          7,
          8,
          9,
          10,
          11,
          12,
          6,
          7,
          8,
          9,
          13,
          14,
          15,
          6,
          7,
          8,
          9,
          6,
          7,
          8,
          9,
          6,
          7,
          8,
          9,
          6,
          7,
          8,
          9,
          10,
          11,
          12,
          6,
          7,
          8,
          9,
          13,
          14,
          15,
          6,
          7,
          8,
          9,
          6,
          7,
          8,
          9,
          6,
          7,
          8,
          9,
          6,
          7,
          8,
          9,
          10,
          11,
          12,
          6,
          7,
          8,
          9,
          13,
          14,
          15,
          6,
          7,
          8,
          9,
          6,
          7,
          8,
          9,
          6,
          7,
          8,
          9,
          10,
          11,
          12,
          6,
          7,
          8,
          9,
          13,
          14,
          15,
          6,
          7,
          8,
          9,
          6,
          7,
          8,
          9,
          6,
          7,
          8,
          9,
          6,
          7,
          8,
          9,
          10,
          11,
          12,
          6,
          7,
          8,
          9,
          13,
          14,
          15,
          6,
          7,
          8,
          9,
          6,
          7,
          8,
          9,
          6,
          7,
          8,
          9,
          6,
          7,
          8,
          9,
          10,
          11,
          12,
          6,
          7,
          8,
          9,
          13,
          14,
          15,
          6,
          7,
          8,
          9,
          6,
          7,
          8,
          9,
          6,
          7,
          8,
          9,
          6,
          7,
          8,
          9,
          10,
          11,
          12,
          6,
          7,
          8,
          9,
          13,
          14,
          15,
          6,
          7,
          8,
          9,
          6,
          7,
          8,
          9,
          6,
          7,
          8,
          9,
          10,
          11,
          12,
          6,
          7,
          8,
          9,
          13,
          14,
          15,
          6,
          7,
          8,
          9,
          6,
          7,
          8,
          9,
          6,
          7,
          8,
          9,
          6,
          7,
          8,
          9,
          10,
          11,
          12,
          6,
          7,
          8,
          9,
          13,
          14,
          15,
          6,
          7,
          8,
          9,
          6,
          7,
          8,
          9,
          6,
          7,
          8,
          9,
          6,
          7,
          8,
          9,
          10,
          11,
          12,
          6,
          7,
          8,
          9,
          13,
          14,
          15,
          6,
          7,
          8,
          9,
          13,
          14,
          6,
          7,
          8,
          9,
          13,
          14,
          6,
          7,
          8,
          9,
          10,
          11,
          12,
          13,
          14,
          6,
          7,
          8,
          9,
          13,
          14,
          15,
          6,
          7,
          8,
          9,
          13,
          14,
          6,
          7,
          8,
          9,
          13,
          14,
          6,
          7,
          8,
          9,
          13,
          14,
          6,
          7,
          8,
          9,
          10,
          11,
          12,
          13,
          14,
          6,
          7,
          8,
          9,
          13,
          14,
          15,
          6,
          7,
          8,
          9,
          13,
          14,
          6,
          7,
          8,
          9,
          13,
          14,
          6,
          7,
          8,
          9,
          13,
          14,
          6,
          7,
          8,
          9,
          10,
          11,
          12,
          13,
          14,
          6,
          7,
          8,
          9,
          13,
          14,
          15,
          6,
          7,
          8,
          9,
          13,
          14,
          6,
          7,
          8,
          9,
          13,
          14,
          6,
          7,
          8,
          9,
          13,
          14,
          6,
          7,
          8,
          9,
          10,
          11,
          12,
          13,
          14,
          6,
          7,
          8,
          9,
          13,
          14,
          15,
          6,
          7,
          8,
          9,
          13,
          14,
          6,
          7,
          8,
          9,
          13,
          14,
          6,
          7,
          8,
          9,
          10,
          11,
          12,
          13,
          14,
          6,
          7,
          8,
          9,
          13,
          14,
          15,
          6,
          7,
          8,
          9,
          13,
          14,
          6,
          7,
          8,
          9,
          13,
          14,
          6,
          7,
          8,
          9,
          13,
          14,
          6,
          7,
          8,
          9,
          10,
          11,
          12,
          13,
          14,
          6,
          7,
          8,
          9,
          13,
          14,
          15,
          6,
          7,
          8,
          9,
          6,
          7,
          8,
          9,
          6,
          7,
          8,
          9,
          6,
          7,
          8,
          9,
          10,
          11,
          12,
          6,
          7,
          8,
          9,
          13,
          14,
          15,
          6,
          7,
          8,
          9,
          6,
          7,
          8,
          9,
          6,
          7,
          8,
          9,
          10,
          11,
          12,
          6,
          7,
          8,
          9,
          13,
          14,
          15,
          6,
          7,
          8,
          9,
          6,
          7,
          8,
          9,
          6,
          7,
          8,
          9,
          6,
          7,
          8,
          9,
          10,
          11,
          12,
          6,
          7,
          8,
          9,
          13,
          14,
          15,
          6,
          7,
          8,
          9,
          6,
          7,
          8,
          9,
          6,
          7,
          8,
          9,
          6,
          7,
          8,
          9,
          10,
          11,
          12,
          6,
          7,
          8,
          9,
          13,
          14,
          15,
          6,
          7,
          8,
          9,
          6,
          7,
          8,
          9,
          6,
          7,
          8,
          9,
          6,
          7,
          8,
          9,
          10,
          11,
          12,
          6,
          7,
          8,
          9,
          13,
          14,
          15,
          6,
          7,
          8,
          9,
          6,
          7,
          8,
          9,
          6,
          7,
          8,
          9,
          10,
          11,
          12,
          6,
          7,
          8,
          9,
          13,
          14,
          15,
          6,
          7,
          8,
          9,
          6,
          7,
          8,
          9,
          6,
          7,
          8,
          9,
          6,
          7,
          8,
          9,
          10,
          11,
          12,
          6,
          7,
          8,
          9,
          13,
          14,
          15,
          6,
          7,
          8,
          9,
          6,
          7,
          8,
          9,
          6,
          7,
          8,
          9,
          6,
          7,
          8,
          9,
          10,
          11,
          12,
          6,
          7,
          8,
          9,
          13,
          14,
          15,
          6,
          7,
          8,
          9,
          6,
          7,
          8,
          9,
          6,
          7,
          8,
          9,
          10,
          11,
          12,
          6,
          7,
          8,
          9,
          13,
          14,
          15,
          6,
          7,
          8,
          9,
          6,
          7,
          8,
          9,
          6,
          7,
          8,
          9,
          6,
          7,
          8,
          9,
          10,
          11,
          12,
          6,
          7,
          8,
          9,
          13,
          14,
          15,
          6,
          7,
          8,
          9
         ]
        },
        {
         "line": {
          "width": 0.5
         },
         "marker": {
          "color": "lawngreen",
          "size": 8
         },
         "mode": "lines+markers",
         "name": "gt_communication",
         "showlegend": true,
         "type": "scatter",
         "x": [
          null
         ],
         "y": [
          null
         ]
        },
        {
         "line": {
          "width": 0.5
         },
         "marker": {
          "color": "blue",
          "size": 8
         },
         "mode": "lines+markers",
         "name": "gt_sensor",
         "showlegend": true,
         "type": "scatter",
         "x": [
          null
         ],
         "y": [
          null
         ]
        },
        {
         "line": {
          "width": 0.5
         },
         "marker": {
          "color": "goldenrod",
          "size": 8
         },
         "mode": "lines+markers",
         "name": "gt_bitflip",
         "showlegend": true,
         "type": "scatter",
         "x": [
          null
         ],
         "y": [
          null
         ]
        }
       ],
       "layout": {
        "autosize": true,
        "height": 800,
        "plot_bgcolor": "rgba(0,0,0,0)",
        "shapes": [
         {
          "fillcolor": "goldenrod",
          "layer": "below",
          "line": {
           "width": 0
          },
          "opacity": 0.5,
          "type": "rect",
          "x0": 139,
          "x1": 142,
          "xref": "x",
          "y0": 0,
          "y1": 1,
          "yref": "paper"
         },
         {
          "line": {
           "color": "goldenrod",
           "dash": "dot",
           "width": 2
          },
          "type": "line",
          "x0": 139,
          "x1": 139,
          "xref": "x",
          "y0": 0,
          "y1": 1,
          "yref": "paper"
         },
         {
          "line": {
           "color": "goldenrod",
           "dash": "dot",
           "width": 2
          },
          "type": "line",
          "x0": 142,
          "x1": 142,
          "xref": "x",
          "y0": 0,
          "y1": 1,
          "yref": "paper"
         },
         {
          "fillcolor": "goldenrod",
          "layer": "below",
          "line": {
           "width": 0
          },
          "opacity": 0.5,
          "type": "rect",
          "x0": 145,
          "x1": 148,
          "xref": "x",
          "y0": 0,
          "y1": 1,
          "yref": "paper"
         },
         {
          "line": {
           "color": "goldenrod",
           "dash": "dot",
           "width": 2
          },
          "type": "line",
          "x0": 145,
          "x1": 145,
          "xref": "x",
          "y0": 0,
          "y1": 1,
          "yref": "paper"
         },
         {
          "line": {
           "color": "goldenrod",
           "dash": "dot",
           "width": 2
          },
          "type": "line",
          "x0": 148,
          "x1": 148,
          "xref": "x",
          "y0": 0,
          "y1": 1,
          "yref": "paper"
         },
         {
          "fillcolor": "goldenrod",
          "layer": "below",
          "line": {
           "width": 0
          },
          "opacity": 0.5,
          "type": "rect",
          "x0": 151,
          "x1": 154,
          "xref": "x",
          "y0": 0,
          "y1": 1,
          "yref": "paper"
         },
         {
          "line": {
           "color": "goldenrod",
           "dash": "dot",
           "width": 2
          },
          "type": "line",
          "x0": 151,
          "x1": 151,
          "xref": "x",
          "y0": 0,
          "y1": 1,
          "yref": "paper"
         },
         {
          "line": {
           "color": "goldenrod",
           "dash": "dot",
           "width": 2
          },
          "type": "line",
          "x0": 154,
          "x1": 154,
          "xref": "x",
          "y0": 0,
          "y1": 1,
          "yref": "paper"
         },
         {
          "fillcolor": "goldenrod",
          "layer": "below",
          "line": {
           "width": 0
          },
          "opacity": 0.5,
          "type": "rect",
          "x0": 160,
          "x1": 163,
          "xref": "x",
          "y0": 0,
          "y1": 1,
          "yref": "paper"
         },
         {
          "line": {
           "color": "goldenrod",
           "dash": "dot",
           "width": 2
          },
          "type": "line",
          "x0": 160,
          "x1": 160,
          "xref": "x",
          "y0": 0,
          "y1": 1,
          "yref": "paper"
         },
         {
          "line": {
           "color": "goldenrod",
           "dash": "dot",
           "width": 2
          },
          "type": "line",
          "x0": 163,
          "x1": 163,
          "xref": "x",
          "y0": 0,
          "y1": 1,
          "yref": "paper"
         },
         {
          "fillcolor": "goldenrod",
          "layer": "below",
          "line": {
           "width": 0
          },
          "opacity": 0.5,
          "type": "rect",
          "x0": 173,
          "x1": 176,
          "xref": "x",
          "y0": 0,
          "y1": 1,
          "yref": "paper"
         },
         {
          "line": {
           "color": "goldenrod",
           "dash": "dot",
           "width": 2
          },
          "type": "line",
          "x0": 173,
          "x1": 173,
          "xref": "x",
          "y0": 0,
          "y1": 1,
          "yref": "paper"
         },
         {
          "line": {
           "color": "goldenrod",
           "dash": "dot",
           "width": 2
          },
          "type": "line",
          "x0": 176,
          "x1": 176,
          "xref": "x",
          "y0": 0,
          "y1": 1,
          "yref": "paper"
         },
         {
          "fillcolor": "goldenrod",
          "layer": "below",
          "line": {
           "width": 0
          },
          "opacity": 0.5,
          "type": "rect",
          "x0": 179,
          "x1": 182,
          "xref": "x",
          "y0": 0,
          "y1": 1,
          "yref": "paper"
         },
         {
          "line": {
           "color": "goldenrod",
           "dash": "dot",
           "width": 2
          },
          "type": "line",
          "x0": 179,
          "x1": 179,
          "xref": "x",
          "y0": 0,
          "y1": 1,
          "yref": "paper"
         },
         {
          "line": {
           "color": "goldenrod",
           "dash": "dot",
           "width": 2
          },
          "type": "line",
          "x0": 182,
          "x1": 182,
          "xref": "x",
          "y0": 0,
          "y1": 1,
          "yref": "paper"
         },
         {
          "fillcolor": "goldenrod",
          "layer": "below",
          "line": {
           "width": 0
          },
          "opacity": 0.5,
          "type": "rect",
          "x0": 185,
          "x1": 188,
          "xref": "x",
          "y0": 0,
          "y1": 1,
          "yref": "paper"
         },
         {
          "line": {
           "color": "goldenrod",
           "dash": "dot",
           "width": 2
          },
          "type": "line",
          "x0": 185,
          "x1": 185,
          "xref": "x",
          "y0": 0,
          "y1": 1,
          "yref": "paper"
         },
         {
          "line": {
           "color": "goldenrod",
           "dash": "dot",
           "width": 2
          },
          "type": "line",
          "x0": 188,
          "x1": 188,
          "xref": "x",
          "y0": 0,
          "y1": 1,
          "yref": "paper"
         },
         {
          "fillcolor": "goldenrod",
          "layer": "below",
          "line": {
           "width": 0
          },
          "opacity": 0.5,
          "type": "rect",
          "x0": 194,
          "x1": 197,
          "xref": "x",
          "y0": 0,
          "y1": 1,
          "yref": "paper"
         },
         {
          "line": {
           "color": "goldenrod",
           "dash": "dot",
           "width": 2
          },
          "type": "line",
          "x0": 194,
          "x1": 194,
          "xref": "x",
          "y0": 0,
          "y1": 1,
          "yref": "paper"
         },
         {
          "line": {
           "color": "goldenrod",
           "dash": "dot",
           "width": 2
          },
          "type": "line",
          "x0": 197,
          "x1": 197,
          "xref": "x",
          "y0": 0,
          "y1": 1,
          "yref": "paper"
         },
         {
          "fillcolor": "goldenrod",
          "layer": "below",
          "line": {
           "width": 0
          },
          "opacity": 0.5,
          "type": "rect",
          "x0": 200,
          "x1": 203,
          "xref": "x",
          "y0": 0,
          "y1": 1,
          "yref": "paper"
         },
         {
          "line": {
           "color": "goldenrod",
           "dash": "dot",
           "width": 2
          },
          "type": "line",
          "x0": 200,
          "x1": 200,
          "xref": "x",
          "y0": 0,
          "y1": 1,
          "yref": "paper"
         },
         {
          "line": {
           "color": "goldenrod",
           "dash": "dot",
           "width": 2
          },
          "type": "line",
          "x0": 203,
          "x1": 203,
          "xref": "x",
          "y0": 0,
          "y1": 1,
          "yref": "paper"
         },
         {
          "fillcolor": "goldenrod",
          "layer": "below",
          "line": {
           "width": 0
          },
          "opacity": 0.5,
          "type": "rect",
          "x0": 213,
          "x1": 216,
          "xref": "x",
          "y0": 0,
          "y1": 1,
          "yref": "paper"
         },
         {
          "line": {
           "color": "goldenrod",
           "dash": "dot",
           "width": 2
          },
          "type": "line",
          "x0": 213,
          "x1": 213,
          "xref": "x",
          "y0": 0,
          "y1": 1,
          "yref": "paper"
         },
         {
          "line": {
           "color": "goldenrod",
           "dash": "dot",
           "width": 2
          },
          "type": "line",
          "x0": 216,
          "x1": 216,
          "xref": "x",
          "y0": 0,
          "y1": 1,
          "yref": "paper"
         },
         {
          "fillcolor": "goldenrod",
          "layer": "below",
          "line": {
           "width": 0
          },
          "opacity": 0.5,
          "type": "rect",
          "x0": 222,
          "x1": 225,
          "xref": "x",
          "y0": 0,
          "y1": 1,
          "yref": "paper"
         },
         {
          "line": {
           "color": "goldenrod",
           "dash": "dot",
           "width": 2
          },
          "type": "line",
          "x0": 222,
          "x1": 222,
          "xref": "x",
          "y0": 0,
          "y1": 1,
          "yref": "paper"
         },
         {
          "line": {
           "color": "goldenrod",
           "dash": "dot",
           "width": 2
          },
          "type": "line",
          "x0": 225,
          "x1": 225,
          "xref": "x",
          "y0": 0,
          "y1": 1,
          "yref": "paper"
         },
         {
          "fillcolor": "goldenrod",
          "layer": "below",
          "line": {
           "width": 0
          },
          "opacity": 0.5,
          "type": "rect",
          "x0": 235,
          "x1": 238,
          "xref": "x",
          "y0": 0,
          "y1": 1,
          "yref": "paper"
         },
         {
          "line": {
           "color": "goldenrod",
           "dash": "dot",
           "width": 2
          },
          "type": "line",
          "x0": 235,
          "x1": 235,
          "xref": "x",
          "y0": 0,
          "y1": 1,
          "yref": "paper"
         },
         {
          "line": {
           "color": "goldenrod",
           "dash": "dot",
           "width": 2
          },
          "type": "line",
          "x0": 238,
          "x1": 238,
          "xref": "x",
          "y0": 0,
          "y1": 1,
          "yref": "paper"
         },
         {
          "fillcolor": "goldenrod",
          "layer": "below",
          "line": {
           "width": 0
          },
          "opacity": 0.5,
          "type": "rect",
          "x0": 241,
          "x1": 244,
          "xref": "x",
          "y0": 0,
          "y1": 1,
          "yref": "paper"
         },
         {
          "line": {
           "color": "goldenrod",
           "dash": "dot",
           "width": 2
          },
          "type": "line",
          "x0": 241,
          "x1": 241,
          "xref": "x",
          "y0": 0,
          "y1": 1,
          "yref": "paper"
         },
         {
          "line": {
           "color": "goldenrod",
           "dash": "dot",
           "width": 2
          },
          "type": "line",
          "x0": 244,
          "x1": 244,
          "xref": "x",
          "y0": 0,
          "y1": 1,
          "yref": "paper"
         },
         {
          "fillcolor": "goldenrod",
          "layer": "below",
          "line": {
           "width": 0
          },
          "opacity": 0.5,
          "type": "rect",
          "x0": 247,
          "x1": 250,
          "xref": "x",
          "y0": 0,
          "y1": 1,
          "yref": "paper"
         },
         {
          "line": {
           "color": "goldenrod",
           "dash": "dot",
           "width": 2
          },
          "type": "line",
          "x0": 247,
          "x1": 247,
          "xref": "x",
          "y0": 0,
          "y1": 1,
          "yref": "paper"
         },
         {
          "line": {
           "color": "goldenrod",
           "dash": "dot",
           "width": 2
          },
          "type": "line",
          "x0": 250,
          "x1": 250,
          "xref": "x",
          "y0": 0,
          "y1": 1,
          "yref": "paper"
         },
         {
          "fillcolor": "goldenrod",
          "layer": "below",
          "line": {
           "width": 0
          },
          "opacity": 0.5,
          "type": "rect",
          "x0": 256,
          "x1": 259,
          "xref": "x",
          "y0": 0,
          "y1": 1,
          "yref": "paper"
         },
         {
          "line": {
           "color": "goldenrod",
           "dash": "dot",
           "width": 2
          },
          "type": "line",
          "x0": 256,
          "x1": 256,
          "xref": "x",
          "y0": 0,
          "y1": 1,
          "yref": "paper"
         },
         {
          "line": {
           "color": "goldenrod",
           "dash": "dot",
           "width": 2
          },
          "type": "line",
          "x0": 259,
          "x1": 259,
          "xref": "x",
          "y0": 0,
          "y1": 1,
          "yref": "paper"
         },
         {
          "fillcolor": "goldenrod",
          "layer": "below",
          "line": {
           "width": 0
          },
          "opacity": 0.5,
          "type": "rect",
          "x0": 269,
          "x1": 272,
          "xref": "x",
          "y0": 0,
          "y1": 1,
          "yref": "paper"
         },
         {
          "line": {
           "color": "goldenrod",
           "dash": "dot",
           "width": 2
          },
          "type": "line",
          "x0": 269,
          "x1": 269,
          "xref": "x",
          "y0": 0,
          "y1": 1,
          "yref": "paper"
         },
         {
          "line": {
           "color": "goldenrod",
           "dash": "dot",
           "width": 2
          },
          "type": "line",
          "x0": 272,
          "x1": 272,
          "xref": "x",
          "y0": 0,
          "y1": 1,
          "yref": "paper"
         },
         {
          "fillcolor": "goldenrod",
          "layer": "below",
          "line": {
           "width": 0
          },
          "opacity": 0.5,
          "type": "rect",
          "x0": 275,
          "x1": 278,
          "xref": "x",
          "y0": 0,
          "y1": 1,
          "yref": "paper"
         },
         {
          "line": {
           "color": "goldenrod",
           "dash": "dot",
           "width": 2
          },
          "type": "line",
          "x0": 275,
          "x1": 275,
          "xref": "x",
          "y0": 0,
          "y1": 1,
          "yref": "paper"
         },
         {
          "line": {
           "color": "goldenrod",
           "dash": "dot",
           "width": 2
          },
          "type": "line",
          "x0": 278,
          "x1": 278,
          "xref": "x",
          "y0": 0,
          "y1": 1,
          "yref": "paper"
         },
         {
          "fillcolor": "goldenrod",
          "layer": "below",
          "line": {
           "width": 0
          },
          "opacity": 0.5,
          "type": "rect",
          "x0": 281,
          "x1": 284,
          "xref": "x",
          "y0": 0,
          "y1": 1,
          "yref": "paper"
         },
         {
          "line": {
           "color": "goldenrod",
           "dash": "dot",
           "width": 2
          },
          "type": "line",
          "x0": 281,
          "x1": 281,
          "xref": "x",
          "y0": 0,
          "y1": 1,
          "yref": "paper"
         },
         {
          "line": {
           "color": "goldenrod",
           "dash": "dot",
           "width": 2
          },
          "type": "line",
          "x0": 284,
          "x1": 284,
          "xref": "x",
          "y0": 0,
          "y1": 1,
          "yref": "paper"
         },
         {
          "fillcolor": "goldenrod",
          "layer": "below",
          "line": {
           "width": 0
          },
          "opacity": 0.5,
          "type": "rect",
          "x0": 290,
          "x1": 293,
          "xref": "x",
          "y0": 0,
          "y1": 1,
          "yref": "paper"
         },
         {
          "line": {
           "color": "goldenrod",
           "dash": "dot",
           "width": 2
          },
          "type": "line",
          "x0": 290,
          "x1": 290,
          "xref": "x",
          "y0": 0,
          "y1": 1,
          "yref": "paper"
         },
         {
          "line": {
           "color": "goldenrod",
           "dash": "dot",
           "width": 2
          },
          "type": "line",
          "x0": 293,
          "x1": 293,
          "xref": "x",
          "y0": 0,
          "y1": 1,
          "yref": "paper"
         },
         {
          "fillcolor": "goldenrod",
          "layer": "below",
          "line": {
           "width": 0
          },
          "opacity": 0.5,
          "type": "rect",
          "x0": 303,
          "x1": 306,
          "xref": "x",
          "y0": 0,
          "y1": 1,
          "yref": "paper"
         },
         {
          "line": {
           "color": "goldenrod",
           "dash": "dot",
           "width": 2
          },
          "type": "line",
          "x0": 303,
          "x1": 303,
          "xref": "x",
          "y0": 0,
          "y1": 1,
          "yref": "paper"
         },
         {
          "line": {
           "color": "goldenrod",
           "dash": "dot",
           "width": 2
          },
          "type": "line",
          "x0": 306,
          "x1": 306,
          "xref": "x",
          "y0": 0,
          "y1": 1,
          "yref": "paper"
         },
         {
          "fillcolor": "goldenrod",
          "layer": "below",
          "line": {
           "width": 0
          },
          "opacity": 0.5,
          "type": "rect",
          "x0": 309,
          "x1": 312,
          "xref": "x",
          "y0": 0,
          "y1": 1,
          "yref": "paper"
         },
         {
          "line": {
           "color": "goldenrod",
           "dash": "dot",
           "width": 2
          },
          "type": "line",
          "x0": 309,
          "x1": 309,
          "xref": "x",
          "y0": 0,
          "y1": 1,
          "yref": "paper"
         },
         {
          "line": {
           "color": "goldenrod",
           "dash": "dot",
           "width": 2
          },
          "type": "line",
          "x0": 312,
          "x1": 312,
          "xref": "x",
          "y0": 0,
          "y1": 1,
          "yref": "paper"
         },
         {
          "fillcolor": "goldenrod",
          "layer": "below",
          "line": {
           "width": 0
          },
          "opacity": 0.5,
          "type": "rect",
          "x0": 318,
          "x1": 321,
          "xref": "x",
          "y0": 0,
          "y1": 1,
          "yref": "paper"
         },
         {
          "line": {
           "color": "goldenrod",
           "dash": "dot",
           "width": 2
          },
          "type": "line",
          "x0": 318,
          "x1": 318,
          "xref": "x",
          "y0": 0,
          "y1": 1,
          "yref": "paper"
         },
         {
          "line": {
           "color": "goldenrod",
           "dash": "dot",
           "width": 2
          },
          "type": "line",
          "x0": 321,
          "x1": 321,
          "xref": "x",
          "y0": 0,
          "y1": 1,
          "yref": "paper"
         },
         {
          "fillcolor": "lawngreen",
          "layer": "below",
          "line": {
           "width": 0
          },
          "opacity": 0.5,
          "type": "rect",
          "x0": 544,
          "x1": 551,
          "xref": "x",
          "y0": 0,
          "y1": 1,
          "yref": "paper"
         },
         {
          "line": {
           "color": "lawngreen",
           "dash": "dot",
           "width": 2
          },
          "type": "line",
          "x0": 544,
          "x1": 544,
          "xref": "x",
          "y0": 0,
          "y1": 1,
          "yref": "paper"
         },
         {
          "line": {
           "color": "lawngreen",
           "dash": "dot",
           "width": 2
          },
          "type": "line",
          "x0": 551,
          "x1": 551,
          "xref": "x",
          "y0": 0,
          "y1": 1,
          "yref": "paper"
         },
         {
          "fillcolor": "blue",
          "layer": "below",
          "line": {
           "width": 0
          },
          "opacity": 0.5,
          "type": "rect",
          "x0": 810,
          "x1": 820,
          "xref": "x",
          "y0": 0,
          "y1": 1,
          "yref": "paper"
         },
         {
          "line": {
           "color": "blue",
           "dash": "dot",
           "width": 2
          },
          "type": "line",
          "x0": 810,
          "x1": 810,
          "xref": "x",
          "y0": 0,
          "y1": 1,
          "yref": "paper"
         },
         {
          "line": {
           "color": "blue",
           "dash": "dot",
           "width": 2
          },
          "type": "line",
          "x0": 820,
          "x1": 820,
          "xref": "x",
          "y0": 0,
          "y1": 1,
          "yref": "paper"
         },
         {
          "fillcolor": "blue",
          "layer": "below",
          "line": {
           "width": 0
          },
          "opacity": 0.5,
          "type": "rect",
          "x0": 865,
          "x1": 871,
          "xref": "x",
          "y0": 0,
          "y1": 1,
          "yref": "paper"
         },
         {
          "line": {
           "color": "blue",
           "dash": "dot",
           "width": 2
          },
          "type": "line",
          "x0": 865,
          "x1": 865,
          "xref": "x",
          "y0": 0,
          "y1": 1,
          "yref": "paper"
         },
         {
          "line": {
           "color": "blue",
           "dash": "dot",
           "width": 2
          },
          "type": "line",
          "x0": 871,
          "x1": 871,
          "xref": "x",
          "y0": 0,
          "y1": 1,
          "yref": "paper"
         },
         {
          "fillcolor": "blue",
          "layer": "below",
          "line": {
           "width": 0
          },
          "opacity": 0.5,
          "type": "rect",
          "x0": 938,
          "x1": 944,
          "xref": "x",
          "y0": 0,
          "y1": 1,
          "yref": "paper"
         },
         {
          "line": {
           "color": "blue",
           "dash": "dot",
           "width": 2
          },
          "type": "line",
          "x0": 938,
          "x1": 938,
          "xref": "x",
          "y0": 0,
          "y1": 1,
          "yref": "paper"
         },
         {
          "line": {
           "color": "blue",
           "dash": "dot",
           "width": 2
          },
          "type": "line",
          "x0": 944,
          "x1": 944,
          "xref": "x",
          "y0": 0,
          "y1": 1,
          "yref": "paper"
         },
         {
          "fillcolor": "blue",
          "layer": "below",
          "line": {
           "width": 0
          },
          "opacity": 0.5,
          "type": "rect",
          "x0": 1026,
          "x1": 1032,
          "xref": "x",
          "y0": 0,
          "y1": 1,
          "yref": "paper"
         },
         {
          "line": {
           "color": "blue",
           "dash": "dot",
           "width": 2
          },
          "type": "line",
          "x0": 1026,
          "x1": 1026,
          "xref": "x",
          "y0": 0,
          "y1": 1,
          "yref": "paper"
         },
         {
          "line": {
           "color": "blue",
           "dash": "dot",
           "width": 2
          },
          "type": "line",
          "x0": 1032,
          "x1": 1032,
          "xref": "x",
          "y0": 0,
          "y1": 1,
          "yref": "paper"
         },
         {
          "fillcolor": "goldenrod",
          "layer": "below",
          "line": {
           "width": 0
          },
          "opacity": 0.5,
          "type": "rect",
          "x0": 1216,
          "x1": 1219,
          "xref": "x",
          "y0": 0,
          "y1": 1,
          "yref": "paper"
         },
         {
          "line": {
           "color": "goldenrod",
           "dash": "dot",
           "width": 2
          },
          "type": "line",
          "x0": 1216,
          "x1": 1216,
          "xref": "x",
          "y0": 0,
          "y1": 1,
          "yref": "paper"
         },
         {
          "line": {
           "color": "goldenrod",
           "dash": "dot",
           "width": 2
          },
          "type": "line",
          "x0": 1219,
          "x1": 1219,
          "xref": "x",
          "y0": 0,
          "y1": 1,
          "yref": "paper"
         },
         {
          "fillcolor": "goldenrod",
          "layer": "below",
          "line": {
           "width": 0
          },
          "opacity": 0.5,
          "type": "rect",
          "x0": 1222,
          "x1": 1225,
          "xref": "x",
          "y0": 0,
          "y1": 1,
          "yref": "paper"
         },
         {
          "line": {
           "color": "goldenrod",
           "dash": "dot",
           "width": 2
          },
          "type": "line",
          "x0": 1222,
          "x1": 1222,
          "xref": "x",
          "y0": 0,
          "y1": 1,
          "yref": "paper"
         },
         {
          "line": {
           "color": "goldenrod",
           "dash": "dot",
           "width": 2
          },
          "type": "line",
          "x0": 1225,
          "x1": 1225,
          "xref": "x",
          "y0": 0,
          "y1": 1,
          "yref": "paper"
         },
         {
          "fillcolor": "goldenrod",
          "layer": "below",
          "line": {
           "width": 0
          },
          "opacity": 0.5,
          "type": "rect",
          "x0": 1228,
          "x1": 1231,
          "xref": "x",
          "y0": 0,
          "y1": 1,
          "yref": "paper"
         },
         {
          "line": {
           "color": "goldenrod",
           "dash": "dot",
           "width": 2
          },
          "type": "line",
          "x0": 1228,
          "x1": 1228,
          "xref": "x",
          "y0": 0,
          "y1": 1,
          "yref": "paper"
         },
         {
          "line": {
           "color": "goldenrod",
           "dash": "dot",
           "width": 2
          },
          "type": "line",
          "x0": 1231,
          "x1": 1231,
          "xref": "x",
          "y0": 0,
          "y1": 1,
          "yref": "paper"
         },
         {
          "fillcolor": "goldenrod",
          "layer": "below",
          "line": {
           "width": 0
          },
          "opacity": 0.5,
          "type": "rect",
          "x0": 1237,
          "x1": 1240,
          "xref": "x",
          "y0": 0,
          "y1": 1,
          "yref": "paper"
         },
         {
          "line": {
           "color": "goldenrod",
           "dash": "dot",
           "width": 2
          },
          "type": "line",
          "x0": 1237,
          "x1": 1237,
          "xref": "x",
          "y0": 0,
          "y1": 1,
          "yref": "paper"
         },
         {
          "line": {
           "color": "goldenrod",
           "dash": "dot",
           "width": 2
          },
          "type": "line",
          "x0": 1240,
          "x1": 1240,
          "xref": "x",
          "y0": 0,
          "y1": 1,
          "yref": "paper"
         },
         {
          "fillcolor": "goldenrod",
          "layer": "below",
          "line": {
           "width": 0
          },
          "opacity": 0.5,
          "type": "rect",
          "x0": 1250,
          "x1": 1253,
          "xref": "x",
          "y0": 0,
          "y1": 1,
          "yref": "paper"
         },
         {
          "line": {
           "color": "goldenrod",
           "dash": "dot",
           "width": 2
          },
          "type": "line",
          "x0": 1250,
          "x1": 1250,
          "xref": "x",
          "y0": 0,
          "y1": 1,
          "yref": "paper"
         },
         {
          "line": {
           "color": "goldenrod",
           "dash": "dot",
           "width": 2
          },
          "type": "line",
          "x0": 1253,
          "x1": 1253,
          "xref": "x",
          "y0": 0,
          "y1": 1,
          "yref": "paper"
         },
         {
          "fillcolor": "goldenrod",
          "layer": "below",
          "line": {
           "width": 0
          },
          "opacity": 0.5,
          "type": "rect",
          "x0": 1256,
          "x1": 1259,
          "xref": "x",
          "y0": 0,
          "y1": 1,
          "yref": "paper"
         },
         {
          "line": {
           "color": "goldenrod",
           "dash": "dot",
           "width": 2
          },
          "type": "line",
          "x0": 1256,
          "x1": 1256,
          "xref": "x",
          "y0": 0,
          "y1": 1,
          "yref": "paper"
         },
         {
          "line": {
           "color": "goldenrod",
           "dash": "dot",
           "width": 2
          },
          "type": "line",
          "x0": 1259,
          "x1": 1259,
          "xref": "x",
          "y0": 0,
          "y1": 1,
          "yref": "paper"
         },
         {
          "fillcolor": "goldenrod",
          "layer": "below",
          "line": {
           "width": 0
          },
          "opacity": 0.5,
          "type": "rect",
          "x0": 1262,
          "x1": 1265,
          "xref": "x",
          "y0": 0,
          "y1": 1,
          "yref": "paper"
         },
         {
          "line": {
           "color": "goldenrod",
           "dash": "dot",
           "width": 2
          },
          "type": "line",
          "x0": 1262,
          "x1": 1262,
          "xref": "x",
          "y0": 0,
          "y1": 1,
          "yref": "paper"
         },
         {
          "line": {
           "color": "goldenrod",
           "dash": "dot",
           "width": 2
          },
          "type": "line",
          "x0": 1265,
          "x1": 1265,
          "xref": "x",
          "y0": 0,
          "y1": 1,
          "yref": "paper"
         },
         {
          "fillcolor": "goldenrod",
          "layer": "below",
          "line": {
           "width": 0
          },
          "opacity": 0.5,
          "type": "rect",
          "x0": 1271,
          "x1": 1274,
          "xref": "x",
          "y0": 0,
          "y1": 1,
          "yref": "paper"
         },
         {
          "line": {
           "color": "goldenrod",
           "dash": "dot",
           "width": 2
          },
          "type": "line",
          "x0": 1271,
          "x1": 1271,
          "xref": "x",
          "y0": 0,
          "y1": 1,
          "yref": "paper"
         },
         {
          "line": {
           "color": "goldenrod",
           "dash": "dot",
           "width": 2
          },
          "type": "line",
          "x0": 1274,
          "x1": 1274,
          "xref": "x",
          "y0": 0,
          "y1": 1,
          "yref": "paper"
         },
         {
          "fillcolor": "goldenrod",
          "layer": "below",
          "line": {
           "width": 0
          },
          "opacity": 0.5,
          "type": "rect",
          "x0": 1284,
          "x1": 1287,
          "xref": "x",
          "y0": 0,
          "y1": 1,
          "yref": "paper"
         },
         {
          "line": {
           "color": "goldenrod",
           "dash": "dot",
           "width": 2
          },
          "type": "line",
          "x0": 1284,
          "x1": 1284,
          "xref": "x",
          "y0": 0,
          "y1": 1,
          "yref": "paper"
         },
         {
          "line": {
           "color": "goldenrod",
           "dash": "dot",
           "width": 2
          },
          "type": "line",
          "x0": 1287,
          "x1": 1287,
          "xref": "x",
          "y0": 0,
          "y1": 1,
          "yref": "paper"
         },
         {
          "fillcolor": "goldenrod",
          "layer": "below",
          "line": {
           "width": 0
          },
          "opacity": 0.5,
          "type": "rect",
          "x0": 1290,
          "x1": 1293,
          "xref": "x",
          "y0": 0,
          "y1": 1,
          "yref": "paper"
         },
         {
          "line": {
           "color": "goldenrod",
           "dash": "dot",
           "width": 2
          },
          "type": "line",
          "x0": 1290,
          "x1": 1290,
          "xref": "x",
          "y0": 0,
          "y1": 1,
          "yref": "paper"
         },
         {
          "line": {
           "color": "goldenrod",
           "dash": "dot",
           "width": 2
          },
          "type": "line",
          "x0": 1293,
          "x1": 1293,
          "xref": "x",
          "y0": 0,
          "y1": 1,
          "yref": "paper"
         },
         {
          "fillcolor": "goldenrod",
          "layer": "below",
          "line": {
           "width": 0
          },
          "opacity": 0.5,
          "type": "rect",
          "x0": 1299,
          "x1": 1302,
          "xref": "x",
          "y0": 0,
          "y1": 1,
          "yref": "paper"
         },
         {
          "line": {
           "color": "goldenrod",
           "dash": "dot",
           "width": 2
          },
          "type": "line",
          "x0": 1299,
          "x1": 1299,
          "xref": "x",
          "y0": 0,
          "y1": 1,
          "yref": "paper"
         },
         {
          "line": {
           "color": "goldenrod",
           "dash": "dot",
           "width": 2
          },
          "type": "line",
          "x0": 1302,
          "x1": 1302,
          "xref": "x",
          "y0": 0,
          "y1": 1,
          "yref": "paper"
         },
         {
          "fillcolor": "goldenrod",
          "layer": "below",
          "line": {
           "width": 0
          },
          "opacity": 0.5,
          "type": "rect",
          "x0": 1312,
          "x1": 1315,
          "xref": "x",
          "y0": 0,
          "y1": 1,
          "yref": "paper"
         },
         {
          "line": {
           "color": "goldenrod",
           "dash": "dot",
           "width": 2
          },
          "type": "line",
          "x0": 1312,
          "x1": 1312,
          "xref": "x",
          "y0": 0,
          "y1": 1,
          "yref": "paper"
         },
         {
          "line": {
           "color": "goldenrod",
           "dash": "dot",
           "width": 2
          },
          "type": "line",
          "x0": 1315,
          "x1": 1315,
          "xref": "x",
          "y0": 0,
          "y1": 1,
          "yref": "paper"
         },
         {
          "fillcolor": "goldenrod",
          "layer": "below",
          "line": {
           "width": 0
          },
          "opacity": 0.5,
          "type": "rect",
          "x0": 1318,
          "x1": 1321,
          "xref": "x",
          "y0": 0,
          "y1": 1,
          "yref": "paper"
         },
         {
          "line": {
           "color": "goldenrod",
           "dash": "dot",
           "width": 2
          },
          "type": "line",
          "x0": 1318,
          "x1": 1318,
          "xref": "x",
          "y0": 0,
          "y1": 1,
          "yref": "paper"
         },
         {
          "line": {
           "color": "goldenrod",
           "dash": "dot",
           "width": 2
          },
          "type": "line",
          "x0": 1321,
          "x1": 1321,
          "xref": "x",
          "y0": 0,
          "y1": 1,
          "yref": "paper"
         },
         {
          "fillcolor": "goldenrod",
          "layer": "below",
          "line": {
           "width": 0
          },
          "opacity": 0.5,
          "type": "rect",
          "x0": 1324,
          "x1": 1327,
          "xref": "x",
          "y0": 0,
          "y1": 1,
          "yref": "paper"
         },
         {
          "line": {
           "color": "goldenrod",
           "dash": "dot",
           "width": 2
          },
          "type": "line",
          "x0": 1324,
          "x1": 1324,
          "xref": "x",
          "y0": 0,
          "y1": 1,
          "yref": "paper"
         },
         {
          "line": {
           "color": "goldenrod",
           "dash": "dot",
           "width": 2
          },
          "type": "line",
          "x0": 1327,
          "x1": 1327,
          "xref": "x",
          "y0": 0,
          "y1": 1,
          "yref": "paper"
         },
         {
          "fillcolor": "goldenrod",
          "layer": "below",
          "line": {
           "width": 0
          },
          "opacity": 0.5,
          "type": "rect",
          "x0": 1333,
          "x1": 1336,
          "xref": "x",
          "y0": 0,
          "y1": 1,
          "yref": "paper"
         },
         {
          "line": {
           "color": "goldenrod",
           "dash": "dot",
           "width": 2
          },
          "type": "line",
          "x0": 1333,
          "x1": 1333,
          "xref": "x",
          "y0": 0,
          "y1": 1,
          "yref": "paper"
         },
         {
          "line": {
           "color": "goldenrod",
           "dash": "dot",
           "width": 2
          },
          "type": "line",
          "x0": 1336,
          "x1": 1336,
          "xref": "x",
          "y0": 0,
          "y1": 1,
          "yref": "paper"
         },
         {
          "fillcolor": "goldenrod",
          "layer": "below",
          "line": {
           "width": 0
          },
          "opacity": 0.5,
          "type": "rect",
          "x0": 1346,
          "x1": 1349,
          "xref": "x",
          "y0": 0,
          "y1": 1,
          "yref": "paper"
         },
         {
          "line": {
           "color": "goldenrod",
           "dash": "dot",
           "width": 2
          },
          "type": "line",
          "x0": 1346,
          "x1": 1346,
          "xref": "x",
          "y0": 0,
          "y1": 1,
          "yref": "paper"
         },
         {
          "line": {
           "color": "goldenrod",
           "dash": "dot",
           "width": 2
          },
          "type": "line",
          "x0": 1349,
          "x1": 1349,
          "xref": "x",
          "y0": 0,
          "y1": 1,
          "yref": "paper"
         },
         {
          "fillcolor": "goldenrod",
          "layer": "below",
          "line": {
           "width": 0
          },
          "opacity": 0.5,
          "type": "rect",
          "x0": 1352,
          "x1": 1355,
          "xref": "x",
          "y0": 0,
          "y1": 1,
          "yref": "paper"
         },
         {
          "line": {
           "color": "goldenrod",
           "dash": "dot",
           "width": 2
          },
          "type": "line",
          "x0": 1352,
          "x1": 1352,
          "xref": "x",
          "y0": 0,
          "y1": 1,
          "yref": "paper"
         },
         {
          "line": {
           "color": "goldenrod",
           "dash": "dot",
           "width": 2
          },
          "type": "line",
          "x0": 1355,
          "x1": 1355,
          "xref": "x",
          "y0": 0,
          "y1": 1,
          "yref": "paper"
         },
         {
          "fillcolor": "goldenrod",
          "layer": "below",
          "line": {
           "width": 0
          },
          "opacity": 0.5,
          "type": "rect",
          "x0": 1358,
          "x1": 1361,
          "xref": "x",
          "y0": 0,
          "y1": 1,
          "yref": "paper"
         },
         {
          "line": {
           "color": "goldenrod",
           "dash": "dot",
           "width": 2
          },
          "type": "line",
          "x0": 1358,
          "x1": 1358,
          "xref": "x",
          "y0": 0,
          "y1": 1,
          "yref": "paper"
         },
         {
          "line": {
           "color": "goldenrod",
           "dash": "dot",
           "width": 2
          },
          "type": "line",
          "x0": 1361,
          "x1": 1361,
          "xref": "x",
          "y0": 0,
          "y1": 1,
          "yref": "paper"
         },
         {
          "fillcolor": "goldenrod",
          "layer": "below",
          "line": {
           "width": 0
          },
          "opacity": 0.5,
          "type": "rect",
          "x0": 1367,
          "x1": 1370,
          "xref": "x",
          "y0": 0,
          "y1": 1,
          "yref": "paper"
         },
         {
          "line": {
           "color": "goldenrod",
           "dash": "dot",
           "width": 2
          },
          "type": "line",
          "x0": 1367,
          "x1": 1367,
          "xref": "x",
          "y0": 0,
          "y1": 1,
          "yref": "paper"
         },
         {
          "line": {
           "color": "goldenrod",
           "dash": "dot",
           "width": 2
          },
          "type": "line",
          "x0": 1370,
          "x1": 1370,
          "xref": "x",
          "y0": 0,
          "y1": 1,
          "yref": "paper"
         },
         {
          "fillcolor": "goldenrod",
          "layer": "below",
          "line": {
           "width": 0
          },
          "opacity": 0.5,
          "type": "rect",
          "x0": 1380,
          "x1": 1383,
          "xref": "x",
          "y0": 0,
          "y1": 1,
          "yref": "paper"
         },
         {
          "line": {
           "color": "goldenrod",
           "dash": "dot",
           "width": 2
          },
          "type": "line",
          "x0": 1380,
          "x1": 1380,
          "xref": "x",
          "y0": 0,
          "y1": 1,
          "yref": "paper"
         },
         {
          "line": {
           "color": "goldenrod",
           "dash": "dot",
           "width": 2
          },
          "type": "line",
          "x0": 1383,
          "x1": 1383,
          "xref": "x",
          "y0": 0,
          "y1": 1,
          "yref": "paper"
         },
         {
          "fillcolor": "goldenrod",
          "layer": "below",
          "line": {
           "width": 0
          },
          "opacity": 0.5,
          "type": "rect",
          "x0": 1386,
          "x1": 1389,
          "xref": "x",
          "y0": 0,
          "y1": 1,
          "yref": "paper"
         },
         {
          "line": {
           "color": "goldenrod",
           "dash": "dot",
           "width": 2
          },
          "type": "line",
          "x0": 1386,
          "x1": 1386,
          "xref": "x",
          "y0": 0,
          "y1": 1,
          "yref": "paper"
         },
         {
          "line": {
           "color": "goldenrod",
           "dash": "dot",
           "width": 2
          },
          "type": "line",
          "x0": 1389,
          "x1": 1389,
          "xref": "x",
          "y0": 0,
          "y1": 1,
          "yref": "paper"
         },
         {
          "fillcolor": "goldenrod",
          "layer": "below",
          "line": {
           "width": 0
          },
          "opacity": 0.5,
          "type": "rect",
          "x0": 1395,
          "x1": 1398,
          "xref": "x",
          "y0": 0,
          "y1": 1,
          "yref": "paper"
         },
         {
          "line": {
           "color": "goldenrod",
           "dash": "dot",
           "width": 2
          },
          "type": "line",
          "x0": 1395,
          "x1": 1395,
          "xref": "x",
          "y0": 0,
          "y1": 1,
          "yref": "paper"
         },
         {
          "line": {
           "color": "goldenrod",
           "dash": "dot",
           "width": 2
          },
          "type": "line",
          "x0": 1398,
          "x1": 1398,
          "xref": "x",
          "y0": 0,
          "y1": 1,
          "yref": "paper"
         },
         {
          "fillcolor": "goldenrod",
          "layer": "below",
          "line": {
           "width": 0
          },
          "opacity": 0.5,
          "type": "rect",
          "x0": 1408,
          "x1": 1411,
          "xref": "x",
          "y0": 0,
          "y1": 1,
          "yref": "paper"
         },
         {
          "line": {
           "color": "goldenrod",
           "dash": "dot",
           "width": 2
          },
          "type": "line",
          "x0": 1408,
          "x1": 1408,
          "xref": "x",
          "y0": 0,
          "y1": 1,
          "yref": "paper"
         },
         {
          "line": {
           "color": "goldenrod",
           "dash": "dot",
           "width": 2
          },
          "type": "line",
          "x0": 1411,
          "x1": 1411,
          "xref": "x",
          "y0": 0,
          "y1": 1,
          "yref": "paper"
         },
         {
          "fillcolor": "goldenrod",
          "layer": "below",
          "line": {
           "width": 0
          },
          "opacity": 0.5,
          "type": "rect",
          "x0": 1414,
          "x1": 1417,
          "xref": "x",
          "y0": 0,
          "y1": 1,
          "yref": "paper"
         },
         {
          "line": {
           "color": "goldenrod",
           "dash": "dot",
           "width": 2
          },
          "type": "line",
          "x0": 1414,
          "x1": 1414,
          "xref": "x",
          "y0": 0,
          "y1": 1,
          "yref": "paper"
         },
         {
          "line": {
           "color": "goldenrod",
           "dash": "dot",
           "width": 2
          },
          "type": "line",
          "x0": 1417,
          "x1": 1417,
          "xref": "x",
          "y0": 0,
          "y1": 1,
          "yref": "paper"
         },
         {
          "fillcolor": "blue",
          "layer": "below",
          "line": {
           "width": 0
          },
          "opacity": 0.5,
          "type": "rect",
          "x0": 1502,
          "x1": 1508,
          "xref": "x",
          "y0": 0,
          "y1": 1,
          "yref": "paper"
         },
         {
          "line": {
           "color": "blue",
           "dash": "dot",
           "width": 2
          },
          "type": "line",
          "x0": 1502,
          "x1": 1502,
          "xref": "x",
          "y0": 0,
          "y1": 1,
          "yref": "paper"
         },
         {
          "line": {
           "color": "blue",
           "dash": "dot",
           "width": 2
          },
          "type": "line",
          "x0": 1508,
          "x1": 1508,
          "xref": "x",
          "y0": 0,
          "y1": 1,
          "yref": "paper"
         },
         {
          "fillcolor": "blue",
          "layer": "below",
          "line": {
           "width": 0
          },
          "opacity": 0.5,
          "type": "rect",
          "x0": 2056,
          "x1": 2060,
          "xref": "x",
          "y0": 0,
          "y1": 1,
          "yref": "paper"
         },
         {
          "line": {
           "color": "blue",
           "dash": "dot",
           "width": 2
          },
          "type": "line",
          "x0": 2056,
          "x1": 2056,
          "xref": "x",
          "y0": 0,
          "y1": 1,
          "yref": "paper"
         },
         {
          "line": {
           "color": "blue",
           "dash": "dot",
           "width": 2
          },
          "type": "line",
          "x0": 2060,
          "x1": 2060,
          "xref": "x",
          "y0": 0,
          "y1": 1,
          "yref": "paper"
         },
         {
          "fillcolor": "goldenrod",
          "layer": "below",
          "line": {
           "width": 0
          },
          "opacity": 0.5,
          "type": "rect",
          "x0": 2332,
          "x1": 2335,
          "xref": "x",
          "y0": 0,
          "y1": 1,
          "yref": "paper"
         },
         {
          "line": {
           "color": "goldenrod",
           "dash": "dot",
           "width": 2
          },
          "type": "line",
          "x0": 2332,
          "x1": 2332,
          "xref": "x",
          "y0": 0,
          "y1": 1,
          "yref": "paper"
         },
         {
          "line": {
           "color": "goldenrod",
           "dash": "dot",
           "width": 2
          },
          "type": "line",
          "x0": 2335,
          "x1": 2335,
          "xref": "x",
          "y0": 0,
          "y1": 1,
          "yref": "paper"
         },
         {
          "fillcolor": "goldenrod",
          "layer": "below",
          "line": {
           "width": 0
          },
          "opacity": 0.5,
          "type": "rect",
          "x0": 2338,
          "x1": 2341,
          "xref": "x",
          "y0": 0,
          "y1": 1,
          "yref": "paper"
         },
         {
          "line": {
           "color": "goldenrod",
           "dash": "dot",
           "width": 2
          },
          "type": "line",
          "x0": 2338,
          "x1": 2338,
          "xref": "x",
          "y0": 0,
          "y1": 1,
          "yref": "paper"
         },
         {
          "line": {
           "color": "goldenrod",
           "dash": "dot",
           "width": 2
          },
          "type": "line",
          "x0": 2341,
          "x1": 2341,
          "xref": "x",
          "y0": 0,
          "y1": 1,
          "yref": "paper"
         },
         {
          "fillcolor": "goldenrod",
          "layer": "below",
          "line": {
           "width": 0
          },
          "opacity": 0.5,
          "type": "rect",
          "x0": 2347,
          "x1": 2350,
          "xref": "x",
          "y0": 0,
          "y1": 1,
          "yref": "paper"
         },
         {
          "line": {
           "color": "goldenrod",
           "dash": "dot",
           "width": 2
          },
          "type": "line",
          "x0": 2347,
          "x1": 2347,
          "xref": "x",
          "y0": 0,
          "y1": 1,
          "yref": "paper"
         },
         {
          "line": {
           "color": "goldenrod",
           "dash": "dot",
           "width": 2
          },
          "type": "line",
          "x0": 2350,
          "x1": 2350,
          "xref": "x",
          "y0": 0,
          "y1": 1,
          "yref": "paper"
         },
         {
          "fillcolor": "goldenrod",
          "layer": "below",
          "line": {
           "width": 0
          },
          "opacity": 0.5,
          "type": "rect",
          "x0": 2360,
          "x1": 2363,
          "xref": "x",
          "y0": 0,
          "y1": 1,
          "yref": "paper"
         },
         {
          "line": {
           "color": "goldenrod",
           "dash": "dot",
           "width": 2
          },
          "type": "line",
          "x0": 2360,
          "x1": 2360,
          "xref": "x",
          "y0": 0,
          "y1": 1,
          "yref": "paper"
         },
         {
          "line": {
           "color": "goldenrod",
           "dash": "dot",
           "width": 2
          },
          "type": "line",
          "x0": 2363,
          "x1": 2363,
          "xref": "x",
          "y0": 0,
          "y1": 1,
          "yref": "paper"
         },
         {
          "fillcolor": "goldenrod",
          "layer": "below",
          "line": {
           "width": 0
          },
          "opacity": 0.5,
          "type": "rect",
          "x0": 2366,
          "x1": 2369,
          "xref": "x",
          "y0": 0,
          "y1": 1,
          "yref": "paper"
         },
         {
          "line": {
           "color": "goldenrod",
           "dash": "dot",
           "width": 2
          },
          "type": "line",
          "x0": 2366,
          "x1": 2366,
          "xref": "x",
          "y0": 0,
          "y1": 1,
          "yref": "paper"
         },
         {
          "line": {
           "color": "goldenrod",
           "dash": "dot",
           "width": 2
          },
          "type": "line",
          "x0": 2369,
          "x1": 2369,
          "xref": "x",
          "y0": 0,
          "y1": 1,
          "yref": "paper"
         },
         {
          "fillcolor": "goldenrod",
          "layer": "below",
          "line": {
           "width": 0
          },
          "opacity": 0.5,
          "type": "rect",
          "x0": 2372,
          "x1": 2375,
          "xref": "x",
          "y0": 0,
          "y1": 1,
          "yref": "paper"
         },
         {
          "line": {
           "color": "goldenrod",
           "dash": "dot",
           "width": 2
          },
          "type": "line",
          "x0": 2372,
          "x1": 2372,
          "xref": "x",
          "y0": 0,
          "y1": 1,
          "yref": "paper"
         },
         {
          "line": {
           "color": "goldenrod",
           "dash": "dot",
           "width": 2
          },
          "type": "line",
          "x0": 2375,
          "x1": 2375,
          "xref": "x",
          "y0": 0,
          "y1": 1,
          "yref": "paper"
         },
         {
          "fillcolor": "goldenrod",
          "layer": "below",
          "line": {
           "width": 0
          },
          "opacity": 0.5,
          "type": "rect",
          "x0": 2381,
          "x1": 2384,
          "xref": "x",
          "y0": 0,
          "y1": 1,
          "yref": "paper"
         },
         {
          "line": {
           "color": "goldenrod",
           "dash": "dot",
           "width": 2
          },
          "type": "line",
          "x0": 2381,
          "x1": 2381,
          "xref": "x",
          "y0": 0,
          "y1": 1,
          "yref": "paper"
         },
         {
          "line": {
           "color": "goldenrod",
           "dash": "dot",
           "width": 2
          },
          "type": "line",
          "x0": 2384,
          "x1": 2384,
          "xref": "x",
          "y0": 0,
          "y1": 1,
          "yref": "paper"
         },
         {
          "fillcolor": "goldenrod",
          "layer": "below",
          "line": {
           "width": 0
          },
          "opacity": 0.5,
          "type": "rect",
          "x0": 2394,
          "x1": 2397,
          "xref": "x",
          "y0": 0,
          "y1": 1,
          "yref": "paper"
         },
         {
          "line": {
           "color": "goldenrod",
           "dash": "dot",
           "width": 2
          },
          "type": "line",
          "x0": 2394,
          "x1": 2394,
          "xref": "x",
          "y0": 0,
          "y1": 1,
          "yref": "paper"
         },
         {
          "line": {
           "color": "goldenrod",
           "dash": "dot",
           "width": 2
          },
          "type": "line",
          "x0": 2397,
          "x1": 2397,
          "xref": "x",
          "y0": 0,
          "y1": 1,
          "yref": "paper"
         },
         {
          "fillcolor": "goldenrod",
          "layer": "below",
          "line": {
           "width": 0
          },
          "opacity": 0.5,
          "type": "rect",
          "x0": 2400,
          "x1": 2403,
          "xref": "x",
          "y0": 0,
          "y1": 1,
          "yref": "paper"
         },
         {
          "line": {
           "color": "goldenrod",
           "dash": "dot",
           "width": 2
          },
          "type": "line",
          "x0": 2400,
          "x1": 2400,
          "xref": "x",
          "y0": 0,
          "y1": 1,
          "yref": "paper"
         },
         {
          "line": {
           "color": "goldenrod",
           "dash": "dot",
           "width": 2
          },
          "type": "line",
          "x0": 2403,
          "x1": 2403,
          "xref": "x",
          "y0": 0,
          "y1": 1,
          "yref": "paper"
         },
         {
          "fillcolor": "goldenrod",
          "layer": "below",
          "line": {
           "width": 0
          },
          "opacity": 0.5,
          "type": "rect",
          "x0": 2406,
          "x1": 2409,
          "xref": "x",
          "y0": 0,
          "y1": 1,
          "yref": "paper"
         },
         {
          "line": {
           "color": "goldenrod",
           "dash": "dot",
           "width": 2
          },
          "type": "line",
          "x0": 2406,
          "x1": 2406,
          "xref": "x",
          "y0": 0,
          "y1": 1,
          "yref": "paper"
         },
         {
          "line": {
           "color": "goldenrod",
           "dash": "dot",
           "width": 2
          },
          "type": "line",
          "x0": 2409,
          "x1": 2409,
          "xref": "x",
          "y0": 0,
          "y1": 1,
          "yref": "paper"
         },
         {
          "fillcolor": "goldenrod",
          "layer": "below",
          "line": {
           "width": 0
          },
          "opacity": 0.5,
          "type": "rect",
          "x0": 2415,
          "x1": 2418,
          "xref": "x",
          "y0": 0,
          "y1": 1,
          "yref": "paper"
         },
         {
          "line": {
           "color": "goldenrod",
           "dash": "dot",
           "width": 2
          },
          "type": "line",
          "x0": 2415,
          "x1": 2415,
          "xref": "x",
          "y0": 0,
          "y1": 1,
          "yref": "paper"
         },
         {
          "line": {
           "color": "goldenrod",
           "dash": "dot",
           "width": 2
          },
          "type": "line",
          "x0": 2418,
          "x1": 2418,
          "xref": "x",
          "y0": 0,
          "y1": 1,
          "yref": "paper"
         },
         {
          "fillcolor": "goldenrod",
          "layer": "below",
          "line": {
           "width": 0
          },
          "opacity": 0.5,
          "type": "rect",
          "x0": 2428,
          "x1": 2431,
          "xref": "x",
          "y0": 0,
          "y1": 1,
          "yref": "paper"
         },
         {
          "line": {
           "color": "goldenrod",
           "dash": "dot",
           "width": 2
          },
          "type": "line",
          "x0": 2428,
          "x1": 2428,
          "xref": "x",
          "y0": 0,
          "y1": 1,
          "yref": "paper"
         },
         {
          "line": {
           "color": "goldenrod",
           "dash": "dot",
           "width": 2
          },
          "type": "line",
          "x0": 2431,
          "x1": 2431,
          "xref": "x",
          "y0": 0,
          "y1": 1,
          "yref": "paper"
         },
         {
          "fillcolor": "goldenrod",
          "layer": "below",
          "line": {
           "width": 0
          },
          "opacity": 0.5,
          "type": "rect",
          "x0": 2434,
          "x1": 2437,
          "xref": "x",
          "y0": 0,
          "y1": 1,
          "yref": "paper"
         },
         {
          "line": {
           "color": "goldenrod",
           "dash": "dot",
           "width": 2
          },
          "type": "line",
          "x0": 2434,
          "x1": 2434,
          "xref": "x",
          "y0": 0,
          "y1": 1,
          "yref": "paper"
         },
         {
          "line": {
           "color": "goldenrod",
           "dash": "dot",
           "width": 2
          },
          "type": "line",
          "x0": 2437,
          "x1": 2437,
          "xref": "x",
          "y0": 0,
          "y1": 1,
          "yref": "paper"
         },
         {
          "fillcolor": "goldenrod",
          "layer": "below",
          "line": {
           "width": 0
          },
          "opacity": 0.5,
          "type": "rect",
          "x0": 2440,
          "x1": 2443,
          "xref": "x",
          "y0": 0,
          "y1": 1,
          "yref": "paper"
         },
         {
          "line": {
           "color": "goldenrod",
           "dash": "dot",
           "width": 2
          },
          "type": "line",
          "x0": 2440,
          "x1": 2440,
          "xref": "x",
          "y0": 0,
          "y1": 1,
          "yref": "paper"
         },
         {
          "line": {
           "color": "goldenrod",
           "dash": "dot",
           "width": 2
          },
          "type": "line",
          "x0": 2443,
          "x1": 2443,
          "xref": "x",
          "y0": 0,
          "y1": 1,
          "yref": "paper"
         },
         {
          "fillcolor": "goldenrod",
          "layer": "below",
          "line": {
           "width": 0
          },
          "opacity": 0.5,
          "type": "rect",
          "x0": 2449,
          "x1": 2452,
          "xref": "x",
          "y0": 0,
          "y1": 1,
          "yref": "paper"
         },
         {
          "line": {
           "color": "goldenrod",
           "dash": "dot",
           "width": 2
          },
          "type": "line",
          "x0": 2449,
          "x1": 2449,
          "xref": "x",
          "y0": 0,
          "y1": 1,
          "yref": "paper"
         },
         {
          "line": {
           "color": "goldenrod",
           "dash": "dot",
           "width": 2
          },
          "type": "line",
          "x0": 2452,
          "x1": 2452,
          "xref": "x",
          "y0": 0,
          "y1": 1,
          "yref": "paper"
         },
         {
          "fillcolor": "goldenrod",
          "layer": "below",
          "line": {
           "width": 0
          },
          "opacity": 0.5,
          "type": "rect",
          "x0": 2462,
          "x1": 2465,
          "xref": "x",
          "y0": 0,
          "y1": 1,
          "yref": "paper"
         },
         {
          "line": {
           "color": "goldenrod",
           "dash": "dot",
           "width": 2
          },
          "type": "line",
          "x0": 2462,
          "x1": 2462,
          "xref": "x",
          "y0": 0,
          "y1": 1,
          "yref": "paper"
         },
         {
          "line": {
           "color": "goldenrod",
           "dash": "dot",
           "width": 2
          },
          "type": "line",
          "x0": 2465,
          "x1": 2465,
          "xref": "x",
          "y0": 0,
          "y1": 1,
          "yref": "paper"
         },
         {
          "fillcolor": "goldenrod",
          "layer": "below",
          "line": {
           "width": 0
          },
          "opacity": 0.5,
          "type": "rect",
          "x0": 2468,
          "x1": 2471,
          "xref": "x",
          "y0": 0,
          "y1": 1,
          "yref": "paper"
         },
         {
          "line": {
           "color": "goldenrod",
           "dash": "dot",
           "width": 2
          },
          "type": "line",
          "x0": 2468,
          "x1": 2468,
          "xref": "x",
          "y0": 0,
          "y1": 1,
          "yref": "paper"
         },
         {
          "line": {
           "color": "goldenrod",
           "dash": "dot",
           "width": 2
          },
          "type": "line",
          "x0": 2471,
          "x1": 2471,
          "xref": "x",
          "y0": 0,
          "y1": 1,
          "yref": "paper"
         },
         {
          "fillcolor": "goldenrod",
          "layer": "below",
          "line": {
           "width": 0
          },
          "opacity": 0.5,
          "type": "rect",
          "x0": 2477,
          "x1": 2480,
          "xref": "x",
          "y0": 0,
          "y1": 1,
          "yref": "paper"
         },
         {
          "line": {
           "color": "goldenrod",
           "dash": "dot",
           "width": 2
          },
          "type": "line",
          "x0": 2477,
          "x1": 2477,
          "xref": "x",
          "y0": 0,
          "y1": 1,
          "yref": "paper"
         },
         {
          "line": {
           "color": "goldenrod",
           "dash": "dot",
           "width": 2
          },
          "type": "line",
          "x0": 2480,
          "x1": 2480,
          "xref": "x",
          "y0": 0,
          "y1": 1,
          "yref": "paper"
         },
         {
          "fillcolor": "goldenrod",
          "layer": "below",
          "line": {
           "width": 0
          },
          "opacity": 0.5,
          "type": "rect",
          "x0": 2490,
          "x1": 2493,
          "xref": "x",
          "y0": 0,
          "y1": 1,
          "yref": "paper"
         },
         {
          "line": {
           "color": "goldenrod",
           "dash": "dot",
           "width": 2
          },
          "type": "line",
          "x0": 2490,
          "x1": 2490,
          "xref": "x",
          "y0": 0,
          "y1": 1,
          "yref": "paper"
         },
         {
          "line": {
           "color": "goldenrod",
           "dash": "dot",
           "width": 2
          },
          "type": "line",
          "x0": 2493,
          "x1": 2493,
          "xref": "x",
          "y0": 0,
          "y1": 1,
          "yref": "paper"
         },
         {
          "fillcolor": "goldenrod",
          "layer": "below",
          "line": {
           "width": 0
          },
          "opacity": 0.5,
          "type": "rect",
          "x0": 2496,
          "x1": 2499,
          "xref": "x",
          "y0": 0,
          "y1": 1,
          "yref": "paper"
         },
         {
          "line": {
           "color": "goldenrod",
           "dash": "dot",
           "width": 2
          },
          "type": "line",
          "x0": 2496,
          "x1": 2496,
          "xref": "x",
          "y0": 0,
          "y1": 1,
          "yref": "paper"
         },
         {
          "line": {
           "color": "goldenrod",
           "dash": "dot",
           "width": 2
          },
          "type": "line",
          "x0": 2499,
          "x1": 2499,
          "xref": "x",
          "y0": 0,
          "y1": 1,
          "yref": "paper"
         },
         {
          "fillcolor": "goldenrod",
          "layer": "below",
          "line": {
           "width": 0
          },
          "opacity": 0.5,
          "type": "rect",
          "x0": 2502,
          "x1": 2505,
          "xref": "x",
          "y0": 0,
          "y1": 1,
          "yref": "paper"
         },
         {
          "line": {
           "color": "goldenrod",
           "dash": "dot",
           "width": 2
          },
          "type": "line",
          "x0": 2502,
          "x1": 2502,
          "xref": "x",
          "y0": 0,
          "y1": 1,
          "yref": "paper"
         },
         {
          "line": {
           "color": "goldenrod",
           "dash": "dot",
           "width": 2
          },
          "type": "line",
          "x0": 2505,
          "x1": 2505,
          "xref": "x",
          "y0": 0,
          "y1": 1,
          "yref": "paper"
         },
         {
          "fillcolor": "goldenrod",
          "layer": "below",
          "line": {
           "width": 0
          },
          "opacity": 0.5,
          "type": "rect",
          "x0": 2511,
          "x1": 2514,
          "xref": "x",
          "y0": 0,
          "y1": 1,
          "yref": "paper"
         },
         {
          "line": {
           "color": "goldenrod",
           "dash": "dot",
           "width": 2
          },
          "type": "line",
          "x0": 2511,
          "x1": 2511,
          "xref": "x",
          "y0": 0,
          "y1": 1,
          "yref": "paper"
         },
         {
          "line": {
           "color": "goldenrod",
           "dash": "dot",
           "width": 2
          },
          "type": "line",
          "x0": 2514,
          "x1": 2514,
          "xref": "x",
          "y0": 0,
          "y1": 1,
          "yref": "paper"
         }
        ],
        "template": {
         "data": {
          "bar": [
           {
            "error_x": {
             "color": "#2a3f5f"
            },
            "error_y": {
             "color": "#2a3f5f"
            },
            "marker": {
             "line": {
              "color": "#E5ECF6",
              "width": 0.5
             },
             "pattern": {
              "fillmode": "overlay",
              "size": 10,
              "solidity": 0.2
             }
            },
            "type": "bar"
           }
          ],
          "barpolar": [
           {
            "marker": {
             "line": {
              "color": "#E5ECF6",
              "width": 0.5
             },
             "pattern": {
              "fillmode": "overlay",
              "size": 10,
              "solidity": 0.2
             }
            },
            "type": "barpolar"
           }
          ],
          "carpet": [
           {
            "aaxis": {
             "endlinecolor": "#2a3f5f",
             "gridcolor": "white",
             "linecolor": "white",
             "minorgridcolor": "white",
             "startlinecolor": "#2a3f5f"
            },
            "baxis": {
             "endlinecolor": "#2a3f5f",
             "gridcolor": "white",
             "linecolor": "white",
             "minorgridcolor": "white",
             "startlinecolor": "#2a3f5f"
            },
            "type": "carpet"
           }
          ],
          "choropleth": [
           {
            "colorbar": {
             "outlinewidth": 0,
             "ticks": ""
            },
            "type": "choropleth"
           }
          ],
          "contour": [
           {
            "colorbar": {
             "outlinewidth": 0,
             "ticks": ""
            },
            "colorscale": [
             [
              0,
              "#0d0887"
             ],
             [
              0.1111111111111111,
              "#46039f"
             ],
             [
              0.2222222222222222,
              "#7201a8"
             ],
             [
              0.3333333333333333,
              "#9c179e"
             ],
             [
              0.4444444444444444,
              "#bd3786"
             ],
             [
              0.5555555555555556,
              "#d8576b"
             ],
             [
              0.6666666666666666,
              "#ed7953"
             ],
             [
              0.7777777777777778,
              "#fb9f3a"
             ],
             [
              0.8888888888888888,
              "#fdca26"
             ],
             [
              1,
              "#f0f921"
             ]
            ],
            "type": "contour"
           }
          ],
          "contourcarpet": [
           {
            "colorbar": {
             "outlinewidth": 0,
             "ticks": ""
            },
            "type": "contourcarpet"
           }
          ],
          "heatmap": [
           {
            "colorbar": {
             "outlinewidth": 0,
             "ticks": ""
            },
            "colorscale": [
             [
              0,
              "#0d0887"
             ],
             [
              0.1111111111111111,
              "#46039f"
             ],
             [
              0.2222222222222222,
              "#7201a8"
             ],
             [
              0.3333333333333333,
              "#9c179e"
             ],
             [
              0.4444444444444444,
              "#bd3786"
             ],
             [
              0.5555555555555556,
              "#d8576b"
             ],
             [
              0.6666666666666666,
              "#ed7953"
             ],
             [
              0.7777777777777778,
              "#fb9f3a"
             ],
             [
              0.8888888888888888,
              "#fdca26"
             ],
             [
              1,
              "#f0f921"
             ]
            ],
            "type": "heatmap"
           }
          ],
          "heatmapgl": [
           {
            "colorbar": {
             "outlinewidth": 0,
             "ticks": ""
            },
            "colorscale": [
             [
              0,
              "#0d0887"
             ],
             [
              0.1111111111111111,
              "#46039f"
             ],
             [
              0.2222222222222222,
              "#7201a8"
             ],
             [
              0.3333333333333333,
              "#9c179e"
             ],
             [
              0.4444444444444444,
              "#bd3786"
             ],
             [
              0.5555555555555556,
              "#d8576b"
             ],
             [
              0.6666666666666666,
              "#ed7953"
             ],
             [
              0.7777777777777778,
              "#fb9f3a"
             ],
             [
              0.8888888888888888,
              "#fdca26"
             ],
             [
              1,
              "#f0f921"
             ]
            ],
            "type": "heatmapgl"
           }
          ],
          "histogram": [
           {
            "marker": {
             "pattern": {
              "fillmode": "overlay",
              "size": 10,
              "solidity": 0.2
             }
            },
            "type": "histogram"
           }
          ],
          "histogram2d": [
           {
            "colorbar": {
             "outlinewidth": 0,
             "ticks": ""
            },
            "colorscale": [
             [
              0,
              "#0d0887"
             ],
             [
              0.1111111111111111,
              "#46039f"
             ],
             [
              0.2222222222222222,
              "#7201a8"
             ],
             [
              0.3333333333333333,
              "#9c179e"
             ],
             [
              0.4444444444444444,
              "#bd3786"
             ],
             [
              0.5555555555555556,
              "#d8576b"
             ],
             [
              0.6666666666666666,
              "#ed7953"
             ],
             [
              0.7777777777777778,
              "#fb9f3a"
             ],
             [
              0.8888888888888888,
              "#fdca26"
             ],
             [
              1,
              "#f0f921"
             ]
            ],
            "type": "histogram2d"
           }
          ],
          "histogram2dcontour": [
           {
            "colorbar": {
             "outlinewidth": 0,
             "ticks": ""
            },
            "colorscale": [
             [
              0,
              "#0d0887"
             ],
             [
              0.1111111111111111,
              "#46039f"
             ],
             [
              0.2222222222222222,
              "#7201a8"
             ],
             [
              0.3333333333333333,
              "#9c179e"
             ],
             [
              0.4444444444444444,
              "#bd3786"
             ],
             [
              0.5555555555555556,
              "#d8576b"
             ],
             [
              0.6666666666666666,
              "#ed7953"
             ],
             [
              0.7777777777777778,
              "#fb9f3a"
             ],
             [
              0.8888888888888888,
              "#fdca26"
             ],
             [
              1,
              "#f0f921"
             ]
            ],
            "type": "histogram2dcontour"
           }
          ],
          "mesh3d": [
           {
            "colorbar": {
             "outlinewidth": 0,
             "ticks": ""
            },
            "type": "mesh3d"
           }
          ],
          "parcoords": [
           {
            "line": {
             "colorbar": {
              "outlinewidth": 0,
              "ticks": ""
             }
            },
            "type": "parcoords"
           }
          ],
          "pie": [
           {
            "automargin": true,
            "type": "pie"
           }
          ],
          "scatter": [
           {
            "fillpattern": {
             "fillmode": "overlay",
             "size": 10,
             "solidity": 0.2
            },
            "type": "scatter"
           }
          ],
          "scatter3d": [
           {
            "line": {
             "colorbar": {
              "outlinewidth": 0,
              "ticks": ""
             }
            },
            "marker": {
             "colorbar": {
              "outlinewidth": 0,
              "ticks": ""
             }
            },
            "type": "scatter3d"
           }
          ],
          "scattercarpet": [
           {
            "marker": {
             "colorbar": {
              "outlinewidth": 0,
              "ticks": ""
             }
            },
            "type": "scattercarpet"
           }
          ],
          "scattergeo": [
           {
            "marker": {
             "colorbar": {
              "outlinewidth": 0,
              "ticks": ""
             }
            },
            "type": "scattergeo"
           }
          ],
          "scattergl": [
           {
            "marker": {
             "colorbar": {
              "outlinewidth": 0,
              "ticks": ""
             }
            },
            "type": "scattergl"
           }
          ],
          "scattermapbox": [
           {
            "marker": {
             "colorbar": {
              "outlinewidth": 0,
              "ticks": ""
             }
            },
            "type": "scattermapbox"
           }
          ],
          "scatterpolar": [
           {
            "marker": {
             "colorbar": {
              "outlinewidth": 0,
              "ticks": ""
             }
            },
            "type": "scatterpolar"
           }
          ],
          "scatterpolargl": [
           {
            "marker": {
             "colorbar": {
              "outlinewidth": 0,
              "ticks": ""
             }
            },
            "type": "scatterpolargl"
           }
          ],
          "scatterternary": [
           {
            "marker": {
             "colorbar": {
              "outlinewidth": 0,
              "ticks": ""
             }
            },
            "type": "scatterternary"
           }
          ],
          "surface": [
           {
            "colorbar": {
             "outlinewidth": 0,
             "ticks": ""
            },
            "colorscale": [
             [
              0,
              "#0d0887"
             ],
             [
              0.1111111111111111,
              "#46039f"
             ],
             [
              0.2222222222222222,
              "#7201a8"
             ],
             [
              0.3333333333333333,
              "#9c179e"
             ],
             [
              0.4444444444444444,
              "#bd3786"
             ],
             [
              0.5555555555555556,
              "#d8576b"
             ],
             [
              0.6666666666666666,
              "#ed7953"
             ],
             [
              0.7777777777777778,
              "#fb9f3a"
             ],
             [
              0.8888888888888888,
              "#fdca26"
             ],
             [
              1,
              "#f0f921"
             ]
            ],
            "type": "surface"
           }
          ],
          "table": [
           {
            "cells": {
             "fill": {
              "color": "#EBF0F8"
             },
             "line": {
              "color": "white"
             }
            },
            "header": {
             "fill": {
              "color": "#C8D4E3"
             },
             "line": {
              "color": "white"
             }
            },
            "type": "table"
           }
          ]
         },
         "layout": {
          "annotationdefaults": {
           "arrowcolor": "#2a3f5f",
           "arrowhead": 0,
           "arrowwidth": 1
          },
          "autotypenumbers": "strict",
          "coloraxis": {
           "colorbar": {
            "outlinewidth": 0,
            "ticks": ""
           }
          },
          "colorscale": {
           "diverging": [
            [
             0,
             "#8e0152"
            ],
            [
             0.1,
             "#c51b7d"
            ],
            [
             0.2,
             "#de77ae"
            ],
            [
             0.3,
             "#f1b6da"
            ],
            [
             0.4,
             "#fde0ef"
            ],
            [
             0.5,
             "#f7f7f7"
            ],
            [
             0.6,
             "#e6f5d0"
            ],
            [
             0.7,
             "#b8e186"
            ],
            [
             0.8,
             "#7fbc41"
            ],
            [
             0.9,
             "#4d9221"
            ],
            [
             1,
             "#276419"
            ]
           ],
           "sequential": [
            [
             0,
             "#0d0887"
            ],
            [
             0.1111111111111111,
             "#46039f"
            ],
            [
             0.2222222222222222,
             "#7201a8"
            ],
            [
             0.3333333333333333,
             "#9c179e"
            ],
            [
             0.4444444444444444,
             "#bd3786"
            ],
            [
             0.5555555555555556,
             "#d8576b"
            ],
            [
             0.6666666666666666,
             "#ed7953"
            ],
            [
             0.7777777777777778,
             "#fb9f3a"
            ],
            [
             0.8888888888888888,
             "#fdca26"
            ],
            [
             1,
             "#f0f921"
            ]
           ],
           "sequentialminus": [
            [
             0,
             "#0d0887"
            ],
            [
             0.1111111111111111,
             "#46039f"
            ],
            [
             0.2222222222222222,
             "#7201a8"
            ],
            [
             0.3333333333333333,
             "#9c179e"
            ],
            [
             0.4444444444444444,
             "#bd3786"
            ],
            [
             0.5555555555555556,
             "#d8576b"
            ],
            [
             0.6666666666666666,
             "#ed7953"
            ],
            [
             0.7777777777777778,
             "#fb9f3a"
            ],
            [
             0.8888888888888888,
             "#fdca26"
            ],
            [
             1,
             "#f0f921"
            ]
           ]
          },
          "colorway": [
           "#636efa",
           "#EF553B",
           "#00cc96",
           "#ab63fa",
           "#FFA15A",
           "#19d3f3",
           "#FF6692",
           "#B6E880",
           "#FF97FF",
           "#FECB52"
          ],
          "font": {
           "color": "#2a3f5f"
          },
          "geo": {
           "bgcolor": "white",
           "lakecolor": "white",
           "landcolor": "#E5ECF6",
           "showlakes": true,
           "showland": true,
           "subunitcolor": "white"
          },
          "hoverlabel": {
           "align": "left"
          },
          "hovermode": "closest",
          "mapbox": {
           "style": "light"
          },
          "paper_bgcolor": "white",
          "plot_bgcolor": "#E5ECF6",
          "polar": {
           "angularaxis": {
            "gridcolor": "white",
            "linecolor": "white",
            "ticks": ""
           },
           "bgcolor": "#E5ECF6",
           "radialaxis": {
            "gridcolor": "white",
            "linecolor": "white",
            "ticks": ""
           }
          },
          "scene": {
           "xaxis": {
            "backgroundcolor": "#E5ECF6",
            "gridcolor": "white",
            "gridwidth": 2,
            "linecolor": "white",
            "showbackground": true,
            "ticks": "",
            "zerolinecolor": "white"
           },
           "yaxis": {
            "backgroundcolor": "#E5ECF6",
            "gridcolor": "white",
            "gridwidth": 2,
            "linecolor": "white",
            "showbackground": true,
            "ticks": "",
            "zerolinecolor": "white"
           },
           "zaxis": {
            "backgroundcolor": "#E5ECF6",
            "gridcolor": "white",
            "gridwidth": 2,
            "linecolor": "white",
            "showbackground": true,
            "ticks": "",
            "zerolinecolor": "white"
           }
          },
          "shapedefaults": {
           "line": {
            "color": "#2a3f5f"
           }
          },
          "ternary": {
           "aaxis": {
            "gridcolor": "white",
            "linecolor": "white",
            "ticks": ""
           },
           "baxis": {
            "gridcolor": "white",
            "linecolor": "white",
            "ticks": ""
           },
           "bgcolor": "#E5ECF6",
           "caxis": {
            "gridcolor": "white",
            "linecolor": "white",
            "ticks": ""
           }
          },
          "title": {
           "x": 0.05
          },
          "xaxis": {
           "automargin": true,
           "gridcolor": "white",
           "linecolor": "white",
           "ticks": "",
           "title": {
            "standoff": 15
           },
           "zerolinecolor": "white",
           "zerolinewidth": 2
          },
          "yaxis": {
           "automargin": true,
           "gridcolor": "white",
           "linecolor": "white",
           "ticks": "",
           "title": {
            "standoff": 15
           },
           "zerolinecolor": "white",
           "zerolinewidth": 2
          }
         }
        },
        "title": {
         "text": "Event Trace without Time"
        },
        "width": 1200,
        "xaxis": {
         "color": "black",
         "gridcolor": "lightgrey",
         "linecolor": "black",
         "mirror": true,
         "rangeslider": {
          "visible": true
         },
         "showline": true,
         "tickfont": {
          "size": 20
         },
         "ticks": "outside",
         "ticktext": [
          [
           0,
           1369
          ],
          [
           10,
           2990
          ],
          [
           20,
           6132
          ],
          [
           30,
           7231
          ],
          [
           40,
           9320
          ],
          [
           50,
           12464
          ],
          [
           60,
           13542
          ],
          [
           70,
           15652
          ],
          [
           80,
           17762
          ],
          [
           90,
           19874
          ],
          [
           100,
           21983
          ],
          [
           110,
           23063
          ],
          [
           120,
           26207
          ],
          [
           130,
           27306
          ],
          [
           140,
           29396
          ],
          [
           150,
           31508
          ],
          [
           160,
           32585
          ],
          [
           170,
           33664
          ],
          [
           180,
           35774
          ],
          [
           190,
           37886
          ],
          [
           200,
           38965
          ],
          [
           210,
           40042
          ],
          [
           220,
           42154
          ],
          [
           230,
           43233
          ],
          [
           240,
           45345
          ],
          [
           250,
           46422
          ],
          [
           260,
           47521
          ],
          [
           270,
           49612
          ],
          [
           280,
           51724
          ],
          [
           290,
           52802
          ],
          [
           300,
           53881
          ],
          [
           310,
           55993
          ],
          [
           320,
           57071
          ],
          [
           330,
           59182
          ],
          [
           340,
           61294
          ],
          [
           350,
           63405
          ],
          [
           360,
           65517
          ],
          [
           370,
           67626
          ],
          [
           380,
           68705
          ],
          [
           390,
           71850
          ],
          [
           400,
           72948
          ],
          [
           410,
           75038
          ],
          [
           420,
           77150
          ],
          [
           430,
           79261
          ],
          [
           440,
           81372
          ],
          [
           450,
           83483
          ],
          [
           460,
           85594
          ],
          [
           470,
           87705
          ],
          [
           480,
           88784
          ],
          [
           490,
           91929
          ],
          [
           500,
           93028
          ],
          [
           510,
           95118
          ],
          [
           520,
           97230
          ],
          [
           530,
           99341
          ],
          [
           540,
           101452
          ],
          [
           550,
           103565
          ],
          [
           560,
           105697
          ],
          [
           570,
           107787
          ],
          [
           580,
           109899
          ],
          [
           590,
           112010
          ],
          [
           600,
           113111
          ],
          [
           610,
           116234
          ],
          [
           620,
           118346
          ],
          [
           630,
           119444
          ],
          [
           640,
           122569
          ],
          [
           650,
           123647
          ],
          [
           660,
           125779
          ],
          [
           670,
           127871
          ],
          [
           680,
           129982
          ],
          [
           690,
           132092
          ],
          [
           700,
           133192
          ],
          [
           710,
           136316
          ],
          [
           720,
           138429
          ],
          [
           730,
           139528
          ],
          [
           740,
           142651
          ],
          [
           750,
           143729
          ],
          [
           760,
           145861
          ],
          [
           770,
           147952
          ],
          [
           780,
           150066
          ],
          [
           790,
           152177
          ],
          [
           800,
           153278
          ],
          [
           810,
           156401
          ],
          [
           820,
           159396
          ],
          [
           830,
           161508
          ],
          [
           840,
           162607
          ],
          [
           850,
           164697
          ],
          [
           860,
           167841
          ],
          [
           870,
           169180
          ],
          [
           880,
           171314
          ],
          [
           890,
           173404
          ],
          [
           900,
           175517
          ],
          [
           910,
           177630
          ],
          [
           920,
           178730
          ],
          [
           930,
           181854
          ],
          [
           940,
           183967
          ],
          [
           950,
           186337
          ],
          [
           960,
           187436
          ],
          [
           970,
           189527
          ],
          [
           980,
           192671
          ],
          [
           990,
           193750
          ],
          [
           1000,
           195861
          ],
          [
           1010,
           197972
          ],
          [
           1020,
           200085
          ],
          [
           1030,
           202452
          ],
          [
           1040,
           203554
          ],
          [
           1050,
           206678
          ],
          [
           1060,
           208791
          ],
          [
           1070,
           209890
          ],
          [
           1080,
           211981
          ],
          [
           1090,
           214093
          ],
          [
           1100,
           216226
          ],
          [
           1110,
           218315
          ],
          [
           1120,
           220428
          ],
          [
           1130,
           222538
          ],
          [
           1140,
           223639
          ],
          [
           1150,
           226763
          ],
          [
           1160,
           228875
          ],
          [
           1170,
           229974
          ],
          [
           1180,
           232065
          ],
          [
           1190,
           234176
          ],
          [
           1200,
           236311
          ],
          [
           1210,
           238402
          ],
          [
           1220,
           239502
          ],
          [
           1230,
           241593
          ],
          [
           1240,
           242672
          ],
          [
           1250,
           244783
          ],
          [
           1260,
           245883
          ],
          [
           1270,
           247975
          ],
          [
           1280,
           249053
          ],
          [
           1290,
           251165
          ],
          [
           1300,
           252243
          ],
          [
           1310,
           253343
          ],
          [
           1320,
           255434
          ],
          [
           1330,
           257547
          ],
          [
           1340,
           258625
          ],
          [
           1350,
           259724
          ],
          [
           1360,
           261816
          ],
          [
           1370,
           262894
          ],
          [
           1380,
           265005
          ],
          [
           1390,
           266105
          ],
          [
           1400,
           268197
          ],
          [
           1410,
           269277
          ],
          [
           1420,
           271388
          ],
          [
           1430,
           273502
          ],
          [
           1440,
           274602
          ],
          [
           1450,
           277725
          ],
          [
           1460,
           278807
          ],
          [
           1470,
           280939
          ],
          [
           1480,
           283029
          ],
          [
           1490,
           285144
          ],
          [
           1500,
           287254
          ],
          [
           1510,
           289613
          ],
          [
           1520,
           291727
          ],
          [
           1530,
           293838
          ],
          [
           1540,
           295952
          ],
          [
           1550,
           297050
          ],
          [
           1560,
           299139
          ],
          [
           1570,
           302286
          ],
          [
           1580,
           303367
          ],
          [
           1590,
           305481
          ],
          [
           1600,
           307593
          ],
          [
           1610,
           309705
          ],
          [
           1620,
           311818
          ],
          [
           1630,
           313929
          ],
          [
           1640,
           316041
          ],
          [
           1650,
           317141
          ],
          [
           1660,
           319233
          ],
          [
           1670,
           322378
          ],
          [
           1680,
           323457
          ],
          [
           1690,
           325569
          ],
          [
           1700,
           327681
          ],
          [
           1710,
           329795
          ],
          [
           1720,
           331907
          ],
          [
           1730,
           334018
          ],
          [
           1740,
           336132
          ],
          [
           1750,
           337231
          ],
          [
           1760,
           339321
          ],
          [
           1770,
           342467
          ],
          [
           1780,
           343546
          ],
          [
           1790,
           345657
          ],
          [
           1800,
           347770
          ],
          [
           1810,
           349883
          ],
          [
           1820,
           351992
          ],
          [
           1830,
           353074
          ],
          [
           1840,
           356220
          ],
          [
           1850,
           357320
          ],
          [
           1860,
           359411
          ],
          [
           1870,
           362556
          ],
          [
           1880,
           363637
          ],
          [
           1890,
           365747
          ],
          [
           1900,
           367858
          ],
          [
           1910,
           369973
          ],
          [
           1920,
           372083
          ],
          [
           1930,
           373162
          ],
          [
           1940,
           376308
          ],
          [
           1950,
           377409
          ],
          [
           1960,
           379503
          ],
          [
           1970,
           382648
          ],
          [
           1980,
           383726
          ],
          [
           1990,
           385841
          ],
          [
           2000,
           387952
          ],
          [
           2010,
           390064
          ],
          [
           2020,
           392176
          ],
          [
           2030,
           394290
          ],
          [
           2040,
           396405
          ],
          [
           2050,
           397503
          ],
          [
           2060,
           399879
          ],
          [
           2070,
           401970
          ],
          [
           2080,
           404082
          ],
          [
           2090,
           406218
          ],
          [
           2100,
           408309
          ],
          [
           2110,
           410419
          ],
          [
           2120,
           412531
          ],
          [
           2130,
           413630
          ],
          [
           2140,
           416756
          ],
          [
           2150,
           418869
          ],
          [
           2160,
           419966
          ],
          [
           2170,
           422060
          ],
          [
           2180,
           424171
          ],
          [
           2190,
           426303
          ],
          [
           2200,
           428396
          ],
          [
           2210,
           430508
          ],
          [
           2220,
           432622
          ],
          [
           2230,
           433722
          ],
          [
           2240,
           436844
          ],
          [
           2250,
           438960
          ],
          [
           2260,
           440059
          ],
          [
           2270,
           442149
          ],
          [
           2280,
           444262
          ],
          [
           2290,
           446397
          ],
          [
           2300,
           448488
          ],
          [
           2310,
           450599
          ],
          [
           2320,
           452710
          ],
          [
           2330,
           453815
          ],
          [
           2340,
           455906
          ],
          [
           2350,
           456984
          ],
          [
           2360,
           459098
          ],
          [
           2370,
           460198
          ],
          [
           2380,
           462290
          ],
          [
           2390,
           463369
          ],
          [
           2400,
           465482
          ],
          [
           2410,
           466581
          ],
          [
           2420,
           468674
          ],
          [
           2430,
           469752
          ],
          [
           2440,
           471864
          ],
          [
           2450,
           472943
          ],
          [
           2460,
           474044
          ],
          [
           2470,
           476136
          ],
          [
           2480,
           477215
          ],
          [
           2490,
           479326
          ],
          [
           2500,
           480430
          ],
          [
           2510,
           482520
          ],
          [
           2520,
           483599
          ],
          [
           2530,
           485734
          ],
          [
           2540,
           487826
          ],
          [
           2550,
           489936
          ],
          [
           2560,
           492052
          ],
          [
           2570,
           493151
          ],
          [
           2580,
           496277
          ],
          [
           2590,
           498390
          ],
          [
           2600,
           499489
          ],
          [
           2610,
           502618
          ],
          [
           2620,
           503698
          ],
          [
           2630,
           505832
          ],
          [
           2640,
           507924
          ],
          [
           2650,
           510036
          ],
          [
           2660,
           512153
          ],
          [
           2670,
           513254
          ],
          [
           2680,
           516378
          ],
          [
           2690,
           518492
          ],
          [
           2700,
           519593
          ],
          [
           2710,
           522721
          ],
          [
           2720,
           523799
          ],
          [
           2730,
           525933
          ],
          [
           2740,
           528027
          ],
          [
           2750,
           530139
          ],
          [
           2760,
           532251
          ],
          [
           2770,
           533357
          ]
         ],
         "tickvals": [
          0,
          10,
          20,
          30,
          40,
          50,
          60,
          70,
          80,
          90,
          100,
          110,
          120,
          130,
          140,
          150,
          160,
          170,
          180,
          190,
          200,
          210,
          220,
          230,
          240,
          250,
          260,
          270,
          280,
          290,
          300,
          310,
          320,
          330,
          340,
          350,
          360,
          370,
          380,
          390,
          400,
          410,
          420,
          430,
          440,
          450,
          460,
          470,
          480,
          490,
          500,
          510,
          520,
          530,
          540,
          550,
          560,
          570,
          580,
          590,
          600,
          610,
          620,
          630,
          640,
          650,
          660,
          670,
          680,
          690,
          700,
          710,
          720,
          730,
          740,
          750,
          760,
          770,
          780,
          790,
          800,
          810,
          820,
          830,
          840,
          850,
          860,
          870,
          880,
          890,
          900,
          910,
          920,
          930,
          940,
          950,
          960,
          970,
          980,
          990,
          1000,
          1010,
          1020,
          1030,
          1040,
          1050,
          1060,
          1070,
          1080,
          1090,
          1100,
          1110,
          1120,
          1130,
          1140,
          1150,
          1160,
          1170,
          1180,
          1190,
          1200,
          1210,
          1220,
          1230,
          1240,
          1250,
          1260,
          1270,
          1280,
          1290,
          1300,
          1310,
          1320,
          1330,
          1340,
          1350,
          1360,
          1370,
          1380,
          1390,
          1400,
          1410,
          1420,
          1430,
          1440,
          1450,
          1460,
          1470,
          1480,
          1490,
          1500,
          1510,
          1520,
          1530,
          1540,
          1550,
          1560,
          1570,
          1580,
          1590,
          1600,
          1610,
          1620,
          1630,
          1640,
          1650,
          1660,
          1670,
          1680,
          1690,
          1700,
          1710,
          1720,
          1730,
          1740,
          1750,
          1760,
          1770,
          1780,
          1790,
          1800,
          1810,
          1820,
          1830,
          1840,
          1850,
          1860,
          1870,
          1880,
          1890,
          1900,
          1910,
          1920,
          1930,
          1940,
          1950,
          1960,
          1970,
          1980,
          1990,
          2000,
          2010,
          2020,
          2030,
          2040,
          2050,
          2060,
          2070,
          2080,
          2090,
          2100,
          2110,
          2120,
          2130,
          2140,
          2150,
          2160,
          2170,
          2180,
          2190,
          2200,
          2210,
          2220,
          2230,
          2240,
          2250,
          2260,
          2270,
          2280,
          2290,
          2300,
          2310,
          2320,
          2330,
          2340,
          2350,
          2360,
          2370,
          2380,
          2390,
          2400,
          2410,
          2420,
          2430,
          2440,
          2450,
          2460,
          2470,
          2480,
          2490,
          2500,
          2510,
          2520,
          2530,
          2540,
          2550,
          2560,
          2570,
          2580,
          2590,
          2600,
          2610,
          2620,
          2630,
          2640,
          2650,
          2660,
          2670,
          2680,
          2690,
          2700,
          2710,
          2720,
          2730,
          2740,
          2750,
          2760,
          2770
         ],
         "title": {
          "font": {
           "size": 20
          },
          "text": "Number of events"
         },
         "type": "linear"
        },
        "yaxis": {
         "color": "black",
         "gridcolor": "lightgrey",
         "linecolor": "black",
         "mirror": true,
         "showline": true,
         "tickfont": {
          "size": 20
         },
         "ticks": "outside",
         "ticktext": [
          "1-0-main-ow",
          "1-0-main-temp",
          "1-0-main-lora",
          "1-0-main-s",
          "1-0-main-com_timer",
          "1-control-init_timer0-0",
          "1-0-main-i",
          "1-0-sense-temperature",
          "1-0-main-temperature",
          "1-control-updatedata-cls.sensor_data",
          "1-control-readdata-0",
          "1-0-loracom-data",
          "1-control-update_txmsg-0",
          "1-0-main-g_ack",
          "1-0-main-events",
          "1-control-update_rxmsg-drop"
         ],
         "tickvals": [
          0,
          1,
          2,
          3,
          4,
          5,
          6,
          7,
          8,
          9,
          10,
          11,
          12,
          13,
          14,
          15
         ],
         "title": {
          "font": {
           "size": 20
          },
          "text": "Variables"
         }
        }
       }
      }
     },
     "metadata": {},
     "output_type": "display_data"
    }
   ],
   "source": [
    "### plot\n",
    "for i, df in enumerate(all_df):\n",
    "    if i == trace_file:\n",
    "        plot_single_trace(df, var_list, with_time=False, is_xticks=True, ground_truths=toplot_gt)"
   ]
  },
  {
   "cell_type": "code",
   "execution_count": null,
   "metadata": {},
   "outputs": [],
   "source": []
  },
  {
   "cell_type": "markdown",
   "metadata": {},
   "source": [
    "## Generate train data"
   ]
  },
  {
   "cell_type": "code",
   "execution_count": null,
   "metadata": {},
   "outputs": [],
   "source": [
    "'''\n",
    "Add the indices for the interval in 'normal_seq_inter' that show correct behvaiour in the traces. \n",
    "The format is as follows:\n",
    "path_traces = [path1, path2, ...]\n",
    "normal_seq_inter = [ ( intervals for trace1, ...), \n",
    "                    ( intervals for trace2 ...),\n",
    "                      ...] \n",
    "'''\n",
    "\n",
    "normal_seq_inter = (  ( (0,110), (150,900), (1250,2000), (2050,2300) ),  ### v3, normal trace0\n",
    "            )\n",
    "\n",
    "for p, n_inter in zip(paths_traces, normal_seq_inter):\n",
    "    trace = read_traces(p)\n",
    "    train_data_path = os.path.join(os.path.dirname(p), 'train_data')\n",
    "\n",
    "    if not os.path.exists(train_data_path):\n",
    "        os.makedirs(train_data_path)\n",
    "\n",
    "    for i, inter in enumerate(n_inter):\n",
    "        start, end = inter\n",
    "        # trace[start:end].to_csv(os.path.join(train_data_path, f'interval_{start}_{end}.csv'), index=False)\n",
    "        json.dump(trace[start:end], open(os.path.join(train_data_path, f'interval_{start}_{end}.json'), 'w'))"
   ]
  },
  {
   "cell_type": "code",
   "execution_count": null,
   "metadata": {},
   "outputs": [],
   "source": [
    "normal_seq_inter[0]"
   ]
  },
  {
   "cell_type": "code",
   "execution_count": null,
   "metadata": {},
   "outputs": [],
   "source": []
  }
 ],
 "metadata": {
  "kernelspec": {
   "display_name": "venv",
   "language": "python",
   "name": "python3"
  },
  "language_info": {
   "codemirror_mode": {
    "name": "ipython",
    "version": 3
   },
   "file_extension": ".py",
   "mimetype": "text/x-python",
   "name": "python",
   "nbconvert_exporter": "python",
   "pygments_lexer": "ipython3",
   "version": "3.10.14"
  }
 },
 "nbformat": 4,
 "nbformat_minor": 2
}
