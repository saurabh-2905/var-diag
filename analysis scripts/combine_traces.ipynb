{
 "cells": [
  {
   "cell_type": "code",
   "execution_count": 13,
   "metadata": {},
   "outputs": [],
   "source": [
    "import sqlalchemy\n",
    "from sqlalchemy import create_engine, Column, Integer, String, BigInteger, Sequence, ForeignKey\n",
    "from sqlalchemy.ext.declarative import declarative_base\n",
    "from sqlalchemy.orm import sessionmaker\n",
    "from typing import List\n",
    "from typing import Optional\n",
    "from sqlalchemy.orm import Mapped\n",
    "from sqlalchemy.orm import mapped_column\n",
    "from sqlalchemy.orm import relationship\n",
    "import os\n",
    "from libv3.utils import *\n",
    "import pandas as pd\n",
    "import json\n",
    "import shutil"
   ]
  },
  {
   "cell_type": "code",
   "execution_count": 25,
   "metadata": {},
   "outputs": [
    {
     "name": "stdout",
     "output_type": "stream",
     "text": [
      "CODE: mamba2\n",
      "BEHAVIOUR: normal\n",
      "THREAD: single\n",
      "VER: 3\n",
      "../trace_data/mamba2/single_thread/version_3/normal/trial3\n",
      "file number: 0\n"
     ]
    }
   ],
   "source": [
    "############ configuration ################\n",
    "############################################\n",
    "\n",
    "CODE, BEHAVIOUR, THREAD, VER = get_config('mamba2_config')   ### config stored in libv3/exp_config.txt\n",
    "TRIAL = 3\n",
    "\n",
    "base_dir = '../trace_data' ### can be replaced with 'csv', 'exe_plot', 'histogram'\n",
    "log_path = base_dir+f'/{CODE}/{THREAD}_thread/version_{VER}/{BEHAVIOUR}/trial{TRIAL}'\n",
    "\n",
    "print(log_path)\n",
    "\n",
    "#### file to display\n",
    "trace_file = 0\n",
    "\n",
    "print('file number:', trace_file)"
   ]
  },
  {
   "cell_type": "code",
   "execution_count": 26,
   "metadata": {},
   "outputs": [
    {
     "name": "stdout",
     "output_type": "stream",
     "text": [
      "[]\n",
      "['../trace_data/mamba2/single_thread/version_3/normal/trial3/trace0', '../trace_data/mamba2/single_thread/version_3/normal/trial3/trace1', '../trace_data/mamba2/single_thread/version_3/normal/trial3/trace10', '../trace_data/mamba2/single_thread/version_3/normal/trial3/trace11', '../trace_data/mamba2/single_thread/version_3/normal/trial3/trace2', '../trace_data/mamba2/single_thread/version_3/normal/trial3/trace3', '../trace_data/mamba2/single_thread/version_3/normal/trial3/trace4', '../trace_data/mamba2/single_thread/version_3/normal/trial3/trace5', '../trace_data/mamba2/single_thread/version_3/normal/trial3/trace6', '../trace_data/mamba2/single_thread/version_3/normal/trial3/trace7', '../trace_data/mamba2/single_thread/version_3/normal/trial3/trace8', '../trace_data/mamba2/single_thread/version_3/normal/trial3/trace9']\n",
      "['../trace_data/mamba2/single_thread/version_3/normal/trial3/varlist0', '../trace_data/mamba2/single_thread/version_3/normal/trial3/varlist1', '../trace_data/mamba2/single_thread/version_3/normal/trial3/varlist10', '../trace_data/mamba2/single_thread/version_3/normal/trial3/varlist11', '../trace_data/mamba2/single_thread/version_3/normal/trial3/varlist2', '../trace_data/mamba2/single_thread/version_3/normal/trial3/varlist3', '../trace_data/mamba2/single_thread/version_3/normal/trial3/varlist4', '../trace_data/mamba2/single_thread/version_3/normal/trial3/varlist5', '../trace_data/mamba2/single_thread/version_3/normal/trial3/varlist6', '../trace_data/mamba2/single_thread/version_3/normal/trial3/varlist7', '../trace_data/mamba2/single_thread/version_3/normal/trial3/varlist8', '../trace_data/mamba2/single_thread/version_3/normal/trial3/varlist9']\n",
      "[]\n"
     ]
    }
   ],
   "source": [
    "######### get paths #######################\n",
    "paths_log, paths_traces, varlist_path, paths_label = get_paths(log_path)\n",
    "\n",
    "### remove.Ds_store from all lists\n",
    "paths_log = [x for x in paths_log if '.DS_Store' not in x]\n",
    "paths_traces = [x for x in paths_traces if '.DS_Store' not in x]\n",
    "varlist_path = [x for x in varlist_path if '.DS_Store' not in x]\n",
    "paths_label = [x for x in paths_label if '.DS_Store' not in x]\n",
    "\n",
    "paths_log.sort()\n",
    "paths_traces.sort()\n",
    "varlist_path.sort()\n",
    "\n",
    "print(paths_log)\n",
    "print(paths_traces)\n",
    "print(varlist_path)\n",
    "print(paths_label)"
   ]
  },
  {
   "cell_type": "markdown",
   "metadata": {},
   "source": [
    "### Combine files from trials (only to create trial files)"
   ]
  },
  {
   "cell_type": "code",
   "execution_count": 27,
   "metadata": {},
   "outputs": [
    {
     "name": "stdout",
     "output_type": "stream",
     "text": [
      "Saved trace: ../trace_data/mamba2/single_thread/version_3/normal/trace_trial3\n",
      "{'0-0-0-CONNECTION_CO2': 11, '0-0-0-var': 61, '0-0-0-BMP': 38, '0-0-0-CONNECTION_O2': 13, '0-0-measure_am1-0': 64, '0-0-0-THRESHOLD_LIMITS': 43, '0-0-0-msg_interval': 28, '0-0-0-O2_ADRR': 3, '0-0-0-AM2301_1_ADRR': 6, '0-0-measure_scd30-0': 58, '0-0-measure_am4-0': 67, '0-0-cb_lora-board_id': 71, '0-0-cb_30-cb_30_done': 68, '0-0-0-cb_30_done': 26, '0-0-0-SPI_BUS': 33, '0-0-measure_co-0': 60, '0-0-0-am_temp': 23, '0-0-0-FUNC_VAR': 46, '0-0-0-CONNECTION_CO': 12, '0-0-0-timer1': 48, '0-0-0-CONNECTION_A1': 15, '0-0-0-CONNECTION_A2': 16, '0-0-0-CONNECTION_A3': 17, '0-0-0-CONNECTION_A4': 18, '0-0-0-timer0': 47, '0-0-0-AM2301_2_ADRR': 7, '0-0-0-MCP_O2': 37, '0-0-0-SENSOR_DATA': 49, '0-0-0-SCD30_ADRR': 5, '0-0-0-lora': 34, '0-0-0-que': 25, '0-0-measure_am2-0': 65, '0-0-add_to_que-que': 69, '0-0-cb_retrans-cb_retrans_done': 73, '0-0-0-func_call': 57, '0-0-write_to_log-0': 74, '0-0-0-LIMITS_BROKEN': 55, '0-0-cb_lora-timestamp': 72, '0-0-0-CONNECTION_VAR': 44, '0-0-0-am_hum': 24, '0-0-0-AM2301_3': 41, '0-0-0-AM2301_2': 40, '0-0-0-AM2301_1': 39, '0-0-crc32-crc': 31, '0-0-0-CO_ADRR': 4, '0-0-0-retransmit_count': 52, '0-0-0-SENSORS_LIST': 45, '0-0-0-SENSOR_STATUS': 54, '0-0-0-_pkng_frmt': 0, '0-0-0-AM2301_4': 42, '0-0-0-current_time': 53, '0-0-0-I2CBUS': 32, '0-0-measure_am3-0': 66, '0-0-0-MAX_QUEUE': 19, '0-0-0-scd_co2': 20, '0-0-0-msg': 50, '0-0-0-MCP_CO': 36, '0-0-0-FAILED_LORA': 10, '0-0-0-cb_retrans_done': 27, '0-0-0-scd_hum': 22, '0-0-0-SENSORBOARD_ID': 2, '0-0-measure_o2-0': 62, '0-0-0-scd30': 35, '0-0-0-scd_temp': 21, '0-0-measure_bmp-0': 63, '0-0-0-CONNECTION_BMP': 14, '0-0-0-retx_interval': 29, '0-0-0-j': 56, '0-0-0-reading_co2': 59, '0-0-0-hb_msg': 30, '0-0-get_node_id-node_id': 1, '0-0-0-start_time': 51, '0-0-cb_lora-rcv_msg': 70, '0-0-0-AM2301_3_ADRR': 8, '0-0-0-AM2301_4_ADRR': 9}\n"
     ]
    }
   ],
   "source": [
    "#### combine files\n",
    "paths_traces.sort(key=lambda x: int(x.split('/')[-1][5:]))\n",
    "last_file_num = int(paths_traces[-1].split('/')[-1][5:])\n",
    "all_content = []\n",
    "for trace_path in paths_traces:\n",
    "    content = read_traces(trace_path)   \n",
    "    all_content.extend(content)\n",
    "    # print(content)\n",
    "    # break\n",
    "    \n",
    "path_to_save = os.path.dirname(os.path.dirname(trace_path))\n",
    "with open(path_to_save+f'/trace_trial{TRIAL}', 'w') as f:\n",
    "    json.dump(all_content, f)\n",
    "    print('Saved trace:', path_to_save+f'/trace_trial{TRIAL}')\n",
    "\n",
    "\n",
    "varlist_content = read_json(os.path.join(os.path.dirname(trace_path),f'varlist{last_file_num}'))\n",
    "print(varlist_content)\n",
    "with open(path_to_save+f'/varlist_trial{TRIAL}.json', 'w') as f:\n",
    "    json.dump(varlist_content, f)\n",
    "\n",
    "\n",
    "\n",
    "# # varlist_content = []\n",
    "# # for varlist_path in varlist_path:\n",
    "# #     content = read_json(varlist_path)\n",
    "# #     varlist_content.extend(content)\n",
    "# #     varlist_content = list(set(varlist_content)) ### remove duplicates\n"
   ]
  },
  {
   "cell_type": "markdown",
   "metadata": {},
   "source": [
    "## Run the consistency script before updating the data on Dashboard"
   ]
  },
  {
   "cell_type": "markdown",
   "metadata": {},
   "source": []
  }
 ],
 "metadata": {
  "kernelspec": {
   "display_name": "venv",
   "language": "python",
   "name": "python3"
  },
  "language_info": {
   "codemirror_mode": {
    "name": "ipython",
    "version": 3
   },
   "file_extension": ".py",
   "mimetype": "text/x-python",
   "name": "python",
   "nbconvert_exporter": "python",
   "pygments_lexer": "ipython3",
   "version": "3.10.14"
  }
 },
 "nbformat": 4,
 "nbformat_minor": 2
}
