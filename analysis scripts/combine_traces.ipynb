{
 "cells": [
  {
   "cell_type": "code",
   "execution_count": 13,
   "metadata": {},
   "outputs": [],
   "source": [
    "import sqlalchemy\n",
    "from sqlalchemy import create_engine, Column, Integer, String, BigInteger, Sequence, ForeignKey\n",
    "from sqlalchemy.ext.declarative import declarative_base\n",
    "from sqlalchemy.orm import sessionmaker\n",
    "from typing import List\n",
    "from typing import Optional\n",
    "from sqlalchemy.orm import Mapped\n",
    "from sqlalchemy.orm import mapped_column\n",
    "from sqlalchemy.orm import relationship\n",
    "import os\n",
    "from libv3.utils import *\n",
    "import pandas as pd\n",
    "import json\n",
    "import shutil"
   ]
  },
  {
   "cell_type": "code",
   "execution_count": 17,
   "metadata": {},
   "outputs": [
    {
     "name": "stdout",
     "output_type": "stream",
     "text": [
      "CODE: lora_ducy\n",
      "BEHAVIOUR: normal\n",
      "THREAD: single\n",
      "VER: 3\n",
      "../trace_data/lora_ducy/single_thread/version_3/normal/trial11\n",
      "file number: 0\n"
     ]
    }
   ],
   "source": [
    "############ configuration ################\n",
    "############################################\n",
    "\n",
    "CODE, BEHAVIOUR, THREAD, VER = get_config('lora_ducy_config')   ### config stored in libv3/exp_config.txt\n",
    "TRIAL = 11\n",
    "\n",
    "base_dir = '../trace_data' ### can be replaced with 'csv', 'exe_plot', 'histogram'\n",
    "log_path = base_dir+f'/{CODE}/{THREAD}_thread/version_{VER}/{BEHAVIOUR}/trial{TRIAL}'\n",
    "\n",
    "print(log_path)\n",
    "\n",
    "#### file to display\n",
    "trace_file = 0\n",
    "\n",
    "print('file number:', trace_file)"
   ]
  },
  {
   "cell_type": "code",
   "execution_count": 18,
   "metadata": {},
   "outputs": [
    {
     "name": "stdout",
     "output_type": "stream",
     "text": [
      "[]\n",
      "['../trace_data/lora_ducy/single_thread/version_3/normal/trial11/trace0', '../trace_data/lora_ducy/single_thread/version_3/normal/trial11/trace1', '../trace_data/lora_ducy/single_thread/version_3/normal/trial11/trace2', '../trace_data/lora_ducy/single_thread/version_3/normal/trial11/trace3']\n",
      "['../trace_data/lora_ducy/single_thread/version_3/normal/trial11/varlist0', '../trace_data/lora_ducy/single_thread/version_3/normal/trial11/varlist1', '../trace_data/lora_ducy/single_thread/version_3/normal/trial11/varlist2', '../trace_data/lora_ducy/single_thread/version_3/normal/trial11/varlist3']\n",
      "[]\n"
     ]
    }
   ],
   "source": [
    "######### get paths #######################\n",
    "paths_log, paths_traces, varlist_path, paths_label = get_paths(log_path)\n",
    "\n",
    "### remove.Ds_store from all lists\n",
    "paths_log = [x for x in paths_log if '.DS_Store' not in x]\n",
    "paths_traces = [x for x in paths_traces if '.DS_Store' not in x]\n",
    "varlist_path = [x for x in varlist_path if '.DS_Store' not in x]\n",
    "paths_label = [x for x in paths_label if '.DS_Store' not in x]\n",
    "\n",
    "paths_log.sort()\n",
    "paths_traces.sort()\n",
    "varlist_path.sort()\n",
    "\n",
    "print(paths_log)\n",
    "print(paths_traces)\n",
    "print(varlist_path)\n",
    "print(paths_label)"
   ]
  },
  {
   "cell_type": "markdown",
   "metadata": {},
   "source": [
    "### Combine files from trials (only to create trial files)"
   ]
  },
  {
   "cell_type": "code",
   "execution_count": 19,
   "metadata": {},
   "outputs": [
    {
     "name": "stdout",
     "output_type": "stream",
     "text": [
      "Saved trace: ../trace_data/lora_ducy/single_thread/version_3/normal/trace_trial11\n",
      "{'0-0-0-number': 53, '0-0-0-noise_detected_counter': 36, '0-0-0-rcv_packet': 67, '0-0-0-receiving_data': 69, '0-0-0-ss': 61, '0-0-packet_check-number': 60, '0-0-0-chrono2': 10, '0-0-0-transmissions': 22, '0-0-0-packet_size': 20, '0-0-cca-l': 58, '0-0-0-chrono1': 9, '0-0-0-transmission_in_pll': 48, '0-0-0-cca_time': 73, '0-0-0-events': 62, '0-0-cca-c': 57, '0-0-0-bluetooth': 3, '0-0-0-received_full_data': 40, '0-0-0-channel_status': 59, '0-0-0-zero_padding': 82, '0-0-0-destination_address': 75, '0-0-0-lora': 0, '0-0-0-Tx_time': 32, '0-0-0-phase_lock_time_saving': 24, '0-0-0-my_number': 5, '0-0-0-rcv_packet1': 66, '0-0-0-fast_sleep_time_save': 30, '0-0-0-time_now': 64, '0-0-0-failed_attempts': 26, '0-0-Random-r': 52, '0-0-0-pll_threshold': 16, '0-0-0-time_left': 70, '0-0-0-packet': 83, '0-0-0-only_listen': 35, '0-0-0-ack_data_packets': 37, '0-0-0-max_wait_time': 43, '0-0-0-neighbor_adresses': 50, '0-0-0-send_time_updated': 74, '0-0-0-cca_interval': 18, '0-0-0-pll_activation': 46, '0-0-0-packet_status': 56, '0-0-0-cca_list': 38, '0-0-0-received_time': 39, '0-0-0-decode_packet': 68, '0-0-0-wlan': 2, '0-0-0-cca_duration': 17, '0-0-0-send_time': 71, '0-0-0-Rx_time': 33, '0-0-0-channel_checked': 77, '0-0-0-event': 65, '0-0-0-saved_transmissions': 25, '0-0-0-Full_send_time': 31, '0-0-0-Broadcast_address': 55, '0-0-0-lora_off_time': 44, '0-0-0-rssi_threshold': 19, '0-0-0-Phase_Lock_channel_check': 78, '0-0-0-noise_found': 63, '0-0-0-phase_lock_transmissions': 79, '0-0-0-insatnce': 84, '0-0-0-chrono': 8, '0-0-0-Awake_instance': 28, '0-0-0-phase_lock_cca_fails': 27, '0-0-0-phase_lock_optimization': 41, '0-0-0-neighbour_discover': 49, '0-0-0-sleep_in_pll': 47, '0-0-0-phase_lock_optimization_time': 42, '0-0-0-packet1': 80, '0-0-0-data': 72, '0-0-0-broadcast_time_save': 29, '0-0-0-wakeup_interval': 12, '0-0-RandomRange-0': 51, '0-0-0-num_of_packets': 15, '0-0-0-transmission_type': 14, '0-0-0-source_address': 6, '0-0-0-fast_sleep_threshold': 13, '0-0-0-number_of_neighbours': 7, '0-0-0-alive_time': 23, '0-0-0-packet_gap_interval': 45, '0-0-0-s': 1, '0-0-0-safe_time': 76, '0-0-0-padding': 81, '0-0-0-ack_packet': 85, '0-0-get_node_id-node_id': 4, '0-0-0-packet_number': 21, '0-0-0-chrono3': 11, '0-0-0-ack': 34, '0-0-0-neighbor': 54}\n"
     ]
    }
   ],
   "source": [
    "#### combine files\n",
    "paths_traces.sort(key=lambda x: int(x.split('/')[-1][5:]))\n",
    "last_file_num = int(paths_traces[-1].split('/')[-1][5:])\n",
    "all_content = []\n",
    "for trace_path in paths_traces:\n",
    "    content = read_traces(trace_path)   \n",
    "    all_content.extend(content)\n",
    "    # print(content)\n",
    "    # break\n",
    "    \n",
    "path_to_save = os.path.dirname(os.path.dirname(trace_path))\n",
    "with open(path_to_save+f'/trace_trial{TRIAL}', 'w') as f:\n",
    "    json.dump(all_content, f)\n",
    "    print('Saved trace:', path_to_save+f'/trace_trial{TRIAL}')\n",
    "\n",
    "\n",
    "varlist_content = read_json(os.path.join(os.path.dirname(trace_path),f'varlist{last_file_num}'))\n",
    "print(varlist_content)\n",
    "with open(path_to_save+f'/varlist_trial{TRIAL}.json', 'w') as f:\n",
    "    json.dump(varlist_content, f)\n",
    "\n",
    "\n",
    "\n",
    "# # varlist_content = []\n",
    "# # for varlist_path in varlist_path:\n",
    "# #     content = read_json(varlist_path)\n",
    "# #     varlist_content.extend(content)\n",
    "# #     varlist_content = list(set(varlist_content)) ### remove duplicates\n"
   ]
  },
  {
   "cell_type": "markdown",
   "metadata": {},
   "source": [
    "## Run the consistency script before updating the data on Dashboard"
   ]
  }
 ],
 "metadata": {
  "kernelspec": {
   "display_name": "venv",
   "language": "python",
   "name": "python3"
  },
  "language_info": {
   "codemirror_mode": {
    "name": "ipython",
    "version": 3
   },
   "file_extension": ".py",
   "mimetype": "text/x-python",
   "name": "python",
   "nbconvert_exporter": "python",
   "pygments_lexer": "ipython3",
   "version": "3.10.14"
  }
 },
 "nbformat": 4,
 "nbformat_minor": 2
}
