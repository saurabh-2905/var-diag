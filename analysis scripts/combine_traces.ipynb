{
 "cells": [
  {
   "cell_type": "code",
   "execution_count": null,
   "metadata": {},
   "outputs": [],
   "source": [
    "import sqlalchemy\n",
    "from sqlalchemy import create_engine, Column, Integer, String, BigInteger, Sequence, ForeignKey\n",
    "from sqlalchemy.ext.declarative import declarative_base\n",
    "from sqlalchemy.orm import sessionmaker\n",
    "from typing import List\n",
    "from typing import Optional\n",
    "from sqlalchemy.orm import Mapped\n",
    "from sqlalchemy.orm import mapped_column\n",
    "from sqlalchemy.orm import relationship\n",
    "import os\n",
    "from libv3.utils import *\n",
    "import pandas as pd\n",
    "import json\n",
    "import shutil"
   ]
  },
  {
   "cell_type": "code",
   "execution_count": null,
   "metadata": {},
   "outputs": [],
   "source": [
    "############ configuration ################\n",
    "############################################\n",
    "\n",
    "CODE, BEHAVIOUR, THREAD, VER = get_config('theft_protection_config')   ### config stored in libv3/exp_config.txt\n",
    "TRIAL = 2\n",
    "\n",
    "base_dir = '../trace_data' ### can be replaced with 'csv', 'exe_plot', 'histogram'\n",
    "log_path = base_dir+f'/{CODE}/{THREAD}_thread/version_{VER}/{BEHAVIOUR}/trial{TRIAL}'\n",
    "\n",
    "print(log_path)\n",
    "\n",
    "#### file to display\n",
    "trace_file = 0\n",
    "\n",
    "print('file number:', trace_file)"
   ]
  },
  {
   "cell_type": "code",
   "execution_count": null,
   "metadata": {},
   "outputs": [],
   "source": [
    "######### get paths #######################\n",
    "paths_log, paths_traces, varlist_path, paths_label = get_paths(log_path)\n",
    "\n",
    "### remove.Ds_store from all lists\n",
    "paths_log = [x for x in paths_log if '.DS_Store' not in x]\n",
    "paths_traces = [x for x in paths_traces if '.DS_Store' not in x]\n",
    "varlist_path = [x for x in varlist_path if '.DS_Store' not in x]\n",
    "paths_label = [x for x in paths_label if '.DS_Store' not in x]\n",
    "\n",
    "paths_log.sort()\n",
    "paths_traces.sort()\n",
    "varlist_path.sort()\n",
    "\n",
    "print(paths_log)\n",
    "print(paths_traces)\n",
    "print(varlist_path)\n",
    "print(paths_label)"
   ]
  },
  {
   "cell_type": "markdown",
   "metadata": {},
   "source": [
    "### Combine files from trials (only to create trial files)"
   ]
  },
  {
   "cell_type": "code",
   "execution_count": null,
   "metadata": {},
   "outputs": [],
   "source": [
    "#### combine files\n",
    "paths_traces.sort(key=lambda x: int(x.split('/')[-1][5:]))\n",
    "last_file_num = int(paths_traces[-1].split('/')[-1][5:])\n",
    "all_content = []\n",
    "for trace_path in paths_traces:\n",
    "    content = read_traces(trace_path)   \n",
    "    all_content.extend(content)\n",
    "    # print(content)\n",
    "    # break\n",
    "    \n",
    "path_to_save = os.path.dirname(os.path.dirname(trace_path))\n",
    "with open(path_to_save+f'/trace_trial{TRIAL}', 'w') as f:\n",
    "    json.dump(all_content, f)\n",
    "    print('Saved trace:', path_to_save+f'/trace_trial{TRIAL}')\n",
    "\n",
    "\n",
    "varlist_content = read_json(os.path.join(os.path.dirname(trace_path),f'varlist{last_file_num}'))\n",
    "print(varlist_content)\n",
    "with open(path_to_save+f'/varlist_trial{TRIAL}.json', 'w') as f:\n",
    "    json.dump(varlist_content, f)\n",
    "\n",
    "\n",
    "\n",
    "# # varlist_content = []\n",
    "# # for varlist_path in varlist_path:\n",
    "# #     content = read_json(varlist_path)\n",
    "# #     varlist_content.extend(content)\n",
    "# #     varlist_content = list(set(varlist_content)) ### remove duplicates\n"
   ]
  },
  {
   "cell_type": "markdown",
   "metadata": {},
   "source": [
    "## Run the consistency script before updating the data on Dashboard"
   ]
  },
  {
   "cell_type": "markdown",
   "metadata": {},
   "source": []
  }
 ],
 "metadata": {
  "kernelspec": {
   "display_name": "venv",
   "language": "python",
   "name": "python3"
  },
  "language_info": {
   "codemirror_mode": {
    "name": "ipython",
    "version": 3
   },
   "file_extension": ".py",
   "mimetype": "text/x-python",
   "name": "python",
   "nbconvert_exporter": "python",
   "pygments_lexer": "ipython3",
   "version": "3.10.14"
  }
 },
 "nbformat": 4,
 "nbformat_minor": 2
}
