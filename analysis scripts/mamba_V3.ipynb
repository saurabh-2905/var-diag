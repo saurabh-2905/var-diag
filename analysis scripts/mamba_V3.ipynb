{
 "cells": [
  {
   "cell_type": "code",
   "execution_count": 6,
   "metadata": {},
   "outputs": [],
   "source": [
    "import os\n",
    "from libv3.utils import *\n",
    "import pandas as pd\n",
    "import json"
   ]
  },
  {
   "cell_type": "code",
   "execution_count": 7,
   "metadata": {},
   "outputs": [
    {
     "name": "stdout",
     "output_type": "stream",
     "text": [
      "CODE: mamba2\n",
      "BEHAVIOUR: normal\n",
      "THREAD: single\n",
      "VER: 3\n",
      "../trace_data/mamba2/single_thread/version_3/normal\n",
      "file number: 0\n"
     ]
    }
   ],
   "source": [
    "############ configuration ################\n",
    "############################################\n",
    "\n",
    "CODE, BEHAVIOUR, THREAD, VER = get_config('mamba2_config')   ### config stored in libv3/exp_config.txt\n",
    "\n",
    "base_dir = '../trace_data' ### can be replaced with 'csv', 'exe_plot', 'histogram'\n",
    "log_path = base_dir+f'/{CODE}/{THREAD}_thread/version_{VER}/{BEHAVIOUR}'\n",
    "\n",
    "print(log_path)\n",
    "\n",
    "#### file to display\n",
    "trace_file = 0\n",
    "\n",
    "print('file number:', trace_file)"
   ]
  },
  {
   "cell_type": "code",
   "execution_count": 8,
   "metadata": {},
   "outputs": [
    {
     "name": "stdout",
     "output_type": "stream",
     "text": [
      "[]\n",
      "['../trace_data/mamba2/single_thread/version_3/normal/trace_trial1', '../trace_data/mamba2/single_thread/version_3/normal/trace_trial2']\n",
      "['../trace_data/mamba2/single_thread/version_3/normal/varlist_trial1.json', '../trace_data/mamba2/single_thread/version_3/normal/varlist_trial2.json']\n",
      "[]\n"
     ]
    }
   ],
   "source": [
    "######### get paths #######################\n",
    "paths_log, paths_traces, varlist_path, paths_label = get_paths(log_path)\n",
    "\n",
    "### remove.Ds_store from all lists\n",
    "paths_log = [x for x in paths_log if '.DS_Store' not in x]\n",
    "paths_traces = [x for x in paths_traces if '.DS_Store' not in x]\n",
    "varlist_path = [x for x in varlist_path if '.DS_Store' not in x]\n",
    "paths_label = [x for x in paths_label if '.DS_Store' not in x]\n",
    "\n",
    "paths_log.sort()\n",
    "paths_traces.sort()\n",
    "varlist_path.sort()\n",
    "\n",
    "print(paths_log)\n",
    "print(paths_traces)\n",
    "print(varlist_path)\n",
    "print(paths_label)"
   ]
  },
  {
   "cell_type": "code",
   "execution_count": 9,
   "metadata": {},
   "outputs": [
    {
     "data": {
      "text/plain": [
       "'../trace_data/mamba2/single_thread/version_3/normal/trace_trial1'"
      ]
     },
     "execution_count": 9,
     "metadata": {},
     "output_type": "execute_result"
    }
   ],
   "source": [
    "paths_traces[0]    ## 14, 17"
   ]
  },
  {
   "cell_type": "code",
   "execution_count": 10,
   "metadata": {},
   "outputs": [
    {
     "name": "stdout",
     "output_type": "stream",
     "text": [
      "['0-0-0-AM2301_1', '0-0-0-AM2301_1_ADRR', '0-0-0-AM2301_2', '0-0-0-AM2301_2_ADRR', '0-0-0-AM2301_3', '0-0-0-AM2301_3_ADRR', '0-0-0-AM2301_4', '0-0-0-AM2301_4_ADRR', '0-0-0-BMP', '0-0-0-CONNECTION_A1', '0-0-0-CONNECTION_A2', '0-0-0-CONNECTION_A3', '0-0-0-CONNECTION_A4', '0-0-0-CONNECTION_BMP', '0-0-0-CONNECTION_CO', '0-0-0-CONNECTION_CO2', '0-0-0-CONNECTION_O2', '0-0-0-CONNECTION_VAR', '0-0-0-CO_ADRR', '0-0-0-FAILED_LORA', '0-0-0-FUNC_VAR', '0-0-0-I2CBUS', '0-0-0-LIMITS_BROKEN', '0-0-0-MAX_QUEUE', '0-0-0-MCP_CO', '0-0-0-MCP_O2', '0-0-0-O2_ADRR', '0-0-0-SCD30_ADRR', '0-0-0-SENSORBOARD_ID', '0-0-0-SENSORS_LIST', '0-0-0-SENSOR_DATA', '0-0-0-SENSOR_STATUS', '0-0-0-SPI_BUS', '0-0-0-THRESHOLD_LIMITS', '0-0-0-_pkng_frmt', '0-0-0-am_hum', '0-0-0-am_temp', '0-0-0-cb_30_done', '0-0-0-cb_retrans_done', '0-0-0-current_time', '0-0-0-func_call', '0-0-0-hb_msg', '0-0-0-j', '0-0-0-lora', '0-0-0-msg', '0-0-0-msg_interval', '0-0-0-que', '0-0-0-reading_co2', '0-0-0-retransmit_count', '0-0-0-retx_interval', '0-0-0-scd30', '0-0-0-scd_co2', '0-0-0-scd_hum', '0-0-0-scd_temp', '0-0-0-start_time', '0-0-0-timer0', '0-0-0-timer1', '0-0-0-var', '0-0-add_to_que-que', '0-0-cb_30-cb_30_done', '0-0-cb_lora-board_id', '0-0-cb_lora-rcv_msg', '0-0-cb_lora-timestamp', '0-0-cb_retrans-cb_retrans_done', '0-0-crc32-crc', '0-0-get_node_id-node_id', '0-0-measure_am1-0', '0-0-measure_am2-0', '0-0-measure_am3-0', '0-0-measure_am4-0', '0-0-measure_bmp-0', '0-0-measure_co-0', '0-0-measure_o2-0', '0-0-measure_scd30-0']\n",
      "74 74\n"
     ]
    }
   ],
   "source": [
    "## checking if all keys are constant\n",
    "# for i in range(len(varlist_path)):\n",
    "varlist1 = read_json(varlist_path[0])\n",
    "varlist2 = read_json(varlist_path[1])\n",
    "# varlist3 = read_json(varlist_path[2])\n",
    "# varlist4 = read_json(varlist_path[3])\n",
    "# print(varlist.keys())\n",
    "keys = list(varlist1.keys())\n",
    "keys.sort()\n",
    "print(keys)\n",
    "# print(len(varlist1.keys()), len(varlist2.keys()), len(varlist3.keys()), len(varlist4.keys()))\n",
    "print(len(varlist1.keys()), len(varlist2.keys()))\n",
    "\n",
    "# for k in keys:\n",
    "#     print(varlist1[k], varlist2[k], varlist3[k], varlist4[k])\n",
    "#     # print(k)\n",
    "#     if not (varlist1[k] == varlist2[k] == varlist3[k] == varlist4[k]): \n",
    "#         print(k)\n"
   ]
  },
  {
   "cell_type": "code",
   "execution_count": 11,
   "metadata": {},
   "outputs": [
    {
     "name": "stdout",
     "output_type": "stream",
     "text": [
      "varlist 1 is consistent with varlist 0\n"
     ]
    }
   ],
   "source": [
    "############# check varlist is consistent ############\n",
    "############# only for version 3 ######################\n",
    "\n",
    "if VER == 3:\n",
    "    check_con, _ = is_consistent(varlist_path)\n",
    "\n",
    "    if check_con != False:\n",
    "        to_number = read_json(varlist_path[0])\n",
    "        from_number = mapint2var(to_number)\n",
    "    else:\n",
    "        print('varlist is not consistent')\n"
   ]
  },
  {
   "cell_type": "code",
   "execution_count": 12,
   "metadata": {},
   "outputs": [
    {
     "data": {
      "text/plain": [
       "{'0-0-0-CONNECTION_CO2': 11,\n",
       " '0-0-0-var': 61,\n",
       " '0-0-0-BMP': 38,\n",
       " '0-0-0-CONNECTION_O2': 13,\n",
       " '0-0-measure_am1-0': 64,\n",
       " '0-0-0-THRESHOLD_LIMITS': 43,\n",
       " '0-0-0-msg_interval': 28,\n",
       " '0-0-0-O2_ADRR': 3,\n",
       " '0-0-0-AM2301_1_ADRR': 6,\n",
       " '0-0-measure_scd30-0': 58,\n",
       " '0-0-measure_am4-0': 67,\n",
       " '0-0-cb_lora-board_id': 71,\n",
       " '0-0-cb_30-cb_30_done': 68,\n",
       " '0-0-0-cb_30_done': 26,\n",
       " '0-0-0-SPI_BUS': 33,\n",
       " '0-0-measure_co-0': 60,\n",
       " '0-0-0-am_temp': 23,\n",
       " '0-0-0-FUNC_VAR': 46,\n",
       " '0-0-0-CONNECTION_CO': 12,\n",
       " '0-0-0-timer1': 48,\n",
       " '0-0-0-CONNECTION_A1': 15,\n",
       " '0-0-0-CONNECTION_A2': 16,\n",
       " '0-0-0-CONNECTION_A3': 17,\n",
       " '0-0-0-CONNECTION_A4': 18,\n",
       " '0-0-0-timer0': 47,\n",
       " '0-0-0-AM2301_2_ADRR': 7,\n",
       " '0-0-0-MCP_O2': 37,\n",
       " '0-0-0-SENSOR_DATA': 49,\n",
       " '0-0-0-SCD30_ADRR': 5,\n",
       " '0-0-0-lora': 34,\n",
       " '0-0-0-que': 25,\n",
       " '0-0-measure_am2-0': 65,\n",
       " '0-0-add_to_que-que': 69,\n",
       " '0-0-cb_retrans-cb_retrans_done': 73,\n",
       " '0-0-0-func_call': 57,\n",
       " '0-0-0-LIMITS_BROKEN': 55,\n",
       " '0-0-cb_lora-timestamp': 72,\n",
       " '0-0-0-CONNECTION_VAR': 44,\n",
       " '0-0-0-am_hum': 24,\n",
       " '0-0-0-AM2301_3': 41,\n",
       " '0-0-0-AM2301_2': 40,\n",
       " '0-0-0-AM2301_1': 39,\n",
       " '0-0-crc32-crc': 31,\n",
       " '0-0-0-CO_ADRR': 4,\n",
       " '0-0-0-retransmit_count': 52,\n",
       " '0-0-0-SENSORS_LIST': 45,\n",
       " '0-0-0-SENSOR_STATUS': 54,\n",
       " '0-0-0-_pkng_frmt': 0,\n",
       " '0-0-0-AM2301_4': 42,\n",
       " '0-0-0-current_time': 53,\n",
       " '0-0-0-I2CBUS': 32,\n",
       " '0-0-measure_am3-0': 66,\n",
       " '0-0-0-MAX_QUEUE': 19,\n",
       " '0-0-0-scd_co2': 20,\n",
       " '0-0-0-msg': 50,\n",
       " '0-0-0-MCP_CO': 36,\n",
       " '0-0-0-FAILED_LORA': 10,\n",
       " '0-0-0-cb_retrans_done': 27,\n",
       " '0-0-0-scd_hum': 22,\n",
       " '0-0-0-SENSORBOARD_ID': 2,\n",
       " '0-0-measure_o2-0': 62,\n",
       " '0-0-0-scd30': 35,\n",
       " '0-0-0-scd_temp': 21,\n",
       " '0-0-measure_bmp-0': 63,\n",
       " '0-0-0-CONNECTION_BMP': 14,\n",
       " '0-0-0-retx_interval': 29,\n",
       " '0-0-0-j': 56,\n",
       " '0-0-0-reading_co2': 59,\n",
       " '0-0-0-hb_msg': 30,\n",
       " '0-0-get_node_id-node_id': 1,\n",
       " '0-0-0-start_time': 51,\n",
       " '0-0-cb_lora-rcv_msg': 70,\n",
       " '0-0-0-AM2301_3_ADRR': 8,\n",
       " '0-0-0-AM2301_4_ADRR': 9}"
      ]
     },
     "execution_count": 12,
     "metadata": {},
     "output_type": "execute_result"
    }
   ],
   "source": [
    "to_number"
   ]
  },
  {
   "cell_type": "code",
   "execution_count": 13,
   "metadata": {},
   "outputs": [],
   "source": [
    "############ Get variable list ######################\n",
    "sorted_keys = list(from_number.keys())\n",
    "sorted_keys.sort()\n",
    "var_list = [from_number[key] for key in sorted_keys]   ### get the variable list\n",
    "# print(var_list)"
   ]
  },
  {
   "cell_type": "code",
   "execution_count": 14,
   "metadata": {},
   "outputs": [
    {
     "data": {
      "text/plain": [
       "[0,\n",
       " 1,\n",
       " 2,\n",
       " 3,\n",
       " 4,\n",
       " 5,\n",
       " 6,\n",
       " 7,\n",
       " 8,\n",
       " 9,\n",
       " 10,\n",
       " 11,\n",
       " 12,\n",
       " 13,\n",
       " 14,\n",
       " 15,\n",
       " 16,\n",
       " 17,\n",
       " 18,\n",
       " 19,\n",
       " 20,\n",
       " 21,\n",
       " 22,\n",
       " 23,\n",
       " 24,\n",
       " 25,\n",
       " 26,\n",
       " 27,\n",
       " 28,\n",
       " 29,\n",
       " 30,\n",
       " 31,\n",
       " 32,\n",
       " 33,\n",
       " 34,\n",
       " 35,\n",
       " 36,\n",
       " 37,\n",
       " 38,\n",
       " 39,\n",
       " 40,\n",
       " 41,\n",
       " 42,\n",
       " 43,\n",
       " 44,\n",
       " 45,\n",
       " 46,\n",
       " 47,\n",
       " 48,\n",
       " 49,\n",
       " 50,\n",
       " 51,\n",
       " 52,\n",
       " 53,\n",
       " 54,\n",
       " 55,\n",
       " 56,\n",
       " 57,\n",
       " 58,\n",
       " 59,\n",
       " 60,\n",
       " 61,\n",
       " 62,\n",
       " 63,\n",
       " 64,\n",
       " 65,\n",
       " 66,\n",
       " 67,\n",
       " 68,\n",
       " 69,\n",
       " 70,\n",
       " 71,\n",
       " 72,\n",
       " 73]"
      ]
     },
     "execution_count": 14,
     "metadata": {},
     "output_type": "execute_result"
    }
   ],
   "source": [
    "sorted_keys"
   ]
  },
  {
   "cell_type": "markdown",
   "metadata": {},
   "source": [
    "## Trace Plots"
   ]
  },
  {
   "cell_type": "markdown",
   "metadata": {},
   "source": [
    "### Process Traces"
   ]
  },
  {
   "cell_type": "code",
   "execution_count": 15,
   "metadata": {},
   "outputs": [
    {
     "name": "stdout",
     "output_type": "stream",
     "text": [
      "../trace_data/mamba2/single_thread/version_3/normal/trace_trial1 trace_trial1\n",
      "../trace_data/mamba2/single_thread/version_3/normal/trace_trial2 trace_trial2\n"
     ]
    }
   ],
   "source": [
    "########## process the traces ###########\n",
    "col_data = preprocess_traces(paths_traces, var_list)   ### in the format (trace_name, x_data, y_data, y_labels, trace_path) "
   ]
  },
  {
   "cell_type": "markdown",
   "metadata": {},
   "source": [
    "### Generate plot trace data"
   ]
  },
  {
   "cell_type": "code",
   "execution_count": 16,
   "metadata": {},
   "outputs": [],
   "source": [
    "############### preprocessing data to plot using plotly ##############\n",
    "'''\n",
    "Restructure the data in dictionary with (keys,value) pair :-  (time, timestamps) , (trace_name, trace)\n",
    "'''\n",
    "all_df = get_dataframe(col_data)   "
   ]
  },
  {
   "cell_type": "code",
   "execution_count": 14,
   "metadata": {},
   "outputs": [
    {
     "ename": "IndexError",
     "evalue": "list index out of range",
     "output_type": "error",
     "traceback": [
      "\u001b[0;31m---------------------------------------------------------------------------\u001b[0m",
      "\u001b[0;31mIndexError\u001b[0m                                Traceback (most recent call last)",
      "Cell \u001b[0;32mIn[14], line 1\u001b[0m\n\u001b[0;32m----> 1\u001b[0m \u001b[43mall_df\u001b[49m\u001b[43m[\u001b[49m\u001b[38;5;241;43m2\u001b[39;49m\u001b[43m]\u001b[49m\n",
      "\u001b[0;31mIndexError\u001b[0m: list index out of range"
     ]
    }
   ],
   "source": [
    "all_df[2]"
   ]
  },
  {
   "cell_type": "code",
   "execution_count": null,
   "metadata": {},
   "outputs": [],
   "source": [
    "\n",
    "### plot single trace\n",
    "for i, df in enumerate(all_df):\n",
    "    \n",
    "    if i == trace_file:\n",
    "        plot_single_trace(df, sorted_keys, with_time=False, is_xticks=False)"
   ]
  },
  {
   "cell_type": "code",
   "execution_count": null,
   "metadata": {},
   "outputs": [],
   "source": [
    "### get timestamp\n",
    "\n",
    "timestamp = index2timestamp(all_df[0], 227)\n",
    "print(timestamp)"
   ]
  },
  {
   "cell_type": "markdown",
   "metadata": {},
   "source": [
    "## Execution Interval Plots"
   ]
  },
  {
   "cell_type": "markdown",
   "metadata": {},
   "source": [
    "### Preprocess data"
   ]
  },
  {
   "cell_type": "code",
   "execution_count": null,
   "metadata": {},
   "outputs": [],
   "source": [
    "####### preprocessing data ########\n",
    "\n",
    "#### extract timestamps for each variable and store them in a dictionary along with index values for each variable in event trace\n",
    "\n",
    "var_timestamps = get_var_timestamps(paths_traces)    #### in format (filename, dict of timestamps and index values)\n",
    "\n",
    "to_plot = preprocess_variable_plotting(var_timestamps, var_list, from_number, trace_number=trace_file)   ### restructure the data for plotting\n"
   ]
  },
  {
   "cell_type": "code",
   "execution_count": null,
   "metadata": {},
   "outputs": [],
   "source": [
    "len(to_plot[6][-1])\n",
    "to_plot[6][-1]"
   ]
  },
  {
   "cell_type": "markdown",
   "metadata": {},
   "source": [
    "### Generate execution interval plots"
   ]
  },
  {
   "cell_type": "code",
   "execution_count": null,
   "metadata": {},
   "outputs": [],
   "source": [
    "### plot the data\n",
    "plot_execution_interval_single(to_plot, is_xticks=False)"
   ]
  },
  {
   "cell_type": "code",
   "execution_count": null,
   "metadata": {},
   "outputs": [],
   "source": []
  },
  {
   "cell_type": "markdown",
   "metadata": {},
   "source": [
    "## Plot Labels"
   ]
  },
  {
   "cell_type": "code",
   "execution_count": null,
   "metadata": {},
   "outputs": [],
   "source": [
    "### count and prepare labels to plot\n",
    "'''\n",
    "labels are of format [index1, index2, timestamp1, timestamp2, class]\n",
    "'''\n",
    "class_count = defaultdict(int)\n",
    "for i, path in enumerate(paths_label):\n",
    "    label_content = prepare_gt(path)\n",
    "    ind, ts, cls = label_content\n",
    "    # print(ind, ts, cls)\n",
    "    for c in cls:\n",
    "        class_count[c]+=1\n",
    "        \n",
    "    if i == trace_file:\n",
    "        print(path)\n",
    "        toplot_gt = label_content\n",
    "\n",
    "    print(os.path.split(path)[-1], class_count)\n",
    "\n",
    "    # break\n",
    "for key, val in class_count.items():\n",
    "    print(key, val)"
   ]
  },
  {
   "cell_type": "code",
   "execution_count": null,
   "metadata": {},
   "outputs": [],
   "source": []
  },
  {
   "cell_type": "code",
   "execution_count": null,
   "metadata": {},
   "outputs": [],
   "source": [
    "### plot\n",
    "for i, df in enumerate(all_df):\n",
    "    if i == trace_file:\n",
    "        plot_obj = plot_single_trace(df, var_list, with_time=False, is_xticks=True, ground_truths=toplot_gt)\n",
    "        plot_obj.show()"
   ]
  },
  {
   "cell_type": "code",
   "execution_count": null,
   "metadata": {},
   "outputs": [],
   "source": []
  },
  {
   "cell_type": "markdown",
   "metadata": {},
   "source": [
    "## Generate train data"
   ]
  },
  {
   "cell_type": "code",
   "execution_count": 18,
   "metadata": {},
   "outputs": [],
   "source": [
    "# '''\n",
    "# Add the indices for the interval in 'normal_seq_inter' that show correct behvaiour in the traces. \n",
    "# The format is as follows:\n",
    "# path_traces = [path1, path2, ...]\n",
    "# normal_seq_inter = [ ( intervals for trace1, ...), \n",
    "#                     ( intervals for trace2 ...),\n",
    "#                       ...] \n",
    "# '''\n",
    "\n",
    "# normal_seq_inter = (((0,6200), (6500,9910)),\n",
    "#                     ((0,8260), (8269,1100)))  ### v3, mamba2 trial1, trial2\n",
    "            \n",
    "\n",
    "# for p, n_inter in zip(paths_traces, normal_seq_inter):\n",
    "#     trace = read_traces(p)\n",
    "#     train_data_path = os.path.join(os.path.dirname(p), 'train_data')\n",
    "\n",
    "#     if not os.path.exists(train_data_path):\n",
    "#         os.makedirs(train_data_path)\n",
    "\n",
    "#     for i, inter in enumerate(n_inter):\n",
    "#         start, end = inter\n",
    "#         # trace[start:end].to_csv(os.path.join(train_data_path, f'interval_{start}_{end}.csv'), index=False)\n",
    "#         json.dump(trace[start:end], open(os.path.join(train_data_path, f'interval_{start}_{end}.json'), 'w'))"
   ]
  },
  {
   "cell_type": "code",
   "execution_count": 17,
   "metadata": {},
   "outputs": [
    {
     "data": {
      "text/plain": [
       "['../trace_data/mamba2/single_thread/version_3/normal/trace_trial1',\n",
       " '../trace_data/mamba2/single_thread/version_3/normal/trace_trial2']"
      ]
     },
     "execution_count": 17,
     "metadata": {},
     "output_type": "execute_result"
    }
   ],
   "source": [
    "paths_traces"
   ]
  },
  {
   "cell_type": "code",
   "execution_count": null,
   "metadata": {},
   "outputs": [],
   "source": []
  }
 ],
 "metadata": {
  "kernelspec": {
   "display_name": "venv",
   "language": "python",
   "name": "python3"
  },
  "language_info": {
   "codemirror_mode": {
    "name": "ipython",
    "version": 3
   },
   "file_extension": ".py",
   "mimetype": "text/x-python",
   "name": "python",
   "nbconvert_exporter": "python",
   "pygments_lexer": "ipython3",
   "version": "3.10.14"
  }
 },
 "nbformat": 4,
 "nbformat_minor": 2
}
