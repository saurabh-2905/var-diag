{
 "cells": [
  {
   "cell_type": "markdown",
   "metadata": {},
   "source": [
    "# State Transition - only states"
   ]
  },
  {
   "cell_type": "code",
   "execution_count": 16,
   "metadata": {},
   "outputs": [],
   "source": [
    "import numpy as np\n",
    "import os\n",
    "from libraries.utils import *\n",
    "from libraries.state_transition import StateTransition as st\n",
    "import pandas as pd\n",
    "from collections import defaultdict\n"
   ]
  },
  {
   "cell_type": "markdown",
   "metadata": {},
   "source": [
    "## Load Data"
   ]
  },
  {
   "cell_type": "code",
   "execution_count": 17,
   "metadata": {},
   "outputs": [
    {
     "name": "stdout",
     "output_type": "stream",
     "text": [
      "../trace_data/lora_ducy/single_thread/version_3/normal\n",
      "../trace_data/lora_ducy/single_thread/version_3/faulty_data\n"
     ]
    }
   ],
   "source": [
    "############ configuration ################\n",
    "############################################\n",
    "\n",
    "CODE = 'lora_ducy'       ### application (code) theft_protection, mamba2, lora_ducy\n",
    "BEHAVIOUR_FAULTY = 'faulty_data'            ### normal, faulty_data\n",
    "BEHAVIOUR_NORMAL = 'normal'            ### normal, faulty_data\n",
    "THREAD = 'single'           ### single, multi\n",
    "VER = 3                     ### format of data collection\n",
    "\n",
    "base_dir = '../trace_data' ### can be replaced with 'csv', 'exe_plot', 'histogram'\n",
    "normalbase_path = base_dir+f'/{CODE}/{THREAD}_thread/version_{VER}/{BEHAVIOUR_NORMAL}'\n",
    "faultybase_path = base_dir+f'/{CODE}/{THREAD}_thread/version_{VER}/{BEHAVIOUR_FAULTY}'\n",
    "\n",
    "print(normalbase_path)\n",
    "print(faultybase_path)\n"
   ]
  },
  {
   "cell_type": "code",
   "execution_count": 18,
   "metadata": {},
   "outputs": [
    {
     "name": "stdout",
     "output_type": "stream",
     "text": [
      "['../trace_data/lora_ducy/single_thread/version_3/normal/train_data/trace_trial1', '../trace_data/lora_ducy/single_thread/version_3/normal/train_data/trace_trial6', '../trace_data/lora_ducy/single_thread/version_3/normal/train_data/trace_trial8', '../trace_data/lora_ducy/single_thread/version_3/normal/train_data/trace_trial9', '../trace_data/lora_ducy/single_thread/version_3/normal/train_data/trace_trial7', '../trace_data/lora_ducy/single_thread/version_3/normal/train_data/trace_trial12', '../trace_data/lora_ducy/single_thread/version_3/normal/train_data/trace_trial5', '../trace_data/lora_ducy/single_thread/version_3/normal/train_data/trace_trial2', '../trace_data/lora_ducy/single_thread/version_3/normal/train_data/trace_trial3', '../trace_data/lora_ducy/single_thread/version_3/normal/train_data/trace_trial11', '../trace_data/lora_ducy/single_thread/version_3/normal/train_data/trace_trial10']\n",
      "[]\n",
      "['../trace_data/lora_ducy/single_thread/version_3/faulty_data/trace_trial1', '../trace_data/lora_ducy/single_thread/version_3/faulty_data/trace_trial2', '../trace_data/lora_ducy/single_thread/version_3/faulty_data/trace_trial3']\n",
      "['../trace_data/lora_ducy/single_thread/version_3/faulty_data/varlist_trial1.json', '../trace_data/lora_ducy/single_thread/version_3/faulty_data/varlist_trial2.json', '../trace_data/lora_ducy/single_thread/version_3/faulty_data/varlist_trial3.json', '../trace_data/lora_ducy/single_thread/version_3/faulty_data/varlist_trial4.json', '../trace_data/lora_ducy/single_thread/version_3/faulty_data/varlist_trial5.json', '../trace_data/lora_ducy/single_thread/version_3/faulty_data/varlist_trial6.json']\n",
      "['../trace_data/lora_ducy/single_thread/version_3/faulty_data/labels/trace_trial1_labels.json', '../trace_data/lora_ducy/single_thread/version_3/faulty_data/labels/trace_trial2_labels.json', '../trace_data/lora_ducy/single_thread/version_3/faulty_data/labels/trace_trial3_labels.json']\n"
     ]
    }
   ],
   "source": [
    "\n",
    "train_base_path = os.path.join(normalbase_path, 'train_data')\n",
    "train_data_path = [os.path.join(train_base_path, x) for x in os.listdir(train_base_path)]\n",
    "train_varlist_path = os.listdir(normalbase_path)\n",
    "train_varlist_path = [os.path.join(normalbase_path, x) for x in train_varlist_path if 'varlist' in x]\n",
    "\n",
    "######### get paths #######################\n",
    "paths_log, paths_traces, varlist_path, paths_label = get_paths(faultybase_path)\n",
    "\n",
    "### remove.Ds_store from all lists\n",
    "train_data_path = [x for x in train_data_path if '.DS_Store' not in x]\n",
    "train_varlist_path = [x for x in train_varlist_path if '.DS_Store' not in x]\n",
    "\n",
    "paths_log = [x for x in paths_log if '.DS_Store' not in x]\n",
    "paths_traces = [x for x in paths_traces if '.DS_Store' not in x]\n",
    "varlist_path = [x for x in varlist_path if '.DS_Store' not in x]\n",
    "paths_label = [x for x in paths_label if '.DS_Store' not in x]\n",
    "\n",
    "paths_log.sort()\n",
    "paths_traces.sort()\n",
    "varlist_path.sort()\n",
    "paths_label.sort()\n",
    "\n",
    "print(train_data_path)\n",
    "print(paths_log)\n",
    "print(paths_traces)\n",
    "print(varlist_path)\n",
    "print(paths_label)\n",
    "\n",
    "test_data_path = paths_traces\n",
    "test_label_path = paths_label\n"
   ]
  },
  {
   "cell_type": "code",
   "execution_count": 19,
   "metadata": {},
   "outputs": [
    {
     "name": "stdout",
     "output_type": "stream",
     "text": [
      "varlist 1 is consistent with varlist 0\n",
      "varlist 2 is consistent with varlist 0\n",
      "varlist 3 is consistent with varlist 0\n",
      "varlist 4 is consistent with varlist 0\n",
      "varlist 5 is consistent with varlist 0\n",
      "varlist 6 is consistent with varlist 0\n"
     ]
    }
   ],
   "source": [
    "############# check varlist is consistent ############\n",
    "############# only for version 3 ######################\n",
    "\n",
    "if VER == 3:\n",
    "    check_con, _ = is_consistent([train_varlist_path[0]]+ varlist_path) ### compare with train varlist\n",
    "\n",
    "    if check_con != False:\n",
    "        to_number = read_json(varlist_path[0])\n",
    "        from_number = mapint2var(to_number)\n",
    "    else:\n",
    "        ### load normal varlist\n",
    "        print('loading normal varlist')\n",
    "        to_number = read_json(train_varlist_path[0])\n",
    "        from_number = mapint2var(to_number)\n",
    "\n"
   ]
  },
  {
   "cell_type": "code",
   "execution_count": 27,
   "metadata": {},
   "outputs": [
    {
     "name": "stdout",
     "output_type": "stream",
     "text": [
      "../trace_data/lora_ducy/single_thread/version_3/normal/train_data/trace_trial1\n",
      "../trace_data/lora_ducy/single_thread/version_3/normal/train_data/trace_trial6\n",
      "../trace_data/lora_ducy/single_thread/version_3/normal/train_data/trace_trial8\n",
      "../trace_data/lora_ducy/single_thread/version_3/normal/train_data/trace_trial9\n",
      "../trace_data/lora_ducy/single_thread/version_3/normal/train_data/trace_trial7\n",
      "../trace_data/lora_ducy/single_thread/version_3/normal/train_data/trace_trial12\n",
      "../trace_data/lora_ducy/single_thread/version_3/normal/train_data/trace_trial5\n",
      "../trace_data/lora_ducy/single_thread/version_3/normal/train_data/trace_trial2\n",
      "../trace_data/lora_ducy/single_thread/version_3/normal/train_data/trace_trial3\n",
      "../trace_data/lora_ducy/single_thread/version_3/normal/train_data/trace_trial11\n",
      "../trace_data/lora_ducy/single_thread/version_3/normal/train_data/trace_trial10\n",
      "total length of train data: 14362\n"
     ]
    }
   ],
   "source": [
    "#### length of train data\n",
    "total_length = 0\n",
    "for data in train_data_path:\n",
    "    print(data)\n",
    "    df = read_traces(data)\n",
    "    length = len(df)\n",
    "    total_length += int(length)\n",
    "\n",
    "print('total length of train data:', total_length)"
   ]
  },
  {
   "cell_type": "code",
   "execution_count": 5,
   "metadata": {},
   "outputs": [],
   "source": [
    "############ Get variable list ######################\n",
    "sorted_keys = list(from_number.keys())\n",
    "sorted_keys.sort()\n",
    "var_list = [from_number[key] for key in sorted_keys]   ### get the variable list\n",
    "# print(var_list)"
   ]
  },
  {
   "cell_type": "code",
   "execution_count": 6,
   "metadata": {},
   "outputs": [
    {
     "name": "stdout",
     "output_type": "stream",
     "text": [
      "../trace_data/lora_ducy/single_thread/version_3/normal/train_data/trace_trial1\n",
      "-1\n",
      "-1\n",
      "no extension\n"
     ]
    }
   ],
   "source": [
    "print(train_data_path[0])\n",
    "print(train_data_path[0].find('.npy'))\n",
    "print(train_data_path[0].find('.json') )\n",
    "\n",
    "if train_data_path[0].find('.npy') != -1:\n",
    "    sample_data = load_sample(train_data_path[0])\n",
    "    print('.npy')\n",
    "elif train_data_path[0].find('.json') != -1:\n",
    "    sample_data = read_traces(train_data_path[0])\n",
    "    print('.json')\n",
    "else:\n",
    "    sample_data = read_traces(train_data_path[0])\n",
    "    print('no extension')"
   ]
  },
  {
   "cell_type": "markdown",
   "metadata": {},
   "source": [
    "## Training"
   ]
  },
  {
   "cell_type": "code",
   "execution_count": 7,
   "metadata": {},
   "outputs": [
    {
     "name": "stdout",
     "output_type": "stream",
     "text": [
      "../trace_data/lora_ducy/single_thread/version_3/normal/train_data/trace_trial1\n",
      "../trace_data/lora_ducy/single_thread/version_3/normal/train_data/trace_trial6\n",
      "../trace_data/lora_ducy/single_thread/version_3/normal/train_data/trace_trial8\n",
      "../trace_data/lora_ducy/single_thread/version_3/normal/train_data/trace_trial9\n",
      "../trace_data/lora_ducy/single_thread/version_3/normal/train_data/trace_trial7\n",
      "../trace_data/lora_ducy/single_thread/version_3/normal/train_data/trace_trial12\n",
      "../trace_data/lora_ducy/single_thread/version_3/normal/train_data/trace_trial5\n",
      "../trace_data/lora_ducy/single_thread/version_3/normal/train_data/trace_trial2\n",
      "../trace_data/lora_ducy/single_thread/version_3/normal/train_data/trace_trial3\n",
      "../trace_data/lora_ducy/single_thread/version_3/normal/train_data/trace_trial11\n",
      "../trace_data/lora_ducy/single_thread/version_3/normal/train_data/trace_trial10\n"
     ]
    }
   ],
   "source": [
    "### initialize\n",
    "model = st()\n",
    "model.train(train_data_path)"
   ]
  },
  {
   "cell_type": "code",
   "execution_count": 8,
   "metadata": {},
   "outputs": [
    {
     "data": {
      "text/plain": [
       "defaultdict(list,\n",
       "            {0: [1, 38, 57, 77, 61, 76, 84, 25],\n",
       "             1: [2],\n",
       "             2: [3],\n",
       "             3: [4],\n",
       "             4: [5],\n",
       "             5: [6],\n",
       "             6: [7],\n",
       "             7: [8],\n",
       "             8: [9],\n",
       "             9: [10],\n",
       "             10: [11],\n",
       "             11: [12],\n",
       "             12: [13],\n",
       "             13: [14],\n",
       "             14: [15],\n",
       "             15: [16],\n",
       "             16: [17],\n",
       "             17: [18],\n",
       "             18: [19],\n",
       "             19: [20],\n",
       "             20: [21],\n",
       "             21: [22, 34],\n",
       "             22: [23, 74, 69],\n",
       "             23: [24, 28, 83, 0],\n",
       "             24: [25, 67],\n",
       "             25: [26, 74],\n",
       "             26: [27, 23],\n",
       "             27: [28, 68],\n",
       "             28: [29, 0, 56],\n",
       "             29: [30],\n",
       "             30: [31, 74],\n",
       "             31: [32, 74],\n",
       "             32: [33],\n",
       "             33: [34],\n",
       "             34: [35, 68, 61],\n",
       "             35: [36],\n",
       "             36: [37],\n",
       "             37: [38, 21],\n",
       "             38: [39, 23, 0, 79, 64],\n",
       "             39: [40],\n",
       "             40: [41, 82],\n",
       "             41: [42],\n",
       "             42: [43, 37, 26],\n",
       "             43: [44],\n",
       "             44: [45],\n",
       "             45: [46],\n",
       "             46: [47],\n",
       "             47: [48],\n",
       "             48: [49],\n",
       "             49: [50],\n",
       "             50: [51, 55],\n",
       "             51: [52],\n",
       "             52: [53],\n",
       "             53: [51, 54],\n",
       "             54: [50, 56, 65, 51],\n",
       "             55: [54],\n",
       "             56: [57, 0],\n",
       "             57: [58, 59, 27, 70],\n",
       "             58: [57],\n",
       "             59: [60, 56],\n",
       "             60: [56],\n",
       "             77: [78],\n",
       "             78: [38],\n",
       "             79: [74, 30],\n",
       "             74: [80, 75],\n",
       "             80: [75],\n",
       "             75: [81, 23, 61, 41],\n",
       "             81: [40, 23],\n",
       "             82: [23],\n",
       "             83: [28],\n",
       "             61: [62, 70, 26, 23, 24, 41],\n",
       "             62: [63],\n",
       "             63: [38],\n",
       "             64: [65, 54, 31],\n",
       "             65: [66],\n",
       "             66: [67],\n",
       "             67: [34, 0],\n",
       "             68: [69, 23],\n",
       "             69: [70, 0, 74, 24, 64],\n",
       "             70: [71],\n",
       "             71: [72],\n",
       "             72: [73],\n",
       "             73: [22],\n",
       "             76: [28],\n",
       "             84: [85],\n",
       "             85: [38, 77, 0]})"
      ]
     },
     "execution_count": 8,
     "metadata": {},
     "output_type": "execute_result"
    }
   ],
   "source": [
    "transitions = model.transitions\n",
    "transitions"
   ]
  },
  {
   "cell_type": "code",
   "execution_count": 9,
   "metadata": {},
   "outputs": [
    {
     "name": "stdout",
     "output_type": "stream",
     "text": [
      "0-0-0-lora : 0-0-0-s, 0-0-0-cca_list, 0-0-cca-c, 0-0-0-noise_found, 0-0-0-send_time, 0-0-0-insatnce, 0-0-0-ss, 0-0-0-saved_transmissions, \n",
      "\n",
      "0-0-0-s : 0-0-0-wlan, \n",
      "\n",
      "0-0-0-wlan : 0-0-0-bluetooth, \n",
      "\n",
      "0-0-0-bluetooth : 0-0-get_node_id-node_id, \n",
      "\n",
      "0-0-get_node_id-node_id : 0-0-0-my_number, \n",
      "\n",
      "0-0-0-my_number : 0-0-0-source_address, \n",
      "\n",
      "0-0-0-source_address : 0-0-0-number_of_neighbours, \n",
      "\n",
      "0-0-0-number_of_neighbours : 0-0-0-chrono, \n",
      "\n",
      "0-0-0-chrono : 0-0-0-chrono1, \n",
      "\n",
      "0-0-0-chrono1 : 0-0-0-chrono2, \n",
      "\n",
      "0-0-0-chrono2 : 0-0-0-chrono3, \n",
      "\n",
      "0-0-0-chrono3 : 0-0-0-wakeup_interval, \n",
      "\n",
      "0-0-0-wakeup_interval : 0-0-0-fast_sleep_threshold, \n",
      "\n",
      "0-0-0-fast_sleep_threshold : 0-0-0-transmission_type, \n",
      "\n",
      "0-0-0-transmission_type : 0-0-0-num_of_packets, \n",
      "\n",
      "0-0-0-num_of_packets : 0-0-0-pll_threshold, \n",
      "\n",
      "0-0-0-pll_threshold : 0-0-0-cca_duration, \n",
      "\n",
      "0-0-0-cca_duration : 0-0-0-cca_interval, \n",
      "\n",
      "0-0-0-cca_interval : 0-0-0-rssi_threshold, \n",
      "\n",
      "0-0-0-rssi_threshold : 0-0-0-packet_size, \n",
      "\n",
      "0-0-0-packet_size : 0-0-0-packet_number, \n",
      "\n",
      "0-0-0-packet_number : 0-0-0-transmissions, 0-0-0-ack, \n",
      "\n",
      "0-0-0-transmissions : 0-0-0-alive_time, 0-0-0-rcv_packet1, 0-0-0-phase_lock_transmissions, \n",
      "\n",
      "0-0-0-alive_time : 0-0-0-phase_lock_time_saving, 0-0-0-Awake_instance, 0-0-0-time_left, 0-0-0-lora, \n",
      "\n",
      "0-0-0-phase_lock_time_saving : 0-0-0-saved_transmissions, 0-0-0-channel_checked, \n",
      "\n",
      "0-0-0-saved_transmissions : 0-0-0-failed_attempts, 0-0-0-rcv_packet1, \n",
      "\n",
      "0-0-0-failed_attempts : 0-0-0-phase_lock_cca_fails, 0-0-0-alive_time, \n",
      "\n",
      "0-0-0-phase_lock_cca_fails : 0-0-0-Awake_instance, 0-0-0-Phase_Lock_channel_check, \n",
      "\n",
      "0-0-0-Awake_instance : 0-0-0-broadcast_time_save, 0-0-0-lora, 0-0-0-packet_status, \n",
      "\n",
      "0-0-0-broadcast_time_save : 0-0-0-fast_sleep_time_save, \n",
      "\n",
      "0-0-0-fast_sleep_time_save : 0-0-0-Full_send_time, 0-0-0-rcv_packet1, \n",
      "\n",
      "0-0-0-Full_send_time : 0-0-0-Tx_time, 0-0-0-rcv_packet1, \n",
      "\n",
      "0-0-0-Tx_time : 0-0-0-Rx_time, \n",
      "\n",
      "0-0-0-Rx_time : 0-0-0-ack, \n",
      "\n",
      "0-0-0-ack : 0-0-0-only_listen, 0-0-0-Phase_Lock_channel_check, 0-0-0-send_time, \n",
      "\n",
      "0-0-0-only_listen : 0-0-0-noise_detected_counter, \n",
      "\n",
      "0-0-0-noise_detected_counter : 0-0-0-ack_data_packets, \n",
      "\n",
      "0-0-0-ack_data_packets : 0-0-0-cca_list, 0-0-0-packet_number, \n",
      "\n",
      "0-0-0-cca_list : 0-0-0-received_time, 0-0-0-alive_time, 0-0-0-lora, 0-0-0-event, 0-0-0-send_time_updated, \n",
      "\n",
      "0-0-0-received_time : 0-0-0-received_full_data, \n",
      "\n",
      "0-0-0-received_full_data : 0-0-0-phase_lock_optimization, 0-0-0-ack_packet, \n",
      "\n",
      "0-0-0-phase_lock_optimization : 0-0-0-phase_lock_optimization_time, \n",
      "\n",
      "0-0-0-phase_lock_optimization_time : 0-0-0-max_wait_time, 0-0-0-ack_data_packets, 0-0-0-failed_attempts, \n",
      "\n",
      "0-0-0-max_wait_time : 0-0-0-lora_off_time, \n",
      "\n",
      "0-0-0-lora_off_time : 0-0-0-packet_gap_interval, \n",
      "\n",
      "0-0-0-packet_gap_interval : 0-0-0-pll_activation, \n",
      "\n",
      "0-0-0-pll_activation : 0-0-0-sleep_in_pll, \n",
      "\n",
      "0-0-0-sleep_in_pll : 0-0-0-transmission_in_pll, \n",
      "\n",
      "0-0-0-transmission_in_pll : 0-0-0-neighbour_discover, \n",
      "\n",
      "0-0-0-neighbour_discover : 0-0-0-neighbor_adresses, \n",
      "\n",
      "0-0-0-neighbor_adresses : 0-0-RandomRange-0, 0-0-0-Broadcast_address, \n",
      "\n",
      "0-0-RandomRange-0 : 0-0-Random-r, \n",
      "\n",
      "0-0-Random-r : 0-0-0-number, \n",
      "\n",
      "0-0-0-number : 0-0-RandomRange-0, 0-0-0-neighbor, \n",
      "\n",
      "0-0-0-neighbor : 0-0-0-neighbor_adresses, 0-0-0-packet_status, 0-0-0-destination_address, 0-0-RandomRange-0, \n",
      "\n",
      "0-0-0-Broadcast_address : 0-0-0-neighbor, \n",
      "\n",
      "0-0-0-packet_status : 0-0-cca-c, 0-0-0-lora, \n",
      "\n",
      "0-0-cca-c : 0-0-cca-l, 0-0-0-channel_status, 0-0-0-phase_lock_cca_fails, 0-0-0-packet1, \n",
      "\n",
      "0-0-cca-l : 0-0-cca-c, \n",
      "\n",
      "0-0-0-channel_status : 0-0-packet_check-number, 0-0-0-packet_status, \n",
      "\n",
      "0-0-packet_check-number : 0-0-0-packet_status, \n",
      "\n",
      "0-0-0-noise_found : 0-0-0-time_now, \n",
      "\n",
      "0-0-0-time_now : 0-0-0-cca_list, \n",
      "\n",
      "0-0-0-event : 0-0-0-rcv_packet1, 0-0-0-fast_sleep_time_save, \n",
      "\n",
      "0-0-0-rcv_packet1 : 0-0-0-rcv_packet, 0-0-0-decode_packet, \n",
      "\n",
      "0-0-0-rcv_packet : 0-0-0-decode_packet, \n",
      "\n",
      "0-0-0-decode_packet : 0-0-0-receiving_data, 0-0-0-alive_time, 0-0-0-send_time, 0-0-0-phase_lock_optimization, \n",
      "\n",
      "0-0-0-receiving_data : 0-0-0-received_full_data, 0-0-0-alive_time, \n",
      "\n",
      "0-0-0-ack_packet : 0-0-0-alive_time, \n",
      "\n",
      "0-0-0-time_left : 0-0-0-Awake_instance, \n",
      "\n",
      "0-0-0-send_time : 0-0-0-data, 0-0-0-packet1, 0-0-0-failed_attempts, 0-0-0-alive_time, 0-0-0-phase_lock_time_saving, 0-0-0-phase_lock_optimization, \n",
      "\n",
      "0-0-0-data : 0-0-0-cca_time, \n",
      "\n",
      "0-0-0-cca_time : 0-0-0-cca_list, \n",
      "\n",
      "0-0-0-send_time_updated : 0-0-0-destination_address, 0-0-0-neighbor, 0-0-0-Full_send_time, \n",
      "\n",
      "0-0-0-destination_address : 0-0-0-safe_time, \n",
      "\n",
      "0-0-0-safe_time : 0-0-0-channel_checked, \n",
      "\n",
      "0-0-0-channel_checked : 0-0-0-ack, 0-0-0-lora, \n",
      "\n",
      "0-0-0-Phase_Lock_channel_check : 0-0-0-phase_lock_transmissions, 0-0-0-alive_time, \n",
      "\n",
      "0-0-0-phase_lock_transmissions : 0-0-0-packet1, 0-0-0-lora, 0-0-0-rcv_packet1, 0-0-0-phase_lock_time_saving, 0-0-0-send_time_updated, \n",
      "\n",
      "0-0-0-packet1 : 0-0-0-padding, \n",
      "\n",
      "0-0-0-padding : 0-0-0-zero_padding, \n",
      "\n",
      "0-0-0-zero_padding : 0-0-0-packet, \n",
      "\n",
      "0-0-0-packet : 0-0-0-transmissions, \n",
      "\n",
      "0-0-0-insatnce : 0-0-0-Awake_instance, \n",
      "\n",
      "0-0-0-ss : 0-0-0-events, \n",
      "\n",
      "0-0-0-events : 0-0-0-cca_list, 0-0-0-noise_found, 0-0-0-lora, \n",
      "\n"
     ]
    }
   ],
   "source": [
    "### viz transitions\n",
    "\n",
    "for key in transitions.keys():\n",
    "    print(from_number[key], ':', end=' ')\n",
    "    for val in transitions[key]:\n",
    "        print(from_number[val], end=', ')\n",
    "    print('\\n')"
   ]
  },
  {
   "cell_type": "markdown",
   "metadata": {},
   "source": [
    "## Validation"
   ]
  },
  {
   "cell_type": "code",
   "execution_count": 10,
   "metadata": {},
   "outputs": [
    {
     "name": "stdout",
     "output_type": "stream",
     "text": [
      "{0: [1, 38, 57, 77, 61, 76, 84, 25], 1: [2], 2: [3], 3: [4], 4: [5], 5: [6], 6: [7], 7: [8], 8: [9], 9: [10], 10: [11], 11: [12], 12: [13], 13: [14], 14: [15], 15: [16], 16: [17], 17: [18], 18: [19], 19: [20], 20: [21], 21: [22, 34], 22: [23, 74, 69], 23: [24, 28, 83, 0], 24: [25, 67], 25: [26, 74], 26: [27, 23], 27: [28, 68], 28: [29, 0, 56], 29: [30], 30: [31, 74], 31: [32, 74], 32: [33], 33: [34], 34: [35, 68, 61], 35: [36], 36: [37], 37: [38, 21], 38: [39, 23, 0, 79, 64], 39: [40], 40: [41, 82], 41: [42], 42: [43, 37, 26], 43: [44], 44: [45], 45: [46], 46: [47], 47: [48], 48: [49], 49: [50], 50: [51, 55], 51: [52], 52: [53], 53: [51, 54], 54: [50, 56, 65, 51], 55: [54], 56: [57, 0], 57: [58, 59, 27, 70], 58: [57], 59: [60, 56], 60: [56], 77: [78], 78: [38], 79: [74, 30], 74: [80, 75], 80: [75], 75: [81, 23, 61, 41], 81: [40, 23], 82: [23], 83: [28], 61: [62, 70, 26, 23, 24, 41], 62: [63], 63: [38], 64: [65, 54, 31], 65: [66], 66: [67], 67: [34, 0], 68: [69, 23], 69: [70, 0, 74, 24, 64], 70: [71], 71: [72], 72: [73], 73: [22], 76: [28], 84: [85], 85: [38, 77, 0]}\n",
      "../trace_data/lora_ducy/single_thread/version_3/faulty_data/trace_trial1\n",
      "Anomaly Detected: [(22, 64), (319409, 319411), 'trace_trial1']\n",
      "Anomaly Detected: [(22, 64), (378353, 378355), 'trace_trial1']\n",
      "Anomaly Detected: [(22, 64), (457312, 457315), 'trace_trial1']\n",
      "Anomaly Detected: [(22, 64), (497367, 497370), 'trace_trial1']\n",
      "Anomaly Detected: [(22, 64), (556288, 556290), 'trace_trial1']\n",
      "Detections: [[(22, 64), (319409, 319411), 'trace_trial1'], [(22, 64), (378353, 378355), 'trace_trial1'], [(22, 64), (457312, 457315), 'trace_trial1'], [(22, 64), (497367, 497370), 'trace_trial1'], [(22, 64), (556288, 556290), 'trace_trial1']]\n",
      "len of detections: 5\n",
      "sorted detecions: [[(22, 64), (319409, 319411), 'trace_trial1'], [(22, 64), (378353, 378355), 'trace_trial1'], [(22, 64), (457312, 457315), 'trace_trial1'], [(22, 64), (497367, 497370), 'trace_trial1'], [(22, 64), (556288, 556290), 'trace_trial1']]\n",
      "ground truths: [[745, 785, 318453, 359472, 5], [955, 975, 378328, 399471, 5], [1195, 1205, 458239, 478436, 5], [1392, 1405, 516972, 519467, 5], [1597, 1605, 556293, 575932, 5]]\n",
      "5\n",
      "0 0 True False False False\n",
      "y_pred_ind: []\n",
      "1 1 True False False False\n",
      "y_pred_ind: [0]\n",
      "{0: [1, 38, 57, 77, 61, 76, 84, 25], 1: [2], 2: [3], 3: [4], 4: [5], 5: [6], 6: [7], 7: [8], 8: [9], 9: [10], 10: [11], 11: [12], 12: [13], 13: [14], 14: [15], 15: [16], 16: [17], 17: [18], 18: [19], 19: [20], 20: [21], 21: [22, 34], 22: [23, 74, 69], 23: [24, 28, 83, 0], 24: [25, 67], 25: [26, 74], 26: [27, 23], 27: [28, 68], 28: [29, 0, 56], 29: [30], 30: [31, 74], 31: [32, 74], 32: [33], 33: [34], 34: [35, 68, 61], 35: [36], 36: [37], 37: [38, 21], 38: [39, 23, 0, 79, 64], 39: [40], 40: [41, 82], 41: [42], 42: [43, 37, 26], 43: [44], 44: [45], 45: [46], 46: [47], 47: [48], 48: [49], 49: [50], 50: [51, 55], 51: [52], 52: [53], 53: [51, 54], 54: [50, 56, 65, 51], 55: [54], 56: [57, 0], 57: [58, 59, 27, 70], 58: [57], 59: [60, 56], 60: [56], 77: [78], 78: [38], 79: [74, 30], 74: [80, 75], 80: [75], 75: [81, 23, 61, 41], 81: [40, 23], 82: [23], 83: [28], 61: [62, 70, 26, 23, 24, 41], 62: [63], 63: [38], 64: [65, 54, 31], 65: [66], 66: [67], 67: [34, 0], 68: [69, 23], 69: [70, 0, 74, 24, 64], 70: [71], 71: [72], 72: [73], 73: [22], 76: [28], 84: [85], 85: [38, 77, 0]}\n",
      "../trace_data/lora_ducy/single_thread/version_3/faulty_data/trace_trial2\n",
      "Anomaly Detected: [(22, 64), (21320, 21322), 'trace_trial2']\n",
      "Anomaly Detected: [(22, 64), (259338, 259340), 'trace_trial2']\n",
      "Anomaly Detected: [(22, 64), (437338, 437340), 'trace_trial2']\n",
      "Detections: [[(22, 64), (21320, 21322), 'trace_trial2'], [(22, 64), (259338, 259340), 'trace_trial2'], [(22, 64), (437338, 437340), 'trace_trial2']]\n",
      "len of detections: 3\n",
      "sorted detecions: [[(22, 64), (21320, 21322), 'trace_trial2'], [(22, 64), (259338, 259340), 'trace_trial2'], [(22, 64), (437338, 437340), 'trace_trial2']]\n",
      "ground truths: [[252, 262, 21320, 40958, 5], [702, 712, 260252, 280452, 5], [1182, 1192, 437340, 458462, 5]]\n",
      "3\n",
      "0 0 True False False True\n",
      "y_pred_ind: []\n",
      "2 2 False False False True\n",
      "y_pred_ind: [0]\n",
      "{0: [1, 38, 57, 77, 61, 76, 84, 25], 1: [2], 2: [3], 3: [4], 4: [5], 5: [6], 6: [7], 7: [8], 8: [9], 9: [10], 10: [11], 11: [12], 12: [13], 13: [14], 14: [15], 15: [16], 16: [17], 17: [18], 18: [19], 19: [20], 20: [21], 21: [22, 34], 22: [23, 74, 69], 23: [24, 28, 83, 0], 24: [25, 67], 25: [26, 74], 26: [27, 23], 27: [28, 68], 28: [29, 0, 56], 29: [30], 30: [31, 74], 31: [32, 74], 32: [33], 33: [34], 34: [35, 68, 61], 35: [36], 36: [37], 37: [38, 21], 38: [39, 23, 0, 79, 64], 39: [40], 40: [41, 82], 41: [42], 42: [43, 37, 26], 43: [44], 44: [45], 45: [46], 46: [47], 47: [48], 48: [49], 49: [50], 50: [51, 55], 51: [52], 52: [53], 53: [51, 54], 54: [50, 56, 65, 51], 55: [54], 56: [57, 0], 57: [58, 59, 27, 70], 58: [57], 59: [60, 56], 60: [56], 77: [78], 78: [38], 79: [74, 30], 74: [80, 75], 80: [75], 75: [81, 23, 61, 41], 81: [40, 23], 82: [23], 83: [28], 61: [62, 70, 26, 23, 24, 41], 62: [63], 63: [38], 64: [65, 54, 31], 65: [66], 66: [67], 67: [34, 0], 68: [69, 23], 69: [70, 0, 74, 24, 64], 70: [71], 71: [72], 72: [73], 73: [22], 76: [28], 84: [85], 85: [38, 77, 0]}\n",
      "../trace_data/lora_ducy/single_thread/version_3/faulty_data/trace_trial3\n",
      "Anomaly Detected: [(22, 64), (80330, 80332), 'trace_trial3']\n",
      "Anomaly Detected: [(22, 64), (159327, 159329), 'trace_trial3']\n",
      "Anomaly Detected: [(22, 64), (318395, 318397), 'trace_trial3']\n",
      "Anomaly Detected: [(22, 64), (496395, 496398), 'trace_trial3']\n",
      "Detections: [[(22, 64), (80330, 80332), 'trace_trial3'], [(22, 64), (159327, 159329), 'trace_trial3'], [(22, 64), (318395, 318397), 'trace_trial3'], [(22, 64), (496395, 496398), 'trace_trial3']]\n",
      "len of detections: 4\n",
      "sorted detecions: [[(22, 64), (80330, 80332), 'trace_trial3'], [(22, 64), (159327, 159329), 'trace_trial3'], [(22, 64), (318395, 318397), 'trace_trial3'], [(22, 64), (496395, 496398), 'trace_trial3']]\n",
      "ground truths: [[434, 454, 81248, 101440, 5], [654, 674, 159332, 178973, 5], [1114, 1134, 319304, 338317, 5], [1594, 1614, 497307, 517240, 5]]\n",
      "4\n"
     ]
    }
   ],
   "source": [
    "DIFF_VAL = 5\n",
    "#### Validate model\n",
    "all_detections = []  ### format [file1_detection, file2_detection] -> file1_detection: [(state1, state2), (ts1, ts2), filename]\n",
    "y_pred_all = []\n",
    "y_true_all = []\n",
    "all_tp = []\n",
    "all_fp = []\n",
    "all_fn = []\n",
    "all_gt = []\n",
    "\n",
    "# tp = 0\n",
    "# fp = 0\n",
    "# fn = 0\n",
    "\n",
    "for test_data, test_label in zip(test_data_path, test_label_path):\n",
    "    detection = model.test_single(test_data)\n",
    "    all_detections += [(test_data, detection, test_label)]  ### used to plot detections\n",
    "    print('Detections:', detection)\n",
    "    print('len of detections:', len(detection))\n",
    "\n",
    "    merged_detection, grouped_det = model.merge_detections(detection, DIFF_VAL)  ### merge detections for multiple variables\n",
    "    detection = merged_detection\n",
    "\n",
    "\n",
    "    ground_truth_raw = read_traces(test_label)\n",
    "    ground_truth = ground_truth_raw['labels']\n",
    "    label_trace_name = list(ground_truth.keys())[0]\n",
    "    ground_truth = ground_truth[label_trace_name]\n",
    "    print('ground truths:', ground_truth)\n",
    "    print(len(ground_truth))\n",
    "\n",
    "    correct_pred, rest_pred, y_pred, y_true, false_neg = model.get_correct_detections(detection, ground_truth)\n",
    "\n",
    "    y_pred_all.extend(y_pred)\n",
    "    y_true_all.extend(y_true)\n",
    "    all_tp += [(test_data, correct_pred, test_label)]\n",
    "    all_fp += [(test_data, rest_pred, test_label)]\n",
    "    all_fn += [(test_data, false_neg, test_label)]\n",
    "    all_gt += [(test_data, ground_truth, test_label)]\n",
    "\n",
    "\n",
    "    # tp, fp, tn, fn = model.calculate_tp_fp_tn_fn(detection, ground_truth)\n",
    "\n",
    "    # tp+=tp\n",
    "    # fp+=fp\n",
    "    # fn+=fn\n",
    "    \n",
    "\n",
    "\n",
    "# result = model.test(test_data_path)"
   ]
  },
  {
   "cell_type": "code",
   "execution_count": 11,
   "metadata": {},
   "outputs": [
    {
     "name": "stdout",
     "output_type": "stream",
     "text": [
      "y_pred [1, 1, 0, 0, 0, 1, 1, 1, 1, 0, 1, 1, 0, 0, 0, 0, 1, 1, 1, 1]\n",
      "y_true [1, 1, 1, 1, 1, 0, 0, 0, 1, 1, 1, 0, 1, 1, 1, 1, 0, 0, 0, 0]\n",
      "20\n"
     ]
    }
   ],
   "source": [
    "print('y_pred', y_pred_all)\n",
    "print('y_true', y_true_all)\n",
    "print(len(y_true_all))\n"
   ]
  },
  {
   "cell_type": "code",
   "execution_count": 12,
   "metadata": {},
   "outputs": [
    {
     "data": {
      "text/plain": [
       "[('../trace_data/lora_ducy/single_thread/version_3/faulty_data/trace_trial1',\n",
       "  [[1195, 1205, 458239, 478436, 5],\n",
       "   [1392, 1405, 516972, 519467, 5],\n",
       "   [1597, 1605, 556293, 575932, 5]],\n",
       "  '../trace_data/lora_ducy/single_thread/version_3/faulty_data/labels/trace_trial1_labels.json'),\n",
       " ('../trace_data/lora_ducy/single_thread/version_3/faulty_data/trace_trial2',\n",
       "  [[702, 712, 260252, 280452, 5]],\n",
       "  '../trace_data/lora_ducy/single_thread/version_3/faulty_data/labels/trace_trial2_labels.json'),\n",
       " ('../trace_data/lora_ducy/single_thread/version_3/faulty_data/trace_trial3',\n",
       "  [[434, 454, 81248, 101440, 5],\n",
       "   [654, 674, 159332, 178973, 5],\n",
       "   [1114, 1134, 319304, 338317, 5],\n",
       "   [1594, 1614, 497307, 517240, 5]],\n",
       "  '../trace_data/lora_ducy/single_thread/version_3/faulty_data/labels/trace_trial3_labels.json')]"
      ]
     },
     "execution_count": 12,
     "metadata": {},
     "output_type": "execute_result"
    }
   ],
   "source": [
    "all_fn"
   ]
  },
  {
   "cell_type": "code",
   "execution_count": 13,
   "metadata": {},
   "outputs": [
    {
     "name": "stdout",
     "output_type": "stream",
     "text": [
      "all_fp: [('../trace_data/lora_ducy/single_thread/version_3/faulty_data/trace_trial1', [[(22, 22), (457312, 457315), 'trace_trial1'], [(22, 22), (497367, 497370), 'trace_trial1'], [(22, 22), (556288, 556290), 'trace_trial1']], '../trace_data/lora_ducy/single_thread/version_3/faulty_data/labels/trace_trial1_labels.json'), ('../trace_data/lora_ducy/single_thread/version_3/faulty_data/trace_trial2', [[(22, 22), (259338, 259340), 'trace_trial2']], '../trace_data/lora_ducy/single_thread/version_3/faulty_data/labels/trace_trial2_labels.json'), ('../trace_data/lora_ducy/single_thread/version_3/faulty_data/trace_trial3', [[(22, 22), (80330, 80332), 'trace_trial3'], [(22, 22), (159327, 159329), 'trace_trial3'], [(22, 22), (318395, 318397), 'trace_trial3'], [(22, 22), (496395, 496398), 'trace_trial3']], '../trace_data/lora_ducy/single_thread/version_3/faulty_data/labels/trace_trial3_labels.json')]\n",
      "3\n",
      "1\n",
      "4\n",
      "fp_count: 8\n"
     ]
    }
   ],
   "source": [
    "print('all_fp:', all_fp)\n",
    "fp_count = 0\n",
    "for fp in all_fp:\n",
    "    print( len(fp[1]))\n",
    "    fp_count += len(fp[1])\n",
    "\n",
    "print('fp_count:', fp_count)"
   ]
  },
  {
   "cell_type": "code",
   "execution_count": 14,
   "metadata": {},
   "outputs": [
    {
     "name": "stdout",
     "output_type": "stream",
     "text": [
      "Precision: 0.3333\n",
      "Recall: 0.3333\n",
      "F1 Score: 0.3333\n",
      "Confusion Matrix:\n",
      "[[0 8]\n",
      " [8 4]]\n",
      "#################################################\n"
     ]
    },
    {
     "data": {
      "image/png": "[encoded data removed]",
      "text/plain": [
       "<Figure size 640x480 with 2 Axes>"
      ]
     },
     "metadata": {},
     "output_type": "display_data"
    }
   ],
   "source": [
    "### Evaluation metrics\n",
    "\n",
    "from sklearn.metrics import accuracy_score, confusion_matrix, f1_score, precision_score, recall_score, average_precision_score, ConfusionMatrixDisplay\n",
    "\n",
    "\n",
    "# Calculate precision\n",
    "precision = precision_score(y_true_all, y_pred_all)\n",
    "print(f'Precision: {precision:.4f}')\n",
    "\n",
    "# Calculate recall\n",
    "recall = recall_score(y_true_all, y_pred_all)\n",
    "print(f'Recall: {recall:.4f}')\n",
    "\n",
    "# # Calculate average precision\n",
    "# average_precision = average_precision_score(y_true_all, y_pred_all)\n",
    "# print(f'Average Precision: {average_precision:.4f}')\n",
    "\n",
    "# Calculate F1 score\n",
    "f1 = f1_score(y_true_all, y_pred_all)\n",
    "print(f\"F1 Score: {f1:.4f}\")\n",
    "\n",
    "# Calculate confusion matrix\n",
    "conf_matrix = confusion_matrix(y_true_all, y_pred_all)\n",
    "print(\"Confusion Matrix:\")\n",
    "print(conf_matrix)\n",
    "disp = ConfusionMatrixDisplay(confusion_matrix=conf_matrix, display_labels=['normal', 'anomaly'])\n",
    "disp.plot()\n",
    "\n",
    "\n",
    "\n",
    "print('#################################################')\n",
    "\n",
    "# # Initialize counters\n",
    "# TP = tp\n",
    "# FP = fp\n",
    "# TN = tn\n",
    "# FN = fn\n",
    "\n",
    "# # Calculate precision and recall\n",
    "# precision = TP / (TP + FP) if (TP + FP) > 0 else 0\n",
    "# recall = TP / (TP + FN) if (TP + FN) > 0 else 0\n",
    "# # Calculate F1 Score\n",
    "# f1s = 2 * (precision * recall) / (precision + recall) if (precision + recall) > 0 else 0\n",
    "\n",
    "\n",
    "\n",
    "# # Print results\n",
    "# print(f\"True Positives: {TP}\")\n",
    "# print(f\"False Positives: {FP}\")\n",
    "# print(f\"True Negatives: {TN}\")\n",
    "# print(f\"False Negatives: {FN}\")\n",
    "# print(f\"Precision: {precision:.2f}\")\n",
    "# print(f\"Recall: {recall:.2f}\")\n",
    "# print(f\"F1 Score: {f1s:.2f}\")\n"
   ]
  },
  {
   "cell_type": "markdown",
   "metadata": {},
   "source": [
    "## Classwise Detections"
   ]
  },
  {
   "cell_type": "code",
   "execution_count": 27,
   "metadata": {},
   "outputs": [
    {
     "name": "stdout",
     "output_type": "stream",
     "text": [
      "class: 5\n",
      "detected: 4\n",
      "total anomalies: 12\n",
      "\n",
      "\n"
     ]
    }
   ],
   "source": [
    "classwise_fn = defaultdict(list)\n",
    "classwise_tp = defaultdict(list)\n",
    "gt_len = 0\n",
    "for file_fn, file_gt in zip(all_fn, all_gt):\n",
    "    fn = file_fn[1]\n",
    "    gt = file_gt[1]\n",
    "    for label in gt:\n",
    "        if label in fn:\n",
    "            classwise_fn[label[4]].append(label)\n",
    "        else:\n",
    "            classwise_tp[label[4]].append(label)\n",
    "            # print('tp:', label)\n",
    "\n",
    "    gt_len += len(gt)\n",
    "    # print('file gt:', len(gt))\n",
    "    # print('file fn:', len(fn))\n",
    "    # print('\\n')\n",
    "    # break\n",
    "\n",
    "total_fn = 0\n",
    "total_tp = 0\n",
    "keys = set(list(classwise_fn.keys()) + list(classwise_tp.keys()))\n",
    "# print('keys:', keys)\n",
    "for key in keys:\n",
    "    print('class:', key)\n",
    "    total_fn += len(classwise_fn[key])\n",
    "    total_tp += len(classwise_tp[key])\n",
    "\n",
    "    # print('not detected:', len(classwise_fn[key]))\n",
    "    print('detected:', len(classwise_tp[key]))\n",
    "    print('total anomalies:', len(classwise_fn[key])+len(classwise_tp[key]))\n",
    "    print('\\n')\n",
    "\n",
    "\n",
    "# print('total fn+tp:', total_fn+total_tp)\n",
    "# print('total gt:', gt_len)\n",
    "assert total_fn+total_tp == gt_len, 'total fn+tp not equal to total gt'"
   ]
  },
  {
   "cell_type": "markdown",
   "metadata": {},
   "source": [
    "## Save Detections"
   ]
  },
  {
   "cell_type": "code",
   "execution_count": 28,
   "metadata": {},
   "outputs": [
    {
     "name": "stdout",
     "output_type": "stream",
     "text": [
      "Saved detections in ../trace_data/lora_ducy/single_thread/version_3/faulty_data/st_detections/trace_trial1_st_detections_5.json\n",
      "Saved detections in ../trace_data/lora_ducy/single_thread/version_3/faulty_data/st_detections/trace_trial2_st_detections_5.json\n",
      "Saved detections in ../trace_data/lora_ducy/single_thread/version_3/faulty_data/st_detections/trace_trial3_st_detections_5.json\n",
      "Saved detections in ../trace_data/lora_ducy/single_thread/version_3/faulty_data/st_detections/trace_trial1_tp_st_detections_5.json\n",
      "Saved detections in ../trace_data/lora_ducy/single_thread/version_3/faulty_data/st_detections/trace_trial2_tp_st_detections_5.json\n",
      "Saved detections in ../trace_data/lora_ducy/single_thread/version_3/faulty_data/st_detections/trace_trial3_tp_st_detections_5.json\n",
      "Saved detections in ../trace_data/lora_ducy/single_thread/version_3/faulty_data/st_detections/trace_trial1_fp_st_detections_5.json\n",
      "Saved detections in ../trace_data/lora_ducy/single_thread/version_3/faulty_data/st_detections/trace_trial2_fp_st_detections_5.json\n",
      "Saved detections in ../trace_data/lora_ducy/single_thread/version_3/faulty_data/st_detections/trace_trial3_fp_st_detections_5.json\n"
     ]
    }
   ],
   "source": [
    "######## save detections for the dashboard to plot #############\n",
    "import traceback\n",
    "\n",
    "# DIFF_VAL = 0\n",
    "\n",
    "for test_data, detections, test_label in all_detections:\n",
    "    # print(test_data, test_label)\n",
    "    # print(test_label.replace('labels', 'detections'))\n",
    "    detection_path = test_label.replace('labels', f'st_detections')\n",
    "    detection_path = detection_path.replace('st_detections.json', f'st_detections_{DIFF_VAL}.json')\n",
    "    # tp_detection_path = detection_path.replace('ei_detections.json', f'tp_ei_detections_{DIFF_VAL}.json')\n",
    "    # fp_detection_path = detection_path.replace('ei_detections.json', f'fp_ei_detections_{DIFF_VAL}.json')\n",
    "    # print(detections)\n",
    "\n",
    "    detection_dir = os.path.dirname(detection_path)\n",
    "    # print(detection_dir)\n",
    "    if not os.path.exists(detection_dir):\n",
    "        os.makedirs(detection_dir)\n",
    "        print(f'Created Directory: {detection_dir}')\n",
    "\n",
    "    try:\n",
    "        with open(detection_path, 'w') as f:\n",
    "            json.dump(detections, f)\n",
    "            print(f'Saved detections in {detection_path}')\n",
    "\n",
    "            \n",
    "    except Exception as e:\n",
    "        traceback.print_exception(e)\n",
    "        print('Error in saving detections')\n",
    "        continue\n",
    "\n",
    "for test_data, detections, test_label in all_tp:\n",
    "    # print(test_data, test_label)\n",
    "    # print(test_label.replace('labels', 'detections'))\n",
    "    detection_path = test_label.replace('labels', 'st_detections')\n",
    "    tp_detection_path = detection_path.replace('st_detections.json', f'tp_st_detections_{DIFF_VAL}.json')\n",
    "    # fp_detection_path = detection_path.replace('ei_detections.json', 'fp_ei_detections.json')\n",
    "    # print(detections)\n",
    "\n",
    "    detection_dir = os.path.dirname(detection_path)\n",
    "    # print(detection_dir)\n",
    "    if not os.path.exists(detection_dir):\n",
    "        os.makedirs(detection_dir)\n",
    "        print(f'Created Directory: {detection_dir}')\n",
    "\n",
    "    try:\n",
    "\n",
    "        with open(tp_detection_path, 'w') as f:\n",
    "            json.dump(detections, f)\n",
    "            print(f'Saved detections in {tp_detection_path}')\n",
    "            \n",
    "    except Exception as e:\n",
    "        traceback.print_exception(e)\n",
    "        print('Error in saving detections')\n",
    "        continue\n",
    "\n",
    "for test_data, detections, test_label in all_fp:\n",
    "    # print(test_data, test_label)\n",
    "    # print(test_label.replace('labels', 'detections'))\n",
    "    detection_path = test_label.replace('labels', 'st_detections')\n",
    "    # tp_detection_path = detection_path.replace('ei_detections.json', 'tp_ei_detections.json')\n",
    "    fp_detection_path = detection_path.replace('st_detections.json', f'fp_st_detections_{DIFF_VAL}.json')\n",
    "    # print(detections)\n",
    "\n",
    "    detection_dir = os.path.dirname(detection_path)\n",
    "    # print(detection_dir)\n",
    "    if not os.path.exists(detection_dir):\n",
    "        os.makedirs(detection_dir)\n",
    "        print(f'Created Directory: {detection_dir}')\n",
    "\n",
    "    try:\n",
    "\n",
    "        with open(fp_detection_path, 'w') as f:\n",
    "            json.dump(detections, f)\n",
    "            print(f'Saved detections in {fp_detection_path}')\n",
    "            \n",
    "    except Exception as e:\n",
    "        traceback.print_exception(e)\n",
    "        print('Error in saving detections')\n",
    "        continue"
   ]
  },
  {
   "cell_type": "markdown",
   "metadata": {},
   "source": [
    "## Plot Detections"
   ]
  },
  {
   "cell_type": "code",
   "execution_count": 17,
   "metadata": {},
   "outputs": [],
   "source": [
    "# ### plot gt and detections\n",
    "# for test_data, detections, test_label_path in all_detections:\n",
    "# # for test_data, detections, test_label_path in all_tp:\n",
    "#     print('test_data:', test_data)\n",
    "#     print('detections:', detections)\n",
    "\n",
    "#     ### prepare trace to plot\n",
    "#     col_data = preprocess_traces([test_data])\n",
    "#     all_df = get_dataframe(col_data) \n",
    "#     # print(all_df[0])\n",
    "\n",
    "#     ### prepare detections to plot\n",
    "#     timestamps = col_data[0][1]\n",
    "#     print('timestamps:', timestamps)\n",
    "#     plot_val = []\n",
    "#     plot_x_ticks = []\n",
    "#     plot_class = []\n",
    "#     for det in detections:\n",
    "#         print(det)\n",
    "#         det_ts1, det_ts2 = det[1]\n",
    "#         print(det_ts1, det_ts2)\n",
    "\n",
    "#         det_ind1_pre = [ abs(t-det_ts1) for t in timestamps]\n",
    "#         det_ind1 = det_ind1_pre.index(min(det_ind1_pre))\n",
    "\n",
    "#         det_ind2_pre = [ abs(t-det_ts2) for t in timestamps]\n",
    "#         det_ind2 = det_ind2_pre.index(min(det_ind2_pre))\n",
    "#         # print(det_ind1, det_ind2)\n",
    "#         # print(timestamps[det_ind1], timestamps[det_ind2])\n",
    "\n",
    "#         plot_val += [(det_ind1, det_ind2)]\n",
    "#         plot_x_ticks += [(timestamps[det_ind1], timestamps[det_ind2])]\n",
    "#         plot_class += [0]\n",
    "\n",
    "#     plot_detections = [plot_val, plot_x_ticks, plot_class]\n",
    "\n",
    "#     ### get ground truths\n",
    "#     gt_plot = prepare_gt(test_label_path)\n",
    "\n",
    "#     ### plot\n",
    "#     for df in all_df:\n",
    "#         # print(df.columns)\n",
    "#         plot_fig = plot_single_trace(df, \n",
    "#                           var_list, \n",
    "#                           with_time=False, \n",
    "#                           is_xticks=True, \n",
    "#                           detections=plot_detections, \n",
    "#                           dt_classlist=['detection'],\n",
    "#                           ground_truths=gt_plot,\n",
    "#                           gt_classlist=['gt_communication', 'gt_sensor', 'gt_bitflip'],\n",
    "#                           )\n",
    "#         plot_fig.show()\n",
    "\n",
    "#     # break"
   ]
  },
  {
   "cell_type": "markdown",
   "metadata": {},
   "source": [
    "### generate transition table"
   ]
  },
  {
   "cell_type": "code",
   "execution_count": 18,
   "metadata": {},
   "outputs": [],
   "source": [
    "# import pandas as pd\n",
    "# from pptx import Presentation\n",
    "# from pptx.util import Inches\n",
    "# from pptx.util import Pt\n",
    "# from pptx.util import Inches\n",
    "# from pptx.dml.color import RGBColor\n",
    "\n",
    "# # Create a DataFrame from the dictionary\n",
    "# df = pd.DataFrame(list(transitions.items()), columns=['Key', 'Values'])\n",
    "\n",
    "# # Combine values for each key into a single cell\n",
    "# df_combined = df.groupby('Key')['Values'].agg(lambda x: ', '.join(map(str, x))).reset_index()\n",
    "\n",
    "# # Create a PowerPoint presentation\n",
    "# presentation = Presentation()\n",
    "\n",
    "# # Add a slide to the presentation\n",
    "# slide_layout = presentation.slide_layouts[5]  # Using a blank slide layout\n",
    "# slide = presentation.slides.add_slide(slide_layout)\n",
    "\n",
    "# # Define the position and size of the table\n",
    "# left = Inches(1)\n",
    "# top = Inches(1)\n",
    "# width = Inches(6)\n",
    "# height = Inches(4)\n",
    "\n",
    "# # Add a table shape to the slide\n",
    "# table = slide.shapes.add_table(rows=df_combined.shape[0] + 1, cols=df_combined.shape[1], left=left, top=top, width=width, height=height).table\n",
    "\n",
    "# # Add column names to the first row\n",
    "# for col, col_name in enumerate(df_combined.columns):\n",
    "#     cell = table.cell(0, col)\n",
    "#     cell.text = col_name\n",
    "#     cell.text_frame.text = col_name\n",
    "#     cell.text_frame.paragraphs[0].font.size = Pt(10)\n",
    "#     cell.text_frame.paragraphs[0].font.bold = True\n",
    "#     cell.fill.solid()\n",
    "#     cell.fill.fore_color.rgb = RGBColor(240, 240, 240)  # Light gray background color\n",
    "\n",
    "# # Add data to the table\n",
    "# for row in range(df_combined.shape[0]):\n",
    "#     for col in range(df_combined.shape[1]):\n",
    "#         cell = table.cell(row + 1, col)\n",
    "#         cell.text = str(df_combined.iloc[row, col])\n",
    "#         cell.text_frame.text = str(df_combined.iloc[row, col])\n",
    "#         cell.text_frame.paragraphs[0].font.size = Pt(10)\n",
    "\n",
    "# # Save the PowerPoint presentation\n",
    "# presentation.save('table_presentation.pptx')\n",
    "\n"
   ]
  },
  {
   "cell_type": "code",
   "execution_count": null,
   "metadata": {},
   "outputs": [
    {
     "data": {
      "text/plain": [
       "17870"
      ]
     },
     "execution_count": 15,
     "metadata": {},
     "output_type": "execute_result"
    }
   ],
   "source": [
    "6200 + (9910-6500) + 8260 + (1100-8260) + "
   ]
  },
  {
   "cell_type": "code",
   "execution_count": null,
   "metadata": {},
   "outputs": [],
   "source": []
  },
  {
   "cell_type": "code",
   "execution_count": null,
   "metadata": {},
   "outputs": [],
   "source": []
  },
  {
   "cell_type": "code",
   "execution_count": null,
   "metadata": {},
   "outputs": [],
   "source": []
  },
  {
   "cell_type": "code",
   "execution_count": null,
   "metadata": {},
   "outputs": [],
   "source": []
  },
  {
   "cell_type": "code",
   "execution_count": null,
   "metadata": {},
   "outputs": [],
   "source": []
  },
  {
   "cell_type": "code",
   "execution_count": null,
   "metadata": {},
   "outputs": [],
   "source": []
  },
  {
   "cell_type": "code",
   "execution_count": null,
   "metadata": {},
   "outputs": [],
   "source": []
  },
  {
   "cell_type": "code",
   "execution_count": null,
   "metadata": {},
   "outputs": [],
   "source": []
  },
  {
   "cell_type": "code",
   "execution_count": null,
   "metadata": {},
   "outputs": [],
   "source": [
    "\n",
    "\n",
    "\n"
   ]
  },
  {
   "cell_type": "code",
   "execution_count": null,
   "metadata": {},
   "outputs": [],
   "source": []
  }
 ],
 "metadata": {
  "kernelspec": {
   "display_name": "venv",
   "language": "python",
   "name": "python3"
  },
  "language_info": {
   "codemirror_mode": {
    "name": "ipython",
    "version": 3
   },
   "file_extension": ".py",
   "mimetype": "text/x-python",
   "name": "python",
   "nbconvert_exporter": "python",
   "pygments_lexer": "ipython3",
   "version": "3.10.14"
  }
 },
 "nbformat": 4,
 "nbformat_minor": 2
}
