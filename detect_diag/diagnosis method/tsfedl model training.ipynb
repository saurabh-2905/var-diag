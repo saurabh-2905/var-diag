{
 "cells": [
  {
   "cell_type": "markdown",
   "metadata": {},
   "source": [
    "# TSFEDL Models"
   ]
  },
  {
   "cell_type": "code",
   "execution_count": 1,
   "metadata": {},
   "outputs": [
    {
     "name": "stdout",
     "output_type": "stream",
     "text": [
      "8\n"
     ]
    }
   ],
   "source": [
    "import json\n",
    "import os\n",
    "import sys\n",
    "sys.path.append('../')  ### to detect libraries in the parent directory\n",
    "import numpy as np\n",
    "import pandas as pd\n",
    "from sklearn.model_selection import train_test_split\n",
    "from sklearn.utils import shuffle\n",
    "from libraries.utils import *\n",
    "\n",
    "import multiprocess\n",
    "from multiprocess import Pool, cpu_count\n",
    "from itertools import repeat\n",
    "import time\n",
    "\n",
    "\n",
    "pool = Pool(processes=(cpu_count() - 2))\n",
    "print(cpu_count())\n"
   ]
  },
  {
   "cell_type": "markdown",
   "metadata": {},
   "source": [
    "## Load data"
   ]
  },
  {
   "cell_type": "code",
   "execution_count": 2,
   "metadata": {},
   "outputs": [
    {
     "name": "stdout",
     "output_type": "stream",
     "text": [
      "../../trace_data/theft_protection/single_thread/version_3/normal\n",
      "../../trace_data/theft_protection/single_thread/version_3/faulty_data\n",
      "ref_samples_path:\n",
      " ../../trace_data/theft_protection/single_thread/version_3/normal/diag_refsamples\n",
      "ref_var_samples_path:\n",
      " ../../trace_data/theft_protection/single_thread/version_3/normal/diag_var_refsamples\n",
      "diag_subseq_path:\n",
      " ../../trace_data/theft_protection/single_thread/version_3/faulty_data/diag_subseq\n",
      "train_data:\n",
      " ['../../trace_data/theft_protection/single_thread/version_3/normal/diag_refsamples/379.json', '../../trace_data/theft_protection/single_thread/version_3/normal/diag_refsamples/396.json', '../../trace_data/theft_protection/single_thread/version_3/normal/diag_refsamples/115.json', '../../trace_data/theft_protection/single_thread/version_3/normal/diag_refsamples/400.json', '../../trace_data/theft_protection/single_thread/version_3/normal/diag_refsamples/142.json', '../../trace_data/theft_protection/single_thread/version_3/normal/diag_refsamples/457.json', '../../trace_data/theft_protection/single_thread/version_3/normal/diag_refsamples/338.json', '../../trace_data/theft_protection/single_thread/version_3/normal/diag_refsamples/154.json', '../../trace_data/theft_protection/single_thread/version_3/normal/diag_refsamples/441.json', '../../trace_data/theft_protection/single_thread/version_3/normal/diag_refsamples/380.json', '../../trace_data/theft_protection/single_thread/version_3/normal/diag_refsamples/103.json', '../../trace_data/theft_protection/single_thread/version_3/normal/diag_refsamples/416.json', '../../trace_data/theft_protection/single_thread/version_3/normal/diag_refsamples/251.json', '../../trace_data/theft_protection/single_thread/version_3/normal/diag_refsamples/197.json', '../../trace_data/theft_protection/single_thread/version_3/normal/diag_refsamples/482.json', '../../trace_data/theft_protection/single_thread/version_3/normal/diag_refsamples/178.json', '../../trace_data/theft_protection/single_thread/version_3/normal/diag_refsamples/20.json', '../../trace_data/theft_protection/single_thread/version_3/normal/diag_refsamples/206.json', '../../trace_data/theft_protection/single_thread/version_3/normal/diag_refsamples/343.json', '../../trace_data/theft_protection/single_thread/version_3/normal/diag_refsamples/98.json', '../../trace_data/theft_protection/single_thread/version_3/normal/diag_refsamples/77.json', '../../trace_data/theft_protection/single_thread/version_3/normal/diag_refsamples/210.json', '../../trace_data/theft_protection/single_thread/version_3/normal/diag_refsamples/355.json', '../../trace_data/theft_protection/single_thread/version_3/normal/diag_refsamples/139.json', '../../trace_data/theft_protection/single_thread/version_3/normal/diag_refsamples/61.json', '../../trace_data/theft_protection/single_thread/version_3/normal/diag_refsamples/247.json', '../../trace_data/theft_protection/single_thread/version_3/normal/diag_refsamples/181.json', '../../trace_data/theft_protection/single_thread/version_3/normal/diag_refsamples/36.json', '../../trace_data/theft_protection/single_thread/version_3/normal/diag_refsamples/494.json', '../../trace_data/theft_protection/single_thread/version_3/normal/diag_refsamples/119.json', '../../trace_data/theft_protection/single_thread/version_3/normal/diag_refsamples/41.json', '../../trace_data/theft_protection/single_thread/version_3/normal/diag_refsamples/375.json', '../../trace_data/theft_protection/single_thread/version_3/normal/diag_refsamples/230.json', '../../trace_data/theft_protection/single_thread/version_3/normal/diag_refsamples/16.json', '../../trace_data/theft_protection/single_thread/version_3/normal/diag_refsamples/158.json', '../../trace_data/theft_protection/single_thread/version_3/normal/diag_refsamples/334.json', '../../trace_data/theft_protection/single_thread/version_3/normal/diag_refsamples/57.json', '../../trace_data/theft_protection/single_thread/version_3/normal/diag_refsamples/363.json', '../../trace_data/theft_protection/single_thread/version_3/normal/diag_refsamples/226.json', '../../trace_data/theft_protection/single_thread/version_3/normal/diag_refsamples/461.json', '../../trace_data/theft_protection/single_thread/version_3/normal/diag_refsamples/174.json', '../../trace_data/theft_protection/single_thread/version_3/normal/diag_refsamples/94.json', '../../trace_data/theft_protection/single_thread/version_3/normal/diag_refsamples/436.json', '../../trace_data/theft_protection/single_thread/version_3/normal/diag_refsamples/123.json', '../../trace_data/theft_protection/single_thread/version_3/normal/diag_refsamples/420.json', '../../trace_data/theft_protection/single_thread/version_3/normal/diag_refsamples/82.json', '../../trace_data/theft_protection/single_thread/version_3/normal/diag_refsamples/6.json', '../../trace_data/theft_protection/single_thread/version_3/normal/diag_refsamples/135.json', '../../trace_data/theft_protection/single_thread/version_3/normal/diag_refsamples/359.json', '../../trace_data/theft_protection/single_thread/version_3/normal/diag_refsamples/477.json', '../../trace_data/theft_protection/single_thread/version_3/normal/diag_refsamples/498.json', '../../trace_data/theft_protection/single_thread/version_3/normal/diag_refsamples/162.json', '../../trace_data/theft_protection/single_thread/version_3/normal/diag_refsamples/476.json', '../../trace_data/theft_protection/single_thread/version_3/normal/diag_refsamples/499.json', '../../trace_data/theft_protection/single_thread/version_3/normal/diag_refsamples/163.json', '../../trace_data/theft_protection/single_thread/version_3/normal/diag_refsamples/358.json', '../../trace_data/theft_protection/single_thread/version_3/normal/diag_refsamples/421.json', '../../trace_data/theft_protection/single_thread/version_3/normal/diag_refsamples/7.json', '../../trace_data/theft_protection/single_thread/version_3/normal/diag_refsamples/83.json', '../../trace_data/theft_protection/single_thread/version_3/normal/diag_refsamples/134.json', '../../trace_data/theft_protection/single_thread/version_3/normal/diag_refsamples/95.json', '../../trace_data/theft_protection/single_thread/version_3/normal/diag_refsamples/437.json', '../../trace_data/theft_protection/single_thread/version_3/normal/diag_refsamples/122.json', '../../trace_data/theft_protection/single_thread/version_3/normal/diag_refsamples/460.json', '../../trace_data/theft_protection/single_thread/version_3/normal/diag_refsamples/175.json', '../../trace_data/theft_protection/single_thread/version_3/normal/diag_refsamples/362.json', '../../trace_data/theft_protection/single_thread/version_3/normal/diag_refsamples/227.json', '../../trace_data/theft_protection/single_thread/version_3/normal/diag_refsamples/56.json', '../../trace_data/theft_protection/single_thread/version_3/normal/diag_refsamples/335.json', '../../trace_data/theft_protection/single_thread/version_3/normal/diag_refsamples/159.json', '../../trace_data/theft_protection/single_thread/version_3/normal/diag_refsamples/323.json', '../../trace_data/theft_protection/single_thread/version_3/normal/diag_refsamples/17.json', '../../trace_data/theft_protection/single_thread/version_3/normal/diag_refsamples/374.json', '../../trace_data/theft_protection/single_thread/version_3/normal/diag_refsamples/231.json', '../../trace_data/theft_protection/single_thread/version_3/normal/diag_refsamples/118.json', '../../trace_data/theft_protection/single_thread/version_3/normal/diag_refsamples/40.json', '../../trace_data/theft_protection/single_thread/version_3/normal/diag_refsamples/180.json', '../../trace_data/theft_protection/single_thread/version_3/normal/diag_refsamples/37.json', '../../trace_data/theft_protection/single_thread/version_3/normal/diag_refsamples/495.json', '../../trace_data/theft_protection/single_thread/version_3/normal/diag_refsamples/246.json', '../../trace_data/theft_protection/single_thread/version_3/normal/diag_refsamples/138.json', '../../trace_data/theft_protection/single_thread/version_3/normal/diag_refsamples/60.json', '../../trace_data/theft_protection/single_thread/version_3/normal/diag_refsamples/211.json', '../../trace_data/theft_protection/single_thread/version_3/normal/diag_refsamples/354.json', '../../trace_data/theft_protection/single_thread/version_3/normal/diag_refsamples/99.json', '../../trace_data/theft_protection/single_thread/version_3/normal/diag_refsamples/76.json', '../../trace_data/theft_protection/single_thread/version_3/normal/diag_refsamples/207.json', '../../trace_data/theft_protection/single_thread/version_3/normal/diag_refsamples/342.json', '../../trace_data/theft_protection/single_thread/version_3/normal/diag_refsamples/196.json', '../../trace_data/theft_protection/single_thread/version_3/normal/diag_refsamples/483.json', '../../trace_data/theft_protection/single_thread/version_3/normal/diag_refsamples/179.json', '../../trace_data/theft_protection/single_thread/version_3/normal/diag_refsamples/21.json', '../../trace_data/theft_protection/single_thread/version_3/normal/diag_refsamples/250.json', '../../trace_data/theft_protection/single_thread/version_3/normal/diag_refsamples/102.json', '../../trace_data/theft_protection/single_thread/version_3/normal/diag_refsamples/417.json', '../../trace_data/theft_protection/single_thread/version_3/normal/diag_refsamples/381.json', '../../trace_data/theft_protection/single_thread/version_3/normal/diag_refsamples/155.json', '../../trace_data/theft_protection/single_thread/version_3/normal/diag_refsamples/440.json', '../../trace_data/theft_protection/single_thread/version_3/normal/diag_refsamples/339.json', '../../trace_data/theft_protection/single_thread/version_3/normal/diag_refsamples/143.json', '../../trace_data/theft_protection/single_thread/version_3/normal/diag_refsamples/456.json', '../../trace_data/theft_protection/single_thread/version_3/normal/diag_refsamples/114.json', '../../trace_data/theft_protection/single_thread/version_3/normal/diag_refsamples/401.json', '../../trace_data/theft_protection/single_thread/version_3/normal/diag_refsamples/378.json', '../../trace_data/theft_protection/single_thread/version_3/normal/diag_refsamples/397.json', '../../trace_data/theft_protection/single_thread/version_3/normal/diag_refsamples/47.json', '../../trace_data/theft_protection/single_thread/version_3/normal/diag_refsamples/373.json', '../../trace_data/theft_protection/single_thread/version_3/normal/diag_refsamples/236.json', '../../trace_data/theft_protection/single_thread/version_3/normal/diag_refsamples/148.json', '../../trace_data/theft_protection/single_thread/version_3/normal/diag_refsamples/10.json', '../../trace_data/theft_protection/single_thread/version_3/normal/diag_refsamples/324.json', '../../trace_data/theft_protection/single_thread/version_3/normal/diag_refsamples/332.json', '../../trace_data/theft_protection/single_thread/version_3/normal/diag_refsamples/109.json', '../../trace_data/theft_protection/single_thread/version_3/normal/diag_refsamples/51.json', '../../trace_data/theft_protection/single_thread/version_3/normal/diag_refsamples/365.json', '../../trace_data/theft_protection/single_thread/version_3/normal/diag_refsamples/220.json', '../../trace_data/theft_protection/single_thread/version_3/normal/diag_refsamples/467.json', '../../trace_data/theft_protection/single_thread/version_3/normal/diag_refsamples/488.json', '../../trace_data/theft_protection/single_thread/version_3/normal/diag_refsamples/172.json', '../../trace_data/theft_protection/single_thread/version_3/normal/diag_refsamples/430.json', '../../trace_data/theft_protection/single_thread/version_3/normal/diag_refsamples/92.json', '../../trace_data/theft_protection/single_thread/version_3/normal/diag_refsamples/125.json', '../../trace_data/theft_protection/single_thread/version_3/normal/diag_refsamples/349.json', '../../trace_data/theft_protection/single_thread/version_3/normal/diag_refsamples/84.json', '../../trace_data/theft_protection/single_thread/version_3/normal/diag_refsamples/0.json', '../../trace_data/theft_protection/single_thread/version_3/normal/diag_refsamples/426.json', '../../trace_data/theft_protection/single_thread/version_3/normal/diag_refsamples/133.json', '../../trace_data/theft_protection/single_thread/version_3/normal/diag_refsamples/471.json', '../../trace_data/theft_protection/single_thread/version_3/normal/diag_refsamples/164.json', '../../trace_data/theft_protection/single_thread/version_3/normal/diag_refsamples/390.json', '../../trace_data/theft_protection/single_thread/version_3/normal/diag_refsamples/113.json', '../../trace_data/theft_protection/single_thread/version_3/normal/diag_refsamples/406.json', '../../trace_data/theft_protection/single_thread/version_3/normal/diag_refsamples/328.json', '../../trace_data/theft_protection/single_thread/version_3/normal/diag_refsamples/144.json', '../../trace_data/theft_protection/single_thread/version_3/normal/diag_refsamples/451.json', '../../trace_data/theft_protection/single_thread/version_3/normal/diag_refsamples/152.json', '../../trace_data/theft_protection/single_thread/version_3/normal/diag_refsamples/447.json', '../../trace_data/theft_protection/single_thread/version_3/normal/diag_refsamples/369.json', '../../trace_data/theft_protection/single_thread/version_3/normal/diag_refsamples/386.json', '../../trace_data/theft_protection/single_thread/version_3/normal/diag_refsamples/105.json', '../../trace_data/theft_protection/single_thread/version_3/normal/diag_refsamples/410.json', '../../trace_data/theft_protection/single_thread/version_3/normal/diag_refsamples/257.json', '../../trace_data/theft_protection/single_thread/version_3/normal/diag_refsamples/191.json', '../../trace_data/theft_protection/single_thread/version_3/normal/diag_refsamples/26.json', '../../trace_data/theft_protection/single_thread/version_3/normal/diag_refsamples/484.json', '../../trace_data/theft_protection/single_thread/version_3/normal/diag_refsamples/200.json', '../../trace_data/theft_protection/single_thread/version_3/normal/diag_refsamples/345.json', '../../trace_data/theft_protection/single_thread/version_3/normal/diag_refsamples/129.json', '../../trace_data/theft_protection/single_thread/version_3/normal/diag_refsamples/71.json', '../../trace_data/theft_protection/single_thread/version_3/normal/diag_refsamples/216.json', '../../trace_data/theft_protection/single_thread/version_3/normal/diag_refsamples/353.json', '../../trace_data/theft_protection/single_thread/version_3/normal/diag_refsamples/88.json', '../../trace_data/theft_protection/single_thread/version_3/normal/diag_refsamples/67.json', '../../trace_data/theft_protection/single_thread/version_3/normal/diag_refsamples/241.json', '../../trace_data/theft_protection/single_thread/version_3/normal/diag_refsamples/187.json', '../../trace_data/theft_protection/single_thread/version_3/normal/diag_refsamples/492.json', '../../trace_data/theft_protection/single_thread/version_3/normal/diag_refsamples/168.json', '../../trace_data/theft_protection/single_thread/version_3/normal/diag_refsamples/30.json', '../../trace_data/theft_protection/single_thread/version_3/normal/diag_refsamples/186.json', '../../trace_data/theft_protection/single_thread/version_3/normal/diag_refsamples/493.json', '../../trace_data/theft_protection/single_thread/version_3/normal/diag_refsamples/169.json', '../../trace_data/theft_protection/single_thread/version_3/normal/diag_refsamples/31.json', '../../trace_data/theft_protection/single_thread/version_3/normal/diag_refsamples/240.json', '../../trace_data/theft_protection/single_thread/version_3/normal/diag_refsamples/89.json', '../../trace_data/theft_protection/single_thread/version_3/normal/diag_refsamples/66.json', '../../trace_data/theft_protection/single_thread/version_3/normal/diag_refsamples/217.json', '../../trace_data/theft_protection/single_thread/version_3/normal/diag_refsamples/352.json', '../../trace_data/theft_protection/single_thread/version_3/normal/diag_refsamples/128.json', '../../trace_data/theft_protection/single_thread/version_3/normal/diag_refsamples/70.json', '../../trace_data/theft_protection/single_thread/version_3/normal/diag_refsamples/201.json', '../../trace_data/theft_protection/single_thread/version_3/normal/diag_refsamples/344.json', '../../trace_data/theft_protection/single_thread/version_3/normal/diag_refsamples/190.json', '../../trace_data/theft_protection/single_thread/version_3/normal/diag_refsamples/27.json', '../../trace_data/theft_protection/single_thread/version_3/normal/diag_refsamples/485.json', '../../trace_data/theft_protection/single_thread/version_3/normal/diag_refsamples/256.json', '../../trace_data/theft_protection/single_thread/version_3/normal/diag_refsamples/104.json', '../../trace_data/theft_protection/single_thread/version_3/normal/diag_refsamples/411.json', '../../trace_data/theft_protection/single_thread/version_3/normal/diag_refsamples/368.json', '../../trace_data/theft_protection/single_thread/version_3/normal/diag_refsamples/387.json', '../../trace_data/theft_protection/single_thread/version_3/normal/diag_refsamples/153.json', '../../trace_data/theft_protection/single_thread/version_3/normal/diag_refsamples/446.json', '../../trace_data/theft_protection/single_thread/version_3/normal/diag_refsamples/145.json', '../../trace_data/theft_protection/single_thread/version_3/normal/diag_refsamples/450.json', '../../trace_data/theft_protection/single_thread/version_3/normal/diag_refsamples/329.json', '../../trace_data/theft_protection/single_thread/version_3/normal/diag_refsamples/112.json', '../../trace_data/theft_protection/single_thread/version_3/normal/diag_refsamples/407.json', '../../trace_data/theft_protection/single_thread/version_3/normal/diag_refsamples/391.json', '../../trace_data/theft_protection/single_thread/version_3/normal/diag_refsamples/470.json', '../../trace_data/theft_protection/single_thread/version_3/normal/diag_refsamples/165.json', '../../trace_data/theft_protection/single_thread/version_3/normal/diag_refsamples/1.json', '../../trace_data/theft_protection/single_thread/version_3/normal/diag_refsamples/85.json', '../../trace_data/theft_protection/single_thread/version_3/normal/diag_refsamples/427.json', '../../trace_data/theft_protection/single_thread/version_3/normal/diag_refsamples/132.json', '../../trace_data/theft_protection/single_thread/version_3/normal/diag_refsamples/348.json', '../../trace_data/theft_protection/single_thread/version_3/normal/diag_refsamples/431.json', '../../trace_data/theft_protection/single_thread/version_3/normal/diag_refsamples/93.json', '../../trace_data/theft_protection/single_thread/version_3/normal/diag_refsamples/124.json', '../../trace_data/theft_protection/single_thread/version_3/normal/diag_refsamples/466.json', '../../trace_data/theft_protection/single_thread/version_3/normal/diag_refsamples/489.json', '../../trace_data/theft_protection/single_thread/version_3/normal/diag_refsamples/173.json', '../../trace_data/theft_protection/single_thread/version_3/normal/diag_refsamples/364.json', '../../trace_data/theft_protection/single_thread/version_3/normal/diag_refsamples/221.json', '../../trace_data/theft_protection/single_thread/version_3/normal/diag_refsamples/108.json', '../../trace_data/theft_protection/single_thread/version_3/normal/diag_refsamples/50.json', '../../trace_data/theft_protection/single_thread/version_3/normal/diag_refsamples/333.json', '../../trace_data/theft_protection/single_thread/version_3/normal/diag_refsamples/325.json', '../../trace_data/theft_protection/single_thread/version_3/normal/diag_refsamples/149.json', '../../trace_data/theft_protection/single_thread/version_3/normal/diag_refsamples/11.json', '../../trace_data/theft_protection/single_thread/version_3/normal/diag_refsamples/372.json', '../../trace_data/theft_protection/single_thread/version_3/normal/diag_refsamples/237.json', '../../trace_data/theft_protection/single_thread/version_3/normal/diag_refsamples/46.json', '../../trace_data/theft_protection/single_thread/version_3/normal/diag_refsamples/166.json', '../../trace_data/theft_protection/single_thread/version_3/normal/diag_refsamples/189.json', '../../trace_data/theft_protection/single_thread/version_3/normal/diag_refsamples/473.json', '../../trace_data/theft_protection/single_thread/version_3/normal/diag_refsamples/218.json', '../../trace_data/theft_protection/single_thread/version_3/normal/diag_refsamples/69.json', '../../trace_data/theft_protection/single_thread/version_3/normal/diag_refsamples/131.json', '../../trace_data/theft_protection/single_thread/version_3/normal/diag_refsamples/424.json', '../../trace_data/theft_protection/single_thread/version_3/normal/diag_refsamples/2.json', '../../trace_data/theft_protection/single_thread/version_3/normal/diag_refsamples/86.json', '../../trace_data/theft_protection/single_thread/version_3/normal/diag_refsamples/127.json', '../../trace_data/theft_protection/single_thread/version_3/normal/diag_refsamples/90.json', '../../trace_data/theft_protection/single_thread/version_3/normal/diag_refsamples/432.json', '../../trace_data/theft_protection/single_thread/version_3/normal/diag_refsamples/28.json', '../../trace_data/theft_protection/single_thread/version_3/normal/diag_refsamples/170.json', '../../trace_data/theft_protection/single_thread/version_3/normal/diag_refsamples/465.json', '../../trace_data/theft_protection/single_thread/version_3/normal/diag_refsamples/388.json', '../../trace_data/theft_protection/single_thread/version_3/normal/diag_refsamples/222.json', '../../trace_data/theft_protection/single_thread/version_3/normal/diag_refsamples/367.json', '../../trace_data/theft_protection/single_thread/version_3/normal/diag_refsamples/53.json', '../../trace_data/theft_protection/single_thread/version_3/normal/diag_refsamples/330.json', '../../trace_data/theft_protection/single_thread/version_3/normal/diag_refsamples/449.json', '../../trace_data/theft_protection/single_thread/version_3/normal/diag_refsamples/326.json', '../../trace_data/theft_protection/single_thread/version_3/normal/diag_refsamples/12.json', '../../trace_data/theft_protection/single_thread/version_3/normal/diag_refsamples/234.json', '../../trace_data/theft_protection/single_thread/version_3/normal/diag_refsamples/371.json', '../../trace_data/theft_protection/single_thread/version_3/normal/diag_refsamples/408.json', '../../trace_data/theft_protection/single_thread/version_3/normal/diag_refsamples/45.json', '../../trace_data/theft_protection/single_thread/version_3/normal/diag_refsamples/32.json', '../../trace_data/theft_protection/single_thread/version_3/normal/diag_refsamples/490.json', '../../trace_data/theft_protection/single_thread/version_3/normal/diag_refsamples/185.json', '../../trace_data/theft_protection/single_thread/version_3/normal/diag_refsamples/243.json', '../../trace_data/theft_protection/single_thread/version_3/normal/diag_refsamples/65.json', '../../trace_data/theft_protection/single_thread/version_3/normal/diag_refsamples/428.json', '../../trace_data/theft_protection/single_thread/version_3/normal/diag_refsamples/351.json', '../../trace_data/theft_protection/single_thread/version_3/normal/diag_refsamples/214.json', '../../trace_data/theft_protection/single_thread/version_3/normal/diag_refsamples/73.json', '../../trace_data/theft_protection/single_thread/version_3/normal/diag_refsamples/347.json', '../../trace_data/theft_protection/single_thread/version_3/normal/diag_refsamples/202.json', '../../trace_data/theft_protection/single_thread/version_3/normal/diag_refsamples/486.json', '../../trace_data/theft_protection/single_thread/version_3/normal/diag_refsamples/24.json', '../../trace_data/theft_protection/single_thread/version_3/normal/diag_refsamples/193.json', '../../trace_data/theft_protection/single_thread/version_3/normal/diag_refsamples/469.json', '../../trace_data/theft_protection/single_thread/version_3/normal/diag_refsamples/255.json', '../../trace_data/theft_protection/single_thread/version_3/normal/diag_refsamples/412.json', '../../trace_data/theft_protection/single_thread/version_3/normal/diag_refsamples/107.json', '../../trace_data/theft_protection/single_thread/version_3/normal/diag_refsamples/384.json', '../../trace_data/theft_protection/single_thread/version_3/normal/diag_refsamples/445.json', '../../trace_data/theft_protection/single_thread/version_3/normal/diag_refsamples/150.json', '../../trace_data/theft_protection/single_thread/version_3/normal/diag_refsamples/500.json', '../../trace_data/theft_protection/single_thread/version_3/normal/diag_refsamples/453.json', '../../trace_data/theft_protection/single_thread/version_3/normal/diag_refsamples/146.json', '../../trace_data/theft_protection/single_thread/version_3/normal/diag_refsamples/404.json', '../../trace_data/theft_protection/single_thread/version_3/normal/diag_refsamples/49.json', '../../trace_data/theft_protection/single_thread/version_3/normal/diag_refsamples/111.json', '../../trace_data/theft_protection/single_thread/version_3/normal/diag_refsamples/392.json', '../../trace_data/theft_protection/single_thread/version_3/normal/diag_refsamples/238.json', '../../trace_data/theft_protection/single_thread/version_3/normal/diag_refsamples/393.json', '../../trace_data/theft_protection/single_thread/version_3/normal/diag_refsamples/239.json', '../../trace_data/theft_protection/single_thread/version_3/normal/diag_refsamples/405.json', '../../trace_data/theft_protection/single_thread/version_3/normal/diag_refsamples/48.json', '../../trace_data/theft_protection/single_thread/version_3/normal/diag_refsamples/110.json', '../../trace_data/theft_protection/single_thread/version_3/normal/diag_refsamples/452.json', '../../trace_data/theft_protection/single_thread/version_3/normal/diag_refsamples/147.json', '../../trace_data/theft_protection/single_thread/version_3/normal/diag_refsamples/444.json', '../../trace_data/theft_protection/single_thread/version_3/normal/diag_refsamples/151.json', '../../trace_data/theft_protection/single_thread/version_3/normal/diag_refsamples/501.json', '../../trace_data/theft_protection/single_thread/version_3/normal/diag_refsamples/385.json', '../../trace_data/theft_protection/single_thread/version_3/normal/diag_refsamples/413.json', '../../trace_data/theft_protection/single_thread/version_3/normal/diag_refsamples/106.json', '../../trace_data/theft_protection/single_thread/version_3/normal/diag_refsamples/254.json', '../../trace_data/theft_protection/single_thread/version_3/normal/diag_refsamples/487.json', '../../trace_data/theft_protection/single_thread/version_3/normal/diag_refsamples/25.json', '../../trace_data/theft_protection/single_thread/version_3/normal/diag_refsamples/192.json', '../../trace_data/theft_protection/single_thread/version_3/normal/diag_refsamples/468.json', '../../trace_data/theft_protection/single_thread/version_3/normal/diag_refsamples/346.json', '../../trace_data/theft_protection/single_thread/version_3/normal/diag_refsamples/203.json', '../../trace_data/theft_protection/single_thread/version_3/normal/diag_refsamples/72.json', '../../trace_data/theft_protection/single_thread/version_3/normal/diag_refsamples/350.json', '../../trace_data/theft_protection/single_thread/version_3/normal/diag_refsamples/215.json', '../../trace_data/theft_protection/single_thread/version_3/normal/diag_refsamples/64.json', '../../trace_data/theft_protection/single_thread/version_3/normal/diag_refsamples/429.json', '../../trace_data/theft_protection/single_thread/version_3/normal/diag_refsamples/242.json', '../../trace_data/theft_protection/single_thread/version_3/normal/diag_refsamples/33.json', '../../trace_data/theft_protection/single_thread/version_3/normal/diag_refsamples/491.json', '../../trace_data/theft_protection/single_thread/version_3/normal/diag_refsamples/184.json', '../../trace_data/theft_protection/single_thread/version_3/normal/diag_refsamples/409.json', '../../trace_data/theft_protection/single_thread/version_3/normal/diag_refsamples/44.json', '../../trace_data/theft_protection/single_thread/version_3/normal/diag_refsamples/235.json', '../../trace_data/theft_protection/single_thread/version_3/normal/diag_refsamples/370.json', '../../trace_data/theft_protection/single_thread/version_3/normal/diag_refsamples/13.json', '../../trace_data/theft_protection/single_thread/version_3/normal/diag_refsamples/327.json', '../../trace_data/theft_protection/single_thread/version_3/normal/diag_refsamples/448.json', '../../trace_data/theft_protection/single_thread/version_3/normal/diag_refsamples/331.json', '../../trace_data/theft_protection/single_thread/version_3/normal/diag_refsamples/52.json', '../../trace_data/theft_protection/single_thread/version_3/normal/diag_refsamples/389.json', '../../trace_data/theft_protection/single_thread/version_3/normal/diag_refsamples/223.json', '../../trace_data/theft_protection/single_thread/version_3/normal/diag_refsamples/366.json', '../../trace_data/theft_protection/single_thread/version_3/normal/diag_refsamples/29.json', '../../trace_data/theft_protection/single_thread/version_3/normal/diag_refsamples/171.json', '../../trace_data/theft_protection/single_thread/version_3/normal/diag_refsamples/464.json', '../../trace_data/theft_protection/single_thread/version_3/normal/diag_refsamples/258.json', '../../trace_data/theft_protection/single_thread/version_3/normal/diag_refsamples/126.json', '../../trace_data/theft_protection/single_thread/version_3/normal/diag_refsamples/91.json', '../../trace_data/theft_protection/single_thread/version_3/normal/diag_refsamples/433.json', '../../trace_data/theft_protection/single_thread/version_3/normal/diag_refsamples/68.json', '../../trace_data/theft_protection/single_thread/version_3/normal/diag_refsamples/130.json', '../../trace_data/theft_protection/single_thread/version_3/normal/diag_refsamples/425.json', '../../trace_data/theft_protection/single_thread/version_3/normal/diag_refsamples/87.json', '../../trace_data/theft_protection/single_thread/version_3/normal/diag_refsamples/3.json', '../../trace_data/theft_protection/single_thread/version_3/normal/diag_refsamples/219.json', '../../trace_data/theft_protection/single_thread/version_3/normal/diag_refsamples/167.json', '../../trace_data/theft_protection/single_thread/version_3/normal/diag_refsamples/188.json', '../../trace_data/theft_protection/single_thread/version_3/normal/diag_refsamples/472.json', '../../trace_data/theft_protection/single_thread/version_3/normal/diag_refsamples/496.json', '../../trace_data/theft_protection/single_thread/version_3/normal/diag_refsamples/34.json', '../../trace_data/theft_protection/single_thread/version_3/normal/diag_refsamples/183.json', '../../trace_data/theft_protection/single_thread/version_3/normal/diag_refsamples/479.json', '../../trace_data/theft_protection/single_thread/version_3/normal/diag_refsamples/245.json', '../../trace_data/theft_protection/single_thread/version_3/normal/diag_refsamples/63.json', '../../trace_data/theft_protection/single_thread/version_3/normal/diag_refsamples/8.json', '../../trace_data/theft_protection/single_thread/version_3/normal/diag_refsamples/357.json', '../../trace_data/theft_protection/single_thread/version_3/normal/diag_refsamples/212.json', '../../trace_data/theft_protection/single_thread/version_3/normal/diag_refsamples/75.json', '../../trace_data/theft_protection/single_thread/version_3/normal/diag_refsamples/438.json', '../../trace_data/theft_protection/single_thread/version_3/normal/diag_refsamples/341.json', '../../trace_data/theft_protection/single_thread/version_3/normal/diag_refsamples/204.json', '../../trace_data/theft_protection/single_thread/version_3/normal/diag_refsamples/22.json', '../../trace_data/theft_protection/single_thread/version_3/normal/diag_refsamples/480.json', '../../trace_data/theft_protection/single_thread/version_3/normal/diag_refsamples/195.json', '../../trace_data/theft_protection/single_thread/version_3/normal/diag_refsamples/253.json', '../../trace_data/theft_protection/single_thread/version_3/normal/diag_refsamples/414.json', '../../trace_data/theft_protection/single_thread/version_3/normal/diag_refsamples/59.json', '../../trace_data/theft_protection/single_thread/version_3/normal/diag_refsamples/101.json', '../../trace_data/theft_protection/single_thread/version_3/normal/diag_refsamples/228.json', '../../trace_data/theft_protection/single_thread/version_3/normal/diag_refsamples/382.json', '../../trace_data/theft_protection/single_thread/version_3/normal/diag_refsamples/443.json', '../../trace_data/theft_protection/single_thread/version_3/normal/diag_refsamples/156.json', '../../trace_data/theft_protection/single_thread/version_3/normal/diag_refsamples/455.json', '../../trace_data/theft_protection/single_thread/version_3/normal/diag_refsamples/18.json', '../../trace_data/theft_protection/single_thread/version_3/normal/diag_refsamples/140.json', '../../trace_data/theft_protection/single_thread/version_3/normal/diag_refsamples/402.json', '../../trace_data/theft_protection/single_thread/version_3/normal/diag_refsamples/117.json', '../../trace_data/theft_protection/single_thread/version_3/normal/diag_refsamples/394.json', '../../trace_data/theft_protection/single_thread/version_3/normal/diag_refsamples/249.json', '../../trace_data/theft_protection/single_thread/version_3/normal/diag_refsamples/38.json', '../../trace_data/theft_protection/single_thread/version_3/normal/diag_refsamples/160.json', '../../trace_data/theft_protection/single_thread/version_3/normal/diag_refsamples/475.json', '../../trace_data/theft_protection/single_thread/version_3/normal/diag_refsamples/137.json', '../../trace_data/theft_protection/single_thread/version_3/normal/diag_refsamples/4.json', '../../trace_data/theft_protection/single_thread/version_3/normal/diag_refsamples/80.json', '../../trace_data/theft_protection/single_thread/version_3/normal/diag_refsamples/422.json', '../../trace_data/theft_protection/single_thread/version_3/normal/diag_refsamples/208.json', '../../trace_data/theft_protection/single_thread/version_3/normal/diag_refsamples/79.json', '../../trace_data/theft_protection/single_thread/version_3/normal/diag_refsamples/121.json', '../../trace_data/theft_protection/single_thread/version_3/normal/diag_refsamples/434.json', '../../trace_data/theft_protection/single_thread/version_3/normal/diag_refsamples/96.json', '../../trace_data/theft_protection/single_thread/version_3/normal/diag_refsamples/176.json', '../../trace_data/theft_protection/single_thread/version_3/normal/diag_refsamples/199.json', '../../trace_data/theft_protection/single_thread/version_3/normal/diag_refsamples/463.json', '../../trace_data/theft_protection/single_thread/version_3/normal/diag_refsamples/224.json', '../../trace_data/theft_protection/single_thread/version_3/normal/diag_refsamples/361.json', '../../trace_data/theft_protection/single_thread/version_3/normal/diag_refsamples/418.json', '../../trace_data/theft_protection/single_thread/version_3/normal/diag_refsamples/55.json', '../../trace_data/theft_protection/single_thread/version_3/normal/diag_refsamples/336.json', '../../trace_data/theft_protection/single_thread/version_3/normal/diag_refsamples/459.json', '../../trace_data/theft_protection/single_thread/version_3/normal/diag_refsamples/14.json', '../../trace_data/theft_protection/single_thread/version_3/normal/diag_refsamples/232.json', '../../trace_data/theft_protection/single_thread/version_3/normal/diag_refsamples/398.json', '../../trace_data/theft_protection/single_thread/version_3/normal/diag_refsamples/377.json', '../../trace_data/theft_protection/single_thread/version_3/normal/diag_refsamples/43.json', '../../trace_data/theft_protection/single_thread/version_3/normal/diag_refsamples/42.json', '../../trace_data/theft_protection/single_thread/version_3/normal/diag_refsamples/233.json', '../../trace_data/theft_protection/single_thread/version_3/normal/diag_refsamples/399.json', '../../trace_data/theft_protection/single_thread/version_3/normal/diag_refsamples/376.json', '../../trace_data/theft_protection/single_thread/version_3/normal/diag_refsamples/458.json', '../../trace_data/theft_protection/single_thread/version_3/normal/diag_refsamples/15.json', '../../trace_data/theft_protection/single_thread/version_3/normal/diag_refsamples/337.json', '../../trace_data/theft_protection/single_thread/version_3/normal/diag_refsamples/419.json', '../../trace_data/theft_protection/single_thread/version_3/normal/diag_refsamples/54.json', '../../trace_data/theft_protection/single_thread/version_3/normal/diag_refsamples/225.json', '../../trace_data/theft_protection/single_thread/version_3/normal/diag_refsamples/360.json', '../../trace_data/theft_protection/single_thread/version_3/normal/diag_refsamples/177.json', '../../trace_data/theft_protection/single_thread/version_3/normal/diag_refsamples/198.json', '../../trace_data/theft_protection/single_thread/version_3/normal/diag_refsamples/462.json', '../../trace_data/theft_protection/single_thread/version_3/normal/diag_refsamples/78.json', '../../trace_data/theft_protection/single_thread/version_3/normal/diag_refsamples/120.json', '../../trace_data/theft_protection/single_thread/version_3/normal/diag_refsamples/435.json', '../../trace_data/theft_protection/single_thread/version_3/normal/diag_refsamples/97.json', '../../trace_data/theft_protection/single_thread/version_3/normal/diag_refsamples/209.json', '../../trace_data/theft_protection/single_thread/version_3/normal/diag_refsamples/136.json', '../../trace_data/theft_protection/single_thread/version_3/normal/diag_refsamples/81.json', '../../trace_data/theft_protection/single_thread/version_3/normal/diag_refsamples/5.json', '../../trace_data/theft_protection/single_thread/version_3/normal/diag_refsamples/423.json', '../../trace_data/theft_protection/single_thread/version_3/normal/diag_refsamples/39.json', '../../trace_data/theft_protection/single_thread/version_3/normal/diag_refsamples/161.json', '../../trace_data/theft_protection/single_thread/version_3/normal/diag_refsamples/474.json', '../../trace_data/theft_protection/single_thread/version_3/normal/diag_refsamples/248.json', '../../trace_data/theft_protection/single_thread/version_3/normal/diag_refsamples/395.json', '../../trace_data/theft_protection/single_thread/version_3/normal/diag_refsamples/403.json', '../../trace_data/theft_protection/single_thread/version_3/normal/diag_refsamples/116.json', '../../trace_data/theft_protection/single_thread/version_3/normal/diag_refsamples/454.json', '../../trace_data/theft_protection/single_thread/version_3/normal/diag_refsamples/19.json', '../../trace_data/theft_protection/single_thread/version_3/normal/diag_refsamples/141.json', '../../trace_data/theft_protection/single_thread/version_3/normal/diag_refsamples/442.json', '../../trace_data/theft_protection/single_thread/version_3/normal/diag_refsamples/157.json', '../../trace_data/theft_protection/single_thread/version_3/normal/diag_refsamples/229.json', '../../trace_data/theft_protection/single_thread/version_3/normal/diag_refsamples/383.json', '../../trace_data/theft_protection/single_thread/version_3/normal/diag_refsamples/415.json', '../../trace_data/theft_protection/single_thread/version_3/normal/diag_refsamples/58.json', '../../trace_data/theft_protection/single_thread/version_3/normal/diag_refsamples/100.json', '../../trace_data/theft_protection/single_thread/version_3/normal/diag_refsamples/252.json', '../../trace_data/theft_protection/single_thread/version_3/normal/diag_refsamples/23.json', '../../trace_data/theft_protection/single_thread/version_3/normal/diag_refsamples/481.json', '../../trace_data/theft_protection/single_thread/version_3/normal/diag_refsamples/194.json', '../../trace_data/theft_protection/single_thread/version_3/normal/diag_refsamples/340.json', '../../trace_data/theft_protection/single_thread/version_3/normal/diag_refsamples/205.json', '../../trace_data/theft_protection/single_thread/version_3/normal/diag_refsamples/74.json', '../../trace_data/theft_protection/single_thread/version_3/normal/diag_refsamples/439.json', '../../trace_data/theft_protection/single_thread/version_3/normal/diag_refsamples/356.json', '../../trace_data/theft_protection/single_thread/version_3/normal/diag_refsamples/213.json', '../../trace_data/theft_protection/single_thread/version_3/normal/diag_refsamples/62.json', '../../trace_data/theft_protection/single_thread/version_3/normal/diag_refsamples/9.json', '../../trace_data/theft_protection/single_thread/version_3/normal/diag_refsamples/244.json', '../../trace_data/theft_protection/single_thread/version_3/normal/diag_refsamples/497.json', '../../trace_data/theft_protection/single_thread/version_3/normal/diag_refsamples/35.json', '../../trace_data/theft_protection/single_thread/version_3/normal/diag_refsamples/182.json', '../../trace_data/theft_protection/single_thread/version_3/normal/diag_refsamples/478.json']\n",
      "438\n",
      "test_data:\n",
      " ['../../trace_data/theft_protection/single_thread/version_3/faulty_data/diag_subseq/trace_trial2_379-423.json', '../../trace_data/theft_protection/single_thread/version_3/faulty_data/diag_subseq/trace_trial1_1217-1225.json', '../../trace_data/theft_protection/single_thread/version_3/faulty_data/diag_subseq/trace_trial2_1303-1339.json', '../../trace_data/theft_protection/single_thread/version_3/faulty_data/diag_subseq/trace_trial1_623-662.json', '../../trace_data/theft_protection/single_thread/version_3/faulty_data/diag_subseq/trace_trial2_2500-2544.json', '../../trace_data/theft_protection/single_thread/version_3/faulty_data/diag_subseq/trace_trial1_2296-2335.json', '../../trace_data/theft_protection/single_thread/version_3/faulty_data/diag_subseq/trace_trial1_908-942.json', '../../trace_data/theft_protection/single_thread/version_3/faulty_data/diag_subseq/trace_trial1_410-449.json', '../../trace_data/theft_protection/single_thread/version_3/faulty_data/diag_subseq/trace_trial2_526-534.json', '../../trace_data/theft_protection/single_thread/version_3/faulty_data/diag_subseq/trace_trial2_775-846.json', '../../trace_data/theft_protection/single_thread/version_3/faulty_data/diag_subseq/trace_trial1_313-352.json', '../../trace_data/theft_protection/single_thread/version_3/faulty_data/diag_subseq/trace_trial1_1813-1852.json', '../../trace_data/theft_protection/single_thread/version_3/faulty_data/diag_subseq/trace_trial2_1104-1179.json', '../../trace_data/theft_protection/single_thread/version_3/faulty_data/diag_subseq/trace_trial2_310-321.json', '../../trace_data/theft_protection/single_thread/version_3/faulty_data/diag_subseq/trace_trial1_720-759.json', '../../trace_data/theft_protection/single_thread/version_3/faulty_data/diag_subseq/trace_trial2_1230-1267.json', '../../trace_data/theft_protection/single_thread/version_3/faulty_data/diag_subseq/trace_trial2_1710-1779.json', '../../trace_data/theft_protection/single_thread/version_3/faulty_data/diag_subseq/trace_trial2_2280-2324.json', '../../trace_data/theft_protection/single_thread/version_3/faulty_data/diag_subseq/trace_trial1_2055-2092.json', '../../trace_data/theft_protection/single_thread/version_3/faulty_data/diag_subseq/trace_trial2_1375-1419.json', '../../trace_data/theft_protection/single_thread/version_3/faulty_data/diag_subseq/trace_trial2_1496-1533.json', '../../trace_data/theft_protection/single_thread/version_3/faulty_data/diag_subseq/trace_trial1_2416-2455.json', '../../trace_data/theft_protection/single_thread/version_3/faulty_data/diag_subseq/trace_trial2_1841-1978.json', '../../trace_data/theft_protection/single_thread/version_3/faulty_data/diag_subseq/trace_trial1_2173-2212.json', '../../trace_data/theft_protection/single_thread/version_3/faulty_data/diag_subseq/trace_trial1_2102-2141.json', '../../trace_data/theft_protection/single_thread/version_3/faulty_data/diag_subseq/trace_trial1_526-565.json', '../../trace_data/theft_protection/single_thread/version_3/faulty_data/diag_subseq/trace_trial2_2427-2471.json', '../../trace_data/theft_protection/single_thread/version_3/faulty_data/diag_subseq/trace_trial1_1101-1140.json', '../../trace_data/theft_protection/single_thread/version_3/faulty_data/diag_subseq/trace_trial1_1616-1655.json', '../../trace_data/theft_protection/single_thread/version_3/faulty_data/diag_subseq/trace_trial2_2055-2103.json', '../../trace_data/theft_protection/single_thread/version_3/faulty_data/diag_subseq/trace_trial2_116-203.json', '../../trace_data/theft_protection/single_thread/version_3/faulty_data/diag_subseq/trace_trial2_625-716.json', '../../trace_data/theft_protection/single_thread/version_3/faulty_data/diag_subseq/trace_trial1_952-991.json', '../../trace_data/theft_protection/single_thread/version_3/faulty_data/diag_subseq/trace_trial1_190-229.json']\n",
      "34\n",
      "test_labels:\n",
      " ['../../trace_data/theft_protection/single_thread/version_3/faulty_data/diag_subseq/subseq_labels/subseq_class.json']\n"
     ]
    }
   ],
   "source": [
    "# ############ configuration - trace ################\n",
    "# ############################################\n",
    "\n",
    "\n",
    "CODE = 'theft_protection'       ### application (code)       ###  'theft_protection', 'mamba2', 'lora_ducy'\n",
    "BEHAVIOUR_FAULTY = 'faulty_data'            ### normal, faulty_data\n",
    "BEHAVIOUR_NORMAL = 'normal'            ### normal, faulty_data\n",
    "THREAD = 'single'           ### single, multi\n",
    "VER = 3                     ### format of data collection\n",
    "\n",
    "base_dir = '../../trace_data' ### can be replaced with 'csv', 'exe_plot', 'histogram'\n",
    "normalbase_path = base_dir+f'/{CODE}/{THREAD}_thread/version_{VER}/{BEHAVIOUR_NORMAL}'\n",
    "faultybase_path = base_dir+f'/{CODE}/{THREAD}_thread/version_{VER}/{BEHAVIOUR_FAULTY}'\n",
    "\n",
    "print(normalbase_path)\n",
    "print(faultybase_path)\n",
    "\n",
    "\n",
    "################# configuration - diag ################\n",
    "IS_VAR_WINDOW = False             ### True: varibale window size, False: fixed window size; wether to use variable window size or not\n",
    "\n",
    "#####################################################\n",
    "\n",
    "\n",
    "ref_samples_basepath = os.path.join(normalbase_path, 'diag_refsamples')\n",
    "ref_var_samples_basepath = os.path.join(normalbase_path, 'diag_var_refsamples')\n",
    "diag_subseq_basepath = os.path.join(faultybase_path, 'diag_subseq')\n",
    "subseq_label_basepath = os.path.join(diag_subseq_basepath, 'subseq_labels')\n",
    "\n",
    "\n",
    "print('ref_samples_path:\\n', ref_samples_basepath)\n",
    "print('ref_var_samples_path:\\n', ref_var_samples_basepath)\n",
    "print('diag_subseq_path:\\n', diag_subseq_basepath)\n",
    "\n",
    "######### get paths #######################\n",
    "ref_samples_path = [os.path.join(ref_samples_basepath, x) for x in os.listdir(ref_samples_basepath)]\n",
    "ref_var_samples_path = [os.path.join(ref_var_samples_basepath, x) for x in os.listdir(ref_var_samples_basepath)]   \n",
    "\n",
    "train_varlist_path = os.listdir(normalbase_path)\n",
    "train_varlist_path = [os.path.join(normalbase_path, x) for x in train_varlist_path if 'varlist' in x]\n",
    "\n",
    "######### get paths #######################\n",
    "paths_log, paths_traces, varlist_path, paths_label = get_paths(faultybase_path)\n",
    "\n",
    "test_subseq_path = [os.path.join(diag_subseq_basepath, x) for x in os.listdir(diag_subseq_basepath)]\n",
    "test_labels_path = [os.path.join(subseq_label_basepath, x) for x in os.listdir(subseq_label_basepath)]\n",
    "\n",
    "# ### remove.Ds_store from all lists\n",
    "train_varlist_path = [x for x in train_varlist_path if '.DS_Store' not in x]\n",
    "varlist_path = [x for x in varlist_path if '.DS_Store' not in x]\n",
    "paths_label = [x for x in paths_label if '.DS_Store' not in x]\n",
    "ref_samples_path = [x for x in ref_samples_path if '.DS_Store' not in x]\n",
    "ref_var_samples_path = [x for x in ref_var_samples_path if '.DS_Store' not in x]\n",
    "test_subseq_path = [x for x in test_subseq_path if '.DS_Store' not in x if '.json' in x]\n",
    "test_labels_path = [x for x in test_labels_path if '.DS_Store' not in x]\n",
    "\n",
    "\n",
    "varlist_path.sort()\n",
    "\n",
    "# print(paths_log)\n",
    "# print(paths_traces)\n",
    "# print(varlist_path)\n",
    "# print(paths_label)\n",
    "\n",
    "if IS_VAR_WINDOW:\n",
    "    train_data_path = ref_var_samples_path\n",
    "else:\n",
    "    train_data_path = ref_samples_path\n",
    "\n",
    "test_data_path = test_subseq_path\n",
    "\n",
    "print('train_data:\\n', train_data_path)\n",
    "print(len(train_data_path))\n",
    "print('test_data:\\n', test_data_path)\n",
    "print(len(test_data_path))\n",
    "print('test_labels:\\n', test_labels_path)\n",
    "\n"
   ]
  },
  {
   "cell_type": "code",
   "execution_count": 3,
   "metadata": {},
   "outputs": [
    {
     "name": "stdout",
     "output_type": "stream",
     "text": [
      "varlist 1 is consistent with varlist 0\n",
      "varlist 2 is consistent with varlist 0\n",
      "varlist 3 is consistent with varlist 0\n"
     ]
    }
   ],
   "source": [
    "############# check varlist is consistent ############\n",
    "############# only for version 3 ######################\n",
    "\n",
    "if VER == 3 or VER == 4:\n",
    "    check_con, _ = is_consistent([train_varlist_path[0]]+ varlist_path) ### compare with train varlist\n",
    "\n",
    "    if check_con != False:\n",
    "        to_number = read_json(varlist_path[0])\n",
    "        from_number = mapint2var(to_number)\n",
    "    else:\n",
    "        ### load normal varlist\n",
    "        print('loading normal varlist')\n",
    "        to_number = read_json(train_varlist_path[0])\n",
    "        from_number = mapint2var(to_number)\n",
    "\n"
   ]
  },
  {
   "cell_type": "code",
   "execution_count": 4,
   "metadata": {},
   "outputs": [],
   "source": [
    "to_number = read_json(train_varlist_path[0])\n",
    "from_number = mapint2var(to_number)"
   ]
  },
  {
   "cell_type": "code",
   "execution_count": 5,
   "metadata": {},
   "outputs": [],
   "source": [
    "# #### key finder ####\n",
    "# from_number[44]"
   ]
  },
  {
   "cell_type": "code",
   "execution_count": 6,
   "metadata": {},
   "outputs": [],
   "source": [
    "############ Get variable list ######################\n",
    "sorted_keys = list(from_number.keys())\n",
    "sorted_keys.sort()\n",
    "var_list = [from_number[key] for key in sorted_keys]   ### get the variable list\n",
    "# print(var_list)"
   ]
  },
  {
   "cell_type": "markdown",
   "metadata": {},
   "source": [
    "## Prepare Training Data"
   ]
  },
  {
   "cell_type": "code",
   "execution_count": 7,
   "metadata": {},
   "outputs": [],
   "source": [
    "### load all the reference samples (fixed window size)\n",
    "### the ref_samples: list of list of events, list of intervals for the subseq of size 500\n",
    "ref_samples = []\n",
    "for ref_sample_path in train_data_path:\n",
    "    ref_trace = read_traces(ref_sample_path)\n",
    "    ref_samples.append(ref_trace)\n",
    "    # print(ref_trace)\n",
    "    # break"
   ]
  },
  {
   "cell_type": "code",
   "execution_count": 8,
   "metadata": {},
   "outputs": [
    {
     "data": {
      "text/plain": [
       "(438, 2, 500)"
      ]
     },
     "execution_count": 8,
     "metadata": {},
     "output_type": "execute_result"
    }
   ],
   "source": [
    "np.array(ref_samples).shape"
   ]
  },
  {
   "cell_type": "code",
   "execution_count": 9,
   "metadata": {},
   "outputs": [],
   "source": [
    "### make subseq of 50 events, with sliding interval of 1\n",
    "WINDOW = 50\n",
    "\n",
    "def prepare_data(ref_trace, WINDOW):\n",
    "    ref_events = ref_trace[0]\n",
    "    ref_intervals = ref_trace[1]\n",
    "    # print(len(ref_events))\n",
    "    # print(len(ref_intervals))\n",
    "    ### we take one less event for training because we need last event as label\n",
    "\n",
    "    X_train_event = []\n",
    "    Y_train_event = []\n",
    "    for i in range(len(ref_events)-WINDOW): \n",
    "        # print(i)\n",
    "        # print(ref_events[i])\n",
    "        # sub_seq_events.append(ref_events[i:i+WINDOW])\n",
    "        # sub_seq_intervals.append(ref_intervals[i:i+WINDOW])\n",
    "\n",
    "        ### both events and intervals are taken as input\n",
    "        # _x_train = [ref_events[i:i+WINDOW], ref_intervals[i:i+WINDOW]]\n",
    "        # _x_train = np.array(_x_train)\n",
    "        # _x_train = np.transpose(_x_train)\n",
    "        # _y_train = np.array([ref_events[i+WINDOW], ref_intervals[i+WINDOW]])\n",
    "\n",
    "        ### only events are taken as input\n",
    "        _x_train_event = [ref_events[i:i+WINDOW]]\n",
    "        _y_train_event = [ref_events[i+WINDOW]]\n",
    "        # _y_train_event = [ref_events[i+WINDOW], ref_intervals[i+WINDOW]]\n",
    "\n",
    "        X_train_event.append(_x_train_event)\n",
    "        Y_train_event.append(_y_train_event)\n",
    "\n",
    "    return [X_train_event, Y_train_event]\n",
    "\n",
    "\n",
    "results = pool.starmap(prepare_data, zip(ref_samples[0:], repeat(WINDOW)))\n",
    "# print(results)\n",
    "\n",
    "# sub_seq_events = []\n",
    "# sub_seq_intervals = []\n",
    "X_train_event = []\n",
    "Y_train_event = []\n",
    "# X_train_interval = []\n",
    "# Y_train_interval = []\n",
    "for result in results:\n",
    "    # print(len(result))\n",
    "    # print(len(result[0]))\n",
    "    # print(result[1])\n",
    "\n",
    "    # for events_list in result[0]:\n",
    "    #     X_train_event.append(events_list[0])\n",
    "\n",
    "    # for events_list in result[1]:\n",
    "    #     Y_train_event.append(events_list[0])\n",
    "\n",
    "    X_train_event.extend(result[0])\n",
    "    Y_train_event.extend(result[1])\n",
    "    # break\n",
    "        "
   ]
  },
  {
   "cell_type": "code",
   "execution_count": null,
   "metadata": {},
   "outputs": [],
   "source": [
    "# ### make subseq of 50 events, with sliding interval of 1\n",
    "# WINDOW = 50\n",
    "\n",
    "# sub_seq_events = []\n",
    "# sub_seq_intervals = []\n",
    "# X_train_event = []\n",
    "# Y_train_event = []\n",
    "# X_train_interval = []\n",
    "# Y_train_interval = []\n",
    "# for ref_trace in ref_samples[:100]:\n",
    "#     # print(ref_trace)\n",
    "#     ref_events = ref_trace[0]\n",
    "#     ref_intervals = ref_trace[1]\n",
    "#     # print(len(ref_events))\n",
    "#     # print(len(ref_intervals))\n",
    "#     ### we take one less event for training because we need last event as label\n",
    "\n",
    "\n",
    "#     for i in range(len(ref_events)-WINDOW): \n",
    "#         # print(i)\n",
    "#         # print(ref_events[i])\n",
    "#         # sub_seq_events.append(ref_events[i:i+WINDOW])\n",
    "#         # sub_seq_intervals.append(ref_intervals[i:i+WINDOW])\n",
    "\n",
    "#         ### both events and intervals are taken as input\n",
    "#         # _x_train = [ref_events[i:i+WINDOW], ref_intervals[i:i+WINDOW]]\n",
    "#         # _x_train = np.array(_x_train)\n",
    "#         # _x_train = np.transpose(_x_train)\n",
    "#         # _y_train = np.array([ref_events[i+WINDOW], ref_intervals[i+WINDOW]])\n",
    "\n",
    "#         ### only events are taken as input\n",
    "#         _x_train_event = [ref_events[i:i+WINDOW]]\n",
    "#         _y_train_event = [ref_events[i+WINDOW]]\n",
    "#         # _y_train_event = [ref_events[i+WINDOW], ref_intervals[i+WINDOW]]\n",
    "\n",
    "#         X_train_event.append(_x_train_event)\n",
    "#         Y_train_event.append(_y_train_event)\n",
    "\n",
    "\n",
    "#         # ### only intervals are taken as input\n",
    "#         # _x_train_interval = [ref_intervals[i:i+WINDOW]]\n",
    "#         # _y_train_interval = [ref_intervals[i+WINDOW]]\n",
    "#         # X_train_interval.append(_x_train_interval)\n",
    "#         # Y_train_interval.append(_y_train_interval)\n",
    "        \n",
    "\n",
    "\n",
    "#     # break"
   ]
  },
  {
   "cell_type": "code",
   "execution_count": 10,
   "metadata": {},
   "outputs": [
    {
     "name": "stdout",
     "output_type": "stream",
     "text": [
      "(197100, 1, 50)\n"
     ]
    }
   ],
   "source": [
    "print(np.array(X_train_event).shape)\n",
    "# print(np.array(Y_train_event).shape)\n",
    "# print(np.array(X_train_interval).shape)\n",
    "# print(np.array(Y_train_interval).shape)"
   ]
  },
  {
   "cell_type": "code",
   "execution_count": 11,
   "metadata": {},
   "outputs": [
    {
     "name": "stdout",
     "output_type": "stream",
     "text": [
      "(157680, 50, 1)\n",
      "(157680, 1, 1)\n",
      "(39420, 50, 1)\n",
      "(39420, 1, 1)\n"
     ]
    }
   ],
   "source": [
    "### preprocess training data\n",
    "X_train_event = np.array(X_train_event)\n",
    "Y_train_event = np.array(Y_train_event)\n",
    "\n",
    "X_train_event = X_train_event.reshape(X_train_event.shape[0], X_train_event.shape[2], X_train_event.shape[1])\n",
    "Y_train_event = Y_train_event.reshape(Y_train_event.shape[0], Y_train_event.shape[1], 1)\n",
    "\n",
    "### shuffle the data\n",
    "X_train_event, Y_train_event = shuffle(X_train_event, Y_train_event, random_state=0)\n",
    "\n",
    "### split the data in train, validation and test sets\n",
    "X_train_event, x_test_event, Y_train_event, y_test_event = train_test_split(X_train_event, Y_train_event, test_size=0.2, random_state=0)\n",
    "# X_val, X_test, Y_val, Y_test = train_test_split(X_val, Y_val, test_size=0.5, random_state=0)\n",
    "\n",
    "print(X_train_event.shape)\n",
    "print(Y_train_event.shape)\n",
    "\n",
    "print(x_test_event.shape)\n",
    "print(y_test_event.shape)\n",
    "\n",
    "# ### preprocess training data\n",
    "# X_train_interval = np.array(X_train_interval)\n",
    "# Y_train_interval = np.array(Y_train_interval)\n",
    "\n",
    "# X_train_interval = X_train_interval.reshape(X_train_interval.shape[0], X_train_interval.shape[2], X_train_interval.shape[1])\n",
    "# Y_train_interval = Y_train_interval.reshape(Y_train_interval.shape[0], Y_train_interval.shape[1], 1)\n",
    "\n",
    "# ### shuffle the data\n",
    "# X_train_interval, Y_train_interval = shuffle(X_train_interval, Y_train_interval, random_state=0)\n",
    "\n",
    "# ### split the data in train, validation and test sets\n",
    "# X_train_interval, x_test_interval, Y_train_interval, y_test_interval = train_test_split(X_train_interval, Y_train_interval, test_size=0.2, random_state=0)\n",
    "\n",
    "# print(X_train_interval.shape)\n",
    "# print(Y_train_interval.shape)\n",
    "\n",
    "# print(x_test_interval.shape)\n",
    "# print(y_test_interval.shape)\n",
    "\n",
    "\n"
   ]
  },
  {
   "cell_type": "code",
   "execution_count": 12,
   "metadata": {},
   "outputs": [
    {
     "data": {
      "text/plain": [
       "(157680, 50, 1)"
      ]
     },
     "execution_count": 12,
     "metadata": {},
     "output_type": "execute_result"
    }
   ],
   "source": [
    "X_train_event.reshape(X_train_event.shape[0], -1).reshape(X_train_event.shape).shape"
   ]
  },
  {
   "cell_type": "code",
   "execution_count": 13,
   "metadata": {},
   "outputs": [
    {
     "name": "stdout",
     "output_type": "stream",
     "text": [
      "scaler loaded\n",
      "[[ 7]\n",
      " [ 8]\n",
      " [ 9]\n",
      " [ 6]\n",
      " [ 7]\n",
      " [ 8]\n",
      " [ 9]\n",
      " [10]\n",
      " [11]\n",
      " [12]\n",
      " [ 6]\n",
      " [ 7]\n",
      " [ 8]\n",
      " [ 9]\n",
      " [13]\n",
      " [14]\n",
      " [15]\n",
      " [ 6]\n",
      " [ 7]\n",
      " [ 8]\n",
      " [ 9]\n",
      " [ 6]\n",
      " [ 7]\n",
      " [ 8]\n",
      " [ 9]\n",
      " [ 6]\n",
      " [ 7]\n",
      " [ 8]\n",
      " [ 9]\n",
      " [ 6]\n",
      " [ 7]\n",
      " [ 8]\n",
      " [ 9]\n",
      " [10]\n",
      " [11]\n",
      " [12]\n",
      " [ 6]\n",
      " [ 7]\n",
      " [ 8]\n",
      " [ 9]\n",
      " [13]\n",
      " [14]\n",
      " [15]\n",
      " [ 6]\n",
      " [ 7]\n",
      " [ 8]\n",
      " [ 9]\n",
      " [ 6]\n",
      " [ 7]\n",
      " [ 8]]\n",
      "[[0.11111111]\n",
      " [0.22222222]\n",
      " [0.33333333]\n",
      " [0.        ]\n",
      " [0.11111111]\n",
      " [0.22222222]\n",
      " [0.33333333]\n",
      " [0.44444444]\n",
      " [0.55555556]\n",
      " [0.66666667]\n",
      " [0.        ]\n",
      " [0.11111111]\n",
      " [0.22222222]\n",
      " [0.33333333]\n",
      " [0.77777778]\n",
      " [0.88888889]\n",
      " [1.        ]\n",
      " [0.        ]\n",
      " [0.11111111]\n",
      " [0.22222222]\n",
      " [0.33333333]\n",
      " [0.        ]\n",
      " [0.11111111]\n",
      " [0.22222222]\n",
      " [0.33333333]\n",
      " [0.        ]\n",
      " [0.11111111]\n",
      " [0.22222222]\n",
      " [0.33333333]\n",
      " [0.        ]\n",
      " [0.11111111]\n",
      " [0.22222222]\n",
      " [0.33333333]\n",
      " [0.44444444]\n",
      " [0.55555556]\n",
      " [0.66666667]\n",
      " [0.        ]\n",
      " [0.11111111]\n",
      " [0.22222222]\n",
      " [0.33333333]\n",
      " [0.77777778]\n",
      " [0.88888889]\n",
      " [1.        ]\n",
      " [0.        ]\n",
      " [0.11111111]\n",
      " [0.22222222]\n",
      " [0.33333333]\n",
      " [0.        ]\n",
      " [0.11111111]\n",
      " [0.22222222]]\n"
     ]
    }
   ],
   "source": [
    "### normalize data\n",
    "from sklearn.preprocessing import MinMaxScaler\n",
    "import joblib\n",
    "\n",
    "### check if scaler exists\n",
    "if os.path.exists(f\"./scalers/minmaxscaler_{CODE}.gz\"):\n",
    "    scaler = joblib.load(f\"./scalers/minmaxscaler_{CODE}.gz\")\n",
    "    print('scaler loaded')\n",
    "\n",
    "    print(X_train_event[0])\n",
    "    X_train_event = scaler.transform(X_train_event.reshape(X_train_event.shape[0], -1)).reshape(X_train_event.shape)\n",
    "    x_test_event = scaler.transform(x_test_event.reshape(x_test_event.shape[0], -1)).reshape(x_test_event.shape)\n",
    "    print(X_train_event[0])\n",
    "else:\n",
    "    scaler = MinMaxScaler()\n",
    "\n",
    "    print(X_train_event[0])\n",
    "    X_train_event = scaler.fit_transform(X_train_event.reshape(X_train_event.shape[0], -1)).reshape(X_train_event.shape)\n",
    "    x_test_event = scaler.transform(x_test_event.reshape(x_test_event.shape[0], -1)).reshape(x_test_event.shape)\n",
    "    print(X_train_event[0])\n",
    "\n",
    "    # print(X_train_event.shape)\n",
    "    # print(x_test_event.shape)\n",
    "\n",
    "    scaler_filename = f\"./scalers/minmaxscaler_{CODE}.gz\"\n",
    "    joblib.dump(scaler, scaler_filename) \n",
    "    print('scaler saved')\n"
   ]
  },
  {
   "cell_type": "code",
   "execution_count": 16,
   "metadata": {},
   "outputs": [
    {
     "data": {
      "text/plain": [
       "array([[57]])"
      ]
     },
     "execution_count": 16,
     "metadata": {},
     "output_type": "execute_result"
    }
   ],
   "source": [
    "y_test_event[0]"
   ]
  },
  {
   "cell_type": "code",
   "execution_count": null,
   "metadata": {},
   "outputs": [],
   "source": []
  },
  {
   "cell_type": "code",
   "execution_count": null,
   "metadata": {},
   "outputs": [],
   "source": []
  },
  {
   "cell_type": "markdown",
   "metadata": {},
   "source": [
    "## Build and Train DL Models"
   ]
  },
  {
   "cell_type": "code",
   "execution_count": 14,
   "metadata": {},
   "outputs": [
    {
     "name": "stdout",
     "output_type": "stream",
     "text": [
      "fine tuning model\n"
     ]
    },
    {
     "data": {
      "text/html": [
       "<pre style=\"white-space:pre;overflow-x:auto;line-height:normal;font-family:Menlo,'DejaVu Sans Mono',consolas,'Courier New',monospace\"><span style=\"font-weight: bold\">Model: \"forecaster\"</span>\n",
       "</pre>\n"
      ],
      "text/plain": [
       "\u001b[1mModel: \"forecaster\"\u001b[0m\n"
      ]
     },
     "metadata": {},
     "output_type": "display_data"
    },
    {
     "data": {
      "text/html": [
       "<pre style=\"white-space:pre;overflow-x:auto;line-height:normal;font-family:Menlo,'DejaVu Sans Mono',consolas,'Courier New',monospace\">┏━━━━━━━━━━━━━━━━━━━━━━━━━━━━━━━━━┳━━━━━━━━━━━━━━━━━━━━━━━━┳━━━━━━━━━━━━━━━┓\n",
       "┃<span style=\"font-weight: bold\"> Layer (type)                    </span>┃<span style=\"font-weight: bold\"> Output Shape           </span>┃<span style=\"font-weight: bold\">       Param # </span>┃\n",
       "┡━━━━━━━━━━━━━━━━━━━━━━━━━━━━━━━━━╇━━━━━━━━━━━━━━━━━━━━━━━━╇━━━━━━━━━━━━━━━┩\n",
       "│ input_layer (<span style=\"color: #0087ff; text-decoration-color: #0087ff\">InputLayer</span>)        │ (<span style=\"color: #00d7ff; text-decoration-color: #00d7ff\">None</span>, <span style=\"color: #00af00; text-decoration-color: #00af00\">50</span>, <span style=\"color: #00af00; text-decoration-color: #00af00\">1</span>)          │             <span style=\"color: #00af00; text-decoration-color: #00af00\">0</span> │\n",
       "├─────────────────────────────────┼────────────────────────┼───────────────┤\n",
       "│ zero_padding1d (<span style=\"color: #0087ff; text-decoration-color: #0087ff\">ZeroPadding1D</span>)  │ (<span style=\"color: #00d7ff; text-decoration-color: #00d7ff\">None</span>, <span style=\"color: #00af00; text-decoration-color: #00af00\">52</span>, <span style=\"color: #00af00; text-decoration-color: #00af00\">1</span>)          │             <span style=\"color: #00af00; text-decoration-color: #00af00\">0</span> │\n",
       "├─────────────────────────────────┼────────────────────────┼───────────────┤\n",
       "│ conv1d (<span style=\"color: #0087ff; text-decoration-color: #0087ff\">Conv1D</span>)                 │ (<span style=\"color: #00d7ff; text-decoration-color: #00d7ff\">None</span>, <span style=\"color: #00af00; text-decoration-color: #00af00\">7</span>, <span style=\"color: #00af00; text-decoration-color: #00af00\">48</span>)          │           <span style=\"color: #00af00; text-decoration-color: #00af00\">768</span> │\n",
       "├─────────────────────────────────┼────────────────────────┼───────────────┤\n",
       "│ max_pooling1d (<span style=\"color: #0087ff; text-decoration-color: #0087ff\">MaxPooling1D</span>)    │ (<span style=\"color: #00d7ff; text-decoration-color: #00d7ff\">None</span>, <span style=\"color: #00af00; text-decoration-color: #00af00\">6</span>, <span style=\"color: #00af00; text-decoration-color: #00af00\">48</span>)          │             <span style=\"color: #00af00; text-decoration-color: #00af00\">0</span> │\n",
       "├─────────────────────────────────┼────────────────────────┼───────────────┤\n",
       "│ zero_padding1d_1                │ (<span style=\"color: #00d7ff; text-decoration-color: #00d7ff\">None</span>, <span style=\"color: #00af00; text-decoration-color: #00af00\">12</span>, <span style=\"color: #00af00; text-decoration-color: #00af00\">48</span>)         │             <span style=\"color: #00af00; text-decoration-color: #00af00\">0</span> │\n",
       "│ (<span style=\"color: #0087ff; text-decoration-color: #0087ff\">ZeroPadding1D</span>)                 │                        │               │\n",
       "├─────────────────────────────────┼────────────────────────┼───────────────┤\n",
       "│ conv1d_1 (<span style=\"color: #0087ff; text-decoration-color: #0087ff\">Conv1D</span>)               │ (<span style=\"color: #00d7ff; text-decoration-color: #00d7ff\">None</span>, <span style=\"color: #00af00; text-decoration-color: #00af00\">3</span>, <span style=\"color: #00af00; text-decoration-color: #00af00\">256</span>)         │        <span style=\"color: #00af00; text-decoration-color: #00af00\">86,272</span> │\n",
       "├─────────────────────────────────┼────────────────────────┼───────────────┤\n",
       "│ max_pooling1d_1 (<span style=\"color: #0087ff; text-decoration-color: #0087ff\">MaxPooling1D</span>)  │ (<span style=\"color: #00d7ff; text-decoration-color: #00d7ff\">None</span>, <span style=\"color: #00af00; text-decoration-color: #00af00\">2</span>, <span style=\"color: #00af00; text-decoration-color: #00af00\">256</span>)         │             <span style=\"color: #00af00; text-decoration-color: #00af00\">0</span> │\n",
       "├─────────────────────────────────┼────────────────────────┼───────────────┤\n",
       "│ lstm (<span style=\"color: #0087ff; text-decoration-color: #0087ff\">LSTM</span>)                     │ (<span style=\"color: #00d7ff; text-decoration-color: #00d7ff\">None</span>, <span style=\"color: #00af00; text-decoration-color: #00af00\">20</span>)             │        <span style=\"color: #00af00; text-decoration-color: #00af00\">22,160</span> │\n",
       "├─────────────────────────────────┼────────────────────────┼───────────────┤\n",
       "│ flatten (<span style=\"color: #0087ff; text-decoration-color: #0087ff\">Flatten</span>)               │ (<span style=\"color: #00d7ff; text-decoration-color: #00d7ff\">None</span>, <span style=\"color: #00af00; text-decoration-color: #00af00\">20</span>)             │             <span style=\"color: #00af00; text-decoration-color: #00af00\">0</span> │\n",
       "├─────────────────────────────────┼────────────────────────┼───────────────┤\n",
       "│ dense (<span style=\"color: #0087ff; text-decoration-color: #0087ff\">Dense</span>)                   │ (<span style=\"color: #00d7ff; text-decoration-color: #00d7ff\">None</span>, <span style=\"color: #00af00; text-decoration-color: #00af00\">50</span>)             │         <span style=\"color: #00af00; text-decoration-color: #00af00\">1,050</span> │\n",
       "├─────────────────────────────────┼────────────────────────┼───────────────┤\n",
       "│ dense_1 (<span style=\"color: #0087ff; text-decoration-color: #0087ff\">Dense</span>)                 │ (<span style=\"color: #00d7ff; text-decoration-color: #00d7ff\">None</span>, <span style=\"color: #00af00; text-decoration-color: #00af00\">1</span>)              │            <span style=\"color: #00af00; text-decoration-color: #00af00\">51</span> │\n",
       "├─────────────────────────────────┼────────────────────────┼───────────────┤\n",
       "│ reshape (<span style=\"color: #0087ff; text-decoration-color: #0087ff\">Reshape</span>)               │ (<span style=\"color: #00d7ff; text-decoration-color: #00d7ff\">None</span>, <span style=\"color: #00af00; text-decoration-color: #00af00\">1</span>, <span style=\"color: #00af00; text-decoration-color: #00af00\">1</span>)           │             <span style=\"color: #00af00; text-decoration-color: #00af00\">0</span> │\n",
       "└─────────────────────────────────┴────────────────────────┴───────────────┘\n",
       "</pre>\n"
      ],
      "text/plain": [
       "┏━━━━━━━━━━━━━━━━━━━━━━━━━━━━━━━━━┳━━━━━━━━━━━━━━━━━━━━━━━━┳━━━━━━━━━━━━━━━┓\n",
       "┃\u001b[1m \u001b[0m\u001b[1mLayer (type)                   \u001b[0m\u001b[1m \u001b[0m┃\u001b[1m \u001b[0m\u001b[1mOutput Shape          \u001b[0m\u001b[1m \u001b[0m┃\u001b[1m \u001b[0m\u001b[1m      Param #\u001b[0m\u001b[1m \u001b[0m┃\n",
       "┡━━━━━━━━━━━━━━━━━━━━━━━━━━━━━━━━━╇━━━━━━━━━━━━━━━━━━━━━━━━╇━━━━━━━━━━━━━━━┩\n",
       "│ input_layer (\u001b[38;5;33mInputLayer\u001b[0m)        │ (\u001b[38;5;45mNone\u001b[0m, \u001b[38;5;34m50\u001b[0m, \u001b[38;5;34m1\u001b[0m)          │             \u001b[38;5;34m0\u001b[0m │\n",
       "├─────────────────────────────────┼────────────────────────┼───────────────┤\n",
       "│ zero_padding1d (\u001b[38;5;33mZeroPadding1D\u001b[0m)  │ (\u001b[38;5;45mNone\u001b[0m, \u001b[38;5;34m52\u001b[0m, \u001b[38;5;34m1\u001b[0m)          │             \u001b[38;5;34m0\u001b[0m │\n",
       "├─────────────────────────────────┼────────────────────────┼───────────────┤\n",
       "│ conv1d (\u001b[38;5;33mConv1D\u001b[0m)                 │ (\u001b[38;5;45mNone\u001b[0m, \u001b[38;5;34m7\u001b[0m, \u001b[38;5;34m48\u001b[0m)          │           \u001b[38;5;34m768\u001b[0m │\n",
       "├─────────────────────────────────┼────────────────────────┼───────────────┤\n",
       "│ max_pooling1d (\u001b[38;5;33mMaxPooling1D\u001b[0m)    │ (\u001b[38;5;45mNone\u001b[0m, \u001b[38;5;34m6\u001b[0m, \u001b[38;5;34m48\u001b[0m)          │             \u001b[38;5;34m0\u001b[0m │\n",
       "├─────────────────────────────────┼────────────────────────┼───────────────┤\n",
       "│ zero_padding1d_1                │ (\u001b[38;5;45mNone\u001b[0m, \u001b[38;5;34m12\u001b[0m, \u001b[38;5;34m48\u001b[0m)         │             \u001b[38;5;34m0\u001b[0m │\n",
       "│ (\u001b[38;5;33mZeroPadding1D\u001b[0m)                 │                        │               │\n",
       "├─────────────────────────────────┼────────────────────────┼───────────────┤\n",
       "│ conv1d_1 (\u001b[38;5;33mConv1D\u001b[0m)               │ (\u001b[38;5;45mNone\u001b[0m, \u001b[38;5;34m3\u001b[0m, \u001b[38;5;34m256\u001b[0m)         │        \u001b[38;5;34m86,272\u001b[0m │\n",
       "├─────────────────────────────────┼────────────────────────┼───────────────┤\n",
       "│ max_pooling1d_1 (\u001b[38;5;33mMaxPooling1D\u001b[0m)  │ (\u001b[38;5;45mNone\u001b[0m, \u001b[38;5;34m2\u001b[0m, \u001b[38;5;34m256\u001b[0m)         │             \u001b[38;5;34m0\u001b[0m │\n",
       "├─────────────────────────────────┼────────────────────────┼───────────────┤\n",
       "│ lstm (\u001b[38;5;33mLSTM\u001b[0m)                     │ (\u001b[38;5;45mNone\u001b[0m, \u001b[38;5;34m20\u001b[0m)             │        \u001b[38;5;34m22,160\u001b[0m │\n",
       "├─────────────────────────────────┼────────────────────────┼───────────────┤\n",
       "│ flatten (\u001b[38;5;33mFlatten\u001b[0m)               │ (\u001b[38;5;45mNone\u001b[0m, \u001b[38;5;34m20\u001b[0m)             │             \u001b[38;5;34m0\u001b[0m │\n",
       "├─────────────────────────────────┼────────────────────────┼───────────────┤\n",
       "│ dense (\u001b[38;5;33mDense\u001b[0m)                   │ (\u001b[38;5;45mNone\u001b[0m, \u001b[38;5;34m50\u001b[0m)             │         \u001b[38;5;34m1,050\u001b[0m │\n",
       "├─────────────────────────────────┼────────────────────────┼───────────────┤\n",
       "│ dense_1 (\u001b[38;5;33mDense\u001b[0m)                 │ (\u001b[38;5;45mNone\u001b[0m, \u001b[38;5;34m1\u001b[0m)              │            \u001b[38;5;34m51\u001b[0m │\n",
       "├─────────────────────────────────┼────────────────────────┼───────────────┤\n",
       "│ reshape (\u001b[38;5;33mReshape\u001b[0m)               │ (\u001b[38;5;45mNone\u001b[0m, \u001b[38;5;34m1\u001b[0m, \u001b[38;5;34m1\u001b[0m)           │             \u001b[38;5;34m0\u001b[0m │\n",
       "└─────────────────────────────────┴────────────────────────┴───────────────┘\n"
      ]
     },
     "metadata": {},
     "output_type": "display_data"
    },
    {
     "data": {
      "text/html": [
       "<pre style=\"white-space:pre;overflow-x:auto;line-height:normal;font-family:Menlo,'DejaVu Sans Mono',consolas,'Courier New',monospace\"><span style=\"font-weight: bold\"> Total params: </span><span style=\"color: #00af00; text-decoration-color: #00af00\">330,905</span> (1.26 MB)\n",
       "</pre>\n"
      ],
      "text/plain": [
       "\u001b[1m Total params: \u001b[0m\u001b[38;5;34m330,905\u001b[0m (1.26 MB)\n"
      ]
     },
     "metadata": {},
     "output_type": "display_data"
    },
    {
     "data": {
      "text/html": [
       "<pre style=\"white-space:pre;overflow-x:auto;line-height:normal;font-family:Menlo,'DejaVu Sans Mono',consolas,'Courier New',monospace\"><span style=\"font-weight: bold\"> Trainable params: </span><span style=\"color: #00af00; text-decoration-color: #00af00\">110,301</span> (430.86 KB)\n",
       "</pre>\n"
      ],
      "text/plain": [
       "\u001b[1m Trainable params: \u001b[0m\u001b[38;5;34m110,301\u001b[0m (430.86 KB)\n"
      ]
     },
     "metadata": {},
     "output_type": "display_data"
    },
    {
     "data": {
      "text/html": [
       "<pre style=\"white-space:pre;overflow-x:auto;line-height:normal;font-family:Menlo,'DejaVu Sans Mono',consolas,'Courier New',monospace\"><span style=\"font-weight: bold\"> Non-trainable params: </span><span style=\"color: #00af00; text-decoration-color: #00af00\">0</span> (0.00 B)\n",
       "</pre>\n"
      ],
      "text/plain": [
       "\u001b[1m Non-trainable params: \u001b[0m\u001b[38;5;34m0\u001b[0m (0.00 B)\n"
      ]
     },
     "metadata": {},
     "output_type": "display_data"
    },
    {
     "data": {
      "text/html": [
       "<pre style=\"white-space:pre;overflow-x:auto;line-height:normal;font-family:Menlo,'DejaVu Sans Mono',consolas,'Courier New',monospace\"><span style=\"font-weight: bold\"> Optimizer params: </span><span style=\"color: #00af00; text-decoration-color: #00af00\">220,604</span> (861.74 KB)\n",
       "</pre>\n"
      ],
      "text/plain": [
       "\u001b[1m Optimizer params: \u001b[0m\u001b[38;5;34m220,604\u001b[0m (861.74 KB)\n"
      ]
     },
     "metadata": {},
     "output_type": "display_data"
    }
   ],
   "source": [
    "import tensorflow as tf\n",
    "import TSFEDL.models_keras as tsfedl\n",
    "\n",
    "FINE_TUNE = True\n",
    "\n",
    "if not FINE_TUNE:\n",
    "    print('training new model')\n",
    "    #### build model ####\n",
    "    input = tf.keras.Input(shape=(50,1))\n",
    "    model = tsfedl.HuangMeiLing(input_tensor=input, include_top=False)\n",
    "    x = model.output\n",
    "    x = tf.keras.layers.LSTM(units=20)(x)\n",
    "    ### Add the top module\n",
    "    x = tf.keras.layers.Flatten()(x)\n",
    "    x = tf.keras.layers.Dense(50)(x)\n",
    "    # x = tf.keras.layers.Dense(10)(x)\n",
    "    x = tf.keras.layers.Dense(1)(x)\n",
    "    out = tf.keras.layers.Reshape([1, 1])(x)\n",
    "\n",
    "    ### create new model\n",
    "    forecaster_event = tf.keras.Model(inputs=input, outputs=out, name=\"forecaster\")\n",
    "    # forecaster_interval = tf.keras.Model(inputs=input, outputs=out, name=\"forecaster\")\n",
    "\n",
    "    # print(model.summary())\n",
    "    print(forecaster_event.summary())\n",
    "\n",
    "else:\n",
    "    print('fine tuning model')\n",
    "    ### load the model\n",
    "    model = tf.keras.models.load_model('./trained_models/forecaster_events_minmax_mamba2.keras')\n",
    "    model.summary()\n",
    "\n"
   ]
  },
  {
   "cell_type": "code",
   "execution_count": 15,
   "metadata": {},
   "outputs": [
    {
     "name": "stdout",
     "output_type": "stream",
     "text": [
      "Epoch 1/50\n",
      "\u001b[1m986/986\u001b[0m \u001b[32m━━━━━━━━━━━━━━━━━━━━\u001b[0m\u001b[37m\u001b[0m \u001b[1m6s\u001b[0m 5ms/step - loss: 26.5549 - mae: 26.5549 - mse: 996.3474 - val_loss: 8.0262 - val_mae: 8.0262 - val_mse: 100.9496\n",
      "Epoch 2/50\n",
      "\u001b[1m986/986\u001b[0m \u001b[32m━━━━━━━━━━━━━━━━━━━━\u001b[0m\u001b[37m\u001b[0m \u001b[1m5s\u001b[0m 5ms/step - loss: 6.7025 - mae: 6.7025 - mse: 77.3401 - val_loss: 3.9362 - val_mae: 3.9362 - val_mse: 39.4559\n",
      "Epoch 3/50\n",
      "\u001b[1m986/986\u001b[0m \u001b[32m━━━━━━━━━━━━━━━━━━━━\u001b[0m\u001b[37m\u001b[0m \u001b[1m5s\u001b[0m 5ms/step - loss: 3.5639 - mae: 3.5639 - mse: 35.1384 - val_loss: 2.1984 - val_mae: 2.1984 - val_mse: 21.9473\n",
      "Epoch 4/50\n",
      "\u001b[1m986/986\u001b[0m \u001b[32m━━━━━━━━━━━━━━━━━━━━\u001b[0m\u001b[37m\u001b[0m \u001b[1m5s\u001b[0m 5ms/step - loss: 2.0378 - mae: 2.0378 - mse: 20.3578 - val_loss: 1.7708 - val_mae: 1.7708 - val_mse: 17.3741\n",
      "Epoch 5/50\n",
      "\u001b[1m986/986\u001b[0m \u001b[32m━━━━━━━━━━━━━━━━━━━━\u001b[0m\u001b[37m\u001b[0m \u001b[1m5s\u001b[0m 5ms/step - loss: 1.6261 - mae: 1.6261 - mse: 16.0178 - val_loss: 1.4613 - val_mae: 1.4613 - val_mse: 14.2306\n",
      "Epoch 6/50\n",
      "\u001b[1m986/986\u001b[0m \u001b[32m━━━━━━━━━━━━━━━━━━━━\u001b[0m\u001b[37m\u001b[0m \u001b[1m5s\u001b[0m 5ms/step - loss: 1.3935 - mae: 1.3935 - mse: 13.3541 - val_loss: 1.2970 - val_mae: 1.2970 - val_mse: 11.8328\n",
      "Epoch 7/50\n",
      "\u001b[1m986/986\u001b[0m \u001b[32m━━━━━━━━━━━━━━━━━━━━\u001b[0m\u001b[37m\u001b[0m \u001b[1m5s\u001b[0m 5ms/step - loss: 1.2156 - mae: 1.2156 - mse: 10.9268 - val_loss: 1.0612 - val_mae: 1.0612 - val_mse: 8.4027\n",
      "Epoch 8/50\n",
      "\u001b[1m986/986\u001b[0m \u001b[32m━━━━━━━━━━━━━━━━━━━━\u001b[0m\u001b[37m\u001b[0m \u001b[1m4s\u001b[0m 4ms/step - loss: 1.0158 - mae: 1.0158 - mse: 7.8645 - val_loss: 0.9565 - val_mae: 0.9565 - val_mse: 6.9671\n",
      "Epoch 9/50\n",
      "\u001b[1m986/986\u001b[0m \u001b[32m━━━━━━━━━━━━━━━━━━━━\u001b[0m\u001b[37m\u001b[0m \u001b[1m5s\u001b[0m 5ms/step - loss: 0.9118 - mae: 0.9118 - mse: 6.4968 - val_loss: 0.8765 - val_mae: 0.8765 - val_mse: 5.8207\n",
      "Epoch 10/50\n",
      "\u001b[1m986/986\u001b[0m \u001b[32m━━━━━━━━━━━━━━━━━━━━\u001b[0m\u001b[37m\u001b[0m \u001b[1m5s\u001b[0m 5ms/step - loss: 0.8159 - mae: 0.8159 - mse: 5.1330 - val_loss: 0.7461 - val_mae: 0.7461 - val_mse: 3.8023\n",
      "Epoch 11/50\n",
      "\u001b[1m986/986\u001b[0m \u001b[32m━━━━━━━━━━━━━━━━━━━━\u001b[0m\u001b[37m\u001b[0m \u001b[1m4s\u001b[0m 4ms/step - loss: 0.5689 - mae: 0.5689 - mse: 2.5167 - val_loss: 0.4142 - val_mae: 0.4142 - val_mse: 1.4541\n",
      "Epoch 12/50\n",
      "\u001b[1m986/986\u001b[0m \u001b[32m━━━━━━━━━━━━━━━━━━━━\u001b[0m\u001b[37m\u001b[0m \u001b[1m4s\u001b[0m 4ms/step - loss: 0.3944 - mae: 0.3944 - mse: 1.3921 - val_loss: 0.3835 - val_mae: 0.3835 - val_mse: 1.3512\n",
      "Epoch 13/50\n",
      "\u001b[1m986/986\u001b[0m \u001b[32m━━━━━━━━━━━━━━━━━━━━\u001b[0m\u001b[37m\u001b[0m \u001b[1m5s\u001b[0m 5ms/step - loss: 0.3809 - mae: 0.3809 - mse: 1.3322 - val_loss: 0.3718 - val_mae: 0.3718 - val_mse: 1.2684\n",
      "Epoch 14/50\n",
      "\u001b[1m986/986\u001b[0m \u001b[32m━━━━━━━━━━━━━━━━━━━━\u001b[0m\u001b[37m\u001b[0m \u001b[1m5s\u001b[0m 5ms/step - loss: 0.3640 - mae: 0.3640 - mse: 1.2513 - val_loss: 0.3521 - val_mae: 0.3521 - val_mse: 1.1953\n",
      "Epoch 15/50\n",
      "\u001b[1m986/986\u001b[0m \u001b[32m━━━━━━━━━━━━━━━━━━━━\u001b[0m\u001b[37m\u001b[0m \u001b[1m5s\u001b[0m 5ms/step - loss: 0.3435 - mae: 0.3435 - mse: 1.1674 - val_loss: 0.3171 - val_mae: 0.3171 - val_mse: 1.1152\n",
      "Epoch 16/50\n",
      "\u001b[1m986/986\u001b[0m \u001b[32m━━━━━━━━━━━━━━━━━━━━\u001b[0m\u001b[37m\u001b[0m \u001b[1m4s\u001b[0m 4ms/step - loss: 0.3183 - mae: 0.3183 - mse: 1.1170 - val_loss: 0.3063 - val_mae: 0.3063 - val_mse: 1.0540\n",
      "Epoch 17/50\n",
      "\u001b[1m986/986\u001b[0m \u001b[32m━━━━━━━━━━━━━━━━━━━━\u001b[0m\u001b[37m\u001b[0m \u001b[1m5s\u001b[0m 5ms/step - loss: 0.2747 - mae: 0.2747 - mse: 0.8370 - val_loss: 0.2092 - val_mae: 0.2092 - val_mse: 0.5035\n",
      "Epoch 18/50\n",
      "\u001b[1m986/986\u001b[0m \u001b[32m━━━━━━━━━━━━━━━━━━━━\u001b[0m\u001b[37m\u001b[0m \u001b[1m5s\u001b[0m 5ms/step - loss: 0.2104 - mae: 0.2104 - mse: 0.4995 - val_loss: 0.1967 - val_mae: 0.1967 - val_mse: 0.4598\n",
      "Epoch 19/50\n",
      "\u001b[1m986/986\u001b[0m \u001b[32m━━━━━━━━━━━━━━━━━━━━\u001b[0m\u001b[37m\u001b[0m \u001b[1m4s\u001b[0m 4ms/step - loss: 0.1993 - mae: 0.1993 - mse: 0.4712 - val_loss: 0.1906 - val_mae: 0.1906 - val_mse: 0.4373\n",
      "Epoch 20/50\n",
      "\u001b[1m986/986\u001b[0m \u001b[32m━━━━━━━━━━━━━━━━━━━━\u001b[0m\u001b[37m\u001b[0m \u001b[1m5s\u001b[0m 5ms/step - loss: 0.1906 - mae: 0.1906 - mse: 0.4431 - val_loss: 0.1822 - val_mae: 0.1822 - val_mse: 0.4115\n",
      "Epoch 21/50\n",
      "\u001b[1m986/986\u001b[0m \u001b[32m━━━━━━━━━━━━━━━━━━━━\u001b[0m\u001b[37m\u001b[0m \u001b[1m5s\u001b[0m 5ms/step - loss: 0.1760 - mae: 0.1760 - mse: 0.3979 - val_loss: 0.1372 - val_mae: 0.1372 - val_mse: 0.3189\n",
      "Epoch 22/50\n",
      "\u001b[1m986/986\u001b[0m \u001b[32m━━━━━━━━━━━━━━━━━━━━\u001b[0m\u001b[37m\u001b[0m \u001b[1m5s\u001b[0m 5ms/step - loss: 0.1384 - mae: 0.1384 - mse: 0.3134 - val_loss: 0.1227 - val_mae: 0.1227 - val_mse: 0.2864\n",
      "Epoch 23/50\n",
      "\u001b[1m986/986\u001b[0m \u001b[32m━━━━━━━━━━━━━━━━━━━━\u001b[0m\u001b[37m\u001b[0m \u001b[1m5s\u001b[0m 5ms/step - loss: 0.1259 - mae: 0.1259 - mse: 0.2938 - val_loss: 0.1195 - val_mae: 0.1195 - val_mse: 0.2654\n",
      "Epoch 24/50\n",
      "\u001b[1m986/986\u001b[0m \u001b[32m━━━━━━━━━━━━━━━━━━━━\u001b[0m\u001b[37m\u001b[0m \u001b[1m4s\u001b[0m 5ms/step - loss: 0.1183 - mae: 0.1183 - mse: 0.2827 - val_loss: 0.1058 - val_mae: 0.1058 - val_mse: 0.2565\n",
      "Epoch 25/50\n",
      "\u001b[1m986/986\u001b[0m \u001b[32m━━━━━━━━━━━━━━━━━━━━\u001b[0m\u001b[37m\u001b[0m \u001b[1m4s\u001b[0m 5ms/step - loss: 0.1107 - mae: 0.1107 - mse: 0.2663 - val_loss: 0.1059 - val_mae: 0.1059 - val_mse: 0.2258\n",
      "Epoch 26/50\n",
      "\u001b[1m986/986\u001b[0m \u001b[32m━━━━━━━━━━━━━━━━━━━━\u001b[0m\u001b[37m\u001b[0m \u001b[1m5s\u001b[0m 5ms/step - loss: 0.1015 - mae: 0.1015 - mse: 0.2389 - val_loss: 0.0888 - val_mae: 0.0888 - val_mse: 0.2204\n",
      "Epoch 27/50\n",
      "\u001b[1m986/986\u001b[0m \u001b[32m━━━━━━━━━━━━━━━━━━━━\u001b[0m\u001b[37m\u001b[0m \u001b[1m5s\u001b[0m 5ms/step - loss: 0.0904 - mae: 0.0904 - mse: 0.2329 - val_loss: 0.0842 - val_mae: 0.0842 - val_mse: 0.2199\n",
      "Epoch 28/50\n",
      "\u001b[1m986/986\u001b[0m \u001b[32m━━━━━━━━━━━━━━━━━━━━\u001b[0m\u001b[37m\u001b[0m \u001b[1m5s\u001b[0m 5ms/step - loss: 0.0875 - mae: 0.0875 - mse: 0.2262 - val_loss: 0.0861 - val_mae: 0.0861 - val_mse: 0.2231\n",
      "Epoch 29/50\n",
      "\u001b[1m986/986\u001b[0m \u001b[32m━━━━━━━━━━━━━━━━━━━━\u001b[0m\u001b[37m\u001b[0m \u001b[1m5s\u001b[0m 5ms/step - loss: 0.0898 - mae: 0.0898 - mse: 0.2365 - val_loss: 0.0860 - val_mae: 0.0860 - val_mse: 0.2216\n",
      "Epoch 30/50\n",
      "\u001b[1m986/986\u001b[0m \u001b[32m━━━━━━━━━━━━━━━━━━━━\u001b[0m\u001b[37m\u001b[0m \u001b[1m5s\u001b[0m 5ms/step - loss: 0.0884 - mae: 0.0884 - mse: 0.2351 - val_loss: 0.0877 - val_mae: 0.0877 - val_mse: 0.2219\n",
      "Epoch 31/50\n",
      "\u001b[1m986/986\u001b[0m \u001b[32m━━━━━━━━━━━━━━━━━━━━\u001b[0m\u001b[37m\u001b[0m \u001b[1m5s\u001b[0m 5ms/step - loss: 0.0867 - mae: 0.0867 - mse: 0.2333 - val_loss: 0.0803 - val_mae: 0.0803 - val_mse: 0.2211\n",
      "Epoch 32/50\n",
      "\u001b[1m986/986\u001b[0m \u001b[32m━━━━━━━━━━━━━━━━━━━━\u001b[0m\u001b[37m\u001b[0m \u001b[1m5s\u001b[0m 5ms/step - loss: 0.0878 - mae: 0.0878 - mse: 0.2445 - val_loss: 0.0834 - val_mae: 0.0834 - val_mse: 0.2223\n",
      "Epoch 33/50\n",
      "\u001b[1m986/986\u001b[0m \u001b[32m━━━━━━━━━━━━━━━━━━━━\u001b[0m\u001b[37m\u001b[0m \u001b[1m5s\u001b[0m 5ms/step - loss: 0.0875 - mae: 0.0875 - mse: 0.2442 - val_loss: 0.0828 - val_mae: 0.0828 - val_mse: 0.2234\n",
      "Epoch 34/50\n",
      "\u001b[1m986/986\u001b[0m \u001b[32m━━━━━━━━━━━━━━━━━━━━\u001b[0m\u001b[37m\u001b[0m \u001b[1m5s\u001b[0m 5ms/step - loss: 0.0842 - mae: 0.0842 - mse: 0.2288 - val_loss: 0.0790 - val_mae: 0.0790 - val_mse: 0.2232\n",
      "Epoch 35/50\n",
      "\u001b[1m986/986\u001b[0m \u001b[32m━━━━━━━━━━━━━━━━━━━━\u001b[0m\u001b[37m\u001b[0m \u001b[1m5s\u001b[0m 5ms/step - loss: 0.0851 - mae: 0.0851 - mse: 0.2382 - val_loss: 0.0818 - val_mae: 0.0818 - val_mse: 0.2248\n",
      "Epoch 36/50\n",
      "\u001b[1m986/986\u001b[0m \u001b[32m━━━━━━━━━━━━━━━━━━━━\u001b[0m\u001b[37m\u001b[0m \u001b[1m5s\u001b[0m 5ms/step - loss: 0.0842 - mae: 0.0842 - mse: 0.2364 - val_loss: 0.0810 - val_mae: 0.0810 - val_mse: 0.2263\n",
      "Epoch 37/50\n",
      "\u001b[1m986/986\u001b[0m \u001b[32m━━━━━━━━━━━━━━━━━━━━\u001b[0m\u001b[37m\u001b[0m \u001b[1m5s\u001b[0m 5ms/step - loss: 0.0858 - mae: 0.0858 - mse: 0.2412 - val_loss: 0.0848 - val_mae: 0.0848 - val_mse: 0.2275\n",
      "Epoch 38/50\n",
      "\u001b[1m986/986\u001b[0m \u001b[32m━━━━━━━━━━━━━━━━━━━━\u001b[0m\u001b[37m\u001b[0m \u001b[1m5s\u001b[0m 5ms/step - loss: 0.0816 - mae: 0.0816 - mse: 0.2325 - val_loss: 0.0833 - val_mae: 0.0833 - val_mse: 0.2274\n",
      "Epoch 39/50\n",
      "\u001b[1m986/986\u001b[0m \u001b[32m━━━━━━━━━━━━━━━━━━━━\u001b[0m\u001b[37m\u001b[0m \u001b[1m5s\u001b[0m 5ms/step - loss: 0.0844 - mae: 0.0844 - mse: 0.2415 - val_loss: 0.0793 - val_mae: 0.0793 - val_mse: 0.2272\n"
     ]
    }
   ],
   "source": [
    "if not FINE_TUNE:\n",
    "    ### train\n",
    "    forecaster_event.compile(loss='mae', optimizer='adam', metrics=['mae', 'mse'])\n",
    "\n",
    "    # history = forecaster.fit(X_train, Y_train, epochs=100, batch_size=32, validation_split=0.2)\n",
    "    callbacks = [tf.keras.callbacks.EarlyStopping(monitor='val_loss', patience=5),\n",
    "            # tf.keras.callbacks.ModelCheckpoint(filepath='./trained_models/forecaster_event.{epoch:02d}-{loss:.2f}.h5', monitor=\"loss\", save_best_only=True),\n",
    "            tf.keras.callbacks.TensorBoard(log_dir='./logs_forecaster_event'),]\n",
    "    history_event = forecaster_event.fit(X_train_event, Y_train_event, epochs=50, batch_size=64, validation_split=0.2, callbacks=callbacks)\n",
    "\n",
    "    # ### train\n",
    "    # forecaster_interval.compile(loss='mae', optimizer='adam', metrics=['mae', 'mse'])\n",
    "    # callbacks = [tf.keras.callbacks.EarlyStopping(monitor='val_loss', patience=5),\n",
    "    #         # tf.keras.callbacks.ModelCheckpoint(filepath='./trained_models/forecaster_interval.{epoch:02d}-{loss:.2f}.h5', monitor=\"loss\", save_best_only=True),\n",
    "    #         tf.keras.callbacks.TensorBoard(log_dir='./logs_forecaster_interval'),]\n",
    "    # history_interval = forecaster_interval.fit(X_train_interval, Y_train_interval, epochs=50, batch_size=64, validation_split=0.2, callbacks=callbacks)\n",
    "else:\n",
    "    model.compile(loss='mae', optimizer=tf.keras.optimizers.Adam(1e-04), metrics=['mae', 'mse'])\n",
    "\n",
    "    # history = forecaster.fit(X_train, Y_train, epochs=100, batch_size=32, validation_split=0.2)\n",
    "    callbacks = [tf.keras.callbacks.EarlyStopping(monitor='val_loss', patience=5),\n",
    "            # tf.keras.callbacks.ModelCheckpoint(filepath='./trained_models/forecaster_event.{epoch:02d}-{loss:.2f}.h5', monitor=\"loss\", save_best_only=True),\n",
    "            tf.keras.callbacks.TensorBoard(log_dir='./logs'),]\n",
    "    history_event = model.fit(X_train_event, Y_train_event , epochs=50, batch_size=128, validation_split=0.2, callbacks=callbacks)\n",
    "\n",
    "\n"
   ]
  },
  {
   "cell_type": "code",
   "execution_count": 16,
   "metadata": {},
   "outputs": [
    {
     "name": "stdout",
     "output_type": "stream",
     "text": [
      "testing fine tuned model\n",
      "\u001b[1m1232/1232\u001b[0m \u001b[32m━━━━━━━━━━━━━━━━━━━━\u001b[0m\u001b[37m\u001b[0m \u001b[1m1s\u001b[0m 675us/step\n",
      "(39420, 1, 1)\n"
     ]
    }
   ],
   "source": [
    "### test ###\n",
    "if not FINE_TUNE:\n",
    "    print('testing new model')\n",
    "    # new_model = tf.keras.models.load_model('./trained_models/forecaster_events.keras')\n",
    "    y_pred_event = forecaster_event.predict(x_test_event)\n",
    "    # y_pred_interval = forecaster_interval.predict(x_test_interval)\n",
    "\n",
    "    print(y_pred_event.shape)\n",
    "    # print(y_test_interval.shape)\n",
    "else:\n",
    "    print('testing fine tuned model')\n",
    "    y_pred_event = model.predict(x_test_event)\n",
    "    # y_pred_interval = model.predict(x_test_interval)\n",
    "\n",
    "    print(y_pred_event.shape)\n",
    "    # print(y_test_interval.shape)"
   ]
  },
  {
   "cell_type": "code",
   "execution_count": 17,
   "metadata": {},
   "outputs": [
    {
     "name": "stdout",
     "output_type": "stream",
     "text": [
      "[[7]] [[6.993089]]\n",
      "[[7]] [[6.993089]]\n",
      "[[8]] [[7.9932127]]\n",
      "[[9]] [[8.9982195]]\n",
      "[[6]] [[5.9869666]]\n",
      "[[10]] [[9.998362]]\n",
      "[[12]] [[12.0107765]]\n",
      "[[8]] [[7.9932127]]\n",
      "[[12]] [[12.00213]]\n",
      "[[9]] [[8.9982195]]\n"
     ]
    }
   ],
   "source": [
    "# for i in range(10):\n",
    "#     print(y_test_interval[i], y_pred_interval[i])\n",
    "\n",
    "for i in range(10):\n",
    "    print(y_test_event[i], y_pred_event[i])"
   ]
  },
  {
   "cell_type": "code",
   "execution_count": 18,
   "metadata": {},
   "outputs": [
    {
     "name": "stdout",
     "output_type": "stream",
     "text": [
      "correct: 38564\n",
      "incorrect: 856\n",
      "accuracy: 0.978285134449518\n",
      "mae: 0.08147209426099912\n",
      "mse: 0.23548434887606223\n"
     ]
    }
   ],
   "source": [
    "### testing\n",
    "correct = []\n",
    "incorrect = []\n",
    "\n",
    "if y_test_event.shape[1] == 2:\n",
    "    for i in range(len(y_test_event)):\n",
    "        yt_event = y_test_event[i][0]\n",
    "        yp_event = y_pred_event[i][0]\n",
    "\n",
    "        yt_interval = y_test_event[i][1]\n",
    "        yp_interval = y_pred_event[i][1]\n",
    "\n",
    "        # print(yt_event, yp_event)\n",
    "        # print(yt_interval, yp_interval)\n",
    "        yt_event = yt_event.reshape(1,)\n",
    "        yp_event = yp_event.reshape(1,)\n",
    "        yt_interval = yt_interval.reshape(1,)\n",
    "        yp_interval = yp_interval.reshape(1,)\n",
    "\n",
    "        if np.abs(yt_event-yp_event) < 1 and np.abs(yt_interval-yp_interval) < 20:\n",
    "            # print('correct prediction')\n",
    "            correct.append(y_test_event[i])\n",
    "        else:\n",
    "            # print('incorrect prediction')\n",
    "            incorrect.append(y_test_event[i])\n",
    "            # print(yt, yp)\n",
    "        # break\n",
    "\n",
    "else:\n",
    "    for i in range(len(y_test_event)):\n",
    "\n",
    "        yt_event = y_test_event[i]\n",
    "        yp_event = y_pred_event[i]\n",
    "\n",
    "\n",
    "        yt_event = yt_event.reshape(1,)\n",
    "        yp_event = yp_event.reshape(1,)\n",
    "\n",
    "        if np.abs(yt_event-yp_event) < 1:\n",
    "            # print('correct prediction')\n",
    "            correct.append(y_test_event[i])\n",
    "        else:\n",
    "            # print('incorrect prediction')\n",
    "            incorrect.append(y_test_event[i])\n",
    "            # print(yt, yp)\n",
    "\n",
    "        \n",
    "        # break\n",
    "\n",
    "print('correct:', len(correct))\n",
    "print('incorrect:', len(incorrect))\n",
    "\n",
    "### accuracy\n",
    "accuracy = len(correct)/len(y_test_event)\n",
    "print('accuracy:', accuracy)\n",
    "### mae\n",
    "mae = np.mean(np.abs(y_test_event-y_pred_event))\n",
    "print('mae:', mae)\n",
    "### mse\n",
    "mse = np.mean((y_test_event-y_pred_event)**2)\n",
    "print('mse:', mse)"
   ]
  },
  {
   "cell_type": "code",
   "execution_count": 19,
   "metadata": {},
   "outputs": [
    {
     "data": {
      "text/plain": [
       "(39420, 1, 1)"
      ]
     },
     "execution_count": 19,
     "metadata": {},
     "output_type": "execute_result"
    }
   ],
   "source": [
    "y_test_event.shape"
   ]
  },
  {
   "cell_type": "code",
   "execution_count": null,
   "metadata": {},
   "outputs": [],
   "source": []
  },
  {
   "cell_type": "markdown",
   "metadata": {},
   "source": [
    "## save model"
   ]
  },
  {
   "cell_type": "code",
   "execution_count": 20,
   "metadata": {},
   "outputs": [
    {
     "name": "stdout",
     "output_type": "stream",
     "text": [
      "saving fine tuned model\n"
     ]
    }
   ],
   "source": [
    "if not FINE_TUNE:\n",
    "    print('saving new model')\n",
    "\n",
    "    ### check if existing model is there\n",
    "    model_name = f'./trained_models/forecaster_events_minmax_{CODE}.keras'\n",
    "    if os.path.exists(model_name):\n",
    "        print('model exists')\n",
    "        raise FileExistsError\n",
    "    else:\n",
    "        ### save the model\n",
    "        forecaster_event.save(model_name)\n",
    "        # forecaster_interval.save('./trained_models/forecaster_intervals_1.keras')\n",
    "        # forecaster.save_weights('./trained_models/forecaster_events.weights.h5')\n",
    "else:\n",
    "    print('saving fine tuned model')\n",
    "    model_name = f'./trained_models/forecaster_events_minmax_mamba+theft.keras'\n",
    "\n",
    "    if os.path.exists(model_name):\n",
    "        print('model exists')\n",
    "        raise FileExistsError\n",
    "    else:\n",
    "        model.save(model_name)\n",
    "    # model.save('./trained_models/forecaster_intervals_1.keras')\n",
    "    # model.save_weights('./trained_models/forecaster_events.weights.h5')\n"
   ]
  },
  {
   "cell_type": "code",
   "execution_count": null,
   "metadata": {},
   "outputs": [],
   "source": []
  }
 ],
 "metadata": {
  "kernelspec": {
   "display_name": "dlenv",
   "language": "python",
   "name": "python3"
  },
  "language_info": {
   "codemirror_mode": {
    "name": "ipython",
    "version": 3
   },
   "file_extension": ".py",
   "mimetype": "text/x-python",
   "name": "python",
   "nbconvert_exporter": "python",
   "pygments_lexer": "ipython3",
   "version": "3.10.14"
  }
 },
 "nbformat": 4,
 "nbformat_minor": 2
}
