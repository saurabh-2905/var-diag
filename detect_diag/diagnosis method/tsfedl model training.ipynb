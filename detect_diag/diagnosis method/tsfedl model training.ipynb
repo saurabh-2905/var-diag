{
 "cells": [
  {
   "cell_type": "markdown",
   "metadata": {},
   "source": [
    "# TSFEDL Models"
   ]
  },
  {
   "cell_type": "code",
   "execution_count": 1,
   "metadata": {},
   "outputs": [],
   "source": [
    "import json\n",
    "import os\n",
    "import sys\n",
    "sys.path.append('../')  ### to detect libraries in the parent directory\n",
    "import numpy as np\n",
    "import pandas as pd\n",
    "from sklearn.model_selection import train_test_split\n",
    "from sklearn.utils import shuffle\n",
    "from libraries.utils import *\n",
    "\n",
    "\n",
    "\n"
   ]
  },
  {
   "cell_type": "markdown",
   "metadata": {},
   "source": [
    "## Load data"
   ]
  },
  {
   "cell_type": "code",
   "execution_count": 2,
   "metadata": {},
   "outputs": [
    {
     "name": "stdout",
     "output_type": "stream",
     "text": [
      "../../trace_data/theft_protection/single_thread/version_3/normal\n",
      "../../trace_data/theft_protection/single_thread/version_3/faulty_data\n",
      "ref_samples_path:\n",
      " ../../trace_data/theft_protection/single_thread/version_3/normal/diag_refsamples\n",
      "ref_var_samples_path:\n",
      " ../../trace_data/theft_protection/single_thread/version_3/normal/diag_var_refsamples\n",
      "diag_subseq_path:\n",
      " ../../trace_data/theft_protection/single_thread/version_3/faulty_data/diag_subseq\n",
      "train_data:\n",
      " ['../../trace_data/theft_protection/single_thread/version_3/normal/diag_refsamples/379.json', '../../trace_data/theft_protection/single_thread/version_3/normal/diag_refsamples/396.json', '../../trace_data/theft_protection/single_thread/version_3/normal/diag_refsamples/115.json', '../../trace_data/theft_protection/single_thread/version_3/normal/diag_refsamples/400.json', '../../trace_data/theft_protection/single_thread/version_3/normal/diag_refsamples/142.json', '../../trace_data/theft_protection/single_thread/version_3/normal/diag_refsamples/457.json', '../../trace_data/theft_protection/single_thread/version_3/normal/diag_refsamples/338.json', '../../trace_data/theft_protection/single_thread/version_3/normal/diag_refsamples/154.json', '../../trace_data/theft_protection/single_thread/version_3/normal/diag_refsamples/441.json', '../../trace_data/theft_protection/single_thread/version_3/normal/diag_refsamples/380.json', '../../trace_data/theft_protection/single_thread/version_3/normal/diag_refsamples/103.json', '../../trace_data/theft_protection/single_thread/version_3/normal/diag_refsamples/416.json', '../../trace_data/theft_protection/single_thread/version_3/normal/diag_refsamples/251.json', '../../trace_data/theft_protection/single_thread/version_3/normal/diag_refsamples/197.json', '../../trace_data/theft_protection/single_thread/version_3/normal/diag_refsamples/482.json', '../../trace_data/theft_protection/single_thread/version_3/normal/diag_refsamples/178.json', '../../trace_data/theft_protection/single_thread/version_3/normal/diag_refsamples/20.json', '../../trace_data/theft_protection/single_thread/version_3/normal/diag_refsamples/206.json', '../../trace_data/theft_protection/single_thread/version_3/normal/diag_refsamples/343.json', '../../trace_data/theft_protection/single_thread/version_3/normal/diag_refsamples/98.json', '../../trace_data/theft_protection/single_thread/version_3/normal/diag_refsamples/77.json', '../../trace_data/theft_protection/single_thread/version_3/normal/diag_refsamples/210.json', '../../trace_data/theft_protection/single_thread/version_3/normal/diag_refsamples/355.json', '../../trace_data/theft_protection/single_thread/version_3/normal/diag_refsamples/139.json', '../../trace_data/theft_protection/single_thread/version_3/normal/diag_refsamples/61.json', '../../trace_data/theft_protection/single_thread/version_3/normal/diag_refsamples/247.json', '../../trace_data/theft_protection/single_thread/version_3/normal/diag_refsamples/181.json', '../../trace_data/theft_protection/single_thread/version_3/normal/diag_refsamples/36.json', '../../trace_data/theft_protection/single_thread/version_3/normal/diag_refsamples/494.json', '../../trace_data/theft_protection/single_thread/version_3/normal/diag_refsamples/119.json', '../../trace_data/theft_protection/single_thread/version_3/normal/diag_refsamples/41.json', '../../trace_data/theft_protection/single_thread/version_3/normal/diag_refsamples/375.json', '../../trace_data/theft_protection/single_thread/version_3/normal/diag_refsamples/230.json', '../../trace_data/theft_protection/single_thread/version_3/normal/diag_refsamples/16.json', '../../trace_data/theft_protection/single_thread/version_3/normal/diag_refsamples/158.json', '../../trace_data/theft_protection/single_thread/version_3/normal/diag_refsamples/334.json', '../../trace_data/theft_protection/single_thread/version_3/normal/diag_refsamples/57.json', '../../trace_data/theft_protection/single_thread/version_3/normal/diag_refsamples/363.json', '../../trace_data/theft_protection/single_thread/version_3/normal/diag_refsamples/226.json', '../../trace_data/theft_protection/single_thread/version_3/normal/diag_refsamples/461.json', '../../trace_data/theft_protection/single_thread/version_3/normal/diag_refsamples/174.json', '../../trace_data/theft_protection/single_thread/version_3/normal/diag_refsamples/94.json', '../../trace_data/theft_protection/single_thread/version_3/normal/diag_refsamples/436.json', '../../trace_data/theft_protection/single_thread/version_3/normal/diag_refsamples/123.json', '../../trace_data/theft_protection/single_thread/version_3/normal/diag_refsamples/420.json', '../../trace_data/theft_protection/single_thread/version_3/normal/diag_refsamples/82.json', '../../trace_data/theft_protection/single_thread/version_3/normal/diag_refsamples/6.json', '../../trace_data/theft_protection/single_thread/version_3/normal/diag_refsamples/135.json', '../../trace_data/theft_protection/single_thread/version_3/normal/diag_refsamples/359.json', '../../trace_data/theft_protection/single_thread/version_3/normal/diag_refsamples/477.json', '../../trace_data/theft_protection/single_thread/version_3/normal/diag_refsamples/498.json', '../../trace_data/theft_protection/single_thread/version_3/normal/diag_refsamples/162.json', '../../trace_data/theft_protection/single_thread/version_3/normal/diag_refsamples/476.json', '../../trace_data/theft_protection/single_thread/version_3/normal/diag_refsamples/499.json', '../../trace_data/theft_protection/single_thread/version_3/normal/diag_refsamples/163.json', '../../trace_data/theft_protection/single_thread/version_3/normal/diag_refsamples/358.json', '../../trace_data/theft_protection/single_thread/version_3/normal/diag_refsamples/421.json', '../../trace_data/theft_protection/single_thread/version_3/normal/diag_refsamples/7.json', '../../trace_data/theft_protection/single_thread/version_3/normal/diag_refsamples/83.json', '../../trace_data/theft_protection/single_thread/version_3/normal/diag_refsamples/134.json', '../../trace_data/theft_protection/single_thread/version_3/normal/diag_refsamples/95.json', '../../trace_data/theft_protection/single_thread/version_3/normal/diag_refsamples/437.json', '../../trace_data/theft_protection/single_thread/version_3/normal/diag_refsamples/122.json', '../../trace_data/theft_protection/single_thread/version_3/normal/diag_refsamples/460.json', '../../trace_data/theft_protection/single_thread/version_3/normal/diag_refsamples/175.json', '../../trace_data/theft_protection/single_thread/version_3/normal/diag_refsamples/362.json', '../../trace_data/theft_protection/single_thread/version_3/normal/diag_refsamples/227.json', '../../trace_data/theft_protection/single_thread/version_3/normal/diag_refsamples/56.json', '../../trace_data/theft_protection/single_thread/version_3/normal/diag_refsamples/335.json', '../../trace_data/theft_protection/single_thread/version_3/normal/diag_refsamples/159.json', '../../trace_data/theft_protection/single_thread/version_3/normal/diag_refsamples/323.json', '../../trace_data/theft_protection/single_thread/version_3/normal/diag_refsamples/17.json', '../../trace_data/theft_protection/single_thread/version_3/normal/diag_refsamples/374.json', '../../trace_data/theft_protection/single_thread/version_3/normal/diag_refsamples/231.json', '../../trace_data/theft_protection/single_thread/version_3/normal/diag_refsamples/118.json', '../../trace_data/theft_protection/single_thread/version_3/normal/diag_refsamples/40.json', '../../trace_data/theft_protection/single_thread/version_3/normal/diag_refsamples/180.json', '../../trace_data/theft_protection/single_thread/version_3/normal/diag_refsamples/37.json', '../../trace_data/theft_protection/single_thread/version_3/normal/diag_refsamples/495.json', '../../trace_data/theft_protection/single_thread/version_3/normal/diag_refsamples/246.json', '../../trace_data/theft_protection/single_thread/version_3/normal/diag_refsamples/138.json', '../../trace_data/theft_protection/single_thread/version_3/normal/diag_refsamples/60.json', '../../trace_data/theft_protection/single_thread/version_3/normal/diag_refsamples/211.json', '../../trace_data/theft_protection/single_thread/version_3/normal/diag_refsamples/354.json', '../../trace_data/theft_protection/single_thread/version_3/normal/diag_refsamples/99.json', '../../trace_data/theft_protection/single_thread/version_3/normal/diag_refsamples/76.json', '../../trace_data/theft_protection/single_thread/version_3/normal/diag_refsamples/207.json', '../../trace_data/theft_protection/single_thread/version_3/normal/diag_refsamples/342.json', '../../trace_data/theft_protection/single_thread/version_3/normal/diag_refsamples/196.json', '../../trace_data/theft_protection/single_thread/version_3/normal/diag_refsamples/483.json', '../../trace_data/theft_protection/single_thread/version_3/normal/diag_refsamples/179.json', '../../trace_data/theft_protection/single_thread/version_3/normal/diag_refsamples/21.json', '../../trace_data/theft_protection/single_thread/version_3/normal/diag_refsamples/250.json', '../../trace_data/theft_protection/single_thread/version_3/normal/diag_refsamples/102.json', '../../trace_data/theft_protection/single_thread/version_3/normal/diag_refsamples/417.json', '../../trace_data/theft_protection/single_thread/version_3/normal/diag_refsamples/381.json', '../../trace_data/theft_protection/single_thread/version_3/normal/diag_refsamples/155.json', '../../trace_data/theft_protection/single_thread/version_3/normal/diag_refsamples/440.json', '../../trace_data/theft_protection/single_thread/version_3/normal/diag_refsamples/339.json', '../../trace_data/theft_protection/single_thread/version_3/normal/diag_refsamples/143.json', '../../trace_data/theft_protection/single_thread/version_3/normal/diag_refsamples/456.json', '../../trace_data/theft_protection/single_thread/version_3/normal/diag_refsamples/114.json', '../../trace_data/theft_protection/single_thread/version_3/normal/diag_refsamples/401.json', '../../trace_data/theft_protection/single_thread/version_3/normal/diag_refsamples/378.json', '../../trace_data/theft_protection/single_thread/version_3/normal/diag_refsamples/397.json', '../../trace_data/theft_protection/single_thread/version_3/normal/diag_refsamples/47.json', '../../trace_data/theft_protection/single_thread/version_3/normal/diag_refsamples/373.json', '../../trace_data/theft_protection/single_thread/version_3/normal/diag_refsamples/236.json', '../../trace_data/theft_protection/single_thread/version_3/normal/diag_refsamples/148.json', '../../trace_data/theft_protection/single_thread/version_3/normal/diag_refsamples/10.json', '../../trace_data/theft_protection/single_thread/version_3/normal/diag_refsamples/324.json', '../../trace_data/theft_protection/single_thread/version_3/normal/diag_refsamples/332.json', '../../trace_data/theft_protection/single_thread/version_3/normal/diag_refsamples/109.json', '../../trace_data/theft_protection/single_thread/version_3/normal/diag_refsamples/51.json', '../../trace_data/theft_protection/single_thread/version_3/normal/diag_refsamples/365.json', '../../trace_data/theft_protection/single_thread/version_3/normal/diag_refsamples/220.json', '../../trace_data/theft_protection/single_thread/version_3/normal/diag_refsamples/467.json', '../../trace_data/theft_protection/single_thread/version_3/normal/diag_refsamples/488.json', '../../trace_data/theft_protection/single_thread/version_3/normal/diag_refsamples/172.json', '../../trace_data/theft_protection/single_thread/version_3/normal/diag_refsamples/430.json', '../../trace_data/theft_protection/single_thread/version_3/normal/diag_refsamples/92.json', '../../trace_data/theft_protection/single_thread/version_3/normal/diag_refsamples/125.json', '../../trace_data/theft_protection/single_thread/version_3/normal/diag_refsamples/349.json', '../../trace_data/theft_protection/single_thread/version_3/normal/diag_refsamples/84.json', '../../trace_data/theft_protection/single_thread/version_3/normal/diag_refsamples/0.json', '../../trace_data/theft_protection/single_thread/version_3/normal/diag_refsamples/426.json', '../../trace_data/theft_protection/single_thread/version_3/normal/diag_refsamples/133.json', '../../trace_data/theft_protection/single_thread/version_3/normal/diag_refsamples/471.json', '../../trace_data/theft_protection/single_thread/version_3/normal/diag_refsamples/164.json', '../../trace_data/theft_protection/single_thread/version_3/normal/diag_refsamples/390.json', '../../trace_data/theft_protection/single_thread/version_3/normal/diag_refsamples/113.json', '../../trace_data/theft_protection/single_thread/version_3/normal/diag_refsamples/406.json', '../../trace_data/theft_protection/single_thread/version_3/normal/diag_refsamples/328.json', '../../trace_data/theft_protection/single_thread/version_3/normal/diag_refsamples/144.json', '../../trace_data/theft_protection/single_thread/version_3/normal/diag_refsamples/451.json', '../../trace_data/theft_protection/single_thread/version_3/normal/diag_refsamples/152.json', '../../trace_data/theft_protection/single_thread/version_3/normal/diag_refsamples/447.json', '../../trace_data/theft_protection/single_thread/version_3/normal/diag_refsamples/369.json', '../../trace_data/theft_protection/single_thread/version_3/normal/diag_refsamples/386.json', '../../trace_data/theft_protection/single_thread/version_3/normal/diag_refsamples/105.json', '../../trace_data/theft_protection/single_thread/version_3/normal/diag_refsamples/410.json', '../../trace_data/theft_protection/single_thread/version_3/normal/diag_refsamples/257.json', '../../trace_data/theft_protection/single_thread/version_3/normal/diag_refsamples/191.json', '../../trace_data/theft_protection/single_thread/version_3/normal/diag_refsamples/26.json', '../../trace_data/theft_protection/single_thread/version_3/normal/diag_refsamples/484.json', '../../trace_data/theft_protection/single_thread/version_3/normal/diag_refsamples/200.json', '../../trace_data/theft_protection/single_thread/version_3/normal/diag_refsamples/345.json', '../../trace_data/theft_protection/single_thread/version_3/normal/diag_refsamples/129.json', '../../trace_data/theft_protection/single_thread/version_3/normal/diag_refsamples/71.json', '../../trace_data/theft_protection/single_thread/version_3/normal/diag_refsamples/216.json', '../../trace_data/theft_protection/single_thread/version_3/normal/diag_refsamples/353.json', '../../trace_data/theft_protection/single_thread/version_3/normal/diag_refsamples/88.json', '../../trace_data/theft_protection/single_thread/version_3/normal/diag_refsamples/67.json', '../../trace_data/theft_protection/single_thread/version_3/normal/diag_refsamples/241.json', '../../trace_data/theft_protection/single_thread/version_3/normal/diag_refsamples/187.json', '../../trace_data/theft_protection/single_thread/version_3/normal/diag_refsamples/492.json', '../../trace_data/theft_protection/single_thread/version_3/normal/diag_refsamples/168.json', '../../trace_data/theft_protection/single_thread/version_3/normal/diag_refsamples/30.json', '../../trace_data/theft_protection/single_thread/version_3/normal/diag_refsamples/186.json', '../../trace_data/theft_protection/single_thread/version_3/normal/diag_refsamples/493.json', '../../trace_data/theft_protection/single_thread/version_3/normal/diag_refsamples/169.json', '../../trace_data/theft_protection/single_thread/version_3/normal/diag_refsamples/31.json', '../../trace_data/theft_protection/single_thread/version_3/normal/diag_refsamples/240.json', '../../trace_data/theft_protection/single_thread/version_3/normal/diag_refsamples/89.json', '../../trace_data/theft_protection/single_thread/version_3/normal/diag_refsamples/66.json', '../../trace_data/theft_protection/single_thread/version_3/normal/diag_refsamples/217.json', '../../trace_data/theft_protection/single_thread/version_3/normal/diag_refsamples/352.json', '../../trace_data/theft_protection/single_thread/version_3/normal/diag_refsamples/128.json', '../../trace_data/theft_protection/single_thread/version_3/normal/diag_refsamples/70.json', '../../trace_data/theft_protection/single_thread/version_3/normal/diag_refsamples/201.json', '../../trace_data/theft_protection/single_thread/version_3/normal/diag_refsamples/344.json', '../../trace_data/theft_protection/single_thread/version_3/normal/diag_refsamples/190.json', '../../trace_data/theft_protection/single_thread/version_3/normal/diag_refsamples/27.json', '../../trace_data/theft_protection/single_thread/version_3/normal/diag_refsamples/485.json', '../../trace_data/theft_protection/single_thread/version_3/normal/diag_refsamples/256.json', '../../trace_data/theft_protection/single_thread/version_3/normal/diag_refsamples/104.json', '../../trace_data/theft_protection/single_thread/version_3/normal/diag_refsamples/411.json', '../../trace_data/theft_protection/single_thread/version_3/normal/diag_refsamples/368.json', '../../trace_data/theft_protection/single_thread/version_3/normal/diag_refsamples/387.json', '../../trace_data/theft_protection/single_thread/version_3/normal/diag_refsamples/153.json', '../../trace_data/theft_protection/single_thread/version_3/normal/diag_refsamples/446.json', '../../trace_data/theft_protection/single_thread/version_3/normal/diag_refsamples/145.json', '../../trace_data/theft_protection/single_thread/version_3/normal/diag_refsamples/450.json', '../../trace_data/theft_protection/single_thread/version_3/normal/diag_refsamples/329.json', '../../trace_data/theft_protection/single_thread/version_3/normal/diag_refsamples/112.json', '../../trace_data/theft_protection/single_thread/version_3/normal/diag_refsamples/407.json', '../../trace_data/theft_protection/single_thread/version_3/normal/diag_refsamples/391.json', '../../trace_data/theft_protection/single_thread/version_3/normal/diag_refsamples/470.json', '../../trace_data/theft_protection/single_thread/version_3/normal/diag_refsamples/165.json', '../../trace_data/theft_protection/single_thread/version_3/normal/diag_refsamples/1.json', '../../trace_data/theft_protection/single_thread/version_3/normal/diag_refsamples/85.json', '../../trace_data/theft_protection/single_thread/version_3/normal/diag_refsamples/427.json', '../../trace_data/theft_protection/single_thread/version_3/normal/diag_refsamples/132.json', '../../trace_data/theft_protection/single_thread/version_3/normal/diag_refsamples/348.json', '../../trace_data/theft_protection/single_thread/version_3/normal/diag_refsamples/431.json', '../../trace_data/theft_protection/single_thread/version_3/normal/diag_refsamples/93.json', '../../trace_data/theft_protection/single_thread/version_3/normal/diag_refsamples/124.json', '../../trace_data/theft_protection/single_thread/version_3/normal/diag_refsamples/466.json', '../../trace_data/theft_protection/single_thread/version_3/normal/diag_refsamples/489.json', '../../trace_data/theft_protection/single_thread/version_3/normal/diag_refsamples/173.json', '../../trace_data/theft_protection/single_thread/version_3/normal/diag_refsamples/364.json', '../../trace_data/theft_protection/single_thread/version_3/normal/diag_refsamples/221.json', '../../trace_data/theft_protection/single_thread/version_3/normal/diag_refsamples/108.json', '../../trace_data/theft_protection/single_thread/version_3/normal/diag_refsamples/50.json', '../../trace_data/theft_protection/single_thread/version_3/normal/diag_refsamples/333.json', '../../trace_data/theft_protection/single_thread/version_3/normal/diag_refsamples/325.json', '../../trace_data/theft_protection/single_thread/version_3/normal/diag_refsamples/149.json', '../../trace_data/theft_protection/single_thread/version_3/normal/diag_refsamples/11.json', '../../trace_data/theft_protection/single_thread/version_3/normal/diag_refsamples/372.json', '../../trace_data/theft_protection/single_thread/version_3/normal/diag_refsamples/237.json', '../../trace_data/theft_protection/single_thread/version_3/normal/diag_refsamples/46.json', '../../trace_data/theft_protection/single_thread/version_3/normal/diag_refsamples/166.json', '../../trace_data/theft_protection/single_thread/version_3/normal/diag_refsamples/189.json', '../../trace_data/theft_protection/single_thread/version_3/normal/diag_refsamples/473.json', '../../trace_data/theft_protection/single_thread/version_3/normal/diag_refsamples/218.json', '../../trace_data/theft_protection/single_thread/version_3/normal/diag_refsamples/69.json', '../../trace_data/theft_protection/single_thread/version_3/normal/diag_refsamples/131.json', '../../trace_data/theft_protection/single_thread/version_3/normal/diag_refsamples/424.json', '../../trace_data/theft_protection/single_thread/version_3/normal/diag_refsamples/2.json', '../../trace_data/theft_protection/single_thread/version_3/normal/diag_refsamples/86.json', '../../trace_data/theft_protection/single_thread/version_3/normal/diag_refsamples/127.json', '../../trace_data/theft_protection/single_thread/version_3/normal/diag_refsamples/90.json', '../../trace_data/theft_protection/single_thread/version_3/normal/diag_refsamples/432.json', '../../trace_data/theft_protection/single_thread/version_3/normal/diag_refsamples/28.json', '../../trace_data/theft_protection/single_thread/version_3/normal/diag_refsamples/170.json', '../../trace_data/theft_protection/single_thread/version_3/normal/diag_refsamples/465.json', '../../trace_data/theft_protection/single_thread/version_3/normal/diag_refsamples/388.json', '../../trace_data/theft_protection/single_thread/version_3/normal/diag_refsamples/222.json', '../../trace_data/theft_protection/single_thread/version_3/normal/diag_refsamples/367.json', '../../trace_data/theft_protection/single_thread/version_3/normal/diag_refsamples/53.json', '../../trace_data/theft_protection/single_thread/version_3/normal/diag_refsamples/330.json', '../../trace_data/theft_protection/single_thread/version_3/normal/diag_refsamples/449.json', '../../trace_data/theft_protection/single_thread/version_3/normal/diag_refsamples/326.json', '../../trace_data/theft_protection/single_thread/version_3/normal/diag_refsamples/12.json', '../../trace_data/theft_protection/single_thread/version_3/normal/diag_refsamples/234.json', '../../trace_data/theft_protection/single_thread/version_3/normal/diag_refsamples/371.json', '../../trace_data/theft_protection/single_thread/version_3/normal/diag_refsamples/408.json', '../../trace_data/theft_protection/single_thread/version_3/normal/diag_refsamples/45.json', '../../trace_data/theft_protection/single_thread/version_3/normal/diag_refsamples/32.json', '../../trace_data/theft_protection/single_thread/version_3/normal/diag_refsamples/490.json', '../../trace_data/theft_protection/single_thread/version_3/normal/diag_refsamples/185.json', '../../trace_data/theft_protection/single_thread/version_3/normal/diag_refsamples/243.json', '../../trace_data/theft_protection/single_thread/version_3/normal/diag_refsamples/65.json', '../../trace_data/theft_protection/single_thread/version_3/normal/diag_refsamples/428.json', '../../trace_data/theft_protection/single_thread/version_3/normal/diag_refsamples/351.json', '../../trace_data/theft_protection/single_thread/version_3/normal/diag_refsamples/214.json', '../../trace_data/theft_protection/single_thread/version_3/normal/diag_refsamples/73.json', '../../trace_data/theft_protection/single_thread/version_3/normal/diag_refsamples/347.json', '../../trace_data/theft_protection/single_thread/version_3/normal/diag_refsamples/202.json', '../../trace_data/theft_protection/single_thread/version_3/normal/diag_refsamples/486.json', '../../trace_data/theft_protection/single_thread/version_3/normal/diag_refsamples/24.json', '../../trace_data/theft_protection/single_thread/version_3/normal/diag_refsamples/193.json', '../../trace_data/theft_protection/single_thread/version_3/normal/diag_refsamples/469.json', '../../trace_data/theft_protection/single_thread/version_3/normal/diag_refsamples/255.json', '../../trace_data/theft_protection/single_thread/version_3/normal/diag_refsamples/412.json', '../../trace_data/theft_protection/single_thread/version_3/normal/diag_refsamples/107.json', '../../trace_data/theft_protection/single_thread/version_3/normal/diag_refsamples/384.json', '../../trace_data/theft_protection/single_thread/version_3/normal/diag_refsamples/445.json', '../../trace_data/theft_protection/single_thread/version_3/normal/diag_refsamples/150.json', '../../trace_data/theft_protection/single_thread/version_3/normal/diag_refsamples/500.json', '../../trace_data/theft_protection/single_thread/version_3/normal/diag_refsamples/453.json', '../../trace_data/theft_protection/single_thread/version_3/normal/diag_refsamples/146.json', '../../trace_data/theft_protection/single_thread/version_3/normal/diag_refsamples/404.json', '../../trace_data/theft_protection/single_thread/version_3/normal/diag_refsamples/49.json', '../../trace_data/theft_protection/single_thread/version_3/normal/diag_refsamples/111.json', '../../trace_data/theft_protection/single_thread/version_3/normal/diag_refsamples/392.json', '../../trace_data/theft_protection/single_thread/version_3/normal/diag_refsamples/238.json', '../../trace_data/theft_protection/single_thread/version_3/normal/diag_refsamples/393.json', '../../trace_data/theft_protection/single_thread/version_3/normal/diag_refsamples/239.json', '../../trace_data/theft_protection/single_thread/version_3/normal/diag_refsamples/405.json', '../../trace_data/theft_protection/single_thread/version_3/normal/diag_refsamples/48.json', '../../trace_data/theft_protection/single_thread/version_3/normal/diag_refsamples/110.json', '../../trace_data/theft_protection/single_thread/version_3/normal/diag_refsamples/452.json', '../../trace_data/theft_protection/single_thread/version_3/normal/diag_refsamples/147.json', '../../trace_data/theft_protection/single_thread/version_3/normal/diag_refsamples/444.json', '../../trace_data/theft_protection/single_thread/version_3/normal/diag_refsamples/151.json', '../../trace_data/theft_protection/single_thread/version_3/normal/diag_refsamples/501.json', '../../trace_data/theft_protection/single_thread/version_3/normal/diag_refsamples/385.json', '../../trace_data/theft_protection/single_thread/version_3/normal/diag_refsamples/413.json', '../../trace_data/theft_protection/single_thread/version_3/normal/diag_refsamples/106.json', '../../trace_data/theft_protection/single_thread/version_3/normal/diag_refsamples/254.json', '../../trace_data/theft_protection/single_thread/version_3/normal/diag_refsamples/487.json', '../../trace_data/theft_protection/single_thread/version_3/normal/diag_refsamples/25.json', '../../trace_data/theft_protection/single_thread/version_3/normal/diag_refsamples/192.json', '../../trace_data/theft_protection/single_thread/version_3/normal/diag_refsamples/468.json', '../../trace_data/theft_protection/single_thread/version_3/normal/diag_refsamples/346.json', '../../trace_data/theft_protection/single_thread/version_3/normal/diag_refsamples/203.json', '../../trace_data/theft_protection/single_thread/version_3/normal/diag_refsamples/72.json', '../../trace_data/theft_protection/single_thread/version_3/normal/diag_refsamples/350.json', '../../trace_data/theft_protection/single_thread/version_3/normal/diag_refsamples/215.json', '../../trace_data/theft_protection/single_thread/version_3/normal/diag_refsamples/64.json', '../../trace_data/theft_protection/single_thread/version_3/normal/diag_refsamples/429.json', '../../trace_data/theft_protection/single_thread/version_3/normal/diag_refsamples/242.json', '../../trace_data/theft_protection/single_thread/version_3/normal/diag_refsamples/33.json', '../../trace_data/theft_protection/single_thread/version_3/normal/diag_refsamples/491.json', '../../trace_data/theft_protection/single_thread/version_3/normal/diag_refsamples/184.json', '../../trace_data/theft_protection/single_thread/version_3/normal/diag_refsamples/409.json', '../../trace_data/theft_protection/single_thread/version_3/normal/diag_refsamples/44.json', '../../trace_data/theft_protection/single_thread/version_3/normal/diag_refsamples/235.json', '../../trace_data/theft_protection/single_thread/version_3/normal/diag_refsamples/370.json', '../../trace_data/theft_protection/single_thread/version_3/normal/diag_refsamples/13.json', '../../trace_data/theft_protection/single_thread/version_3/normal/diag_refsamples/327.json', '../../trace_data/theft_protection/single_thread/version_3/normal/diag_refsamples/448.json', '../../trace_data/theft_protection/single_thread/version_3/normal/diag_refsamples/331.json', '../../trace_data/theft_protection/single_thread/version_3/normal/diag_refsamples/52.json', '../../trace_data/theft_protection/single_thread/version_3/normal/diag_refsamples/389.json', '../../trace_data/theft_protection/single_thread/version_3/normal/diag_refsamples/223.json', '../../trace_data/theft_protection/single_thread/version_3/normal/diag_refsamples/366.json', '../../trace_data/theft_protection/single_thread/version_3/normal/diag_refsamples/29.json', '../../trace_data/theft_protection/single_thread/version_3/normal/diag_refsamples/171.json', '../../trace_data/theft_protection/single_thread/version_3/normal/diag_refsamples/464.json', '../../trace_data/theft_protection/single_thread/version_3/normal/diag_refsamples/258.json', '../../trace_data/theft_protection/single_thread/version_3/normal/diag_refsamples/126.json', '../../trace_data/theft_protection/single_thread/version_3/normal/diag_refsamples/91.json', '../../trace_data/theft_protection/single_thread/version_3/normal/diag_refsamples/433.json', '../../trace_data/theft_protection/single_thread/version_3/normal/diag_refsamples/68.json', '../../trace_data/theft_protection/single_thread/version_3/normal/diag_refsamples/130.json', '../../trace_data/theft_protection/single_thread/version_3/normal/diag_refsamples/425.json', '../../trace_data/theft_protection/single_thread/version_3/normal/diag_refsamples/87.json', '../../trace_data/theft_protection/single_thread/version_3/normal/diag_refsamples/3.json', '../../trace_data/theft_protection/single_thread/version_3/normal/diag_refsamples/219.json', '../../trace_data/theft_protection/single_thread/version_3/normal/diag_refsamples/167.json', '../../trace_data/theft_protection/single_thread/version_3/normal/diag_refsamples/188.json', '../../trace_data/theft_protection/single_thread/version_3/normal/diag_refsamples/472.json', '../../trace_data/theft_protection/single_thread/version_3/normal/diag_refsamples/496.json', '../../trace_data/theft_protection/single_thread/version_3/normal/diag_refsamples/34.json', '../../trace_data/theft_protection/single_thread/version_3/normal/diag_refsamples/183.json', '../../trace_data/theft_protection/single_thread/version_3/normal/diag_refsamples/479.json', '../../trace_data/theft_protection/single_thread/version_3/normal/diag_refsamples/245.json', '../../trace_data/theft_protection/single_thread/version_3/normal/diag_refsamples/63.json', '../../trace_data/theft_protection/single_thread/version_3/normal/diag_refsamples/8.json', '../../trace_data/theft_protection/single_thread/version_3/normal/diag_refsamples/357.json', '../../trace_data/theft_protection/single_thread/version_3/normal/diag_refsamples/212.json', '../../trace_data/theft_protection/single_thread/version_3/normal/diag_refsamples/75.json', '../../trace_data/theft_protection/single_thread/version_3/normal/diag_refsamples/438.json', '../../trace_data/theft_protection/single_thread/version_3/normal/diag_refsamples/341.json', '../../trace_data/theft_protection/single_thread/version_3/normal/diag_refsamples/204.json', '../../trace_data/theft_protection/single_thread/version_3/normal/diag_refsamples/22.json', '../../trace_data/theft_protection/single_thread/version_3/normal/diag_refsamples/480.json', '../../trace_data/theft_protection/single_thread/version_3/normal/diag_refsamples/195.json', '../../trace_data/theft_protection/single_thread/version_3/normal/diag_refsamples/253.json', '../../trace_data/theft_protection/single_thread/version_3/normal/diag_refsamples/414.json', '../../trace_data/theft_protection/single_thread/version_3/normal/diag_refsamples/59.json', '../../trace_data/theft_protection/single_thread/version_3/normal/diag_refsamples/101.json', '../../trace_data/theft_protection/single_thread/version_3/normal/diag_refsamples/228.json', '../../trace_data/theft_protection/single_thread/version_3/normal/diag_refsamples/382.json', '../../trace_data/theft_protection/single_thread/version_3/normal/diag_refsamples/443.json', '../../trace_data/theft_protection/single_thread/version_3/normal/diag_refsamples/156.json', '../../trace_data/theft_protection/single_thread/version_3/normal/diag_refsamples/455.json', '../../trace_data/theft_protection/single_thread/version_3/normal/diag_refsamples/18.json', '../../trace_data/theft_protection/single_thread/version_3/normal/diag_refsamples/140.json', '../../trace_data/theft_protection/single_thread/version_3/normal/diag_refsamples/402.json', '../../trace_data/theft_protection/single_thread/version_3/normal/diag_refsamples/117.json', '../../trace_data/theft_protection/single_thread/version_3/normal/diag_refsamples/394.json', '../../trace_data/theft_protection/single_thread/version_3/normal/diag_refsamples/249.json', '../../trace_data/theft_protection/single_thread/version_3/normal/diag_refsamples/38.json', '../../trace_data/theft_protection/single_thread/version_3/normal/diag_refsamples/160.json', '../../trace_data/theft_protection/single_thread/version_3/normal/diag_refsamples/475.json', '../../trace_data/theft_protection/single_thread/version_3/normal/diag_refsamples/137.json', '../../trace_data/theft_protection/single_thread/version_3/normal/diag_refsamples/4.json', '../../trace_data/theft_protection/single_thread/version_3/normal/diag_refsamples/80.json', '../../trace_data/theft_protection/single_thread/version_3/normal/diag_refsamples/422.json', '../../trace_data/theft_protection/single_thread/version_3/normal/diag_refsamples/208.json', '../../trace_data/theft_protection/single_thread/version_3/normal/diag_refsamples/79.json', '../../trace_data/theft_protection/single_thread/version_3/normal/diag_refsamples/121.json', '../../trace_data/theft_protection/single_thread/version_3/normal/diag_refsamples/434.json', '../../trace_data/theft_protection/single_thread/version_3/normal/diag_refsamples/96.json', '../../trace_data/theft_protection/single_thread/version_3/normal/diag_refsamples/176.json', '../../trace_data/theft_protection/single_thread/version_3/normal/diag_refsamples/199.json', '../../trace_data/theft_protection/single_thread/version_3/normal/diag_refsamples/463.json', '../../trace_data/theft_protection/single_thread/version_3/normal/diag_refsamples/224.json', '../../trace_data/theft_protection/single_thread/version_3/normal/diag_refsamples/361.json', '../../trace_data/theft_protection/single_thread/version_3/normal/diag_refsamples/418.json', '../../trace_data/theft_protection/single_thread/version_3/normal/diag_refsamples/55.json', '../../trace_data/theft_protection/single_thread/version_3/normal/diag_refsamples/336.json', '../../trace_data/theft_protection/single_thread/version_3/normal/diag_refsamples/459.json', '../../trace_data/theft_protection/single_thread/version_3/normal/diag_refsamples/14.json', '../../trace_data/theft_protection/single_thread/version_3/normal/diag_refsamples/232.json', '../../trace_data/theft_protection/single_thread/version_3/normal/diag_refsamples/398.json', '../../trace_data/theft_protection/single_thread/version_3/normal/diag_refsamples/377.json', '../../trace_data/theft_protection/single_thread/version_3/normal/diag_refsamples/43.json', '../../trace_data/theft_protection/single_thread/version_3/normal/diag_refsamples/42.json', '../../trace_data/theft_protection/single_thread/version_3/normal/diag_refsamples/233.json', '../../trace_data/theft_protection/single_thread/version_3/normal/diag_refsamples/399.json', '../../trace_data/theft_protection/single_thread/version_3/normal/diag_refsamples/376.json', '../../trace_data/theft_protection/single_thread/version_3/normal/diag_refsamples/458.json', '../../trace_data/theft_protection/single_thread/version_3/normal/diag_refsamples/15.json', '../../trace_data/theft_protection/single_thread/version_3/normal/diag_refsamples/337.json', '../../trace_data/theft_protection/single_thread/version_3/normal/diag_refsamples/419.json', '../../trace_data/theft_protection/single_thread/version_3/normal/diag_refsamples/54.json', '../../trace_data/theft_protection/single_thread/version_3/normal/diag_refsamples/225.json', '../../trace_data/theft_protection/single_thread/version_3/normal/diag_refsamples/360.json', '../../trace_data/theft_protection/single_thread/version_3/normal/diag_refsamples/177.json', '../../trace_data/theft_protection/single_thread/version_3/normal/diag_refsamples/198.json', '../../trace_data/theft_protection/single_thread/version_3/normal/diag_refsamples/462.json', '../../trace_data/theft_protection/single_thread/version_3/normal/diag_refsamples/78.json', '../../trace_data/theft_protection/single_thread/version_3/normal/diag_refsamples/120.json', '../../trace_data/theft_protection/single_thread/version_3/normal/diag_refsamples/435.json', '../../trace_data/theft_protection/single_thread/version_3/normal/diag_refsamples/97.json', '../../trace_data/theft_protection/single_thread/version_3/normal/diag_refsamples/209.json', '../../trace_data/theft_protection/single_thread/version_3/normal/diag_refsamples/136.json', '../../trace_data/theft_protection/single_thread/version_3/normal/diag_refsamples/81.json', '../../trace_data/theft_protection/single_thread/version_3/normal/diag_refsamples/5.json', '../../trace_data/theft_protection/single_thread/version_3/normal/diag_refsamples/423.json', '../../trace_data/theft_protection/single_thread/version_3/normal/diag_refsamples/39.json', '../../trace_data/theft_protection/single_thread/version_3/normal/diag_refsamples/161.json', '../../trace_data/theft_protection/single_thread/version_3/normal/diag_refsamples/474.json', '../../trace_data/theft_protection/single_thread/version_3/normal/diag_refsamples/248.json', '../../trace_data/theft_protection/single_thread/version_3/normal/diag_refsamples/395.json', '../../trace_data/theft_protection/single_thread/version_3/normal/diag_refsamples/403.json', '../../trace_data/theft_protection/single_thread/version_3/normal/diag_refsamples/116.json', '../../trace_data/theft_protection/single_thread/version_3/normal/diag_refsamples/454.json', '../../trace_data/theft_protection/single_thread/version_3/normal/diag_refsamples/19.json', '../../trace_data/theft_protection/single_thread/version_3/normal/diag_refsamples/141.json', '../../trace_data/theft_protection/single_thread/version_3/normal/diag_refsamples/442.json', '../../trace_data/theft_protection/single_thread/version_3/normal/diag_refsamples/157.json', '../../trace_data/theft_protection/single_thread/version_3/normal/diag_refsamples/229.json', '../../trace_data/theft_protection/single_thread/version_3/normal/diag_refsamples/383.json', '../../trace_data/theft_protection/single_thread/version_3/normal/diag_refsamples/415.json', '../../trace_data/theft_protection/single_thread/version_3/normal/diag_refsamples/58.json', '../../trace_data/theft_protection/single_thread/version_3/normal/diag_refsamples/100.json', '../../trace_data/theft_protection/single_thread/version_3/normal/diag_refsamples/252.json', '../../trace_data/theft_protection/single_thread/version_3/normal/diag_refsamples/23.json', '../../trace_data/theft_protection/single_thread/version_3/normal/diag_refsamples/481.json', '../../trace_data/theft_protection/single_thread/version_3/normal/diag_refsamples/194.json', '../../trace_data/theft_protection/single_thread/version_3/normal/diag_refsamples/340.json', '../../trace_data/theft_protection/single_thread/version_3/normal/diag_refsamples/205.json', '../../trace_data/theft_protection/single_thread/version_3/normal/diag_refsamples/74.json', '../../trace_data/theft_protection/single_thread/version_3/normal/diag_refsamples/439.json', '../../trace_data/theft_protection/single_thread/version_3/normal/diag_refsamples/356.json', '../../trace_data/theft_protection/single_thread/version_3/normal/diag_refsamples/213.json', '../../trace_data/theft_protection/single_thread/version_3/normal/diag_refsamples/62.json', '../../trace_data/theft_protection/single_thread/version_3/normal/diag_refsamples/9.json', '../../trace_data/theft_protection/single_thread/version_3/normal/diag_refsamples/244.json', '../../trace_data/theft_protection/single_thread/version_3/normal/diag_refsamples/497.json', '../../trace_data/theft_protection/single_thread/version_3/normal/diag_refsamples/35.json', '../../trace_data/theft_protection/single_thread/version_3/normal/diag_refsamples/182.json', '../../trace_data/theft_protection/single_thread/version_3/normal/diag_refsamples/478.json']\n",
      "438\n",
      "test_data:\n",
      " ['../../trace_data/theft_protection/single_thread/version_3/faulty_data/diag_subseq/trace_trial2_379-423.json', '../../trace_data/theft_protection/single_thread/version_3/faulty_data/diag_subseq/trace_trial1_1217-1225.json', '../../trace_data/theft_protection/single_thread/version_3/faulty_data/diag_subseq/trace_trial2_1303-1339.json', '../../trace_data/theft_protection/single_thread/version_3/faulty_data/diag_subseq/trace_trial1_623-662.json', '../../trace_data/theft_protection/single_thread/version_3/faulty_data/diag_subseq/trace_trial2_2500-2544.json', '../../trace_data/theft_protection/single_thread/version_3/faulty_data/diag_subseq/trace_trial1_2296-2335.json', '../../trace_data/theft_protection/single_thread/version_3/faulty_data/diag_subseq/trace_trial1_908-942.json', '../../trace_data/theft_protection/single_thread/version_3/faulty_data/diag_subseq/trace_trial1_410-449.json', '../../trace_data/theft_protection/single_thread/version_3/faulty_data/diag_subseq/trace_trial2_526-534.json', '../../trace_data/theft_protection/single_thread/version_3/faulty_data/diag_subseq/trace_trial2_775-846.json', '../../trace_data/theft_protection/single_thread/version_3/faulty_data/diag_subseq/trace_trial1_313-352.json', '../../trace_data/theft_protection/single_thread/version_3/faulty_data/diag_subseq/trace_trial1_1813-1852.json', '../../trace_data/theft_protection/single_thread/version_3/faulty_data/diag_subseq/trace_trial2_1104-1179.json', '../../trace_data/theft_protection/single_thread/version_3/faulty_data/diag_subseq/trace_trial2_310-321.json', '../../trace_data/theft_protection/single_thread/version_3/faulty_data/diag_subseq/trace_trial1_720-759.json', '../../trace_data/theft_protection/single_thread/version_3/faulty_data/diag_subseq/trace_trial2_1230-1267.json', '../../trace_data/theft_protection/single_thread/version_3/faulty_data/diag_subseq/trace_trial2_1710-1779.json', '../../trace_data/theft_protection/single_thread/version_3/faulty_data/diag_subseq/trace_trial2_2280-2324.json', '../../trace_data/theft_protection/single_thread/version_3/faulty_data/diag_subseq/trace_trial1_2055-2092.json', '../../trace_data/theft_protection/single_thread/version_3/faulty_data/diag_subseq/trace_trial2_1375-1419.json', '../../trace_data/theft_protection/single_thread/version_3/faulty_data/diag_subseq/trace_trial2_1496-1533.json', '../../trace_data/theft_protection/single_thread/version_3/faulty_data/diag_subseq/trace_trial1_2416-2455.json', '../../trace_data/theft_protection/single_thread/version_3/faulty_data/diag_subseq/trace_trial2_1841-1978.json', '../../trace_data/theft_protection/single_thread/version_3/faulty_data/diag_subseq/trace_trial1_2173-2212.json', '../../trace_data/theft_protection/single_thread/version_3/faulty_data/diag_subseq/trace_trial1_2102-2141.json', '../../trace_data/theft_protection/single_thread/version_3/faulty_data/diag_subseq/trace_trial1_526-565.json', '../../trace_data/theft_protection/single_thread/version_3/faulty_data/diag_subseq/trace_trial2_2427-2471.json', '../../trace_data/theft_protection/single_thread/version_3/faulty_data/diag_subseq/trace_trial1_1101-1140.json', '../../trace_data/theft_protection/single_thread/version_3/faulty_data/diag_subseq/trace_trial1_1616-1655.json', '../../trace_data/theft_protection/single_thread/version_3/faulty_data/diag_subseq/trace_trial2_2055-2103.json', '../../trace_data/theft_protection/single_thread/version_3/faulty_data/diag_subseq/trace_trial2_116-203.json', '../../trace_data/theft_protection/single_thread/version_3/faulty_data/diag_subseq/trace_trial2_625-716.json', '../../trace_data/theft_protection/single_thread/version_3/faulty_data/diag_subseq/trace_trial1_952-991.json', '../../trace_data/theft_protection/single_thread/version_3/faulty_data/diag_subseq/trace_trial1_190-229.json']\n",
      "34\n",
      "test_labels:\n",
      " ['../../trace_data/theft_protection/single_thread/version_3/faulty_data/diag_subseq/subseq_labels/subseq_class.json']\n"
     ]
    }
   ],
   "source": [
    "# ############ configuration - trace ################\n",
    "# ############################################\n",
    "\n",
    "\n",
    "CODE = 'theft_protection'       ### application (code)       ###  'theft_protection', 'mamba2', 'lora_ducy'\n",
    "BEHAVIOUR_FAULTY = 'faulty_data'            ### normal, faulty_data\n",
    "BEHAVIOUR_NORMAL = 'normal'            ### normal, faulty_data\n",
    "THREAD = 'single'           ### single, multi\n",
    "VER = 3                     ### format of data collection\n",
    "\n",
    "base_dir = '../../trace_data' ### can be replaced with 'csv', 'exe_plot', 'histogram'\n",
    "normalbase_path = base_dir+f'/{CODE}/{THREAD}_thread/version_{VER}/{BEHAVIOUR_NORMAL}'\n",
    "faultybase_path = base_dir+f'/{CODE}/{THREAD}_thread/version_{VER}/{BEHAVIOUR_FAULTY}'\n",
    "\n",
    "print(normalbase_path)\n",
    "print(faultybase_path)\n",
    "\n",
    "\n",
    "################# configuration - diag ################\n",
    "IS_VAR_WINDOW = False             ### True: varibale window size, False: fixed window size; wether to use variable window size or not\n",
    "\n",
    "#####################################################\n",
    "\n",
    "\n",
    "ref_samples_basepath = os.path.join(normalbase_path, 'diag_refsamples')\n",
    "ref_var_samples_basepath = os.path.join(normalbase_path, 'diag_var_refsamples')\n",
    "diag_subseq_basepath = os.path.join(faultybase_path, 'diag_subseq')\n",
    "subseq_label_basepath = os.path.join(diag_subseq_basepath, 'subseq_labels')\n",
    "\n",
    "\n",
    "print('ref_samples_path:\\n', ref_samples_basepath)\n",
    "print('ref_var_samples_path:\\n', ref_var_samples_basepath)\n",
    "print('diag_subseq_path:\\n', diag_subseq_basepath)\n",
    "\n",
    "######### get paths #######################\n",
    "ref_samples_path = [os.path.join(ref_samples_basepath, x) for x in os.listdir(ref_samples_basepath)]\n",
    "ref_var_samples_path = [os.path.join(ref_var_samples_basepath, x) for x in os.listdir(ref_var_samples_basepath)]   \n",
    "\n",
    "train_varlist_path = os.listdir(normalbase_path)\n",
    "train_varlist_path = [os.path.join(normalbase_path, x) for x in train_varlist_path if 'varlist' in x]\n",
    "\n",
    "######### get paths #######################\n",
    "paths_log, paths_traces, varlist_path, paths_label = get_paths(faultybase_path)\n",
    "\n",
    "test_subseq_path = [os.path.join(diag_subseq_basepath, x) for x in os.listdir(diag_subseq_basepath)]\n",
    "test_labels_path = [os.path.join(subseq_label_basepath, x) for x in os.listdir(subseq_label_basepath)]\n",
    "\n",
    "# ### remove.Ds_store from all lists\n",
    "train_varlist_path = [x for x in train_varlist_path if '.DS_Store' not in x]\n",
    "varlist_path = [x for x in varlist_path if '.DS_Store' not in x]\n",
    "paths_label = [x for x in paths_label if '.DS_Store' not in x]\n",
    "ref_samples_path = [x for x in ref_samples_path if '.DS_Store' not in x]\n",
    "ref_var_samples_path = [x for x in ref_var_samples_path if '.DS_Store' not in x]\n",
    "test_subseq_path = [x for x in test_subseq_path if '.DS_Store' not in x if '.json' in x]\n",
    "test_labels_path = [x for x in test_labels_path if '.DS_Store' not in x]\n",
    "\n",
    "\n",
    "varlist_path.sort()\n",
    "\n",
    "# print(paths_log)\n",
    "# print(paths_traces)\n",
    "# print(varlist_path)\n",
    "# print(paths_label)\n",
    "\n",
    "if IS_VAR_WINDOW:\n",
    "    train_data_path = ref_var_samples_path\n",
    "else:\n",
    "    train_data_path = ref_samples_path\n",
    "\n",
    "test_data_path = test_subseq_path\n",
    "\n",
    "print('train_data:\\n', train_data_path)\n",
    "print(len(train_data_path))\n",
    "print('test_data:\\n', test_data_path)\n",
    "print(len(test_data_path))\n",
    "print('test_labels:\\n', test_labels_path)\n",
    "\n"
   ]
  },
  {
   "cell_type": "code",
   "execution_count": 3,
   "metadata": {},
   "outputs": [
    {
     "name": "stdout",
     "output_type": "stream",
     "text": [
      "varlist 1 is consistent with varlist 0\n",
      "varlist 2 is consistent with varlist 0\n",
      "varlist 3 is consistent with varlist 0\n"
     ]
    }
   ],
   "source": [
    "############# check varlist is consistent ############\n",
    "############# only for version 3 ######################\n",
    "\n",
    "if VER == 3 or VER == 4:\n",
    "    check_con, _ = is_consistent([train_varlist_path[0]]+ varlist_path) ### compare with train varlist\n",
    "\n",
    "    if check_con != False:\n",
    "        to_number = read_json(varlist_path[0])\n",
    "        from_number = mapint2var(to_number)\n",
    "    else:\n",
    "        ### load normal varlist\n",
    "        print('loading normal varlist')\n",
    "        to_number = read_json(train_varlist_path[0])\n",
    "        from_number = mapint2var(to_number)\n",
    "\n"
   ]
  },
  {
   "cell_type": "code",
   "execution_count": 4,
   "metadata": {},
   "outputs": [],
   "source": [
    "to_number = read_json(train_varlist_path[0])\n",
    "from_number = mapint2var(to_number)"
   ]
  },
  {
   "cell_type": "code",
   "execution_count": 5,
   "metadata": {},
   "outputs": [],
   "source": [
    "# #### key finder ####\n",
    "# from_number[44]"
   ]
  },
  {
   "cell_type": "code",
   "execution_count": 6,
   "metadata": {},
   "outputs": [],
   "source": [
    "############ Get variable list ######################\n",
    "sorted_keys = list(from_number.keys())\n",
    "sorted_keys.sort()\n",
    "var_list = [from_number[key] for key in sorted_keys]   ### get the variable list\n",
    "# print(var_list)"
   ]
  },
  {
   "cell_type": "markdown",
   "metadata": {},
   "source": [
    "## Prepare Training Data"
   ]
  },
  {
   "cell_type": "code",
   "execution_count": null,
   "metadata": {},
   "outputs": [],
   "source": [
    "'''\n",
    "TODO:\n",
    "1. check the code for feature extraction in Approach 1\n",
    "2. split the ref_samples in seq of 50 events (sliding interval of 1)\n",
    "3. prepare y_train i.e. the expected output of the seq\n",
    "4. train the model\n",
    "'''"
   ]
  },
  {
   "cell_type": "code",
   "execution_count": 157,
   "metadata": {},
   "outputs": [],
   "source": [
    "### load all the reference samples (fixed window size)\n",
    "### the ref_samples: list of list of events, list of intervals for the subseq of size 500\n",
    "ref_samples = []\n",
    "for ref_sample_path in train_data_path:\n",
    "    ref_trace = read_traces(ref_sample_path)\n",
    "    ref_samples.append(ref_trace)\n",
    "    # print(ref_trace)\n",
    "    # break"
   ]
  },
  {
   "cell_type": "code",
   "execution_count": 158,
   "metadata": {},
   "outputs": [
    {
     "data": {
      "text/plain": [
       "(438, 2, 500)"
      ]
     },
     "execution_count": 158,
     "metadata": {},
     "output_type": "execute_result"
    }
   ],
   "source": [
    "np.array(ref_samples).shape"
   ]
  },
  {
   "cell_type": "code",
   "execution_count": 159,
   "metadata": {},
   "outputs": [],
   "source": [
    "### make subseq of 50 events, with sliding interval of 1\n",
    "WINDOW = 50\n",
    "sub_seq_events = []\n",
    "sub_seq_intervals = []\n",
    "X_train = []\n",
    "Y_train = []\n",
    "for ref_trace in ref_samples:\n",
    "    # print(ref_trace)\n",
    "    ref_events = ref_trace[0]\n",
    "    ref_intervals = ref_trace[1]\n",
    "    # print(len(ref_events))\n",
    "    # print(len(ref_intervals))\n",
    "    ### we take one less event for training because we need last event as label\n",
    "    for i in range(len(ref_events)-WINDOW): \n",
    "        # print(i)\n",
    "        # print(ref_events[i])\n",
    "        sub_seq_events.append(ref_events[i:i+WINDOW])\n",
    "        sub_seq_intervals.append(ref_intervals[i:i+WINDOW])\n",
    "\n",
    "        ### both events and intervals are taken as input\n",
    "        # _x_train = [ref_events[i:i+WINDOW], ref_intervals[i:i+WINDOW]]\n",
    "        # _x_train = np.array(_x_train)\n",
    "        # _x_train = np.transpose(_x_train)\n",
    "        # _y_train = np.array([ref_events[i+WINDOW], ref_intervals[i+WINDOW]])\n",
    "\n",
    "        ### only events are taken as input\n",
    "        _x_train = [ref_events[i:i+WINDOW]]\n",
    "        _y_train = [ref_events[i+WINDOW]]\n",
    "\n",
    "        X_train.append(_x_train)\n",
    "        Y_train.append(_y_train)\n",
    "\n",
    "\n",
    "    # break"
   ]
  },
  {
   "cell_type": "code",
   "execution_count": 160,
   "metadata": {},
   "outputs": [
    {
     "name": "stdout",
     "output_type": "stream",
     "text": [
      "(197100, 1, 50)\n"
     ]
    }
   ],
   "source": [
    "print(np.array(X_train).shape)"
   ]
  },
  {
   "cell_type": "code",
   "execution_count": 170,
   "metadata": {},
   "outputs": [
    {
     "name": "stdout",
     "output_type": "stream",
     "text": [
      "(100915, 50, 1)\n",
      "(100915, 1, 1)\n",
      "(25229, 50, 1)\n",
      "(25229, 1, 1)\n"
     ]
    }
   ],
   "source": [
    "### preprocess training data\n",
    "X_train = np.array(X_train)\n",
    "Y_train = np.array(Y_train)\n",
    "X_train = X_train.reshape(X_train.shape[0], X_train.shape[2], X_train.shape[1])\n",
    "Y_train = Y_train.reshape(Y_train.shape[0], Y_train.shape[1],1)\n",
    "\n",
    "### shuffle the data\n",
    "X_train, Y_train = shuffle(X_train, Y_train, random_state=0)\n",
    "\n",
    "### split the data in train, validation and test sets\n",
    "X_train, x_test, Y_train, y_test = train_test_split(X_train, Y_train, test_size=0.2, random_state=0)\n",
    "# X_val, X_test, Y_val, Y_test = train_test_split(X_val, Y_val, test_size=0.5, random_state=0)\n",
    "\n",
    "print(X_train.shape)\n",
    "print(Y_train.shape)\n",
    "\n",
    "# print(X_val.shape)\n",
    "# print(Y_val.shape)\n",
    "\n",
    "print(x_test.shape)\n",
    "print(y_test.shape)\n"
   ]
  },
  {
   "cell_type": "code",
   "execution_count": null,
   "metadata": {},
   "outputs": [],
   "source": []
  },
  {
   "cell_type": "markdown",
   "metadata": {},
   "source": [
    "## Build and Train DL Models"
   ]
  },
  {
   "cell_type": "code",
   "execution_count": 171,
   "metadata": {},
   "outputs": [],
   "source": [
    "import tensorflow as tf\n",
    "import TSFEDL.models_keras as tsfedl"
   ]
  },
  {
   "cell_type": "code",
   "execution_count": 172,
   "metadata": {},
   "outputs": [
    {
     "data": {
      "text/html": [
       "<pre style=\"white-space:pre;overflow-x:auto;line-height:normal;font-family:Menlo,'DejaVu Sans Mono',consolas,'Courier New',monospace\"><span style=\"font-weight: bold\">Model: \"forecaster\"</span>\n",
       "</pre>\n"
      ],
      "text/plain": [
       "\u001b[1mModel: \"forecaster\"\u001b[0m\n"
      ]
     },
     "metadata": {},
     "output_type": "display_data"
    },
    {
     "data": {
      "text/html": [
       "<pre style=\"white-space:pre;overflow-x:auto;line-height:normal;font-family:Menlo,'DejaVu Sans Mono',consolas,'Courier New',monospace\">┏━━━━━━━━━━━━━━━━━━━━━━━━━━━━━━━━━┳━━━━━━━━━━━━━━━━━━━━━━━━┳━━━━━━━━━━━━━━━┓\n",
       "┃<span style=\"font-weight: bold\"> Layer (type)                    </span>┃<span style=\"font-weight: bold\"> Output Shape           </span>┃<span style=\"font-weight: bold\">       Param # </span>┃\n",
       "┡━━━━━━━━━━━━━━━━━━━━━━━━━━━━━━━━━╇━━━━━━━━━━━━━━━━━━━━━━━━╇━━━━━━━━━━━━━━━┩\n",
       "│ input_layer_21 (<span style=\"color: #0087ff; text-decoration-color: #0087ff\">InputLayer</span>)     │ (<span style=\"color: #00d7ff; text-decoration-color: #00d7ff\">None</span>, <span style=\"color: #00af00; text-decoration-color: #00af00\">50</span>, <span style=\"color: #00af00; text-decoration-color: #00af00\">1</span>)          │             <span style=\"color: #00af00; text-decoration-color: #00af00\">0</span> │\n",
       "├─────────────────────────────────┼────────────────────────┼───────────────┤\n",
       "│ zero_padding1d_38               │ (<span style=\"color: #00d7ff; text-decoration-color: #00d7ff\">None</span>, <span style=\"color: #00af00; text-decoration-color: #00af00\">52</span>, <span style=\"color: #00af00; text-decoration-color: #00af00\">1</span>)          │             <span style=\"color: #00af00; text-decoration-color: #00af00\">0</span> │\n",
       "│ (<span style=\"color: #0087ff; text-decoration-color: #0087ff\">ZeroPadding1D</span>)                 │                        │               │\n",
       "├─────────────────────────────────┼────────────────────────┼───────────────┤\n",
       "│ conv1d_38 (<span style=\"color: #0087ff; text-decoration-color: #0087ff\">Conv1D</span>)              │ (<span style=\"color: #00d7ff; text-decoration-color: #00d7ff\">None</span>, <span style=\"color: #00af00; text-decoration-color: #00af00\">7</span>, <span style=\"color: #00af00; text-decoration-color: #00af00\">48</span>)          │           <span style=\"color: #00af00; text-decoration-color: #00af00\">768</span> │\n",
       "├─────────────────────────────────┼────────────────────────┼───────────────┤\n",
       "│ max_pooling1d_36 (<span style=\"color: #0087ff; text-decoration-color: #0087ff\">MaxPooling1D</span>) │ (<span style=\"color: #00d7ff; text-decoration-color: #00d7ff\">None</span>, <span style=\"color: #00af00; text-decoration-color: #00af00\">6</span>, <span style=\"color: #00af00; text-decoration-color: #00af00\">48</span>)          │             <span style=\"color: #00af00; text-decoration-color: #00af00\">0</span> │\n",
       "├─────────────────────────────────┼────────────────────────┼───────────────┤\n",
       "│ zero_padding1d_39               │ (<span style=\"color: #00d7ff; text-decoration-color: #00d7ff\">None</span>, <span style=\"color: #00af00; text-decoration-color: #00af00\">12</span>, <span style=\"color: #00af00; text-decoration-color: #00af00\">48</span>)         │             <span style=\"color: #00af00; text-decoration-color: #00af00\">0</span> │\n",
       "│ (<span style=\"color: #0087ff; text-decoration-color: #0087ff\">ZeroPadding1D</span>)                 │                        │               │\n",
       "├─────────────────────────────────┼────────────────────────┼───────────────┤\n",
       "│ conv1d_39 (<span style=\"color: #0087ff; text-decoration-color: #0087ff\">Conv1D</span>)              │ (<span style=\"color: #00d7ff; text-decoration-color: #00d7ff\">None</span>, <span style=\"color: #00af00; text-decoration-color: #00af00\">3</span>, <span style=\"color: #00af00; text-decoration-color: #00af00\">256</span>)         │        <span style=\"color: #00af00; text-decoration-color: #00af00\">86,272</span> │\n",
       "├─────────────────────────────────┼────────────────────────┼───────────────┤\n",
       "│ max_pooling1d_37 (<span style=\"color: #0087ff; text-decoration-color: #0087ff\">MaxPooling1D</span>) │ (<span style=\"color: #00d7ff; text-decoration-color: #00d7ff\">None</span>, <span style=\"color: #00af00; text-decoration-color: #00af00\">2</span>, <span style=\"color: #00af00; text-decoration-color: #00af00\">256</span>)         │             <span style=\"color: #00af00; text-decoration-color: #00af00\">0</span> │\n",
       "├─────────────────────────────────┼────────────────────────┼───────────────┤\n",
       "│ lstm_17 (<span style=\"color: #0087ff; text-decoration-color: #0087ff\">LSTM</span>)                  │ (<span style=\"color: #00d7ff; text-decoration-color: #00d7ff\">None</span>, <span style=\"color: #00af00; text-decoration-color: #00af00\">20</span>)             │        <span style=\"color: #00af00; text-decoration-color: #00af00\">22,160</span> │\n",
       "├─────────────────────────────────┼────────────────────────┼───────────────┤\n",
       "│ flatten_17 (<span style=\"color: #0087ff; text-decoration-color: #0087ff\">Flatten</span>)            │ (<span style=\"color: #00d7ff; text-decoration-color: #00d7ff\">None</span>, <span style=\"color: #00af00; text-decoration-color: #00af00\">20</span>)             │             <span style=\"color: #00af00; text-decoration-color: #00af00\">0</span> │\n",
       "├─────────────────────────────────┼────────────────────────┼───────────────┤\n",
       "│ dense_40 (<span style=\"color: #0087ff; text-decoration-color: #0087ff\">Dense</span>)                │ (<span style=\"color: #00d7ff; text-decoration-color: #00d7ff\">None</span>, <span style=\"color: #00af00; text-decoration-color: #00af00\">50</span>)             │         <span style=\"color: #00af00; text-decoration-color: #00af00\">1,050</span> │\n",
       "├─────────────────────────────────┼────────────────────────┼───────────────┤\n",
       "│ dense_41 (<span style=\"color: #0087ff; text-decoration-color: #0087ff\">Dense</span>)                │ (<span style=\"color: #00d7ff; text-decoration-color: #00d7ff\">None</span>, <span style=\"color: #00af00; text-decoration-color: #00af00\">1</span>)              │            <span style=\"color: #00af00; text-decoration-color: #00af00\">51</span> │\n",
       "├─────────────────────────────────┼────────────────────────┼───────────────┤\n",
       "│ reshape_16 (<span style=\"color: #0087ff; text-decoration-color: #0087ff\">Reshape</span>)            │ (<span style=\"color: #00d7ff; text-decoration-color: #00d7ff\">None</span>, <span style=\"color: #00af00; text-decoration-color: #00af00\">1</span>, <span style=\"color: #00af00; text-decoration-color: #00af00\">1</span>)           │             <span style=\"color: #00af00; text-decoration-color: #00af00\">0</span> │\n",
       "└─────────────────────────────────┴────────────────────────┴───────────────┘\n",
       "</pre>\n"
      ],
      "text/plain": [
       "┏━━━━━━━━━━━━━━━━━━━━━━━━━━━━━━━━━┳━━━━━━━━━━━━━━━━━━━━━━━━┳━━━━━━━━━━━━━━━┓\n",
       "┃\u001b[1m \u001b[0m\u001b[1mLayer (type)                   \u001b[0m\u001b[1m \u001b[0m┃\u001b[1m \u001b[0m\u001b[1mOutput Shape          \u001b[0m\u001b[1m \u001b[0m┃\u001b[1m \u001b[0m\u001b[1m      Param #\u001b[0m\u001b[1m \u001b[0m┃\n",
       "┡━━━━━━━━━━━━━━━━━━━━━━━━━━━━━━━━━╇━━━━━━━━━━━━━━━━━━━━━━━━╇━━━━━━━━━━━━━━━┩\n",
       "│ input_layer_21 (\u001b[38;5;33mInputLayer\u001b[0m)     │ (\u001b[38;5;45mNone\u001b[0m, \u001b[38;5;34m50\u001b[0m, \u001b[38;5;34m1\u001b[0m)          │             \u001b[38;5;34m0\u001b[0m │\n",
       "├─────────────────────────────────┼────────────────────────┼───────────────┤\n",
       "│ zero_padding1d_38               │ (\u001b[38;5;45mNone\u001b[0m, \u001b[38;5;34m52\u001b[0m, \u001b[38;5;34m1\u001b[0m)          │             \u001b[38;5;34m0\u001b[0m │\n",
       "│ (\u001b[38;5;33mZeroPadding1D\u001b[0m)                 │                        │               │\n",
       "├─────────────────────────────────┼────────────────────────┼───────────────┤\n",
       "│ conv1d_38 (\u001b[38;5;33mConv1D\u001b[0m)              │ (\u001b[38;5;45mNone\u001b[0m, \u001b[38;5;34m7\u001b[0m, \u001b[38;5;34m48\u001b[0m)          │           \u001b[38;5;34m768\u001b[0m │\n",
       "├─────────────────────────────────┼────────────────────────┼───────────────┤\n",
       "│ max_pooling1d_36 (\u001b[38;5;33mMaxPooling1D\u001b[0m) │ (\u001b[38;5;45mNone\u001b[0m, \u001b[38;5;34m6\u001b[0m, \u001b[38;5;34m48\u001b[0m)          │             \u001b[38;5;34m0\u001b[0m │\n",
       "├─────────────────────────────────┼────────────────────────┼───────────────┤\n",
       "│ zero_padding1d_39               │ (\u001b[38;5;45mNone\u001b[0m, \u001b[38;5;34m12\u001b[0m, \u001b[38;5;34m48\u001b[0m)         │             \u001b[38;5;34m0\u001b[0m │\n",
       "│ (\u001b[38;5;33mZeroPadding1D\u001b[0m)                 │                        │               │\n",
       "├─────────────────────────────────┼────────────────────────┼───────────────┤\n",
       "│ conv1d_39 (\u001b[38;5;33mConv1D\u001b[0m)              │ (\u001b[38;5;45mNone\u001b[0m, \u001b[38;5;34m3\u001b[0m, \u001b[38;5;34m256\u001b[0m)         │        \u001b[38;5;34m86,272\u001b[0m │\n",
       "├─────────────────────────────────┼────────────────────────┼───────────────┤\n",
       "│ max_pooling1d_37 (\u001b[38;5;33mMaxPooling1D\u001b[0m) │ (\u001b[38;5;45mNone\u001b[0m, \u001b[38;5;34m2\u001b[0m, \u001b[38;5;34m256\u001b[0m)         │             \u001b[38;5;34m0\u001b[0m │\n",
       "├─────────────────────────────────┼────────────────────────┼───────────────┤\n",
       "│ lstm_17 (\u001b[38;5;33mLSTM\u001b[0m)                  │ (\u001b[38;5;45mNone\u001b[0m, \u001b[38;5;34m20\u001b[0m)             │        \u001b[38;5;34m22,160\u001b[0m │\n",
       "├─────────────────────────────────┼────────────────────────┼───────────────┤\n",
       "│ flatten_17 (\u001b[38;5;33mFlatten\u001b[0m)            │ (\u001b[38;5;45mNone\u001b[0m, \u001b[38;5;34m20\u001b[0m)             │             \u001b[38;5;34m0\u001b[0m │\n",
       "├─────────────────────────────────┼────────────────────────┼───────────────┤\n",
       "│ dense_40 (\u001b[38;5;33mDense\u001b[0m)                │ (\u001b[38;5;45mNone\u001b[0m, \u001b[38;5;34m50\u001b[0m)             │         \u001b[38;5;34m1,050\u001b[0m │\n",
       "├─────────────────────────────────┼────────────────────────┼───────────────┤\n",
       "│ dense_41 (\u001b[38;5;33mDense\u001b[0m)                │ (\u001b[38;5;45mNone\u001b[0m, \u001b[38;5;34m1\u001b[0m)              │            \u001b[38;5;34m51\u001b[0m │\n",
       "├─────────────────────────────────┼────────────────────────┼───────────────┤\n",
       "│ reshape_16 (\u001b[38;5;33mReshape\u001b[0m)            │ (\u001b[38;5;45mNone\u001b[0m, \u001b[38;5;34m1\u001b[0m, \u001b[38;5;34m1\u001b[0m)           │             \u001b[38;5;34m0\u001b[0m │\n",
       "└─────────────────────────────────┴────────────────────────┴───────────────┘\n"
      ]
     },
     "metadata": {},
     "output_type": "display_data"
    },
    {
     "data": {
      "text/html": [
       "<pre style=\"white-space:pre;overflow-x:auto;line-height:normal;font-family:Menlo,'DejaVu Sans Mono',consolas,'Courier New',monospace\"><span style=\"font-weight: bold\"> Total params: </span><span style=\"color: #00af00; text-decoration-color: #00af00\">110,301</span> (430.86 KB)\n",
       "</pre>\n"
      ],
      "text/plain": [
       "\u001b[1m Total params: \u001b[0m\u001b[38;5;34m110,301\u001b[0m (430.86 KB)\n"
      ]
     },
     "metadata": {},
     "output_type": "display_data"
    },
    {
     "data": {
      "text/html": [
       "<pre style=\"white-space:pre;overflow-x:auto;line-height:normal;font-family:Menlo,'DejaVu Sans Mono',consolas,'Courier New',monospace\"><span style=\"font-weight: bold\"> Trainable params: </span><span style=\"color: #00af00; text-decoration-color: #00af00\">110,301</span> (430.86 KB)\n",
       "</pre>\n"
      ],
      "text/plain": [
       "\u001b[1m Trainable params: \u001b[0m\u001b[38;5;34m110,301\u001b[0m (430.86 KB)\n"
      ]
     },
     "metadata": {},
     "output_type": "display_data"
    },
    {
     "data": {
      "text/html": [
       "<pre style=\"white-space:pre;overflow-x:auto;line-height:normal;font-family:Menlo,'DejaVu Sans Mono',consolas,'Courier New',monospace\"><span style=\"font-weight: bold\"> Non-trainable params: </span><span style=\"color: #00af00; text-decoration-color: #00af00\">0</span> (0.00 B)\n",
       "</pre>\n"
      ],
      "text/plain": [
       "\u001b[1m Non-trainable params: \u001b[0m\u001b[38;5;34m0\u001b[0m (0.00 B)\n"
      ]
     },
     "metadata": {},
     "output_type": "display_data"
    },
    {
     "name": "stdout",
     "output_type": "stream",
     "text": [
      "None\n"
     ]
    }
   ],
   "source": [
    "#### build model ####\n",
    "input = tf.keras.Input(shape=(50,1))\n",
    "model = tsfedl.HuangMeiLing(input_tensor=input, include_top=False)\n",
    "x = model.output\n",
    "x = tf.keras.layers.LSTM(units=20)(x)\n",
    "### Add the top module\n",
    "x = tf.keras.layers.Flatten()(x)\n",
    "x = tf.keras.layers.Dense(50)(x)\n",
    "# x = tf.keras.layers.Dense(10)(x)\n",
    "x = tf.keras.layers.Dense(1)(x)\n",
    "out = tf.keras.layers.Reshape([1, 1])(x)\n",
    "\n",
    "### create new model\n",
    "forecaster = tf.keras.Model(inputs=input, outputs=out, name=\"forecaster\")\n",
    "\n",
    "# print(model.summary())\n",
    "print(forecaster.summary())\n"
   ]
  },
  {
   "cell_type": "code",
   "execution_count": 173,
   "metadata": {},
   "outputs": [
    {
     "name": "stdout",
     "output_type": "stream",
     "text": [
      "Epoch 1/100\n",
      "\u001b[1m1262/1262\u001b[0m \u001b[32m━━━━━━━━━━━━━━━━━━━━\u001b[0m\u001b[37m\u001b[0m \u001b[1m7s\u001b[0m 4ms/step - loss: 1.6697 - mae: 1.6697 - mse: 7.1534 - val_loss: 0.0860 - val_mae: 0.0860 - val_mse: 0.1780\n",
      "Epoch 2/100\n",
      "\u001b[1m1262/1262\u001b[0m \u001b[32m━━━━━━━━━━━━━━━━━━━━\u001b[0m\u001b[37m\u001b[0m \u001b[1m5s\u001b[0m 4ms/step - loss: 0.0746 - mae: 0.0746 - mse: 0.1678 - val_loss: 0.0606 - val_mae: 0.0606 - val_mse: 0.1766\n",
      "Epoch 3/100\n",
      "\u001b[1m1262/1262\u001b[0m \u001b[32m━━━━━━━━━━━━━━━━━━━━\u001b[0m\u001b[37m\u001b[0m \u001b[1m5s\u001b[0m 4ms/step - loss: 0.0644 - mae: 0.0644 - mse: 0.1733 - val_loss: 0.0547 - val_mae: 0.0547 - val_mse: 0.1779\n",
      "Epoch 4/100\n",
      "\u001b[1m1262/1262\u001b[0m \u001b[32m━━━━━━━━━━━━━━━━━━━━\u001b[0m\u001b[37m\u001b[0m \u001b[1m5s\u001b[0m 4ms/step - loss: 0.0629 - mae: 0.0629 - mse: 0.1775 - val_loss: 0.0852 - val_mae: 0.0852 - val_mse: 0.1768\n",
      "Epoch 5/100\n",
      "\u001b[1m1262/1262\u001b[0m \u001b[32m━━━━━━━━━━━━━━━━━━━━\u001b[0m\u001b[37m\u001b[0m \u001b[1m5s\u001b[0m 4ms/step - loss: 0.0605 - mae: 0.0605 - mse: 0.1629 - val_loss: 0.0891 - val_mae: 0.0891 - val_mse: 0.1826\n",
      "Epoch 6/100\n",
      "\u001b[1m1262/1262\u001b[0m \u001b[32m━━━━━━━━━━━━━━━━━━━━\u001b[0m\u001b[37m\u001b[0m \u001b[1m5s\u001b[0m 4ms/step - loss: 0.0596 - mae: 0.0596 - mse: 0.1800 - val_loss: 0.0536 - val_mae: 0.0536 - val_mse: 0.1772\n",
      "Epoch 7/100\n",
      "\u001b[1m1262/1262\u001b[0m \u001b[32m━━━━━━━━━━━━━━━━━━━━\u001b[0m\u001b[37m\u001b[0m \u001b[1m5s\u001b[0m 4ms/step - loss: 0.0610 - mae: 0.0610 - mse: 0.1748 - val_loss: 0.0616 - val_mae: 0.0616 - val_mse: 0.1785\n",
      "Epoch 8/100\n",
      "\u001b[1m1262/1262\u001b[0m \u001b[32m━━━━━━━━━━━━━━━━━━━━\u001b[0m\u001b[37m\u001b[0m \u001b[1m5s\u001b[0m 4ms/step - loss: 0.0576 - mae: 0.0576 - mse: 0.1732 - val_loss: 0.0514 - val_mae: 0.0514 - val_mse: 0.1770\n",
      "Epoch 9/100\n",
      "\u001b[1m1262/1262\u001b[0m \u001b[32m━━━━━━━━━━━━━━━━━━━━\u001b[0m\u001b[37m\u001b[0m \u001b[1m5s\u001b[0m 4ms/step - loss: 0.0572 - mae: 0.0572 - mse: 0.1697 - val_loss: 0.0638 - val_mae: 0.0638 - val_mse: 0.1769\n",
      "Epoch 10/100\n",
      "\u001b[1m1262/1262\u001b[0m \u001b[32m━━━━━━━━━━━━━━━━━━━━\u001b[0m\u001b[37m\u001b[0m \u001b[1m5s\u001b[0m 4ms/step - loss: 0.0589 - mae: 0.0589 - mse: 0.1732 - val_loss: 0.0617 - val_mae: 0.0617 - val_mse: 0.1766\n",
      "Epoch 11/100\n",
      "\u001b[1m1262/1262\u001b[0m \u001b[32m━━━━━━━━━━━━━━━━━━━━\u001b[0m\u001b[37m\u001b[0m \u001b[1m5s\u001b[0m 4ms/step - loss: 0.0592 - mae: 0.0592 - mse: 0.1770 - val_loss: 0.0572 - val_mae: 0.0572 - val_mse: 0.1773\n",
      "Epoch 12/100\n",
      "\u001b[1m1262/1262\u001b[0m \u001b[32m━━━━━━━━━━━━━━━━━━━━\u001b[0m\u001b[37m\u001b[0m \u001b[1m5s\u001b[0m 4ms/step - loss: 0.0561 - mae: 0.0561 - mse: 0.1718 - val_loss: 0.0689 - val_mae: 0.0689 - val_mse: 0.1804\n",
      "Epoch 13/100\n",
      "\u001b[1m1262/1262\u001b[0m \u001b[32m━━━━━━━━━━━━━━━━━━━━\u001b[0m\u001b[37m\u001b[0m \u001b[1m5s\u001b[0m 4ms/step - loss: 0.0575 - mae: 0.0575 - mse: 0.1792 - val_loss: 0.0515 - val_mae: 0.0515 - val_mse: 0.1781\n",
      "Epoch 14/100\n",
      "\u001b[1m1262/1262\u001b[0m \u001b[32m━━━━━━━━━━━━━━━━━━━━\u001b[0m\u001b[37m\u001b[0m \u001b[1m5s\u001b[0m 4ms/step - loss: 0.0565 - mae: 0.0565 - mse: 0.1699 - val_loss: 0.0516 - val_mae: 0.0516 - val_mse: 0.1784\n",
      "Epoch 15/100\n",
      "\u001b[1m1262/1262\u001b[0m \u001b[32m━━━━━━━━━━━━━━━━━━━━\u001b[0m\u001b[37m\u001b[0m \u001b[1m5s\u001b[0m 4ms/step - loss: 0.0563 - mae: 0.0563 - mse: 0.1638 - val_loss: 0.0612 - val_mae: 0.0612 - val_mse: 0.1799\n",
      "Epoch 16/100\n",
      "\u001b[1m1262/1262\u001b[0m \u001b[32m━━━━━━━━━━━━━━━━━━━━\u001b[0m\u001b[37m\u001b[0m \u001b[1m5s\u001b[0m 4ms/step - loss: 0.0550 - mae: 0.0550 - mse: 0.1623 - val_loss: 0.0632 - val_mae: 0.0632 - val_mse: 0.1797\n",
      "Epoch 17/100\n",
      "\u001b[1m1262/1262\u001b[0m \u001b[32m━━━━━━━━━━━━━━━━━━━━\u001b[0m\u001b[37m\u001b[0m \u001b[1m6s\u001b[0m 4ms/step - loss: 0.0620 - mae: 0.0620 - mse: 0.1705 - val_loss: 0.0506 - val_mae: 0.0506 - val_mse: 0.1769\n",
      "Epoch 18/100\n",
      "\u001b[1m1262/1262\u001b[0m \u001b[32m━━━━━━━━━━━━━━━━━━━━\u001b[0m\u001b[37m\u001b[0m \u001b[1m5s\u001b[0m 4ms/step - loss: 0.0573 - mae: 0.0573 - mse: 0.1697 - val_loss: 0.0519 - val_mae: 0.0519 - val_mse: 0.1773\n",
      "Epoch 19/100\n",
      "\u001b[1m1262/1262\u001b[0m \u001b[32m━━━━━━━━━━━━━━━━━━━━\u001b[0m\u001b[37m\u001b[0m \u001b[1m5s\u001b[0m 4ms/step - loss: 0.0578 - mae: 0.0578 - mse: 0.1759 - val_loss: 0.0494 - val_mae: 0.0494 - val_mse: 0.1784\n",
      "Epoch 20/100\n",
      "\u001b[1m1262/1262\u001b[0m \u001b[32m━━━━━━━━━━━━━━━━━━━━\u001b[0m\u001b[37m\u001b[0m \u001b[1m6s\u001b[0m 5ms/step - loss: 0.0564 - mae: 0.0564 - mse: 0.1682 - val_loss: 0.0476 - val_mae: 0.0476 - val_mse: 0.1783\n",
      "Epoch 21/100\n",
      "\u001b[1m1262/1262\u001b[0m \u001b[32m━━━━━━━━━━━━━━━━━━━━\u001b[0m\u001b[37m\u001b[0m \u001b[1m5s\u001b[0m 4ms/step - loss: 0.0553 - mae: 0.0553 - mse: 0.1693 - val_loss: 0.0502 - val_mae: 0.0502 - val_mse: 0.1786\n",
      "Epoch 22/100\n",
      "\u001b[1m1262/1262\u001b[0m \u001b[32m━━━━━━━━━━━━━━━━━━━━\u001b[0m\u001b[37m\u001b[0m \u001b[1m5s\u001b[0m 4ms/step - loss: 0.0565 - mae: 0.0565 - mse: 0.1738 - val_loss: 0.0490 - val_mae: 0.0490 - val_mse: 0.1778\n",
      "Epoch 23/100\n",
      "\u001b[1m1262/1262\u001b[0m \u001b[32m━━━━━━━━━━━━━━━━━━━━\u001b[0m\u001b[37m\u001b[0m \u001b[1m5s\u001b[0m 4ms/step - loss: 0.0510 - mae: 0.0510 - mse: 0.1572 - val_loss: 0.0530 - val_mae: 0.0530 - val_mse: 0.1784\n",
      "Epoch 24/100\n",
      "\u001b[1m1262/1262\u001b[0m \u001b[32m━━━━━━━━━━━━━━━━━━━━\u001b[0m\u001b[37m\u001b[0m \u001b[1m5s\u001b[0m 4ms/step - loss: 0.0580 - mae: 0.0580 - mse: 0.1791 - val_loss: 0.0520 - val_mae: 0.0520 - val_mse: 0.1791\n",
      "Epoch 25/100\n",
      "\u001b[1m1262/1262\u001b[0m \u001b[32m━━━━━━━━━━━━━━━━━━━━\u001b[0m\u001b[37m\u001b[0m \u001b[1m5s\u001b[0m 4ms/step - loss: 0.0569 - mae: 0.0569 - mse: 0.1763 - val_loss: 0.0504 - val_mae: 0.0504 - val_mse: 0.1780\n",
      "Epoch 26/100\n",
      "\u001b[1m1262/1262\u001b[0m \u001b[32m━━━━━━━━━━━━━━━━━━━━\u001b[0m\u001b[37m\u001b[0m \u001b[1m5s\u001b[0m 4ms/step - loss: 0.0552 - mae: 0.0552 - mse: 0.1676 - val_loss: 0.0587 - val_mae: 0.0587 - val_mse: 0.1796\n",
      "Epoch 27/100\n",
      "\u001b[1m1262/1262\u001b[0m \u001b[32m━━━━━━━━━━━━━━━━━━━━\u001b[0m\u001b[37m\u001b[0m \u001b[1m5s\u001b[0m 4ms/step - loss: 0.0560 - mae: 0.0560 - mse: 0.1690 - val_loss: 0.0671 - val_mae: 0.0671 - val_mse: 0.1804\n",
      "Epoch 28/100\n",
      "\u001b[1m1262/1262\u001b[0m \u001b[32m━━━━━━━━━━━━━━━━━━━━\u001b[0m\u001b[37m\u001b[0m \u001b[1m5s\u001b[0m 4ms/step - loss: 0.0546 - mae: 0.0546 - mse: 0.1668 - val_loss: 0.0494 - val_mae: 0.0494 - val_mse: 0.1781\n",
      "Epoch 29/100\n",
      "\u001b[1m1262/1262\u001b[0m \u001b[32m━━━━━━━━━━━━━━━━━━━━\u001b[0m\u001b[37m\u001b[0m \u001b[1m5s\u001b[0m 4ms/step - loss: 0.0557 - mae: 0.0557 - mse: 0.1745 - val_loss: 0.0565 - val_mae: 0.0565 - val_mse: 0.1788\n",
      "Epoch 30/100\n",
      "\u001b[1m1262/1262\u001b[0m \u001b[32m━━━━━━━━━━━━━━━━━━━━\u001b[0m\u001b[37m\u001b[0m \u001b[1m5s\u001b[0m 4ms/step - loss: 0.0566 - mae: 0.0566 - mse: 0.1631 - val_loss: 0.0675 - val_mae: 0.0675 - val_mse: 0.1773\n"
     ]
    }
   ],
   "source": [
    "### train\n",
    "forecaster.compile(loss='mae', optimizer='adam', metrics=['mae', 'mse'])\n",
    "\n",
    "# history = forecaster.fit(X_train, Y_train, epochs=100, batch_size=32, validation_split=0.2)\n",
    "callbacks = [tf.keras.callbacks.EarlyStopping(monitor='val_loss', patience=10)]\n",
    "history = forecaster.fit(X_train, Y_train, epochs=100, batch_size=64, validation_split=0.2, callbacks=callbacks)"
   ]
  },
  {
   "cell_type": "code",
   "execution_count": 197,
   "metadata": {},
   "outputs": [
    {
     "name": "stderr",
     "output_type": "stream",
     "text": [
      "WARNING:absl:You are saving your model as an HDF5 file via `model.save()` or `keras.saving.save_model(model)`. This file format is considered legacy. We recommend using instead the native Keras format, e.g. `model.save('my_model.keras')` or `keras.saving.save_model(model, 'my_model.keras')`. \n"
     ]
    }
   ],
   "source": [
    "history\n",
    "### save the model\n",
    "forecaster.save('./trained_models/forecaster_events.h5')\n",
    "forecaster.save_weights('./trained_models/forecaster_events.weights.h5')\n"
   ]
  },
  {
   "cell_type": "code",
   "execution_count": 184,
   "metadata": {},
   "outputs": [
    {
     "name": "stdout",
     "output_type": "stream",
     "text": [
      "\u001b[1m789/789\u001b[0m \u001b[32m━━━━━━━━━━━━━━━━━━━━\u001b[0m\u001b[37m\u001b[0m \u001b[1m1s\u001b[0m 884us/step\n",
      "(25229, 1, 1)\n",
      "(25229, 1, 1)\n"
     ]
    }
   ],
   "source": [
    "# print(x_test.shape)\n",
    "\n",
    "y_pred = forecaster.predict(x_test)\n",
    "\n",
    "print(y_pred.shape)\n",
    "print(y_test.shape)"
   ]
  },
  {
   "cell_type": "code",
   "execution_count": 185,
   "metadata": {},
   "outputs": [
    {
     "name": "stdout",
     "output_type": "stream",
     "text": [
      "[[7]] [[7.0197396]]\n",
      "[[9]] [[9.029033]]\n",
      "[[15]] [[15.028571]]\n",
      "[[7]] [[7.019776]]\n",
      "[[6]] [[6.018703]]\n",
      "[[7]] [[7.0197744]]\n",
      "[[9]] [[9.029016]]\n",
      "[[8]] [[8.021746]]\n",
      "[[15]] [[15.028571]]\n",
      "[[6]] [[6.018719]]\n"
     ]
    }
   ],
   "source": [
    "for i in range(10):\n",
    "    print(y_test[i], y_pred[i])"
   ]
  },
  {
   "cell_type": "code",
   "execution_count": null,
   "metadata": {},
   "outputs": [
    {
     "name": "stdout",
     "output_type": "stream",
     "text": [
      "correct: 24927\n",
      "incorrect: 302\n",
      "accuracy: 0.9880296484204685\n",
      "f1_score: 0.9880296484204685\n"
     ]
    }
   ],
   "source": [
    "### testing\n",
    "correct = []\n",
    "incorrect = []\n",
    "for yt,yp in zip(y_test, y_pred):\n",
    "    # print(yt.shape)\n",
    "    # print(yp.shape)\n",
    "    # print(yt, yp)\n",
    "    yt = yt.reshape(1,)\n",
    "    yp = yp.reshape(1,)\n",
    "\n",
    "    # print(yt, yp)\n",
    "\n",
    "    if np.abs(yt-yp) < 1:\n",
    "        # print('correct prediction')\n",
    "        correct.append(x)\n",
    "    else:\n",
    "        # print('incorrect prediction')\n",
    "        incorrect.append(x)\n",
    "        # print(yt, yp)\n",
    "\n",
    "    \n",
    "    # break\n",
    "\n",
    "print('correct:', len(correct))\n",
    "print('incorrect:', len(incorrect))\n",
    "\n",
    "### accuracy\n",
    "accuracy = len(correct)/len(y_test)\n",
    "print('accuracy:', accuracy)"
   ]
  },
  {
   "cell_type": "code",
   "execution_count": null,
   "metadata": {},
   "outputs": [],
   "source": [
    "incorrect"
   ]
  },
  {
   "cell_type": "code",
   "execution_count": null,
   "metadata": {},
   "outputs": [],
   "source": []
  }
 ],
 "metadata": {
  "kernelspec": {
   "display_name": "dlenv",
   "language": "python",
   "name": "python3"
  },
  "language_info": {
   "codemirror_mode": {
    "name": "ipython",
    "version": 3
   },
   "file_extension": ".py",
   "mimetype": "text/x-python",
   "name": "python",
   "nbconvert_exporter": "python",
   "pygments_lexer": "ipython3",
   "version": "3.10.14"
  }
 },
 "nbformat": 4,
 "nbformat_minor": 2
}
