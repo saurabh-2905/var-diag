{
 "cells": [
  {
   "cell_type": "markdown",
   "metadata": {},
   "source": [
    "# Clustering - Fixed Window - DL extractor\n",
    "- Use Deep Learning based extractors to get abstract features by giving the entire detection subseq as input\n",
    "- Use these features to cluster the detections with similar anomalies\n",
    "- The feature extraction is NOT dependent on the corresponding normal behaviour subtrace\n",
    "- This will serve as benchmark peroformance with off the shelf models, without any optimization \n",
    "- We tested this approach across all applications"
   ]
  },
  {
   "cell_type": "code",
   "execution_count": null,
   "metadata": {},
   "outputs": [],
   "source": [
    "'''\n",
    "TODO:\n",
    "- select a DL based feature extractor\n",
    "- check if we need to fine-tune the feature extractor on training data before using it on test data\n",
    "- make a list of suitable clustering algorithms for different usecases\n",
    "\n",
    "CLUSTERING\n",
    "- use the feature extractor to extract features from the detections\n",
    "- try to cluster the detections based on the extracted features\n",
    "\n",
    "Steps:\n",
    "- try TSFEDL for anomaly detection using sepcialized anomaly detectors (detect)\n",
    " \n",
    "- try TSFEDL to extract features using SOTA DL models (diag)\n",
    "- try TSFEL to extract handcrafted features (statistical, spectral, temporal, etc) (diag)\n",
    "'''\n"
   ]
  },
  {
   "cell_type": "code",
   "execution_count": null,
   "metadata": {},
   "outputs": [],
   "source": []
  }
 ],
 "metadata": {
  "kernelspec": {
   "display_name": "venv",
   "language": "python",
   "name": "python3"
  },
  "language_info": {
   "name": "python",
   "version": "3.10.14"
  }
 },
 "nbformat": 4,
 "nbformat_minor": 2
}
