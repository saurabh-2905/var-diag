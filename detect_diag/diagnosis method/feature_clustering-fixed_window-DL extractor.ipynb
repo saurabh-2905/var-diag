{
 "cells": [
  {
   "cell_type": "markdown",
   "metadata": {},
   "source": [
    "# Clustering - Fixed Window - DL extractor\n",
    "- Use Deep Learning based extractors to get abstract features by giving the entire detection subseq as input\n",
    "- Use these features to cluster the detections with similar anomalies\n",
    "- The feature extraction is NOT dependent on the corresponding normal behaviour subtrace\n",
    "- This will serve as benchmark peroformance with off the shelf models, without any optimization \n",
    "- We tested this approach across all applications"
   ]
  },
  {
   "cell_type": "code",
   "execution_count": null,
   "metadata": {
    "vscode": {
     "languageId": "plaintext"
    }
   },
   "outputs": [],
   "source": []
  },
  {
   "cell_type": "code",
   "execution_count": null,
   "metadata": {
    "vscode": {
     "languageId": "plaintext"
    }
   },
   "outputs": [],
   "source": []
  }
 ],
 "metadata": {
  "language_info": {
   "name": "python"
  }
 },
 "nbformat": 4,
 "nbformat_minor": 2
}
