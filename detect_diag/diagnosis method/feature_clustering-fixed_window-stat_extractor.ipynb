{
 "cells": [
  {
   "cell_type": "markdown",
   "metadata": {},
   "source": [
    "# Clustering - Fixed Window - DL extractor\n",
    "- Use Deep Learning based extractors to get abstract features by giving the entire detection subseq as input\n",
    "- Use these features to cluster the detections with similar anomalies\n",
    "- The feature extraction is NOT dependent on the corresponding normal behaviour subtrace\n",
    "- This will serve as benchmark peroformance with off the shelf models, without any optimization \n",
    "- We tested this approach across all applications"
   ]
  },
  {
   "cell_type": "code",
   "execution_count": 1,
   "metadata": {},
   "outputs": [
    {
     "data": {
      "text/plain": [
       "'\\nTODO:\\n- select a DL based feature extractor\\n- check if we need to fine-tune the feature extractor on training data before using it on test data\\n- make a list of suitable clustering algorithms for different usecases\\n\\nCLUSTERING\\n- use the feature extractor to extract features from the detections\\n- try to cluster the detections based on the extracted features\\n\\nSteps:\\n- try TSFEDL for anomaly detection using sepcialized anomaly detectors (detect)\\n \\n- try TSFEDL to extract features using SOTA DL models (diag)\\n- try TSFEL to extract handcrafted features (statistical, spectral, temporal, etc) (diag)\\n'"
      ]
     },
     "execution_count": 1,
     "metadata": {},
     "output_type": "execute_result"
    }
   ],
   "source": [
    "'''\n",
    "TODO:\n",
    "- select a DL based feature extractor\n",
    "- check if we need to fine-tune the feature extractor on training data before using it on test data\n",
    "- make a list of suitable clustering algorithms for different usecases\n",
    "\n",
    "CLUSTERING\n",
    "- use the feature extractor to extract features from the detections\n",
    "- try to cluster the detections based on the extracted features\n",
    "\n",
    "Steps:\n",
    "- try TSFEDL for anomaly detection using sepcialized anomaly detectors (detect)\n",
    " \n",
    "- try TSFEDL to extract features using SOTA DL models (diag)\n",
    "- try TSFEL to extract handcrafted features (statistical, spectral, temporal, etc) (diag)\n",
    "'''\n"
   ]
  },
  {
   "cell_type": "code",
   "execution_count": 1,
   "metadata": {},
   "outputs": [
    {
     "name": "stdout",
     "output_type": "stream",
     "text": [
      "../../trace_data/theft_protection/single_thread/version_3/normal\n",
      "../../trace_data/theft_protection/single_thread/version_3/faulty_data\n",
      "ref_samples_path:\n",
      " ../../trace_data/theft_protection/single_thread/version_3/normal/diag_refsamples\n",
      "ref_var_samples_path:\n",
      " ../../trace_data/theft_protection/single_thread/version_3/normal/diag_var_refsamples\n",
      "diag_subseq_path:\n",
      " ../../trace_data/theft_protection/single_thread/version_3/faulty_data/diag_subseq\n",
      "train_data:\n",
      " ['../../trace_data/theft_protection/single_thread/version_3/normal/diag_refsamples/379.json', '../../trace_data/theft_protection/single_thread/version_3/normal/diag_refsamples/396.json', '../../trace_data/theft_protection/single_thread/version_3/normal/diag_refsamples/115.json', '../../trace_data/theft_protection/single_thread/version_3/normal/diag_refsamples/400.json', '../../trace_data/theft_protection/single_thread/version_3/normal/diag_refsamples/142.json', '../../trace_data/theft_protection/single_thread/version_3/normal/diag_refsamples/457.json', '../../trace_data/theft_protection/single_thread/version_3/normal/diag_refsamples/338.json', '../../trace_data/theft_protection/single_thread/version_3/normal/diag_refsamples/154.json', '../../trace_data/theft_protection/single_thread/version_3/normal/diag_refsamples/441.json', '../../trace_data/theft_protection/single_thread/version_3/normal/diag_refsamples/380.json', '../../trace_data/theft_protection/single_thread/version_3/normal/diag_refsamples/103.json', '../../trace_data/theft_protection/single_thread/version_3/normal/diag_refsamples/416.json', '../../trace_data/theft_protection/single_thread/version_3/normal/diag_refsamples/251.json', '../../trace_data/theft_protection/single_thread/version_3/normal/diag_refsamples/197.json', '../../trace_data/theft_protection/single_thread/version_3/normal/diag_refsamples/482.json', '../../trace_data/theft_protection/single_thread/version_3/normal/diag_refsamples/178.json', '../../trace_data/theft_protection/single_thread/version_3/normal/diag_refsamples/20.json', '../../trace_data/theft_protection/single_thread/version_3/normal/diag_refsamples/206.json', '../../trace_data/theft_protection/single_thread/version_3/normal/diag_refsamples/343.json', '../../trace_data/theft_protection/single_thread/version_3/normal/diag_refsamples/98.json', '../../trace_data/theft_protection/single_thread/version_3/normal/diag_refsamples/77.json', '../../trace_data/theft_protection/single_thread/version_3/normal/diag_refsamples/210.json', '../../trace_data/theft_protection/single_thread/version_3/normal/diag_refsamples/355.json', '../../trace_data/theft_protection/single_thread/version_3/normal/diag_refsamples/139.json', '../../trace_data/theft_protection/single_thread/version_3/normal/diag_refsamples/61.json', '../../trace_data/theft_protection/single_thread/version_3/normal/diag_refsamples/247.json', '../../trace_data/theft_protection/single_thread/version_3/normal/diag_refsamples/181.json', '../../trace_data/theft_protection/single_thread/version_3/normal/diag_refsamples/36.json', '../../trace_data/theft_protection/single_thread/version_3/normal/diag_refsamples/494.json', '../../trace_data/theft_protection/single_thread/version_3/normal/diag_refsamples/119.json', '../../trace_data/theft_protection/single_thread/version_3/normal/diag_refsamples/41.json', '../../trace_data/theft_protection/single_thread/version_3/normal/diag_refsamples/375.json', '../../trace_data/theft_protection/single_thread/version_3/normal/diag_refsamples/230.json', '../../trace_data/theft_protection/single_thread/version_3/normal/diag_refsamples/16.json', '../../trace_data/theft_protection/single_thread/version_3/normal/diag_refsamples/158.json', '../../trace_data/theft_protection/single_thread/version_3/normal/diag_refsamples/334.json', '../../trace_data/theft_protection/single_thread/version_3/normal/diag_refsamples/57.json', '../../trace_data/theft_protection/single_thread/version_3/normal/diag_refsamples/363.json', '../../trace_data/theft_protection/single_thread/version_3/normal/diag_refsamples/226.json', '../../trace_data/theft_protection/single_thread/version_3/normal/diag_refsamples/461.json', '../../trace_data/theft_protection/single_thread/version_3/normal/diag_refsamples/174.json', '../../trace_data/theft_protection/single_thread/version_3/normal/diag_refsamples/94.json', '../../trace_data/theft_protection/single_thread/version_3/normal/diag_refsamples/436.json', '../../trace_data/theft_protection/single_thread/version_3/normal/diag_refsamples/123.json', '../../trace_data/theft_protection/single_thread/version_3/normal/diag_refsamples/420.json', '../../trace_data/theft_protection/single_thread/version_3/normal/diag_refsamples/82.json', '../../trace_data/theft_protection/single_thread/version_3/normal/diag_refsamples/6.json', '../../trace_data/theft_protection/single_thread/version_3/normal/diag_refsamples/135.json', '../../trace_data/theft_protection/single_thread/version_3/normal/diag_refsamples/359.json', '../../trace_data/theft_protection/single_thread/version_3/normal/diag_refsamples/477.json', '../../trace_data/theft_protection/single_thread/version_3/normal/diag_refsamples/498.json', '../../trace_data/theft_protection/single_thread/version_3/normal/diag_refsamples/162.json', '../../trace_data/theft_protection/single_thread/version_3/normal/diag_refsamples/476.json', '../../trace_data/theft_protection/single_thread/version_3/normal/diag_refsamples/499.json', '../../trace_data/theft_protection/single_thread/version_3/normal/diag_refsamples/163.json', '../../trace_data/theft_protection/single_thread/version_3/normal/diag_refsamples/358.json', '../../trace_data/theft_protection/single_thread/version_3/normal/diag_refsamples/421.json', '../../trace_data/theft_protection/single_thread/version_3/normal/diag_refsamples/7.json', '../../trace_data/theft_protection/single_thread/version_3/normal/diag_refsamples/83.json', '../../trace_data/theft_protection/single_thread/version_3/normal/diag_refsamples/134.json', '../../trace_data/theft_protection/single_thread/version_3/normal/diag_refsamples/95.json', '../../trace_data/theft_protection/single_thread/version_3/normal/diag_refsamples/437.json', '../../trace_data/theft_protection/single_thread/version_3/normal/diag_refsamples/122.json', '../../trace_data/theft_protection/single_thread/version_3/normal/diag_refsamples/460.json', '../../trace_data/theft_protection/single_thread/version_3/normal/diag_refsamples/175.json', '../../trace_data/theft_protection/single_thread/version_3/normal/diag_refsamples/362.json', '../../trace_data/theft_protection/single_thread/version_3/normal/diag_refsamples/227.json', '../../trace_data/theft_protection/single_thread/version_3/normal/diag_refsamples/56.json', '../../trace_data/theft_protection/single_thread/version_3/normal/diag_refsamples/335.json', '../../trace_data/theft_protection/single_thread/version_3/normal/diag_refsamples/159.json', '../../trace_data/theft_protection/single_thread/version_3/normal/diag_refsamples/323.json', '../../trace_data/theft_protection/single_thread/version_3/normal/diag_refsamples/17.json', '../../trace_data/theft_protection/single_thread/version_3/normal/diag_refsamples/374.json', '../../trace_data/theft_protection/single_thread/version_3/normal/diag_refsamples/231.json', '../../trace_data/theft_protection/single_thread/version_3/normal/diag_refsamples/118.json', '../../trace_data/theft_protection/single_thread/version_3/normal/diag_refsamples/40.json', '../../trace_data/theft_protection/single_thread/version_3/normal/diag_refsamples/180.json', '../../trace_data/theft_protection/single_thread/version_3/normal/diag_refsamples/37.json', '../../trace_data/theft_protection/single_thread/version_3/normal/diag_refsamples/495.json', '../../trace_data/theft_protection/single_thread/version_3/normal/diag_refsamples/246.json', '../../trace_data/theft_protection/single_thread/version_3/normal/diag_refsamples/138.json', '../../trace_data/theft_protection/single_thread/version_3/normal/diag_refsamples/60.json', '../../trace_data/theft_protection/single_thread/version_3/normal/diag_refsamples/211.json', '../../trace_data/theft_protection/single_thread/version_3/normal/diag_refsamples/354.json', '../../trace_data/theft_protection/single_thread/version_3/normal/diag_refsamples/99.json', '../../trace_data/theft_protection/single_thread/version_3/normal/diag_refsamples/76.json', '../../trace_data/theft_protection/single_thread/version_3/normal/diag_refsamples/207.json', '../../trace_data/theft_protection/single_thread/version_3/normal/diag_refsamples/342.json', '../../trace_data/theft_protection/single_thread/version_3/normal/diag_refsamples/196.json', '../../trace_data/theft_protection/single_thread/version_3/normal/diag_refsamples/483.json', '../../trace_data/theft_protection/single_thread/version_3/normal/diag_refsamples/179.json', '../../trace_data/theft_protection/single_thread/version_3/normal/diag_refsamples/21.json', '../../trace_data/theft_protection/single_thread/version_3/normal/diag_refsamples/250.json', '../../trace_data/theft_protection/single_thread/version_3/normal/diag_refsamples/102.json', '../../trace_data/theft_protection/single_thread/version_3/normal/diag_refsamples/417.json', '../../trace_data/theft_protection/single_thread/version_3/normal/diag_refsamples/381.json', '../../trace_data/theft_protection/single_thread/version_3/normal/diag_refsamples/155.json', '../../trace_data/theft_protection/single_thread/version_3/normal/diag_refsamples/440.json', '../../trace_data/theft_protection/single_thread/version_3/normal/diag_refsamples/339.json', '../../trace_data/theft_protection/single_thread/version_3/normal/diag_refsamples/143.json', '../../trace_data/theft_protection/single_thread/version_3/normal/diag_refsamples/456.json', '../../trace_data/theft_protection/single_thread/version_3/normal/diag_refsamples/114.json', '../../trace_data/theft_protection/single_thread/version_3/normal/diag_refsamples/401.json', '../../trace_data/theft_protection/single_thread/version_3/normal/diag_refsamples/378.json', '../../trace_data/theft_protection/single_thread/version_3/normal/diag_refsamples/397.json', '../../trace_data/theft_protection/single_thread/version_3/normal/diag_refsamples/47.json', '../../trace_data/theft_protection/single_thread/version_3/normal/diag_refsamples/373.json', '../../trace_data/theft_protection/single_thread/version_3/normal/diag_refsamples/236.json', '../../trace_data/theft_protection/single_thread/version_3/normal/diag_refsamples/148.json', '../../trace_data/theft_protection/single_thread/version_3/normal/diag_refsamples/10.json', '../../trace_data/theft_protection/single_thread/version_3/normal/diag_refsamples/324.json', '../../trace_data/theft_protection/single_thread/version_3/normal/diag_refsamples/332.json', '../../trace_data/theft_protection/single_thread/version_3/normal/diag_refsamples/109.json', '../../trace_data/theft_protection/single_thread/version_3/normal/diag_refsamples/51.json', '../../trace_data/theft_protection/single_thread/version_3/normal/diag_refsamples/365.json', '../../trace_data/theft_protection/single_thread/version_3/normal/diag_refsamples/220.json', '../../trace_data/theft_protection/single_thread/version_3/normal/diag_refsamples/467.json', '../../trace_data/theft_protection/single_thread/version_3/normal/diag_refsamples/488.json', '../../trace_data/theft_protection/single_thread/version_3/normal/diag_refsamples/172.json', '../../trace_data/theft_protection/single_thread/version_3/normal/diag_refsamples/430.json', '../../trace_data/theft_protection/single_thread/version_3/normal/diag_refsamples/92.json', '../../trace_data/theft_protection/single_thread/version_3/normal/diag_refsamples/125.json', '../../trace_data/theft_protection/single_thread/version_3/normal/diag_refsamples/349.json', '../../trace_data/theft_protection/single_thread/version_3/normal/diag_refsamples/84.json', '../../trace_data/theft_protection/single_thread/version_3/normal/diag_refsamples/0.json', '../../trace_data/theft_protection/single_thread/version_3/normal/diag_refsamples/426.json', '../../trace_data/theft_protection/single_thread/version_3/normal/diag_refsamples/133.json', '../../trace_data/theft_protection/single_thread/version_3/normal/diag_refsamples/471.json', '../../trace_data/theft_protection/single_thread/version_3/normal/diag_refsamples/164.json', '../../trace_data/theft_protection/single_thread/version_3/normal/diag_refsamples/390.json', '../../trace_data/theft_protection/single_thread/version_3/normal/diag_refsamples/113.json', '../../trace_data/theft_protection/single_thread/version_3/normal/diag_refsamples/406.json', '../../trace_data/theft_protection/single_thread/version_3/normal/diag_refsamples/328.json', '../../trace_data/theft_protection/single_thread/version_3/normal/diag_refsamples/144.json', '../../trace_data/theft_protection/single_thread/version_3/normal/diag_refsamples/451.json', '../../trace_data/theft_protection/single_thread/version_3/normal/diag_refsamples/152.json', '../../trace_data/theft_protection/single_thread/version_3/normal/diag_refsamples/447.json', '../../trace_data/theft_protection/single_thread/version_3/normal/diag_refsamples/369.json', '../../trace_data/theft_protection/single_thread/version_3/normal/diag_refsamples/386.json', '../../trace_data/theft_protection/single_thread/version_3/normal/diag_refsamples/105.json', '../../trace_data/theft_protection/single_thread/version_3/normal/diag_refsamples/410.json', '../../trace_data/theft_protection/single_thread/version_3/normal/diag_refsamples/257.json', '../../trace_data/theft_protection/single_thread/version_3/normal/diag_refsamples/191.json', '../../trace_data/theft_protection/single_thread/version_3/normal/diag_refsamples/26.json', '../../trace_data/theft_protection/single_thread/version_3/normal/diag_refsamples/484.json', '../../trace_data/theft_protection/single_thread/version_3/normal/diag_refsamples/200.json', '../../trace_data/theft_protection/single_thread/version_3/normal/diag_refsamples/345.json', '../../trace_data/theft_protection/single_thread/version_3/normal/diag_refsamples/129.json', '../../trace_data/theft_protection/single_thread/version_3/normal/diag_refsamples/71.json', '../../trace_data/theft_protection/single_thread/version_3/normal/diag_refsamples/216.json', '../../trace_data/theft_protection/single_thread/version_3/normal/diag_refsamples/353.json', '../../trace_data/theft_protection/single_thread/version_3/normal/diag_refsamples/88.json', '../../trace_data/theft_protection/single_thread/version_3/normal/diag_refsamples/67.json', '../../trace_data/theft_protection/single_thread/version_3/normal/diag_refsamples/241.json', '../../trace_data/theft_protection/single_thread/version_3/normal/diag_refsamples/187.json', '../../trace_data/theft_protection/single_thread/version_3/normal/diag_refsamples/492.json', '../../trace_data/theft_protection/single_thread/version_3/normal/diag_refsamples/168.json', '../../trace_data/theft_protection/single_thread/version_3/normal/diag_refsamples/30.json', '../../trace_data/theft_protection/single_thread/version_3/normal/diag_refsamples/186.json', '../../trace_data/theft_protection/single_thread/version_3/normal/diag_refsamples/493.json', '../../trace_data/theft_protection/single_thread/version_3/normal/diag_refsamples/169.json', '../../trace_data/theft_protection/single_thread/version_3/normal/diag_refsamples/31.json', '../../trace_data/theft_protection/single_thread/version_3/normal/diag_refsamples/240.json', '../../trace_data/theft_protection/single_thread/version_3/normal/diag_refsamples/89.json', '../../trace_data/theft_protection/single_thread/version_3/normal/diag_refsamples/66.json', '../../trace_data/theft_protection/single_thread/version_3/normal/diag_refsamples/217.json', '../../trace_data/theft_protection/single_thread/version_3/normal/diag_refsamples/352.json', '../../trace_data/theft_protection/single_thread/version_3/normal/diag_refsamples/128.json', '../../trace_data/theft_protection/single_thread/version_3/normal/diag_refsamples/70.json', '../../trace_data/theft_protection/single_thread/version_3/normal/diag_refsamples/201.json', '../../trace_data/theft_protection/single_thread/version_3/normal/diag_refsamples/344.json', '../../trace_data/theft_protection/single_thread/version_3/normal/diag_refsamples/190.json', '../../trace_data/theft_protection/single_thread/version_3/normal/diag_refsamples/27.json', '../../trace_data/theft_protection/single_thread/version_3/normal/diag_refsamples/485.json', '../../trace_data/theft_protection/single_thread/version_3/normal/diag_refsamples/256.json', '../../trace_data/theft_protection/single_thread/version_3/normal/diag_refsamples/104.json', '../../trace_data/theft_protection/single_thread/version_3/normal/diag_refsamples/411.json', '../../trace_data/theft_protection/single_thread/version_3/normal/diag_refsamples/368.json', '../../trace_data/theft_protection/single_thread/version_3/normal/diag_refsamples/387.json', '../../trace_data/theft_protection/single_thread/version_3/normal/diag_refsamples/153.json', '../../trace_data/theft_protection/single_thread/version_3/normal/diag_refsamples/446.json', '../../trace_data/theft_protection/single_thread/version_3/normal/diag_refsamples/145.json', '../../trace_data/theft_protection/single_thread/version_3/normal/diag_refsamples/450.json', '../../trace_data/theft_protection/single_thread/version_3/normal/diag_refsamples/329.json', '../../trace_data/theft_protection/single_thread/version_3/normal/diag_refsamples/112.json', '../../trace_data/theft_protection/single_thread/version_3/normal/diag_refsamples/407.json', '../../trace_data/theft_protection/single_thread/version_3/normal/diag_refsamples/391.json', '../../trace_data/theft_protection/single_thread/version_3/normal/diag_refsamples/470.json', '../../trace_data/theft_protection/single_thread/version_3/normal/diag_refsamples/165.json', '../../trace_data/theft_protection/single_thread/version_3/normal/diag_refsamples/1.json', '../../trace_data/theft_protection/single_thread/version_3/normal/diag_refsamples/85.json', '../../trace_data/theft_protection/single_thread/version_3/normal/diag_refsamples/427.json', '../../trace_data/theft_protection/single_thread/version_3/normal/diag_refsamples/132.json', '../../trace_data/theft_protection/single_thread/version_3/normal/diag_refsamples/348.json', '../../trace_data/theft_protection/single_thread/version_3/normal/diag_refsamples/431.json', '../../trace_data/theft_protection/single_thread/version_3/normal/diag_refsamples/93.json', '../../trace_data/theft_protection/single_thread/version_3/normal/diag_refsamples/124.json', '../../trace_data/theft_protection/single_thread/version_3/normal/diag_refsamples/466.json', '../../trace_data/theft_protection/single_thread/version_3/normal/diag_refsamples/489.json', '../../trace_data/theft_protection/single_thread/version_3/normal/diag_refsamples/173.json', '../../trace_data/theft_protection/single_thread/version_3/normal/diag_refsamples/364.json', '../../trace_data/theft_protection/single_thread/version_3/normal/diag_refsamples/221.json', '../../trace_data/theft_protection/single_thread/version_3/normal/diag_refsamples/108.json', '../../trace_data/theft_protection/single_thread/version_3/normal/diag_refsamples/50.json', '../../trace_data/theft_protection/single_thread/version_3/normal/diag_refsamples/333.json', '../../trace_data/theft_protection/single_thread/version_3/normal/diag_refsamples/325.json', '../../trace_data/theft_protection/single_thread/version_3/normal/diag_refsamples/149.json', '../../trace_data/theft_protection/single_thread/version_3/normal/diag_refsamples/11.json', '../../trace_data/theft_protection/single_thread/version_3/normal/diag_refsamples/372.json', '../../trace_data/theft_protection/single_thread/version_3/normal/diag_refsamples/237.json', '../../trace_data/theft_protection/single_thread/version_3/normal/diag_refsamples/46.json', '../../trace_data/theft_protection/single_thread/version_3/normal/diag_refsamples/166.json', '../../trace_data/theft_protection/single_thread/version_3/normal/diag_refsamples/189.json', '../../trace_data/theft_protection/single_thread/version_3/normal/diag_refsamples/473.json', '../../trace_data/theft_protection/single_thread/version_3/normal/diag_refsamples/218.json', '../../trace_data/theft_protection/single_thread/version_3/normal/diag_refsamples/69.json', '../../trace_data/theft_protection/single_thread/version_3/normal/diag_refsamples/131.json', '../../trace_data/theft_protection/single_thread/version_3/normal/diag_refsamples/424.json', '../../trace_data/theft_protection/single_thread/version_3/normal/diag_refsamples/2.json', '../../trace_data/theft_protection/single_thread/version_3/normal/diag_refsamples/86.json', '../../trace_data/theft_protection/single_thread/version_3/normal/diag_refsamples/127.json', '../../trace_data/theft_protection/single_thread/version_3/normal/diag_refsamples/90.json', '../../trace_data/theft_protection/single_thread/version_3/normal/diag_refsamples/432.json', '../../trace_data/theft_protection/single_thread/version_3/normal/diag_refsamples/28.json', '../../trace_data/theft_protection/single_thread/version_3/normal/diag_refsamples/170.json', '../../trace_data/theft_protection/single_thread/version_3/normal/diag_refsamples/465.json', '../../trace_data/theft_protection/single_thread/version_3/normal/diag_refsamples/388.json', '../../trace_data/theft_protection/single_thread/version_3/normal/diag_refsamples/222.json', '../../trace_data/theft_protection/single_thread/version_3/normal/diag_refsamples/367.json', '../../trace_data/theft_protection/single_thread/version_3/normal/diag_refsamples/53.json', '../../trace_data/theft_protection/single_thread/version_3/normal/diag_refsamples/330.json', '../../trace_data/theft_protection/single_thread/version_3/normal/diag_refsamples/449.json', '../../trace_data/theft_protection/single_thread/version_3/normal/diag_refsamples/326.json', '../../trace_data/theft_protection/single_thread/version_3/normal/diag_refsamples/12.json', '../../trace_data/theft_protection/single_thread/version_3/normal/diag_refsamples/234.json', '../../trace_data/theft_protection/single_thread/version_3/normal/diag_refsamples/371.json', '../../trace_data/theft_protection/single_thread/version_3/normal/diag_refsamples/408.json', '../../trace_data/theft_protection/single_thread/version_3/normal/diag_refsamples/45.json', '../../trace_data/theft_protection/single_thread/version_3/normal/diag_refsamples/32.json', '../../trace_data/theft_protection/single_thread/version_3/normal/diag_refsamples/490.json', '../../trace_data/theft_protection/single_thread/version_3/normal/diag_refsamples/185.json', '../../trace_data/theft_protection/single_thread/version_3/normal/diag_refsamples/243.json', '../../trace_data/theft_protection/single_thread/version_3/normal/diag_refsamples/65.json', '../../trace_data/theft_protection/single_thread/version_3/normal/diag_refsamples/428.json', '../../trace_data/theft_protection/single_thread/version_3/normal/diag_refsamples/351.json', '../../trace_data/theft_protection/single_thread/version_3/normal/diag_refsamples/214.json', '../../trace_data/theft_protection/single_thread/version_3/normal/diag_refsamples/73.json', '../../trace_data/theft_protection/single_thread/version_3/normal/diag_refsamples/347.json', '../../trace_data/theft_protection/single_thread/version_3/normal/diag_refsamples/202.json', '../../trace_data/theft_protection/single_thread/version_3/normal/diag_refsamples/486.json', '../../trace_data/theft_protection/single_thread/version_3/normal/diag_refsamples/24.json', '../../trace_data/theft_protection/single_thread/version_3/normal/diag_refsamples/193.json', '../../trace_data/theft_protection/single_thread/version_3/normal/diag_refsamples/469.json', '../../trace_data/theft_protection/single_thread/version_3/normal/diag_refsamples/255.json', '../../trace_data/theft_protection/single_thread/version_3/normal/diag_refsamples/412.json', '../../trace_data/theft_protection/single_thread/version_3/normal/diag_refsamples/107.json', '../../trace_data/theft_protection/single_thread/version_3/normal/diag_refsamples/384.json', '../../trace_data/theft_protection/single_thread/version_3/normal/diag_refsamples/445.json', '../../trace_data/theft_protection/single_thread/version_3/normal/diag_refsamples/150.json', '../../trace_data/theft_protection/single_thread/version_3/normal/diag_refsamples/500.json', '../../trace_data/theft_protection/single_thread/version_3/normal/diag_refsamples/453.json', '../../trace_data/theft_protection/single_thread/version_3/normal/diag_refsamples/146.json', '../../trace_data/theft_protection/single_thread/version_3/normal/diag_refsamples/404.json', '../../trace_data/theft_protection/single_thread/version_3/normal/diag_refsamples/49.json', '../../trace_data/theft_protection/single_thread/version_3/normal/diag_refsamples/111.json', '../../trace_data/theft_protection/single_thread/version_3/normal/diag_refsamples/392.json', '../../trace_data/theft_protection/single_thread/version_3/normal/diag_refsamples/238.json', '../../trace_data/theft_protection/single_thread/version_3/normal/diag_refsamples/393.json', '../../trace_data/theft_protection/single_thread/version_3/normal/diag_refsamples/239.json', '../../trace_data/theft_protection/single_thread/version_3/normal/diag_refsamples/405.json', '../../trace_data/theft_protection/single_thread/version_3/normal/diag_refsamples/48.json', '../../trace_data/theft_protection/single_thread/version_3/normal/diag_refsamples/110.json', '../../trace_data/theft_protection/single_thread/version_3/normal/diag_refsamples/452.json', '../../trace_data/theft_protection/single_thread/version_3/normal/diag_refsamples/147.json', '../../trace_data/theft_protection/single_thread/version_3/normal/diag_refsamples/444.json', '../../trace_data/theft_protection/single_thread/version_3/normal/diag_refsamples/151.json', '../../trace_data/theft_protection/single_thread/version_3/normal/diag_refsamples/501.json', '../../trace_data/theft_protection/single_thread/version_3/normal/diag_refsamples/385.json', '../../trace_data/theft_protection/single_thread/version_3/normal/diag_refsamples/413.json', '../../trace_data/theft_protection/single_thread/version_3/normal/diag_refsamples/106.json', '../../trace_data/theft_protection/single_thread/version_3/normal/diag_refsamples/254.json', '../../trace_data/theft_protection/single_thread/version_3/normal/diag_refsamples/487.json', '../../trace_data/theft_protection/single_thread/version_3/normal/diag_refsamples/25.json', '../../trace_data/theft_protection/single_thread/version_3/normal/diag_refsamples/192.json', '../../trace_data/theft_protection/single_thread/version_3/normal/diag_refsamples/468.json', '../../trace_data/theft_protection/single_thread/version_3/normal/diag_refsamples/346.json', '../../trace_data/theft_protection/single_thread/version_3/normal/diag_refsamples/203.json', '../../trace_data/theft_protection/single_thread/version_3/normal/diag_refsamples/72.json', '../../trace_data/theft_protection/single_thread/version_3/normal/diag_refsamples/350.json', '../../trace_data/theft_protection/single_thread/version_3/normal/diag_refsamples/215.json', '../../trace_data/theft_protection/single_thread/version_3/normal/diag_refsamples/64.json', '../../trace_data/theft_protection/single_thread/version_3/normal/diag_refsamples/429.json', '../../trace_data/theft_protection/single_thread/version_3/normal/diag_refsamples/242.json', '../../trace_data/theft_protection/single_thread/version_3/normal/diag_refsamples/33.json', '../../trace_data/theft_protection/single_thread/version_3/normal/diag_refsamples/491.json', '../../trace_data/theft_protection/single_thread/version_3/normal/diag_refsamples/184.json', '../../trace_data/theft_protection/single_thread/version_3/normal/diag_refsamples/409.json', '../../trace_data/theft_protection/single_thread/version_3/normal/diag_refsamples/44.json', '../../trace_data/theft_protection/single_thread/version_3/normal/diag_refsamples/235.json', '../../trace_data/theft_protection/single_thread/version_3/normal/diag_refsamples/370.json', '../../trace_data/theft_protection/single_thread/version_3/normal/diag_refsamples/13.json', '../../trace_data/theft_protection/single_thread/version_3/normal/diag_refsamples/327.json', '../../trace_data/theft_protection/single_thread/version_3/normal/diag_refsamples/448.json', '../../trace_data/theft_protection/single_thread/version_3/normal/diag_refsamples/331.json', '../../trace_data/theft_protection/single_thread/version_3/normal/diag_refsamples/52.json', '../../trace_data/theft_protection/single_thread/version_3/normal/diag_refsamples/389.json', '../../trace_data/theft_protection/single_thread/version_3/normal/diag_refsamples/223.json', '../../trace_data/theft_protection/single_thread/version_3/normal/diag_refsamples/366.json', '../../trace_data/theft_protection/single_thread/version_3/normal/diag_refsamples/29.json', '../../trace_data/theft_protection/single_thread/version_3/normal/diag_refsamples/171.json', '../../trace_data/theft_protection/single_thread/version_3/normal/diag_refsamples/464.json', '../../trace_data/theft_protection/single_thread/version_3/normal/diag_refsamples/258.json', '../../trace_data/theft_protection/single_thread/version_3/normal/diag_refsamples/126.json', '../../trace_data/theft_protection/single_thread/version_3/normal/diag_refsamples/91.json', '../../trace_data/theft_protection/single_thread/version_3/normal/diag_refsamples/433.json', '../../trace_data/theft_protection/single_thread/version_3/normal/diag_refsamples/68.json', '../../trace_data/theft_protection/single_thread/version_3/normal/diag_refsamples/130.json', '../../trace_data/theft_protection/single_thread/version_3/normal/diag_refsamples/425.json', '../../trace_data/theft_protection/single_thread/version_3/normal/diag_refsamples/87.json', '../../trace_data/theft_protection/single_thread/version_3/normal/diag_refsamples/3.json', '../../trace_data/theft_protection/single_thread/version_3/normal/diag_refsamples/219.json', '../../trace_data/theft_protection/single_thread/version_3/normal/diag_refsamples/167.json', '../../trace_data/theft_protection/single_thread/version_3/normal/diag_refsamples/188.json', '../../trace_data/theft_protection/single_thread/version_3/normal/diag_refsamples/472.json', '../../trace_data/theft_protection/single_thread/version_3/normal/diag_refsamples/496.json', '../../trace_data/theft_protection/single_thread/version_3/normal/diag_refsamples/34.json', '../../trace_data/theft_protection/single_thread/version_3/normal/diag_refsamples/183.json', '../../trace_data/theft_protection/single_thread/version_3/normal/diag_refsamples/479.json', '../../trace_data/theft_protection/single_thread/version_3/normal/diag_refsamples/245.json', '../../trace_data/theft_protection/single_thread/version_3/normal/diag_refsamples/63.json', '../../trace_data/theft_protection/single_thread/version_3/normal/diag_refsamples/8.json', '../../trace_data/theft_protection/single_thread/version_3/normal/diag_refsamples/357.json', '../../trace_data/theft_protection/single_thread/version_3/normal/diag_refsamples/212.json', '../../trace_data/theft_protection/single_thread/version_3/normal/diag_refsamples/75.json', '../../trace_data/theft_protection/single_thread/version_3/normal/diag_refsamples/438.json', '../../trace_data/theft_protection/single_thread/version_3/normal/diag_refsamples/341.json', '../../trace_data/theft_protection/single_thread/version_3/normal/diag_refsamples/204.json', '../../trace_data/theft_protection/single_thread/version_3/normal/diag_refsamples/22.json', '../../trace_data/theft_protection/single_thread/version_3/normal/diag_refsamples/480.json', '../../trace_data/theft_protection/single_thread/version_3/normal/diag_refsamples/195.json', '../../trace_data/theft_protection/single_thread/version_3/normal/diag_refsamples/253.json', '../../trace_data/theft_protection/single_thread/version_3/normal/diag_refsamples/414.json', '../../trace_data/theft_protection/single_thread/version_3/normal/diag_refsamples/59.json', '../../trace_data/theft_protection/single_thread/version_3/normal/diag_refsamples/101.json', '../../trace_data/theft_protection/single_thread/version_3/normal/diag_refsamples/228.json', '../../trace_data/theft_protection/single_thread/version_3/normal/diag_refsamples/382.json', '../../trace_data/theft_protection/single_thread/version_3/normal/diag_refsamples/443.json', '../../trace_data/theft_protection/single_thread/version_3/normal/diag_refsamples/156.json', '../../trace_data/theft_protection/single_thread/version_3/normal/diag_refsamples/455.json', '../../trace_data/theft_protection/single_thread/version_3/normal/diag_refsamples/18.json', '../../trace_data/theft_protection/single_thread/version_3/normal/diag_refsamples/140.json', '../../trace_data/theft_protection/single_thread/version_3/normal/diag_refsamples/402.json', '../../trace_data/theft_protection/single_thread/version_3/normal/diag_refsamples/117.json', '../../trace_data/theft_protection/single_thread/version_3/normal/diag_refsamples/394.json', '../../trace_data/theft_protection/single_thread/version_3/normal/diag_refsamples/249.json', '../../trace_data/theft_protection/single_thread/version_3/normal/diag_refsamples/38.json', '../../trace_data/theft_protection/single_thread/version_3/normal/diag_refsamples/160.json', '../../trace_data/theft_protection/single_thread/version_3/normal/diag_refsamples/475.json', '../../trace_data/theft_protection/single_thread/version_3/normal/diag_refsamples/137.json', '../../trace_data/theft_protection/single_thread/version_3/normal/diag_refsamples/4.json', '../../trace_data/theft_protection/single_thread/version_3/normal/diag_refsamples/80.json', '../../trace_data/theft_protection/single_thread/version_3/normal/diag_refsamples/422.json', '../../trace_data/theft_protection/single_thread/version_3/normal/diag_refsamples/208.json', '../../trace_data/theft_protection/single_thread/version_3/normal/diag_refsamples/79.json', '../../trace_data/theft_protection/single_thread/version_3/normal/diag_refsamples/121.json', '../../trace_data/theft_protection/single_thread/version_3/normal/diag_refsamples/434.json', '../../trace_data/theft_protection/single_thread/version_3/normal/diag_refsamples/96.json', '../../trace_data/theft_protection/single_thread/version_3/normal/diag_refsamples/176.json', '../../trace_data/theft_protection/single_thread/version_3/normal/diag_refsamples/199.json', '../../trace_data/theft_protection/single_thread/version_3/normal/diag_refsamples/463.json', '../../trace_data/theft_protection/single_thread/version_3/normal/diag_refsamples/224.json', '../../trace_data/theft_protection/single_thread/version_3/normal/diag_refsamples/361.json', '../../trace_data/theft_protection/single_thread/version_3/normal/diag_refsamples/418.json', '../../trace_data/theft_protection/single_thread/version_3/normal/diag_refsamples/55.json', '../../trace_data/theft_protection/single_thread/version_3/normal/diag_refsamples/336.json', '../../trace_data/theft_protection/single_thread/version_3/normal/diag_refsamples/459.json', '../../trace_data/theft_protection/single_thread/version_3/normal/diag_refsamples/14.json', '../../trace_data/theft_protection/single_thread/version_3/normal/diag_refsamples/232.json', '../../trace_data/theft_protection/single_thread/version_3/normal/diag_refsamples/398.json', '../../trace_data/theft_protection/single_thread/version_3/normal/diag_refsamples/377.json', '../../trace_data/theft_protection/single_thread/version_3/normal/diag_refsamples/43.json', '../../trace_data/theft_protection/single_thread/version_3/normal/diag_refsamples/42.json', '../../trace_data/theft_protection/single_thread/version_3/normal/diag_refsamples/233.json', '../../trace_data/theft_protection/single_thread/version_3/normal/diag_refsamples/399.json', '../../trace_data/theft_protection/single_thread/version_3/normal/diag_refsamples/376.json', '../../trace_data/theft_protection/single_thread/version_3/normal/diag_refsamples/458.json', '../../trace_data/theft_protection/single_thread/version_3/normal/diag_refsamples/15.json', '../../trace_data/theft_protection/single_thread/version_3/normal/diag_refsamples/337.json', '../../trace_data/theft_protection/single_thread/version_3/normal/diag_refsamples/419.json', '../../trace_data/theft_protection/single_thread/version_3/normal/diag_refsamples/54.json', '../../trace_data/theft_protection/single_thread/version_3/normal/diag_refsamples/225.json', '../../trace_data/theft_protection/single_thread/version_3/normal/diag_refsamples/360.json', '../../trace_data/theft_protection/single_thread/version_3/normal/diag_refsamples/177.json', '../../trace_data/theft_protection/single_thread/version_3/normal/diag_refsamples/198.json', '../../trace_data/theft_protection/single_thread/version_3/normal/diag_refsamples/462.json', '../../trace_data/theft_protection/single_thread/version_3/normal/diag_refsamples/78.json', '../../trace_data/theft_protection/single_thread/version_3/normal/diag_refsamples/120.json', '../../trace_data/theft_protection/single_thread/version_3/normal/diag_refsamples/435.json', '../../trace_data/theft_protection/single_thread/version_3/normal/diag_refsamples/97.json', '../../trace_data/theft_protection/single_thread/version_3/normal/diag_refsamples/209.json', '../../trace_data/theft_protection/single_thread/version_3/normal/diag_refsamples/136.json', '../../trace_data/theft_protection/single_thread/version_3/normal/diag_refsamples/81.json', '../../trace_data/theft_protection/single_thread/version_3/normal/diag_refsamples/5.json', '../../trace_data/theft_protection/single_thread/version_3/normal/diag_refsamples/423.json', '../../trace_data/theft_protection/single_thread/version_3/normal/diag_refsamples/39.json', '../../trace_data/theft_protection/single_thread/version_3/normal/diag_refsamples/161.json', '../../trace_data/theft_protection/single_thread/version_3/normal/diag_refsamples/474.json', '../../trace_data/theft_protection/single_thread/version_3/normal/diag_refsamples/248.json', '../../trace_data/theft_protection/single_thread/version_3/normal/diag_refsamples/395.json', '../../trace_data/theft_protection/single_thread/version_3/normal/diag_refsamples/403.json', '../../trace_data/theft_protection/single_thread/version_3/normal/diag_refsamples/116.json', '../../trace_data/theft_protection/single_thread/version_3/normal/diag_refsamples/454.json', '../../trace_data/theft_protection/single_thread/version_3/normal/diag_refsamples/19.json', '../../trace_data/theft_protection/single_thread/version_3/normal/diag_refsamples/141.json', '../../trace_data/theft_protection/single_thread/version_3/normal/diag_refsamples/442.json', '../../trace_data/theft_protection/single_thread/version_3/normal/diag_refsamples/157.json', '../../trace_data/theft_protection/single_thread/version_3/normal/diag_refsamples/229.json', '../../trace_data/theft_protection/single_thread/version_3/normal/diag_refsamples/383.json', '../../trace_data/theft_protection/single_thread/version_3/normal/diag_refsamples/415.json', '../../trace_data/theft_protection/single_thread/version_3/normal/diag_refsamples/58.json', '../../trace_data/theft_protection/single_thread/version_3/normal/diag_refsamples/100.json', '../../trace_data/theft_protection/single_thread/version_3/normal/diag_refsamples/252.json', '../../trace_data/theft_protection/single_thread/version_3/normal/diag_refsamples/23.json', '../../trace_data/theft_protection/single_thread/version_3/normal/diag_refsamples/481.json', '../../trace_data/theft_protection/single_thread/version_3/normal/diag_refsamples/194.json', '../../trace_data/theft_protection/single_thread/version_3/normal/diag_refsamples/340.json', '../../trace_data/theft_protection/single_thread/version_3/normal/diag_refsamples/205.json', '../../trace_data/theft_protection/single_thread/version_3/normal/diag_refsamples/74.json', '../../trace_data/theft_protection/single_thread/version_3/normal/diag_refsamples/439.json', '../../trace_data/theft_protection/single_thread/version_3/normal/diag_refsamples/356.json', '../../trace_data/theft_protection/single_thread/version_3/normal/diag_refsamples/213.json', '../../trace_data/theft_protection/single_thread/version_3/normal/diag_refsamples/62.json', '../../trace_data/theft_protection/single_thread/version_3/normal/diag_refsamples/9.json', '../../trace_data/theft_protection/single_thread/version_3/normal/diag_refsamples/244.json', '../../trace_data/theft_protection/single_thread/version_3/normal/diag_refsamples/497.json', '../../trace_data/theft_protection/single_thread/version_3/normal/diag_refsamples/35.json', '../../trace_data/theft_protection/single_thread/version_3/normal/diag_refsamples/182.json', '../../trace_data/theft_protection/single_thread/version_3/normal/diag_refsamples/478.json']\n",
      "438\n",
      "test_data:\n",
      " ['../../trace_data/theft_protection/single_thread/version_3/faulty_data/diag_subseq/trace_trial2_379-423.json', '../../trace_data/theft_protection/single_thread/version_3/faulty_data/diag_subseq/trace_trial1_1217-1225.json', '../../trace_data/theft_protection/single_thread/version_3/faulty_data/diag_subseq/trace_trial2_1303-1339.json', '../../trace_data/theft_protection/single_thread/version_3/faulty_data/diag_subseq/trace_trial1_623-662.json', '../../trace_data/theft_protection/single_thread/version_3/faulty_data/diag_subseq/trace_trial2_2500-2544.json', '../../trace_data/theft_protection/single_thread/version_3/faulty_data/diag_subseq/trace_trial1_2296-2335.json', '../../trace_data/theft_protection/single_thread/version_3/faulty_data/diag_subseq/trace_trial1_908-942.json', '../../trace_data/theft_protection/single_thread/version_3/faulty_data/diag_subseq/trace_trial1_410-449.json', '../../trace_data/theft_protection/single_thread/version_3/faulty_data/diag_subseq/trace_trial2_526-534.json', '../../trace_data/theft_protection/single_thread/version_3/faulty_data/diag_subseq/trace_trial2_775-846.json', '../../trace_data/theft_protection/single_thread/version_3/faulty_data/diag_subseq/trace_trial1_313-352.json', '../../trace_data/theft_protection/single_thread/version_3/faulty_data/diag_subseq/trace_trial1_1813-1852.json', '../../trace_data/theft_protection/single_thread/version_3/faulty_data/diag_subseq/trace_trial2_1104-1179.json', '../../trace_data/theft_protection/single_thread/version_3/faulty_data/diag_subseq/trace_trial2_310-321.json', '../../trace_data/theft_protection/single_thread/version_3/faulty_data/diag_subseq/trace_trial1_720-759.json', '../../trace_data/theft_protection/single_thread/version_3/faulty_data/diag_subseq/trace_trial2_1230-1267.json', '../../trace_data/theft_protection/single_thread/version_3/faulty_data/diag_subseq/trace_trial2_1710-1779.json', '../../trace_data/theft_protection/single_thread/version_3/faulty_data/diag_subseq/trace_trial2_2280-2324.json', '../../trace_data/theft_protection/single_thread/version_3/faulty_data/diag_subseq/trace_trial1_2055-2092.json', '../../trace_data/theft_protection/single_thread/version_3/faulty_data/diag_subseq/trace_trial2_1375-1419.json', '../../trace_data/theft_protection/single_thread/version_3/faulty_data/diag_subseq/trace_trial2_1496-1533.json', '../../trace_data/theft_protection/single_thread/version_3/faulty_data/diag_subseq/trace_trial1_2416-2455.json', '../../trace_data/theft_protection/single_thread/version_3/faulty_data/diag_subseq/trace_trial2_1841-1978.json', '../../trace_data/theft_protection/single_thread/version_3/faulty_data/diag_subseq/trace_trial1_2173-2212.json', '../../trace_data/theft_protection/single_thread/version_3/faulty_data/diag_subseq/trace_trial1_2102-2141.json', '../../trace_data/theft_protection/single_thread/version_3/faulty_data/diag_subseq/trace_trial1_526-565.json', '../../trace_data/theft_protection/single_thread/version_3/faulty_data/diag_subseq/trace_trial2_2427-2471.json', '../../trace_data/theft_protection/single_thread/version_3/faulty_data/diag_subseq/trace_trial1_1101-1140.json', '../../trace_data/theft_protection/single_thread/version_3/faulty_data/diag_subseq/trace_trial1_1616-1655.json', '../../trace_data/theft_protection/single_thread/version_3/faulty_data/diag_subseq/trace_trial2_2055-2103.json', '../../trace_data/theft_protection/single_thread/version_3/faulty_data/diag_subseq/trace_trial2_116-203.json', '../../trace_data/theft_protection/single_thread/version_3/faulty_data/diag_subseq/trace_trial2_625-716.json', '../../trace_data/theft_protection/single_thread/version_3/faulty_data/diag_subseq/trace_trial1_952-991.json', '../../trace_data/theft_protection/single_thread/version_3/faulty_data/diag_subseq/trace_trial1_190-229.json']\n",
      "34\n",
      "test_labels:\n",
      " ['../../trace_data/theft_protection/single_thread/version_3/faulty_data/diag_subseq/subseq_labels/subseq_class.json']\n"
     ]
    }
   ],
   "source": [
    "import json\n",
    "import os\n",
    "import sys\n",
    "sys.path.append('../')  ### to detect libraries in the parent directory\n",
    "import numpy as np\n",
    "import pandas as pd\n",
    "from sklearn.model_selection import train_test_split\n",
    "from sklearn.utils import shuffle\n",
    "from collections import defaultdict\n",
    "from libraries.utils import *\n",
    "from libraries.exeint import exeInt\n",
    "import plotly.express as px\n",
    "from statistics import mode\n",
    "from sklearn import preprocessing\n",
    "\n",
    "\n",
    "# ############ configuration - trace ################\n",
    "# ############################################\n",
    "\n",
    "\n",
    "CODE = 'theft_protection'       ### application (code)       ###  'theft_protection', 'mamba2', 'lora_ducy'\n",
    "BEHAVIOUR_FAULTY = 'faulty_data'            ### normal, faulty_data\n",
    "BEHAVIOUR_NORMAL = 'normal'            ### normal, faulty_data\n",
    "THREAD = 'single'           ### single, multi\n",
    "VER = 3                     ### format of data collection\n",
    "\n",
    "base_dir = '../../trace_data' ### can be replaced with 'csv', 'exe_plot', 'histogram'\n",
    "normalbase_path = base_dir+f'/{CODE}/{THREAD}_thread/version_{VER}/{BEHAVIOUR_NORMAL}'\n",
    "faultybase_path = base_dir+f'/{CODE}/{THREAD}_thread/version_{VER}/{BEHAVIOUR_FAULTY}'\n",
    "\n",
    "print(normalbase_path)\n",
    "print(faultybase_path)\n",
    "\n",
    "\n",
    "################# configuration - diag ################\n",
    "IS_VAR_WINDOW = False             ### True, False; wether to use variable window size or not\n",
    "\n",
    "#####################################################\n",
    "\n",
    "\n",
    "ref_samples_basepath = os.path.join(normalbase_path, 'diag_refsamples')\n",
    "ref_var_samples_basepath = os.path.join(normalbase_path, 'diag_var_refsamples')\n",
    "diag_subseq_basepath = os.path.join(faultybase_path, 'diag_subseq')\n",
    "subseq_label_basepath = os.path.join(diag_subseq_basepath, 'subseq_labels')\n",
    "\n",
    "\n",
    "print('ref_samples_path:\\n', ref_samples_basepath)\n",
    "print('ref_var_samples_path:\\n', ref_var_samples_basepath)\n",
    "print('diag_subseq_path:\\n', diag_subseq_basepath)\n",
    "\n",
    "######### get paths #######################\n",
    "ref_samples_path = [os.path.join(ref_samples_basepath, x) for x in os.listdir(ref_samples_basepath)]\n",
    "ref_var_samples_path = [os.path.join(ref_var_samples_basepath, x) for x in os.listdir(ref_var_samples_basepath)]   \n",
    "\n",
    "train_varlist_path = os.listdir(normalbase_path)\n",
    "train_varlist_path = [os.path.join(normalbase_path, x) for x in train_varlist_path if 'varlist' in x]\n",
    "\n",
    "######### get paths #######################\n",
    "paths_log, paths_traces, varlist_path, paths_label = get_paths(faultybase_path)\n",
    "\n",
    "test_subseq_path = [os.path.join(diag_subseq_basepath, x) for x in os.listdir(diag_subseq_basepath)]\n",
    "test_labels_path = [os.path.join(subseq_label_basepath, x) for x in os.listdir(subseq_label_basepath)]\n",
    "\n",
    "# ### remove.Ds_store from all lists\n",
    "train_varlist_path = [x for x in train_varlist_path if '.DS_Store' not in x]\n",
    "varlist_path = [x for x in varlist_path if '.DS_Store' not in x]\n",
    "paths_label = [x for x in paths_label if '.DS_Store' not in x]\n",
    "ref_samples_path = [x for x in ref_samples_path if '.DS_Store' not in x]\n",
    "ref_var_samples_path = [x for x in ref_var_samples_path if '.DS_Store' not in x]\n",
    "test_subseq_path = [x for x in test_subseq_path if '.DS_Store' not in x if '.json' in x]\n",
    "test_labels_path = [x for x in test_labels_path if '.DS_Store' not in x]\n",
    "\n",
    "\n",
    "varlist_path.sort()\n",
    "\n",
    "# print(paths_log)\n",
    "# print(paths_traces)\n",
    "# print(varlist_path)\n",
    "# print(paths_label)\n",
    "\n",
    "if IS_VAR_WINDOW:\n",
    "    train_data_path = ref_var_samples_path\n",
    "else:\n",
    "    train_data_path = ref_samples_path\n",
    "\n",
    "test_data_path = test_subseq_path\n",
    "\n",
    "print('train_data:\\n', train_data_path)\n",
    "print(len(train_data_path))\n",
    "print('test_data:\\n', test_data_path)\n",
    "print(len(test_data_path))\n",
    "print('test_labels:\\n', test_labels_path)\n",
    "\n",
    "\n"
   ]
  },
  {
   "cell_type": "markdown",
   "metadata": {},
   "source": [
    "## Calculate Feature Vectors\n",
    "\n",
    "- For fixed window size, load all the ref samples before hand\n",
    "- For variable window, load the map_len; further load files only with the suitable len\n",
    "\n",
    "Feature extraction using DL:\n",
    "- load DL model with appropriate weights\n",
    "- make all the detections of same length (500)\n",
    "- give the detections as inputs and extract features\n",
    "- cluster these features"
   ]
  },
  {
   "cell_type": "markdown",
   "metadata": {},
   "source": [
    "### Feature Extraction with TSFEL\n"
   ]
  },
  {
   "cell_type": "code",
   "execution_count": 2,
   "metadata": {},
   "outputs": [],
   "source": [
    "import tsfel\n",
    "import pandas as pd"
   ]
  },
  {
   "cell_type": "code",
   "execution_count": 3,
   "metadata": {},
   "outputs": [
    {
     "name": "stdout",
     "output_type": "stream",
     "text": [
      "test_data: ../../trace_data/theft_protection/single_thread/version_3/faulty_data/diag_subseq/trace_trial2_379-423.json\n",
      "test_data_len: 44\n"
     ]
    },
    {
     "name": "stderr",
     "output_type": "stream",
     "text": [
      "/var/folders/nw/443sknns78l256x46fjj6r0c0000gn/T/ipykernel_20782/3146203604.py:34: UserWarning: Using default sampling frequency set in configuration file.\n",
      "  tmp_features = tsfel.time_series_features_extractor(cfg_file, test_events)\n"
     ]
    },
    {
     "data": {
      "text/html": [
       "\n",
       "              <p>\n",
       "                  Progress: 100% Complete\n",
       "              <p/>\n",
       "              <progress\n",
       "                  value='15'\n",
       "                  max='15',\n",
       "                  style='width: 25%',\n",
       "              >\n",
       "                  15\n",
       "              </progress>\n",
       "\n",
       "    "
      ],
      "text/plain": [
       "<IPython.core.display.HTML object>"
      ]
     },
     "metadata": {},
     "output_type": "display_data"
    },
    {
     "name": "stderr",
     "output_type": "stream",
     "text": [
      "/var/folders/nw/443sknns78l256x46fjj6r0c0000gn/T/ipykernel_20782/3146203604.py:37: UserWarning: Using default sampling frequency set in configuration file.\n",
      "  stat_features = tsfel.time_series_features_extractor(cfg_file, test_events)\n"
     ]
    },
    {
     "data": {
      "text/html": [
       "\n",
       "              <p>\n",
       "                  Progress: 100% Complete\n",
       "              <p/>\n",
       "              <progress\n",
       "                  value='20'\n",
       "                  max='20',\n",
       "                  style='width: 25%',\n",
       "              >\n",
       "                  20\n",
       "              </progress>\n",
       "\n",
       "    "
      ],
      "text/plain": [
       "<IPython.core.display.HTML object>"
      ]
     },
     "metadata": {},
     "output_type": "display_data"
    },
    {
     "name": "stdout",
     "output_type": "stream",
     "text": [
      "test_data: ../../trace_data/theft_protection/single_thread/version_3/faulty_data/diag_subseq/trace_trial1_1217-1225.json\n",
      "test_data_len: 8\n"
     ]
    },
    {
     "name": "stderr",
     "output_type": "stream",
     "text": [
      "/var/folders/nw/443sknns78l256x46fjj6r0c0000gn/T/ipykernel_20782/3146203604.py:34: UserWarning: Using default sampling frequency set in configuration file.\n",
      "  tmp_features = tsfel.time_series_features_extractor(cfg_file, test_events)\n"
     ]
    },
    {
     "data": {
      "text/html": [
       "\n",
       "              <p>\n",
       "                  Progress: 100% Complete\n",
       "              <p/>\n",
       "              <progress\n",
       "                  value='15'\n",
       "                  max='15',\n",
       "                  style='width: 25%',\n",
       "              >\n",
       "                  15\n",
       "              </progress>\n",
       "\n",
       "    "
      ],
      "text/plain": [
       "<IPython.core.display.HTML object>"
      ]
     },
     "metadata": {},
     "output_type": "display_data"
    },
    {
     "name": "stderr",
     "output_type": "stream",
     "text": [
      "/var/folders/nw/443sknns78l256x46fjj6r0c0000gn/T/ipykernel_20782/3146203604.py:37: UserWarning: Using default sampling frequency set in configuration file.\n",
      "  stat_features = tsfel.time_series_features_extractor(cfg_file, test_events)\n"
     ]
    },
    {
     "data": {
      "text/html": [
       "\n",
       "              <p>\n",
       "                  Progress: 100% Complete\n",
       "              <p/>\n",
       "              <progress\n",
       "                  value='20'\n",
       "                  max='20',\n",
       "                  style='width: 25%',\n",
       "              >\n",
       "                  20\n",
       "              </progress>\n",
       "\n",
       "    "
      ],
      "text/plain": [
       "<IPython.core.display.HTML object>"
      ]
     },
     "metadata": {},
     "output_type": "display_data"
    },
    {
     "name": "stdout",
     "output_type": "stream",
     "text": [
      "test_data: ../../trace_data/theft_protection/single_thread/version_3/faulty_data/diag_subseq/trace_trial2_1303-1339.json\n",
      "test_data_len: 36\n"
     ]
    },
    {
     "name": "stderr",
     "output_type": "stream",
     "text": [
      "/var/folders/nw/443sknns78l256x46fjj6r0c0000gn/T/ipykernel_20782/3146203604.py:34: UserWarning: Using default sampling frequency set in configuration file.\n",
      "  tmp_features = tsfel.time_series_features_extractor(cfg_file, test_events)\n"
     ]
    },
    {
     "data": {
      "text/html": [
       "\n",
       "              <p>\n",
       "                  Progress: 100% Complete\n",
       "              <p/>\n",
       "              <progress\n",
       "                  value='15'\n",
       "                  max='15',\n",
       "                  style='width: 25%',\n",
       "              >\n",
       "                  15\n",
       "              </progress>\n",
       "\n",
       "    "
      ],
      "text/plain": [
       "<IPython.core.display.HTML object>"
      ]
     },
     "metadata": {},
     "output_type": "display_data"
    },
    {
     "name": "stderr",
     "output_type": "stream",
     "text": [
      "/var/folders/nw/443sknns78l256x46fjj6r0c0000gn/T/ipykernel_20782/3146203604.py:37: UserWarning: Using default sampling frequency set in configuration file.\n",
      "  stat_features = tsfel.time_series_features_extractor(cfg_file, test_events)\n"
     ]
    },
    {
     "data": {
      "text/html": [
       "\n",
       "              <p>\n",
       "                  Progress: 100% Complete\n",
       "              <p/>\n",
       "              <progress\n",
       "                  value='20'\n",
       "                  max='20',\n",
       "                  style='width: 25%',\n",
       "              >\n",
       "                  20\n",
       "              </progress>\n",
       "\n",
       "    "
      ],
      "text/plain": [
       "<IPython.core.display.HTML object>"
      ]
     },
     "metadata": {},
     "output_type": "display_data"
    },
    {
     "name": "stdout",
     "output_type": "stream",
     "text": [
      "test_data: ../../trace_data/theft_protection/single_thread/version_3/faulty_data/diag_subseq/trace_trial1_623-662.json\n",
      "test_data_len: 39\n"
     ]
    },
    {
     "name": "stderr",
     "output_type": "stream",
     "text": [
      "/var/folders/nw/443sknns78l256x46fjj6r0c0000gn/T/ipykernel_20782/3146203604.py:34: UserWarning: Using default sampling frequency set in configuration file.\n",
      "  tmp_features = tsfel.time_series_features_extractor(cfg_file, test_events)\n"
     ]
    },
    {
     "data": {
      "text/html": [
       "\n",
       "              <p>\n",
       "                  Progress: 100% Complete\n",
       "              <p/>\n",
       "              <progress\n",
       "                  value='15'\n",
       "                  max='15',\n",
       "                  style='width: 25%',\n",
       "              >\n",
       "                  15\n",
       "              </progress>\n",
       "\n",
       "    "
      ],
      "text/plain": [
       "<IPython.core.display.HTML object>"
      ]
     },
     "metadata": {},
     "output_type": "display_data"
    },
    {
     "name": "stderr",
     "output_type": "stream",
     "text": [
      "/var/folders/nw/443sknns78l256x46fjj6r0c0000gn/T/ipykernel_20782/3146203604.py:37: UserWarning: Using default sampling frequency set in configuration file.\n",
      "  stat_features = tsfel.time_series_features_extractor(cfg_file, test_events)\n"
     ]
    },
    {
     "data": {
      "text/html": [
       "\n",
       "              <p>\n",
       "                  Progress: 100% Complete\n",
       "              <p/>\n",
       "              <progress\n",
       "                  value='20'\n",
       "                  max='20',\n",
       "                  style='width: 25%',\n",
       "              >\n",
       "                  20\n",
       "              </progress>\n",
       "\n",
       "    "
      ],
      "text/plain": [
       "<IPython.core.display.HTML object>"
      ]
     },
     "metadata": {},
     "output_type": "display_data"
    },
    {
     "name": "stdout",
     "output_type": "stream",
     "text": [
      "test_data: ../../trace_data/theft_protection/single_thread/version_3/faulty_data/diag_subseq/trace_trial2_2500-2544.json\n",
      "test_data_len: 44\n"
     ]
    },
    {
     "name": "stderr",
     "output_type": "stream",
     "text": [
      "/var/folders/nw/443sknns78l256x46fjj6r0c0000gn/T/ipykernel_20782/3146203604.py:34: UserWarning: Using default sampling frequency set in configuration file.\n",
      "  tmp_features = tsfel.time_series_features_extractor(cfg_file, test_events)\n"
     ]
    },
    {
     "data": {
      "text/html": [
       "\n",
       "              <p>\n",
       "                  Progress: 100% Complete\n",
       "              <p/>\n",
       "              <progress\n",
       "                  value='15'\n",
       "                  max='15',\n",
       "                  style='width: 25%',\n",
       "              >\n",
       "                  15\n",
       "              </progress>\n",
       "\n",
       "    "
      ],
      "text/plain": [
       "<IPython.core.display.HTML object>"
      ]
     },
     "metadata": {},
     "output_type": "display_data"
    },
    {
     "name": "stderr",
     "output_type": "stream",
     "text": [
      "/var/folders/nw/443sknns78l256x46fjj6r0c0000gn/T/ipykernel_20782/3146203604.py:37: UserWarning: Using default sampling frequency set in configuration file.\n",
      "  stat_features = tsfel.time_series_features_extractor(cfg_file, test_events)\n"
     ]
    },
    {
     "data": {
      "text/html": [
       "\n",
       "              <p>\n",
       "                  Progress: 100% Complete\n",
       "              <p/>\n",
       "              <progress\n",
       "                  value='20'\n",
       "                  max='20',\n",
       "                  style='width: 25%',\n",
       "              >\n",
       "                  20\n",
       "              </progress>\n",
       "\n",
       "    "
      ],
      "text/plain": [
       "<IPython.core.display.HTML object>"
      ]
     },
     "metadata": {},
     "output_type": "display_data"
    },
    {
     "name": "stdout",
     "output_type": "stream",
     "text": [
      "test_data: ../../trace_data/theft_protection/single_thread/version_3/faulty_data/diag_subseq/trace_trial1_2296-2335.json\n",
      "test_data_len: 39\n"
     ]
    },
    {
     "name": "stderr",
     "output_type": "stream",
     "text": [
      "/var/folders/nw/443sknns78l256x46fjj6r0c0000gn/T/ipykernel_20782/3146203604.py:34: UserWarning: Using default sampling frequency set in configuration file.\n",
      "  tmp_features = tsfel.time_series_features_extractor(cfg_file, test_events)\n"
     ]
    },
    {
     "data": {
      "text/html": [
       "\n",
       "              <p>\n",
       "                  Progress: 100% Complete\n",
       "              <p/>\n",
       "              <progress\n",
       "                  value='15'\n",
       "                  max='15',\n",
       "                  style='width: 25%',\n",
       "              >\n",
       "                  15\n",
       "              </progress>\n",
       "\n",
       "    "
      ],
      "text/plain": [
       "<IPython.core.display.HTML object>"
      ]
     },
     "metadata": {},
     "output_type": "display_data"
    },
    {
     "name": "stderr",
     "output_type": "stream",
     "text": [
      "/var/folders/nw/443sknns78l256x46fjj6r0c0000gn/T/ipykernel_20782/3146203604.py:37: UserWarning: Using default sampling frequency set in configuration file.\n",
      "  stat_features = tsfel.time_series_features_extractor(cfg_file, test_events)\n"
     ]
    },
    {
     "data": {
      "text/html": [
       "\n",
       "              <p>\n",
       "                  Progress: 100% Complete\n",
       "              <p/>\n",
       "              <progress\n",
       "                  value='20'\n",
       "                  max='20',\n",
       "                  style='width: 25%',\n",
       "              >\n",
       "                  20\n",
       "              </progress>\n",
       "\n",
       "    "
      ],
      "text/plain": [
       "<IPython.core.display.HTML object>"
      ]
     },
     "metadata": {},
     "output_type": "display_data"
    },
    {
     "name": "stdout",
     "output_type": "stream",
     "text": [
      "test_data: ../../trace_data/theft_protection/single_thread/version_3/faulty_data/diag_subseq/trace_trial1_908-942.json\n",
      "test_data_len: 34\n"
     ]
    },
    {
     "name": "stderr",
     "output_type": "stream",
     "text": [
      "/var/folders/nw/443sknns78l256x46fjj6r0c0000gn/T/ipykernel_20782/3146203604.py:34: UserWarning: Using default sampling frequency set in configuration file.\n",
      "  tmp_features = tsfel.time_series_features_extractor(cfg_file, test_events)\n"
     ]
    },
    {
     "data": {
      "text/html": [
       "\n",
       "              <p>\n",
       "                  Progress: 100% Complete\n",
       "              <p/>\n",
       "              <progress\n",
       "                  value='15'\n",
       "                  max='15',\n",
       "                  style='width: 25%',\n",
       "              >\n",
       "                  15\n",
       "              </progress>\n",
       "\n",
       "    "
      ],
      "text/plain": [
       "<IPython.core.display.HTML object>"
      ]
     },
     "metadata": {},
     "output_type": "display_data"
    },
    {
     "name": "stderr",
     "output_type": "stream",
     "text": [
      "/var/folders/nw/443sknns78l256x46fjj6r0c0000gn/T/ipykernel_20782/3146203604.py:37: UserWarning: Using default sampling frequency set in configuration file.\n",
      "  stat_features = tsfel.time_series_features_extractor(cfg_file, test_events)\n"
     ]
    },
    {
     "data": {
      "text/html": [
       "\n",
       "              <p>\n",
       "                  Progress: 100% Complete\n",
       "              <p/>\n",
       "              <progress\n",
       "                  value='20'\n",
       "                  max='20',\n",
       "                  style='width: 25%',\n",
       "              >\n",
       "                  20\n",
       "              </progress>\n",
       "\n",
       "    "
      ],
      "text/plain": [
       "<IPython.core.display.HTML object>"
      ]
     },
     "metadata": {},
     "output_type": "display_data"
    },
    {
     "name": "stdout",
     "output_type": "stream",
     "text": [
      "test_data: ../../trace_data/theft_protection/single_thread/version_3/faulty_data/diag_subseq/trace_trial1_410-449.json\n",
      "test_data_len: 39\n"
     ]
    },
    {
     "name": "stderr",
     "output_type": "stream",
     "text": [
      "/var/folders/nw/443sknns78l256x46fjj6r0c0000gn/T/ipykernel_20782/3146203604.py:34: UserWarning: Using default sampling frequency set in configuration file.\n",
      "  tmp_features = tsfel.time_series_features_extractor(cfg_file, test_events)\n"
     ]
    },
    {
     "data": {
      "text/html": [
       "\n",
       "              <p>\n",
       "                  Progress: 100% Complete\n",
       "              <p/>\n",
       "              <progress\n",
       "                  value='15'\n",
       "                  max='15',\n",
       "                  style='width: 25%',\n",
       "              >\n",
       "                  15\n",
       "              </progress>\n",
       "\n",
       "    "
      ],
      "text/plain": [
       "<IPython.core.display.HTML object>"
      ]
     },
     "metadata": {},
     "output_type": "display_data"
    },
    {
     "name": "stderr",
     "output_type": "stream",
     "text": [
      "/var/folders/nw/443sknns78l256x46fjj6r0c0000gn/T/ipykernel_20782/3146203604.py:37: UserWarning: Using default sampling frequency set in configuration file.\n",
      "  stat_features = tsfel.time_series_features_extractor(cfg_file, test_events)\n"
     ]
    },
    {
     "data": {
      "text/html": [
       "\n",
       "              <p>\n",
       "                  Progress: 100% Complete\n",
       "              <p/>\n",
       "              <progress\n",
       "                  value='20'\n",
       "                  max='20',\n",
       "                  style='width: 25%',\n",
       "              >\n",
       "                  20\n",
       "              </progress>\n",
       "\n",
       "    "
      ],
      "text/plain": [
       "<IPython.core.display.HTML object>"
      ]
     },
     "metadata": {},
     "output_type": "display_data"
    },
    {
     "name": "stdout",
     "output_type": "stream",
     "text": [
      "test_data: ../../trace_data/theft_protection/single_thread/version_3/faulty_data/diag_subseq/trace_trial2_526-534.json\n",
      "test_data_len: 8\n"
     ]
    },
    {
     "name": "stderr",
     "output_type": "stream",
     "text": [
      "/var/folders/nw/443sknns78l256x46fjj6r0c0000gn/T/ipykernel_20782/3146203604.py:34: UserWarning: Using default sampling frequency set in configuration file.\n",
      "  tmp_features = tsfel.time_series_features_extractor(cfg_file, test_events)\n"
     ]
    },
    {
     "data": {
      "text/html": [
       "\n",
       "              <p>\n",
       "                  Progress: 100% Complete\n",
       "              <p/>\n",
       "              <progress\n",
       "                  value='15'\n",
       "                  max='15',\n",
       "                  style='width: 25%',\n",
       "              >\n",
       "                  15\n",
       "              </progress>\n",
       "\n",
       "    "
      ],
      "text/plain": [
       "<IPython.core.display.HTML object>"
      ]
     },
     "metadata": {},
     "output_type": "display_data"
    },
    {
     "name": "stderr",
     "output_type": "stream",
     "text": [
      "/var/folders/nw/443sknns78l256x46fjj6r0c0000gn/T/ipykernel_20782/3146203604.py:37: UserWarning: Using default sampling frequency set in configuration file.\n",
      "  stat_features = tsfel.time_series_features_extractor(cfg_file, test_events)\n"
     ]
    },
    {
     "data": {
      "text/html": [
       "\n",
       "              <p>\n",
       "                  Progress: 100% Complete\n",
       "              <p/>\n",
       "              <progress\n",
       "                  value='20'\n",
       "                  max='20',\n",
       "                  style='width: 25%',\n",
       "              >\n",
       "                  20\n",
       "              </progress>\n",
       "\n",
       "    "
      ],
      "text/plain": [
       "<IPython.core.display.HTML object>"
      ]
     },
     "metadata": {},
     "output_type": "display_data"
    },
    {
     "name": "stdout",
     "output_type": "stream",
     "text": [
      "test_data: ../../trace_data/theft_protection/single_thread/version_3/faulty_data/diag_subseq/trace_trial2_775-846.json\n",
      "test_data_len: 71\n"
     ]
    },
    {
     "name": "stderr",
     "output_type": "stream",
     "text": [
      "/var/folders/nw/443sknns78l256x46fjj6r0c0000gn/T/ipykernel_20782/3146203604.py:34: UserWarning: Using default sampling frequency set in configuration file.\n",
      "  tmp_features = tsfel.time_series_features_extractor(cfg_file, test_events)\n"
     ]
    },
    {
     "data": {
      "text/html": [
       "\n",
       "              <p>\n",
       "                  Progress: 100% Complete\n",
       "              <p/>\n",
       "              <progress\n",
       "                  value='15'\n",
       "                  max='15',\n",
       "                  style='width: 25%',\n",
       "              >\n",
       "                  15\n",
       "              </progress>\n",
       "\n",
       "    "
      ],
      "text/plain": [
       "<IPython.core.display.HTML object>"
      ]
     },
     "metadata": {},
     "output_type": "display_data"
    },
    {
     "name": "stderr",
     "output_type": "stream",
     "text": [
      "/var/folders/nw/443sknns78l256x46fjj6r0c0000gn/T/ipykernel_20782/3146203604.py:37: UserWarning: Using default sampling frequency set in configuration file.\n",
      "  stat_features = tsfel.time_series_features_extractor(cfg_file, test_events)\n"
     ]
    },
    {
     "data": {
      "text/html": [
       "\n",
       "              <p>\n",
       "                  Progress: 100% Complete\n",
       "              <p/>\n",
       "              <progress\n",
       "                  value='20'\n",
       "                  max='20',\n",
       "                  style='width: 25%',\n",
       "              >\n",
       "                  20\n",
       "              </progress>\n",
       "\n",
       "    "
      ],
      "text/plain": [
       "<IPython.core.display.HTML object>"
      ]
     },
     "metadata": {},
     "output_type": "display_data"
    },
    {
     "name": "stdout",
     "output_type": "stream",
     "text": [
      "test_data: ../../trace_data/theft_protection/single_thread/version_3/faulty_data/diag_subseq/trace_trial1_313-352.json\n",
      "test_data_len: 39\n"
     ]
    },
    {
     "name": "stderr",
     "output_type": "stream",
     "text": [
      "/var/folders/nw/443sknns78l256x46fjj6r0c0000gn/T/ipykernel_20782/3146203604.py:34: UserWarning: Using default sampling frequency set in configuration file.\n",
      "  tmp_features = tsfel.time_series_features_extractor(cfg_file, test_events)\n"
     ]
    },
    {
     "data": {
      "text/html": [
       "\n",
       "              <p>\n",
       "                  Progress: 100% Complete\n",
       "              <p/>\n",
       "              <progress\n",
       "                  value='15'\n",
       "                  max='15',\n",
       "                  style='width: 25%',\n",
       "              >\n",
       "                  15\n",
       "              </progress>\n",
       "\n",
       "    "
      ],
      "text/plain": [
       "<IPython.core.display.HTML object>"
      ]
     },
     "metadata": {},
     "output_type": "display_data"
    },
    {
     "name": "stderr",
     "output_type": "stream",
     "text": [
      "/var/folders/nw/443sknns78l256x46fjj6r0c0000gn/T/ipykernel_20782/3146203604.py:37: UserWarning: Using default sampling frequency set in configuration file.\n",
      "  stat_features = tsfel.time_series_features_extractor(cfg_file, test_events)\n"
     ]
    },
    {
     "data": {
      "text/html": [
       "\n",
       "              <p>\n",
       "                  Progress: 100% Complete\n",
       "              <p/>\n",
       "              <progress\n",
       "                  value='20'\n",
       "                  max='20',\n",
       "                  style='width: 25%',\n",
       "              >\n",
       "                  20\n",
       "              </progress>\n",
       "\n",
       "    "
      ],
      "text/plain": [
       "<IPython.core.display.HTML object>"
      ]
     },
     "metadata": {},
     "output_type": "display_data"
    },
    {
     "name": "stdout",
     "output_type": "stream",
     "text": [
      "test_data: ../../trace_data/theft_protection/single_thread/version_3/faulty_data/diag_subseq/trace_trial1_1813-1852.json\n",
      "test_data_len: 39\n"
     ]
    },
    {
     "name": "stderr",
     "output_type": "stream",
     "text": [
      "/var/folders/nw/443sknns78l256x46fjj6r0c0000gn/T/ipykernel_20782/3146203604.py:34: UserWarning: Using default sampling frequency set in configuration file.\n",
      "  tmp_features = tsfel.time_series_features_extractor(cfg_file, test_events)\n"
     ]
    },
    {
     "data": {
      "text/html": [
       "\n",
       "              <p>\n",
       "                  Progress: 100% Complete\n",
       "              <p/>\n",
       "              <progress\n",
       "                  value='15'\n",
       "                  max='15',\n",
       "                  style='width: 25%',\n",
       "              >\n",
       "                  15\n",
       "              </progress>\n",
       "\n",
       "    "
      ],
      "text/plain": [
       "<IPython.core.display.HTML object>"
      ]
     },
     "metadata": {},
     "output_type": "display_data"
    },
    {
     "name": "stderr",
     "output_type": "stream",
     "text": [
      "/var/folders/nw/443sknns78l256x46fjj6r0c0000gn/T/ipykernel_20782/3146203604.py:37: UserWarning: Using default sampling frequency set in configuration file.\n",
      "  stat_features = tsfel.time_series_features_extractor(cfg_file, test_events)\n"
     ]
    },
    {
     "data": {
      "text/html": [
       "\n",
       "              <p>\n",
       "                  Progress: 100% Complete\n",
       "              <p/>\n",
       "              <progress\n",
       "                  value='20'\n",
       "                  max='20',\n",
       "                  style='width: 25%',\n",
       "              >\n",
       "                  20\n",
       "              </progress>\n",
       "\n",
       "    "
      ],
      "text/plain": [
       "<IPython.core.display.HTML object>"
      ]
     },
     "metadata": {},
     "output_type": "display_data"
    },
    {
     "name": "stdout",
     "output_type": "stream",
     "text": [
      "test_data: ../../trace_data/theft_protection/single_thread/version_3/faulty_data/diag_subseq/trace_trial2_1104-1179.json\n",
      "test_data_len: 75\n"
     ]
    },
    {
     "name": "stderr",
     "output_type": "stream",
     "text": [
      "/var/folders/nw/443sknns78l256x46fjj6r0c0000gn/T/ipykernel_20782/3146203604.py:34: UserWarning: Using default sampling frequency set in configuration file.\n",
      "  tmp_features = tsfel.time_series_features_extractor(cfg_file, test_events)\n"
     ]
    },
    {
     "data": {
      "text/html": [
       "\n",
       "              <p>\n",
       "                  Progress: 100% Complete\n",
       "              <p/>\n",
       "              <progress\n",
       "                  value='15'\n",
       "                  max='15',\n",
       "                  style='width: 25%',\n",
       "              >\n",
       "                  15\n",
       "              </progress>\n",
       "\n",
       "    "
      ],
      "text/plain": [
       "<IPython.core.display.HTML object>"
      ]
     },
     "metadata": {},
     "output_type": "display_data"
    },
    {
     "name": "stderr",
     "output_type": "stream",
     "text": [
      "/var/folders/nw/443sknns78l256x46fjj6r0c0000gn/T/ipykernel_20782/3146203604.py:37: UserWarning: Using default sampling frequency set in configuration file.\n",
      "  stat_features = tsfel.time_series_features_extractor(cfg_file, test_events)\n"
     ]
    },
    {
     "data": {
      "text/html": [
       "\n",
       "              <p>\n",
       "                  Progress: 100% Complete\n",
       "              <p/>\n",
       "              <progress\n",
       "                  value='20'\n",
       "                  max='20',\n",
       "                  style='width: 25%',\n",
       "              >\n",
       "                  20\n",
       "              </progress>\n",
       "\n",
       "    "
      ],
      "text/plain": [
       "<IPython.core.display.HTML object>"
      ]
     },
     "metadata": {},
     "output_type": "display_data"
    },
    {
     "name": "stdout",
     "output_type": "stream",
     "text": [
      "test_data: ../../trace_data/theft_protection/single_thread/version_3/faulty_data/diag_subseq/trace_trial2_310-321.json\n",
      "test_data_len: 11\n"
     ]
    },
    {
     "name": "stderr",
     "output_type": "stream",
     "text": [
      "/var/folders/nw/443sknns78l256x46fjj6r0c0000gn/T/ipykernel_20782/3146203604.py:34: UserWarning: Using default sampling frequency set in configuration file.\n",
      "  tmp_features = tsfel.time_series_features_extractor(cfg_file, test_events)\n"
     ]
    },
    {
     "data": {
      "text/html": [
       "\n",
       "              <p>\n",
       "                  Progress: 100% Complete\n",
       "              <p/>\n",
       "              <progress\n",
       "                  value='15'\n",
       "                  max='15',\n",
       "                  style='width: 25%',\n",
       "              >\n",
       "                  15\n",
       "              </progress>\n",
       "\n",
       "    "
      ],
      "text/plain": [
       "<IPython.core.display.HTML object>"
      ]
     },
     "metadata": {},
     "output_type": "display_data"
    },
    {
     "name": "stderr",
     "output_type": "stream",
     "text": [
      "/var/folders/nw/443sknns78l256x46fjj6r0c0000gn/T/ipykernel_20782/3146203604.py:37: UserWarning: Using default sampling frequency set in configuration file.\n",
      "  stat_features = tsfel.time_series_features_extractor(cfg_file, test_events)\n"
     ]
    },
    {
     "data": {
      "text/html": [
       "\n",
       "              <p>\n",
       "                  Progress: 100% Complete\n",
       "              <p/>\n",
       "              <progress\n",
       "                  value='20'\n",
       "                  max='20',\n",
       "                  style='width: 25%',\n",
       "              >\n",
       "                  20\n",
       "              </progress>\n",
       "\n",
       "    "
      ],
      "text/plain": [
       "<IPython.core.display.HTML object>"
      ]
     },
     "metadata": {},
     "output_type": "display_data"
    },
    {
     "name": "stdout",
     "output_type": "stream",
     "text": [
      "test_data: ../../trace_data/theft_protection/single_thread/version_3/faulty_data/diag_subseq/trace_trial1_720-759.json\n",
      "test_data_len: 39\n"
     ]
    },
    {
     "name": "stderr",
     "output_type": "stream",
     "text": [
      "/var/folders/nw/443sknns78l256x46fjj6r0c0000gn/T/ipykernel_20782/3146203604.py:34: UserWarning: Using default sampling frequency set in configuration file.\n",
      "  tmp_features = tsfel.time_series_features_extractor(cfg_file, test_events)\n"
     ]
    },
    {
     "data": {
      "text/html": [
       "\n",
       "              <p>\n",
       "                  Progress: 100% Complete\n",
       "              <p/>\n",
       "              <progress\n",
       "                  value='15'\n",
       "                  max='15',\n",
       "                  style='width: 25%',\n",
       "              >\n",
       "                  15\n",
       "              </progress>\n",
       "\n",
       "    "
      ],
      "text/plain": [
       "<IPython.core.display.HTML object>"
      ]
     },
     "metadata": {},
     "output_type": "display_data"
    },
    {
     "name": "stderr",
     "output_type": "stream",
     "text": [
      "/var/folders/nw/443sknns78l256x46fjj6r0c0000gn/T/ipykernel_20782/3146203604.py:37: UserWarning: Using default sampling frequency set in configuration file.\n",
      "  stat_features = tsfel.time_series_features_extractor(cfg_file, test_events)\n"
     ]
    },
    {
     "data": {
      "text/html": [
       "\n",
       "              <p>\n",
       "                  Progress: 100% Complete\n",
       "              <p/>\n",
       "              <progress\n",
       "                  value='20'\n",
       "                  max='20',\n",
       "                  style='width: 25%',\n",
       "              >\n",
       "                  20\n",
       "              </progress>\n",
       "\n",
       "    "
      ],
      "text/plain": [
       "<IPython.core.display.HTML object>"
      ]
     },
     "metadata": {},
     "output_type": "display_data"
    },
    {
     "name": "stdout",
     "output_type": "stream",
     "text": [
      "test_data: ../../trace_data/theft_protection/single_thread/version_3/faulty_data/diag_subseq/trace_trial2_1230-1267.json\n",
      "test_data_len: 37\n"
     ]
    },
    {
     "name": "stderr",
     "output_type": "stream",
     "text": [
      "/var/folders/nw/443sknns78l256x46fjj6r0c0000gn/T/ipykernel_20782/3146203604.py:34: UserWarning: Using default sampling frequency set in configuration file.\n",
      "  tmp_features = tsfel.time_series_features_extractor(cfg_file, test_events)\n"
     ]
    },
    {
     "data": {
      "text/html": [
       "\n",
       "              <p>\n",
       "                  Progress: 100% Complete\n",
       "              <p/>\n",
       "              <progress\n",
       "                  value='15'\n",
       "                  max='15',\n",
       "                  style='width: 25%',\n",
       "              >\n",
       "                  15\n",
       "              </progress>\n",
       "\n",
       "    "
      ],
      "text/plain": [
       "<IPython.core.display.HTML object>"
      ]
     },
     "metadata": {},
     "output_type": "display_data"
    },
    {
     "name": "stderr",
     "output_type": "stream",
     "text": [
      "/var/folders/nw/443sknns78l256x46fjj6r0c0000gn/T/ipykernel_20782/3146203604.py:37: UserWarning: Using default sampling frequency set in configuration file.\n",
      "  stat_features = tsfel.time_series_features_extractor(cfg_file, test_events)\n"
     ]
    },
    {
     "data": {
      "text/html": [
       "\n",
       "              <p>\n",
       "                  Progress: 100% Complete\n",
       "              <p/>\n",
       "              <progress\n",
       "                  value='20'\n",
       "                  max='20',\n",
       "                  style='width: 25%',\n",
       "              >\n",
       "                  20\n",
       "              </progress>\n",
       "\n",
       "    "
      ],
      "text/plain": [
       "<IPython.core.display.HTML object>"
      ]
     },
     "metadata": {},
     "output_type": "display_data"
    },
    {
     "name": "stdout",
     "output_type": "stream",
     "text": [
      "test_data: ../../trace_data/theft_protection/single_thread/version_3/faulty_data/diag_subseq/trace_trial2_1710-1779.json\n",
      "test_data_len: 69\n"
     ]
    },
    {
     "name": "stderr",
     "output_type": "stream",
     "text": [
      "/var/folders/nw/443sknns78l256x46fjj6r0c0000gn/T/ipykernel_20782/3146203604.py:34: UserWarning: Using default sampling frequency set in configuration file.\n",
      "  tmp_features = tsfel.time_series_features_extractor(cfg_file, test_events)\n"
     ]
    },
    {
     "data": {
      "text/html": [
       "\n",
       "              <p>\n",
       "                  Progress: 100% Complete\n",
       "              <p/>\n",
       "              <progress\n",
       "                  value='15'\n",
       "                  max='15',\n",
       "                  style='width: 25%',\n",
       "              >\n",
       "                  15\n",
       "              </progress>\n",
       "\n",
       "    "
      ],
      "text/plain": [
       "<IPython.core.display.HTML object>"
      ]
     },
     "metadata": {},
     "output_type": "display_data"
    },
    {
     "name": "stderr",
     "output_type": "stream",
     "text": [
      "/var/folders/nw/443sknns78l256x46fjj6r0c0000gn/T/ipykernel_20782/3146203604.py:37: UserWarning: Using default sampling frequency set in configuration file.\n",
      "  stat_features = tsfel.time_series_features_extractor(cfg_file, test_events)\n"
     ]
    },
    {
     "data": {
      "text/html": [
       "\n",
       "              <p>\n",
       "                  Progress: 100% Complete\n",
       "              <p/>\n",
       "              <progress\n",
       "                  value='20'\n",
       "                  max='20',\n",
       "                  style='width: 25%',\n",
       "              >\n",
       "                  20\n",
       "              </progress>\n",
       "\n",
       "    "
      ],
      "text/plain": [
       "<IPython.core.display.HTML object>"
      ]
     },
     "metadata": {},
     "output_type": "display_data"
    },
    {
     "name": "stdout",
     "output_type": "stream",
     "text": [
      "test_data: ../../trace_data/theft_protection/single_thread/version_3/faulty_data/diag_subseq/trace_trial2_2280-2324.json\n",
      "test_data_len: 44\n"
     ]
    },
    {
     "name": "stderr",
     "output_type": "stream",
     "text": [
      "/var/folders/nw/443sknns78l256x46fjj6r0c0000gn/T/ipykernel_20782/3146203604.py:34: UserWarning: Using default sampling frequency set in configuration file.\n",
      "  tmp_features = tsfel.time_series_features_extractor(cfg_file, test_events)\n"
     ]
    },
    {
     "data": {
      "text/html": [
       "\n",
       "              <p>\n",
       "                  Progress: 100% Complete\n",
       "              <p/>\n",
       "              <progress\n",
       "                  value='15'\n",
       "                  max='15',\n",
       "                  style='width: 25%',\n",
       "              >\n",
       "                  15\n",
       "              </progress>\n",
       "\n",
       "    "
      ],
      "text/plain": [
       "<IPython.core.display.HTML object>"
      ]
     },
     "metadata": {},
     "output_type": "display_data"
    },
    {
     "name": "stderr",
     "output_type": "stream",
     "text": [
      "/var/folders/nw/443sknns78l256x46fjj6r0c0000gn/T/ipykernel_20782/3146203604.py:37: UserWarning: Using default sampling frequency set in configuration file.\n",
      "  stat_features = tsfel.time_series_features_extractor(cfg_file, test_events)\n"
     ]
    },
    {
     "data": {
      "text/html": [
       "\n",
       "              <p>\n",
       "                  Progress: 100% Complete\n",
       "              <p/>\n",
       "              <progress\n",
       "                  value='20'\n",
       "                  max='20',\n",
       "                  style='width: 25%',\n",
       "              >\n",
       "                  20\n",
       "              </progress>\n",
       "\n",
       "    "
      ],
      "text/plain": [
       "<IPython.core.display.HTML object>"
      ]
     },
     "metadata": {},
     "output_type": "display_data"
    },
    {
     "name": "stdout",
     "output_type": "stream",
     "text": [
      "test_data: ../../trace_data/theft_protection/single_thread/version_3/faulty_data/diag_subseq/trace_trial1_2055-2092.json\n",
      "test_data_len: 37\n"
     ]
    },
    {
     "name": "stderr",
     "output_type": "stream",
     "text": [
      "/var/folders/nw/443sknns78l256x46fjj6r0c0000gn/T/ipykernel_20782/3146203604.py:34: UserWarning: Using default sampling frequency set in configuration file.\n",
      "  tmp_features = tsfel.time_series_features_extractor(cfg_file, test_events)\n"
     ]
    },
    {
     "data": {
      "text/html": [
       "\n",
       "              <p>\n",
       "                  Progress: 100% Complete\n",
       "              <p/>\n",
       "              <progress\n",
       "                  value='15'\n",
       "                  max='15',\n",
       "                  style='width: 25%',\n",
       "              >\n",
       "                  15\n",
       "              </progress>\n",
       "\n",
       "    "
      ],
      "text/plain": [
       "<IPython.core.display.HTML object>"
      ]
     },
     "metadata": {},
     "output_type": "display_data"
    },
    {
     "name": "stderr",
     "output_type": "stream",
     "text": [
      "/var/folders/nw/443sknns78l256x46fjj6r0c0000gn/T/ipykernel_20782/3146203604.py:37: UserWarning: Using default sampling frequency set in configuration file.\n",
      "  stat_features = tsfel.time_series_features_extractor(cfg_file, test_events)\n"
     ]
    },
    {
     "data": {
      "text/html": [
       "\n",
       "              <p>\n",
       "                  Progress: 100% Complete\n",
       "              <p/>\n",
       "              <progress\n",
       "                  value='20'\n",
       "                  max='20',\n",
       "                  style='width: 25%',\n",
       "              >\n",
       "                  20\n",
       "              </progress>\n",
       "\n",
       "    "
      ],
      "text/plain": [
       "<IPython.core.display.HTML object>"
      ]
     },
     "metadata": {},
     "output_type": "display_data"
    },
    {
     "name": "stdout",
     "output_type": "stream",
     "text": [
      "test_data: ../../trace_data/theft_protection/single_thread/version_3/faulty_data/diag_subseq/trace_trial2_1375-1419.json\n",
      "test_data_len: 44\n"
     ]
    },
    {
     "name": "stderr",
     "output_type": "stream",
     "text": [
      "/var/folders/nw/443sknns78l256x46fjj6r0c0000gn/T/ipykernel_20782/3146203604.py:34: UserWarning: Using default sampling frequency set in configuration file.\n",
      "  tmp_features = tsfel.time_series_features_extractor(cfg_file, test_events)\n"
     ]
    },
    {
     "data": {
      "text/html": [
       "\n",
       "              <p>\n",
       "                  Progress: 100% Complete\n",
       "              <p/>\n",
       "              <progress\n",
       "                  value='15'\n",
       "                  max='15',\n",
       "                  style='width: 25%',\n",
       "              >\n",
       "                  15\n",
       "              </progress>\n",
       "\n",
       "    "
      ],
      "text/plain": [
       "<IPython.core.display.HTML object>"
      ]
     },
     "metadata": {},
     "output_type": "display_data"
    },
    {
     "name": "stderr",
     "output_type": "stream",
     "text": [
      "/var/folders/nw/443sknns78l256x46fjj6r0c0000gn/T/ipykernel_20782/3146203604.py:37: UserWarning: Using default sampling frequency set in configuration file.\n",
      "  stat_features = tsfel.time_series_features_extractor(cfg_file, test_events)\n"
     ]
    },
    {
     "data": {
      "text/html": [
       "\n",
       "              <p>\n",
       "                  Progress: 100% Complete\n",
       "              <p/>\n",
       "              <progress\n",
       "                  value='20'\n",
       "                  max='20',\n",
       "                  style='width: 25%',\n",
       "              >\n",
       "                  20\n",
       "              </progress>\n",
       "\n",
       "    "
      ],
      "text/plain": [
       "<IPython.core.display.HTML object>"
      ]
     },
     "metadata": {},
     "output_type": "display_data"
    },
    {
     "name": "stdout",
     "output_type": "stream",
     "text": [
      "test_data: ../../trace_data/theft_protection/single_thread/version_3/faulty_data/diag_subseq/trace_trial2_1496-1533.json\n",
      "test_data_len: 37\n"
     ]
    },
    {
     "name": "stderr",
     "output_type": "stream",
     "text": [
      "/var/folders/nw/443sknns78l256x46fjj6r0c0000gn/T/ipykernel_20782/3146203604.py:34: UserWarning: Using default sampling frequency set in configuration file.\n",
      "  tmp_features = tsfel.time_series_features_extractor(cfg_file, test_events)\n"
     ]
    },
    {
     "data": {
      "text/html": [
       "\n",
       "              <p>\n",
       "                  Progress: 100% Complete\n",
       "              <p/>\n",
       "              <progress\n",
       "                  value='15'\n",
       "                  max='15',\n",
       "                  style='width: 25%',\n",
       "              >\n",
       "                  15\n",
       "              </progress>\n",
       "\n",
       "    "
      ],
      "text/plain": [
       "<IPython.core.display.HTML object>"
      ]
     },
     "metadata": {},
     "output_type": "display_data"
    },
    {
     "name": "stderr",
     "output_type": "stream",
     "text": [
      "/var/folders/nw/443sknns78l256x46fjj6r0c0000gn/T/ipykernel_20782/3146203604.py:37: UserWarning: Using default sampling frequency set in configuration file.\n",
      "  stat_features = tsfel.time_series_features_extractor(cfg_file, test_events)\n"
     ]
    },
    {
     "data": {
      "text/html": [
       "\n",
       "              <p>\n",
       "                  Progress: 100% Complete\n",
       "              <p/>\n",
       "              <progress\n",
       "                  value='20'\n",
       "                  max='20',\n",
       "                  style='width: 25%',\n",
       "              >\n",
       "                  20\n",
       "              </progress>\n",
       "\n",
       "    "
      ],
      "text/plain": [
       "<IPython.core.display.HTML object>"
      ]
     },
     "metadata": {},
     "output_type": "display_data"
    },
    {
     "name": "stdout",
     "output_type": "stream",
     "text": [
      "test_data: ../../trace_data/theft_protection/single_thread/version_3/faulty_data/diag_subseq/trace_trial1_2416-2455.json\n",
      "test_data_len: 39\n"
     ]
    },
    {
     "name": "stderr",
     "output_type": "stream",
     "text": [
      "/var/folders/nw/443sknns78l256x46fjj6r0c0000gn/T/ipykernel_20782/3146203604.py:34: UserWarning: Using default sampling frequency set in configuration file.\n",
      "  tmp_features = tsfel.time_series_features_extractor(cfg_file, test_events)\n"
     ]
    },
    {
     "data": {
      "text/html": [
       "\n",
       "              <p>\n",
       "                  Progress: 100% Complete\n",
       "              <p/>\n",
       "              <progress\n",
       "                  value='15'\n",
       "                  max='15',\n",
       "                  style='width: 25%',\n",
       "              >\n",
       "                  15\n",
       "              </progress>\n",
       "\n",
       "    "
      ],
      "text/plain": [
       "<IPython.core.display.HTML object>"
      ]
     },
     "metadata": {},
     "output_type": "display_data"
    },
    {
     "name": "stderr",
     "output_type": "stream",
     "text": [
      "/var/folders/nw/443sknns78l256x46fjj6r0c0000gn/T/ipykernel_20782/3146203604.py:37: UserWarning: Using default sampling frequency set in configuration file.\n",
      "  stat_features = tsfel.time_series_features_extractor(cfg_file, test_events)\n"
     ]
    },
    {
     "data": {
      "text/html": [
       "\n",
       "              <p>\n",
       "                  Progress: 100% Complete\n",
       "              <p/>\n",
       "              <progress\n",
       "                  value='20'\n",
       "                  max='20',\n",
       "                  style='width: 25%',\n",
       "              >\n",
       "                  20\n",
       "              </progress>\n",
       "\n",
       "    "
      ],
      "text/plain": [
       "<IPython.core.display.HTML object>"
      ]
     },
     "metadata": {},
     "output_type": "display_data"
    },
    {
     "name": "stdout",
     "output_type": "stream",
     "text": [
      "test_data: ../../trace_data/theft_protection/single_thread/version_3/faulty_data/diag_subseq/trace_trial2_1841-1978.json\n",
      "test_data_len: 137\n"
     ]
    },
    {
     "name": "stderr",
     "output_type": "stream",
     "text": [
      "/var/folders/nw/443sknns78l256x46fjj6r0c0000gn/T/ipykernel_20782/3146203604.py:34: UserWarning: Using default sampling frequency set in configuration file.\n",
      "  tmp_features = tsfel.time_series_features_extractor(cfg_file, test_events)\n"
     ]
    },
    {
     "data": {
      "text/html": [
       "\n",
       "              <p>\n",
       "                  Progress: 100% Complete\n",
       "              <p/>\n",
       "              <progress\n",
       "                  value='15'\n",
       "                  max='15',\n",
       "                  style='width: 25%',\n",
       "              >\n",
       "                  15\n",
       "              </progress>\n",
       "\n",
       "    "
      ],
      "text/plain": [
       "<IPython.core.display.HTML object>"
      ]
     },
     "metadata": {},
     "output_type": "display_data"
    },
    {
     "name": "stderr",
     "output_type": "stream",
     "text": [
      "/var/folders/nw/443sknns78l256x46fjj6r0c0000gn/T/ipykernel_20782/3146203604.py:37: UserWarning: Using default sampling frequency set in configuration file.\n",
      "  stat_features = tsfel.time_series_features_extractor(cfg_file, test_events)\n"
     ]
    },
    {
     "data": {
      "text/html": [
       "\n",
       "              <p>\n",
       "                  Progress: 100% Complete\n",
       "              <p/>\n",
       "              <progress\n",
       "                  value='20'\n",
       "                  max='20',\n",
       "                  style='width: 25%',\n",
       "              >\n",
       "                  20\n",
       "              </progress>\n",
       "\n",
       "    "
      ],
      "text/plain": [
       "<IPython.core.display.HTML object>"
      ]
     },
     "metadata": {},
     "output_type": "display_data"
    },
    {
     "name": "stdout",
     "output_type": "stream",
     "text": [
      "test_data: ../../trace_data/theft_protection/single_thread/version_3/faulty_data/diag_subseq/trace_trial1_2173-2212.json\n",
      "test_data_len: 39\n"
     ]
    },
    {
     "name": "stderr",
     "output_type": "stream",
     "text": [
      "/var/folders/nw/443sknns78l256x46fjj6r0c0000gn/T/ipykernel_20782/3146203604.py:34: UserWarning: Using default sampling frequency set in configuration file.\n",
      "  tmp_features = tsfel.time_series_features_extractor(cfg_file, test_events)\n"
     ]
    },
    {
     "data": {
      "text/html": [
       "\n",
       "              <p>\n",
       "                  Progress: 100% Complete\n",
       "              <p/>\n",
       "              <progress\n",
       "                  value='15'\n",
       "                  max='15',\n",
       "                  style='width: 25%',\n",
       "              >\n",
       "                  15\n",
       "              </progress>\n",
       "\n",
       "    "
      ],
      "text/plain": [
       "<IPython.core.display.HTML object>"
      ]
     },
     "metadata": {},
     "output_type": "display_data"
    },
    {
     "name": "stderr",
     "output_type": "stream",
     "text": [
      "/var/folders/nw/443sknns78l256x46fjj6r0c0000gn/T/ipykernel_20782/3146203604.py:37: UserWarning: Using default sampling frequency set in configuration file.\n",
      "  stat_features = tsfel.time_series_features_extractor(cfg_file, test_events)\n"
     ]
    },
    {
     "data": {
      "text/html": [
       "\n",
       "              <p>\n",
       "                  Progress: 100% Complete\n",
       "              <p/>\n",
       "              <progress\n",
       "                  value='20'\n",
       "                  max='20',\n",
       "                  style='width: 25%',\n",
       "              >\n",
       "                  20\n",
       "              </progress>\n",
       "\n",
       "    "
      ],
      "text/plain": [
       "<IPython.core.display.HTML object>"
      ]
     },
     "metadata": {},
     "output_type": "display_data"
    },
    {
     "name": "stdout",
     "output_type": "stream",
     "text": [
      "test_data: ../../trace_data/theft_protection/single_thread/version_3/faulty_data/diag_subseq/trace_trial1_2102-2141.json\n",
      "test_data_len: 39\n"
     ]
    },
    {
     "name": "stderr",
     "output_type": "stream",
     "text": [
      "/var/folders/nw/443sknns78l256x46fjj6r0c0000gn/T/ipykernel_20782/3146203604.py:34: UserWarning: Using default sampling frequency set in configuration file.\n",
      "  tmp_features = tsfel.time_series_features_extractor(cfg_file, test_events)\n"
     ]
    },
    {
     "data": {
      "text/html": [
       "\n",
       "              <p>\n",
       "                  Progress: 100% Complete\n",
       "              <p/>\n",
       "              <progress\n",
       "                  value='15'\n",
       "                  max='15',\n",
       "                  style='width: 25%',\n",
       "              >\n",
       "                  15\n",
       "              </progress>\n",
       "\n",
       "    "
      ],
      "text/plain": [
       "<IPython.core.display.HTML object>"
      ]
     },
     "metadata": {},
     "output_type": "display_data"
    },
    {
     "name": "stderr",
     "output_type": "stream",
     "text": [
      "/var/folders/nw/443sknns78l256x46fjj6r0c0000gn/T/ipykernel_20782/3146203604.py:37: UserWarning: Using default sampling frequency set in configuration file.\n",
      "  stat_features = tsfel.time_series_features_extractor(cfg_file, test_events)\n"
     ]
    },
    {
     "data": {
      "text/html": [
       "\n",
       "              <p>\n",
       "                  Progress: 100% Complete\n",
       "              <p/>\n",
       "              <progress\n",
       "                  value='20'\n",
       "                  max='20',\n",
       "                  style='width: 25%',\n",
       "              >\n",
       "                  20\n",
       "              </progress>\n",
       "\n",
       "    "
      ],
      "text/plain": [
       "<IPython.core.display.HTML object>"
      ]
     },
     "metadata": {},
     "output_type": "display_data"
    },
    {
     "name": "stdout",
     "output_type": "stream",
     "text": [
      "test_data: ../../trace_data/theft_protection/single_thread/version_3/faulty_data/diag_subseq/trace_trial1_526-565.json\n",
      "test_data_len: 39\n"
     ]
    },
    {
     "name": "stderr",
     "output_type": "stream",
     "text": [
      "/var/folders/nw/443sknns78l256x46fjj6r0c0000gn/T/ipykernel_20782/3146203604.py:34: UserWarning: Using default sampling frequency set in configuration file.\n",
      "  tmp_features = tsfel.time_series_features_extractor(cfg_file, test_events)\n"
     ]
    },
    {
     "data": {
      "text/html": [
       "\n",
       "              <p>\n",
       "                  Progress: 100% Complete\n",
       "              <p/>\n",
       "              <progress\n",
       "                  value='15'\n",
       "                  max='15',\n",
       "                  style='width: 25%',\n",
       "              >\n",
       "                  15\n",
       "              </progress>\n",
       "\n",
       "    "
      ],
      "text/plain": [
       "<IPython.core.display.HTML object>"
      ]
     },
     "metadata": {},
     "output_type": "display_data"
    },
    {
     "name": "stderr",
     "output_type": "stream",
     "text": [
      "/var/folders/nw/443sknns78l256x46fjj6r0c0000gn/T/ipykernel_20782/3146203604.py:37: UserWarning: Using default sampling frequency set in configuration file.\n",
      "  stat_features = tsfel.time_series_features_extractor(cfg_file, test_events)\n"
     ]
    },
    {
     "data": {
      "text/html": [
       "\n",
       "              <p>\n",
       "                  Progress: 100% Complete\n",
       "              <p/>\n",
       "              <progress\n",
       "                  value='20'\n",
       "                  max='20',\n",
       "                  style='width: 25%',\n",
       "              >\n",
       "                  20\n",
       "              </progress>\n",
       "\n",
       "    "
      ],
      "text/plain": [
       "<IPython.core.display.HTML object>"
      ]
     },
     "metadata": {},
     "output_type": "display_data"
    },
    {
     "name": "stdout",
     "output_type": "stream",
     "text": [
      "test_data: ../../trace_data/theft_protection/single_thread/version_3/faulty_data/diag_subseq/trace_trial2_2427-2471.json\n",
      "test_data_len: 44\n"
     ]
    },
    {
     "name": "stderr",
     "output_type": "stream",
     "text": [
      "/var/folders/nw/443sknns78l256x46fjj6r0c0000gn/T/ipykernel_20782/3146203604.py:34: UserWarning: Using default sampling frequency set in configuration file.\n",
      "  tmp_features = tsfel.time_series_features_extractor(cfg_file, test_events)\n"
     ]
    },
    {
     "data": {
      "text/html": [
       "\n",
       "              <p>\n",
       "                  Progress: 100% Complete\n",
       "              <p/>\n",
       "              <progress\n",
       "                  value='15'\n",
       "                  max='15',\n",
       "                  style='width: 25%',\n",
       "              >\n",
       "                  15\n",
       "              </progress>\n",
       "\n",
       "    "
      ],
      "text/plain": [
       "<IPython.core.display.HTML object>"
      ]
     },
     "metadata": {},
     "output_type": "display_data"
    },
    {
     "name": "stderr",
     "output_type": "stream",
     "text": [
      "/var/folders/nw/443sknns78l256x46fjj6r0c0000gn/T/ipykernel_20782/3146203604.py:37: UserWarning: Using default sampling frequency set in configuration file.\n",
      "  stat_features = tsfel.time_series_features_extractor(cfg_file, test_events)\n"
     ]
    },
    {
     "data": {
      "text/html": [
       "\n",
       "              <p>\n",
       "                  Progress: 100% Complete\n",
       "              <p/>\n",
       "              <progress\n",
       "                  value='20'\n",
       "                  max='20',\n",
       "                  style='width: 25%',\n",
       "              >\n",
       "                  20\n",
       "              </progress>\n",
       "\n",
       "    "
      ],
      "text/plain": [
       "<IPython.core.display.HTML object>"
      ]
     },
     "metadata": {},
     "output_type": "display_data"
    },
    {
     "name": "stdout",
     "output_type": "stream",
     "text": [
      "test_data: ../../trace_data/theft_protection/single_thread/version_3/faulty_data/diag_subseq/trace_trial1_1101-1140.json\n",
      "test_data_len: 39\n"
     ]
    },
    {
     "name": "stderr",
     "output_type": "stream",
     "text": [
      "/var/folders/nw/443sknns78l256x46fjj6r0c0000gn/T/ipykernel_20782/3146203604.py:34: UserWarning: Using default sampling frequency set in configuration file.\n",
      "  tmp_features = tsfel.time_series_features_extractor(cfg_file, test_events)\n"
     ]
    },
    {
     "data": {
      "text/html": [
       "\n",
       "              <p>\n",
       "                  Progress: 100% Complete\n",
       "              <p/>\n",
       "              <progress\n",
       "                  value='15'\n",
       "                  max='15',\n",
       "                  style='width: 25%',\n",
       "              >\n",
       "                  15\n",
       "              </progress>\n",
       "\n",
       "    "
      ],
      "text/plain": [
       "<IPython.core.display.HTML object>"
      ]
     },
     "metadata": {},
     "output_type": "display_data"
    },
    {
     "name": "stderr",
     "output_type": "stream",
     "text": [
      "/var/folders/nw/443sknns78l256x46fjj6r0c0000gn/T/ipykernel_20782/3146203604.py:37: UserWarning: Using default sampling frequency set in configuration file.\n",
      "  stat_features = tsfel.time_series_features_extractor(cfg_file, test_events)\n"
     ]
    },
    {
     "data": {
      "text/html": [
       "\n",
       "              <p>\n",
       "                  Progress: 100% Complete\n",
       "              <p/>\n",
       "              <progress\n",
       "                  value='20'\n",
       "                  max='20',\n",
       "                  style='width: 25%',\n",
       "              >\n",
       "                  20\n",
       "              </progress>\n",
       "\n",
       "    "
      ],
      "text/plain": [
       "<IPython.core.display.HTML object>"
      ]
     },
     "metadata": {},
     "output_type": "display_data"
    },
    {
     "name": "stdout",
     "output_type": "stream",
     "text": [
      "test_data: ../../trace_data/theft_protection/single_thread/version_3/faulty_data/diag_subseq/trace_trial1_1616-1655.json\n",
      "test_data_len: 39\n"
     ]
    },
    {
     "name": "stderr",
     "output_type": "stream",
     "text": [
      "/var/folders/nw/443sknns78l256x46fjj6r0c0000gn/T/ipykernel_20782/3146203604.py:34: UserWarning: Using default sampling frequency set in configuration file.\n",
      "  tmp_features = tsfel.time_series_features_extractor(cfg_file, test_events)\n"
     ]
    },
    {
     "data": {
      "text/html": [
       "\n",
       "              <p>\n",
       "                  Progress: 100% Complete\n",
       "              <p/>\n",
       "              <progress\n",
       "                  value='15'\n",
       "                  max='15',\n",
       "                  style='width: 25%',\n",
       "              >\n",
       "                  15\n",
       "              </progress>\n",
       "\n",
       "    "
      ],
      "text/plain": [
       "<IPython.core.display.HTML object>"
      ]
     },
     "metadata": {},
     "output_type": "display_data"
    },
    {
     "name": "stderr",
     "output_type": "stream",
     "text": [
      "/var/folders/nw/443sknns78l256x46fjj6r0c0000gn/T/ipykernel_20782/3146203604.py:37: UserWarning: Using default sampling frequency set in configuration file.\n",
      "  stat_features = tsfel.time_series_features_extractor(cfg_file, test_events)\n"
     ]
    },
    {
     "data": {
      "text/html": [
       "\n",
       "              <p>\n",
       "                  Progress: 100% Complete\n",
       "              <p/>\n",
       "              <progress\n",
       "                  value='20'\n",
       "                  max='20',\n",
       "                  style='width: 25%',\n",
       "              >\n",
       "                  20\n",
       "              </progress>\n",
       "\n",
       "    "
      ],
      "text/plain": [
       "<IPython.core.display.HTML object>"
      ]
     },
     "metadata": {},
     "output_type": "display_data"
    },
    {
     "name": "stdout",
     "output_type": "stream",
     "text": [
      "test_data: ../../trace_data/theft_protection/single_thread/version_3/faulty_data/diag_subseq/trace_trial2_2055-2103.json\n",
      "test_data_len: 48\n"
     ]
    },
    {
     "name": "stderr",
     "output_type": "stream",
     "text": [
      "/var/folders/nw/443sknns78l256x46fjj6r0c0000gn/T/ipykernel_20782/3146203604.py:34: UserWarning: Using default sampling frequency set in configuration file.\n",
      "  tmp_features = tsfel.time_series_features_extractor(cfg_file, test_events)\n"
     ]
    },
    {
     "data": {
      "text/html": [
       "\n",
       "              <p>\n",
       "                  Progress: 100% Complete\n",
       "              <p/>\n",
       "              <progress\n",
       "                  value='15'\n",
       "                  max='15',\n",
       "                  style='width: 25%',\n",
       "              >\n",
       "                  15\n",
       "              </progress>\n",
       "\n",
       "    "
      ],
      "text/plain": [
       "<IPython.core.display.HTML object>"
      ]
     },
     "metadata": {},
     "output_type": "display_data"
    },
    {
     "name": "stderr",
     "output_type": "stream",
     "text": [
      "/var/folders/nw/443sknns78l256x46fjj6r0c0000gn/T/ipykernel_20782/3146203604.py:37: UserWarning: Using default sampling frequency set in configuration file.\n",
      "  stat_features = tsfel.time_series_features_extractor(cfg_file, test_events)\n"
     ]
    },
    {
     "data": {
      "text/html": [
       "\n",
       "              <p>\n",
       "                  Progress: 100% Complete\n",
       "              <p/>\n",
       "              <progress\n",
       "                  value='20'\n",
       "                  max='20',\n",
       "                  style='width: 25%',\n",
       "              >\n",
       "                  20\n",
       "              </progress>\n",
       "\n",
       "    "
      ],
      "text/plain": [
       "<IPython.core.display.HTML object>"
      ]
     },
     "metadata": {},
     "output_type": "display_data"
    },
    {
     "name": "stdout",
     "output_type": "stream",
     "text": [
      "test_data: ../../trace_data/theft_protection/single_thread/version_3/faulty_data/diag_subseq/trace_trial2_116-203.json\n",
      "test_data_len: 87\n"
     ]
    },
    {
     "name": "stderr",
     "output_type": "stream",
     "text": [
      "/var/folders/nw/443sknns78l256x46fjj6r0c0000gn/T/ipykernel_20782/3146203604.py:34: UserWarning: Using default sampling frequency set in configuration file.\n",
      "  tmp_features = tsfel.time_series_features_extractor(cfg_file, test_events)\n"
     ]
    },
    {
     "data": {
      "text/html": [
       "\n",
       "              <p>\n",
       "                  Progress: 100% Complete\n",
       "              <p/>\n",
       "              <progress\n",
       "                  value='15'\n",
       "                  max='15',\n",
       "                  style='width: 25%',\n",
       "              >\n",
       "                  15\n",
       "              </progress>\n",
       "\n",
       "    "
      ],
      "text/plain": [
       "<IPython.core.display.HTML object>"
      ]
     },
     "metadata": {},
     "output_type": "display_data"
    },
    {
     "name": "stderr",
     "output_type": "stream",
     "text": [
      "/var/folders/nw/443sknns78l256x46fjj6r0c0000gn/T/ipykernel_20782/3146203604.py:37: UserWarning: Using default sampling frequency set in configuration file.\n",
      "  stat_features = tsfel.time_series_features_extractor(cfg_file, test_events)\n"
     ]
    },
    {
     "data": {
      "text/html": [
       "\n",
       "              <p>\n",
       "                  Progress: 100% Complete\n",
       "              <p/>\n",
       "              <progress\n",
       "                  value='20'\n",
       "                  max='20',\n",
       "                  style='width: 25%',\n",
       "              >\n",
       "                  20\n",
       "              </progress>\n",
       "\n",
       "    "
      ],
      "text/plain": [
       "<IPython.core.display.HTML object>"
      ]
     },
     "metadata": {},
     "output_type": "display_data"
    },
    {
     "name": "stdout",
     "output_type": "stream",
     "text": [
      "test_data: ../../trace_data/theft_protection/single_thread/version_3/faulty_data/diag_subseq/trace_trial2_625-716.json\n",
      "test_data_len: 91\n"
     ]
    },
    {
     "name": "stderr",
     "output_type": "stream",
     "text": [
      "/var/folders/nw/443sknns78l256x46fjj6r0c0000gn/T/ipykernel_20782/3146203604.py:34: UserWarning: Using default sampling frequency set in configuration file.\n",
      "  tmp_features = tsfel.time_series_features_extractor(cfg_file, test_events)\n"
     ]
    },
    {
     "data": {
      "text/html": [
       "\n",
       "              <p>\n",
       "                  Progress: 100% Complete\n",
       "              <p/>\n",
       "              <progress\n",
       "                  value='15'\n",
       "                  max='15',\n",
       "                  style='width: 25%',\n",
       "              >\n",
       "                  15\n",
       "              </progress>\n",
       "\n",
       "    "
      ],
      "text/plain": [
       "<IPython.core.display.HTML object>"
      ]
     },
     "metadata": {},
     "output_type": "display_data"
    },
    {
     "name": "stderr",
     "output_type": "stream",
     "text": [
      "/var/folders/nw/443sknns78l256x46fjj6r0c0000gn/T/ipykernel_20782/3146203604.py:37: UserWarning: Using default sampling frequency set in configuration file.\n",
      "  stat_features = tsfel.time_series_features_extractor(cfg_file, test_events)\n"
     ]
    },
    {
     "data": {
      "text/html": [
       "\n",
       "              <p>\n",
       "                  Progress: 100% Complete\n",
       "              <p/>\n",
       "              <progress\n",
       "                  value='20'\n",
       "                  max='20',\n",
       "                  style='width: 25%',\n",
       "              >\n",
       "                  20\n",
       "              </progress>\n",
       "\n",
       "    "
      ],
      "text/plain": [
       "<IPython.core.display.HTML object>"
      ]
     },
     "metadata": {},
     "output_type": "display_data"
    },
    {
     "name": "stdout",
     "output_type": "stream",
     "text": [
      "test_data: ../../trace_data/theft_protection/single_thread/version_3/faulty_data/diag_subseq/trace_trial1_952-991.json\n",
      "test_data_len: 39\n"
     ]
    },
    {
     "name": "stderr",
     "output_type": "stream",
     "text": [
      "/var/folders/nw/443sknns78l256x46fjj6r0c0000gn/T/ipykernel_20782/3146203604.py:34: UserWarning: Using default sampling frequency set in configuration file.\n",
      "  tmp_features = tsfel.time_series_features_extractor(cfg_file, test_events)\n"
     ]
    },
    {
     "data": {
      "text/html": [
       "\n",
       "              <p>\n",
       "                  Progress: 100% Complete\n",
       "              <p/>\n",
       "              <progress\n",
       "                  value='15'\n",
       "                  max='15',\n",
       "                  style='width: 25%',\n",
       "              >\n",
       "                  15\n",
       "              </progress>\n",
       "\n",
       "    "
      ],
      "text/plain": [
       "<IPython.core.display.HTML object>"
      ]
     },
     "metadata": {},
     "output_type": "display_data"
    },
    {
     "name": "stderr",
     "output_type": "stream",
     "text": [
      "/var/folders/nw/443sknns78l256x46fjj6r0c0000gn/T/ipykernel_20782/3146203604.py:37: UserWarning: Using default sampling frequency set in configuration file.\n",
      "  stat_features = tsfel.time_series_features_extractor(cfg_file, test_events)\n"
     ]
    },
    {
     "data": {
      "text/html": [
       "\n",
       "              <p>\n",
       "                  Progress: 100% Complete\n",
       "              <p/>\n",
       "              <progress\n",
       "                  value='20'\n",
       "                  max='20',\n",
       "                  style='width: 25%',\n",
       "              >\n",
       "                  20\n",
       "              </progress>\n",
       "\n",
       "    "
      ],
      "text/plain": [
       "<IPython.core.display.HTML object>"
      ]
     },
     "metadata": {},
     "output_type": "display_data"
    },
    {
     "name": "stdout",
     "output_type": "stream",
     "text": [
      "test_data: ../../trace_data/theft_protection/single_thread/version_3/faulty_data/diag_subseq/trace_trial1_190-229.json\n",
      "test_data_len: 39\n"
     ]
    },
    {
     "name": "stderr",
     "output_type": "stream",
     "text": [
      "/var/folders/nw/443sknns78l256x46fjj6r0c0000gn/T/ipykernel_20782/3146203604.py:34: UserWarning: Using default sampling frequency set in configuration file.\n",
      "  tmp_features = tsfel.time_series_features_extractor(cfg_file, test_events)\n"
     ]
    },
    {
     "data": {
      "text/html": [
       "\n",
       "              <p>\n",
       "                  Progress: 100% Complete\n",
       "              <p/>\n",
       "              <progress\n",
       "                  value='15'\n",
       "                  max='15',\n",
       "                  style='width: 25%',\n",
       "              >\n",
       "                  15\n",
       "              </progress>\n",
       "\n",
       "    "
      ],
      "text/plain": [
       "<IPython.core.display.HTML object>"
      ]
     },
     "metadata": {},
     "output_type": "display_data"
    },
    {
     "name": "stderr",
     "output_type": "stream",
     "text": [
      "/var/folders/nw/443sknns78l256x46fjj6r0c0000gn/T/ipykernel_20782/3146203604.py:37: UserWarning: Using default sampling frequency set in configuration file.\n",
      "  stat_features = tsfel.time_series_features_extractor(cfg_file, test_events)\n"
     ]
    },
    {
     "data": {
      "text/html": [
       "\n",
       "              <p>\n",
       "                  Progress: 100% Complete\n",
       "              <p/>\n",
       "              <progress\n",
       "                  value='20'\n",
       "                  max='20',\n",
       "                  style='width: 25%',\n",
       "              >\n",
       "                  20\n",
       "              </progress>\n",
       "\n",
       "    "
      ],
      "text/plain": [
       "<IPython.core.display.HTML object>"
      ]
     },
     "metadata": {},
     "output_type": "display_data"
    }
   ],
   "source": [
    "test_feature_vectors = []\n",
    "test_files = []\n",
    "feature_list = []\n",
    "for test_data in test_data_path[0:]:\n",
    "    print('test_data:', test_data)\n",
    "    ### read the subseq\n",
    "    test_trace = read_traces(test_data)\n",
    "    # print('test_trace:', test_trace)\n",
    "    test_data_len = len(test_trace)\n",
    "    print('test_data_len:', test_data_len)\n",
    "\n",
    "    if test_data_len > 500:\n",
    "        # print('test data length is more than 500, skipping...')\n",
    "        # missing_features.append((test_data, 'test data length is more than 500'))\n",
    "        # continue\n",
    "\n",
    "        print('test data length is more than 500, truncating...')\n",
    "        test_trace = test_trace[:500]\n",
    "        test_data_len = 500\n",
    "    \n",
    "    df = pd.DataFrame(test_trace, columns=['event', 'ts'],)\n",
    "    ### seperate event and ts\n",
    "    test_events = df['event']\n",
    "    test_ts = df['ts']\n",
    "\n",
    "    # print(df)\n",
    "    # print(test_events)\n",
    "\n",
    "\n",
    "    ### extract features\n",
    "    feat_all = []\n",
    "    ### select only the sequence of events without timestamps\n",
    "    cfg_file = tsfel.get_features_by_domain('temporal')               # All features will be extracted.\n",
    "    tmp_features = tsfel.time_series_features_extractor(cfg_file, test_events)\n",
    "\n",
    "    cfg_file = tsfel.get_features_by_domain('statistical')               # All features will be extracted.\n",
    "    stat_features = tsfel.time_series_features_extractor(cfg_file, test_events)   \n",
    "\n",
    "    # cfg_file = tsfel.get_features_by_domain('fractal')               # All features will be extracted. \n",
    "    # frac_features = tsfel.time_series_features_extractor(cfg_file, test_events)\n",
    "\n",
    "    feat_all.extend(tmp_features.values[0])\n",
    "    feat_all.extend(stat_features.values[0])\n",
    "    # feat_all.extend(frac_features.values[0])\n",
    "\n",
    "    test_files.append(test_data)\n",
    "    test_feature_vectors.append( feat_all )\n",
    "    # print(feat_all.columns)\n",
    "    # print(feat_all.values[0])\n",
    "    # print(feat_all.values[0].shape)\n",
    "    # break\n",
    "\n",
    "feature_list.extend(tmp_features.columns)\n",
    "feature_list.extend(stat_features.columns)\n",
    "# feature_list.extend(frac_features.columns)\n",
    "\n",
    "test_feature_vectors= pd.DataFrame(test_feature_vectors, columns=feature_list)\n"
   ]
  },
  {
   "cell_type": "code",
   "execution_count": null,
   "metadata": {},
   "outputs": [
    {
     "data": {
      "text/plain": [
       "array([[-0.03565052,  0.36514837,  0.58815489,  0.27683665,  0.        ,\n",
       "         0.        ,  0.02747211,  0.22383852,  0.        ,  1.02333886,\n",
       "        -0.2151274 ,  0.00616152, -0.48007936,  0.99366079, -0.29830502,\n",
       "        -0.28741942, -0.26092079,  0.04438817],\n",
       "       [-1.5614928 , -2.73861279, -2.06197904, -1.88497068,  0.        ,\n",
       "         0.        , -0.90657972, -3.29121428,  0.        , -2.8703066 ,\n",
       "        -0.2151274 , -1.40790774,  2.48768395, -1.70909656,  3.52101584,\n",
       "         2.58586636,  3.99020389,  0.05155828],\n",
       "       [-0.39928583,  0.36514837,  0.8427756 , -0.55700332,  0.        ,\n",
       "         0.        ,  0.02747211, -0.46425977,  0.        ,  0.18383967,\n",
       "        -0.45107358, -0.36044903, -0.48007936, -0.35771789, -0.10969659,\n",
       "         0.01583977, -0.23311931,  1.61000207],\n",
       "       [-0.29946437,  0.36514837, -0.68016256,  0.96899426,  0.        ,\n",
       "         0.        ,  0.02747211,  0.91267033,  0.        , -0.36121199,\n",
       "        -0.45107358, -0.20333022, -0.48007936, -0.35771789, -0.18949246,\n",
       "        -0.11246219, -0.24488148, -0.23483017],\n",
       "       [-0.03565052,  0.36514837,  0.95189876,  0.27683665,  0.        ,\n",
       "         0.        ,  0.02747211,  0.18091438,  0.        ,  1.02333886,\n",
       "        -0.2151274 ,  0.00616152, -0.48007936,  0.99366079, -0.29830502,\n",
       "        -0.28741942, -0.26092079,  0.04438817],\n",
       "       [-0.29946437,  0.36514837, -0.68016256,  0.96899426,  0.        ,\n",
       "         0.        , -0.90657972,  0.69689832,  0.        , -0.36121199,\n",
       "        -0.45107358, -0.20333022, -0.48007936, -0.35771789, -0.18949246,\n",
       "        -0.11246219, -0.24488148, -0.23483017],\n",
       "       [-0.55614812, -2.73861279, -1.6218647 , -0.47652045,  0.        ,\n",
       "         0.        ,  0.02747211, -0.22306251,  0.        , -1.86712597,\n",
       "        -0.68701976, -0.41282196, -0.48007936, -0.35771789, -0.04867621,\n",
       "         0.11395304, -0.22412471, -3.0685398 ],\n",
       "       [-0.29946437,  0.36514837, -0.68016256,  0.96899426,  0.        ,\n",
       "         0.        , -0.90657972,  0.69689832,  0.        , -0.36121199,\n",
       "        -0.45107358, -0.20333022, -0.48007936, -0.35771789, -0.18949246,\n",
       "        -0.11246219, -0.24488148, -0.23483017],\n",
       "       [-1.5614928 , -2.73861279, -2.06197904, -1.88497068,  0.        ,\n",
       "         0.        , -0.90657972, -3.29121428,  0.        , -2.8703066 ,\n",
       "        -0.2151274 , -1.40790774,  2.48768395, -1.70909656,  3.52101584,\n",
       "         2.58586636,  3.99020389,  0.05155828],\n",
       "       [ 1.09090593,  0.36514837,  1.5131036 , -1.88497068,  0.        ,\n",
       "         0.        ,  0.96152395, -0.68183459,  0.        ,  0.97494073,\n",
       "        -0.2151274 , -1.40790774,  2.48768395, -1.70909656, -0.62106453,\n",
       "        -0.80637705, -0.30849657,  0.62860375],\n",
       "       [-0.29946437,  0.36514837, -0.68016256,  0.96899426,  0.        ,\n",
       "         0.        , -0.90657972,  0.69689832,  0.        , -0.36121199,\n",
       "        -0.45107358, -0.20333022, -0.48007936, -0.35771789, -0.18949246,\n",
       "        -0.11246219, -0.24488148, -0.23483017],\n",
       "       [-0.29946437,  0.36514837, -0.68016256,  0.96899426,  0.        ,\n",
       "         0.        , -0.90657972,  0.69689832,  0.        , -0.36121199,\n",
       "        -0.45107358, -0.20333022, -0.48007936, -0.35771789, -0.18949246,\n",
       "        -0.11246219, -0.24488148, -0.23483017],\n",
       "       [ 1.29054885,  0.36514837,  1.77278021, -0.62878534,  0.        ,\n",
       "         0.        ,  0.96152395, -0.65146847,  0.        ,  1.481159  ,\n",
       "         1.43649586,  1.31548491,  1.0038023 ,  2.34503947, -0.64911672,\n",
       "        -0.85148152, -0.31263155, -0.14212805],\n",
       "       [-1.40463051, -2.73861279,  0.8427756 , -1.88497068,  0.        ,\n",
       "         0.        , -0.90657972,  0.58153969,  0.        ,  0.50910073,\n",
       "        -0.2151274 , -1.40790774,  2.48768395, -1.70909656,  2.24790889,\n",
       "         3.8065797 ,  0.11439922, -3.42063003],\n",
       "       [-0.29946437,  0.36514837, -0.68016256,  0.96899426,  0.        ,\n",
       "         0.        ,  0.02747211,  0.91267033,  0.        , -0.36121199,\n",
       "        -0.45107358, -0.20333022, -0.48007936, -0.35771789, -0.18949246,\n",
       "        -0.11246219, -0.24488148, -0.23483017],\n",
       "       [-0.35650521,  0.36514837,  0.45175094, -0.5938913 ,  0.        ,\n",
       "         0.        ,  0.02747211, -0.45171043,  0.        ,  0.19394665,\n",
       "        -0.45107358, -0.30807609, -0.48007936, -0.35771789, -0.13773298,\n",
       "        -0.0292393 , -0.23725196,  1.56951981],\n",
       "       [ 1.01247479,  0.36514837,  1.37180897, -1.20145807,  0.        ,\n",
       "         0.        ,  0.96152395, -0.90863922,  0.        ,  1.07547008,\n",
       "         0.9646035 ,  1.05362024, -0.48007936,  0.99366079, -0.60581878,\n",
       "        -0.78186376, -0.3062493 ,  0.71133227],\n",
       "       [-0.03565052,  0.36514837,  0.95189876,  0.27683665,  0.        ,\n",
       "         0.        ,  0.02747211,  0.18091438,  0.        ,  1.02333886,\n",
       "        -0.2151274 ,  0.00616152, -0.48007936,  0.99366079, -0.29830502,\n",
       "        -0.28741942, -0.26092079,  0.04438817],\n",
       "       [-0.35650521,  0.36514837,  0.45175094, -0.5938913 ,  0.        ,\n",
       "         0.        ,  0.02747211, -0.45171043,  0.        ,  0.19394665,\n",
       "        -0.45107358, -0.30807609, -0.48007936, -0.35771789, -0.13773298,\n",
       "        -0.0292393 , -0.23725196,  1.56951981],\n",
       "       [-0.03565052,  0.36514837,  0.95189876,  0.27683665,  0.        ,\n",
       "         0.        ,  0.02747211,  0.18091438,  0.        ,  1.02333886,\n",
       "        -0.2151274 ,  0.00616152, -0.48007936,  0.99366079, -0.29830502,\n",
       "        -0.28741942, -0.26092079,  0.04438817],\n",
       "       [-0.35650521,  0.36514837,  0.45175094, -0.5938913 ,  0.        ,\n",
       "         0.        ,  0.02747211, -0.45171043,  0.        ,  0.19394665,\n",
       "        -0.45107358, -0.30807609, -0.48007936, -0.35771789, -0.13773298,\n",
       "        -0.0292393 , -0.23725196,  1.56951981],\n",
       "       [-0.29946437,  0.36514837, -0.68016256,  0.96899426,  0.        ,\n",
       "         0.        , -0.90657972,  0.69689832,  0.        , -0.36121199,\n",
       "        -0.45107358, -0.20333022, -0.48007936, -0.35771789, -0.18949246,\n",
       "        -0.11246219, -0.24488148, -0.23483017],\n",
       "       [ 3.82886591,  0.36514837,  1.37180897, -1.20145807,  0.        ,\n",
       "         0.        ,  3.76367945, -0.51057382,  0.        ,  0.95913168,\n",
       "         4.26785001,  3.88175876,  1.0038023 ,  2.34503947, -0.87445562,\n",
       "        -1.21379878, -0.34584722,  0.25927962],\n",
       "       [-0.29946437,  0.36514837, -0.68016256,  0.96899426,  0.        ,\n",
       "         0.        ,  0.02747211,  0.91267033,  0.        , -0.36121199,\n",
       "        -0.45107358, -0.20333022, -0.48007936, -0.35771789, -0.18949246,\n",
       "        -0.11246219, -0.24488148, -0.23483017],\n",
       "       [-0.29946437,  0.36514837, -0.68016256,  0.96899426,  0.        ,\n",
       "         0.        , -0.90657972,  0.69689832,  0.        , -0.36121199,\n",
       "        -0.45107358, -0.20333022, -0.48007936, -0.35771789, -0.18949246,\n",
       "        -0.11246219, -0.24488148, -0.23483017],\n",
       "       [-0.29946437,  0.36514837, -0.68016256,  0.96899426,  0.        ,\n",
       "         0.        ,  0.02747211,  0.91267033,  0.        , -0.36121199,\n",
       "        -0.45107358, -0.20333022, -0.48007936, -0.35771789, -0.18949246,\n",
       "        -0.11246219, -0.24488148, -0.23483017],\n",
       "       [-0.03565052,  0.36514837,  0.58815489,  0.27683665,  0.        ,\n",
       "         0.        ,  0.02747211,  0.20237645,  0.        ,  1.02333886,\n",
       "        -0.2151274 ,  0.00616152, -0.48007936,  0.99366079, -0.29830502,\n",
       "        -0.28741942, -0.26092079,  0.04438817],\n",
       "       [-0.29946437,  0.36514837, -0.68016256,  0.96899426,  0.        ,\n",
       "         0.        , -0.90657972,  0.69689832,  0.        , -0.36121199,\n",
       "        -0.45107358, -0.20333022, -0.48007936, -0.35771789, -0.18949246,\n",
       "        -0.11246219, -0.24488148, -0.23483017],\n",
       "       [-0.29946437,  0.36514837, -0.68016256,  0.96899426,  0.        ,\n",
       "         0.        , -0.90657972,  0.69689832,  0.        , -0.36121199,\n",
       "        -0.45107358, -0.20333022, -0.48007936, -0.35771789, -0.18949246,\n",
       "        -0.11246219, -0.24488148, -0.23483017],\n",
       "       [ 0.10695156,  0.36514837,  0.74293952,  0.09285305,  0.        ,\n",
       "         0.        ,  0.02747211, -0.11334202,  0.        ,  0.59695524,\n",
       "         0.02081878,  0.16328033, -0.48007936,  0.99366079, -0.36903319,\n",
       "        -0.40114162, -0.27134635,  0.6183638 ],\n",
       "       [ 1.67557447,  0.36514837,  0.40628295, -0.80406701,  0.        ,\n",
       "         0.        ,  1.89557578, -0.50220236,  0.        ,  0.21339137,\n",
       "         1.90838822,  1.78684134, -0.48007936,  0.99366079, -0.7177962 ,\n",
       "        -0.9619097 , -0.32275513,  0.83180038],\n",
       "       [ 1.91799801,  0.36514837,  1.01656434, -0.85210718,  0.        ,\n",
       "         0.        ,  1.89557578, -0.39299178,  0.        ,  0.97218428,\n",
       "         2.1443344 ,  1.94396014,  1.0038023 ,  0.99366079, -0.7366642 ,\n",
       "        -0.99224711, -0.32553633,  0.22592152],\n",
       "       [-0.29946437,  0.36514837, -0.68016256,  0.96899426,  0.        ,\n",
       "         0.        ,  0.02747211,  0.91267033,  0.        , -0.36121199,\n",
       "        -0.45107358, -0.20333022, -0.48007936, -0.35771789, -0.18949246,\n",
       "        -0.11246219, -0.24488148, -0.23483017],\n",
       "       [-0.29946437,  0.36514837, -0.68016256,  0.96899426,  0.        ,\n",
       "         0.        , -0.90657972,  0.69689832,  0.        , -0.36121199,\n",
       "        -0.45107358, -0.20333022, -0.48007936, -0.35771789, -0.18949246,\n",
       "        -0.11246219, -0.24488148, -0.23483017]])"
      ]
     },
     "execution_count": 8,
     "metadata": {},
     "output_type": "execute_result"
    }
   ],
   "source": []
  },
  {
   "cell_type": "code",
   "execution_count": 7,
   "metadata": {},
   "outputs": [
    {
     "name": "stdout",
     "output_type": "stream",
     "text": [
      "test_feature_vectors: (34, 45)\n",
      "test_feature_vectors: (34, 18)\n"
     ]
    }
   ],
   "source": [
    "### filter features\n",
    "print('test_feature_vectors:', test_feature_vectors.shape)\n",
    "corr_features, test_feature_vectors = tsfel.correlated_features(test_feature_vectors, drop_correlated=True)\n",
    "print('test_feature_vectors:', test_feature_vectors.shape)\n",
    "# print('corr_features:', corr_features)\n",
    "\n",
    "### Normalising Features\n",
    "scaler = preprocessing.StandardScaler()\n",
    "test_feature_vectors = scaler.fit_transform(test_feature_vectors)\n"
   ]
  },
  {
   "cell_type": "code",
   "execution_count": 9,
   "metadata": {},
   "outputs": [
    {
     "data": {
      "text/plain": [
       "(34, 18)"
      ]
     },
     "execution_count": 9,
     "metadata": {},
     "output_type": "execute_result"
    }
   ],
   "source": [
    "test_feature_vectors.shape"
   ]
  },
  {
   "cell_type": "markdown",
   "metadata": {},
   "source": [
    "## Prepare Data"
   ]
  },
  {
   "cell_type": "code",
   "execution_count": 10,
   "metadata": {},
   "outputs": [],
   "source": [
    "padded_features = []\n",
    "test_class = []\n",
    "\n",
    "    \n",
    "### load the labels\n",
    "test_class_labels = read_json(test_labels_path[0])\n",
    "# print('test_class_labels:', len(test_class_labels))\n",
    "# print('test_class_labels:', test_class_labels)\n",
    "\n",
    "### prepare the feature vectors for classification\n",
    "for (test_data, feature_vector) in zip(test_files, test_feature_vectors):\n",
    "    file_name = test_data.split('/')[-1].split('.')[0]\n",
    "    # print('file_name:', file_name)\n",
    "    class_list = test_class_labels[file_name]\n",
    "    # print('class_list:', class_list)\n",
    "    class_label = None\n",
    "    # break\n",
    "\n",
    "    # print('test_data:', test_data)\n",
    "    # print('feature_vector:', np.array(feature_vector).shape)\n",
    "    # print('test_class_label:', test_class_labels[file_name])\n",
    "\n",
    "    if len(class_list) == 1:\n",
    "        ### Hardcode the class label for all applications\n",
    "        class_label = class_list\n",
    "\n",
    "    else:\n",
    "        # print('multiple class labels found for the test data:', test_data)\n",
    "        class_label = class_list\n",
    "\n",
    "\n",
    "        \n",
    "    if class_label != None:\n",
    "        feature_vector = np.array(feature_vector)\n",
    "\n",
    "        padded_features.append(feature_vector)\n",
    "        # test_files.append(test_data)\n",
    "        test_class.append(class_label)\n",
    "        # print('feature_vector:', feature_vector.shape[0])\n",
    "\n",
    "        # pad_num = 500 - feature_vector.shape[0]\n",
    "        # print('pad_num:', pad_num)\n",
    "        # padded_features = np.pad(feature_vector, (0,pad_num), 'constant', constant_values=(0))\n",
    "        # print('padded_features:', padded_features.shape)\n",
    "\n",
    "    # break"
   ]
  },
  {
   "cell_type": "code",
   "execution_count": 11,
   "metadata": {},
   "outputs": [
    {
     "data": {
      "text/plain": [
       "(34, 18)"
      ]
     },
     "execution_count": 11,
     "metadata": {},
     "output_type": "execute_result"
    }
   ],
   "source": [
    "np.array(padded_features).shape"
   ]
  },
  {
   "cell_type": "markdown",
   "metadata": {},
   "source": [
    "## Clustering\n"
   ]
  },
  {
   "cell_type": "code",
   "execution_count": 14,
   "metadata": {},
   "outputs": [
    {
     "name": "stdout",
     "output_type": "stream",
     "text": [
      "tc: [2]\n",
      "tc: [1]\n",
      "tc: [2, 2, 2]\n",
      "tc: [2, 2]\n",
      "tc: [2, 2, 2, 2]\n",
      "tc: [2, 2, 1]\n",
      "N_CLUSTER: 6\n",
      "kmeans: [4 1 4 0 4 0 5 0 1 4 0 0 2 3 0 4 2 4 4 4 4 0 2 0 0 0 4 0 0 4 2 2 0 0]\n"
     ]
    }
   ],
   "source": [
    "import numpy as np\n",
    "import matplotlib.pyplot as plt\n",
    "from sklearn.cluster import KMeans, DBSCAN\n",
    "from sklearn.preprocessing import StandardScaler\n",
    "\n",
    "unique_classes = []\n",
    "map_labels = dict()\n",
    "ground_truth = []\n",
    "label_key = 0\n",
    "for tc in test_class:\n",
    "    # print(tc)\n",
    "    if tc in unique_classes:\n",
    "        ground_truth.append(map_labels[(str(tc))])\n",
    "        continue\n",
    "    else:\n",
    "        print('tc:', tc)\n",
    "        unique_classes.append(tc)\n",
    "        map_labels[str(tc)] = label_key\n",
    "        ground_truth.append(map_labels[(str(tc))])\n",
    "        label_key += 1\n",
    "\n",
    "    \n",
    "N_CLUSTER = len(unique_classes)\n",
    "print('N_CLUSTER:', N_CLUSTER)\n",
    "\n",
    "data = np.array(padded_features)\n",
    "\n",
    "# Flatten the feature vectors (reshape to (48, 1000))\n",
    "if len(np.array(padded_features).shape) == 3:\n",
    "    # Reshape the data for clustering\n",
    "    num_samples, num_features, num_points = data.shape\n",
    "    data_reshaped = data.reshape(num_samples, num_features * num_points)\n",
    "else:\n",
    "    data_reshaped = data\n",
    "\n",
    "\n",
    "#############################################################################################\n",
    "\n",
    "# Apply K-Means clustering\n",
    "kmeans = KMeans(init=\"k-means++\", max_iter=300, n_clusters=N_CLUSTER, n_init=30 )   # n_clusters=N_CLUSTER, random_state=0, n_init=4 \n",
    "kmeans.fit(data_reshaped)\n",
    "# Get cluster labels\n",
    "labels = kmeans.labels_\n",
    "print('kmeans:', labels)"
   ]
  },
  {
   "cell_type": "code",
   "execution_count": 15,
   "metadata": {},
   "outputs": [
    {
     "name": "stdout",
     "output_type": "stream",
     "text": [
      "ground_truth: [0 0 0 1 0 1 0 1 0 2 1 1 2 0 1 0 3 0 0 0 0 1 4 1 1 1 0 1 1 0 5 3 1 1]\n",
      "labels: [4 1 4 0 4 0 5 0 1 4 0 0 2 3 0 4 2 4 4 4 4 0 2 0 0 0 4 0 0 4 2 2 0 0]\n",
      "F1 Score: 0.7748\n",
      "Accuracy: 0.7647\n",
      "Adjusted Rand Index (ARI): 0.7269\n",
      "Normalized Mutual Information (NMI): 0.7352\n",
      "Confusion Matrix:\n",
      " [[10  0  1  0  2  1]\n",
      " [ 0 14  0  0  0  0]\n",
      " [ 1  0  0  1  0  0]\n",
      " [ 0  0  0  2  0  0]\n",
      " [ 0  0  0  1  0  0]\n",
      " [ 0  0  0  1  0  0]]\n"
     ]
    }
   ],
   "source": [
    "import numpy as np\n",
    "from sklearn.metrics import accuracy_score, adjusted_rand_score, normalized_mutual_info_score, f1_score, confusion_matrix\n",
    "from scipy.optimize import linear_sum_assignment\n",
    "\n",
    "# # Sample data: Replace with your actual predictions\n",
    "# kmeans_labels = np.array([0, 0, 0, 0, 0, 0, 0, 1, 0, 1, 1, 0, 1, 1, 0, 0, 1, 1, 1, 1, 0, 0, 0, 1, 0, 0, 0, 0, 0, 0, 0, 0, 1, 1, 1, 1, 1, 1, 0, 0, 1, 1, 1, 1, 0, 1, 1, 1])  # Replace with K-Means predictions\n",
    "# ground_truth = np.array([2, 2, 2, 2, 2, 2, 2, 1, 2, 1, 1, 2, 1, 1, 2, 2, 1, 1, 1, 1, 2, 2, 2, 1, 2, 2, 2, 2, 2, 2, 2, 2, 1, 1, 1, 1, 1, 1, 2, 2, 1, 1, 1, 1, 2, 1, 1, 1])  # Given ground truth\n",
    "\n",
    "ground_truth = np.array(ground_truth)\n",
    "labels = np.array(labels)\n",
    "\n",
    "# Map cluster labels to ground truth labels using the Hungarian algorithm\n",
    "def best_cluster_mapping(y_true, y_pred):\n",
    "    \"\"\"Finds the best mapping between predicted and true labels using the Hungarian algorithm.\"\"\"\n",
    "    unique_classes = np.unique(y_true)\n",
    "    unique_clusters = np.unique(y_pred)\n",
    "    cost_matrix = np.zeros((len(unique_classes), len(unique_clusters)))\n",
    "\n",
    "    for i, cls in enumerate(unique_classes):\n",
    "        for j, cluster in enumerate(unique_clusters):\n",
    "            cost_matrix[i, j] = -np.sum((y_true == cls) & (y_pred == cluster))  # Negative for maximization\n",
    "\n",
    "    row_ind, col_ind = linear_sum_assignment(cost_matrix)\n",
    "    mapping = {unique_clusters[col]: unique_classes[row] for row, col in zip(row_ind, col_ind)}\n",
    "\n",
    "    return np.vectorize(mapping.get)(y_pred)  # Map predictions\n",
    "\n",
    "print('ground_truth:', ground_truth)\n",
    "print('labels:', labels)\n",
    "# Remap cluster labels to best-matching class labels\n",
    "remapped_labels = best_cluster_mapping(ground_truth, labels)\n",
    "\n",
    "# Evaluation Metrics\n",
    "accuracy = accuracy_score(ground_truth, remapped_labels)\n",
    "f1 = f1_score(ground_truth, remapped_labels, average='weighted')\n",
    "conf_matrix = confusion_matrix(ground_truth, remapped_labels)\n",
    "\n",
    "ari = adjusted_rand_score(ground_truth, labels)\n",
    "nmi = normalized_mutual_info_score(ground_truth, labels)\n",
    "\n",
    "# Print results\n",
    "print(f\"F1 Score: {f1:.4f}\")\n",
    "print(f\"Accuracy: {accuracy:.4f}\")\n",
    "print(f\"Adjusted Rand Index (ARI): {ari:.4f}\")\n",
    "print(f\"Normalized Mutual Information (NMI): {nmi:.4f}\")\n",
    "print(\"Confusion Matrix:\\n\", conf_matrix)"
   ]
  },
  {
   "cell_type": "code",
   "execution_count": null,
   "metadata": {},
   "outputs": [],
   "source": []
  },
  {
   "cell_type": "code",
   "execution_count": null,
   "metadata": {},
   "outputs": [],
   "source": []
  }
 ],
 "metadata": {
  "kernelspec": {
   "display_name": "dlenv",
   "language": "python",
   "name": "python3"
  },
  "language_info": {
   "codemirror_mode": {
    "name": "ipython",
    "version": 3
   },
   "file_extension": ".py",
   "mimetype": "text/x-python",
   "name": "python",
   "nbconvert_exporter": "python",
   "pygments_lexer": "ipython3",
   "version": "3.10.14"
  }
 },
 "nbformat": 4,
 "nbformat_minor": 2
}
