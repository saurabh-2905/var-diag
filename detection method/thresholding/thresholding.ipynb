{
 "cells": [
  {
   "cell_type": "code",
   "execution_count": 74,
   "metadata": {},
   "outputs": [],
   "source": [
    "import json\n",
    "import os\n",
    "import numpy as np\n",
    "import pandas as pd\n",
    "from scipy.stats import t\n",
    "from sklearn.model_selection import train_test_split\n",
    "from sklearn.utils import shuffle\n",
    "from collections import defaultdict\n",
    "\n",
    "\n",
    "def load_sample(file_path):\n",
    "        data = np.load(file_path, allow_pickle=False)\n",
    "        return data\n",
    "\n",
    "\n",
    "def read_traces(log_path):\n",
    "    '''\n",
    "    read the trace files and extract variable names\n",
    "    data = [ [event, timestamp], [], [],......,[] ]\n",
    "    '''\n",
    "    with open(log_path, 'r') as f:\n",
    "        data = json.load(f)\n",
    "    return data\n",
    "\n",
    "def calculate_confidence_interval(data, confidence=0.95):\n",
    "    '''\n",
    "    calculate the confidence interval of the data\n",
    "    data: a list of execution intervals -> [1,2,3,4,5,6,7,8,9,10]\n",
    "    '''\n",
    "    n = len(data)\n",
    "    m = np.mean(data)\n",
    "    std_err = np.std(data, ddof=1) / np.sqrt(n)\n",
    "    h = std_err * t.ppf((1 + confidence) / 2, n - 1)\n",
    "    start = m - h\n",
    "    end = m + h\n",
    "    return start, end\n",
    "\n",
    "def get_uniquevar(raw_trace):\n",
    "    ''' \n",
    "    convert the v2.2 trace into list of unique variables\n",
    "    raw_trace = data from read_traces, list( (var, ts),(var, ts),(var, ts),.... )\n",
    "    return:\n",
    "        unique_var = list(var1,var2,...) ## list of strings\n",
    "    '''\n",
    "    unique_var = []\n",
    "    for rt in raw_trace:\n",
    "        [var, timestamp] = rt\n",
    "        # print([var, timestamp])\n",
    "        if var not in unique_var:\n",
    "            unique_var += [var]\n",
    "            # print(rt)\n",
    "    return unique_var\n",
    "\n",
    "\n",
    "def generate_map(unique_events):\n",
    "    '''\n",
    "    unique_events -> list of all the variables in the code (unique, and in order of logging)\n",
    "    return:\n",
    "        event_map -> takes the variable name and gives corresponding event number\n",
    "        event_remap -> takes event number and gives associated variable name\n",
    "    '''\n",
    "    event_map = dict()\n",
    "    event_remap = dict()\n",
    "    for i in range(len(unique_events)):\n",
    "        event_remap[i+1] = unique_events[i]\n",
    "        event_map[unique_events[i]] = i+1\n",
    "\n",
    "    return(event_map, event_remap)\n",
    "\n",
    "\n",
    "    "
   ]
  },
  {
   "cell_type": "code",
   "execution_count": 4,
   "metadata": {},
   "outputs": [
    {
     "name": "stdout",
     "output_type": "stream",
     "text": [
      "../../trace_data/theft_protection/single_thread/version_2.2\n",
      "../../trace_data/theft_protection/single_thread/version_2.2/normal ../../trace_data/theft_protection/single_thread/version_2.2/faulty_data\n"
     ]
    }
   ],
   "source": [
    "############ configuration ################\n",
    "############################################\n",
    "\n",
    "code = 'theft_protection'       ### application (code)\n",
    "behaviour = 'faulty_data'            ### normal, faulty_data\n",
    "thread_typ = 'single'           ### single, multi\n",
    "version = 2.2                     ### format of data collection\n",
    "sub_len = 50\n",
    "\n",
    "# base_dir = '../data-subtraces' ### can be replaced with 'csv', 'exe_plot', 'histogram'\n",
    "base_dir = '../../trace_data' ### can be replaced with 'csv', 'exe_plot', 'histogram'\n",
    "log_path = base_dir+f'/{code}/{thread_typ}_thread/version_{version}'\n",
    "print(log_path)\n",
    "normal_path = log_path+f'/normal'\n",
    "anomalies_path = log_path+f'/faulty_data'\n",
    "print(normal_path, anomalies_path)"
   ]
  },
  {
   "cell_type": "markdown",
   "metadata": {},
   "source": [
    "## Confidence Interval"
   ]
  },
  {
   "cell_type": "markdown",
   "metadata": {},
   "source": [
    "__Confidence Interval:__\n",
    "\n",
    "A confidence interval is a range around the mean that is likely to contain the true population mean. The formula for a confidence interval is mean ± margin of error mean±margin of error, where the margin of error depends on the desired confidence level and the standard error.\n",
    "\n",
    "_Example:_\n",
    "\n",
    "1. Choose a confidence level (e.g., 95%).\n",
    "2. Calculate the standard error: standard deviation/ sqr_root(number of observations)\n",
    "3. Calculate the margin of error: critical value × standard error\n",
    "4. Determine the confidence interval: mean ± margin of error\n"
   ]
  },
  {
   "cell_type": "markdown",
   "metadata": {},
   "source": [
    "### Path to Traces"
   ]
  },
  {
   "cell_type": "code",
   "execution_count": 5,
   "metadata": {},
   "outputs": [
    {
     "name": "stdout",
     "output_type": "stream",
     "text": [
      "['../../trace_data/theft_protection/single_thread/version_2.2/normal/trace1', '../../trace_data/theft_protection/single_thread/version_2.2/normal/trace2', '../../trace_data/theft_protection/single_thread/version_2.2/normal/trace3']\n",
      "['../../trace_data/theft_protection/single_thread/version_2.2/faulty_data/trace1-comm', '../../trace_data/theft_protection/single_thread/version_2.2/faulty_data/trace2-bitflip', '../../trace_data/theft_protection/single_thread/version_2.2/faulty_data/trace3-sensor']\n"
     ]
    }
   ],
   "source": [
    "###### get file paths #######\n",
    "\n",
    "### normal files\n",
    "normal_files = os.listdir(normal_path)\n",
    "normal_files.sort()\n",
    "logs = []\n",
    "traces = []\n",
    "unknown = []\n",
    "for i in normal_files:\n",
    "    if i.find('log') == 0:\n",
    "        logs += [i]\n",
    "    elif i.find('trace') == 0 and i.find('.txt') == -1:\n",
    "        traces += [i]\n",
    "    else:\n",
    "        unknown += [i]\n",
    "\n",
    "######### path to files\n",
    "normal_logpaths = [os.path.join(normal_path, x) for x in logs]\n",
    "normal_tracespaths = [os.path.join(normal_path, x) for x in traces]\n",
    "normal_logpaths.sort()\n",
    "normal_tracespaths.sort()\n",
    "print(normal_tracespaths)\n",
    "\n",
    "### anomalies files\n",
    "anomalies_files = os.listdir(anomalies_path)\n",
    "anomalies_files.sort()\n",
    "logs = []\n",
    "traces = []\n",
    "unknown = []\n",
    "for i in anomalies_files:\n",
    "    if i.find('log') == 0:\n",
    "        logs += [i]\n",
    "    elif i.find('trace') == 0 and i.find('.txt') == -1:\n",
    "        traces += [i]\n",
    "    else:\n",
    "        unknown += [i]\n",
    "        \n",
    "######### path to files\n",
    "anomalies_logpaths = [os.path.join(anomalies_path, x) for x in logs]\n",
    "anomalies_tracespaths = [os.path.join(anomalies_path, x) for x in traces]\n",
    "anomalies_logpaths.sort()\n",
    "anomalies_tracespaths.sort()\n",
    "print(anomalies_tracespaths)\n"
   ]
  },
  {
   "cell_type": "markdown",
   "metadata": {},
   "source": [
    "### Data Processing"
   ]
  },
  {
   "cell_type": "code",
   "execution_count": 64,
   "metadata": {},
   "outputs": [],
   "source": [
    "### get execution intervals for all variables\n",
    "exe_list = {}   ### {var1: [1,2,3,4,5,6,7,8,9,10], var2: [1,2,3,4,5,6,7,8,9,10], ....}\n",
    "filewise_exe_list = {}   ### {file1: {var1: [1,2,3,4,5,6,7,8,9,10], var2: [1,2,3,4,5,6,7,8,9,10], ....}, file2: {var1: [1,2,3,4,5,6,7,8,9,10], var2: [1,2,3,4,5,6,7,8,9,10], ....}, ....}\n",
    "for sample_path in normal_tracespaths:\n",
    "    sample_data = read_traces(sample_path)\n",
    "    filename = sample_path.split('/')[-1]\n",
    "    # print(sample_data)\n",
    "    ### collect timestamps for all variables\n",
    "    timestamps = {}\n",
    "    for i, event in enumerate(sample_data):\n",
    "        var, ts = event\n",
    "        ts = int(ts)\n",
    "        # print(var, ts)\n",
    "        if var not in timestamps.keys():\n",
    "            timestamps[var] = [ts]\n",
    "        else:\n",
    "            timestamps[var].append(ts)\n",
    "\n",
    "    ### calculate execution intervals for all variables\n",
    "    intervals = {}\n",
    "    for key in timestamps.keys():\n",
    "        ts_list = timestamps[key]\n",
    "        for ts1, ts2 in zip(ts_list[:-1], ts_list[1:]):\n",
    "            exe_time = ts2 - ts1\n",
    "            ### convert timestampt from miliseconds to seconds, and only consdider 1 decimal point. \n",
    "            exe_time = round(exe_time/1000, 1)\n",
    "            if key not in exe_list.keys():\n",
    "                exe_list[key] = [exe_time]\n",
    "                intervals[key] = [exe_time]\n",
    "            else:\n",
    "                exe_list[key].append(exe_time)\n",
    "                intervals[key].append(exe_time)\n",
    "\n",
    "    filewise_exe_list[filename] = intervals\n",
    "\n",
    "    break"
   ]
  },
  {
   "cell_type": "code",
   "execution_count": 65,
   "metadata": {},
   "outputs": [],
   "source": [
    "### get the confidence intervals for all variables\n",
    "\n",
    "confidence_intervals = {}\n",
    "for key in exe_list.keys():\n",
    "    data = exe_list[key]\n",
    "    start, end = calculate_confidence_interval(data)\n",
    "    confidence_intervals[key] = [start, end]"
   ]
  },
  {
   "cell_type": "code",
   "execution_count": 66,
   "metadata": {},
   "outputs": [
    {
     "name": "stdout",
     "output_type": "stream",
     "text": [
      "1_0_main_i\n",
      "dict_keys([1.1, 1.0])\n",
      "0.9944862155388471\n",
      "0.005513784461152882\n",
      "1_0_sense_temperature\n",
      "dict_keys([1.1, 1.0])\n",
      "0.9969924812030075\n",
      "0.0030075187969924814\n",
      "1_0_main_temperature\n",
      "dict_keys([1.1, 1.0])\n",
      "0.9974937343358395\n",
      "0.002506265664160401\n",
      "1_control_updatedata_cls.sensor_data\n",
      "dict_keys([1.1, 2.1])\n",
      "0.9964788732394366\n",
      "0.0035211267605633804\n",
      "1_control_readdata_0\n",
      "dict_keys([4.3, 4.2, 5.3])\n",
      "0.12559241706161137\n",
      "0.15639810426540285\n",
      "0.7180094786729858\n",
      "1_0_loracom_data\n",
      "dict_keys([4.3, 4.2, 5.3])\n",
      "0.13033175355450238\n",
      "0.15165876777251186\n",
      "0.7180094786729858\n",
      "1_control_update_txmsg_0\n",
      "dict_keys([4.3, 4.2, 5.3])\n",
      "0.13064133016627077\n",
      "0.15201900237529692\n",
      "0.7173396674584323\n",
      "1_0_main_g_ack\n",
      "dict_keys([3.2, 4.2, 5.3, 6.3, 4.3, 6.4, 9.5, 9.6, 10.6, 14.8])\n",
      "0.004878048780487805\n",
      "0.13902439024390245\n",
      "0.6829268292682927\n",
      "0.007317073170731708\n",
      "0.13414634146341464\n",
      "0.007317073170731708\n",
      "0.014634146341463415\n",
      "0.004878048780487805\n",
      "0.0024390243902439024\n",
      "0.0024390243902439024\n",
      "1_0_main_events\n",
      "dict_keys([3.2, 4.2, 5.3, 6.3, 4.3, 6.4, 9.5, 10.6, 9.6, 14.8])\n",
      "0.004878048780487805\n",
      "0.13658536585365855\n",
      "0.6829268292682927\n",
      "0.007317073170731708\n",
      "0.13658536585365855\n",
      "0.007317073170731708\n",
      "0.01707317073170732\n",
      "0.0024390243902439024\n",
      "0.0024390243902439024\n",
      "0.0024390243902439024\n",
      "1_control_update_rxmsg_drop\n",
      "dict_keys([3.2, 4.2, 5.3, 6.3, 4.3, 6.4, 9.5, 9.6, 10.6, 14.8])\n",
      "0.004878048780487805\n",
      "0.13658536585365855\n",
      "0.6829268292682927\n",
      "0.007317073170731708\n",
      "0.13658536585365855\n",
      "0.007317073170731708\n",
      "0.014634146341463415\n",
      "0.004878048780487805\n",
      "0.0024390243902439024\n",
      "0.0024390243902439024\n"
     ]
    }
   ],
   "source": [
    "############ calculate upper and lower thrsholds for all variables ############\n",
    "\n",
    "### get uniques values from exe_list\n",
    "unique_values = {}\n",
    "outliers = {}\n",
    "for key in exe_list.keys():\n",
    "    data = exe_list[key]\n",
    "    unique_values[key] = list(set(data))\n",
    "    ### calculate probability for each unique value\n",
    "    prob = {}\n",
    "    for val in unique_values[key]:\n",
    "        prob[val] = data.count(val)/len(data)\n",
    "    unique_values[key] = prob\n",
    "\n",
    "### consider values with probability > 0.05\n",
    "outliers[key] = dict()\n",
    "for key in unique_values.keys():\n",
    "    print(key)\n",
    "    prob = unique_values[key]\n",
    "    print(prob.keys())\n",
    "    filtered_values = defaultdict(list)\n",
    "    out = dict()\n",
    "    for val in prob.keys():\n",
    "        print(prob[val])\n",
    "        if prob[val] > 0.05:    \n",
    "            filtered_values[val] = prob[val]\n",
    "        else:\n",
    "            out[val] = prob[val]\n",
    "\n",
    "\n",
    "    unique_values[key] = filtered_values\n",
    "    outliers[key] = out\n",
    "\n",
    "\n",
    "### get upper and lower bound by taking min and max from unique_values (can try some other approach)\n",
    "thresholds = {}\n",
    "for key in unique_values.keys():\n",
    "    values = list(unique_values[key].keys())\n",
    "    thresholds[key] = [round(min(values)-0.2, 1), round(max(values)+0.2, 1)]\n"
   ]
  },
  {
   "cell_type": "code",
   "execution_count": 67,
   "metadata": {},
   "outputs": [
    {
     "data": {
      "text/plain": [
       "[0.9, 1.3]"
      ]
     },
     "execution_count": 67,
     "metadata": {},
     "output_type": "execute_result"
    }
   ],
   "source": [
    "thresholds['1_0_main_i']"
   ]
  },
  {
   "cell_type": "code",
   "execution_count": null,
   "metadata": {},
   "outputs": [],
   "source": []
  },
  {
   "cell_type": "markdown",
   "metadata": {},
   "source": [
    "### Visualising Thresholds"
   ]
  },
  {
   "cell_type": "code",
   "execution_count": 60,
   "metadata": {},
   "outputs": [
    {
     "name": "stderr",
     "output_type": "stream",
     "text": [
      "/var/folders/nw/443sknns78l256x46fjj6r0c0000gn/T/ipykernel_94897/3658111960.py:10: UserWarning: \n",
      "\n",
      "`distplot` is a deprecated function and will be removed in seaborn v0.14.0.\n",
      "\n",
      "Please adapt your code to use either `displot` (a figure-level function with\n",
      "similar flexibility) or `histplot` (an axes-level function for histograms).\n",
      "\n",
      "For a guide to updating your code to use the new functions, please see\n",
      "https://gist.github.com/mwaskom/de44147ed2974457ad6372750bbe5751\n",
      "\n",
      "  sns.distplot(exe_list[key], bins=100, kde=False, rug=True)\n"
     ]
    },
    {
     "data": {
      "image/png": "[encoded data removed]",
      "text/plain": [
       "<Figure size 1000x500 with 1 Axes>"
      ]
     },
     "metadata": {},
     "output_type": "display_data"
    },
    {
     "name": "stderr",
     "output_type": "stream",
     "text": [
      "/var/folders/nw/443sknns78l256x46fjj6r0c0000gn/T/ipykernel_94897/3658111960.py:10: UserWarning: \n",
      "\n",
      "`distplot` is a deprecated function and will be removed in seaborn v0.14.0.\n",
      "\n",
      "Please adapt your code to use either `displot` (a figure-level function with\n",
      "similar flexibility) or `histplot` (an axes-level function for histograms).\n",
      "\n",
      "For a guide to updating your code to use the new functions, please see\n",
      "https://gist.github.com/mwaskom/de44147ed2974457ad6372750bbe5751\n",
      "\n",
      "  sns.distplot(exe_list[key], bins=100, kde=False, rug=True)\n"
     ]
    },
    {
     "data": {
      "image/png": "[encoded data removed]",
      "text/plain": [
       "<Figure size 1000x500 with 1 Axes>"
      ]
     },
     "metadata": {},
     "output_type": "display_data"
    },
    {
     "name": "stderr",
     "output_type": "stream",
     "text": [
      "/var/folders/nw/443sknns78l256x46fjj6r0c0000gn/T/ipykernel_94897/3658111960.py:10: UserWarning: \n",
      "\n",
      "`distplot` is a deprecated function and will be removed in seaborn v0.14.0.\n",
      "\n",
      "Please adapt your code to use either `displot` (a figure-level function with\n",
      "similar flexibility) or `histplot` (an axes-level function for histograms).\n",
      "\n",
      "For a guide to updating your code to use the new functions, please see\n",
      "https://gist.github.com/mwaskom/de44147ed2974457ad6372750bbe5751\n",
      "\n",
      "  sns.distplot(exe_list[key], bins=100, kde=False, rug=True)\n"
     ]
    },
    {
     "data": {
      "image/png": "[encoded data removed]",
      "text/plain": [
       "<Figure size 1000x500 with 1 Axes>"
      ]
     },
     "metadata": {},
     "output_type": "display_data"
    },
    {
     "name": "stderr",
     "output_type": "stream",
     "text": [
      "/var/folders/nw/443sknns78l256x46fjj6r0c0000gn/T/ipykernel_94897/3658111960.py:10: UserWarning: \n",
      "\n",
      "`distplot` is a deprecated function and will be removed in seaborn v0.14.0.\n",
      "\n",
      "Please adapt your code to use either `displot` (a figure-level function with\n",
      "similar flexibility) or `histplot` (an axes-level function for histograms).\n",
      "\n",
      "For a guide to updating your code to use the new functions, please see\n",
      "https://gist.github.com/mwaskom/de44147ed2974457ad6372750bbe5751\n",
      "\n",
      "  sns.distplot(exe_list[key], bins=100, kde=False, rug=True)\n"
     ]
    },
    {
     "data": {
      "image/png": "[encoded data removed]",
      "text/plain": [
       "<Figure size 1000x500 with 1 Axes>"
      ]
     },
     "metadata": {},
     "output_type": "display_data"
    },
    {
     "name": "stderr",
     "output_type": "stream",
     "text": [
      "/var/folders/nw/443sknns78l256x46fjj6r0c0000gn/T/ipykernel_94897/3658111960.py:10: UserWarning: \n",
      "\n",
      "`distplot` is a deprecated function and will be removed in seaborn v0.14.0.\n",
      "\n",
      "Please adapt your code to use either `displot` (a figure-level function with\n",
      "similar flexibility) or `histplot` (an axes-level function for histograms).\n",
      "\n",
      "For a guide to updating your code to use the new functions, please see\n",
      "https://gist.github.com/mwaskom/de44147ed2974457ad6372750bbe5751\n",
      "\n",
      "  sns.distplot(exe_list[key], bins=100, kde=False, rug=True)\n"
     ]
    },
    {
     "data": {
      "image/png": "[encoded data removed]",
      "text/plain": [
       "<Figure size 1000x500 with 1 Axes>"
      ]
     },
     "metadata": {},
     "output_type": "display_data"
    },
    {
     "name": "stderr",
     "output_type": "stream",
     "text": [
      "/var/folders/nw/443sknns78l256x46fjj6r0c0000gn/T/ipykernel_94897/3658111960.py:10: UserWarning: \n",
      "\n",
      "`distplot` is a deprecated function and will be removed in seaborn v0.14.0.\n",
      "\n",
      "Please adapt your code to use either `displot` (a figure-level function with\n",
      "similar flexibility) or `histplot` (an axes-level function for histograms).\n",
      "\n",
      "For a guide to updating your code to use the new functions, please see\n",
      "https://gist.github.com/mwaskom/de44147ed2974457ad6372750bbe5751\n",
      "\n",
      "  sns.distplot(exe_list[key], bins=100, kde=False, rug=True)\n"
     ]
    },
    {
     "data": {
      "image/png": "[encoded data removed]",
      "text/plain": [
       "<Figure size 1000x500 with 1 Axes>"
      ]
     },
     "metadata": {},
     "output_type": "display_data"
    },
    {
     "name": "stderr",
     "output_type": "stream",
     "text": [
      "/var/folders/nw/443sknns78l256x46fjj6r0c0000gn/T/ipykernel_94897/3658111960.py:10: UserWarning: \n",
      "\n",
      "`distplot` is a deprecated function and will be removed in seaborn v0.14.0.\n",
      "\n",
      "Please adapt your code to use either `displot` (a figure-level function with\n",
      "similar flexibility) or `histplot` (an axes-level function for histograms).\n",
      "\n",
      "For a guide to updating your code to use the new functions, please see\n",
      "https://gist.github.com/mwaskom/de44147ed2974457ad6372750bbe5751\n",
      "\n",
      "  sns.distplot(exe_list[key], bins=100, kde=False, rug=True)\n"
     ]
    },
    {
     "data": {
      "image/png": "[encoded data removed]",
      "text/plain": [
       "<Figure size 1000x500 with 1 Axes>"
      ]
     },
     "metadata": {},
     "output_type": "display_data"
    },
    {
     "name": "stderr",
     "output_type": "stream",
     "text": [
      "/var/folders/nw/443sknns78l256x46fjj6r0c0000gn/T/ipykernel_94897/3658111960.py:10: UserWarning: \n",
      "\n",
      "`distplot` is a deprecated function and will be removed in seaborn v0.14.0.\n",
      "\n",
      "Please adapt your code to use either `displot` (a figure-level function with\n",
      "similar flexibility) or `histplot` (an axes-level function for histograms).\n",
      "\n",
      "For a guide to updating your code to use the new functions, please see\n",
      "https://gist.github.com/mwaskom/de44147ed2974457ad6372750bbe5751\n",
      "\n",
      "  sns.distplot(exe_list[key], bins=100, kde=False, rug=True)\n"
     ]
    },
    {
     "data": {
      "image/png": "[encoded data removed]",
      "text/plain": [
       "<Figure size 1000x500 with 1 Axes>"
      ]
     },
     "metadata": {},
     "output_type": "display_data"
    },
    {
     "name": "stderr",
     "output_type": "stream",
     "text": [
      "/var/folders/nw/443sknns78l256x46fjj6r0c0000gn/T/ipykernel_94897/3658111960.py:10: UserWarning: \n",
      "\n",
      "`distplot` is a deprecated function and will be removed in seaborn v0.14.0.\n",
      "\n",
      "Please adapt your code to use either `displot` (a figure-level function with\n",
      "similar flexibility) or `histplot` (an axes-level function for histograms).\n",
      "\n",
      "For a guide to updating your code to use the new functions, please see\n",
      "https://gist.github.com/mwaskom/de44147ed2974457ad6372750bbe5751\n",
      "\n",
      "  sns.distplot(exe_list[key], bins=100, kde=False, rug=True)\n"
     ]
    },
    {
     "data": {
      "image/png": "[encoded data removed]",
      "text/plain": [
       "<Figure size 1000x500 with 1 Axes>"
      ]
     },
     "metadata": {},
     "output_type": "display_data"
    },
    {
     "name": "stderr",
     "output_type": "stream",
     "text": [
      "/var/folders/nw/443sknns78l256x46fjj6r0c0000gn/T/ipykernel_94897/3658111960.py:10: UserWarning: \n",
      "\n",
      "`distplot` is a deprecated function and will be removed in seaborn v0.14.0.\n",
      "\n",
      "Please adapt your code to use either `displot` (a figure-level function with\n",
      "similar flexibility) or `histplot` (an axes-level function for histograms).\n",
      "\n",
      "For a guide to updating your code to use the new functions, please see\n",
      "https://gist.github.com/mwaskom/de44147ed2974457ad6372750bbe5751\n",
      "\n",
      "  sns.distplot(exe_list[key], bins=100, kde=False, rug=True)\n"
     ]
    },
    {
     "data": {
      "image/png": "[encoded data removed]",
      "text/plain": [
       "<Figure size 1000x500 with 1 Axes>"
      ]
     },
     "metadata": {},
     "output_type": "display_data"
    }
   ],
   "source": [
    "#### plot exe_list to vsiualize the distribution of execution intervals\n",
    "\n",
    "import matplotlib.pyplot as plt\n",
    "import seaborn as sns\n",
    "sns.set(style=\"whitegrid\")\n",
    "\n",
    "for key in exe_list.keys():\n",
    "    plt.figure(figsize=(10, 5))\n",
    "    plt.title(key)\n",
    "    sns.distplot(exe_list[key], bins=100, kde=False, rug=True)\n",
    "    plt.axvline(confidence_intervals[key][0], color='r', linestyle='--')\n",
    "    plt.axvline(confidence_intervals[key][1], color='r', linestyle='--')\n",
    "    plt.axvline(min(thresholds[key]), color='g', linestyle='--')\n",
    "    plt.axvline(max(thresholds[key]), color='g', linestyle='--')\n",
    "    plt.show()\n",
    "\n",
    "    "
   ]
  },
  {
   "cell_type": "markdown",
   "metadata": {},
   "source": [
    "### Validation"
   ]
  },
  {
   "cell_type": "code",
   "execution_count": 72,
   "metadata": {},
   "outputs": [
    {
     "name": "stdout",
     "output_type": "stream",
     "text": [
      "Anomaly detected for 1_0_main_g_ack in trace1-comm at 1585th event\n",
      "Execution interval: 6.3\n",
      "Anomaly detected for 1_0_main_events in trace1-comm at 1586th event\n",
      "Execution interval: 6.3\n",
      "Anomaly detected for 1_control_update_rxmsg_drop in trace1-comm at 1587th event\n",
      "Execution interval: 6.3\n",
      "Anomaly detected for 1_0_main_g_ack in trace1-comm at 1603th event\n",
      "Execution interval: 3.2\n",
      "Anomaly detected for 1_0_main_events in trace1-comm at 1604th event\n",
      "Execution interval: 3.2\n",
      "Anomaly detected for 1_control_update_rxmsg_drop in trace1-comm at 1605th event\n",
      "Execution interval: 3.2\n",
      "Anomaly detected for 1_0_main_g_ack in trace1-comm at 1780th event\n",
      "Execution interval: 6.2\n",
      "Anomaly detected for 1_0_main_events in trace1-comm at 1781th event\n",
      "Execution interval: 6.2\n",
      "Anomaly detected for 1_control_update_rxmsg_drop in trace1-comm at 1782th event\n",
      "Execution interval: 6.2\n",
      "Anomaly detected for 1_0_main_i in trace1-comm at 1783th event\n",
      "Execution interval: 1.9\n",
      "Anomaly detected for 1_0_sense_temperature in trace1-comm at 1784th event\n",
      "Execution interval: 1.9\n",
      "Anomaly detected for 1_0_main_temperature in trace1-comm at 1785th event\n",
      "Execution interval: 1.9\n",
      "Anomaly detected for 1_control_updatedata_cls.sensor_data in trace1-comm at 1786th event\n",
      "Execution interval: 3.0\n",
      "Anomaly detected for 1_0_main_g_ack in trace1-comm at 1798th event\n",
      "Execution interval: 3.2\n",
      "Anomaly detected for 1_0_main_events in trace1-comm at 1799th event\n",
      "Execution interval: 3.2\n",
      "Anomaly detected for 1_control_update_rxmsg_drop in trace1-comm at 1800th event\n",
      "Execution interval: 3.2\n",
      "Anomaly detected for 1_0_main_g_ack in trace1-comm at 2254th event\n",
      "Execution interval: 6.3\n",
      "Anomaly detected for 1_0_main_events in trace1-comm at 2255th event\n",
      "Execution interval: 6.3\n",
      "Anomaly detected for 1_control_update_rxmsg_drop in trace1-comm at 2256th event\n",
      "Execution interval: 6.3\n",
      "Anomaly detected for 1_0_main_g_ack in trace1-comm at 2272th event\n",
      "Execution interval: 3.2\n",
      "Anomaly detected for 1_0_main_events in trace1-comm at 2273th event\n",
      "Execution interval: 3.2\n",
      "Anomaly detected for 1_control_update_rxmsg_drop in trace1-comm at 2274th event\n",
      "Execution interval: 3.2\n",
      "Anomaly detected for 1_0_main_g_ack in trace1-comm at 2628th event\n",
      "Execution interval: 6.3\n",
      "Anomaly detected for 1_0_main_events in trace1-comm at 2629th event\n",
      "Execution interval: 6.3\n",
      "Anomaly detected for 1_control_update_rxmsg_drop in trace1-comm at 2630th event\n",
      "Execution interval: 6.3\n",
      "Anomaly detected for 1_0_main_g_ack in trace1-comm at 2646th event\n",
      "Execution interval: 3.2\n",
      "Anomaly detected for 1_0_main_events in trace1-comm at 2647th event\n",
      "Execution interval: 3.2\n",
      "Anomaly detected for 1_control_update_rxmsg_drop in trace1-comm at 2648th event\n",
      "Execution interval: 3.2\n",
      "Anomaly detected for 1_0_main_i in trace1-comm at 2686th event\n",
      "Execution interval: 2.4\n",
      "Anomaly detected for 1_0_sense_temperature in trace1-comm at 2687th event\n",
      "Execution interval: 2.4\n",
      "Anomaly detected for 1_0_main_temperature in trace1-comm at 2688th event\n",
      "Execution interval: 2.4\n",
      "Anomaly detected for 1_control_updatedata_cls.sensor_data in trace1-comm at 2689th event\n",
      "Execution interval: 3.5\n",
      "Anomaly detected for 1_control_readdata_0 in trace1-comm at 2690th event\n",
      "Execution interval: 6.6\n",
      "Anomaly detected for 1_0_loracom_data in trace1-comm at 2691th event\n",
      "Execution interval: 6.6\n",
      "Anomaly detected for 1_control_update_txmsg_0 in trace1-comm at 2692th event\n",
      "Execution interval: 6.6\n",
      "Anomaly detected for 1_0_main_g_ack in trace1-comm at 2697th event\n",
      "Execution interval: 6.6\n",
      "Anomaly detected for 1_0_main_events in trace1-comm at 2698th event\n",
      "Execution interval: 6.6\n",
      "Anomaly detected for 1_control_update_rxmsg_drop in trace1-comm at 2699th event\n",
      "Execution interval: 6.6\n",
      "Anomaly detected for 1_0_main_g_ack in trace1-comm at 3164th event\n",
      "Execution interval: 10.6\n",
      "Anomaly detected for 1_0_main_events in trace1-comm at 3165th event\n",
      "Execution interval: 10.6\n",
      "Anomaly detected for 1_control_update_rxmsg_drop in trace1-comm at 3166th event\n",
      "Execution interval: 10.6\n",
      "Anomaly detected for 1_0_main_g_ack in trace1-comm at 3576th event\n",
      "Execution interval: 65.4\n",
      "Anomaly detected for 1_0_main_events in trace1-comm at 3577th event\n",
      "Execution interval: 65.4\n",
      "Anomaly detected for 1_control_update_rxmsg_drop in trace1-comm at 3578th event\n",
      "Execution interval: 65.4\n",
      "Anomaly detected for 1_0_main_g_ack in trace1-comm at 3699th event\n",
      "Execution interval: 10.6\n",
      "Anomaly detected for 1_0_main_events in trace1-comm at 3700th event\n",
      "Execution interval: 10.6\n",
      "Anomaly detected for 1_control_update_rxmsg_drop in trace1-comm at 3701th event\n",
      "Execution interval: 10.6\n",
      "Anomaly detected for 1_0_main_g_ack in trace1-comm at 4111th event\n",
      "Execution interval: 65.4\n",
      "Anomaly detected for 1_0_main_events in trace1-comm at 4112th event\n",
      "Execution interval: 65.4\n",
      "Anomaly detected for 1_control_update_rxmsg_drop in trace1-comm at 4113th event\n",
      "Execution interval: 65.4\n",
      "Anomaly detected for 1_0_main_g_ack in trace1-comm at 4389th event\n",
      "Execution interval: 6.4\n",
      "Anomaly detected for 1_0_main_events in trace1-comm at 4390th event\n",
      "Execution interval: 6.4\n",
      "Anomaly detected for 1_control_update_rxmsg_drop in trace1-comm at 4391th event\n",
      "Execution interval: 6.4\n",
      "Anomaly detected for 1_0_main_g_ack in trace1-comm at 4407th event\n",
      "Execution interval: 3.2\n",
      "Anomaly detected for 1_0_main_events in trace1-comm at 4408th event\n",
      "Execution interval: 3.2\n",
      "Anomaly detected for 1_control_update_rxmsg_drop in trace1-comm at 4409th event\n",
      "Execution interval: 3.2\n",
      "Anomaly detected for 1_0_main_g_ack in trace1-comm at 4563th event\n",
      "Execution interval: 6.4\n",
      "Anomaly detected for 1_0_main_events in trace1-comm at 4564th event\n",
      "Execution interval: 6.4\n",
      "Anomaly detected for 1_control_update_rxmsg_drop in trace1-comm at 4565th event\n",
      "Execution interval: 6.4\n",
      "Anomaly detected for 1_0_main_g_ack in trace1-comm at 4581th event\n",
      "Execution interval: 3.2\n",
      "Anomaly detected for 1_0_main_events in trace1-comm at 4582th event\n",
      "Execution interval: 3.2\n",
      "Anomaly detected for 1_control_update_rxmsg_drop in trace1-comm at 4583th event\n",
      "Execution interval: 3.2\n",
      "Anomaly detected for 1_0_main_g_ack in trace1-comm at 5331th event\n",
      "Execution interval: 124.7\n",
      "Anomaly detected for 1_0_main_events in trace1-comm at 5332th event\n",
      "Execution interval: 124.7\n",
      "Anomaly detected for 1_control_update_rxmsg_drop in trace1-comm at 5333th event\n",
      "Execution interval: 124.7\n",
      "Anomaly detected for 1_0_main_g_ack in trace1-comm at 5731th event\n",
      "Execution interval: 6.4\n",
      "Anomaly detected for 1_0_main_events in trace1-comm at 5732th event\n",
      "Execution interval: 6.4\n",
      "Anomaly detected for 1_control_update_rxmsg_drop in trace1-comm at 5733th event\n",
      "Execution interval: 6.4\n",
      "Anomaly detected for 1_0_main_i in trace1-comm at 6432th event\n",
      "Execution interval: 2.4\n",
      "Anomaly detected for 1_0_sense_temperature in trace1-comm at 6433th event\n",
      "Execution interval: 2.4\n",
      "Anomaly detected for 1_0_main_temperature in trace1-comm at 6434th event\n",
      "Execution interval: 2.4\n",
      "Anomaly detected for 1_control_updatedata_cls.sensor_data in trace1-comm at 6435th event\n",
      "Execution interval: 3.5\n",
      "Anomaly detected for 1_0_main_g_ack in trace1-comm at 6776th event\n",
      "Execution interval: 105.1\n",
      "Anomaly detected for 1_0_main_events in trace1-comm at 6777th event\n",
      "Execution interval: 105.1\n",
      "Anomaly detected for 1_control_update_rxmsg_drop in trace1-comm at 6778th event\n",
      "Execution interval: 105.1\n",
      "Anomaly detected for 1_0_main_g_ack in trace1-comm at 7857th event\n",
      "Execution interval: 60.4\n",
      "Anomaly detected for 1_0_main_events in trace1-comm at 7858th event\n",
      "Execution interval: 60.4\n",
      "Anomaly detected for 1_control_update_rxmsg_drop in trace1-comm at 7859th event\n",
      "Execution interval: 60.4\n",
      "Anomaly detected for 1_0_main_g_ack in trace1-comm at 7928th event\n",
      "Execution interval: 9.6\n",
      "Anomaly detected for 1_0_main_events in trace1-comm at 7929th event\n",
      "Execution interval: 9.6\n",
      "Anomaly detected for 1_control_update_rxmsg_drop in trace1-comm at 7930th event\n",
      "Execution interval: 9.6\n",
      "Anomaly detected for 1_0_main_g_ack in trace1-comm at 8491th event\n",
      "Execution interval: 61.5\n",
      "Anomaly detected for 1_0_main_events in trace1-comm at 8492th event\n",
      "Execution interval: 61.5\n",
      "Anomaly detected for 1_control_update_rxmsg_drop in trace1-comm at 8493th event\n",
      "Execution interval: 61.5\n",
      "Anomaly detected for 1_0_main_g_ack in trace1-comm at 8984th event\n",
      "Execution interval: 40.3\n",
      "Anomaly detected for 1_0_main_events in trace1-comm at 8985th event\n",
      "Execution interval: 40.3\n",
      "Anomaly detected for 1_control_update_rxmsg_drop in trace1-comm at 8986th event\n",
      "Execution interval: 40.3\n",
      "Anomaly detected for 1_0_main_g_ack in trace1-comm at 9062th event\n",
      "Execution interval: 6.4\n",
      "Anomaly detected for 1_0_main_events in trace1-comm at 9063th event\n",
      "Execution interval: 6.4\n",
      "Anomaly detected for 1_control_update_rxmsg_drop in trace1-comm at 9064th event\n",
      "Execution interval: 6.4\n",
      "Anomaly detected for 1_0_main_g_ack in trace1-comm at 9453th event\n",
      "Execution interval: 50.9\n",
      "Anomaly detected for 1_0_main_events in trace1-comm at 9454th event\n",
      "Execution interval: 50.9\n",
      "Anomaly detected for 1_control_update_rxmsg_drop in trace1-comm at 9455th event\n",
      "Execution interval: 50.9\n",
      "Anomaly detected for 1_0_main_g_ack in trace1-comm at 9901th event\n",
      "Execution interval: 35.0\n",
      "Anomaly detected for 1_0_main_events in trace1-comm at 9902th event\n",
      "Execution interval: 35.0\n",
      "Anomaly detected for 1_control_update_rxmsg_drop in trace1-comm at 9903th event\n",
      "Execution interval: 35.0\n",
      "Anomaly detected for 1_0_main_g_ack in trace1-comm at 10063th event\n",
      "Execution interval: 25.5\n",
      "Anomaly detected for 1_0_main_events in trace1-comm at 10064th event\n",
      "Execution interval: 25.5\n",
      "Anomaly detected for 1_control_update_rxmsg_drop in trace1-comm at 10065th event\n",
      "Execution interval: 25.5\n"
     ]
    }
   ],
   "source": [
    "#### Detect anomalies in faulty traces\n",
    "detected_anomalies = []\n",
    "for sample_path in anomalies_tracespaths:\n",
    "    sample_data = read_traces(sample_path)\n",
    "    filename = sample_path.split('/')[-1]\n",
    "\n",
    "    ### iterate trace and make decision for each exe interval\n",
    "    var_tracking = {}\n",
    "    for i in range(len(sample_data)):\n",
    "        event = sample_data[i]\n",
    "        var, ts = event\n",
    "        ts = int(ts)\n",
    "        if var not in var_tracking.keys():\n",
    "            var_tracking[var] = [ts]\n",
    "        else:\n",
    "            var_tracking[var].append(ts)\n",
    "\n",
    "        ### calculate exe interval\n",
    "        if len(var_tracking[var]) > 1:\n",
    "            exe_time = var_tracking[var][-1] - var_tracking[var][-2]\n",
    "            ### convert timestampt from miliseconds to seconds, and only consdider 1 decimal point. \n",
    "            exe_time = round(exe_time/1000, 1)\n",
    "\n",
    "            ### check if exe_time is an outlier\n",
    "            if exe_time < thresholds[var][0] or exe_time > thresholds[var][1]:\n",
    "                print(f'Anomaly detected for {var} in {filename} at {i}th event')\n",
    "                print(f'Execution interval: {exe_time}')\n",
    "                detected_anomalies += [[(var, var_tracking[var][-2]), (var, var_tracking[var][-1]), os.path.basename(sample_path)]]\n",
    "\n",
    "                # break\n",
    "\n",
    "\n",
    "    break"
   ]
  },
  {
   "cell_type": "markdown",
   "metadata": {},
   "source": [
    "### Visualize Anomalies"
   ]
  },
  {
   "cell_type": "code",
   "execution_count": 75,
   "metadata": {},
   "outputs": [],
   "source": [
    "########## Visualize the anomalies ############\n",
    "###############################################\n",
    "\n",
    "### prepare the traces for plotting\n",
    "\n",
    "### get variable list that is same for all log files ####\n",
    "raw_trace = read_traces(normal_tracespaths[0])\n",
    "_var_list = get_uniquevar(raw_trace)\n",
    "#np.save('var_list.npy', _var_list, allow_pickle=False)\n",
    "to_number, from_number = generate_map(_var_list)\n",
    "\n",
    "\n",
    "########## process the traces ###########\n",
    "col_data = []\n",
    "for p in anomalies_tracespaths:\n",
    "    trace = read_traces(p)\n",
    "    w = os.path.basename(p).removesuffix('.txt')\n",
    "    num_trace = []\n",
    "    time_stamp = []\n",
    "    for (t, ts) in trace:\n",
    "        nt = to_number[t]\n",
    "        num_trace.extend([nt])\n",
    "        time_stamp.extend([ts])\n",
    "        # ### take limited samples\n",
    "        # if ts > 250000:\n",
    "        #     break\n",
    "    col_data += [(w, time_stamp, num_trace, _var_list, p)]   ### in the format (trace_name, x_data, y_data, y_labels, trace_path) \n",
    "\n",
    "\n",
    "all_df = []\n",
    "for col in col_data:\n",
    "    # print(col)\n",
    "    plot_data = dict()\n",
    "    plot_data['time'] = col[1]   ### x_data\n",
    "    plot_data[col[0]] = col[2]   ### y_data (traces)\n",
    "\n",
    "    ### convert the list to data frame and store it for plotting\n",
    "    df = pd.DataFrame(plot_data)\n",
    "    all_df += [df]"
   ]
  },
  {
   "cell_type": "code",
   "execution_count": 76,
   "metadata": {},
   "outputs": [],
   "source": [
    "\n",
    "####### prepare anomalies for plotting ########\n",
    "\n",
    "### seperate the anomalies accoring to the trace files and store the timestamps in seperate lists\n",
    "anomalies = defaultdict(list)\n",
    "for anomaly in detected_anomalies:\n",
    "    # print(anomaly)\n",
    "    file_name = anomaly[2]\n",
    "    anomalies[file_name] += [anomaly[0][1], anomaly[1][1]]\n",
    "\n",
    "### sort the anomalies according to the timestamp and remove duplicates\n",
    "for k in anomalies.keys():\n",
    "    anomalies[k] = sorted(list(set(anomalies[k])))\n",
    "\n",
    "### get the index number for timestamps in the traces to plot\n",
    "anomalies_df = []\n",
    "for i in range(len(all_df)):\n",
    "    df = all_df[i]\n",
    "    k = df.columns[1]   ### get name of the trace\n",
    "    #print(k)\n",
    "    anomalies_plot = defaultdict(list)\n",
    "    for ts in anomalies[k]:\n",
    "        #print(ts)\n",
    "        index = df.index[df['time'] == ts].tolist()\n",
    "        ### store the respective values from the trace columns\n",
    "        y_val = df[k].iloc[index[0]]\n",
    "        #print(index, y_val)\n",
    "        anomalies_plot['index'] += index\n",
    "        anomalies_plot[k+'-anomalies'] += [y_val]\n",
    "\n",
    "    ### convert the dict to data frame and store it for plotting\n",
    "    df = pd.DataFrame(anomalies_plot)\n",
    "    anomalies_df += [df]\n",
    "    "
   ]
  },
  {
   "cell_type": "code",
   "execution_count": 77,
   "metadata": {},
   "outputs": [
    {
     "data": {
      "application/vnd.plotly.v1+json": {
       "config": {
        "plotlyServerURL": "https://plot.ly"
       },
       "data": [
        {
         "line": {
          "width": 0.5
         },
         "marker": {
          "size": 8
         },
         "mode": "lines+markers",
         "name": "trace1-comm",
         "showlegend": true,
         "type": "scatter",
         "y": [
          1,
          2,
          3,
          4,
          5,
          6,
          7,
          8,
          9,
          10,
          7,
          8,
          9,
          10,
          7,
          8,
          9,
          10,
          7,
          8,
          9,
          10,
          7,
          8,
          9,
          10,
          11,
          12,
          13,
          7,
          8,
          9,
          10,
          14,
          15,
          16,
          7,
          8,
          9,
          10,
          7,
          8,
          9,
          10,
          7,
          8,
          9,
          10,
          7,
          8,
          9,
          10,
          11,
          12,
          13,
          7,
          8,
          9,
          10,
          14,
          15,
          16,
          7,
          8,
          9,
          10,
          7,
          8,
          9,
          10,
          7,
          8,
          9,
          10,
          7,
          8,
          9,
          10,
          11,
          12,
          13,
          7,
          8,
          9,
          10,
          14,
          15,
          16,
          7,
          8,
          9,
          10,
          7,
          8,
          9,
          10,
          7,
          8,
          9,
          10,
          11,
          12,
          13,
          7,
          8,
          9,
          10,
          14,
          15,
          16,
          7,
          8,
          9,
          10,
          7,
          8,
          9,
          10,
          7,
          8,
          9,
          10,
          7,
          8,
          9,
          10,
          11,
          12,
          13,
          7,
          8,
          9,
          10,
          14,
          15,
          16,
          7,
          8,
          9,
          10,
          7,
          8,
          9,
          10,
          7,
          8,
          9,
          10,
          7,
          8,
          9,
          10,
          11,
          12,
          13,
          7,
          8,
          9,
          10,
          14,
          15,
          16,
          7,
          8,
          9,
          10,
          7,
          8,
          9,
          10,
          7,
          8,
          9,
          10,
          7,
          8,
          9,
          10,
          11,
          12,
          13,
          7,
          8,
          9,
          10,
          14,
          15,
          16,
          7,
          8,
          9,
          10,
          7,
          8,
          9,
          10,
          7,
          8,
          9,
          10,
          11,
          12,
          13,
          7,
          8,
          9,
          10,
          14,
          15,
          16,
          7,
          8,
          9,
          10,
          7,
          8,
          9,
          10,
          7,
          8,
          9,
          10,
          7,
          8,
          9,
          10,
          11,
          12,
          13,
          7,
          8,
          9,
          10,
          14,
          15,
          16,
          7,
          8,
          9,
          10,
          7,
          8,
          9,
          10,
          7,
          8,
          9,
          10,
          7,
          8,
          9,
          10,
          11,
          12,
          13,
          7,
          8,
          9,
          10,
          14,
          15,
          16,
          7,
          8,
          9,
          10,
          7,
          8,
          9,
          10,
          7,
          8,
          9,
          10,
          7,
          8,
          9,
          10,
          11,
          12,
          13,
          7,
          8,
          9,
          10,
          14,
          15,
          16,
          7,
          8,
          9,
          10,
          7,
          8,
          9,
          10,
          7,
          8,
          9,
          10,
          11,
          12,
          13,
          7,
          8,
          9,
          10,
          14,
          15,
          16,
          7,
          8,
          9,
          10,
          7,
          8,
          9,
          10,
          7,
          8,
          9,
          10,
          7,
          8,
          9,
          10,
          11,
          12,
          13,
          7,
          8,
          9,
          10,
          14,
          15,
          16,
          7,
          8,
          9,
          10,
          7,
          8,
          9,
          10,
          7,
          8,
          9,
          10,
          7,
          8,
          9,
          10,
          11,
          12,
          13,
          7,
          8,
          9,
          10,
          14,
          15,
          16,
          7,
          8,
          9,
          10,
          7,
          8,
          9,
          10,
          7,
          8,
          9,
          10,
          7,
          8,
          9,
          10,
          11,
          12,
          13,
          7,
          8,
          9,
          10,
          14,
          15,
          16,
          7,
          8,
          9,
          10,
          7,
          8,
          9,
          10,
          7,
          8,
          9,
          10,
          11,
          12,
          13,
          7,
          8,
          9,
          10,
          14,
          15,
          16,
          7,
          8,
          9,
          10,
          7,
          8,
          9,
          10,
          7,
          8,
          9,
          10,
          7,
          8,
          9,
          10,
          11,
          12,
          13,
          7,
          8,
          9,
          10,
          14,
          15,
          16,
          7,
          8,
          9,
          10,
          7,
          8,
          9,
          10,
          7,
          8,
          9,
          10,
          7,
          8,
          9,
          10,
          11,
          12,
          13,
          7,
          8,
          9,
          10,
          14,
          15,
          16,
          7,
          8,
          9,
          10,
          7,
          8,
          9,
          10,
          7,
          8,
          9,
          10,
          11,
          12,
          13,
          7,
          8,
          9,
          10,
          14,
          15,
          16,
          7,
          8,
          9,
          10,
          7,
          8,
          9,
          10,
          7,
          8,
          9,
          10,
          7,
          8,
          9,
          10,
          11,
          12,
          13,
          7,
          8,
          9,
          10,
          14,
          15,
          16,
          7,
          8,
          9,
          10,
          7,
          8,
          9,
          10,
          7,
          8,
          9,
          10,
          7,
          8,
          9,
          10,
          11,
          12,
          13,
          7,
          8,
          9,
          10,
          14,
          15,
          16,
          7,
          8,
          9,
          10,
          7,
          8,
          9,
          10,
          7,
          8,
          9,
          10,
          7,
          8,
          9,
          10,
          11,
          12,
          13,
          7,
          8,
          9,
          10,
          14,
          15,
          16,
          7,
          8,
          9,
          10,
          7,
          8,
          9,
          10,
          7,
          8,
          9,
          10,
          11,
          12,
          13,
          7,
          8,
          9,
          10,
          14,
          15,
          16,
          7,
          8,
          9,
          10,
          7,
          8,
          9,
          10,
          7,
          8,
          9,
          10,
          7,
          8,
          9,
          10,
          11,
          12,
          13,
          7,
          8,
          9,
          10,
          14,
          15,
          16,
          7,
          8,
          9,
          10,
          7,
          8,
          9,
          10,
          7,
          8,
          9,
          10,
          7,
          8,
          9,
          10,
          11,
          12,
          13,
          7,
          8,
          9,
          10,
          14,
          15,
          16,
          7,
          8,
          9,
          10,
          7,
          8,
          9,
          10,
          7,
          8,
          9,
          10,
          7,
          8,
          9,
          10,
          11,
          12,
          13,
          7,
          8,
          9,
          10,
          14,
          15,
          16,
          7,
          8,
          9,
          10,
          7,
          8,
          9,
          10,
          7,
          8,
          9,
          10,
          11,
          12,
          13,
          7,
          8,
          9,
          10,
          14,
          15,
          16,
          7,
          8,
          9,
          10,
          7,
          8,
          9,
          10,
          7,
          8,
          9,
          10,
          7,
          8,
          9,
          10,
          11,
          12,
          13,
          7,
          8,
          9,
          10,
          14,
          15,
          16,
          7,
          8,
          9,
          10,
          7,
          8,
          9,
          10,
          7,
          8,
          9,
          10,
          7,
          8,
          9,
          10,
          11,
          12,
          13,
          7,
          8,
          9,
          10,
          14,
          15,
          16,
          7,
          8,
          9,
          10,
          7,
          8,
          9,
          10,
          7,
          8,
          9,
          10,
          7,
          8,
          9,
          10,
          11,
          12,
          13,
          7,
          8,
          9,
          10,
          14,
          15,
          16,
          7,
          8,
          9,
          10,
          7,
          8,
          9,
          10,
          7,
          8,
          9,
          10,
          11,
          12,
          13,
          7,
          8,
          9,
          10,
          14,
          15,
          16,
          7,
          8,
          9,
          10,
          7,
          8,
          9,
          10,
          7,
          8,
          9,
          10,
          7,
          8,
          9,
          10,
          11,
          12,
          13,
          7,
          8,
          9,
          10,
          14,
          15,
          16,
          7,
          8,
          9,
          10,
          7,
          8,
          9,
          10,
          7,
          8,
          9,
          10,
          7,
          8,
          9,
          10,
          11,
          12,
          13,
          7,
          8,
          9,
          10,
          14,
          15,
          16,
          7,
          8,
          9,
          10,
          7,
          8,
          9,
          10,
          7,
          8,
          9,
          10,
          11,
          12,
          13,
          7,
          8,
          9,
          10,
          14,
          15,
          16,
          7,
          8,
          9,
          10,
          7,
          8,
          9,
          10,
          7,
          8,
          9,
          10,
          7,
          8,
          9,
          10,
          11,
          12,
          13,
          7,
          8,
          9,
          10,
          14,
          15,
          16,
          7,
          8,
          9,
          10,
          7,
          8,
          9,
          10,
          7,
          8,
          9,
          10,
          7,
          8,
          9,
          10,
          11,
          12,
          13,
          7,
          8,
          9,
          10,
          14,
          15,
          16,
          7,
          8,
          9,
          10,
          7,
          8,
          9,
          10,
          7,
          8,
          9,
          10,
          7,
          8,
          9,
          10,
          11,
          12,
          13,
          7,
          8,
          9,
          10,
          14,
          15,
          16,
          7,
          8,
          9,
          10,
          7,
          8,
          9,
          10,
          7,
          8,
          9,
          10,
          11,
          12,
          13,
          7,
          8,
          9,
          10,
          14,
          15,
          16,
          7,
          8,
          9,
          10,
          7,
          8,
          9,
          10,
          7,
          8,
          9,
          10,
          7,
          8,
          9,
          10,
          11,
          12,
          13,
          7,
          8,
          9,
          10,
          14,
          15,
          16,
          7,
          8,
          9,
          10,
          7,
          8,
          9,
          10,
          7,
          8,
          9,
          10,
          7,
          8,
          9,
          10,
          11,
          12,
          13,
          7,
          8,
          9,
          10,
          14,
          15,
          16,
          7,
          8,
          9,
          10,
          7,
          8,
          9,
          10,
          7,
          8,
          9,
          10,
          7,
          8,
          9,
          10,
          11,
          12,
          13,
          7,
          8,
          9,
          10,
          14,
          15,
          16,
          7,
          8,
          9,
          10,
          7,
          8,
          9,
          10,
          7,
          8,
          9,
          10,
          11,
          12,
          13,
          7,
          8,
          9,
          10,
          14,
          15,
          16,
          7,
          8,
          9,
          10,
          7,
          8,
          9,
          10,
          7,
          8,
          9,
          10,
          7,
          8,
          9,
          10,
          11,
          12,
          13,
          7,
          8,
          9,
          10,
          14,
          15,
          16,
          7,
          8,
          9,
          10,
          7,
          8,
          9,
          10,
          7,
          8,
          9,
          10,
          7,
          8,
          9,
          10,
          11,
          12,
          13,
          7,
          8,
          9,
          10,
          14,
          15,
          16,
          7,
          8,
          9,
          10,
          7,
          8,
          9,
          10,
          7,
          8,
          9,
          10,
          7,
          8,
          9,
          10,
          11,
          12,
          13,
          7,
          8,
          9,
          10,
          14,
          15,
          16,
          7,
          8,
          9,
          10,
          7,
          8,
          9,
          10,
          7,
          8,
          9,
          10,
          11,
          12,
          13,
          7,
          8,
          9,
          10,
          14,
          15,
          16,
          7,
          8,
          9,
          10,
          7,
          8,
          9,
          10,
          7,
          8,
          9,
          10,
          7,
          8,
          9,
          10,
          11,
          12,
          13,
          7,
          8,
          9,
          10,
          14,
          15,
          16,
          7,
          8,
          9,
          10,
          7,
          8,
          9,
          10,
          7,
          8,
          9,
          10,
          7,
          8,
          9,
          10,
          11,
          12,
          13,
          7,
          8,
          9,
          10,
          14,
          15,
          16,
          7,
          8,
          9,
          10,
          7,
          8,
          9,
          10,
          7,
          8,
          9,
          10,
          11,
          12,
          13,
          7,
          8,
          9,
          10,
          14,
          15,
          16,
          7,
          8,
          9,
          10,
          7,
          8,
          9,
          10,
          7,
          8,
          9,
          10,
          7,
          8,
          9,
          10,
          11,
          12,
          13,
          7,
          8,
          9,
          10,
          14,
          15,
          16,
          7,
          8,
          9,
          10,
          7,
          8,
          9,
          10,
          7,
          8,
          9,
          10,
          7,
          8,
          9,
          10,
          11,
          12,
          13,
          7,
          8,
          9,
          10,
          14,
          15,
          16,
          7,
          8,
          9,
          10,
          7,
          8,
          9,
          10,
          7,
          8,
          9,
          10,
          7,
          8,
          9,
          10,
          11,
          12,
          13,
          7,
          8,
          9,
          10,
          14,
          15,
          16,
          7,
          8,
          9,
          10,
          7,
          8,
          9,
          10,
          7,
          8,
          9,
          10,
          11,
          12,
          13,
          7,
          8,
          9,
          10,
          14,
          15,
          16,
          7,
          8,
          9,
          10,
          7,
          8,
          9,
          10,
          7,
          8,
          9,
          10,
          7,
          8,
          9,
          10,
          11,
          12,
          13,
          7,
          8,
          9,
          10,
          14,
          15,
          16,
          7,
          8,
          9,
          10,
          7,
          8,
          9,
          10,
          7,
          8,
          9,
          10,
          7,
          8,
          9,
          10,
          11,
          12,
          13,
          7,
          8,
          9,
          10,
          14,
          15,
          16,
          7,
          8,
          9,
          10,
          7,
          8,
          9,
          10,
          7,
          8,
          9,
          10,
          7,
          8,
          9,
          10,
          11,
          12,
          13,
          7,
          8,
          9,
          10,
          14,
          15,
          16,
          7,
          8,
          9,
          10,
          7,
          8,
          9,
          10,
          7,
          8,
          9,
          10,
          11,
          12,
          13,
          7,
          8,
          9,
          10,
          14,
          15,
          16,
          7,
          8,
          9,
          10,
          7,
          8,
          9,
          10,
          7,
          8,
          9,
          10,
          7,
          8,
          9,
          10,
          11,
          12,
          13,
          7,
          8,
          9,
          10,
          14,
          15,
          16,
          7,
          8,
          9,
          10,
          7,
          8,
          9,
          10,
          7,
          8,
          9,
          10,
          7,
          8,
          9,
          10,
          11,
          12,
          13,
          7,
          8,
          9,
          10,
          14,
          15,
          16,
          7,
          8,
          9,
          10,
          7,
          8,
          9,
          10,
          7,
          8,
          9,
          10,
          11,
          12,
          13,
          7,
          8,
          9,
          10,
          14,
          15,
          16,
          7,
          8,
          9,
          10,
          7,
          8,
          9,
          10,
          7,
          8,
          9,
          10,
          7,
          8,
          9,
          10,
          11,
          12,
          13,
          7,
          8,
          9,
          10,
          14,
          15,
          16,
          7,
          8,
          9,
          10,
          7,
          8,
          9,
          10,
          7,
          8,
          9,
          10,
          7,
          8,
          9,
          10,
          11,
          12,
          13,
          7,
          8,
          9,
          10,
          14,
          15,
          16,
          7,
          8,
          9,
          10,
          7,
          8,
          9,
          10,
          7,
          8,
          9,
          10,
          7,
          8,
          9,
          10,
          11,
          12,
          13,
          7,
          8,
          9,
          10,
          7,
          8,
          9,
          10,
          14,
          15,
          16,
          7,
          8,
          9,
          10,
          7,
          8,
          9,
          10,
          11,
          12,
          13,
          7,
          8,
          9,
          10,
          14,
          15,
          16,
          7,
          8,
          9,
          10,
          7,
          8,
          9,
          10,
          7,
          8,
          9,
          10,
          7,
          8,
          9,
          10,
          11,
          12,
          13,
          7,
          8,
          9,
          10,
          14,
          15,
          16,
          7,
          8,
          9,
          10,
          7,
          8,
          9,
          10,
          7,
          8,
          9,
          10,
          7,
          8,
          9,
          10,
          11,
          12,
          13,
          7,
          8,
          9,
          10,
          14,
          15,
          16,
          7,
          8,
          9,
          10,
          7,
          8,
          9,
          10,
          7,
          8,
          9,
          10,
          7,
          8,
          9,
          10,
          11,
          12,
          13,
          7,
          8,
          9,
          10,
          14,
          15,
          16,
          7,
          8,
          9,
          10,
          7,
          8,
          9,
          10,
          7,
          8,
          9,
          10,
          11,
          12,
          13,
          7,
          8,
          9,
          10,
          14,
          15,
          16,
          7,
          8,
          9,
          10,
          7,
          8,
          9,
          10,
          7,
          8,
          9,
          10,
          7,
          8,
          9,
          10,
          11,
          12,
          13,
          7,
          8,
          9,
          10,
          14,
          15,
          16,
          7,
          8,
          9,
          10,
          7,
          8,
          9,
          10,
          7,
          8,
          9,
          10,
          7,
          8,
          9,
          10,
          11,
          12,
          13,
          7,
          8,
          9,
          10,
          14,
          15,
          16,
          7,
          8,
          9,
          10,
          7,
          8,
          9,
          10,
          7,
          8,
          9,
          10,
          7,
          8,
          9,
          10,
          11,
          12,
          13,
          7,
          8,
          9,
          14,
          15,
          16,
          7,
          8,
          9,
          10,
          7,
          8,
          9,
          10,
          11,
          12,
          13,
          7,
          8,
          9,
          10,
          14,
          15,
          16,
          7,
          8,
          9,
          10,
          7,
          8,
          9,
          10,
          7,
          8,
          9,
          10,
          7,
          8,
          9,
          10,
          11,
          12,
          13,
          7,
          8,
          9,
          10,
          14,
          15,
          16,
          7,
          8,
          9,
          10,
          7,
          8,
          9,
          10,
          7,
          8,
          9,
          10,
          7,
          8,
          9,
          10,
          11,
          12,
          13,
          7,
          8,
          9,
          10,
          14,
          15,
          16,
          7,
          8,
          9,
          10,
          7,
          8,
          9,
          10,
          7,
          8,
          9,
          10,
          7,
          8,
          9,
          10,
          11,
          12,
          13,
          7,
          8,
          9,
          10,
          14,
          15,
          16,
          7,
          8,
          9,
          10,
          7,
          8,
          9,
          10,
          7,
          8,
          9,
          10,
          11,
          12,
          13,
          7,
          8,
          9,
          10,
          14,
          15,
          16,
          7,
          8,
          9,
          10,
          7,
          8,
          9,
          10,
          7,
          8,
          9,
          10,
          7,
          8,
          9,
          10,
          11,
          12,
          13,
          7,
          8,
          9,
          10,
          14,
          15,
          16,
          7,
          8,
          9,
          10,
          7,
          8,
          9,
          10,
          7,
          8,
          9,
          10,
          7,
          8,
          9,
          10,
          11,
          12,
          13,
          7,
          8,
          9,
          10,
          14,
          15,
          16,
          7,
          8,
          9,
          10,
          7,
          8,
          9,
          10,
          7,
          8,
          9,
          10,
          7,
          8,
          9,
          10,
          11,
          12,
          13,
          7,
          8,
          9,
          10,
          14,
          15,
          16,
          7,
          8,
          9,
          10,
          7,
          8,
          9,
          10,
          7,
          8,
          9,
          10,
          11,
          12,
          13,
          7,
          8,
          9,
          10,
          14,
          15,
          16,
          7,
          8,
          9,
          10,
          7,
          8,
          9,
          10,
          7,
          8,
          9,
          10,
          7,
          8,
          9,
          10,
          11,
          12,
          13,
          7,
          8,
          9,
          10,
          14,
          15,
          16,
          7,
          8,
          9,
          10,
          7,
          8,
          9,
          10,
          7,
          8,
          9,
          10,
          7,
          8,
          9,
          10,
          11,
          12,
          13,
          7,
          8,
          9,
          10,
          14,
          15,
          16,
          7,
          8,
          9,
          10,
          7,
          8,
          9,
          10,
          7,
          8,
          9,
          10,
          11,
          12,
          13,
          7,
          8,
          9,
          10,
          14,
          15,
          16,
          7,
          8,
          9,
          10,
          7,
          8,
          9,
          10,
          7,
          8,
          9,
          10,
          7,
          8,
          9,
          10,
          11,
          12,
          13,
          7,
          8,
          9,
          10,
          14,
          15,
          16,
          7,
          8,
          9,
          10,
          7,
          8,
          9,
          10,
          7,
          8,
          9,
          10,
          7,
          8,
          9,
          10,
          11,
          12,
          13,
          7,
          8,
          9,
          10,
          14,
          15,
          16,
          7,
          8,
          9,
          10,
          7,
          8,
          9,
          10,
          7,
          8,
          9,
          10,
          7,
          8,
          9,
          10,
          11,
          12,
          13,
          7,
          8,
          9,
          10,
          14,
          15,
          16,
          7,
          8,
          9,
          10,
          7,
          8,
          9,
          10,
          7,
          8,
          9,
          10,
          11,
          12,
          13,
          7,
          8,
          9,
          10,
          14,
          15,
          16,
          7,
          8,
          9,
          10,
          7,
          8,
          9,
          10,
          7,
          8,
          9,
          10,
          7,
          8,
          9,
          10,
          11,
          12,
          13,
          7,
          8,
          9,
          10,
          14,
          15,
          16,
          7,
          8,
          9,
          10,
          7,
          8,
          9,
          10,
          7,
          8,
          9,
          10,
          7,
          8,
          9,
          10,
          11,
          12,
          13,
          7,
          8,
          9,
          10,
          14,
          15,
          16,
          7,
          8,
          9,
          10,
          7,
          8,
          9,
          10,
          7,
          8,
          9,
          10,
          7,
          8,
          9,
          10,
          11,
          12,
          13,
          7,
          8,
          9,
          10,
          7,
          8,
          9,
          10,
          14,
          15,
          16,
          7,
          8,
          9,
          10,
          7,
          8,
          9,
          10,
          11,
          12,
          13,
          7,
          8,
          9,
          10,
          14,
          15,
          16,
          7,
          8,
          9,
          10,
          7,
          8,
          9,
          10,
          7,
          8,
          9,
          10,
          7,
          8,
          9,
          10,
          11,
          12,
          13,
          7,
          8,
          9,
          10,
          14,
          15,
          16,
          7,
          8,
          9,
          10,
          7,
          8,
          9,
          10,
          7,
          8,
          9,
          10,
          7,
          8,
          9,
          10,
          11,
          12,
          13,
          7,
          8,
          9,
          10,
          14,
          15,
          16,
          7,
          8,
          9,
          10,
          7,
          8,
          9,
          10,
          7,
          8,
          9,
          10,
          11,
          12,
          13,
          7,
          8,
          9,
          10,
          14,
          15,
          16,
          7,
          8,
          9,
          10,
          7,
          8,
          9,
          10,
          7,
          8,
          9,
          10,
          7,
          8,
          9,
          10,
          11,
          12,
          13,
          7,
          8,
          9,
          10,
          14,
          15,
          16,
          7,
          8,
          9,
          10,
          7,
          8,
          9,
          10,
          7,
          8,
          9,
          10,
          7,
          8,
          9,
          10,
          11,
          12,
          13,
          7,
          8,
          9,
          10,
          14,
          15,
          16,
          7,
          8,
          9,
          10,
          7,
          8,
          9,
          10,
          7,
          8,
          9,
          10,
          7,
          8,
          9,
          10,
          11,
          12,
          13,
          7,
          8,
          9,
          10,
          14,
          15,
          16,
          7,
          8,
          9,
          10,
          7,
          8,
          9,
          10,
          7,
          8,
          9,
          10,
          11,
          12,
          13,
          7,
          8,
          9,
          10,
          14,
          15,
          16,
          7,
          8,
          9,
          10,
          7,
          8,
          9,
          10,
          7,
          8,
          9,
          10,
          7,
          8,
          9,
          10,
          11,
          12,
          13,
          7,
          8,
          9,
          10,
          14,
          15,
          16,
          7,
          8,
          9,
          10,
          7,
          8,
          9,
          10,
          7,
          8,
          9,
          10,
          7,
          8,
          9,
          10,
          11,
          12,
          13,
          7,
          8,
          9,
          10,
          14,
          15,
          16,
          7,
          8,
          9,
          10,
          7,
          8,
          9,
          10,
          7,
          8,
          9,
          10,
          7,
          8,
          9,
          10,
          11,
          12,
          13,
          7,
          8,
          9,
          10,
          14,
          15,
          16,
          7,
          8,
          9,
          10,
          7,
          8,
          9,
          10,
          7,
          8,
          9,
          10,
          11,
          12,
          13,
          7,
          8,
          9,
          10,
          14,
          15,
          16,
          7,
          8,
          9,
          10,
          7,
          8,
          9,
          10,
          7,
          8,
          9,
          10,
          7,
          8,
          9,
          10,
          11,
          12,
          13,
          7,
          8,
          9,
          10,
          14,
          15,
          16,
          7,
          8,
          9,
          10,
          7,
          8,
          9,
          10,
          7,
          8,
          9,
          10,
          7,
          8,
          9,
          10,
          11,
          12,
          13,
          7,
          8,
          9,
          10,
          14,
          15,
          16,
          7,
          8,
          9,
          10,
          7,
          8,
          9,
          10,
          7,
          8,
          9,
          10,
          7,
          8,
          9,
          10,
          11,
          12,
          13,
          7,
          8,
          9,
          10,
          7,
          8,
          9,
          10,
          14,
          15,
          16,
          7,
          8,
          9,
          10,
          7,
          8,
          9,
          10,
          11,
          12,
          13,
          7,
          8,
          9,
          10,
          14,
          15,
          16,
          7,
          8,
          9,
          10,
          7,
          8,
          9,
          10,
          7,
          8,
          9,
          10,
          7,
          8,
          9,
          10,
          11,
          12,
          13,
          7,
          8,
          9,
          10,
          14,
          15,
          16,
          7,
          8,
          9,
          10,
          7,
          8,
          9,
          10,
          7,
          8,
          9,
          7,
          8,
          9,
          10,
          11,
          12,
          13,
          7,
          8,
          9,
          10,
          14,
          15,
          16,
          7,
          8,
          9,
          10,
          7,
          8,
          9,
          10,
          7,
          8,
          9,
          10,
          11,
          12,
          13,
          7,
          8,
          9,
          10,
          14,
          15,
          16,
          7,
          8,
          9,
          10,
          7,
          8,
          9,
          10,
          7,
          8,
          9,
          10,
          11,
          12,
          13,
          7,
          8,
          9,
          10,
          14,
          15,
          16,
          7,
          8,
          9,
          10,
          7,
          8,
          9,
          10,
          7,
          8,
          9,
          10,
          7,
          8,
          9,
          10,
          11,
          12,
          13,
          7,
          8,
          9,
          10,
          14,
          15,
          16,
          7,
          8,
          9,
          10,
          7,
          8,
          9,
          10,
          7,
          8,
          9,
          10,
          7,
          8,
          9,
          10,
          11,
          12,
          13,
          7,
          8,
          9,
          10,
          14,
          15,
          16,
          7,
          8,
          9,
          10,
          7,
          8,
          9,
          10,
          7,
          8,
          9,
          10,
          11,
          12,
          13,
          7,
          8,
          9,
          10,
          14,
          15,
          16,
          7,
          8,
          9,
          10,
          7,
          8,
          9,
          10,
          7,
          8,
          9,
          10,
          7,
          8,
          9,
          10,
          11,
          12,
          13,
          7,
          8,
          9,
          10,
          14,
          15,
          16,
          7,
          8,
          9,
          10,
          7,
          8,
          9,
          10,
          7,
          8,
          9,
          10,
          7,
          8,
          9,
          10,
          11,
          12,
          13,
          7,
          8,
          9,
          10,
          14,
          15,
          16,
          7,
          8,
          9,
          10,
          7,
          8,
          9,
          10,
          7,
          8,
          9,
          10,
          7,
          8,
          9,
          10,
          11,
          12,
          13,
          7,
          8,
          9,
          10,
          14,
          15,
          16,
          7,
          8,
          9,
          10,
          7,
          8,
          9,
          10,
          7,
          8,
          9,
          10,
          11,
          12,
          13,
          7,
          8,
          9,
          10,
          14,
          15,
          16,
          7,
          8,
          9,
          10,
          7,
          8,
          9,
          10,
          7,
          8,
          9,
          10,
          7,
          8,
          9,
          10,
          11,
          12,
          13,
          7,
          8,
          9,
          10,
          14,
          15,
          16,
          7,
          8,
          9,
          10,
          7,
          8,
          9,
          10,
          7,
          8,
          9,
          10,
          7,
          8,
          9,
          10,
          11,
          12,
          13,
          7,
          8,
          9,
          10,
          14,
          15,
          16,
          7,
          8,
          9,
          10,
          7,
          8,
          9,
          10,
          7,
          8,
          9,
          10,
          7,
          8,
          9,
          10,
          11,
          12,
          13,
          7,
          8,
          9,
          10,
          14,
          15,
          16,
          7,
          8,
          9,
          10,
          7,
          8,
          9,
          10,
          7,
          8,
          9,
          10,
          11,
          12,
          13,
          7,
          8,
          9,
          10,
          14,
          15,
          16,
          7,
          8,
          9,
          10,
          7,
          8,
          9,
          10,
          7,
          8,
          9,
          10,
          7,
          8,
          9,
          10,
          11,
          12,
          13,
          7,
          8,
          9,
          10,
          14,
          15,
          16,
          7,
          8,
          9,
          10,
          7,
          8,
          9,
          10,
          7,
          8,
          9,
          10,
          7,
          8,
          9,
          10,
          11,
          12,
          13,
          7,
          8,
          9,
          10,
          14,
          15,
          16,
          7,
          8,
          9,
          10,
          7,
          8,
          9,
          10,
          7,
          8,
          9,
          10,
          11,
          12,
          13,
          7,
          8,
          9,
          10,
          14,
          15,
          16,
          7,
          8,
          9,
          10,
          7,
          8,
          9,
          10,
          7,
          8,
          9,
          10,
          7,
          8,
          9,
          10,
          11,
          12,
          13,
          7,
          8,
          9,
          10,
          14,
          15,
          16,
          7,
          8,
          9,
          10,
          7,
          8,
          9,
          10,
          7,
          8,
          9,
          10,
          7,
          8,
          9,
          10,
          11,
          12,
          13,
          7,
          8,
          9,
          10,
          7,
          8,
          9,
          10,
          7,
          8,
          9,
          10,
          7,
          8,
          9,
          10,
          7,
          8,
          9,
          10,
          11,
          12,
          13,
          7,
          8,
          9,
          10,
          14,
          15,
          16,
          7,
          8,
          9,
          10,
          7,
          8,
          9,
          10,
          7,
          8,
          9,
          10,
          11,
          12,
          13,
          7,
          8,
          9,
          10,
          14,
          15,
          16,
          7,
          8,
          9,
          10,
          7,
          8,
          9,
          10,
          7,
          8,
          9,
          10,
          7,
          8,
          9,
          10,
          11,
          12,
          13,
          7,
          8,
          9,
          10,
          14,
          15,
          16,
          7,
          8,
          9,
          10,
          7,
          8,
          9,
          10,
          7,
          8,
          9,
          10,
          7,
          8,
          9,
          10,
          11,
          12,
          13,
          7,
          8,
          9,
          10,
          14,
          15,
          16,
          7,
          8,
          9,
          10,
          7,
          8,
          9,
          10,
          7,
          8,
          9,
          10,
          7,
          8,
          9,
          10,
          11,
          12,
          13,
          7,
          8,
          9,
          10,
          14,
          15,
          16,
          7,
          8,
          9,
          10,
          7,
          8,
          9,
          10,
          7,
          8,
          9,
          10,
          11,
          12,
          13,
          7,
          8,
          9,
          10,
          14,
          15,
          16,
          7,
          8,
          9,
          10,
          7,
          8,
          9,
          10,
          7,
          8,
          9,
          10,
          7,
          8,
          9,
          10,
          11,
          12,
          13,
          7,
          8,
          9,
          10,
          7,
          8,
          9,
          10,
          7,
          8,
          9,
          10,
          7,
          8,
          9,
          10,
          7,
          8,
          9,
          10,
          11,
          12,
          13,
          7,
          8,
          9,
          10,
          7,
          8,
          9,
          10,
          7,
          8,
          9,
          10,
          7,
          8,
          9,
          10,
          7,
          8,
          9,
          10,
          11,
          12,
          13,
          7,
          8,
          9,
          10,
          7,
          8,
          9,
          10,
          7,
          8,
          9,
          10,
          7,
          8,
          9,
          10,
          11,
          12,
          13,
          7,
          8,
          9,
          10,
          7,
          8,
          9,
          10,
          7,
          8,
          9,
          10,
          7,
          8,
          9,
          10,
          7,
          8,
          9,
          10,
          11,
          12,
          13,
          7,
          8,
          9,
          10,
          7,
          8,
          9,
          10,
          7,
          8,
          9,
          10,
          7,
          8,
          9,
          10,
          7,
          8,
          9,
          10,
          11,
          12,
          13,
          7,
          8,
          9,
          10,
          7,
          8,
          9,
          10,
          7,
          8,
          9,
          10,
          7,
          8,
          9,
          10,
          11,
          12,
          13,
          7,
          8,
          9,
          10,
          7,
          8,
          9,
          10,
          7,
          8,
          9,
          10,
          7,
          8,
          9,
          10,
          7,
          8,
          9,
          10,
          11,
          12,
          13,
          7,
          8,
          9,
          10,
          7,
          8,
          9,
          10,
          7,
          8,
          9,
          10,
          7,
          8,
          9,
          10,
          7,
          8,
          9,
          10,
          11,
          12,
          13,
          7,
          8,
          9,
          10,
          7,
          8,
          9,
          10,
          7,
          8,
          9,
          10,
          7,
          8,
          9,
          10,
          7,
          8,
          9,
          10,
          11,
          12,
          13,
          7,
          8,
          9,
          10,
          7,
          8,
          9,
          10,
          7,
          8,
          9,
          10,
          7,
          8,
          9,
          10,
          11,
          12,
          13,
          7,
          8,
          9,
          10,
          7,
          8,
          9,
          10,
          7,
          8,
          9,
          10,
          7,
          8,
          9,
          10,
          7,
          8,
          9,
          10,
          11,
          12,
          13,
          7,
          8,
          9,
          10,
          7,
          8,
          9,
          10,
          7,
          8,
          9,
          10,
          7,
          8,
          9,
          10,
          7,
          8,
          9,
          10,
          11,
          12,
          13,
          7,
          8,
          9,
          10,
          14,
          15,
          16,
          7,
          8,
          9,
          10,
          7,
          8,
          9,
          10,
          7,
          8,
          9,
          10,
          7,
          8,
          9,
          10,
          11,
          12,
          13,
          7,
          8,
          9,
          10,
          14,
          15,
          16,
          7,
          8,
          9,
          10,
          7,
          8,
          9,
          10,
          7,
          8,
          9,
          10,
          11,
          12,
          13,
          7,
          8,
          9,
          10,
          14,
          15,
          16,
          7,
          8,
          9,
          10,
          7,
          8,
          9,
          10,
          7,
          8,
          9,
          10,
          7,
          8,
          9,
          10,
          11,
          12,
          13,
          7,
          8,
          9,
          10,
          14,
          15,
          16,
          7,
          8,
          9,
          10,
          7,
          8,
          9,
          10,
          7,
          8,
          9,
          10,
          7,
          8,
          9,
          10,
          11,
          12,
          13,
          7,
          8,
          9,
          10,
          7,
          8,
          9,
          10,
          7,
          8,
          9,
          10,
          7,
          8,
          9,
          10,
          7,
          8,
          9,
          10,
          11,
          12,
          13,
          7,
          8,
          9,
          10,
          14,
          15,
          16,
          7,
          8,
          9,
          10,
          7,
          8,
          9,
          10,
          7,
          8,
          9,
          10,
          11,
          12,
          13,
          7,
          8,
          9,
          10,
          14,
          15,
          16,
          7,
          8,
          9,
          10,
          7,
          8,
          9,
          10,
          7,
          8,
          9,
          10,
          7,
          8,
          9,
          10,
          11,
          12,
          13,
          7,
          8,
          9,
          10,
          14,
          15,
          16,
          7,
          8,
          9,
          10,
          7,
          8,
          9,
          10,
          7,
          8,
          9,
          10,
          7,
          8,
          9,
          10,
          11,
          12,
          13,
          7,
          8,
          9,
          10,
          14,
          15,
          16,
          7,
          8,
          9,
          10,
          7,
          8,
          9,
          10,
          7,
          8,
          9,
          10,
          11,
          12,
          13,
          7,
          8,
          9,
          10,
          14,
          15,
          16,
          7,
          8,
          9,
          10,
          7,
          8,
          9,
          10,
          7,
          8,
          9,
          10,
          7,
          8,
          9,
          10,
          11,
          12,
          13,
          7,
          8,
          9,
          10,
          14,
          15,
          16,
          7,
          8,
          9,
          10,
          7,
          8,
          9,
          10,
          7,
          8,
          9,
          10,
          7,
          8,
          9,
          10,
          11,
          12,
          13,
          7,
          8,
          9,
          10,
          7,
          8,
          9,
          10,
          7,
          8,
          9,
          10,
          7,
          8,
          9,
          10,
          7,
          8,
          9,
          10,
          11,
          12,
          13,
          7,
          8,
          9,
          10,
          7,
          8,
          9,
          10,
          7,
          8,
          9,
          10,
          7,
          8,
          9,
          10,
          11,
          12,
          13,
          7,
          8,
          9,
          10,
          7,
          8,
          9,
          10,
          7,
          8,
          9,
          10,
          7,
          8,
          9,
          10,
          7,
          8,
          9,
          10,
          11,
          12,
          13,
          7,
          8,
          9,
          10,
          7,
          8,
          9,
          10,
          7,
          8,
          9,
          10,
          7,
          8,
          9,
          10,
          7,
          8,
          9,
          10,
          11,
          12,
          13,
          7,
          8,
          9,
          10,
          7,
          8,
          9,
          10,
          7,
          8,
          9,
          10,
          7,
          8,
          9,
          10,
          7,
          8,
          9,
          10,
          11,
          12,
          13,
          7,
          8,
          9,
          10,
          7,
          8,
          9,
          10,
          7,
          8,
          9,
          10,
          7,
          8,
          9,
          10,
          11,
          12,
          13,
          7,
          8,
          9,
          10,
          7,
          8,
          9,
          10,
          7,
          8,
          9,
          10,
          7,
          8,
          9,
          10,
          7,
          8,
          9,
          10,
          11,
          12,
          13,
          7,
          8,
          9,
          10,
          7,
          8,
          9,
          10,
          7,
          8,
          9,
          10,
          7,
          8,
          9,
          10,
          7,
          8,
          9,
          10,
          11,
          12,
          13,
          7,
          8,
          9,
          10,
          7,
          8,
          9,
          10,
          7,
          8,
          9,
          10,
          7,
          8,
          9,
          10,
          7,
          8,
          9,
          10,
          11,
          12,
          13,
          7,
          8,
          9,
          10,
          7,
          8,
          9,
          10,
          7,
          8,
          9,
          10,
          7,
          8,
          9,
          10,
          11,
          12,
          13,
          7,
          8,
          9,
          10,
          7,
          8,
          9,
          10,
          7,
          8,
          9,
          10,
          7,
          8,
          9,
          10,
          7,
          8,
          9,
          10,
          11,
          12,
          13,
          7,
          8,
          9,
          10,
          7,
          8,
          9,
          10,
          7,
          8,
          9,
          10,
          7,
          8,
          9,
          10,
          7,
          8,
          9,
          10,
          11,
          12,
          13,
          7,
          8,
          9,
          10,
          14,
          15,
          16,
          7,
          8,
          9,
          10,
          7,
          8,
          9,
          10,
          7,
          8,
          9,
          10,
          11,
          12,
          13,
          7,
          8,
          9,
          10,
          14,
          15,
          16,
          7,
          8,
          9,
          10,
          7,
          8,
          9,
          10,
          7,
          8,
          9,
          10,
          7,
          8,
          9,
          10,
          11,
          12,
          13,
          7,
          8,
          9,
          10,
          14,
          15,
          16,
          7,
          8,
          9,
          10,
          7,
          8,
          9,
          10,
          7,
          8,
          9,
          10,
          7,
          8,
          9,
          10,
          11,
          12,
          13,
          7,
          8,
          9,
          10,
          14,
          15,
          16,
          7,
          8,
          9,
          10,
          7,
          8,
          9,
          10,
          7,
          8,
          9,
          10,
          7,
          8,
          9,
          10,
          11,
          12,
          13,
          7,
          8,
          9,
          10,
          14,
          15,
          16,
          7,
          8,
          9,
          10,
          7,
          8,
          9,
          10,
          7,
          8,
          9,
          10,
          11,
          12,
          13,
          7,
          8,
          9,
          10,
          14,
          15,
          16,
          7,
          8,
          9,
          10,
          7,
          8,
          9,
          10,
          7,
          8,
          9,
          10,
          7,
          8,
          9,
          10,
          11,
          12,
          13,
          7,
          8,
          9,
          10,
          14,
          15,
          16,
          7,
          8,
          9,
          10,
          7,
          8,
          9,
          10,
          7,
          8,
          9,
          10,
          7,
          8,
          9,
          10,
          11,
          12,
          13,
          7,
          8,
          9,
          10,
          14,
          15,
          16,
          7,
          8,
          9,
          10,
          7,
          8,
          9,
          10,
          7,
          8,
          9,
          10,
          11,
          12,
          13,
          7,
          8,
          9,
          10,
          14,
          15,
          16,
          7,
          8,
          9,
          10,
          7,
          8,
          9,
          10,
          7,
          8,
          9,
          10,
          7,
          8,
          9,
          10,
          11,
          12,
          13,
          7,
          8,
          9,
          10,
          14,
          15,
          16,
          7,
          8,
          9,
          10,
          7,
          8,
          9,
          10,
          7,
          8,
          9,
          10,
          7,
          8,
          9,
          10,
          11,
          12,
          13,
          7,
          8,
          9,
          10,
          14,
          15,
          16,
          7,
          8,
          9,
          10,
          7,
          8,
          9,
          10,
          7,
          8,
          9,
          10,
          7,
          8,
          9,
          10,
          11,
          12,
          13,
          7,
          8,
          9,
          10,
          7,
          8,
          9,
          10,
          14,
          15,
          16,
          7,
          8,
          9,
          10,
          7,
          8,
          9,
          10,
          11,
          12,
          13,
          7,
          8,
          9,
          10,
          14,
          15,
          16,
          7,
          8,
          9,
          10,
          7,
          8,
          9,
          10,
          7,
          8,
          9,
          10,
          7,
          8,
          9,
          10,
          11,
          12,
          13,
          7,
          8,
          9,
          10,
          14,
          15,
          16,
          7,
          8,
          9,
          10,
          7,
          8,
          9,
          10,
          7,
          8,
          9,
          10,
          7,
          8,
          9,
          10,
          11,
          12,
          13,
          7,
          8,
          9,
          10,
          14,
          15,
          16,
          7,
          8,
          9,
          10,
          7,
          8,
          9,
          10,
          7,
          8,
          9,
          10,
          11,
          12,
          13,
          7,
          8,
          9,
          10,
          14,
          15,
          16,
          7,
          8,
          9,
          10,
          7,
          8,
          9,
          10,
          7,
          8,
          9,
          10,
          7,
          8,
          9,
          10,
          11,
          12,
          13,
          7,
          8,
          9,
          10,
          14,
          15,
          16,
          7,
          8,
          9,
          10,
          7,
          8,
          9,
          10,
          7,
          8,
          9,
          10,
          7,
          8,
          9,
          10,
          11,
          12,
          13,
          7,
          8,
          9,
          10,
          14,
          15,
          16,
          7,
          8,
          9,
          10,
          7,
          8,
          9,
          10,
          7,
          8,
          9,
          10,
          7,
          8,
          9,
          10,
          11,
          12,
          13,
          7,
          8,
          9,
          10,
          7,
          8,
          9,
          10,
          14,
          15,
          16,
          7,
          8,
          9,
          10,
          7,
          8,
          9,
          10,
          11,
          12,
          13,
          7,
          8,
          9,
          10,
          14,
          15,
          16,
          7,
          8,
          9,
          10,
          7,
          8,
          9,
          10,
          7,
          8,
          9,
          10,
          7,
          8,
          9,
          10,
          11,
          12,
          13,
          7,
          8,
          9,
          10,
          14,
          15,
          16,
          7,
          8,
          9,
          10,
          7,
          8,
          9,
          10,
          7,
          8,
          9,
          10,
          7,
          8,
          9,
          10,
          11,
          12,
          13,
          7,
          8,
          9,
          10,
          14,
          15,
          16,
          7,
          8,
          9,
          10,
          7,
          8,
          9,
          10,
          7,
          8,
          9,
          10,
          11,
          12,
          13,
          7,
          8,
          9,
          10,
          14,
          15,
          16,
          7,
          8,
          9,
          10,
          7,
          8,
          9,
          10,
          7,
          8,
          9,
          10,
          7,
          8,
          9,
          10,
          11,
          12,
          13,
          7,
          8,
          9,
          10,
          14,
          15,
          16,
          7,
          8,
          9,
          10,
          7,
          8,
          9,
          10,
          7,
          8,
          9,
          10,
          7,
          8,
          9,
          10,
          11,
          12,
          13,
          7,
          8,
          9,
          10,
          14,
          15,
          16,
          7,
          8,
          9,
          10,
          7,
          8,
          9,
          10,
          7,
          8,
          9,
          10,
          7,
          8,
          9,
          10,
          11,
          12,
          13,
          7,
          8,
          9,
          10,
          14,
          15,
          16,
          7,
          8,
          9,
          10,
          7,
          8,
          9,
          10,
          7,
          8,
          9,
          10,
          11,
          12,
          13,
          7,
          8,
          9,
          10,
          14,
          15,
          16,
          7,
          8,
          9,
          10,
          7,
          8,
          9,
          10,
          7,
          8,
          9,
          10,
          7,
          8,
          9,
          10,
          11,
          12,
          13,
          7,
          8,
          9,
          10,
          14,
          15,
          16,
          7,
          8,
          9,
          10,
          7,
          8,
          9,
          10,
          7,
          8,
          9,
          10,
          7,
          8,
          9,
          10,
          11,
          12,
          13,
          7,
          8,
          9,
          10,
          7,
          8,
          9,
          10,
          7,
          8,
          9,
          10,
          7,
          8,
          9,
          10,
          11,
          12,
          13,
          7,
          8,
          9,
          10,
          7,
          8,
          9,
          10,
          7,
          8,
          9,
          10,
          7,
          8,
          9,
          10,
          7,
          8,
          9,
          10,
          11,
          12,
          13,
          7,
          8,
          9,
          10,
          7,
          8,
          9,
          10,
          7,
          8,
          9,
          10,
          7,
          8,
          9,
          10,
          7,
          8,
          9,
          10,
          11,
          12,
          13,
          7,
          8,
          9,
          10,
          7,
          8,
          9,
          10,
          7,
          8,
          9,
          10,
          7,
          8,
          9,
          10,
          7,
          8,
          9,
          10,
          11,
          12,
          13,
          7,
          8,
          9,
          10,
          7,
          8,
          9,
          10,
          7,
          8,
          9,
          10,
          7,
          8,
          9,
          10,
          11,
          12,
          13,
          7,
          8,
          9,
          10,
          7,
          8,
          9,
          10,
          7,
          8,
          9,
          10,
          7,
          8,
          9,
          10,
          7,
          8,
          9,
          10,
          11,
          12,
          13,
          7,
          8,
          9,
          10,
          7,
          8,
          9,
          10,
          7,
          8,
          9,
          10,
          7,
          8,
          9,
          10,
          7,
          8,
          9,
          10,
          11,
          12,
          13,
          7,
          8,
          9,
          10,
          7,
          8,
          9,
          10,
          7,
          8,
          9,
          10,
          7,
          8,
          9,
          10,
          7,
          8,
          9,
          10,
          11,
          12,
          13,
          7,
          8,
          9,
          10,
          7,
          8,
          9,
          10,
          7,
          8,
          9,
          10,
          7,
          8,
          9,
          10,
          11,
          12,
          13,
          7,
          8,
          9,
          10,
          7,
          8,
          9,
          10,
          7,
          8,
          9,
          10,
          7,
          8,
          9,
          10,
          7,
          8,
          9,
          10,
          11,
          12,
          13,
          7,
          8,
          9,
          10,
          7,
          8,
          9,
          10,
          7,
          8,
          9,
          10,
          7,
          8,
          9,
          10,
          7,
          8,
          9,
          10,
          11,
          12,
          13,
          7,
          8,
          9,
          10,
          7,
          8,
          9,
          10,
          7,
          8,
          9,
          10,
          7,
          8,
          9,
          10,
          7,
          8,
          9,
          10,
          11,
          12,
          13,
          7,
          8,
          9,
          10,
          7,
          8,
          9,
          10,
          7,
          8,
          9,
          10,
          7,
          8,
          9,
          10,
          11,
          12,
          13,
          7,
          8,
          9,
          10,
          7,
          8,
          9,
          10,
          7,
          8,
          9,
          10,
          7,
          8,
          9,
          10,
          7,
          8,
          9,
          10,
          11,
          12,
          13,
          7,
          8,
          9,
          10,
          7,
          8,
          9,
          10,
          7,
          8,
          9,
          10,
          7,
          8,
          9,
          10,
          7,
          8,
          9,
          10,
          11,
          12,
          13,
          7,
          8,
          9,
          10,
          7,
          8,
          9,
          10,
          7,
          8,
          9,
          10,
          7,
          8,
          9,
          10,
          7,
          8,
          9,
          10,
          11,
          12,
          13,
          7,
          8,
          9,
          10,
          7,
          8,
          9,
          10,
          7,
          8,
          9,
          10,
          7,
          8,
          9,
          10,
          11,
          12,
          13,
          7,
          8,
          9,
          10,
          7,
          8,
          9,
          10,
          7,
          8,
          9,
          10,
          7,
          8,
          9,
          10,
          7,
          8,
          9,
          10,
          11,
          12,
          13,
          7,
          8,
          9,
          10,
          7,
          8,
          9,
          10,
          7,
          8,
          9,
          10,
          7,
          8,
          9,
          10,
          7,
          8,
          9,
          10,
          11,
          12,
          13,
          7,
          8,
          9,
          10,
          7,
          8,
          9,
          10,
          7,
          8,
          9,
          10,
          7,
          8,
          9,
          10,
          11,
          12,
          13,
          7,
          8,
          9,
          10,
          7,
          8,
          9,
          10,
          7,
          8,
          9,
          10,
          7,
          8,
          9,
          10,
          7,
          8,
          9,
          10,
          11,
          12,
          13,
          7,
          8,
          9,
          10,
          7,
          8,
          9,
          10,
          7,
          8,
          9,
          10,
          7,
          8,
          9,
          10,
          7,
          8,
          9,
          10,
          11,
          12,
          13,
          7,
          8,
          9,
          10,
          7,
          8,
          9,
          10,
          7,
          8,
          9,
          10,
          7,
          8,
          9,
          10,
          7,
          8,
          9,
          10,
          11,
          12,
          13,
          7,
          8,
          9,
          10,
          7,
          8,
          9,
          10,
          7,
          8,
          9,
          10,
          7,
          8,
          9,
          10,
          11,
          12,
          13,
          7,
          8,
          9,
          10,
          14,
          15,
          16,
          7,
          8,
          9,
          10,
          7,
          8,
          9,
          10,
          7,
          8,
          9,
          10,
          7,
          8,
          9,
          10,
          11,
          12,
          13,
          7,
          8,
          9,
          10,
          14,
          15,
          16,
          7,
          8,
          9,
          10,
          7,
          8,
          9,
          10,
          7,
          8,
          9,
          10,
          7,
          8,
          9,
          10,
          11,
          12,
          13,
          7,
          8,
          9,
          10,
          14,
          15,
          16,
          7,
          8,
          9,
          10,
          7,
          8,
          9,
          10,
          7,
          8,
          9,
          10,
          11,
          12,
          13,
          7,
          8,
          9,
          10,
          14,
          15,
          16,
          7,
          8,
          9,
          10,
          7,
          8,
          9,
          10,
          7,
          8,
          9,
          10,
          7,
          8,
          9,
          10,
          11,
          12,
          13,
          7,
          8,
          9,
          10,
          14,
          15,
          16,
          7,
          8,
          9,
          10,
          7,
          8,
          9,
          10,
          7,
          8,
          9,
          10,
          7,
          8,
          9,
          10,
          11,
          12,
          13,
          7,
          8,
          9,
          10,
          14,
          15,
          16,
          7,
          8,
          9,
          10,
          7,
          8,
          9,
          10,
          7,
          8,
          9,
          10,
          11,
          12,
          13,
          7,
          8,
          9,
          10,
          14,
          15,
          16,
          7,
          8,
          9,
          10,
          7,
          8,
          9,
          10,
          7,
          8,
          9,
          10,
          7,
          8,
          9,
          10,
          11,
          12,
          13,
          7,
          8,
          9,
          10,
          14,
          15,
          16,
          7,
          8,
          9,
          10,
          7,
          8,
          9,
          10,
          7,
          8,
          9,
          10,
          7,
          8,
          9,
          10,
          11,
          12,
          13,
          7,
          8,
          9,
          10,
          14,
          15,
          16,
          7,
          8,
          9,
          10,
          7,
          8,
          9,
          10,
          7,
          8,
          9,
          10,
          11,
          12,
          13,
          7,
          8,
          9,
          10,
          14,
          15,
          16,
          7,
          8,
          9,
          10,
          7,
          8,
          9,
          10,
          7,
          8,
          9,
          10,
          7,
          8,
          9,
          10,
          11,
          12,
          13,
          7,
          8,
          9,
          10,
          14,
          15,
          16,
          7,
          8,
          9,
          10,
          7,
          8,
          9,
          10,
          7,
          8,
          9,
          10,
          7,
          8,
          9,
          10,
          11,
          12,
          13,
          7,
          8,
          9,
          10,
          14,
          15,
          16,
          7,
          8,
          9,
          10,
          7,
          8,
          9,
          10,
          7,
          8,
          9,
          10,
          11,
          12,
          13,
          7,
          8,
          9,
          10,
          14,
          15,
          16,
          7,
          8,
          9,
          10,
          7,
          8,
          9,
          10,
          7,
          8,
          9,
          10,
          7,
          8,
          9,
          10,
          11,
          12,
          13,
          7,
          8,
          9,
          10,
          14,
          15,
          16,
          7,
          8,
          9,
          10,
          7,
          8,
          9,
          10,
          7,
          8,
          9,
          10,
          7,
          8,
          9,
          10,
          11,
          12,
          13,
          7,
          8,
          9,
          10,
          14,
          15,
          16,
          7,
          8,
          9,
          10,
          7,
          8,
          9,
          10,
          7,
          8,
          9,
          10,
          11,
          12,
          13,
          7,
          8,
          9,
          10,
          14,
          15,
          16,
          7,
          8,
          9,
          10,
          7,
          8,
          9,
          10,
          7,
          8,
          9,
          10,
          7,
          8,
          9,
          10,
          11,
          12,
          13,
          7,
          8,
          9,
          10,
          7,
          8,
          9,
          10,
          14,
          15,
          16,
          7,
          8,
          9,
          10,
          7,
          8,
          9,
          10,
          7,
          8,
          9,
          10,
          11,
          12,
          13,
          7,
          8,
          9,
          10,
          14,
          15,
          16,
          7,
          8,
          9,
          10,
          7,
          8,
          9,
          10,
          7,
          8,
          9,
          10,
          11,
          12,
          13,
          7,
          8,
          9,
          10,
          14,
          15,
          16,
          7,
          8,
          9,
          10,
          7,
          8,
          9,
          10,
          7,
          8,
          9,
          10,
          7,
          8,
          9,
          10,
          11,
          12,
          13,
          7,
          8,
          9,
          10,
          14,
          15,
          16,
          7,
          8,
          9,
          10,
          7,
          8,
          9,
          10,
          7,
          8,
          9,
          10,
          7,
          8,
          9,
          10,
          11,
          12,
          13,
          7,
          8,
          9,
          10,
          14,
          15,
          16,
          7,
          8,
          9,
          10,
          7,
          8,
          9,
          10,
          7,
          8,
          9,
          10,
          7,
          8,
          9,
          10,
          11,
          12,
          13,
          7,
          8,
          9,
          10,
          14,
          15,
          16,
          7,
          8,
          9,
          10,
          7,
          8,
          9,
          10,
          7,
          8,
          9,
          10,
          11,
          12,
          13,
          7,
          8,
          9,
          10,
          14,
          15,
          16,
          7,
          8,
          9,
          10,
          7,
          8,
          9,
          10,
          7,
          8,
          9,
          10,
          7,
          8,
          9,
          10,
          11,
          12,
          13,
          7,
          8,
          9,
          10,
          14,
          15,
          16,
          7,
          8,
          9,
          10,
          7,
          8,
          9,
          10,
          7,
          8,
          9,
          10,
          7,
          8,
          9,
          10,
          11,
          12,
          13,
          7,
          8,
          9,
          10,
          14,
          15,
          16,
          7,
          8,
          9,
          10,
          7,
          8,
          9,
          10,
          7,
          8,
          9,
          10,
          11,
          12,
          13,
          7,
          8,
          9,
          10,
          14,
          15,
          16,
          7,
          8,
          9,
          10,
          7,
          8,
          9,
          10,
          7,
          8,
          9,
          10,
          7,
          8,
          9,
          10,
          11,
          12,
          13,
          7,
          8,
          9,
          10,
          14,
          15,
          16,
          7,
          8,
          9,
          10,
          7,
          8,
          9,
          10,
          7,
          8,
          9,
          10,
          7,
          8,
          9,
          10,
          11,
          12,
          13,
          7,
          8,
          9,
          10,
          14,
          15,
          16,
          7,
          8,
          9,
          10,
          7,
          8,
          9,
          10,
          7,
          8,
          9,
          10,
          11,
          12,
          13,
          7,
          8,
          9,
          10,
          14,
          15,
          16,
          7,
          8,
          9,
          10,
          7,
          8,
          9,
          10,
          7,
          8,
          9,
          10,
          7,
          8,
          9,
          10,
          11,
          12,
          13,
          7,
          8,
          9,
          10,
          14,
          15,
          16,
          7,
          8,
          9,
          10,
          7,
          8,
          9,
          10,
          7,
          8,
          9,
          10,
          7,
          8,
          9,
          10,
          11,
          12,
          13,
          7,
          8,
          9,
          10,
          14,
          15,
          16,
          7,
          8,
          9,
          10,
          7,
          8,
          9,
          10,
          7,
          8,
          9,
          10,
          11,
          12,
          13,
          7,
          8,
          9,
          10,
          14,
          15,
          16,
          7,
          8,
          9,
          10,
          7,
          8,
          9,
          10,
          7,
          8,
          9,
          10,
          7,
          8,
          9,
          10,
          11,
          12,
          13,
          7,
          8,
          9,
          10,
          14,
          15,
          16,
          7,
          8,
          9,
          10,
          7,
          8,
          9,
          10,
          7,
          8,
          9,
          10,
          7,
          8,
          9,
          10,
          11,
          12,
          13,
          7,
          8,
          9,
          10,
          14,
          15,
          16,
          7,
          8,
          9,
          10,
          7,
          8,
          9,
          10,
          7,
          8,
          9,
          10,
          11,
          12,
          13,
          7,
          8,
          9,
          10,
          14,
          15,
          16,
          7,
          8,
          9,
          10,
          7,
          8,
          9,
          10,
          7,
          8,
          9,
          10,
          7,
          8,
          9,
          10,
          11,
          12,
          13,
          7,
          8,
          9,
          10,
          14,
          15,
          16,
          7,
          8,
          9,
          10,
          7,
          8,
          9,
          10,
          7,
          8,
          9,
          10,
          7,
          8,
          9,
          10,
          11,
          12,
          13,
          7,
          8,
          9,
          10,
          14,
          15,
          16,
          7,
          8,
          9,
          10,
          7,
          8,
          9,
          10,
          7,
          8,
          9,
          10,
          11,
          12,
          13,
          7,
          8,
          9,
          10,
          14,
          15,
          16,
          7,
          8,
          9,
          10,
          7,
          8,
          9,
          10,
          7,
          8,
          9,
          10,
          7,
          8,
          9,
          10,
          11,
          12,
          13,
          7,
          8,
          9,
          10,
          14,
          15,
          16,
          7,
          8,
          9,
          10,
          7,
          8,
          9,
          10,
          7,
          8,
          9,
          10,
          7,
          8,
          9,
          10,
          11,
          12,
          13,
          7,
          8,
          9,
          10,
          14,
          15,
          16,
          7,
          8,
          9,
          10,
          7,
          8,
          9,
          10,
          7,
          8,
          9,
          10,
          11,
          12,
          13,
          7,
          8,
          9,
          10,
          14,
          15,
          16,
          7,
          8,
          9,
          10,
          7,
          8,
          9,
          10,
          7,
          8,
          9,
          10,
          7,
          8,
          9,
          10,
          11,
          12,
          13,
          7,
          8,
          9,
          10,
          7,
          8,
          9,
          10,
          7,
          8,
          9,
          10,
          7,
          8,
          9,
          10,
          7,
          8,
          9,
          10,
          11,
          12,
          13,
          7,
          8,
          9,
          10,
          7,
          8,
          9,
          10,
          7,
          8,
          9,
          10,
          7,
          8,
          9,
          10,
          7,
          8,
          9,
          10,
          11,
          12,
          13,
          7,
          8,
          9,
          10,
          7,
          8,
          9,
          10,
          7,
          8,
          9,
          10,
          7,
          8,
          9,
          10,
          11,
          12,
          13,
          7,
          8,
          9,
          10,
          7,
          8,
          9,
          10,
          7,
          8,
          9,
          10,
          7,
          8,
          9,
          10,
          7,
          8,
          9,
          10,
          11,
          12,
          13,
          7,
          8,
          9,
          7,
          8,
          9,
          10,
          7,
          8,
          9,
          10,
          11,
          12,
          13,
          7,
          8,
          9,
          10,
          7,
          8,
          9,
          10,
          7,
          8,
          9,
          10,
          7,
          8,
          9,
          10,
          7,
          8,
          9,
          10,
          11,
          12,
          13,
          7,
          8,
          9,
          10,
          7,
          8,
          9,
          10,
          7,
          8,
          9,
          10,
          7,
          8,
          9,
          10,
          7,
          8,
          9,
          10,
          11,
          12,
          13,
          7,
          8,
          9,
          10,
          7,
          8,
          9,
          10,
          7,
          8,
          9,
          10,
          7,
          8,
          9,
          10,
          7,
          8,
          9,
          10,
          11,
          12,
          13,
          7,
          8,
          9,
          10,
          7,
          8,
          9,
          10,
          7,
          8,
          9,
          10,
          7,
          8,
          9,
          10,
          11,
          12,
          13,
          7,
          8,
          9,
          10,
          7,
          8,
          9,
          10,
          7,
          8,
          9,
          10,
          7,
          8,
          9,
          10,
          7,
          8,
          9,
          10,
          11,
          12,
          13,
          7,
          8,
          9,
          10,
          7,
          8,
          9,
          10,
          7,
          8,
          9,
          10,
          7,
          8,
          9,
          10,
          7,
          8,
          9,
          10,
          11,
          12,
          13,
          7,
          8,
          9,
          10,
          7,
          8,
          9,
          10,
          7,
          8,
          9,
          10,
          7,
          8,
          9,
          10,
          11,
          12,
          13,
          7,
          8,
          9,
          10,
          7,
          8,
          9,
          10,
          7,
          8,
          9,
          10,
          7,
          8,
          9,
          10,
          7,
          8,
          9,
          10,
          11,
          12,
          13,
          7,
          8,
          9,
          10,
          7,
          8,
          9,
          10,
          7,
          8,
          9,
          10,
          7,
          8,
          9,
          10,
          7,
          8,
          9,
          10,
          11,
          12,
          13,
          7,
          8,
          9,
          10,
          7,
          8,
          9,
          10,
          7,
          8,
          9,
          10,
          7,
          8,
          9,
          10,
          7,
          8,
          9,
          10,
          11,
          12,
          13,
          7,
          8,
          9,
          10,
          7,
          8,
          9,
          10,
          7,
          8,
          9,
          10,
          7,
          8,
          9,
          10,
          11,
          12,
          13,
          7,
          8,
          9,
          10,
          7,
          8,
          9,
          10,
          7,
          8,
          9,
          10,
          7,
          8,
          9,
          10,
          7,
          8,
          9,
          10,
          11,
          12,
          13,
          7,
          8,
          9,
          10,
          7,
          8,
          9,
          10,
          7,
          8,
          9,
          10,
          7,
          8,
          9,
          10,
          7,
          8,
          9,
          10,
          11,
          12,
          13,
          7,
          8,
          9,
          10,
          7,
          8,
          9,
          10,
          7,
          8,
          9,
          10,
          7,
          8,
          9,
          10,
          7,
          8,
          9,
          10,
          11,
          12,
          13,
          7,
          8,
          9,
          10,
          7,
          8,
          9,
          10,
          7,
          8,
          9,
          10,
          7,
          8,
          9,
          10,
          11,
          12,
          13,
          7,
          8,
          9,
          10,
          14,
          15,
          16,
          7,
          8,
          9,
          10,
          7,
          8,
          9,
          10,
          7,
          8,
          9,
          10,
          7,
          8,
          9,
          10,
          11,
          12,
          13,
          7,
          8,
          9,
          10,
          14,
          15,
          16,
          7,
          8,
          9,
          10,
          7,
          8,
          9,
          10,
          7,
          8,
          9,
          10,
          7,
          8,
          9,
          10,
          11,
          12,
          13,
          7,
          8,
          9,
          10,
          14,
          15,
          16,
          7,
          8,
          9,
          10,
          7,
          8,
          9,
          10,
          7,
          8,
          9,
          10,
          11,
          12,
          13,
          7,
          8,
          9,
          10,
          14,
          15,
          16,
          7,
          8,
          9,
          10,
          7,
          8,
          9,
          10,
          7,
          8,
          9,
          10,
          7,
          8,
          9,
          10,
          11,
          12,
          13,
          7,
          8,
          9,
          10,
          14,
          15,
          16,
          7,
          8,
          9,
          10,
          7,
          8,
          9,
          10,
          7,
          8,
          9,
          10,
          7,
          8,
          9,
          10,
          11,
          12,
          13,
          7,
          8,
          9,
          10,
          14,
          15,
          16,
          7,
          8,
          9,
          10,
          7,
          8,
          9,
          10,
          7,
          8,
          9,
          10,
          11,
          12,
          13,
          7,
          8,
          9,
          10,
          14,
          15,
          16,
          7,
          8,
          9,
          10,
          7,
          8,
          9,
          10,
          7,
          8,
          9,
          10,
          7,
          8,
          9,
          10,
          11,
          12,
          13,
          7,
          8,
          9,
          10,
          14,
          15,
          16,
          7,
          8,
          9,
          10,
          7,
          8,
          9,
          10,
          7,
          8,
          9,
          10,
          7,
          8,
          9,
          10,
          11,
          12,
          13,
          7,
          8,
          9,
          10,
          14,
          15,
          16,
          7,
          8,
          9,
          10,
          7,
          8,
          9,
          10,
          7,
          8,
          9,
          10,
          11,
          12,
          13,
          7,
          8,
          9,
          10,
          14,
          15,
          16,
          7,
          8,
          9,
          10,
          7,
          8,
          9,
          10,
          7,
          8,
          9,
          10,
          7,
          8,
          9,
          10,
          11,
          12,
          13,
          7,
          8,
          9,
          10,
          14,
          15,
          16,
          7,
          8,
          9,
          10,
          7,
          8,
          9,
          10,
          7,
          8,
          9,
          10,
          7,
          8,
          9,
          10,
          11,
          12,
          13,
          7,
          8,
          9,
          10,
          14,
          15,
          16,
          7,
          8,
          9,
          10,
          7,
          8,
          9,
          10,
          7,
          8,
          9,
          10,
          11,
          12,
          13,
          7,
          8,
          9,
          10,
          7,
          8,
          9,
          10,
          14,
          15,
          16,
          7,
          8,
          9,
          10,
          7,
          8,
          9,
          10,
          7,
          8,
          9,
          10,
          11,
          12,
          13,
          7,
          8,
          9,
          10,
          14,
          15,
          16,
          7,
          8,
          9,
          10,
          7,
          8,
          9,
          10,
          7,
          8,
          9,
          10,
          7,
          8,
          9,
          10,
          11,
          12,
          13,
          7,
          8,
          9,
          10,
          14,
          15,
          16,
          7,
          8,
          9,
          10,
          7,
          8,
          9,
          10,
          7,
          8,
          9,
          10,
          11,
          12,
          13,
          7,
          8,
          9,
          10,
          7,
          8,
          9,
          10,
          14,
          15,
          16,
          7,
          8,
          9,
          10,
          7,
          8,
          9,
          10,
          7,
          8,
          9,
          10,
          11,
          12,
          13,
          7,
          8,
          9,
          10,
          14,
          15,
          16,
          7,
          8,
          9,
          10,
          7,
          8,
          9,
          10,
          7,
          8,
          9,
          10,
          7,
          8,
          9,
          10,
          11,
          12,
          13,
          7,
          8,
          9,
          10,
          14,
          15,
          16,
          7,
          8,
          9,
          10,
          7,
          8,
          9,
          10,
          7,
          8,
          9,
          10,
          11,
          12,
          13,
          7,
          8,
          9,
          10,
          7,
          8,
          9,
          10,
          14,
          15,
          16,
          7,
          8,
          9,
          10,
          7,
          8,
          9,
          10,
          7,
          8,
          9,
          10,
          11,
          12,
          13,
          7,
          8,
          9,
          10,
          14,
          15,
          16,
          7,
          8,
          9,
          10,
          7,
          8,
          9,
          10,
          7,
          8,
          9,
          10,
          11,
          12,
          13,
          7,
          8,
          9,
          10,
          14,
          15,
          16,
          7,
          8,
          9,
          10,
          7,
          8,
          9,
          10,
          7,
          8,
          9,
          10,
          7,
          8,
          9,
          10,
          11,
          12,
          13,
          7,
          8,
          9,
          10,
          14,
          15,
          16,
          7,
          8,
          9,
          10,
          7,
          8,
          9,
          10,
          7,
          8,
          9,
          10,
          7,
          8,
          9,
          10,
          11,
          12,
          13,
          7,
          8,
          9,
          10,
          14,
          15,
          16,
          7,
          8,
          9,
          10,
          7,
          8,
          9,
          10,
          7,
          8,
          9,
          10,
          11,
          12,
          13,
          7,
          8,
          9,
          10,
          14,
          15,
          16,
          7,
          8,
          9,
          10,
          7,
          8,
          9,
          10,
          7,
          8,
          9,
          10,
          7,
          8,
          9,
          10,
          11,
          12,
          13,
          7,
          8,
          9,
          10,
          14,
          15,
          16,
          7,
          8,
          9,
          10,
          7,
          8,
          9,
          10,
          7,
          8,
          9,
          10,
          7,
          8,
          9,
          10,
          11,
          12,
          13,
          7,
          8,
          9,
          10,
          14,
          15,
          16,
          7,
          8,
          9,
          10,
          7,
          8,
          9,
          10,
          7,
          8,
          9,
          10,
          11,
          12,
          13,
          7,
          8,
          9,
          10,
          14,
          15,
          16,
          7,
          8,
          9,
          10,
          7,
          8,
          9,
          10,
          7,
          8,
          9,
          10,
          7,
          8,
          9,
          10,
          11,
          12,
          13,
          7,
          8,
          9,
          10,
          14,
          15,
          16,
          7,
          8,
          9,
          10,
          7,
          8,
          9,
          10,
          7,
          8,
          9,
          10,
          7,
          8,
          9,
          10,
          11,
          12,
          13,
          7,
          8,
          9,
          10,
          14,
          15,
          16,
          7,
          8,
          9,
          10,
          7,
          8,
          9,
          10,
          7,
          8,
          9,
          10,
          11,
          12,
          13,
          7,
          8,
          9,
          10,
          14,
          15,
          16,
          7,
          8,
          9,
          10,
          7,
          8,
          9,
          10,
          7,
          8,
          9,
          10,
          7,
          8,
          9,
          10,
          11,
          12,
          13,
          7,
          8,
          9,
          10,
          14,
          15,
          16,
          7,
          8,
          9,
          10,
          7,
          8,
          9,
          10,
          7,
          8,
          9,
          10,
          7,
          8,
          9,
          10,
          11,
          12,
          13,
          7,
          8,
          9,
          10,
          14,
          15,
          16,
          7,
          8,
          9,
          10,
          7,
          8,
          9,
          10,
          7,
          8,
          9,
          10,
          11,
          12,
          13,
          7,
          8,
          9,
          10,
          14,
          15,
          16,
          7,
          8,
          9,
          10,
          7,
          8,
          9,
          10,
          7,
          8,
          9,
          10,
          7,
          8,
          9,
          10,
          11,
          12,
          13,
          7,
          8,
          9,
          10,
          14,
          15,
          16,
          7,
          8,
          9,
          10,
          7,
          8,
          9,
          10,
          7,
          8,
          9,
          10,
          7,
          8,
          9,
          10,
          11,
          12,
          13,
          7,
          8,
          9,
          10,
          7,
          8,
          9,
          10,
          7,
          8,
          9,
          10,
          7,
          8,
          9,
          10,
          11,
          12,
          13,
          7,
          8,
          9,
          10,
          7,
          8,
          9,
          10,
          7,
          8,
          9,
          10,
          7,
          8,
          9,
          10,
          7,
          8,
          9,
          10,
          11,
          12,
          13,
          7,
          8,
          9,
          10,
          7,
          8,
          9,
          10,
          7,
          8,
          9,
          10,
          7,
          8,
          9,
          10,
          7,
          8,
          9,
          10,
          11,
          12,
          13,
          7,
          8,
          9,
          10,
          7,
          8,
          9,
          10,
          7,
          8,
          9,
          10,
          7,
          8,
          9,
          10,
          7,
          8,
          9,
          10,
          11,
          12,
          13,
          7,
          8,
          9,
          10,
          7,
          8,
          9,
          10,
          7,
          8,
          9,
          10,
          7,
          8,
          9,
          10,
          11,
          12,
          13,
          7,
          8,
          9,
          10,
          7,
          8,
          9,
          10,
          7,
          8,
          9,
          10,
          7,
          8,
          9,
          10,
          7,
          8,
          9,
          10,
          11,
          12,
          13,
          7,
          8,
          9,
          10,
          7,
          8,
          9,
          10,
          7,
          8,
          9,
          10,
          7,
          8,
          9,
          10,
          7,
          8,
          9,
          10,
          11,
          12,
          13,
          7,
          8,
          9,
          10,
          7,
          8,
          9,
          10,
          7,
          8,
          9,
          10,
          7,
          8,
          9,
          10,
          7,
          8,
          9,
          10,
          11,
          12,
          13,
          7,
          8,
          9,
          10,
          7,
          8,
          9,
          10,
          7,
          8,
          9,
          10,
          7,
          8,
          9,
          10,
          11,
          12,
          13,
          7,
          8,
          9,
          10,
          7,
          8,
          9,
          10,
          7,
          8,
          9,
          10,
          7,
          8,
          9,
          10,
          7,
          8,
          9,
          10,
          11,
          12,
          13,
          7,
          8,
          9,
          10,
          7,
          8,
          9,
          10,
          7,
          8,
          9,
          10,
          7,
          8,
          9,
          10,
          7,
          8,
          9,
          10,
          11,
          12,
          13,
          7,
          8,
          9,
          10,
          14,
          15,
          16,
          7,
          8,
          9,
          10,
          7,
          8,
          9,
          10,
          7,
          8,
          9,
          10,
          11,
          12,
          13,
          7,
          8,
          9,
          10,
          7,
          8,
          9,
          10,
          14,
          15,
          16,
          7,
          8,
          9,
          10,
          7,
          8,
          9,
          10,
          7,
          8,
          9,
          10,
          11,
          12,
          13,
          7,
          8,
          9,
          10,
          7,
          8,
          9,
          10,
          7,
          8,
          9,
          10,
          7,
          8,
          9,
          10,
          7,
          8,
          9,
          10,
          11,
          12,
          13,
          7,
          8,
          9,
          10,
          14,
          15,
          16,
          7,
          8,
          9,
          10,
          7,
          8,
          9,
          10,
          7,
          8,
          9,
          10,
          11,
          12,
          13,
          7,
          8,
          9,
          10,
          14,
          15,
          16,
          7,
          8,
          9,
          10,
          7,
          8,
          9,
          10,
          7,
          8,
          9,
          10,
          7,
          8,
          9,
          10,
          11,
          12,
          13,
          7,
          8,
          9,
          10,
          14,
          15,
          16,
          7,
          8,
          9,
          10,
          7,
          8,
          9,
          10,
          7,
          8,
          9,
          10,
          7,
          8,
          9,
          10,
          11,
          12,
          13,
          7,
          8,
          9,
          10,
          14,
          15,
          16,
          7,
          8,
          9,
          10,
          7,
          8,
          9,
          10,
          7,
          8,
          9,
          10,
          11,
          12,
          13,
          7,
          8,
          9,
          10,
          14,
          15,
          16,
          7,
          8,
          9,
          10,
          7,
          8,
          9,
          10,
          7,
          8,
          9,
          10,
          7,
          8,
          9,
          10,
          11,
          12,
          13,
          7,
          8,
          9,
          10,
          14,
          15,
          16,
          7,
          8,
          9,
          10,
          7,
          8,
          9,
          10,
          7,
          8,
          9,
          10,
          7,
          8,
          9,
          10,
          11,
          12,
          13,
          7,
          8,
          9,
          10,
          14,
          15,
          16,
          7,
          8,
          9,
          10,
          7,
          8,
          9,
          10,
          7,
          8,
          9,
          10,
          11,
          12,
          13,
          7,
          8,
          9,
          10,
          14,
          15,
          16,
          7,
          8,
          9,
          10,
          7,
          8,
          9,
          10,
          7,
          8,
          9,
          10,
          7,
          8,
          9,
          10,
          11,
          12,
          13,
          7,
          8,
          9,
          10,
          14,
          15,
          16,
          7,
          8,
          9,
          10,
          7,
          8,
          9,
          10,
          7,
          8,
          9,
          10,
          7,
          8,
          9,
          10,
          11,
          12,
          13,
          7,
          8,
          9,
          10,
          14,
          15,
          16,
          7,
          8,
          9,
          10,
          7,
          8,
          9,
          10,
          7,
          8,
          9,
          10,
          11,
          12,
          13,
          7,
          8,
          9,
          10,
          14,
          15,
          16,
          7,
          8,
          9,
          10,
          7,
          8,
          9,
          10,
          7,
          8,
          9,
          10,
          7,
          8,
          9,
          10,
          11,
          12,
          13,
          7,
          8,
          9,
          10,
          14,
          15,
          16,
          7,
          8,
          9,
          10,
          7,
          8,
          9,
          10,
          7,
          8,
          9,
          10,
          11,
          12,
          13,
          7,
          8,
          9,
          10,
          14,
          15,
          16,
          7,
          8,
          9,
          10,
          7,
          8,
          9,
          10,
          7,
          8,
          9,
          10,
          7,
          8,
          9,
          10,
          11,
          12,
          13,
          7,
          8,
          9,
          10,
          7,
          8,
          9,
          10,
          7,
          8,
          9,
          10,
          7,
          8,
          9,
          10,
          7,
          8,
          9,
          10,
          11,
          12,
          13,
          7,
          8,
          9,
          10,
          7,
          8,
          9,
          10,
          7,
          8,
          9,
          10,
          7,
          8,
          9,
          10,
          7,
          8,
          9,
          10,
          11,
          12,
          13,
          7,
          8,
          9,
          10,
          7,
          8,
          9,
          10,
          7,
          8,
          9,
          10,
          7,
          8,
          9,
          10,
          11,
          12,
          13,
          7,
          8,
          9,
          10,
          7,
          8,
          9,
          10,
          7,
          8,
          9,
          10,
          7,
          8,
          9,
          10,
          7,
          8,
          9,
          10,
          11,
          12,
          13,
          7,
          8,
          9,
          10,
          7,
          8,
          9,
          10,
          7,
          8,
          9,
          10,
          7,
          8,
          9,
          10,
          7,
          8,
          9,
          10,
          11,
          12,
          13,
          7,
          8,
          9,
          10,
          7,
          8,
          9,
          10,
          7,
          8,
          9,
          10,
          7,
          8,
          9,
          10,
          11,
          12,
          13,
          7,
          8,
          9,
          10,
          7,
          8,
          9,
          10,
          7,
          8,
          9,
          10,
          7,
          8,
          9,
          10,
          7,
          8,
          9,
          10,
          11,
          12,
          13,
          7,
          8,
          9,
          10,
          7,
          8,
          9,
          10,
          7,
          8,
          9,
          10,
          7,
          8,
          9,
          10,
          7,
          8,
          9,
          10,
          11,
          12,
          13,
          7,
          8,
          9,
          10,
          7,
          8,
          9,
          10,
          7,
          8,
          9,
          10,
          7,
          8,
          9,
          10,
          7,
          8,
          9,
          10,
          11,
          12,
          13,
          7,
          8,
          9,
          10,
          7,
          8,
          9,
          10,
          7,
          8,
          9,
          10,
          7,
          8,
          9,
          10,
          11,
          12,
          13,
          7,
          8,
          9,
          10,
          7,
          8,
          9,
          10,
          7,
          8,
          9,
          10,
          7,
          8,
          9,
          10,
          7,
          8,
          9,
          10,
          11,
          12,
          13,
          7,
          8,
          9,
          10,
          7,
          8,
          9,
          10,
          14,
          15,
          16,
          7,
          8,
          9,
          10,
          7,
          8,
          9,
          10,
          7,
          8,
          9,
          10,
          11,
          12,
          13,
          7,
          8,
          9,
          10,
          14,
          15,
          16,
          7,
          8,
          9,
          10,
          7,
          8,
          9,
          10,
          7,
          8,
          9,
          10,
          11,
          12,
          13,
          7,
          8,
          9,
          10,
          14,
          15,
          16,
          7,
          8,
          9,
          10,
          7,
          8,
          9,
          10,
          7,
          8,
          9,
          10,
          7,
          8,
          9,
          10,
          11,
          12,
          13,
          7,
          8,
          9,
          10,
          14,
          15,
          16,
          7,
          8,
          9,
          10,
          7,
          8,
          9,
          10,
          7,
          8,
          9,
          10,
          7,
          8,
          9,
          10,
          11,
          12,
          13,
          7,
          8,
          9,
          10,
          14,
          15,
          16,
          7,
          8,
          9,
          10,
          7,
          8,
          9,
          10,
          7,
          8,
          9,
          10,
          11,
          12,
          13,
          7,
          8,
          9,
          10,
          14,
          15,
          16,
          7,
          8,
          9,
          10,
          7,
          8,
          9,
          10,
          7,
          8,
          9,
          10,
          7,
          8,
          9,
          10,
          11,
          12,
          13,
          7,
          8,
          9,
          10,
          14,
          15,
          16,
          7,
          8,
          9,
          10,
          7,
          8,
          9,
          10,
          7,
          8,
          9,
          10,
          7,
          8,
          9,
          10,
          11,
          12,
          13,
          7,
          8,
          9,
          10,
          14,
          15,
          16,
          7,
          8,
          9,
          10,
          7,
          8,
          9,
          10,
          7,
          8,
          9,
          10,
          11,
          12,
          13,
          7,
          8,
          9,
          10,
          14,
          15,
          16,
          7,
          8,
          9,
          10,
          7,
          8,
          9,
          10,
          7,
          8,
          9,
          10,
          7,
          8,
          9,
          10,
          11,
          12,
          13,
          7,
          8,
          9,
          10,
          14,
          15,
          16,
          7,
          8,
          9,
          10,
          7,
          8,
          9,
          10,
          7,
          8,
          9,
          10,
          11,
          12,
          13,
          7,
          8,
          9,
          10,
          14,
          15,
          16,
          7,
          8,
          9,
          10,
          7,
          8,
          9,
          10,
          7,
          8,
          9,
          10,
          7,
          8,
          9,
          10,
          11,
          12,
          13,
          7,
          8,
          9,
          10,
          14,
          15,
          16,
          7,
          8,
          9,
          10,
          7,
          8,
          9,
          10,
          7,
          8,
          9,
          10,
          7,
          8,
          9,
          10,
          11,
          12,
          13,
          7,
          8,
          9,
          10,
          14,
          15,
          16,
          7,
          8,
          9,
          10,
          7,
          8,
          9,
          10,
          7,
          8,
          9,
          10,
          11,
          12,
          13,
          7,
          8,
          9,
          10,
          14,
          15,
          16,
          7,
          8,
          9,
          10,
          7,
          8,
          9,
          10,
          7,
          8,
          9,
          10,
          7,
          8,
          9,
          10,
          11,
          12,
          13,
          7,
          8,
          9,
          10,
          7,
          8,
          9,
          10,
          7,
          8,
          9,
          10,
          7,
          8,
          9,
          10,
          7,
          8,
          9,
          10,
          11,
          12,
          13,
          7,
          8,
          9,
          10,
          7,
          8,
          9,
          10,
          7,
          8,
          9,
          10,
          7,
          8,
          9,
          10,
          11,
          12,
          13,
          7,
          8,
          9,
          10,
          7,
          8,
          9,
          10,
          7,
          8,
          9,
          10,
          7,
          8,
          9,
          10,
          7,
          8,
          9,
          10,
          11,
          12,
          13,
          7,
          8,
          9,
          10,
          7,
          8,
          9,
          10,
          7,
          8,
          9,
          10,
          7,
          8,
          9,
          10,
          7,
          8,
          9,
          10,
          11,
          12,
          13,
          7,
          8,
          9,
          10,
          7,
          8,
          9,
          10,
          7,
          8,
          9,
          10,
          7,
          8,
          9,
          10,
          7,
          8,
          9,
          10,
          11,
          12,
          13,
          7,
          8,
          9,
          10,
          7,
          8,
          9,
          10,
          7,
          8,
          9,
          10,
          7,
          8,
          9,
          10,
          11,
          12,
          13,
          7,
          8,
          9,
          10,
          7,
          8,
          9,
          10,
          7,
          8,
          9,
          10,
          7,
          8,
          9,
          10,
          7,
          8,
          9,
          10,
          11,
          12,
          13,
          7,
          8,
          9,
          10,
          14,
          15,
          16,
          7,
          8,
          9,
          10,
          7,
          8,
          9,
          10,
          7,
          8,
          9,
          10,
          7,
          8,
          9,
          10,
          11,
          12,
          13,
          7,
          8,
          9,
          10,
          14,
          15,
          16,
          7,
          8,
          9,
          10,
          7,
          8,
          9,
          10,
          7,
          8,
          9,
          10,
          11,
          12,
          13,
          7,
          8,
          9,
          10,
          14,
          15,
          16,
          7,
          8,
          9,
          10,
          7,
          8,
          9,
          10,
          7,
          8,
          9,
          10,
          7,
          8,
          9,
          10,
          11,
          12,
          13,
          7,
          8,
          9,
          10,
          7,
          8,
          9,
          10,
          14,
          15,
          16,
          7,
          8,
          9,
          10,
          7,
          8,
          9,
          10,
          7,
          8,
          9,
          10,
          11,
          12,
          13,
          7,
          8,
          9,
          10,
          14,
          15,
          16,
          7,
          8,
          9,
          10,
          7,
          8,
          9,
          10,
          7,
          8,
          9,
          10,
          11,
          12,
          13,
          7,
          8,
          9,
          10,
          14,
          15,
          16,
          7,
          8,
          9,
          10,
          7,
          8,
          9,
          10,
          7,
          8,
          9,
          10,
          7,
          8,
          9,
          10,
          11,
          12,
          13,
          7,
          8,
          9,
          10,
          14,
          15,
          16,
          7,
          8,
          9,
          10,
          7,
          8,
          9,
          10,
          7,
          8,
          9,
          10,
          7,
          8,
          9,
          10,
          11,
          12,
          13,
          7,
          8,
          9,
          10,
          14,
          15,
          16,
          7,
          8,
          9,
          10,
          7,
          8,
          9,
          10,
          7,
          8,
          9,
          10,
          11,
          12,
          13,
          7,
          8,
          9,
          10,
          14,
          15,
          16,
          7,
          8,
          9,
          10,
          7,
          8,
          9,
          10,
          7,
          8,
          9,
          10,
          7,
          8,
          9,
          10,
          11,
          12,
          13,
          7,
          8,
          9,
          10,
          14,
          15,
          16,
          7,
          8,
          9,
          10,
          7,
          8,
          9,
          10,
          7,
          8,
          9,
          10,
          11,
          12,
          13,
          7,
          8,
          9,
          10,
          14,
          15,
          16,
          7,
          8,
          9,
          10,
          7,
          8,
          9,
          10,
          7,
          8,
          9,
          10,
          7,
          8,
          9,
          10,
          11,
          12,
          13,
          7,
          8,
          9,
          10,
          7,
          8,
          9,
          10,
          7,
          8,
          9,
          10,
          7,
          8,
          9,
          10,
          7,
          8,
          9,
          10,
          11,
          12,
          13,
          7,
          8,
          9,
          10,
          7,
          8,
          9,
          10,
          7,
          8,
          9,
          10,
          7,
          8,
          9,
          10,
          7,
          8,
          9,
          10,
          11,
          12,
          13,
          7,
          8,
          9,
          10,
          7,
          8,
          9,
          10,
          7,
          8,
          9,
          10,
          7,
          8,
          9,
          10,
          11,
          12,
          13,
          7,
          8,
          9,
          10,
          7,
          8,
          9,
          10,
          7,
          8,
          9,
          10,
          7,
          8,
          9,
          10,
          7,
          8,
          9,
          10,
          11,
          12,
          13,
          7,
          8,
          9,
          10,
          7,
          8,
          9,
          10,
          7,
          8,
          9,
          10,
          7,
          8,
          9,
          10,
          7,
          8,
          9,
          10,
          11,
          12,
          13,
          7,
          8,
          9,
          10,
          7,
          8,
          9,
          10,
          7,
          8,
          9,
          10,
          7,
          8,
          9,
          10,
          11,
          12,
          13,
          7,
          8,
          9,
          10,
          7,
          8,
          9,
          10,
          7,
          8,
          9,
          10,
          7,
          8,
          9,
          10,
          7,
          8,
          9,
          10,
          11,
          12,
          13,
          7,
          8,
          9,
          10,
          7,
          8,
          9,
          10,
          7,
          8,
          9,
          10,
          7,
          8,
          9,
          10,
          7,
          8,
          9,
          10,
          11,
          12,
          13,
          7,
          8,
          9,
          10,
          7,
          8,
          9,
          10,
          7,
          8,
          9,
          10,
          7,
          8,
          9,
          10,
          7,
          8,
          9,
          10,
          11,
          12,
          13,
          7,
          8,
          9,
          10,
          14,
          15,
          16,
          7,
          8,
          9,
          10,
          7,
          8,
          9,
          10,
          7,
          8,
          9,
          10,
          11,
          12,
          13,
          7,
          8,
          9,
          10,
          14,
          15,
          16,
          7,
          8,
          9,
          10,
          7,
          8,
          9,
          10,
          7,
          8,
          9,
          10,
          7,
          8,
          9,
          10,
          11,
          12,
          13,
          7,
          8,
          9,
          10,
          14,
          15,
          16,
          7,
          8,
          9,
          10,
          7,
          8,
          9,
          10,
          7,
          8,
          9,
          10,
          11,
          12,
          13,
          7,
          8,
          9,
          10,
          14,
          15,
          16,
          7,
          8,
          9,
          10,
          7,
          8,
          9,
          10,
          7,
          8,
          9,
          10,
          7,
          8,
          9,
          10,
          11,
          12,
          13,
          7,
          8,
          9,
          10,
          14,
          15,
          16,
          7,
          8,
          9,
          10,
          7,
          8,
          9,
          10,
          7,
          8,
          9,
          10,
          7,
          8,
          9,
          10,
          11,
          12,
          13,
          7,
          8,
          9,
          10,
          14,
          15,
          16,
          7,
          8,
          9,
          10,
          7,
          8,
          9,
          10,
          7,
          8,
          9,
          10,
          11,
          12,
          13,
          7,
          8,
          9,
          10,
          14,
          15,
          16,
          7,
          8,
          9,
          10,
          7,
          8,
          9,
          10,
          7,
          8,
          9,
          10,
          7,
          8,
          9,
          10,
          11,
          12,
          13,
          7,
          8,
          9,
          10,
          14,
          15,
          16,
          7,
          8,
          9,
          10,
          7,
          8,
          9,
          10,
          7,
          8,
          9,
          10,
          7,
          8,
          9,
          10,
          11,
          12,
          13,
          7,
          8,
          9,
          10,
          14,
          15,
          16,
          7,
          8,
          9,
          10,
          7,
          8,
          9,
          10,
          7,
          8,
          9,
          10,
          11,
          12,
          13,
          7,
          8,
          9,
          10,
          14,
          15,
          16,
          7,
          8,
          9,
          10,
          7,
          8,
          9,
          10,
          7,
          8,
          9,
          10,
          7,
          8,
          9,
          10,
          11,
          12,
          13,
          7,
          8,
          9,
          10,
          14,
          15,
          16,
          7,
          8,
          9,
          10,
          7,
          8,
          9,
          10,
          7,
          8,
          9,
          10,
          11,
          12,
          13,
          7,
          8,
          9,
          10,
          14,
          15,
          16,
          7,
          8,
          9,
          10,
          7,
          8,
          9,
          10,
          7,
          8,
          9,
          10,
          7,
          8,
          9,
          10,
          11,
          12,
          13,
          7,
          8,
          9,
          10,
          14,
          15,
          16,
          7,
          8,
          9,
          10,
          7,
          8,
          9,
          10,
          7,
          8,
          9,
          10,
          7,
          8,
          9,
          10,
          11,
          12,
          13,
          7,
          8,
          9,
          10,
          7,
          8,
          9,
          10,
          7,
          8,
          9,
          10,
          7,
          8,
          9,
          10,
          11,
          12,
          13,
          7,
          8,
          9,
          10,
          7,
          8,
          9,
          10,
          7,
          8,
          9,
          10,
          7,
          8,
          9,
          10,
          7,
          8,
          9,
          10,
          11,
          12,
          13,
          7,
          8,
          9,
          10,
          7,
          8,
          9,
          10,
          7,
          8,
          9,
          10,
          7,
          8,
          9,
          10,
          7,
          8,
          9,
          10,
          11,
          12,
          13,
          7,
          8,
          9,
          10,
          7,
          8,
          9,
          10,
          7,
          8,
          9,
          10,
          7,
          8,
          9,
          10,
          7,
          8,
          9,
          10,
          11,
          12,
          13,
          7,
          8,
          9,
          10,
          7,
          8,
          9,
          10,
          7,
          8,
          9,
          10,
          7,
          8,
          9,
          10,
          11,
          12,
          13,
          7,
          8,
          9,
          10,
          7,
          8,
          9,
          10,
          7,
          8,
          9,
          10,
          7,
          8,
          9,
          10,
          7,
          8,
          9,
          10,
          11,
          12,
          13,
          7,
          8,
          9,
          10,
          14,
          15,
          16,
          7,
          8,
          9,
          10,
          7,
          8,
          9,
          10,
          7,
          8,
          9,
          10,
          7,
          8,
          9,
          10,
          11,
          12,
          13,
          7,
          8,
          9,
          10,
          14,
          15,
          16,
          7,
          8,
          9,
          10,
          7,
          8,
          9,
          10,
          7,
          8,
          9,
          10,
          11,
          12,
          13,
          7,
          8,
          9,
          10,
          14,
          15,
          16,
          7,
          8,
          9,
          10,
          7,
          8,
          9,
          10,
          7,
          8,
          9,
          10,
          7,
          8,
          9,
          10,
          11,
          12,
          13,
          7,
          8,
          9,
          10,
          7,
          8,
          9,
          10,
          7,
          8,
          9,
          10,
          7,
          8,
          9,
          10,
          7,
          8,
          9,
          10,
          11,
          12,
          13,
          7,
          8,
          9,
          10,
          7,
          8,
          9,
          10,
          7,
          8,
          9,
          10,
          7,
          8,
          9,
          10,
          11,
          12,
          13,
          7,
          8,
          9,
          10,
          7,
          8,
          9,
          10,
          7,
          8,
          9,
          10,
          7,
          8,
          9,
          10,
          7,
          8,
          9,
          10,
          11,
          12,
          13,
          7,
          8,
          9,
          10,
          7,
          8,
          9,
          10,
          7,
          8,
          9,
          10,
          7,
          8,
          9,
          10,
          7,
          8,
          9,
          10,
          11,
          12,
          13,
          7,
          8,
          9,
          10,
          14,
          15,
          16,
          7,
          8,
          9,
          10,
          7,
          8,
          9,
          10,
          7,
          8,
          9,
          10,
          11,
          12,
          13,
          7,
          8,
          9,
          10,
          14,
          15,
          16,
          7,
          8,
          9,
          10,
          7,
          8,
          9,
          10,
          7,
          8,
          9,
          10,
          7,
          8,
          9,
          10,
          11,
          12,
          13,
          7,
          8,
          9,
          10,
          14,
          15,
          16,
          7,
          8,
          9,
          10,
          7,
          8,
          9,
          10,
          7,
          8,
          9,
          10,
          7,
          8,
          9,
          10,
          11,
          12,
          13,
          7,
          8,
          9,
          10,
          14,
          15,
          16,
          7,
          8,
          9,
          10,
          7,
          8,
          9,
          10,
          7,
          8,
          9,
          10,
          11,
          12,
          13,
          7,
          8,
          9,
          10,
          14,
          15,
          16,
          7,
          8,
          9,
          10,
          7,
          8,
          9,
          10,
          7,
          8,
          9,
          10,
          7,
          8,
          9,
          10,
          11,
          12,
          13,
          7,
          8,
          9,
          10,
          14,
          15,
          16,
          7,
          8,
          9,
          10,
          7,
          8,
          9,
          10,
          7
         ]
        },
        {
         "line": {
          "width": 0.5
         },
         "marker": {
          "color": "red",
          "size": 8
         },
         "mode": "lines+markers",
         "name": "trace1-comm-anomalies",
         "showlegend": true,
         "type": "scatter",
         "x": [
          1555
         ],
         "y": [
          14
         ]
        },
        {
         "line": {
          "width": 0.5
         },
         "marker": {
          "color": "red",
          "size": 8
         },
         "mode": "lines+markers",
         "name": "trace1-comm-anomalies",
         "showlegend": true,
         "type": "scatter",
         "x": [
          1556
         ],
         "y": [
          15
         ]
        },
        {
         "line": {
          "width": 0.5
         },
         "marker": {
          "color": "red",
          "size": 8
         },
         "mode": "lines+markers",
         "name": "trace1-comm-anomalies",
         "showlegend": true,
         "type": "scatter",
         "x": [
          1557
         ],
         "y": [
          16
         ]
        },
        {
         "line": {
          "width": 0.5
         },
         "marker": {
          "color": "red",
          "size": 8
         },
         "mode": "lines+markers",
         "name": "trace1-comm-anomalies",
         "showlegend": true,
         "type": "scatter",
         "x": [
          1585
         ],
         "y": [
          14
         ]
        },
        {
         "line": {
          "width": 0.5
         },
         "marker": {
          "color": "red",
          "size": 8
         },
         "mode": "lines+markers",
         "name": "trace1-comm-anomalies",
         "showlegend": true,
         "type": "scatter",
         "x": [
          1586
         ],
         "y": [
          15
         ]
        },
        {
         "line": {
          "width": 0.5
         },
         "marker": {
          "color": "red",
          "size": 8
         },
         "mode": "lines+markers",
         "name": "trace1-comm-anomalies",
         "showlegend": true,
         "type": "scatter",
         "x": [
          1587
         ],
         "y": [
          16
         ]
        },
        {
         "line": {
          "width": 0.5
         },
         "marker": {
          "color": "red",
          "size": 8
         },
         "mode": "lines+markers",
         "name": "trace1-comm-anomalies",
         "showlegend": true,
         "type": "scatter",
         "x": [
          1603
         ],
         "y": [
          14
         ]
        },
        {
         "line": {
          "width": 0.5
         },
         "marker": {
          "color": "red",
          "size": 8
         },
         "mode": "lines+markers",
         "name": "trace1-comm-anomalies",
         "showlegend": true,
         "type": "scatter",
         "x": [
          1604
         ],
         "y": [
          15
         ]
        },
        {
         "line": {
          "width": 0.5
         },
         "marker": {
          "color": "red",
          "size": 8
         },
         "mode": "lines+markers",
         "name": "trace1-comm-anomalies",
         "showlegend": true,
         "type": "scatter",
         "x": [
          1605
         ],
         "y": [
          16
         ]
        },
        {
         "line": {
          "width": 0.5
         },
         "marker": {
          "color": "red",
          "size": 8
         },
         "mode": "lines+markers",
         "name": "trace1-comm-anomalies",
         "showlegend": true,
         "type": "scatter",
         "x": [
          1755
         ],
         "y": [
          14
         ]
        },
        {
         "line": {
          "width": 0.5
         },
         "marker": {
          "color": "red",
          "size": 8
         },
         "mode": "lines+markers",
         "name": "trace1-comm-anomalies",
         "showlegend": true,
         "type": "scatter",
         "x": [
          1756
         ],
         "y": [
          15
         ]
        },
        {
         "line": {
          "width": 0.5
         },
         "marker": {
          "color": "red",
          "size": 8
         },
         "mode": "lines+markers",
         "name": "trace1-comm-anomalies",
         "showlegend": true,
         "type": "scatter",
         "x": [
          1757
         ],
         "y": [
          16
         ]
        },
        {
         "line": {
          "width": 0.5
         },
         "marker": {
          "color": "red",
          "size": 8
         },
         "mode": "lines+markers",
         "name": "trace1-comm-anomalies",
         "showlegend": true,
         "type": "scatter",
         "x": [
          1773
         ],
         "y": [
          10
         ]
        },
        {
         "line": {
          "width": 0.5
         },
         "marker": {
          "color": "red",
          "size": 8
         },
         "mode": "lines+markers",
         "name": "trace1-comm-anomalies",
         "showlegend": true,
         "type": "scatter",
         "x": [
          1777
         ],
         "y": [
          7
         ]
        },
        {
         "line": {
          "width": 0.5
         },
         "marker": {
          "color": "red",
          "size": 8
         },
         "mode": "lines+markers",
         "name": "trace1-comm-anomalies",
         "showlegend": true,
         "type": "scatter",
         "x": [
          1778
         ],
         "y": [
          8
         ]
        },
        {
         "line": {
          "width": 0.5
         },
         "marker": {
          "color": "red",
          "size": 8
         },
         "mode": "lines+markers",
         "name": "trace1-comm-anomalies",
         "showlegend": true,
         "type": "scatter",
         "x": [
          1779
         ],
         "y": [
          9
         ]
        },
        {
         "line": {
          "width": 0.5
         },
         "marker": {
          "color": "red",
          "size": 8
         },
         "mode": "lines+markers",
         "name": "trace1-comm-anomalies",
         "showlegend": true,
         "type": "scatter",
         "x": [
          1780
         ],
         "y": [
          14
         ]
        },
        {
         "line": {
          "width": 0.5
         },
         "marker": {
          "color": "red",
          "size": 8
         },
         "mode": "lines+markers",
         "name": "trace1-comm-anomalies",
         "showlegend": true,
         "type": "scatter",
         "x": [
          1781
         ],
         "y": [
          15
         ]
        },
        {
         "line": {
          "width": 0.5
         },
         "marker": {
          "color": "red",
          "size": 8
         },
         "mode": "lines+markers",
         "name": "trace1-comm-anomalies",
         "showlegend": true,
         "type": "scatter",
         "x": [
          1782
         ],
         "y": [
          16
         ]
        },
        {
         "line": {
          "width": 0.5
         },
         "marker": {
          "color": "red",
          "size": 8
         },
         "mode": "lines+markers",
         "name": "trace1-comm-anomalies",
         "showlegend": true,
         "type": "scatter",
         "x": [
          1783
         ],
         "y": [
          7
         ]
        },
        {
         "line": {
          "width": 0.5
         },
         "marker": {
          "color": "red",
          "size": 8
         },
         "mode": "lines+markers",
         "name": "trace1-comm-anomalies",
         "showlegend": true,
         "type": "scatter",
         "x": [
          1784
         ],
         "y": [
          8
         ]
        },
        {
         "line": {
          "width": 0.5
         },
         "marker": {
          "color": "red",
          "size": 8
         },
         "mode": "lines+markers",
         "name": "trace1-comm-anomalies",
         "showlegend": true,
         "type": "scatter",
         "x": [
          1785
         ],
         "y": [
          9
         ]
        },
        {
         "line": {
          "width": 0.5
         },
         "marker": {
          "color": "red",
          "size": 8
         },
         "mode": "lines+markers",
         "name": "trace1-comm-anomalies",
         "showlegend": true,
         "type": "scatter",
         "x": [
          1786
         ],
         "y": [
          10
         ]
        },
        {
         "line": {
          "width": 0.5
         },
         "marker": {
          "color": "red",
          "size": 8
         },
         "mode": "lines+markers",
         "name": "trace1-comm-anomalies",
         "showlegend": true,
         "type": "scatter",
         "x": [
          1798
         ],
         "y": [
          14
         ]
        },
        {
         "line": {
          "width": 0.5
         },
         "marker": {
          "color": "red",
          "size": 8
         },
         "mode": "lines+markers",
         "name": "trace1-comm-anomalies",
         "showlegend": true,
         "type": "scatter",
         "x": [
          1799
         ],
         "y": [
          15
         ]
        },
        {
         "line": {
          "width": 0.5
         },
         "marker": {
          "color": "red",
          "size": 8
         },
         "mode": "lines+markers",
         "name": "trace1-comm-anomalies",
         "showlegend": true,
         "type": "scatter",
         "x": [
          1800
         ],
         "y": [
          16
         ]
        },
        {
         "line": {
          "width": 0.5
         },
         "marker": {
          "color": "red",
          "size": 8
         },
         "mode": "lines+markers",
         "name": "trace1-comm-anomalies",
         "showlegend": true,
         "type": "scatter",
         "x": [
          2224
         ],
         "y": [
          14
         ]
        },
        {
         "line": {
          "width": 0.5
         },
         "marker": {
          "color": "red",
          "size": 8
         },
         "mode": "lines+markers",
         "name": "trace1-comm-anomalies",
         "showlegend": true,
         "type": "scatter",
         "x": [
          2225
         ],
         "y": [
          15
         ]
        },
        {
         "line": {
          "width": 0.5
         },
         "marker": {
          "color": "red",
          "size": 8
         },
         "mode": "lines+markers",
         "name": "trace1-comm-anomalies",
         "showlegend": true,
         "type": "scatter",
         "x": [
          2226
         ],
         "y": [
          16
         ]
        },
        {
         "line": {
          "width": 0.5
         },
         "marker": {
          "color": "red",
          "size": 8
         },
         "mode": "lines+markers",
         "name": "trace1-comm-anomalies",
         "showlegend": true,
         "type": "scatter",
         "x": [
          2254
         ],
         "y": [
          14
         ]
        },
        {
         "line": {
          "width": 0.5
         },
         "marker": {
          "color": "red",
          "size": 8
         },
         "mode": "lines+markers",
         "name": "trace1-comm-anomalies",
         "showlegend": true,
         "type": "scatter",
         "x": [
          2255
         ],
         "y": [
          15
         ]
        },
        {
         "line": {
          "width": 0.5
         },
         "marker": {
          "color": "red",
          "size": 8
         },
         "mode": "lines+markers",
         "name": "trace1-comm-anomalies",
         "showlegend": true,
         "type": "scatter",
         "x": [
          2256
         ],
         "y": [
          16
         ]
        },
        {
         "line": {
          "width": 0.5
         },
         "marker": {
          "color": "red",
          "size": 8
         },
         "mode": "lines+markers",
         "name": "trace1-comm-anomalies",
         "showlegend": true,
         "type": "scatter",
         "x": [
          2272
         ],
         "y": [
          14
         ]
        },
        {
         "line": {
          "width": 0.5
         },
         "marker": {
          "color": "red",
          "size": 8
         },
         "mode": "lines+markers",
         "name": "trace1-comm-anomalies",
         "showlegend": true,
         "type": "scatter",
         "x": [
          2273
         ],
         "y": [
          15
         ]
        },
        {
         "line": {
          "width": 0.5
         },
         "marker": {
          "color": "red",
          "size": 8
         },
         "mode": "lines+markers",
         "name": "trace1-comm-anomalies",
         "showlegend": true,
         "type": "scatter",
         "x": [
          2274
         ],
         "y": [
          16
         ]
        },
        {
         "line": {
          "width": 0.5
         },
         "marker": {
          "color": "red",
          "size": 8
         },
         "mode": "lines+markers",
         "name": "trace1-comm-anomalies",
         "showlegend": true,
         "type": "scatter",
         "x": [
          2598
         ],
         "y": [
          14
         ]
        },
        {
         "line": {
          "width": 0.5
         },
         "marker": {
          "color": "red",
          "size": 8
         },
         "mode": "lines+markers",
         "name": "trace1-comm-anomalies",
         "showlegend": true,
         "type": "scatter",
         "x": [
          2599
         ],
         "y": [
          15
         ]
        },
        {
         "line": {
          "width": 0.5
         },
         "marker": {
          "color": "red",
          "size": 8
         },
         "mode": "lines+markers",
         "name": "trace1-comm-anomalies",
         "showlegend": true,
         "type": "scatter",
         "x": [
          2600
         ],
         "y": [
          16
         ]
        },
        {
         "line": {
          "width": 0.5
         },
         "marker": {
          "color": "red",
          "size": 8
         },
         "mode": "lines+markers",
         "name": "trace1-comm-anomalies",
         "showlegend": true,
         "type": "scatter",
         "x": [
          2628
         ],
         "y": [
          14
         ]
        },
        {
         "line": {
          "width": 0.5
         },
         "marker": {
          "color": "red",
          "size": 8
         },
         "mode": "lines+markers",
         "name": "trace1-comm-anomalies",
         "showlegend": true,
         "type": "scatter",
         "x": [
          2629
         ],
         "y": [
          15
         ]
        },
        {
         "line": {
          "width": 0.5
         },
         "marker": {
          "color": "red",
          "size": 8
         },
         "mode": "lines+markers",
         "name": "trace1-comm-anomalies",
         "showlegend": true,
         "type": "scatter",
         "x": [
          2630
         ],
         "y": [
          16
         ]
        },
        {
         "line": {
          "width": 0.5
         },
         "marker": {
          "color": "red",
          "size": 8
         },
         "mode": "lines+markers",
         "name": "trace1-comm-anomalies",
         "showlegend": true,
         "type": "scatter",
         "x": [
          2646
         ],
         "y": [
          14
         ]
        },
        {
         "line": {
          "width": 0.5
         },
         "marker": {
          "color": "red",
          "size": 8
         },
         "mode": "lines+markers",
         "name": "trace1-comm-anomalies",
         "showlegend": true,
         "type": "scatter",
         "x": [
          2647
         ],
         "y": [
          15
         ]
        },
        {
         "line": {
          "width": 0.5
         },
         "marker": {
          "color": "red",
          "size": 8
         },
         "mode": "lines+markers",
         "name": "trace1-comm-anomalies",
         "showlegend": true,
         "type": "scatter",
         "x": [
          2648
         ],
         "y": [
          16
         ]
        },
        {
         "line": {
          "width": 0.5
         },
         "marker": {
          "color": "red",
          "size": 8
         },
         "mode": "lines+markers",
         "name": "trace1-comm-anomalies",
         "showlegend": true,
         "type": "scatter",
         "x": [
          2665
         ],
         "y": [
          11
         ]
        },
        {
         "line": {
          "width": 0.5
         },
         "marker": {
          "color": "red",
          "size": 8
         },
         "mode": "lines+markers",
         "name": "trace1-comm-anomalies",
         "showlegend": true,
         "type": "scatter",
         "x": [
          2666
         ],
         "y": [
          12
         ]
        },
        {
         "line": {
          "width": 0.5
         },
         "marker": {
          "color": "red",
          "size": 8
         },
         "mode": "lines+markers",
         "name": "trace1-comm-anomalies",
         "showlegend": true,
         "type": "scatter",
         "x": [
          2667
         ],
         "y": [
          13
         ]
        },
        {
         "line": {
          "width": 0.5
         },
         "marker": {
          "color": "red",
          "size": 8
         },
         "mode": "lines+markers",
         "name": "trace1-comm-anomalies",
         "showlegend": true,
         "type": "scatter",
         "x": [
          2672
         ],
         "y": [
          14
         ]
        },
        {
         "line": {
          "width": 0.5
         },
         "marker": {
          "color": "red",
          "size": 8
         },
         "mode": "lines+markers",
         "name": "trace1-comm-anomalies",
         "showlegend": true,
         "type": "scatter",
         "x": [
          2673
         ],
         "y": [
          15
         ]
        },
        {
         "line": {
          "width": 0.5
         },
         "marker": {
          "color": "red",
          "size": 8
         },
         "mode": "lines+markers",
         "name": "trace1-comm-anomalies",
         "showlegend": true,
         "type": "scatter",
         "x": [
          2674
         ],
         "y": [
          16
         ]
        },
        {
         "line": {
          "width": 0.5
         },
         "marker": {
          "color": "red",
          "size": 8
         },
         "mode": "lines+markers",
         "name": "trace1-comm-anomalies",
         "showlegend": true,
         "type": "scatter",
         "x": [
          2682
         ],
         "y": [
          10
         ]
        },
        {
         "line": {
          "width": 0.5
         },
         "marker": {
          "color": "red",
          "size": 8
         },
         "mode": "lines+markers",
         "name": "trace1-comm-anomalies",
         "showlegend": true,
         "type": "scatter",
         "x": [
          2683
         ],
         "y": [
          7
         ]
        },
        {
         "line": {
          "width": 0.5
         },
         "marker": {
          "color": "red",
          "size": 8
         },
         "mode": "lines+markers",
         "name": "trace1-comm-anomalies",
         "showlegend": true,
         "type": "scatter",
         "x": [
          2684
         ],
         "y": [
          8
         ]
        },
        {
         "line": {
          "width": 0.5
         },
         "marker": {
          "color": "red",
          "size": 8
         },
         "mode": "lines+markers",
         "name": "trace1-comm-anomalies",
         "showlegend": true,
         "type": "scatter",
         "x": [
          2685
         ],
         "y": [
          9
         ]
        },
        {
         "line": {
          "width": 0.5
         },
         "marker": {
          "color": "red",
          "size": 8
         },
         "mode": "lines+markers",
         "name": "trace1-comm-anomalies",
         "showlegend": true,
         "type": "scatter",
         "x": [
          2686
         ],
         "y": [
          7
         ]
        },
        {
         "line": {
          "width": 0.5
         },
         "marker": {
          "color": "red",
          "size": 8
         },
         "mode": "lines+markers",
         "name": "trace1-comm-anomalies",
         "showlegend": true,
         "type": "scatter",
         "x": [
          2687
         ],
         "y": [
          8
         ]
        },
        {
         "line": {
          "width": 0.5
         },
         "marker": {
          "color": "red",
          "size": 8
         },
         "mode": "lines+markers",
         "name": "trace1-comm-anomalies",
         "showlegend": true,
         "type": "scatter",
         "x": [
          2688
         ],
         "y": [
          9
         ]
        },
        {
         "line": {
          "width": 0.5
         },
         "marker": {
          "color": "red",
          "size": 8
         },
         "mode": "lines+markers",
         "name": "trace1-comm-anomalies",
         "showlegend": true,
         "type": "scatter",
         "x": [
          2689
         ],
         "y": [
          10
         ]
        },
        {
         "line": {
          "width": 0.5
         },
         "marker": {
          "color": "red",
          "size": 8
         },
         "mode": "lines+markers",
         "name": "trace1-comm-anomalies",
         "showlegend": true,
         "type": "scatter",
         "x": [
          2690
         ],
         "y": [
          11
         ]
        },
        {
         "line": {
          "width": 0.5
         },
         "marker": {
          "color": "red",
          "size": 8
         },
         "mode": "lines+markers",
         "name": "trace1-comm-anomalies",
         "showlegend": true,
         "type": "scatter",
         "x": [
          2691
         ],
         "y": [
          12
         ]
        },
        {
         "line": {
          "width": 0.5
         },
         "marker": {
          "color": "red",
          "size": 8
         },
         "mode": "lines+markers",
         "name": "trace1-comm-anomalies",
         "showlegend": true,
         "type": "scatter",
         "x": [
          2692
         ],
         "y": [
          13
         ]
        },
        {
         "line": {
          "width": 0.5
         },
         "marker": {
          "color": "red",
          "size": 8
         },
         "mode": "lines+markers",
         "name": "trace1-comm-anomalies",
         "showlegend": true,
         "type": "scatter",
         "x": [
          2697
         ],
         "y": [
          14
         ]
        },
        {
         "line": {
          "width": 0.5
         },
         "marker": {
          "color": "red",
          "size": 8
         },
         "mode": "lines+markers",
         "name": "trace1-comm-anomalies",
         "showlegend": true,
         "type": "scatter",
         "x": [
          2698
         ],
         "y": [
          15
         ]
        },
        {
         "line": {
          "width": 0.5
         },
         "marker": {
          "color": "red",
          "size": 8
         },
         "mode": "lines+markers",
         "name": "trace1-comm-anomalies",
         "showlegend": true,
         "type": "scatter",
         "x": [
          2699
         ],
         "y": [
          16
         ]
        },
        {
         "line": {
          "width": 0.5
         },
         "marker": {
          "color": "red",
          "size": 8
         },
         "mode": "lines+markers",
         "name": "trace1-comm-anomalies",
         "showlegend": true,
         "type": "scatter",
         "x": [
          3115
         ],
         "y": [
          14
         ]
        },
        {
         "line": {
          "width": 0.5
         },
         "marker": {
          "color": "red",
          "size": 8
         },
         "mode": "lines+markers",
         "name": "trace1-comm-anomalies",
         "showlegend": true,
         "type": "scatter",
         "x": [
          3116
         ],
         "y": [
          15
         ]
        },
        {
         "line": {
          "width": 0.5
         },
         "marker": {
          "color": "red",
          "size": 8
         },
         "mode": "lines+markers",
         "name": "trace1-comm-anomalies",
         "showlegend": true,
         "type": "scatter",
         "x": [
          3117
         ],
         "y": [
          16
         ]
        },
        {
         "line": {
          "width": 0.5
         },
         "marker": {
          "color": "red",
          "size": 8
         },
         "mode": "lines+markers",
         "name": "trace1-comm-anomalies",
         "showlegend": true,
         "type": "scatter",
         "x": [
          3164
         ],
         "y": [
          14
         ]
        },
        {
         "line": {
          "width": 0.5
         },
         "marker": {
          "color": "red",
          "size": 8
         },
         "mode": "lines+markers",
         "name": "trace1-comm-anomalies",
         "showlegend": true,
         "type": "scatter",
         "x": [
          3165
         ],
         "y": [
          15
         ]
        },
        {
         "line": {
          "width": 0.5
         },
         "marker": {
          "color": "red",
          "size": 8
         },
         "mode": "lines+markers",
         "name": "trace1-comm-anomalies",
         "showlegend": true,
         "type": "scatter",
         "x": [
          3166
         ],
         "y": [
          16
         ]
        },
        {
         "line": {
          "width": 0.5
         },
         "marker": {
          "color": "red",
          "size": 8
         },
         "mode": "lines+markers",
         "name": "trace1-comm-anomalies",
         "showlegend": true,
         "type": "scatter",
         "x": [
          3286
         ],
         "y": [
          14
         ]
        },
        {
         "line": {
          "width": 0.5
         },
         "marker": {
          "color": "red",
          "size": 8
         },
         "mode": "lines+markers",
         "name": "trace1-comm-anomalies",
         "showlegend": true,
         "type": "scatter",
         "x": [
          3287
         ],
         "y": [
          15
         ]
        },
        {
         "line": {
          "width": 0.5
         },
         "marker": {
          "color": "red",
          "size": 8
         },
         "mode": "lines+markers",
         "name": "trace1-comm-anomalies",
         "showlegend": true,
         "type": "scatter",
         "x": [
          3288
         ],
         "y": [
          16
         ]
        },
        {
         "line": {
          "width": 0.5
         },
         "marker": {
          "color": "red",
          "size": 8
         },
         "mode": "lines+markers",
         "name": "trace1-comm-anomalies",
         "showlegend": true,
         "type": "scatter",
         "x": [
          3576
         ],
         "y": [
          14
         ]
        },
        {
         "line": {
          "width": 0.5
         },
         "marker": {
          "color": "red",
          "size": 8
         },
         "mode": "lines+markers",
         "name": "trace1-comm-anomalies",
         "showlegend": true,
         "type": "scatter",
         "x": [
          3577
         ],
         "y": [
          15
         ]
        },
        {
         "line": {
          "width": 0.5
         },
         "marker": {
          "color": "red",
          "size": 8
         },
         "mode": "lines+markers",
         "name": "trace1-comm-anomalies",
         "showlegend": true,
         "type": "scatter",
         "x": [
          3578
         ],
         "y": [
          16
         ]
        },
        {
         "line": {
          "width": 0.5
         },
         "marker": {
          "color": "red",
          "size": 8
         },
         "mode": "lines+markers",
         "name": "trace1-comm-anomalies",
         "showlegend": true,
         "type": "scatter",
         "x": [
          3650
         ],
         "y": [
          14
         ]
        },
        {
         "line": {
          "width": 0.5
         },
         "marker": {
          "color": "red",
          "size": 8
         },
         "mode": "lines+markers",
         "name": "trace1-comm-anomalies",
         "showlegend": true,
         "type": "scatter",
         "x": [
          3651
         ],
         "y": [
          15
         ]
        },
        {
         "line": {
          "width": 0.5
         },
         "marker": {
          "color": "red",
          "size": 8
         },
         "mode": "lines+markers",
         "name": "trace1-comm-anomalies",
         "showlegend": true,
         "type": "scatter",
         "x": [
          3652
         ],
         "y": [
          16
         ]
        },
        {
         "line": {
          "width": 0.5
         },
         "marker": {
          "color": "red",
          "size": 8
         },
         "mode": "lines+markers",
         "name": "trace1-comm-anomalies",
         "showlegend": true,
         "type": "scatter",
         "x": [
          3699
         ],
         "y": [
          14
         ]
        },
        {
         "line": {
          "width": 0.5
         },
         "marker": {
          "color": "red",
          "size": 8
         },
         "mode": "lines+markers",
         "name": "trace1-comm-anomalies",
         "showlegend": true,
         "type": "scatter",
         "x": [
          3700
         ],
         "y": [
          15
         ]
        },
        {
         "line": {
          "width": 0.5
         },
         "marker": {
          "color": "red",
          "size": 8
         },
         "mode": "lines+markers",
         "name": "trace1-comm-anomalies",
         "showlegend": true,
         "type": "scatter",
         "x": [
          3701
         ],
         "y": [
          16
         ]
        },
        {
         "line": {
          "width": 0.5
         },
         "marker": {
          "color": "red",
          "size": 8
         },
         "mode": "lines+markers",
         "name": "trace1-comm-anomalies",
         "showlegend": true,
         "type": "scatter",
         "x": [
          3821
         ],
         "y": [
          14
         ]
        },
        {
         "line": {
          "width": 0.5
         },
         "marker": {
          "color": "red",
          "size": 8
         },
         "mode": "lines+markers",
         "name": "trace1-comm-anomalies",
         "showlegend": true,
         "type": "scatter",
         "x": [
          3822
         ],
         "y": [
          15
         ]
        },
        {
         "line": {
          "width": 0.5
         },
         "marker": {
          "color": "red",
          "size": 8
         },
         "mode": "lines+markers",
         "name": "trace1-comm-anomalies",
         "showlegend": true,
         "type": "scatter",
         "x": [
          3823
         ],
         "y": [
          16
         ]
        },
        {
         "line": {
          "width": 0.5
         },
         "marker": {
          "color": "red",
          "size": 8
         },
         "mode": "lines+markers",
         "name": "trace1-comm-anomalies",
         "showlegend": true,
         "type": "scatter",
         "x": [
          4111
         ],
         "y": [
          14
         ]
        },
        {
         "line": {
          "width": 0.5
         },
         "marker": {
          "color": "red",
          "size": 8
         },
         "mode": "lines+markers",
         "name": "trace1-comm-anomalies",
         "showlegend": true,
         "type": "scatter",
         "x": [
          4112
         ],
         "y": [
          15
         ]
        },
        {
         "line": {
          "width": 0.5
         },
         "marker": {
          "color": "red",
          "size": 8
         },
         "mode": "lines+markers",
         "name": "trace1-comm-anomalies",
         "showlegend": true,
         "type": "scatter",
         "x": [
          4113
         ],
         "y": [
          16
         ]
        },
        {
         "line": {
          "width": 0.5
         },
         "marker": {
          "color": "red",
          "size": 8
         },
         "mode": "lines+markers",
         "name": "trace1-comm-anomalies",
         "showlegend": true,
         "type": "scatter",
         "x": [
          4359
         ],
         "y": [
          14
         ]
        },
        {
         "line": {
          "width": 0.5
         },
         "marker": {
          "color": "red",
          "size": 8
         },
         "mode": "lines+markers",
         "name": "trace1-comm-anomalies",
         "showlegend": true,
         "type": "scatter",
         "x": [
          4360
         ],
         "y": [
          15
         ]
        },
        {
         "line": {
          "width": 0.5
         },
         "marker": {
          "color": "red",
          "size": 8
         },
         "mode": "lines+markers",
         "name": "trace1-comm-anomalies",
         "showlegend": true,
         "type": "scatter",
         "x": [
          4361
         ],
         "y": [
          16
         ]
        },
        {
         "line": {
          "width": 0.5
         },
         "marker": {
          "color": "red",
          "size": 8
         },
         "mode": "lines+markers",
         "name": "trace1-comm-anomalies",
         "showlegend": true,
         "type": "scatter",
         "x": [
          4389
         ],
         "y": [
          14
         ]
        },
        {
         "line": {
          "width": 0.5
         },
         "marker": {
          "color": "red",
          "size": 8
         },
         "mode": "lines+markers",
         "name": "trace1-comm-anomalies",
         "showlegend": true,
         "type": "scatter",
         "x": [
          4390
         ],
         "y": [
          15
         ]
        },
        {
         "line": {
          "width": 0.5
         },
         "marker": {
          "color": "red",
          "size": 8
         },
         "mode": "lines+markers",
         "name": "trace1-comm-anomalies",
         "showlegend": true,
         "type": "scatter",
         "x": [
          4391
         ],
         "y": [
          16
         ]
        },
        {
         "line": {
          "width": 0.5
         },
         "marker": {
          "color": "red",
          "size": 8
         },
         "mode": "lines+markers",
         "name": "trace1-comm-anomalies",
         "showlegend": true,
         "type": "scatter",
         "x": [
          4407
         ],
         "y": [
          14
         ]
        },
        {
         "line": {
          "width": 0.5
         },
         "marker": {
          "color": "red",
          "size": 8
         },
         "mode": "lines+markers",
         "name": "trace1-comm-anomalies",
         "showlegend": true,
         "type": "scatter",
         "x": [
          4408
         ],
         "y": [
          15
         ]
        },
        {
         "line": {
          "width": 0.5
         },
         "marker": {
          "color": "red",
          "size": 8
         },
         "mode": "lines+markers",
         "name": "trace1-comm-anomalies",
         "showlegend": true,
         "type": "scatter",
         "x": [
          4409
         ],
         "y": [
          16
         ]
        },
        {
         "line": {
          "width": 0.5
         },
         "marker": {
          "color": "red",
          "size": 8
         },
         "mode": "lines+markers",
         "name": "trace1-comm-anomalies",
         "showlegend": true,
         "type": "scatter",
         "x": [
          4533
         ],
         "y": [
          14
         ]
        },
        {
         "line": {
          "width": 0.5
         },
         "marker": {
          "color": "red",
          "size": 8
         },
         "mode": "lines+markers",
         "name": "trace1-comm-anomalies",
         "showlegend": true,
         "type": "scatter",
         "x": [
          4534
         ],
         "y": [
          15
         ]
        },
        {
         "line": {
          "width": 0.5
         },
         "marker": {
          "color": "red",
          "size": 8
         },
         "mode": "lines+markers",
         "name": "trace1-comm-anomalies",
         "showlegend": true,
         "type": "scatter",
         "x": [
          4535
         ],
         "y": [
          16
         ]
        },
        {
         "line": {
          "width": 0.5
         },
         "marker": {
          "color": "red",
          "size": 8
         },
         "mode": "lines+markers",
         "name": "trace1-comm-anomalies",
         "showlegend": true,
         "type": "scatter",
         "x": [
          4563
         ],
         "y": [
          14
         ]
        },
        {
         "line": {
          "width": 0.5
         },
         "marker": {
          "color": "red",
          "size": 8
         },
         "mode": "lines+markers",
         "name": "trace1-comm-anomalies",
         "showlegend": true,
         "type": "scatter",
         "x": [
          4564
         ],
         "y": [
          15
         ]
        },
        {
         "line": {
          "width": 0.5
         },
         "marker": {
          "color": "red",
          "size": 8
         },
         "mode": "lines+markers",
         "name": "trace1-comm-anomalies",
         "showlegend": true,
         "type": "scatter",
         "x": [
          4565
         ],
         "y": [
          16
         ]
        },
        {
         "line": {
          "width": 0.5
         },
         "marker": {
          "color": "red",
          "size": 8
         },
         "mode": "lines+markers",
         "name": "trace1-comm-anomalies",
         "showlegend": true,
         "type": "scatter",
         "x": [
          4581
         ],
         "y": [
          14
         ]
        },
        {
         "line": {
          "width": 0.5
         },
         "marker": {
          "color": "red",
          "size": 8
         },
         "mode": "lines+markers",
         "name": "trace1-comm-anomalies",
         "showlegend": true,
         "type": "scatter",
         "x": [
          4582
         ],
         "y": [
          15
         ]
        },
        {
         "line": {
          "width": 0.5
         },
         "marker": {
          "color": "red",
          "size": 8
         },
         "mode": "lines+markers",
         "name": "trace1-comm-anomalies",
         "showlegend": true,
         "type": "scatter",
         "x": [
          4583
         ],
         "y": [
          16
         ]
        },
        {
         "line": {
          "width": 0.5
         },
         "marker": {
          "color": "red",
          "size": 8
         },
         "mode": "lines+markers",
         "name": "trace1-comm-anomalies",
         "showlegend": true,
         "type": "scatter",
         "x": [
          4781
         ],
         "y": [
          14
         ]
        },
        {
         "line": {
          "width": 0.5
         },
         "marker": {
          "color": "red",
          "size": 8
         },
         "mode": "lines+markers",
         "name": "trace1-comm-anomalies",
         "showlegend": true,
         "type": "scatter",
         "x": [
          4782
         ],
         "y": [
          15
         ]
        },
        {
         "line": {
          "width": 0.5
         },
         "marker": {
          "color": "red",
          "size": 8
         },
         "mode": "lines+markers",
         "name": "trace1-comm-anomalies",
         "showlegend": true,
         "type": "scatter",
         "x": [
          4783
         ],
         "y": [
          16
         ]
        },
        {
         "line": {
          "width": 0.5
         },
         "marker": {
          "color": "red",
          "size": 8
         },
         "mode": "lines+markers",
         "name": "trace1-comm-anomalies",
         "showlegend": true,
         "type": "scatter",
         "x": [
          5331
         ],
         "y": [
          14
         ]
        },
        {
         "line": {
          "width": 0.5
         },
         "marker": {
          "color": "red",
          "size": 8
         },
         "mode": "lines+markers",
         "name": "trace1-comm-anomalies",
         "showlegend": true,
         "type": "scatter",
         "x": [
          5332
         ],
         "y": [
          15
         ]
        },
        {
         "line": {
          "width": 0.5
         },
         "marker": {
          "color": "red",
          "size": 8
         },
         "mode": "lines+markers",
         "name": "trace1-comm-anomalies",
         "showlegend": true,
         "type": "scatter",
         "x": [
          5333
         ],
         "y": [
          16
         ]
        },
        {
         "line": {
          "width": 0.5
         },
         "marker": {
          "color": "red",
          "size": 8
         },
         "mode": "lines+markers",
         "name": "trace1-comm-anomalies",
         "showlegend": true,
         "type": "scatter",
         "x": [
          5701
         ],
         "y": [
          14
         ]
        },
        {
         "line": {
          "width": 0.5
         },
         "marker": {
          "color": "red",
          "size": 8
         },
         "mode": "lines+markers",
         "name": "trace1-comm-anomalies",
         "showlegend": true,
         "type": "scatter",
         "x": [
          5702
         ],
         "y": [
          15
         ]
        },
        {
         "line": {
          "width": 0.5
         },
         "marker": {
          "color": "red",
          "size": 8
         },
         "mode": "lines+markers",
         "name": "trace1-comm-anomalies",
         "showlegend": true,
         "type": "scatter",
         "x": [
          5703
         ],
         "y": [
          16
         ]
        },
        {
         "line": {
          "width": 0.5
         },
         "marker": {
          "color": "red",
          "size": 8
         },
         "mode": "lines+markers",
         "name": "trace1-comm-anomalies",
         "showlegend": true,
         "type": "scatter",
         "x": [
          5731
         ],
         "y": [
          14
         ]
        },
        {
         "line": {
          "width": 0.5
         },
         "marker": {
          "color": "red",
          "size": 8
         },
         "mode": "lines+markers",
         "name": "trace1-comm-anomalies",
         "showlegend": true,
         "type": "scatter",
         "x": [
          5732
         ],
         "y": [
          15
         ]
        },
        {
         "line": {
          "width": 0.5
         },
         "marker": {
          "color": "red",
          "size": 8
         },
         "mode": "lines+markers",
         "name": "trace1-comm-anomalies",
         "showlegend": true,
         "type": "scatter",
         "x": [
          5733
         ],
         "y": [
          16
         ]
        },
        {
         "line": {
          "width": 0.5
         },
         "marker": {
          "color": "red",
          "size": 8
         },
         "mode": "lines+markers",
         "name": "trace1-comm-anomalies",
         "showlegend": true,
         "type": "scatter",
         "x": [
          6319
         ],
         "y": [
          14
         ]
        },
        {
         "line": {
          "width": 0.5
         },
         "marker": {
          "color": "red",
          "size": 8
         },
         "mode": "lines+markers",
         "name": "trace1-comm-anomalies",
         "showlegend": true,
         "type": "scatter",
         "x": [
          6320
         ],
         "y": [
          15
         ]
        },
        {
         "line": {
          "width": 0.5
         },
         "marker": {
          "color": "red",
          "size": 8
         },
         "mode": "lines+markers",
         "name": "trace1-comm-anomalies",
         "showlegend": true,
         "type": "scatter",
         "x": [
          6321
         ],
         "y": [
          16
         ]
        },
        {
         "line": {
          "width": 0.5
         },
         "marker": {
          "color": "red",
          "size": 8
         },
         "mode": "lines+markers",
         "name": "trace1-comm-anomalies",
         "showlegend": true,
         "type": "scatter",
         "x": [
          6425
         ],
         "y": [
          10
         ]
        },
        {
         "line": {
          "width": 0.5
         },
         "marker": {
          "color": "red",
          "size": 8
         },
         "mode": "lines+markers",
         "name": "trace1-comm-anomalies",
         "showlegend": true,
         "type": "scatter",
         "x": [
          6429
         ],
         "y": [
          7
         ]
        },
        {
         "line": {
          "width": 0.5
         },
         "marker": {
          "color": "red",
          "size": 8
         },
         "mode": "lines+markers",
         "name": "trace1-comm-anomalies",
         "showlegend": true,
         "type": "scatter",
         "x": [
          6430
         ],
         "y": [
          8
         ]
        },
        {
         "line": {
          "width": 0.5
         },
         "marker": {
          "color": "red",
          "size": 8
         },
         "mode": "lines+markers",
         "name": "trace1-comm-anomalies",
         "showlegend": true,
         "type": "scatter",
         "x": [
          6431
         ],
         "y": [
          9
         ]
        },
        {
         "line": {
          "width": 0.5
         },
         "marker": {
          "color": "red",
          "size": 8
         },
         "mode": "lines+markers",
         "name": "trace1-comm-anomalies",
         "showlegend": true,
         "type": "scatter",
         "x": [
          6432
         ],
         "y": [
          7
         ]
        },
        {
         "line": {
          "width": 0.5
         },
         "marker": {
          "color": "red",
          "size": 8
         },
         "mode": "lines+markers",
         "name": "trace1-comm-anomalies",
         "showlegend": true,
         "type": "scatter",
         "x": [
          6433
         ],
         "y": [
          8
         ]
        },
        {
         "line": {
          "width": 0.5
         },
         "marker": {
          "color": "red",
          "size": 8
         },
         "mode": "lines+markers",
         "name": "trace1-comm-anomalies",
         "showlegend": true,
         "type": "scatter",
         "x": [
          6434
         ],
         "y": [
          9
         ]
        },
        {
         "line": {
          "width": 0.5
         },
         "marker": {
          "color": "red",
          "size": 8
         },
         "mode": "lines+markers",
         "name": "trace1-comm-anomalies",
         "showlegend": true,
         "type": "scatter",
         "x": [
          6435
         ],
         "y": [
          10
         ]
        },
        {
         "line": {
          "width": 0.5
         },
         "marker": {
          "color": "red",
          "size": 8
         },
         "mode": "lines+markers",
         "name": "trace1-comm-anomalies",
         "showlegend": true,
         "type": "scatter",
         "x": [
          6776
         ],
         "y": [
          14
         ]
        },
        {
         "line": {
          "width": 0.5
         },
         "marker": {
          "color": "red",
          "size": 8
         },
         "mode": "lines+markers",
         "name": "trace1-comm-anomalies",
         "showlegend": true,
         "type": "scatter",
         "x": [
          6777
         ],
         "y": [
          15
         ]
        },
        {
         "line": {
          "width": 0.5
         },
         "marker": {
          "color": "red",
          "size": 8
         },
         "mode": "lines+markers",
         "name": "trace1-comm-anomalies",
         "showlegend": true,
         "type": "scatter",
         "x": [
          6778
         ],
         "y": [
          16
         ]
        },
        {
         "line": {
          "width": 0.5
         },
         "marker": {
          "color": "red",
          "size": 8
         },
         "mode": "lines+markers",
         "name": "trace1-comm-anomalies",
         "showlegend": true,
         "type": "scatter",
         "x": [
          7590
         ],
         "y": [
          14
         ]
        },
        {
         "line": {
          "width": 0.5
         },
         "marker": {
          "color": "red",
          "size": 8
         },
         "mode": "lines+markers",
         "name": "trace1-comm-anomalies",
         "showlegend": true,
         "type": "scatter",
         "x": [
          7591
         ],
         "y": [
          15
         ]
        },
        {
         "line": {
          "width": 0.5
         },
         "marker": {
          "color": "red",
          "size": 8
         },
         "mode": "lines+markers",
         "name": "trace1-comm-anomalies",
         "showlegend": true,
         "type": "scatter",
         "x": [
          7592
         ],
         "y": [
          16
         ]
        },
        {
         "line": {
          "width": 0.5
         },
         "marker": {
          "color": "red",
          "size": 8
         },
         "mode": "lines+markers",
         "name": "trace1-comm-anomalies",
         "showlegend": true,
         "type": "scatter",
         "x": [
          7857
         ],
         "y": [
          14
         ]
        },
        {
         "line": {
          "width": 0.5
         },
         "marker": {
          "color": "red",
          "size": 8
         },
         "mode": "lines+markers",
         "name": "trace1-comm-anomalies",
         "showlegend": true,
         "type": "scatter",
         "x": [
          7858
         ],
         "y": [
          15
         ]
        },
        {
         "line": {
          "width": 0.5
         },
         "marker": {
          "color": "red",
          "size": 8
         },
         "mode": "lines+markers",
         "name": "trace1-comm-anomalies",
         "showlegend": true,
         "type": "scatter",
         "x": [
          7859
         ],
         "y": [
          16
         ]
        },
        {
         "line": {
          "width": 0.5
         },
         "marker": {
          "color": "red",
          "size": 8
         },
         "mode": "lines+markers",
         "name": "trace1-comm-anomalies",
         "showlegend": true,
         "type": "scatter",
         "x": [
          7883
         ],
         "y": [
          14
         ]
        },
        {
         "line": {
          "width": 0.5
         },
         "marker": {
          "color": "red",
          "size": 8
         },
         "mode": "lines+markers",
         "name": "trace1-comm-anomalies",
         "showlegend": true,
         "type": "scatter",
         "x": [
          7884
         ],
         "y": [
          15
         ]
        },
        {
         "line": {
          "width": 0.5
         },
         "marker": {
          "color": "red",
          "size": 8
         },
         "mode": "lines+markers",
         "name": "trace1-comm-anomalies",
         "showlegend": true,
         "type": "scatter",
         "x": [
          7885
         ],
         "y": [
          16
         ]
        },
        {
         "line": {
          "width": 0.5
         },
         "marker": {
          "color": "red",
          "size": 8
         },
         "mode": "lines+markers",
         "name": "trace1-comm-anomalies",
         "showlegend": true,
         "type": "scatter",
         "x": [
          7928
         ],
         "y": [
          14
         ]
        },
        {
         "line": {
          "width": 0.5
         },
         "marker": {
          "color": "red",
          "size": 8
         },
         "mode": "lines+markers",
         "name": "trace1-comm-anomalies",
         "showlegend": true,
         "type": "scatter",
         "x": [
          7929
         ],
         "y": [
          15
         ]
        },
        {
         "line": {
          "width": 0.5
         },
         "marker": {
          "color": "red",
          "size": 8
         },
         "mode": "lines+markers",
         "name": "trace1-comm-anomalies",
         "showlegend": true,
         "type": "scatter",
         "x": [
          7930
         ],
         "y": [
          16
         ]
        },
        {
         "line": {
          "width": 0.5
         },
         "marker": {
          "color": "red",
          "size": 8
         },
         "mode": "lines+markers",
         "name": "trace1-comm-anomalies",
         "showlegend": true,
         "type": "scatter",
         "x": [
          8220
         ],
         "y": [
          14
         ]
        },
        {
         "line": {
          "width": 0.5
         },
         "marker": {
          "color": "red",
          "size": 8
         },
         "mode": "lines+markers",
         "name": "trace1-comm-anomalies",
         "showlegend": true,
         "type": "scatter",
         "x": [
          8221
         ],
         "y": [
          15
         ]
        },
        {
         "line": {
          "width": 0.5
         },
         "marker": {
          "color": "red",
          "size": 8
         },
         "mode": "lines+markers",
         "name": "trace1-comm-anomalies",
         "showlegend": true,
         "type": "scatter",
         "x": [
          8222
         ],
         "y": [
          16
         ]
        },
        {
         "line": {
          "width": 0.5
         },
         "marker": {
          "color": "red",
          "size": 8
         },
         "mode": "lines+markers",
         "name": "trace1-comm-anomalies",
         "showlegend": true,
         "type": "scatter",
         "x": [
          8491
         ],
         "y": [
          14
         ]
        },
        {
         "line": {
          "width": 0.5
         },
         "marker": {
          "color": "red",
          "size": 8
         },
         "mode": "lines+markers",
         "name": "trace1-comm-anomalies",
         "showlegend": true,
         "type": "scatter",
         "x": [
          8492
         ],
         "y": [
          15
         ]
        },
        {
         "line": {
          "width": 0.5
         },
         "marker": {
          "color": "red",
          "size": 8
         },
         "mode": "lines+markers",
         "name": "trace1-comm-anomalies",
         "showlegend": true,
         "type": "scatter",
         "x": [
          8493
         ],
         "y": [
          16
         ]
        },
        {
         "line": {
          "width": 0.5
         },
         "marker": {
          "color": "red",
          "size": 8
         },
         "mode": "lines+markers",
         "name": "trace1-comm-anomalies",
         "showlegend": true,
         "type": "scatter",
         "x": [
          8805
         ],
         "y": [
          14
         ]
        },
        {
         "line": {
          "width": 0.5
         },
         "marker": {
          "color": "red",
          "size": 8
         },
         "mode": "lines+markers",
         "name": "trace1-comm-anomalies",
         "showlegend": true,
         "type": "scatter",
         "x": [
          8806
         ],
         "y": [
          15
         ]
        },
        {
         "line": {
          "width": 0.5
         },
         "marker": {
          "color": "red",
          "size": 8
         },
         "mode": "lines+markers",
         "name": "trace1-comm-anomalies",
         "showlegend": true,
         "type": "scatter",
         "x": [
          8807
         ],
         "y": [
          16
         ]
        },
        {
         "line": {
          "width": 0.5
         },
         "marker": {
          "color": "red",
          "size": 8
         },
         "mode": "lines+markers",
         "name": "trace1-comm-anomalies",
         "showlegend": true,
         "type": "scatter",
         "x": [
          8984
         ],
         "y": [
          14
         ]
        },
        {
         "line": {
          "width": 0.5
         },
         "marker": {
          "color": "red",
          "size": 8
         },
         "mode": "lines+markers",
         "name": "trace1-comm-anomalies",
         "showlegend": true,
         "type": "scatter",
         "x": [
          8985
         ],
         "y": [
          15
         ]
        },
        {
         "line": {
          "width": 0.5
         },
         "marker": {
          "color": "red",
          "size": 8
         },
         "mode": "lines+markers",
         "name": "trace1-comm-anomalies",
         "showlegend": true,
         "type": "scatter",
         "x": [
          8986
         ],
         "y": [
          16
         ]
        },
        {
         "line": {
          "width": 0.5
         },
         "marker": {
          "color": "red",
          "size": 8
         },
         "mode": "lines+markers",
         "name": "trace1-comm-anomalies",
         "showlegend": true,
         "type": "scatter",
         "x": [
          9032
         ],
         "y": [
          14
         ]
        },
        {
         "line": {
          "width": 0.5
         },
         "marker": {
          "color": "red",
          "size": 8
         },
         "mode": "lines+markers",
         "name": "trace1-comm-anomalies",
         "showlegend": true,
         "type": "scatter",
         "x": [
          9033
         ],
         "y": [
          15
         ]
        },
        {
         "line": {
          "width": 0.5
         },
         "marker": {
          "color": "red",
          "size": 8
         },
         "mode": "lines+markers",
         "name": "trace1-comm-anomalies",
         "showlegend": true,
         "type": "scatter",
         "x": [
          9034
         ],
         "y": [
          16
         ]
        },
        {
         "line": {
          "width": 0.5
         },
         "marker": {
          "color": "red",
          "size": 8
         },
         "mode": "lines+markers",
         "name": "trace1-comm-anomalies",
         "showlegend": true,
         "type": "scatter",
         "x": [
          9062
         ],
         "y": [
          14
         ]
        },
        {
         "line": {
          "width": 0.5
         },
         "marker": {
          "color": "red",
          "size": 8
         },
         "mode": "lines+markers",
         "name": "trace1-comm-anomalies",
         "showlegend": true,
         "type": "scatter",
         "x": [
          9063
         ],
         "y": [
          15
         ]
        },
        {
         "line": {
          "width": 0.5
         },
         "marker": {
          "color": "red",
          "size": 8
         },
         "mode": "lines+markers",
         "name": "trace1-comm-anomalies",
         "showlegend": true,
         "type": "scatter",
         "x": [
          9064
         ],
         "y": [
          16
         ]
        },
        {
         "line": {
          "width": 0.5
         },
         "marker": {
          "color": "red",
          "size": 8
         },
         "mode": "lines+markers",
         "name": "trace1-comm-anomalies",
         "showlegend": true,
         "type": "scatter",
         "x": [
          9228
         ],
         "y": [
          14
         ]
        },
        {
         "line": {
          "width": 0.5
         },
         "marker": {
          "color": "red",
          "size": 8
         },
         "mode": "lines+markers",
         "name": "trace1-comm-anomalies",
         "showlegend": true,
         "type": "scatter",
         "x": [
          9229
         ],
         "y": [
          15
         ]
        },
        {
         "line": {
          "width": 0.5
         },
         "marker": {
          "color": "red",
          "size": 8
         },
         "mode": "lines+markers",
         "name": "trace1-comm-anomalies",
         "showlegend": true,
         "type": "scatter",
         "x": [
          9230
         ],
         "y": [
          16
         ]
        },
        {
         "line": {
          "width": 0.5
         },
         "marker": {
          "color": "red",
          "size": 8
         },
         "mode": "lines+markers",
         "name": "trace1-comm-anomalies",
         "showlegend": true,
         "type": "scatter",
         "x": [
          9453
         ],
         "y": [
          14
         ]
        },
        {
         "line": {
          "width": 0.5
         },
         "marker": {
          "color": "red",
          "size": 8
         },
         "mode": "lines+markers",
         "name": "trace1-comm-anomalies",
         "showlegend": true,
         "type": "scatter",
         "x": [
          9454
         ],
         "y": [
          15
         ]
        },
        {
         "line": {
          "width": 0.5
         },
         "marker": {
          "color": "red",
          "size": 8
         },
         "mode": "lines+markers",
         "name": "trace1-comm-anomalies",
         "showlegend": true,
         "type": "scatter",
         "x": [
          9455
         ],
         "y": [
          16
         ]
        },
        {
         "line": {
          "width": 0.5
         },
         "marker": {
          "color": "red",
          "size": 8
         },
         "mode": "lines+markers",
         "name": "trace1-comm-anomalies",
         "showlegend": true,
         "type": "scatter",
         "x": [
          9745
         ],
         "y": [
          14
         ]
        },
        {
         "line": {
          "width": 0.5
         },
         "marker": {
          "color": "red",
          "size": 8
         },
         "mode": "lines+markers",
         "name": "trace1-comm-anomalies",
         "showlegend": true,
         "type": "scatter",
         "x": [
          9746
         ],
         "y": [
          15
         ]
        },
        {
         "line": {
          "width": 0.5
         },
         "marker": {
          "color": "red",
          "size": 8
         },
         "mode": "lines+markers",
         "name": "trace1-comm-anomalies",
         "showlegend": true,
         "type": "scatter",
         "x": [
          9747
         ],
         "y": [
          16
         ]
        },
        {
         "line": {
          "width": 0.5
         },
         "marker": {
          "color": "red",
          "size": 8
         },
         "mode": "lines+markers",
         "name": "trace1-comm-anomalies",
         "showlegend": true,
         "type": "scatter",
         "x": [
          9901
         ],
         "y": [
          14
         ]
        },
        {
         "line": {
          "width": 0.5
         },
         "marker": {
          "color": "red",
          "size": 8
         },
         "mode": "lines+markers",
         "name": "trace1-comm-anomalies",
         "showlegend": true,
         "type": "scatter",
         "x": [
          9902
         ],
         "y": [
          15
         ]
        },
        {
         "line": {
          "width": 0.5
         },
         "marker": {
          "color": "red",
          "size": 8
         },
         "mode": "lines+markers",
         "name": "trace1-comm-anomalies",
         "showlegend": true,
         "type": "scatter",
         "x": [
          9903
         ],
         "y": [
          16
         ]
        },
        {
         "line": {
          "width": 0.5
         },
         "marker": {
          "color": "red",
          "size": 8
         },
         "mode": "lines+markers",
         "name": "trace1-comm-anomalies",
         "showlegend": true,
         "type": "scatter",
         "x": [
          9949
         ],
         "y": [
          14
         ]
        },
        {
         "line": {
          "width": 0.5
         },
         "marker": {
          "color": "red",
          "size": 8
         },
         "mode": "lines+markers",
         "name": "trace1-comm-anomalies",
         "showlegend": true,
         "type": "scatter",
         "x": [
          9950
         ],
         "y": [
          15
         ]
        },
        {
         "line": {
          "width": 0.5
         },
         "marker": {
          "color": "red",
          "size": 8
         },
         "mode": "lines+markers",
         "name": "trace1-comm-anomalies",
         "showlegend": true,
         "type": "scatter",
         "x": [
          9951
         ],
         "y": [
          16
         ]
        },
        {
         "line": {
          "width": 0.5
         },
         "marker": {
          "color": "red",
          "size": 8
         },
         "mode": "lines+markers",
         "name": "trace1-comm-anomalies",
         "showlegend": true,
         "type": "scatter",
         "x": [
          10063
         ],
         "y": [
          14
         ]
        },
        {
         "line": {
          "width": 0.5
         },
         "marker": {
          "color": "red",
          "size": 8
         },
         "mode": "lines+markers",
         "name": "trace1-comm-anomalies",
         "showlegend": true,
         "type": "scatter",
         "x": [
          10064
         ],
         "y": [
          15
         ]
        },
        {
         "line": {
          "width": 0.5
         },
         "marker": {
          "color": "red",
          "size": 8
         },
         "mode": "lines+markers",
         "name": "trace1-comm-anomalies",
         "showlegend": true,
         "type": "scatter",
         "x": [
          10065
         ],
         "y": [
          16
         ]
        }
       ],
       "layout": {
        "autosize": true,
        "height": 600,
        "template": {
         "data": {
          "bar": [
           {
            "error_x": {
             "color": "#2a3f5f"
            },
            "error_y": {
             "color": "#2a3f5f"
            },
            "marker": {
             "line": {
              "color": "#E5ECF6",
              "width": 0.5
             },
             "pattern": {
              "fillmode": "overlay",
              "size": 10,
              "solidity": 0.2
             }
            },
            "type": "bar"
           }
          ],
          "barpolar": [
           {
            "marker": {
             "line": {
              "color": "#E5ECF6",
              "width": 0.5
             },
             "pattern": {
              "fillmode": "overlay",
              "size": 10,
              "solidity": 0.2
             }
            },
            "type": "barpolar"
           }
          ],
          "carpet": [
           {
            "aaxis": {
             "endlinecolor": "#2a3f5f",
             "gridcolor": "white",
             "linecolor": "white",
             "minorgridcolor": "white",
             "startlinecolor": "#2a3f5f"
            },
            "baxis": {
             "endlinecolor": "#2a3f5f",
             "gridcolor": "white",
             "linecolor": "white",
             "minorgridcolor": "white",
             "startlinecolor": "#2a3f5f"
            },
            "type": "carpet"
           }
          ],
          "choropleth": [
           {
            "colorbar": {
             "outlinewidth": 0,
             "ticks": ""
            },
            "type": "choropleth"
           }
          ],
          "contour": [
           {
            "colorbar": {
             "outlinewidth": 0,
             "ticks": ""
            },
            "colorscale": [
             [
              0,
              "#0d0887"
             ],
             [
              0.1111111111111111,
              "#46039f"
             ],
             [
              0.2222222222222222,
              "#7201a8"
             ],
             [
              0.3333333333333333,
              "#9c179e"
             ],
             [
              0.4444444444444444,
              "#bd3786"
             ],
             [
              0.5555555555555556,
              "#d8576b"
             ],
             [
              0.6666666666666666,
              "#ed7953"
             ],
             [
              0.7777777777777778,
              "#fb9f3a"
             ],
             [
              0.8888888888888888,
              "#fdca26"
             ],
             [
              1,
              "#f0f921"
             ]
            ],
            "type": "contour"
           }
          ],
          "contourcarpet": [
           {
            "colorbar": {
             "outlinewidth": 0,
             "ticks": ""
            },
            "type": "contourcarpet"
           }
          ],
          "heatmap": [
           {
            "colorbar": {
             "outlinewidth": 0,
             "ticks": ""
            },
            "colorscale": [
             [
              0,
              "#0d0887"
             ],
             [
              0.1111111111111111,
              "#46039f"
             ],
             [
              0.2222222222222222,
              "#7201a8"
             ],
             [
              0.3333333333333333,
              "#9c179e"
             ],
             [
              0.4444444444444444,
              "#bd3786"
             ],
             [
              0.5555555555555556,
              "#d8576b"
             ],
             [
              0.6666666666666666,
              "#ed7953"
             ],
             [
              0.7777777777777778,
              "#fb9f3a"
             ],
             [
              0.8888888888888888,
              "#fdca26"
             ],
             [
              1,
              "#f0f921"
             ]
            ],
            "type": "heatmap"
           }
          ],
          "heatmapgl": [
           {
            "colorbar": {
             "outlinewidth": 0,
             "ticks": ""
            },
            "colorscale": [
             [
              0,
              "#0d0887"
             ],
             [
              0.1111111111111111,
              "#46039f"
             ],
             [
              0.2222222222222222,
              "#7201a8"
             ],
             [
              0.3333333333333333,
              "#9c179e"
             ],
             [
              0.4444444444444444,
              "#bd3786"
             ],
             [
              0.5555555555555556,
              "#d8576b"
             ],
             [
              0.6666666666666666,
              "#ed7953"
             ],
             [
              0.7777777777777778,
              "#fb9f3a"
             ],
             [
              0.8888888888888888,
              "#fdca26"
             ],
             [
              1,
              "#f0f921"
             ]
            ],
            "type": "heatmapgl"
           }
          ],
          "histogram": [
           {
            "marker": {
             "pattern": {
              "fillmode": "overlay",
              "size": 10,
              "solidity": 0.2
             }
            },
            "type": "histogram"
           }
          ],
          "histogram2d": [
           {
            "colorbar": {
             "outlinewidth": 0,
             "ticks": ""
            },
            "colorscale": [
             [
              0,
              "#0d0887"
             ],
             [
              0.1111111111111111,
              "#46039f"
             ],
             [
              0.2222222222222222,
              "#7201a8"
             ],
             [
              0.3333333333333333,
              "#9c179e"
             ],
             [
              0.4444444444444444,
              "#bd3786"
             ],
             [
              0.5555555555555556,
              "#d8576b"
             ],
             [
              0.6666666666666666,
              "#ed7953"
             ],
             [
              0.7777777777777778,
              "#fb9f3a"
             ],
             [
              0.8888888888888888,
              "#fdca26"
             ],
             [
              1,
              "#f0f921"
             ]
            ],
            "type": "histogram2d"
           }
          ],
          "histogram2dcontour": [
           {
            "colorbar": {
             "outlinewidth": 0,
             "ticks": ""
            },
            "colorscale": [
             [
              0,
              "#0d0887"
             ],
             [
              0.1111111111111111,
              "#46039f"
             ],
             [
              0.2222222222222222,
              "#7201a8"
             ],
             [
              0.3333333333333333,
              "#9c179e"
             ],
             [
              0.4444444444444444,
              "#bd3786"
             ],
             [
              0.5555555555555556,
              "#d8576b"
             ],
             [
              0.6666666666666666,
              "#ed7953"
             ],
             [
              0.7777777777777778,
              "#fb9f3a"
             ],
             [
              0.8888888888888888,
              "#fdca26"
             ],
             [
              1,
              "#f0f921"
             ]
            ],
            "type": "histogram2dcontour"
           }
          ],
          "mesh3d": [
           {
            "colorbar": {
             "outlinewidth": 0,
             "ticks": ""
            },
            "type": "mesh3d"
           }
          ],
          "parcoords": [
           {
            "line": {
             "colorbar": {
              "outlinewidth": 0,
              "ticks": ""
             }
            },
            "type": "parcoords"
           }
          ],
          "pie": [
           {
            "automargin": true,
            "type": "pie"
           }
          ],
          "scatter": [
           {
            "fillpattern": {
             "fillmode": "overlay",
             "size": 10,
             "solidity": 0.2
            },
            "type": "scatter"
           }
          ],
          "scatter3d": [
           {
            "line": {
             "colorbar": {
              "outlinewidth": 0,
              "ticks": ""
             }
            },
            "marker": {
             "colorbar": {
              "outlinewidth": 0,
              "ticks": ""
             }
            },
            "type": "scatter3d"
           }
          ],
          "scattercarpet": [
           {
            "marker": {
             "colorbar": {
              "outlinewidth": 0,
              "ticks": ""
             }
            },
            "type": "scattercarpet"
           }
          ],
          "scattergeo": [
           {
            "marker": {
             "colorbar": {
              "outlinewidth": 0,
              "ticks": ""
             }
            },
            "type": "scattergeo"
           }
          ],
          "scattergl": [
           {
            "marker": {
             "colorbar": {
              "outlinewidth": 0,
              "ticks": ""
             }
            },
            "type": "scattergl"
           }
          ],
          "scattermapbox": [
           {
            "marker": {
             "colorbar": {
              "outlinewidth": 0,
              "ticks": ""
             }
            },
            "type": "scattermapbox"
           }
          ],
          "scatterpolar": [
           {
            "marker": {
             "colorbar": {
              "outlinewidth": 0,
              "ticks": ""
             }
            },
            "type": "scatterpolar"
           }
          ],
          "scatterpolargl": [
           {
            "marker": {
             "colorbar": {
              "outlinewidth": 0,
              "ticks": ""
             }
            },
            "type": "scatterpolargl"
           }
          ],
          "scatterternary": [
           {
            "marker": {
             "colorbar": {
              "outlinewidth": 0,
              "ticks": ""
             }
            },
            "type": "scatterternary"
           }
          ],
          "surface": [
           {
            "colorbar": {
             "outlinewidth": 0,
             "ticks": ""
            },
            "colorscale": [
             [
              0,
              "#0d0887"
             ],
             [
              0.1111111111111111,
              "#46039f"
             ],
             [
              0.2222222222222222,
              "#7201a8"
             ],
             [
              0.3333333333333333,
              "#9c179e"
             ],
             [
              0.4444444444444444,
              "#bd3786"
             ],
             [
              0.5555555555555556,
              "#d8576b"
             ],
             [
              0.6666666666666666,
              "#ed7953"
             ],
             [
              0.7777777777777778,
              "#fb9f3a"
             ],
             [
              0.8888888888888888,
              "#fdca26"
             ],
             [
              1,
              "#f0f921"
             ]
            ],
            "type": "surface"
           }
          ],
          "table": [
           {
            "cells": {
             "fill": {
              "color": "#EBF0F8"
             },
             "line": {
              "color": "white"
             }
            },
            "header": {
             "fill": {
              "color": "#C8D4E3"
             },
             "line": {
              "color": "white"
             }
            },
            "type": "table"
           }
          ]
         },
         "layout": {
          "annotationdefaults": {
           "arrowcolor": "#2a3f5f",
           "arrowhead": 0,
           "arrowwidth": 1
          },
          "autotypenumbers": "strict",
          "coloraxis": {
           "colorbar": {
            "outlinewidth": 0,
            "ticks": ""
           }
          },
          "colorscale": {
           "diverging": [
            [
             0,
             "#8e0152"
            ],
            [
             0.1,
             "#c51b7d"
            ],
            [
             0.2,
             "#de77ae"
            ],
            [
             0.3,
             "#f1b6da"
            ],
            [
             0.4,
             "#fde0ef"
            ],
            [
             0.5,
             "#f7f7f7"
            ],
            [
             0.6,
             "#e6f5d0"
            ],
            [
             0.7,
             "#b8e186"
            ],
            [
             0.8,
             "#7fbc41"
            ],
            [
             0.9,
             "#4d9221"
            ],
            [
             1,
             "#276419"
            ]
           ],
           "sequential": [
            [
             0,
             "#0d0887"
            ],
            [
             0.1111111111111111,
             "#46039f"
            ],
            [
             0.2222222222222222,
             "#7201a8"
            ],
            [
             0.3333333333333333,
             "#9c179e"
            ],
            [
             0.4444444444444444,
             "#bd3786"
            ],
            [
             0.5555555555555556,
             "#d8576b"
            ],
            [
             0.6666666666666666,
             "#ed7953"
            ],
            [
             0.7777777777777778,
             "#fb9f3a"
            ],
            [
             0.8888888888888888,
             "#fdca26"
            ],
            [
             1,
             "#f0f921"
            ]
           ],
           "sequentialminus": [
            [
             0,
             "#0d0887"
            ],
            [
             0.1111111111111111,
             "#46039f"
            ],
            [
             0.2222222222222222,
             "#7201a8"
            ],
            [
             0.3333333333333333,
             "#9c179e"
            ],
            [
             0.4444444444444444,
             "#bd3786"
            ],
            [
             0.5555555555555556,
             "#d8576b"
            ],
            [
             0.6666666666666666,
             "#ed7953"
            ],
            [
             0.7777777777777778,
             "#fb9f3a"
            ],
            [
             0.8888888888888888,
             "#fdca26"
            ],
            [
             1,
             "#f0f921"
            ]
           ]
          },
          "colorway": [
           "#636efa",
           "#EF553B",
           "#00cc96",
           "#ab63fa",
           "#FFA15A",
           "#19d3f3",
           "#FF6692",
           "#B6E880",
           "#FF97FF",
           "#FECB52"
          ],
          "font": {
           "color": "#2a3f5f"
          },
          "geo": {
           "bgcolor": "white",
           "lakecolor": "white",
           "landcolor": "#E5ECF6",
           "showlakes": true,
           "showland": true,
           "subunitcolor": "white"
          },
          "hoverlabel": {
           "align": "left"
          },
          "hovermode": "closest",
          "mapbox": {
           "style": "light"
          },
          "paper_bgcolor": "white",
          "plot_bgcolor": "#E5ECF6",
          "polar": {
           "angularaxis": {
            "gridcolor": "white",
            "linecolor": "white",
            "ticks": ""
           },
           "bgcolor": "#E5ECF6",
           "radialaxis": {
            "gridcolor": "white",
            "linecolor": "white",
            "ticks": ""
           }
          },
          "scene": {
           "xaxis": {
            "backgroundcolor": "#E5ECF6",
            "gridcolor": "white",
            "gridwidth": 2,
            "linecolor": "white",
            "showbackground": true,
            "ticks": "",
            "zerolinecolor": "white"
           },
           "yaxis": {
            "backgroundcolor": "#E5ECF6",
            "gridcolor": "white",
            "gridwidth": 2,
            "linecolor": "white",
            "showbackground": true,
            "ticks": "",
            "zerolinecolor": "white"
           },
           "zaxis": {
            "backgroundcolor": "#E5ECF6",
            "gridcolor": "white",
            "gridwidth": 2,
            "linecolor": "white",
            "showbackground": true,
            "ticks": "",
            "zerolinecolor": "white"
           }
          },
          "shapedefaults": {
           "line": {
            "color": "#2a3f5f"
           }
          },
          "ternary": {
           "aaxis": {
            "gridcolor": "white",
            "linecolor": "white",
            "ticks": ""
           },
           "baxis": {
            "gridcolor": "white",
            "linecolor": "white",
            "ticks": ""
           },
           "bgcolor": "#E5ECF6",
           "caxis": {
            "gridcolor": "white",
            "linecolor": "white",
            "ticks": ""
           }
          },
          "title": {
           "x": 0.05
          },
          "xaxis": {
           "automargin": true,
           "gridcolor": "white",
           "linecolor": "white",
           "ticks": "",
           "title": {
            "standoff": 15
           },
           "zerolinecolor": "white",
           "zerolinewidth": 2
          },
          "yaxis": {
           "automargin": true,
           "gridcolor": "white",
           "linecolor": "white",
           "ticks": "",
           "title": {
            "standoff": 15
           },
           "zerolinecolor": "white",
           "zerolinewidth": 2
          }
         }
        },
        "title": {
         "text": "Event Trace without Time"
        },
        "width": 1200,
        "xaxis": {
         "rangeslider": {
          "visible": true
         },
         "ticktext": [
          [
           0,
           1394
          ],
          [
           10,
           3013
          ],
          [
           20,
           6154
          ],
          [
           30,
           7252
          ],
          [
           40,
           9341
          ],
          [
           50,
           12484
          ],
          [
           60,
           13561
          ],
          [
           70,
           15670
          ],
          [
           80,
           17779
          ],
          [
           90,
           19888
          ],
          [
           100,
           21997
          ],
          [
           110,
           23075
          ],
          [
           120,
           26218
          ],
          [
           130,
           27317
          ],
          [
           140,
           29406
          ],
          [
           150,
           32548
          ],
          [
           160,
           33626
          ],
          [
           170,
           35736
          ],
          [
           180,
           37847
          ],
          [
           190,
           39957
          ],
          [
           200,
           42066
          ],
          [
           210,
           43143
          ],
          [
           220,
           46287
          ],
          [
           230,
           47386
          ],
          [
           240,
           49475
          ],
          [
           250,
           52620
          ],
          [
           260,
           53698
          ],
          [
           270,
           55809
          ],
          [
           280,
           57920
          ],
          [
           290,
           60030
          ],
          [
           300,
           62138
          ],
          [
           310,
           63216
          ],
          [
           320,
           66359
          ],
          [
           330,
           67457
          ],
          [
           340,
           69546
          ],
          [
           350,
           72689
          ],
          [
           360,
           73767
          ],
          [
           370,
           75877
          ],
          [
           380,
           77988
          ],
          [
           390,
           80099
          ],
          [
           400,
           82209
          ],
          [
           410,
           83288
          ],
          [
           420,
           86431
          ],
          [
           430,
           87529
          ],
          [
           440,
           89618
          ],
          [
           450,
           92761
          ],
          [
           460,
           93839
          ],
          [
           470,
           95949
          ],
          [
           480,
           98061
          ],
          [
           490,
           100171
          ],
          [
           500,
           102280
          ],
          [
           510,
           103359
          ],
          [
           520,
           106503
          ],
          [
           530,
           107602
          ],
          [
           540,
           109692
          ],
          [
           550,
           112835
          ],
          [
           560,
           113912
          ],
          [
           570,
           116022
          ],
          [
           580,
           118134
          ],
          [
           590,
           120244
          ],
          [
           600,
           122353
          ],
          [
           610,
           123432
          ],
          [
           620,
           126575
          ],
          [
           630,
           127673
          ],
          [
           640,
           129764
          ],
          [
           650,
           132907
          ],
          [
           660,
           133984
          ],
          [
           670,
           136093
          ],
          [
           680,
           138204
          ],
          [
           690,
           140314
          ],
          [
           700,
           142424
          ],
          [
           710,
           143502
          ],
          [
           720,
           146646
          ],
          [
           730,
           147745
          ],
          [
           740,
           149834
          ],
          [
           750,
           152978
          ],
          [
           760,
           154057
          ],
          [
           770,
           156168
          ],
          [
           780,
           158280
          ],
          [
           790,
           160390
          ],
          [
           800,
           162499
          ],
          [
           810,
           163577
          ],
          [
           820,
           166722
          ],
          [
           830,
           167820
          ],
          [
           840,
           169909
          ],
          [
           850,
           172021
          ],
          [
           860,
           174130
          ],
          [
           870,
           176242
          ],
          [
           880,
           178355
          ],
          [
           890,
           180465
          ],
          [
           900,
           182575
          ],
          [
           910,
           183653
          ],
          [
           920,
           186798
          ],
          [
           930,
           187895
          ],
          [
           940,
           189984
          ],
          [
           950,
           192096
          ],
          [
           960,
           194207
          ],
          [
           970,
           196317
          ],
          [
           980,
           198429
          ],
          [
           990,
           200539
          ],
          [
           1000,
           202650
          ],
          [
           1010,
           203729
          ],
          [
           1020,
           206873
          ],
          [
           1030,
           207973
          ],
          [
           1040,
           210061
          ],
          [
           1050,
           212171
          ],
          [
           1060,
           214282
          ],
          [
           1070,
           216393
          ],
          [
           1080,
           218504
          ],
          [
           1090,
           220615
          ],
          [
           1100,
           222723
          ],
          [
           1110,
           223802
          ],
          [
           1120,
           226944
          ],
          [
           1130,
           228045
          ],
          [
           1140,
           230134
          ],
          [
           1150,
           232243
          ],
          [
           1160,
           234354
          ],
          [
           1170,
           236465
          ],
          [
           1180,
           238576
          ],
          [
           1190,
           240687
          ],
          [
           1200,
           242796
          ],
          [
           1210,
           243875
          ],
          [
           1220,
           247018
          ],
          [
           1230,
           248095
          ],
          [
           1240,
           250206
          ],
          [
           1250,
           252317
          ],
          [
           1260,
           254430
          ],
          [
           1270,
           256540
          ],
          [
           1280,
           258651
          ],
          [
           1290,
           260763
          ],
          [
           1300,
           262872
          ],
          [
           1310,
           263951
          ],
          [
           1320,
           267095
          ],
          [
           1330,
           268172
          ],
          [
           1340,
           270283
          ],
          [
           1350,
           272394
          ],
          [
           1360,
           274504
          ],
          [
           1370,
           276614
          ],
          [
           1380,
           278726
          ],
          [
           1390,
           280838
          ],
          [
           1400,
           282948
          ],
          [
           1410,
           284028
          ],
          [
           1420,
           287171
          ],
          [
           1430,
           288249
          ],
          [
           1440,
           290360
          ],
          [
           1450,
           292472
          ],
          [
           1460,
           294582
          ],
          [
           1470,
           296694
          ],
          [
           1480,
           298806
          ],
          [
           1490,
           300916
          ],
          [
           1500,
           302017
          ],
          [
           1510,
           304107
          ],
          [
           1520,
           307251
          ],
          [
           1530,
           308331
          ],
          [
           1540,
           310442
          ],
          [
           1550,
           312553
          ],
          [
           1560,
           314665
          ],
          [
           1570,
           316775
          ],
          [
           1580,
           318887
          ],
          [
           1590,
           320997
          ],
          [
           1600,
           322095
          ],
          [
           1610,
           324184
          ],
          [
           1620,
           327328
          ],
          [
           1630,
           328408
          ],
          [
           1640,
           330523
          ],
          [
           1650,
           332633
          ],
          [
           1660,
           334743
          ],
          [
           1670,
           336854
          ],
          [
           1680,
           338964
          ],
          [
           1690,
           341076
          ],
          [
           1700,
           342174
          ],
          [
           1710,
           344263
          ],
          [
           1720,
           347409
          ],
          [
           1730,
           348487
          ],
          [
           1740,
           350599
          ],
          [
           1750,
           352709
          ],
          [
           1760,
           354819
          ],
          [
           1770,
           356933
          ],
          [
           1780,
           359931
          ],
          [
           1790,
           362043
          ],
          [
           1800,
           363120
          ],
          [
           1810,
           365252
          ],
          [
           1820,
           367343
          ],
          [
           1830,
           369455
          ],
          [
           1840,
           371586
          ],
          [
           1850,
           373677
          ],
          [
           1860,
           375788
          ],
          [
           1870,
           377901
          ],
          [
           1880,
           379001
          ],
          [
           1890,
           382124
          ],
          [
           1900,
           383202
          ],
          [
           1910,
           385337
          ],
          [
           1920,
           387426
          ],
          [
           1930,
           389538
          ],
          [
           1940,
           391669
          ],
          [
           1950,
           393762
          ],
          [
           1960,
           395873
          ],
          [
           1970,
           397983
          ],
          [
           1980,
           399082
          ],
          [
           1990,
           402205
          ],
          [
           2000,
           403287
          ],
          [
           2010,
           405419
          ],
          [
           2020,
           407509
          ],
          [
           2030,
           409622
          ],
          [
           2040,
           411754
          ],
          [
           2050,
           413843
          ],
          [
           2060,
           415953
          ],
          [
           2070,
           418064
          ],
          [
           2080,
           419164
          ],
          [
           2090,
           422288
          ],
          [
           2100,
           423365
          ],
          [
           2110,
           425497
          ],
          [
           2120,
           427590
          ],
          [
           2130,
           429702
          ],
          [
           2140,
           431834
          ],
          [
           2150,
           433925
          ],
          [
           2160,
           436038
          ],
          [
           2170,
           438149
          ],
          [
           2180,
           439246
          ],
          [
           2190,
           442371
          ],
          [
           2200,
           443448
          ],
          [
           2210,
           445582
          ],
          [
           2220,
           447673
          ],
          [
           2230,
           449781
          ],
          [
           2240,
           451913
          ],
          [
           2250,
           454003
          ],
          [
           2260,
           456117
          ],
          [
           2270,
           458229
          ],
          [
           2280,
           459327
          ],
          [
           2290,
           462452
          ],
          [
           2300,
           463530
          ],
          [
           2310,
           465661
          ],
          [
           2320,
           467752
          ],
          [
           2330,
           469863
          ],
          [
           2340,
           471973
          ],
          [
           2350,
           473075
          ],
          [
           2360,
           476197
          ],
          [
           2370,
           478309
          ],
          [
           2380,
           479408
          ],
          [
           2390,
           482532
          ],
          [
           2400,
           483612
          ],
          [
           2410,
           485744
          ],
          [
           2420,
           487833
          ],
          [
           2430,
           489944
          ],
          [
           2440,
           492055
          ],
          [
           2450,
           493156
          ],
          [
           2460,
           496281
          ],
          [
           2470,
           498391
          ],
          [
           2480,
           499494
          ],
          [
           2490,
           502618
          ],
          [
           2500,
           503695
          ],
          [
           2510,
           505829
          ],
          [
           2520,
           507920
          ],
          [
           2530,
           510031
          ],
          [
           2540,
           512141
          ],
          [
           2550,
           513239
          ],
          [
           2560,
           516364
          ],
          [
           2570,
           518474
          ],
          [
           2580,
           519574
          ],
          [
           2590,
           522698
          ],
          [
           2600,
           523774
          ],
          [
           2610,
           525910
          ],
          [
           2620,
           528002
          ],
          [
           2630,
           530112
          ],
          [
           2640,
           532225
          ],
          [
           2650,
           533323
          ],
          [
           2660,
           536448
          ],
          [
           2670,
           538559
          ],
          [
           2680,
           539656
          ],
          [
           2690,
           544133
          ],
          [
           2700,
           545211
          ],
          [
           2710,
           548357
          ],
          [
           2720,
           549434
          ],
          [
           2730,
           551544
          ],
          [
           2740,
           553661
          ],
          [
           2750,
           555772
          ],
          [
           2760,
           557882
          ],
          [
           2770,
           558961
          ],
          [
           2780,
           562105
          ],
          [
           2790,
           563203
          ],
          [
           2800,
           565294
          ],
          [
           2810,
           567405
          ],
          [
           2820,
           569520
          ],
          [
           2830,
           571631
          ],
          [
           2840,
           573741
          ],
          [
           2850,
           575852
          ],
          [
           2860,
           577961
          ],
          [
           2870,
           579040
          ],
          [
           2880,
           582186
          ],
          [
           2890,
           583288
          ],
          [
           2900,
           585380
          ],
          [
           2910,
           587492
          ],
          [
           2920,
           589602
          ],
          [
           2930,
           591714
          ],
          [
           2940,
           593826
          ],
          [
           2950,
           595941
          ],
          [
           2960,
           598052
          ],
          [
           2970,
           599131
          ],
          [
           2980,
           602277
          ],
          [
           2990,
           603378
          ],
          [
           3000,
           605468
          ],
          [
           3010,
           607585
          ],
          [
           3020,
           609697
          ],
          [
           3030,
           611810
          ],
          [
           3040,
           613922
          ],
          [
           3050,
           616033
          ],
          [
           3060,
           618146
          ],
          [
           3070,
           619229
          ],
          [
           3080,
           622375
          ],
          [
           3090,
           623453
          ],
          [
           3100,
           625564
          ],
          [
           3110,
           627677
          ],
          [
           3120,
           629789
          ],
          [
           3130,
           631900
          ],
          [
           3140,
           634016
          ],
          [
           3150,
           636150
          ],
          [
           3160,
           638242
          ],
          [
           3170,
           640353
          ],
          [
           3180,
           642464
          ],
          [
           3190,
           643565
          ],
          [
           3200,
           646694
          ],
          [
           3210,
           648805
          ],
          [
           3220,
           649904
          ],
          [
           3230,
           653028
          ],
          [
           3240,
           654110
          ],
          [
           3250,
           656243
          ],
          [
           3260,
           658334
          ],
          [
           3270,
           660452
          ],
          [
           3280,
           662563
          ],
          [
           3290,
           663664
          ],
          [
           3300,
           666790
          ],
          [
           3310,
           668902
          ],
          [
           3320,
           671015
          ],
          [
           3330,
           673127
          ],
          [
           3340,
           675266
          ],
          [
           3350,
           678390
          ],
          [
           3360,
           680505
          ],
          [
           3370,
           682616
          ],
          [
           3380,
           684735
          ],
          [
           3390,
           686868
          ],
          [
           3400,
           688960
          ],
          [
           3410,
           692105
          ],
          [
           3420,
           693209
          ],
          [
           3430,
           696335
          ],
          [
           3440,
           698446
          ],
          [
           3450,
           700557
          ],
          [
           3460,
           702670
          ],
          [
           3470,
           704804
          ],
          [
           3480,
           707934
          ],
          [
           3490,
           710046
          ],
          [
           3500,
           712159
          ],
          [
           3510,
           714271
          ],
          [
           3520,
           716404
          ],
          [
           3530,
           718496
          ],
          [
           3540,
           721641
          ],
          [
           3550,
           722746
          ],
          [
           3560,
           725869
          ],
          [
           3570,
           727983
          ],
          [
           3580,
           729085
          ],
          [
           3590,
           732209
          ],
          [
           3600,
           734327
          ],
          [
           3610,
           735428
          ],
          [
           3620,
           737519
          ],
          [
           3630,
           739634
          ],
          [
           3640,
           741766
          ],
          [
           3650,
           743858
          ],
          [
           3660,
           745975
          ],
          [
           3670,
           748086
          ],
          [
           3680,
           750204
          ],
          [
           3690,
           753348
          ],
          [
           3700,
           754430
          ],
          [
           3710,
           756546
          ],
          [
           3720,
           758657
          ],
          [
           3730,
           760774
          ],
          [
           3740,
           762884
          ],
          [
           3750,
           763966
          ],
          [
           3760,
           767118
          ],
          [
           3770,
           768218
          ],
          [
           3780,
           770314
          ],
          [
           3790,
           772426
          ],
          [
           3800,
           774542
          ],
          [
           3810,
           776658
          ],
          [
           3820,
           778771
          ],
          [
           3830,
           780887
          ],
          [
           3840,
           783001
          ],
          [
           3850,
           785113
          ],
          [
           3860,
           787247
          ],
          [
           3870,
           789339
          ],
          [
           3880,
           792485
          ],
          [
           3890,
           793585
          ],
          [
           3900,
           796711
          ],
          [
           3910,
           798822
          ],
          [
           3920,
           800934
          ],
          [
           3930,
           803054
          ],
          [
           3940,
           805186
          ],
          [
           3950,
           808311
          ],
          [
           3960,
           810426
          ],
          [
           3970,
           812539
          ],
          [
           3980,
           814652
          ],
          [
           3990,
           816786
          ],
          [
           4000,
           818882
          ],
          [
           4010,
           822026
          ],
          [
           4020,
           823128
          ],
          [
           4030,
           826251
          ],
          [
           4040,
           828365
          ],
          [
           4050,
           830480
          ],
          [
           4060,
           832591
          ],
          [
           4070,
           834731
          ],
          [
           4080,
           837856
          ],
          [
           4090,
           839970
          ],
          [
           4100,
           842082
          ],
          [
           4110,
           844197
          ],
          [
           4120,
           846323
          ],
          [
           4130,
           847422
          ],
          [
           4140,
           849530
          ],
          [
           4150,
           852675
          ],
          [
           4160,
           853754
          ],
          [
           4170,
           855889
          ],
          [
           4180,
           858000
          ],
          [
           4190,
           860130
          ],
          [
           4200,
           862244
          ],
          [
           4210,
           864356
          ],
          [
           4220,
           866484
          ],
          [
           4230,
           867583
          ],
          [
           4240,
           869688
          ],
          [
           4250,
           872841
          ],
          [
           4260,
           873920
          ],
          [
           4270,
           876047
          ],
          [
           4280,
           878160
          ],
          [
           4290,
           880287
          ],
          [
           4300,
           882399
          ],
          [
           4310,
           883494
          ],
          [
           4320,
           886643
          ],
          [
           4330,
           887743
          ],
          [
           4340,
           889854
          ],
          [
           4350,
           893001
          ],
          [
           4360,
           894080
          ],
          [
           4370,
           896206
          ],
          [
           4380,
           898321
          ],
          [
           4390,
           900433
          ],
          [
           4400,
           902561
          ],
          [
           4410,
           903655
          ],
          [
           4420,
           906807
          ],
          [
           4430,
           907908
          ],
          [
           4440,
           910014
          ],
          [
           4450,
           913160
          ],
          [
           4460,
           914239
          ],
          [
           4470,
           916365
          ],
          [
           4480,
           918480
          ],
          [
           4490,
           920604
          ],
          [
           4500,
           922714
          ],
          [
           4510,
           923816
          ],
          [
           4520,
           926961
          ],
          [
           4530,
           928062
          ],
          [
           4540,
           930170
          ],
          [
           4550,
           933314
          ],
          [
           4560,
           934416
          ],
          [
           4570,
           936523
          ],
          [
           4580,
           938635
          ],
          [
           4590,
           940768
          ],
          [
           4600,
           942878
          ],
          [
           4610,
           943971
          ],
          [
           4620,
           947118
          ],
          [
           4630,
           948218
          ],
          [
           4640,
           950327
          ],
          [
           4650,
           952439
          ],
          [
           4660,
           954565
          ],
          [
           4670,
           956678
          ],
          [
           4680,
           958790
          ],
          [
           4690,
           960919
          ],
          [
           4700,
           963030
          ],
          [
           4710,
           964123
          ],
          [
           4720,
           967275
          ],
          [
           4730,
           968375
          ],
          [
           4740,
           970479
          ],
          [
           4750,
           972593
          ],
          [
           4760,
           974720
          ],
          [
           4770,
           976835
          ],
          [
           4780,
           978947
          ],
          [
           4790,
           981075
          ],
          [
           4800,
           983193
          ],
          [
           4810,
           985305
          ],
          [
           4820,
           987418
          ],
          [
           4830,
           989529
          ],
          [
           4840,
           992676
          ],
          [
           4850,
           993775
          ],
          [
           4860,
           996900
          ],
          [
           4870,
           999018
          ],
          [
           4880,
           1001130
          ],
          [
           4890,
           1003251
          ],
          [
           4900,
           1005384
          ],
          [
           4910,
           1007475
          ],
          [
           4920,
           1010621
          ],
          [
           4930,
           1012732
          ],
          [
           4940,
           1014848
          ],
          [
           4950,
           1016981
          ],
          [
           4960,
           1019074
          ],
          [
           4970,
           1022219
          ],
          [
           4980,
           1023326
          ],
          [
           4990,
           1026450
          ],
          [
           5000,
           1028562
          ],
          [
           5010,
           1030678
          ],
          [
           5020,
           1032790
          ],
          [
           5030,
           1034925
          ],
          [
           5040,
           1038049
          ],
          [
           5050,
           1040161
          ],
          [
           5060,
           1042274
          ],
          [
           5070,
           1044387
          ],
          [
           5080,
           1046527
          ],
          [
           5090,
           1048618
          ],
          [
           5100,
           1051766
          ],
          [
           5110,
           1052867
          ],
          [
           5120,
           1055995
          ],
          [
           5130,
           1058107
          ],
          [
           5140,
           1060218
          ],
          [
           5150,
           1063370
          ],
          [
           5160,
           1064476
          ],
          [
           5170,
           1067609
          ],
          [
           5180,
           1069727
          ],
          [
           5190,
           1071848
          ],
          [
           5200,
           1073967
          ],
          [
           5210,
           1076110
          ],
          [
           5220,
           1078215
          ],
          [
           5230,
           1081370
          ],
          [
           5240,
           1082476
          ],
          [
           5250,
           1085610
          ],
          [
           5260,
           1087731
          ],
          [
           5270,
           1089851
          ],
          [
           5280,
           1093005
          ],
          [
           5290,
           1094111
          ],
          [
           5300,
           1097245
          ],
          [
           5310,
           1099363
          ],
          [
           5320,
           1101491
          ],
          [
           5330,
           1103610
          ],
          [
           5340,
           1105769
          ],
          [
           5350,
           1107889
          ],
          [
           5360,
           1109008
          ],
          [
           5370,
           1112162
          ],
          [
           5380,
           1113269
          ],
          [
           5390,
           1115400
          ],
          [
           5400,
           1117520
          ],
          [
           5410,
           1119672
          ],
          [
           5420,
           1121800
          ],
          [
           5430,
           1123919
          ],
          [
           5440,
           1126072
          ],
          [
           5450,
           1128192
          ],
          [
           5460,
           1129313
          ],
          [
           5470,
           1132473
          ],
          [
           5480,
           1133557
          ],
          [
           5490,
           1135712
          ],
          [
           5500,
           1137831
          ],
          [
           5510,
           1139991
          ],
          [
           5520,
           1142111
          ],
          [
           5530,
           1144230
          ],
          [
           5540,
           1146383
          ],
          [
           5550,
           1147490
          ],
          [
           5560,
           1149623
          ],
          [
           5570,
           1152778
          ],
          [
           5580,
           1153863
          ],
          [
           5590,
           1156020
          ],
          [
           5600,
           1158140
          ],
          [
           5610,
           1160300
          ],
          [
           5620,
           1162420
          ],
          [
           5630,
           1163538
          ],
          [
           5640,
           1166693
          ],
          [
           5650,
           1167798
          ],
          [
           5660,
           1169931
          ],
          [
           5670,
           1173084
          ],
          [
           5680,
           1174169
          ],
          [
           5690,
           1176325
          ],
          [
           5700,
           1178452
          ],
          [
           5710,
           1180608
          ],
          [
           5720,
           1182727
          ],
          [
           5730,
           1184847
          ],
          [
           5740,
           1187000
          ],
          [
           5750,
           1188107
          ],
          [
           5760,
           1190239
          ],
          [
           5770,
           1192359
          ],
          [
           5780,
           1194511
          ],
          [
           5790,
           1196632
          ],
          [
           5800,
           1198751
          ],
          [
           5810,
           1200912
          ],
          [
           5820,
           1203033
          ],
          [
           5830,
           1204153
          ],
          [
           5840,
           1207309
          ],
          [
           5850,
           1208416
          ],
          [
           5860,
           1210547
          ],
          [
           5870,
           1212666
          ],
          [
           5880,
           1214819
          ],
          [
           5890,
           1216940
          ],
          [
           5900,
           1219058
          ],
          [
           5910,
           1221211
          ],
          [
           5920,
           1223341
          ],
          [
           5930,
           1224460
          ],
          [
           5940,
           1227613
          ],
          [
           5950,
           1228699
          ],
          [
           5960,
           1230855
          ],
          [
           5970,
           1232975
          ],
          [
           5980,
           1235127
          ],
          [
           5990,
           1237249
          ],
          [
           6000,
           1239368
          ],
          [
           6010,
           1241522
          ],
          [
           6020,
           1242636
          ],
          [
           6030,
           1244768
          ],
          [
           6040,
           1247923
          ],
          [
           6050,
           1249007
          ],
          [
           6060,
           1251161
          ],
          [
           6070,
           1253282
          ],
          [
           6080,
           1255437
          ],
          [
           6090,
           1257559
          ],
          [
           6100,
           1258677
          ],
          [
           6110,
           1261832
          ],
          [
           6120,
           1262937
          ],
          [
           6130,
           1265079
          ],
          [
           6140,
           1268233
          ],
          [
           6150,
           1269317
          ],
          [
           6160,
           1271471
          ],
          [
           6170,
           1273590
          ],
          [
           6180,
           1275744
          ],
          [
           6190,
           1277863
          ],
          [
           6200,
           1278984
          ],
          [
           6210,
           1282140
          ],
          [
           6220,
           1283247
          ],
          [
           6230,
           1285379
          ],
          [
           6240,
           1287508
          ],
          [
           6250,
           1289660
          ],
          [
           6260,
           1291781
          ],
          [
           6270,
           1293900
          ],
          [
           6280,
           1296053
          ],
          [
           6290,
           1298173
          ],
          [
           6300,
           1299292
          ],
          [
           6310,
           1302445
          ],
          [
           6320,
           1303531
          ],
          [
           6330,
           1305689
          ],
          [
           6340,
           1307808
          ],
          [
           6350,
           1309959
          ],
          [
           6360,
           1313092
          ],
          [
           6370,
           1315211
          ],
          [
           6380,
           1317332
          ],
          [
           6390,
           1319450
          ],
          [
           6400,
           1321592
          ],
          [
           6410,
           1323689
          ],
          [
           6420,
           1326845
          ],
          [
           6430,
           1327957
          ],
          [
           6440,
           1332419
          ],
          [
           6450,
           1334539
          ],
          [
           6460,
           1336690
          ],
          [
           6470,
           1338788
          ],
          [
           6480,
           1341941
          ],
          [
           6490,
           1343049
          ],
          [
           6500,
           1346183
          ],
          [
           6510,
           1348303
          ],
          [
           6520,
           1350422
          ],
          [
           6530,
           1352542
          ],
          [
           6540,
           1354684
          ],
          [
           6550,
           1357818
          ],
          [
           6560,
           1359937
          ],
          [
           6570,
           1362066
          ],
          [
           6580,
           1364185
          ],
          [
           6590,
           1366327
          ],
          [
           6600,
           1368424
          ],
          [
           6610,
           1371579
          ],
          [
           6620,
           1372684
          ],
          [
           6630,
           1375818
          ],
          [
           6640,
           1377938
          ],
          [
           6650,
           1380060
          ],
          [
           6660,
           1383215
          ],
          [
           6670,
           1384322
          ],
          [
           6680,
           1387464
          ],
          [
           6690,
           1389583
          ],
          [
           6700,
           1391703
          ],
          [
           6710,
           1393821
          ],
          [
           6720,
           1395963
          ],
          [
           6730,
           1398060
          ],
          [
           6740,
           1401215
          ],
          [
           6750,
           1403336
          ],
          [
           6760,
           1405457
          ],
          [
           6770,
           1407577
          ],
          [
           6780,
           1408735
          ],
          [
           6790,
           1411868
          ],
          [
           6800,
           1413997
          ],
          [
           6810,
           1415155
          ],
          [
           6820,
           1418288
          ],
          [
           6830,
           1419370
          ],
          [
           6840,
           1421565
          ],
          [
           6850,
           1423662
          ],
          [
           6860,
           1425833
          ],
          [
           6870,
           1427953
          ],
          [
           6880,
           1429113
          ],
          [
           6890,
           1432248
          ],
          [
           6900,
           1434367
          ],
          [
           6910,
           1435526
          ],
          [
           6920,
           1437634
          ],
          [
           6930,
           1439805
          ],
          [
           6940,
           1441947
          ],
          [
           6950,
           1444045
          ],
          [
           6960,
           1446216
          ],
          [
           6970,
           1448335
          ],
          [
           6980,
           1449493
          ],
          [
           6990,
           1452626
          ],
          [
           7000,
           1453711
          ],
          [
           7010,
           1455907
          ],
          [
           7020,
           1458004
          ],
          [
           7030,
           1460175
          ],
          [
           7040,
           1462329
          ],
          [
           7050,
           1464426
          ],
          [
           7060,
           1466597
          ],
          [
           7070,
           1468715
          ],
          [
           7080,
           1469874
          ],
          [
           7090,
           1473007
          ],
          [
           7100,
           1474090
          ],
          [
           7110,
           1476284
          ],
          [
           7120,
           1478383
          ],
          [
           7130,
           1480556
          ],
          [
           7140,
           1482677
          ],
          [
           7150,
           1484797
          ],
          [
           7160,
           1486978
          ],
          [
           7170,
           1489098
          ],
          [
           7180,
           1490256
          ],
          [
           7190,
           1493390
          ],
          [
           7200,
           1494473
          ],
          [
           7210,
           1496667
          ],
          [
           7220,
           1498765
          ],
          [
           7230,
           1500936
          ],
          [
           7240,
           1503056
          ],
          [
           7250,
           1504215
          ],
          [
           7260,
           1507350
          ],
          [
           7270,
           1508433
          ],
          [
           7280,
           1510628
          ],
          [
           7290,
           1512737
          ],
          [
           7300,
           1514908
          ],
          [
           7310,
           1517050
          ],
          [
           7320,
           1519147
          ],
          [
           7330,
           1521318
          ],
          [
           7340,
           1523437
          ],
          [
           7350,
           1524595
          ],
          [
           7360,
           1527728
          ],
          [
           7370,
           1528812
          ],
          [
           7380,
           1531008
          ],
          [
           7390,
           1533107
          ],
          [
           7400,
           1535278
          ],
          [
           7410,
           1537398
          ],
          [
           7420,
           1538566
          ],
          [
           7430,
           1541699
          ],
          [
           7440,
           1543818
          ],
          [
           7450,
           1544977
          ],
          [
           7460,
           1548110
          ],
          [
           7470,
           1549193
          ],
          [
           7480,
           1551387
          ],
          [
           7490,
           1553486
          ],
          [
           7500,
           1555660
          ],
          [
           7510,
           1557781
          ],
          [
           7520,
           1558938
          ],
          [
           7530,
           1562072
          ],
          [
           7540,
           1564190
          ],
          [
           7550,
           1565361
          ],
          [
           7560,
           1567458
          ],
          [
           7570,
           1569630
          ],
          [
           7580,
           1571772
          ],
          [
           7590,
           1573869
          ],
          [
           7600,
           1576041
          ],
          [
           7610,
           1578161
          ],
          [
           7620,
           1580283
          ],
          [
           7630,
           1582402
          ],
          [
           7640,
           1584544
          ],
          [
           7650,
           1587677
          ],
          [
           7660,
           1589795
          ],
          [
           7670,
           1591917
          ],
          [
           7680,
           1594048
          ],
          [
           7690,
           1596190
          ],
          [
           7700,
           1598288
          ],
          [
           7710,
           1601446
          ],
          [
           7720,
           1602554
          ],
          [
           7730,
           1605689
          ],
          [
           7740,
           1607810
          ],
          [
           7750,
           1609930
          ],
          [
           7760,
           1613084
          ],
          [
           7770,
           1614191
          ],
          [
           7780,
           1617324
          ],
          [
           7790,
           1619445
          ],
          [
           7800,
           1621566
          ],
          [
           7810,
           1623697
          ],
          [
           7820,
           1625839
          ],
          [
           7830,
           1627938
          ],
          [
           7840,
           1631092
          ],
          [
           7850,
           1633213
          ],
          [
           7860,
           1634362
          ],
          [
           7870,
           1637519
          ],
          [
           7880,
           1638627
          ],
          [
           7890,
           1640789
          ],
          [
           7900,
           1642907
          ],
          [
           7910,
           1645049
          ],
          [
           7920,
           1648183
          ],
          [
           7930,
           1649266
          ],
          [
           7940,
           1651483
          ],
          [
           7950,
           1653583
          ],
          [
           7960,
           1655766
          ],
          [
           7970,
           1657886
          ],
          [
           7980,
           1659054
          ],
          [
           7990,
           1662187
          ],
          [
           8000,
           1664306
          ],
          [
           8010,
           1665478
          ],
          [
           8020,
           1667576
          ],
          [
           8030,
           1669759
          ],
          [
           8040,
           1671901
          ],
          [
           8050,
           1673998
          ],
          [
           8060,
           1676181
          ],
          [
           8070,
           1678301
          ],
          [
           8080,
           1679482
          ],
          [
           8090,
           1682617
          ],
          [
           8100,
           1683700
          ],
          [
           8110,
           1685906
          ],
          [
           8120,
           1688003
          ],
          [
           8130,
           1690185
          ],
          [
           8140,
           1692329
          ],
          [
           8150,
           1694426
          ],
          [
           8160,
           1696609
          ],
          [
           8170,
           1698727
          ],
          [
           8180,
           1699898
          ],
          [
           8190,
           1703032
          ],
          [
           8200,
           1704117
          ],
          [
           8210,
           1706324
          ],
          [
           8220,
           1708421
          ],
          [
           8230,
           1710615
          ],
          [
           8240,
           1712734
          ],
          [
           8250,
           1714854
          ],
          [
           8260,
           1718008
          ],
          [
           8270,
           1719114
          ],
          [
           8280,
           1722247
          ],
          [
           8290,
           1724367
          ],
          [
           8300,
           1726489
          ],
          [
           8310,
           1728609
          ],
          [
           8320,
           1730752
          ],
          [
           8330,
           1732849
          ],
          [
           8340,
           1736004
          ],
          [
           8350,
           1738123
          ],
          [
           8360,
           1740243
          ],
          [
           8370,
           1742376
          ],
          [
           8380,
           1744496
          ],
          [
           8390,
           1747651
          ],
          [
           8400,
           1748758
          ],
          [
           8410,
           1751891
          ],
          [
           8420,
           1754011
          ],
          [
           8430,
           1756134
          ],
          [
           8440,
           1758254
          ],
          [
           8450,
           1760396
          ],
          [
           8460,
           1762493
          ],
          [
           8470,
           1765647
          ],
          [
           8480,
           1767769
          ],
          [
           8490,
           1769888
          ],
          [
           8500,
           1772083
          ],
          [
           8510,
           1773204
          ],
          [
           8520,
           1775375
          ],
          [
           8530,
           1777495
          ],
          [
           8540,
           1779686
          ],
          [
           8550,
           1781810
          ],
          [
           8560,
           1783928
          ],
          [
           8570,
           1786120
          ],
          [
           8580,
           1788241
          ],
          [
           8590,
           1789398
          ],
          [
           8600,
           1792553
          ],
          [
           8610,
           1793637
          ],
          [
           8620,
           1795833
          ],
          [
           8630,
           1797953
          ],
          [
           8640,
           1800144
          ],
          [
           8650,
           1802266
          ],
          [
           8660,
           1804398
          ],
          [
           8670,
           1806593
          ],
          [
           8680,
           1807698
          ],
          [
           8690,
           1809870
          ],
          [
           8700,
           1813024
          ],
          [
           8710,
           1814109
          ],
          [
           8720,
           1816302
          ],
          [
           8730,
           1818420
          ],
          [
           8740,
           1820615
          ],
          [
           8750,
           1822736
          ],
          [
           8760,
           1823892
          ],
          [
           8770,
           1827047
          ],
          [
           8780,
           1828155
          ],
          [
           8790,
           1830328
          ],
          [
           8800,
           1832448
          ],
          [
           8810,
           1834641
          ],
          [
           8820,
           1836774
          ],
          [
           8830,
           1838894
          ],
          [
           8840,
           1841036
          ],
          [
           8850,
           1843134
          ],
          [
           8860,
           1846290
          ],
          [
           8870,
           1847396
          ],
          [
           8880,
           1850531
          ],
          [
           8890,
           1852651
          ],
          [
           8900,
           1854772
          ],
          [
           8910,
           1857929
          ],
          [
           8920,
           1859035
          ],
          [
           8930,
           1862168
          ],
          [
           8940,
           1864287
          ],
          [
           8950,
           1866408
          ],
          [
           8960,
           1868526
          ],
          [
           8970,
           1870682
          ],
          [
           8980,
           1872780
          ],
          [
           8990,
           1874979
          ],
          [
           9000,
           1877122
          ],
          [
           9010,
           1879221
          ],
          [
           9020,
           1881423
          ],
          [
           9030,
           1883543
          ],
          [
           9040,
           1884730
          ],
          [
           9050,
           1887864
          ],
          [
           9060,
           1889984
          ],
          [
           9070,
           1891171
          ],
          [
           9080,
           1893268
          ],
          [
           9090,
           1895468
          ],
          [
           9100,
           1897588
          ],
          [
           9110,
           1898772
          ],
          [
           9120,
           1901907
          ],
          [
           9130,
           1904040
          ],
          [
           9140,
           1905229
          ],
          [
           9150,
           1908364
          ],
          [
           9160,
           1909447
          ],
          [
           9170,
           1911670
          ],
          [
           9180,
           1913767
          ],
          [
           9190,
           1915966
          ],
          [
           9200,
           1918086
          ],
          [
           9210,
           1919270
          ],
          [
           9220,
           1922404
          ],
          [
           9230,
           1923487
          ],
          [
           9240,
           1925709
          ],
          [
           9250,
           1927808
          ],
          [
           9260,
           1930966
          ],
          [
           9270,
           1933087
          ],
          [
           9280,
           1935206
          ],
          [
           9290,
           1937362
          ],
          [
           9300,
           1939459
          ],
          [
           9310,
           1942614
          ],
          [
           9320,
           1943720
          ],
          [
           9330,
           1946853
          ],
          [
           9340,
           1948974
          ],
          [
           9350,
           1951097
          ],
          [
           9360,
           1953217
          ],
          [
           9370,
           1955360
          ],
          [
           9380,
           1957458
          ],
          [
           9390,
           1960612
          ],
          [
           9400,
           1962732
          ],
          [
           9410,
           1964851
          ],
          [
           9420,
           1966994
          ],
          [
           9430,
           1969091
          ],
          [
           9440,
           1972246
          ],
          [
           9450,
           1973367
          ],
          [
           9460,
           1975555
          ],
          [
           9470,
           1977678
          ],
          [
           9480,
           1979884
          ],
          [
           9490,
           1982007
          ],
          [
           9500,
           1984125
          ],
          [
           9510,
           1986331
          ],
          [
           9520,
           1987438
          ],
          [
           9530,
           1989622
          ],
          [
           9540,
           1992777
          ],
          [
           9550,
           1993862
          ],
          [
           9560,
           1996069
          ],
          [
           9570,
           1998188
          ],
          [
           9580,
           2000396
          ],
          [
           9590,
           2002518
          ],
          [
           9600,
           2003692
          ],
          [
           9610,
           2006863
          ],
          [
           9620,
           2007969
          ],
          [
           9630,
           2010154
          ],
          [
           9640,
           2013308
          ],
          [
           9650,
           2014392
          ],
          [
           9660,
           2016600
          ],
          [
           9670,
           2018718
          ],
          [
           9680,
           2020924
          ],
          [
           9690,
           2023046
          ],
          [
           9700,
           2024218
          ],
          [
           9710,
           2027373
          ],
          [
           9720,
           2028460
          ],
          [
           9730,
           2030669
          ],
          [
           9740,
           2032788
          ],
          [
           9750,
           2034993
          ],
          [
           9760,
           2037115
          ],
          [
           9770,
           2039233
          ],
          [
           9780,
           2041391
          ],
          [
           9790,
           2043489
          ],
          [
           9800,
           2046644
          ],
          [
           9810,
           2047750
          ],
          [
           9820,
           2050884
          ],
          [
           9830,
           2053005
          ],
          [
           9840,
           2055127
          ],
          [
           9850,
           2058282
          ],
          [
           9860,
           2059389
          ],
          [
           9870,
           2062522
          ],
          [
           9880,
           2064641
          ],
          [
           9890,
           2066763
          ],
          [
           9900,
           2068882
          ],
          [
           9910,
           2071094
          ],
          [
           9920,
           2073214
          ],
          [
           9930,
           2074391
          ],
          [
           9940,
           2077546
          ],
          [
           9950,
           2078649
          ],
          [
           9960,
           2080862
          ],
          [
           9970,
           2082983
          ],
          [
           9980,
           2085125
          ],
          [
           9990,
           2088259
          ],
          [
           10000,
           2090378
          ],
          [
           10010,
           2092497
          ],
          [
           10020,
           2094618
          ],
          [
           10030,
           2096760
          ],
          [
           10040,
           2098859
          ],
          [
           10050,
           2102014
          ],
          [
           10060,
           2103123
          ],
          [
           10070,
           2105318
          ],
          [
           10080,
           2107438
          ],
          [
           10090,
           2109652
          ],
          [
           10100,
           2111773
          ],
          [
           10110,
           2113893
          ],
          [
           10120,
           2116108
          ],
          [
           10130,
           2118229
          ],
          [
           10140,
           2119426
          ],
          [
           10150,
           2122580
          ],
          [
           10160,
           2123665
          ],
          [
           10170,
           2125883
          ],
          [
           10180,
           2128004
          ],
          [
           10190,
           2130218
          ]
         ],
         "tickvals": [
          0,
          10,
          20,
          30,
          40,
          50,
          60,
          70,
          80,
          90,
          100,
          110,
          120,
          130,
          140,
          150,
          160,
          170,
          180,
          190,
          200,
          210,
          220,
          230,
          240,
          250,
          260,
          270,
          280,
          290,
          300,
          310,
          320,
          330,
          340,
          350,
          360,
          370,
          380,
          390,
          400,
          410,
          420,
          430,
          440,
          450,
          460,
          470,
          480,
          490,
          500,
          510,
          520,
          530,
          540,
          550,
          560,
          570,
          580,
          590,
          600,
          610,
          620,
          630,
          640,
          650,
          660,
          670,
          680,
          690,
          700,
          710,
          720,
          730,
          740,
          750,
          760,
          770,
          780,
          790,
          800,
          810,
          820,
          830,
          840,
          850,
          860,
          870,
          880,
          890,
          900,
          910,
          920,
          930,
          940,
          950,
          960,
          970,
          980,
          990,
          1000,
          1010,
          1020,
          1030,
          1040,
          1050,
          1060,
          1070,
          1080,
          1090,
          1100,
          1110,
          1120,
          1130,
          1140,
          1150,
          1160,
          1170,
          1180,
          1190,
          1200,
          1210,
          1220,
          1230,
          1240,
          1250,
          1260,
          1270,
          1280,
          1290,
          1300,
          1310,
          1320,
          1330,
          1340,
          1350,
          1360,
          1370,
          1380,
          1390,
          1400,
          1410,
          1420,
          1430,
          1440,
          1450,
          1460,
          1470,
          1480,
          1490,
          1500,
          1510,
          1520,
          1530,
          1540,
          1550,
          1560,
          1570,
          1580,
          1590,
          1600,
          1610,
          1620,
          1630,
          1640,
          1650,
          1660,
          1670,
          1680,
          1690,
          1700,
          1710,
          1720,
          1730,
          1740,
          1750,
          1760,
          1770,
          1780,
          1790,
          1800,
          1810,
          1820,
          1830,
          1840,
          1850,
          1860,
          1870,
          1880,
          1890,
          1900,
          1910,
          1920,
          1930,
          1940,
          1950,
          1960,
          1970,
          1980,
          1990,
          2000,
          2010,
          2020,
          2030,
          2040,
          2050,
          2060,
          2070,
          2080,
          2090,
          2100,
          2110,
          2120,
          2130,
          2140,
          2150,
          2160,
          2170,
          2180,
          2190,
          2200,
          2210,
          2220,
          2230,
          2240,
          2250,
          2260,
          2270,
          2280,
          2290,
          2300,
          2310,
          2320,
          2330,
          2340,
          2350,
          2360,
          2370,
          2380,
          2390,
          2400,
          2410,
          2420,
          2430,
          2440,
          2450,
          2460,
          2470,
          2480,
          2490,
          2500,
          2510,
          2520,
          2530,
          2540,
          2550,
          2560,
          2570,
          2580,
          2590,
          2600,
          2610,
          2620,
          2630,
          2640,
          2650,
          2660,
          2670,
          2680,
          2690,
          2700,
          2710,
          2720,
          2730,
          2740,
          2750,
          2760,
          2770,
          2780,
          2790,
          2800,
          2810,
          2820,
          2830,
          2840,
          2850,
          2860,
          2870,
          2880,
          2890,
          2900,
          2910,
          2920,
          2930,
          2940,
          2950,
          2960,
          2970,
          2980,
          2990,
          3000,
          3010,
          3020,
          3030,
          3040,
          3050,
          3060,
          3070,
          3080,
          3090,
          3100,
          3110,
          3120,
          3130,
          3140,
          3150,
          3160,
          3170,
          3180,
          3190,
          3200,
          3210,
          3220,
          3230,
          3240,
          3250,
          3260,
          3270,
          3280,
          3290,
          3300,
          3310,
          3320,
          3330,
          3340,
          3350,
          3360,
          3370,
          3380,
          3390,
          3400,
          3410,
          3420,
          3430,
          3440,
          3450,
          3460,
          3470,
          3480,
          3490,
          3500,
          3510,
          3520,
          3530,
          3540,
          3550,
          3560,
          3570,
          3580,
          3590,
          3600,
          3610,
          3620,
          3630,
          3640,
          3650,
          3660,
          3670,
          3680,
          3690,
          3700,
          3710,
          3720,
          3730,
          3740,
          3750,
          3760,
          3770,
          3780,
          3790,
          3800,
          3810,
          3820,
          3830,
          3840,
          3850,
          3860,
          3870,
          3880,
          3890,
          3900,
          3910,
          3920,
          3930,
          3940,
          3950,
          3960,
          3970,
          3980,
          3990,
          4000,
          4010,
          4020,
          4030,
          4040,
          4050,
          4060,
          4070,
          4080,
          4090,
          4100,
          4110,
          4120,
          4130,
          4140,
          4150,
          4160,
          4170,
          4180,
          4190,
          4200,
          4210,
          4220,
          4230,
          4240,
          4250,
          4260,
          4270,
          4280,
          4290,
          4300,
          4310,
          4320,
          4330,
          4340,
          4350,
          4360,
          4370,
          4380,
          4390,
          4400,
          4410,
          4420,
          4430,
          4440,
          4450,
          4460,
          4470,
          4480,
          4490,
          4500,
          4510,
          4520,
          4530,
          4540,
          4550,
          4560,
          4570,
          4580,
          4590,
          4600,
          4610,
          4620,
          4630,
          4640,
          4650,
          4660,
          4670,
          4680,
          4690,
          4700,
          4710,
          4720,
          4730,
          4740,
          4750,
          4760,
          4770,
          4780,
          4790,
          4800,
          4810,
          4820,
          4830,
          4840,
          4850,
          4860,
          4870,
          4880,
          4890,
          4900,
          4910,
          4920,
          4930,
          4940,
          4950,
          4960,
          4970,
          4980,
          4990,
          5000,
          5010,
          5020,
          5030,
          5040,
          5050,
          5060,
          5070,
          5080,
          5090,
          5100,
          5110,
          5120,
          5130,
          5140,
          5150,
          5160,
          5170,
          5180,
          5190,
          5200,
          5210,
          5220,
          5230,
          5240,
          5250,
          5260,
          5270,
          5280,
          5290,
          5300,
          5310,
          5320,
          5330,
          5340,
          5350,
          5360,
          5370,
          5380,
          5390,
          5400,
          5410,
          5420,
          5430,
          5440,
          5450,
          5460,
          5470,
          5480,
          5490,
          5500,
          5510,
          5520,
          5530,
          5540,
          5550,
          5560,
          5570,
          5580,
          5590,
          5600,
          5610,
          5620,
          5630,
          5640,
          5650,
          5660,
          5670,
          5680,
          5690,
          5700,
          5710,
          5720,
          5730,
          5740,
          5750,
          5760,
          5770,
          5780,
          5790,
          5800,
          5810,
          5820,
          5830,
          5840,
          5850,
          5860,
          5870,
          5880,
          5890,
          5900,
          5910,
          5920,
          5930,
          5940,
          5950,
          5960,
          5970,
          5980,
          5990,
          6000,
          6010,
          6020,
          6030,
          6040,
          6050,
          6060,
          6070,
          6080,
          6090,
          6100,
          6110,
          6120,
          6130,
          6140,
          6150,
          6160,
          6170,
          6180,
          6190,
          6200,
          6210,
          6220,
          6230,
          6240,
          6250,
          6260,
          6270,
          6280,
          6290,
          6300,
          6310,
          6320,
          6330,
          6340,
          6350,
          6360,
          6370,
          6380,
          6390,
          6400,
          6410,
          6420,
          6430,
          6440,
          6450,
          6460,
          6470,
          6480,
          6490,
          6500,
          6510,
          6520,
          6530,
          6540,
          6550,
          6560,
          6570,
          6580,
          6590,
          6600,
          6610,
          6620,
          6630,
          6640,
          6650,
          6660,
          6670,
          6680,
          6690,
          6700,
          6710,
          6720,
          6730,
          6740,
          6750,
          6760,
          6770,
          6780,
          6790,
          6800,
          6810,
          6820,
          6830,
          6840,
          6850,
          6860,
          6870,
          6880,
          6890,
          6900,
          6910,
          6920,
          6930,
          6940,
          6950,
          6960,
          6970,
          6980,
          6990,
          7000,
          7010,
          7020,
          7030,
          7040,
          7050,
          7060,
          7070,
          7080,
          7090,
          7100,
          7110,
          7120,
          7130,
          7140,
          7150,
          7160,
          7170,
          7180,
          7190,
          7200,
          7210,
          7220,
          7230,
          7240,
          7250,
          7260,
          7270,
          7280,
          7290,
          7300,
          7310,
          7320,
          7330,
          7340,
          7350,
          7360,
          7370,
          7380,
          7390,
          7400,
          7410,
          7420,
          7430,
          7440,
          7450,
          7460,
          7470,
          7480,
          7490,
          7500,
          7510,
          7520,
          7530,
          7540,
          7550,
          7560,
          7570,
          7580,
          7590,
          7600,
          7610,
          7620,
          7630,
          7640,
          7650,
          7660,
          7670,
          7680,
          7690,
          7700,
          7710,
          7720,
          7730,
          7740,
          7750,
          7760,
          7770,
          7780,
          7790,
          7800,
          7810,
          7820,
          7830,
          7840,
          7850,
          7860,
          7870,
          7880,
          7890,
          7900,
          7910,
          7920,
          7930,
          7940,
          7950,
          7960,
          7970,
          7980,
          7990,
          8000,
          8010,
          8020,
          8030,
          8040,
          8050,
          8060,
          8070,
          8080,
          8090,
          8100,
          8110,
          8120,
          8130,
          8140,
          8150,
          8160,
          8170,
          8180,
          8190,
          8200,
          8210,
          8220,
          8230,
          8240,
          8250,
          8260,
          8270,
          8280,
          8290,
          8300,
          8310,
          8320,
          8330,
          8340,
          8350,
          8360,
          8370,
          8380,
          8390,
          8400,
          8410,
          8420,
          8430,
          8440,
          8450,
          8460,
          8470,
          8480,
          8490,
          8500,
          8510,
          8520,
          8530,
          8540,
          8550,
          8560,
          8570,
          8580,
          8590,
          8600,
          8610,
          8620,
          8630,
          8640,
          8650,
          8660,
          8670,
          8680,
          8690,
          8700,
          8710,
          8720,
          8730,
          8740,
          8750,
          8760,
          8770,
          8780,
          8790,
          8800,
          8810,
          8820,
          8830,
          8840,
          8850,
          8860,
          8870,
          8880,
          8890,
          8900,
          8910,
          8920,
          8930,
          8940,
          8950,
          8960,
          8970,
          8980,
          8990,
          9000,
          9010,
          9020,
          9030,
          9040,
          9050,
          9060,
          9070,
          9080,
          9090,
          9100,
          9110,
          9120,
          9130,
          9140,
          9150,
          9160,
          9170,
          9180,
          9190,
          9200,
          9210,
          9220,
          9230,
          9240,
          9250,
          9260,
          9270,
          9280,
          9290,
          9300,
          9310,
          9320,
          9330,
          9340,
          9350,
          9360,
          9370,
          9380,
          9390,
          9400,
          9410,
          9420,
          9430,
          9440,
          9450,
          9460,
          9470,
          9480,
          9490,
          9500,
          9510,
          9520,
          9530,
          9540,
          9550,
          9560,
          9570,
          9580,
          9590,
          9600,
          9610,
          9620,
          9630,
          9640,
          9650,
          9660,
          9670,
          9680,
          9690,
          9700,
          9710,
          9720,
          9730,
          9740,
          9750,
          9760,
          9770,
          9780,
          9790,
          9800,
          9810,
          9820,
          9830,
          9840,
          9850,
          9860,
          9870,
          9880,
          9890,
          9900,
          9910,
          9920,
          9930,
          9940,
          9950,
          9960,
          9970,
          9980,
          9990,
          10000,
          10010,
          10020,
          10030,
          10040,
          10050,
          10060,
          10070,
          10080,
          10090,
          10100,
          10110,
          10120,
          10130,
          10140,
          10150,
          10160,
          10170,
          10180,
          10190
         ],
         "title": {
          "text": "Number of events"
         },
         "type": "linear"
        },
        "yaxis": {
         "ticktext": [
          "1_0_main_ow",
          "1_0_main_temp",
          "1_0_main_lora",
          "1_0_main_s",
          "1_0_main_com_timer",
          "1_control_init_timer0_0",
          "1_0_main_i",
          "1_0_sense_temperature",
          "1_0_main_temperature",
          "1_control_updatedata_cls.sensor_data",
          "1_control_readdata_0",
          "1_0_loracom_data",
          "1_control_update_txmsg_0",
          "1_0_main_g_ack",
          "1_0_main_events",
          "1_control_update_rxmsg_drop"
         ],
         "tickvals": [
          1,
          2,
          3,
          4,
          5,
          6,
          7,
          8,
          9,
          10,
          11,
          12,
          13,
          14,
          15,
          16
         ],
         "title": {
          "text": "Variables"
         }
        }
       }
      }
     },
     "metadata": {},
     "output_type": "display_data"
    }
   ],
   "source": [
    "##### plot the traces with anomalies #####\n",
    "\n",
    "import plotly.graph_objects as go\n",
    "import pandas as pd\n",
    "\n",
    "\n",
    "\n",
    "\n",
    "### add all the traces to the graph\n",
    "for df in all_df:\n",
    "\n",
    "    ### plot only one graph\n",
    "    trace_toplot = 0\n",
    "    df = all_df[trace_toplot]\n",
    "    dfa = anomalies_df[trace_toplot]\n",
    "    ############################\n",
    "\n",
    "    # Create figure\n",
    "    fig = go.Figure()\n",
    "\n",
    "    df_col = df.columns\n",
    "    fig.add_trace(\n",
    "                go.Scatter(y=list(df[df_col[1]]), name=df_col[1]),   ### equivalent to: y=list(df['trace1'])\n",
    "                )\n",
    "    ### add anomalies to the graph without lines\n",
    "    for (ax, ay) in zip(dfa['index'], dfa[df_col[1]+'-anomalies']):\n",
    "        fig.add_trace(\n",
    "                go.Scatter(x=[ax], y=[ay], name=df_col[1]+'-anomalies', mode='markers', marker=dict(size=10, color='red'), showlegend=False),\n",
    "                )\n",
    "    \n",
    "    \n",
    "    # break\n",
    "    ### generate x ticks with timestamp and index num  \n",
    "    x_data = df[df_col[0]]\n",
    "    x_ticks = [(i,x_data[i]) for i in range(0,len(x_data),10) ]\n",
    "\n",
    "    # Add range slider, title, yticks, axes labels\n",
    "    fig.update_layout(\n",
    "        title_text=\"Event Trace without Time\",\n",
    "        xaxis=dict(\n",
    "            title=\"Number of events\",\n",
    "            rangeslider=dict(visible=True),\n",
    "            type='linear',\n",
    "            tickvals=[k for k in range(0,len(x_data),10)],\n",
    "            ticktext=x_ticks\n",
    "        ),\n",
    "        yaxis=dict(\n",
    "            title=\"Variables\",\n",
    "            tickvals=[k for k in range(1,len(_var_list)+1)],\n",
    "            ticktext=_var_list\n",
    "        ),\n",
    "        autosize=True,\n",
    "        width=1200,\n",
    "        height=600,\n",
    "        \n",
    "    )\n",
    "\n",
    "\n",
    "    # style all the traces\n",
    "    fig.update_traces(\n",
    "        #hoverinfo=\"name+x+text\",\n",
    "        line={\"width\": 0.5},\n",
    "        marker={\"size\": 8},\n",
    "        mode=\"lines+markers\",\n",
    "        showlegend=True,\n",
    "        \n",
    "    )\n",
    "\n",
    "    fig.show()\n",
    "    break"
   ]
  },
  {
   "cell_type": "code",
   "execution_count": null,
   "metadata": {},
   "outputs": [],
   "source": []
  },
  {
   "cell_type": "markdown",
   "metadata": {},
   "source": [
    "### Evaluation"
   ]
  },
  {
   "cell_type": "code",
   "execution_count": 7,
   "metadata": {},
   "outputs": [
    {
     "name": "stdout",
     "output_type": "stream",
     "text": [
      "Accuracy: 0.7490\n",
      "F1 Score: 0.7448\n",
      "Confusion Matrix:\n",
      "[[93  4]\n",
      " [57 89]]\n",
      "Precision: 0.9570\n",
      "Recall: 0.6096\n"
     ]
    }
   ],
   "source": [
    "############ Evaluation ############\n",
    "from sklearn.metrics import accuracy_score, confusion_matrix, f1_score, precision_score, recall_score\n",
    "\n",
    "# Calculate accuracy\n",
    "accuracy = accuracy_score(y_test, y_pred)\n",
    "print(f\"Accuracy: {accuracy:.4f}\")\n",
    "\n",
    "# Calculate F1 score\n",
    "f1 = f1_score(y_test, y_pred)\n",
    "print(f\"F1 Score: {f1:.4f}\")\n",
    "\n",
    "# Calculate confusion matrix\n",
    "conf_matrix = confusion_matrix(y_test, y_pred)\n",
    "print(\"Confusion Matrix:\")\n",
    "print(conf_matrix)\n",
    "\n",
    "# Calculate precision\n",
    "precision = precision_score(y_test, y_pred)\n",
    "print(f'Precision: {precision:.4f}')\n",
    "\n",
    "# Calculate recall\n",
    "recall = recall_score(y_test, y_pred)\n",
    "print(f'Recall: {recall:.4f}')"
   ]
  },
  {
   "cell_type": "code",
   "execution_count": 8,
   "metadata": {},
   "outputs": [
    {
     "data": {
      "image/png": "[encoded data removed]",
      "text/plain": [
       "<Figure size 1000x600 with 2 Axes>"
      ]
     },
     "metadata": {},
     "output_type": "display_data"
    }
   ],
   "source": [
    "############ plot the confusion matrix ############\n",
    "import matplotlib.pyplot as plt\n",
    "import seaborn as sns\n",
    "from sklearn.metrics import confusion_matrix\n",
    "\n",
    "# Create the labels for the Confusion Matrix\n",
    "labels = ['Normal', 'Anomaly']\n",
    "\n",
    "# Make predictions on the test data\n",
    "y_pred = np.array(y_pred)\n",
    "y_true = np.array(y_test)\n",
    "\n",
    "# Calculate the confusion matrix\n",
    "cm = confusion_matrix(y_true, y_pred)\n",
    "\n",
    "# Create a DataFrame for the Confusion Matrix\n",
    "df_cm = pd.DataFrame(cm, index=labels, columns=labels)\n",
    "\n",
    "# Create the Confusion Matrix\n",
    "plt.figure(figsize=(10, 6))\n",
    "#sns.heatmap(df_cm, annot=True, cmap='Blues', fmt='g')\n",
    "sns.heatmap(df_cm, annot=True, cmap='Blues', fmt='g', annot_kws={\"size\": 24})  # Change font size\n",
    "\n",
    "# increase label font size\n",
    "plt.yticks(fontsize=22)\n",
    "plt.xticks(fontsize=22)\n",
    "\n",
    "# increase title font size\n",
    "\n",
    "\n",
    "plt.title('Confusion Matrix', fontsize=22)\n",
    "plt.ylabel('True Label', fontsize=22)\n",
    "plt.xlabel('Predicted Label', fontsize=22)\n",
    "plt.tight_layout()\n",
    "# plt.savefig('confusion_matrix.png', dpi=300)\n",
    "plt.show()"
   ]
  },
  {
   "cell_type": "code",
   "execution_count": null,
   "metadata": {},
   "outputs": [],
   "source": []
  }
 ],
 "metadata": {
  "kernelspec": {
   "display_name": "venv",
   "language": "python",
   "name": "python3"
  },
  "language_info": {
   "codemirror_mode": {
    "name": "ipython",
    "version": 3
   },
   "file_extension": ".py",
   "mimetype": "text/x-python",
   "name": "python",
   "nbconvert_exporter": "python",
   "pygments_lexer": "ipython3",
   "version": "3.10.8"
  }
 },
 "nbformat": 4,
 "nbformat_minor": 2
}
