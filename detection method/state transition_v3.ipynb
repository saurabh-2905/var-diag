{
 "cells": [
  {
   "cell_type": "markdown",
   "metadata": {},
   "source": [
    "# State Transition - only states"
   ]
  },
  {
   "cell_type": "code",
   "execution_count": 1,
   "metadata": {},
   "outputs": [],
   "source": [
    "import numpy as np\n",
    "import os\n",
    "from libraries.utils import *\n",
    "from libraries.state_transition import StateTransition as st\n",
    "import pandas as pd\n",
    "from collections import defaultdict\n"
   ]
  },
  {
   "cell_type": "markdown",
   "metadata": {},
   "source": [
    "## Load Data"
   ]
  },
  {
   "cell_type": "code",
   "execution_count": 2,
   "metadata": {},
   "outputs": [
    {
     "name": "stdout",
     "output_type": "stream",
     "text": [
      "../trace_data/theft_protection/single_thread/version_3/normal\n",
      "../trace_data/theft_protection/single_thread/version_3/faulty_data\n"
     ]
    }
   ],
   "source": [
    "############ configuration ################\n",
    "############################################\n",
    "\n",
    "CODE = 'theft_protection'       ### application (code)\n",
    "BEHAVIOUR_FAULTY = 'faulty_data'            ### normal, faulty_data\n",
    "BEHAVIOUR_NORMAL = 'normal'            ### normal, faulty_data\n",
    "THREAD = 'single'           ### single, multi\n",
    "VER = 3                     ### format of data collection\n",
    "\n",
    "base_dir = '../trace_data' ### can be replaced with 'csv', 'exe_plot', 'histogram'\n",
    "normalbase_path = base_dir+f'/{CODE}/{THREAD}_thread/version_{VER}/{BEHAVIOUR_NORMAL}'\n",
    "faultybase_path = base_dir+f'/{CODE}/{THREAD}_thread/version_{VER}/{BEHAVIOUR_FAULTY}'\n",
    "\n",
    "print(normalbase_path)\n",
    "print(faultybase_path)\n"
   ]
  },
  {
   "cell_type": "code",
   "execution_count": 3,
   "metadata": {},
   "outputs": [
    {
     "name": "stdout",
     "output_type": "stream",
     "text": [
      "['../trace_data/theft_protection/single_thread/version_3/normal/train_data/interval_1250_2000.json', '../trace_data/theft_protection/single_thread/version_3/normal/train_data/interval_2050_2300.json', '../trace_data/theft_protection/single_thread/version_3/normal/train_data/interval_150_900.json', '../trace_data/theft_protection/single_thread/version_3/normal/train_data/interval_0_110.json']\n",
      "['../trace_data/theft_protection/single_thread/version_3/faulty_data/log1-com', '../trace_data/theft_protection/single_thread/version_3/faulty_data/log2-sensor', '../trace_data/theft_protection/single_thread/version_3/faulty_data/log3-bitflip']\n",
      "['../trace_data/theft_protection/single_thread/version_3/faulty_data/trace1-com', '../trace_data/theft_protection/single_thread/version_3/faulty_data/trace2-sensor', '../trace_data/theft_protection/single_thread/version_3/faulty_data/trace3-bitflip']\n",
      "['../trace_data/theft_protection/single_thread/version_3/faulty_data/varlist1-com', '../trace_data/theft_protection/single_thread/version_3/faulty_data/varlist2-sensor', '../trace_data/theft_protection/single_thread/version_3/faulty_data/varlist3-bitflip']\n",
      "['../trace_data/theft_protection/single_thread/version_3/faulty_data/labels/trace1-com_label.json', '../trace_data/theft_protection/single_thread/version_3/faulty_data/labels/trace2-sensor_label.json', '../trace_data/theft_protection/single_thread/version_3/faulty_data/labels/trace3-bitflip_label.json']\n"
     ]
    }
   ],
   "source": [
    "\n",
    "train_base_path = os.path.join(normalbase_path, 'train_data')\n",
    "train_data_path = [os.path.join(train_base_path, x) for x in os.listdir(train_base_path)]\n",
    "print(train_data_path)\n",
    "\n",
    "\n",
    "######### get paths #######################\n",
    "paths_log, paths_traces, varlist_path, paths_label = get_paths(faultybase_path)\n",
    "\n",
    "### remove.Ds_store from all lists\n",
    "paths_log = [x for x in paths_log if '.DS_Store' not in x]\n",
    "paths_traces = [x for x in paths_traces if '.DS_Store' not in x]\n",
    "varlist_path = [x for x in varlist_path if '.DS_Store' not in x]\n",
    "paths_label = [x for x in paths_label if '.DS_Store' not in x]\n",
    "\n",
    "paths_log.sort()\n",
    "paths_traces.sort()\n",
    "varlist_path.sort()\n",
    "paths_label.sort()\n",
    "\n",
    "print(paths_log)\n",
    "print(paths_traces)\n",
    "print(varlist_path)\n",
    "print(paths_label)\n",
    "\n",
    "test_data_path = paths_traces\n",
    "test_label_path = paths_label\n"
   ]
  },
  {
   "cell_type": "code",
   "execution_count": 4,
   "metadata": {},
   "outputs": [
    {
     "name": "stdout",
     "output_type": "stream",
     "text": [
      "varlist 1 is consistent with varlist 0\n",
      "{'1-0-main-g_ack': 13, '1-control-update_txmsg-0': 12, '1-0-main-lora': 2, '1-0-main-temperature': 8, '1-0-main-ow': 0, '1-0-main-events': 14, '1-0-main-com_timer': 4, '1-control-update_rxmsg-drop': 15, '1-0-loracom-data': 11, '1-control-readdata-0': 10, '1-0-main-temp': 1, '1-0-main-s': 3, '1-control-updatedata-cls.sensor_data': 9, '1-0-sense-temperature': 7, '1-0-main-i': 6, '1-control-init_timer0-0': 5} {'1-0-main-g_ack': 13, '1-control-update_txmsg-0': 12, '1-0-main-lora': 2, '1-0-main-temperature': 8, '1-0-main-ow': 0, '1-0-main-events': 14, '1-0-main-com_timer': 4, '1-control-update_rxmsg-drop': 15, '1-0-loracom-data': 11, '1-control-readdata-0': 10, '1-0-main-temp': 1, '1-0-main-s': 3, '1-control-updatedata-cls.sensor_data': 9, '1-0-sense-temperature': 7, '1-0-main-i': 6, '1-control-init_timer0-0': 5}\n"
     ]
    }
   ],
   "source": [
    "############# check varlist is consistent ############\n",
    "############# only for version 3 ######################\n",
    "\n",
    "if VER == 3:\n",
    "    to_number = is_consistent(varlist_path)\n",
    "\n",
    "    if to_number != False:\n",
    "        from_number = mapint2var(to_number)\n"
   ]
  },
  {
   "cell_type": "code",
   "execution_count": 5,
   "metadata": {},
   "outputs": [],
   "source": [
    "############ Get variable list ######################\n",
    "sorted_keys = list(from_number.keys())\n",
    "sorted_keys.sort()\n",
    "var_list = [from_number[key] for key in sorted_keys]   ### get the variable list\n",
    "# print(var_list)"
   ]
  },
  {
   "cell_type": "code",
   "execution_count": 6,
   "metadata": {},
   "outputs": [
    {
     "name": "stdout",
     "output_type": "stream",
     "text": [
      "../trace_data/theft_protection/single_thread/version_3/normal/train_data/interval_1250_2000.json\n",
      "-1\n",
      "91\n",
      ".json\n"
     ]
    }
   ],
   "source": [
    "print(train_data_path[0])\n",
    "print(train_data_path[0].find('.npy'))\n",
    "print(train_data_path[0].find('.json') )\n",
    "\n",
    "if train_data_path[0].find('.npy') != -1:\n",
    "    sample_data = load_sample(train_data_path[0])\n",
    "    print('.npy')\n",
    "elif train_data_path[0].find('.json') != -1:\n",
    "    sample_data = read_traces(train_data_path[0])\n",
    "    print('.json')"
   ]
  },
  {
   "cell_type": "markdown",
   "metadata": {},
   "source": [
    "## Training"
   ]
  },
  {
   "cell_type": "code",
   "execution_count": 7,
   "metadata": {},
   "outputs": [
    {
     "name": "stdout",
     "output_type": "stream",
     "text": [
      "../trace_data/theft_protection/single_thread/version_3/normal/train_data/interval_1250_2000.json\n",
      "../trace_data/theft_protection/single_thread/version_3/normal/train_data/interval_2050_2300.json\n",
      "../trace_data/theft_protection/single_thread/version_3/normal/train_data/interval_150_900.json\n",
      "../trace_data/theft_protection/single_thread/version_3/normal/train_data/interval_0_110.json\n"
     ]
    }
   ],
   "source": [
    "### initialize\n",
    "model = st()\n",
    "model.train(train_data_path)"
   ]
  },
  {
   "cell_type": "code",
   "execution_count": 8,
   "metadata": {},
   "outputs": [
    {
     "data": {
      "text/plain": [
       "defaultdict(list,\n",
       "            {13: [14],\n",
       "             14: [15],\n",
       "             15: [6],\n",
       "             6: [7],\n",
       "             7: [8],\n",
       "             8: [9],\n",
       "             9: [6, 10, 13],\n",
       "             10: [11],\n",
       "             11: [12],\n",
       "             12: [6],\n",
       "             0: [1],\n",
       "             1: [2],\n",
       "             2: [3],\n",
       "             3: [4],\n",
       "             4: [5],\n",
       "             5: [6]})"
      ]
     },
     "execution_count": 8,
     "metadata": {},
     "output_type": "execute_result"
    }
   ],
   "source": [
    "transitions = model.transitions\n",
    "transitions"
   ]
  },
  {
   "cell_type": "code",
   "execution_count": 9,
   "metadata": {},
   "outputs": [
    {
     "name": "stdout",
     "output_type": "stream",
     "text": [
      "1-0-main-g_ack : 1-0-main-events, \n",
      "\n",
      "1-0-main-events : 1-control-update_rxmsg-drop, \n",
      "\n",
      "1-control-update_rxmsg-drop : 1-0-main-i, \n",
      "\n",
      "1-0-main-i : 1-0-sense-temperature, \n",
      "\n",
      "1-0-sense-temperature : 1-0-main-temperature, \n",
      "\n",
      "1-0-main-temperature : 1-control-updatedata-cls.sensor_data, \n",
      "\n",
      "1-control-updatedata-cls.sensor_data : 1-0-main-i, 1-control-readdata-0, 1-0-main-g_ack, \n",
      "\n",
      "1-control-readdata-0 : 1-0-loracom-data, \n",
      "\n",
      "1-0-loracom-data : 1-control-update_txmsg-0, \n",
      "\n",
      "1-control-update_txmsg-0 : 1-0-main-i, \n",
      "\n",
      "1-0-main-ow : 1-0-main-temp, \n",
      "\n",
      "1-0-main-temp : 1-0-main-lora, \n",
      "\n",
      "1-0-main-lora : 1-0-main-s, \n",
      "\n",
      "1-0-main-s : 1-0-main-com_timer, \n",
      "\n",
      "1-0-main-com_timer : 1-control-init_timer0-0, \n",
      "\n",
      "1-control-init_timer0-0 : 1-0-main-i, \n",
      "\n"
     ]
    }
   ],
   "source": [
    "### viz transitions\n",
    "\n",
    "for key in transitions.keys():\n",
    "    print(from_number[key], ':', end=' ')\n",
    "    for val in transitions[key]:\n",
    "        print(from_number[val], end=', ')\n",
    "    print('\\n')"
   ]
  },
  {
   "cell_type": "markdown",
   "metadata": {},
   "source": [
    "## Validation"
   ]
  },
  {
   "cell_type": "code",
   "execution_count": 10,
   "metadata": {},
   "outputs": [
    {
     "name": "stdout",
     "output_type": "stream",
     "text": [
      "{13: [14], 14: [15], 15: [6], 6: [7], 7: [8], 8: [9], 9: [6, 10, 13], 10: [11], 11: [12], 12: [6], 0: [1], 1: [2], 2: [3], 3: [4], 4: [5], 5: [6]}\n",
      "../trace_data/theft_protection/single_thread/version_3/faulty_data/trace1-com\n",
      "Anomaly Detected: [(8, 6), (192998, 193261), 'trace1-com']\n",
      "Anomaly Detected: [(8, 6), (255580, 255850), 'trace1-com']\n",
      "Anomaly Detected: [(8, 13), (428213, 428467), 'trace1-com']\n",
      "Detections: [[(8, 6), (192998, 193261), 'trace1-com'], [(8, 6), (255580, 255850), 'trace1-com'], [(8, 13), (428213, 428467), 'trace1-com']]\n",
      "3\n",
      "ground truths: [[180, 185, 37775, 38831, 1], [199, 204, 41993, 43048, 1], [322, 327, 67337, 68393, 1], [419, 424, 87403, 88459, 1], [516, 521, 107472, 108529, 1], [539, 544, 112741, 113797, 1], [636, 641, 132810, 133867, 1], [733, 738, 152877, 153933, 1], [878, 883, 182463, 183518, 1], [901, 906, 187732, 188789, 1], [920, 924, 191951, 193261, 2], [942, 947, 197475, 198530, 1], [965, 970, 202743, 203799, 1], [1110, 1115, 232341, 233397, 1], [1218, 1225, 254532, 256897, 2], [1602, 1607, 331993, 333050, 1], [1625, 1630, 337263, 338321, 1], [1822, 1827, 377448, 378504, 1], [2067, 2074, 427165, 428485, 2], [2092, 2097, 432701, 433757, 1], [2111, 2116, 436922, 437977, 1], [2186, 2191, 452779, 453835, 1], [2305, 2310, 477115, 478173, 1], [2402, 2407, 497211, 498267, 1], [2425, 2430, 502485, 503541, 1]]\n",
      "25\n",
      "10 0 True False True False\n",
      "y_pred_ind: []\n",
      "14 1 True False False False\n",
      "y_pred_ind: [0]\n",
      "18 2 True False False False\n",
      "y_pred_ind: [0, 1]\n",
      "{13: [14], 14: [15], 15: [6], 6: [7], 7: [8], 8: [9], 9: [6, 10, 13], 10: [11], 11: [12], 12: [6], 0: [1], 1: [2], 2: [3], 3: [4], 4: [5], 5: [6]}\n",
      "../trace_data/theft_protection/single_thread/version_3/faulty_data/trace2-sensor\n",
      "Anomaly Detected: [(8, 6), (29371, 29633), 'trace2-sensor']\n",
      "Anomaly Detected: [(8, 6), (34907, 35159), 'trace2-sensor']\n",
      "Anomaly Detected: [(8, 6), (36202, 36458), 'trace2-sensor']\n",
      "Anomaly Detected: [(8, 10), (67076, 67322), 'trace2-sensor']\n",
      "Anomaly Detected: [(8, 6), (85288, 85547), 'trace2-sensor']\n",
      "Anomaly Detected: [(8, 6), (110896, 111157), 'trace2-sensor']\n",
      "Anomaly Detected: [(8, 6), (135460, 135711), 'trace2-sensor']\n",
      "Anomaly Detected: [(8, 6), (144164, 144414), 'trace2-sensor']\n",
      "Anomaly Detected: [(8, 13), (168704, 168963), 'trace2-sensor']\n",
      "Anomaly Detected: [(8, 6), (171069, 171325), 'trace2-sensor']\n",
      "Anomaly Detected: [(8, 6), (174498, 174758), 'trace2-sensor']\n",
      "Anomaly Detected: [(8, 6), (175801, 176063), 'trace2-sensor']\n",
      "Anomaly Detected: [(8, 6), (229960, 230217), 'trace2-sensor']\n",
      "Anomaly Detected: [(8, 13), (233376, 233639), 'trace2-sensor']\n",
      "Anomaly Detected: [(8, 10), (242083, 242342), 'trace2-sensor']\n",
      "Anomaly Detected: [(8, 13), (258196, 258451), 'trace2-sensor']\n",
      "Anomaly Detected: [(8, 10), (272176, 272434), 'trace2-sensor']\n",
      "Anomaly Detected: [(8, 13), (273491, 273746), 'trace2-sensor']\n",
      "Anomaly Detected: [(8, 10), (292753, 293010), 'trace2-sensor']\n",
      "Anomaly Detected: [(8, 13), (313100, 313370), 'trace2-sensor']\n",
      "Anomaly Detected: [(8, 6), (354595, 354853), 'trace2-sensor']\n",
      "Anomaly Detected: [(8, 13), (363298, 363557), 'trace2-sensor']\n",
      "Anomaly Detected: [(8, 10), (387854, 388115), 'trace2-sensor']\n",
      "Anomaly Detected: [(8, 6), (390236, 390503), 'trace2-sensor']\n",
      "Anomaly Detected: [(8, 6), (394728, 394990), 'trace2-sensor']\n",
      "Anomaly Detected: [(8, 10), (407651, 407919), 'trace2-sensor']\n",
      "Anomaly Detected: [(8, 13), (428011, 428284), 'trace2-sensor']\n",
      "Anomaly Detected: [(8, 10), (477949, 478214), 'trace2-sensor']\n",
      "Anomaly Detected: [(8, 6), (506764, 507022), 'trace2-sensor']\n",
      "Anomaly Detected: [(8, 10), (522869, 523136), 'trace2-sensor']\n",
      "Detections: [[(8, 6), (29371, 29633), 'trace2-sensor'], [(8, 6), (34907, 35159), 'trace2-sensor'], [(8, 6), (36202, 36458), 'trace2-sensor'], [(8, 10), (67076, 67322), 'trace2-sensor'], [(8, 6), (85288, 85547), 'trace2-sensor'], [(8, 6), (110896, 111157), 'trace2-sensor'], [(8, 6), (135460, 135711), 'trace2-sensor'], [(8, 6), (144164, 144414), 'trace2-sensor'], [(8, 13), (168704, 168963), 'trace2-sensor'], [(8, 6), (171069, 171325), 'trace2-sensor'], [(8, 6), (174498, 174758), 'trace2-sensor'], [(8, 6), (175801, 176063), 'trace2-sensor'], [(8, 6), (229960, 230217), 'trace2-sensor'], [(8, 13), (233376, 233639), 'trace2-sensor'], [(8, 10), (242083, 242342), 'trace2-sensor'], [(8, 13), (258196, 258451), 'trace2-sensor'], [(8, 10), (272176, 272434), 'trace2-sensor'], [(8, 13), (273491, 273746), 'trace2-sensor'], [(8, 10), (292753, 293010), 'trace2-sensor'], [(8, 13), (313100, 313370), 'trace2-sensor'], [(8, 6), (354595, 354853), 'trace2-sensor'], [(8, 13), (363298, 363557), 'trace2-sensor'], [(8, 10), (387854, 388115), 'trace2-sensor'], [(8, 6), (390236, 390503), 'trace2-sensor'], [(8, 6), (394728, 394990), 'trace2-sensor'], [(8, 10), (407651, 407919), 'trace2-sensor'], [(8, 13), (428011, 428284), 'trace2-sensor'], [(8, 10), (477949, 478214), 'trace2-sensor'], [(8, 6), (506764, 507022), 'trace2-sensor'], [(8, 10), (522869, 523136), 'trace2-sensor']]\n",
      "30\n",
      "ground truths: [[135, 142, 28323, 30679, 2], [160, 170, 33860, 37504, 2], [173, 178, 37517, 38573, 1], [311, 321, 66029, 68384, 2], [402, 409, 84241, 86593, 2], [527, 534, 109849, 112204, 2], [648, 655, 134412, 136757, 2], [691, 698, 143116, 145461, 2], [809, 818, 167657, 170018, 2], [820, 830, 170026, 172390, 2], [837, 850, 173456, 177128, 2], [1109, 1115, 228917, 231264, 2], [1123, 1132, 232333, 234699, 2], [1163, 1172, 241041, 243405, 2], [1243, 1252, 257153, 259512, 2], [1308, 1324, 271129, 274806, 2], [1406, 1416, 291706, 294072, 2], [1509, 1518, 312057, 314432, 2], [1715, 1721, 353552, 355901, 2], [1755, 1764, 362256, 364617, 2], [1873, 1882, 386810, 389176, 2], [1886, 1892, 389193, 391549, 2], [1907, 1913, 393685, 396036, 2], [1966, 1975, 406609, 408980, 2], [2068, 2077, 426968, 429344, 2], [2312, 2321, 476906, 479278, 2], [2455, 2463, 505721, 508077, 2], [2531, 2541, 521822, 524198, 2]]\n",
      "28\n",
      "0 0 True False False False\n",
      "y_pred_ind: []\n",
      "1 1 True False False False\n",
      "1 2 True False False False\n",
      "ip, pred 1 [(8, 6), (34907, 35159), 'trace2-sensor']\n",
      "ip, pred 2 [(8, 6), (36202, 36458), 'trace2-sensor']\n",
      "3 3 True False False False\n",
      "y_pred_ind: [0, 1, 2]\n",
      "4 4 True False False False\n",
      "y_pred_ind: [0, 1, 2, 3]\n",
      "5 5 True False False False\n",
      "y_pred_ind: [0, 1, 2, 3, 4]\n",
      "6 6 True False False False\n",
      "y_pred_ind: [0, 1, 2, 3, 4, 5]\n",
      "7 7 True False False False\n",
      "y_pred_ind: [0, 1, 2, 3, 4, 5, 6]\n",
      "8 8 True False False False\n",
      "y_pred_ind: [0, 1, 2, 3, 4, 5, 6, 7]\n",
      "9 9 True False False False\n",
      "y_pred_ind: [0, 1, 2, 3, 4, 5, 6, 7, 8]\n",
      "10 10 True False False False\n",
      "10 11 True False False False\n",
      "ip, pred 10 [(8, 6), (174498, 174758), 'trace2-sensor']\n",
      "ip, pred 11 [(8, 6), (175801, 176063), 'trace2-sensor']\n",
      "11 12 True False False False\n",
      "y_pred_ind: [0, 1, 2, 3, 4, 5, 6, 7, 8, 9, 10, 11]\n",
      "12 13 True False False False\n",
      "y_pred_ind: [0, 1, 2, 3, 4, 5, 6, 7, 8, 9, 10, 11, 12]\n",
      "13 14 True False False False\n",
      "y_pred_ind: [0, 1, 2, 3, 4, 5, 6, 7, 8, 9, 10, 11, 12, 13]\n",
      "14 15 True False False False\n",
      "y_pred_ind: [0, 1, 2, 3, 4, 5, 6, 7, 8, 9, 10, 11, 12, 13, 14]\n",
      "15 16 True False False False\n",
      "15 17 True False False False\n",
      "ip, pred 16 [(8, 10), (272176, 272434), 'trace2-sensor']\n",
      "ip, pred 17 [(8, 13), (273491, 273746), 'trace2-sensor']\n",
      "16 18 True False False False\n",
      "y_pred_ind: [0, 1, 2, 3, 4, 5, 6, 7, 8, 9, 10, 11, 12, 13, 14, 15, 16, 17]\n",
      "17 19 True False False False\n",
      "y_pred_ind: [0, 1, 2, 3, 4, 5, 6, 7, 8, 9, 10, 11, 12, 13, 14, 15, 16, 17, 18]\n",
      "18 20 True False False False\n",
      "y_pred_ind: [0, 1, 2, 3, 4, 5, 6, 7, 8, 9, 10, 11, 12, 13, 14, 15, 16, 17, 18, 19]\n",
      "19 21 True False False False\n",
      "y_pred_ind: [0, 1, 2, 3, 4, 5, 6, 7, 8, 9, 10, 11, 12, 13, 14, 15, 16, 17, 18, 19, 20]\n",
      "20 22 True False False False\n",
      "y_pred_ind: [0, 1, 2, 3, 4, 5, 6, 7, 8, 9, 10, 11, 12, 13, 14, 15, 16, 17, 18, 19, 20, 21]\n",
      "21 23 True False False False\n",
      "y_pred_ind: [0, 1, 2, 3, 4, 5, 6, 7, 8, 9, 10, 11, 12, 13, 14, 15, 16, 17, 18, 19, 20, 21, 22]\n",
      "22 24 True False False False\n",
      "y_pred_ind: [0, 1, 2, 3, 4, 5, 6, 7, 8, 9, 10, 11, 12, 13, 14, 15, 16, 17, 18, 19, 20, 21, 22, 23]\n",
      "23 25 True False False False\n",
      "y_pred_ind: [0, 1, 2, 3, 4, 5, 6, 7, 8, 9, 10, 11, 12, 13, 14, 15, 16, 17, 18, 19, 20, 21, 22, 23, 24]\n",
      "24 26 True False False False\n",
      "y_pred_ind: [0, 1, 2, 3, 4, 5, 6, 7, 8, 9, 10, 11, 12, 13, 14, 15, 16, 17, 18, 19, 20, 21, 22, 23, 24, 25]\n",
      "25 27 True False False False\n",
      "y_pred_ind: [0, 1, 2, 3, 4, 5, 6, 7, 8, 9, 10, 11, 12, 13, 14, 15, 16, 17, 18, 19, 20, 21, 22, 23, 24, 25, 26]\n",
      "26 28 True False False False\n",
      "y_pred_ind: [0, 1, 2, 3, 4, 5, 6, 7, 8, 9, 10, 11, 12, 13, 14, 15, 16, 17, 18, 19, 20, 21, 22, 23, 24, 25, 26, 27]\n",
      "27 29 True False False False\n",
      "y_pred_ind: [0, 1, 2, 3, 4, 5, 6, 7, 8, 9, 10, 11, 12, 13, 14, 15, 16, 17, 18, 19, 20, 21, 22, 23, 24, 25, 26, 27, 28]\n",
      "{13: [14], 14: [15], 15: [6], 6: [7], 7: [8], 8: [9], 9: [6, 10, 13], 10: [11], 11: [12], 12: [6], 0: [1], 1: [2], 2: [3], 3: [4], 4: [5], 5: [6]}\n",
      "../trace_data/theft_protection/single_thread/version_3/faulty_data/trace3-bitflip\n",
      "Anomaly Detected: [(14, 6), (29401, 29405), 'trace3-bitflip']\n",
      "Anomaly Detected: [(14, 6), (30461, 30466), 'trace3-bitflip']\n",
      "Anomaly Detected: [(14, 6), (31521, 31526), 'trace3-bitflip']\n",
      "Anomaly Detected: [(12, 13), (32585, 32590), 'trace3-bitflip']\n",
      "Anomaly Detected: [(14, 6), (32594, 32599), 'trace3-bitflip']\n",
      "Anomaly Detected: [(14, 6), (34719, 34723), 'trace3-bitflip']\n",
      "Anomaly Detected: [(14, 6), (35779, 35783), 'trace3-bitflip']\n",
      "Anomaly Detected: [(14, 6), (36839, 36843), 'trace3-bitflip']\n",
      "Anomaly Detected: [(12, 13), (37903, 37908), 'trace3-bitflip']\n",
      "Anomaly Detected: [(14, 6), (37912, 37917), 'trace3-bitflip']\n",
      "Anomaly Detected: [(14, 6), (38974, 38978), 'trace3-bitflip']\n",
      "Anomaly Detected: [(14, 6), (41098, 41103), 'trace3-bitflip']\n",
      "Anomaly Detected: [(12, 13), (42164, 42168), 'trace3-bitflip']\n",
      "Anomaly Detected: [(14, 6), (42173, 42177), 'trace3-bitflip']\n",
      "Anomaly Detected: [(14, 6), (44297, 44302), 'trace3-bitflip']\n",
      "Anomaly Detected: [(14, 6), (45358, 45362), 'trace3-bitflip']\n",
      "Anomaly Detected: [(14, 6), (46418, 46422), 'trace3-bitflip']\n",
      "Anomaly Detected: [(12, 13), (47483, 47487), 'trace3-bitflip']\n",
      "Anomaly Detected: [(14, 6), (47492, 47496), 'trace3-bitflip']\n",
      "Anomaly Detected: [(14, 6), (49617, 49621), 'trace3-bitflip']\n",
      "Anomaly Detected: [(14, 6), (50677, 50681), 'trace3-bitflip']\n",
      "Anomaly Detected: [(14, 6), (51737, 51741), 'trace3-bitflip']\n",
      "Anomaly Detected: [(12, 13), (52802, 52807), 'trace3-bitflip']\n",
      "Anomaly Detected: [(14, 6), (52812, 52816), 'trace3-bitflip']\n",
      "Anomaly Detected: [(14, 6), (54938, 54942), 'trace3-bitflip']\n",
      "Anomaly Detected: [(14, 6), (55998, 56002), 'trace3-bitflip']\n",
      "Anomaly Detected: [(12, 13), (57062, 57067), 'trace3-bitflip']\n",
      "Anomaly Detected: [(14, 6), (57071, 57075), 'trace3-bitflip']\n",
      "Anomaly Detected: [(8, 10), (157448, 158333), 'trace3-bitflip']\n",
      "Anomaly Detected: [(8, 13), (168908, 169172), 'trace3-bitflip']\n",
      "Anomaly Detected: [(8, 13), (183967, 184228), 'trace3-bitflip']\n",
      "Anomaly Detected: [(8, 10), (202188, 202447), 'trace3-bitflip']\n",
      "Anomaly Detected: [(14, 6), (239471, 239476), 'trace3-bitflip']\n",
      "Anomaly Detected: [(14, 6), (240532, 240537), 'trace3-bitflip']\n",
      "Anomaly Detected: [(14, 6), (241593, 241597), 'trace3-bitflip']\n",
      "Anomaly Detected: [(12, 13), (242658, 242662), 'trace3-bitflip']\n",
      "Anomaly Detected: [(14, 6), (242667, 242672), 'trace3-bitflip']\n",
      "Anomaly Detected: [(14, 6), (244792, 244796), 'trace3-bitflip']\n",
      "Anomaly Detected: [(14, 6), (245852, 245857), 'trace3-bitflip']\n",
      "Anomaly Detected: [(14, 6), (246914, 246919), 'trace3-bitflip']\n",
      "Anomaly Detected: [(12, 13), (247980, 247984), 'trace3-bitflip']\n",
      "Anomaly Detected: [(14, 6), (247989, 247993), 'trace3-bitflip']\n",
      "Anomaly Detected: [(14, 6), (250113, 250118), 'trace3-bitflip']\n",
      "Anomaly Detected: [(14, 6), (251174, 251179), 'trace3-bitflip']\n",
      "Anomaly Detected: [(12, 13), (252239, 252243), 'trace3-bitflip']\n",
      "Anomaly Detected: [(14, 6), (252248, 252252), 'trace3-bitflip']\n",
      "Anomaly Detected: [(14, 6), (254373, 254379), 'trace3-bitflip']\n",
      "Anomaly Detected: [(14, 6), (255434, 255438), 'trace3-bitflip']\n",
      "Anomaly Detected: [(14, 6), (256494, 256498), 'trace3-bitflip']\n",
      "Anomaly Detected: [(12, 13), (257560, 257564), 'trace3-bitflip']\n",
      "Anomaly Detected: [(14, 6), (257569, 257573), 'trace3-bitflip']\n",
      "Anomaly Detected: [(14, 6), (259695, 259699), 'trace3-bitflip']\n",
      "Anomaly Detected: [(14, 6), (260754, 260758), 'trace3-bitflip']\n",
      "Anomaly Detected: [(14, 6), (261816, 261820), 'trace3-bitflip']\n",
      "Anomaly Detected: [(12, 13), (262880, 262885), 'trace3-bitflip']\n",
      "Anomaly Detected: [(14, 6), (262890, 262894), 'trace3-bitflip']\n",
      "Anomaly Detected: [(14, 6), (265014, 265019), 'trace3-bitflip']\n",
      "Anomaly Detected: [(14, 6), (266074, 266078), 'trace3-bitflip']\n",
      "Anomaly Detected: [(12, 13), (267139, 267144), 'trace3-bitflip']\n",
      "Anomaly Detected: [(14, 6), (267149, 267153), 'trace3-bitflip']\n",
      "Anomaly Detected: [(14, 6), (269277, 269282), 'trace3-bitflip']\n",
      "Anomaly Detected: [(14, 6), (270337, 270341), 'trace3-bitflip']\n",
      "Anomaly Detected: [(8, 13), (288307, 288556), 'trace3-bitflip']\n",
      "Anomaly Detected: [(8, 6), (399586, 399851), 'trace3-bitflip']\n",
      "Anomaly Detected: [(14, 6), (454846, 454851), 'trace3-bitflip']\n",
      "Anomaly Detected: [(14, 6), (455906, 455910), 'trace3-bitflip']\n",
      "Anomaly Detected: [(12, 13), (456971, 456976), 'trace3-bitflip']\n",
      "Anomaly Detected: [(14, 6), (456980, 456984), 'trace3-bitflip']\n",
      "Anomaly Detected: [(14, 6), (459107, 459112), 'trace3-bitflip']\n",
      "Anomaly Detected: [(14, 6), (460168, 460172), 'trace3-bitflip']\n",
      "Anomaly Detected: [(14, 6), (461228, 461232), 'trace3-bitflip']\n",
      "Anomaly Detected: [(12, 13), (462295, 462300), 'trace3-bitflip']\n",
      "Anomaly Detected: [(14, 6), (462304, 462309), 'trace3-bitflip']\n",
      "Anomaly Detected: [(14, 6), (464431, 464435), 'trace3-bitflip']\n",
      "Anomaly Detected: [(14, 6), (465491, 465496), 'trace3-bitflip']\n",
      "Anomaly Detected: [(14, 6), (466551, 466555), 'trace3-bitflip']\n",
      "Anomaly Detected: [(12, 13), (467616, 467620), 'trace3-bitflip']\n",
      "Anomaly Detected: [(14, 6), (467625, 467629), 'trace3-bitflip']\n",
      "Anomaly Detected: [(14, 6), (469752, 469757), 'trace3-bitflip']\n",
      "Anomaly Detected: [(14, 6), (470813, 470818), 'trace3-bitflip']\n",
      "Anomaly Detected: [(14, 6), (471873, 471877), 'trace3-bitflip']\n",
      "Anomaly Detected: [(12, 13), (472938, 472943), 'trace3-bitflip']\n",
      "Anomaly Detected: [(14, 6), (472947, 472952), 'trace3-bitflip']\n",
      "Anomaly Detected: [(14, 6), (475075, 475080), 'trace3-bitflip']\n",
      "Anomaly Detected: [(14, 6), (476136, 476141), 'trace3-bitflip']\n",
      "Anomaly Detected: [(12, 13), (477201, 477206), 'trace3-bitflip']\n",
      "Anomaly Detected: [(14, 6), (477210, 477215), 'trace3-bitflip']\n",
      "Anomaly Detected: [(14, 6), (479335, 479339), 'trace3-bitflip']\n",
      "Anomaly Detected: [(14, 6), (480400, 480405), 'trace3-bitflip']\n",
      "Anomaly Detected: [(14, 6), (481461, 481466), 'trace3-bitflip']\n",
      "Anomaly Detected: [(12, 13), (482525, 482530), 'trace3-bitflip']\n",
      "Anomaly Detected: [(14, 6), (482534, 482539), 'trace3-bitflip']\n",
      "Detections: [[(14, 6), (29401, 29405), 'trace3-bitflip'], [(14, 6), (30461, 30466), 'trace3-bitflip'], [(14, 6), (31521, 31526), 'trace3-bitflip'], [(12, 13), (32585, 32590), 'trace3-bitflip'], [(14, 6), (32594, 32599), 'trace3-bitflip'], [(14, 6), (34719, 34723), 'trace3-bitflip'], [(14, 6), (35779, 35783), 'trace3-bitflip'], [(14, 6), (36839, 36843), 'trace3-bitflip'], [(12, 13), (37903, 37908), 'trace3-bitflip'], [(14, 6), (37912, 37917), 'trace3-bitflip'], [(14, 6), (38974, 38978), 'trace3-bitflip'], [(14, 6), (41098, 41103), 'trace3-bitflip'], [(12, 13), (42164, 42168), 'trace3-bitflip'], [(14, 6), (42173, 42177), 'trace3-bitflip'], [(14, 6), (44297, 44302), 'trace3-bitflip'], [(14, 6), (45358, 45362), 'trace3-bitflip'], [(14, 6), (46418, 46422), 'trace3-bitflip'], [(12, 13), (47483, 47487), 'trace3-bitflip'], [(14, 6), (47492, 47496), 'trace3-bitflip'], [(14, 6), (49617, 49621), 'trace3-bitflip'], [(14, 6), (50677, 50681), 'trace3-bitflip'], [(14, 6), (51737, 51741), 'trace3-bitflip'], [(12, 13), (52802, 52807), 'trace3-bitflip'], [(14, 6), (52812, 52816), 'trace3-bitflip'], [(14, 6), (54938, 54942), 'trace3-bitflip'], [(14, 6), (55998, 56002), 'trace3-bitflip'], [(12, 13), (57062, 57067), 'trace3-bitflip'], [(14, 6), (57071, 57075), 'trace3-bitflip'], [(8, 10), (157448, 158333), 'trace3-bitflip'], [(8, 13), (168908, 169172), 'trace3-bitflip'], [(8, 13), (183967, 184228), 'trace3-bitflip'], [(8, 10), (202188, 202447), 'trace3-bitflip'], [(14, 6), (239471, 239476), 'trace3-bitflip'], [(14, 6), (240532, 240537), 'trace3-bitflip'], [(14, 6), (241593, 241597), 'trace3-bitflip'], [(12, 13), (242658, 242662), 'trace3-bitflip'], [(14, 6), (242667, 242672), 'trace3-bitflip'], [(14, 6), (244792, 244796), 'trace3-bitflip'], [(14, 6), (245852, 245857), 'trace3-bitflip'], [(14, 6), (246914, 246919), 'trace3-bitflip'], [(12, 13), (247980, 247984), 'trace3-bitflip'], [(14, 6), (247989, 247993), 'trace3-bitflip'], [(14, 6), (250113, 250118), 'trace3-bitflip'], [(14, 6), (251174, 251179), 'trace3-bitflip'], [(12, 13), (252239, 252243), 'trace3-bitflip'], [(14, 6), (252248, 252252), 'trace3-bitflip'], [(14, 6), (254373, 254379), 'trace3-bitflip'], [(14, 6), (255434, 255438), 'trace3-bitflip'], [(14, 6), (256494, 256498), 'trace3-bitflip'], [(12, 13), (257560, 257564), 'trace3-bitflip'], [(14, 6), (257569, 257573), 'trace3-bitflip'], [(14, 6), (259695, 259699), 'trace3-bitflip'], [(14, 6), (260754, 260758), 'trace3-bitflip'], [(14, 6), (261816, 261820), 'trace3-bitflip'], [(12, 13), (262880, 262885), 'trace3-bitflip'], [(14, 6), (262890, 262894), 'trace3-bitflip'], [(14, 6), (265014, 265019), 'trace3-bitflip'], [(14, 6), (266074, 266078), 'trace3-bitflip'], [(12, 13), (267139, 267144), 'trace3-bitflip'], [(14, 6), (267149, 267153), 'trace3-bitflip'], [(14, 6), (269277, 269282), 'trace3-bitflip'], [(14, 6), (270337, 270341), 'trace3-bitflip'], [(8, 13), (288307, 288556), 'trace3-bitflip'], [(8, 6), (399586, 399851), 'trace3-bitflip'], [(14, 6), (454846, 454851), 'trace3-bitflip'], [(14, 6), (455906, 455910), 'trace3-bitflip'], [(12, 13), (456971, 456976), 'trace3-bitflip'], [(14, 6), (456980, 456984), 'trace3-bitflip'], [(14, 6), (459107, 459112), 'trace3-bitflip'], [(14, 6), (460168, 460172), 'trace3-bitflip'], [(14, 6), (461228, 461232), 'trace3-bitflip'], [(12, 13), (462295, 462300), 'trace3-bitflip'], [(14, 6), (462304, 462309), 'trace3-bitflip'], [(14, 6), (464431, 464435), 'trace3-bitflip'], [(14, 6), (465491, 465496), 'trace3-bitflip'], [(14, 6), (466551, 466555), 'trace3-bitflip'], [(12, 13), (467616, 467620), 'trace3-bitflip'], [(14, 6), (467625, 467629), 'trace3-bitflip'], [(14, 6), (469752, 469757), 'trace3-bitflip'], [(14, 6), (470813, 470818), 'trace3-bitflip'], [(14, 6), (471873, 471877), 'trace3-bitflip'], [(12, 13), (472938, 472943), 'trace3-bitflip'], [(14, 6), (472947, 472952), 'trace3-bitflip'], [(14, 6), (475075, 475080), 'trace3-bitflip'], [(14, 6), (476136, 476141), 'trace3-bitflip'], [(12, 13), (477201, 477206), 'trace3-bitflip'], [(14, 6), (477210, 477215), 'trace3-bitflip'], [(14, 6), (479335, 479339), 'trace3-bitflip'], [(14, 6), (480400, 480405), 'trace3-bitflip'], [(14, 6), (481461, 481466), 'trace3-bitflip'], [(12, 13), (482525, 482530), 'trace3-bitflip'], [(14, 6), (482534, 482539), 'trace3-bitflip']]\n",
      "92\n",
      "ground truths: [[139, 142, 29392, 29405, 3], [145, 148, 30452, 30466, 3], [151, 154, 31512, 31526, 3], [160, 163, 32585, 32599, 3], [173, 176, 34710, 34723, 3], [179, 182, 35770, 35783, 3], [185, 188, 36830, 36843, 3], [194, 197, 37903, 37917, 3], [200, 203, 38965, 38978, 3], [213, 216, 41089, 41103, 3], [222, 225, 42164, 42177, 3], [235, 238, 44288, 44302, 3], [241, 244, 45349, 45362, 3], [247, 250, 46409, 46422, 3], [256, 259, 47483, 47496, 3], [269, 272, 49607, 49621, 3], [275, 278, 50668, 50681, 3], [281, 284, 51728, 51741, 3], [290, 293, 52802, 52816, 3], [303, 306, 54928, 54942, 3], [309, 312, 55989, 56002, 3], [318, 321, 57062, 57075, 3], [544, 551, 102502, 103569, 1], [810, 820, 156401, 159396, 2], [865, 871, 167865, 169185, 2], [938, 944, 182923, 184242, 2], [1026, 1032, 201145, 202462, 2], [1216, 1219, 239462, 239476, 3], [1222, 1225, 240523, 240537, 3], [1228, 1231, 241584, 241597, 3], [1237, 1240, 242658, 242672, 3], [1250, 1253, 244783, 244796, 3], [1256, 1259, 245843, 245857, 3], [1262, 1265, 246905, 246919, 3], [1271, 1274, 247980, 247993, 3], [1284, 1287, 250104, 250118, 3], [1290, 1293, 251165, 251179, 3], [1299, 1302, 252239, 252252, 3], [1312, 1315, 254364, 254379, 3], [1318, 1321, 255425, 255438, 3], [1324, 1327, 256485, 256498, 3], [1333, 1336, 257560, 257573, 3], [1346, 1349, 259686, 259699, 3], [1352, 1355, 260745, 260758, 3], [1358, 1361, 261805, 261820, 3], [1367, 1370, 262880, 262894, 3], [1380, 1383, 265005, 265019, 3], [1386, 1389, 266065, 266078, 3], [1395, 1398, 267139, 267153, 3], [1408, 1411, 269268, 269282, 3], [1414, 1417, 270328, 270341, 3], [1502, 1508, 287264, 288569, 2], [2056, 2060, 398543, 399879, 2], [2332, 2335, 454836, 454851, 3], [2338, 2341, 455897, 455910, 3], [2347, 2350, 456971, 456984, 3], [2360, 2363, 459098, 459112, 3], [2366, 2369, 460159, 460172, 3], [2372, 2375, 461219, 461232, 3], [2381, 2384, 462295, 462309, 3], [2394, 2397, 464421, 464435, 3], [2400, 2403, 465482, 465496, 3], [2406, 2409, 466542, 466555, 3], [2415, 2418, 467616, 467629, 3], [2428, 2431, 469743, 469757, 3], [2434, 2437, 470804, 470818, 3], [2440, 2443, 471864, 471877, 3], [2449, 2452, 472938, 472952, 3], [2462, 2465, 475066, 475080, 3], [2468, 2471, 476127, 476141, 3], [2477, 2480, 477201, 477215, 3], [2490, 2493, 479326, 479339, 3], [2496, 2499, 480391, 480405, 3], [2502, 2505, 481452, 481466, 3], [2511, 2514, 482525, 482539, 3]]\n",
      "75\n",
      "0 0 True False True False\n",
      "y_pred_ind: []\n",
      "1 1 True False True False\n",
      "y_pred_ind: [0]\n",
      "2 2 True False True False\n",
      "y_pred_ind: [0, 1]\n",
      "3 3 True False False True\n",
      "3 4 True False True False\n",
      "ip, pred 3 [(12, 13), (32585, 32590), 'trace3-bitflip']\n",
      "ip, pred 4 [(14, 6), (32594, 32599), 'trace3-bitflip']\n",
      "4 5 True False True False\n",
      "y_pred_ind: [0, 1, 2, 3, 4]\n",
      "5 6 True False True False\n",
      "y_pred_ind: [0, 1, 2, 3, 4, 5]\n",
      "6 7 True False True False\n",
      "y_pred_ind: [0, 1, 2, 3, 4, 5, 6]\n",
      "7 8 True False False True\n",
      "7 9 True False True False\n",
      "ip, pred 8 [(12, 13), (37903, 37908), 'trace3-bitflip']\n",
      "ip, pred 9 [(14, 6), (37912, 37917), 'trace3-bitflip']\n",
      "8 10 True False True False\n",
      "y_pred_ind: [0, 1, 2, 3, 4, 5, 6, 7, 8, 9]\n",
      "9 11 True False True False\n",
      "y_pred_ind: [0, 1, 2, 3, 4, 5, 6, 7, 8, 9, 10]\n",
      "10 12 True False False True\n",
      "10 13 True False True False\n",
      "ip, pred 12 [(12, 13), (42164, 42168), 'trace3-bitflip']\n",
      "ip, pred 13 [(14, 6), (42173, 42177), 'trace3-bitflip']\n",
      "11 14 True False True False\n",
      "y_pred_ind: [0, 1, 2, 3, 4, 5, 6, 7, 8, 9, 10, 11, 12, 13]\n",
      "12 15 True False True False\n",
      "y_pred_ind: [0, 1, 2, 3, 4, 5, 6, 7, 8, 9, 10, 11, 12, 13, 14]\n",
      "13 16 True False True False\n",
      "y_pred_ind: [0, 1, 2, 3, 4, 5, 6, 7, 8, 9, 10, 11, 12, 13, 14, 15]\n",
      "14 17 True False False True\n",
      "14 18 True False True False\n",
      "ip, pred 17 [(12, 13), (47483, 47487), 'trace3-bitflip']\n",
      "ip, pred 18 [(14, 6), (47492, 47496), 'trace3-bitflip']\n",
      "15 19 True False True False\n",
      "y_pred_ind: [0, 1, 2, 3, 4, 5, 6, 7, 8, 9, 10, 11, 12, 13, 14, 15, 16, 17, 18]\n",
      "16 20 True False True False\n",
      "y_pred_ind: [0, 1, 2, 3, 4, 5, 6, 7, 8, 9, 10, 11, 12, 13, 14, 15, 16, 17, 18, 19]\n",
      "17 21 True False True False\n",
      "y_pred_ind: [0, 1, 2, 3, 4, 5, 6, 7, 8, 9, 10, 11, 12, 13, 14, 15, 16, 17, 18, 19, 20]\n",
      "18 22 True False False True\n",
      "18 23 True False True False\n",
      "ip, pred 22 [(12, 13), (52802, 52807), 'trace3-bitflip']\n",
      "ip, pred 23 [(14, 6), (52812, 52816), 'trace3-bitflip']\n",
      "19 24 True False True False\n",
      "y_pred_ind: [0, 1, 2, 3, 4, 5, 6, 7, 8, 9, 10, 11, 12, 13, 14, 15, 16, 17, 18, 19, 20, 21, 22, 23]\n",
      "20 25 True False True False\n",
      "y_pred_ind: [0, 1, 2, 3, 4, 5, 6, 7, 8, 9, 10, 11, 12, 13, 14, 15, 16, 17, 18, 19, 20, 21, 22, 23, 24]\n",
      "21 26 True False False True\n",
      "21 27 True False True False\n",
      "ip, pred 26 [(12, 13), (57062, 57067), 'trace3-bitflip']\n",
      "ip, pred 27 [(14, 6), (57071, 57075), 'trace3-bitflip']\n",
      "23 28 True False False False\n",
      "y_pred_ind: [0, 1, 2, 3, 4, 5, 6, 7, 8, 9, 10, 11, 12, 13, 14, 15, 16, 17, 18, 19, 20, 21, 22, 23, 24, 25, 26, 27]\n",
      "24 29 True False False False\n",
      "y_pred_ind: [0, 1, 2, 3, 4, 5, 6, 7, 8, 9, 10, 11, 12, 13, 14, 15, 16, 17, 18, 19, 20, 21, 22, 23, 24, 25, 26, 27, 28]\n",
      "25 30 True False False False\n",
      "y_pred_ind: [0, 1, 2, 3, 4, 5, 6, 7, 8, 9, 10, 11, 12, 13, 14, 15, 16, 17, 18, 19, 20, 21, 22, 23, 24, 25, 26, 27, 28, 29]\n",
      "26 31 True False False False\n",
      "y_pred_ind: [0, 1, 2, 3, 4, 5, 6, 7, 8, 9, 10, 11, 12, 13, 14, 15, 16, 17, 18, 19, 20, 21, 22, 23, 24, 25, 26, 27, 28, 29, 30]\n",
      "27 32 True False True False\n",
      "y_pred_ind: [0, 1, 2, 3, 4, 5, 6, 7, 8, 9, 10, 11, 12, 13, 14, 15, 16, 17, 18, 19, 20, 21, 22, 23, 24, 25, 26, 27, 28, 29, 30, 31]\n",
      "28 33 True False True False\n",
      "y_pred_ind: [0, 1, 2, 3, 4, 5, 6, 7, 8, 9, 10, 11, 12, 13, 14, 15, 16, 17, 18, 19, 20, 21, 22, 23, 24, 25, 26, 27, 28, 29, 30, 31, 32]\n",
      "29 34 True False True False\n",
      "y_pred_ind: [0, 1, 2, 3, 4, 5, 6, 7, 8, 9, 10, 11, 12, 13, 14, 15, 16, 17, 18, 19, 20, 21, 22, 23, 24, 25, 26, 27, 28, 29, 30, 31, 32, 33]\n",
      "30 35 True False False True\n",
      "30 36 True False True False\n",
      "ip, pred 35 [(12, 13), (242658, 242662), 'trace3-bitflip']\n",
      "ip, pred 36 [(14, 6), (242667, 242672), 'trace3-bitflip']\n",
      "31 37 True False True False\n",
      "y_pred_ind: [0, 1, 2, 3, 4, 5, 6, 7, 8, 9, 10, 11, 12, 13, 14, 15, 16, 17, 18, 19, 20, 21, 22, 23, 24, 25, 26, 27, 28, 29, 30, 31, 32, 33, 34, 35, 36]\n",
      "32 38 True False True False\n",
      "y_pred_ind: [0, 1, 2, 3, 4, 5, 6, 7, 8, 9, 10, 11, 12, 13, 14, 15, 16, 17, 18, 19, 20, 21, 22, 23, 24, 25, 26, 27, 28, 29, 30, 31, 32, 33, 34, 35, 36, 37]\n",
      "33 39 True False True False\n",
      "y_pred_ind: [0, 1, 2, 3, 4, 5, 6, 7, 8, 9, 10, 11, 12, 13, 14, 15, 16, 17, 18, 19, 20, 21, 22, 23, 24, 25, 26, 27, 28, 29, 30, 31, 32, 33, 34, 35, 36, 37, 38]\n",
      "34 40 True False False True\n",
      "34 41 True False True False\n",
      "ip, pred 40 [(12, 13), (247980, 247984), 'trace3-bitflip']\n",
      "ip, pred 41 [(14, 6), (247989, 247993), 'trace3-bitflip']\n",
      "35 42 True False True False\n",
      "y_pred_ind: [0, 1, 2, 3, 4, 5, 6, 7, 8, 9, 10, 11, 12, 13, 14, 15, 16, 17, 18, 19, 20, 21, 22, 23, 24, 25, 26, 27, 28, 29, 30, 31, 32, 33, 34, 35, 36, 37, 38, 39, 40, 41]\n",
      "36 43 True False True False\n",
      "y_pred_ind: [0, 1, 2, 3, 4, 5, 6, 7, 8, 9, 10, 11, 12, 13, 14, 15, 16, 17, 18, 19, 20, 21, 22, 23, 24, 25, 26, 27, 28, 29, 30, 31, 32, 33, 34, 35, 36, 37, 38, 39, 40, 41, 42]\n",
      "37 44 True False False True\n",
      "37 45 True False True False\n",
      "ip, pred 44 [(12, 13), (252239, 252243), 'trace3-bitflip']\n",
      "ip, pred 45 [(14, 6), (252248, 252252), 'trace3-bitflip']\n",
      "38 46 True False True False\n",
      "y_pred_ind: [0, 1, 2, 3, 4, 5, 6, 7, 8, 9, 10, 11, 12, 13, 14, 15, 16, 17, 18, 19, 20, 21, 22, 23, 24, 25, 26, 27, 28, 29, 30, 31, 32, 33, 34, 35, 36, 37, 38, 39, 40, 41, 42, 43, 44, 45]\n",
      "39 47 True False True False\n",
      "y_pred_ind: [0, 1, 2, 3, 4, 5, 6, 7, 8, 9, 10, 11, 12, 13, 14, 15, 16, 17, 18, 19, 20, 21, 22, 23, 24, 25, 26, 27, 28, 29, 30, 31, 32, 33, 34, 35, 36, 37, 38, 39, 40, 41, 42, 43, 44, 45, 46]\n",
      "40 48 True False True False\n",
      "y_pred_ind: [0, 1, 2, 3, 4, 5, 6, 7, 8, 9, 10, 11, 12, 13, 14, 15, 16, 17, 18, 19, 20, 21, 22, 23, 24, 25, 26, 27, 28, 29, 30, 31, 32, 33, 34, 35, 36, 37, 38, 39, 40, 41, 42, 43, 44, 45, 46, 47]\n",
      "41 49 True False False True\n",
      "41 50 True False True False\n",
      "ip, pred 49 [(12, 13), (257560, 257564), 'trace3-bitflip']\n",
      "ip, pred 50 [(14, 6), (257569, 257573), 'trace3-bitflip']\n",
      "42 51 True False True False\n",
      "y_pred_ind: [0, 1, 2, 3, 4, 5, 6, 7, 8, 9, 10, 11, 12, 13, 14, 15, 16, 17, 18, 19, 20, 21, 22, 23, 24, 25, 26, 27, 28, 29, 30, 31, 32, 33, 34, 35, 36, 37, 38, 39, 40, 41, 42, 43, 44, 45, 46, 47, 48, 49, 50]\n",
      "43 52 True False True False\n",
      "y_pred_ind: [0, 1, 2, 3, 4, 5, 6, 7, 8, 9, 10, 11, 12, 13, 14, 15, 16, 17, 18, 19, 20, 21, 22, 23, 24, 25, 26, 27, 28, 29, 30, 31, 32, 33, 34, 35, 36, 37, 38, 39, 40, 41, 42, 43, 44, 45, 46, 47, 48, 49, 50, 51]\n",
      "44 53 True False True False\n",
      "y_pred_ind: [0, 1, 2, 3, 4, 5, 6, 7, 8, 9, 10, 11, 12, 13, 14, 15, 16, 17, 18, 19, 20, 21, 22, 23, 24, 25, 26, 27, 28, 29, 30, 31, 32, 33, 34, 35, 36, 37, 38, 39, 40, 41, 42, 43, 44, 45, 46, 47, 48, 49, 50, 51, 52]\n",
      "45 54 True False False True\n",
      "45 55 True False True False\n",
      "ip, pred 54 [(12, 13), (262880, 262885), 'trace3-bitflip']\n",
      "ip, pred 55 [(14, 6), (262890, 262894), 'trace3-bitflip']\n",
      "46 56 True False True False\n",
      "y_pred_ind: [0, 1, 2, 3, 4, 5, 6, 7, 8, 9, 10, 11, 12, 13, 14, 15, 16, 17, 18, 19, 20, 21, 22, 23, 24, 25, 26, 27, 28, 29, 30, 31, 32, 33, 34, 35, 36, 37, 38, 39, 40, 41, 42, 43, 44, 45, 46, 47, 48, 49, 50, 51, 52, 53, 54, 55]\n",
      "47 57 True False True False\n",
      "y_pred_ind: [0, 1, 2, 3, 4, 5, 6, 7, 8, 9, 10, 11, 12, 13, 14, 15, 16, 17, 18, 19, 20, 21, 22, 23, 24, 25, 26, 27, 28, 29, 30, 31, 32, 33, 34, 35, 36, 37, 38, 39, 40, 41, 42, 43, 44, 45, 46, 47, 48, 49, 50, 51, 52, 53, 54, 55, 56]\n",
      "48 58 True False False True\n",
      "48 59 True False True False\n",
      "ip, pred 58 [(12, 13), (267139, 267144), 'trace3-bitflip']\n",
      "ip, pred 59 [(14, 6), (267149, 267153), 'trace3-bitflip']\n",
      "49 60 True False True False\n",
      "y_pred_ind: [0, 1, 2, 3, 4, 5, 6, 7, 8, 9, 10, 11, 12, 13, 14, 15, 16, 17, 18, 19, 20, 21, 22, 23, 24, 25, 26, 27, 28, 29, 30, 31, 32, 33, 34, 35, 36, 37, 38, 39, 40, 41, 42, 43, 44, 45, 46, 47, 48, 49, 50, 51, 52, 53, 54, 55, 56, 57, 58, 59]\n",
      "50 61 True False True False\n",
      "y_pred_ind: [0, 1, 2, 3, 4, 5, 6, 7, 8, 9, 10, 11, 12, 13, 14, 15, 16, 17, 18, 19, 20, 21, 22, 23, 24, 25, 26, 27, 28, 29, 30, 31, 32, 33, 34, 35, 36, 37, 38, 39, 40, 41, 42, 43, 44, 45, 46, 47, 48, 49, 50, 51, 52, 53, 54, 55, 56, 57, 58, 59, 60]\n",
      "51 62 True False False False\n",
      "y_pred_ind: [0, 1, 2, 3, 4, 5, 6, 7, 8, 9, 10, 11, 12, 13, 14, 15, 16, 17, 18, 19, 20, 21, 22, 23, 24, 25, 26, 27, 28, 29, 30, 31, 32, 33, 34, 35, 36, 37, 38, 39, 40, 41, 42, 43, 44, 45, 46, 47, 48, 49, 50, 51, 52, 53, 54, 55, 56, 57, 58, 59, 60, 61]\n",
      "52 63 True False False False\n",
      "y_pred_ind: [0, 1, 2, 3, 4, 5, 6, 7, 8, 9, 10, 11, 12, 13, 14, 15, 16, 17, 18, 19, 20, 21, 22, 23, 24, 25, 26, 27, 28, 29, 30, 31, 32, 33, 34, 35, 36, 37, 38, 39, 40, 41, 42, 43, 44, 45, 46, 47, 48, 49, 50, 51, 52, 53, 54, 55, 56, 57, 58, 59, 60, 61, 62]\n",
      "53 64 True False True False\n",
      "y_pred_ind: [0, 1, 2, 3, 4, 5, 6, 7, 8, 9, 10, 11, 12, 13, 14, 15, 16, 17, 18, 19, 20, 21, 22, 23, 24, 25, 26, 27, 28, 29, 30, 31, 32, 33, 34, 35, 36, 37, 38, 39, 40, 41, 42, 43, 44, 45, 46, 47, 48, 49, 50, 51, 52, 53, 54, 55, 56, 57, 58, 59, 60, 61, 62, 63]\n",
      "54 65 True False True False\n",
      "y_pred_ind: [0, 1, 2, 3, 4, 5, 6, 7, 8, 9, 10, 11, 12, 13, 14, 15, 16, 17, 18, 19, 20, 21, 22, 23, 24, 25, 26, 27, 28, 29, 30, 31, 32, 33, 34, 35, 36, 37, 38, 39, 40, 41, 42, 43, 44, 45, 46, 47, 48, 49, 50, 51, 52, 53, 54, 55, 56, 57, 58, 59, 60, 61, 62, 63, 64]\n",
      "55 66 True False False True\n",
      "55 67 True False True False\n",
      "ip, pred 66 [(12, 13), (456971, 456976), 'trace3-bitflip']\n",
      "ip, pred 67 [(14, 6), (456980, 456984), 'trace3-bitflip']\n",
      "56 68 True False True False\n",
      "y_pred_ind: [0, 1, 2, 3, 4, 5, 6, 7, 8, 9, 10, 11, 12, 13, 14, 15, 16, 17, 18, 19, 20, 21, 22, 23, 24, 25, 26, 27, 28, 29, 30, 31, 32, 33, 34, 35, 36, 37, 38, 39, 40, 41, 42, 43, 44, 45, 46, 47, 48, 49, 50, 51, 52, 53, 54, 55, 56, 57, 58, 59, 60, 61, 62, 63, 64, 65, 66, 67]\n",
      "57 69 True False True False\n",
      "y_pred_ind: [0, 1, 2, 3, 4, 5, 6, 7, 8, 9, 10, 11, 12, 13, 14, 15, 16, 17, 18, 19, 20, 21, 22, 23, 24, 25, 26, 27, 28, 29, 30, 31, 32, 33, 34, 35, 36, 37, 38, 39, 40, 41, 42, 43, 44, 45, 46, 47, 48, 49, 50, 51, 52, 53, 54, 55, 56, 57, 58, 59, 60, 61, 62, 63, 64, 65, 66, 67, 68]\n",
      "58 70 True False True False\n",
      "y_pred_ind: [0, 1, 2, 3, 4, 5, 6, 7, 8, 9, 10, 11, 12, 13, 14, 15, 16, 17, 18, 19, 20, 21, 22, 23, 24, 25, 26, 27, 28, 29, 30, 31, 32, 33, 34, 35, 36, 37, 38, 39, 40, 41, 42, 43, 44, 45, 46, 47, 48, 49, 50, 51, 52, 53, 54, 55, 56, 57, 58, 59, 60, 61, 62, 63, 64, 65, 66, 67, 68, 69]\n",
      "59 71 True False False True\n",
      "59 72 True False True False\n",
      "ip, pred 71 [(12, 13), (462295, 462300), 'trace3-bitflip']\n",
      "ip, pred 72 [(14, 6), (462304, 462309), 'trace3-bitflip']\n",
      "60 73 True False True False\n",
      "y_pred_ind: [0, 1, 2, 3, 4, 5, 6, 7, 8, 9, 10, 11, 12, 13, 14, 15, 16, 17, 18, 19, 20, 21, 22, 23, 24, 25, 26, 27, 28, 29, 30, 31, 32, 33, 34, 35, 36, 37, 38, 39, 40, 41, 42, 43, 44, 45, 46, 47, 48, 49, 50, 51, 52, 53, 54, 55, 56, 57, 58, 59, 60, 61, 62, 63, 64, 65, 66, 67, 68, 69, 70, 71, 72]\n",
      "61 74 True False True False\n",
      "y_pred_ind: [0, 1, 2, 3, 4, 5, 6, 7, 8, 9, 10, 11, 12, 13, 14, 15, 16, 17, 18, 19, 20, 21, 22, 23, 24, 25, 26, 27, 28, 29, 30, 31, 32, 33, 34, 35, 36, 37, 38, 39, 40, 41, 42, 43, 44, 45, 46, 47, 48, 49, 50, 51, 52, 53, 54, 55, 56, 57, 58, 59, 60, 61, 62, 63, 64, 65, 66, 67, 68, 69, 70, 71, 72, 73]\n",
      "62 75 True False True False\n",
      "y_pred_ind: [0, 1, 2, 3, 4, 5, 6, 7, 8, 9, 10, 11, 12, 13, 14, 15, 16, 17, 18, 19, 20, 21, 22, 23, 24, 25, 26, 27, 28, 29, 30, 31, 32, 33, 34, 35, 36, 37, 38, 39, 40, 41, 42, 43, 44, 45, 46, 47, 48, 49, 50, 51, 52, 53, 54, 55, 56, 57, 58, 59, 60, 61, 62, 63, 64, 65, 66, 67, 68, 69, 70, 71, 72, 73, 74]\n",
      "63 76 True False False True\n",
      "63 77 True False True False\n",
      "ip, pred 76 [(12, 13), (467616, 467620), 'trace3-bitflip']\n",
      "ip, pred 77 [(14, 6), (467625, 467629), 'trace3-bitflip']\n",
      "64 78 True False True False\n",
      "y_pred_ind: [0, 1, 2, 3, 4, 5, 6, 7, 8, 9, 10, 11, 12, 13, 14, 15, 16, 17, 18, 19, 20, 21, 22, 23, 24, 25, 26, 27, 28, 29, 30, 31, 32, 33, 34, 35, 36, 37, 38, 39, 40, 41, 42, 43, 44, 45, 46, 47, 48, 49, 50, 51, 52, 53, 54, 55, 56, 57, 58, 59, 60, 61, 62, 63, 64, 65, 66, 67, 68, 69, 70, 71, 72, 73, 74, 75, 76, 77]\n",
      "65 79 True False True False\n",
      "y_pred_ind: [0, 1, 2, 3, 4, 5, 6, 7, 8, 9, 10, 11, 12, 13, 14, 15, 16, 17, 18, 19, 20, 21, 22, 23, 24, 25, 26, 27, 28, 29, 30, 31, 32, 33, 34, 35, 36, 37, 38, 39, 40, 41, 42, 43, 44, 45, 46, 47, 48, 49, 50, 51, 52, 53, 54, 55, 56, 57, 58, 59, 60, 61, 62, 63, 64, 65, 66, 67, 68, 69, 70, 71, 72, 73, 74, 75, 76, 77, 78]\n",
      "66 80 True False True False\n",
      "y_pred_ind: [0, 1, 2, 3, 4, 5, 6, 7, 8, 9, 10, 11, 12, 13, 14, 15, 16, 17, 18, 19, 20, 21, 22, 23, 24, 25, 26, 27, 28, 29, 30, 31, 32, 33, 34, 35, 36, 37, 38, 39, 40, 41, 42, 43, 44, 45, 46, 47, 48, 49, 50, 51, 52, 53, 54, 55, 56, 57, 58, 59, 60, 61, 62, 63, 64, 65, 66, 67, 68, 69, 70, 71, 72, 73, 74, 75, 76, 77, 78, 79]\n",
      "67 81 True False False True\n",
      "67 82 True False True False\n",
      "ip, pred 81 [(12, 13), (472938, 472943), 'trace3-bitflip']\n",
      "ip, pred 82 [(14, 6), (472947, 472952), 'trace3-bitflip']\n",
      "68 83 True False True False\n",
      "y_pred_ind: [0, 1, 2, 3, 4, 5, 6, 7, 8, 9, 10, 11, 12, 13, 14, 15, 16, 17, 18, 19, 20, 21, 22, 23, 24, 25, 26, 27, 28, 29, 30, 31, 32, 33, 34, 35, 36, 37, 38, 39, 40, 41, 42, 43, 44, 45, 46, 47, 48, 49, 50, 51, 52, 53, 54, 55, 56, 57, 58, 59, 60, 61, 62, 63, 64, 65, 66, 67, 68, 69, 70, 71, 72, 73, 74, 75, 76, 77, 78, 79, 80, 81, 82]\n",
      "69 84 True False True False\n",
      "y_pred_ind: [0, 1, 2, 3, 4, 5, 6, 7, 8, 9, 10, 11, 12, 13, 14, 15, 16, 17, 18, 19, 20, 21, 22, 23, 24, 25, 26, 27, 28, 29, 30, 31, 32, 33, 34, 35, 36, 37, 38, 39, 40, 41, 42, 43, 44, 45, 46, 47, 48, 49, 50, 51, 52, 53, 54, 55, 56, 57, 58, 59, 60, 61, 62, 63, 64, 65, 66, 67, 68, 69, 70, 71, 72, 73, 74, 75, 76, 77, 78, 79, 80, 81, 82, 83]\n",
      "70 85 True False False True\n",
      "70 86 True False True False\n",
      "ip, pred 85 [(12, 13), (477201, 477206), 'trace3-bitflip']\n",
      "ip, pred 86 [(14, 6), (477210, 477215), 'trace3-bitflip']\n",
      "71 87 True False True False\n",
      "y_pred_ind: [0, 1, 2, 3, 4, 5, 6, 7, 8, 9, 10, 11, 12, 13, 14, 15, 16, 17, 18, 19, 20, 21, 22, 23, 24, 25, 26, 27, 28, 29, 30, 31, 32, 33, 34, 35, 36, 37, 38, 39, 40, 41, 42, 43, 44, 45, 46, 47, 48, 49, 50, 51, 52, 53, 54, 55, 56, 57, 58, 59, 60, 61, 62, 63, 64, 65, 66, 67, 68, 69, 70, 71, 72, 73, 74, 75, 76, 77, 78, 79, 80, 81, 82, 83, 84, 85, 86]\n",
      "72 88 True False True False\n",
      "y_pred_ind: [0, 1, 2, 3, 4, 5, 6, 7, 8, 9, 10, 11, 12, 13, 14, 15, 16, 17, 18, 19, 20, 21, 22, 23, 24, 25, 26, 27, 28, 29, 30, 31, 32, 33, 34, 35, 36, 37, 38, 39, 40, 41, 42, 43, 44, 45, 46, 47, 48, 49, 50, 51, 52, 53, 54, 55, 56, 57, 58, 59, 60, 61, 62, 63, 64, 65, 66, 67, 68, 69, 70, 71, 72, 73, 74, 75, 76, 77, 78, 79, 80, 81, 82, 83, 84, 85, 86, 87]\n",
      "73 89 True False True False\n",
      "y_pred_ind: [0, 1, 2, 3, 4, 5, 6, 7, 8, 9, 10, 11, 12, 13, 14, 15, 16, 17, 18, 19, 20, 21, 22, 23, 24, 25, 26, 27, 28, 29, 30, 31, 32, 33, 34, 35, 36, 37, 38, 39, 40, 41, 42, 43, 44, 45, 46, 47, 48, 49, 50, 51, 52, 53, 54, 55, 56, 57, 58, 59, 60, 61, 62, 63, 64, 65, 66, 67, 68, 69, 70, 71, 72, 73, 74, 75, 76, 77, 78, 79, 80, 81, 82, 83, 84, 85, 86, 87, 88]\n",
      "74 90 True False False True\n",
      "74 91 True False True False\n",
      "ip, pred 90 [(12, 13), (482525, 482530), 'trace3-bitflip']\n",
      "ip, pred 91 [(14, 6), (482534, 482539), 'trace3-bitflip']\n"
     ]
    }
   ],
   "source": [
    "#### Validate model\n",
    "all_detections = []  ### format [file1_detection, file2_detection] -> file1_detection: [(state1, state2), (ts1, ts2), filename]\n",
    "y_pred_all = []\n",
    "y_true_all = []\n",
    "all_tp = []\n",
    "all_fp = []\n",
    "for test_data, test_label in zip(test_data_path, test_label_path):\n",
    "    detection = model.test_single(test_data)\n",
    "    all_detections += [(test_data, detection, test_label)]  ### used to plot detections\n",
    "    print('Detections:', detection)\n",
    "    print(len(detection))\n",
    "\n",
    "\n",
    "    ground_truth_raw = read_traces(test_label)\n",
    "    ground_truth = ground_truth_raw['labels']\n",
    "    label_trace_name = list(ground_truth.keys())[0]\n",
    "    ground_truth = ground_truth[label_trace_name]\n",
    "    print('ground truths:', ground_truth)\n",
    "    print(len(ground_truth))\n",
    "\n",
    "    correct_pred, rest_pred, y_pred, y_true = model.get_correct_detections(detection, ground_truth)\n",
    "\n",
    "    y_pred_all.extend(y_pred)\n",
    "    y_true_all.extend(y_true)\n",
    "    all_tp += [(test_data, correct_pred, test_label)]\n",
    "    all_fp += [(test_data, rest_pred, test_label)]\n",
    "    \n",
    "\n",
    "\n",
    "# result = model.test(test_data_path)"
   ]
  },
  {
   "cell_type": "code",
   "execution_count": 11,
   "metadata": {},
   "outputs": [
    {
     "name": "stdout",
     "output_type": "stream",
     "text": [
      "y_pred [0, 0, 0, 0, 0, 0, 0, 0, 0, 0, 1, 0, 0, 0, 1, 0, 0, 0, 1, 0, 0, 0, 0, 0, 0, 1, 1, 1, 0, 1, 1, 1, 1, 1, 1, 1, 1, 1, 1, 1, 1, 1, 1, 1, 1, 1, 1, 1, 1, 1, 1, 1, 1, 1, 1, 1, 1, 1, 1, 1, 1, 1, 1, 1, 1, 1, 1, 1, 1, 1, 1, 1, 1, 1, 1, 1, 1, 1, 1, 1, 1, 1, 1, 1, 0, 1, 1, 1, 1, 1, 1, 1, 1, 1, 1, 1, 1, 1, 1, 1, 1, 1, 1, 1, 1, 1, 1, 1, 1, 1, 1, 1, 1, 1, 1, 1, 1, 1, 1, 1, 1, 1, 1, 1, 1, 1, 1, 1, 1, 1, 1, 1, 1, 1, 1, 1, 1, 1, 1, 1, 1, 1, 1, 1, 1, 1, 1, 1, 1]\n",
      "y_true [1, 1, 1, 1, 1, 1, 1, 1, 1, 1, 1, 1, 1, 1, 1, 1, 1, 1, 1, 1, 1, 1, 1, 1, 1, 1, 1, 1, 1, 1, 1, 1, 1, 1, 1, 1, 1, 1, 1, 1, 1, 1, 1, 1, 1, 1, 1, 1, 1, 1, 1, 1, 1, 1, 1, 1, 1, 1, 1, 1, 1, 1, 1, 1, 1, 1, 1, 1, 1, 1, 1, 1, 1, 1, 1, 1, 1, 1, 1, 1, 1, 1, 1, 1, 1, 1, 1, 1, 1, 1, 1, 1, 1, 1, 1, 1, 1, 1, 1, 1, 1, 1, 1, 1, 1, 1, 1, 1, 1, 1, 1, 1, 1, 1, 1, 1, 1, 1, 1, 1, 1, 1, 1, 1, 1, 1, 1, 1, 1, 1, 1, 1, 1, 1, 1, 1, 1, 1, 1, 1, 1, 1, 1, 1, 1, 1, 1, 1, 1]\n",
      "149\n"
     ]
    }
   ],
   "source": [
    "print('y_pred', y_pred_all)\n",
    "print('y_true', y_true_all)\n",
    "print(len(y_true_all))"
   ]
  },
  {
   "cell_type": "code",
   "execution_count": 12,
   "metadata": {},
   "outputs": [
    {
     "name": "stdout",
     "output_type": "stream",
     "text": [
      "Precision: 1.0000\n",
      "Recall: 0.8389\n",
      "F1 Score: 0.9124\n",
      "Confusion Matrix:\n",
      "[[  0   0]\n",
      " [ 24 125]]\n"
     ]
    },
    {
     "data": {
      "text/plain": [
       "<sklearn.metrics._plot.confusion_matrix.ConfusionMatrixDisplay at 0x1227c5660>"
      ]
     },
     "execution_count": 12,
     "metadata": {},
     "output_type": "execute_result"
    },
    {
     "data": {
      "image/png": "[encoded data removed]",
      "text/plain": [
       "<Figure size 640x480 with 2 Axes>"
      ]
     },
     "metadata": {},
     "output_type": "display_data"
    }
   ],
   "source": [
    "### Evaluation metrics\n",
    "\n",
    "from sklearn.metrics import accuracy_score, confusion_matrix, f1_score, precision_score, recall_score, average_precision_score, ConfusionMatrixDisplay\n",
    "\n",
    "\n",
    "# Calculate precision\n",
    "precision = precision_score(y_true_all, y_pred_all)\n",
    "print(f'Precision: {precision:.4f}')\n",
    "\n",
    "# Calculate recall\n",
    "recall = recall_score(y_true_all, y_pred_all)\n",
    "print(f'Recall: {recall:.4f}')\n",
    "\n",
    "# # Calculate average precision\n",
    "# average_precision = average_precision_score(y_true_all, y_pred_all)\n",
    "# print(f'Average Precision: {average_precision:.4f}')\n",
    "\n",
    "# Calculate F1 score\n",
    "f1 = f1_score(y_true_all, y_pred_all)\n",
    "print(f\"F1 Score: {f1:.4f}\")\n",
    "\n",
    "# Calculate confusion matrix\n",
    "conf_matrix = confusion_matrix(y_true_all, y_pred_all)\n",
    "print(\"Confusion Matrix:\")\n",
    "print(conf_matrix)\n",
    "disp = ConfusionMatrixDisplay(confusion_matrix=conf_matrix, display_labels=['normal', 'anomaly'])\n",
    "disp.plot()"
   ]
  },
  {
   "cell_type": "markdown",
   "metadata": {},
   "source": [
    "## Plot Detections"
   ]
  },
  {
   "cell_type": "code",
   "execution_count": 13,
   "metadata": {},
   "outputs": [
    {
     "name": "stdout",
     "output_type": "stream",
     "text": [
      "test_data: ../trace_data/theft_protection/single_thread/version_3/faulty_data/trace1-com\n",
      "detections: [[(8, 6), (192998, 193261), 'trace1-com'], [(8, 6), (255580, 255850), 'trace1-com'], [(8, 13), (428213, 428467), 'trace1-com']]\n",
      "../trace_data/theft_protection/single_thread/version_3/faulty_data/trace1-com trace1-com\n",
      "timestamps: [1307, 1335, 1356, 1361, 1869, 1874, 1877, 1903, 2919, 2924, 2928, 2953, 3970, 3975, 3979, 4004, 5021, 5025, 5030, 5055, 6071, 6076, 6080, 6105, 7122, 7127, 7130, 7135, 7140, 7145, 7170, 8187, 8191, 8195, 8200, 8204, 8209, 8234, 9250, 9255, 9259, 9284, 10301, 10305, 10310, 10335, 11352, 11356, 11361, 11386, 12403, 12408, 12411, 12416, 12421, 12425, 12450, 13467, 13472, 13476, 13480, 13484, 13488, 13514, 14530, 14534, 14539, 14564, 15580, 15585, 15589, 15614, 16631, 16636, 16640, 16665, 17682, 17687, 17690, 17696, 17700, 17705, 17730, 18747, 18751, 18756, 18760, 18764, 18769, 18794, 19810, 19815, 19819, 19844, 20861, 20866, 20870, 20895, 21912, 21917, 21920, 21925, 21930, 21934, 21960, 22976, 22981, 22985, 22990, 22994, 22999, 23025, 24041, 24046, 24050, 24075, 25092, 25096, 25101, 25126, 26143, 26147, 26152, 26178, 27194, 27199, 27202, 27207, 27212, 27217, 27243, 28259, 28264, 28268, 28272, 28277, 28281, 28306, 29323, 29327, 29332, 29357, 30373, 30377, 30382, 30407, 31424, 31428, 31433, 31458, 32475, 32480, 32483, 32488, 32493, 32498, 32523, 33540, 33545, 33549, 33553, 33557, 33562, 33587, 34604, 34609, 34613, 34638, 35655, 35659, 35664, 35689, 36706, 36710, 36715, 36740, 37757, 37762, 37765, 37770, 37775, 37780, 37805, 38822, 38827, 38831, 38856, 39873, 39877, 39882, 39907, 40924, 40928, 40933, 40958, 41975, 41979, 41983, 41988, 41993, 41997, 42022, 43039, 43044, 43048, 43073, 44090, 44094, 44099, 44124, 45141, 45145, 45150, 45175, 46191, 46196, 46200, 46225, 47242, 47246, 47250, 47255, 47260, 47264, 47290, 48307, 48312, 48316, 48320, 48324, 48329, 48354, 49371, 49376, 49380, 49406, 50422, 50426, 50431, 50456, 51473, 51478, 51482, 51507, 52524, 52529, 52532, 52537, 52542, 52547, 52572, 53589, 53593, 53597, 53602, 53606, 53611, 53637, 54653, 54658, 54663, 54688, 55704, 55709, 55713, 55738, 56755, 56760, 56764, 56789, 57806, 57811, 57814, 57819, 57824, 57829, 57854, 58871, 58875, 58879, 58884, 58888, 58893, 58918, 59935, 59940, 59945, 59970, 60986, 60991, 60995, 61021, 62037, 62042, 62045, 62050, 62055, 62060, 62084, 63101, 63106, 63109, 63114, 63119, 63124, 63149, 64166, 64170, 64175, 64200, 65217, 65222, 65226, 65251, 66268, 66273, 66277, 66302, 67319, 67323, 67327, 67332, 67337, 67342, 67367, 68384, 68389, 68393, 68418, 69435, 69440, 69444, 69469, 70486, 70491, 70495, 70521, 71537, 71542, 71546, 71572, 72588, 72593, 72596, 72601, 72606, 72611, 72636, 73653, 73657, 73661, 73666, 73670, 73675, 73700, 74717, 74721, 74726, 74751, 75768, 75773, 75777, 75802, 76819, 76823, 76828, 76853, 77870, 77875, 77878, 77884, 77889, 77893, 77919, 78936, 78940, 78944, 78949, 78953, 78958, 78983, 80000, 80005, 80009, 80034, 81051, 81056, 81060, 81085, 82102, 82107, 82110, 82115, 82120, 82125, 82150, 83167, 83172, 83176, 83180, 83184, 83189, 83215, 84231, 84235, 84240, 84265, 85282, 85286, 85291, 85317, 86334, 86338, 86343, 86368, 87385, 87389, 87393, 87398, 87403, 87408, 87433, 88450, 88455, 88459, 88484, 89501, 89505, 89510, 89535, 90552, 90557, 90561, 90586, 91603, 91608, 91613, 91638, 92655, 92660, 92663, 92668, 92674, 92679, 92704, 93721, 93726, 93729, 93734, 93738, 93743, 93768, 94785, 94790, 94794, 94820, 95836, 95840, 95845, 95870, 96887, 96892, 96895, 96900, 96905, 96910, 96935, 97952, 97957, 97961, 97966, 97970, 97976, 98001, 99018, 99023, 99027, 99052, 100069, 100074, 100078, 100103, 101120, 101124, 101129, 101154, 102171, 102176, 102179, 102185, 102190, 102195, 102220, 103237, 103242, 103245, 103250, 103254, 103259, 103284, 104301, 104306, 104310, 104335, 105352, 105357, 105361, 105386, 106403, 106407, 106412, 106437, 107454, 107459, 107462, 107467, 107472, 107477, 107502, 108519, 108524, 108529, 108554, 109570, 109575, 109579, 109604, 110621, 110626, 110630, 110655, 111672, 111676, 111681, 111706, 112723, 112728, 112731, 112736, 112741, 112746, 112771, 113788, 113792, 113797, 113822, 114838, 114842, 114847, 114872, 115889, 115894, 115898, 115923, 116940, 116945, 116948, 116953, 116958, 116962, 116988, 118005, 118010, 118014, 118019, 118022, 118028, 118054, 119070, 119075, 119080, 119105, 120121, 120125, 120130, 120155, 121172, 121177, 121181, 121206, 122223, 122228, 122231, 122236, 122241, 122246, 122271, 123288, 123293, 123297, 123302, 123306, 123312, 123337, 124354, 124358, 124363, 124388, 125405, 125409, 125414, 125439, 126456, 126460, 126465, 126490, 127507, 127511, 127515, 127520, 127525, 127530, 127555, 128572, 128577, 128581, 128586, 128590, 128596, 128621, 129638, 129642, 129647, 129672, 130688, 130692, 130697, 130723, 131740, 131745, 131750, 131775, 132792, 132797, 132800, 132805, 132810, 132815, 132840, 133857, 133862, 133867, 133892, 134908, 134912, 134917, 134942, 135959, 135963, 135968, 135993, 137009, 137014, 137017, 137022, 137028, 137032, 137057, 138074, 138078, 138082, 138087, 138092, 138098, 138123, 139140, 139145, 139149, 139174, 140191, 140196, 140200, 140225, 141242, 141246, 141251, 141276, 142293, 142297, 142301, 142307, 142311, 142316, 142342, 143358, 143363, 143367, 143371, 143375, 143381, 143407, 144423, 144428, 144432, 144457, 145474, 145479, 145483, 145509, 146525, 146530, 146534, 146559, 147576, 147581, 147585, 147590, 147594, 147599, 147624, 148641, 148646, 148650, 148654, 148658, 148664, 148689, 149706, 149711, 149715, 149741, 150758, 150762, 150767, 150792, 151808, 151812, 151817, 151842, 152859, 152864, 152867, 152872, 152877, 152882, 152907, 153924, 153928, 153933, 153958, 154975, 154980, 154984, 155009, 156026, 156031, 156035, 156060, 157077, 157081, 157085, 157090, 157095, 157099, 157124, 158142, 158146, 158150, 158155, 158159, 158165, 158190, 159207, 159212, 159216, 159242, 160258, 160263, 160267, 160292, 161310, 161315, 161320, 161345, 162361, 162365, 162369, 162374, 162379, 162383, 162409, 163425, 163429, 163433, 163438, 163442, 163448, 163473, 164489, 164493, 164498, 164524, 165541, 165546, 165550, 165575, 166592, 166597, 166601, 166626, 167643, 167647, 167651, 167656, 167660, 167666, 167691, 168708, 168713, 168716, 168721, 168726, 168732, 168758, 169774, 169778, 169783, 169808, 170826, 170830, 170835, 170860, 171877, 171882, 171885, 171890, 171895, 171900, 171925, 172942, 172947, 172951, 172955, 172959, 172965, 172990, 174007, 174011, 174016, 174041, 175058, 175063, 175067, 175093, 176109, 176114, 176118, 176143, 177160, 177165, 177168, 177173, 177178, 177183, 177209, 178226, 178231, 178234, 178239, 178243, 178249, 178274, 179291, 179295, 179300, 179325, 180342, 180346, 180351, 180376, 181394, 181399, 181403, 181428, 182445, 182449, 182453, 182458, 182463, 182468, 182493, 183509, 183513, 183518, 183543, 184559, 184563, 184568, 184593, 185611, 185616, 185620, 185646, 186662, 186667, 186671, 186696, 187713, 187718, 187721, 187726, 187732, 187737, 187762, 188779, 188784, 188789, 188814, 189831, 189835, 189840, 189865, 190881, 190886, 190890, 190915, 191932, 191937, 191940, 191945, 191951, 191956, 191981, 192998, 193261, 193286, 194303, 194307, 194312, 194337, 195354, 195359, 195363, 195388, 196405, 196409, 196414, 196439, 197456, 197461, 197465, 197470, 197475, 197479, 197504, 198521, 198525, 198530, 198555, 199572, 199577, 199581, 199606, 200623, 200627, 200632, 200657, 201673, 201677, 201682, 201708, 202725, 202730, 202733, 202738, 202743, 202748, 202773, 203790, 203794, 203799, 203824, 204841, 204845, 204850, 204875, 205892, 205896, 205901, 205926, 206943, 206948, 206951, 206956, 206961, 206965, 206991, 208008, 208013, 208017, 208022, 208026, 208033, 208059, 209076, 209081, 209085, 209110, 210127, 210131, 210136, 210161, 211178, 211182, 211187, 211212, 212228, 212233, 212236, 212241, 212246, 212251, 212276, 213293, 213298, 213303, 213307, 213311, 213318, 213343, 214360, 214365, 214369, 214394, 215411, 215415, 215420, 215445, 216462, 216467, 216471, 216496, 217513, 217518, 217521, 217527, 217532, 217536, 217562, 218579, 218584, 218588, 218593, 218597, 218605, 218631, 219647, 219652, 219656, 219681, 220700, 220704, 220708, 220734, 221750, 221754, 221759, 221784, 222802, 222806, 222809, 222814, 222819, 222824, 222849, 223867, 223872, 223876, 223880, 223884, 223891, 223917, 224933, 224937, 224942, 224967, 225984, 225988, 225993, 226018, 227035, 227039, 227043, 227048, 227053, 227058, 227083, 228100, 228105, 228109, 228115, 228119, 228126, 228152, 229169, 229174, 229178, 229203, 230220, 230224, 230229, 230254, 231271, 231276, 231280, 231305, 232322, 232327, 232330, 232335, 232341, 232346, 232371, 233388, 233393, 233397, 233422, 234439, 234444, 234448, 234474, 235490, 235494, 235499, 235524, 236542, 236547, 236551, 236576, 237593, 237598, 237601, 237606, 237611, 237616, 237641, 238658, 238662, 238666, 238671, 238675, 238682, 238708, 239724, 239729, 239734, 239759, 240776, 240781, 240785, 240810, 241827, 241831, 241836, 241861, 242878, 242882, 242886, 242891, 242895, 242900, 242925, 243942, 243946, 243950, 243955, 243959, 243966, 243991, 245008, 245014, 245018, 245044, 246060, 246064, 246069, 246094, 247111, 247115, 247119, 247124, 247129, 247133, 247158, 248175, 248179, 248183, 248188, 248192, 248200, 248226, 249242, 249246, 249251, 249276, 250295, 250299, 250303, 250328, 251345, 251350, 251354, 251380, 252396, 252401, 252404, 252409, 252414, 252419, 252444, 253461, 253466, 253470, 253474, 253478, 253485, 253510, 254527, 254532, 254536, 254563, 255580, 255850, 255875, 256892, 256897, 256900, 256906, 256910, 256915, 256940, 257957, 257961, 257966, 257970, 257974, 257981, 258006, 259023, 259028, 259032, 259057, 260074, 260079, 260083, 260110, 261126, 261131, 261135, 261160, 262177, 262181, 262185, 262190, 262195, 262199, 262225, 263242, 263246, 263251, 263255, 263259, 263266, 263292, 264308, 264313, 264317, 264342, 265359, 265363, 265369, 265394, 266411, 266416, 266420, 266446, 267462, 267467, 267470, 267475, 267480, 267484, 267509, 268526, 268531, 268536, 268541, 268545, 268552, 268577, 269594, 269599, 269603, 269628, 270645, 270649, 270654, 270679, 271696, 271701, 271705, 271730, 272747, 272751, 272755, 272760, 272765, 272769, 272794, 273811, 273816, 273820, 273825, 273829, 273836, 273863, 274880, 274884, 274889, 274914, 275931, 275936, 275940, 275965, 276982, 276987, 276990, 276995, 277000, 277005, 277031, 278047, 278051, 278055, 278060, 278064, 278071, 278097, 279114, 279118, 279124, 279149, 280166, 280170, 280175, 280200, 281216, 281220, 281225, 281250, 282267, 282272, 282275, 282280, 282285, 282290, 282315, 283332, 283336, 283340, 283345, 283349, 283356, 283381, 284398, 284404, 284408, 284434, 285450, 285454, 285459, 285484, 286501, 286505, 286510, 286535, 287552, 287557, 287560, 287565, 287570, 287574, 287600, 288616, 288621, 288626, 288630, 288634, 288642, 288667, 289684, 289688, 289693, 289718, 290735, 290740, 290744, 290769, 291786, 291791, 291795, 291821, 292838, 292843, 292846, 292853, 292858, 292862, 292888, 293905, 293910, 293914, 293918, 293922, 293929, 293954, 294971, 294976, 294980, 295006, 296022, 296027, 296031, 296056, 297073, 297077, 297081, 297086, 297091, 297095, 297122, 298139, 298144, 298148, 298152, 298156, 298164, 298189, 299206, 299211, 299215, 299240, 300257, 300261, 300266, 300291, 301308, 301313, 301317, 301343, 302360, 302365, 302368, 302373, 302378, 302383, 302409, 303426, 303431, 303435, 303441, 303445, 303452, 303477, 304494, 304499, 304503, 304529, 305545, 305549, 305554, 305579, 306596, 306600, 306605, 306631, 307647, 307652, 307655, 307660, 307665, 307669, 307695, 308712, 308717, 308723, 308727, 308731, 308738, 308763, 309780, 309785, 309789, 309814, 310831, 310835, 310840, 310865, 311882, 311886, 311890, 311895, 311900, 311905, 311930, 312947, 312952, 312956, 312960, 312964, 312971, 312996, 314014, 314019, 314023, 314050, 315068, 315072, 315076, 315101, 316118, 316122, 316127, 316152, 317169, 317173, 317177, 317182, 317187, 317191, 317217, 318233, 318238, 318242, 318246, 318250, 318257, 318283, 319299, 319304, 319308, 319334, 320350, 320354, 320359, 320384, 321401, 321405, 321410, 321435, 322452, 322457, 322460, 322465, 322470, 322476, 322501, 323518, 323523, 323527, 323531, 323535, 323543, 323569, 324586, 324591, 324595, 324620, 325637, 325642, 325646, 325671, 326688, 326692, 326697, 326722, 327739, 327744, 327747, 327752, 327759, 327764, 327790, 328807, 328811, 328815, 328820, 328824, 328831, 328856, 329873, 329878, 329882, 329907, 330924, 330929, 330933, 330958, 331975, 331979, 331983, 331988, 331993, 331997, 332023, 333042, 333046, 333050, 333075, 334092, 334096, 334101, 334126, 335143, 335148, 335152, 335178, 336194, 336199, 336203, 336228, 337245, 337250, 337253, 337258, 337263, 337268, 337293, 338311, 338315, 338321, 338346, 339363, 339367, 339372, 339397, 340415, 340419, 340423, 340449, 341465, 341470, 341474, 341500, 342516, 342521, 342524, 342529, 342534, 342538, 342564, 343580, 343585, 343589, 343593, 343597, 343606, 343631, 344648, 344653, 344659, 344684, 345701, 345706, 345710, 345735, 346752, 346757, 346761, 346786, 347803, 347807, 347811, 347816, 347821, 347826, 347851, 348868, 348872, 348876, 348881, 348885, 348893, 348918, 349935, 349939, 349944, 349970, 350987, 350992, 350998, 351023, 352040, 352045, 352048, 352053, 352058, 352063, 352088, 353105, 353110, 353114, 353119, 353123, 353131, 353157, 354174, 354178, 354183, 354208, 355225, 355230, 355234, 355259, 356276, 356283, 356287, 356312, 357329, 357334, 357337, 357343, 357347, 357352, 357377, 358394, 358398, 358403, 358408, 358412, 358420, 358446, 359463, 359468, 359472, 359497, 360514, 360518, 360523, 360548, 361565, 361570, 361574, 361599, 362616, 362621, 362624, 362629, 362634, 362639, 362664, 363681, 363686, 363690, 363695, 363700, 363709, 363735, 364751, 364756, 364760, 364785, 365802, 365806, 365811, 365836, 366853, 366858, 366862, 366888, 367904, 367909, 367912, 367917, 367922, 367926, 367951, 368968, 368973, 368977, 368982, 368985, 368994, 369019, 370036, 370041, 370045, 370071, 371087, 371091, 371098, 371123, 372140, 372145, 372148, 372153, 372158, 372163, 372188, 373205, 373210, 373214, 373218, 373222, 373231, 373256, 374274, 374278, 374283, 374308, 375325, 375330, 375334, 375359, 376376, 376381, 376385, 376411, 377428, 377433, 377438, 377443, 377448, 377453, 377479, 378495, 378500, 378504, 378530, 379547, 379552, 379556, 379582, 380600, 380604, 380608, 380634, 381650, 381655, 381659, 381684, 382701, 382706, 382709, 382714, 382719, 382724, 382749, 383766, 383770, 383775, 383779, 383783, 383793, 383818, 384834, 384838, 384843, 384868, 385885, 385891, 385896, 385921, 386938, 386942, 386946, 386951, 386956, 386961, 386986, 388003, 388008, 388012, 388017, 388021, 388031, 388057, 389073, 389077, 389082, 389107, 390125, 390129, 390133, 390159, 391178, 391182, 391186, 391212, 392228, 392232, 392236, 392241, 392246, 392250, 392276, 393293, 393298, 393302, 393307, 393311, 393320, 393345, 394362, 394367, 394371, 394396, 395413, 395417, 395422, 395448, 396464, 396469, 396473, 396498, 397515, 397520, 397523, 397528, 397533, 397537, 397563, 398580, 398585, 398589, 398595, 398599, 398609, 398635, 399651, 399655, 399660, 399685, 400702, 400707, 400711, 400737, 401753, 401757, 401762, 401787, 402804, 402809, 402812, 402817, 402822, 402828, 402853, 403870, 403875, 403879, 403884, 403888, 403897, 403923, 404940, 404944, 404949, 404975, 405991, 405996, 406001, 406026, 407042, 407047, 407052, 407057, 407062, 407067, 407092, 408109, 408114, 408117, 408122, 408126, 408135, 408161, 409178, 409183, 409187, 409212, 410229, 410233, 410238, 410263, 411279, 411283, 411288, 411314, 412330, 412335, 412338, 412343, 412348, 412353, 412378, 413395, 413400, 413404, 413409, 413415, 413426, 413452, 414469, 414473, 414478, 414503, 415520, 415524, 415529, 415554, 416571, 416575, 416580, 416605, 417622, 417626, 417630, 417635, 417639, 417644, 417670, 418687, 418691, 418696, 418700, 418704, 418713, 418739, 419757, 419763, 419768, 419793, 420809, 420813, 420818, 420843, 421860, 421865, 421869, 421895, 422912, 422916, 422920, 422925, 422930, 422934, 422959, 423976, 423980, 423984, 423989, 423993, 424002, 424028, 425046, 425050, 425054, 425080, 426096, 426100, 426105, 426130, 427147, 427151, 427155, 427160, 427165, 427170, 427196, 428213, 428467, 428471, 428475, 428485, 428512, 429529, 429534, 429538, 429564, 430581, 430586, 430591, 430616, 431632, 431637, 431641, 431666, 432683, 432687, 432691, 432696, 432701, 432705, 432731, 433748, 433753, 433757, 433782, 434799, 434803, 434808, 434833, 435850, 435855, 435862, 435887, 436904, 436908, 436912, 436917, 436922, 436927, 436952, 437968, 437973, 437977, 438002, 439019, 439023, 439028, 439053, 440070, 440075, 440079, 440105, 441122, 441127, 441131, 441156, 442173, 442178, 442182, 442187, 442194, 442199, 442224, 443241, 443245, 443249, 443254, 443258, 443269, 443294, 444311, 444316, 444321, 444346, 445362, 445367, 445373, 445399, 446416, 446421, 446425, 446451, 447468, 447472, 447475, 447480, 447485, 447490, 447515, 448532, 448536, 448540, 448545, 448549, 448560, 448586, 449603, 449608, 449613, 449638, 450655, 450660, 450664, 450690, 451707, 451712, 451719, 451744, 452761, 452766, 452769, 452774, 452779, 452784, 452810, 453826, 453831, 453835, 453861, 454877, 454881, 454886, 454911, 455928, 455932, 455937, 455962, 456980, 456985, 456989, 456994, 456999, 457003, 457029, 458045, 458050, 458054, 458058, 458062, 458074, 458100, 459117, 459122, 459126, 459152, 460168, 460173, 460178, 460203, 461219, 461223, 461230, 461256, 462273, 462278, 462281, 462287, 462291, 462296, 462321, 463338, 463343, 463347, 463351, 463355, 463367, 463392, 464409, 464414, 464418, 464443, 465460, 465464, 465469, 465495, 466511, 466516, 466520, 466545, 467562, 467567, 467570, 467576, 467580, 467585, 467610, 468627, 468632, 468636, 468640, 468644, 468656, 468682, 469699, 469704, 469708, 469735, 470752, 470757, 470762, 470787, 471804, 471808, 471813, 471839, 472856, 472861, 472865, 472870, 472874, 472879, 472904, 473921, 473926, 473930, 473934, 473938, 473950, 473976, 474992, 474997, 475001, 475026, 476043, 476048, 476052, 476080, 477097, 477101, 477105, 477110, 477115, 477120, 477146, 478163, 478168, 478173, 478198, 479215, 479219, 479224, 479249, 480265, 480270, 480274, 480299, 481316, 481321, 481325, 481351, 482367, 482371, 482375, 482380, 482385, 482389, 482415, 483432, 483437, 483441, 483446, 483452, 483466, 483492, 484508, 484513, 484517, 484543, 485560, 485564, 485569, 485594, 486611, 486616, 486620, 486646, 487662, 487666, 487670, 487675, 487679, 487684, 487710, 488727, 488732, 488736, 488741, 488745, 488757, 488783, 489799, 489803, 489808, 489833, 490849, 490853, 490858, 490883, 491899, 491904, 491907, 491913, 491917, 491922, 491947, 492964, 492969, 492973, 492977, 492981, 492994, 493022, 494040, 494045, 494049, 494075, 495092, 495096, 495101, 495126, 496142, 496147, 496151, 496176, 497193, 497198, 497201, 497206, 497211, 497216, 497241, 498259, 498263, 498267, 498293, 499310, 499315, 499320, 499345, 500362, 500367, 500371, 500396, 501413, 501417, 501422, 501447, 502464, 502469, 502473, 502478, 502485, 502490, 502515, 503532, 503537, 503541, 503568, 504585, 504590, 504595, 504620, 505637, 505641, 505646, 505671, 506688, 506692, 506697, 506722, 507738, 507743, 507747, 507752, 507756, 507761, 507787, 508803, 508808, 508812, 508816, 508820, 508835, 508861, 509878, 509883, 509887, 509912, 510929, 510933, 510938, 510963, 511981, 511985, 511988, 511993, 511998, 512003, 512028, 513045, 513050, 513057, 513061, 513065, 513080, 513106, 514122, 514127, 514131, 514157, 515174, 515179, 515184, 515209, 516226, 516230, 516235, 516260, 517276, 517280, 517284, 517289, 517294, 517298, 517324, 518341, 518346, 518350, 518355, 518359, 518374, 518399, 519416, 519421, 519425, 519452, 520472, 520477, 520482, 520507, 521524, 521529, 521533, 521558, 522575, 522580, 522583, 522588, 522593, 522598, 522623, 523640, 523645, 523649, 523654, 523658, 523673, 523698, 524715, 524719, 524724, 524750, 525768, 525772, 525777, 525802, 526819, 526824, 526828, 526853, 527870, 527875, 527878, 527883, 527888, 527893, 527919, 528935, 528940, 528945, 528949, 528953, 528968, 528994, 530011, 530016, 530020, 530046, 531063, 531069, 531073, 531102, 532119, 532124, 532127, 532133, 532137]\n",
      "[(8, 6), (192998, 193261), 'trace1-com']\n",
      "192998 193261\n",
      "[(8, 6), (255580, 255850), 'trace1-com']\n",
      "255580 255850\n",
      "[(8, 13), (428213, 428467), 'trace1-com']\n",
      "428213 428467\n"
     ]
    },
    {
     "data": {
      "application/vnd.plotly.v1+json": {
       "config": {
        "plotlyServerURL": "https://plot.ly"
       },
       "data": [
        {
         "line": {
          "width": 0.5
         },
         "marker": {
          "color": "midnightblue",
          "size": 8
         },
         "mode": "lines+markers",
         "name": "trace1-com",
         "showlegend": true,
         "type": "scatter",
         "y": [
          0,
          1,
          2,
          3,
          4,
          5,
          6,
          7,
          8,
          9,
          6,
          7,
          8,
          9,
          6,
          7,
          8,
          9,
          6,
          7,
          8,
          9,
          6,
          7,
          8,
          9,
          10,
          11,
          12,
          6,
          7,
          8,
          9,
          13,
          14,
          15,
          6,
          7,
          8,
          9,
          6,
          7,
          8,
          9,
          6,
          7,
          8,
          9,
          6,
          7,
          8,
          9,
          10,
          11,
          12,
          6,
          7,
          8,
          9,
          13,
          14,
          15,
          6,
          7,
          8,
          9,
          6,
          7,
          8,
          9,
          6,
          7,
          8,
          9,
          6,
          7,
          8,
          9,
          10,
          11,
          12,
          6,
          7,
          8,
          9,
          13,
          14,
          15,
          6,
          7,
          8,
          9,
          6,
          7,
          8,
          9,
          6,
          7,
          8,
          9,
          10,
          11,
          12,
          6,
          7,
          8,
          9,
          13,
          14,
          15,
          6,
          7,
          8,
          9,
          6,
          7,
          8,
          9,
          6,
          7,
          8,
          9,
          6,
          7,
          8,
          9,
          10,
          11,
          12,
          6,
          7,
          8,
          9,
          13,
          14,
          15,
          6,
          7,
          8,
          9,
          6,
          7,
          8,
          9,
          6,
          7,
          8,
          9,
          6,
          7,
          8,
          9,
          10,
          11,
          12,
          6,
          7,
          8,
          9,
          13,
          14,
          15,
          6,
          7,
          8,
          9,
          6,
          7,
          8,
          9,
          6,
          7,
          8,
          9,
          6,
          7,
          8,
          9,
          10,
          11,
          12,
          6,
          7,
          8,
          9,
          6,
          7,
          8,
          9,
          6,
          7,
          8,
          9,
          6,
          7,
          8,
          9,
          10,
          11,
          12,
          6,
          7,
          8,
          9,
          6,
          7,
          8,
          9,
          6,
          7,
          8,
          9,
          6,
          7,
          8,
          9,
          6,
          7,
          8,
          9,
          10,
          11,
          12,
          6,
          7,
          8,
          9,
          13,
          14,
          15,
          6,
          7,
          8,
          9,
          6,
          7,
          8,
          9,
          6,
          7,
          8,
          9,
          6,
          7,
          8,
          9,
          10,
          11,
          12,
          6,
          7,
          8,
          9,
          13,
          14,
          15,
          6,
          7,
          8,
          9,
          6,
          7,
          8,
          9,
          6,
          7,
          8,
          9,
          6,
          7,
          8,
          9,
          10,
          11,
          12,
          6,
          7,
          8,
          9,
          13,
          14,
          15,
          6,
          7,
          8,
          9,
          6,
          7,
          8,
          9,
          6,
          7,
          8,
          9,
          10,
          11,
          12,
          6,
          7,
          8,
          9,
          13,
          14,
          15,
          6,
          7,
          8,
          9,
          6,
          7,
          8,
          9,
          6,
          7,
          8,
          9,
          6,
          7,
          8,
          9,
          10,
          11,
          12,
          6,
          7,
          8,
          9,
          6,
          7,
          8,
          9,
          6,
          7,
          8,
          9,
          6,
          7,
          8,
          9,
          6,
          7,
          8,
          9,
          10,
          11,
          12,
          6,
          7,
          8,
          9,
          13,
          14,
          15,
          6,
          7,
          8,
          9,
          6,
          7,
          8,
          9,
          6,
          7,
          8,
          9,
          6,
          7,
          8,
          9,
          10,
          11,
          12,
          6,
          7,
          8,
          9,
          13,
          14,
          15,
          6,
          7,
          8,
          9,
          6,
          7,
          8,
          9,
          6,
          7,
          8,
          9,
          10,
          11,
          12,
          6,
          7,
          8,
          9,
          13,
          14,
          15,
          6,
          7,
          8,
          9,
          6,
          7,
          8,
          9,
          6,
          7,
          8,
          9,
          6,
          7,
          8,
          9,
          10,
          11,
          12,
          6,
          7,
          8,
          9,
          6,
          7,
          8,
          9,
          6,
          7,
          8,
          9,
          6,
          7,
          8,
          9,
          6,
          7,
          8,
          9,
          10,
          11,
          12,
          6,
          7,
          8,
          9,
          13,
          14,
          15,
          6,
          7,
          8,
          9,
          6,
          7,
          8,
          9,
          6,
          7,
          8,
          9,
          10,
          11,
          12,
          6,
          7,
          8,
          9,
          13,
          14,
          15,
          6,
          7,
          8,
          9,
          6,
          7,
          8,
          9,
          6,
          7,
          8,
          9,
          6,
          7,
          8,
          9,
          10,
          11,
          12,
          6,
          7,
          8,
          9,
          13,
          14,
          15,
          6,
          7,
          8,
          9,
          6,
          7,
          8,
          9,
          6,
          7,
          8,
          9,
          6,
          7,
          8,
          9,
          10,
          11,
          12,
          6,
          7,
          8,
          9,
          6,
          7,
          8,
          9,
          6,
          7,
          8,
          9,
          6,
          7,
          8,
          9,
          6,
          7,
          8,
          9,
          10,
          11,
          12,
          6,
          7,
          8,
          9,
          6,
          7,
          8,
          9,
          6,
          7,
          8,
          9,
          6,
          7,
          8,
          9,
          10,
          11,
          12,
          6,
          7,
          8,
          9,
          13,
          14,
          15,
          6,
          7,
          8,
          9,
          6,
          7,
          8,
          9,
          6,
          7,
          8,
          9,
          6,
          7,
          8,
          9,
          10,
          11,
          12,
          6,
          7,
          8,
          9,
          13,
          14,
          15,
          6,
          7,
          8,
          9,
          6,
          7,
          8,
          9,
          6,
          7,
          8,
          9,
          6,
          7,
          8,
          9,
          10,
          11,
          12,
          6,
          7,
          8,
          9,
          13,
          14,
          15,
          6,
          7,
          8,
          9,
          6,
          7,
          8,
          9,
          6,
          7,
          8,
          9,
          6,
          7,
          8,
          9,
          10,
          11,
          12,
          6,
          7,
          8,
          9,
          6,
          7,
          8,
          9,
          6,
          7,
          8,
          9,
          6,
          7,
          8,
          9,
          10,
          11,
          12,
          6,
          7,
          8,
          9,
          13,
          14,
          15,
          6,
          7,
          8,
          9,
          6,
          7,
          8,
          9,
          6,
          7,
          8,
          9,
          6,
          7,
          8,
          9,
          10,
          11,
          12,
          6,
          7,
          8,
          9,
          13,
          14,
          15,
          6,
          7,
          8,
          9,
          6,
          7,
          8,
          9,
          6,
          7,
          8,
          9,
          6,
          7,
          8,
          9,
          10,
          11,
          12,
          6,
          7,
          8,
          9,
          13,
          14,
          15,
          6,
          7,
          8,
          9,
          6,
          7,
          8,
          9,
          6,
          7,
          8,
          9,
          6,
          7,
          8,
          9,
          10,
          11,
          12,
          6,
          7,
          8,
          9,
          6,
          7,
          8,
          9,
          6,
          7,
          8,
          9,
          6,
          7,
          8,
          9,
          10,
          11,
          12,
          6,
          7,
          8,
          9,
          13,
          14,
          15,
          6,
          7,
          8,
          9,
          6,
          7,
          8,
          9,
          6,
          7,
          8,
          9,
          6,
          7,
          8,
          9,
          10,
          11,
          12,
          6,
          7,
          8,
          9,
          13,
          14,
          15,
          6,
          7,
          8,
          9,
          6,
          7,
          8,
          9,
          6,
          7,
          8,
          9,
          6,
          7,
          8,
          9,
          10,
          11,
          12,
          6,
          7,
          8,
          9,
          13,
          14,
          15,
          6,
          7,
          8,
          9,
          6,
          7,
          8,
          9,
          6,
          7,
          8,
          9,
          10,
          11,
          12,
          6,
          7,
          8,
          9,
          13,
          14,
          15,
          6,
          7,
          8,
          9,
          6,
          7,
          8,
          9,
          6,
          7,
          8,
          9,
          6,
          7,
          8,
          9,
          10,
          11,
          12,
          6,
          7,
          8,
          9,
          13,
          14,
          15,
          6,
          7,
          8,
          9,
          6,
          7,
          8,
          9,
          6,
          7,
          8,
          9,
          6,
          7,
          8,
          9,
          10,
          11,
          12,
          6,
          7,
          8,
          9,
          6,
          7,
          8,
          9,
          6,
          7,
          8,
          9,
          6,
          7,
          8,
          9,
          6,
          7,
          8,
          9,
          10,
          11,
          12,
          6,
          7,
          8,
          9,
          6,
          7,
          8,
          9,
          6,
          7,
          8,
          9,
          6,
          7,
          8,
          9,
          10,
          11,
          12,
          6,
          7,
          8,
          6,
          7,
          8,
          9,
          6,
          7,
          8,
          9,
          6,
          7,
          8,
          9,
          6,
          7,
          8,
          9,
          10,
          11,
          12,
          6,
          7,
          8,
          9,
          6,
          7,
          8,
          9,
          6,
          7,
          8,
          9,
          6,
          7,
          8,
          9,
          6,
          7,
          8,
          9,
          10,
          11,
          12,
          6,
          7,
          8,
          9,
          6,
          7,
          8,
          9,
          6,
          7,
          8,
          9,
          6,
          7,
          8,
          9,
          10,
          11,
          12,
          6,
          7,
          8,
          9,
          13,
          14,
          15,
          6,
          7,
          8,
          9,
          6,
          7,
          8,
          9,
          6,
          7,
          8,
          9,
          6,
          7,
          8,
          9,
          10,
          11,
          12,
          6,
          7,
          8,
          9,
          13,
          14,
          15,
          6,
          7,
          8,
          9,
          6,
          7,
          8,
          9,
          6,
          7,
          8,
          9,
          6,
          7,
          8,
          9,
          10,
          11,
          12,
          6,
          7,
          8,
          9,
          13,
          14,
          15,
          6,
          7,
          8,
          9,
          6,
          7,
          8,
          9,
          6,
          7,
          8,
          9,
          6,
          7,
          8,
          9,
          10,
          11,
          12,
          6,
          7,
          8,
          9,
          13,
          14,
          15,
          6,
          7,
          8,
          9,
          6,
          7,
          8,
          9,
          6,
          7,
          8,
          9,
          10,
          11,
          12,
          6,
          7,
          8,
          9,
          13,
          14,
          15,
          6,
          7,
          8,
          9,
          6,
          7,
          8,
          9,
          6,
          7,
          8,
          9,
          6,
          7,
          8,
          9,
          10,
          11,
          12,
          6,
          7,
          8,
          9,
          6,
          7,
          8,
          9,
          6,
          7,
          8,
          9,
          6,
          7,
          8,
          9,
          6,
          7,
          8,
          9,
          10,
          11,
          12,
          6,
          7,
          8,
          9,
          13,
          14,
          15,
          6,
          7,
          8,
          9,
          6,
          7,
          8,
          9,
          6,
          7,
          8,
          9,
          6,
          7,
          8,
          9,
          10,
          11,
          12,
          6,
          7,
          8,
          9,
          13,
          14,
          15,
          6,
          7,
          8,
          9,
          6,
          7,
          8,
          9,
          6,
          7,
          8,
          9,
          10,
          11,
          12,
          6,
          7,
          8,
          9,
          13,
          14,
          15,
          6,
          7,
          8,
          9,
          6,
          7,
          8,
          9,
          6,
          7,
          8,
          9,
          6,
          7,
          8,
          9,
          10,
          11,
          12,
          6,
          7,
          8,
          9,
          13,
          14,
          15,
          6,
          7,
          8,
          9,
          6,
          7,
          8,
          6,
          7,
          8,
          9,
          10,
          11,
          12,
          6,
          7,
          8,
          9,
          13,
          14,
          15,
          6,
          7,
          8,
          9,
          6,
          7,
          8,
          9,
          6,
          7,
          8,
          9,
          6,
          7,
          8,
          9,
          10,
          11,
          12,
          6,
          7,
          8,
          9,
          13,
          14,
          15,
          6,
          7,
          8,
          9,
          6,
          7,
          8,
          9,
          6,
          7,
          8,
          9,
          6,
          7,
          8,
          9,
          10,
          11,
          12,
          6,
          7,
          8,
          9,
          13,
          14,
          15,
          6,
          7,
          8,
          9,
          6,
          7,
          8,
          9,
          6,
          7,
          8,
          9,
          6,
          7,
          8,
          9,
          10,
          11,
          12,
          6,
          7,
          8,
          9,
          13,
          14,
          15,
          6,
          7,
          8,
          9,
          6,
          7,
          8,
          9,
          6,
          7,
          8,
          9,
          10,
          11,
          12,
          6,
          7,
          8,
          9,
          13,
          14,
          15,
          6,
          7,
          8,
          9,
          6,
          7,
          8,
          9,
          6,
          7,
          8,
          9,
          6,
          7,
          8,
          9,
          10,
          11,
          12,
          6,
          7,
          8,
          9,
          13,
          14,
          15,
          6,
          7,
          8,
          9,
          6,
          7,
          8,
          9,
          6,
          7,
          8,
          9,
          6,
          7,
          8,
          9,
          10,
          11,
          12,
          6,
          7,
          8,
          9,
          13,
          14,
          15,
          6,
          7,
          8,
          9,
          6,
          7,
          8,
          9,
          6,
          7,
          8,
          9,
          6,
          7,
          8,
          9,
          10,
          11,
          12,
          6,
          7,
          8,
          9,
          13,
          14,
          15,
          6,
          7,
          8,
          9,
          6,
          7,
          8,
          9,
          6,
          7,
          8,
          9,
          10,
          11,
          12,
          6,
          7,
          8,
          9,
          13,
          14,
          15,
          6,
          7,
          8,
          9,
          6,
          7,
          8,
          9,
          6,
          7,
          8,
          9,
          6,
          7,
          8,
          9,
          10,
          11,
          12,
          6,
          7,
          8,
          9,
          13,
          14,
          15,
          6,
          7,
          8,
          9,
          6,
          7,
          8,
          9,
          6,
          7,
          8,
          9,
          6,
          7,
          8,
          9,
          10,
          11,
          12,
          6,
          7,
          8,
          9,
          13,
          14,
          15,
          6,
          7,
          8,
          9,
          6,
          7,
          8,
          9,
          6,
          7,
          8,
          9,
          10,
          11,
          12,
          6,
          7,
          8,
          9,
          13,
          14,
          15,
          6,
          7,
          8,
          9,
          6,
          7,
          8,
          9,
          6,
          7,
          8,
          9,
          6,
          7,
          8,
          9,
          10,
          11,
          12,
          6,
          7,
          8,
          9,
          13,
          14,
          15,
          6,
          7,
          8,
          9,
          6,
          7,
          8,
          9,
          6,
          7,
          8,
          9,
          6,
          7,
          8,
          9,
          10,
          11,
          12,
          6,
          7,
          8,
          9,
          13,
          14,
          15,
          6,
          7,
          8,
          9,
          6,
          7,
          8,
          9,
          6,
          7,
          8,
          9,
          6,
          7,
          8,
          9,
          10,
          11,
          12,
          6,
          7,
          8,
          9,
          13,
          14,
          15,
          6,
          7,
          8,
          9,
          6,
          7,
          8,
          9,
          6,
          7,
          8,
          9,
          10,
          11,
          12,
          6,
          7,
          8,
          9,
          6,
          7,
          8,
          9,
          6,
          7,
          8,
          9,
          6,
          7,
          8,
          9,
          6,
          7,
          8,
          9,
          10,
          11,
          12,
          6,
          7,
          8,
          9,
          6,
          7,
          8,
          9,
          6,
          7,
          8,
          9,
          6,
          7,
          8,
          9,
          6,
          7,
          8,
          9,
          10,
          11,
          12,
          6,
          7,
          8,
          9,
          13,
          14,
          15,
          6,
          7,
          8,
          9,
          6,
          7,
          8,
          9,
          6,
          7,
          8,
          9,
          6,
          7,
          8,
          9,
          10,
          11,
          12,
          6,
          7,
          8,
          9,
          13,
          14,
          15,
          6,
          7,
          8,
          9,
          6,
          7,
          8,
          9,
          6,
          7,
          8,
          9,
          10,
          11,
          12,
          6,
          7,
          8,
          9,
          13,
          14,
          15,
          6,
          7,
          8,
          9,
          6,
          7,
          8,
          9,
          6,
          7,
          8,
          9,
          6,
          7,
          8,
          9,
          10,
          11,
          12,
          6,
          7,
          8,
          9,
          13,
          14,
          15,
          6,
          7,
          8,
          9,
          6,
          7,
          8,
          9,
          6,
          7,
          8,
          9,
          6,
          7,
          8,
          9,
          10,
          11,
          12,
          6,
          7,
          8,
          9,
          13,
          14,
          15,
          6,
          7,
          8,
          9,
          6,
          7,
          8,
          9,
          6,
          7,
          8,
          9,
          6,
          7,
          8,
          9,
          10,
          11,
          12,
          6,
          7,
          8,
          9,
          13,
          14,
          15,
          6,
          7,
          8,
          9,
          6,
          7,
          8,
          9,
          6,
          7,
          8,
          9,
          10,
          11,
          12,
          6,
          7,
          8,
          9,
          13,
          14,
          15,
          6,
          7,
          8,
          9,
          6,
          7,
          8,
          9,
          6,
          7,
          8,
          9,
          6,
          7,
          8,
          9,
          10,
          11,
          12,
          6,
          7,
          8,
          9,
          6,
          7,
          8,
          9,
          6,
          7,
          8,
          9,
          6,
          7,
          8,
          9,
          6,
          7,
          8,
          9,
          10,
          11,
          12,
          6,
          7,
          8,
          9,
          13,
          14,
          15,
          6,
          7,
          8,
          9,
          6,
          7,
          8,
          9,
          6,
          7,
          8,
          9,
          10,
          11,
          12,
          6,
          7,
          8,
          9,
          13,
          14,
          15,
          6,
          7,
          8,
          9,
          6,
          7,
          8,
          9,
          6,
          7,
          8,
          9,
          6,
          7,
          8,
          9,
          10,
          11,
          12,
          6,
          7,
          8,
          9,
          13,
          14,
          15,
          6,
          7,
          8,
          9,
          6,
          7,
          8,
          9,
          6,
          7,
          8,
          9,
          6,
          7,
          8,
          9,
          10,
          11,
          12,
          6,
          7,
          8,
          9,
          13,
          14,
          15,
          6,
          7,
          8,
          9,
          6,
          7,
          8,
          9,
          6,
          7,
          8,
          9,
          6,
          7,
          8,
          9,
          10,
          11,
          12,
          6,
          7,
          8,
          9,
          13,
          14,
          15,
          6,
          7,
          8,
          9,
          6,
          7,
          8,
          9,
          6,
          7,
          8,
          9,
          10,
          11,
          12,
          6,
          7,
          8,
          9,
          13,
          14,
          15,
          6,
          7,
          8,
          9,
          6,
          7,
          8,
          9,
          6,
          7,
          8,
          9,
          6,
          7,
          8,
          9,
          10,
          11,
          12,
          6,
          7,
          8,
          9,
          13,
          14,
          15,
          6,
          7,
          8,
          9,
          6,
          7,
          8,
          9,
          6,
          7,
          8,
          9,
          6,
          7,
          8,
          9,
          10,
          11,
          12,
          6,
          7,
          8,
          9,
          13,
          14,
          15,
          6,
          7,
          8,
          9,
          6,
          7,
          8,
          9,
          6,
          7,
          8,
          9,
          6,
          7,
          8,
          9,
          10,
          11,
          12,
          6,
          7,
          8,
          9,
          13,
          14,
          15,
          6,
          7,
          8,
          9,
          6,
          7,
          8,
          9,
          6,
          7,
          8,
          9,
          10,
          11,
          12,
          6,
          7,
          8,
          13,
          14,
          15,
          6,
          7,
          8,
          9,
          6,
          7,
          8,
          9,
          6,
          7,
          8,
          9,
          6,
          7,
          8,
          9,
          10,
          11,
          12,
          6,
          7,
          8,
          9,
          6,
          7,
          8,
          9,
          6,
          7,
          8,
          9,
          6,
          7,
          8,
          9,
          10,
          11,
          12,
          6,
          7,
          8,
          9,
          6,
          7,
          8,
          9,
          6,
          7,
          8,
          9,
          6,
          7,
          8,
          9,
          6,
          7,
          8,
          9,
          10,
          11,
          12,
          6,
          7,
          8,
          9,
          13,
          14,
          15,
          6,
          7,
          8,
          9,
          6,
          7,
          8,
          9,
          6,
          7,
          8,
          9,
          6,
          7,
          8,
          9,
          10,
          11,
          12,
          6,
          7,
          8,
          9,
          13,
          14,
          15,
          6,
          7,
          8,
          9,
          6,
          7,
          8,
          9,
          6,
          7,
          8,
          9,
          6,
          7,
          8,
          9,
          10,
          11,
          12,
          6,
          7,
          8,
          9,
          6,
          7,
          8,
          9,
          6,
          7,
          8,
          9,
          6,
          7,
          8,
          9,
          10,
          11,
          12,
          6,
          7,
          8,
          9,
          13,
          14,
          15,
          6,
          7,
          8,
          9,
          6,
          7,
          8,
          9,
          6,
          7,
          8,
          9,
          6,
          7,
          8,
          9,
          10,
          11,
          12,
          6,
          7,
          8,
          9,
          13,
          14,
          15,
          6,
          7,
          8,
          9,
          6,
          7,
          8,
          9,
          6,
          7,
          8,
          9,
          6,
          7,
          8,
          9,
          10,
          11,
          12,
          6,
          7,
          8,
          9,
          13,
          14,
          15,
          6,
          7,
          8,
          9,
          6,
          7,
          8,
          9,
          6,
          7,
          8,
          9,
          6,
          7,
          8,
          9,
          10,
          11,
          12,
          6,
          7,
          8,
          9,
          13,
          14,
          15,
          6,
          7,
          8,
          9,
          6,
          7,
          8,
          9,
          6,
          7,
          8,
          9,
          10,
          11,
          12,
          6,
          7,
          8,
          9,
          6,
          7,
          8,
          9,
          6,
          7,
          8,
          9,
          6,
          7,
          8,
          9,
          6,
          7,
          8,
          9,
          10,
          11,
          12,
          6,
          7,
          8,
          9,
          13,
          14,
          15,
          6,
          7,
          8,
          9,
          6,
          7,
          8,
          9,
          6,
          7,
          8,
          9,
          6,
          7,
          8,
          9,
          10,
          11,
          12,
          6,
          7,
          8,
          9,
          13,
          14,
          15,
          6,
          7,
          8,
          9,
          6,
          7,
          8,
          9,
          6,
          7,
          8,
          9,
          10,
          11,
          12,
          6,
          7,
          8,
          9,
          13,
          14,
          15,
          6,
          7,
          8,
          9,
          6,
          7,
          8,
          9,
          6,
          7,
          8,
          9,
          6,
          7,
          8,
          9,
          10,
          11,
          12,
          6,
          7,
          8,
          9,
          6,
          7,
          8,
          9,
          6,
          7,
          8,
          9,
          6,
          7,
          8,
          9,
          6,
          7,
          8,
          9,
          10,
          11,
          12,
          6,
          7,
          8,
          9,
          6,
          7,
          8,
          9,
          6,
          7,
          8,
          9,
          6,
          7,
          8,
          9,
          6,
          7,
          8,
          9,
          10,
          11,
          12,
          6,
          7,
          8,
          9,
          13,
          14,
          15,
          6,
          7,
          8,
          9,
          6,
          7,
          8,
          9,
          6,
          7,
          8,
          9,
          10,
          11,
          12,
          6,
          7,
          8,
          9,
          13,
          14,
          15,
          6,
          7,
          8,
          9,
          6,
          7,
          8,
          9,
          6,
          7,
          8,
          9,
          6,
          7,
          8,
          9,
          10,
          11,
          12,
          6,
          7,
          8,
          9,
          13,
          14,
          15,
          6,
          7,
          8,
          9,
          6,
          7,
          8,
          9,
          6,
          7,
          8,
          9,
          6,
          7,
          8,
          9,
          10,
          11,
          12,
          6,
          7,
          8,
          9,
          13,
          14,
          15,
          6,
          7,
          8,
          9,
          6,
          7,
          8,
          9,
          6,
          7,
          8,
          9,
          6,
          7,
          8,
          9,
          10,
          11,
          12,
          6,
          7,
          8,
          9,
          13,
          14,
          15,
          6,
          7,
          8,
          9,
          6,
          7,
          8,
          9,
          6,
          7,
          8,
          9,
          10,
          11,
          12
         ]
        },
        {
         "line": {
          "width": 0.5
         },
         "marker": {
          "color": "lawngreen",
          "size": 8
         },
         "mode": "lines+markers",
         "name": "gt_communication",
         "showlegend": true,
         "type": "scatter",
         "x": [
          null
         ],
         "y": [
          null
         ]
        },
        {
         "line": {
          "width": 0.5
         },
         "marker": {
          "color": "blue",
          "size": 8
         },
         "mode": "lines+markers",
         "name": "gt_sensor",
         "showlegend": true,
         "type": "scatter",
         "x": [
          null
         ],
         "y": [
          null
         ]
        },
        {
         "line": {
          "width": 0.5
         },
         "marker": {
          "color": "goldenrod",
          "size": 8
         },
         "mode": "lines+markers",
         "name": "gt_bitflip",
         "showlegend": true,
         "type": "scatter",
         "x": [
          null
         ],
         "y": [
          null
         ]
        },
        {
         "line": {
          "width": 0.5
         },
         "marker": {
          "color": "red",
          "size": 8
         },
         "mode": "lines+markers",
         "name": "detection",
         "showlegend": true,
         "type": "scatter",
         "x": [
          null
         ],
         "y": [
          null
         ]
        }
       ],
       "layout": {
        "autosize": true,
        "height": 800,
        "plot_bgcolor": "rgba(0,0,0,0)",
        "shapes": [
         {
          "fillcolor": "lawngreen",
          "layer": "below",
          "line": {
           "width": 0
          },
          "opacity": 0.5,
          "type": "rect",
          "x0": 180,
          "x1": 185,
          "xref": "x",
          "y0": 0,
          "y1": 1,
          "yref": "paper"
         },
         {
          "line": {
           "color": "lawngreen",
           "dash": "dot",
           "width": 2
          },
          "type": "line",
          "x0": 180,
          "x1": 180,
          "xref": "x",
          "y0": 0,
          "y1": 1,
          "yref": "paper"
         },
         {
          "line": {
           "color": "lawngreen",
           "dash": "dot",
           "width": 2
          },
          "type": "line",
          "x0": 185,
          "x1": 185,
          "xref": "x",
          "y0": 0,
          "y1": 1,
          "yref": "paper"
         },
         {
          "fillcolor": "lawngreen",
          "layer": "below",
          "line": {
           "width": 0
          },
          "opacity": 0.5,
          "type": "rect",
          "x0": 199,
          "x1": 204,
          "xref": "x",
          "y0": 0,
          "y1": 1,
          "yref": "paper"
         },
         {
          "line": {
           "color": "lawngreen",
           "dash": "dot",
           "width": 2
          },
          "type": "line",
          "x0": 199,
          "x1": 199,
          "xref": "x",
          "y0": 0,
          "y1": 1,
          "yref": "paper"
         },
         {
          "line": {
           "color": "lawngreen",
           "dash": "dot",
           "width": 2
          },
          "type": "line",
          "x0": 204,
          "x1": 204,
          "xref": "x",
          "y0": 0,
          "y1": 1,
          "yref": "paper"
         },
         {
          "fillcolor": "lawngreen",
          "layer": "below",
          "line": {
           "width": 0
          },
          "opacity": 0.5,
          "type": "rect",
          "x0": 322,
          "x1": 327,
          "xref": "x",
          "y0": 0,
          "y1": 1,
          "yref": "paper"
         },
         {
          "line": {
           "color": "lawngreen",
           "dash": "dot",
           "width": 2
          },
          "type": "line",
          "x0": 322,
          "x1": 322,
          "xref": "x",
          "y0": 0,
          "y1": 1,
          "yref": "paper"
         },
         {
          "line": {
           "color": "lawngreen",
           "dash": "dot",
           "width": 2
          },
          "type": "line",
          "x0": 327,
          "x1": 327,
          "xref": "x",
          "y0": 0,
          "y1": 1,
          "yref": "paper"
         },
         {
          "fillcolor": "lawngreen",
          "layer": "below",
          "line": {
           "width": 0
          },
          "opacity": 0.5,
          "type": "rect",
          "x0": 419,
          "x1": 424,
          "xref": "x",
          "y0": 0,
          "y1": 1,
          "yref": "paper"
         },
         {
          "line": {
           "color": "lawngreen",
           "dash": "dot",
           "width": 2
          },
          "type": "line",
          "x0": 419,
          "x1": 419,
          "xref": "x",
          "y0": 0,
          "y1": 1,
          "yref": "paper"
         },
         {
          "line": {
           "color": "lawngreen",
           "dash": "dot",
           "width": 2
          },
          "type": "line",
          "x0": 424,
          "x1": 424,
          "xref": "x",
          "y0": 0,
          "y1": 1,
          "yref": "paper"
         },
         {
          "fillcolor": "lawngreen",
          "layer": "below",
          "line": {
           "width": 0
          },
          "opacity": 0.5,
          "type": "rect",
          "x0": 516,
          "x1": 521,
          "xref": "x",
          "y0": 0,
          "y1": 1,
          "yref": "paper"
         },
         {
          "line": {
           "color": "lawngreen",
           "dash": "dot",
           "width": 2
          },
          "type": "line",
          "x0": 516,
          "x1": 516,
          "xref": "x",
          "y0": 0,
          "y1": 1,
          "yref": "paper"
         },
         {
          "line": {
           "color": "lawngreen",
           "dash": "dot",
           "width": 2
          },
          "type": "line",
          "x0": 521,
          "x1": 521,
          "xref": "x",
          "y0": 0,
          "y1": 1,
          "yref": "paper"
         },
         {
          "fillcolor": "lawngreen",
          "layer": "below",
          "line": {
           "width": 0
          },
          "opacity": 0.5,
          "type": "rect",
          "x0": 539,
          "x1": 544,
          "xref": "x",
          "y0": 0,
          "y1": 1,
          "yref": "paper"
         },
         {
          "line": {
           "color": "lawngreen",
           "dash": "dot",
           "width": 2
          },
          "type": "line",
          "x0": 539,
          "x1": 539,
          "xref": "x",
          "y0": 0,
          "y1": 1,
          "yref": "paper"
         },
         {
          "line": {
           "color": "lawngreen",
           "dash": "dot",
           "width": 2
          },
          "type": "line",
          "x0": 544,
          "x1": 544,
          "xref": "x",
          "y0": 0,
          "y1": 1,
          "yref": "paper"
         },
         {
          "fillcolor": "lawngreen",
          "layer": "below",
          "line": {
           "width": 0
          },
          "opacity": 0.5,
          "type": "rect",
          "x0": 636,
          "x1": 641,
          "xref": "x",
          "y0": 0,
          "y1": 1,
          "yref": "paper"
         },
         {
          "line": {
           "color": "lawngreen",
           "dash": "dot",
           "width": 2
          },
          "type": "line",
          "x0": 636,
          "x1": 636,
          "xref": "x",
          "y0": 0,
          "y1": 1,
          "yref": "paper"
         },
         {
          "line": {
           "color": "lawngreen",
           "dash": "dot",
           "width": 2
          },
          "type": "line",
          "x0": 641,
          "x1": 641,
          "xref": "x",
          "y0": 0,
          "y1": 1,
          "yref": "paper"
         },
         {
          "fillcolor": "lawngreen",
          "layer": "below",
          "line": {
           "width": 0
          },
          "opacity": 0.5,
          "type": "rect",
          "x0": 733,
          "x1": 738,
          "xref": "x",
          "y0": 0,
          "y1": 1,
          "yref": "paper"
         },
         {
          "line": {
           "color": "lawngreen",
           "dash": "dot",
           "width": 2
          },
          "type": "line",
          "x0": 733,
          "x1": 733,
          "xref": "x",
          "y0": 0,
          "y1": 1,
          "yref": "paper"
         },
         {
          "line": {
           "color": "lawngreen",
           "dash": "dot",
           "width": 2
          },
          "type": "line",
          "x0": 738,
          "x1": 738,
          "xref": "x",
          "y0": 0,
          "y1": 1,
          "yref": "paper"
         },
         {
          "fillcolor": "lawngreen",
          "layer": "below",
          "line": {
           "width": 0
          },
          "opacity": 0.5,
          "type": "rect",
          "x0": 878,
          "x1": 883,
          "xref": "x",
          "y0": 0,
          "y1": 1,
          "yref": "paper"
         },
         {
          "line": {
           "color": "lawngreen",
           "dash": "dot",
           "width": 2
          },
          "type": "line",
          "x0": 878,
          "x1": 878,
          "xref": "x",
          "y0": 0,
          "y1": 1,
          "yref": "paper"
         },
         {
          "line": {
           "color": "lawngreen",
           "dash": "dot",
           "width": 2
          },
          "type": "line",
          "x0": 883,
          "x1": 883,
          "xref": "x",
          "y0": 0,
          "y1": 1,
          "yref": "paper"
         },
         {
          "fillcolor": "lawngreen",
          "layer": "below",
          "line": {
           "width": 0
          },
          "opacity": 0.5,
          "type": "rect",
          "x0": 901,
          "x1": 906,
          "xref": "x",
          "y0": 0,
          "y1": 1,
          "yref": "paper"
         },
         {
          "line": {
           "color": "lawngreen",
           "dash": "dot",
           "width": 2
          },
          "type": "line",
          "x0": 901,
          "x1": 901,
          "xref": "x",
          "y0": 0,
          "y1": 1,
          "yref": "paper"
         },
         {
          "line": {
           "color": "lawngreen",
           "dash": "dot",
           "width": 2
          },
          "type": "line",
          "x0": 906,
          "x1": 906,
          "xref": "x",
          "y0": 0,
          "y1": 1,
          "yref": "paper"
         },
         {
          "fillcolor": "blue",
          "layer": "below",
          "line": {
           "width": 0
          },
          "opacity": 0.5,
          "type": "rect",
          "x0": 920,
          "x1": 924,
          "xref": "x",
          "y0": 0,
          "y1": 1,
          "yref": "paper"
         },
         {
          "line": {
           "color": "blue",
           "dash": "dot",
           "width": 2
          },
          "type": "line",
          "x0": 920,
          "x1": 920,
          "xref": "x",
          "y0": 0,
          "y1": 1,
          "yref": "paper"
         },
         {
          "line": {
           "color": "blue",
           "dash": "dot",
           "width": 2
          },
          "type": "line",
          "x0": 924,
          "x1": 924,
          "xref": "x",
          "y0": 0,
          "y1": 1,
          "yref": "paper"
         },
         {
          "fillcolor": "lawngreen",
          "layer": "below",
          "line": {
           "width": 0
          },
          "opacity": 0.5,
          "type": "rect",
          "x0": 942,
          "x1": 947,
          "xref": "x",
          "y0": 0,
          "y1": 1,
          "yref": "paper"
         },
         {
          "line": {
           "color": "lawngreen",
           "dash": "dot",
           "width": 2
          },
          "type": "line",
          "x0": 942,
          "x1": 942,
          "xref": "x",
          "y0": 0,
          "y1": 1,
          "yref": "paper"
         },
         {
          "line": {
           "color": "lawngreen",
           "dash": "dot",
           "width": 2
          },
          "type": "line",
          "x0": 947,
          "x1": 947,
          "xref": "x",
          "y0": 0,
          "y1": 1,
          "yref": "paper"
         },
         {
          "fillcolor": "lawngreen",
          "layer": "below",
          "line": {
           "width": 0
          },
          "opacity": 0.5,
          "type": "rect",
          "x0": 965,
          "x1": 970,
          "xref": "x",
          "y0": 0,
          "y1": 1,
          "yref": "paper"
         },
         {
          "line": {
           "color": "lawngreen",
           "dash": "dot",
           "width": 2
          },
          "type": "line",
          "x0": 965,
          "x1": 965,
          "xref": "x",
          "y0": 0,
          "y1": 1,
          "yref": "paper"
         },
         {
          "line": {
           "color": "lawngreen",
           "dash": "dot",
           "width": 2
          },
          "type": "line",
          "x0": 970,
          "x1": 970,
          "xref": "x",
          "y0": 0,
          "y1": 1,
          "yref": "paper"
         },
         {
          "fillcolor": "lawngreen",
          "layer": "below",
          "line": {
           "width": 0
          },
          "opacity": 0.5,
          "type": "rect",
          "x0": 1110,
          "x1": 1115,
          "xref": "x",
          "y0": 0,
          "y1": 1,
          "yref": "paper"
         },
         {
          "line": {
           "color": "lawngreen",
           "dash": "dot",
           "width": 2
          },
          "type": "line",
          "x0": 1110,
          "x1": 1110,
          "xref": "x",
          "y0": 0,
          "y1": 1,
          "yref": "paper"
         },
         {
          "line": {
           "color": "lawngreen",
           "dash": "dot",
           "width": 2
          },
          "type": "line",
          "x0": 1115,
          "x1": 1115,
          "xref": "x",
          "y0": 0,
          "y1": 1,
          "yref": "paper"
         },
         {
          "fillcolor": "blue",
          "layer": "below",
          "line": {
           "width": 0
          },
          "opacity": 0.5,
          "type": "rect",
          "x0": 1218,
          "x1": 1225,
          "xref": "x",
          "y0": 0,
          "y1": 1,
          "yref": "paper"
         },
         {
          "line": {
           "color": "blue",
           "dash": "dot",
           "width": 2
          },
          "type": "line",
          "x0": 1218,
          "x1": 1218,
          "xref": "x",
          "y0": 0,
          "y1": 1,
          "yref": "paper"
         },
         {
          "line": {
           "color": "blue",
           "dash": "dot",
           "width": 2
          },
          "type": "line",
          "x0": 1225,
          "x1": 1225,
          "xref": "x",
          "y0": 0,
          "y1": 1,
          "yref": "paper"
         },
         {
          "fillcolor": "lawngreen",
          "layer": "below",
          "line": {
           "width": 0
          },
          "opacity": 0.5,
          "type": "rect",
          "x0": 1602,
          "x1": 1607,
          "xref": "x",
          "y0": 0,
          "y1": 1,
          "yref": "paper"
         },
         {
          "line": {
           "color": "lawngreen",
           "dash": "dot",
           "width": 2
          },
          "type": "line",
          "x0": 1602,
          "x1": 1602,
          "xref": "x",
          "y0": 0,
          "y1": 1,
          "yref": "paper"
         },
         {
          "line": {
           "color": "lawngreen",
           "dash": "dot",
           "width": 2
          },
          "type": "line",
          "x0": 1607,
          "x1": 1607,
          "xref": "x",
          "y0": 0,
          "y1": 1,
          "yref": "paper"
         },
         {
          "fillcolor": "lawngreen",
          "layer": "below",
          "line": {
           "width": 0
          },
          "opacity": 0.5,
          "type": "rect",
          "x0": 1625,
          "x1": 1630,
          "xref": "x",
          "y0": 0,
          "y1": 1,
          "yref": "paper"
         },
         {
          "line": {
           "color": "lawngreen",
           "dash": "dot",
           "width": 2
          },
          "type": "line",
          "x0": 1625,
          "x1": 1625,
          "xref": "x",
          "y0": 0,
          "y1": 1,
          "yref": "paper"
         },
         {
          "line": {
           "color": "lawngreen",
           "dash": "dot",
           "width": 2
          },
          "type": "line",
          "x0": 1630,
          "x1": 1630,
          "xref": "x",
          "y0": 0,
          "y1": 1,
          "yref": "paper"
         },
         {
          "fillcolor": "lawngreen",
          "layer": "below",
          "line": {
           "width": 0
          },
          "opacity": 0.5,
          "type": "rect",
          "x0": 1822,
          "x1": 1827,
          "xref": "x",
          "y0": 0,
          "y1": 1,
          "yref": "paper"
         },
         {
          "line": {
           "color": "lawngreen",
           "dash": "dot",
           "width": 2
          },
          "type": "line",
          "x0": 1822,
          "x1": 1822,
          "xref": "x",
          "y0": 0,
          "y1": 1,
          "yref": "paper"
         },
         {
          "line": {
           "color": "lawngreen",
           "dash": "dot",
           "width": 2
          },
          "type": "line",
          "x0": 1827,
          "x1": 1827,
          "xref": "x",
          "y0": 0,
          "y1": 1,
          "yref": "paper"
         },
         {
          "fillcolor": "blue",
          "layer": "below",
          "line": {
           "width": 0
          },
          "opacity": 0.5,
          "type": "rect",
          "x0": 2067,
          "x1": 2074,
          "xref": "x",
          "y0": 0,
          "y1": 1,
          "yref": "paper"
         },
         {
          "line": {
           "color": "blue",
           "dash": "dot",
           "width": 2
          },
          "type": "line",
          "x0": 2067,
          "x1": 2067,
          "xref": "x",
          "y0": 0,
          "y1": 1,
          "yref": "paper"
         },
         {
          "line": {
           "color": "blue",
           "dash": "dot",
           "width": 2
          },
          "type": "line",
          "x0": 2074,
          "x1": 2074,
          "xref": "x",
          "y0": 0,
          "y1": 1,
          "yref": "paper"
         },
         {
          "fillcolor": "lawngreen",
          "layer": "below",
          "line": {
           "width": 0
          },
          "opacity": 0.5,
          "type": "rect",
          "x0": 2092,
          "x1": 2097,
          "xref": "x",
          "y0": 0,
          "y1": 1,
          "yref": "paper"
         },
         {
          "line": {
           "color": "lawngreen",
           "dash": "dot",
           "width": 2
          },
          "type": "line",
          "x0": 2092,
          "x1": 2092,
          "xref": "x",
          "y0": 0,
          "y1": 1,
          "yref": "paper"
         },
         {
          "line": {
           "color": "lawngreen",
           "dash": "dot",
           "width": 2
          },
          "type": "line",
          "x0": 2097,
          "x1": 2097,
          "xref": "x",
          "y0": 0,
          "y1": 1,
          "yref": "paper"
         },
         {
          "fillcolor": "lawngreen",
          "layer": "below",
          "line": {
           "width": 0
          },
          "opacity": 0.5,
          "type": "rect",
          "x0": 2111,
          "x1": 2116,
          "xref": "x",
          "y0": 0,
          "y1": 1,
          "yref": "paper"
         },
         {
          "line": {
           "color": "lawngreen",
           "dash": "dot",
           "width": 2
          },
          "type": "line",
          "x0": 2111,
          "x1": 2111,
          "xref": "x",
          "y0": 0,
          "y1": 1,
          "yref": "paper"
         },
         {
          "line": {
           "color": "lawngreen",
           "dash": "dot",
           "width": 2
          },
          "type": "line",
          "x0": 2116,
          "x1": 2116,
          "xref": "x",
          "y0": 0,
          "y1": 1,
          "yref": "paper"
         },
         {
          "fillcolor": "lawngreen",
          "layer": "below",
          "line": {
           "width": 0
          },
          "opacity": 0.5,
          "type": "rect",
          "x0": 2186,
          "x1": 2191,
          "xref": "x",
          "y0": 0,
          "y1": 1,
          "yref": "paper"
         },
         {
          "line": {
           "color": "lawngreen",
           "dash": "dot",
           "width": 2
          },
          "type": "line",
          "x0": 2186,
          "x1": 2186,
          "xref": "x",
          "y0": 0,
          "y1": 1,
          "yref": "paper"
         },
         {
          "line": {
           "color": "lawngreen",
           "dash": "dot",
           "width": 2
          },
          "type": "line",
          "x0": 2191,
          "x1": 2191,
          "xref": "x",
          "y0": 0,
          "y1": 1,
          "yref": "paper"
         },
         {
          "fillcolor": "lawngreen",
          "layer": "below",
          "line": {
           "width": 0
          },
          "opacity": 0.5,
          "type": "rect",
          "x0": 2305,
          "x1": 2310,
          "xref": "x",
          "y0": 0,
          "y1": 1,
          "yref": "paper"
         },
         {
          "line": {
           "color": "lawngreen",
           "dash": "dot",
           "width": 2
          },
          "type": "line",
          "x0": 2305,
          "x1": 2305,
          "xref": "x",
          "y0": 0,
          "y1": 1,
          "yref": "paper"
         },
         {
          "line": {
           "color": "lawngreen",
           "dash": "dot",
           "width": 2
          },
          "type": "line",
          "x0": 2310,
          "x1": 2310,
          "xref": "x",
          "y0": 0,
          "y1": 1,
          "yref": "paper"
         },
         {
          "fillcolor": "lawngreen",
          "layer": "below",
          "line": {
           "width": 0
          },
          "opacity": 0.5,
          "type": "rect",
          "x0": 2402,
          "x1": 2407,
          "xref": "x",
          "y0": 0,
          "y1": 1,
          "yref": "paper"
         },
         {
          "line": {
           "color": "lawngreen",
           "dash": "dot",
           "width": 2
          },
          "type": "line",
          "x0": 2402,
          "x1": 2402,
          "xref": "x",
          "y0": 0,
          "y1": 1,
          "yref": "paper"
         },
         {
          "line": {
           "color": "lawngreen",
           "dash": "dot",
           "width": 2
          },
          "type": "line",
          "x0": 2407,
          "x1": 2407,
          "xref": "x",
          "y0": 0,
          "y1": 1,
          "yref": "paper"
         },
         {
          "fillcolor": "lawngreen",
          "layer": "below",
          "line": {
           "width": 0
          },
          "opacity": 0.5,
          "type": "rect",
          "x0": 2425,
          "x1": 2430,
          "xref": "x",
          "y0": 0,
          "y1": 1,
          "yref": "paper"
         },
         {
          "line": {
           "color": "lawngreen",
           "dash": "dot",
           "width": 2
          },
          "type": "line",
          "x0": 2425,
          "x1": 2425,
          "xref": "x",
          "y0": 0,
          "y1": 1,
          "yref": "paper"
         },
         {
          "line": {
           "color": "lawngreen",
           "dash": "dot",
           "width": 2
          },
          "type": "line",
          "x0": 2430,
          "x1": 2430,
          "xref": "x",
          "y0": 0,
          "y1": 1,
          "yref": "paper"
         },
         {
          "fillcolor": "red",
          "layer": "below",
          "line": {
           "width": 0
          },
          "opacity": 0.5,
          "type": "rect",
          "x0": 923,
          "x1": 924,
          "xref": "x",
          "y0": 0,
          "y1": 1,
          "yref": "paper"
         },
         {
          "line": {
           "color": "red",
           "dash": "dot",
           "width": 2
          },
          "type": "line",
          "x0": 923,
          "x1": 923,
          "xref": "x",
          "y0": 0,
          "y1": 1,
          "yref": "paper"
         },
         {
          "line": {
           "color": "red",
           "dash": "dot",
           "width": 2
          },
          "type": "line",
          "x0": 924,
          "x1": 924,
          "xref": "x",
          "y0": 0,
          "y1": 1,
          "yref": "paper"
         },
         {
          "fillcolor": "red",
          "layer": "below",
          "line": {
           "width": 0
          },
          "opacity": 0.5,
          "type": "rect",
          "x0": 1221,
          "x1": 1222,
          "xref": "x",
          "y0": 0,
          "y1": 1,
          "yref": "paper"
         },
         {
          "line": {
           "color": "red",
           "dash": "dot",
           "width": 2
          },
          "type": "line",
          "x0": 1221,
          "x1": 1221,
          "xref": "x",
          "y0": 0,
          "y1": 1,
          "yref": "paper"
         },
         {
          "line": {
           "color": "red",
           "dash": "dot",
           "width": 2
          },
          "type": "line",
          "x0": 1222,
          "x1": 1222,
          "xref": "x",
          "y0": 0,
          "y1": 1,
          "yref": "paper"
         },
         {
          "fillcolor": "red",
          "layer": "below",
          "line": {
           "width": 0
          },
          "opacity": 0.5,
          "type": "rect",
          "x0": 2070,
          "x1": 2071,
          "xref": "x",
          "y0": 0,
          "y1": 1,
          "yref": "paper"
         },
         {
          "line": {
           "color": "red",
           "dash": "dot",
           "width": 2
          },
          "type": "line",
          "x0": 2070,
          "x1": 2070,
          "xref": "x",
          "y0": 0,
          "y1": 1,
          "yref": "paper"
         },
         {
          "line": {
           "color": "red",
           "dash": "dot",
           "width": 2
          },
          "type": "line",
          "x0": 2071,
          "x1": 2071,
          "xref": "x",
          "y0": 0,
          "y1": 1,
          "yref": "paper"
         }
        ],
        "template": {
         "data": {
          "bar": [
           {
            "error_x": {
             "color": "#2a3f5f"
            },
            "error_y": {
             "color": "#2a3f5f"
            },
            "marker": {
             "line": {
              "color": "#E5ECF6",
              "width": 0.5
             },
             "pattern": {
              "fillmode": "overlay",
              "size": 10,
              "solidity": 0.2
             }
            },
            "type": "bar"
           }
          ],
          "barpolar": [
           {
            "marker": {
             "line": {
              "color": "#E5ECF6",
              "width": 0.5
             },
             "pattern": {
              "fillmode": "overlay",
              "size": 10,
              "solidity": 0.2
             }
            },
            "type": "barpolar"
           }
          ],
          "carpet": [
           {
            "aaxis": {
             "endlinecolor": "#2a3f5f",
             "gridcolor": "white",
             "linecolor": "white",
             "minorgridcolor": "white",
             "startlinecolor": "#2a3f5f"
            },
            "baxis": {
             "endlinecolor": "#2a3f5f",
             "gridcolor": "white",
             "linecolor": "white",
             "minorgridcolor": "white",
             "startlinecolor": "#2a3f5f"
            },
            "type": "carpet"
           }
          ],
          "choropleth": [
           {
            "colorbar": {
             "outlinewidth": 0,
             "ticks": ""
            },
            "type": "choropleth"
           }
          ],
          "contour": [
           {
            "colorbar": {
             "outlinewidth": 0,
             "ticks": ""
            },
            "colorscale": [
             [
              0,
              "#0d0887"
             ],
             [
              0.1111111111111111,
              "#46039f"
             ],
             [
              0.2222222222222222,
              "#7201a8"
             ],
             [
              0.3333333333333333,
              "#9c179e"
             ],
             [
              0.4444444444444444,
              "#bd3786"
             ],
             [
              0.5555555555555556,
              "#d8576b"
             ],
             [
              0.6666666666666666,
              "#ed7953"
             ],
             [
              0.7777777777777778,
              "#fb9f3a"
             ],
             [
              0.8888888888888888,
              "#fdca26"
             ],
             [
              1,
              "#f0f921"
             ]
            ],
            "type": "contour"
           }
          ],
          "contourcarpet": [
           {
            "colorbar": {
             "outlinewidth": 0,
             "ticks": ""
            },
            "type": "contourcarpet"
           }
          ],
          "heatmap": [
           {
            "colorbar": {
             "outlinewidth": 0,
             "ticks": ""
            },
            "colorscale": [
             [
              0,
              "#0d0887"
             ],
             [
              0.1111111111111111,
              "#46039f"
             ],
             [
              0.2222222222222222,
              "#7201a8"
             ],
             [
              0.3333333333333333,
              "#9c179e"
             ],
             [
              0.4444444444444444,
              "#bd3786"
             ],
             [
              0.5555555555555556,
              "#d8576b"
             ],
             [
              0.6666666666666666,
              "#ed7953"
             ],
             [
              0.7777777777777778,
              "#fb9f3a"
             ],
             [
              0.8888888888888888,
              "#fdca26"
             ],
             [
              1,
              "#f0f921"
             ]
            ],
            "type": "heatmap"
           }
          ],
          "heatmapgl": [
           {
            "colorbar": {
             "outlinewidth": 0,
             "ticks": ""
            },
            "colorscale": [
             [
              0,
              "#0d0887"
             ],
             [
              0.1111111111111111,
              "#46039f"
             ],
             [
              0.2222222222222222,
              "#7201a8"
             ],
             [
              0.3333333333333333,
              "#9c179e"
             ],
             [
              0.4444444444444444,
              "#bd3786"
             ],
             [
              0.5555555555555556,
              "#d8576b"
             ],
             [
              0.6666666666666666,
              "#ed7953"
             ],
             [
              0.7777777777777778,
              "#fb9f3a"
             ],
             [
              0.8888888888888888,
              "#fdca26"
             ],
             [
              1,
              "#f0f921"
             ]
            ],
            "type": "heatmapgl"
           }
          ],
          "histogram": [
           {
            "marker": {
             "pattern": {
              "fillmode": "overlay",
              "size": 10,
              "solidity": 0.2
             }
            },
            "type": "histogram"
           }
          ],
          "histogram2d": [
           {
            "colorbar": {
             "outlinewidth": 0,
             "ticks": ""
            },
            "colorscale": [
             [
              0,
              "#0d0887"
             ],
             [
              0.1111111111111111,
              "#46039f"
             ],
             [
              0.2222222222222222,
              "#7201a8"
             ],
             [
              0.3333333333333333,
              "#9c179e"
             ],
             [
              0.4444444444444444,
              "#bd3786"
             ],
             [
              0.5555555555555556,
              "#d8576b"
             ],
             [
              0.6666666666666666,
              "#ed7953"
             ],
             [
              0.7777777777777778,
              "#fb9f3a"
             ],
             [
              0.8888888888888888,
              "#fdca26"
             ],
             [
              1,
              "#f0f921"
             ]
            ],
            "type": "histogram2d"
           }
          ],
          "histogram2dcontour": [
           {
            "colorbar": {
             "outlinewidth": 0,
             "ticks": ""
            },
            "colorscale": [
             [
              0,
              "#0d0887"
             ],
             [
              0.1111111111111111,
              "#46039f"
             ],
             [
              0.2222222222222222,
              "#7201a8"
             ],
             [
              0.3333333333333333,
              "#9c179e"
             ],
             [
              0.4444444444444444,
              "#bd3786"
             ],
             [
              0.5555555555555556,
              "#d8576b"
             ],
             [
              0.6666666666666666,
              "#ed7953"
             ],
             [
              0.7777777777777778,
              "#fb9f3a"
             ],
             [
              0.8888888888888888,
              "#fdca26"
             ],
             [
              1,
              "#f0f921"
             ]
            ],
            "type": "histogram2dcontour"
           }
          ],
          "mesh3d": [
           {
            "colorbar": {
             "outlinewidth": 0,
             "ticks": ""
            },
            "type": "mesh3d"
           }
          ],
          "parcoords": [
           {
            "line": {
             "colorbar": {
              "outlinewidth": 0,
              "ticks": ""
             }
            },
            "type": "parcoords"
           }
          ],
          "pie": [
           {
            "automargin": true,
            "type": "pie"
           }
          ],
          "scatter": [
           {
            "fillpattern": {
             "fillmode": "overlay",
             "size": 10,
             "solidity": 0.2
            },
            "type": "scatter"
           }
          ],
          "scatter3d": [
           {
            "line": {
             "colorbar": {
              "outlinewidth": 0,
              "ticks": ""
             }
            },
            "marker": {
             "colorbar": {
              "outlinewidth": 0,
              "ticks": ""
             }
            },
            "type": "scatter3d"
           }
          ],
          "scattercarpet": [
           {
            "marker": {
             "colorbar": {
              "outlinewidth": 0,
              "ticks": ""
             }
            },
            "type": "scattercarpet"
           }
          ],
          "scattergeo": [
           {
            "marker": {
             "colorbar": {
              "outlinewidth": 0,
              "ticks": ""
             }
            },
            "type": "scattergeo"
           }
          ],
          "scattergl": [
           {
            "marker": {
             "colorbar": {
              "outlinewidth": 0,
              "ticks": ""
             }
            },
            "type": "scattergl"
           }
          ],
          "scattermapbox": [
           {
            "marker": {
             "colorbar": {
              "outlinewidth": 0,
              "ticks": ""
             }
            },
            "type": "scattermapbox"
           }
          ],
          "scatterpolar": [
           {
            "marker": {
             "colorbar": {
              "outlinewidth": 0,
              "ticks": ""
             }
            },
            "type": "scatterpolar"
           }
          ],
          "scatterpolargl": [
           {
            "marker": {
             "colorbar": {
              "outlinewidth": 0,
              "ticks": ""
             }
            },
            "type": "scatterpolargl"
           }
          ],
          "scatterternary": [
           {
            "marker": {
             "colorbar": {
              "outlinewidth": 0,
              "ticks": ""
             }
            },
            "type": "scatterternary"
           }
          ],
          "surface": [
           {
            "colorbar": {
             "outlinewidth": 0,
             "ticks": ""
            },
            "colorscale": [
             [
              0,
              "#0d0887"
             ],
             [
              0.1111111111111111,
              "#46039f"
             ],
             [
              0.2222222222222222,
              "#7201a8"
             ],
             [
              0.3333333333333333,
              "#9c179e"
             ],
             [
              0.4444444444444444,
              "#bd3786"
             ],
             [
              0.5555555555555556,
              "#d8576b"
             ],
             [
              0.6666666666666666,
              "#ed7953"
             ],
             [
              0.7777777777777778,
              "#fb9f3a"
             ],
             [
              0.8888888888888888,
              "#fdca26"
             ],
             [
              1,
              "#f0f921"
             ]
            ],
            "type": "surface"
           }
          ],
          "table": [
           {
            "cells": {
             "fill": {
              "color": "#EBF0F8"
             },
             "line": {
              "color": "white"
             }
            },
            "header": {
             "fill": {
              "color": "#C8D4E3"
             },
             "line": {
              "color": "white"
             }
            },
            "type": "table"
           }
          ]
         },
         "layout": {
          "annotationdefaults": {
           "arrowcolor": "#2a3f5f",
           "arrowhead": 0,
           "arrowwidth": 1
          },
          "autotypenumbers": "strict",
          "coloraxis": {
           "colorbar": {
            "outlinewidth": 0,
            "ticks": ""
           }
          },
          "colorscale": {
           "diverging": [
            [
             0,
             "#8e0152"
            ],
            [
             0.1,
             "#c51b7d"
            ],
            [
             0.2,
             "#de77ae"
            ],
            [
             0.3,
             "#f1b6da"
            ],
            [
             0.4,
             "#fde0ef"
            ],
            [
             0.5,
             "#f7f7f7"
            ],
            [
             0.6,
             "#e6f5d0"
            ],
            [
             0.7,
             "#b8e186"
            ],
            [
             0.8,
             "#7fbc41"
            ],
            [
             0.9,
             "#4d9221"
            ],
            [
             1,
             "#276419"
            ]
           ],
           "sequential": [
            [
             0,
             "#0d0887"
            ],
            [
             0.1111111111111111,
             "#46039f"
            ],
            [
             0.2222222222222222,
             "#7201a8"
            ],
            [
             0.3333333333333333,
             "#9c179e"
            ],
            [
             0.4444444444444444,
             "#bd3786"
            ],
            [
             0.5555555555555556,
             "#d8576b"
            ],
            [
             0.6666666666666666,
             "#ed7953"
            ],
            [
             0.7777777777777778,
             "#fb9f3a"
            ],
            [
             0.8888888888888888,
             "#fdca26"
            ],
            [
             1,
             "#f0f921"
            ]
           ],
           "sequentialminus": [
            [
             0,
             "#0d0887"
            ],
            [
             0.1111111111111111,
             "#46039f"
            ],
            [
             0.2222222222222222,
             "#7201a8"
            ],
            [
             0.3333333333333333,
             "#9c179e"
            ],
            [
             0.4444444444444444,
             "#bd3786"
            ],
            [
             0.5555555555555556,
             "#d8576b"
            ],
            [
             0.6666666666666666,
             "#ed7953"
            ],
            [
             0.7777777777777778,
             "#fb9f3a"
            ],
            [
             0.8888888888888888,
             "#fdca26"
            ],
            [
             1,
             "#f0f921"
            ]
           ]
          },
          "colorway": [
           "#636efa",
           "#EF553B",
           "#00cc96",
           "#ab63fa",
           "#FFA15A",
           "#19d3f3",
           "#FF6692",
           "#B6E880",
           "#FF97FF",
           "#FECB52"
          ],
          "font": {
           "color": "#2a3f5f"
          },
          "geo": {
           "bgcolor": "white",
           "lakecolor": "white",
           "landcolor": "#E5ECF6",
           "showlakes": true,
           "showland": true,
           "subunitcolor": "white"
          },
          "hoverlabel": {
           "align": "left"
          },
          "hovermode": "closest",
          "mapbox": {
           "style": "light"
          },
          "paper_bgcolor": "white",
          "plot_bgcolor": "#E5ECF6",
          "polar": {
           "angularaxis": {
            "gridcolor": "white",
            "linecolor": "white",
            "ticks": ""
           },
           "bgcolor": "#E5ECF6",
           "radialaxis": {
            "gridcolor": "white",
            "linecolor": "white",
            "ticks": ""
           }
          },
          "scene": {
           "xaxis": {
            "backgroundcolor": "#E5ECF6",
            "gridcolor": "white",
            "gridwidth": 2,
            "linecolor": "white",
            "showbackground": true,
            "ticks": "",
            "zerolinecolor": "white"
           },
           "yaxis": {
            "backgroundcolor": "#E5ECF6",
            "gridcolor": "white",
            "gridwidth": 2,
            "linecolor": "white",
            "showbackground": true,
            "ticks": "",
            "zerolinecolor": "white"
           },
           "zaxis": {
            "backgroundcolor": "#E5ECF6",
            "gridcolor": "white",
            "gridwidth": 2,
            "linecolor": "white",
            "showbackground": true,
            "ticks": "",
            "zerolinecolor": "white"
           }
          },
          "shapedefaults": {
           "line": {
            "color": "#2a3f5f"
           }
          },
          "ternary": {
           "aaxis": {
            "gridcolor": "white",
            "linecolor": "white",
            "ticks": ""
           },
           "baxis": {
            "gridcolor": "white",
            "linecolor": "white",
            "ticks": ""
           },
           "bgcolor": "#E5ECF6",
           "caxis": {
            "gridcolor": "white",
            "linecolor": "white",
            "ticks": ""
           }
          },
          "title": {
           "x": 0.05
          },
          "xaxis": {
           "automargin": true,
           "gridcolor": "white",
           "linecolor": "white",
           "ticks": "",
           "title": {
            "standoff": 15
           },
           "zerolinecolor": "white",
           "zerolinewidth": 2
          },
          "yaxis": {
           "automargin": true,
           "gridcolor": "white",
           "linecolor": "white",
           "ticks": "",
           "title": {
            "standoff": 15
           },
           "zerolinecolor": "white",
           "zerolinewidth": 2
          }
         }
        },
        "title": {
         "text": "Event Trace without Time"
        },
        "width": 1200,
        "xaxis": {
         "color": "black",
         "gridcolor": "lightgrey",
         "linecolor": "black",
         "mirror": true,
         "rangeslider": {
          "visible": true
         },
         "showline": true,
         "tickfont": {
          "size": 20
         },
         "ticks": "outside",
         "ticktext": [
          [
           0,
           1307
          ],
          [
           10,
           2928
          ],
          [
           20,
           6071
          ],
          [
           30,
           7170
          ],
          [
           40,
           9259
          ],
          [
           50,
           12403
          ],
          [
           60,
           13480
          ],
          [
           70,
           15589
          ],
          [
           80,
           17700
          ],
          [
           90,
           19810
          ],
          [
           100,
           21920
          ],
          [
           110,
           22999
          ],
          [
           120,
           26143
          ],
          [
           130,
           27243
          ],
          [
           140,
           29332
          ],
          [
           150,
           32475
          ],
          [
           160,
           33553
          ],
          [
           170,
           35664
          ],
          [
           180,
           37775
          ],
          [
           190,
           39907
          ],
          [
           200,
           41997
          ],
          [
           210,
           45141
          ],
          [
           220,
           47250
          ],
          [
           230,
           48329
          ],
          [
           240,
           51473
          ],
          [
           250,
           52572
          ],
          [
           260,
           54663
          ],
          [
           270,
           57806
          ],
          [
           280,
           58884
          ],
          [
           290,
           60995
          ],
          [
           300,
           63106
          ],
          [
           310,
           65217
          ],
          [
           320,
           67327
          ],
          [
           330,
           69440
          ],
          [
           340,
           71572
          ],
          [
           350,
           73661
          ],
          [
           360,
           75773
          ],
          [
           370,
           77884
          ],
          [
           380,
           78983
          ],
          [
           390,
           82107
          ],
          [
           400,
           83184
          ],
          [
           410,
           85317
          ],
          [
           420,
           87408
          ],
          [
           430,
           90552
          ],
          [
           440,
           92663
          ],
          [
           450,
           93743
          ],
          [
           460,
           96887
          ],
          [
           470,
           97966
          ],
          [
           480,
           100078
          ],
          [
           490,
           102190
          ],
          [
           500,
           104301
          ],
          [
           510,
           106412
          ],
          [
           520,
           108524
          ],
          [
           530,
           110655
          ],
          [
           540,
           112746
          ],
          [
           550,
           115889
          ],
          [
           560,
           116988
          ],
          [
           570,
           119080
          ],
          [
           580,
           122223
          ],
          [
           590,
           123302
          ],
          [
           600,
           125414
          ],
          [
           610,
           127525
          ],
          [
           620,
           129638
          ],
          [
           630,
           131750
          ],
          [
           640,
           133862
          ],
          [
           650,
           135993
          ],
          [
           660,
           138082
          ],
          [
           670,
           140196
          ],
          [
           680,
           142307
          ],
          [
           690,
           143407
          ],
          [
           700,
           146530
          ],
          [
           710,
           148641
          ],
          [
           720,
           149741
          ],
          [
           730,
           152864
          ],
          [
           740,
           154975
          ],
          [
           750,
           157085
          ],
          [
           760,
           158165
          ],
          [
           770,
           161310
          ],
          [
           780,
           162409
          ],
          [
           790,
           164498
          ],
          [
           800,
           167643
          ],
          [
           810,
           168721
          ],
          [
           820,
           170835
          ],
          [
           830,
           172947
          ],
          [
           840,
           175058
          ],
          [
           850,
           177168
          ],
          [
           860,
           178249
          ],
          [
           870,
           181394
          ],
          [
           880,
           182493
          ],
          [
           890,
           185616
          ],
          [
           900,
           187726
          ],
          [
           910,
           189840
          ],
          [
           920,
           191951
          ],
          [
           930,
           195354
          ],
          [
           940,
           197465
          ],
          [
           950,
           199577
          ],
          [
           960,
           201708
          ],
          [
           970,
           203799
          ],
          [
           980,
           206943
          ],
          [
           990,
           208022
          ],
          [
           1000,
           210136
          ],
          [
           1010,
           212246
          ],
          [
           1020,
           214360
          ],
          [
           1030,
           216471
          ],
          [
           1040,
           218584
          ],
          [
           1050,
           220700
          ],
          [
           1060,
           222809
          ],
          [
           1070,
           223891
          ],
          [
           1080,
           227035
          ],
          [
           1090,
           228115
          ],
          [
           1100,
           230229
          ],
          [
           1110,
           232341
          ],
          [
           1120,
           234474
          ],
          [
           1130,
           237598
          ],
          [
           1140,
           238675
          ],
          [
           1150,
           240810
          ],
          [
           1160,
           242900
          ],
          [
           1170,
           245014
          ],
          [
           1180,
           247124
          ],
          [
           1190,
           248226
          ],
          [
           1200,
           251350
          ],
          [
           1210,
           253461
          ],
          [
           1220,
           254563
          ],
          [
           1230,
           256940
          ],
          [
           1240,
           259032
          ],
          [
           1250,
           262177
          ],
          [
           1260,
           263255
          ],
          [
           1270,
           265369
          ],
          [
           1280,
           267480
          ],
          [
           1290,
           269594
          ],
          [
           1300,
           271705
          ],
          [
           1310,
           273816
          ],
          [
           1320,
           275931
          ],
          [
           1330,
           277031
          ],
          [
           1340,
           279124
          ],
          [
           1350,
           282267
          ],
          [
           1360,
           283345
          ],
          [
           1370,
           285459
          ],
          [
           1380,
           287570
          ],
          [
           1390,
           289684
          ],
          [
           1400,
           291795
          ],
          [
           1410,
           293910
          ],
          [
           1420,
           296022
          ],
          [
           1430,
           297122
          ],
          [
           1440,
           299215
          ],
          [
           1450,
           302360
          ],
          [
           1460,
           303441
          ],
          [
           1470,
           305554
          ],
          [
           1480,
           307665
          ],
          [
           1490,
           309780
          ],
          [
           1500,
           311890
          ],
          [
           1510,
           312971
          ],
          [
           1520,
           316118
          ],
          [
           1530,
           317217
          ],
          [
           1540,
           319308
          ],
          [
           1550,
           322452
          ],
          [
           1560,
           323531
          ],
          [
           1570,
           325646
          ],
          [
           1580,
           327759
          ],
          [
           1590,
           329873
          ],
          [
           1600,
           331983
          ],
          [
           1610,
           334096
          ],
          [
           1620,
           336228
          ],
          [
           1630,
           338321
          ],
          [
           1640,
           341465
          ],
          [
           1650,
           342564
          ],
          [
           1660,
           344659
          ],
          [
           1670,
           347803
          ],
          [
           1680,
           348881
          ],
          [
           1690,
           350998
          ],
          [
           1700,
           353110
          ],
          [
           1710,
           355225
          ],
          [
           1720,
           357337
          ],
          [
           1730,
           358420
          ],
          [
           1740,
           361565
          ],
          [
           1750,
           362664
          ],
          [
           1760,
           364760
          ],
          [
           1770,
           367904
          ],
          [
           1780,
           368982
          ],
          [
           1790,
           371098
          ],
          [
           1800,
           373210
          ],
          [
           1810,
           375325
          ],
          [
           1820,
           377438
          ],
          [
           1830,
           379552
          ],
          [
           1840,
           381684
          ],
          [
           1850,
           383775
          ],
          [
           1860,
           385891
          ],
          [
           1870,
           388003
          ],
          [
           1880,
           389107
          ],
          [
           1890,
           392232
          ],
          [
           1900,
           393311
          ],
          [
           1910,
           395448
          ],
          [
           1920,
           397537
          ],
          [
           1930,
           399655
          ],
          [
           1940,
           401787
          ],
          [
           1950,
           403879
          ],
          [
           1960,
           405996
          ],
          [
           1970,
           408109
          ],
          [
           1980,
           409212
          ],
          [
           1990,
           412335
          ],
          [
           2000,
           413415
          ],
          [
           2010,
           415554
          ],
          [
           2020,
           417644
          ],
          [
           2030,
           419763
          ],
          [
           2040,
           421895
          ],
          [
           2050,
           423984
          ],
          [
           2060,
           426100
          ],
          [
           2070,
           428213
          ],
          [
           2080,
           430581
          ],
          [
           2090,
           432691
          ],
          [
           2100,
           434803
          ],
          [
           2110,
           436917
          ],
          [
           2120,
           439028
          ],
          [
           2130,
           442173
          ],
          [
           2140,
           443254
          ],
          [
           2150,
           445373
          ],
          [
           2160,
           447485
          ],
          [
           2170,
           449603
          ],
          [
           2180,
           451719
          ],
          [
           2190,
           453831
          ],
          [
           2200,
           455962
          ],
          [
           2210,
           458054
          ],
          [
           2220,
           460173
          ],
          [
           2230,
           462287
          ],
          [
           2240,
           463392
          ],
          [
           2250,
           466516
          ],
          [
           2260,
           468627
          ],
          [
           2270,
           469735
          ],
          [
           2280,
           472861
          ],
          [
           2290,
           473938
          ],
          [
           2300,
           476080
          ],
          [
           2310,
           478173
          ],
          [
           2320,
           481316
          ],
          [
           2330,
           482415
          ],
          [
           2340,
           484517
          ],
          [
           2350,
           487662
          ],
          [
           2360,
           488741
          ],
          [
           2370,
           490858
          ],
          [
           2380,
           492969
          ],
          [
           2390,
           495092
          ],
          [
           2400,
           497201
          ],
          [
           2410,
           499315
          ],
          [
           2420,
           501447
          ],
          [
           2430,
           503541
          ],
          [
           2440,
           506688
          ],
          [
           2450,
           507787
          ],
          [
           2460,
           509887
          ],
          [
           2470,
           511998
          ],
          [
           2480,
           514122
          ],
          [
           2490,
           516235
          ],
          [
           2500,
           518346
          ],
          [
           2510,
           520472
          ],
          [
           2520,
           522583
          ],
          [
           2530,
           523673
          ],
          [
           2540,
           526819
          ],
          [
           2550,
           527919
          ],
          [
           2560,
           530020
          ],
          [
           2570,
           532137
          ]
         ],
         "tickvals": [
          0,
          10,
          20,
          30,
          40,
          50,
          60,
          70,
          80,
          90,
          100,
          110,
          120,
          130,
          140,
          150,
          160,
          170,
          180,
          190,
          200,
          210,
          220,
          230,
          240,
          250,
          260,
          270,
          280,
          290,
          300,
          310,
          320,
          330,
          340,
          350,
          360,
          370,
          380,
          390,
          400,
          410,
          420,
          430,
          440,
          450,
          460,
          470,
          480,
          490,
          500,
          510,
          520,
          530,
          540,
          550,
          560,
          570,
          580,
          590,
          600,
          610,
          620,
          630,
          640,
          650,
          660,
          670,
          680,
          690,
          700,
          710,
          720,
          730,
          740,
          750,
          760,
          770,
          780,
          790,
          800,
          810,
          820,
          830,
          840,
          850,
          860,
          870,
          880,
          890,
          900,
          910,
          920,
          930,
          940,
          950,
          960,
          970,
          980,
          990,
          1000,
          1010,
          1020,
          1030,
          1040,
          1050,
          1060,
          1070,
          1080,
          1090,
          1100,
          1110,
          1120,
          1130,
          1140,
          1150,
          1160,
          1170,
          1180,
          1190,
          1200,
          1210,
          1220,
          1230,
          1240,
          1250,
          1260,
          1270,
          1280,
          1290,
          1300,
          1310,
          1320,
          1330,
          1340,
          1350,
          1360,
          1370,
          1380,
          1390,
          1400,
          1410,
          1420,
          1430,
          1440,
          1450,
          1460,
          1470,
          1480,
          1490,
          1500,
          1510,
          1520,
          1530,
          1540,
          1550,
          1560,
          1570,
          1580,
          1590,
          1600,
          1610,
          1620,
          1630,
          1640,
          1650,
          1660,
          1670,
          1680,
          1690,
          1700,
          1710,
          1720,
          1730,
          1740,
          1750,
          1760,
          1770,
          1780,
          1790,
          1800,
          1810,
          1820,
          1830,
          1840,
          1850,
          1860,
          1870,
          1880,
          1890,
          1900,
          1910,
          1920,
          1930,
          1940,
          1950,
          1960,
          1970,
          1980,
          1990,
          2000,
          2010,
          2020,
          2030,
          2040,
          2050,
          2060,
          2070,
          2080,
          2090,
          2100,
          2110,
          2120,
          2130,
          2140,
          2150,
          2160,
          2170,
          2180,
          2190,
          2200,
          2210,
          2220,
          2230,
          2240,
          2250,
          2260,
          2270,
          2280,
          2290,
          2300,
          2310,
          2320,
          2330,
          2340,
          2350,
          2360,
          2370,
          2380,
          2390,
          2400,
          2410,
          2420,
          2430,
          2440,
          2450,
          2460,
          2470,
          2480,
          2490,
          2500,
          2510,
          2520,
          2530,
          2540,
          2550,
          2560,
          2570
         ],
         "title": {
          "font": {
           "size": 20
          },
          "text": "Number of events"
         },
         "type": "linear"
        },
        "yaxis": {
         "color": "black",
         "gridcolor": "lightgrey",
         "linecolor": "black",
         "mirror": true,
         "showline": true,
         "tickfont": {
          "size": 20
         },
         "ticks": "outside",
         "ticktext": [
          "1-0-main-ow",
          "1-0-main-temp",
          "1-0-main-lora",
          "1-0-main-s",
          "1-0-main-com_timer",
          "1-control-init_timer0-0",
          "1-0-main-i",
          "1-0-sense-temperature",
          "1-0-main-temperature",
          "1-control-updatedata-cls.sensor_data",
          "1-control-readdata-0",
          "1-0-loracom-data",
          "1-control-update_txmsg-0",
          "1-0-main-g_ack",
          "1-0-main-events",
          "1-control-update_rxmsg-drop"
         ],
         "tickvals": [
          0,
          1,
          2,
          3,
          4,
          5,
          6,
          7,
          8,
          9,
          10,
          11,
          12,
          13,
          14,
          15
         ],
         "title": {
          "font": {
           "size": 20
          },
          "text": "Variables"
         }
        }
       }
      }
     },
     "metadata": {},
     "output_type": "display_data"
    },
    {
     "name": "stdout",
     "output_type": "stream",
     "text": [
      "test_data: ../trace_data/theft_protection/single_thread/version_3/faulty_data/trace2-sensor\n",
      "detections: [[(8, 6), (29371, 29633), 'trace2-sensor'], [(8, 6), (34907, 35159), 'trace2-sensor'], [(8, 6), (36202, 36458), 'trace2-sensor'], [(8, 10), (67076, 67322), 'trace2-sensor'], [(8, 6), (85288, 85547), 'trace2-sensor'], [(8, 6), (110896, 111157), 'trace2-sensor'], [(8, 6), (135460, 135711), 'trace2-sensor'], [(8, 6), (144164, 144414), 'trace2-sensor'], [(8, 13), (168704, 168963), 'trace2-sensor'], [(8, 6), (171069, 171325), 'trace2-sensor'], [(8, 6), (174498, 174758), 'trace2-sensor'], [(8, 6), (175801, 176063), 'trace2-sensor'], [(8, 6), (229960, 230217), 'trace2-sensor'], [(8, 13), (233376, 233639), 'trace2-sensor'], [(8, 10), (242083, 242342), 'trace2-sensor'], [(8, 13), (258196, 258451), 'trace2-sensor'], [(8, 10), (272176, 272434), 'trace2-sensor'], [(8, 13), (273491, 273746), 'trace2-sensor'], [(8, 10), (292753, 293010), 'trace2-sensor'], [(8, 13), (313100, 313370), 'trace2-sensor'], [(8, 6), (354595, 354853), 'trace2-sensor'], [(8, 13), (363298, 363557), 'trace2-sensor'], [(8, 10), (387854, 388115), 'trace2-sensor'], [(8, 6), (390236, 390503), 'trace2-sensor'], [(8, 6), (394728, 394990), 'trace2-sensor'], [(8, 10), (407651, 407919), 'trace2-sensor'], [(8, 13), (428011, 428284), 'trace2-sensor'], [(8, 10), (477949, 478214), 'trace2-sensor'], [(8, 6), (506764, 507022), 'trace2-sensor'], [(8, 10), (522869, 523136), 'trace2-sensor']]\n",
      "../trace_data/theft_protection/single_thread/version_3/faulty_data/trace2-sensor trace2-sensor\n",
      "timestamps: [1351, 1379, 1400, 1405, 1913, 1917, 1921, 1947, 2964, 2968, 2973, 2998, 4015, 4019, 4023, 4048, 5065, 5069, 5073, 5099, 6116, 6120, 6124, 6149, 7167, 7171, 7175, 7180, 7185, 7190, 7215, 8232, 8236, 8240, 8266, 9283, 9287, 9291, 9296, 9300, 9305, 9330, 10347, 10351, 10355, 10380, 11397, 11401, 11405, 11431, 12448, 12452, 12456, 12461, 12465, 12470, 12495, 13513, 13517, 13521, 13526, 13529, 13534, 13559, 14576, 14580, 14584, 14610, 15627, 15631, 15635, 15661, 16678, 16682, 16686, 16712, 17729, 17733, 17737, 17742, 17747, 17751, 17776, 18794, 18798, 18802, 18807, 18810, 18815, 18841, 19858, 19862, 19866, 19892, 20909, 20913, 20917, 20942, 21959, 21963, 21967, 21972, 21977, 21981, 22007, 23024, 23028, 23032, 23037, 23041, 23046, 23071, 24088, 24092, 24096, 24121, 25139, 25143, 25147, 25173, 26190, 26194, 26199, 26224, 27241, 27245, 27249, 27254, 27259, 27263, 27289, 28306, 28310, 28314, 28319, 28323, 28328, 28353, 29371, 29633, 29658, 30675, 30679, 30683, 30709, 31726, 31730, 31734, 31760, 32777, 32781, 32785, 32791, 32795, 32800, 32825, 33843, 33847, 33851, 33856, 33860, 33864, 33890, 34907, 35159, 35184, 36202, 36458, 36483, 37500, 37504, 37508, 37513, 37517, 37522, 37547, 38565, 38569, 38573, 38599, 39616, 39620, 39624, 39649, 40666, 40670, 40674, 40699, 41717, 41721, 41725, 41751, 42768, 42772, 42775, 42781, 42786, 42790, 42815, 43833, 43837, 43841, 43846, 43849, 43854, 43879, 44897, 44901, 44906, 44931, 45948, 45952, 45957, 45982, 46999, 47003, 47006, 47012, 47016, 47021, 47046, 48063, 48067, 48071, 48076, 48080, 48085, 48110, 49127, 49131, 49136, 49161, 50178, 50182, 50187, 50212, 51229, 51233, 51237, 51263, 52280, 52284, 52287, 52293, 52298, 52303, 52328, 53345, 53349, 53353, 53358, 53362, 53367, 53392, 54409, 54414, 54418, 54443, 55461, 55465, 55470, 55495, 56513, 56517, 56521, 56547, 57564, 57568, 57571, 57576, 57581, 57586, 57611, 58628, 58632, 58637, 58641, 58646, 58651, 58676, 59693, 59697, 59701, 59727, 60744, 60749, 60753, 60778, 61795, 61799, 61804, 61829, 62846, 62850, 62853, 62859, 62864, 62868, 62893, 63910, 63914, 63918, 63923, 63927, 63932, 63957, 64974, 64978, 64982, 65008, 66025, 66029, 66034, 66059, 67076, 67322, 67327, 67331, 67336, 67361, 68379, 68384, 68388, 68392, 68396, 68401, 68426, 69443, 69447, 69452, 69477, 70494, 70498, 70502, 70527, 71545, 71549, 71554, 71579, 72596, 72600, 72603, 72609, 72613, 72618, 72643, 73660, 73664, 73668, 73673, 73677, 73682, 73707, 74724, 74728, 74733, 74758, 75775, 75779, 75784, 75809, 76826, 76830, 76834, 76860, 77877, 77881, 77884, 77890, 77895, 77900, 77925, 78942, 78946, 78950, 78954, 78958, 78963, 78988, 80005, 80009, 80014, 80039, 81056, 81060, 81065, 81090, 82107, 82111, 82115, 82120, 82125, 82129, 82154, 83172, 83176, 83180, 83185, 83189, 83194, 83220, 84237, 84241, 84245, 84271, 85288, 85547, 85572, 86589, 86593, 86597, 86623, 87640, 87644, 87648, 87653, 87658, 87662, 87688, 88705, 88709, 88713, 88718, 88721, 88726, 88752, 89769, 89773, 89777, 89803, 90820, 90824, 90829, 90854, 91871, 91875, 91880, 91905, 92922, 92926, 92930, 92935, 92940, 92945, 92970, 93987, 93991, 93995, 93999, 94003, 94008, 94033, 95050, 95054, 95058, 95083, 96100, 96104, 96108, 96134, 97151, 97155, 97159, 97164, 97168, 97173, 97198, 98216, 98220, 98224, 98229, 98233, 98238, 98263, 99280, 99284, 99288, 99314, 100331, 100335, 100340, 100365, 101382, 101386, 101390, 101416, 102433, 102437, 102440, 102446, 102451, 102456, 102481, 103499, 103503, 103508, 103513, 103516, 103521, 103546, 104563, 104567, 104571, 104597, 105614, 105618, 105622, 105648, 106665, 106669, 106674, 106699, 107716, 107720, 107723, 107728, 107733, 107738, 107763, 108780, 108785, 108789, 108794, 108798, 108803, 108828, 109845, 109849, 109853, 109879, 110896, 111157, 111182, 112200, 112204, 112208, 112213, 112218, 112222, 112247, 113265, 113269, 113273, 113277, 113281, 113287, 113312, 114329, 114333, 114338, 114363, 115380, 115384, 115389, 115414, 116432, 116436, 116440, 116465, 117482, 117486, 117489, 117495, 117499, 117504, 117529, 118547, 118551, 118555, 118560, 118564, 118568, 118593, 119611, 119615, 119620, 119645, 120662, 120666, 120671, 120696, 121713, 121717, 121721, 121747, 122764, 122768, 122772, 122777, 122781, 122787, 122812, 123829, 123833, 123837, 123842, 123845, 123850, 123875, 124893, 124898, 124902, 124927, 125944, 125948, 125952, 125977, 126994, 126998, 127001, 127007, 127011, 127016, 127041, 128059, 128064, 128067, 128072, 128076, 128081, 128106, 129123, 129127, 129131, 129157, 130175, 130179, 130184, 130208, 131226, 131230, 131234, 131260, 132277, 132281, 132285, 132290, 132295, 132300, 132325, 133343, 133347, 133351, 133356, 133360, 133365, 133390, 134408, 134412, 134416, 134443, 135460, 135711, 135736, 136753, 136757, 136762, 136787, 137804, 137808, 137812, 137817, 137822, 137827, 137852, 138869, 138873, 138877, 138881, 138885, 138890, 138915, 139932, 139936, 139941, 139967, 140984, 140988, 140993, 141018, 142035, 142039, 142043, 142048, 142052, 142057, 142082, 143099, 143103, 143107, 143113, 143116, 143121, 143147, 144164, 144414, 144440, 145457, 145461, 145465, 145492, 146509, 146513, 146518, 146543, 147560, 147564, 147568, 147573, 147577, 147582, 147607, 148624, 148628, 148632, 148637, 148641, 148646, 148671, 149688, 149692, 149697, 149722, 150739, 150743, 150748, 150773, 151790, 151794, 151799, 151824, 152842, 152846, 152850, 152855, 152860, 152866, 152891, 153908, 153912, 153916, 153920, 153924, 153929, 153954, 154972, 154976, 154981, 155006, 156023, 156027, 156031, 156057, 157074, 157078, 157082, 157087, 157092, 157097, 157122, 158139, 158143, 158147, 158152, 158156, 158161, 158186, 159203, 159207, 159212, 159237, 160254, 160258, 160263, 160288, 161306, 161311, 161315, 161340, 162358, 162362, 162365, 162371, 162375, 162380, 162405, 163422, 163426, 163430, 163435, 163439, 163444, 163469, 164486, 164490, 164494, 164519, 165536, 165540, 165544, 165570, 166587, 166591, 166596, 166621, 167639, 167644, 167647, 167652, 167657, 167661, 167687, 168704, 168963, 168967, 168971, 168976, 169001, 170018, 170022, 170026, 170051, 171069, 171325, 171351, 172368, 172372, 172376, 172381, 172385, 172390, 172415, 173433, 173437, 173441, 173447, 173451, 173456, 173481, 174498, 174758, 174784, 175801, 176063, 176088, 177105, 177109, 177112, 177118, 177123, 177128, 177153, 178171, 178175, 178179, 178184, 178188, 178193, 178218, 179235, 179239, 179244, 179269, 180286, 180290, 180294, 180320, 181337, 181341, 181345, 181371, 182388, 182392, 182396, 182401, 182405, 182410, 182435, 183452, 183456, 183460, 183464, 183468, 183473, 183499, 184517, 184521, 184526, 184551, 185568, 185572, 185576, 185602, 186619, 186623, 186627, 186653, 187670, 187674, 187677, 187683, 187687, 187692, 187717, 188734, 188739, 188743, 188747, 188751, 188756, 188781, 189798, 189802, 189806, 189832, 190849, 190853, 190858, 190883, 191900, 191905, 191909, 191934, 192952, 192956, 192960, 192965, 192969, 192974, 192999, 194016, 194020, 194024, 194029, 194033, 194039, 194064, 195081, 195085, 195089, 195114, 196131, 196135, 196140, 196165, 197182, 197186, 197189, 197194, 197199, 197205, 197230, 198247, 198251, 198255, 198260, 198263, 198268, 198293, 199311, 199315, 199319, 199345, 200362, 200366, 200371, 200397, 201414, 201418, 201423, 201448, 202465, 202469, 202473, 202478, 202483, 202488, 202513, 203530, 203534, 203538, 203543, 203547, 203552, 203577, 204595, 204599, 204603, 204629, 205646, 205650, 205655, 205680, 206697, 206702, 206706, 206731, 207749, 207753, 207757, 207763, 207767, 207772, 207797, 208814, 208818, 208822, 208827, 208831, 208836, 208862, 209879, 209883, 209887, 209913, 210931, 210935, 210940, 210965, 211982, 211986, 211989, 211995, 211999, 212004, 212029, 213046, 213050, 213054, 213059, 213063, 213068, 213093, 214110, 214114, 214118, 214144, 215161, 215165, 215170, 215196, 216213, 216217, 216222, 216247, 217264, 217268, 217272, 217277, 217282, 217287, 217312, 218329, 218333, 218337, 218342, 218346, 218351, 218376, 219393, 219398, 219402, 219428, 220445, 220449, 220454, 220479, 221496, 221500, 221505, 221530, 222547, 222551, 222554, 222560, 222566, 222571, 222596, 223614, 223618, 223623, 223627, 223631, 223636, 223661, 224678, 224682, 224686, 224711, 225728, 225732, 225736, 225762, 226779, 226783, 226789, 226814, 227831, 227835, 227838, 227844, 227849, 227853, 227879, 228896, 228900, 228904, 228909, 228912, 228917, 228943, 229960, 230217, 230242, 231259, 231264, 231269, 231294, 232311, 232315, 232318, 232324, 232329, 232333, 232359, 233376, 233639, 233643, 233648, 233652, 233678, 234695, 234699, 234704, 234729, 235748, 235752, 235757, 235782, 236799, 236803, 236808, 236834, 237851, 237855, 237859, 237864, 237869, 237873, 237898, 238916, 238920, 238924, 238928, 238932, 238938, 238964, 239981, 239985, 239989, 240015, 241032, 241036, 241041, 241066, 242083, 242342, 242347, 242352, 242357, 242384, 243401, 243405, 243410, 243435, 244452, 244456, 244460, 244465, 244468, 244473, 244499, 245516, 245520, 245524, 245550, 246567, 246571, 246575, 246601, 247618, 247622, 247625, 247630, 247635, 247641, 247666, 248683, 248687, 248692, 248696, 248700, 248705, 248730, 249747, 249751, 249755, 249780, 250797, 250801, 250805, 250830, 251847, 251851, 251856, 251882, 252899, 252903, 252906, 252912, 252917, 252921, 252947, 253964, 253968, 253972, 253977, 253981, 253986, 254011, 255028, 255032, 255036, 255062, 256079, 256085, 256089, 256114, 257131, 257135, 257138, 257143, 257148, 257153, 257179, 258196, 258451, 258455, 258459, 258464, 258491, 259508, 259512, 259517, 259542, 260559, 260563, 260568, 260593, 261610, 261614, 261619, 261644, 262661, 262665, 262669, 262674, 262679, 262683, 262708, 263726, 263730, 263734, 263739, 263742, 263747, 263773, 264790, 264795, 264799, 264826, 265843, 265847, 265852, 265877, 266894, 266898, 266902, 266928, 267945, 267949, 267952, 267958, 267962, 267967, 267992, 269009, 269013, 269017, 269022, 269025, 269030, 269056, 270073, 270077, 270083, 270108, 271125, 271129, 271134, 271159, 272176, 272434, 272439, 272444, 272449, 272474, 273491, 273746, 273750, 273754, 273759, 273784, 274802, 274806, 274811, 274836, 275854, 275858, 275863, 275889, 276906, 276910, 276915, 276940, 277957, 277961, 277964, 277969, 277974, 277979, 278005, 279022, 279026, 279030, 279035, 279038, 279043, 279068, 280085, 280089, 280093, 280119, 281136, 281140, 281146, 281172, 282189, 282193, 282196, 282202, 282206, 282211, 282236, 283253, 283257, 283261, 283266, 283270, 283275, 283301, 284318, 284322, 284327, 284352, 285369, 285373, 285378, 285403, 286420, 286425, 286430, 286455, 287472, 287476, 287479, 287485, 287489, 287494, 287519, 288537, 288541, 288545, 288550, 288553, 288558, 288583, 289600, 289604, 289608, 289634, 290651, 290655, 290659, 290684, 291702, 291706, 291711, 291736, 292753, 293010, 293015, 293020, 293025, 293050, 294068, 294072, 294076, 294081, 294085, 294089, 294114, 295131, 295135, 295139, 295165, 296182, 296186, 296190, 296216, 297235, 297240, 297243, 297248, 297253, 297258, 297283, 298300, 298304, 298308, 298312, 298316, 298321, 298346, 299363, 299367, 299371, 299397, 300414, 300418, 300423, 300447, 301465, 301469, 301473, 301499, 302516, 302520, 302524, 302529, 302534, 302539, 302565, 303582, 303586, 303590, 303595, 303599, 303604, 303629, 304647, 304651, 304656, 304681, 305698, 305702, 305706, 305731, 306749, 306753, 306758, 306783, 307801, 307806, 307809, 307814, 307819, 307823, 307848, 308866, 308870, 308874, 308879, 308883, 308888, 308915, 309932, 309936, 309940, 309966, 310983, 310987, 310991, 311017, 312034, 312038, 312042, 312047, 312052, 312057, 312082, 313100, 313370, 313375, 313379, 313385, 313411, 314428, 314432, 314436, 314462, 315479, 315483, 315487, 315513, 316530, 316534, 316538, 316563, 317580, 317584, 317587, 317592, 317597, 317602, 317627, 318645, 318650, 318654, 318658, 318662, 318667, 318692, 319709, 319713, 319718, 319743, 320760, 320764, 320768, 320795, 321812, 321816, 321820, 321846, 322863, 322867, 322870, 322876, 322880, 322885, 322910, 323928, 323932, 323936, 323941, 323945, 323949, 323975, 324992, 324997, 325001, 325026, 326044, 326048, 326054, 326079, 327096, 327100, 327103, 327109, 327114, 327118, 327144, 328161, 328165, 328169, 328174, 328178, 328182, 328208, 329225, 329229, 329234, 329259, 330277, 330281, 330286, 330311, 331328, 331332, 331336, 331362, 332379, 332383, 332386, 332391, 332396, 332401, 332426, 333443, 333447, 333451, 333455, 333460, 333465, 333490, 334508, 334513, 334517, 334544, 335562, 335566, 335570, 335595, 336613, 336617, 336622, 336647, 337664, 337668, 337672, 337677, 337681, 337686, 337711, 338729, 338733, 338737, 338742, 338745, 338750, 338776, 339793, 339797, 339802, 339827, 340844, 340848, 340853, 340878, 341895, 341899, 341904, 341929, 342946, 342950, 342953, 342959, 342963, 342970, 342995, 344012, 344016, 344020, 344025, 344028, 344033, 344059, 345076, 345080, 345085, 345110, 346127, 346131, 346135, 346161, 347178, 347182, 347186, 347191, 347196, 347200, 347226, 348243, 348247, 348251, 348256, 348260, 348264, 348291, 349309, 349313, 349317, 349343, 350360, 350364, 350369, 350394, 351412, 351416, 351421, 351446, 352463, 352467, 352470, 352476, 352480, 352485, 352510, 353528, 353532, 353536, 353541, 353545, 353552, 353578, 354595, 354853, 354879, 355896, 355901, 355905, 355930, 356947, 356951, 356955, 356960, 356965, 356970, 356995, 358012, 358016, 358020, 358025, 358029, 358034, 358059, 359077, 359081, 359086, 359112, 360129, 360133, 360137, 360164, 361182, 361186, 361191, 361216, 362233, 362237, 362241, 362246, 362251, 362256, 362281, 363298, 363557, 363562, 363566, 363571, 363596, 364613, 364617, 364622, 364647, 365664, 365668, 365672, 365698, 366715, 366720, 366724, 366749, 367768, 367772, 367776, 367781, 367786, 367790, 367816, 368833, 368837, 368841, 368846, 368850, 368855, 368880, 369897, 369901, 369906, 369931, 370948, 370952, 370956, 370982, 371999, 372004, 372007, 372012, 372017, 372022, 372047, 373064, 373068, 373072, 373077, 373081, 373085, 373110, 374128, 374132, 374137, 374162, 375181, 375185, 375190, 375215, 376232, 376236, 376240, 376266, 377283, 377287, 377291, 377296, 377301, 377306, 377331, 378349, 378353, 378358, 378362, 378366, 378371, 378397, 379414, 379418, 379423, 379448, 380465, 380469, 380473, 380498, 381517, 381521, 381526, 381552, 382569, 382574, 382577, 382582, 382587, 382592, 382617, 383634, 383638, 383642, 383647, 383651, 383656, 383681, 384698, 384703, 384707, 384733, 385750, 385754, 385758, 385784, 386801, 386805, 386810, 386835, 387854, 388115, 388120, 388125, 388130, 388155, 389172, 389176, 389180, 389185, 389189, 389193, 389219, 390236, 390503, 390528, 391545, 391549, 391553, 391578, 392596, 392600, 392604, 392609, 392613, 392618, 392644, 393661, 393665, 393669, 393676, 393680, 393685, 393711, 394728, 394990, 395015, 396032, 396036, 396040, 396066, 397083, 397087, 397091, 397096, 397100, 397105, 397130, 398147, 398151, 398155, 398160, 398163, 398168, 398194, 399211, 399215, 399220, 399246, 400263, 400267, 400272, 400297, 401314, 401318, 401322, 401347, 402364, 402368, 402371, 402379, 402384, 402389, 402415, 403432, 403437, 403441, 403446, 403450, 403455, 403481, 404498, 404502, 404507, 404532, 405549, 405553, 405558, 405583, 406600, 406604, 406609, 406634, 407651, 407919, 407924, 407929, 407933, 407959, 408976, 408980, 408984, 408989, 408993, 408998, 409026, 410044, 410049, 410053, 410078, 411095, 411099, 411104, 411129, 412146, 412150, 412153, 412158, 412163, 412168, 412193, 413210, 413214, 413218, 413223, 413227, 413231, 413256, 414274, 414278, 414283, 414308, 415326, 415331, 415335, 415362, 416379, 416383, 416388, 416413, 417430, 417434, 417437, 417442, 417447, 417452, 417477, 418494, 418498, 418502, 418507, 418510, 418515, 418541, 419558, 419562, 419566, 419592, 420609, 420614, 420618, 420644, 421661, 421665, 421670, 421695, 422712, 422716, 422719, 422725, 422729, 422734, 422759, 423776, 423780, 423784, 423788, 423792, 423797, 423823, 424840, 424844, 424848, 424874, 425891, 425898, 425902, 425927, 426945, 426949, 426953, 426958, 426963, 426968, 426994, 428011, 428284, 428289, 428293, 428297, 428323, 429340, 429344, 429349, 429374, 430391, 430395, 430399, 430425, 431442, 431447, 431451, 431476, 432493, 432497, 432501, 432506, 432510, 432515, 432540, 433558, 433562, 433567, 433592, 434610, 434616, 434620, 434625, 434629, 434634, 434659, 435677, 435681, 435686, 435711, 436729, 436734, 436738, 436763, 437780, 437784, 437787, 437792, 437797, 437802, 437827, 438844, 438848, 438852, 438857, 438861, 438866, 438891, 439908, 439912, 439916, 439942, 440959, 440963, 440967, 440995, 442013, 442018, 442021, 442026, 442031, 442036, 442061, 443079, 443083, 443087, 443092, 443096, 443100, 443125, 444143, 444147, 444152, 444177, 445194, 445198, 445202, 445228, 446245, 446249, 446253, 446279, 447297, 447302, 447305, 447310, 447315, 447319, 447344, 448362, 448366, 448370, 448375, 448379, 448384, 448409, 449426, 449430, 449435, 449460, 450479, 450483, 450488, 450513, 451530, 451534, 451539, 451565, 452582, 452587, 452591, 452596, 452601, 452606, 452631, 453648, 453652, 453656, 453661, 453665, 453670, 453695, 454712, 454716, 454721, 454746, 455763, 455767, 455772, 455797, 456814, 456818, 456822, 456848, 457865, 457872, 457875, 457880, 457885, 457890, 457915, 458933, 458937, 458941, 458946, 458950, 458955, 458980, 459997, 460001, 460006, 460032, 461049, 461053, 461057, 461082, 462099, 462103, 462106, 462112, 462116, 462121, 462147, 463164, 463169, 463173, 463177, 463181, 463186, 463211, 464228, 464232, 464236, 464262, 465279, 465283, 465288, 465313, 466330, 466334, 466338, 466363, 467380, 467384, 467388, 467395, 467400, 467405, 467430, 468448, 468453, 468457, 468462, 468465, 468470, 468496, 469513, 469517, 469521, 469546, 470563, 470567, 470572, 470597, 471614, 471618, 471622, 471648, 472665, 472669, 472672, 472677, 472682, 472687, 472712, 473732, 473737, 473741, 473745, 473749, 473754, 473779, 474796, 474800, 474804, 474830, 475847, 475851, 475856, 475881, 476898, 476902, 476906, 476932, 477949, 478214, 478219, 478224, 478229, 478255, 479273, 479278, 479282, 479286, 479290, 479295, 479321, 480338, 480342, 480347, 480372, 481389, 481393, 481397, 481422, 482440, 482444, 482448, 482453, 482458, 482462, 482488, 483505, 483509, 483513, 483518, 483522, 483527, 483553, 484570, 484577, 484582, 484607, 485624, 485628, 485632, 485657, 486675, 486679, 486683, 486709, 487726, 487730, 487734, 487739, 487744, 487748, 487774, 488791, 488795, 488799, 488804, 488808, 488812, 488838, 489856, 489861, 489865, 489890, 490908, 490912, 490916, 490942, 491959, 491963, 491966, 491972, 491976, 491981, 492006, 493023, 493027, 493031, 493036, 493040, 493045, 493070, 494087, 494091, 494095, 494123, 495141, 495146, 495150, 495175, 496193, 496197, 496202, 496228, 497245, 497249, 497252, 497258, 497262, 497267, 497292, 498309, 498313, 498317, 498322, 498326, 498331, 498356, 499373, 499377, 499381, 499407, 500425, 500429, 500434, 500459, 501476, 501480, 501484, 501509, 502527, 502531, 502534, 502540, 502545, 502552, 502578, 503595, 503599, 503604, 503608, 503612, 503617, 503643, 504660, 504664, 504669, 504694, 505712, 505717, 505721, 505747, 506764, 507022, 507047, 508064, 508068, 508071, 508077, 508081, 508086, 508111, 509129, 509133, 509137, 509141, 509146, 509151, 509176, 510193, 510197, 510202, 510228, 511246, 511250, 511258, 511283, 512300, 512304, 512307, 512312, 512317, 512322, 512347, 513364, 513368, 513372, 513377, 513380, 513385, 513411, 514428, 514432, 514436, 514462, 515479, 515483, 515488, 515514, 516531, 516536, 516540, 516565, 517582, 517586, 517589, 517595, 517599, 517604, 517630, 518647, 518651, 518655, 518659, 518663, 518668, 518693, 519710, 519714, 519718, 519743, 520761, 520765, 520770, 520796, 521817, 521822, 521826, 521851, 522869, 523136, 523142, 523146, 523151, 523176, 524194, 524198, 524202, 524207, 524210, 524215, 524240, 525257, 525261, 525265, 525291, 526308, 526312, 526317, 526342, 527360, 527365, 527369, 527374, 527379, 527384, 527409, 528426, 528430, 528434, 528439, 528443, 528448, 528474, 529491, 529495, 529500, 529525, 530542, 530546, 530551, 530576, 531593, 531597, 531601, 531627, 532645, 532650, 532654, 532659, 532667, 532672, 532697, 533714, 533718, 533722, 533727, 533731, 533736, 533761, 534779, 534783, 534788, 534814, 535831, 535835, 535840, 535865, 536882, 536886, 536891, 536916, 537934, 537939, 537943, 537948, 537953, 537958, 537983, 539001, 539006, 539010, 539014, 539018]\n",
      "[(8, 6), (29371, 29633), 'trace2-sensor']\n",
      "29371 29633\n",
      "[(8, 6), (34907, 35159), 'trace2-sensor']\n",
      "34907 35159\n",
      "[(8, 6), (36202, 36458), 'trace2-sensor']\n",
      "36202 36458\n",
      "[(8, 10), (67076, 67322), 'trace2-sensor']\n",
      "67076 67322\n",
      "[(8, 6), (85288, 85547), 'trace2-sensor']\n",
      "85288 85547\n",
      "[(8, 6), (110896, 111157), 'trace2-sensor']\n",
      "110896 111157\n",
      "[(8, 6), (135460, 135711), 'trace2-sensor']\n",
      "135460 135711\n",
      "[(8, 6), (144164, 144414), 'trace2-sensor']\n",
      "144164 144414\n",
      "[(8, 13), (168704, 168963), 'trace2-sensor']\n",
      "168704 168963\n",
      "[(8, 6), (171069, 171325), 'trace2-sensor']\n",
      "171069 171325\n",
      "[(8, 6), (174498, 174758), 'trace2-sensor']\n",
      "174498 174758\n",
      "[(8, 6), (175801, 176063), 'trace2-sensor']\n",
      "175801 176063\n",
      "[(8, 6), (229960, 230217), 'trace2-sensor']\n",
      "229960 230217\n",
      "[(8, 13), (233376, 233639), 'trace2-sensor']\n",
      "233376 233639\n",
      "[(8, 10), (242083, 242342), 'trace2-sensor']\n",
      "242083 242342\n",
      "[(8, 13), (258196, 258451), 'trace2-sensor']\n",
      "258196 258451\n",
      "[(8, 10), (272176, 272434), 'trace2-sensor']\n",
      "272176 272434\n",
      "[(8, 13), (273491, 273746), 'trace2-sensor']\n",
      "273491 273746\n",
      "[(8, 10), (292753, 293010), 'trace2-sensor']\n",
      "292753 293010\n",
      "[(8, 13), (313100, 313370), 'trace2-sensor']\n",
      "313100 313370\n",
      "[(8, 6), (354595, 354853), 'trace2-sensor']\n",
      "354595 354853\n",
      "[(8, 13), (363298, 363557), 'trace2-sensor']\n",
      "363298 363557\n",
      "[(8, 10), (387854, 388115), 'trace2-sensor']\n",
      "387854 388115\n",
      "[(8, 6), (390236, 390503), 'trace2-sensor']\n",
      "390236 390503\n",
      "[(8, 6), (394728, 394990), 'trace2-sensor']\n",
      "394728 394990\n",
      "[(8, 10), (407651, 407919), 'trace2-sensor']\n",
      "407651 407919\n",
      "[(8, 13), (428011, 428284), 'trace2-sensor']\n",
      "428011 428284\n",
      "[(8, 10), (477949, 478214), 'trace2-sensor']\n",
      "477949 478214\n",
      "[(8, 6), (506764, 507022), 'trace2-sensor']\n",
      "506764 507022\n",
      "[(8, 10), (522869, 523136), 'trace2-sensor']\n",
      "522869 523136\n"
     ]
    },
    {
     "data": {
      "application/vnd.plotly.v1+json": {
       "config": {
        "plotlyServerURL": "https://plot.ly"
       },
       "data": [
        {
         "line": {
          "width": 0.5
         },
         "marker": {
          "color": "midnightblue",
          "size": 8
         },
         "mode": "lines+markers",
         "name": "trace2-sensor",
         "showlegend": true,
         "type": "scatter",
         "y": [
          0,
          1,
          2,
          3,
          4,
          5,
          6,
          7,
          8,
          9,
          6,
          7,
          8,
          9,
          6,
          7,
          8,
          9,
          6,
          7,
          8,
          9,
          6,
          7,
          8,
          9,
          10,
          11,
          12,
          6,
          7,
          8,
          9,
          6,
          7,
          8,
          9,
          13,
          14,
          15,
          6,
          7,
          8,
          9,
          6,
          7,
          8,
          9,
          6,
          7,
          8,
          9,
          10,
          11,
          12,
          6,
          7,
          8,
          9,
          13,
          14,
          15,
          6,
          7,
          8,
          9,
          6,
          7,
          8,
          9,
          6,
          7,
          8,
          9,
          6,
          7,
          8,
          9,
          10,
          11,
          12,
          6,
          7,
          8,
          9,
          13,
          14,
          15,
          6,
          7,
          8,
          9,
          6,
          7,
          8,
          9,
          6,
          7,
          8,
          9,
          10,
          11,
          12,
          6,
          7,
          8,
          9,
          13,
          14,
          15,
          6,
          7,
          8,
          9,
          6,
          7,
          8,
          9,
          6,
          7,
          8,
          9,
          6,
          7,
          8,
          9,
          10,
          11,
          12,
          6,
          7,
          8,
          9,
          13,
          14,
          15,
          6,
          7,
          8,
          6,
          7,
          8,
          9,
          6,
          7,
          8,
          9,
          6,
          7,
          8,
          9,
          10,
          11,
          12,
          6,
          7,
          8,
          9,
          13,
          14,
          15,
          6,
          7,
          8,
          6,
          7,
          8,
          6,
          7,
          8,
          9,
          10,
          11,
          12,
          6,
          7,
          8,
          9,
          6,
          7,
          8,
          9,
          6,
          7,
          8,
          9,
          6,
          7,
          8,
          9,
          6,
          7,
          8,
          9,
          10,
          11,
          12,
          6,
          7,
          8,
          9,
          13,
          14,
          15,
          6,
          7,
          8,
          9,
          6,
          7,
          8,
          9,
          6,
          7,
          8,
          9,
          10,
          11,
          12,
          6,
          7,
          8,
          9,
          13,
          14,
          15,
          6,
          7,
          8,
          9,
          6,
          7,
          8,
          9,
          6,
          7,
          8,
          9,
          6,
          7,
          8,
          9,
          10,
          11,
          12,
          6,
          7,
          8,
          9,
          13,
          14,
          15,
          6,
          7,
          8,
          9,
          6,
          7,
          8,
          9,
          6,
          7,
          8,
          9,
          6,
          7,
          8,
          9,
          10,
          11,
          12,
          6,
          7,
          8,
          9,
          13,
          14,
          15,
          6,
          7,
          8,
          9,
          6,
          7,
          8,
          9,
          6,
          7,
          8,
          9,
          6,
          7,
          8,
          9,
          10,
          11,
          12,
          6,
          7,
          8,
          9,
          13,
          14,
          15,
          6,
          7,
          8,
          9,
          6,
          7,
          8,
          9,
          6,
          7,
          8,
          10,
          11,
          12,
          6,
          7,
          8,
          9,
          13,
          14,
          15,
          6,
          7,
          8,
          9,
          6,
          7,
          8,
          9,
          6,
          7,
          8,
          9,
          6,
          7,
          8,
          9,
          10,
          11,
          12,
          6,
          7,
          8,
          9,
          13,
          14,
          15,
          6,
          7,
          8,
          9,
          6,
          7,
          8,
          9,
          6,
          7,
          8,
          9,
          6,
          7,
          8,
          9,
          10,
          11,
          12,
          6,
          7,
          8,
          9,
          13,
          14,
          15,
          6,
          7,
          8,
          9,
          6,
          7,
          8,
          9,
          6,
          7,
          8,
          9,
          10,
          11,
          12,
          6,
          7,
          8,
          9,
          13,
          14,
          15,
          6,
          7,
          8,
          9,
          6,
          7,
          8,
          6,
          7,
          8,
          9,
          6,
          7,
          8,
          9,
          10,
          11,
          12,
          6,
          7,
          8,
          9,
          13,
          14,
          15,
          6,
          7,
          8,
          9,
          6,
          7,
          8,
          9,
          6,
          7,
          8,
          9,
          6,
          7,
          8,
          9,
          10,
          11,
          12,
          6,
          7,
          8,
          9,
          13,
          14,
          15,
          6,
          7,
          8,
          9,
          6,
          7,
          8,
          9,
          6,
          7,
          8,
          9,
          10,
          11,
          12,
          6,
          7,
          8,
          9,
          13,
          14,
          15,
          6,
          7,
          8,
          9,
          6,
          7,
          8,
          9,
          6,
          7,
          8,
          9,
          6,
          7,
          8,
          9,
          10,
          11,
          12,
          6,
          7,
          8,
          9,
          13,
          14,
          15,
          6,
          7,
          8,
          9,
          6,
          7,
          8,
          9,
          6,
          7,
          8,
          9,
          6,
          7,
          8,
          9,
          10,
          11,
          12,
          6,
          7,
          8,
          9,
          13,
          14,
          15,
          6,
          7,
          8,
          9,
          6,
          7,
          8,
          6,
          7,
          8,
          9,
          10,
          11,
          12,
          6,
          7,
          8,
          9,
          13,
          14,
          15,
          6,
          7,
          8,
          9,
          6,
          7,
          8,
          9,
          6,
          7,
          8,
          9,
          6,
          7,
          8,
          9,
          10,
          11,
          12,
          6,
          7,
          8,
          9,
          13,
          14,
          15,
          6,
          7,
          8,
          9,
          6,
          7,
          8,
          9,
          6,
          7,
          8,
          9,
          6,
          7,
          8,
          9,
          10,
          11,
          12,
          6,
          7,
          8,
          9,
          13,
          14,
          15,
          6,
          7,
          8,
          9,
          6,
          7,
          8,
          9,
          6,
          7,
          8,
          9,
          10,
          11,
          12,
          6,
          7,
          8,
          9,
          13,
          14,
          15,
          6,
          7,
          8,
          9,
          6,
          7,
          8,
          9,
          6,
          7,
          8,
          9,
          6,
          7,
          8,
          9,
          10,
          11,
          12,
          6,
          7,
          8,
          9,
          13,
          14,
          15,
          6,
          7,
          8,
          9,
          6,
          7,
          8,
          6,
          7,
          8,
          9,
          6,
          7,
          8,
          9,
          10,
          11,
          12,
          6,
          7,
          8,
          9,
          13,
          14,
          15,
          6,
          7,
          8,
          9,
          6,
          7,
          8,
          9,
          6,
          7,
          8,
          9,
          10,
          11,
          12,
          6,
          7,
          8,
          9,
          13,
          14,
          15,
          6,
          7,
          8,
          6,
          7,
          8,
          9,
          6,
          7,
          8,
          9,
          6,
          7,
          8,
          9,
          10,
          11,
          12,
          6,
          7,
          8,
          9,
          13,
          14,
          15,
          6,
          7,
          8,
          9,
          6,
          7,
          8,
          9,
          6,
          7,
          8,
          9,
          6,
          7,
          8,
          9,
          10,
          11,
          12,
          6,
          7,
          8,
          9,
          13,
          14,
          15,
          6,
          7,
          8,
          9,
          6,
          7,
          8,
          9,
          6,
          7,
          8,
          9,
          10,
          11,
          12,
          6,
          7,
          8,
          9,
          13,
          14,
          15,
          6,
          7,
          8,
          9,
          6,
          7,
          8,
          9,
          6,
          7,
          8,
          9,
          6,
          7,
          8,
          9,
          10,
          11,
          12,
          6,
          7,
          8,
          9,
          13,
          14,
          15,
          6,
          7,
          8,
          9,
          6,
          7,
          8,
          9,
          6,
          7,
          8,
          9,
          6,
          7,
          8,
          9,
          10,
          11,
          12,
          6,
          7,
          8,
          13,
          14,
          15,
          6,
          7,
          8,
          9,
          6,
          7,
          8,
          6,
          7,
          8,
          9,
          10,
          11,
          12,
          6,
          7,
          8,
          9,
          13,
          14,
          15,
          6,
          7,
          8,
          6,
          7,
          8,
          6,
          7,
          8,
          9,
          10,
          11,
          12,
          6,
          7,
          8,
          9,
          13,
          14,
          15,
          6,
          7,
          8,
          9,
          6,
          7,
          8,
          9,
          6,
          7,
          8,
          9,
          6,
          7,
          8,
          9,
          10,
          11,
          12,
          6,
          7,
          8,
          9,
          13,
          14,
          15,
          6,
          7,
          8,
          9,
          6,
          7,
          8,
          9,
          6,
          7,
          8,
          9,
          6,
          7,
          8,
          9,
          10,
          11,
          12,
          6,
          7,
          8,
          9,
          13,
          14,
          15,
          6,
          7,
          8,
          9,
          6,
          7,
          8,
          9,
          6,
          7,
          8,
          9,
          6,
          7,
          8,
          9,
          10,
          11,
          12,
          6,
          7,
          8,
          9,
          13,
          14,
          15,
          6,
          7,
          8,
          9,
          6,
          7,
          8,
          9,
          6,
          7,
          8,
          9,
          10,
          11,
          12,
          6,
          7,
          8,
          9,
          13,
          14,
          15,
          6,
          7,
          8,
          9,
          6,
          7,
          8,
          9,
          6,
          7,
          8,
          9,
          6,
          7,
          8,
          9,
          10,
          11,
          12,
          6,
          7,
          8,
          9,
          13,
          14,
          15,
          6,
          7,
          8,
          9,
          6,
          7,
          8,
          9,
          6,
          7,
          8,
          9,
          6,
          7,
          8,
          9,
          10,
          11,
          12,
          6,
          7,
          8,
          9,
          13,
          14,
          15,
          6,
          7,
          8,
          9,
          6,
          7,
          8,
          9,
          6,
          7,
          8,
          9,
          10,
          11,
          12,
          6,
          7,
          8,
          9,
          13,
          14,
          15,
          6,
          7,
          8,
          9,
          6,
          7,
          8,
          9,
          6,
          7,
          8,
          9,
          6,
          7,
          8,
          9,
          10,
          11,
          12,
          6,
          7,
          8,
          9,
          13,
          14,
          15,
          6,
          7,
          8,
          9,
          6,
          7,
          8,
          9,
          6,
          7,
          8,
          9,
          6,
          7,
          8,
          9,
          10,
          11,
          12,
          6,
          7,
          8,
          9,
          13,
          14,
          15,
          6,
          7,
          8,
          9,
          6,
          7,
          8,
          9,
          6,
          7,
          8,
          9,
          6,
          7,
          8,
          9,
          10,
          11,
          12,
          6,
          7,
          8,
          9,
          13,
          14,
          15,
          6,
          7,
          8,
          6,
          7,
          8,
          9,
          6,
          7,
          8,
          9,
          10,
          11,
          12,
          6,
          7,
          8,
          13,
          14,
          15,
          6,
          7,
          8,
          9,
          6,
          7,
          8,
          9,
          6,
          7,
          8,
          9,
          6,
          7,
          8,
          9,
          10,
          11,
          12,
          6,
          7,
          8,
          9,
          13,
          14,
          15,
          6,
          7,
          8,
          9,
          6,
          7,
          8,
          9,
          6,
          7,
          8,
          10,
          11,
          12,
          6,
          7,
          8,
          9,
          6,
          7,
          8,
          9,
          13,
          14,
          15,
          6,
          7,
          8,
          9,
          6,
          7,
          8,
          9,
          6,
          7,
          8,
          9,
          10,
          11,
          12,
          6,
          7,
          8,
          9,
          13,
          14,
          15,
          6,
          7,
          8,
          9,
          6,
          7,
          8,
          9,
          6,
          7,
          8,
          9,
          6,
          7,
          8,
          9,
          10,
          11,
          12,
          6,
          7,
          8,
          9,
          13,
          14,
          15,
          6,
          7,
          8,
          9,
          6,
          7,
          8,
          9,
          6,
          7,
          8,
          9,
          10,
          11,
          12,
          6,
          7,
          8,
          13,
          14,
          15,
          6,
          7,
          8,
          9,
          6,
          7,
          8,
          9,
          6,
          7,
          8,
          9,
          6,
          7,
          8,
          9,
          10,
          11,
          12,
          6,
          7,
          8,
          9,
          13,
          14,
          15,
          6,
          7,
          8,
          9,
          6,
          7,
          8,
          9,
          6,
          7,
          8,
          9,
          6,
          7,
          8,
          9,
          10,
          11,
          12,
          6,
          7,
          8,
          9,
          13,
          14,
          15,
          6,
          7,
          8,
          9,
          6,
          7,
          8,
          9,
          6,
          7,
          8,
          10,
          11,
          12,
          6,
          7,
          8,
          13,
          14,
          15,
          6,
          7,
          8,
          9,
          6,
          7,
          8,
          9,
          6,
          7,
          8,
          9,
          6,
          7,
          8,
          9,
          10,
          11,
          12,
          6,
          7,
          8,
          9,
          13,
          14,
          15,
          6,
          7,
          8,
          9,
          6,
          7,
          8,
          9,
          6,
          7,
          8,
          9,
          10,
          11,
          12,
          6,
          7,
          8,
          9,
          13,
          14,
          15,
          6,
          7,
          8,
          9,
          6,
          7,
          8,
          9,
          6,
          7,
          8,
          9,
          6,
          7,
          8,
          9,
          10,
          11,
          12,
          6,
          7,
          8,
          9,
          13,
          14,
          15,
          6,
          7,
          8,
          9,
          6,
          7,
          8,
          9,
          6,
          7,
          8,
          9,
          6,
          7,
          8,
          10,
          11,
          12,
          6,
          7,
          8,
          9,
          13,
          14,
          15,
          6,
          7,
          8,
          9,
          6,
          7,
          8,
          9,
          6,
          7,
          8,
          9,
          10,
          11,
          12,
          6,
          7,
          8,
          9,
          13,
          14,
          15,
          6,
          7,
          8,
          9,
          6,
          7,
          8,
          9,
          6,
          7,
          8,
          9,
          6,
          7,
          8,
          9,
          10,
          11,
          12,
          6,
          7,
          8,
          9,
          13,
          14,
          15,
          6,
          7,
          8,
          9,
          6,
          7,
          8,
          9,
          6,
          7,
          8,
          9,
          6,
          7,
          8,
          9,
          10,
          11,
          12,
          6,
          7,
          8,
          9,
          13,
          14,
          15,
          6,
          7,
          8,
          9,
          6,
          7,
          8,
          9,
          6,
          7,
          8,
          9,
          10,
          11,
          12,
          6,
          7,
          8,
          13,
          14,
          15,
          6,
          7,
          8,
          9,
          6,
          7,
          8,
          9,
          6,
          7,
          8,
          9,
          6,
          7,
          8,
          9,
          10,
          11,
          12,
          6,
          7,
          8,
          9,
          13,
          14,
          15,
          6,
          7,
          8,
          9,
          6,
          7,
          8,
          9,
          6,
          7,
          8,
          9,
          6,
          7,
          8,
          9,
          10,
          11,
          12,
          6,
          7,
          8,
          9,
          13,
          14,
          15,
          6,
          7,
          8,
          9,
          6,
          7,
          8,
          9,
          6,
          7,
          8,
          9,
          10,
          11,
          12,
          6,
          7,
          8,
          9,
          13,
          14,
          15,
          6,
          7,
          8,
          9,
          6,
          7,
          8,
          9,
          6,
          7,
          8,
          9,
          6,
          7,
          8,
          9,
          10,
          11,
          12,
          6,
          7,
          8,
          9,
          13,
          14,
          15,
          6,
          7,
          8,
          9,
          6,
          7,
          8,
          9,
          6,
          7,
          8,
          9,
          6,
          7,
          8,
          9,
          10,
          11,
          12,
          6,
          7,
          8,
          9,
          13,
          14,
          15,
          6,
          7,
          8,
          9,
          6,
          7,
          8,
          9,
          6,
          7,
          8,
          9,
          6,
          7,
          8,
          9,
          10,
          11,
          12,
          6,
          7,
          8,
          9,
          13,
          14,
          15,
          6,
          7,
          8,
          9,
          6,
          7,
          8,
          9,
          6,
          7,
          8,
          9,
          10,
          11,
          12,
          6,
          7,
          8,
          9,
          13,
          14,
          15,
          6,
          7,
          8,
          9,
          6,
          7,
          8,
          9,
          6,
          7,
          8,
          9,
          6,
          7,
          8,
          9,
          10,
          11,
          12,
          6,
          7,
          8,
          9,
          13,
          14,
          15,
          6,
          7,
          8,
          6,
          7,
          8,
          9,
          6,
          7,
          8,
          9,
          10,
          11,
          12,
          6,
          7,
          8,
          9,
          13,
          14,
          15,
          6,
          7,
          8,
          9,
          6,
          7,
          8,
          9,
          6,
          7,
          8,
          9,
          6,
          7,
          8,
          9,
          10,
          11,
          12,
          6,
          7,
          8,
          13,
          14,
          15,
          6,
          7,
          8,
          9,
          6,
          7,
          8,
          9,
          6,
          7,
          8,
          9,
          6,
          7,
          8,
          9,
          10,
          11,
          12,
          6,
          7,
          8,
          9,
          13,
          14,
          15,
          6,
          7,
          8,
          9,
          6,
          7,
          8,
          9,
          6,
          7,
          8,
          9,
          10,
          11,
          12,
          6,
          7,
          8,
          9,
          13,
          14,
          15,
          6,
          7,
          8,
          9,
          6,
          7,
          8,
          9,
          6,
          7,
          8,
          9,
          6,
          7,
          8,
          9,
          10,
          11,
          12,
          6,
          7,
          8,
          9,
          13,
          14,
          15,
          6,
          7,
          8,
          9,
          6,
          7,
          8,
          9,
          6,
          7,
          8,
          9,
          6,
          7,
          8,
          9,
          10,
          11,
          12,
          6,
          7,
          8,
          9,
          13,
          14,
          15,
          6,
          7,
          8,
          9,
          6,
          7,
          8,
          9,
          6,
          7,
          8,
          9,
          6,
          7,
          8,
          10,
          11,
          12,
          6,
          7,
          8,
          9,
          13,
          14,
          15,
          6,
          7,
          8,
          6,
          7,
          8,
          9,
          6,
          7,
          8,
          9,
          10,
          11,
          12,
          6,
          7,
          8,
          9,
          13,
          14,
          15,
          6,
          7,
          8,
          6,
          7,
          8,
          9,
          6,
          7,
          8,
          9,
          10,
          11,
          12,
          6,
          7,
          8,
          9,
          13,
          14,
          15,
          6,
          7,
          8,
          9,
          6,
          7,
          8,
          9,
          6,
          7,
          8,
          9,
          6,
          7,
          8,
          9,
          10,
          11,
          12,
          6,
          7,
          8,
          9,
          13,
          14,
          15,
          6,
          7,
          8,
          9,
          6,
          7,
          8,
          9,
          6,
          7,
          8,
          9,
          6,
          7,
          8,
          10,
          11,
          12,
          6,
          7,
          8,
          9,
          13,
          14,
          15,
          6,
          7,
          8,
          9,
          6,
          7,
          8,
          9,
          6,
          7,
          8,
          9,
          10,
          11,
          12,
          6,
          7,
          8,
          9,
          13,
          14,
          15,
          6,
          7,
          8,
          9,
          6,
          7,
          8,
          9,
          6,
          7,
          8,
          9,
          6,
          7,
          8,
          9,
          10,
          11,
          12,
          6,
          7,
          8,
          9,
          13,
          14,
          15,
          6,
          7,
          8,
          9,
          6,
          7,
          8,
          9,
          6,
          7,
          8,
          9,
          6,
          7,
          8,
          9,
          10,
          11,
          12,
          6,
          7,
          8,
          9,
          13,
          14,
          15,
          6,
          7,
          8,
          9,
          6,
          7,
          8,
          9,
          6,
          7,
          8,
          9,
          10,
          11,
          12,
          6,
          7,
          8,
          13,
          14,
          15,
          6,
          7,
          8,
          9,
          6,
          7,
          8,
          9,
          6,
          7,
          8,
          9,
          6,
          7,
          8,
          9,
          10,
          11,
          12,
          6,
          7,
          8,
          9,
          6,
          7,
          8,
          9,
          13,
          14,
          15,
          6,
          7,
          8,
          9,
          6,
          7,
          8,
          9,
          6,
          7,
          8,
          9,
          10,
          11,
          12,
          6,
          7,
          8,
          9,
          13,
          14,
          15,
          6,
          7,
          8,
          9,
          6,
          7,
          8,
          9,
          6,
          7,
          8,
          9,
          10,
          11,
          12,
          6,
          7,
          8,
          9,
          13,
          14,
          15,
          6,
          7,
          8,
          9,
          6,
          7,
          8,
          9,
          6,
          7,
          8,
          9,
          6,
          7,
          8,
          9,
          10,
          11,
          12,
          6,
          7,
          8,
          9,
          13,
          14,
          15,
          6,
          7,
          8,
          9,
          6,
          7,
          8,
          9,
          6,
          7,
          8,
          9,
          6,
          7,
          8,
          9,
          10,
          11,
          12,
          6,
          7,
          8,
          9,
          13,
          14,
          15,
          6,
          7,
          8,
          9,
          6,
          7,
          8,
          9,
          6,
          7,
          8,
          9,
          6,
          7,
          8,
          9,
          10,
          11,
          12,
          6,
          7,
          8,
          9,
          13,
          14,
          15,
          6,
          7,
          8,
          9,
          6,
          7,
          8,
          9,
          6,
          7,
          8,
          9,
          10,
          11,
          12,
          6,
          7,
          8,
          9,
          13,
          14,
          15,
          6,
          7,
          8,
          9,
          6,
          7,
          8,
          9,
          6,
          7,
          8,
          9,
          6,
          7,
          8,
          9,
          10,
          11,
          12,
          6,
          7,
          8,
          9,
          13,
          14,
          15,
          6,
          7,
          8,
          9,
          6,
          7,
          8,
          9,
          6,
          7,
          8,
          9,
          6,
          7,
          8,
          9,
          10,
          11,
          12,
          6,
          7,
          8,
          9,
          13,
          14,
          15,
          6,
          7,
          8,
          9,
          6,
          7,
          8,
          9,
          6,
          7,
          8,
          9,
          6,
          7,
          8,
          10,
          11,
          12,
          6,
          7,
          8,
          9,
          13,
          14,
          15,
          6,
          7,
          8,
          9,
          6,
          7,
          8,
          9,
          6,
          7,
          8,
          9,
          10,
          11,
          12,
          6,
          7,
          8,
          9,
          13,
          14,
          15,
          6,
          7,
          8,
          9,
          6,
          7,
          8,
          9,
          6,
          7,
          8,
          9,
          6,
          7,
          8,
          9,
          10,
          11,
          12,
          6,
          7,
          8,
          9,
          13,
          14,
          15,
          6,
          7,
          8,
          9,
          6,
          7,
          8,
          9,
          6,
          7,
          8,
          9,
          10,
          11,
          12,
          6,
          7,
          8,
          9,
          13,
          14,
          15,
          6,
          7,
          8,
          9,
          6,
          7,
          8,
          9,
          6,
          7,
          8,
          9,
          6,
          7,
          8,
          9,
          10,
          11,
          12,
          6,
          7,
          8,
          9,
          13,
          14,
          15,
          6,
          7,
          8,
          9,
          6,
          7,
          8,
          9,
          6,
          7,
          8,
          9,
          6,
          7,
          8,
          9,
          10,
          11,
          12,
          6,
          7,
          8,
          9,
          13,
          14,
          15,
          6,
          7,
          8,
          9,
          6,
          7,
          8,
          9,
          6,
          7,
          8,
          6,
          7,
          8,
          9,
          10,
          11,
          12,
          6,
          7,
          8,
          9,
          13,
          14,
          15,
          6,
          7,
          8,
          9,
          6,
          7,
          8,
          9,
          6,
          7,
          8,
          9,
          10,
          11,
          12,
          6,
          7,
          8,
          9,
          13,
          14,
          15,
          6,
          7,
          8,
          9,
          6,
          7,
          8,
          9,
          6,
          7,
          8,
          9,
          6,
          7,
          8,
          9,
          10,
          11,
          12,
          6,
          7,
          8,
          9,
          13,
          14,
          15,
          6,
          7,
          8,
          9,
          6,
          7,
          8,
          9,
          6,
          7,
          8,
          9,
          6,
          7,
          8,
          10,
          11,
          12,
          6,
          7,
          8,
          9,
          13,
          14,
          15,
          6,
          7,
          8,
          9,
          6,
          7,
          8,
          9,
          6,
          7,
          8,
          9,
          10,
          11,
          12,
          6,
          7,
          8,
          9,
          13,
          14,
          15,
          6,
          7,
          8,
          9,
          6,
          7,
          8,
          9,
          6,
          7,
          8,
          9,
          6,
          7,
          8,
          9,
          10,
          11,
          12,
          6,
          7,
          8,
          9,
          13,
          14,
          15,
          6,
          7,
          8,
          9,
          6,
          7,
          8,
          9,
          6,
          7,
          8,
          9,
          6,
          7,
          8,
          9,
          10,
          11,
          12,
          6,
          7,
          8,
          9,
          13,
          14,
          15
         ]
        },
        {
         "line": {
          "width": 0.5
         },
         "marker": {
          "color": "lawngreen",
          "size": 8
         },
         "mode": "lines+markers",
         "name": "gt_communication",
         "showlegend": true,
         "type": "scatter",
         "x": [
          null
         ],
         "y": [
          null
         ]
        },
        {
         "line": {
          "width": 0.5
         },
         "marker": {
          "color": "blue",
          "size": 8
         },
         "mode": "lines+markers",
         "name": "gt_sensor",
         "showlegend": true,
         "type": "scatter",
         "x": [
          null
         ],
         "y": [
          null
         ]
        },
        {
         "line": {
          "width": 0.5
         },
         "marker": {
          "color": "goldenrod",
          "size": 8
         },
         "mode": "lines+markers",
         "name": "gt_bitflip",
         "showlegend": true,
         "type": "scatter",
         "x": [
          null
         ],
         "y": [
          null
         ]
        },
        {
         "line": {
          "width": 0.5
         },
         "marker": {
          "color": "red",
          "size": 8
         },
         "mode": "lines+markers",
         "name": "detection",
         "showlegend": true,
         "type": "scatter",
         "x": [
          null
         ],
         "y": [
          null
         ]
        }
       ],
       "layout": {
        "autosize": true,
        "height": 800,
        "plot_bgcolor": "rgba(0,0,0,0)",
        "shapes": [
         {
          "fillcolor": "blue",
          "layer": "below",
          "line": {
           "width": 0
          },
          "opacity": 0.5,
          "type": "rect",
          "x0": 135,
          "x1": 142,
          "xref": "x",
          "y0": 0,
          "y1": 1,
          "yref": "paper"
         },
         {
          "line": {
           "color": "blue",
           "dash": "dot",
           "width": 2
          },
          "type": "line",
          "x0": 135,
          "x1": 135,
          "xref": "x",
          "y0": 0,
          "y1": 1,
          "yref": "paper"
         },
         {
          "line": {
           "color": "blue",
           "dash": "dot",
           "width": 2
          },
          "type": "line",
          "x0": 142,
          "x1": 142,
          "xref": "x",
          "y0": 0,
          "y1": 1,
          "yref": "paper"
         },
         {
          "fillcolor": "blue",
          "layer": "below",
          "line": {
           "width": 0
          },
          "opacity": 0.5,
          "type": "rect",
          "x0": 160,
          "x1": 170,
          "xref": "x",
          "y0": 0,
          "y1": 1,
          "yref": "paper"
         },
         {
          "line": {
           "color": "blue",
           "dash": "dot",
           "width": 2
          },
          "type": "line",
          "x0": 160,
          "x1": 160,
          "xref": "x",
          "y0": 0,
          "y1": 1,
          "yref": "paper"
         },
         {
          "line": {
           "color": "blue",
           "dash": "dot",
           "width": 2
          },
          "type": "line",
          "x0": 170,
          "x1": 170,
          "xref": "x",
          "y0": 0,
          "y1": 1,
          "yref": "paper"
         },
         {
          "fillcolor": "lawngreen",
          "layer": "below",
          "line": {
           "width": 0
          },
          "opacity": 0.5,
          "type": "rect",
          "x0": 173,
          "x1": 178,
          "xref": "x",
          "y0": 0,
          "y1": 1,
          "yref": "paper"
         },
         {
          "line": {
           "color": "lawngreen",
           "dash": "dot",
           "width": 2
          },
          "type": "line",
          "x0": 173,
          "x1": 173,
          "xref": "x",
          "y0": 0,
          "y1": 1,
          "yref": "paper"
         },
         {
          "line": {
           "color": "lawngreen",
           "dash": "dot",
           "width": 2
          },
          "type": "line",
          "x0": 178,
          "x1": 178,
          "xref": "x",
          "y0": 0,
          "y1": 1,
          "yref": "paper"
         },
         {
          "fillcolor": "blue",
          "layer": "below",
          "line": {
           "width": 0
          },
          "opacity": 0.5,
          "type": "rect",
          "x0": 311,
          "x1": 321,
          "xref": "x",
          "y0": 0,
          "y1": 1,
          "yref": "paper"
         },
         {
          "line": {
           "color": "blue",
           "dash": "dot",
           "width": 2
          },
          "type": "line",
          "x0": 311,
          "x1": 311,
          "xref": "x",
          "y0": 0,
          "y1": 1,
          "yref": "paper"
         },
         {
          "line": {
           "color": "blue",
           "dash": "dot",
           "width": 2
          },
          "type": "line",
          "x0": 321,
          "x1": 321,
          "xref": "x",
          "y0": 0,
          "y1": 1,
          "yref": "paper"
         },
         {
          "fillcolor": "blue",
          "layer": "below",
          "line": {
           "width": 0
          },
          "opacity": 0.5,
          "type": "rect",
          "x0": 402,
          "x1": 409,
          "xref": "x",
          "y0": 0,
          "y1": 1,
          "yref": "paper"
         },
         {
          "line": {
           "color": "blue",
           "dash": "dot",
           "width": 2
          },
          "type": "line",
          "x0": 402,
          "x1": 402,
          "xref": "x",
          "y0": 0,
          "y1": 1,
          "yref": "paper"
         },
         {
          "line": {
           "color": "blue",
           "dash": "dot",
           "width": 2
          },
          "type": "line",
          "x0": 409,
          "x1": 409,
          "xref": "x",
          "y0": 0,
          "y1": 1,
          "yref": "paper"
         },
         {
          "fillcolor": "blue",
          "layer": "below",
          "line": {
           "width": 0
          },
          "opacity": 0.5,
          "type": "rect",
          "x0": 527,
          "x1": 534,
          "xref": "x",
          "y0": 0,
          "y1": 1,
          "yref": "paper"
         },
         {
          "line": {
           "color": "blue",
           "dash": "dot",
           "width": 2
          },
          "type": "line",
          "x0": 527,
          "x1": 527,
          "xref": "x",
          "y0": 0,
          "y1": 1,
          "yref": "paper"
         },
         {
          "line": {
           "color": "blue",
           "dash": "dot",
           "width": 2
          },
          "type": "line",
          "x0": 534,
          "x1": 534,
          "xref": "x",
          "y0": 0,
          "y1": 1,
          "yref": "paper"
         },
         {
          "fillcolor": "blue",
          "layer": "below",
          "line": {
           "width": 0
          },
          "opacity": 0.5,
          "type": "rect",
          "x0": 648,
          "x1": 655,
          "xref": "x",
          "y0": 0,
          "y1": 1,
          "yref": "paper"
         },
         {
          "line": {
           "color": "blue",
           "dash": "dot",
           "width": 2
          },
          "type": "line",
          "x0": 648,
          "x1": 648,
          "xref": "x",
          "y0": 0,
          "y1": 1,
          "yref": "paper"
         },
         {
          "line": {
           "color": "blue",
           "dash": "dot",
           "width": 2
          },
          "type": "line",
          "x0": 655,
          "x1": 655,
          "xref": "x",
          "y0": 0,
          "y1": 1,
          "yref": "paper"
         },
         {
          "fillcolor": "blue",
          "layer": "below",
          "line": {
           "width": 0
          },
          "opacity": 0.5,
          "type": "rect",
          "x0": 691,
          "x1": 698,
          "xref": "x",
          "y0": 0,
          "y1": 1,
          "yref": "paper"
         },
         {
          "line": {
           "color": "blue",
           "dash": "dot",
           "width": 2
          },
          "type": "line",
          "x0": 691,
          "x1": 691,
          "xref": "x",
          "y0": 0,
          "y1": 1,
          "yref": "paper"
         },
         {
          "line": {
           "color": "blue",
           "dash": "dot",
           "width": 2
          },
          "type": "line",
          "x0": 698,
          "x1": 698,
          "xref": "x",
          "y0": 0,
          "y1": 1,
          "yref": "paper"
         },
         {
          "fillcolor": "blue",
          "layer": "below",
          "line": {
           "width": 0
          },
          "opacity": 0.5,
          "type": "rect",
          "x0": 809,
          "x1": 818,
          "xref": "x",
          "y0": 0,
          "y1": 1,
          "yref": "paper"
         },
         {
          "line": {
           "color": "blue",
           "dash": "dot",
           "width": 2
          },
          "type": "line",
          "x0": 809,
          "x1": 809,
          "xref": "x",
          "y0": 0,
          "y1": 1,
          "yref": "paper"
         },
         {
          "line": {
           "color": "blue",
           "dash": "dot",
           "width": 2
          },
          "type": "line",
          "x0": 818,
          "x1": 818,
          "xref": "x",
          "y0": 0,
          "y1": 1,
          "yref": "paper"
         },
         {
          "fillcolor": "blue",
          "layer": "below",
          "line": {
           "width": 0
          },
          "opacity": 0.5,
          "type": "rect",
          "x0": 820,
          "x1": 830,
          "xref": "x",
          "y0": 0,
          "y1": 1,
          "yref": "paper"
         },
         {
          "line": {
           "color": "blue",
           "dash": "dot",
           "width": 2
          },
          "type": "line",
          "x0": 820,
          "x1": 820,
          "xref": "x",
          "y0": 0,
          "y1": 1,
          "yref": "paper"
         },
         {
          "line": {
           "color": "blue",
           "dash": "dot",
           "width": 2
          },
          "type": "line",
          "x0": 830,
          "x1": 830,
          "xref": "x",
          "y0": 0,
          "y1": 1,
          "yref": "paper"
         },
         {
          "fillcolor": "blue",
          "layer": "below",
          "line": {
           "width": 0
          },
          "opacity": 0.5,
          "type": "rect",
          "x0": 837,
          "x1": 850,
          "xref": "x",
          "y0": 0,
          "y1": 1,
          "yref": "paper"
         },
         {
          "line": {
           "color": "blue",
           "dash": "dot",
           "width": 2
          },
          "type": "line",
          "x0": 837,
          "x1": 837,
          "xref": "x",
          "y0": 0,
          "y1": 1,
          "yref": "paper"
         },
         {
          "line": {
           "color": "blue",
           "dash": "dot",
           "width": 2
          },
          "type": "line",
          "x0": 850,
          "x1": 850,
          "xref": "x",
          "y0": 0,
          "y1": 1,
          "yref": "paper"
         },
         {
          "fillcolor": "blue",
          "layer": "below",
          "line": {
           "width": 0
          },
          "opacity": 0.5,
          "type": "rect",
          "x0": 1109,
          "x1": 1115,
          "xref": "x",
          "y0": 0,
          "y1": 1,
          "yref": "paper"
         },
         {
          "line": {
           "color": "blue",
           "dash": "dot",
           "width": 2
          },
          "type": "line",
          "x0": 1109,
          "x1": 1109,
          "xref": "x",
          "y0": 0,
          "y1": 1,
          "yref": "paper"
         },
         {
          "line": {
           "color": "blue",
           "dash": "dot",
           "width": 2
          },
          "type": "line",
          "x0": 1115,
          "x1": 1115,
          "xref": "x",
          "y0": 0,
          "y1": 1,
          "yref": "paper"
         },
         {
          "fillcolor": "blue",
          "layer": "below",
          "line": {
           "width": 0
          },
          "opacity": 0.5,
          "type": "rect",
          "x0": 1123,
          "x1": 1132,
          "xref": "x",
          "y0": 0,
          "y1": 1,
          "yref": "paper"
         },
         {
          "line": {
           "color": "blue",
           "dash": "dot",
           "width": 2
          },
          "type": "line",
          "x0": 1123,
          "x1": 1123,
          "xref": "x",
          "y0": 0,
          "y1": 1,
          "yref": "paper"
         },
         {
          "line": {
           "color": "blue",
           "dash": "dot",
           "width": 2
          },
          "type": "line",
          "x0": 1132,
          "x1": 1132,
          "xref": "x",
          "y0": 0,
          "y1": 1,
          "yref": "paper"
         },
         {
          "fillcolor": "blue",
          "layer": "below",
          "line": {
           "width": 0
          },
          "opacity": 0.5,
          "type": "rect",
          "x0": 1163,
          "x1": 1172,
          "xref": "x",
          "y0": 0,
          "y1": 1,
          "yref": "paper"
         },
         {
          "line": {
           "color": "blue",
           "dash": "dot",
           "width": 2
          },
          "type": "line",
          "x0": 1163,
          "x1": 1163,
          "xref": "x",
          "y0": 0,
          "y1": 1,
          "yref": "paper"
         },
         {
          "line": {
           "color": "blue",
           "dash": "dot",
           "width": 2
          },
          "type": "line",
          "x0": 1172,
          "x1": 1172,
          "xref": "x",
          "y0": 0,
          "y1": 1,
          "yref": "paper"
         },
         {
          "fillcolor": "blue",
          "layer": "below",
          "line": {
           "width": 0
          },
          "opacity": 0.5,
          "type": "rect",
          "x0": 1243,
          "x1": 1252,
          "xref": "x",
          "y0": 0,
          "y1": 1,
          "yref": "paper"
         },
         {
          "line": {
           "color": "blue",
           "dash": "dot",
           "width": 2
          },
          "type": "line",
          "x0": 1243,
          "x1": 1243,
          "xref": "x",
          "y0": 0,
          "y1": 1,
          "yref": "paper"
         },
         {
          "line": {
           "color": "blue",
           "dash": "dot",
           "width": 2
          },
          "type": "line",
          "x0": 1252,
          "x1": 1252,
          "xref": "x",
          "y0": 0,
          "y1": 1,
          "yref": "paper"
         },
         {
          "fillcolor": "blue",
          "layer": "below",
          "line": {
           "width": 0
          },
          "opacity": 0.5,
          "type": "rect",
          "x0": 1308,
          "x1": 1324,
          "xref": "x",
          "y0": 0,
          "y1": 1,
          "yref": "paper"
         },
         {
          "line": {
           "color": "blue",
           "dash": "dot",
           "width": 2
          },
          "type": "line",
          "x0": 1308,
          "x1": 1308,
          "xref": "x",
          "y0": 0,
          "y1": 1,
          "yref": "paper"
         },
         {
          "line": {
           "color": "blue",
           "dash": "dot",
           "width": 2
          },
          "type": "line",
          "x0": 1324,
          "x1": 1324,
          "xref": "x",
          "y0": 0,
          "y1": 1,
          "yref": "paper"
         },
         {
          "fillcolor": "blue",
          "layer": "below",
          "line": {
           "width": 0
          },
          "opacity": 0.5,
          "type": "rect",
          "x0": 1406,
          "x1": 1416,
          "xref": "x",
          "y0": 0,
          "y1": 1,
          "yref": "paper"
         },
         {
          "line": {
           "color": "blue",
           "dash": "dot",
           "width": 2
          },
          "type": "line",
          "x0": 1406,
          "x1": 1406,
          "xref": "x",
          "y0": 0,
          "y1": 1,
          "yref": "paper"
         },
         {
          "line": {
           "color": "blue",
           "dash": "dot",
           "width": 2
          },
          "type": "line",
          "x0": 1416,
          "x1": 1416,
          "xref": "x",
          "y0": 0,
          "y1": 1,
          "yref": "paper"
         },
         {
          "fillcolor": "blue",
          "layer": "below",
          "line": {
           "width": 0
          },
          "opacity": 0.5,
          "type": "rect",
          "x0": 1509,
          "x1": 1518,
          "xref": "x",
          "y0": 0,
          "y1": 1,
          "yref": "paper"
         },
         {
          "line": {
           "color": "blue",
           "dash": "dot",
           "width": 2
          },
          "type": "line",
          "x0": 1509,
          "x1": 1509,
          "xref": "x",
          "y0": 0,
          "y1": 1,
          "yref": "paper"
         },
         {
          "line": {
           "color": "blue",
           "dash": "dot",
           "width": 2
          },
          "type": "line",
          "x0": 1518,
          "x1": 1518,
          "xref": "x",
          "y0": 0,
          "y1": 1,
          "yref": "paper"
         },
         {
          "fillcolor": "blue",
          "layer": "below",
          "line": {
           "width": 0
          },
          "opacity": 0.5,
          "type": "rect",
          "x0": 1715,
          "x1": 1721,
          "xref": "x",
          "y0": 0,
          "y1": 1,
          "yref": "paper"
         },
         {
          "line": {
           "color": "blue",
           "dash": "dot",
           "width": 2
          },
          "type": "line",
          "x0": 1715,
          "x1": 1715,
          "xref": "x",
          "y0": 0,
          "y1": 1,
          "yref": "paper"
         },
         {
          "line": {
           "color": "blue",
           "dash": "dot",
           "width": 2
          },
          "type": "line",
          "x0": 1721,
          "x1": 1721,
          "xref": "x",
          "y0": 0,
          "y1": 1,
          "yref": "paper"
         },
         {
          "fillcolor": "blue",
          "layer": "below",
          "line": {
           "width": 0
          },
          "opacity": 0.5,
          "type": "rect",
          "x0": 1755,
          "x1": 1764,
          "xref": "x",
          "y0": 0,
          "y1": 1,
          "yref": "paper"
         },
         {
          "line": {
           "color": "blue",
           "dash": "dot",
           "width": 2
          },
          "type": "line",
          "x0": 1755,
          "x1": 1755,
          "xref": "x",
          "y0": 0,
          "y1": 1,
          "yref": "paper"
         },
         {
          "line": {
           "color": "blue",
           "dash": "dot",
           "width": 2
          },
          "type": "line",
          "x0": 1764,
          "x1": 1764,
          "xref": "x",
          "y0": 0,
          "y1": 1,
          "yref": "paper"
         },
         {
          "fillcolor": "blue",
          "layer": "below",
          "line": {
           "width": 0
          },
          "opacity": 0.5,
          "type": "rect",
          "x0": 1873,
          "x1": 1882,
          "xref": "x",
          "y0": 0,
          "y1": 1,
          "yref": "paper"
         },
         {
          "line": {
           "color": "blue",
           "dash": "dot",
           "width": 2
          },
          "type": "line",
          "x0": 1873,
          "x1": 1873,
          "xref": "x",
          "y0": 0,
          "y1": 1,
          "yref": "paper"
         },
         {
          "line": {
           "color": "blue",
           "dash": "dot",
           "width": 2
          },
          "type": "line",
          "x0": 1882,
          "x1": 1882,
          "xref": "x",
          "y0": 0,
          "y1": 1,
          "yref": "paper"
         },
         {
          "fillcolor": "blue",
          "layer": "below",
          "line": {
           "width": 0
          },
          "opacity": 0.5,
          "type": "rect",
          "x0": 1886,
          "x1": 1892,
          "xref": "x",
          "y0": 0,
          "y1": 1,
          "yref": "paper"
         },
         {
          "line": {
           "color": "blue",
           "dash": "dot",
           "width": 2
          },
          "type": "line",
          "x0": 1886,
          "x1": 1886,
          "xref": "x",
          "y0": 0,
          "y1": 1,
          "yref": "paper"
         },
         {
          "line": {
           "color": "blue",
           "dash": "dot",
           "width": 2
          },
          "type": "line",
          "x0": 1892,
          "x1": 1892,
          "xref": "x",
          "y0": 0,
          "y1": 1,
          "yref": "paper"
         },
         {
          "fillcolor": "blue",
          "layer": "below",
          "line": {
           "width": 0
          },
          "opacity": 0.5,
          "type": "rect",
          "x0": 1907,
          "x1": 1913,
          "xref": "x",
          "y0": 0,
          "y1": 1,
          "yref": "paper"
         },
         {
          "line": {
           "color": "blue",
           "dash": "dot",
           "width": 2
          },
          "type": "line",
          "x0": 1907,
          "x1": 1907,
          "xref": "x",
          "y0": 0,
          "y1": 1,
          "yref": "paper"
         },
         {
          "line": {
           "color": "blue",
           "dash": "dot",
           "width": 2
          },
          "type": "line",
          "x0": 1913,
          "x1": 1913,
          "xref": "x",
          "y0": 0,
          "y1": 1,
          "yref": "paper"
         },
         {
          "fillcolor": "blue",
          "layer": "below",
          "line": {
           "width": 0
          },
          "opacity": 0.5,
          "type": "rect",
          "x0": 1966,
          "x1": 1975,
          "xref": "x",
          "y0": 0,
          "y1": 1,
          "yref": "paper"
         },
         {
          "line": {
           "color": "blue",
           "dash": "dot",
           "width": 2
          },
          "type": "line",
          "x0": 1966,
          "x1": 1966,
          "xref": "x",
          "y0": 0,
          "y1": 1,
          "yref": "paper"
         },
         {
          "line": {
           "color": "blue",
           "dash": "dot",
           "width": 2
          },
          "type": "line",
          "x0": 1975,
          "x1": 1975,
          "xref": "x",
          "y0": 0,
          "y1": 1,
          "yref": "paper"
         },
         {
          "fillcolor": "blue",
          "layer": "below",
          "line": {
           "width": 0
          },
          "opacity": 0.5,
          "type": "rect",
          "x0": 2068,
          "x1": 2077,
          "xref": "x",
          "y0": 0,
          "y1": 1,
          "yref": "paper"
         },
         {
          "line": {
           "color": "blue",
           "dash": "dot",
           "width": 2
          },
          "type": "line",
          "x0": 2068,
          "x1": 2068,
          "xref": "x",
          "y0": 0,
          "y1": 1,
          "yref": "paper"
         },
         {
          "line": {
           "color": "blue",
           "dash": "dot",
           "width": 2
          },
          "type": "line",
          "x0": 2077,
          "x1": 2077,
          "xref": "x",
          "y0": 0,
          "y1": 1,
          "yref": "paper"
         },
         {
          "fillcolor": "blue",
          "layer": "below",
          "line": {
           "width": 0
          },
          "opacity": 0.5,
          "type": "rect",
          "x0": 2312,
          "x1": 2321,
          "xref": "x",
          "y0": 0,
          "y1": 1,
          "yref": "paper"
         },
         {
          "line": {
           "color": "blue",
           "dash": "dot",
           "width": 2
          },
          "type": "line",
          "x0": 2312,
          "x1": 2312,
          "xref": "x",
          "y0": 0,
          "y1": 1,
          "yref": "paper"
         },
         {
          "line": {
           "color": "blue",
           "dash": "dot",
           "width": 2
          },
          "type": "line",
          "x0": 2321,
          "x1": 2321,
          "xref": "x",
          "y0": 0,
          "y1": 1,
          "yref": "paper"
         },
         {
          "fillcolor": "blue",
          "layer": "below",
          "line": {
           "width": 0
          },
          "opacity": 0.5,
          "type": "rect",
          "x0": 2455,
          "x1": 2463,
          "xref": "x",
          "y0": 0,
          "y1": 1,
          "yref": "paper"
         },
         {
          "line": {
           "color": "blue",
           "dash": "dot",
           "width": 2
          },
          "type": "line",
          "x0": 2455,
          "x1": 2455,
          "xref": "x",
          "y0": 0,
          "y1": 1,
          "yref": "paper"
         },
         {
          "line": {
           "color": "blue",
           "dash": "dot",
           "width": 2
          },
          "type": "line",
          "x0": 2463,
          "x1": 2463,
          "xref": "x",
          "y0": 0,
          "y1": 1,
          "yref": "paper"
         },
         {
          "fillcolor": "blue",
          "layer": "below",
          "line": {
           "width": 0
          },
          "opacity": 0.5,
          "type": "rect",
          "x0": 2531,
          "x1": 2541,
          "xref": "x",
          "y0": 0,
          "y1": 1,
          "yref": "paper"
         },
         {
          "line": {
           "color": "blue",
           "dash": "dot",
           "width": 2
          },
          "type": "line",
          "x0": 2531,
          "x1": 2531,
          "xref": "x",
          "y0": 0,
          "y1": 1,
          "yref": "paper"
         },
         {
          "line": {
           "color": "blue",
           "dash": "dot",
           "width": 2
          },
          "type": "line",
          "x0": 2541,
          "x1": 2541,
          "xref": "x",
          "y0": 0,
          "y1": 1,
          "yref": "paper"
         },
         {
          "fillcolor": "red",
          "layer": "below",
          "line": {
           "width": 0
          },
          "opacity": 0.5,
          "type": "rect",
          "x0": 138,
          "x1": 139,
          "xref": "x",
          "y0": 0,
          "y1": 1,
          "yref": "paper"
         },
         {
          "line": {
           "color": "red",
           "dash": "dot",
           "width": 2
          },
          "type": "line",
          "x0": 138,
          "x1": 138,
          "xref": "x",
          "y0": 0,
          "y1": 1,
          "yref": "paper"
         },
         {
          "line": {
           "color": "red",
           "dash": "dot",
           "width": 2
          },
          "type": "line",
          "x0": 139,
          "x1": 139,
          "xref": "x",
          "y0": 0,
          "y1": 1,
          "yref": "paper"
         },
         {
          "fillcolor": "red",
          "layer": "below",
          "line": {
           "width": 0
          },
          "opacity": 0.5,
          "type": "rect",
          "x0": 163,
          "x1": 164,
          "xref": "x",
          "y0": 0,
          "y1": 1,
          "yref": "paper"
         },
         {
          "line": {
           "color": "red",
           "dash": "dot",
           "width": 2
          },
          "type": "line",
          "x0": 163,
          "x1": 163,
          "xref": "x",
          "y0": 0,
          "y1": 1,
          "yref": "paper"
         },
         {
          "line": {
           "color": "red",
           "dash": "dot",
           "width": 2
          },
          "type": "line",
          "x0": 164,
          "x1": 164,
          "xref": "x",
          "y0": 0,
          "y1": 1,
          "yref": "paper"
         },
         {
          "fillcolor": "red",
          "layer": "below",
          "line": {
           "width": 0
          },
          "opacity": 0.5,
          "type": "rect",
          "x0": 166,
          "x1": 167,
          "xref": "x",
          "y0": 0,
          "y1": 1,
          "yref": "paper"
         },
         {
          "line": {
           "color": "red",
           "dash": "dot",
           "width": 2
          },
          "type": "line",
          "x0": 166,
          "x1": 166,
          "xref": "x",
          "y0": 0,
          "y1": 1,
          "yref": "paper"
         },
         {
          "line": {
           "color": "red",
           "dash": "dot",
           "width": 2
          },
          "type": "line",
          "x0": 167,
          "x1": 167,
          "xref": "x",
          "y0": 0,
          "y1": 1,
          "yref": "paper"
         },
         {
          "fillcolor": "red",
          "layer": "below",
          "line": {
           "width": 0
          },
          "opacity": 0.5,
          "type": "rect",
          "x0": 314,
          "x1": 315,
          "xref": "x",
          "y0": 0,
          "y1": 1,
          "yref": "paper"
         },
         {
          "line": {
           "color": "red",
           "dash": "dot",
           "width": 2
          },
          "type": "line",
          "x0": 314,
          "x1": 314,
          "xref": "x",
          "y0": 0,
          "y1": 1,
          "yref": "paper"
         },
         {
          "line": {
           "color": "red",
           "dash": "dot",
           "width": 2
          },
          "type": "line",
          "x0": 315,
          "x1": 315,
          "xref": "x",
          "y0": 0,
          "y1": 1,
          "yref": "paper"
         },
         {
          "fillcolor": "red",
          "layer": "below",
          "line": {
           "width": 0
          },
          "opacity": 0.5,
          "type": "rect",
          "x0": 405,
          "x1": 406,
          "xref": "x",
          "y0": 0,
          "y1": 1,
          "yref": "paper"
         },
         {
          "line": {
           "color": "red",
           "dash": "dot",
           "width": 2
          },
          "type": "line",
          "x0": 405,
          "x1": 405,
          "xref": "x",
          "y0": 0,
          "y1": 1,
          "yref": "paper"
         },
         {
          "line": {
           "color": "red",
           "dash": "dot",
           "width": 2
          },
          "type": "line",
          "x0": 406,
          "x1": 406,
          "xref": "x",
          "y0": 0,
          "y1": 1,
          "yref": "paper"
         },
         {
          "fillcolor": "red",
          "layer": "below",
          "line": {
           "width": 0
          },
          "opacity": 0.5,
          "type": "rect",
          "x0": 530,
          "x1": 531,
          "xref": "x",
          "y0": 0,
          "y1": 1,
          "yref": "paper"
         },
         {
          "line": {
           "color": "red",
           "dash": "dot",
           "width": 2
          },
          "type": "line",
          "x0": 530,
          "x1": 530,
          "xref": "x",
          "y0": 0,
          "y1": 1,
          "yref": "paper"
         },
         {
          "line": {
           "color": "red",
           "dash": "dot",
           "width": 2
          },
          "type": "line",
          "x0": 531,
          "x1": 531,
          "xref": "x",
          "y0": 0,
          "y1": 1,
          "yref": "paper"
         },
         {
          "fillcolor": "red",
          "layer": "below",
          "line": {
           "width": 0
          },
          "opacity": 0.5,
          "type": "rect",
          "x0": 651,
          "x1": 652,
          "xref": "x",
          "y0": 0,
          "y1": 1,
          "yref": "paper"
         },
         {
          "line": {
           "color": "red",
           "dash": "dot",
           "width": 2
          },
          "type": "line",
          "x0": 651,
          "x1": 651,
          "xref": "x",
          "y0": 0,
          "y1": 1,
          "yref": "paper"
         },
         {
          "line": {
           "color": "red",
           "dash": "dot",
           "width": 2
          },
          "type": "line",
          "x0": 652,
          "x1": 652,
          "xref": "x",
          "y0": 0,
          "y1": 1,
          "yref": "paper"
         },
         {
          "fillcolor": "red",
          "layer": "below",
          "line": {
           "width": 0
          },
          "opacity": 0.5,
          "type": "rect",
          "x0": 694,
          "x1": 695,
          "xref": "x",
          "y0": 0,
          "y1": 1,
          "yref": "paper"
         },
         {
          "line": {
           "color": "red",
           "dash": "dot",
           "width": 2
          },
          "type": "line",
          "x0": 694,
          "x1": 694,
          "xref": "x",
          "y0": 0,
          "y1": 1,
          "yref": "paper"
         },
         {
          "line": {
           "color": "red",
           "dash": "dot",
           "width": 2
          },
          "type": "line",
          "x0": 695,
          "x1": 695,
          "xref": "x",
          "y0": 0,
          "y1": 1,
          "yref": "paper"
         },
         {
          "fillcolor": "red",
          "layer": "below",
          "line": {
           "width": 0
          },
          "opacity": 0.5,
          "type": "rect",
          "x0": 812,
          "x1": 813,
          "xref": "x",
          "y0": 0,
          "y1": 1,
          "yref": "paper"
         },
         {
          "line": {
           "color": "red",
           "dash": "dot",
           "width": 2
          },
          "type": "line",
          "x0": 812,
          "x1": 812,
          "xref": "x",
          "y0": 0,
          "y1": 1,
          "yref": "paper"
         },
         {
          "line": {
           "color": "red",
           "dash": "dot",
           "width": 2
          },
          "type": "line",
          "x0": 813,
          "x1": 813,
          "xref": "x",
          "y0": 0,
          "y1": 1,
          "yref": "paper"
         },
         {
          "fillcolor": "red",
          "layer": "below",
          "line": {
           "width": 0
          },
          "opacity": 0.5,
          "type": "rect",
          "x0": 822,
          "x1": 823,
          "xref": "x",
          "y0": 0,
          "y1": 1,
          "yref": "paper"
         },
         {
          "line": {
           "color": "red",
           "dash": "dot",
           "width": 2
          },
          "type": "line",
          "x0": 822,
          "x1": 822,
          "xref": "x",
          "y0": 0,
          "y1": 1,
          "yref": "paper"
         },
         {
          "line": {
           "color": "red",
           "dash": "dot",
           "width": 2
          },
          "type": "line",
          "x0": 823,
          "x1": 823,
          "xref": "x",
          "y0": 0,
          "y1": 1,
          "yref": "paper"
         },
         {
          "fillcolor": "red",
          "layer": "below",
          "line": {
           "width": 0
          },
          "opacity": 0.5,
          "type": "rect",
          "x0": 839,
          "x1": 840,
          "xref": "x",
          "y0": 0,
          "y1": 1,
          "yref": "paper"
         },
         {
          "line": {
           "color": "red",
           "dash": "dot",
           "width": 2
          },
          "type": "line",
          "x0": 839,
          "x1": 839,
          "xref": "x",
          "y0": 0,
          "y1": 1,
          "yref": "paper"
         },
         {
          "line": {
           "color": "red",
           "dash": "dot",
           "width": 2
          },
          "type": "line",
          "x0": 840,
          "x1": 840,
          "xref": "x",
          "y0": 0,
          "y1": 1,
          "yref": "paper"
         },
         {
          "fillcolor": "red",
          "layer": "below",
          "line": {
           "width": 0
          },
          "opacity": 0.5,
          "type": "rect",
          "x0": 842,
          "x1": 843,
          "xref": "x",
          "y0": 0,
          "y1": 1,
          "yref": "paper"
         },
         {
          "line": {
           "color": "red",
           "dash": "dot",
           "width": 2
          },
          "type": "line",
          "x0": 842,
          "x1": 842,
          "xref": "x",
          "y0": 0,
          "y1": 1,
          "yref": "paper"
         },
         {
          "line": {
           "color": "red",
           "dash": "dot",
           "width": 2
          },
          "type": "line",
          "x0": 843,
          "x1": 843,
          "xref": "x",
          "y0": 0,
          "y1": 1,
          "yref": "paper"
         },
         {
          "fillcolor": "red",
          "layer": "below",
          "line": {
           "width": 0
          },
          "opacity": 0.5,
          "type": "rect",
          "x0": 1111,
          "x1": 1112,
          "xref": "x",
          "y0": 0,
          "y1": 1,
          "yref": "paper"
         },
         {
          "line": {
           "color": "red",
           "dash": "dot",
           "width": 2
          },
          "type": "line",
          "x0": 1111,
          "x1": 1111,
          "xref": "x",
          "y0": 0,
          "y1": 1,
          "yref": "paper"
         },
         {
          "line": {
           "color": "red",
           "dash": "dot",
           "width": 2
          },
          "type": "line",
          "x0": 1112,
          "x1": 1112,
          "xref": "x",
          "y0": 0,
          "y1": 1,
          "yref": "paper"
         },
         {
          "fillcolor": "red",
          "layer": "below",
          "line": {
           "width": 0
          },
          "opacity": 0.5,
          "type": "rect",
          "x0": 1125,
          "x1": 1126,
          "xref": "x",
          "y0": 0,
          "y1": 1,
          "yref": "paper"
         },
         {
          "line": {
           "color": "red",
           "dash": "dot",
           "width": 2
          },
          "type": "line",
          "x0": 1125,
          "x1": 1125,
          "xref": "x",
          "y0": 0,
          "y1": 1,
          "yref": "paper"
         },
         {
          "line": {
           "color": "red",
           "dash": "dot",
           "width": 2
          },
          "type": "line",
          "x0": 1126,
          "x1": 1126,
          "xref": "x",
          "y0": 0,
          "y1": 1,
          "yref": "paper"
         },
         {
          "fillcolor": "red",
          "layer": "below",
          "line": {
           "width": 0
          },
          "opacity": 0.5,
          "type": "rect",
          "x0": 1165,
          "x1": 1166,
          "xref": "x",
          "y0": 0,
          "y1": 1,
          "yref": "paper"
         },
         {
          "line": {
           "color": "red",
           "dash": "dot",
           "width": 2
          },
          "type": "line",
          "x0": 1165,
          "x1": 1165,
          "xref": "x",
          "y0": 0,
          "y1": 1,
          "yref": "paper"
         },
         {
          "line": {
           "color": "red",
           "dash": "dot",
           "width": 2
          },
          "type": "line",
          "x0": 1166,
          "x1": 1166,
          "xref": "x",
          "y0": 0,
          "y1": 1,
          "yref": "paper"
         },
         {
          "fillcolor": "red",
          "layer": "below",
          "line": {
           "width": 0
          },
          "opacity": 0.5,
          "type": "rect",
          "x0": 1245,
          "x1": 1246,
          "xref": "x",
          "y0": 0,
          "y1": 1,
          "yref": "paper"
         },
         {
          "line": {
           "color": "red",
           "dash": "dot",
           "width": 2
          },
          "type": "line",
          "x0": 1245,
          "x1": 1245,
          "xref": "x",
          "y0": 0,
          "y1": 1,
          "yref": "paper"
         },
         {
          "line": {
           "color": "red",
           "dash": "dot",
           "width": 2
          },
          "type": "line",
          "x0": 1246,
          "x1": 1246,
          "xref": "x",
          "y0": 0,
          "y1": 1,
          "yref": "paper"
         },
         {
          "fillcolor": "red",
          "layer": "below",
          "line": {
           "width": 0
          },
          "opacity": 0.5,
          "type": "rect",
          "x0": 1311,
          "x1": 1312,
          "xref": "x",
          "y0": 0,
          "y1": 1,
          "yref": "paper"
         },
         {
          "line": {
           "color": "red",
           "dash": "dot",
           "width": 2
          },
          "type": "line",
          "x0": 1311,
          "x1": 1311,
          "xref": "x",
          "y0": 0,
          "y1": 1,
          "yref": "paper"
         },
         {
          "line": {
           "color": "red",
           "dash": "dot",
           "width": 2
          },
          "type": "line",
          "x0": 1312,
          "x1": 1312,
          "xref": "x",
          "y0": 0,
          "y1": 1,
          "yref": "paper"
         },
         {
          "fillcolor": "red",
          "layer": "below",
          "line": {
           "width": 0
          },
          "opacity": 0.5,
          "type": "rect",
          "x0": 1317,
          "x1": 1318,
          "xref": "x",
          "y0": 0,
          "y1": 1,
          "yref": "paper"
         },
         {
          "line": {
           "color": "red",
           "dash": "dot",
           "width": 2
          },
          "type": "line",
          "x0": 1317,
          "x1": 1317,
          "xref": "x",
          "y0": 0,
          "y1": 1,
          "yref": "paper"
         },
         {
          "line": {
           "color": "red",
           "dash": "dot",
           "width": 2
          },
          "type": "line",
          "x0": 1318,
          "x1": 1318,
          "xref": "x",
          "y0": 0,
          "y1": 1,
          "yref": "paper"
         },
         {
          "fillcolor": "red",
          "layer": "below",
          "line": {
           "width": 0
          },
          "opacity": 0.5,
          "type": "rect",
          "x0": 1409,
          "x1": 1410,
          "xref": "x",
          "y0": 0,
          "y1": 1,
          "yref": "paper"
         },
         {
          "line": {
           "color": "red",
           "dash": "dot",
           "width": 2
          },
          "type": "line",
          "x0": 1409,
          "x1": 1409,
          "xref": "x",
          "y0": 0,
          "y1": 1,
          "yref": "paper"
         },
         {
          "line": {
           "color": "red",
           "dash": "dot",
           "width": 2
          },
          "type": "line",
          "x0": 1410,
          "x1": 1410,
          "xref": "x",
          "y0": 0,
          "y1": 1,
          "yref": "paper"
         },
         {
          "fillcolor": "red",
          "layer": "below",
          "line": {
           "width": 0
          },
          "opacity": 0.5,
          "type": "rect",
          "x0": 1511,
          "x1": 1512,
          "xref": "x",
          "y0": 0,
          "y1": 1,
          "yref": "paper"
         },
         {
          "line": {
           "color": "red",
           "dash": "dot",
           "width": 2
          },
          "type": "line",
          "x0": 1511,
          "x1": 1511,
          "xref": "x",
          "y0": 0,
          "y1": 1,
          "yref": "paper"
         },
         {
          "line": {
           "color": "red",
           "dash": "dot",
           "width": 2
          },
          "type": "line",
          "x0": 1512,
          "x1": 1512,
          "xref": "x",
          "y0": 0,
          "y1": 1,
          "yref": "paper"
         },
         {
          "fillcolor": "red",
          "layer": "below",
          "line": {
           "width": 0
          },
          "opacity": 0.5,
          "type": "rect",
          "x0": 1717,
          "x1": 1718,
          "xref": "x",
          "y0": 0,
          "y1": 1,
          "yref": "paper"
         },
         {
          "line": {
           "color": "red",
           "dash": "dot",
           "width": 2
          },
          "type": "line",
          "x0": 1717,
          "x1": 1717,
          "xref": "x",
          "y0": 0,
          "y1": 1,
          "yref": "paper"
         },
         {
          "line": {
           "color": "red",
           "dash": "dot",
           "width": 2
          },
          "type": "line",
          "x0": 1718,
          "x1": 1718,
          "xref": "x",
          "y0": 0,
          "y1": 1,
          "yref": "paper"
         },
         {
          "fillcolor": "red",
          "layer": "below",
          "line": {
           "width": 0
          },
          "opacity": 0.5,
          "type": "rect",
          "x0": 1757,
          "x1": 1758,
          "xref": "x",
          "y0": 0,
          "y1": 1,
          "yref": "paper"
         },
         {
          "line": {
           "color": "red",
           "dash": "dot",
           "width": 2
          },
          "type": "line",
          "x0": 1757,
          "x1": 1757,
          "xref": "x",
          "y0": 0,
          "y1": 1,
          "yref": "paper"
         },
         {
          "line": {
           "color": "red",
           "dash": "dot",
           "width": 2
          },
          "type": "line",
          "x0": 1758,
          "x1": 1758,
          "xref": "x",
          "y0": 0,
          "y1": 1,
          "yref": "paper"
         },
         {
          "fillcolor": "red",
          "layer": "below",
          "line": {
           "width": 0
          },
          "opacity": 0.5,
          "type": "rect",
          "x0": 1875,
          "x1": 1876,
          "xref": "x",
          "y0": 0,
          "y1": 1,
          "yref": "paper"
         },
         {
          "line": {
           "color": "red",
           "dash": "dot",
           "width": 2
          },
          "type": "line",
          "x0": 1875,
          "x1": 1875,
          "xref": "x",
          "y0": 0,
          "y1": 1,
          "yref": "paper"
         },
         {
          "line": {
           "color": "red",
           "dash": "dot",
           "width": 2
          },
          "type": "line",
          "x0": 1876,
          "x1": 1876,
          "xref": "x",
          "y0": 0,
          "y1": 1,
          "yref": "paper"
         },
         {
          "fillcolor": "red",
          "layer": "below",
          "line": {
           "width": 0
          },
          "opacity": 0.5,
          "type": "rect",
          "x0": 1888,
          "x1": 1889,
          "xref": "x",
          "y0": 0,
          "y1": 1,
          "yref": "paper"
         },
         {
          "line": {
           "color": "red",
           "dash": "dot",
           "width": 2
          },
          "type": "line",
          "x0": 1888,
          "x1": 1888,
          "xref": "x",
          "y0": 0,
          "y1": 1,
          "yref": "paper"
         },
         {
          "line": {
           "color": "red",
           "dash": "dot",
           "width": 2
          },
          "type": "line",
          "x0": 1889,
          "x1": 1889,
          "xref": "x",
          "y0": 0,
          "y1": 1,
          "yref": "paper"
         },
         {
          "fillcolor": "red",
          "layer": "below",
          "line": {
           "width": 0
          },
          "opacity": 0.5,
          "type": "rect",
          "x0": 1909,
          "x1": 1910,
          "xref": "x",
          "y0": 0,
          "y1": 1,
          "yref": "paper"
         },
         {
          "line": {
           "color": "red",
           "dash": "dot",
           "width": 2
          },
          "type": "line",
          "x0": 1909,
          "x1": 1909,
          "xref": "x",
          "y0": 0,
          "y1": 1,
          "yref": "paper"
         },
         {
          "line": {
           "color": "red",
           "dash": "dot",
           "width": 2
          },
          "type": "line",
          "x0": 1910,
          "x1": 1910,
          "xref": "x",
          "y0": 0,
          "y1": 1,
          "yref": "paper"
         },
         {
          "fillcolor": "red",
          "layer": "below",
          "line": {
           "width": 0
          },
          "opacity": 0.5,
          "type": "rect",
          "x0": 1968,
          "x1": 1969,
          "xref": "x",
          "y0": 0,
          "y1": 1,
          "yref": "paper"
         },
         {
          "line": {
           "color": "red",
           "dash": "dot",
           "width": 2
          },
          "type": "line",
          "x0": 1968,
          "x1": 1968,
          "xref": "x",
          "y0": 0,
          "y1": 1,
          "yref": "paper"
         },
         {
          "line": {
           "color": "red",
           "dash": "dot",
           "width": 2
          },
          "type": "line",
          "x0": 1969,
          "x1": 1969,
          "xref": "x",
          "y0": 0,
          "y1": 1,
          "yref": "paper"
         },
         {
          "fillcolor": "red",
          "layer": "below",
          "line": {
           "width": 0
          },
          "opacity": 0.5,
          "type": "rect",
          "x0": 2070,
          "x1": 2071,
          "xref": "x",
          "y0": 0,
          "y1": 1,
          "yref": "paper"
         },
         {
          "line": {
           "color": "red",
           "dash": "dot",
           "width": 2
          },
          "type": "line",
          "x0": 2070,
          "x1": 2070,
          "xref": "x",
          "y0": 0,
          "y1": 1,
          "yref": "paper"
         },
         {
          "line": {
           "color": "red",
           "dash": "dot",
           "width": 2
          },
          "type": "line",
          "x0": 2071,
          "x1": 2071,
          "xref": "x",
          "y0": 0,
          "y1": 1,
          "yref": "paper"
         },
         {
          "fillcolor": "red",
          "layer": "below",
          "line": {
           "width": 0
          },
          "opacity": 0.5,
          "type": "rect",
          "x0": 2314,
          "x1": 2315,
          "xref": "x",
          "y0": 0,
          "y1": 1,
          "yref": "paper"
         },
         {
          "line": {
           "color": "red",
           "dash": "dot",
           "width": 2
          },
          "type": "line",
          "x0": 2314,
          "x1": 2314,
          "xref": "x",
          "y0": 0,
          "y1": 1,
          "yref": "paper"
         },
         {
          "line": {
           "color": "red",
           "dash": "dot",
           "width": 2
          },
          "type": "line",
          "x0": 2315,
          "x1": 2315,
          "xref": "x",
          "y0": 0,
          "y1": 1,
          "yref": "paper"
         },
         {
          "fillcolor": "red",
          "layer": "below",
          "line": {
           "width": 0
          },
          "opacity": 0.5,
          "type": "rect",
          "x0": 2457,
          "x1": 2458,
          "xref": "x",
          "y0": 0,
          "y1": 1,
          "yref": "paper"
         },
         {
          "line": {
           "color": "red",
           "dash": "dot",
           "width": 2
          },
          "type": "line",
          "x0": 2457,
          "x1": 2457,
          "xref": "x",
          "y0": 0,
          "y1": 1,
          "yref": "paper"
         },
         {
          "line": {
           "color": "red",
           "dash": "dot",
           "width": 2
          },
          "type": "line",
          "x0": 2458,
          "x1": 2458,
          "xref": "x",
          "y0": 0,
          "y1": 1,
          "yref": "paper"
         },
         {
          "fillcolor": "red",
          "layer": "below",
          "line": {
           "width": 0
          },
          "opacity": 0.5,
          "type": "rect",
          "x0": 2534,
          "x1": 2535,
          "xref": "x",
          "y0": 0,
          "y1": 1,
          "yref": "paper"
         },
         {
          "line": {
           "color": "red",
           "dash": "dot",
           "width": 2
          },
          "type": "line",
          "x0": 2534,
          "x1": 2534,
          "xref": "x",
          "y0": 0,
          "y1": 1,
          "yref": "paper"
         },
         {
          "line": {
           "color": "red",
           "dash": "dot",
           "width": 2
          },
          "type": "line",
          "x0": 2535,
          "x1": 2535,
          "xref": "x",
          "y0": 0,
          "y1": 1,
          "yref": "paper"
         }
        ],
        "template": {
         "data": {
          "bar": [
           {
            "error_x": {
             "color": "#2a3f5f"
            },
            "error_y": {
             "color": "#2a3f5f"
            },
            "marker": {
             "line": {
              "color": "#E5ECF6",
              "width": 0.5
             },
             "pattern": {
              "fillmode": "overlay",
              "size": 10,
              "solidity": 0.2
             }
            },
            "type": "bar"
           }
          ],
          "barpolar": [
           {
            "marker": {
             "line": {
              "color": "#E5ECF6",
              "width": 0.5
             },
             "pattern": {
              "fillmode": "overlay",
              "size": 10,
              "solidity": 0.2
             }
            },
            "type": "barpolar"
           }
          ],
          "carpet": [
           {
            "aaxis": {
             "endlinecolor": "#2a3f5f",
             "gridcolor": "white",
             "linecolor": "white",
             "minorgridcolor": "white",
             "startlinecolor": "#2a3f5f"
            },
            "baxis": {
             "endlinecolor": "#2a3f5f",
             "gridcolor": "white",
             "linecolor": "white",
             "minorgridcolor": "white",
             "startlinecolor": "#2a3f5f"
            },
            "type": "carpet"
           }
          ],
          "choropleth": [
           {
            "colorbar": {
             "outlinewidth": 0,
             "ticks": ""
            },
            "type": "choropleth"
           }
          ],
          "contour": [
           {
            "colorbar": {
             "outlinewidth": 0,
             "ticks": ""
            },
            "colorscale": [
             [
              0,
              "#0d0887"
             ],
             [
              0.1111111111111111,
              "#46039f"
             ],
             [
              0.2222222222222222,
              "#7201a8"
             ],
             [
              0.3333333333333333,
              "#9c179e"
             ],
             [
              0.4444444444444444,
              "#bd3786"
             ],
             [
              0.5555555555555556,
              "#d8576b"
             ],
             [
              0.6666666666666666,
              "#ed7953"
             ],
             [
              0.7777777777777778,
              "#fb9f3a"
             ],
             [
              0.8888888888888888,
              "#fdca26"
             ],
             [
              1,
              "#f0f921"
             ]
            ],
            "type": "contour"
           }
          ],
          "contourcarpet": [
           {
            "colorbar": {
             "outlinewidth": 0,
             "ticks": ""
            },
            "type": "contourcarpet"
           }
          ],
          "heatmap": [
           {
            "colorbar": {
             "outlinewidth": 0,
             "ticks": ""
            },
            "colorscale": [
             [
              0,
              "#0d0887"
             ],
             [
              0.1111111111111111,
              "#46039f"
             ],
             [
              0.2222222222222222,
              "#7201a8"
             ],
             [
              0.3333333333333333,
              "#9c179e"
             ],
             [
              0.4444444444444444,
              "#bd3786"
             ],
             [
              0.5555555555555556,
              "#d8576b"
             ],
             [
              0.6666666666666666,
              "#ed7953"
             ],
             [
              0.7777777777777778,
              "#fb9f3a"
             ],
             [
              0.8888888888888888,
              "#fdca26"
             ],
             [
              1,
              "#f0f921"
             ]
            ],
            "type": "heatmap"
           }
          ],
          "heatmapgl": [
           {
            "colorbar": {
             "outlinewidth": 0,
             "ticks": ""
            },
            "colorscale": [
             [
              0,
              "#0d0887"
             ],
             [
              0.1111111111111111,
              "#46039f"
             ],
             [
              0.2222222222222222,
              "#7201a8"
             ],
             [
              0.3333333333333333,
              "#9c179e"
             ],
             [
              0.4444444444444444,
              "#bd3786"
             ],
             [
              0.5555555555555556,
              "#d8576b"
             ],
             [
              0.6666666666666666,
              "#ed7953"
             ],
             [
              0.7777777777777778,
              "#fb9f3a"
             ],
             [
              0.8888888888888888,
              "#fdca26"
             ],
             [
              1,
              "#f0f921"
             ]
            ],
            "type": "heatmapgl"
           }
          ],
          "histogram": [
           {
            "marker": {
             "pattern": {
              "fillmode": "overlay",
              "size": 10,
              "solidity": 0.2
             }
            },
            "type": "histogram"
           }
          ],
          "histogram2d": [
           {
            "colorbar": {
             "outlinewidth": 0,
             "ticks": ""
            },
            "colorscale": [
             [
              0,
              "#0d0887"
             ],
             [
              0.1111111111111111,
              "#46039f"
             ],
             [
              0.2222222222222222,
              "#7201a8"
             ],
             [
              0.3333333333333333,
              "#9c179e"
             ],
             [
              0.4444444444444444,
              "#bd3786"
             ],
             [
              0.5555555555555556,
              "#d8576b"
             ],
             [
              0.6666666666666666,
              "#ed7953"
             ],
             [
              0.7777777777777778,
              "#fb9f3a"
             ],
             [
              0.8888888888888888,
              "#fdca26"
             ],
             [
              1,
              "#f0f921"
             ]
            ],
            "type": "histogram2d"
           }
          ],
          "histogram2dcontour": [
           {
            "colorbar": {
             "outlinewidth": 0,
             "ticks": ""
            },
            "colorscale": [
             [
              0,
              "#0d0887"
             ],
             [
              0.1111111111111111,
              "#46039f"
             ],
             [
              0.2222222222222222,
              "#7201a8"
             ],
             [
              0.3333333333333333,
              "#9c179e"
             ],
             [
              0.4444444444444444,
              "#bd3786"
             ],
             [
              0.5555555555555556,
              "#d8576b"
             ],
             [
              0.6666666666666666,
              "#ed7953"
             ],
             [
              0.7777777777777778,
              "#fb9f3a"
             ],
             [
              0.8888888888888888,
              "#fdca26"
             ],
             [
              1,
              "#f0f921"
             ]
            ],
            "type": "histogram2dcontour"
           }
          ],
          "mesh3d": [
           {
            "colorbar": {
             "outlinewidth": 0,
             "ticks": ""
            },
            "type": "mesh3d"
           }
          ],
          "parcoords": [
           {
            "line": {
             "colorbar": {
              "outlinewidth": 0,
              "ticks": ""
             }
            },
            "type": "parcoords"
           }
          ],
          "pie": [
           {
            "automargin": true,
            "type": "pie"
           }
          ],
          "scatter": [
           {
            "fillpattern": {
             "fillmode": "overlay",
             "size": 10,
             "solidity": 0.2
            },
            "type": "scatter"
           }
          ],
          "scatter3d": [
           {
            "line": {
             "colorbar": {
              "outlinewidth": 0,
              "ticks": ""
             }
            },
            "marker": {
             "colorbar": {
              "outlinewidth": 0,
              "ticks": ""
             }
            },
            "type": "scatter3d"
           }
          ],
          "scattercarpet": [
           {
            "marker": {
             "colorbar": {
              "outlinewidth": 0,
              "ticks": ""
             }
            },
            "type": "scattercarpet"
           }
          ],
          "scattergeo": [
           {
            "marker": {
             "colorbar": {
              "outlinewidth": 0,
              "ticks": ""
             }
            },
            "type": "scattergeo"
           }
          ],
          "scattergl": [
           {
            "marker": {
             "colorbar": {
              "outlinewidth": 0,
              "ticks": ""
             }
            },
            "type": "scattergl"
           }
          ],
          "scattermapbox": [
           {
            "marker": {
             "colorbar": {
              "outlinewidth": 0,
              "ticks": ""
             }
            },
            "type": "scattermapbox"
           }
          ],
          "scatterpolar": [
           {
            "marker": {
             "colorbar": {
              "outlinewidth": 0,
              "ticks": ""
             }
            },
            "type": "scatterpolar"
           }
          ],
          "scatterpolargl": [
           {
            "marker": {
             "colorbar": {
              "outlinewidth": 0,
              "ticks": ""
             }
            },
            "type": "scatterpolargl"
           }
          ],
          "scatterternary": [
           {
            "marker": {
             "colorbar": {
              "outlinewidth": 0,
              "ticks": ""
             }
            },
            "type": "scatterternary"
           }
          ],
          "surface": [
           {
            "colorbar": {
             "outlinewidth": 0,
             "ticks": ""
            },
            "colorscale": [
             [
              0,
              "#0d0887"
             ],
             [
              0.1111111111111111,
              "#46039f"
             ],
             [
              0.2222222222222222,
              "#7201a8"
             ],
             [
              0.3333333333333333,
              "#9c179e"
             ],
             [
              0.4444444444444444,
              "#bd3786"
             ],
             [
              0.5555555555555556,
              "#d8576b"
             ],
             [
              0.6666666666666666,
              "#ed7953"
             ],
             [
              0.7777777777777778,
              "#fb9f3a"
             ],
             [
              0.8888888888888888,
              "#fdca26"
             ],
             [
              1,
              "#f0f921"
             ]
            ],
            "type": "surface"
           }
          ],
          "table": [
           {
            "cells": {
             "fill": {
              "color": "#EBF0F8"
             },
             "line": {
              "color": "white"
             }
            },
            "header": {
             "fill": {
              "color": "#C8D4E3"
             },
             "line": {
              "color": "white"
             }
            },
            "type": "table"
           }
          ]
         },
         "layout": {
          "annotationdefaults": {
           "arrowcolor": "#2a3f5f",
           "arrowhead": 0,
           "arrowwidth": 1
          },
          "autotypenumbers": "strict",
          "coloraxis": {
           "colorbar": {
            "outlinewidth": 0,
            "ticks": ""
           }
          },
          "colorscale": {
           "diverging": [
            [
             0,
             "#8e0152"
            ],
            [
             0.1,
             "#c51b7d"
            ],
            [
             0.2,
             "#de77ae"
            ],
            [
             0.3,
             "#f1b6da"
            ],
            [
             0.4,
             "#fde0ef"
            ],
            [
             0.5,
             "#f7f7f7"
            ],
            [
             0.6,
             "#e6f5d0"
            ],
            [
             0.7,
             "#b8e186"
            ],
            [
             0.8,
             "#7fbc41"
            ],
            [
             0.9,
             "#4d9221"
            ],
            [
             1,
             "#276419"
            ]
           ],
           "sequential": [
            [
             0,
             "#0d0887"
            ],
            [
             0.1111111111111111,
             "#46039f"
            ],
            [
             0.2222222222222222,
             "#7201a8"
            ],
            [
             0.3333333333333333,
             "#9c179e"
            ],
            [
             0.4444444444444444,
             "#bd3786"
            ],
            [
             0.5555555555555556,
             "#d8576b"
            ],
            [
             0.6666666666666666,
             "#ed7953"
            ],
            [
             0.7777777777777778,
             "#fb9f3a"
            ],
            [
             0.8888888888888888,
             "#fdca26"
            ],
            [
             1,
             "#f0f921"
            ]
           ],
           "sequentialminus": [
            [
             0,
             "#0d0887"
            ],
            [
             0.1111111111111111,
             "#46039f"
            ],
            [
             0.2222222222222222,
             "#7201a8"
            ],
            [
             0.3333333333333333,
             "#9c179e"
            ],
            [
             0.4444444444444444,
             "#bd3786"
            ],
            [
             0.5555555555555556,
             "#d8576b"
            ],
            [
             0.6666666666666666,
             "#ed7953"
            ],
            [
             0.7777777777777778,
             "#fb9f3a"
            ],
            [
             0.8888888888888888,
             "#fdca26"
            ],
            [
             1,
             "#f0f921"
            ]
           ]
          },
          "colorway": [
           "#636efa",
           "#EF553B",
           "#00cc96",
           "#ab63fa",
           "#FFA15A",
           "#19d3f3",
           "#FF6692",
           "#B6E880",
           "#FF97FF",
           "#FECB52"
          ],
          "font": {
           "color": "#2a3f5f"
          },
          "geo": {
           "bgcolor": "white",
           "lakecolor": "white",
           "landcolor": "#E5ECF6",
           "showlakes": true,
           "showland": true,
           "subunitcolor": "white"
          },
          "hoverlabel": {
           "align": "left"
          },
          "hovermode": "closest",
          "mapbox": {
           "style": "light"
          },
          "paper_bgcolor": "white",
          "plot_bgcolor": "#E5ECF6",
          "polar": {
           "angularaxis": {
            "gridcolor": "white",
            "linecolor": "white",
            "ticks": ""
           },
           "bgcolor": "#E5ECF6",
           "radialaxis": {
            "gridcolor": "white",
            "linecolor": "white",
            "ticks": ""
           }
          },
          "scene": {
           "xaxis": {
            "backgroundcolor": "#E5ECF6",
            "gridcolor": "white",
            "gridwidth": 2,
            "linecolor": "white",
            "showbackground": true,
            "ticks": "",
            "zerolinecolor": "white"
           },
           "yaxis": {
            "backgroundcolor": "#E5ECF6",
            "gridcolor": "white",
            "gridwidth": 2,
            "linecolor": "white",
            "showbackground": true,
            "ticks": "",
            "zerolinecolor": "white"
           },
           "zaxis": {
            "backgroundcolor": "#E5ECF6",
            "gridcolor": "white",
            "gridwidth": 2,
            "linecolor": "white",
            "showbackground": true,
            "ticks": "",
            "zerolinecolor": "white"
           }
          },
          "shapedefaults": {
           "line": {
            "color": "#2a3f5f"
           }
          },
          "ternary": {
           "aaxis": {
            "gridcolor": "white",
            "linecolor": "white",
            "ticks": ""
           },
           "baxis": {
            "gridcolor": "white",
            "linecolor": "white",
            "ticks": ""
           },
           "bgcolor": "#E5ECF6",
           "caxis": {
            "gridcolor": "white",
            "linecolor": "white",
            "ticks": ""
           }
          },
          "title": {
           "x": 0.05
          },
          "xaxis": {
           "automargin": true,
           "gridcolor": "white",
           "linecolor": "white",
           "ticks": "",
           "title": {
            "standoff": 15
           },
           "zerolinecolor": "white",
           "zerolinewidth": 2
          },
          "yaxis": {
           "automargin": true,
           "gridcolor": "white",
           "linecolor": "white",
           "ticks": "",
           "title": {
            "standoff": 15
           },
           "zerolinecolor": "white",
           "zerolinewidth": 2
          }
         }
        },
        "title": {
         "text": "Event Trace without Time"
        },
        "width": 1200,
        "xaxis": {
         "color": "black",
         "gridcolor": "lightgrey",
         "linecolor": "black",
         "mirror": true,
         "rangeslider": {
          "visible": true
         },
         "showline": true,
         "tickfont": {
          "size": 20
         },
         "ticks": "outside",
         "ticktext": [
          [
           0,
           1351
          ],
          [
           10,
           2973
          ],
          [
           20,
           6116
          ],
          [
           30,
           7215
          ],
          [
           40,
           9305
          ],
          [
           50,
           12448
          ],
          [
           60,
           13526
          ],
          [
           70,
           15635
          ],
          [
           80,
           17747
          ],
          [
           90,
           19858
          ],
          [
           100,
           21967
          ],
          [
           110,
           23046
          ],
          [
           120,
           26190
          ],
          [
           130,
           27289
          ],
          [
           140,
           29658
          ],
          [
           150,
           32781
          ],
          [
           160,
           33860
          ],
          [
           170,
           37504
          ],
          [
           180,
           39616
          ],
          [
           190,
           41725
          ],
          [
           200,
           43837
          ],
          [
           210,
           45948
          ],
          [
           220,
           47046
          ],
          [
           230,
           49136
          ],
          [
           240,
           52280
          ],
          [
           250,
           53358
          ],
          [
           260,
           55470
          ],
          [
           270,
           57581
          ],
          [
           280,
           59693
          ],
          [
           290,
           61804
          ],
          [
           300,
           63914
          ],
          [
           310,
           66025
          ],
          [
           320,
           68379
          ],
          [
           330,
           69477
          ],
          [
           340,
           72600
          ],
          [
           350,
           73677
          ],
          [
           360,
           75809
          ],
          [
           370,
           77900
          ],
          [
           380,
           80009
          ],
          [
           390,
           82120
          ],
          [
           400,
           83220
          ],
          [
           410,
           86597
          ],
          [
           420,
           88709
          ],
          [
           430,
           90820
          ],
          [
           440,
           92930
          ],
          [
           450,
           94008
          ],
          [
           460,
           97151
          ],
          [
           470,
           98229
          ],
          [
           480,
           100340
          ],
          [
           490,
           102451
          ],
          [
           500,
           104563
          ],
          [
           510,
           106674
          ],
          [
           520,
           108785
          ],
          [
           530,
           110896
          ],
          [
           540,
           113265
          ],
          [
           550,
           114363
          ],
          [
           560,
           117486
          ],
          [
           570,
           118564
          ],
          [
           580,
           120696
          ],
          [
           590,
           122787
          ],
          [
           600,
           124898
          ],
          [
           610,
           127007
          ],
          [
           620,
           128106
          ],
          [
           630,
           131230
          ],
          [
           640,
           133343
          ],
          [
           650,
           134443
          ],
          [
           660,
           137812
          ],
          [
           670,
           138890
          ],
          [
           680,
           142035
          ],
          [
           690,
           143113
          ],
          [
           700,
           145492
          ],
          [
           710,
           147582
          ],
          [
           720,
           149692
          ],
          [
           730,
           151824
          ],
          [
           740,
           153916
          ],
          [
           750,
           156027
          ],
          [
           760,
           158139
          ],
          [
           770,
           159237
          ],
          [
           780,
           162362
          ],
          [
           790,
           163439
          ],
          [
           800,
           165570
          ],
          [
           810,
           167661
          ],
          [
           820,
           170026
          ],
          [
           830,
           172390
          ],
          [
           840,
           174758
          ],
          [
           850,
           177128
          ],
          [
           860,
           179239
          ],
          [
           870,
           181371
          ],
          [
           880,
           183460
          ],
          [
           890,
           185572
          ],
          [
           900,
           187683
          ],
          [
           910,
           188781
          ],
          [
           920,
           191905
          ],
          [
           930,
           194016
          ],
          [
           940,
           195114
          ],
          [
           950,
           197205
          ],
          [
           960,
           199315
          ],
          [
           970,
           201448
          ],
          [
           980,
           203538
          ],
          [
           990,
           205650
          ],
          [
           1000,
           207763
          ],
          [
           1010,
           208862
          ],
          [
           1020,
           211986
          ],
          [
           1030,
           213063
          ],
          [
           1040,
           215196
          ],
          [
           1050,
           217287
          ],
          [
           1060,
           219398
          ],
          [
           1070,
           221530
          ],
          [
           1080,
           223623
          ],
          [
           1090,
           225732
          ],
          [
           1100,
           227844
          ],
          [
           1110,
           228943
          ],
          [
           1120,
           232318
          ],
          [
           1130,
           233678
          ],
          [
           1140,
           236803
          ],
          [
           1150,
           238916
          ],
          [
           1160,
           240015
          ],
          [
           1170,
           242384
          ],
          [
           1180,
           244473
          ],
          [
           1190,
           247618
          ],
          [
           1200,
           248696
          ],
          [
           1210,
           250805
          ],
          [
           1220,
           252917
          ],
          [
           1230,
           255028
          ],
          [
           1240,
           257138
          ],
          [
           1250,
           258491
          ],
          [
           1260,
           261614
          ],
          [
           1270,
           263726
          ],
          [
           1280,
           264826
          ],
          [
           1290,
           267949
          ],
          [
           1300,
           269025
          ],
          [
           1310,
           271159
          ],
          [
           1320,
           273754
          ],
          [
           1330,
           275889
          ],
          [
           1340,
           277979
          ],
          [
           1350,
           280089
          ],
          [
           1360,
           282202
          ],
          [
           1370,
           283301
          ],
          [
           1380,
           286425
          ],
          [
           1390,
           288537
          ],
          [
           1400,
           289634
          ],
          [
           1410,
           293010
          ],
          [
           1420,
           294089
          ],
          [
           1430,
           297235
          ],
          [
           1440,
           298312
          ],
          [
           1450,
           300423
          ],
          [
           1460,
           302534
          ],
          [
           1470,
           304647
          ],
          [
           1480,
           306758
          ],
          [
           1490,
           308870
          ],
          [
           1500,
           310983
          ],
          [
           1510,
           312082
          ],
          [
           1520,
           314462
          ],
          [
           1530,
           317584
          ],
          [
           1540,
           318662
          ],
          [
           1550,
           320795
          ],
          [
           1560,
           322885
          ],
          [
           1570,
           324997
          ],
          [
           1580,
           327109
          ],
          [
           1590,
           328208
          ],
          [
           1600,
           331332
          ],
          [
           1610,
           333443
          ],
          [
           1620,
           334544
          ],
          [
           1630,
           337668
          ],
          [
           1640,
           338745
          ],
          [
           1650,
           340878
          ],
          [
           1660,
           342970
          ],
          [
           1670,
           345080
          ],
          [
           1680,
           347191
          ],
          [
           1690,
           348291
          ],
          [
           1700,
           351416
          ],
          [
           1710,
           353528
          ],
          [
           1720,
           355896
          ],
          [
           1730,
           356995
          ],
          [
           1740,
           359086
          ],
          [
           1750,
           362233
          ],
          [
           1760,
           363566
          ],
          [
           1770,
           365698
          ],
          [
           1780,
           367790
          ],
          [
           1790,
           369901
          ],
          [
           1800,
           372012
          ],
          [
           1810,
           373110
          ],
          [
           1820,
           376236
          ],
          [
           1830,
           378349
          ],
          [
           1840,
           379448
          ],
          [
           1850,
           382574
          ],
          [
           1860,
           383651
          ],
          [
           1870,
           385784
          ],
          [
           1880,
           388155
          ],
          [
           1890,
           390528
          ],
          [
           1900,
           392618
          ],
          [
           1910,
           394990
          ],
          [
           1920,
           397100
          ],
          [
           1930,
           399211
          ],
          [
           1940,
           401322
          ],
          [
           1950,
           403437
          ],
          [
           1960,
           405549
          ],
          [
           1970,
           407924
          ],
          [
           1980,
           409026
          ],
          [
           1990,
           412150
          ],
          [
           2000,
           413227
          ],
          [
           2010,
           415362
          ],
          [
           2020,
           417452
          ],
          [
           2030,
           419562
          ],
          [
           2040,
           421695
          ],
          [
           2050,
           423784
          ],
          [
           2060,
           425898
          ],
          [
           2070,
           428011
          ],
          [
           2080,
           430391
          ],
          [
           2090,
           432501
          ],
          [
           2100,
           434616
          ],
          [
           2110,
           436729
          ],
          [
           2120,
           437827
          ],
          [
           2130,
           439916
          ],
          [
           2140,
           442031
          ],
          [
           2150,
           444143
          ],
          [
           2160,
           446253
          ],
          [
           2170,
           448366
          ],
          [
           2180,
           450479
          ],
          [
           2190,
           452591
          ],
          [
           2200,
           453670
          ],
          [
           2210,
           456814
          ],
          [
           2220,
           457915
          ],
          [
           2230,
           460006
          ],
          [
           2240,
           462116
          ],
          [
           2250,
           464228
          ],
          [
           2260,
           466338
          ],
          [
           2270,
           468453
          ],
          [
           2280,
           470563
          ],
          [
           2290,
           472672
          ],
          [
           2300,
           473754
          ],
          [
           2310,
           476898
          ],
          [
           2320,
           479273
          ],
          [
           2330,
           480372
          ],
          [
           2340,
           482462
          ],
          [
           2350,
           484577
          ],
          [
           2360,
           486709
          ],
          [
           2370,
           488799
          ],
          [
           2380,
           490912
          ],
          [
           2390,
           493023
          ],
          [
           2400,
           494123
          ],
          [
           2410,
           497249
          ],
          [
           2420,
           498326
          ],
          [
           2430,
           500459
          ],
          [
           2440,
           502552
          ],
          [
           2450,
           504664
          ],
          [
           2460,
           508064
          ],
          [
           2470,
           509141
          ],
          [
           2480,
           511258
          ],
          [
           2490,
           513368
          ],
          [
           2500,
           515479
          ],
          [
           2510,
           517589
          ],
          [
           2520,
           518668
          ],
          [
           2530,
           521817
          ],
          [
           2540,
           524194
          ],
          [
           2550,
           525291
          ],
          [
           2560,
           527384
          ],
          [
           2570,
           529495
          ],
          [
           2580,
           531627
          ],
          [
           2590,
           533722
          ],
          [
           2600,
           535835
          ],
          [
           2610,
           537948
          ]
         ],
         "tickvals": [
          0,
          10,
          20,
          30,
          40,
          50,
          60,
          70,
          80,
          90,
          100,
          110,
          120,
          130,
          140,
          150,
          160,
          170,
          180,
          190,
          200,
          210,
          220,
          230,
          240,
          250,
          260,
          270,
          280,
          290,
          300,
          310,
          320,
          330,
          340,
          350,
          360,
          370,
          380,
          390,
          400,
          410,
          420,
          430,
          440,
          450,
          460,
          470,
          480,
          490,
          500,
          510,
          520,
          530,
          540,
          550,
          560,
          570,
          580,
          590,
          600,
          610,
          620,
          630,
          640,
          650,
          660,
          670,
          680,
          690,
          700,
          710,
          720,
          730,
          740,
          750,
          760,
          770,
          780,
          790,
          800,
          810,
          820,
          830,
          840,
          850,
          860,
          870,
          880,
          890,
          900,
          910,
          920,
          930,
          940,
          950,
          960,
          970,
          980,
          990,
          1000,
          1010,
          1020,
          1030,
          1040,
          1050,
          1060,
          1070,
          1080,
          1090,
          1100,
          1110,
          1120,
          1130,
          1140,
          1150,
          1160,
          1170,
          1180,
          1190,
          1200,
          1210,
          1220,
          1230,
          1240,
          1250,
          1260,
          1270,
          1280,
          1290,
          1300,
          1310,
          1320,
          1330,
          1340,
          1350,
          1360,
          1370,
          1380,
          1390,
          1400,
          1410,
          1420,
          1430,
          1440,
          1450,
          1460,
          1470,
          1480,
          1490,
          1500,
          1510,
          1520,
          1530,
          1540,
          1550,
          1560,
          1570,
          1580,
          1590,
          1600,
          1610,
          1620,
          1630,
          1640,
          1650,
          1660,
          1670,
          1680,
          1690,
          1700,
          1710,
          1720,
          1730,
          1740,
          1750,
          1760,
          1770,
          1780,
          1790,
          1800,
          1810,
          1820,
          1830,
          1840,
          1850,
          1860,
          1870,
          1880,
          1890,
          1900,
          1910,
          1920,
          1930,
          1940,
          1950,
          1960,
          1970,
          1980,
          1990,
          2000,
          2010,
          2020,
          2030,
          2040,
          2050,
          2060,
          2070,
          2080,
          2090,
          2100,
          2110,
          2120,
          2130,
          2140,
          2150,
          2160,
          2170,
          2180,
          2190,
          2200,
          2210,
          2220,
          2230,
          2240,
          2250,
          2260,
          2270,
          2280,
          2290,
          2300,
          2310,
          2320,
          2330,
          2340,
          2350,
          2360,
          2370,
          2380,
          2390,
          2400,
          2410,
          2420,
          2430,
          2440,
          2450,
          2460,
          2470,
          2480,
          2490,
          2500,
          2510,
          2520,
          2530,
          2540,
          2550,
          2560,
          2570,
          2580,
          2590,
          2600,
          2610
         ],
         "title": {
          "font": {
           "size": 20
          },
          "text": "Number of events"
         },
         "type": "linear"
        },
        "yaxis": {
         "color": "black",
         "gridcolor": "lightgrey",
         "linecolor": "black",
         "mirror": true,
         "showline": true,
         "tickfont": {
          "size": 20
         },
         "ticks": "outside",
         "ticktext": [
          "1-0-main-ow",
          "1-0-main-temp",
          "1-0-main-lora",
          "1-0-main-s",
          "1-0-main-com_timer",
          "1-control-init_timer0-0",
          "1-0-main-i",
          "1-0-sense-temperature",
          "1-0-main-temperature",
          "1-control-updatedata-cls.sensor_data",
          "1-control-readdata-0",
          "1-0-loracom-data",
          "1-control-update_txmsg-0",
          "1-0-main-g_ack",
          "1-0-main-events",
          "1-control-update_rxmsg-drop"
         ],
         "tickvals": [
          0,
          1,
          2,
          3,
          4,
          5,
          6,
          7,
          8,
          9,
          10,
          11,
          12,
          13,
          14,
          15
         ],
         "title": {
          "font": {
           "size": 20
          },
          "text": "Variables"
         }
        }
       }
      }
     },
     "metadata": {},
     "output_type": "display_data"
    },
    {
     "name": "stdout",
     "output_type": "stream",
     "text": [
      "test_data: ../trace_data/theft_protection/single_thread/version_3/faulty_data/trace3-bitflip\n",
      "detections: [[(14, 6), (29401, 29405), 'trace3-bitflip'], [(14, 6), (30461, 30466), 'trace3-bitflip'], [(14, 6), (31521, 31526), 'trace3-bitflip'], [(12, 13), (32585, 32590), 'trace3-bitflip'], [(14, 6), (32594, 32599), 'trace3-bitflip'], [(14, 6), (34719, 34723), 'trace3-bitflip'], [(14, 6), (35779, 35783), 'trace3-bitflip'], [(14, 6), (36839, 36843), 'trace3-bitflip'], [(12, 13), (37903, 37908), 'trace3-bitflip'], [(14, 6), (37912, 37917), 'trace3-bitflip'], [(14, 6), (38974, 38978), 'trace3-bitflip'], [(14, 6), (41098, 41103), 'trace3-bitflip'], [(12, 13), (42164, 42168), 'trace3-bitflip'], [(14, 6), (42173, 42177), 'trace3-bitflip'], [(14, 6), (44297, 44302), 'trace3-bitflip'], [(14, 6), (45358, 45362), 'trace3-bitflip'], [(14, 6), (46418, 46422), 'trace3-bitflip'], [(12, 13), (47483, 47487), 'trace3-bitflip'], [(14, 6), (47492, 47496), 'trace3-bitflip'], [(14, 6), (49617, 49621), 'trace3-bitflip'], [(14, 6), (50677, 50681), 'trace3-bitflip'], [(14, 6), (51737, 51741), 'trace3-bitflip'], [(12, 13), (52802, 52807), 'trace3-bitflip'], [(14, 6), (52812, 52816), 'trace3-bitflip'], [(14, 6), (54938, 54942), 'trace3-bitflip'], [(14, 6), (55998, 56002), 'trace3-bitflip'], [(12, 13), (57062, 57067), 'trace3-bitflip'], [(14, 6), (57071, 57075), 'trace3-bitflip'], [(8, 10), (157448, 158333), 'trace3-bitflip'], [(8, 13), (168908, 169172), 'trace3-bitflip'], [(8, 13), (183967, 184228), 'trace3-bitflip'], [(8, 10), (202188, 202447), 'trace3-bitflip'], [(14, 6), (239471, 239476), 'trace3-bitflip'], [(14, 6), (240532, 240537), 'trace3-bitflip'], [(14, 6), (241593, 241597), 'trace3-bitflip'], [(12, 13), (242658, 242662), 'trace3-bitflip'], [(14, 6), (242667, 242672), 'trace3-bitflip'], [(14, 6), (244792, 244796), 'trace3-bitflip'], [(14, 6), (245852, 245857), 'trace3-bitflip'], [(14, 6), (246914, 246919), 'trace3-bitflip'], [(12, 13), (247980, 247984), 'trace3-bitflip'], [(14, 6), (247989, 247993), 'trace3-bitflip'], [(14, 6), (250113, 250118), 'trace3-bitflip'], [(14, 6), (251174, 251179), 'trace3-bitflip'], [(12, 13), (252239, 252243), 'trace3-bitflip'], [(14, 6), (252248, 252252), 'trace3-bitflip'], [(14, 6), (254373, 254379), 'trace3-bitflip'], [(14, 6), (255434, 255438), 'trace3-bitflip'], [(14, 6), (256494, 256498), 'trace3-bitflip'], [(12, 13), (257560, 257564), 'trace3-bitflip'], [(14, 6), (257569, 257573), 'trace3-bitflip'], [(14, 6), (259695, 259699), 'trace3-bitflip'], [(14, 6), (260754, 260758), 'trace3-bitflip'], [(14, 6), (261816, 261820), 'trace3-bitflip'], [(12, 13), (262880, 262885), 'trace3-bitflip'], [(14, 6), (262890, 262894), 'trace3-bitflip'], [(14, 6), (265014, 265019), 'trace3-bitflip'], [(14, 6), (266074, 266078), 'trace3-bitflip'], [(12, 13), (267139, 267144), 'trace3-bitflip'], [(14, 6), (267149, 267153), 'trace3-bitflip'], [(14, 6), (269277, 269282), 'trace3-bitflip'], [(14, 6), (270337, 270341), 'trace3-bitflip'], [(8, 13), (288307, 288556), 'trace3-bitflip'], [(8, 6), (399586, 399851), 'trace3-bitflip'], [(14, 6), (454846, 454851), 'trace3-bitflip'], [(14, 6), (455906, 455910), 'trace3-bitflip'], [(12, 13), (456971, 456976), 'trace3-bitflip'], [(14, 6), (456980, 456984), 'trace3-bitflip'], [(14, 6), (459107, 459112), 'trace3-bitflip'], [(14, 6), (460168, 460172), 'trace3-bitflip'], [(14, 6), (461228, 461232), 'trace3-bitflip'], [(12, 13), (462295, 462300), 'trace3-bitflip'], [(14, 6), (462304, 462309), 'trace3-bitflip'], [(14, 6), (464431, 464435), 'trace3-bitflip'], [(14, 6), (465491, 465496), 'trace3-bitflip'], [(14, 6), (466551, 466555), 'trace3-bitflip'], [(12, 13), (467616, 467620), 'trace3-bitflip'], [(14, 6), (467625, 467629), 'trace3-bitflip'], [(14, 6), (469752, 469757), 'trace3-bitflip'], [(14, 6), (470813, 470818), 'trace3-bitflip'], [(14, 6), (471873, 471877), 'trace3-bitflip'], [(12, 13), (472938, 472943), 'trace3-bitflip'], [(14, 6), (472947, 472952), 'trace3-bitflip'], [(14, 6), (475075, 475080), 'trace3-bitflip'], [(14, 6), (476136, 476141), 'trace3-bitflip'], [(12, 13), (477201, 477206), 'trace3-bitflip'], [(14, 6), (477210, 477215), 'trace3-bitflip'], [(14, 6), (479335, 479339), 'trace3-bitflip'], [(14, 6), (480400, 480405), 'trace3-bitflip'], [(14, 6), (481461, 481466), 'trace3-bitflip'], [(12, 13), (482525, 482530), 'trace3-bitflip'], [(14, 6), (482534, 482539), 'trace3-bitflip']]\n",
      "../trace_data/theft_protection/single_thread/version_3/faulty_data/trace3-bitflip trace3-bitflip\n",
      "timestamps: [1369, 1397, 1418, 1423, 1931, 1935, 1939, 1964, 2981, 2985, 2990, 3015, 4032, 4036, 4040, 4065, 5083, 5087, 5091, 5116, 6132, 6137, 6141, 6166, 7183, 7187, 7190, 7196, 7201, 7205, 7231, 8248, 8252, 8257, 8261, 8265, 8270, 8295, 9312, 9316, 9320, 9346, 10363, 10367, 10371, 10396, 11414, 11418, 11423, 11448, 12464, 12469, 12472, 12477, 12482, 12487, 12512, 13529, 13533, 13537, 13542, 13545, 13550, 13575, 14593, 14597, 14602, 14627, 15643, 15648, 15652, 15677, 16694, 16698, 16702, 16727, 17745, 17749, 17752, 17757, 17762, 17767, 17792, 18810, 18814, 18819, 18823, 18827, 18832, 18857, 19874, 19878, 19882, 19908, 20925, 20929, 20933, 20958, 21976, 21980, 21983, 21988, 21993, 21998, 22023, 23041, 23045, 23050, 23054, 23058, 23063, 23088, 24105, 24109, 24113, 24139, 25156, 25160, 25164, 25189, 26207, 26211, 26215, 26240, 27258, 27262, 27265, 27271, 27275, 27280, 27306, 28323, 28327, 28332, 28336, 28340, 28345, 28370, 29388, 29392, 29396, 29401, 29405, 29431, 30448, 30452, 30456, 30461, 30466, 30491, 31508, 31512, 31517, 31521, 31526, 31551, 32568, 32572, 32575, 32580, 32585, 32590, 32594, 32599, 32624, 33642, 33646, 33651, 33655, 33659, 33664, 33689, 34706, 34710, 34714, 34719, 34723, 34748, 35766, 35770, 35774, 35779, 35783, 35809, 36826, 36830, 36835, 36839, 36843, 36869, 37886, 37890, 37893, 37898, 37903, 37908, 37912, 37917, 37943, 38960, 38965, 38969, 38974, 38978, 39003, 40021, 40025, 40029, 40034, 40037, 40042, 40067, 41085, 41089, 41094, 41098, 41103, 41128, 42146, 42150, 42154, 42159, 42164, 42168, 42173, 42177, 42202, 43220, 43224, 43228, 43233, 43237, 43241, 43267, 44284, 44288, 44293, 44297, 44302, 44327, 45345, 45349, 45353, 45358, 45362, 45388, 46405, 46409, 46413, 46418, 46422, 46448, 47465, 47469, 47472, 47478, 47483, 47487, 47492, 47496, 47521, 48539, 48543, 48547, 48552, 48556, 48561, 48586, 49603, 49607, 49612, 49617, 49621, 49647, 50663, 50668, 50672, 50677, 50681, 50706, 51724, 51728, 51733, 51737, 51741, 51767, 52784, 52788, 52792, 52797, 52802, 52807, 52812, 52816, 52841, 53859, 53863, 53867, 53872, 53876, 53881, 53906, 54924, 54928, 54933, 54938, 54942, 54968, 55985, 55989, 55993, 55998, 56002, 56027, 57045, 57049, 57052, 57057, 57062, 57067, 57071, 57075, 57101, 58118, 58122, 58127, 58131, 58135, 58140, 58165, 59182, 59186, 59190, 59216, 60233, 60237, 60242, 60268, 61285, 61289, 61294, 61319, 62335, 62340, 62343, 62349, 62353, 62358, 62383, 63401, 63405, 63410, 63414, 63418, 63423, 63448, 64466, 64470, 64475, 64500, 65517, 65521, 65525, 65550, 66568, 66572, 66576, 66602, 67619, 67623, 67626, 67631, 67636, 67641, 67666, 68683, 68687, 68691, 68696, 68700, 68705, 68730, 69747, 69751, 69755, 69781, 70798, 70802, 70806, 70832, 71850, 71854, 71858, 71883, 72900, 72904, 72907, 72912, 72917, 72922, 72948, 73964, 73969, 73973, 73978, 73981, 73986, 74012, 75030, 75034, 75038, 75064, 76081, 76085, 76090, 76115, 77132, 77136, 77139, 77144, 77150, 77155, 77180, 78197, 78201, 78205, 78210, 78213, 78218, 78243, 79261, 79265, 79269, 79295, 80312, 80316, 80320, 80346, 81363, 81367, 81372, 81398, 82415, 82419, 82422, 82427, 82432, 82437, 82462, 83479, 83483, 83488, 83492, 83496, 83500, 83526, 84542, 84547, 84551, 84576, 85594, 85598, 85602, 85627, 86645, 86650, 86655, 86681, 87698, 87702, 87705, 87711, 87715, 87720, 87745, 88763, 88767, 88771, 88776, 88780, 88784, 88810, 89827, 89831, 89835, 89861, 90877, 90882, 90886, 90911, 91929, 91933, 91937, 91942, 91947, 91952, 91977, 92994, 92998, 93002, 93028, 94045, 94049, 94053, 94058, 94063, 94067, 94093, 95110, 95114, 95118, 95143, 96160, 96164, 96168, 96194, 97212, 97216, 97220, 97225, 97230, 97234, 97260, 98277, 98281, 98286, 98290, 98294, 98299, 98324, 99341, 99345, 99349, 99375, 100393, 100397, 100402, 100427, 101444, 101448, 101452, 101477, 102495, 102499, 102502, 102508, 102513, 102518, 102543, 103561, 103565, 103569, 103595, 104611, 104616, 104621, 104646, 105663, 105667, 105671, 105697, 106713, 106718, 106722, 106747, 107765, 107769, 107773, 107778, 107783, 107787, 107812, 108830, 108834, 108838, 108843, 108846, 108852, 108877, 109894, 109899, 109903, 109929, 110946, 110950, 110955, 110980, 111997, 112001, 112004, 112010, 112015, 112020, 112045, 113063, 113067, 113071, 113076, 113080, 113085, 113111, 114128, 114132, 114137, 114162, 115179, 115183, 115187, 115213, 116230, 116234, 116238, 116263, 117281, 117285, 117289, 117294, 117298, 117303, 117329, 118346, 118350, 118355, 118359, 118363, 118368, 118394, 119411, 119415, 119419, 119444, 120462, 120466, 120470, 120496, 121512, 121517, 121521, 121546, 122564, 122569, 122572, 122577, 122582, 122586, 122612, 123629, 123633, 123638, 123642, 123647, 123652, 123678, 124695, 124699, 124704, 124729, 125745, 125750, 125754, 125779, 126796, 126800, 126804, 126830, 127848, 127852, 127855, 127861, 127866, 127871, 127896, 128913, 128917, 128922, 128927, 128931, 128936, 128961, 129978, 129982, 129986, 130012, 131029, 131033, 131037, 131062, 132080, 132084, 132087, 132092, 132097, 132102, 132127, 133143, 133149, 133153, 133157, 133161, 133166, 133192, 134209, 134213, 134218, 134243, 135261, 135265, 135269, 135295, 136311, 136316, 136320, 136345, 137363, 137367, 137371, 137376, 137381, 137386, 137411, 138429, 138433, 138437, 138442, 138446, 138450, 138476, 139492, 139497, 139501, 139528, 140544, 140549, 140553, 140578, 141596, 141600, 141604, 141630, 142646, 142651, 142654, 142659, 142664, 142668, 142694, 143712, 143716, 143721, 143725, 143729, 143734, 143759, 144775, 144780, 144785, 144810, 145828, 145832, 145836, 145861, 146879, 146883, 146887, 146912, 147930, 147934, 147937, 147942, 147947, 147952, 147978, 148995, 148999, 149003, 149008, 149012, 149017, 149043, 150061, 150066, 150071, 150096, 151112, 151117, 151121, 151146, 152164, 152168, 152171, 152177, 152182, 152186, 152213, 153230, 153234, 153238, 153243, 153247, 153252, 153278, 154295, 154299, 154303, 154329, 155346, 155350, 155354, 155380, 156397, 156401, 156405, 156431, 157448, 158333, 158339, 158343, 158348, 158374, 159392, 159396, 159400, 159405, 159409, 159414, 159439, 160456, 160460, 160464, 160490, 161508, 161512, 161517, 161542, 162558, 162563, 162567, 162572, 162576, 162581, 162607, 163624, 163628, 163632, 163637, 163641, 163645, 163671, 164688, 164692, 164697, 164723, 165740, 165744, 165748, 165774, 166791, 166795, 166799, 166825, 167841, 167846, 167849, 167854, 167859, 167865, 167890, 168908, 169172, 169176, 169180, 169185, 169210, 170228, 170232, 170236, 170262, 171279, 171283, 171288, 171314, 172331, 172335, 172338, 172344, 172348, 172353, 172378, 173396, 173400, 173404, 173409, 173413, 173418, 173444, 174461, 174465, 174469, 174494, 175512, 175517, 175521, 175547, 176564, 176568, 176573, 176598, 177616, 177620, 177624, 177630, 177635, 177640, 177665, 178683, 178687, 178692, 178696, 178700, 178705, 178730, 179747, 179751, 179755, 179781, 180798, 180802, 180806, 180832, 181848, 181854, 181858, 181883, 182901, 182905, 182909, 182914, 182919, 182923, 182949, 183967, 184228, 184232, 184237, 184242, 184268, 185286, 185290, 185295, 185320, 186337, 186341, 186345, 186370, 187388, 187392, 187395, 187401, 187405, 187410, 187436, 188454, 188458, 188463, 188467, 188471, 188476, 188502, 189519, 189523, 189527, 189552, 190570, 190574, 190578, 190603, 191620, 191624, 191628, 191654, 192671, 192675, 192679, 192684, 192689, 192694, 192719, 193737, 193741, 193746, 193750, 193754, 193759, 193784, 194802, 194806, 194810, 194836, 195852, 195857, 195861, 195886, 196903, 196907, 196912, 196938, 197955, 197959, 197962, 197967, 197972, 197977, 198002, 199020, 199024, 199029, 199033, 199037, 199042, 199068, 200085, 200089, 200093, 200119, 201136, 201141, 201145, 201171, 202188, 202447, 202452, 202457, 202462, 202488, 203505, 203509, 203514, 203518, 203522, 203527, 203554, 204572, 204576, 204581, 204606, 205623, 205627, 205631, 205656, 206674, 206678, 206682, 206708, 207724, 207729, 207732, 207737, 207742, 207747, 207772, 208791, 208795, 208800, 208804, 208808, 208813, 208839, 209856, 209860, 209865, 209890, 210907, 210911, 210915, 210941, 211958, 211962, 211965, 211971, 211975, 211981, 212006, 213024, 213028, 213033, 213037, 213041, 213046, 213072, 214088, 214093, 214097, 214123, 215140, 215144, 215150, 215175, 216192, 216196, 216200, 216226, 217243, 217247, 217250, 217255, 217260, 217265, 217290, 218307, 218311, 218315, 218320, 218324, 218328, 218354, 219371, 219375, 219380, 219405, 220423, 220428, 220433, 220458, 221475, 221479, 221484, 221509, 222526, 222530, 222533, 222538, 222543, 222548, 222573, 223591, 223595, 223599, 223604, 223608, 223613, 223639, 224656, 224660, 224664, 224690, 225708, 225712, 225717, 225742, 226759, 226763, 226768, 226793, 227810, 227814, 227817, 227823, 227827, 227832, 227858, 228875, 228879, 228883, 228888, 228891, 228896, 228922, 229939, 229943, 229948, 229974, 230992, 230996, 231001, 231026, 232043, 232047, 232051, 232056, 232060, 232065, 232090, 233108, 233112, 233117, 233142, 234159, 234163, 234167, 234172, 234176, 234181, 234206, 235224, 235228, 235234, 235259, 236277, 236281, 236285, 236311, 237328, 237332, 237335, 237340, 237345, 237350, 237375, 238393, 238397, 238402, 238406, 238410, 238415, 238440, 239458, 239462, 239467, 239471, 239476, 239502, 240519, 240523, 240528, 240532, 240537, 240563, 241580, 241584, 241588, 241593, 241597, 241623, 242640, 242644, 242648, 242653, 242658, 242662, 242667, 242672, 242698, 243715, 243719, 243723, 243728, 243732, 243736, 243762, 244779, 244783, 244787, 244792, 244796, 244822, 245839, 245843, 245848, 245852, 245857, 245883, 246901, 246905, 246910, 246914, 246919, 246944, 247962, 247966, 247970, 247975, 247980, 247984, 247989, 247993, 248019, 249036, 249040, 249044, 249049, 249053, 249057, 249083, 250100, 250104, 250108, 250113, 250118, 250143, 251159, 251165, 251169, 251174, 251179, 251204, 252221, 252225, 252229, 252234, 252239, 252243, 252248, 252252, 252278, 253296, 253300, 253304, 253309, 253313, 253318, 253343, 254360, 254364, 254368, 254373, 254379, 254404, 255421, 255425, 255429, 255434, 255438, 255464, 256480, 256485, 256489, 256494, 256498, 256524, 257541, 257547, 257550, 257555, 257560, 257564, 257569, 257573, 257599, 258617, 258621, 258625, 258630, 258634, 258639, 258664, 259681, 259686, 259690, 259695, 259699, 259724, 260741, 260745, 260749, 260754, 260758, 260784, 261801, 261805, 261810, 261816, 261820, 261846, 262863, 262867, 262871, 262876, 262880, 262885, 262890, 262894, 262920, 263937, 263941, 263945, 263950, 263954, 263959, 263984, 265001, 265005, 265010, 265014, 265019, 265044, 266061, 266065, 266069, 266074, 266078, 266105, 267122, 267126, 267130, 267135, 267139, 267144, 267149, 267153, 267179, 268197, 268201, 268206, 268210, 268214, 268220, 268246, 269264, 269268, 269273, 269277, 269282, 269307, 270323, 270328, 270332, 270337, 270341, 270366, 271384, 271388, 271392, 271418, 272435, 272439, 272443, 272448, 272453, 272458, 272484, 273502, 273506, 273511, 273515, 273519, 273524, 273549, 274567, 274571, 274575, 274602, 275619, 275623, 275627, 275652, 276670, 276674, 276678, 276704, 277721, 277725, 277729, 277734, 277739, 277744, 277770, 278788, 278792, 278797, 278801, 278807, 278812, 278837, 279854, 279858, 279863, 279888, 280905, 280909, 280913, 280939, 281956, 281960, 281963, 281969, 281973, 281978, 282003, 283020, 283025, 283029, 283034, 283038, 283043, 283069, 284088, 284092, 284097, 284122, 285140, 285144, 285148, 285174, 286191, 286195, 286199, 286225, 287242, 287246, 287249, 287254, 287259, 287264, 287289, 288307, 288556, 288561, 288565, 288569, 288595, 289613, 289617, 289622, 289647, 290665, 290671, 290675, 290700, 291718, 291722, 291727, 291752, 292769, 292773, 292776, 292782, 292787, 292791, 292817, 293834, 293838, 293843, 293847, 293851, 293856, 293881, 294899, 294903, 294908, 294933, 295952, 295956, 295961, 295986, 297003, 297007, 297010, 297015, 297020, 297025, 297050, 298066, 298071, 298075, 298080, 298083, 298088, 298113, 299131, 299135, 299139, 299165, 300183, 300187, 300192, 300218, 301235, 301239, 301244, 301269, 302286, 302290, 302293, 302299, 302304, 302310, 302336, 303354, 303358, 303363, 303367, 303371, 303376, 303402, 304420, 304424, 304429, 304454, 305472, 305476, 305481, 305506, 306523, 306527, 306531, 306557, 307574, 307578, 307581, 307587, 307593, 307598, 307623, 308640, 308644, 308648, 308653, 308656, 308661, 308687, 309705, 309709, 309713, 309739, 310756, 310760, 310765, 310790, 311808, 311812, 311818, 311843, 312860, 312864, 312867, 312872, 312877, 312882, 312907, 313925, 313929, 313933, 313938, 313942, 313946, 313972, 314989, 314993, 314997, 315023, 316041, 316045, 316050, 316075, 317093, 317097, 317100, 317106, 317110, 317115, 317141, 318158, 318162, 318166, 318192, 319211, 319215, 319220, 319224, 319228, 319233, 319259, 320276, 320280, 320284, 320310, 321327, 321331, 321336, 321361, 322378, 322382, 322386, 322392, 322396, 322401, 322427, 323444, 323448, 323453, 323457, 323461, 323466, 323491, 324509, 324514, 324519, 324544, 325561, 325565, 325569, 325595, 326613, 326617, 326622, 326647, 327664, 327668, 327671, 327676, 327681, 327686, 327711, 328729, 328733, 328737, 328742, 328746, 328751, 328777, 329795, 329799, 329804, 329829, 330846, 330850, 330855, 330880, 331898, 331902, 331907, 331932, 332950, 332954, 332957, 332962, 332967, 332972, 332997, 334014, 334018, 334023, 334027, 334031, 334036, 334061, 335079, 335083, 335087, 335113, 336132, 336136, 336141, 336166, 337183, 337187, 337191, 337196, 337201, 337206, 337231, 338249, 338253, 338257, 338262, 338266, 338270, 338296, 339313, 339317, 339321, 339347, 340363, 340368, 340372, 340397, 341414, 341418, 341422, 341447, 342467, 342472, 342475, 342481, 342486, 342490, 342516, 343533, 343537, 343541, 343546, 343550, 343555, 343580, 344597, 344601, 344605, 344631, 345648, 345652, 345657, 345682, 346699, 346703, 346707, 346733, 347750, 347754, 347758, 347763, 347770, 347774, 347800, 348818, 348822, 348827, 348831, 348835, 348840, 348865, 349883, 349887, 349891, 349916, 350934, 350938, 350942, 350968, 351985, 351989, 351992, 351998, 352003, 352008, 352033, 353051, 353055, 353060, 353065, 353069, 353074, 353099, 354117, 354121, 354126, 354151, 355168, 355173, 355177, 355202, 356220, 356224, 356228, 356254, 357270, 357277, 357280, 357285, 357290, 357295, 357320, 358338, 358342, 358347, 358352, 358356, 358360, 358386, 359403, 359407, 359411, 359437, 360454, 360458, 360462, 360488, 361505, 361509, 361513, 361539, 362556, 362560, 362563, 362569, 362573, 362580, 362605, 363623, 363627, 363632, 363637, 363640, 363645, 363670, 364688, 364692, 364696, 364722, 365739, 365743, 365747, 365772, 366790, 366794, 366799, 366824, 367841, 367845, 367848, 367853, 367858, 367863, 367889, 368906, 368910, 368917, 368922, 368925, 368930, 368956, 369973, 369977, 369981, 370007, 371024, 371028, 371032, 371058, 372075, 372079, 372083, 372088, 372092, 372097, 372122, 373140, 373144, 373148, 373153, 373157, 373162, 373187, 374205, 374209, 374214, 374240, 375257, 375261, 375265, 375290, 376308, 376312, 376316, 376341, 377358, 377363, 377366, 377371, 377376, 377381, 377409, 378427, 378431, 378436, 378441, 378445, 378450, 378475, 379493, 379498, 379503, 379528, 380545, 380549, 380553, 380579, 381596, 381600, 381605, 381630, 382648, 382652, 382655, 382660, 382665, 382670, 382695, 383712, 383717, 383721, 383726, 383730, 383734, 383761, 384779, 384786, 384790, 384816, 385833, 385837, 385841, 385867, 386884, 386888, 386892, 386918, 387934, 387939, 387942, 387947, 387952, 387957, 387982, 388999, 389003, 389007, 389012, 389016, 389020, 389046, 390064, 390068, 390073, 390099, 391116, 391122, 391127, 391152, 392169, 392173, 392176, 392181, 392186, 392191, 392216, 393234, 393238, 393242, 393268, 394286, 394290, 394294, 394299, 394303, 394308, 394333, 395351, 395356, 395361, 395387, 396405, 396409, 396413, 396439, 397456, 397460, 397463, 397469, 397473, 397478, 397503, 398521, 398525, 398529, 398534, 398538, 398543, 398568, 399586, 399851, 399879, 400897, 400901, 400906, 400931, 401948, 401952, 401956, 401961, 401965, 401970, 401996, 403013, 403017, 403021, 403026, 403030, 403035, 403060, 404078, 404082, 404087, 404113, 405130, 405134, 405139, 405164, 406182, 406186, 406191, 406218, 407236, 407240, 407244, 407249, 407254, 407259, 407284, 408301, 408305, 408309, 408314, 408317, 408323, 408348, 409364, 409369, 409373, 409398, 410414, 410419, 410423, 410449, 411466, 411470, 411475, 411500, 412518, 412522, 412526, 412531, 412536, 412541, 412566, 413583, 413587, 413591, 413596, 413600, 413604, 413630, 414647, 414651, 414655, 414681, 415700, 415704, 415709, 415734, 416752, 416756, 416761, 416786, 417803, 417807, 417811, 417817, 417821, 417826, 417852, 418869, 418873, 418878, 418882, 418886, 418891, 418916, 419932, 419937, 419941, 419966, 420983, 420987, 420991, 421017, 422037, 422042, 422045, 422050, 422055, 422060, 422085, 423102, 423106, 423111, 423115, 423119, 423124, 423149, 424167, 424171, 424176, 424201, 425218, 425222, 425226, 425252, 426269, 426273, 426277, 426303, 427320, 427325, 427328, 427333, 427338, 427343, 427369, 428386, 428390, 428396, 428400, 428404, 428409, 428434, 429452, 429456, 429461, 429486, 430504, 430508, 430512, 430538, 431555, 431559, 431566, 431591, 432609, 432613, 432617, 432622, 432627, 432631, 432656, 433674, 433678, 433683, 433687, 433691, 433696, 433722, 434739, 434743, 434748, 434773, 435790, 435794, 435798, 435823, 436840, 436844, 436848, 436874, 437892, 437896, 437902, 437907, 437912, 437917, 437943, 438960, 438964, 438969, 438974, 438977, 438982, 439007, 440025, 440029, 440033, 440059, 441076, 441080, 441085, 441110, 442127, 442131, 442135, 442140, 442145, 442149, 442175, 443193, 443197, 443202, 443207, 443210, 443215, 443241, 444258, 444262, 444267, 444293, 445309, 445314, 445321, 445346, 446363, 446367, 446371, 446397, 447413, 447418, 447421, 447426, 447431, 447436, 447461, 448479, 448483, 448488, 448492, 448496, 448501, 448526, 449544, 449548, 449552, 449578, 450594, 450599, 450603, 450629, 451646, 451650, 451654, 451680, 452697, 452701, 452704, 452710, 452715, 452720, 452746, 453764, 453771, 453776, 453780, 453784, 453790, 453815, 454832, 454836, 454841, 454846, 454851, 454876, 455893, 455897, 455901, 455906, 455910, 455935, 456953, 456957, 456961, 456966, 456971, 456976, 456980, 456984, 457010, 458028, 458032, 458036, 458041, 458045, 458050, 458076, 459094, 459098, 459103, 459107, 459112, 459137, 460154, 460159, 460164, 460168, 460172, 460198, 461215, 461219, 461223, 461228, 461232, 461258, 462275, 462279, 462282, 462290, 462295, 462300, 462304, 462309, 462334, 463352, 463356, 463361, 463365, 463369, 463374, 463399, 464417, 464421, 464426, 464431, 464435, 464461, 465478, 465482, 465487, 465491, 465496, 465521, 466538, 466542, 466546, 466551, 466555, 466581, 467598, 467602, 467605, 467611, 467616, 467620, 467625, 467629, 467655, 468674, 468678, 468683, 468687, 468691, 468696, 468722, 469739, 469743, 469748, 469752, 469757, 469782, 470800, 470804, 470809, 470813, 470818, 470843, 471860, 471864, 471868, 471873, 471877, 471903, 472920, 472924, 472928, 472933, 472938, 472943, 472947, 472952, 472977, 473994, 473998, 474003, 474007, 474011, 474016, 474044, 475062, 475066, 475071, 475075, 475080, 475105, 476123, 476127, 476132, 476136, 476141, 476166, 477183, 477187, 477191, 477196, 477201, 477206, 477210, 477215, 477241, 478258, 478262, 478266, 478271, 478275, 478280, 478305, 479322, 479326, 479331, 479335, 479339, 479365, 480386, 480391, 480395, 480400, 480405, 480430, 481448, 481452, 481457, 481461, 481466, 481491, 482508, 482512, 482515, 482520, 482525, 482530, 482534, 482539, 482564, 483582, 483586, 483591, 483595, 483599, 483604, 483630, 484648, 484652, 484657, 484682, 485700, 485705, 485709, 485734, 486752, 486756, 486761, 486786, 487803, 487808, 487811, 487816, 487821, 487826, 487851, 488868, 488872, 488876, 488881, 488885, 488889, 488915, 489932, 489936, 489940, 489966, 490984, 490988, 490996, 491022, 492039, 492043, 492046, 492052, 492056, 492061, 492087, 493103, 493108, 493112, 493117, 493121, 493126, 493151, 494169, 494173, 494178, 494203, 495221, 495225, 495229, 495255, 496273, 496277, 496282, 496307, 497324, 497328, 497332, 497337, 497342, 497347, 497372, 498390, 498394, 498398, 498403, 498407, 498412, 498437, 499454, 499459, 499463, 499489, 500506, 500510, 500515, 500540, 501561, 501566, 501571, 501596, 502614, 502618, 502622, 502627, 502632, 502637, 502663, 503680, 503684, 503689, 503693, 503698, 503703, 503728, 504745, 504750, 504754, 504780, 505797, 505801, 505805, 505832, 506849, 506854, 506858, 506883, 507901, 507905, 507909, 507914, 507919, 507924, 507949, 508966, 508971, 508975, 508980, 508984, 508989, 509015, 510032, 510036, 510041, 510066, 511083, 511087, 511092, 511118, 512136, 512141, 512144, 512153, 512158, 512163, 512188, 513205, 513210, 513215, 513220, 513224, 513229, 513254, 514272, 514276, 514280, 514306, 515323, 515327, 515332, 515357, 516374, 516378, 516382, 516408, 517426, 517431, 517434, 517440, 517444, 517449, 517474, 518492, 518496, 518501, 518506, 518510, 518515, 518540, 519558, 519562, 519567, 519593, 520610, 520614, 520618, 520644, 521661, 521665, 521669, 521695, 522713, 522721, 522725, 522730, 522735, 522739, 522765, 523782, 523786, 523791, 523796, 523799, 523804, 523830, 524847, 524851, 524856, 524881, 525899, 525903, 525908, 525933, 526950, 526954, 526957, 526963, 526968, 526973, 526999, 528017, 528022, 528027, 528032, 528036, 528041, 528066, 529084, 529088, 529093, 529118, 530135, 530139, 530144, 530169, 531186, 531190, 531195, 531220, 532238, 532242, 532246, 532251, 532256, 532260, 532286, 533304, 533312, 533317, 533321, 533325, 533330, 533357, 534374, 534379]\n",
      "[(14, 6), (29401, 29405), 'trace3-bitflip']\n",
      "29401 29405\n",
      "[(14, 6), (30461, 30466), 'trace3-bitflip']\n",
      "30461 30466\n",
      "[(14, 6), (31521, 31526), 'trace3-bitflip']\n",
      "31521 31526\n",
      "[(12, 13), (32585, 32590), 'trace3-bitflip']\n",
      "32585 32590\n",
      "[(14, 6), (32594, 32599), 'trace3-bitflip']\n",
      "32594 32599\n",
      "[(14, 6), (34719, 34723), 'trace3-bitflip']\n",
      "34719 34723\n",
      "[(14, 6), (35779, 35783), 'trace3-bitflip']\n",
      "35779 35783\n",
      "[(14, 6), (36839, 36843), 'trace3-bitflip']\n",
      "36839 36843\n",
      "[(12, 13), (37903, 37908), 'trace3-bitflip']\n",
      "37903 37908\n",
      "[(14, 6), (37912, 37917), 'trace3-bitflip']\n",
      "37912 37917\n",
      "[(14, 6), (38974, 38978), 'trace3-bitflip']\n",
      "38974 38978\n",
      "[(14, 6), (41098, 41103), 'trace3-bitflip']\n",
      "41098 41103\n",
      "[(12, 13), (42164, 42168), 'trace3-bitflip']\n",
      "42164 42168\n",
      "[(14, 6), (42173, 42177), 'trace3-bitflip']\n",
      "42173 42177\n",
      "[(14, 6), (44297, 44302), 'trace3-bitflip']\n",
      "44297 44302\n",
      "[(14, 6), (45358, 45362), 'trace3-bitflip']\n",
      "45358 45362\n",
      "[(14, 6), (46418, 46422), 'trace3-bitflip']\n",
      "46418 46422\n",
      "[(12, 13), (47483, 47487), 'trace3-bitflip']\n",
      "47483 47487\n",
      "[(14, 6), (47492, 47496), 'trace3-bitflip']\n",
      "47492 47496\n",
      "[(14, 6), (49617, 49621), 'trace3-bitflip']\n",
      "49617 49621\n",
      "[(14, 6), (50677, 50681), 'trace3-bitflip']\n",
      "50677 50681\n",
      "[(14, 6), (51737, 51741), 'trace3-bitflip']\n",
      "51737 51741\n",
      "[(12, 13), (52802, 52807), 'trace3-bitflip']\n",
      "52802 52807\n",
      "[(14, 6), (52812, 52816), 'trace3-bitflip']\n",
      "52812 52816\n",
      "[(14, 6), (54938, 54942), 'trace3-bitflip']\n",
      "54938 54942\n",
      "[(14, 6), (55998, 56002), 'trace3-bitflip']\n",
      "55998 56002\n",
      "[(12, 13), (57062, 57067), 'trace3-bitflip']\n",
      "57062 57067\n",
      "[(14, 6), (57071, 57075), 'trace3-bitflip']\n",
      "57071 57075\n",
      "[(8, 10), (157448, 158333), 'trace3-bitflip']\n",
      "157448 158333\n",
      "[(8, 13), (168908, 169172), 'trace3-bitflip']\n",
      "168908 169172\n",
      "[(8, 13), (183967, 184228), 'trace3-bitflip']\n",
      "183967 184228\n",
      "[(8, 10), (202188, 202447), 'trace3-bitflip']\n",
      "202188 202447\n",
      "[(14, 6), (239471, 239476), 'trace3-bitflip']\n",
      "239471 239476\n",
      "[(14, 6), (240532, 240537), 'trace3-bitflip']\n",
      "240532 240537\n",
      "[(14, 6), (241593, 241597), 'trace3-bitflip']\n",
      "241593 241597\n",
      "[(12, 13), (242658, 242662), 'trace3-bitflip']\n",
      "242658 242662\n",
      "[(14, 6), (242667, 242672), 'trace3-bitflip']\n",
      "242667 242672\n",
      "[(14, 6), (244792, 244796), 'trace3-bitflip']\n",
      "244792 244796\n",
      "[(14, 6), (245852, 245857), 'trace3-bitflip']\n",
      "245852 245857\n",
      "[(14, 6), (246914, 246919), 'trace3-bitflip']\n",
      "246914 246919\n",
      "[(12, 13), (247980, 247984), 'trace3-bitflip']\n",
      "247980 247984\n",
      "[(14, 6), (247989, 247993), 'trace3-bitflip']\n",
      "247989 247993\n",
      "[(14, 6), (250113, 250118), 'trace3-bitflip']\n",
      "250113 250118\n",
      "[(14, 6), (251174, 251179), 'trace3-bitflip']\n",
      "251174 251179\n",
      "[(12, 13), (252239, 252243), 'trace3-bitflip']\n",
      "252239 252243\n",
      "[(14, 6), (252248, 252252), 'trace3-bitflip']\n",
      "252248 252252\n",
      "[(14, 6), (254373, 254379), 'trace3-bitflip']\n",
      "254373 254379\n",
      "[(14, 6), (255434, 255438), 'trace3-bitflip']\n",
      "255434 255438\n",
      "[(14, 6), (256494, 256498), 'trace3-bitflip']\n",
      "256494 256498\n",
      "[(12, 13), (257560, 257564), 'trace3-bitflip']\n",
      "257560 257564\n",
      "[(14, 6), (257569, 257573), 'trace3-bitflip']\n",
      "257569 257573\n",
      "[(14, 6), (259695, 259699), 'trace3-bitflip']\n",
      "259695 259699\n",
      "[(14, 6), (260754, 260758), 'trace3-bitflip']\n",
      "260754 260758\n",
      "[(14, 6), (261816, 261820), 'trace3-bitflip']\n",
      "261816 261820\n",
      "[(12, 13), (262880, 262885), 'trace3-bitflip']\n",
      "262880 262885\n",
      "[(14, 6), (262890, 262894), 'trace3-bitflip']\n",
      "262890 262894\n",
      "[(14, 6), (265014, 265019), 'trace3-bitflip']\n",
      "265014 265019\n",
      "[(14, 6), (266074, 266078), 'trace3-bitflip']\n",
      "266074 266078\n",
      "[(12, 13), (267139, 267144), 'trace3-bitflip']\n",
      "267139 267144\n",
      "[(14, 6), (267149, 267153), 'trace3-bitflip']\n",
      "267149 267153\n",
      "[(14, 6), (269277, 269282), 'trace3-bitflip']\n",
      "269277 269282\n",
      "[(14, 6), (270337, 270341), 'trace3-bitflip']\n",
      "270337 270341\n",
      "[(8, 13), (288307, 288556), 'trace3-bitflip']\n",
      "288307 288556\n",
      "[(8, 6), (399586, 399851), 'trace3-bitflip']\n",
      "399586 399851\n",
      "[(14, 6), (454846, 454851), 'trace3-bitflip']\n",
      "454846 454851\n",
      "[(14, 6), (455906, 455910), 'trace3-bitflip']\n",
      "455906 455910\n",
      "[(12, 13), (456971, 456976), 'trace3-bitflip']\n",
      "456971 456976\n",
      "[(14, 6), (456980, 456984), 'trace3-bitflip']\n",
      "456980 456984\n",
      "[(14, 6), (459107, 459112), 'trace3-bitflip']\n",
      "459107 459112\n",
      "[(14, 6), (460168, 460172), 'trace3-bitflip']\n",
      "460168 460172\n",
      "[(14, 6), (461228, 461232), 'trace3-bitflip']\n",
      "461228 461232\n",
      "[(12, 13), (462295, 462300), 'trace3-bitflip']\n",
      "462295 462300\n",
      "[(14, 6), (462304, 462309), 'trace3-bitflip']\n",
      "462304 462309\n",
      "[(14, 6), (464431, 464435), 'trace3-bitflip']\n",
      "464431 464435\n",
      "[(14, 6), (465491, 465496), 'trace3-bitflip']\n",
      "465491 465496\n",
      "[(14, 6), (466551, 466555), 'trace3-bitflip']\n",
      "466551 466555\n",
      "[(12, 13), (467616, 467620), 'trace3-bitflip']\n",
      "467616 467620\n",
      "[(14, 6), (467625, 467629), 'trace3-bitflip']\n",
      "467625 467629\n",
      "[(14, 6), (469752, 469757), 'trace3-bitflip']\n",
      "469752 469757\n",
      "[(14, 6), (470813, 470818), 'trace3-bitflip']\n",
      "470813 470818\n",
      "[(14, 6), (471873, 471877), 'trace3-bitflip']\n",
      "471873 471877\n",
      "[(12, 13), (472938, 472943), 'trace3-bitflip']\n",
      "472938 472943\n",
      "[(14, 6), (472947, 472952), 'trace3-bitflip']\n",
      "472947 472952\n",
      "[(14, 6), (475075, 475080), 'trace3-bitflip']\n",
      "475075 475080\n",
      "[(14, 6), (476136, 476141), 'trace3-bitflip']\n",
      "476136 476141\n",
      "[(12, 13), (477201, 477206), 'trace3-bitflip']\n",
      "477201 477206\n",
      "[(14, 6), (477210, 477215), 'trace3-bitflip']\n",
      "477210 477215\n",
      "[(14, 6), (479335, 479339), 'trace3-bitflip']\n",
      "479335 479339\n",
      "[(14, 6), (480400, 480405), 'trace3-bitflip']\n",
      "480400 480405\n",
      "[(14, 6), (481461, 481466), 'trace3-bitflip']\n",
      "481461 481466\n",
      "[(12, 13), (482525, 482530), 'trace3-bitflip']\n",
      "482525 482530\n",
      "[(14, 6), (482534, 482539), 'trace3-bitflip']\n",
      "482534 482539\n"
     ]
    },
    {
     "data": {
      "application/vnd.plotly.v1+json": {
       "config": {
        "plotlyServerURL": "https://plot.ly"
       },
       "data": [
        {
         "line": {
          "width": 0.5
         },
         "marker": {
          "color": "midnightblue",
          "size": 8
         },
         "mode": "lines+markers",
         "name": "trace3-bitflip",
         "showlegend": true,
         "type": "scatter",
         "y": [
          0,
          1,
          2,
          3,
          4,
          5,
          6,
          7,
          8,
          9,
          6,
          7,
          8,
          9,
          6,
          7,
          8,
          9,
          6,
          7,
          8,
          9,
          6,
          7,
          8,
          9,
          10,
          11,
          12,
          6,
          7,
          8,
          9,
          13,
          14,
          15,
          6,
          7,
          8,
          9,
          6,
          7,
          8,
          9,
          6,
          7,
          8,
          9,
          6,
          7,
          8,
          9,
          10,
          11,
          12,
          6,
          7,
          8,
          9,
          13,
          14,
          15,
          6,
          7,
          8,
          9,
          6,
          7,
          8,
          9,
          6,
          7,
          8,
          9,
          6,
          7,
          8,
          9,
          10,
          11,
          12,
          6,
          7,
          8,
          9,
          13,
          14,
          15,
          6,
          7,
          8,
          9,
          6,
          7,
          8,
          9,
          6,
          7,
          8,
          9,
          10,
          11,
          12,
          6,
          7,
          8,
          9,
          13,
          14,
          15,
          6,
          7,
          8,
          9,
          6,
          7,
          8,
          9,
          6,
          7,
          8,
          9,
          6,
          7,
          8,
          9,
          10,
          11,
          12,
          6,
          7,
          8,
          9,
          13,
          14,
          15,
          6,
          7,
          8,
          9,
          13,
          14,
          6,
          7,
          8,
          9,
          13,
          14,
          6,
          7,
          8,
          9,
          13,
          14,
          6,
          7,
          8,
          9,
          10,
          11,
          12,
          13,
          14,
          6,
          7,
          8,
          9,
          13,
          14,
          15,
          6,
          7,
          8,
          9,
          13,
          14,
          6,
          7,
          8,
          9,
          13,
          14,
          6,
          7,
          8,
          9,
          13,
          14,
          6,
          7,
          8,
          9,
          10,
          11,
          12,
          13,
          14,
          6,
          7,
          8,
          9,
          13,
          14,
          6,
          7,
          8,
          9,
          13,
          14,
          15,
          6,
          7,
          8,
          9,
          13,
          14,
          6,
          7,
          8,
          9,
          10,
          11,
          12,
          13,
          14,
          6,
          7,
          8,
          9,
          13,
          14,
          15,
          6,
          7,
          8,
          9,
          13,
          14,
          6,
          7,
          8,
          9,
          13,
          14,
          6,
          7,
          8,
          9,
          13,
          14,
          6,
          7,
          8,
          9,
          10,
          11,
          12,
          13,
          14,
          6,
          7,
          8,
          9,
          13,
          14,
          15,
          6,
          7,
          8,
          9,
          13,
          14,
          6,
          7,
          8,
          9,
          13,
          14,
          6,
          7,
          8,
          9,
          13,
          14,
          6,
          7,
          8,
          9,
          10,
          11,
          12,
          13,
          14,
          6,
          7,
          8,
          9,
          13,
          14,
          15,
          6,
          7,
          8,
          9,
          13,
          14,
          6,
          7,
          8,
          9,
          13,
          14,
          6,
          7,
          8,
          9,
          10,
          11,
          12,
          13,
          14,
          6,
          7,
          8,
          9,
          13,
          14,
          15,
          6,
          7,
          8,
          9,
          6,
          7,
          8,
          9,
          6,
          7,
          8,
          9,
          6,
          7,
          8,
          9,
          10,
          11,
          12,
          6,
          7,
          8,
          9,
          13,
          14,
          15,
          6,
          7,
          8,
          9,
          6,
          7,
          8,
          9,
          6,
          7,
          8,
          9,
          6,
          7,
          8,
          9,
          10,
          11,
          12,
          6,
          7,
          8,
          9,
          13,
          14,
          15,
          6,
          7,
          8,
          9,
          6,
          7,
          8,
          9,
          6,
          7,
          8,
          9,
          6,
          7,
          8,
          9,
          10,
          11,
          12,
          6,
          7,
          8,
          9,
          13,
          14,
          15,
          6,
          7,
          8,
          9,
          6,
          7,
          8,
          9,
          6,
          7,
          8,
          9,
          10,
          11,
          12,
          6,
          7,
          8,
          9,
          13,
          14,
          15,
          6,
          7,
          8,
          9,
          6,
          7,
          8,
          9,
          6,
          7,
          8,
          9,
          6,
          7,
          8,
          9,
          10,
          11,
          12,
          6,
          7,
          8,
          9,
          13,
          14,
          15,
          6,
          7,
          8,
          9,
          6,
          7,
          8,
          9,
          6,
          7,
          8,
          9,
          6,
          7,
          8,
          9,
          10,
          11,
          12,
          6,
          7,
          8,
          9,
          13,
          14,
          15,
          6,
          7,
          8,
          9,
          6,
          7,
          8,
          9,
          6,
          7,
          8,
          9,
          10,
          11,
          12,
          6,
          7,
          8,
          9,
          6,
          7,
          8,
          9,
          13,
          14,
          15,
          6,
          7,
          8,
          9,
          6,
          7,
          8,
          9,
          6,
          7,
          8,
          9,
          10,
          11,
          12,
          6,
          7,
          8,
          9,
          13,
          14,
          15,
          6,
          7,
          8,
          9,
          6,
          7,
          8,
          9,
          6,
          7,
          8,
          9,
          6,
          7,
          8,
          9,
          10,
          11,
          12,
          6,
          7,
          8,
          9,
          6,
          7,
          8,
          9,
          6,
          7,
          8,
          9,
          6,
          7,
          8,
          9,
          6,
          7,
          8,
          9,
          10,
          11,
          12,
          6,
          7,
          8,
          9,
          13,
          14,
          15,
          6,
          7,
          8,
          9,
          6,
          7,
          8,
          9,
          6,
          7,
          8,
          9,
          10,
          11,
          12,
          6,
          7,
          8,
          9,
          13,
          14,
          15,
          6,
          7,
          8,
          9,
          6,
          7,
          8,
          9,
          6,
          7,
          8,
          9,
          6,
          7,
          8,
          9,
          10,
          11,
          12,
          6,
          7,
          8,
          9,
          13,
          14,
          15,
          6,
          7,
          8,
          9,
          6,
          7,
          8,
          9,
          6,
          7,
          8,
          9,
          6,
          7,
          8,
          9,
          10,
          11,
          12,
          6,
          7,
          8,
          9,
          13,
          14,
          15,
          6,
          7,
          8,
          9,
          6,
          7,
          8,
          9,
          6,
          7,
          8,
          9,
          6,
          7,
          8,
          9,
          10,
          11,
          12,
          6,
          7,
          8,
          9,
          13,
          14,
          15,
          6,
          7,
          8,
          9,
          6,
          7,
          8,
          9,
          6,
          7,
          8,
          9,
          10,
          11,
          12,
          6,
          7,
          8,
          9,
          13,
          14,
          15,
          6,
          7,
          8,
          9,
          6,
          7,
          8,
          9,
          6,
          7,
          8,
          9,
          6,
          7,
          8,
          9,
          10,
          11,
          12,
          6,
          7,
          8,
          9,
          13,
          14,
          15,
          6,
          7,
          8,
          9,
          6,
          7,
          8,
          9,
          6,
          7,
          8,
          9,
          6,
          7,
          8,
          9,
          10,
          11,
          12,
          6,
          7,
          8,
          9,
          13,
          14,
          15,
          6,
          7,
          8,
          9,
          6,
          7,
          8,
          9,
          6,
          7,
          8,
          9,
          6,
          7,
          8,
          9,
          10,
          11,
          12,
          6,
          7,
          8,
          9,
          13,
          14,
          15,
          6,
          7,
          8,
          9,
          6,
          7,
          8,
          9,
          6,
          7,
          8,
          9,
          10,
          11,
          12,
          6,
          7,
          8,
          9,
          13,
          14,
          15,
          6,
          7,
          8,
          9,
          6,
          7,
          8,
          9,
          6,
          7,
          8,
          9,
          6,
          7,
          8,
          10,
          11,
          12,
          6,
          7,
          8,
          9,
          13,
          14,
          15,
          6,
          7,
          8,
          9,
          6,
          7,
          8,
          9,
          6,
          7,
          8,
          9,
          10,
          11,
          12,
          6,
          7,
          8,
          9,
          13,
          14,
          15,
          6,
          7,
          8,
          9,
          6,
          7,
          8,
          9,
          6,
          7,
          8,
          9,
          6,
          7,
          8,
          9,
          10,
          11,
          12,
          6,
          7,
          8,
          13,
          14,
          15,
          6,
          7,
          8,
          9,
          6,
          7,
          8,
          9,
          6,
          7,
          8,
          9,
          10,
          11,
          12,
          6,
          7,
          8,
          9,
          13,
          14,
          15,
          6,
          7,
          8,
          9,
          6,
          7,
          8,
          9,
          6,
          7,
          8,
          9,
          6,
          7,
          8,
          9,
          10,
          11,
          12,
          6,
          7,
          8,
          9,
          13,
          14,
          15,
          6,
          7,
          8,
          9,
          6,
          7,
          8,
          9,
          6,
          7,
          8,
          9,
          6,
          7,
          8,
          9,
          10,
          11,
          12,
          6,
          7,
          8,
          13,
          14,
          15,
          6,
          7,
          8,
          9,
          6,
          7,
          8,
          9,
          6,
          7,
          8,
          9,
          10,
          11,
          12,
          6,
          7,
          8,
          9,
          13,
          14,
          15,
          6,
          7,
          8,
          9,
          6,
          7,
          8,
          9,
          6,
          7,
          8,
          9,
          6,
          7,
          8,
          9,
          10,
          11,
          12,
          6,
          7,
          8,
          9,
          13,
          14,
          15,
          6,
          7,
          8,
          9,
          6,
          7,
          8,
          9,
          6,
          7,
          8,
          9,
          6,
          7,
          8,
          9,
          10,
          11,
          12,
          6,
          7,
          8,
          9,
          13,
          14,
          15,
          6,
          7,
          8,
          9,
          6,
          7,
          8,
          9,
          6,
          7,
          8,
          10,
          11,
          12,
          6,
          7,
          8,
          9,
          13,
          14,
          15,
          6,
          7,
          8,
          9,
          6,
          7,
          8,
          9,
          6,
          7,
          8,
          9,
          6,
          7,
          8,
          9,
          10,
          11,
          12,
          6,
          7,
          8,
          9,
          13,
          14,
          15,
          6,
          7,
          8,
          9,
          6,
          7,
          8,
          9,
          6,
          7,
          8,
          9,
          10,
          11,
          12,
          6,
          7,
          8,
          9,
          13,
          14,
          15,
          6,
          7,
          8,
          9,
          6,
          7,
          8,
          9,
          6,
          7,
          8,
          9,
          6,
          7,
          8,
          9,
          10,
          11,
          12,
          6,
          7,
          8,
          9,
          13,
          14,
          15,
          6,
          7,
          8,
          9,
          6,
          7,
          8,
          9,
          6,
          7,
          8,
          9,
          6,
          7,
          8,
          9,
          10,
          11,
          12,
          6,
          7,
          8,
          9,
          13,
          14,
          15,
          6,
          7,
          8,
          9,
          6,
          7,
          8,
          9,
          6,
          7,
          8,
          9,
          6,
          7,
          8,
          9,
          10,
          11,
          12,
          6,
          7,
          8,
          9,
          13,
          14,
          15,
          6,
          7,
          8,
          9,
          6,
          7,
          8,
          9,
          6,
          7,
          8,
          9,
          10,
          11,
          12,
          6,
          7,
          8,
          9,
          6,
          7,
          8,
          9,
          13,
          14,
          15,
          6,
          7,
          8,
          9,
          6,
          7,
          8,
          9,
          6,
          7,
          8,
          9,
          10,
          11,
          12,
          6,
          7,
          8,
          9,
          13,
          14,
          15,
          6,
          7,
          8,
          9,
          13,
          14,
          6,
          7,
          8,
          9,
          13,
          14,
          6,
          7,
          8,
          9,
          13,
          14,
          6,
          7,
          8,
          9,
          10,
          11,
          12,
          13,
          14,
          6,
          7,
          8,
          9,
          13,
          14,
          15,
          6,
          7,
          8,
          9,
          13,
          14,
          6,
          7,
          8,
          9,
          13,
          14,
          6,
          7,
          8,
          9,
          13,
          14,
          6,
          7,
          8,
          9,
          10,
          11,
          12,
          13,
          14,
          6,
          7,
          8,
          9,
          13,
          14,
          15,
          6,
          7,
          8,
          9,
          13,
          14,
          6,
          7,
          8,
          9,
          13,
          14,
          6,
          7,
          8,
          9,
          10,
          11,
          12,
          13,
          14,
          6,
          7,
          8,
          9,
          13,
          14,
          15,
          6,
          7,
          8,
          9,
          13,
          14,
          6,
          7,
          8,
          9,
          13,
          14,
          6,
          7,
          8,
          9,
          13,
          14,
          6,
          7,
          8,
          9,
          10,
          11,
          12,
          13,
          14,
          6,
          7,
          8,
          9,
          13,
          14,
          15,
          6,
          7,
          8,
          9,
          13,
          14,
          6,
          7,
          8,
          9,
          13,
          14,
          6,
          7,
          8,
          9,
          13,
          14,
          6,
          7,
          8,
          9,
          10,
          11,
          12,
          13,
          14,
          6,
          7,
          8,
          9,
          13,
          14,
          15,
          6,
          7,
          8,
          9,
          13,
          14,
          6,
          7,
          8,
          9,
          13,
          14,
          6,
          7,
          8,
          9,
          10,
          11,
          12,
          13,
          14,
          6,
          7,
          8,
          9,
          13,
          14,
          15,
          6,
          7,
          8,
          9,
          13,
          14,
          6,
          7,
          8,
          9,
          13,
          14,
          6,
          7,
          8,
          9,
          6,
          7,
          8,
          9,
          10,
          11,
          12,
          6,
          7,
          8,
          9,
          13,
          14,
          15,
          6,
          7,
          8,
          9,
          6,
          7,
          8,
          9,
          6,
          7,
          8,
          9,
          6,
          7,
          8,
          9,
          10,
          11,
          12,
          6,
          7,
          8,
          9,
          13,
          14,
          15,
          6,
          7,
          8,
          9,
          6,
          7,
          8,
          9,
          6,
          7,
          8,
          9,
          10,
          11,
          12,
          6,
          7,
          8,
          9,
          13,
          14,
          15,
          6,
          7,
          8,
          9,
          6,
          7,
          8,
          9,
          6,
          7,
          8,
          9,
          6,
          7,
          8,
          9,
          10,
          11,
          12,
          6,
          7,
          8,
          13,
          14,
          15,
          6,
          7,
          8,
          9,
          6,
          7,
          8,
          9,
          6,
          7,
          8,
          9,
          6,
          7,
          8,
          9,
          10,
          11,
          12,
          6,
          7,
          8,
          9,
          13,
          14,
          15,
          6,
          7,
          8,
          9,
          6,
          7,
          8,
          9,
          6,
          7,
          8,
          9,
          10,
          11,
          12,
          6,
          7,
          8,
          9,
          13,
          14,
          15,
          6,
          7,
          8,
          9,
          6,
          7,
          8,
          9,
          6,
          7,
          8,
          9,
          6,
          7,
          8,
          9,
          10,
          11,
          12,
          6,
          7,
          8,
          9,
          13,
          14,
          15,
          6,
          7,
          8,
          9,
          6,
          7,
          8,
          9,
          6,
          7,
          8,
          9,
          6,
          7,
          8,
          9,
          10,
          11,
          12,
          6,
          7,
          8,
          9,
          13,
          14,
          15,
          6,
          7,
          8,
          9,
          6,
          7,
          8,
          9,
          6,
          7,
          8,
          9,
          6,
          7,
          8,
          9,
          10,
          11,
          12,
          6,
          7,
          8,
          9,
          13,
          14,
          15,
          6,
          7,
          8,
          9,
          6,
          7,
          8,
          9,
          6,
          7,
          8,
          9,
          10,
          11,
          12,
          6,
          7,
          8,
          9,
          6,
          7,
          8,
          9,
          13,
          14,
          15,
          6,
          7,
          8,
          9,
          6,
          7,
          8,
          9,
          6,
          7,
          8,
          9,
          10,
          11,
          12,
          6,
          7,
          8,
          9,
          13,
          14,
          15,
          6,
          7,
          8,
          9,
          6,
          7,
          8,
          9,
          6,
          7,
          8,
          9,
          6,
          7,
          8,
          9,
          10,
          11,
          12,
          6,
          7,
          8,
          9,
          13,
          14,
          15,
          6,
          7,
          8,
          9,
          6,
          7,
          8,
          9,
          6,
          7,
          8,
          9,
          6,
          7,
          8,
          9,
          10,
          11,
          12,
          6,
          7,
          8,
          9,
          13,
          14,
          15,
          6,
          7,
          8,
          9,
          6,
          7,
          8,
          9,
          6,
          7,
          8,
          9,
          10,
          11,
          12,
          6,
          7,
          8,
          9,
          13,
          14,
          15,
          6,
          7,
          8,
          9,
          6,
          7,
          8,
          9,
          6,
          7,
          8,
          9,
          6,
          7,
          8,
          9,
          10,
          11,
          12,
          6,
          7,
          8,
          9,
          13,
          14,
          15,
          6,
          7,
          8,
          9,
          6,
          7,
          8,
          9,
          6,
          7,
          8,
          9,
          6,
          7,
          8,
          9,
          10,
          11,
          12,
          6,
          7,
          8,
          9,
          13,
          14,
          15,
          6,
          7,
          8,
          9,
          6,
          7,
          8,
          9,
          6,
          7,
          8,
          9,
          10,
          11,
          12,
          6,
          7,
          8,
          9,
          13,
          14,
          15,
          6,
          7,
          8,
          9,
          6,
          7,
          8,
          9,
          6,
          7,
          8,
          9,
          6,
          7,
          8,
          9,
          10,
          11,
          12,
          6,
          7,
          8,
          9,
          13,
          14,
          15,
          6,
          7,
          8,
          9,
          6,
          7,
          8,
          9,
          6,
          7,
          8,
          9,
          6,
          7,
          8,
          9,
          10,
          11,
          12,
          6,
          7,
          8,
          9,
          13,
          14,
          15,
          6,
          7,
          8,
          9,
          6,
          7,
          8,
          9,
          6,
          7,
          8,
          9,
          6,
          7,
          8,
          9,
          10,
          11,
          12,
          6,
          7,
          8,
          9,
          13,
          14,
          15,
          6,
          7,
          8,
          9,
          6,
          7,
          8,
          9,
          6,
          7,
          8,
          9,
          10,
          11,
          12,
          6,
          7,
          8,
          9,
          13,
          14,
          15,
          6,
          7,
          8,
          9,
          6,
          7,
          8,
          9,
          6,
          7,
          8,
          9,
          6,
          7,
          8,
          9,
          10,
          11,
          12,
          6,
          7,
          8,
          9,
          13,
          14,
          15,
          6,
          7,
          8,
          9,
          6,
          7,
          8,
          9,
          6,
          7,
          8,
          9,
          6,
          7,
          8,
          9,
          10,
          11,
          12,
          6,
          7,
          8,
          9,
          13,
          14,
          15,
          6,
          7,
          8,
          9,
          6,
          7,
          8,
          9,
          6,
          7,
          8,
          9,
          6,
          7,
          8,
          9,
          10,
          11,
          12,
          6,
          7,
          8,
          9,
          13,
          14,
          15,
          6,
          7,
          8,
          9,
          6,
          7,
          8,
          9,
          6,
          7,
          8,
          9,
          10,
          11,
          12,
          6,
          7,
          8,
          9,
          6,
          7,
          8,
          9,
          13,
          14,
          15,
          6,
          7,
          8,
          9,
          6,
          7,
          8,
          9,
          6,
          7,
          8,
          9,
          10,
          11,
          12,
          6,
          7,
          8,
          9,
          13,
          14,
          15,
          6,
          7,
          8,
          6,
          7,
          8,
          9,
          6,
          7,
          8,
          9,
          10,
          11,
          12,
          6,
          7,
          8,
          9,
          13,
          14,
          15,
          6,
          7,
          8,
          9,
          6,
          7,
          8,
          9,
          6,
          7,
          8,
          9,
          6,
          7,
          8,
          9,
          10,
          11,
          12,
          6,
          7,
          8,
          9,
          13,
          14,
          15,
          6,
          7,
          8,
          9,
          6,
          7,
          8,
          9,
          6,
          7,
          8,
          9,
          6,
          7,
          8,
          9,
          10,
          11,
          12,
          6,
          7,
          8,
          9,
          13,
          14,
          15,
          6,
          7,
          8,
          9,
          6,
          7,
          8,
          9,
          6,
          7,
          8,
          9,
          6,
          7,
          8,
          9,
          10,
          11,
          12,
          6,
          7,
          8,
          9,
          13,
          14,
          15,
          6,
          7,
          8,
          9,
          6,
          7,
          8,
          9,
          6,
          7,
          8,
          9,
          10,
          11,
          12,
          6,
          7,
          8,
          9,
          13,
          14,
          15,
          6,
          7,
          8,
          9,
          6,
          7,
          8,
          9,
          6,
          7,
          8,
          9,
          6,
          7,
          8,
          9,
          10,
          11,
          12,
          6,
          7,
          8,
          9,
          13,
          14,
          15,
          6,
          7,
          8,
          9,
          6,
          7,
          8,
          9,
          6,
          7,
          8,
          9,
          6,
          7,
          8,
          9,
          10,
          11,
          12,
          6,
          7,
          8,
          9,
          13,
          14,
          15,
          6,
          7,
          8,
          9,
          6,
          7,
          8,
          9,
          6,
          7,
          8,
          9,
          6,
          7,
          8,
          9,
          10,
          11,
          12,
          6,
          7,
          8,
          9,
          13,
          14,
          15,
          6,
          7,
          8,
          9,
          6,
          7,
          8,
          9,
          6,
          7,
          8,
          9,
          10,
          11,
          12,
          6,
          7,
          8,
          9,
          13,
          14,
          15,
          6,
          7,
          8,
          9,
          6,
          7,
          8,
          9,
          6,
          7,
          8,
          9,
          6,
          7,
          8,
          9,
          10,
          11,
          12,
          6,
          7,
          8,
          9,
          13,
          14,
          15,
          6,
          7,
          8,
          9,
          6,
          7,
          8,
          9,
          6,
          7,
          8,
          9,
          6,
          7,
          8,
          9,
          10,
          11,
          12,
          6,
          7,
          8,
          9,
          13,
          14,
          15,
          6,
          7,
          8,
          9,
          13,
          14,
          6,
          7,
          8,
          9,
          13,
          14,
          6,
          7,
          8,
          9,
          10,
          11,
          12,
          13,
          14,
          6,
          7,
          8,
          9,
          13,
          14,
          15,
          6,
          7,
          8,
          9,
          13,
          14,
          6,
          7,
          8,
          9,
          13,
          14,
          6,
          7,
          8,
          9,
          13,
          14,
          6,
          7,
          8,
          9,
          10,
          11,
          12,
          13,
          14,
          6,
          7,
          8,
          9,
          13,
          14,
          15,
          6,
          7,
          8,
          9,
          13,
          14,
          6,
          7,
          8,
          9,
          13,
          14,
          6,
          7,
          8,
          9,
          13,
          14,
          6,
          7,
          8,
          9,
          10,
          11,
          12,
          13,
          14,
          6,
          7,
          8,
          9,
          13,
          14,
          15,
          6,
          7,
          8,
          9,
          13,
          14,
          6,
          7,
          8,
          9,
          13,
          14,
          6,
          7,
          8,
          9,
          13,
          14,
          6,
          7,
          8,
          9,
          10,
          11,
          12,
          13,
          14,
          6,
          7,
          8,
          9,
          13,
          14,
          15,
          6,
          7,
          8,
          9,
          13,
          14,
          6,
          7,
          8,
          9,
          13,
          14,
          6,
          7,
          8,
          9,
          10,
          11,
          12,
          13,
          14,
          6,
          7,
          8,
          9,
          13,
          14,
          15,
          6,
          7,
          8,
          9,
          13,
          14,
          6,
          7,
          8,
          9,
          13,
          14,
          6,
          7,
          8,
          9,
          13,
          14,
          6,
          7,
          8,
          9,
          10,
          11,
          12,
          13,
          14,
          6,
          7,
          8,
          9,
          13,
          14,
          15,
          6,
          7,
          8,
          9,
          6,
          7,
          8,
          9,
          6,
          7,
          8,
          9,
          6,
          7,
          8,
          9,
          10,
          11,
          12,
          6,
          7,
          8,
          9,
          13,
          14,
          15,
          6,
          7,
          8,
          9,
          6,
          7,
          8,
          9,
          6,
          7,
          8,
          9,
          10,
          11,
          12,
          6,
          7,
          8,
          9,
          13,
          14,
          15,
          6,
          7,
          8,
          9,
          6,
          7,
          8,
          9,
          6,
          7,
          8,
          9,
          6,
          7,
          8,
          9,
          10,
          11,
          12,
          6,
          7,
          8,
          9,
          13,
          14,
          15,
          6,
          7,
          8,
          9,
          6,
          7,
          8,
          9,
          6,
          7,
          8,
          9,
          6,
          7,
          8,
          9,
          10,
          11,
          12,
          6,
          7,
          8,
          9,
          13,
          14,
          15,
          6,
          7,
          8,
          9,
          6,
          7,
          8,
          9,
          6,
          7,
          8,
          9,
          6,
          7,
          8,
          9,
          10,
          11,
          12,
          6,
          7,
          8,
          9,
          13,
          14,
          15,
          6,
          7,
          8,
          9,
          6,
          7,
          8,
          9,
          6,
          7,
          8,
          9,
          10,
          11,
          12,
          6,
          7,
          8,
          9,
          13,
          14,
          15,
          6,
          7,
          8,
          9,
          6,
          7,
          8,
          9,
          6,
          7,
          8,
          9,
          6,
          7,
          8,
          9,
          10,
          11,
          12,
          6,
          7,
          8,
          9,
          13,
          14,
          15,
          6,
          7,
          8,
          9,
          6,
          7,
          8,
          9,
          6,
          7,
          8,
          9,
          6,
          7,
          8,
          9,
          10,
          11,
          12,
          6,
          7,
          8,
          9,
          13,
          14,
          15,
          6,
          7,
          8,
          9,
          6,
          7,
          8,
          9,
          6,
          7,
          8,
          9,
          10,
          11,
          12,
          6,
          7,
          8,
          9,
          13,
          14,
          15,
          6,
          7,
          8,
          9,
          6,
          7,
          8,
          9,
          6,
          7,
          8,
          9,
          6,
          7,
          8,
          9,
          10,
          11,
          12,
          6,
          7,
          8,
          9,
          13,
          14,
          15,
          6,
          7,
          8,
          9
         ]
        },
        {
         "line": {
          "width": 0.5
         },
         "marker": {
          "color": "lawngreen",
          "size": 8
         },
         "mode": "lines+markers",
         "name": "gt_communication",
         "showlegend": true,
         "type": "scatter",
         "x": [
          null
         ],
         "y": [
          null
         ]
        },
        {
         "line": {
          "width": 0.5
         },
         "marker": {
          "color": "blue",
          "size": 8
         },
         "mode": "lines+markers",
         "name": "gt_sensor",
         "showlegend": true,
         "type": "scatter",
         "x": [
          null
         ],
         "y": [
          null
         ]
        },
        {
         "line": {
          "width": 0.5
         },
         "marker": {
          "color": "goldenrod",
          "size": 8
         },
         "mode": "lines+markers",
         "name": "gt_bitflip",
         "showlegend": true,
         "type": "scatter",
         "x": [
          null
         ],
         "y": [
          null
         ]
        },
        {
         "line": {
          "width": 0.5
         },
         "marker": {
          "color": "red",
          "size": 8
         },
         "mode": "lines+markers",
         "name": "detection",
         "showlegend": true,
         "type": "scatter",
         "x": [
          null
         ],
         "y": [
          null
         ]
        }
       ],
       "layout": {
        "autosize": true,
        "height": 800,
        "plot_bgcolor": "rgba(0,0,0,0)",
        "shapes": [
         {
          "fillcolor": "goldenrod",
          "layer": "below",
          "line": {
           "width": 0
          },
          "opacity": 0.5,
          "type": "rect",
          "x0": 139,
          "x1": 142,
          "xref": "x",
          "y0": 0,
          "y1": 1,
          "yref": "paper"
         },
         {
          "line": {
           "color": "goldenrod",
           "dash": "dot",
           "width": 2
          },
          "type": "line",
          "x0": 139,
          "x1": 139,
          "xref": "x",
          "y0": 0,
          "y1": 1,
          "yref": "paper"
         },
         {
          "line": {
           "color": "goldenrod",
           "dash": "dot",
           "width": 2
          },
          "type": "line",
          "x0": 142,
          "x1": 142,
          "xref": "x",
          "y0": 0,
          "y1": 1,
          "yref": "paper"
         },
         {
          "fillcolor": "goldenrod",
          "layer": "below",
          "line": {
           "width": 0
          },
          "opacity": 0.5,
          "type": "rect",
          "x0": 145,
          "x1": 148,
          "xref": "x",
          "y0": 0,
          "y1": 1,
          "yref": "paper"
         },
         {
          "line": {
           "color": "goldenrod",
           "dash": "dot",
           "width": 2
          },
          "type": "line",
          "x0": 145,
          "x1": 145,
          "xref": "x",
          "y0": 0,
          "y1": 1,
          "yref": "paper"
         },
         {
          "line": {
           "color": "goldenrod",
           "dash": "dot",
           "width": 2
          },
          "type": "line",
          "x0": 148,
          "x1": 148,
          "xref": "x",
          "y0": 0,
          "y1": 1,
          "yref": "paper"
         },
         {
          "fillcolor": "goldenrod",
          "layer": "below",
          "line": {
           "width": 0
          },
          "opacity": 0.5,
          "type": "rect",
          "x0": 151,
          "x1": 154,
          "xref": "x",
          "y0": 0,
          "y1": 1,
          "yref": "paper"
         },
         {
          "line": {
           "color": "goldenrod",
           "dash": "dot",
           "width": 2
          },
          "type": "line",
          "x0": 151,
          "x1": 151,
          "xref": "x",
          "y0": 0,
          "y1": 1,
          "yref": "paper"
         },
         {
          "line": {
           "color": "goldenrod",
           "dash": "dot",
           "width": 2
          },
          "type": "line",
          "x0": 154,
          "x1": 154,
          "xref": "x",
          "y0": 0,
          "y1": 1,
          "yref": "paper"
         },
         {
          "fillcolor": "goldenrod",
          "layer": "below",
          "line": {
           "width": 0
          },
          "opacity": 0.5,
          "type": "rect",
          "x0": 160,
          "x1": 163,
          "xref": "x",
          "y0": 0,
          "y1": 1,
          "yref": "paper"
         },
         {
          "line": {
           "color": "goldenrod",
           "dash": "dot",
           "width": 2
          },
          "type": "line",
          "x0": 160,
          "x1": 160,
          "xref": "x",
          "y0": 0,
          "y1": 1,
          "yref": "paper"
         },
         {
          "line": {
           "color": "goldenrod",
           "dash": "dot",
           "width": 2
          },
          "type": "line",
          "x0": 163,
          "x1": 163,
          "xref": "x",
          "y0": 0,
          "y1": 1,
          "yref": "paper"
         },
         {
          "fillcolor": "goldenrod",
          "layer": "below",
          "line": {
           "width": 0
          },
          "opacity": 0.5,
          "type": "rect",
          "x0": 173,
          "x1": 176,
          "xref": "x",
          "y0": 0,
          "y1": 1,
          "yref": "paper"
         },
         {
          "line": {
           "color": "goldenrod",
           "dash": "dot",
           "width": 2
          },
          "type": "line",
          "x0": 173,
          "x1": 173,
          "xref": "x",
          "y0": 0,
          "y1": 1,
          "yref": "paper"
         },
         {
          "line": {
           "color": "goldenrod",
           "dash": "dot",
           "width": 2
          },
          "type": "line",
          "x0": 176,
          "x1": 176,
          "xref": "x",
          "y0": 0,
          "y1": 1,
          "yref": "paper"
         },
         {
          "fillcolor": "goldenrod",
          "layer": "below",
          "line": {
           "width": 0
          },
          "opacity": 0.5,
          "type": "rect",
          "x0": 179,
          "x1": 182,
          "xref": "x",
          "y0": 0,
          "y1": 1,
          "yref": "paper"
         },
         {
          "line": {
           "color": "goldenrod",
           "dash": "dot",
           "width": 2
          },
          "type": "line",
          "x0": 179,
          "x1": 179,
          "xref": "x",
          "y0": 0,
          "y1": 1,
          "yref": "paper"
         },
         {
          "line": {
           "color": "goldenrod",
           "dash": "dot",
           "width": 2
          },
          "type": "line",
          "x0": 182,
          "x1": 182,
          "xref": "x",
          "y0": 0,
          "y1": 1,
          "yref": "paper"
         },
         {
          "fillcolor": "goldenrod",
          "layer": "below",
          "line": {
           "width": 0
          },
          "opacity": 0.5,
          "type": "rect",
          "x0": 185,
          "x1": 188,
          "xref": "x",
          "y0": 0,
          "y1": 1,
          "yref": "paper"
         },
         {
          "line": {
           "color": "goldenrod",
           "dash": "dot",
           "width": 2
          },
          "type": "line",
          "x0": 185,
          "x1": 185,
          "xref": "x",
          "y0": 0,
          "y1": 1,
          "yref": "paper"
         },
         {
          "line": {
           "color": "goldenrod",
           "dash": "dot",
           "width": 2
          },
          "type": "line",
          "x0": 188,
          "x1": 188,
          "xref": "x",
          "y0": 0,
          "y1": 1,
          "yref": "paper"
         },
         {
          "fillcolor": "goldenrod",
          "layer": "below",
          "line": {
           "width": 0
          },
          "opacity": 0.5,
          "type": "rect",
          "x0": 194,
          "x1": 197,
          "xref": "x",
          "y0": 0,
          "y1": 1,
          "yref": "paper"
         },
         {
          "line": {
           "color": "goldenrod",
           "dash": "dot",
           "width": 2
          },
          "type": "line",
          "x0": 194,
          "x1": 194,
          "xref": "x",
          "y0": 0,
          "y1": 1,
          "yref": "paper"
         },
         {
          "line": {
           "color": "goldenrod",
           "dash": "dot",
           "width": 2
          },
          "type": "line",
          "x0": 197,
          "x1": 197,
          "xref": "x",
          "y0": 0,
          "y1": 1,
          "yref": "paper"
         },
         {
          "fillcolor": "goldenrod",
          "layer": "below",
          "line": {
           "width": 0
          },
          "opacity": 0.5,
          "type": "rect",
          "x0": 200,
          "x1": 203,
          "xref": "x",
          "y0": 0,
          "y1": 1,
          "yref": "paper"
         },
         {
          "line": {
           "color": "goldenrod",
           "dash": "dot",
           "width": 2
          },
          "type": "line",
          "x0": 200,
          "x1": 200,
          "xref": "x",
          "y0": 0,
          "y1": 1,
          "yref": "paper"
         },
         {
          "line": {
           "color": "goldenrod",
           "dash": "dot",
           "width": 2
          },
          "type": "line",
          "x0": 203,
          "x1": 203,
          "xref": "x",
          "y0": 0,
          "y1": 1,
          "yref": "paper"
         },
         {
          "fillcolor": "goldenrod",
          "layer": "below",
          "line": {
           "width": 0
          },
          "opacity": 0.5,
          "type": "rect",
          "x0": 213,
          "x1": 216,
          "xref": "x",
          "y0": 0,
          "y1": 1,
          "yref": "paper"
         },
         {
          "line": {
           "color": "goldenrod",
           "dash": "dot",
           "width": 2
          },
          "type": "line",
          "x0": 213,
          "x1": 213,
          "xref": "x",
          "y0": 0,
          "y1": 1,
          "yref": "paper"
         },
         {
          "line": {
           "color": "goldenrod",
           "dash": "dot",
           "width": 2
          },
          "type": "line",
          "x0": 216,
          "x1": 216,
          "xref": "x",
          "y0": 0,
          "y1": 1,
          "yref": "paper"
         },
         {
          "fillcolor": "goldenrod",
          "layer": "below",
          "line": {
           "width": 0
          },
          "opacity": 0.5,
          "type": "rect",
          "x0": 222,
          "x1": 225,
          "xref": "x",
          "y0": 0,
          "y1": 1,
          "yref": "paper"
         },
         {
          "line": {
           "color": "goldenrod",
           "dash": "dot",
           "width": 2
          },
          "type": "line",
          "x0": 222,
          "x1": 222,
          "xref": "x",
          "y0": 0,
          "y1": 1,
          "yref": "paper"
         },
         {
          "line": {
           "color": "goldenrod",
           "dash": "dot",
           "width": 2
          },
          "type": "line",
          "x0": 225,
          "x1": 225,
          "xref": "x",
          "y0": 0,
          "y1": 1,
          "yref": "paper"
         },
         {
          "fillcolor": "goldenrod",
          "layer": "below",
          "line": {
           "width": 0
          },
          "opacity": 0.5,
          "type": "rect",
          "x0": 235,
          "x1": 238,
          "xref": "x",
          "y0": 0,
          "y1": 1,
          "yref": "paper"
         },
         {
          "line": {
           "color": "goldenrod",
           "dash": "dot",
           "width": 2
          },
          "type": "line",
          "x0": 235,
          "x1": 235,
          "xref": "x",
          "y0": 0,
          "y1": 1,
          "yref": "paper"
         },
         {
          "line": {
           "color": "goldenrod",
           "dash": "dot",
           "width": 2
          },
          "type": "line",
          "x0": 238,
          "x1": 238,
          "xref": "x",
          "y0": 0,
          "y1": 1,
          "yref": "paper"
         },
         {
          "fillcolor": "goldenrod",
          "layer": "below",
          "line": {
           "width": 0
          },
          "opacity": 0.5,
          "type": "rect",
          "x0": 241,
          "x1": 244,
          "xref": "x",
          "y0": 0,
          "y1": 1,
          "yref": "paper"
         },
         {
          "line": {
           "color": "goldenrod",
           "dash": "dot",
           "width": 2
          },
          "type": "line",
          "x0": 241,
          "x1": 241,
          "xref": "x",
          "y0": 0,
          "y1": 1,
          "yref": "paper"
         },
         {
          "line": {
           "color": "goldenrod",
           "dash": "dot",
           "width": 2
          },
          "type": "line",
          "x0": 244,
          "x1": 244,
          "xref": "x",
          "y0": 0,
          "y1": 1,
          "yref": "paper"
         },
         {
          "fillcolor": "goldenrod",
          "layer": "below",
          "line": {
           "width": 0
          },
          "opacity": 0.5,
          "type": "rect",
          "x0": 247,
          "x1": 250,
          "xref": "x",
          "y0": 0,
          "y1": 1,
          "yref": "paper"
         },
         {
          "line": {
           "color": "goldenrod",
           "dash": "dot",
           "width": 2
          },
          "type": "line",
          "x0": 247,
          "x1": 247,
          "xref": "x",
          "y0": 0,
          "y1": 1,
          "yref": "paper"
         },
         {
          "line": {
           "color": "goldenrod",
           "dash": "dot",
           "width": 2
          },
          "type": "line",
          "x0": 250,
          "x1": 250,
          "xref": "x",
          "y0": 0,
          "y1": 1,
          "yref": "paper"
         },
         {
          "fillcolor": "goldenrod",
          "layer": "below",
          "line": {
           "width": 0
          },
          "opacity": 0.5,
          "type": "rect",
          "x0": 256,
          "x1": 259,
          "xref": "x",
          "y0": 0,
          "y1": 1,
          "yref": "paper"
         },
         {
          "line": {
           "color": "goldenrod",
           "dash": "dot",
           "width": 2
          },
          "type": "line",
          "x0": 256,
          "x1": 256,
          "xref": "x",
          "y0": 0,
          "y1": 1,
          "yref": "paper"
         },
         {
          "line": {
           "color": "goldenrod",
           "dash": "dot",
           "width": 2
          },
          "type": "line",
          "x0": 259,
          "x1": 259,
          "xref": "x",
          "y0": 0,
          "y1": 1,
          "yref": "paper"
         },
         {
          "fillcolor": "goldenrod",
          "layer": "below",
          "line": {
           "width": 0
          },
          "opacity": 0.5,
          "type": "rect",
          "x0": 269,
          "x1": 272,
          "xref": "x",
          "y0": 0,
          "y1": 1,
          "yref": "paper"
         },
         {
          "line": {
           "color": "goldenrod",
           "dash": "dot",
           "width": 2
          },
          "type": "line",
          "x0": 269,
          "x1": 269,
          "xref": "x",
          "y0": 0,
          "y1": 1,
          "yref": "paper"
         },
         {
          "line": {
           "color": "goldenrod",
           "dash": "dot",
           "width": 2
          },
          "type": "line",
          "x0": 272,
          "x1": 272,
          "xref": "x",
          "y0": 0,
          "y1": 1,
          "yref": "paper"
         },
         {
          "fillcolor": "goldenrod",
          "layer": "below",
          "line": {
           "width": 0
          },
          "opacity": 0.5,
          "type": "rect",
          "x0": 275,
          "x1": 278,
          "xref": "x",
          "y0": 0,
          "y1": 1,
          "yref": "paper"
         },
         {
          "line": {
           "color": "goldenrod",
           "dash": "dot",
           "width": 2
          },
          "type": "line",
          "x0": 275,
          "x1": 275,
          "xref": "x",
          "y0": 0,
          "y1": 1,
          "yref": "paper"
         },
         {
          "line": {
           "color": "goldenrod",
           "dash": "dot",
           "width": 2
          },
          "type": "line",
          "x0": 278,
          "x1": 278,
          "xref": "x",
          "y0": 0,
          "y1": 1,
          "yref": "paper"
         },
         {
          "fillcolor": "goldenrod",
          "layer": "below",
          "line": {
           "width": 0
          },
          "opacity": 0.5,
          "type": "rect",
          "x0": 281,
          "x1": 284,
          "xref": "x",
          "y0": 0,
          "y1": 1,
          "yref": "paper"
         },
         {
          "line": {
           "color": "goldenrod",
           "dash": "dot",
           "width": 2
          },
          "type": "line",
          "x0": 281,
          "x1": 281,
          "xref": "x",
          "y0": 0,
          "y1": 1,
          "yref": "paper"
         },
         {
          "line": {
           "color": "goldenrod",
           "dash": "dot",
           "width": 2
          },
          "type": "line",
          "x0": 284,
          "x1": 284,
          "xref": "x",
          "y0": 0,
          "y1": 1,
          "yref": "paper"
         },
         {
          "fillcolor": "goldenrod",
          "layer": "below",
          "line": {
           "width": 0
          },
          "opacity": 0.5,
          "type": "rect",
          "x0": 290,
          "x1": 293,
          "xref": "x",
          "y0": 0,
          "y1": 1,
          "yref": "paper"
         },
         {
          "line": {
           "color": "goldenrod",
           "dash": "dot",
           "width": 2
          },
          "type": "line",
          "x0": 290,
          "x1": 290,
          "xref": "x",
          "y0": 0,
          "y1": 1,
          "yref": "paper"
         },
         {
          "line": {
           "color": "goldenrod",
           "dash": "dot",
           "width": 2
          },
          "type": "line",
          "x0": 293,
          "x1": 293,
          "xref": "x",
          "y0": 0,
          "y1": 1,
          "yref": "paper"
         },
         {
          "fillcolor": "goldenrod",
          "layer": "below",
          "line": {
           "width": 0
          },
          "opacity": 0.5,
          "type": "rect",
          "x0": 303,
          "x1": 306,
          "xref": "x",
          "y0": 0,
          "y1": 1,
          "yref": "paper"
         },
         {
          "line": {
           "color": "goldenrod",
           "dash": "dot",
           "width": 2
          },
          "type": "line",
          "x0": 303,
          "x1": 303,
          "xref": "x",
          "y0": 0,
          "y1": 1,
          "yref": "paper"
         },
         {
          "line": {
           "color": "goldenrod",
           "dash": "dot",
           "width": 2
          },
          "type": "line",
          "x0": 306,
          "x1": 306,
          "xref": "x",
          "y0": 0,
          "y1": 1,
          "yref": "paper"
         },
         {
          "fillcolor": "goldenrod",
          "layer": "below",
          "line": {
           "width": 0
          },
          "opacity": 0.5,
          "type": "rect",
          "x0": 309,
          "x1": 312,
          "xref": "x",
          "y0": 0,
          "y1": 1,
          "yref": "paper"
         },
         {
          "line": {
           "color": "goldenrod",
           "dash": "dot",
           "width": 2
          },
          "type": "line",
          "x0": 309,
          "x1": 309,
          "xref": "x",
          "y0": 0,
          "y1": 1,
          "yref": "paper"
         },
         {
          "line": {
           "color": "goldenrod",
           "dash": "dot",
           "width": 2
          },
          "type": "line",
          "x0": 312,
          "x1": 312,
          "xref": "x",
          "y0": 0,
          "y1": 1,
          "yref": "paper"
         },
         {
          "fillcolor": "goldenrod",
          "layer": "below",
          "line": {
           "width": 0
          },
          "opacity": 0.5,
          "type": "rect",
          "x0": 318,
          "x1": 321,
          "xref": "x",
          "y0": 0,
          "y1": 1,
          "yref": "paper"
         },
         {
          "line": {
           "color": "goldenrod",
           "dash": "dot",
           "width": 2
          },
          "type": "line",
          "x0": 318,
          "x1": 318,
          "xref": "x",
          "y0": 0,
          "y1": 1,
          "yref": "paper"
         },
         {
          "line": {
           "color": "goldenrod",
           "dash": "dot",
           "width": 2
          },
          "type": "line",
          "x0": 321,
          "x1": 321,
          "xref": "x",
          "y0": 0,
          "y1": 1,
          "yref": "paper"
         },
         {
          "fillcolor": "lawngreen",
          "layer": "below",
          "line": {
           "width": 0
          },
          "opacity": 0.5,
          "type": "rect",
          "x0": 544,
          "x1": 551,
          "xref": "x",
          "y0": 0,
          "y1": 1,
          "yref": "paper"
         },
         {
          "line": {
           "color": "lawngreen",
           "dash": "dot",
           "width": 2
          },
          "type": "line",
          "x0": 544,
          "x1": 544,
          "xref": "x",
          "y0": 0,
          "y1": 1,
          "yref": "paper"
         },
         {
          "line": {
           "color": "lawngreen",
           "dash": "dot",
           "width": 2
          },
          "type": "line",
          "x0": 551,
          "x1": 551,
          "xref": "x",
          "y0": 0,
          "y1": 1,
          "yref": "paper"
         },
         {
          "fillcolor": "blue",
          "layer": "below",
          "line": {
           "width": 0
          },
          "opacity": 0.5,
          "type": "rect",
          "x0": 810,
          "x1": 820,
          "xref": "x",
          "y0": 0,
          "y1": 1,
          "yref": "paper"
         },
         {
          "line": {
           "color": "blue",
           "dash": "dot",
           "width": 2
          },
          "type": "line",
          "x0": 810,
          "x1": 810,
          "xref": "x",
          "y0": 0,
          "y1": 1,
          "yref": "paper"
         },
         {
          "line": {
           "color": "blue",
           "dash": "dot",
           "width": 2
          },
          "type": "line",
          "x0": 820,
          "x1": 820,
          "xref": "x",
          "y0": 0,
          "y1": 1,
          "yref": "paper"
         },
         {
          "fillcolor": "blue",
          "layer": "below",
          "line": {
           "width": 0
          },
          "opacity": 0.5,
          "type": "rect",
          "x0": 865,
          "x1": 871,
          "xref": "x",
          "y0": 0,
          "y1": 1,
          "yref": "paper"
         },
         {
          "line": {
           "color": "blue",
           "dash": "dot",
           "width": 2
          },
          "type": "line",
          "x0": 865,
          "x1": 865,
          "xref": "x",
          "y0": 0,
          "y1": 1,
          "yref": "paper"
         },
         {
          "line": {
           "color": "blue",
           "dash": "dot",
           "width": 2
          },
          "type": "line",
          "x0": 871,
          "x1": 871,
          "xref": "x",
          "y0": 0,
          "y1": 1,
          "yref": "paper"
         },
         {
          "fillcolor": "blue",
          "layer": "below",
          "line": {
           "width": 0
          },
          "opacity": 0.5,
          "type": "rect",
          "x0": 938,
          "x1": 944,
          "xref": "x",
          "y0": 0,
          "y1": 1,
          "yref": "paper"
         },
         {
          "line": {
           "color": "blue",
           "dash": "dot",
           "width": 2
          },
          "type": "line",
          "x0": 938,
          "x1": 938,
          "xref": "x",
          "y0": 0,
          "y1": 1,
          "yref": "paper"
         },
         {
          "line": {
           "color": "blue",
           "dash": "dot",
           "width": 2
          },
          "type": "line",
          "x0": 944,
          "x1": 944,
          "xref": "x",
          "y0": 0,
          "y1": 1,
          "yref": "paper"
         },
         {
          "fillcolor": "blue",
          "layer": "below",
          "line": {
           "width": 0
          },
          "opacity": 0.5,
          "type": "rect",
          "x0": 1026,
          "x1": 1032,
          "xref": "x",
          "y0": 0,
          "y1": 1,
          "yref": "paper"
         },
         {
          "line": {
           "color": "blue",
           "dash": "dot",
           "width": 2
          },
          "type": "line",
          "x0": 1026,
          "x1": 1026,
          "xref": "x",
          "y0": 0,
          "y1": 1,
          "yref": "paper"
         },
         {
          "line": {
           "color": "blue",
           "dash": "dot",
           "width": 2
          },
          "type": "line",
          "x0": 1032,
          "x1": 1032,
          "xref": "x",
          "y0": 0,
          "y1": 1,
          "yref": "paper"
         },
         {
          "fillcolor": "goldenrod",
          "layer": "below",
          "line": {
           "width": 0
          },
          "opacity": 0.5,
          "type": "rect",
          "x0": 1216,
          "x1": 1219,
          "xref": "x",
          "y0": 0,
          "y1": 1,
          "yref": "paper"
         },
         {
          "line": {
           "color": "goldenrod",
           "dash": "dot",
           "width": 2
          },
          "type": "line",
          "x0": 1216,
          "x1": 1216,
          "xref": "x",
          "y0": 0,
          "y1": 1,
          "yref": "paper"
         },
         {
          "line": {
           "color": "goldenrod",
           "dash": "dot",
           "width": 2
          },
          "type": "line",
          "x0": 1219,
          "x1": 1219,
          "xref": "x",
          "y0": 0,
          "y1": 1,
          "yref": "paper"
         },
         {
          "fillcolor": "goldenrod",
          "layer": "below",
          "line": {
           "width": 0
          },
          "opacity": 0.5,
          "type": "rect",
          "x0": 1222,
          "x1": 1225,
          "xref": "x",
          "y0": 0,
          "y1": 1,
          "yref": "paper"
         },
         {
          "line": {
           "color": "goldenrod",
           "dash": "dot",
           "width": 2
          },
          "type": "line",
          "x0": 1222,
          "x1": 1222,
          "xref": "x",
          "y0": 0,
          "y1": 1,
          "yref": "paper"
         },
         {
          "line": {
           "color": "goldenrod",
           "dash": "dot",
           "width": 2
          },
          "type": "line",
          "x0": 1225,
          "x1": 1225,
          "xref": "x",
          "y0": 0,
          "y1": 1,
          "yref": "paper"
         },
         {
          "fillcolor": "goldenrod",
          "layer": "below",
          "line": {
           "width": 0
          },
          "opacity": 0.5,
          "type": "rect",
          "x0": 1228,
          "x1": 1231,
          "xref": "x",
          "y0": 0,
          "y1": 1,
          "yref": "paper"
         },
         {
          "line": {
           "color": "goldenrod",
           "dash": "dot",
           "width": 2
          },
          "type": "line",
          "x0": 1228,
          "x1": 1228,
          "xref": "x",
          "y0": 0,
          "y1": 1,
          "yref": "paper"
         },
         {
          "line": {
           "color": "goldenrod",
           "dash": "dot",
           "width": 2
          },
          "type": "line",
          "x0": 1231,
          "x1": 1231,
          "xref": "x",
          "y0": 0,
          "y1": 1,
          "yref": "paper"
         },
         {
          "fillcolor": "goldenrod",
          "layer": "below",
          "line": {
           "width": 0
          },
          "opacity": 0.5,
          "type": "rect",
          "x0": 1237,
          "x1": 1240,
          "xref": "x",
          "y0": 0,
          "y1": 1,
          "yref": "paper"
         },
         {
          "line": {
           "color": "goldenrod",
           "dash": "dot",
           "width": 2
          },
          "type": "line",
          "x0": 1237,
          "x1": 1237,
          "xref": "x",
          "y0": 0,
          "y1": 1,
          "yref": "paper"
         },
         {
          "line": {
           "color": "goldenrod",
           "dash": "dot",
           "width": 2
          },
          "type": "line",
          "x0": 1240,
          "x1": 1240,
          "xref": "x",
          "y0": 0,
          "y1": 1,
          "yref": "paper"
         },
         {
          "fillcolor": "goldenrod",
          "layer": "below",
          "line": {
           "width": 0
          },
          "opacity": 0.5,
          "type": "rect",
          "x0": 1250,
          "x1": 1253,
          "xref": "x",
          "y0": 0,
          "y1": 1,
          "yref": "paper"
         },
         {
          "line": {
           "color": "goldenrod",
           "dash": "dot",
           "width": 2
          },
          "type": "line",
          "x0": 1250,
          "x1": 1250,
          "xref": "x",
          "y0": 0,
          "y1": 1,
          "yref": "paper"
         },
         {
          "line": {
           "color": "goldenrod",
           "dash": "dot",
           "width": 2
          },
          "type": "line",
          "x0": 1253,
          "x1": 1253,
          "xref": "x",
          "y0": 0,
          "y1": 1,
          "yref": "paper"
         },
         {
          "fillcolor": "goldenrod",
          "layer": "below",
          "line": {
           "width": 0
          },
          "opacity": 0.5,
          "type": "rect",
          "x0": 1256,
          "x1": 1259,
          "xref": "x",
          "y0": 0,
          "y1": 1,
          "yref": "paper"
         },
         {
          "line": {
           "color": "goldenrod",
           "dash": "dot",
           "width": 2
          },
          "type": "line",
          "x0": 1256,
          "x1": 1256,
          "xref": "x",
          "y0": 0,
          "y1": 1,
          "yref": "paper"
         },
         {
          "line": {
           "color": "goldenrod",
           "dash": "dot",
           "width": 2
          },
          "type": "line",
          "x0": 1259,
          "x1": 1259,
          "xref": "x",
          "y0": 0,
          "y1": 1,
          "yref": "paper"
         },
         {
          "fillcolor": "goldenrod",
          "layer": "below",
          "line": {
           "width": 0
          },
          "opacity": 0.5,
          "type": "rect",
          "x0": 1262,
          "x1": 1265,
          "xref": "x",
          "y0": 0,
          "y1": 1,
          "yref": "paper"
         },
         {
          "line": {
           "color": "goldenrod",
           "dash": "dot",
           "width": 2
          },
          "type": "line",
          "x0": 1262,
          "x1": 1262,
          "xref": "x",
          "y0": 0,
          "y1": 1,
          "yref": "paper"
         },
         {
          "line": {
           "color": "goldenrod",
           "dash": "dot",
           "width": 2
          },
          "type": "line",
          "x0": 1265,
          "x1": 1265,
          "xref": "x",
          "y0": 0,
          "y1": 1,
          "yref": "paper"
         },
         {
          "fillcolor": "goldenrod",
          "layer": "below",
          "line": {
           "width": 0
          },
          "opacity": 0.5,
          "type": "rect",
          "x0": 1271,
          "x1": 1274,
          "xref": "x",
          "y0": 0,
          "y1": 1,
          "yref": "paper"
         },
         {
          "line": {
           "color": "goldenrod",
           "dash": "dot",
           "width": 2
          },
          "type": "line",
          "x0": 1271,
          "x1": 1271,
          "xref": "x",
          "y0": 0,
          "y1": 1,
          "yref": "paper"
         },
         {
          "line": {
           "color": "goldenrod",
           "dash": "dot",
           "width": 2
          },
          "type": "line",
          "x0": 1274,
          "x1": 1274,
          "xref": "x",
          "y0": 0,
          "y1": 1,
          "yref": "paper"
         },
         {
          "fillcolor": "goldenrod",
          "layer": "below",
          "line": {
           "width": 0
          },
          "opacity": 0.5,
          "type": "rect",
          "x0": 1284,
          "x1": 1287,
          "xref": "x",
          "y0": 0,
          "y1": 1,
          "yref": "paper"
         },
         {
          "line": {
           "color": "goldenrod",
           "dash": "dot",
           "width": 2
          },
          "type": "line",
          "x0": 1284,
          "x1": 1284,
          "xref": "x",
          "y0": 0,
          "y1": 1,
          "yref": "paper"
         },
         {
          "line": {
           "color": "goldenrod",
           "dash": "dot",
           "width": 2
          },
          "type": "line",
          "x0": 1287,
          "x1": 1287,
          "xref": "x",
          "y0": 0,
          "y1": 1,
          "yref": "paper"
         },
         {
          "fillcolor": "goldenrod",
          "layer": "below",
          "line": {
           "width": 0
          },
          "opacity": 0.5,
          "type": "rect",
          "x0": 1290,
          "x1": 1293,
          "xref": "x",
          "y0": 0,
          "y1": 1,
          "yref": "paper"
         },
         {
          "line": {
           "color": "goldenrod",
           "dash": "dot",
           "width": 2
          },
          "type": "line",
          "x0": 1290,
          "x1": 1290,
          "xref": "x",
          "y0": 0,
          "y1": 1,
          "yref": "paper"
         },
         {
          "line": {
           "color": "goldenrod",
           "dash": "dot",
           "width": 2
          },
          "type": "line",
          "x0": 1293,
          "x1": 1293,
          "xref": "x",
          "y0": 0,
          "y1": 1,
          "yref": "paper"
         },
         {
          "fillcolor": "goldenrod",
          "layer": "below",
          "line": {
           "width": 0
          },
          "opacity": 0.5,
          "type": "rect",
          "x0": 1299,
          "x1": 1302,
          "xref": "x",
          "y0": 0,
          "y1": 1,
          "yref": "paper"
         },
         {
          "line": {
           "color": "goldenrod",
           "dash": "dot",
           "width": 2
          },
          "type": "line",
          "x0": 1299,
          "x1": 1299,
          "xref": "x",
          "y0": 0,
          "y1": 1,
          "yref": "paper"
         },
         {
          "line": {
           "color": "goldenrod",
           "dash": "dot",
           "width": 2
          },
          "type": "line",
          "x0": 1302,
          "x1": 1302,
          "xref": "x",
          "y0": 0,
          "y1": 1,
          "yref": "paper"
         },
         {
          "fillcolor": "goldenrod",
          "layer": "below",
          "line": {
           "width": 0
          },
          "opacity": 0.5,
          "type": "rect",
          "x0": 1312,
          "x1": 1315,
          "xref": "x",
          "y0": 0,
          "y1": 1,
          "yref": "paper"
         },
         {
          "line": {
           "color": "goldenrod",
           "dash": "dot",
           "width": 2
          },
          "type": "line",
          "x0": 1312,
          "x1": 1312,
          "xref": "x",
          "y0": 0,
          "y1": 1,
          "yref": "paper"
         },
         {
          "line": {
           "color": "goldenrod",
           "dash": "dot",
           "width": 2
          },
          "type": "line",
          "x0": 1315,
          "x1": 1315,
          "xref": "x",
          "y0": 0,
          "y1": 1,
          "yref": "paper"
         },
         {
          "fillcolor": "goldenrod",
          "layer": "below",
          "line": {
           "width": 0
          },
          "opacity": 0.5,
          "type": "rect",
          "x0": 1318,
          "x1": 1321,
          "xref": "x",
          "y0": 0,
          "y1": 1,
          "yref": "paper"
         },
         {
          "line": {
           "color": "goldenrod",
           "dash": "dot",
           "width": 2
          },
          "type": "line",
          "x0": 1318,
          "x1": 1318,
          "xref": "x",
          "y0": 0,
          "y1": 1,
          "yref": "paper"
         },
         {
          "line": {
           "color": "goldenrod",
           "dash": "dot",
           "width": 2
          },
          "type": "line",
          "x0": 1321,
          "x1": 1321,
          "xref": "x",
          "y0": 0,
          "y1": 1,
          "yref": "paper"
         },
         {
          "fillcolor": "goldenrod",
          "layer": "below",
          "line": {
           "width": 0
          },
          "opacity": 0.5,
          "type": "rect",
          "x0": 1324,
          "x1": 1327,
          "xref": "x",
          "y0": 0,
          "y1": 1,
          "yref": "paper"
         },
         {
          "line": {
           "color": "goldenrod",
           "dash": "dot",
           "width": 2
          },
          "type": "line",
          "x0": 1324,
          "x1": 1324,
          "xref": "x",
          "y0": 0,
          "y1": 1,
          "yref": "paper"
         },
         {
          "line": {
           "color": "goldenrod",
           "dash": "dot",
           "width": 2
          },
          "type": "line",
          "x0": 1327,
          "x1": 1327,
          "xref": "x",
          "y0": 0,
          "y1": 1,
          "yref": "paper"
         },
         {
          "fillcolor": "goldenrod",
          "layer": "below",
          "line": {
           "width": 0
          },
          "opacity": 0.5,
          "type": "rect",
          "x0": 1333,
          "x1": 1336,
          "xref": "x",
          "y0": 0,
          "y1": 1,
          "yref": "paper"
         },
         {
          "line": {
           "color": "goldenrod",
           "dash": "dot",
           "width": 2
          },
          "type": "line",
          "x0": 1333,
          "x1": 1333,
          "xref": "x",
          "y0": 0,
          "y1": 1,
          "yref": "paper"
         },
         {
          "line": {
           "color": "goldenrod",
           "dash": "dot",
           "width": 2
          },
          "type": "line",
          "x0": 1336,
          "x1": 1336,
          "xref": "x",
          "y0": 0,
          "y1": 1,
          "yref": "paper"
         },
         {
          "fillcolor": "goldenrod",
          "layer": "below",
          "line": {
           "width": 0
          },
          "opacity": 0.5,
          "type": "rect",
          "x0": 1346,
          "x1": 1349,
          "xref": "x",
          "y0": 0,
          "y1": 1,
          "yref": "paper"
         },
         {
          "line": {
           "color": "goldenrod",
           "dash": "dot",
           "width": 2
          },
          "type": "line",
          "x0": 1346,
          "x1": 1346,
          "xref": "x",
          "y0": 0,
          "y1": 1,
          "yref": "paper"
         },
         {
          "line": {
           "color": "goldenrod",
           "dash": "dot",
           "width": 2
          },
          "type": "line",
          "x0": 1349,
          "x1": 1349,
          "xref": "x",
          "y0": 0,
          "y1": 1,
          "yref": "paper"
         },
         {
          "fillcolor": "goldenrod",
          "layer": "below",
          "line": {
           "width": 0
          },
          "opacity": 0.5,
          "type": "rect",
          "x0": 1352,
          "x1": 1355,
          "xref": "x",
          "y0": 0,
          "y1": 1,
          "yref": "paper"
         },
         {
          "line": {
           "color": "goldenrod",
           "dash": "dot",
           "width": 2
          },
          "type": "line",
          "x0": 1352,
          "x1": 1352,
          "xref": "x",
          "y0": 0,
          "y1": 1,
          "yref": "paper"
         },
         {
          "line": {
           "color": "goldenrod",
           "dash": "dot",
           "width": 2
          },
          "type": "line",
          "x0": 1355,
          "x1": 1355,
          "xref": "x",
          "y0": 0,
          "y1": 1,
          "yref": "paper"
         },
         {
          "fillcolor": "goldenrod",
          "layer": "below",
          "line": {
           "width": 0
          },
          "opacity": 0.5,
          "type": "rect",
          "x0": 1358,
          "x1": 1361,
          "xref": "x",
          "y0": 0,
          "y1": 1,
          "yref": "paper"
         },
         {
          "line": {
           "color": "goldenrod",
           "dash": "dot",
           "width": 2
          },
          "type": "line",
          "x0": 1358,
          "x1": 1358,
          "xref": "x",
          "y0": 0,
          "y1": 1,
          "yref": "paper"
         },
         {
          "line": {
           "color": "goldenrod",
           "dash": "dot",
           "width": 2
          },
          "type": "line",
          "x0": 1361,
          "x1": 1361,
          "xref": "x",
          "y0": 0,
          "y1": 1,
          "yref": "paper"
         },
         {
          "fillcolor": "goldenrod",
          "layer": "below",
          "line": {
           "width": 0
          },
          "opacity": 0.5,
          "type": "rect",
          "x0": 1367,
          "x1": 1370,
          "xref": "x",
          "y0": 0,
          "y1": 1,
          "yref": "paper"
         },
         {
          "line": {
           "color": "goldenrod",
           "dash": "dot",
           "width": 2
          },
          "type": "line",
          "x0": 1367,
          "x1": 1367,
          "xref": "x",
          "y0": 0,
          "y1": 1,
          "yref": "paper"
         },
         {
          "line": {
           "color": "goldenrod",
           "dash": "dot",
           "width": 2
          },
          "type": "line",
          "x0": 1370,
          "x1": 1370,
          "xref": "x",
          "y0": 0,
          "y1": 1,
          "yref": "paper"
         },
         {
          "fillcolor": "goldenrod",
          "layer": "below",
          "line": {
           "width": 0
          },
          "opacity": 0.5,
          "type": "rect",
          "x0": 1380,
          "x1": 1383,
          "xref": "x",
          "y0": 0,
          "y1": 1,
          "yref": "paper"
         },
         {
          "line": {
           "color": "goldenrod",
           "dash": "dot",
           "width": 2
          },
          "type": "line",
          "x0": 1380,
          "x1": 1380,
          "xref": "x",
          "y0": 0,
          "y1": 1,
          "yref": "paper"
         },
         {
          "line": {
           "color": "goldenrod",
           "dash": "dot",
           "width": 2
          },
          "type": "line",
          "x0": 1383,
          "x1": 1383,
          "xref": "x",
          "y0": 0,
          "y1": 1,
          "yref": "paper"
         },
         {
          "fillcolor": "goldenrod",
          "layer": "below",
          "line": {
           "width": 0
          },
          "opacity": 0.5,
          "type": "rect",
          "x0": 1386,
          "x1": 1389,
          "xref": "x",
          "y0": 0,
          "y1": 1,
          "yref": "paper"
         },
         {
          "line": {
           "color": "goldenrod",
           "dash": "dot",
           "width": 2
          },
          "type": "line",
          "x0": 1386,
          "x1": 1386,
          "xref": "x",
          "y0": 0,
          "y1": 1,
          "yref": "paper"
         },
         {
          "line": {
           "color": "goldenrod",
           "dash": "dot",
           "width": 2
          },
          "type": "line",
          "x0": 1389,
          "x1": 1389,
          "xref": "x",
          "y0": 0,
          "y1": 1,
          "yref": "paper"
         },
         {
          "fillcolor": "goldenrod",
          "layer": "below",
          "line": {
           "width": 0
          },
          "opacity": 0.5,
          "type": "rect",
          "x0": 1395,
          "x1": 1398,
          "xref": "x",
          "y0": 0,
          "y1": 1,
          "yref": "paper"
         },
         {
          "line": {
           "color": "goldenrod",
           "dash": "dot",
           "width": 2
          },
          "type": "line",
          "x0": 1395,
          "x1": 1395,
          "xref": "x",
          "y0": 0,
          "y1": 1,
          "yref": "paper"
         },
         {
          "line": {
           "color": "goldenrod",
           "dash": "dot",
           "width": 2
          },
          "type": "line",
          "x0": 1398,
          "x1": 1398,
          "xref": "x",
          "y0": 0,
          "y1": 1,
          "yref": "paper"
         },
         {
          "fillcolor": "goldenrod",
          "layer": "below",
          "line": {
           "width": 0
          },
          "opacity": 0.5,
          "type": "rect",
          "x0": 1408,
          "x1": 1411,
          "xref": "x",
          "y0": 0,
          "y1": 1,
          "yref": "paper"
         },
         {
          "line": {
           "color": "goldenrod",
           "dash": "dot",
           "width": 2
          },
          "type": "line",
          "x0": 1408,
          "x1": 1408,
          "xref": "x",
          "y0": 0,
          "y1": 1,
          "yref": "paper"
         },
         {
          "line": {
           "color": "goldenrod",
           "dash": "dot",
           "width": 2
          },
          "type": "line",
          "x0": 1411,
          "x1": 1411,
          "xref": "x",
          "y0": 0,
          "y1": 1,
          "yref": "paper"
         },
         {
          "fillcolor": "goldenrod",
          "layer": "below",
          "line": {
           "width": 0
          },
          "opacity": 0.5,
          "type": "rect",
          "x0": 1414,
          "x1": 1417,
          "xref": "x",
          "y0": 0,
          "y1": 1,
          "yref": "paper"
         },
         {
          "line": {
           "color": "goldenrod",
           "dash": "dot",
           "width": 2
          },
          "type": "line",
          "x0": 1414,
          "x1": 1414,
          "xref": "x",
          "y0": 0,
          "y1": 1,
          "yref": "paper"
         },
         {
          "line": {
           "color": "goldenrod",
           "dash": "dot",
           "width": 2
          },
          "type": "line",
          "x0": 1417,
          "x1": 1417,
          "xref": "x",
          "y0": 0,
          "y1": 1,
          "yref": "paper"
         },
         {
          "fillcolor": "blue",
          "layer": "below",
          "line": {
           "width": 0
          },
          "opacity": 0.5,
          "type": "rect",
          "x0": 1502,
          "x1": 1508,
          "xref": "x",
          "y0": 0,
          "y1": 1,
          "yref": "paper"
         },
         {
          "line": {
           "color": "blue",
           "dash": "dot",
           "width": 2
          },
          "type": "line",
          "x0": 1502,
          "x1": 1502,
          "xref": "x",
          "y0": 0,
          "y1": 1,
          "yref": "paper"
         },
         {
          "line": {
           "color": "blue",
           "dash": "dot",
           "width": 2
          },
          "type": "line",
          "x0": 1508,
          "x1": 1508,
          "xref": "x",
          "y0": 0,
          "y1": 1,
          "yref": "paper"
         },
         {
          "fillcolor": "blue",
          "layer": "below",
          "line": {
           "width": 0
          },
          "opacity": 0.5,
          "type": "rect",
          "x0": 2056,
          "x1": 2060,
          "xref": "x",
          "y0": 0,
          "y1": 1,
          "yref": "paper"
         },
         {
          "line": {
           "color": "blue",
           "dash": "dot",
           "width": 2
          },
          "type": "line",
          "x0": 2056,
          "x1": 2056,
          "xref": "x",
          "y0": 0,
          "y1": 1,
          "yref": "paper"
         },
         {
          "line": {
           "color": "blue",
           "dash": "dot",
           "width": 2
          },
          "type": "line",
          "x0": 2060,
          "x1": 2060,
          "xref": "x",
          "y0": 0,
          "y1": 1,
          "yref": "paper"
         },
         {
          "fillcolor": "goldenrod",
          "layer": "below",
          "line": {
           "width": 0
          },
          "opacity": 0.5,
          "type": "rect",
          "x0": 2332,
          "x1": 2335,
          "xref": "x",
          "y0": 0,
          "y1": 1,
          "yref": "paper"
         },
         {
          "line": {
           "color": "goldenrod",
           "dash": "dot",
           "width": 2
          },
          "type": "line",
          "x0": 2332,
          "x1": 2332,
          "xref": "x",
          "y0": 0,
          "y1": 1,
          "yref": "paper"
         },
         {
          "line": {
           "color": "goldenrod",
           "dash": "dot",
           "width": 2
          },
          "type": "line",
          "x0": 2335,
          "x1": 2335,
          "xref": "x",
          "y0": 0,
          "y1": 1,
          "yref": "paper"
         },
         {
          "fillcolor": "goldenrod",
          "layer": "below",
          "line": {
           "width": 0
          },
          "opacity": 0.5,
          "type": "rect",
          "x0": 2338,
          "x1": 2341,
          "xref": "x",
          "y0": 0,
          "y1": 1,
          "yref": "paper"
         },
         {
          "line": {
           "color": "goldenrod",
           "dash": "dot",
           "width": 2
          },
          "type": "line",
          "x0": 2338,
          "x1": 2338,
          "xref": "x",
          "y0": 0,
          "y1": 1,
          "yref": "paper"
         },
         {
          "line": {
           "color": "goldenrod",
           "dash": "dot",
           "width": 2
          },
          "type": "line",
          "x0": 2341,
          "x1": 2341,
          "xref": "x",
          "y0": 0,
          "y1": 1,
          "yref": "paper"
         },
         {
          "fillcolor": "goldenrod",
          "layer": "below",
          "line": {
           "width": 0
          },
          "opacity": 0.5,
          "type": "rect",
          "x0": 2347,
          "x1": 2350,
          "xref": "x",
          "y0": 0,
          "y1": 1,
          "yref": "paper"
         },
         {
          "line": {
           "color": "goldenrod",
           "dash": "dot",
           "width": 2
          },
          "type": "line",
          "x0": 2347,
          "x1": 2347,
          "xref": "x",
          "y0": 0,
          "y1": 1,
          "yref": "paper"
         },
         {
          "line": {
           "color": "goldenrod",
           "dash": "dot",
           "width": 2
          },
          "type": "line",
          "x0": 2350,
          "x1": 2350,
          "xref": "x",
          "y0": 0,
          "y1": 1,
          "yref": "paper"
         },
         {
          "fillcolor": "goldenrod",
          "layer": "below",
          "line": {
           "width": 0
          },
          "opacity": 0.5,
          "type": "rect",
          "x0": 2360,
          "x1": 2363,
          "xref": "x",
          "y0": 0,
          "y1": 1,
          "yref": "paper"
         },
         {
          "line": {
           "color": "goldenrod",
           "dash": "dot",
           "width": 2
          },
          "type": "line",
          "x0": 2360,
          "x1": 2360,
          "xref": "x",
          "y0": 0,
          "y1": 1,
          "yref": "paper"
         },
         {
          "line": {
           "color": "goldenrod",
           "dash": "dot",
           "width": 2
          },
          "type": "line",
          "x0": 2363,
          "x1": 2363,
          "xref": "x",
          "y0": 0,
          "y1": 1,
          "yref": "paper"
         },
         {
          "fillcolor": "goldenrod",
          "layer": "below",
          "line": {
           "width": 0
          },
          "opacity": 0.5,
          "type": "rect",
          "x0": 2366,
          "x1": 2369,
          "xref": "x",
          "y0": 0,
          "y1": 1,
          "yref": "paper"
         },
         {
          "line": {
           "color": "goldenrod",
           "dash": "dot",
           "width": 2
          },
          "type": "line",
          "x0": 2366,
          "x1": 2366,
          "xref": "x",
          "y0": 0,
          "y1": 1,
          "yref": "paper"
         },
         {
          "line": {
           "color": "goldenrod",
           "dash": "dot",
           "width": 2
          },
          "type": "line",
          "x0": 2369,
          "x1": 2369,
          "xref": "x",
          "y0": 0,
          "y1": 1,
          "yref": "paper"
         },
         {
          "fillcolor": "goldenrod",
          "layer": "below",
          "line": {
           "width": 0
          },
          "opacity": 0.5,
          "type": "rect",
          "x0": 2372,
          "x1": 2375,
          "xref": "x",
          "y0": 0,
          "y1": 1,
          "yref": "paper"
         },
         {
          "line": {
           "color": "goldenrod",
           "dash": "dot",
           "width": 2
          },
          "type": "line",
          "x0": 2372,
          "x1": 2372,
          "xref": "x",
          "y0": 0,
          "y1": 1,
          "yref": "paper"
         },
         {
          "line": {
           "color": "goldenrod",
           "dash": "dot",
           "width": 2
          },
          "type": "line",
          "x0": 2375,
          "x1": 2375,
          "xref": "x",
          "y0": 0,
          "y1": 1,
          "yref": "paper"
         },
         {
          "fillcolor": "goldenrod",
          "layer": "below",
          "line": {
           "width": 0
          },
          "opacity": 0.5,
          "type": "rect",
          "x0": 2381,
          "x1": 2384,
          "xref": "x",
          "y0": 0,
          "y1": 1,
          "yref": "paper"
         },
         {
          "line": {
           "color": "goldenrod",
           "dash": "dot",
           "width": 2
          },
          "type": "line",
          "x0": 2381,
          "x1": 2381,
          "xref": "x",
          "y0": 0,
          "y1": 1,
          "yref": "paper"
         },
         {
          "line": {
           "color": "goldenrod",
           "dash": "dot",
           "width": 2
          },
          "type": "line",
          "x0": 2384,
          "x1": 2384,
          "xref": "x",
          "y0": 0,
          "y1": 1,
          "yref": "paper"
         },
         {
          "fillcolor": "goldenrod",
          "layer": "below",
          "line": {
           "width": 0
          },
          "opacity": 0.5,
          "type": "rect",
          "x0": 2394,
          "x1": 2397,
          "xref": "x",
          "y0": 0,
          "y1": 1,
          "yref": "paper"
         },
         {
          "line": {
           "color": "goldenrod",
           "dash": "dot",
           "width": 2
          },
          "type": "line",
          "x0": 2394,
          "x1": 2394,
          "xref": "x",
          "y0": 0,
          "y1": 1,
          "yref": "paper"
         },
         {
          "line": {
           "color": "goldenrod",
           "dash": "dot",
           "width": 2
          },
          "type": "line",
          "x0": 2397,
          "x1": 2397,
          "xref": "x",
          "y0": 0,
          "y1": 1,
          "yref": "paper"
         },
         {
          "fillcolor": "goldenrod",
          "layer": "below",
          "line": {
           "width": 0
          },
          "opacity": 0.5,
          "type": "rect",
          "x0": 2400,
          "x1": 2403,
          "xref": "x",
          "y0": 0,
          "y1": 1,
          "yref": "paper"
         },
         {
          "line": {
           "color": "goldenrod",
           "dash": "dot",
           "width": 2
          },
          "type": "line",
          "x0": 2400,
          "x1": 2400,
          "xref": "x",
          "y0": 0,
          "y1": 1,
          "yref": "paper"
         },
         {
          "line": {
           "color": "goldenrod",
           "dash": "dot",
           "width": 2
          },
          "type": "line",
          "x0": 2403,
          "x1": 2403,
          "xref": "x",
          "y0": 0,
          "y1": 1,
          "yref": "paper"
         },
         {
          "fillcolor": "goldenrod",
          "layer": "below",
          "line": {
           "width": 0
          },
          "opacity": 0.5,
          "type": "rect",
          "x0": 2406,
          "x1": 2409,
          "xref": "x",
          "y0": 0,
          "y1": 1,
          "yref": "paper"
         },
         {
          "line": {
           "color": "goldenrod",
           "dash": "dot",
           "width": 2
          },
          "type": "line",
          "x0": 2406,
          "x1": 2406,
          "xref": "x",
          "y0": 0,
          "y1": 1,
          "yref": "paper"
         },
         {
          "line": {
           "color": "goldenrod",
           "dash": "dot",
           "width": 2
          },
          "type": "line",
          "x0": 2409,
          "x1": 2409,
          "xref": "x",
          "y0": 0,
          "y1": 1,
          "yref": "paper"
         },
         {
          "fillcolor": "goldenrod",
          "layer": "below",
          "line": {
           "width": 0
          },
          "opacity": 0.5,
          "type": "rect",
          "x0": 2415,
          "x1": 2418,
          "xref": "x",
          "y0": 0,
          "y1": 1,
          "yref": "paper"
         },
         {
          "line": {
           "color": "goldenrod",
           "dash": "dot",
           "width": 2
          },
          "type": "line",
          "x0": 2415,
          "x1": 2415,
          "xref": "x",
          "y0": 0,
          "y1": 1,
          "yref": "paper"
         },
         {
          "line": {
           "color": "goldenrod",
           "dash": "dot",
           "width": 2
          },
          "type": "line",
          "x0": 2418,
          "x1": 2418,
          "xref": "x",
          "y0": 0,
          "y1": 1,
          "yref": "paper"
         },
         {
          "fillcolor": "goldenrod",
          "layer": "below",
          "line": {
           "width": 0
          },
          "opacity": 0.5,
          "type": "rect",
          "x0": 2428,
          "x1": 2431,
          "xref": "x",
          "y0": 0,
          "y1": 1,
          "yref": "paper"
         },
         {
          "line": {
           "color": "goldenrod",
           "dash": "dot",
           "width": 2
          },
          "type": "line",
          "x0": 2428,
          "x1": 2428,
          "xref": "x",
          "y0": 0,
          "y1": 1,
          "yref": "paper"
         },
         {
          "line": {
           "color": "goldenrod",
           "dash": "dot",
           "width": 2
          },
          "type": "line",
          "x0": 2431,
          "x1": 2431,
          "xref": "x",
          "y0": 0,
          "y1": 1,
          "yref": "paper"
         },
         {
          "fillcolor": "goldenrod",
          "layer": "below",
          "line": {
           "width": 0
          },
          "opacity": 0.5,
          "type": "rect",
          "x0": 2434,
          "x1": 2437,
          "xref": "x",
          "y0": 0,
          "y1": 1,
          "yref": "paper"
         },
         {
          "line": {
           "color": "goldenrod",
           "dash": "dot",
           "width": 2
          },
          "type": "line",
          "x0": 2434,
          "x1": 2434,
          "xref": "x",
          "y0": 0,
          "y1": 1,
          "yref": "paper"
         },
         {
          "line": {
           "color": "goldenrod",
           "dash": "dot",
           "width": 2
          },
          "type": "line",
          "x0": 2437,
          "x1": 2437,
          "xref": "x",
          "y0": 0,
          "y1": 1,
          "yref": "paper"
         },
         {
          "fillcolor": "goldenrod",
          "layer": "below",
          "line": {
           "width": 0
          },
          "opacity": 0.5,
          "type": "rect",
          "x0": 2440,
          "x1": 2443,
          "xref": "x",
          "y0": 0,
          "y1": 1,
          "yref": "paper"
         },
         {
          "line": {
           "color": "goldenrod",
           "dash": "dot",
           "width": 2
          },
          "type": "line",
          "x0": 2440,
          "x1": 2440,
          "xref": "x",
          "y0": 0,
          "y1": 1,
          "yref": "paper"
         },
         {
          "line": {
           "color": "goldenrod",
           "dash": "dot",
           "width": 2
          },
          "type": "line",
          "x0": 2443,
          "x1": 2443,
          "xref": "x",
          "y0": 0,
          "y1": 1,
          "yref": "paper"
         },
         {
          "fillcolor": "goldenrod",
          "layer": "below",
          "line": {
           "width": 0
          },
          "opacity": 0.5,
          "type": "rect",
          "x0": 2449,
          "x1": 2452,
          "xref": "x",
          "y0": 0,
          "y1": 1,
          "yref": "paper"
         },
         {
          "line": {
           "color": "goldenrod",
           "dash": "dot",
           "width": 2
          },
          "type": "line",
          "x0": 2449,
          "x1": 2449,
          "xref": "x",
          "y0": 0,
          "y1": 1,
          "yref": "paper"
         },
         {
          "line": {
           "color": "goldenrod",
           "dash": "dot",
           "width": 2
          },
          "type": "line",
          "x0": 2452,
          "x1": 2452,
          "xref": "x",
          "y0": 0,
          "y1": 1,
          "yref": "paper"
         },
         {
          "fillcolor": "goldenrod",
          "layer": "below",
          "line": {
           "width": 0
          },
          "opacity": 0.5,
          "type": "rect",
          "x0": 2462,
          "x1": 2465,
          "xref": "x",
          "y0": 0,
          "y1": 1,
          "yref": "paper"
         },
         {
          "line": {
           "color": "goldenrod",
           "dash": "dot",
           "width": 2
          },
          "type": "line",
          "x0": 2462,
          "x1": 2462,
          "xref": "x",
          "y0": 0,
          "y1": 1,
          "yref": "paper"
         },
         {
          "line": {
           "color": "goldenrod",
           "dash": "dot",
           "width": 2
          },
          "type": "line",
          "x0": 2465,
          "x1": 2465,
          "xref": "x",
          "y0": 0,
          "y1": 1,
          "yref": "paper"
         },
         {
          "fillcolor": "goldenrod",
          "layer": "below",
          "line": {
           "width": 0
          },
          "opacity": 0.5,
          "type": "rect",
          "x0": 2468,
          "x1": 2471,
          "xref": "x",
          "y0": 0,
          "y1": 1,
          "yref": "paper"
         },
         {
          "line": {
           "color": "goldenrod",
           "dash": "dot",
           "width": 2
          },
          "type": "line",
          "x0": 2468,
          "x1": 2468,
          "xref": "x",
          "y0": 0,
          "y1": 1,
          "yref": "paper"
         },
         {
          "line": {
           "color": "goldenrod",
           "dash": "dot",
           "width": 2
          },
          "type": "line",
          "x0": 2471,
          "x1": 2471,
          "xref": "x",
          "y0": 0,
          "y1": 1,
          "yref": "paper"
         },
         {
          "fillcolor": "goldenrod",
          "layer": "below",
          "line": {
           "width": 0
          },
          "opacity": 0.5,
          "type": "rect",
          "x0": 2477,
          "x1": 2480,
          "xref": "x",
          "y0": 0,
          "y1": 1,
          "yref": "paper"
         },
         {
          "line": {
           "color": "goldenrod",
           "dash": "dot",
           "width": 2
          },
          "type": "line",
          "x0": 2477,
          "x1": 2477,
          "xref": "x",
          "y0": 0,
          "y1": 1,
          "yref": "paper"
         },
         {
          "line": {
           "color": "goldenrod",
           "dash": "dot",
           "width": 2
          },
          "type": "line",
          "x0": 2480,
          "x1": 2480,
          "xref": "x",
          "y0": 0,
          "y1": 1,
          "yref": "paper"
         },
         {
          "fillcolor": "goldenrod",
          "layer": "below",
          "line": {
           "width": 0
          },
          "opacity": 0.5,
          "type": "rect",
          "x0": 2490,
          "x1": 2493,
          "xref": "x",
          "y0": 0,
          "y1": 1,
          "yref": "paper"
         },
         {
          "line": {
           "color": "goldenrod",
           "dash": "dot",
           "width": 2
          },
          "type": "line",
          "x0": 2490,
          "x1": 2490,
          "xref": "x",
          "y0": 0,
          "y1": 1,
          "yref": "paper"
         },
         {
          "line": {
           "color": "goldenrod",
           "dash": "dot",
           "width": 2
          },
          "type": "line",
          "x0": 2493,
          "x1": 2493,
          "xref": "x",
          "y0": 0,
          "y1": 1,
          "yref": "paper"
         },
         {
          "fillcolor": "goldenrod",
          "layer": "below",
          "line": {
           "width": 0
          },
          "opacity": 0.5,
          "type": "rect",
          "x0": 2496,
          "x1": 2499,
          "xref": "x",
          "y0": 0,
          "y1": 1,
          "yref": "paper"
         },
         {
          "line": {
           "color": "goldenrod",
           "dash": "dot",
           "width": 2
          },
          "type": "line",
          "x0": 2496,
          "x1": 2496,
          "xref": "x",
          "y0": 0,
          "y1": 1,
          "yref": "paper"
         },
         {
          "line": {
           "color": "goldenrod",
           "dash": "dot",
           "width": 2
          },
          "type": "line",
          "x0": 2499,
          "x1": 2499,
          "xref": "x",
          "y0": 0,
          "y1": 1,
          "yref": "paper"
         },
         {
          "fillcolor": "goldenrod",
          "layer": "below",
          "line": {
           "width": 0
          },
          "opacity": 0.5,
          "type": "rect",
          "x0": 2502,
          "x1": 2505,
          "xref": "x",
          "y0": 0,
          "y1": 1,
          "yref": "paper"
         },
         {
          "line": {
           "color": "goldenrod",
           "dash": "dot",
           "width": 2
          },
          "type": "line",
          "x0": 2502,
          "x1": 2502,
          "xref": "x",
          "y0": 0,
          "y1": 1,
          "yref": "paper"
         },
         {
          "line": {
           "color": "goldenrod",
           "dash": "dot",
           "width": 2
          },
          "type": "line",
          "x0": 2505,
          "x1": 2505,
          "xref": "x",
          "y0": 0,
          "y1": 1,
          "yref": "paper"
         },
         {
          "fillcolor": "goldenrod",
          "layer": "below",
          "line": {
           "width": 0
          },
          "opacity": 0.5,
          "type": "rect",
          "x0": 2511,
          "x1": 2514,
          "xref": "x",
          "y0": 0,
          "y1": 1,
          "yref": "paper"
         },
         {
          "line": {
           "color": "goldenrod",
           "dash": "dot",
           "width": 2
          },
          "type": "line",
          "x0": 2511,
          "x1": 2511,
          "xref": "x",
          "y0": 0,
          "y1": 1,
          "yref": "paper"
         },
         {
          "line": {
           "color": "goldenrod",
           "dash": "dot",
           "width": 2
          },
          "type": "line",
          "x0": 2514,
          "x1": 2514,
          "xref": "x",
          "y0": 0,
          "y1": 1,
          "yref": "paper"
         },
         {
          "fillcolor": "red",
          "layer": "below",
          "line": {
           "width": 0
          },
          "opacity": 0.5,
          "type": "rect",
          "x0": 141,
          "x1": 142,
          "xref": "x",
          "y0": 0,
          "y1": 1,
          "yref": "paper"
         },
         {
          "line": {
           "color": "red",
           "dash": "dot",
           "width": 2
          },
          "type": "line",
          "x0": 141,
          "x1": 141,
          "xref": "x",
          "y0": 0,
          "y1": 1,
          "yref": "paper"
         },
         {
          "line": {
           "color": "red",
           "dash": "dot",
           "width": 2
          },
          "type": "line",
          "x0": 142,
          "x1": 142,
          "xref": "x",
          "y0": 0,
          "y1": 1,
          "yref": "paper"
         },
         {
          "fillcolor": "red",
          "layer": "below",
          "line": {
           "width": 0
          },
          "opacity": 0.5,
          "type": "rect",
          "x0": 147,
          "x1": 148,
          "xref": "x",
          "y0": 0,
          "y1": 1,
          "yref": "paper"
         },
         {
          "line": {
           "color": "red",
           "dash": "dot",
           "width": 2
          },
          "type": "line",
          "x0": 147,
          "x1": 147,
          "xref": "x",
          "y0": 0,
          "y1": 1,
          "yref": "paper"
         },
         {
          "line": {
           "color": "red",
           "dash": "dot",
           "width": 2
          },
          "type": "line",
          "x0": 148,
          "x1": 148,
          "xref": "x",
          "y0": 0,
          "y1": 1,
          "yref": "paper"
         },
         {
          "fillcolor": "red",
          "layer": "below",
          "line": {
           "width": 0
          },
          "opacity": 0.5,
          "type": "rect",
          "x0": 153,
          "x1": 154,
          "xref": "x",
          "y0": 0,
          "y1": 1,
          "yref": "paper"
         },
         {
          "line": {
           "color": "red",
           "dash": "dot",
           "width": 2
          },
          "type": "line",
          "x0": 153,
          "x1": 153,
          "xref": "x",
          "y0": 0,
          "y1": 1,
          "yref": "paper"
         },
         {
          "line": {
           "color": "red",
           "dash": "dot",
           "width": 2
          },
          "type": "line",
          "x0": 154,
          "x1": 154,
          "xref": "x",
          "y0": 0,
          "y1": 1,
          "yref": "paper"
         },
         {
          "fillcolor": "red",
          "layer": "below",
          "line": {
           "width": 0
          },
          "opacity": 0.5,
          "type": "rect",
          "x0": 160,
          "x1": 161,
          "xref": "x",
          "y0": 0,
          "y1": 1,
          "yref": "paper"
         },
         {
          "line": {
           "color": "red",
           "dash": "dot",
           "width": 2
          },
          "type": "line",
          "x0": 160,
          "x1": 160,
          "xref": "x",
          "y0": 0,
          "y1": 1,
          "yref": "paper"
         },
         {
          "line": {
           "color": "red",
           "dash": "dot",
           "width": 2
          },
          "type": "line",
          "x0": 161,
          "x1": 161,
          "xref": "x",
          "y0": 0,
          "y1": 1,
          "yref": "paper"
         },
         {
          "fillcolor": "red",
          "layer": "below",
          "line": {
           "width": 0
          },
          "opacity": 0.5,
          "type": "rect",
          "x0": 162,
          "x1": 163,
          "xref": "x",
          "y0": 0,
          "y1": 1,
          "yref": "paper"
         },
         {
          "line": {
           "color": "red",
           "dash": "dot",
           "width": 2
          },
          "type": "line",
          "x0": 162,
          "x1": 162,
          "xref": "x",
          "y0": 0,
          "y1": 1,
          "yref": "paper"
         },
         {
          "line": {
           "color": "red",
           "dash": "dot",
           "width": 2
          },
          "type": "line",
          "x0": 163,
          "x1": 163,
          "xref": "x",
          "y0": 0,
          "y1": 1,
          "yref": "paper"
         },
         {
          "fillcolor": "red",
          "layer": "below",
          "line": {
           "width": 0
          },
          "opacity": 0.5,
          "type": "rect",
          "x0": 175,
          "x1": 176,
          "xref": "x",
          "y0": 0,
          "y1": 1,
          "yref": "paper"
         },
         {
          "line": {
           "color": "red",
           "dash": "dot",
           "width": 2
          },
          "type": "line",
          "x0": 175,
          "x1": 175,
          "xref": "x",
          "y0": 0,
          "y1": 1,
          "yref": "paper"
         },
         {
          "line": {
           "color": "red",
           "dash": "dot",
           "width": 2
          },
          "type": "line",
          "x0": 176,
          "x1": 176,
          "xref": "x",
          "y0": 0,
          "y1": 1,
          "yref": "paper"
         },
         {
          "fillcolor": "red",
          "layer": "below",
          "line": {
           "width": 0
          },
          "opacity": 0.5,
          "type": "rect",
          "x0": 181,
          "x1": 182,
          "xref": "x",
          "y0": 0,
          "y1": 1,
          "yref": "paper"
         },
         {
          "line": {
           "color": "red",
           "dash": "dot",
           "width": 2
          },
          "type": "line",
          "x0": 181,
          "x1": 181,
          "xref": "x",
          "y0": 0,
          "y1": 1,
          "yref": "paper"
         },
         {
          "line": {
           "color": "red",
           "dash": "dot",
           "width": 2
          },
          "type": "line",
          "x0": 182,
          "x1": 182,
          "xref": "x",
          "y0": 0,
          "y1": 1,
          "yref": "paper"
         },
         {
          "fillcolor": "red",
          "layer": "below",
          "line": {
           "width": 0
          },
          "opacity": 0.5,
          "type": "rect",
          "x0": 187,
          "x1": 188,
          "xref": "x",
          "y0": 0,
          "y1": 1,
          "yref": "paper"
         },
         {
          "line": {
           "color": "red",
           "dash": "dot",
           "width": 2
          },
          "type": "line",
          "x0": 187,
          "x1": 187,
          "xref": "x",
          "y0": 0,
          "y1": 1,
          "yref": "paper"
         },
         {
          "line": {
           "color": "red",
           "dash": "dot",
           "width": 2
          },
          "type": "line",
          "x0": 188,
          "x1": 188,
          "xref": "x",
          "y0": 0,
          "y1": 1,
          "yref": "paper"
         },
         {
          "fillcolor": "red",
          "layer": "below",
          "line": {
           "width": 0
          },
          "opacity": 0.5,
          "type": "rect",
          "x0": 194,
          "x1": 195,
          "xref": "x",
          "y0": 0,
          "y1": 1,
          "yref": "paper"
         },
         {
          "line": {
           "color": "red",
           "dash": "dot",
           "width": 2
          },
          "type": "line",
          "x0": 194,
          "x1": 194,
          "xref": "x",
          "y0": 0,
          "y1": 1,
          "yref": "paper"
         },
         {
          "line": {
           "color": "red",
           "dash": "dot",
           "width": 2
          },
          "type": "line",
          "x0": 195,
          "x1": 195,
          "xref": "x",
          "y0": 0,
          "y1": 1,
          "yref": "paper"
         },
         {
          "fillcolor": "red",
          "layer": "below",
          "line": {
           "width": 0
          },
          "opacity": 0.5,
          "type": "rect",
          "x0": 196,
          "x1": 197,
          "xref": "x",
          "y0": 0,
          "y1": 1,
          "yref": "paper"
         },
         {
          "line": {
           "color": "red",
           "dash": "dot",
           "width": 2
          },
          "type": "line",
          "x0": 196,
          "x1": 196,
          "xref": "x",
          "y0": 0,
          "y1": 1,
          "yref": "paper"
         },
         {
          "line": {
           "color": "red",
           "dash": "dot",
           "width": 2
          },
          "type": "line",
          "x0": 197,
          "x1": 197,
          "xref": "x",
          "y0": 0,
          "y1": 1,
          "yref": "paper"
         },
         {
          "fillcolor": "red",
          "layer": "below",
          "line": {
           "width": 0
          },
          "opacity": 0.5,
          "type": "rect",
          "x0": 202,
          "x1": 203,
          "xref": "x",
          "y0": 0,
          "y1": 1,
          "yref": "paper"
         },
         {
          "line": {
           "color": "red",
           "dash": "dot",
           "width": 2
          },
          "type": "line",
          "x0": 202,
          "x1": 202,
          "xref": "x",
          "y0": 0,
          "y1": 1,
          "yref": "paper"
         },
         {
          "line": {
           "color": "red",
           "dash": "dot",
           "width": 2
          },
          "type": "line",
          "x0": 203,
          "x1": 203,
          "xref": "x",
          "y0": 0,
          "y1": 1,
          "yref": "paper"
         },
         {
          "fillcolor": "red",
          "layer": "below",
          "line": {
           "width": 0
          },
          "opacity": 0.5,
          "type": "rect",
          "x0": 215,
          "x1": 216,
          "xref": "x",
          "y0": 0,
          "y1": 1,
          "yref": "paper"
         },
         {
          "line": {
           "color": "red",
           "dash": "dot",
           "width": 2
          },
          "type": "line",
          "x0": 215,
          "x1": 215,
          "xref": "x",
          "y0": 0,
          "y1": 1,
          "yref": "paper"
         },
         {
          "line": {
           "color": "red",
           "dash": "dot",
           "width": 2
          },
          "type": "line",
          "x0": 216,
          "x1": 216,
          "xref": "x",
          "y0": 0,
          "y1": 1,
          "yref": "paper"
         },
         {
          "fillcolor": "red",
          "layer": "below",
          "line": {
           "width": 0
          },
          "opacity": 0.5,
          "type": "rect",
          "x0": 222,
          "x1": 223,
          "xref": "x",
          "y0": 0,
          "y1": 1,
          "yref": "paper"
         },
         {
          "line": {
           "color": "red",
           "dash": "dot",
           "width": 2
          },
          "type": "line",
          "x0": 222,
          "x1": 222,
          "xref": "x",
          "y0": 0,
          "y1": 1,
          "yref": "paper"
         },
         {
          "line": {
           "color": "red",
           "dash": "dot",
           "width": 2
          },
          "type": "line",
          "x0": 223,
          "x1": 223,
          "xref": "x",
          "y0": 0,
          "y1": 1,
          "yref": "paper"
         },
         {
          "fillcolor": "red",
          "layer": "below",
          "line": {
           "width": 0
          },
          "opacity": 0.5,
          "type": "rect",
          "x0": 224,
          "x1": 225,
          "xref": "x",
          "y0": 0,
          "y1": 1,
          "yref": "paper"
         },
         {
          "line": {
           "color": "red",
           "dash": "dot",
           "width": 2
          },
          "type": "line",
          "x0": 224,
          "x1": 224,
          "xref": "x",
          "y0": 0,
          "y1": 1,
          "yref": "paper"
         },
         {
          "line": {
           "color": "red",
           "dash": "dot",
           "width": 2
          },
          "type": "line",
          "x0": 225,
          "x1": 225,
          "xref": "x",
          "y0": 0,
          "y1": 1,
          "yref": "paper"
         },
         {
          "fillcolor": "red",
          "layer": "below",
          "line": {
           "width": 0
          },
          "opacity": 0.5,
          "type": "rect",
          "x0": 237,
          "x1": 238,
          "xref": "x",
          "y0": 0,
          "y1": 1,
          "yref": "paper"
         },
         {
          "line": {
           "color": "red",
           "dash": "dot",
           "width": 2
          },
          "type": "line",
          "x0": 237,
          "x1": 237,
          "xref": "x",
          "y0": 0,
          "y1": 1,
          "yref": "paper"
         },
         {
          "line": {
           "color": "red",
           "dash": "dot",
           "width": 2
          },
          "type": "line",
          "x0": 238,
          "x1": 238,
          "xref": "x",
          "y0": 0,
          "y1": 1,
          "yref": "paper"
         },
         {
          "fillcolor": "red",
          "layer": "below",
          "line": {
           "width": 0
          },
          "opacity": 0.5,
          "type": "rect",
          "x0": 243,
          "x1": 244,
          "xref": "x",
          "y0": 0,
          "y1": 1,
          "yref": "paper"
         },
         {
          "line": {
           "color": "red",
           "dash": "dot",
           "width": 2
          },
          "type": "line",
          "x0": 243,
          "x1": 243,
          "xref": "x",
          "y0": 0,
          "y1": 1,
          "yref": "paper"
         },
         {
          "line": {
           "color": "red",
           "dash": "dot",
           "width": 2
          },
          "type": "line",
          "x0": 244,
          "x1": 244,
          "xref": "x",
          "y0": 0,
          "y1": 1,
          "yref": "paper"
         },
         {
          "fillcolor": "red",
          "layer": "below",
          "line": {
           "width": 0
          },
          "opacity": 0.5,
          "type": "rect",
          "x0": 249,
          "x1": 250,
          "xref": "x",
          "y0": 0,
          "y1": 1,
          "yref": "paper"
         },
         {
          "line": {
           "color": "red",
           "dash": "dot",
           "width": 2
          },
          "type": "line",
          "x0": 249,
          "x1": 249,
          "xref": "x",
          "y0": 0,
          "y1": 1,
          "yref": "paper"
         },
         {
          "line": {
           "color": "red",
           "dash": "dot",
           "width": 2
          },
          "type": "line",
          "x0": 250,
          "x1": 250,
          "xref": "x",
          "y0": 0,
          "y1": 1,
          "yref": "paper"
         },
         {
          "fillcolor": "red",
          "layer": "below",
          "line": {
           "width": 0
          },
          "opacity": 0.5,
          "type": "rect",
          "x0": 256,
          "x1": 257,
          "xref": "x",
          "y0": 0,
          "y1": 1,
          "yref": "paper"
         },
         {
          "line": {
           "color": "red",
           "dash": "dot",
           "width": 2
          },
          "type": "line",
          "x0": 256,
          "x1": 256,
          "xref": "x",
          "y0": 0,
          "y1": 1,
          "yref": "paper"
         },
         {
          "line": {
           "color": "red",
           "dash": "dot",
           "width": 2
          },
          "type": "line",
          "x0": 257,
          "x1": 257,
          "xref": "x",
          "y0": 0,
          "y1": 1,
          "yref": "paper"
         },
         {
          "fillcolor": "red",
          "layer": "below",
          "line": {
           "width": 0
          },
          "opacity": 0.5,
          "type": "rect",
          "x0": 258,
          "x1": 259,
          "xref": "x",
          "y0": 0,
          "y1": 1,
          "yref": "paper"
         },
         {
          "line": {
           "color": "red",
           "dash": "dot",
           "width": 2
          },
          "type": "line",
          "x0": 258,
          "x1": 258,
          "xref": "x",
          "y0": 0,
          "y1": 1,
          "yref": "paper"
         },
         {
          "line": {
           "color": "red",
           "dash": "dot",
           "width": 2
          },
          "type": "line",
          "x0": 259,
          "x1": 259,
          "xref": "x",
          "y0": 0,
          "y1": 1,
          "yref": "paper"
         },
         {
          "fillcolor": "red",
          "layer": "below",
          "line": {
           "width": 0
          },
          "opacity": 0.5,
          "type": "rect",
          "x0": 271,
          "x1": 272,
          "xref": "x",
          "y0": 0,
          "y1": 1,
          "yref": "paper"
         },
         {
          "line": {
           "color": "red",
           "dash": "dot",
           "width": 2
          },
          "type": "line",
          "x0": 271,
          "x1": 271,
          "xref": "x",
          "y0": 0,
          "y1": 1,
          "yref": "paper"
         },
         {
          "line": {
           "color": "red",
           "dash": "dot",
           "width": 2
          },
          "type": "line",
          "x0": 272,
          "x1": 272,
          "xref": "x",
          "y0": 0,
          "y1": 1,
          "yref": "paper"
         },
         {
          "fillcolor": "red",
          "layer": "below",
          "line": {
           "width": 0
          },
          "opacity": 0.5,
          "type": "rect",
          "x0": 277,
          "x1": 278,
          "xref": "x",
          "y0": 0,
          "y1": 1,
          "yref": "paper"
         },
         {
          "line": {
           "color": "red",
           "dash": "dot",
           "width": 2
          },
          "type": "line",
          "x0": 277,
          "x1": 277,
          "xref": "x",
          "y0": 0,
          "y1": 1,
          "yref": "paper"
         },
         {
          "line": {
           "color": "red",
           "dash": "dot",
           "width": 2
          },
          "type": "line",
          "x0": 278,
          "x1": 278,
          "xref": "x",
          "y0": 0,
          "y1": 1,
          "yref": "paper"
         },
         {
          "fillcolor": "red",
          "layer": "below",
          "line": {
           "width": 0
          },
          "opacity": 0.5,
          "type": "rect",
          "x0": 283,
          "x1": 284,
          "xref": "x",
          "y0": 0,
          "y1": 1,
          "yref": "paper"
         },
         {
          "line": {
           "color": "red",
           "dash": "dot",
           "width": 2
          },
          "type": "line",
          "x0": 283,
          "x1": 283,
          "xref": "x",
          "y0": 0,
          "y1": 1,
          "yref": "paper"
         },
         {
          "line": {
           "color": "red",
           "dash": "dot",
           "width": 2
          },
          "type": "line",
          "x0": 284,
          "x1": 284,
          "xref": "x",
          "y0": 0,
          "y1": 1,
          "yref": "paper"
         },
         {
          "fillcolor": "red",
          "layer": "below",
          "line": {
           "width": 0
          },
          "opacity": 0.5,
          "type": "rect",
          "x0": 290,
          "x1": 291,
          "xref": "x",
          "y0": 0,
          "y1": 1,
          "yref": "paper"
         },
         {
          "line": {
           "color": "red",
           "dash": "dot",
           "width": 2
          },
          "type": "line",
          "x0": 290,
          "x1": 290,
          "xref": "x",
          "y0": 0,
          "y1": 1,
          "yref": "paper"
         },
         {
          "line": {
           "color": "red",
           "dash": "dot",
           "width": 2
          },
          "type": "line",
          "x0": 291,
          "x1": 291,
          "xref": "x",
          "y0": 0,
          "y1": 1,
          "yref": "paper"
         },
         {
          "fillcolor": "red",
          "layer": "below",
          "line": {
           "width": 0
          },
          "opacity": 0.5,
          "type": "rect",
          "x0": 292,
          "x1": 293,
          "xref": "x",
          "y0": 0,
          "y1": 1,
          "yref": "paper"
         },
         {
          "line": {
           "color": "red",
           "dash": "dot",
           "width": 2
          },
          "type": "line",
          "x0": 292,
          "x1": 292,
          "xref": "x",
          "y0": 0,
          "y1": 1,
          "yref": "paper"
         },
         {
          "line": {
           "color": "red",
           "dash": "dot",
           "width": 2
          },
          "type": "line",
          "x0": 293,
          "x1": 293,
          "xref": "x",
          "y0": 0,
          "y1": 1,
          "yref": "paper"
         },
         {
          "fillcolor": "red",
          "layer": "below",
          "line": {
           "width": 0
          },
          "opacity": 0.5,
          "type": "rect",
          "x0": 305,
          "x1": 306,
          "xref": "x",
          "y0": 0,
          "y1": 1,
          "yref": "paper"
         },
         {
          "line": {
           "color": "red",
           "dash": "dot",
           "width": 2
          },
          "type": "line",
          "x0": 305,
          "x1": 305,
          "xref": "x",
          "y0": 0,
          "y1": 1,
          "yref": "paper"
         },
         {
          "line": {
           "color": "red",
           "dash": "dot",
           "width": 2
          },
          "type": "line",
          "x0": 306,
          "x1": 306,
          "xref": "x",
          "y0": 0,
          "y1": 1,
          "yref": "paper"
         },
         {
          "fillcolor": "red",
          "layer": "below",
          "line": {
           "width": 0
          },
          "opacity": 0.5,
          "type": "rect",
          "x0": 311,
          "x1": 312,
          "xref": "x",
          "y0": 0,
          "y1": 1,
          "yref": "paper"
         },
         {
          "line": {
           "color": "red",
           "dash": "dot",
           "width": 2
          },
          "type": "line",
          "x0": 311,
          "x1": 311,
          "xref": "x",
          "y0": 0,
          "y1": 1,
          "yref": "paper"
         },
         {
          "line": {
           "color": "red",
           "dash": "dot",
           "width": 2
          },
          "type": "line",
          "x0": 312,
          "x1": 312,
          "xref": "x",
          "y0": 0,
          "y1": 1,
          "yref": "paper"
         },
         {
          "fillcolor": "red",
          "layer": "below",
          "line": {
           "width": 0
          },
          "opacity": 0.5,
          "type": "rect",
          "x0": 318,
          "x1": 319,
          "xref": "x",
          "y0": 0,
          "y1": 1,
          "yref": "paper"
         },
         {
          "line": {
           "color": "red",
           "dash": "dot",
           "width": 2
          },
          "type": "line",
          "x0": 318,
          "x1": 318,
          "xref": "x",
          "y0": 0,
          "y1": 1,
          "yref": "paper"
         },
         {
          "line": {
           "color": "red",
           "dash": "dot",
           "width": 2
          },
          "type": "line",
          "x0": 319,
          "x1": 319,
          "xref": "x",
          "y0": 0,
          "y1": 1,
          "yref": "paper"
         },
         {
          "fillcolor": "red",
          "layer": "below",
          "line": {
           "width": 0
          },
          "opacity": 0.5,
          "type": "rect",
          "x0": 320,
          "x1": 321,
          "xref": "x",
          "y0": 0,
          "y1": 1,
          "yref": "paper"
         },
         {
          "line": {
           "color": "red",
           "dash": "dot",
           "width": 2
          },
          "type": "line",
          "x0": 320,
          "x1": 320,
          "xref": "x",
          "y0": 0,
          "y1": 1,
          "yref": "paper"
         },
         {
          "line": {
           "color": "red",
           "dash": "dot",
           "width": 2
          },
          "type": "line",
          "x0": 321,
          "x1": 321,
          "xref": "x",
          "y0": 0,
          "y1": 1,
          "yref": "paper"
         },
         {
          "fillcolor": "red",
          "layer": "below",
          "line": {
           "width": 0
          },
          "opacity": 0.5,
          "type": "rect",
          "x0": 813,
          "x1": 814,
          "xref": "x",
          "y0": 0,
          "y1": 1,
          "yref": "paper"
         },
         {
          "line": {
           "color": "red",
           "dash": "dot",
           "width": 2
          },
          "type": "line",
          "x0": 813,
          "x1": 813,
          "xref": "x",
          "y0": 0,
          "y1": 1,
          "yref": "paper"
         },
         {
          "line": {
           "color": "red",
           "dash": "dot",
           "width": 2
          },
          "type": "line",
          "x0": 814,
          "x1": 814,
          "xref": "x",
          "y0": 0,
          "y1": 1,
          "yref": "paper"
         },
         {
          "fillcolor": "red",
          "layer": "below",
          "line": {
           "width": 0
          },
          "opacity": 0.5,
          "type": "rect",
          "x0": 867,
          "x1": 868,
          "xref": "x",
          "y0": 0,
          "y1": 1,
          "yref": "paper"
         },
         {
          "line": {
           "color": "red",
           "dash": "dot",
           "width": 2
          },
          "type": "line",
          "x0": 867,
          "x1": 867,
          "xref": "x",
          "y0": 0,
          "y1": 1,
          "yref": "paper"
         },
         {
          "line": {
           "color": "red",
           "dash": "dot",
           "width": 2
          },
          "type": "line",
          "x0": 868,
          "x1": 868,
          "xref": "x",
          "y0": 0,
          "y1": 1,
          "yref": "paper"
         },
         {
          "fillcolor": "red",
          "layer": "below",
          "line": {
           "width": 0
          },
          "opacity": 0.5,
          "type": "rect",
          "x0": 940,
          "x1": 941,
          "xref": "x",
          "y0": 0,
          "y1": 1,
          "yref": "paper"
         },
         {
          "line": {
           "color": "red",
           "dash": "dot",
           "width": 2
          },
          "type": "line",
          "x0": 940,
          "x1": 940,
          "xref": "x",
          "y0": 0,
          "y1": 1,
          "yref": "paper"
         },
         {
          "line": {
           "color": "red",
           "dash": "dot",
           "width": 2
          },
          "type": "line",
          "x0": 941,
          "x1": 941,
          "xref": "x",
          "y0": 0,
          "y1": 1,
          "yref": "paper"
         },
         {
          "fillcolor": "red",
          "layer": "below",
          "line": {
           "width": 0
          },
          "opacity": 0.5,
          "type": "rect",
          "x0": 1028,
          "x1": 1029,
          "xref": "x",
          "y0": 0,
          "y1": 1,
          "yref": "paper"
         },
         {
          "line": {
           "color": "red",
           "dash": "dot",
           "width": 2
          },
          "type": "line",
          "x0": 1028,
          "x1": 1028,
          "xref": "x",
          "y0": 0,
          "y1": 1,
          "yref": "paper"
         },
         {
          "line": {
           "color": "red",
           "dash": "dot",
           "width": 2
          },
          "type": "line",
          "x0": 1029,
          "x1": 1029,
          "xref": "x",
          "y0": 0,
          "y1": 1,
          "yref": "paper"
         },
         {
          "fillcolor": "red",
          "layer": "below",
          "line": {
           "width": 0
          },
          "opacity": 0.5,
          "type": "rect",
          "x0": 1218,
          "x1": 1219,
          "xref": "x",
          "y0": 0,
          "y1": 1,
          "yref": "paper"
         },
         {
          "line": {
           "color": "red",
           "dash": "dot",
           "width": 2
          },
          "type": "line",
          "x0": 1218,
          "x1": 1218,
          "xref": "x",
          "y0": 0,
          "y1": 1,
          "yref": "paper"
         },
         {
          "line": {
           "color": "red",
           "dash": "dot",
           "width": 2
          },
          "type": "line",
          "x0": 1219,
          "x1": 1219,
          "xref": "x",
          "y0": 0,
          "y1": 1,
          "yref": "paper"
         },
         {
          "fillcolor": "red",
          "layer": "below",
          "line": {
           "width": 0
          },
          "opacity": 0.5,
          "type": "rect",
          "x0": 1224,
          "x1": 1225,
          "xref": "x",
          "y0": 0,
          "y1": 1,
          "yref": "paper"
         },
         {
          "line": {
           "color": "red",
           "dash": "dot",
           "width": 2
          },
          "type": "line",
          "x0": 1224,
          "x1": 1224,
          "xref": "x",
          "y0": 0,
          "y1": 1,
          "yref": "paper"
         },
         {
          "line": {
           "color": "red",
           "dash": "dot",
           "width": 2
          },
          "type": "line",
          "x0": 1225,
          "x1": 1225,
          "xref": "x",
          "y0": 0,
          "y1": 1,
          "yref": "paper"
         },
         {
          "fillcolor": "red",
          "layer": "below",
          "line": {
           "width": 0
          },
          "opacity": 0.5,
          "type": "rect",
          "x0": 1230,
          "x1": 1231,
          "xref": "x",
          "y0": 0,
          "y1": 1,
          "yref": "paper"
         },
         {
          "line": {
           "color": "red",
           "dash": "dot",
           "width": 2
          },
          "type": "line",
          "x0": 1230,
          "x1": 1230,
          "xref": "x",
          "y0": 0,
          "y1": 1,
          "yref": "paper"
         },
         {
          "line": {
           "color": "red",
           "dash": "dot",
           "width": 2
          },
          "type": "line",
          "x0": 1231,
          "x1": 1231,
          "xref": "x",
          "y0": 0,
          "y1": 1,
          "yref": "paper"
         },
         {
          "fillcolor": "red",
          "layer": "below",
          "line": {
           "width": 0
          },
          "opacity": 0.5,
          "type": "rect",
          "x0": 1237,
          "x1": 1238,
          "xref": "x",
          "y0": 0,
          "y1": 1,
          "yref": "paper"
         },
         {
          "line": {
           "color": "red",
           "dash": "dot",
           "width": 2
          },
          "type": "line",
          "x0": 1237,
          "x1": 1237,
          "xref": "x",
          "y0": 0,
          "y1": 1,
          "yref": "paper"
         },
         {
          "line": {
           "color": "red",
           "dash": "dot",
           "width": 2
          },
          "type": "line",
          "x0": 1238,
          "x1": 1238,
          "xref": "x",
          "y0": 0,
          "y1": 1,
          "yref": "paper"
         },
         {
          "fillcolor": "red",
          "layer": "below",
          "line": {
           "width": 0
          },
          "opacity": 0.5,
          "type": "rect",
          "x0": 1239,
          "x1": 1240,
          "xref": "x",
          "y0": 0,
          "y1": 1,
          "yref": "paper"
         },
         {
          "line": {
           "color": "red",
           "dash": "dot",
           "width": 2
          },
          "type": "line",
          "x0": 1239,
          "x1": 1239,
          "xref": "x",
          "y0": 0,
          "y1": 1,
          "yref": "paper"
         },
         {
          "line": {
           "color": "red",
           "dash": "dot",
           "width": 2
          },
          "type": "line",
          "x0": 1240,
          "x1": 1240,
          "xref": "x",
          "y0": 0,
          "y1": 1,
          "yref": "paper"
         },
         {
          "fillcolor": "red",
          "layer": "below",
          "line": {
           "width": 0
          },
          "opacity": 0.5,
          "type": "rect",
          "x0": 1252,
          "x1": 1253,
          "xref": "x",
          "y0": 0,
          "y1": 1,
          "yref": "paper"
         },
         {
          "line": {
           "color": "red",
           "dash": "dot",
           "width": 2
          },
          "type": "line",
          "x0": 1252,
          "x1": 1252,
          "xref": "x",
          "y0": 0,
          "y1": 1,
          "yref": "paper"
         },
         {
          "line": {
           "color": "red",
           "dash": "dot",
           "width": 2
          },
          "type": "line",
          "x0": 1253,
          "x1": 1253,
          "xref": "x",
          "y0": 0,
          "y1": 1,
          "yref": "paper"
         },
         {
          "fillcolor": "red",
          "layer": "below",
          "line": {
           "width": 0
          },
          "opacity": 0.5,
          "type": "rect",
          "x0": 1258,
          "x1": 1259,
          "xref": "x",
          "y0": 0,
          "y1": 1,
          "yref": "paper"
         },
         {
          "line": {
           "color": "red",
           "dash": "dot",
           "width": 2
          },
          "type": "line",
          "x0": 1258,
          "x1": 1258,
          "xref": "x",
          "y0": 0,
          "y1": 1,
          "yref": "paper"
         },
         {
          "line": {
           "color": "red",
           "dash": "dot",
           "width": 2
          },
          "type": "line",
          "x0": 1259,
          "x1": 1259,
          "xref": "x",
          "y0": 0,
          "y1": 1,
          "yref": "paper"
         },
         {
          "fillcolor": "red",
          "layer": "below",
          "line": {
           "width": 0
          },
          "opacity": 0.5,
          "type": "rect",
          "x0": 1264,
          "x1": 1265,
          "xref": "x",
          "y0": 0,
          "y1": 1,
          "yref": "paper"
         },
         {
          "line": {
           "color": "red",
           "dash": "dot",
           "width": 2
          },
          "type": "line",
          "x0": 1264,
          "x1": 1264,
          "xref": "x",
          "y0": 0,
          "y1": 1,
          "yref": "paper"
         },
         {
          "line": {
           "color": "red",
           "dash": "dot",
           "width": 2
          },
          "type": "line",
          "x0": 1265,
          "x1": 1265,
          "xref": "x",
          "y0": 0,
          "y1": 1,
          "yref": "paper"
         },
         {
          "fillcolor": "red",
          "layer": "below",
          "line": {
           "width": 0
          },
          "opacity": 0.5,
          "type": "rect",
          "x0": 1271,
          "x1": 1272,
          "xref": "x",
          "y0": 0,
          "y1": 1,
          "yref": "paper"
         },
         {
          "line": {
           "color": "red",
           "dash": "dot",
           "width": 2
          },
          "type": "line",
          "x0": 1271,
          "x1": 1271,
          "xref": "x",
          "y0": 0,
          "y1": 1,
          "yref": "paper"
         },
         {
          "line": {
           "color": "red",
           "dash": "dot",
           "width": 2
          },
          "type": "line",
          "x0": 1272,
          "x1": 1272,
          "xref": "x",
          "y0": 0,
          "y1": 1,
          "yref": "paper"
         },
         {
          "fillcolor": "red",
          "layer": "below",
          "line": {
           "width": 0
          },
          "opacity": 0.5,
          "type": "rect",
          "x0": 1273,
          "x1": 1274,
          "xref": "x",
          "y0": 0,
          "y1": 1,
          "yref": "paper"
         },
         {
          "line": {
           "color": "red",
           "dash": "dot",
           "width": 2
          },
          "type": "line",
          "x0": 1273,
          "x1": 1273,
          "xref": "x",
          "y0": 0,
          "y1": 1,
          "yref": "paper"
         },
         {
          "line": {
           "color": "red",
           "dash": "dot",
           "width": 2
          },
          "type": "line",
          "x0": 1274,
          "x1": 1274,
          "xref": "x",
          "y0": 0,
          "y1": 1,
          "yref": "paper"
         },
         {
          "fillcolor": "red",
          "layer": "below",
          "line": {
           "width": 0
          },
          "opacity": 0.5,
          "type": "rect",
          "x0": 1286,
          "x1": 1287,
          "xref": "x",
          "y0": 0,
          "y1": 1,
          "yref": "paper"
         },
         {
          "line": {
           "color": "red",
           "dash": "dot",
           "width": 2
          },
          "type": "line",
          "x0": 1286,
          "x1": 1286,
          "xref": "x",
          "y0": 0,
          "y1": 1,
          "yref": "paper"
         },
         {
          "line": {
           "color": "red",
           "dash": "dot",
           "width": 2
          },
          "type": "line",
          "x0": 1287,
          "x1": 1287,
          "xref": "x",
          "y0": 0,
          "y1": 1,
          "yref": "paper"
         },
         {
          "fillcolor": "red",
          "layer": "below",
          "line": {
           "width": 0
          },
          "opacity": 0.5,
          "type": "rect",
          "x0": 1292,
          "x1": 1293,
          "xref": "x",
          "y0": 0,
          "y1": 1,
          "yref": "paper"
         },
         {
          "line": {
           "color": "red",
           "dash": "dot",
           "width": 2
          },
          "type": "line",
          "x0": 1292,
          "x1": 1292,
          "xref": "x",
          "y0": 0,
          "y1": 1,
          "yref": "paper"
         },
         {
          "line": {
           "color": "red",
           "dash": "dot",
           "width": 2
          },
          "type": "line",
          "x0": 1293,
          "x1": 1293,
          "xref": "x",
          "y0": 0,
          "y1": 1,
          "yref": "paper"
         },
         {
          "fillcolor": "red",
          "layer": "below",
          "line": {
           "width": 0
          },
          "opacity": 0.5,
          "type": "rect",
          "x0": 1299,
          "x1": 1300,
          "xref": "x",
          "y0": 0,
          "y1": 1,
          "yref": "paper"
         },
         {
          "line": {
           "color": "red",
           "dash": "dot",
           "width": 2
          },
          "type": "line",
          "x0": 1299,
          "x1": 1299,
          "xref": "x",
          "y0": 0,
          "y1": 1,
          "yref": "paper"
         },
         {
          "line": {
           "color": "red",
           "dash": "dot",
           "width": 2
          },
          "type": "line",
          "x0": 1300,
          "x1": 1300,
          "xref": "x",
          "y0": 0,
          "y1": 1,
          "yref": "paper"
         },
         {
          "fillcolor": "red",
          "layer": "below",
          "line": {
           "width": 0
          },
          "opacity": 0.5,
          "type": "rect",
          "x0": 1301,
          "x1": 1302,
          "xref": "x",
          "y0": 0,
          "y1": 1,
          "yref": "paper"
         },
         {
          "line": {
           "color": "red",
           "dash": "dot",
           "width": 2
          },
          "type": "line",
          "x0": 1301,
          "x1": 1301,
          "xref": "x",
          "y0": 0,
          "y1": 1,
          "yref": "paper"
         },
         {
          "line": {
           "color": "red",
           "dash": "dot",
           "width": 2
          },
          "type": "line",
          "x0": 1302,
          "x1": 1302,
          "xref": "x",
          "y0": 0,
          "y1": 1,
          "yref": "paper"
         },
         {
          "fillcolor": "red",
          "layer": "below",
          "line": {
           "width": 0
          },
          "opacity": 0.5,
          "type": "rect",
          "x0": 1314,
          "x1": 1315,
          "xref": "x",
          "y0": 0,
          "y1": 1,
          "yref": "paper"
         },
         {
          "line": {
           "color": "red",
           "dash": "dot",
           "width": 2
          },
          "type": "line",
          "x0": 1314,
          "x1": 1314,
          "xref": "x",
          "y0": 0,
          "y1": 1,
          "yref": "paper"
         },
         {
          "line": {
           "color": "red",
           "dash": "dot",
           "width": 2
          },
          "type": "line",
          "x0": 1315,
          "x1": 1315,
          "xref": "x",
          "y0": 0,
          "y1": 1,
          "yref": "paper"
         },
         {
          "fillcolor": "red",
          "layer": "below",
          "line": {
           "width": 0
          },
          "opacity": 0.5,
          "type": "rect",
          "x0": 1320,
          "x1": 1321,
          "xref": "x",
          "y0": 0,
          "y1": 1,
          "yref": "paper"
         },
         {
          "line": {
           "color": "red",
           "dash": "dot",
           "width": 2
          },
          "type": "line",
          "x0": 1320,
          "x1": 1320,
          "xref": "x",
          "y0": 0,
          "y1": 1,
          "yref": "paper"
         },
         {
          "line": {
           "color": "red",
           "dash": "dot",
           "width": 2
          },
          "type": "line",
          "x0": 1321,
          "x1": 1321,
          "xref": "x",
          "y0": 0,
          "y1": 1,
          "yref": "paper"
         },
         {
          "fillcolor": "red",
          "layer": "below",
          "line": {
           "width": 0
          },
          "opacity": 0.5,
          "type": "rect",
          "x0": 1326,
          "x1": 1327,
          "xref": "x",
          "y0": 0,
          "y1": 1,
          "yref": "paper"
         },
         {
          "line": {
           "color": "red",
           "dash": "dot",
           "width": 2
          },
          "type": "line",
          "x0": 1326,
          "x1": 1326,
          "xref": "x",
          "y0": 0,
          "y1": 1,
          "yref": "paper"
         },
         {
          "line": {
           "color": "red",
           "dash": "dot",
           "width": 2
          },
          "type": "line",
          "x0": 1327,
          "x1": 1327,
          "xref": "x",
          "y0": 0,
          "y1": 1,
          "yref": "paper"
         },
         {
          "fillcolor": "red",
          "layer": "below",
          "line": {
           "width": 0
          },
          "opacity": 0.5,
          "type": "rect",
          "x0": 1333,
          "x1": 1334,
          "xref": "x",
          "y0": 0,
          "y1": 1,
          "yref": "paper"
         },
         {
          "line": {
           "color": "red",
           "dash": "dot",
           "width": 2
          },
          "type": "line",
          "x0": 1333,
          "x1": 1333,
          "xref": "x",
          "y0": 0,
          "y1": 1,
          "yref": "paper"
         },
         {
          "line": {
           "color": "red",
           "dash": "dot",
           "width": 2
          },
          "type": "line",
          "x0": 1334,
          "x1": 1334,
          "xref": "x",
          "y0": 0,
          "y1": 1,
          "yref": "paper"
         },
         {
          "fillcolor": "red",
          "layer": "below",
          "line": {
           "width": 0
          },
          "opacity": 0.5,
          "type": "rect",
          "x0": 1335,
          "x1": 1336,
          "xref": "x",
          "y0": 0,
          "y1": 1,
          "yref": "paper"
         },
         {
          "line": {
           "color": "red",
           "dash": "dot",
           "width": 2
          },
          "type": "line",
          "x0": 1335,
          "x1": 1335,
          "xref": "x",
          "y0": 0,
          "y1": 1,
          "yref": "paper"
         },
         {
          "line": {
           "color": "red",
           "dash": "dot",
           "width": 2
          },
          "type": "line",
          "x0": 1336,
          "x1": 1336,
          "xref": "x",
          "y0": 0,
          "y1": 1,
          "yref": "paper"
         },
         {
          "fillcolor": "red",
          "layer": "below",
          "line": {
           "width": 0
          },
          "opacity": 0.5,
          "type": "rect",
          "x0": 1348,
          "x1": 1349,
          "xref": "x",
          "y0": 0,
          "y1": 1,
          "yref": "paper"
         },
         {
          "line": {
           "color": "red",
           "dash": "dot",
           "width": 2
          },
          "type": "line",
          "x0": 1348,
          "x1": 1348,
          "xref": "x",
          "y0": 0,
          "y1": 1,
          "yref": "paper"
         },
         {
          "line": {
           "color": "red",
           "dash": "dot",
           "width": 2
          },
          "type": "line",
          "x0": 1349,
          "x1": 1349,
          "xref": "x",
          "y0": 0,
          "y1": 1,
          "yref": "paper"
         },
         {
          "fillcolor": "red",
          "layer": "below",
          "line": {
           "width": 0
          },
          "opacity": 0.5,
          "type": "rect",
          "x0": 1354,
          "x1": 1355,
          "xref": "x",
          "y0": 0,
          "y1": 1,
          "yref": "paper"
         },
         {
          "line": {
           "color": "red",
           "dash": "dot",
           "width": 2
          },
          "type": "line",
          "x0": 1354,
          "x1": 1354,
          "xref": "x",
          "y0": 0,
          "y1": 1,
          "yref": "paper"
         },
         {
          "line": {
           "color": "red",
           "dash": "dot",
           "width": 2
          },
          "type": "line",
          "x0": 1355,
          "x1": 1355,
          "xref": "x",
          "y0": 0,
          "y1": 1,
          "yref": "paper"
         },
         {
          "fillcolor": "red",
          "layer": "below",
          "line": {
           "width": 0
          },
          "opacity": 0.5,
          "type": "rect",
          "x0": 1360,
          "x1": 1361,
          "xref": "x",
          "y0": 0,
          "y1": 1,
          "yref": "paper"
         },
         {
          "line": {
           "color": "red",
           "dash": "dot",
           "width": 2
          },
          "type": "line",
          "x0": 1360,
          "x1": 1360,
          "xref": "x",
          "y0": 0,
          "y1": 1,
          "yref": "paper"
         },
         {
          "line": {
           "color": "red",
           "dash": "dot",
           "width": 2
          },
          "type": "line",
          "x0": 1361,
          "x1": 1361,
          "xref": "x",
          "y0": 0,
          "y1": 1,
          "yref": "paper"
         },
         {
          "fillcolor": "red",
          "layer": "below",
          "line": {
           "width": 0
          },
          "opacity": 0.5,
          "type": "rect",
          "x0": 1367,
          "x1": 1368,
          "xref": "x",
          "y0": 0,
          "y1": 1,
          "yref": "paper"
         },
         {
          "line": {
           "color": "red",
           "dash": "dot",
           "width": 2
          },
          "type": "line",
          "x0": 1367,
          "x1": 1367,
          "xref": "x",
          "y0": 0,
          "y1": 1,
          "yref": "paper"
         },
         {
          "line": {
           "color": "red",
           "dash": "dot",
           "width": 2
          },
          "type": "line",
          "x0": 1368,
          "x1": 1368,
          "xref": "x",
          "y0": 0,
          "y1": 1,
          "yref": "paper"
         },
         {
          "fillcolor": "red",
          "layer": "below",
          "line": {
           "width": 0
          },
          "opacity": 0.5,
          "type": "rect",
          "x0": 1369,
          "x1": 1370,
          "xref": "x",
          "y0": 0,
          "y1": 1,
          "yref": "paper"
         },
         {
          "line": {
           "color": "red",
           "dash": "dot",
           "width": 2
          },
          "type": "line",
          "x0": 1369,
          "x1": 1369,
          "xref": "x",
          "y0": 0,
          "y1": 1,
          "yref": "paper"
         },
         {
          "line": {
           "color": "red",
           "dash": "dot",
           "width": 2
          },
          "type": "line",
          "x0": 1370,
          "x1": 1370,
          "xref": "x",
          "y0": 0,
          "y1": 1,
          "yref": "paper"
         },
         {
          "fillcolor": "red",
          "layer": "below",
          "line": {
           "width": 0
          },
          "opacity": 0.5,
          "type": "rect",
          "x0": 1382,
          "x1": 1383,
          "xref": "x",
          "y0": 0,
          "y1": 1,
          "yref": "paper"
         },
         {
          "line": {
           "color": "red",
           "dash": "dot",
           "width": 2
          },
          "type": "line",
          "x0": 1382,
          "x1": 1382,
          "xref": "x",
          "y0": 0,
          "y1": 1,
          "yref": "paper"
         },
         {
          "line": {
           "color": "red",
           "dash": "dot",
           "width": 2
          },
          "type": "line",
          "x0": 1383,
          "x1": 1383,
          "xref": "x",
          "y0": 0,
          "y1": 1,
          "yref": "paper"
         },
         {
          "fillcolor": "red",
          "layer": "below",
          "line": {
           "width": 0
          },
          "opacity": 0.5,
          "type": "rect",
          "x0": 1388,
          "x1": 1389,
          "xref": "x",
          "y0": 0,
          "y1": 1,
          "yref": "paper"
         },
         {
          "line": {
           "color": "red",
           "dash": "dot",
           "width": 2
          },
          "type": "line",
          "x0": 1388,
          "x1": 1388,
          "xref": "x",
          "y0": 0,
          "y1": 1,
          "yref": "paper"
         },
         {
          "line": {
           "color": "red",
           "dash": "dot",
           "width": 2
          },
          "type": "line",
          "x0": 1389,
          "x1": 1389,
          "xref": "x",
          "y0": 0,
          "y1": 1,
          "yref": "paper"
         },
         {
          "fillcolor": "red",
          "layer": "below",
          "line": {
           "width": 0
          },
          "opacity": 0.5,
          "type": "rect",
          "x0": 1395,
          "x1": 1396,
          "xref": "x",
          "y0": 0,
          "y1": 1,
          "yref": "paper"
         },
         {
          "line": {
           "color": "red",
           "dash": "dot",
           "width": 2
          },
          "type": "line",
          "x0": 1395,
          "x1": 1395,
          "xref": "x",
          "y0": 0,
          "y1": 1,
          "yref": "paper"
         },
         {
          "line": {
           "color": "red",
           "dash": "dot",
           "width": 2
          },
          "type": "line",
          "x0": 1396,
          "x1": 1396,
          "xref": "x",
          "y0": 0,
          "y1": 1,
          "yref": "paper"
         },
         {
          "fillcolor": "red",
          "layer": "below",
          "line": {
           "width": 0
          },
          "opacity": 0.5,
          "type": "rect",
          "x0": 1397,
          "x1": 1398,
          "xref": "x",
          "y0": 0,
          "y1": 1,
          "yref": "paper"
         },
         {
          "line": {
           "color": "red",
           "dash": "dot",
           "width": 2
          },
          "type": "line",
          "x0": 1397,
          "x1": 1397,
          "xref": "x",
          "y0": 0,
          "y1": 1,
          "yref": "paper"
         },
         {
          "line": {
           "color": "red",
           "dash": "dot",
           "width": 2
          },
          "type": "line",
          "x0": 1398,
          "x1": 1398,
          "xref": "x",
          "y0": 0,
          "y1": 1,
          "yref": "paper"
         },
         {
          "fillcolor": "red",
          "layer": "below",
          "line": {
           "width": 0
          },
          "opacity": 0.5,
          "type": "rect",
          "x0": 1410,
          "x1": 1411,
          "xref": "x",
          "y0": 0,
          "y1": 1,
          "yref": "paper"
         },
         {
          "line": {
           "color": "red",
           "dash": "dot",
           "width": 2
          },
          "type": "line",
          "x0": 1410,
          "x1": 1410,
          "xref": "x",
          "y0": 0,
          "y1": 1,
          "yref": "paper"
         },
         {
          "line": {
           "color": "red",
           "dash": "dot",
           "width": 2
          },
          "type": "line",
          "x0": 1411,
          "x1": 1411,
          "xref": "x",
          "y0": 0,
          "y1": 1,
          "yref": "paper"
         },
         {
          "fillcolor": "red",
          "layer": "below",
          "line": {
           "width": 0
          },
          "opacity": 0.5,
          "type": "rect",
          "x0": 1416,
          "x1": 1417,
          "xref": "x",
          "y0": 0,
          "y1": 1,
          "yref": "paper"
         },
         {
          "line": {
           "color": "red",
           "dash": "dot",
           "width": 2
          },
          "type": "line",
          "x0": 1416,
          "x1": 1416,
          "xref": "x",
          "y0": 0,
          "y1": 1,
          "yref": "paper"
         },
         {
          "line": {
           "color": "red",
           "dash": "dot",
           "width": 2
          },
          "type": "line",
          "x0": 1417,
          "x1": 1417,
          "xref": "x",
          "y0": 0,
          "y1": 1,
          "yref": "paper"
         },
         {
          "fillcolor": "red",
          "layer": "below",
          "line": {
           "width": 0
          },
          "opacity": 0.5,
          "type": "rect",
          "x0": 1504,
          "x1": 1505,
          "xref": "x",
          "y0": 0,
          "y1": 1,
          "yref": "paper"
         },
         {
          "line": {
           "color": "red",
           "dash": "dot",
           "width": 2
          },
          "type": "line",
          "x0": 1504,
          "x1": 1504,
          "xref": "x",
          "y0": 0,
          "y1": 1,
          "yref": "paper"
         },
         {
          "line": {
           "color": "red",
           "dash": "dot",
           "width": 2
          },
          "type": "line",
          "x0": 1505,
          "x1": 1505,
          "xref": "x",
          "y0": 0,
          "y1": 1,
          "yref": "paper"
         },
         {
          "fillcolor": "red",
          "layer": "below",
          "line": {
           "width": 0
          },
          "opacity": 0.5,
          "type": "rect",
          "x0": 2058,
          "x1": 2059,
          "xref": "x",
          "y0": 0,
          "y1": 1,
          "yref": "paper"
         },
         {
          "line": {
           "color": "red",
           "dash": "dot",
           "width": 2
          },
          "type": "line",
          "x0": 2058,
          "x1": 2058,
          "xref": "x",
          "y0": 0,
          "y1": 1,
          "yref": "paper"
         },
         {
          "line": {
           "color": "red",
           "dash": "dot",
           "width": 2
          },
          "type": "line",
          "x0": 2059,
          "x1": 2059,
          "xref": "x",
          "y0": 0,
          "y1": 1,
          "yref": "paper"
         },
         {
          "fillcolor": "red",
          "layer": "below",
          "line": {
           "width": 0
          },
          "opacity": 0.5,
          "type": "rect",
          "x0": 2334,
          "x1": 2335,
          "xref": "x",
          "y0": 0,
          "y1": 1,
          "yref": "paper"
         },
         {
          "line": {
           "color": "red",
           "dash": "dot",
           "width": 2
          },
          "type": "line",
          "x0": 2334,
          "x1": 2334,
          "xref": "x",
          "y0": 0,
          "y1": 1,
          "yref": "paper"
         },
         {
          "line": {
           "color": "red",
           "dash": "dot",
           "width": 2
          },
          "type": "line",
          "x0": 2335,
          "x1": 2335,
          "xref": "x",
          "y0": 0,
          "y1": 1,
          "yref": "paper"
         },
         {
          "fillcolor": "red",
          "layer": "below",
          "line": {
           "width": 0
          },
          "opacity": 0.5,
          "type": "rect",
          "x0": 2340,
          "x1": 2341,
          "xref": "x",
          "y0": 0,
          "y1": 1,
          "yref": "paper"
         },
         {
          "line": {
           "color": "red",
           "dash": "dot",
           "width": 2
          },
          "type": "line",
          "x0": 2340,
          "x1": 2340,
          "xref": "x",
          "y0": 0,
          "y1": 1,
          "yref": "paper"
         },
         {
          "line": {
           "color": "red",
           "dash": "dot",
           "width": 2
          },
          "type": "line",
          "x0": 2341,
          "x1": 2341,
          "xref": "x",
          "y0": 0,
          "y1": 1,
          "yref": "paper"
         },
         {
          "fillcolor": "red",
          "layer": "below",
          "line": {
           "width": 0
          },
          "opacity": 0.5,
          "type": "rect",
          "x0": 2347,
          "x1": 2348,
          "xref": "x",
          "y0": 0,
          "y1": 1,
          "yref": "paper"
         },
         {
          "line": {
           "color": "red",
           "dash": "dot",
           "width": 2
          },
          "type": "line",
          "x0": 2347,
          "x1": 2347,
          "xref": "x",
          "y0": 0,
          "y1": 1,
          "yref": "paper"
         },
         {
          "line": {
           "color": "red",
           "dash": "dot",
           "width": 2
          },
          "type": "line",
          "x0": 2348,
          "x1": 2348,
          "xref": "x",
          "y0": 0,
          "y1": 1,
          "yref": "paper"
         },
         {
          "fillcolor": "red",
          "layer": "below",
          "line": {
           "width": 0
          },
          "opacity": 0.5,
          "type": "rect",
          "x0": 2349,
          "x1": 2350,
          "xref": "x",
          "y0": 0,
          "y1": 1,
          "yref": "paper"
         },
         {
          "line": {
           "color": "red",
           "dash": "dot",
           "width": 2
          },
          "type": "line",
          "x0": 2349,
          "x1": 2349,
          "xref": "x",
          "y0": 0,
          "y1": 1,
          "yref": "paper"
         },
         {
          "line": {
           "color": "red",
           "dash": "dot",
           "width": 2
          },
          "type": "line",
          "x0": 2350,
          "x1": 2350,
          "xref": "x",
          "y0": 0,
          "y1": 1,
          "yref": "paper"
         },
         {
          "fillcolor": "red",
          "layer": "below",
          "line": {
           "width": 0
          },
          "opacity": 0.5,
          "type": "rect",
          "x0": 2362,
          "x1": 2363,
          "xref": "x",
          "y0": 0,
          "y1": 1,
          "yref": "paper"
         },
         {
          "line": {
           "color": "red",
           "dash": "dot",
           "width": 2
          },
          "type": "line",
          "x0": 2362,
          "x1": 2362,
          "xref": "x",
          "y0": 0,
          "y1": 1,
          "yref": "paper"
         },
         {
          "line": {
           "color": "red",
           "dash": "dot",
           "width": 2
          },
          "type": "line",
          "x0": 2363,
          "x1": 2363,
          "xref": "x",
          "y0": 0,
          "y1": 1,
          "yref": "paper"
         },
         {
          "fillcolor": "red",
          "layer": "below",
          "line": {
           "width": 0
          },
          "opacity": 0.5,
          "type": "rect",
          "x0": 2368,
          "x1": 2369,
          "xref": "x",
          "y0": 0,
          "y1": 1,
          "yref": "paper"
         },
         {
          "line": {
           "color": "red",
           "dash": "dot",
           "width": 2
          },
          "type": "line",
          "x0": 2368,
          "x1": 2368,
          "xref": "x",
          "y0": 0,
          "y1": 1,
          "yref": "paper"
         },
         {
          "line": {
           "color": "red",
           "dash": "dot",
           "width": 2
          },
          "type": "line",
          "x0": 2369,
          "x1": 2369,
          "xref": "x",
          "y0": 0,
          "y1": 1,
          "yref": "paper"
         },
         {
          "fillcolor": "red",
          "layer": "below",
          "line": {
           "width": 0
          },
          "opacity": 0.5,
          "type": "rect",
          "x0": 2374,
          "x1": 2375,
          "xref": "x",
          "y0": 0,
          "y1": 1,
          "yref": "paper"
         },
         {
          "line": {
           "color": "red",
           "dash": "dot",
           "width": 2
          },
          "type": "line",
          "x0": 2374,
          "x1": 2374,
          "xref": "x",
          "y0": 0,
          "y1": 1,
          "yref": "paper"
         },
         {
          "line": {
           "color": "red",
           "dash": "dot",
           "width": 2
          },
          "type": "line",
          "x0": 2375,
          "x1": 2375,
          "xref": "x",
          "y0": 0,
          "y1": 1,
          "yref": "paper"
         },
         {
          "fillcolor": "red",
          "layer": "below",
          "line": {
           "width": 0
          },
          "opacity": 0.5,
          "type": "rect",
          "x0": 2381,
          "x1": 2382,
          "xref": "x",
          "y0": 0,
          "y1": 1,
          "yref": "paper"
         },
         {
          "line": {
           "color": "red",
           "dash": "dot",
           "width": 2
          },
          "type": "line",
          "x0": 2381,
          "x1": 2381,
          "xref": "x",
          "y0": 0,
          "y1": 1,
          "yref": "paper"
         },
         {
          "line": {
           "color": "red",
           "dash": "dot",
           "width": 2
          },
          "type": "line",
          "x0": 2382,
          "x1": 2382,
          "xref": "x",
          "y0": 0,
          "y1": 1,
          "yref": "paper"
         },
         {
          "fillcolor": "red",
          "layer": "below",
          "line": {
           "width": 0
          },
          "opacity": 0.5,
          "type": "rect",
          "x0": 2383,
          "x1": 2384,
          "xref": "x",
          "y0": 0,
          "y1": 1,
          "yref": "paper"
         },
         {
          "line": {
           "color": "red",
           "dash": "dot",
           "width": 2
          },
          "type": "line",
          "x0": 2383,
          "x1": 2383,
          "xref": "x",
          "y0": 0,
          "y1": 1,
          "yref": "paper"
         },
         {
          "line": {
           "color": "red",
           "dash": "dot",
           "width": 2
          },
          "type": "line",
          "x0": 2384,
          "x1": 2384,
          "xref": "x",
          "y0": 0,
          "y1": 1,
          "yref": "paper"
         },
         {
          "fillcolor": "red",
          "layer": "below",
          "line": {
           "width": 0
          },
          "opacity": 0.5,
          "type": "rect",
          "x0": 2396,
          "x1": 2397,
          "xref": "x",
          "y0": 0,
          "y1": 1,
          "yref": "paper"
         },
         {
          "line": {
           "color": "red",
           "dash": "dot",
           "width": 2
          },
          "type": "line",
          "x0": 2396,
          "x1": 2396,
          "xref": "x",
          "y0": 0,
          "y1": 1,
          "yref": "paper"
         },
         {
          "line": {
           "color": "red",
           "dash": "dot",
           "width": 2
          },
          "type": "line",
          "x0": 2397,
          "x1": 2397,
          "xref": "x",
          "y0": 0,
          "y1": 1,
          "yref": "paper"
         },
         {
          "fillcolor": "red",
          "layer": "below",
          "line": {
           "width": 0
          },
          "opacity": 0.5,
          "type": "rect",
          "x0": 2402,
          "x1": 2403,
          "xref": "x",
          "y0": 0,
          "y1": 1,
          "yref": "paper"
         },
         {
          "line": {
           "color": "red",
           "dash": "dot",
           "width": 2
          },
          "type": "line",
          "x0": 2402,
          "x1": 2402,
          "xref": "x",
          "y0": 0,
          "y1": 1,
          "yref": "paper"
         },
         {
          "line": {
           "color": "red",
           "dash": "dot",
           "width": 2
          },
          "type": "line",
          "x0": 2403,
          "x1": 2403,
          "xref": "x",
          "y0": 0,
          "y1": 1,
          "yref": "paper"
         },
         {
          "fillcolor": "red",
          "layer": "below",
          "line": {
           "width": 0
          },
          "opacity": 0.5,
          "type": "rect",
          "x0": 2408,
          "x1": 2409,
          "xref": "x",
          "y0": 0,
          "y1": 1,
          "yref": "paper"
         },
         {
          "line": {
           "color": "red",
           "dash": "dot",
           "width": 2
          },
          "type": "line",
          "x0": 2408,
          "x1": 2408,
          "xref": "x",
          "y0": 0,
          "y1": 1,
          "yref": "paper"
         },
         {
          "line": {
           "color": "red",
           "dash": "dot",
           "width": 2
          },
          "type": "line",
          "x0": 2409,
          "x1": 2409,
          "xref": "x",
          "y0": 0,
          "y1": 1,
          "yref": "paper"
         },
         {
          "fillcolor": "red",
          "layer": "below",
          "line": {
           "width": 0
          },
          "opacity": 0.5,
          "type": "rect",
          "x0": 2415,
          "x1": 2416,
          "xref": "x",
          "y0": 0,
          "y1": 1,
          "yref": "paper"
         },
         {
          "line": {
           "color": "red",
           "dash": "dot",
           "width": 2
          },
          "type": "line",
          "x0": 2415,
          "x1": 2415,
          "xref": "x",
          "y0": 0,
          "y1": 1,
          "yref": "paper"
         },
         {
          "line": {
           "color": "red",
           "dash": "dot",
           "width": 2
          },
          "type": "line",
          "x0": 2416,
          "x1": 2416,
          "xref": "x",
          "y0": 0,
          "y1": 1,
          "yref": "paper"
         },
         {
          "fillcolor": "red",
          "layer": "below",
          "line": {
           "width": 0
          },
          "opacity": 0.5,
          "type": "rect",
          "x0": 2417,
          "x1": 2418,
          "xref": "x",
          "y0": 0,
          "y1": 1,
          "yref": "paper"
         },
         {
          "line": {
           "color": "red",
           "dash": "dot",
           "width": 2
          },
          "type": "line",
          "x0": 2417,
          "x1": 2417,
          "xref": "x",
          "y0": 0,
          "y1": 1,
          "yref": "paper"
         },
         {
          "line": {
           "color": "red",
           "dash": "dot",
           "width": 2
          },
          "type": "line",
          "x0": 2418,
          "x1": 2418,
          "xref": "x",
          "y0": 0,
          "y1": 1,
          "yref": "paper"
         },
         {
          "fillcolor": "red",
          "layer": "below",
          "line": {
           "width": 0
          },
          "opacity": 0.5,
          "type": "rect",
          "x0": 2430,
          "x1": 2431,
          "xref": "x",
          "y0": 0,
          "y1": 1,
          "yref": "paper"
         },
         {
          "line": {
           "color": "red",
           "dash": "dot",
           "width": 2
          },
          "type": "line",
          "x0": 2430,
          "x1": 2430,
          "xref": "x",
          "y0": 0,
          "y1": 1,
          "yref": "paper"
         },
         {
          "line": {
           "color": "red",
           "dash": "dot",
           "width": 2
          },
          "type": "line",
          "x0": 2431,
          "x1": 2431,
          "xref": "x",
          "y0": 0,
          "y1": 1,
          "yref": "paper"
         },
         {
          "fillcolor": "red",
          "layer": "below",
          "line": {
           "width": 0
          },
          "opacity": 0.5,
          "type": "rect",
          "x0": 2436,
          "x1": 2437,
          "xref": "x",
          "y0": 0,
          "y1": 1,
          "yref": "paper"
         },
         {
          "line": {
           "color": "red",
           "dash": "dot",
           "width": 2
          },
          "type": "line",
          "x0": 2436,
          "x1": 2436,
          "xref": "x",
          "y0": 0,
          "y1": 1,
          "yref": "paper"
         },
         {
          "line": {
           "color": "red",
           "dash": "dot",
           "width": 2
          },
          "type": "line",
          "x0": 2437,
          "x1": 2437,
          "xref": "x",
          "y0": 0,
          "y1": 1,
          "yref": "paper"
         },
         {
          "fillcolor": "red",
          "layer": "below",
          "line": {
           "width": 0
          },
          "opacity": 0.5,
          "type": "rect",
          "x0": 2442,
          "x1": 2443,
          "xref": "x",
          "y0": 0,
          "y1": 1,
          "yref": "paper"
         },
         {
          "line": {
           "color": "red",
           "dash": "dot",
           "width": 2
          },
          "type": "line",
          "x0": 2442,
          "x1": 2442,
          "xref": "x",
          "y0": 0,
          "y1": 1,
          "yref": "paper"
         },
         {
          "line": {
           "color": "red",
           "dash": "dot",
           "width": 2
          },
          "type": "line",
          "x0": 2443,
          "x1": 2443,
          "xref": "x",
          "y0": 0,
          "y1": 1,
          "yref": "paper"
         },
         {
          "fillcolor": "red",
          "layer": "below",
          "line": {
           "width": 0
          },
          "opacity": 0.5,
          "type": "rect",
          "x0": 2449,
          "x1": 2450,
          "xref": "x",
          "y0": 0,
          "y1": 1,
          "yref": "paper"
         },
         {
          "line": {
           "color": "red",
           "dash": "dot",
           "width": 2
          },
          "type": "line",
          "x0": 2449,
          "x1": 2449,
          "xref": "x",
          "y0": 0,
          "y1": 1,
          "yref": "paper"
         },
         {
          "line": {
           "color": "red",
           "dash": "dot",
           "width": 2
          },
          "type": "line",
          "x0": 2450,
          "x1": 2450,
          "xref": "x",
          "y0": 0,
          "y1": 1,
          "yref": "paper"
         },
         {
          "fillcolor": "red",
          "layer": "below",
          "line": {
           "width": 0
          },
          "opacity": 0.5,
          "type": "rect",
          "x0": 2451,
          "x1": 2452,
          "xref": "x",
          "y0": 0,
          "y1": 1,
          "yref": "paper"
         },
         {
          "line": {
           "color": "red",
           "dash": "dot",
           "width": 2
          },
          "type": "line",
          "x0": 2451,
          "x1": 2451,
          "xref": "x",
          "y0": 0,
          "y1": 1,
          "yref": "paper"
         },
         {
          "line": {
           "color": "red",
           "dash": "dot",
           "width": 2
          },
          "type": "line",
          "x0": 2452,
          "x1": 2452,
          "xref": "x",
          "y0": 0,
          "y1": 1,
          "yref": "paper"
         },
         {
          "fillcolor": "red",
          "layer": "below",
          "line": {
           "width": 0
          },
          "opacity": 0.5,
          "type": "rect",
          "x0": 2464,
          "x1": 2465,
          "xref": "x",
          "y0": 0,
          "y1": 1,
          "yref": "paper"
         },
         {
          "line": {
           "color": "red",
           "dash": "dot",
           "width": 2
          },
          "type": "line",
          "x0": 2464,
          "x1": 2464,
          "xref": "x",
          "y0": 0,
          "y1": 1,
          "yref": "paper"
         },
         {
          "line": {
           "color": "red",
           "dash": "dot",
           "width": 2
          },
          "type": "line",
          "x0": 2465,
          "x1": 2465,
          "xref": "x",
          "y0": 0,
          "y1": 1,
          "yref": "paper"
         },
         {
          "fillcolor": "red",
          "layer": "below",
          "line": {
           "width": 0
          },
          "opacity": 0.5,
          "type": "rect",
          "x0": 2470,
          "x1": 2471,
          "xref": "x",
          "y0": 0,
          "y1": 1,
          "yref": "paper"
         },
         {
          "line": {
           "color": "red",
           "dash": "dot",
           "width": 2
          },
          "type": "line",
          "x0": 2470,
          "x1": 2470,
          "xref": "x",
          "y0": 0,
          "y1": 1,
          "yref": "paper"
         },
         {
          "line": {
           "color": "red",
           "dash": "dot",
           "width": 2
          },
          "type": "line",
          "x0": 2471,
          "x1": 2471,
          "xref": "x",
          "y0": 0,
          "y1": 1,
          "yref": "paper"
         },
         {
          "fillcolor": "red",
          "layer": "below",
          "line": {
           "width": 0
          },
          "opacity": 0.5,
          "type": "rect",
          "x0": 2477,
          "x1": 2478,
          "xref": "x",
          "y0": 0,
          "y1": 1,
          "yref": "paper"
         },
         {
          "line": {
           "color": "red",
           "dash": "dot",
           "width": 2
          },
          "type": "line",
          "x0": 2477,
          "x1": 2477,
          "xref": "x",
          "y0": 0,
          "y1": 1,
          "yref": "paper"
         },
         {
          "line": {
           "color": "red",
           "dash": "dot",
           "width": 2
          },
          "type": "line",
          "x0": 2478,
          "x1": 2478,
          "xref": "x",
          "y0": 0,
          "y1": 1,
          "yref": "paper"
         },
         {
          "fillcolor": "red",
          "layer": "below",
          "line": {
           "width": 0
          },
          "opacity": 0.5,
          "type": "rect",
          "x0": 2479,
          "x1": 2480,
          "xref": "x",
          "y0": 0,
          "y1": 1,
          "yref": "paper"
         },
         {
          "line": {
           "color": "red",
           "dash": "dot",
           "width": 2
          },
          "type": "line",
          "x0": 2479,
          "x1": 2479,
          "xref": "x",
          "y0": 0,
          "y1": 1,
          "yref": "paper"
         },
         {
          "line": {
           "color": "red",
           "dash": "dot",
           "width": 2
          },
          "type": "line",
          "x0": 2480,
          "x1": 2480,
          "xref": "x",
          "y0": 0,
          "y1": 1,
          "yref": "paper"
         },
         {
          "fillcolor": "red",
          "layer": "below",
          "line": {
           "width": 0
          },
          "opacity": 0.5,
          "type": "rect",
          "x0": 2492,
          "x1": 2493,
          "xref": "x",
          "y0": 0,
          "y1": 1,
          "yref": "paper"
         },
         {
          "line": {
           "color": "red",
           "dash": "dot",
           "width": 2
          },
          "type": "line",
          "x0": 2492,
          "x1": 2492,
          "xref": "x",
          "y0": 0,
          "y1": 1,
          "yref": "paper"
         },
         {
          "line": {
           "color": "red",
           "dash": "dot",
           "width": 2
          },
          "type": "line",
          "x0": 2493,
          "x1": 2493,
          "xref": "x",
          "y0": 0,
          "y1": 1,
          "yref": "paper"
         },
         {
          "fillcolor": "red",
          "layer": "below",
          "line": {
           "width": 0
          },
          "opacity": 0.5,
          "type": "rect",
          "x0": 2498,
          "x1": 2499,
          "xref": "x",
          "y0": 0,
          "y1": 1,
          "yref": "paper"
         },
         {
          "line": {
           "color": "red",
           "dash": "dot",
           "width": 2
          },
          "type": "line",
          "x0": 2498,
          "x1": 2498,
          "xref": "x",
          "y0": 0,
          "y1": 1,
          "yref": "paper"
         },
         {
          "line": {
           "color": "red",
           "dash": "dot",
           "width": 2
          },
          "type": "line",
          "x0": 2499,
          "x1": 2499,
          "xref": "x",
          "y0": 0,
          "y1": 1,
          "yref": "paper"
         },
         {
          "fillcolor": "red",
          "layer": "below",
          "line": {
           "width": 0
          },
          "opacity": 0.5,
          "type": "rect",
          "x0": 2504,
          "x1": 2505,
          "xref": "x",
          "y0": 0,
          "y1": 1,
          "yref": "paper"
         },
         {
          "line": {
           "color": "red",
           "dash": "dot",
           "width": 2
          },
          "type": "line",
          "x0": 2504,
          "x1": 2504,
          "xref": "x",
          "y0": 0,
          "y1": 1,
          "yref": "paper"
         },
         {
          "line": {
           "color": "red",
           "dash": "dot",
           "width": 2
          },
          "type": "line",
          "x0": 2505,
          "x1": 2505,
          "xref": "x",
          "y0": 0,
          "y1": 1,
          "yref": "paper"
         },
         {
          "fillcolor": "red",
          "layer": "below",
          "line": {
           "width": 0
          },
          "opacity": 0.5,
          "type": "rect",
          "x0": 2511,
          "x1": 2512,
          "xref": "x",
          "y0": 0,
          "y1": 1,
          "yref": "paper"
         },
         {
          "line": {
           "color": "red",
           "dash": "dot",
           "width": 2
          },
          "type": "line",
          "x0": 2511,
          "x1": 2511,
          "xref": "x",
          "y0": 0,
          "y1": 1,
          "yref": "paper"
         },
         {
          "line": {
           "color": "red",
           "dash": "dot",
           "width": 2
          },
          "type": "line",
          "x0": 2512,
          "x1": 2512,
          "xref": "x",
          "y0": 0,
          "y1": 1,
          "yref": "paper"
         },
         {
          "fillcolor": "red",
          "layer": "below",
          "line": {
           "width": 0
          },
          "opacity": 0.5,
          "type": "rect",
          "x0": 2513,
          "x1": 2514,
          "xref": "x",
          "y0": 0,
          "y1": 1,
          "yref": "paper"
         },
         {
          "line": {
           "color": "red",
           "dash": "dot",
           "width": 2
          },
          "type": "line",
          "x0": 2513,
          "x1": 2513,
          "xref": "x",
          "y0": 0,
          "y1": 1,
          "yref": "paper"
         },
         {
          "line": {
           "color": "red",
           "dash": "dot",
           "width": 2
          },
          "type": "line",
          "x0": 2514,
          "x1": 2514,
          "xref": "x",
          "y0": 0,
          "y1": 1,
          "yref": "paper"
         }
        ],
        "template": {
         "data": {
          "bar": [
           {
            "error_x": {
             "color": "#2a3f5f"
            },
            "error_y": {
             "color": "#2a3f5f"
            },
            "marker": {
             "line": {
              "color": "#E5ECF6",
              "width": 0.5
             },
             "pattern": {
              "fillmode": "overlay",
              "size": 10,
              "solidity": 0.2
             }
            },
            "type": "bar"
           }
          ],
          "barpolar": [
           {
            "marker": {
             "line": {
              "color": "#E5ECF6",
              "width": 0.5
             },
             "pattern": {
              "fillmode": "overlay",
              "size": 10,
              "solidity": 0.2
             }
            },
            "type": "barpolar"
           }
          ],
          "carpet": [
           {
            "aaxis": {
             "endlinecolor": "#2a3f5f",
             "gridcolor": "white",
             "linecolor": "white",
             "minorgridcolor": "white",
             "startlinecolor": "#2a3f5f"
            },
            "baxis": {
             "endlinecolor": "#2a3f5f",
             "gridcolor": "white",
             "linecolor": "white",
             "minorgridcolor": "white",
             "startlinecolor": "#2a3f5f"
            },
            "type": "carpet"
           }
          ],
          "choropleth": [
           {
            "colorbar": {
             "outlinewidth": 0,
             "ticks": ""
            },
            "type": "choropleth"
           }
          ],
          "contour": [
           {
            "colorbar": {
             "outlinewidth": 0,
             "ticks": ""
            },
            "colorscale": [
             [
              0,
              "#0d0887"
             ],
             [
              0.1111111111111111,
              "#46039f"
             ],
             [
              0.2222222222222222,
              "#7201a8"
             ],
             [
              0.3333333333333333,
              "#9c179e"
             ],
             [
              0.4444444444444444,
              "#bd3786"
             ],
             [
              0.5555555555555556,
              "#d8576b"
             ],
             [
              0.6666666666666666,
              "#ed7953"
             ],
             [
              0.7777777777777778,
              "#fb9f3a"
             ],
             [
              0.8888888888888888,
              "#fdca26"
             ],
             [
              1,
              "#f0f921"
             ]
            ],
            "type": "contour"
           }
          ],
          "contourcarpet": [
           {
            "colorbar": {
             "outlinewidth": 0,
             "ticks": ""
            },
            "type": "contourcarpet"
           }
          ],
          "heatmap": [
           {
            "colorbar": {
             "outlinewidth": 0,
             "ticks": ""
            },
            "colorscale": [
             [
              0,
              "#0d0887"
             ],
             [
              0.1111111111111111,
              "#46039f"
             ],
             [
              0.2222222222222222,
              "#7201a8"
             ],
             [
              0.3333333333333333,
              "#9c179e"
             ],
             [
              0.4444444444444444,
              "#bd3786"
             ],
             [
              0.5555555555555556,
              "#d8576b"
             ],
             [
              0.6666666666666666,
              "#ed7953"
             ],
             [
              0.7777777777777778,
              "#fb9f3a"
             ],
             [
              0.8888888888888888,
              "#fdca26"
             ],
             [
              1,
              "#f0f921"
             ]
            ],
            "type": "heatmap"
           }
          ],
          "heatmapgl": [
           {
            "colorbar": {
             "outlinewidth": 0,
             "ticks": ""
            },
            "colorscale": [
             [
              0,
              "#0d0887"
             ],
             [
              0.1111111111111111,
              "#46039f"
             ],
             [
              0.2222222222222222,
              "#7201a8"
             ],
             [
              0.3333333333333333,
              "#9c179e"
             ],
             [
              0.4444444444444444,
              "#bd3786"
             ],
             [
              0.5555555555555556,
              "#d8576b"
             ],
             [
              0.6666666666666666,
              "#ed7953"
             ],
             [
              0.7777777777777778,
              "#fb9f3a"
             ],
             [
              0.8888888888888888,
              "#fdca26"
             ],
             [
              1,
              "#f0f921"
             ]
            ],
            "type": "heatmapgl"
           }
          ],
          "histogram": [
           {
            "marker": {
             "pattern": {
              "fillmode": "overlay",
              "size": 10,
              "solidity": 0.2
             }
            },
            "type": "histogram"
           }
          ],
          "histogram2d": [
           {
            "colorbar": {
             "outlinewidth": 0,
             "ticks": ""
            },
            "colorscale": [
             [
              0,
              "#0d0887"
             ],
             [
              0.1111111111111111,
              "#46039f"
             ],
             [
              0.2222222222222222,
              "#7201a8"
             ],
             [
              0.3333333333333333,
              "#9c179e"
             ],
             [
              0.4444444444444444,
              "#bd3786"
             ],
             [
              0.5555555555555556,
              "#d8576b"
             ],
             [
              0.6666666666666666,
              "#ed7953"
             ],
             [
              0.7777777777777778,
              "#fb9f3a"
             ],
             [
              0.8888888888888888,
              "#fdca26"
             ],
             [
              1,
              "#f0f921"
             ]
            ],
            "type": "histogram2d"
           }
          ],
          "histogram2dcontour": [
           {
            "colorbar": {
             "outlinewidth": 0,
             "ticks": ""
            },
            "colorscale": [
             [
              0,
              "#0d0887"
             ],
             [
              0.1111111111111111,
              "#46039f"
             ],
             [
              0.2222222222222222,
              "#7201a8"
             ],
             [
              0.3333333333333333,
              "#9c179e"
             ],
             [
              0.4444444444444444,
              "#bd3786"
             ],
             [
              0.5555555555555556,
              "#d8576b"
             ],
             [
              0.6666666666666666,
              "#ed7953"
             ],
             [
              0.7777777777777778,
              "#fb9f3a"
             ],
             [
              0.8888888888888888,
              "#fdca26"
             ],
             [
              1,
              "#f0f921"
             ]
            ],
            "type": "histogram2dcontour"
           }
          ],
          "mesh3d": [
           {
            "colorbar": {
             "outlinewidth": 0,
             "ticks": ""
            },
            "type": "mesh3d"
           }
          ],
          "parcoords": [
           {
            "line": {
             "colorbar": {
              "outlinewidth": 0,
              "ticks": ""
             }
            },
            "type": "parcoords"
           }
          ],
          "pie": [
           {
            "automargin": true,
            "type": "pie"
           }
          ],
          "scatter": [
           {
            "fillpattern": {
             "fillmode": "overlay",
             "size": 10,
             "solidity": 0.2
            },
            "type": "scatter"
           }
          ],
          "scatter3d": [
           {
            "line": {
             "colorbar": {
              "outlinewidth": 0,
              "ticks": ""
             }
            },
            "marker": {
             "colorbar": {
              "outlinewidth": 0,
              "ticks": ""
             }
            },
            "type": "scatter3d"
           }
          ],
          "scattercarpet": [
           {
            "marker": {
             "colorbar": {
              "outlinewidth": 0,
              "ticks": ""
             }
            },
            "type": "scattercarpet"
           }
          ],
          "scattergeo": [
           {
            "marker": {
             "colorbar": {
              "outlinewidth": 0,
              "ticks": ""
             }
            },
            "type": "scattergeo"
           }
          ],
          "scattergl": [
           {
            "marker": {
             "colorbar": {
              "outlinewidth": 0,
              "ticks": ""
             }
            },
            "type": "scattergl"
           }
          ],
          "scattermapbox": [
           {
            "marker": {
             "colorbar": {
              "outlinewidth": 0,
              "ticks": ""
             }
            },
            "type": "scattermapbox"
           }
          ],
          "scatterpolar": [
           {
            "marker": {
             "colorbar": {
              "outlinewidth": 0,
              "ticks": ""
             }
            },
            "type": "scatterpolar"
           }
          ],
          "scatterpolargl": [
           {
            "marker": {
             "colorbar": {
              "outlinewidth": 0,
              "ticks": ""
             }
            },
            "type": "scatterpolargl"
           }
          ],
          "scatterternary": [
           {
            "marker": {
             "colorbar": {
              "outlinewidth": 0,
              "ticks": ""
             }
            },
            "type": "scatterternary"
           }
          ],
          "surface": [
           {
            "colorbar": {
             "outlinewidth": 0,
             "ticks": ""
            },
            "colorscale": [
             [
              0,
              "#0d0887"
             ],
             [
              0.1111111111111111,
              "#46039f"
             ],
             [
              0.2222222222222222,
              "#7201a8"
             ],
             [
              0.3333333333333333,
              "#9c179e"
             ],
             [
              0.4444444444444444,
              "#bd3786"
             ],
             [
              0.5555555555555556,
              "#d8576b"
             ],
             [
              0.6666666666666666,
              "#ed7953"
             ],
             [
              0.7777777777777778,
              "#fb9f3a"
             ],
             [
              0.8888888888888888,
              "#fdca26"
             ],
             [
              1,
              "#f0f921"
             ]
            ],
            "type": "surface"
           }
          ],
          "table": [
           {
            "cells": {
             "fill": {
              "color": "#EBF0F8"
             },
             "line": {
              "color": "white"
             }
            },
            "header": {
             "fill": {
              "color": "#C8D4E3"
             },
             "line": {
              "color": "white"
             }
            },
            "type": "table"
           }
          ]
         },
         "layout": {
          "annotationdefaults": {
           "arrowcolor": "#2a3f5f",
           "arrowhead": 0,
           "arrowwidth": 1
          },
          "autotypenumbers": "strict",
          "coloraxis": {
           "colorbar": {
            "outlinewidth": 0,
            "ticks": ""
           }
          },
          "colorscale": {
           "diverging": [
            [
             0,
             "#8e0152"
            ],
            [
             0.1,
             "#c51b7d"
            ],
            [
             0.2,
             "#de77ae"
            ],
            [
             0.3,
             "#f1b6da"
            ],
            [
             0.4,
             "#fde0ef"
            ],
            [
             0.5,
             "#f7f7f7"
            ],
            [
             0.6,
             "#e6f5d0"
            ],
            [
             0.7,
             "#b8e186"
            ],
            [
             0.8,
             "#7fbc41"
            ],
            [
             0.9,
             "#4d9221"
            ],
            [
             1,
             "#276419"
            ]
           ],
           "sequential": [
            [
             0,
             "#0d0887"
            ],
            [
             0.1111111111111111,
             "#46039f"
            ],
            [
             0.2222222222222222,
             "#7201a8"
            ],
            [
             0.3333333333333333,
             "#9c179e"
            ],
            [
             0.4444444444444444,
             "#bd3786"
            ],
            [
             0.5555555555555556,
             "#d8576b"
            ],
            [
             0.6666666666666666,
             "#ed7953"
            ],
            [
             0.7777777777777778,
             "#fb9f3a"
            ],
            [
             0.8888888888888888,
             "#fdca26"
            ],
            [
             1,
             "#f0f921"
            ]
           ],
           "sequentialminus": [
            [
             0,
             "#0d0887"
            ],
            [
             0.1111111111111111,
             "#46039f"
            ],
            [
             0.2222222222222222,
             "#7201a8"
            ],
            [
             0.3333333333333333,
             "#9c179e"
            ],
            [
             0.4444444444444444,
             "#bd3786"
            ],
            [
             0.5555555555555556,
             "#d8576b"
            ],
            [
             0.6666666666666666,
             "#ed7953"
            ],
            [
             0.7777777777777778,
             "#fb9f3a"
            ],
            [
             0.8888888888888888,
             "#fdca26"
            ],
            [
             1,
             "#f0f921"
            ]
           ]
          },
          "colorway": [
           "#636efa",
           "#EF553B",
           "#00cc96",
           "#ab63fa",
           "#FFA15A",
           "#19d3f3",
           "#FF6692",
           "#B6E880",
           "#FF97FF",
           "#FECB52"
          ],
          "font": {
           "color": "#2a3f5f"
          },
          "geo": {
           "bgcolor": "white",
           "lakecolor": "white",
           "landcolor": "#E5ECF6",
           "showlakes": true,
           "showland": true,
           "subunitcolor": "white"
          },
          "hoverlabel": {
           "align": "left"
          },
          "hovermode": "closest",
          "mapbox": {
           "style": "light"
          },
          "paper_bgcolor": "white",
          "plot_bgcolor": "#E5ECF6",
          "polar": {
           "angularaxis": {
            "gridcolor": "white",
            "linecolor": "white",
            "ticks": ""
           },
           "bgcolor": "#E5ECF6",
           "radialaxis": {
            "gridcolor": "white",
            "linecolor": "white",
            "ticks": ""
           }
          },
          "scene": {
           "xaxis": {
            "backgroundcolor": "#E5ECF6",
            "gridcolor": "white",
            "gridwidth": 2,
            "linecolor": "white",
            "showbackground": true,
            "ticks": "",
            "zerolinecolor": "white"
           },
           "yaxis": {
            "backgroundcolor": "#E5ECF6",
            "gridcolor": "white",
            "gridwidth": 2,
            "linecolor": "white",
            "showbackground": true,
            "ticks": "",
            "zerolinecolor": "white"
           },
           "zaxis": {
            "backgroundcolor": "#E5ECF6",
            "gridcolor": "white",
            "gridwidth": 2,
            "linecolor": "white",
            "showbackground": true,
            "ticks": "",
            "zerolinecolor": "white"
           }
          },
          "shapedefaults": {
           "line": {
            "color": "#2a3f5f"
           }
          },
          "ternary": {
           "aaxis": {
            "gridcolor": "white",
            "linecolor": "white",
            "ticks": ""
           },
           "baxis": {
            "gridcolor": "white",
            "linecolor": "white",
            "ticks": ""
           },
           "bgcolor": "#E5ECF6",
           "caxis": {
            "gridcolor": "white",
            "linecolor": "white",
            "ticks": ""
           }
          },
          "title": {
           "x": 0.05
          },
          "xaxis": {
           "automargin": true,
           "gridcolor": "white",
           "linecolor": "white",
           "ticks": "",
           "title": {
            "standoff": 15
           },
           "zerolinecolor": "white",
           "zerolinewidth": 2
          },
          "yaxis": {
           "automargin": true,
           "gridcolor": "white",
           "linecolor": "white",
           "ticks": "",
           "title": {
            "standoff": 15
           },
           "zerolinecolor": "white",
           "zerolinewidth": 2
          }
         }
        },
        "title": {
         "text": "Event Trace without Time"
        },
        "width": 1200,
        "xaxis": {
         "color": "black",
         "gridcolor": "lightgrey",
         "linecolor": "black",
         "mirror": true,
         "rangeslider": {
          "visible": true
         },
         "showline": true,
         "tickfont": {
          "size": 20
         },
         "ticks": "outside",
         "ticktext": [
          [
           0,
           1369
          ],
          [
           10,
           2990
          ],
          [
           20,
           6132
          ],
          [
           30,
           7231
          ],
          [
           40,
           9320
          ],
          [
           50,
           12464
          ],
          [
           60,
           13542
          ],
          [
           70,
           15652
          ],
          [
           80,
           17762
          ],
          [
           90,
           19874
          ],
          [
           100,
           21983
          ],
          [
           110,
           23063
          ],
          [
           120,
           26207
          ],
          [
           130,
           27306
          ],
          [
           140,
           29396
          ],
          [
           150,
           31508
          ],
          [
           160,
           32585
          ],
          [
           170,
           33664
          ],
          [
           180,
           35774
          ],
          [
           190,
           37886
          ],
          [
           200,
           38965
          ],
          [
           210,
           40042
          ],
          [
           220,
           42154
          ],
          [
           230,
           43233
          ],
          [
           240,
           45345
          ],
          [
           250,
           46422
          ],
          [
           260,
           47521
          ],
          [
           270,
           49612
          ],
          [
           280,
           51724
          ],
          [
           290,
           52802
          ],
          [
           300,
           53881
          ],
          [
           310,
           55993
          ],
          [
           320,
           57071
          ],
          [
           330,
           59182
          ],
          [
           340,
           61294
          ],
          [
           350,
           63405
          ],
          [
           360,
           65517
          ],
          [
           370,
           67626
          ],
          [
           380,
           68705
          ],
          [
           390,
           71850
          ],
          [
           400,
           72948
          ],
          [
           410,
           75038
          ],
          [
           420,
           77150
          ],
          [
           430,
           79261
          ],
          [
           440,
           81372
          ],
          [
           450,
           83483
          ],
          [
           460,
           85594
          ],
          [
           470,
           87705
          ],
          [
           480,
           88784
          ],
          [
           490,
           91929
          ],
          [
           500,
           93028
          ],
          [
           510,
           95118
          ],
          [
           520,
           97230
          ],
          [
           530,
           99341
          ],
          [
           540,
           101452
          ],
          [
           550,
           103565
          ],
          [
           560,
           105697
          ],
          [
           570,
           107787
          ],
          [
           580,
           109899
          ],
          [
           590,
           112010
          ],
          [
           600,
           113111
          ],
          [
           610,
           116234
          ],
          [
           620,
           118346
          ],
          [
           630,
           119444
          ],
          [
           640,
           122569
          ],
          [
           650,
           123647
          ],
          [
           660,
           125779
          ],
          [
           670,
           127871
          ],
          [
           680,
           129982
          ],
          [
           690,
           132092
          ],
          [
           700,
           133192
          ],
          [
           710,
           136316
          ],
          [
           720,
           138429
          ],
          [
           730,
           139528
          ],
          [
           740,
           142651
          ],
          [
           750,
           143729
          ],
          [
           760,
           145861
          ],
          [
           770,
           147952
          ],
          [
           780,
           150066
          ],
          [
           790,
           152177
          ],
          [
           800,
           153278
          ],
          [
           810,
           156401
          ],
          [
           820,
           159396
          ],
          [
           830,
           161508
          ],
          [
           840,
           162607
          ],
          [
           850,
           164697
          ],
          [
           860,
           167841
          ],
          [
           870,
           169180
          ],
          [
           880,
           171314
          ],
          [
           890,
           173404
          ],
          [
           900,
           175517
          ],
          [
           910,
           177630
          ],
          [
           920,
           178730
          ],
          [
           930,
           181854
          ],
          [
           940,
           183967
          ],
          [
           950,
           186337
          ],
          [
           960,
           187436
          ],
          [
           970,
           189527
          ],
          [
           980,
           192671
          ],
          [
           990,
           193750
          ],
          [
           1000,
           195861
          ],
          [
           1010,
           197972
          ],
          [
           1020,
           200085
          ],
          [
           1030,
           202452
          ],
          [
           1040,
           203554
          ],
          [
           1050,
           206678
          ],
          [
           1060,
           208791
          ],
          [
           1070,
           209890
          ],
          [
           1080,
           211981
          ],
          [
           1090,
           214093
          ],
          [
           1100,
           216226
          ],
          [
           1110,
           218315
          ],
          [
           1120,
           220428
          ],
          [
           1130,
           222538
          ],
          [
           1140,
           223639
          ],
          [
           1150,
           226763
          ],
          [
           1160,
           228875
          ],
          [
           1170,
           229974
          ],
          [
           1180,
           232065
          ],
          [
           1190,
           234176
          ],
          [
           1200,
           236311
          ],
          [
           1210,
           238402
          ],
          [
           1220,
           239502
          ],
          [
           1230,
           241593
          ],
          [
           1240,
           242672
          ],
          [
           1250,
           244783
          ],
          [
           1260,
           245883
          ],
          [
           1270,
           247975
          ],
          [
           1280,
           249053
          ],
          [
           1290,
           251165
          ],
          [
           1300,
           252243
          ],
          [
           1310,
           253343
          ],
          [
           1320,
           255434
          ],
          [
           1330,
           257547
          ],
          [
           1340,
           258625
          ],
          [
           1350,
           259724
          ],
          [
           1360,
           261816
          ],
          [
           1370,
           262894
          ],
          [
           1380,
           265005
          ],
          [
           1390,
           266105
          ],
          [
           1400,
           268197
          ],
          [
           1410,
           269277
          ],
          [
           1420,
           271388
          ],
          [
           1430,
           273502
          ],
          [
           1440,
           274602
          ],
          [
           1450,
           277725
          ],
          [
           1460,
           278807
          ],
          [
           1470,
           280939
          ],
          [
           1480,
           283029
          ],
          [
           1490,
           285144
          ],
          [
           1500,
           287254
          ],
          [
           1510,
           289613
          ],
          [
           1520,
           291727
          ],
          [
           1530,
           293838
          ],
          [
           1540,
           295952
          ],
          [
           1550,
           297050
          ],
          [
           1560,
           299139
          ],
          [
           1570,
           302286
          ],
          [
           1580,
           303367
          ],
          [
           1590,
           305481
          ],
          [
           1600,
           307593
          ],
          [
           1610,
           309705
          ],
          [
           1620,
           311818
          ],
          [
           1630,
           313929
          ],
          [
           1640,
           316041
          ],
          [
           1650,
           317141
          ],
          [
           1660,
           319233
          ],
          [
           1670,
           322378
          ],
          [
           1680,
           323457
          ],
          [
           1690,
           325569
          ],
          [
           1700,
           327681
          ],
          [
           1710,
           329795
          ],
          [
           1720,
           331907
          ],
          [
           1730,
           334018
          ],
          [
           1740,
           336132
          ],
          [
           1750,
           337231
          ],
          [
           1760,
           339321
          ],
          [
           1770,
           342467
          ],
          [
           1780,
           343546
          ],
          [
           1790,
           345657
          ],
          [
           1800,
           347770
          ],
          [
           1810,
           349883
          ],
          [
           1820,
           351992
          ],
          [
           1830,
           353074
          ],
          [
           1840,
           356220
          ],
          [
           1850,
           357320
          ],
          [
           1860,
           359411
          ],
          [
           1870,
           362556
          ],
          [
           1880,
           363637
          ],
          [
           1890,
           365747
          ],
          [
           1900,
           367858
          ],
          [
           1910,
           369973
          ],
          [
           1920,
           372083
          ],
          [
           1930,
           373162
          ],
          [
           1940,
           376308
          ],
          [
           1950,
           377409
          ],
          [
           1960,
           379503
          ],
          [
           1970,
           382648
          ],
          [
           1980,
           383726
          ],
          [
           1990,
           385841
          ],
          [
           2000,
           387952
          ],
          [
           2010,
           390064
          ],
          [
           2020,
           392176
          ],
          [
           2030,
           394290
          ],
          [
           2040,
           396405
          ],
          [
           2050,
           397503
          ],
          [
           2060,
           399879
          ],
          [
           2070,
           401970
          ],
          [
           2080,
           404082
          ],
          [
           2090,
           406218
          ],
          [
           2100,
           408309
          ],
          [
           2110,
           410419
          ],
          [
           2120,
           412531
          ],
          [
           2130,
           413630
          ],
          [
           2140,
           416756
          ],
          [
           2150,
           418869
          ],
          [
           2160,
           419966
          ],
          [
           2170,
           422060
          ],
          [
           2180,
           424171
          ],
          [
           2190,
           426303
          ],
          [
           2200,
           428396
          ],
          [
           2210,
           430508
          ],
          [
           2220,
           432622
          ],
          [
           2230,
           433722
          ],
          [
           2240,
           436844
          ],
          [
           2250,
           438960
          ],
          [
           2260,
           440059
          ],
          [
           2270,
           442149
          ],
          [
           2280,
           444262
          ],
          [
           2290,
           446397
          ],
          [
           2300,
           448488
          ],
          [
           2310,
           450599
          ],
          [
           2320,
           452710
          ],
          [
           2330,
           453815
          ],
          [
           2340,
           455906
          ],
          [
           2350,
           456984
          ],
          [
           2360,
           459098
          ],
          [
           2370,
           460198
          ],
          [
           2380,
           462290
          ],
          [
           2390,
           463369
          ],
          [
           2400,
           465482
          ],
          [
           2410,
           466581
          ],
          [
           2420,
           468674
          ],
          [
           2430,
           469752
          ],
          [
           2440,
           471864
          ],
          [
           2450,
           472943
          ],
          [
           2460,
           474044
          ],
          [
           2470,
           476136
          ],
          [
           2480,
           477215
          ],
          [
           2490,
           479326
          ],
          [
           2500,
           480430
          ],
          [
           2510,
           482520
          ],
          [
           2520,
           483599
          ],
          [
           2530,
           485734
          ],
          [
           2540,
           487826
          ],
          [
           2550,
           489936
          ],
          [
           2560,
           492052
          ],
          [
           2570,
           493151
          ],
          [
           2580,
           496277
          ],
          [
           2590,
           498390
          ],
          [
           2600,
           499489
          ],
          [
           2610,
           502618
          ],
          [
           2620,
           503698
          ],
          [
           2630,
           505832
          ],
          [
           2640,
           507924
          ],
          [
           2650,
           510036
          ],
          [
           2660,
           512153
          ],
          [
           2670,
           513254
          ],
          [
           2680,
           516378
          ],
          [
           2690,
           518492
          ],
          [
           2700,
           519593
          ],
          [
           2710,
           522721
          ],
          [
           2720,
           523799
          ],
          [
           2730,
           525933
          ],
          [
           2740,
           528027
          ],
          [
           2750,
           530139
          ],
          [
           2760,
           532251
          ],
          [
           2770,
           533357
          ]
         ],
         "tickvals": [
          0,
          10,
          20,
          30,
          40,
          50,
          60,
          70,
          80,
          90,
          100,
          110,
          120,
          130,
          140,
          150,
          160,
          170,
          180,
          190,
          200,
          210,
          220,
          230,
          240,
          250,
          260,
          270,
          280,
          290,
          300,
          310,
          320,
          330,
          340,
          350,
          360,
          370,
          380,
          390,
          400,
          410,
          420,
          430,
          440,
          450,
          460,
          470,
          480,
          490,
          500,
          510,
          520,
          530,
          540,
          550,
          560,
          570,
          580,
          590,
          600,
          610,
          620,
          630,
          640,
          650,
          660,
          670,
          680,
          690,
          700,
          710,
          720,
          730,
          740,
          750,
          760,
          770,
          780,
          790,
          800,
          810,
          820,
          830,
          840,
          850,
          860,
          870,
          880,
          890,
          900,
          910,
          920,
          930,
          940,
          950,
          960,
          970,
          980,
          990,
          1000,
          1010,
          1020,
          1030,
          1040,
          1050,
          1060,
          1070,
          1080,
          1090,
          1100,
          1110,
          1120,
          1130,
          1140,
          1150,
          1160,
          1170,
          1180,
          1190,
          1200,
          1210,
          1220,
          1230,
          1240,
          1250,
          1260,
          1270,
          1280,
          1290,
          1300,
          1310,
          1320,
          1330,
          1340,
          1350,
          1360,
          1370,
          1380,
          1390,
          1400,
          1410,
          1420,
          1430,
          1440,
          1450,
          1460,
          1470,
          1480,
          1490,
          1500,
          1510,
          1520,
          1530,
          1540,
          1550,
          1560,
          1570,
          1580,
          1590,
          1600,
          1610,
          1620,
          1630,
          1640,
          1650,
          1660,
          1670,
          1680,
          1690,
          1700,
          1710,
          1720,
          1730,
          1740,
          1750,
          1760,
          1770,
          1780,
          1790,
          1800,
          1810,
          1820,
          1830,
          1840,
          1850,
          1860,
          1870,
          1880,
          1890,
          1900,
          1910,
          1920,
          1930,
          1940,
          1950,
          1960,
          1970,
          1980,
          1990,
          2000,
          2010,
          2020,
          2030,
          2040,
          2050,
          2060,
          2070,
          2080,
          2090,
          2100,
          2110,
          2120,
          2130,
          2140,
          2150,
          2160,
          2170,
          2180,
          2190,
          2200,
          2210,
          2220,
          2230,
          2240,
          2250,
          2260,
          2270,
          2280,
          2290,
          2300,
          2310,
          2320,
          2330,
          2340,
          2350,
          2360,
          2370,
          2380,
          2390,
          2400,
          2410,
          2420,
          2430,
          2440,
          2450,
          2460,
          2470,
          2480,
          2490,
          2500,
          2510,
          2520,
          2530,
          2540,
          2550,
          2560,
          2570,
          2580,
          2590,
          2600,
          2610,
          2620,
          2630,
          2640,
          2650,
          2660,
          2670,
          2680,
          2690,
          2700,
          2710,
          2720,
          2730,
          2740,
          2750,
          2760,
          2770
         ],
         "title": {
          "font": {
           "size": 20
          },
          "text": "Number of events"
         },
         "type": "linear"
        },
        "yaxis": {
         "color": "black",
         "gridcolor": "lightgrey",
         "linecolor": "black",
         "mirror": true,
         "showline": true,
         "tickfont": {
          "size": 20
         },
         "ticks": "outside",
         "ticktext": [
          "1-0-main-ow",
          "1-0-main-temp",
          "1-0-main-lora",
          "1-0-main-s",
          "1-0-main-com_timer",
          "1-control-init_timer0-0",
          "1-0-main-i",
          "1-0-sense-temperature",
          "1-0-main-temperature",
          "1-control-updatedata-cls.sensor_data",
          "1-control-readdata-0",
          "1-0-loracom-data",
          "1-control-update_txmsg-0",
          "1-0-main-g_ack",
          "1-0-main-events",
          "1-control-update_rxmsg-drop"
         ],
         "tickvals": [
          0,
          1,
          2,
          3,
          4,
          5,
          6,
          7,
          8,
          9,
          10,
          11,
          12,
          13,
          14,
          15
         ],
         "title": {
          "font": {
           "size": 20
          },
          "text": "Variables"
         }
        }
       }
      }
     },
     "metadata": {},
     "output_type": "display_data"
    }
   ],
   "source": [
    "### plot gt and detections\n",
    "# for test_data, detections, test_label_path in all_detections:\n",
    "for test_data, detections, test_label_path in all_tp:\n",
    "    print('test_data:', test_data)\n",
    "    print('detections:', detections)\n",
    "\n",
    "    ### prepare trace to plot\n",
    "    col_data = preprocess_traces([test_data])\n",
    "    all_df = get_dataframe(col_data) \n",
    "    # print(all_df[0])\n",
    "\n",
    "    ### prepare detections to plot\n",
    "    timestamps = col_data[0][1]\n",
    "    print('timestamps:', timestamps)\n",
    "    plot_val = []\n",
    "    plot_x_ticks = []\n",
    "    plot_class = []\n",
    "    for det in detections:\n",
    "        print(det)\n",
    "        det_ts1, det_ts2 = det[1]\n",
    "        print(det_ts1, det_ts2)\n",
    "\n",
    "        det_ind1_pre = [ abs(t-det_ts1) for t in timestamps]\n",
    "        det_ind1 = det_ind1_pre.index(min(det_ind1_pre))\n",
    "\n",
    "        det_ind2_pre = [ abs(t-det_ts2) for t in timestamps]\n",
    "        det_ind2 = det_ind2_pre.index(min(det_ind2_pre))\n",
    "        # print(det_ind1, det_ind2)\n",
    "        # print(timestamps[det_ind1], timestamps[det_ind2])\n",
    "\n",
    "        plot_val += [(det_ind1, det_ind2)]\n",
    "        plot_x_ticks += [(timestamps[det_ind1], timestamps[det_ind2])]\n",
    "        plot_class += [0]\n",
    "\n",
    "    plot_detections = [plot_val, plot_x_ticks, plot_class]\n",
    "\n",
    "    ### get ground truths\n",
    "    gt_plot = prepare_gt(test_label_path)\n",
    "\n",
    "    ### plot\n",
    "    for df in all_df:\n",
    "        # print(df.columns)\n",
    "        plot_single_trace(df, \n",
    "                          var_list, \n",
    "                          with_time=False, \n",
    "                          is_xticks=True, \n",
    "                          detections=plot_detections, \n",
    "                          dt_classlist=['detection'],\n",
    "                          ground_truths=gt_plot,\n",
    "                          gt_classlist=['gt_communication', 'gt_sensor', 'gt_bitflip'],\n",
    "                          )\n",
    "\n",
    "    # break"
   ]
  },
  {
   "cell_type": "markdown",
   "metadata": {},
   "source": [
    "### generate transition table"
   ]
  },
  {
   "cell_type": "code",
   "execution_count": null,
   "metadata": {},
   "outputs": [],
   "source": [
    "import pandas as pd\n",
    "from pptx import Presentation\n",
    "from pptx.util import Inches\n",
    "from pptx.util import Pt\n",
    "from pptx.util import Inches\n",
    "from pptx.dml.color import RGBColor\n",
    "\n",
    "# Create a DataFrame from the dictionary\n",
    "df = pd.DataFrame(list(transitions.items()), columns=['Key', 'Values'])\n",
    "\n",
    "# Combine values for each key into a single cell\n",
    "df_combined = df.groupby('Key')['Values'].agg(lambda x: ', '.join(map(str, x))).reset_index()\n",
    "\n",
    "# Create a PowerPoint presentation\n",
    "presentation = Presentation()\n",
    "\n",
    "# Add a slide to the presentation\n",
    "slide_layout = presentation.slide_layouts[5]  # Using a blank slide layout\n",
    "slide = presentation.slides.add_slide(slide_layout)\n",
    "\n",
    "# Define the position and size of the table\n",
    "left = Inches(1)\n",
    "top = Inches(1)\n",
    "width = Inches(6)\n",
    "height = Inches(4)\n",
    "\n",
    "# Add a table shape to the slide\n",
    "table = slide.shapes.add_table(rows=df_combined.shape[0] + 1, cols=df_combined.shape[1], left=left, top=top, width=width, height=height).table\n",
    "\n",
    "# Add column names to the first row\n",
    "for col, col_name in enumerate(df_combined.columns):\n",
    "    cell = table.cell(0, col)\n",
    "    cell.text = col_name\n",
    "    cell.text_frame.text = col_name\n",
    "    cell.text_frame.paragraphs[0].font.size = Pt(10)\n",
    "    cell.text_frame.paragraphs[0].font.bold = True\n",
    "    cell.fill.solid()\n",
    "    cell.fill.fore_color.rgb = RGBColor(240, 240, 240)  # Light gray background color\n",
    "\n",
    "# Add data to the table\n",
    "for row in range(df_combined.shape[0]):\n",
    "    for col in range(df_combined.shape[1]):\n",
    "        cell = table.cell(row + 1, col)\n",
    "        cell.text = str(df_combined.iloc[row, col])\n",
    "        cell.text_frame.text = str(df_combined.iloc[row, col])\n",
    "        cell.text_frame.paragraphs[0].font.size = Pt(10)\n",
    "\n",
    "# Save the PowerPoint presentation\n",
    "presentation.save('table_presentation.pptx')\n",
    "\n"
   ]
  },
  {
   "cell_type": "code",
   "execution_count": null,
   "metadata": {},
   "outputs": [],
   "source": []
  },
  {
   "cell_type": "code",
   "execution_count": null,
   "metadata": {},
   "outputs": [],
   "source": []
  },
  {
   "cell_type": "code",
   "execution_count": null,
   "metadata": {},
   "outputs": [],
   "source": []
  },
  {
   "cell_type": "code",
   "execution_count": null,
   "metadata": {},
   "outputs": [],
   "source": []
  },
  {
   "cell_type": "code",
   "execution_count": null,
   "metadata": {},
   "outputs": [],
   "source": []
  },
  {
   "cell_type": "code",
   "execution_count": null,
   "metadata": {},
   "outputs": [],
   "source": []
  },
  {
   "cell_type": "code",
   "execution_count": null,
   "metadata": {},
   "outputs": [],
   "source": []
  },
  {
   "cell_type": "code",
   "execution_count": null,
   "metadata": {},
   "outputs": [],
   "source": []
  },
  {
   "cell_type": "code",
   "execution_count": null,
   "metadata": {},
   "outputs": [],
   "source": []
  },
  {
   "cell_type": "code",
   "execution_count": null,
   "metadata": {},
   "outputs": [],
   "source": [
    "############ Evaluation ############\n",
    "from sklearn.metrics import accuracy_score, confusion_matrix, f1_score, precision_score, recall_score\n",
    "\n",
    "# Calculate accuracy\n",
    "accuracy = accuracy_score(y_test, y_pred)\n",
    "print(f\"Accuracy: {accuracy:.4f}\")\n",
    "\n",
    "# Calculate F1 score\n",
    "f1 = f1_score(y_test, y_pred)\n",
    "print(f\"F1 Score: {f1:.4f}\")\n",
    "\n",
    "# Calculate confusion matrix\n",
    "conf_matrix = confusion_matrix(y_test, y_pred)\n",
    "print(\"Confusion Matrix:\")\n",
    "print(conf_matrix)\n",
    "\n",
    "# Calculate precision\n",
    "precision = precision_score(y_test, y_pred)\n",
    "print(f'Precision: {precision:.4f}')\n",
    "\n",
    "# Calculate recall\n",
    "recall = recall_score(y_test, y_pred)\n",
    "print(f'Recall: {recall:.4f}')\n",
    "\n",
    "\n",
    "\n"
   ]
  },
  {
   "cell_type": "code",
   "execution_count": null,
   "metadata": {},
   "outputs": [],
   "source": []
  }
 ],
 "metadata": {
  "kernelspec": {
   "display_name": "venv",
   "language": "python",
   "name": "python3"
  },
  "language_info": {
   "codemirror_mode": {
    "name": "ipython",
    "version": 3
   },
   "file_extension": ".py",
   "mimetype": "text/x-python",
   "name": "python",
   "nbconvert_exporter": "python",
   "pygments_lexer": "ipython3",
   "version": "3.10.14"
  }
 },
 "nbformat": 4,
 "nbformat_minor": 2
}
