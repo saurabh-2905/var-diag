{
 "cells": [
  {
   "cell_type": "markdown",
   "metadata": {},
   "source": [
    "# State Transition - only states"
   ]
  },
  {
   "cell_type": "code",
   "execution_count": null,
   "metadata": {},
   "outputs": [],
   "source": [
    "import numpy as np\n",
    "import os\n",
    "from libraries.utils import *\n",
    "from libraries.state_transition import StateTransition as st\n",
    "import pandas as pd\n",
    "from collections import defaultdict\n",
    "from sklearn.model_selection import train_test_split\n",
    "from sklearn.utils import shuffle\n"
   ]
  },
  {
   "cell_type": "markdown",
   "metadata": {},
   "source": [
    "## Load Data"
   ]
  },
  {
   "cell_type": "code",
   "execution_count": null,
   "metadata": {},
   "outputs": [],
   "source": [
    "############ configuration ################\n",
    "############################################\n",
    "\n",
    "CODE = 'theft_protection'       ### application (code)\n",
    "BEHAVIOUR_FAULTY = 'faulty_data'            ### normal, faulty_data\n",
    "BEHAVIOUR_NORMAL = 'normal'            ### normal, faulty_data\n",
    "THREAD = 'single'           ### single, multi\n",
    "VER = 3                     ### format of data collection\n",
    "\n",
    "base_dir = '../../trace_data' ### can be replaced with 'csv', 'exe_plot', 'histogram'\n",
    "normalbase_path = base_dir+f'/{CODE}/{THREAD}_thread/version_{VER}/{BEHAVIOUR_NORMAL}'\n",
    "faultybase_path = base_dir+f'/{CODE}/{THREAD}_thread/version_{VER}/{BEHAVIOUR_FAULTY}'\n",
    "\n",
    "print(normalbase_path)\n",
    "print(faultybase_path)\n"
   ]
  },
  {
   "cell_type": "code",
   "execution_count": null,
   "metadata": {},
   "outputs": [],
   "source": [
    "\n",
    "train_base_path = os.path.join(normalbase_path, 'train_data')\n",
    "train_data_path = [os.path.join(train_base_path, x) for x in os.listdir(train_base_path)]\n",
    "print(train_data_path)\n",
    "\n",
    "\n",
    "######### get paths #######################\n",
    "paths_log, paths_traces, varlist_path, paths_label = get_paths(faultybase_path)\n",
    "\n",
    "### remove.Ds_store from all lists\n",
    "paths_log = [x for x in paths_log if '.DS_Store' not in x]\n",
    "paths_traces = [x for x in paths_traces if '.DS_Store' not in x]\n",
    "varlist_path = [x for x in varlist_path if '.DS_Store' not in x]\n",
    "paths_label = [x for x in paths_label if '.DS_Store' not in x]\n",
    "\n",
    "paths_log.sort()\n",
    "paths_traces.sort()\n",
    "varlist_path.sort()\n",
    "paths_label.sort()\n",
    "\n",
    "print(paths_log)\n",
    "print(paths_traces)\n",
    "print(varlist_path)\n",
    "print(paths_label)\n",
    "\n",
    "test_data_path = paths_traces\n",
    "test_label_path = paths_label\n"
   ]
  },
  {
   "cell_type": "code",
   "execution_count": null,
   "metadata": {},
   "outputs": [],
   "source": [
    "############# check varlist is consistent ############\n",
    "############# only for version 3 ######################\n",
    "\n",
    "if VER == 3:\n",
    "    to_number = is_consistent(varlist_path)\n",
    "\n",
    "    if to_number != False:\n",
    "        from_number = mapint2var(to_number)\n"
   ]
  },
  {
   "cell_type": "code",
   "execution_count": null,
   "metadata": {},
   "outputs": [],
   "source": [
    "############ Get variable list ######################\n",
    "sorted_keys = list(from_number.keys())\n",
    "sorted_keys.sort()\n",
    "var_list = [from_number[key] for key in sorted_keys]   ### get the variable list\n",
    "# print(var_list)"
   ]
  },
  {
   "cell_type": "code",
   "execution_count": null,
   "metadata": {},
   "outputs": [],
   "source": [
    "print(train_data_path[0])\n",
    "print(train_data_path[0].find('.npy'))\n",
    "print(train_data_path[0].find('.json') )\n",
    "\n",
    "if train_data_path[0].find('.npy') != -1:\n",
    "    sample_data = load_sample(train_data_path[0])\n",
    "    print('.npy')\n",
    "elif train_data_path[0].find('.json') != -1:\n",
    "    sample_data = read_traces(train_data_path[0])\n",
    "    print('.json')"
   ]
  },
  {
   "cell_type": "markdown",
   "metadata": {},
   "source": [
    "## Training"
   ]
  },
  {
   "cell_type": "code",
   "execution_count": null,
   "metadata": {},
   "outputs": [],
   "source": [
    "### initialize\n",
    "model = st()\n",
    "model.train(train_data_path)"
   ]
  },
  {
   "cell_type": "code",
   "execution_count": null,
   "metadata": {},
   "outputs": [],
   "source": [
    "transitions = model.transitions\n",
    "transitions"
   ]
  },
  {
   "cell_type": "code",
   "execution_count": null,
   "metadata": {},
   "outputs": [],
   "source": [
    "### viz transitions\n",
    "\n",
    "for key in transitions.keys():\n",
    "    print(from_number[key], ':', end=' ')\n",
    "    for val in transitions[key]:\n",
    "        print(from_number[val], end=', ')\n",
    "    print('\\n')"
   ]
  },
  {
   "cell_type": "markdown",
   "metadata": {},
   "source": [
    "## Validation"
   ]
  },
  {
   "cell_type": "code",
   "execution_count": null,
   "metadata": {},
   "outputs": [],
   "source": [
    "#### Validate model\n",
    "all_detections = []  ### format [file1_detection, file2_detection] -> file1_detection: [(state1, state2), (ts1, ts2), filename]\n",
    "y_pred_all = []\n",
    "y_true_all = []\n",
    "all_tp = []\n",
    "all_fp = []\n",
    "for test_data, test_label in zip(test_data_path, test_label_path):\n",
    "    detection = model.test_single(test_data)\n",
    "    all_detections += [(test_data, detection, test_label)]  ### used to plot detections\n",
    "    print('Detections:', detection)\n",
    "    print(len(detection))\n",
    "\n",
    "\n",
    "    ground_truth_raw = read_traces(test_label)\n",
    "    ground_truth = ground_truth_raw['labels']\n",
    "    label_trace_name = list(ground_truth.keys())[0]\n",
    "    ground_truth = ground_truth[label_trace_name]\n",
    "    print('ground truths:', ground_truth)\n",
    "    print(len(ground_truth))\n",
    "\n",
    "    correct_pred, rest_pred, y_pred, y_true = model.get_correct_detections(detection, ground_truth)\n",
    "\n",
    "    y_pred_all.extend(y_pred)\n",
    "    y_true_all.extend(y_true)\n",
    "    all_tp += [(test_data, correct_pred, test_label)]\n",
    "    all_fp += [(test_data, rest_pred, test_label)]\n",
    "    \n",
    "\n",
    "\n",
    "# result = model.test(test_data_path)"
   ]
  },
  {
   "cell_type": "code",
   "execution_count": null,
   "metadata": {},
   "outputs": [],
   "source": [
    "print('y_pred', y_pred_all)\n",
    "print('y_true', y_true_all)\n",
    "print(len(y_true_all))"
   ]
  },
  {
   "cell_type": "code",
   "execution_count": null,
   "metadata": {},
   "outputs": [],
   "source": [
    "### Evaluation metrics\n",
    "\n",
    "from sklearn.metrics import accuracy_score, confusion_matrix, f1_score, precision_score, recall_score, average_precision_score, ConfusionMatrixDisplay\n",
    "\n",
    "\n",
    "# Calculate precision\n",
    "precision = precision_score(y_true_all, y_pred_all)\n",
    "print(f'Precision: {precision:.4f}')\n",
    "\n",
    "# Calculate recall\n",
    "recall = recall_score(y_true_all, y_pred_all)\n",
    "print(f'Recall: {recall:.4f}')\n",
    "\n",
    "# # Calculate average precision\n",
    "# average_precision = average_precision_score(y_true_all, y_pred_all)\n",
    "# print(f'Average Precision: {average_precision:.4f}')\n",
    "\n",
    "# Calculate F1 score\n",
    "f1 = f1_score(y_true_all, y_pred_all)\n",
    "print(f\"F1 Score: {f1:.4f}\")\n",
    "\n",
    "# Calculate confusion matrix\n",
    "conf_matrix = confusion_matrix(y_true_all, y_pred_all)\n",
    "print(\"Confusion Matrix:\")\n",
    "print(conf_matrix)\n",
    "disp = ConfusionMatrixDisplay(confusion_matrix=conf_matrix, display_labels=['normal', 'anomaly'])\n",
    "disp.plot()"
   ]
  },
  {
   "cell_type": "markdown",
   "metadata": {},
   "source": [
    "## Plot Detections"
   ]
  },
  {
   "cell_type": "code",
   "execution_count": null,
   "metadata": {},
   "outputs": [],
   "source": [
    "### plot gt and detections\n",
    "# for test_data, detections, test_label_path in all_detections:\n",
    "for test_data, detections, test_label_path in all_tp:\n",
    "    print('test_data:', test_data)\n",
    "    print('detections:', detections)\n",
    "\n",
    "    ### prepare trace to plot\n",
    "    col_data = preprocess_traces([test_data])\n",
    "    all_df = get_dataframe(col_data) \n",
    "    # print(all_df[0])\n",
    "\n",
    "    ### prepare detections to plot\n",
    "    timestamps = col_data[0][1]\n",
    "    print('timestamps:', timestamps)\n",
    "    plot_val = []\n",
    "    plot_x_ticks = []\n",
    "    plot_class = []\n",
    "    for det in detections:\n",
    "        print(det)\n",
    "        det_ts1, det_ts2 = det[1]\n",
    "        print(det_ts1, det_ts2)\n",
    "\n",
    "        det_ind1_pre = [ abs(t-det_ts1) for t in timestamps]\n",
    "        det_ind1 = det_ind1_pre.index(min(det_ind1_pre))\n",
    "\n",
    "        det_ind2_pre = [ abs(t-det_ts2) for t in timestamps]\n",
    "        det_ind2 = det_ind2_pre.index(min(det_ind2_pre))\n",
    "        # print(det_ind1, det_ind2)\n",
    "        # print(timestamps[det_ind1], timestamps[det_ind2])\n",
    "\n",
    "        plot_val += [(det_ind1, det_ind2)]\n",
    "        plot_x_ticks += [(timestamps[det_ind1], timestamps[det_ind2])]\n",
    "        plot_class += [0]\n",
    "\n",
    "    plot_detections = [plot_val, plot_x_ticks, plot_class]\n",
    "\n",
    "    ### get ground truths\n",
    "    gt_plot = prepare_gt(test_label_path)\n",
    "\n",
    "    ### plot\n",
    "    for df in all_df:\n",
    "        # print(df.columns)\n",
    "        plot_single_trace(df, \n",
    "                          var_list, \n",
    "                          with_time=False, \n",
    "                          is_xticks=True, \n",
    "                          detections=plot_detections, \n",
    "                          dt_classlist=['detection'],\n",
    "                          ground_truths=gt_plot,\n",
    "                          gt_classlist=['gt_communication', 'gt_sensor', 'gt_bitflip'],\n",
    "                          )\n",
    "\n",
    "    # break"
   ]
  },
  {
   "cell_type": "markdown",
   "metadata": {},
   "source": [
    "### generate transition table"
   ]
  },
  {
   "cell_type": "code",
   "execution_count": null,
   "metadata": {},
   "outputs": [],
   "source": [
    "import pandas as pd\n",
    "from pptx import Presentation\n",
    "from pptx.util import Inches\n",
    "from pptx.util import Pt\n",
    "from pptx.util import Inches\n",
    "from pptx.dml.color import RGBColor\n",
    "\n",
    "# Create a DataFrame from the dictionary\n",
    "df = pd.DataFrame(list(transitions.items()), columns=['Key', 'Values'])\n",
    "\n",
    "# Combine values for each key into a single cell\n",
    "df_combined = df.groupby('Key')['Values'].agg(lambda x: ', '.join(map(str, x))).reset_index()\n",
    "\n",
    "# Create a PowerPoint presentation\n",
    "presentation = Presentation()\n",
    "\n",
    "# Add a slide to the presentation\n",
    "slide_layout = presentation.slide_layouts[5]  # Using a blank slide layout\n",
    "slide = presentation.slides.add_slide(slide_layout)\n",
    "\n",
    "# Define the position and size of the table\n",
    "left = Inches(1)\n",
    "top = Inches(1)\n",
    "width = Inches(6)\n",
    "height = Inches(4)\n",
    "\n",
    "# Add a table shape to the slide\n",
    "table = slide.shapes.add_table(rows=df_combined.shape[0] + 1, cols=df_combined.shape[1], left=left, top=top, width=width, height=height).table\n",
    "\n",
    "# Add column names to the first row\n",
    "for col, col_name in enumerate(df_combined.columns):\n",
    "    cell = table.cell(0, col)\n",
    "    cell.text = col_name\n",
    "    cell.text_frame.text = col_name\n",
    "    cell.text_frame.paragraphs[0].font.size = Pt(10)\n",
    "    cell.text_frame.paragraphs[0].font.bold = True\n",
    "    cell.fill.solid()\n",
    "    cell.fill.fore_color.rgb = RGBColor(240, 240, 240)  # Light gray background color\n",
    "\n",
    "# Add data to the table\n",
    "for row in range(df_combined.shape[0]):\n",
    "    for col in range(df_combined.shape[1]):\n",
    "        cell = table.cell(row + 1, col)\n",
    "        cell.text = str(df_combined.iloc[row, col])\n",
    "        cell.text_frame.text = str(df_combined.iloc[row, col])\n",
    "        cell.text_frame.paragraphs[0].font.size = Pt(10)\n",
    "\n",
    "# Save the PowerPoint presentation\n",
    "presentation.save('table_presentation.pptx')\n",
    "\n"
   ]
  },
  {
   "cell_type": "code",
   "execution_count": null,
   "metadata": {},
   "outputs": [],
   "source": []
  },
  {
   "cell_type": "code",
   "execution_count": null,
   "metadata": {},
   "outputs": [],
   "source": []
  },
  {
   "cell_type": "code",
   "execution_count": null,
   "metadata": {},
   "outputs": [],
   "source": []
  },
  {
   "cell_type": "code",
   "execution_count": null,
   "metadata": {},
   "outputs": [],
   "source": []
  },
  {
   "cell_type": "code",
   "execution_count": null,
   "metadata": {},
   "outputs": [],
   "source": []
  },
  {
   "cell_type": "code",
   "execution_count": null,
   "metadata": {},
   "outputs": [],
   "source": []
  },
  {
   "cell_type": "code",
   "execution_count": null,
   "metadata": {},
   "outputs": [],
   "source": []
  },
  {
   "cell_type": "code",
   "execution_count": null,
   "metadata": {},
   "outputs": [],
   "source": []
  },
  {
   "cell_type": "code",
   "execution_count": null,
   "metadata": {},
   "outputs": [],
   "source": []
  },
  {
   "cell_type": "code",
   "execution_count": null,
   "metadata": {},
   "outputs": [],
   "source": [
    "############ Evaluation ############\n",
    "from sklearn.metrics import accuracy_score, confusion_matrix, f1_score, precision_score, recall_score\n",
    "\n",
    "# Calculate accuracy\n",
    "accuracy = accuracy_score(y_test, y_pred)\n",
    "print(f\"Accuracy: {accuracy:.4f}\")\n",
    "\n",
    "# Calculate F1 score\n",
    "f1 = f1_score(y_test, y_pred)\n",
    "print(f\"F1 Score: {f1:.4f}\")\n",
    "\n",
    "# Calculate confusion matrix\n",
    "conf_matrix = confusion_matrix(y_test, y_pred)\n",
    "print(\"Confusion Matrix:\")\n",
    "print(conf_matrix)\n",
    "\n",
    "# Calculate precision\n",
    "precision = precision_score(y_test, y_pred)\n",
    "print(f'Precision: {precision:.4f}')\n",
    "\n",
    "# Calculate recall\n",
    "recall = recall_score(y_test, y_pred)\n",
    "print(f'Recall: {recall:.4f}')\n",
    "\n",
    "\n",
    "\n"
   ]
  },
  {
   "cell_type": "code",
   "execution_count": null,
   "metadata": {},
   "outputs": [],
   "source": []
  }
 ],
 "metadata": {
  "kernelspec": {
   "display_name": "venv",
   "language": "python",
   "name": "python3"
  },
  "language_info": {
   "codemirror_mode": {
    "name": "ipython",
    "version": 3
   },
   "file_extension": ".py",
   "mimetype": "text/x-python",
   "name": "python",
   "nbconvert_exporter": "python",
   "pygments_lexer": "ipython3",
   "version": "3.10.14"
  }
 },
 "nbformat": 4,
 "nbformat_minor": 2
}
