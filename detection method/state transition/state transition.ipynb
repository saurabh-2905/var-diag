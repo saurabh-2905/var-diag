{
 "cells": [
  {
   "cell_type": "markdown",
   "metadata": {},
   "source": [
    "# State Transition"
   ]
  },
  {
   "cell_type": "code",
   "execution_count": 1,
   "metadata": {},
   "outputs": [],
   "source": [
    "import numpy as np\n",
    "import os\n",
    "from lib.utility import load_sample\n",
    "from lib.state_transition import StateTransition as st"
   ]
  },
  {
   "cell_type": "code",
   "execution_count": 2,
   "metadata": {},
   "outputs": [
    {
     "name": "stdout",
     "output_type": "stream",
     "text": [
      "../data samples//version_2.2/training\n"
     ]
    }
   ],
   "source": [
    "############ configuration ################\n",
    "############################################\n",
    "\n",
    "code = 'theft_protection'       ### application (code)\n",
    "behaviour = 'normal'            ### normal, semantic_error\n",
    "thread_typ = 'single'           ### single, multi\n",
    "version = 2.2                     ### format of data collection\n",
    "\n",
    "base_dir = '../data samples/' ### can be replaced with 'csv', 'exe_plot', 'histogram'\n",
    "train_path = base_dir+f'/version_{version}/training'\n",
    "test_path = base_dir+f'/version_{version}/testing'\n",
    "print(train_path)"
   ]
  },
  {
   "cell_type": "markdown",
   "metadata": {},
   "source": [
    "### Get file paths"
   ]
  },
  {
   "cell_type": "code",
   "execution_count": 3,
   "metadata": {},
   "outputs": [],
   "source": [
    "### prepare train data\n",
    "'''\n",
    "train_path_list :\n",
    "    absolute path to the sample files containing event traces of length 50 (can be longer and shorter), these event traces will be a part of a bigger trace.\n",
    "    event traces -> list( ['1_control_updatedata_cls.sensor_data' '997892'], ['1_control_readdata_0' '997896'], ['1_0_loracom_data' '997901'],..... )\n",
    "'''\n",
    "train_path_list = os.listdir(train_path)\n",
    "train_path_list.remove('.DS_Store')\n",
    "train_path_list = [os.path.join(train_path, x) for x in train_path_list]"
   ]
  },
  {
   "cell_type": "code",
   "execution_count": 4,
   "metadata": {},
   "outputs": [
    {
     "data": {
      "text/plain": [
       "['../data samples//version_2.2/training/trace1_0_50.npy',\n",
       " '../data samples//version_2.2/training/trace1_150_200.npy',\n",
       " '../data samples//version_2.2/training/trace1_100_150.npy',\n",
       " '../data samples//version_2.2/training/trace1_250_300.npy',\n",
       " '../data samples//version_2.2/training/trace1_200_250.npy',\n",
       " '../data samples//version_2.2/training/trace1_50_100.npy']"
      ]
     },
     "execution_count": 4,
     "metadata": {},
     "output_type": "execute_result"
    }
   ],
   "source": [
    "train_path_list\n",
    "\n",
    "    # break"
   ]
  },
  {
   "cell_type": "markdown",
   "metadata": {},
   "source": [
    "## Training"
   ]
  },
  {
   "cell_type": "code",
   "execution_count": 5,
   "metadata": {},
   "outputs": [],
   "source": [
    "### initialize\n",
    "model = st()\n",
    "#model.train(train_path_list)"
   ]
  },
  {
   "cell_type": "code",
   "execution_count": 6,
   "metadata": {},
   "outputs": [],
   "source": [
    "transitions = model.transitions"
   ]
  },
  {
   "cell_type": "code",
   "execution_count": 7,
   "metadata": {},
   "outputs": [
    {
     "data": {
      "text/plain": [
       "defaultdict(list, {})"
      ]
     },
     "execution_count": 7,
     "metadata": {},
     "output_type": "execute_result"
    }
   ],
   "source": [
    "transitions"
   ]
  },
  {
   "cell_type": "code",
   "execution_count": null,
   "metadata": {},
   "outputs": [],
   "source": []
  },
  {
   "cell_type": "code",
   "execution_count": 8,
   "metadata": {},
   "outputs": [],
   "source": [
    "### prepare test data\n",
    "'''\n",
    "test_path_list :\n",
    "    absolute path to the sample files containing event traces of length 50 (can be longer and shorter), these event traces will be a part of a bigger trace.\n",
    "    event traces -> list( ['1_control_updatedata_cls.sensor_data' '997892'], ['1_control_readdata_0' '997896'], ['1_0_loracom_data' '997901'],..... )\n",
    "'''\n",
    "test_path_list = os.listdir(test_path)\n",
    "if '.DS_Store' in test_path_list:\n",
    "    test_path_list.remove('.DS_Store')\n",
    "test_path_list = [os.path.join(test_path, x) for x in test_path_list]"
   ]
  },
  {
   "cell_type": "code",
   "execution_count": 9,
   "metadata": {},
   "outputs": [
    {
     "name": "stdout",
     "output_type": "stream",
     "text": [
      "Anomaly Detected: [('1_0_main_temperature', '19840'), ('1_0_main_i', '19844'), 'trace2_50_100.npy']\n",
      "Anomaly Detected: [('1_0_main_temperature', '61047'), ('1_0_main_i', '61051'), 'trace3_250_300.npy']\n",
      "Anomaly Detected: [('1_0_main_temperature', '102245'), ('1_control_readdata_0', '102249'), 'trace3_450_500.npy']\n",
      "Anomaly Detected: [('1_0_main_temperature', '1638968'), ('1_0_main_g_ack', '1638984'), 'trace3_8100_8150.npy']\n",
      "Anomaly Detected: [('1_0_main_temperature', '1415976'), ('1_0_main_i', '1415981'), 'trace3_7000_7050.npy']\n",
      "Anomaly Detected: [('1_0_main_temperature', '48373'), ('1_0_main_g_ack', '48377'), 'trace3_200_250.npy']\n",
      "Anomaly Detected: [('1_0_main_temperature', '355879'), ('1_0_main_i', '355884'), 'trace3_1750_1800.npy']\n",
      "Anomaly Detected: [('1_0_main_temperature', '2008603'), ('1_0_main_g_ack', '2008608'), 'trace2_9950_10000.npy']\n",
      "Anomaly Detected: [('1_0_main_temperature', '1138885'), ('1_0_main_g_ack', '1138890'), 'trace2_5650_5700.npy']\n",
      "Anomaly Detected: [('1_0_main_temperature', '814818'), ('1_0_main_i', '814822'), 'trace3_4000_4050.npy']\n",
      "Anomaly Detected: [('1_0_main_temperature', '526072'), ('1_0_main_i', '526077'), 'trace2_2600_2650.npy']\n",
      "Anomaly Detected: [('1_0_main_temperature', '1956500'), ('1_0_main_i', '1956505'), 'trace3_9700_9750.npy']\n",
      "Anomaly Detected: [('1_0_main_temperature', '690010'), ('1_0_main_i', '690015'), 'trace2_3400_3450.npy']\n",
      "Anomaly Detected: [('1_0_main_temperature', '479576'), ('1_0_main_i', '479581'), 'trace2_2350_2400.npy']\n"
     ]
    }
   ],
   "source": [
    "result = model.test(test_path_list)\n",
    "'''\n",
    "TODO:\n",
    "format of ouput: ['timestamp', 'var1', var2, filename]\n",
    "'''"
   ]
  },
  {
   "cell_type": "code",
   "execution_count": 10,
   "metadata": {},
   "outputs": [
    {
     "data": {
      "text/plain": [
       "defaultdict(list, {})"
      ]
     },
     "execution_count": 10,
     "metadata": {},
     "output_type": "execute_result"
    }
   ],
   "source": [
    "model.transitions"
   ]
  },
  {
   "cell_type": "code",
   "execution_count": null,
   "metadata": {},
   "outputs": [],
   "source": []
  },
  {
   "cell_type": "code",
   "execution_count": null,
   "metadata": {},
   "outputs": [],
   "source": []
  },
  {
   "cell_type": "code",
   "execution_count": null,
   "metadata": {},
   "outputs": [],
   "source": []
  },
  {
   "cell_type": "code",
   "execution_count": null,
   "metadata": {},
   "outputs": [],
   "source": []
  }
 ],
 "metadata": {
  "kernelspec": {
   "display_name": "venv",
   "language": "python",
   "name": "python3"
  },
  "language_info": {
   "codemirror_mode": {
    "name": "ipython",
    "version": 3
   },
   "file_extension": ".py",
   "mimetype": "text/x-python",
   "name": "python",
   "nbconvert_exporter": "python",
   "pygments_lexer": "ipython3",
   "version": "3.10.8"
  }
 },
 "nbformat": 4,
 "nbformat_minor": 2
}
